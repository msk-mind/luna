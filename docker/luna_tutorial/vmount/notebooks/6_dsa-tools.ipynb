{
 "cells": [
  {
   "cell_type": "markdown",
   "metadata": {},
   "source": [
    "# Digital Slide Archive (DSA) Visualization Tutorial"
   ]
  },
  {
   "cell_type": "markdown",
   "metadata": {},
   "source": [
    "Welcome to the Digial Slide Archive (DSA) visualization notebook! \n",
    "\n",
    "Digital Slide Archive (DSA) is a web application on which you can manage your pathology images and annotations. Luna provides a set of CLIs to help you convert your pathologist or model-generated annotations to a format that DSA accepts. For more details on the DSA platform, please refer to their [documentation](https://digitalslidearchive.github.io/digital_slide_archive/documentation/).\n",
    "\n",
    "In this notebook, we will use **dsa** and **dsa_upload** CLIs to convert your annotations to a DSA compatible format and to upload them to DSA. We support results from Qupath/Stardist dectection models ([link to docker image](https://hub.docker.com/r/mskmind/qupath-stardist)), tile scores in a tabular format, and also expert annotations in geojson format. Here are the steps we will review:\n",
    "\n",
    "- Setup DSA\n",
    "- DSA Visuzaliation CLIs\n",
    "- Upload Qupath regional annotation results\n",
    "- Upload a heatmap generated from tile scores\n",
    "- Upload bitmasks PNGs\n",
    "- Upload bmp results\n",
    "- Upload Stardist object detection results\n",
    "- Upload Stardist cell detection results\n"
   ]
  },
  {
   "cell_type": "code",
   "execution_count": 1,
   "metadata": {},
   "outputs": [
    {
     "name": "stdout",
     "output_type": "stream",
     "text": [
      "LUNA_HOME: /home/pashaa/vmount\n",
      "PYTHONPATH:\n"
     ]
    }
   ],
   "source": [
    "!echo LUNA_HOME: $LUNA_HOME\n",
    "!echo PYTHONPATH: $PYTHONPATH    "
   ]
  },
  {
   "cell_type": "markdown",
   "metadata": {},
   "source": [
    "## Setup DSA"
   ]
  },
  {
   "cell_type": "markdown",
   "metadata": {},
   "source": [
    "Before running this notebook, make sure you have your pathology slides organized in DSA under a collection/folder. This will have already been done for you if you have run the previous notebooks in the tutorial.\n",
    "\n",
    "![DSA Organization Screenshot](../img/dsa-organization-screenshot.png)\n",
    "\n",
    "The collection name 'TCGA collection' and image file name 01OV002-bd8cdc70-3d46-40ae-99c4-90ef77.svs on DSA will be used while uploading the annotations."
   ]
  },
  {
   "cell_type": "markdown",
   "metadata": {},
   "source": [
    "## DSA Visualization CLIs"
   ]
  },
  {
   "cell_type": "markdown",
   "metadata": {},
   "source": [
    "Luna Pathology offers 2 CLIs to help convert your annotation results to a DSA compatible json format and to upload them to DSA. The conversion and upload is divided in to 2 separate steps, so each step can be parallelized based on your computing capabilities and DSA platform setup. \n",
    "\n",
    "`dsa [COMMAND]` converts your annotation file format to a DSA compatible annotation json format.\n",
    "\n",
    "`dsa_upload` uploads the DSA compatible annotation json.\n",
    "\n",
    "Once upload is done, the annotations may be viewed in the HistomicsUI viewer.\n",
    "\n",
    "*Note: Pushing and rendering a large number of annotation elements can take a long time. Please refer to DSA [documentation](https://digitalslidearchive.github.io/HistomicsTK/examples/tips_for_scalable_annotation_rendering), for user expectations and some tricks for managing annotations.*"
   ]
  },
  {
   "cell_type": "code",
   "execution_count": 48,
   "metadata": {
    "scrolled": true
   },
   "outputs": [
    {
     "name": "stdout",
     "output_type": "stream",
     "text": [
      "2022-08-28 16:08:34,001 - INFO - root - Initalized logger, log file at: luna.log\r\n",
      "Usage: dsa [OPTIONS] COMMAND [ARGS]...\r\n",
      "\r\n",
      "  Convert segmentations, bitmasks, heatmaps to DSA annotation Json format.\r\n",
      "\r\n",
      "Options:\r\n",
      "  --help  Show this message and exit.\r\n",
      "\r\n",
      "Commands:\r\n",
      "  bitmask-polygon   Example:\r\n",
      "  bmp-polygon       Example:\r\n",
      "  heatmap           Example:\r\n",
      "  qupath-polygon    Example:\r\n",
      "  regional-polygon  Example:\r\n",
      "  stardist-cell     Example:\r\n",
      "  stardist-polygon  Example:\r\n"
     ]
    }
   ],
   "source": [
    "# check available dsa cli commands\n",
    "!dsa --help"
   ]
  },
  {
   "cell_type": "code",
   "execution_count": 49,
   "metadata": {},
   "outputs": [
    {
     "name": "stdout",
     "output_type": "stream",
     "text": [
      "2022-08-28 16:08:47,125 - INFO - root - Initalized logger, log file at: luna.log\r\n",
      "Usage: dsa stardist-polygon [OPTIONS] INPUT\r\n",
      "\r\n",
      "  Example:\r\n",
      "\r\n",
      "          dsa stardist-polygon\r\n",
      "              ../dsa_input/test_object_classification.geojson\r\n",
      "              --output_dir ../dsa_annotations/stardist_polygon\r\n",
      "              --annotation_name stardist_polygon_segmentations\r\n",
      "              --image_filename 123.svs\r\n",
      "              --line_colors '{\"Other\": \"rgb(0,255,0)\", \"Lymphocyte\": \"rgb(255,0,0)\"}'\r\n",
      "              --fill_colors '{\"Other\": \"rgba(0,255,0,100)\", \"Lymphocyte\": \"rgba(255,0,0,100)\"}'\r\n",
      "\r\n",
      "Options:\r\n",
      "  -m, --method_param_path TEXT  path to a metadata json/yaml file with method\r\n",
      "                                parameters to reproduce results\r\n",
      "  -fc, --fill_colors TEXT       user-provided line color map with {feature\r\n",
      "                                name:rgba values}\r\n",
      "  -lc, --line_colors TEXT       user-provided line color map with {feature\r\n",
      "                                name:rgb values}\r\n",
      "  -a, --annotation_name TEXT    name of the annotation to be displayed in DSA\r\n",
      "  -f, --image_filename TEXT     name of the image file in DSA e.g. 123.svs\r\n",
      "  -o, --output_dir TEXT         directory to save the DSA compatible\r\n",
      "                                annotation json\r\n",
      "  --help                        Show this message and exit.\r\n"
     ]
    }
   ],
   "source": [
    "# check dsa cli commands help messages\n",
    "!dsa stardist-polygon --help"
   ]
  },
  {
   "cell_type": "code",
   "execution_count": 50,
   "metadata": {
    "scrolled": true
   },
   "outputs": [
    {
     "name": "stdout",
     "output_type": "stream",
     "text": [
      "2022-08-28 16:08:53,545 - INFO - root - Initalized logger, log file at: luna.log\n",
      "Usage: dsa_upload [OPTIONS] DSA_ENDPOINT\n",
      "\n",
      "  DSA Annotation Upload CLI\n",
      "\n",
      "  Example:     export DSA_USERNAME=username     export DSA_PASSWORD=password\n",
      "  dsa_upload http://localhost:8080/dsa/api/v1         --collection_name tcga-\n",
      "  data         --image_filename 123.svs         --annotation_filepath\n",
      "  /path/to/dsa_annotation.json\n",
      "\n",
      "Options:\n",
      "  -c, --collection_name TEXT      name of the collection in DSA\n",
      "  -f, --image_filename TEXT       name of the image file in DSA e.g. 123.svs\n",
      "  -a, --annotation_filepath TEXT  path to a DSA annotation json file\n",
      "  -u, --username TEXT             DSA username, can be inferred from\n",
      "                                  DSA_USERNAME\n",
      "  -p, --password TEXT             DSA password, should be inferred from\n",
      "                                  DSA_PASSWORD\n",
      "  -m, --method_param_path TEXT    path to a metadata json/yaml file with\n",
      "                                  method parameters to reproduce results\n",
      "  --help                          Show this message and exit.\n"
     ]
    }
   ],
   "source": [
    "# check dsa_upload help messages\n",
    "!dsa_upload --help"
   ]
  },
  {
   "cell_type": "markdown",
   "metadata": {},
   "source": [
    "## Upload a heatmap generated from tile scores"
   ]
  },
  {
   "cell_type": "markdown",
   "metadata": {},
   "source": [
    "the **heatmap** sub-command converts the output csv file containing tiles scores from the inference step to a DSA compatible json format. \n",
    "\n",
    "Once the json file is uploaded to DSA using the **upload** command, the heatmap may be viewed in HistomicsUI.\n",
    "\n",
    "We use the color palette \"viridis\" where the output color ranges from purple to yellow, for scores from 0 to 1."
   ]
  },
  {
   "cell_type": "code",
   "execution_count": 51,
   "metadata": {},
   "outputs": [
    {
     "name": "stdout",
     "output_type": "stream",
     "text": [
      "2022-08-28 16:13:37,594 - INFO - root - Initalized logger, log file at: luna.log\r\n",
      "Usage: dsa heatmap [OPTIONS] INPUT\r\n",
      "\r\n",
      "  Example:\r\n",
      "\r\n",
      "          dsa heatmap\r\n",
      "              score.csv\r\n",
      "              --output_dir ../dsa_annotations/heatmap\r\n",
      "              --annotation_name heatmap\r\n",
      "              --image_filename 123.svs\r\n",
      "              --tile_size 256\r\n",
      "              --column tumor\r\n",
      "              --scale_factor 1\r\n",
      "\r\n",
      "Options:\r\n",
      "  -m, --method_param_path TEXT  path to a metadata json/yaml file with method\r\n",
      "                                parameters to reproduce results\r\n",
      "  -sc, --scale_factor INTEGER   scale to match image DSA. (default 1)\r\n",
      "  -ts, --tile_size TEXT         tile size\r\n",
      "  -c, --column TEXT             column to visualize e.g. tile_score\r\n",
      "  -a, --annotation_name TEXT    name of the annotation to be displayed in DSA\r\n",
      "  -f, --image_filename TEXT     name of the image file in DSA e.g. 123.svs\r\n",
      "  -o, --output_dir TEXT         directory to save the DSA compatible\r\n",
      "                                annotation json\r\n",
      "  --help                        Show this message and exit.\r\n"
     ]
    }
   ],
   "source": [
    "# example data_config\n",
    "!dsa heatmap --help"
   ]
  },
  {
   "cell_type": "code",
   "execution_count": 52,
   "metadata": {},
   "outputs": [
    {
     "name": "stdout",
     "output_type": "stream",
     "text": [
      "2022-08-28 16:14:13,154 - INFO - root - Initalized logger, log file at: luna.log\n",
      "2022-08-28 16:14:13,159 - INFO - luna.common.utils - Started CLI Runner wtih <function heatmap_main at 0x7f0ac4dcdaf0>\n",
      "2022-08-28 16:14:13,160 - INFO - luna.common.utils - Validating params...\n",
      "2022-08-28 16:14:13,162 - INFO - luna.common.utils -  -> Set column (<class 'str'>) = purple_score\n",
      "2022-08-28 16:14:13,163 - INFO - luna.common.utils -  -> Set tile_size (<class 'int'>) = 256\n",
      "2022-08-28 16:14:13,164 - INFO - luna.common.utils -  -> Set annotation_name (<class 'str'>) = heatmap\n",
      "2022-08-28 16:14:13,165 - INFO - luna.common.utils -  -> Set image_filename (<class 'str'>) = 01OV002-bd8cdc70-3d46-40ae-99c4-90ef77.svs\n",
      "2022-08-28 16:14:13,167 - INFO - luna.common.utils -  -> Set output_dir (<class 'str'>) = ../dsa_annotations/heatmap\n",
      "2022-08-28 16:14:13,169 - INFO - luna.common.utils -  -> Set input (<class 'str'>) = ../dsa_input/01OV002-bd8cdc70-3d46-40ae-99c4-90ef77.csv\n",
      "2022-08-28 16:14:13,170 - INFO - luna.common.utils -  -> Set scale_factor (<class 'int'>) = 1\n",
      "2022-08-28 16:14:13,172 - INFO - luna.common.utils - Expanding inputs...\n",
      "2022-08-28 16:14:13,173 - INFO - luna.common.utils - Full segment key set: {}\n",
      "2022-08-28 16:14:13,175 - INFO - luna.common.utils - ------------------------------------------------------------\n",
      "2022-08-28 16:14:13,175 - INFO - luna.common.utils -  Starting transform::heatmap_main \n",
      "2022-08-28 16:14:13,175 - INFO - luna.common.utils - ------------------------------------------------------------\n",
      "2022-08-28 16:14:22,174 - INFO - luna.common.utils - Code block 'transform::heatmap_main' took: 8.997688900009962s\n",
      "2022-08-28 16:14:22,176 - INFO - luna.common.utils - ------------------------------------------------------------\n",
      "2022-08-28 16:14:22,176 - INFO - luna.common.utils -  Done with transform, running post-transform functions... \n",
      "2022-08-28 16:14:22,176 - INFO - luna.common.utils - ------------------------------------------------------------\n",
      "2022-08-28 16:14:22,184 - INFO - luna.common.utils - Done.\n",
      "2022-08-28 16:14:24,680 - INFO - root - Initalized logger, log file at: luna.log\n",
      "2022-08-28 16:14:24,682 - INFO - luna.common.utils - Started CLI Runner wtih <function upload_annotation_to_dsa at 0x7faf0845d8b0>\n",
      "2022-08-28 16:14:24,684 - INFO - luna.common.utils - Validating params...\n",
      "2022-08-28 16:14:24,685 - INFO - luna.common.utils -  -> Set annotation_filepath (<class 'str'>) = ../dsa_annotations/heatmap/purple_score_heatmap_01OV002-bd8cdc70-3d46-40ae-99c4-90ef77.json\n",
      "2022-08-28 16:14:24,686 - INFO - luna.common.utils -  -> Set collection_name (<class 'str'>) = TCGA collection\n",
      "2022-08-28 16:14:24,687 - INFO - luna.common.utils -  -> Set image_filename (<class 'str'>) = 01OV002-bd8cdc70-3d46-40ae-99c4-90ef77.svs\n",
      "2022-08-28 16:14:24,689 - INFO - luna.common.utils -  -> Set dsa_endpoint (<class 'str'>) = http://girder:8080/api/v1\n",
      "2022-08-28 16:14:24,690 - INFO - luna.common.utils -  -> Set username (<class 'str'>) = *****\n",
      "2022-08-28 16:14:24,691 - INFO - luna.common.utils -  -> Set password (<class 'str'>) = *****\n",
      "2022-08-28 16:14:24,692 - INFO - luna.common.utils - Expanding inputs...\n",
      "2022-08-28 16:14:24,693 - INFO - luna.common.utils - Full segment key set: {}\n",
      "2022-08-28 16:14:24,695 - INFO - luna.common.utils - ------------------------------------------------------------\n",
      "2022-08-28 16:14:24,695 - INFO - luna.common.utils -  Starting transform::upload_annotation_to_dsa \n",
      "2022-08-28 16:14:24,695 - INFO - luna.common.utils - ------------------------------------------------------------\n",
      "2022-08-28 16:14:25,034 - INFO - luna.pathology.dsa.dsa_api_handler - Successfully connected to DSA\n",
      "2022-08-28 16:14:25,257 - INFO - luna.pathology.dsa.dsa_api_handler - Found collection id=630615f6ac1ad852524b563b for collection=TCGA collection\n",
      "Image file 01OV002-bd8cdc70-3d46-40ae-99c4-90ef77.svs found with id: 630615f6ac1ad852524b563d\n",
      "2022-08-28 16:15:00,858 - INFO - luna.pathology.dsa.dsa_api_handler - Annotation successfully pushed to DSA.\n",
      "2022-08-28 16:15:00,859 - INFO - luna.pathology.dsa.dsa_api_handler - Time to push annotation 35.57366919517517\n",
      "2022-08-28 16:15:00,861 - INFO - luna.pathology.dsa.dsa_api_handler - http://girder:8080//histomics#?image=630615f6ac1ad852524b563d\n",
      "2022-08-28 16:15:00,886 - INFO - luna.common.utils - Code block 'transform::upload_annotation_to_dsa' took: 36.22432070001378s\n",
      "2022-08-28 16:15:00,888 - INFO - luna.common.utils - ------------------------------------------------------------\n",
      "2022-08-28 16:15:00,888 - INFO - luna.common.utils -  Done with transform, running post-transform functions... \n",
      "2022-08-28 16:15:00,888 - INFO - luna.common.utils - ------------------------------------------------------------\n",
      "2022-08-28 16:15:00,890 - INFO - luna.common.utils - Done.\n"
     ]
    }
   ],
   "source": [
    "# generate DSA compatible annotation\n",
    "!dsa heatmap ../dsa_input/01OV002-bd8cdc70-3d46-40ae-99c4-90ef77.csv \\\n",
    "--output_dir ../dsa_annotations/heatmap \\\n",
    "--annotation_name heatmap \\\n",
    "--image_filename 01OV002-bd8cdc70-3d46-40ae-99c4-90ef77.svs \\\n",
    "--tile_size 256 \\\n",
    "--column purple_score \\\n",
    "--scale_factor 1\n",
    "\n",
    "# push annotation to DSA\n",
    "!dsa_upload http://girder:8080/api/v1 \\\n",
    "--collection_name 'TCGA collection' \\\n",
    "--image_filename 01OV002-bd8cdc70-3d46-40ae-99c4-90ef77.svs \\\n",
    "--annotation_filepath ../dsa_annotations/heatmap/purple_score_heatmap_01OV002-bd8cdc70-3d46-40ae-99c4-90ef77.json \\\n",
    "--username admin \\\n",
    "--password password1"
   ]
  },
  {
   "cell_type": "markdown",
   "metadata": {},
   "source": [
    "## Upload bitmasks PNGs"
   ]
  },
  {
   "cell_type": "markdown",
   "metadata": {},
   "source": [
    "Simple PNG bitmasks can also be visualized in DSA. Use the **bitmask-polygon** sub-command and specify pngs with the corresponding labels. Then upload to view in HistomicsUI."
   ]
  },
  {
   "cell_type": "code",
   "execution_count": 46,
   "metadata": {},
   "outputs": [
    {
     "name": "stdout",
     "output_type": "stream",
     "text": [
      "2022-08-27 11:40:35,648 - INFO - root - Initalized logger, log file at: luna.log\n",
      "2022-08-27 11:40:35,652 - INFO - luna.common.utils - Started CLI Runner wtih <function bitmask_polygon_main at 0x7f789e1eaa60>\n",
      "2022-08-27 11:40:35,653 - INFO - luna.common.utils - Validating params...\n",
      "2022-08-27 11:40:35,655 - INFO - luna.common.utils -  -> Set fill_colors (<class 'dict'>) = {'OTSU': 'rgba(255,255,0,100)'}\n",
      "2022-08-27 11:40:35,656 - INFO - luna.common.utils -  -> Set line_colors (<class 'dict'>) = {'OTSU': 'rgb(255,255,0)'}\n",
      "2022-08-27 11:40:35,657 - INFO - luna.common.utils -  -> Set annotation_name (<class 'str'>) = bitmask\n",
      "2022-08-27 11:40:35,658 - INFO - luna.common.utils -  -> Set image_filename (<class 'str'>) = 01OV002-bd8cdc70-3d46-40ae-99c4-90ef77.svs\n",
      "2022-08-27 11:40:35,659 - INFO - luna.common.utils -  -> Set output_dir (<class 'str'>) = ../dsa_annotations/bitmask\n",
      "2022-08-27 11:40:35,661 - INFO - luna.common.utils -  -> Set input (<class 'dict'>) = {'OTSU': '../PRO-12-123/tiling/inference/detect/otsu_mask.png'}\n",
      "2022-08-27 11:40:35,662 - INFO - luna.common.utils - Expanding inputs...\n",
      "2022-08-27 11:40:35,663 - INFO - luna.common.utils - Full segment key set: {}\n",
      "2022-08-27 11:40:35,665 - INFO - luna.common.utils - ------------------------------------------------------------\n",
      "2022-08-27 11:40:35,665 - INFO - luna.common.utils -  Starting transform::bitmask_polygon_main \n",
      "2022-08-27 11:40:35,665 - INFO - luna.common.utils - ------------------------------------------------------------\n",
      "2022-08-27 11:41:24,593 - INFO - luna.common.utils - Code block 'transform::bitmask_polygon_main' took: 48.960006999986945s\n",
      "2022-08-27 11:41:24,595 - INFO - luna.common.utils - ------------------------------------------------------------\n",
      "2022-08-27 11:41:24,595 - INFO - luna.common.utils -  Done with transform, running post-transform functions... \n",
      "2022-08-27 11:41:24,595 - INFO - luna.common.utils - ------------------------------------------------------------\n",
      "2022-08-27 11:41:24,603 - INFO - luna.common.utils - Done.\n",
      "2022-08-27 11:41:27,653 - INFO - root - Initalized logger, log file at: luna.log\n",
      "2022-08-27 11:41:27,655 - INFO - luna.common.utils - Started CLI Runner wtih <function upload_annotation_to_dsa at 0x7f83fe253820>\n",
      "2022-08-27 11:41:27,657 - INFO - luna.common.utils - Validating params...\n",
      "2022-08-27 11:41:27,659 - INFO - luna.common.utils -  -> Set annotation_filepath (<class 'str'>) = ../dsa_annotations/bitmask/bitmask_01OV002-bd8cdc70-3d46-40ae-99c4-90ef77.json\n",
      "2022-08-27 11:41:27,661 - INFO - luna.common.utils -  -> Set collection_name (<class 'str'>) = TCGA collection\n",
      "2022-08-27 11:41:27,663 - INFO - luna.common.utils -  -> Set image_filename (<class 'str'>) = 01OV002-bd8cdc70-3d46-40ae-99c4-90ef77.svs\n",
      "2022-08-27 11:41:27,665 - INFO - luna.common.utils -  -> Set dsa_endpoint (<class 'str'>) = http://girder:8080/api/v1\n",
      "2022-08-27 11:41:27,667 - INFO - luna.common.utils -  -> Set username (<class 'str'>) = *****\n",
      "2022-08-27 11:41:27,669 - INFO - luna.common.utils -  -> Set password (<class 'str'>) = *****\n",
      "2022-08-27 11:41:27,670 - INFO - luna.common.utils - Expanding inputs...\n",
      "2022-08-27 11:41:27,672 - INFO - luna.common.utils - Full segment key set: {}\n",
      "2022-08-27 11:41:27,674 - INFO - luna.common.utils - ------------------------------------------------------------\n",
      "2022-08-27 11:41:27,674 - INFO - luna.common.utils -  Starting transform::upload_annotation_to_dsa \n",
      "2022-08-27 11:41:27,674 - INFO - luna.common.utils - ------------------------------------------------------------\n",
      "2022-08-27 11:41:27,940 - INFO - luna.pathology.dsa.dsa_api_handler - Successfully connected to DSA\n",
      "2022-08-27 11:41:29,118 - INFO - luna.pathology.dsa.dsa_api_handler - Found collection id=630615f6ac1ad852524b563b for collection=TCGA collection\n",
      "Image file 01OV002-bd8cdc70-3d46-40ae-99c4-90ef77.svs found with id: 630615f6ac1ad852524b563d\n",
      "2022-08-27 11:41:46,093 - INFO - luna.pathology.dsa.dsa_api_handler - Annotation successfully pushed to DSA.\n",
      "2022-08-27 11:41:46,095 - INFO - luna.pathology.dsa.dsa_api_handler - Time to push annotation 16.965457916259766\n",
      "2022-08-27 11:41:46,097 - INFO - luna.pathology.dsa.dsa_api_handler - http://girder:8080//histomics#?image=630615f6ac1ad852524b563d\n",
      "2022-08-27 11:41:46,218 - INFO - luna.common.utils - Code block 'transform::upload_annotation_to_dsa' took: 18.575614100001985s\n",
      "2022-08-27 11:41:46,220 - INFO - luna.common.utils - ------------------------------------------------------------\n",
      "2022-08-27 11:41:46,220 - INFO - luna.common.utils -  Done with transform, running post-transform functions... \n",
      "2022-08-27 11:41:46,220 - INFO - luna.common.utils - ------------------------------------------------------------\n",
      "2022-08-27 11:41:46,222 - INFO - luna.common.utils - Done.\n"
     ]
    }
   ],
   "source": [
    "# generate DSA compatible annotation\n",
    "!dsa bitmask-polygon \\\n",
    "'{\"OTSU\": \"../PRO-12-123/tiling/inference/detect/otsu_mask.png\"}' \\\n",
    "--output_dir ../dsa_annotations/bitmask \\\n",
    "--annotation_name bitmask \\\n",
    "--image_filename 01OV002-bd8cdc70-3d46-40ae-99c4-90ef77.svs \\\n",
    "--line_colors '{\"OTSU\": \"rgb(255,255,0)\"}' \\\n",
    "--fill_colors '{\"OTSU\": \"rgba(255,255,0,100)\"}'\n",
    "\n",
    "# push annotation to DSA\n",
    "!dsa_upload http://girder:8080/api/v1 \\\n",
    "--collection_name 'TCGA collection' \\\n",
    "--image_filename 01OV002-bd8cdc70-3d46-40ae-99c4-90ef77.svs \\\n",
    "--annotation_filepath ../dsa_annotations/bitmask/bitmask_01OV002-bd8cdc70-3d46-40ae-99c4-90ef77.json \\\n",
    "--username admin \\\n",
    "--password password1"
   ]
  },
  {
   "cell_type": "markdown",
   "metadata": {},
   "source": [
    "## Upload bmp results"
   ]
  },
  {
   "cell_type": "markdown",
   "metadata": {},
   "source": [
    "Similary, BMP is another file format that may be used to store segmentation or classification results. **bmp-polygon** converts the bmps to the DSA compatible json annotation."
   ]
  },
  {
   "cell_type": "code",
   "execution_count": 53,
   "metadata": {},
   "outputs": [
    {
     "name": "stdout",
     "output_type": "stream",
     "text": [
      "2022-08-28 16:17:53,564 - INFO - root - Initalized logger, log file at: luna.log\r\n",
      "Usage: dsa bmp-polygon [OPTIONS] INPUT\r\n",
      "\r\n",
      "  Example:\r\n",
      "\r\n",
      "          dsa bmp-polygon\r\n",
      "              results.bmp\r\n",
      "              --output_dir ../dsa_annotations/bmp\r\n",
      "              --annotation_name bmp\r\n",
      "              --image_filename 123.svs\r\n",
      "              --label '{0: \"Tumor\", 1: \"Other\"}'\r\n",
      "              --scale_factor 1\r\n",
      "              --line_colors '{\"Other\": \"rgb(0,255,0)\", \"Tumor\": \"rgb(255,0,0)\"}'\r\n",
      "              --fill_colors '{\"Other\": \"rgba(0,255,0,100)\", \"Tumor\": \"rgba(255,0,0,100)\"}'\r\n",
      "\r\n",
      "Options:\r\n",
      "  -m, --method_param_path TEXT  path to a metadata json/yaml file with method\r\n",
      "                                parameters to reproduce results\r\n",
      "  -sc, --scale_factor TEXT      scale to match image DSA. (default 1)\r\n",
      "  -fc, --fill_colors TEXT       user-provided line color map with {feature\r\n",
      "                                name:rgba values}\r\n",
      "  -lc, --line_colors TEXT       user-provided line color map with {feature\r\n",
      "                                name:rgb values}\r\n",
      "  -a, --annotation_name TEXT    name of the annotation to be displayed in DSA\r\n",
      "  -f, --image_filename TEXT     name of the image file in DSA e.g. 123.svs\r\n",
      "  -o, --output_dir TEXT         directory to save the DSA compatible\r\n",
      "                                annotation json\r\n",
      "  -l, --label TEXT              map of {label_num:label_name}\r\n",
      "  --help                        Show this message and exit.\r\n"
     ]
    }
   ],
   "source": [
    "!dsa bmp-polygon --help"
   ]
  },
  {
   "cell_type": "markdown",
   "metadata": {},
   "source": [
    "## Upload Qupath regional annotation results"
   ]
  },
  {
   "cell_type": "markdown",
   "metadata": {},
   "source": [
    "Regional annotations generated by [Qupath](https://qupath.github.io/) includes regional polygons from object detection along with nuclear properties.\n",
    "\n",
    "For object and cell detection models in QuPath, please checkout our [Qupath/Stardist docker](https://hub.docker.com/r/mskmind/qupath-stardist)."
   ]
  },
  {
   "cell_type": "code",
   "execution_count": 54,
   "metadata": {},
   "outputs": [
    {
     "name": "stdout",
     "output_type": "stream",
     "text": [
      "2022-08-28 16:21:26,204 - INFO - root - Initalized logger, log file at: luna.log\n",
      "2022-08-28 16:21:26,207 - INFO - luna.common.utils - Started CLI Runner wtih <function qupath_polygon_main at 0x7fb040f5e9d0>\n",
      "2022-08-28 16:21:26,209 - INFO - luna.common.utils - Validating params...\n",
      "2022-08-28 16:21:26,210 - INFO - luna.common.utils -  -> Set fill_colors (<class 'dict'>) = {'Other': 'rgba(0,255,255,100)'}\n",
      "2022-08-28 16:21:26,211 - INFO - luna.common.utils -  -> Set line_colors (<class 'dict'>) = {'Other': 'rgb(0,255,255)'}\n",
      "2022-08-28 16:21:26,213 - INFO - luna.common.utils -  -> Set annotation_name (<class 'str'>) = quppath\n",
      "2022-08-28 16:21:26,214 - INFO - luna.common.utils -  -> Set image_filename (<class 'str'>) = 01OV002-bd8cdc70-3d46-40ae-99c4-90ef77.svs\n",
      "2022-08-28 16:21:26,215 - INFO - luna.common.utils -  -> Set output_dir (<class 'str'>) = ../dsa_annotations/quppath\n",
      "2022-08-28 16:21:26,216 - INFO - luna.common.utils -  -> Set input (<class 'str'>) = ../PRO-12-123/data/toy_data_set/table/ANNOTATIONS/01OV002-bd8cdc70-3d46-40ae-99c4-90ef77.annotation.geojson\n",
      "2022-08-28 16:21:26,218 - INFO - luna.common.utils -  -> Set classes_to_include (<class 'list'>) = ['O', 't', 'h', 'e', 'r']\n",
      "2022-08-28 16:21:26,222 - INFO - luna.common.utils - Expanding inputs...\n",
      "2022-08-28 16:21:26,223 - INFO - luna.common.utils - Full segment key set: {}\n",
      "2022-08-28 16:21:26,225 - INFO - luna.common.utils - ------------------------------------------------------------\n",
      "2022-08-28 16:21:26,225 - INFO - luna.common.utils -  Starting transform::qupath_polygon_main \n",
      "2022-08-28 16:21:26,225 - INFO - luna.common.utils - ------------------------------------------------------------\n",
      "2022-08-28 16:21:26,236 - INFO - luna.common.utils - Code block 'transform::qupath_polygon_main' took: 0.009825400018598884s\n",
      "2022-08-28 16:21:26,238 - ERROR - luna.common.utils - Exception raised during code execution:\n",
      "Traceback (most recent call last):\n",
      "  File \"/home/pashaa/luna/pyluna-common/luna/common/utils.py\", line 517, in cli_runner\n",
      "    result = cli_function(**trm_kwargs)\n",
      "  File \"/home/pashaa/luna/pyluna-pathology/luna/pathology/cli/dsa_viz.py\", line 582, in qupath_polygon_main\n",
      "    props = polygon.properties\n",
      "AttributeError: 'str' object has no attribute 'properties'\n",
      "Traceback (most recent call last):\n",
      "  File \"/home/pashaa/.local/bin/dsa\", line 33, in <module>\n",
      "    sys.exit(load_entry_point('pyluna-pathology', 'console_scripts', 'dsa')())\n",
      "  File \"/home/pashaa/.local/lib/python3.9/site-packages/click/core.py\", line 1128, in __call__\n",
      "    return self.main(*args, **kwargs)\n",
      "  File \"/home/pashaa/.local/lib/python3.9/site-packages/click/core.py\", line 1053, in main\n",
      "    rv = self.invoke(ctx)\n",
      "  File \"/home/pashaa/.local/lib/python3.9/site-packages/click/core.py\", line 1659, in invoke\n",
      "    return _process_result(sub_ctx.command.invoke(sub_ctx))\n",
      "  File \"/home/pashaa/.local/lib/python3.9/site-packages/click/core.py\", line 1395, in invoke\n",
      "    return ctx.invoke(self.callback, **ctx.params)\n",
      "  File \"/home/pashaa/.local/lib/python3.9/site-packages/click/core.py\", line 754, in invoke\n",
      "    return __callback(*args, **kwargs)\n",
      "  File \"/home/pashaa/luna/pyluna-pathology/luna/pathology/cli/dsa_viz.py\", line 546, in qupath_polygon\n",
      "    cli_runner(cli_kwargs, params, qupath_polygon_main)\n",
      "  File \"/home/pashaa/luna/pyluna-common/luna/common/utils.py\", line 517, in cli_runner\n",
      "    result = cli_function(**trm_kwargs)\n",
      "  File \"/home/pashaa/luna/pyluna-pathology/luna/pathology/cli/dsa_viz.py\", line 582, in qupath_polygon_main\n",
      "    props = polygon.properties\n",
      "AttributeError: 'str' object has no attribute 'properties'\n"
     ]
    }
   ],
   "source": [
    "# generate DSA compatible annotation\n",
    "!dsa qupath-polygon \\\n",
    "../PRO-12-123/data/toy_data_set/table/ANNOTATIONS/01OV002-bd8cdc70-3d46-40ae-99c4-90ef77.annotation.geojson \\\n",
    "--output_dir ../dsa_annotations/quppath \\\n",
    "--annotation_name quppath \\\n",
    "--image_filename 01OV002-bd8cdc70-3d46-40ae-99c4-90ef77.svs \\\n",
    "--classes_to_include Other \\\n",
    "--line_colors '{\"Other\": \"rgb(0,255,255)\"}' \\\n",
    "--fill_colors '{\"Other\": \"rgba(0,255,255,100)\"}'"
   ]
  },
  {
   "cell_type": "code",
   "execution_count": 4,
   "metadata": {},
   "outputs": [
    {
     "name": "stdout",
     "output_type": "stream",
     "text": [
      "total 928\r\n",
      "drwxr-xr-x 2 pashaa pashaa 4096 Aug  8 22:22 __pycache__\r\n",
      "-rwxr-xr-x 1 pashaa pashaa  229 Aug  8 22:22 alt-java\r\n",
      "-rwxr-xr-x 1 pashaa pashaa  229 Aug  8 22:22 appletviewer\r\n",
      "-rwxr-xr-x 1 pashaa pashaa  220 Aug  8 22:22 applygeo\r\n",
      "-rwxr-xr-x 1 pashaa pashaa  219 Aug  8 22:24 bokeh\r\n",
      "-rwxr-xr-x 1 pashaa pashaa  221 Aug  8 22:22 cct\r\n",
      "-rwxr-xr-x 1 pashaa pashaa  226 Aug  8 22:24 chkfilehash\r\n",
      "-rwxr-xr-x 1 pashaa pashaa  221 Aug  8 22:22 cjpeg\r\n",
      "-rwxr-xr-x 1 pashaa pashaa  229 Aug  8 22:22 clhsdb\r\n",
      "-rwxr-xr-x 1 pashaa pashaa  258 Aug  8 22:31 convert-caffe2-to-onnx\r\n",
      "-rwxr-xr-x 1 pashaa pashaa  258 Aug  8 22:31 convert-onnx-to-caffe2\r\n",
      "-rwxr-xr-x 1 pashaa pashaa  221 Aug  8 22:22 cs2cs\r\n",
      "-rwxr-xr-x 1 pashaa pashaa  235 Aug  8 22:22 dask-scheduler\r\n",
      "-rwxr-xr-x 1 pashaa pashaa  229 Aug  8 22:22 dask-ssh\r\n",
      "-rwxr-xr-x 1 pashaa pashaa  232 Aug  8 22:22 dask-worker\r\n",
      "-rwxr-xr-x 1 pashaa pashaa  982 Aug  8 22:32 detect_tissue\r\n",
      "-rwxr-xr-x 1 pashaa pashaa  216 Aug  8 22:24 dirhash\r\n",
      "-rwxr-xr-x 1 pashaa pashaa  221 Aug  8 22:22 djpeg\r\n",
      "-rwxr-xr-x 1 pashaa pashaa  962 Aug  8 22:32 dsa\r\n",
      "-rwxr-xr-x 1 pashaa pashaa  984 Aug  8 22:32 dsa_annotation\r\n",
      "-rwxr-xr-x 1 pashaa pashaa  976 Aug  8 22:32 dsa_upload\r\n",
      "-rwxr-xr-x 1 pashaa pashaa  229 Aug  8 22:22 extcheck\r\n",
      "-rwxr-xr-x 1 pashaa pashaa 1000 Aug  8 22:32 extract_shape_features\r\n",
      "-rwxr-xr-x 1 pashaa pashaa  998 Aug  8 22:32 extract_stain_texture\r\n",
      "-rwxr-xr-x 1 pashaa pashaa  222 Aug  8 22:18 f2py\r\n",
      "-rwxr-xr-x 1 pashaa pashaa  222 Aug  8 22:18 f2py3\r\n",
      "-rwxr-xr-x 1 pashaa pashaa  222 Aug  8 22:18 f2py3.9\r\n",
      "-rwxr-xr-x 1 pashaa pashaa  222 Aug  8 22:22 fax2ps\r\n",
      "-rwxr-xr-x 1 pashaa pashaa  222 Aug  8 22:22 fax2tiff\r\n",
      "-rwxr-xr-x 1 pashaa pashaa  214 Aug  8 22:32 flask\r\n",
      "-rwxr-xr-x 1 pashaa pashaa  223 Aug  8 22:22 fonttools\r\n",
      "-rwxr-xr-x 1 pashaa pashaa  221 Aug  8 22:22 futurize\r\n",
      "-rwxr-xr-x 1 pashaa pashaa  220 Aug  8 22:22 gdal-config\r\n",
      "-rwxr-xr-x 1 pashaa pashaa  504 Aug  8 22:22 gdal2tiles.py\r\n",
      "-rwxr-xr-x 1 pashaa pashaa  280 Aug  8 22:22 gdal2xyz.py\r\n",
      "-rwxr-xr-x 1 pashaa pashaa  284 Aug  8 22:22 gdal_calc.py\r\n",
      "-rwxr-xr-x 1 pashaa pashaa  220 Aug  8 22:22 gdal_contour\r\n",
      "-rwxr-xr-x 1 pashaa pashaa  220 Aug  8 22:22 gdal_create\r\n",
      "-rwxr-xr-x 1 pashaa pashaa  284 Aug  8 22:22 gdal_edit.py\r\n",
      "-rwxr-xr-x 1 pashaa pashaa  308 Aug  8 22:22 gdal_fillnodata.py\r\n",
      "-rwxr-xr-x 1 pashaa pashaa  220 Aug  8 22:22 gdal_grid\r\n",
      "-rwxr-xr-x 1 pashaa pashaa  288 Aug  8 22:22 gdal_merge.py\r\n",
      "-rwxr-xr-x 1 pashaa pashaa  308 Aug  8 22:22 gdal_pansharpen.py\r\n",
      "-rwxr-xr-x 1 pashaa pashaa  308 Aug  8 22:22 gdal_polygonize.py\r\n",
      "-rwxr-xr-x 1 pashaa pashaa  304 Aug  8 22:22 gdal_proximity.py\r\n",
      "-rwxr-xr-x 1 pashaa pashaa  220 Aug  8 22:22 gdal_rasterize\r\n",
      "-rwxr-xr-x 1 pashaa pashaa  292 Aug  8 22:22 gdal_retile.py\r\n",
      "-rwxr-xr-x 1 pashaa pashaa  288 Aug  8 22:22 gdal_sieve.py\r\n",
      "-rwxr-xr-x 1 pashaa pashaa  220 Aug  8 22:22 gdal_translate\r\n",
      "-rwxr-xr-x 1 pashaa pashaa  220 Aug  8 22:22 gdal_viewshed\r\n",
      "-rwxr-xr-x 1 pashaa pashaa  220 Aug  8 22:22 gdaladdo\r\n",
      "-rwxr-xr-x 1 pashaa pashaa  300 Aug  8 22:22 gdalattachpct.py\r\n",
      "-rwxr-xr-x 1 pashaa pashaa  220 Aug  8 22:22 gdalbuildvrt\r\n",
      "-rwxr-xr-x 1 pashaa pashaa  292 Aug  8 22:22 gdalcompare.py\r\n",
      "-rwxr-xr-x 1 pashaa pashaa  220 Aug  8 22:22 gdaldem\r\n",
      "-rwxr-xr-x 1 pashaa pashaa  220 Aug  8 22:22 gdalenhance\r\n",
      "-rwxr-xr-x 1 pashaa pashaa  220 Aug  8 22:22 gdalinfo\r\n",
      "-rwxr-xr-x 1 pashaa pashaa  220 Aug  8 22:22 gdallocationinfo\r\n",
      "-rwxr-xr-x 1 pashaa pashaa  220 Aug  8 22:22 gdalmanage\r\n",
      "-rwxr-xr-x 1 pashaa pashaa  220 Aug  8 22:22 gdalmdiminfo\r\n",
      "-rwxr-xr-x 1 pashaa pashaa  220 Aug  8 22:22 gdalmdimtranslate\r\n",
      "-rwxr-xr-x 1 pashaa pashaa  280 Aug  8 22:22 gdalmove.py\r\n",
      "-rwxr-xr-x 1 pashaa pashaa  220 Aug  8 22:22 gdalsrsinfo\r\n",
      "-rwxr-xr-x 1 pashaa pashaa  220 Aug  8 22:22 gdaltindex\r\n",
      "-rwxr-xr-x 1 pashaa pashaa  220 Aug  8 22:22 gdaltransform\r\n",
      "-rwxr-xr-x 1 pashaa pashaa  220 Aug  8 22:22 gdalwarp\r\n",
      "-rwxr-xr-x 1 pashaa pashaa  982 Aug  8 22:32 generate_mask\r\n",
      "-rwxr-xr-x 1 pashaa pashaa  992 Aug  8 22:32 generate_tile_mask\r\n",
      "-rwxr-xr-x 1 pashaa pashaa  984 Aug  8 22:32 generate_tiles\r\n",
      "-rwxr-xr-x 1 pashaa pashaa  221 Aug  8 22:22 geod\r\n",
      "-rwxr-xr-x 1 pashaa pashaa  220 Aug  8 22:22 geotifcp\r\n",
      "-rwxr-xr-x 1 pashaa pashaa  221 Aug  8 22:22 gie\r\n",
      "-rwxr-xr-x 1 pashaa pashaa  222 Aug  8 22:22 girder-cli\r\n",
      "-rwxr-xr-x 1 pashaa pashaa  222 Aug  8 22:22 girder-client\r\n",
      "-rwxr-xr-x 1 pashaa pashaa  220 Aug  8 22:22 gnmanalyse\r\n",
      "-rwxr-xr-x 1 pashaa pashaa  220 Aug  8 22:22 gnmmanage\r\n",
      "-rwxr-xr-x 1 pashaa pashaa  229 Aug  8 22:22 hsdb\r\n",
      "-rwxr-xr-x 1 pashaa pashaa  229 Aug  8 22:22 idlj\r\n",
      "-rwxr-xr-x 1 pashaa pashaa  225 Aug  8 22:22 imagecodecs\r\n",
      "-rwxr-xr-x 1 pashaa pashaa  247 Aug  8 22:22 imageio_download_bin\r\n",
      "-rwxr-xr-x 1 pashaa pashaa  243 Aug  8 22:22 imageio_remove_bin\r\n",
      "-rwxr-xr-x 1 pashaa pashaa  978 Aug  8 22:32 infer_tiles\r\n",
      "-rwxr-xr-x 1 pashaa pashaa  221 Aug  8 22:22 invgeod\r\n",
      "-rwxr-xr-x 1 pashaa pashaa  221 Aug  8 22:22 invproj\r\n",
      "-rwxr-xr-x 1 pashaa pashaa  230 Aug  8 22:33 ipython\r\n",
      "-rwxr-xr-x 1 pashaa pashaa  230 Aug  8 22:33 ipython3\r\n",
      "-rwxr-xr-x 1 pashaa pashaa  229 Aug  8 22:22 jar\r\n",
      "-rwxr-xr-x 1 pashaa pashaa  229 Aug  8 22:22 jarsigner\r\n",
      "-rwxr-xr-x 1 pashaa pashaa  229 Aug  8 22:22 java\r\n",
      "-rwxr-xr-x 1 pashaa pashaa  229 Aug  8 22:22 java-rmi.cgi\r\n",
      "-rwxr-xr-x 1 pashaa pashaa  229 Aug  8 22:22 javac\r\n",
      "-rwxr-xr-x 1 pashaa pashaa  229 Aug  8 22:22 javadoc\r\n",
      "-rwxr-xr-x 1 pashaa pashaa  229 Aug  8 22:22 javah\r\n",
      "-rwxr-xr-x 1 pashaa pashaa  229 Aug  8 22:22 javap\r\n",
      "-rwxr-xr-x 1 pashaa pashaa  229 Aug  8 22:22 jcmd\r\n",
      "-rwxr-xr-x 1 pashaa pashaa  229 Aug  8 22:22 jconsole\r\n",
      "-rwxr-xr-x 1 pashaa pashaa  229 Aug  8 22:22 jdb\r\n",
      "-rwxr-xr-x 1 pashaa pashaa  229 Aug  8 22:22 jdeps\r\n",
      "-rwxr-xr-x 1 pashaa pashaa  229 Aug  8 22:22 jfr\r\n",
      "-rwxr-xr-x 1 pashaa pashaa  229 Aug  8 22:22 jhat\r\n",
      "-rwxr-xr-x 1 pashaa pashaa  229 Aug  8 22:22 jinfo\r\n",
      "-rwxr-xr-x 1 pashaa pashaa  229 Aug  8 22:22 jjs\r\n",
      "-rwxr-xr-x 1 pashaa pashaa  229 Aug  8 22:22 jmap\r\n",
      "-rwxr-xr-x 1 pashaa pashaa 1701 Aug  8 22:22 jp.py\r\n",
      "-rwxr-xr-x 1 pashaa pashaa  224 Aug  8 22:22 jp2dump\r\n",
      "-rwxr-xr-x 1 pashaa pashaa  221 Aug  8 22:22 jpegtran\r\n",
      "-rwxr-xr-x 1 pashaa pashaa  229 Aug  8 22:22 jps\r\n",
      "-rwxr-xr-x 1 pashaa pashaa  229 Aug  8 22:22 jrunscript\r\n",
      "-rwxr-xr-x 1 pashaa pashaa  229 Aug  8 22:22 jsadebugd\r\n",
      "-rwxr-xr-x 1 pashaa pashaa  243 Aug  8 22:24 jsonpath_ng\r\n",
      "-rwxr-xr-x 1 pashaa pashaa  219 Aug  8 22:18 jsonschema\r\n",
      "-rwxr-xr-x 1 pashaa pashaa  229 Aug  8 22:22 jstack\r\n",
      "-rwxr-xr-x 1 pashaa pashaa  229 Aug  8 22:22 jstat\r\n",
      "-rwxr-xr-x 1 pashaa pashaa  229 Aug  8 22:22 jstatd\r\n",
      "-rwxr-xr-x 1 pashaa pashaa  225 Aug  8 22:33 jupyter\r\n",
      "-rwxr-xr-x 1 pashaa pashaa  239 Aug  8 22:33 jupyter-bundlerextension\r\n",
      "-rwxr-xr-x 1 pashaa pashaa  224 Aug  8 22:33 jupyter-console\r\n",
      "-rwxr-xr-x 1 pashaa pashaa  241 Aug  8 22:33 jupyter-dejavu\r\n",
      "-rwxr-xr-x 1 pashaa pashaa  217 Aug  8 22:33 jupyter-execute\r\n",
      "-rwxr-xr-x 1 pashaa pashaa  229 Aug  8 22:33 jupyter-kernel\r\n",
      "-rwxr-xr-x 1 pashaa pashaa  267 Aug  8 22:33 jupyter-kernelspec\r\n",
      "-rwxr-xr-x 1 pashaa pashaa  225 Aug  8 22:33 jupyter-migrate\r\n",
      "-rwxr-xr-x 1 pashaa pashaa  227 Aug  8 22:33 jupyter-nbconvert\r\n",
      "-rwxr-xr-x 1 pashaa pashaa  226 Aug  8 22:33 jupyter-nbextension\r\n",
      "-rwxr-xr-x 1 pashaa pashaa  225 Aug  8 22:33 jupyter-notebook\r\n",
      "-rwxr-xr-x 1 pashaa pashaa  227 Aug  8 22:33 jupyter-qtconsole\r\n",
      "-rwxr-xr-x 1 pashaa pashaa  246 Aug  8 22:33 jupyter-run\r\n",
      "-rwxr-xr-x 1 pashaa pashaa  230 Aug  8 22:33 jupyter-serverextension\r\n",
      "-rwxr-xr-x 1 pashaa pashaa  230 Aug  8 22:33 jupyter-troubleshoot\r\n",
      "-rwxr-xr-x 1 pashaa pashaa  258 Aug  8 22:33 jupyter-trust\r\n",
      "-rwxr-xr-x 1 pashaa pashaa  229 Aug  8 22:22 keytool\r\n",
      "-rwxr-xr-x 1 pashaa pashaa  978 Aug  8 22:32 label_tiles\r\n",
      "-rwxr-xr-x 1 pashaa pashaa  220 Aug  8 22:22 listgeo\r\n",
      "-rwxr-xr-x 1 pashaa pashaa  976 Aug  8 22:32 load_slide\r\n",
      "-rwxr-xr-x 1 pashaa pashaa  221 Aug  8 22:22 lsm2bin\r\n",
      "-rwxr-xr-x 1 pashaa pashaa  221 Aug  8 22:22 magick\r\n",
      "-rwxr-xr-x 1 pashaa pashaa  220 Aug  8 22:22 makegeo\r\n",
      "-rwxr-xr-x 1 pashaa pashaa  221 Aug  8 22:21 mapnik-index\r\n",
      "-rwxr-xr-x 1 pashaa pashaa  221 Aug  8 22:21 mapnik-render\r\n",
      "-rwxr-xr-x 1 pashaa pashaa  229 Aug  8 22:22 native2ascii\r\n",
      "-rwxr-xr-x 1 pashaa pashaa  220 Aug  8 22:22 nearblack\r\n",
      "-rwxr-xr-x 1 pashaa pashaa  250 Aug  8 22:18 normalizer\r\n",
      "-rwxr-xr-x 1 pashaa pashaa  220 Aug  8 22:22 ogr2ogr\r\n",
      "-rwxr-xr-x 1 pashaa pashaa  220 Aug  8 22:22 ogrinfo\r\n",
      "-rwxr-xr-x 1 pashaa pashaa  220 Aug  8 22:22 ogrlineref\r\n",
      "-rwxr-xr-x 1 pashaa pashaa  280 Aug  8 22:22 ogrmerge.py\r\n",
      "-rwxr-xr-x 1 pashaa pashaa  220 Aug  8 22:22 ogrtindex\r\n",
      "-rwxr-xr-x 1 pashaa pashaa  224 Aug  8 22:22 openslide-quickhash1sum\r\n",
      "-rwxr-xr-x 1 pashaa pashaa  224 Aug  8 22:22 openslide-show-properties\r\n",
      "-rwxr-xr-x 1 pashaa pashaa  224 Aug  8 22:22 openslide-write-png\r\n",
      "-rwxr-xr-x 1 pashaa pashaa  221 Aug  8 22:22 opj_compress\r\n",
      "-rwxr-xr-x 1 pashaa pashaa  221 Aug  8 22:22 opj_decompress\r\n",
      "-rwxr-xr-x 1 pashaa pashaa  221 Aug  8 22:22 opj_dump\r\n",
      "-rwxr-xr-x 1 pashaa pashaa  229 Aug  8 22:22 orbd\r\n",
      "-rwxr-xr-x 1 pashaa pashaa  229 Aug  8 22:22 pack200\r\n",
      "-rwxr-xr-x 1 pashaa pashaa  222 Aug  8 22:22 pal2rgb\r\n",
      "-rwxr-xr-x 1 pashaa pashaa  223 Aug  8 22:22 pasteurize\r\n",
      "-rwxr-xr-x 1 pashaa pashaa  276 Aug  8 22:22 pct2rgb.py\r\n",
      "-rwxr-xr-x 1 pashaa pashaa  227 Aug  8 22:18 pip\r\n",
      "-rwxr-xr-x 1 pashaa pashaa  227 Aug  8 22:18 pip3\r\n",
      "-rwxr-xr-x 1 pashaa pashaa  227 Aug  8 22:18 pip3.9\r\n",
      "-rwxr-xr-x 1 pashaa pashaa  254 Aug  8 22:24 plasma_store\r\n",
      "-rwxr-xr-x 1 pashaa pashaa  229 Aug  8 22:22 policytool\r\n",
      "-rwxr-xr-x 1 pashaa pashaa  222 Aug  8 22:22 ppm2tiff\r\n",
      "-rwxr-xr-x 1 pashaa pashaa  221 Aug  8 22:22 proj\r\n",
      "-rwxr-xr-x 1 pashaa pashaa  221 Aug  8 22:22 projinfo\r\n",
      "-rwxr-xr-x 1 pashaa pashaa  221 Aug  8 22:22 projsync\r\n",
      "-rwxr-xr-x 1 pashaa pashaa  227 Aug  8 22:18 py.test\r\n",
      "-rwxr-xr-x 1 pashaa pashaa  220 Aug  8 22:22 pyftmerge\r\n",
      "-rwxr-xr-x 1 pashaa pashaa  221 Aug  8 22:22 pyftsubset\r\n",
      "-rwxr-xr-x 1 pashaa pashaa  221 Aug  8 22:33 pygmentize\r\n",
      "-rwxr-xr-x 1 pashaa pashaa  238 Aug  8 22:32 pykwalify\r\n",
      "-rwxr-xr-x 1 pashaa pashaa  243 Aug  8 22:32 pyradiomics\r\n",
      "-rwxr-xr-x 1 pashaa pashaa  227 Aug  8 22:18 pytest\r\n",
      "-rwxr-xr-x 1 pashaa pashaa  218 Aug  8 22:33 qtpy\r\n",
      "-rwxr-xr-x 1 pashaa pashaa  222 Aug  8 22:22 raw2tiff\r\n",
      "-rwxr-xr-x 1 pashaa pashaa  224 Aug  8 22:18 ray\r\n",
      "-rwxr-xr-x 1 pashaa pashaa  230 Aug  8 22:18 ray-operator\r\n",
      "-rwxr-xr-x 1 pashaa pashaa  221 Aug  8 22:22 rdjpgcom\r\n",
      "-rwxr-xr-x 1 pashaa pashaa  276 Aug  8 22:22 rgb2pct.py\r\n",
      "-rwxr-xr-x 1 pashaa pashaa  220 Aug  8 22:18 rllib\r\n",
      "-rwxr-xr-x 1 pashaa pashaa  229 Aug  8 22:22 rmic\r\n",
      "-rwxr-xr-x 1 pashaa pashaa  229 Aug  8 22:22 rmid\r\n",
      "-rwxr-xr-x 1 pashaa pashaa  229 Aug  8 22:22 rmiregistry\r\n",
      "-rwxr-xr-x 1 pashaa pashaa  976 Aug  8 22:32 save_tiles\r\n",
      "-rwxr-xr-x 1 pashaa pashaa  229 Aug  8 22:22 schemagen\r\n",
      "-rwxr-xr-x 1 pashaa pashaa  224 Aug  8 22:33 send2trash\r\n",
      "-rwxr-xr-x 1 pashaa pashaa  229 Aug  8 22:22 serialver\r\n",
      "-rwxr-xr-x 1 pashaa pashaa  220 Aug  8 22:18 serve\r\n",
      "-rwxr-xr-x 1 pashaa pashaa  229 Aug  8 22:22 servertool\r\n",
      "-rwxr-xr-x 1 pashaa pashaa  221 Aug  8 22:21 shapeindex\r\n",
      "-rwxr-xr-x 1 pashaa pashaa  226 Aug  8 22:22 skivi\r\n",
      "-rwxr-xr-x 1 pashaa pashaa  974 Aug  8 22:32 slide_etl\r\n",
      "-rwxr-xr-x 1 pashaa pashaa  215 Aug  8 22:18 tabulate\r\n",
      "-rwxr-xr-x 1 pashaa pashaa  222 Aug  8 22:22 tiff2bw\r\n",
      "-rwxr-xr-x 1 pashaa pashaa  225 Aug  8 22:22 tiff2fsspec\r\n",
      "-rwxr-xr-x 1 pashaa pashaa  232 Aug  8 22:22 tiff2jp2\r\n",
      "-rwxr-xr-x 1 pashaa pashaa  222 Aug  8 22:22 tiff2pdf\r\n",
      "-rwxr-xr-x 1 pashaa pashaa  222 Aug  8 22:22 tiff2ps\r\n",
      "-rwxr-xr-x 1 pashaa pashaa  222 Aug  8 22:22 tiff2rgba\r\n",
      "-rwxr-xr-x 1 pashaa pashaa  222 Aug  8 22:22 tiffcmp\r\n",
      "-rwxr-xr-x 1 pashaa pashaa  225 Aug  8 22:22 tiffcomment\r\n",
      "-rwxr-xr-x 1 pashaa pashaa  222 Aug  8 22:22 tiffcp\r\n",
      "-rwxr-xr-x 1 pashaa pashaa  222 Aug  8 22:22 tiffcrop\r\n",
      "-rwxr-xr-x 1 pashaa pashaa  222 Aug  8 22:22 tiffdither\r\n",
      "-rwxr-xr-x 1 pashaa pashaa  222 Aug  8 22:22 tiffdump\r\n",
      "-rwxr-xr-x 1 pashaa pashaa  213 Aug  8 22:22 tifffile\r\n",
      "-rwxr-xr-x 1 pashaa pashaa  222 Aug  8 22:22 tiffgt\r\n",
      "-rwxr-xr-x 1 pashaa pashaa  222 Aug  8 22:22 tiffinfo\r\n",
      "-rwxr-xr-x 1 pashaa pashaa  222 Aug  8 22:22 tiffmedian\r\n",
      "-rwxr-xr-x 1 pashaa pashaa  222 Aug  8 22:22 tiffset\r\n",
      "-rwxr-xr-x 1 pashaa pashaa  222 Aug  8 22:22 tiffsplit\r\n",
      "-rwxr-xr-x 1 pashaa pashaa  214 Aug  8 22:22 tifftools\r\n",
      "-rwxr-xr-x 1 pashaa pashaa  229 Aug  8 22:22 tnameserv\r\n",
      "-rwxr-xr-x 1 pashaa pashaa  226 Aug  8 22:31 torchrun\r\n",
      "-rwxr-xr-x 1 pashaa pashaa  213 Aug  8 22:24 tqdm\r\n",
      "-rwxr-xr-x 1 pashaa pashaa 1002 Aug  8 22:32 train_tissue_classifier\r\n",
      "-rwxr-xr-x 1 pashaa pashaa  218 Aug  8 22:22 ttx\r\n",
      "-rwxr-xr-x 1 pashaa pashaa  219 Aug  8 22:18 tune\r\n",
      "-rwxr-xr-x 1 pashaa pashaa  229 Aug  8 22:22 unpack200\r\n",
      "-rwxr-xr-x 1 pashaa pashaa  221 Aug  8 22:22 vips\r\n",
      "-rwxr-xr-x 1 pashaa pashaa  221 Aug  8 22:22 vipsedit\r\n",
      "-rwxr-xr-x 1 pashaa pashaa  221 Aug  8 22:22 vipsheader\r\n",
      "-rwxr-xr-x 1 pashaa pashaa  221 Aug  8 22:22 vipsthumbnail\r\n",
      "-rwxr-xr-x 1 pashaa pashaa  244 Aug  8 22:18 virtualenv\r\n",
      "-rwxr-xr-x 1 pashaa pashaa  994 Aug  8 22:32 visualize_tiles_png\r\n",
      "-rwxr-xr-x 1 pashaa pashaa  221 Aug  8 22:22 wrjpgcom\r\n",
      "-rwxr-xr-x 1 pashaa pashaa  222 Aug  8 22:31 wsdump\r\n",
      "-rwxr-xr-x 1 pashaa pashaa  229 Aug  8 22:22 wsgen\r\n",
      "-rwxr-xr-x 1 pashaa pashaa  229 Aug  8 22:22 wsimport\r\n",
      "-rwxr-xr-x 1 pashaa pashaa  229 Aug  8 22:22 xjc\r\n",
      "-rwxr-xr-x 1 pashaa pashaa  224 Aug  8 22:24 yamale\r\n"
     ]
    }
   ],
   "source": [
    "!ls -l  /home/pashaa/.local/bin/"
   ]
  },
  {
   "cell_type": "code",
   "execution_count": 45,
   "metadata": {},
   "outputs": [
    {
     "name": "stdout",
     "output_type": "stream",
     "text": [
      "Successfully connected to DSA.\n",
      "collection_id_dict {'_accessLevel': 2, '_id': '60807410150bd39c9df579cf', '_modelType': 'collection', '_textScore': 15.75, 'created': '2021-04-21T18:50:56.730000+00:00', 'description': 'test images', 'meta': {}, 'name': 'test-path', 'public': True, 'publicFlags': [], 'size': 2350018806, 'updated': '2021-04-21T18:50:56.730000+00:00'}\n",
      "Collection test-path found with id: 60807410150bd39c9df579cf\n",
      "Annotation successfully pushed to DSA.\n",
      "Time to push annotation 0.0221097469329834\n",
      "http://localhost:8080/histomics#?image=60807ad8150bd39c9df579d2\n"
     ]
    }
   ],
   "source": [
    "# push annotation to DSA\n",
    "!dsa_upload http://localhost:8080/dsa/api/v1 \\\n",
    "--collection_name tcga-data \\\n",
    "--image_filename 123.svs \\\n",
    "--annotation_filepath ../dsa_annotations/qupath/quppath_123.json"
   ]
  },
  {
   "cell_type": "markdown",
   "metadata": {},
   "source": [
    "## Upload Stardist object detection results"
   ]
  },
  {
   "cell_type": "markdown",
   "metadata": {},
   "source": [
    "Stardist is a nuclear segmentation algorithm that is quite capable in detecting and segmenting cells/nuclei in pathology images. **stardist-polygon** option converts Stardist object detection results as polygons capturing different types of cells.\n",
    "\n",
    "*Note: this command can take a few minutes if object detection is run on the whole slide.*"
   ]
  },
  {
   "cell_type": "code",
   "execution_count": 16,
   "metadata": {},
   "outputs": [
    {
     "name": "stdout",
     "output_type": "stream",
     "text": [
      "2022-04-05 09:06:50,899 - INFO - root - FYI: Initalized logger, log file at: data-processing.log with handlers: [<StreamHandler <stderr> (INFO)>, <RotatingFileHandler /Users/rosed2/Documents/msk-mind/luna/docker/luna_tutorial/vmount/notebooks/data-processing.log (INFO)>]\n",
      "2022-04-05 09:06:50,900 - INFO - luna.common.utils - Running <function stardist_polygon_main at 0x133e7f280> with {'output_dir': '../dsa_annotations/stardist_polygon', 'annotation_name': 'stardist_polygon_segmentations', 'image_filename': '123.svs', 'line_colors': '{\"Other\": \"rgb(0,255,0)\", \"Lymphocyte\": \"rgb(255,0,0)\"}', 'fill_colors': '{\"Other\": \"rgba(0,255,0,100)\", \"Lymphocyte\": \"rgba(255,0,0,100)\"}', 'input': '../dsa_input/test_object_classification.geojson', 'method_param_path': None}\n",
      "2022-04-05 09:06:50,900 - INFO - luna.common.utils - Param fill_colors set = {'Other': 'rgba(0,255,0,100)', 'Lymphocyte': 'rgba(255,0,0,100)'}\n",
      "2022-04-05 09:06:50,900 - INFO - luna.common.utils - Param line_colors set = {'Other': 'rgb(0,255,0)', 'Lymphocyte': 'rgb(255,0,0)'}\n",
      "2022-04-05 09:06:50,900 - INFO - luna.common.utils - Param annotation_name set = stardist_polygon_segmentations\n",
      "2022-04-05 09:06:50,900 - INFO - luna.common.utils - Param image_filename set = 123.svs\n",
      "2022-04-05 09:06:50,900 - INFO - luna.common.utils - Param output_dir set = ../dsa_annotations/stardist_polygon\n",
      "2022-04-05 09:06:50,900 - INFO - luna.common.utils - Param input set = ../dsa_input/test_object_classification.geojson\n",
      "2022-04-05 09:06:50,901 - INFO - luna.common.utils - Full segment key set: {}\n",
      "\n",
      "----------------------------------- Running transform::stardist_polygon_main -----------------------------------\n",
      "\n",
      "2022-04-05 09:06:50,902 - INFO - luna.common.utils - Code block 'transform::stardist_polygon_main' took: 0.001199355000000013s\n",
      "2022-04-05 09:06:50,903 - INFO - luna.common.utils - Done.\n"
     ]
    }
   ],
   "source": [
    "# generate DSA annotation\n",
    "!dsa stardist-polygon \\\n",
    "../dsa_input/test_object_classification.geojson \\\n",
    "--output_dir ../dsa_annotations/stardist_polygon \\\n",
    "--annotation_name stardist_polygon_segmentations \\\n",
    "--image_filename 123.svs \\\n",
    "--line_colors '{\"Other\": \"rgb(0,255,0)\", \"Lymphocyte\": \"rgb(255,0,0)\"}' \\\n",
    "--fill_colors '{\"Other\": \"rgba(0,255,0,100)\", \"Lymphocyte\": \"rgba(255,0,0,100)\"}'"
   ]
  },
  {
   "cell_type": "code",
   "execution_count": 20,
   "metadata": {},
   "outputs": [
    {
     "name": "stdout",
     "output_type": "stream",
     "text": [
      "{\"description\": \"\", \"elements\": [{\"fillColor\": \"rgba(0,255,0,100)\", \"lineColor\": \"rgb(0,255,0)\", \"lineWidth\": 2, \"type\": \"polyline\", \"closed\": true, \"points\": [[61781.95, 929.31, 0], [61771.77, 932.48, 0], [61763.49, 938.38, 0], [61757.63, 946.76, 0], [61756.68, 949.76, 0], [61756.34, 957.75, 0], [61756.81, 960.34, 0], [61759.75, 967.25, 0], [61761.4, 969.48, 0], [61766.69, 973.96, 0], [61774.61, 976.99, 0], [61776.99, 977.25, 0], [61787.6, 976.28, 0], [61793.96, 974.36, 0], [61803.92, 972.54, 0], [61812.41, 969.1, 0], [61819.84, 962.2, 0], [61821.52, 958.67, 0], [61822.29, 950.5, 0], [61821.42, 947.99, 0], [61816.19, 940.43, 0], [61810.58, 936.37, 0], [61803.19, 933.06, 0], [61793.31, 929.64, 0], [61781.95, 929.31, 0]], \"label\": {\"value\": \"Other\"}}], \"name\": \"stardist_polygon_segmentations\"}"
     ]
    }
   ],
   "source": [
    "# check json annotation\n",
    "!head ../dsa_annotations/stardist_polygon/stardist_polygon_segmentations_123.json"
   ]
  },
  {
   "cell_type": "code",
   "execution_count": 22,
   "metadata": {
    "collapsed": true
   },
   "outputs": [
    {
     "name": "stdout",
     "output_type": "stream",
     "text": [
      "env: DSA_USERNAME=username\n",
      "env: DSA_PASSWORD=password\n",
      "Traceback (most recent call last):\n",
      "  File \"/Users/rosed2/Documents/msk-mind/env/bin/dsa_upload\", line 33, in <module>\n",
      "    sys.exit(load_entry_point('pyluna-pathology==0.1.1', 'console_scripts', 'dsa_upload')())\n",
      "  File \"/Users/rosed2/Documents/msk-mind/env/bin/dsa_upload\", line 25, in importlib_load_entry_point\n",
      "    return next(matches).load()\n",
      "  File \"/usr/local/Cellar/python@3.9/3.9.9/Frameworks/Python.framework/Versions/3.9/lib/python3.9/importlib/metadata.py\", line 77, in load\n",
      "    module = import_module(match.group('module'))\n",
      "  File \"/usr/local/Cellar/python@3.9/3.9.9/Frameworks/Python.framework/Versions/3.9/lib/python3.9/importlib/__init__.py\", line 127, in import_module\n",
      "    return _bootstrap._gcd_import(name[level:], package, level)\n",
      "  File \"<frozen importlib._bootstrap>\", line 1030, in _gcd_import\n",
      "  File \"<frozen importlib._bootstrap>\", line 1007, in _find_and_load\n",
      "  File \"<frozen importlib._bootstrap>\", line 986, in _find_and_load_unlocked\n",
      "  File \"<frozen importlib._bootstrap>\", line 680, in _load_unlocked\n",
      "  File \"<frozen importlib._bootstrap_external>\", line 850, in exec_module\n",
      "  File \"<frozen importlib._bootstrap>\", line 228, in _call_with_frames_removed\n",
      "  File \"/Users/rosed2/Documents/msk-mind/luna/pyluna-pathology/luna/pathology/cli/dsa_upload.py\", line 8, in <module>\n",
      "    from luna.pathology.dsa.dsa_api_handler import (\n",
      "  File \"/Users/rosed2/Documents/msk-mind/luna/pyluna-pathology/luna/pathology/dsa/dsa_api_handler.py\", line 13, in <module>\n",
      "    import histomicstk\n",
      "  File \"/Users/rosed2/Documents/msk-mind/env/lib/python3.9/site-packages/histomicstk/__init__.py\", line 7, in <module>\n",
      "    from . import segmentation  # must be imported before features\n",
      "  File \"/Users/rosed2/Documents/msk-mind/env/lib/python3.9/site-packages/histomicstk/segmentation/__init__.py\", line 15, in <module>\n",
      "    from . import label\n",
      "  File \"/Users/rosed2/Documents/msk-mind/env/lib/python3.9/site-packages/histomicstk/segmentation/label/__init__.py\", line 15, in <module>\n",
      "    from .trace_object_boundaries import trace_object_boundaries\n",
      "  File \"/Users/rosed2/Documents/msk-mind/env/lib/python3.9/site-packages/histomicstk/segmentation/label/trace_object_boundaries.py\", line 4, in <module>\n",
      "    from ._trace_object_boundaries_cython import _trace_object_boundaries_cython\n",
      "  File \"_trace_object_boundaries_cython.pyx\", line 1, in init histomicstk.segmentation.label._trace_object_boundaries_cython\n",
      "ValueError: numpy.ndarray size changed, may indicate binary incompatibility. Expected 96 from C header, got 88 from PyObject\n"
     ]
    }
   ],
   "source": [
    "# push annotation to DSA\n",
    "!dsa_upload http://localhost:8080/dsa/api/v1 \\\n",
    "--collection_name tcga-data \\\n",
    "--image_filename 123.svs \\\n",
    "--annotation_filepath ../dsa_annotations/stardist_polygon/stardist_polygon_segmentations_123.json"
   ]
  },
  {
   "cell_type": "markdown",
   "metadata": {},
   "source": [
    "This is a screenshot form HistomicsUI, the high-magnification viewer. You can zoom in and view your annotation results with the desired opacity. As specified in `dsa_configs/stardist_polygon_config.yaml`, the red objects are classified as lymphocytes and the green cells are \"other\" cells.\n",
    "\n",
    "![Stardist Polygon Screenshot](../img/stardist-polygon-screenshot.png)\n"
   ]
  },
  {
   "cell_type": "markdown",
   "metadata": {},
   "source": [
    "## Upload Stardist cell detection results\n",
    "\n",
    "Here we use cellular detection results generated from Stardist. The x,y coordinates of the cells in the input TSV file will be visualized as a point, as opposed to a more complex polygon that we saw in the previous step with **stardist-polygon**. You'll notice that the point annotation is faster to upload compared to the polygon represenation of the cells.\n",
    "\n",
    "We also set fill color alpha value to 0 makes annotation upload faster."
   ]
  },
  {
   "cell_type": "code",
   "execution_count": 26,
   "metadata": {},
   "outputs": [
    {
     "name": "stdout",
     "output_type": "stream",
     "text": [
      "2022-04-05 09:19:48,224 - INFO - root - FYI: Initalized logger, log file at: data-processing.log with handlers: [<StreamHandler <stderr> (INFO)>, <RotatingFileHandler /Users/rosed2/Documents/msk-mind/luna/docker/luna_tutorial/vmount/notebooks/data-processing.log (INFO)>]\n",
      "2022-04-05 09:19:48,225 - INFO - luna.common.utils - Running <function stardist_cell_main at 0x13c902550> with {'output_dir': '../dsa_annotations/stardist_cell', 'annotation_name': 'stardist_cell_segmentations', 'image_filename': '123.svs', 'line_colors': '{\"Other\": \"rgb(0,255,0)\", \"Lymphocyte\": \"rgb(255,0,0)\"}', 'fill_colors': '{\"Other\": \"rgba(0,255,0,100)\", \"Lymphocyte\": \"rgba(255,0,0,100)\"}', 'input': '../dsa_input/test_object_detection.tsv', 'method_param_path': None}\n",
      "2022-04-05 09:19:48,225 - INFO - luna.common.utils - Param fill_colors set = {'Other': 'rgba(0,255,0,100)', 'Lymphocyte': 'rgba(255,0,0,100)'}\n",
      "2022-04-05 09:19:48,225 - INFO - luna.common.utils - Param line_colors set = {'Other': 'rgb(0,255,0)', 'Lymphocyte': 'rgb(255,0,0)'}\n",
      "2022-04-05 09:19:48,226 - INFO - luna.common.utils - Param annotation_name set = stardist_cell_segmentations\n",
      "2022-04-05 09:19:48,226 - INFO - luna.common.utils - Param image_filename set = 123.svs\n",
      "2022-04-05 09:19:48,226 - INFO - luna.common.utils - Param output_dir set = ../dsa_annotations/stardist_cell\n",
      "2022-04-05 09:19:48,226 - INFO - luna.common.utils - Param input set = ../dsa_input/test_object_detection.tsv\n",
      "2022-04-05 09:19:48,226 - INFO - luna.common.utils - Full segment key set: {}\n",
      "\n",
      "----------------------------------- Running transform::stardist_cell_main -----------------------------------\n",
      "\n",
      "2022-04-05 09:19:48,231 - INFO - luna.common.utils - Code block 'transform::stardist_cell_main' took: 0.004638240000000016s\n",
      "2022-04-05 09:19:48,232 - INFO - luna.common.utils - Done.\n"
     ]
    }
   ],
   "source": [
    "# generate DSA annotation\n",
    "!dsa stardist-cell \\\n",
    "../dsa_input/test_object_detection.tsv \\\n",
    "--output_dir ../dsa_annotations/stardist_cell \\\n",
    "--annotation_name stardist_cell_segmentations \\\n",
    "--image_filename 123.svs \\\n",
    "--line_colors '{\"Other\": \"rgb(0,255,0)\", \"Lymphocyte\": \"rgb(255,0,0)\"}' \\\n",
    "--fill_colors '{\"Other\": \"rgba(0,255,0,100)\", \"Lymphocyte\": \"rgba(255,0,0,100)\"}'"
   ]
  },
  {
   "cell_type": "code",
   "execution_count": 27,
   "metadata": {},
   "outputs": [
    {
     "name": "stdout",
     "output_type": "stream",
     "text": [
      "{\"description\": \"\", \"elements\": [{\"fillColor\": \"rgba(0,255,0,100)\", \"lineColor\": \"rgb(0,255,0)\", \"lineWidth\": 2, \"type\": \"point\", \"center\": [61788.06625424067, 953.4224705647575, 0], \"label\": {\"value\": \"Other\"}}, {\"fillColor\": \"rgba(0,255,0,100)\", \"lineColor\": \"rgb(0,255,0)\", \"lineWidth\": 2, \"type\": \"point\", \"center\": [63033.92536419876, 957.214128916384, 0], \"label\": {\"value\": \"Other\"}}, {\"fillColor\": \"rgba(0,255,0,100)\", \"lineColor\": \"rgb(0,255,0)\", \"lineWidth\": 2, \"type\": \"point\", \"center\": [64150.069846338054, 957.3538215924966, 0], \"label\": {\"value\": \"Other\"}}], \"name\": \"stardist_cell_segmentations\"}"
     ]
    }
   ],
   "source": [
    "# check json annotation\n",
    "!head ../dsa_annotations/stardist_cell/stardist_cell_segmentations_123.json"
   ]
  },
  {
   "cell_type": "code",
   "execution_count": 29,
   "metadata": {},
   "outputs": [
    {
     "name": "stdout",
     "output_type": "stream",
     "text": [
      "Successfully connected to DSA.\n",
      "collection_id_dict {'_accessLevel': 2, '_id': '60807410150bd39c9df579cf', '_modelType': 'collection', '_textScore': 15.75, 'created': '2021-04-21T18:50:56.730000+00:00', 'description': 'test images', 'meta': {}, 'name': 'test-path', 'public': True, 'publicFlags': [], 'size': 936444465, 'updated': '2021-04-21T18:50:56.730000+00:00'}\n",
      "Collection test-path found with id: 60807410150bd39c9df579cf\n",
      "Annotation successfully pushed to DSA.\n",
      "Time to push annotation 202.15096521377563\n",
      "http://localhost:8080/histomics#?image=60807ad8150bd39c9df579d2\n"
     ]
    }
   ],
   "source": [
    "# push annotation to DSA\n",
    "!dsa_upload http://localhost:8080/dsa/api/v1 \\\n",
    "--collection_name tcga-data \\\n",
    "--image_filename 123.svs \\\n",
    "--annotation_filepath ../dsa_annotations/stardist_cell/stardist_cell_segmentations_123.json"
   ]
  },
  {
   "cell_type": "markdown",
   "metadata": {},
   "source": [
    "Below is another screenshot from HistomicsUI, from the link printed above. The results are the same as **stardist-polygon** visualization. Notice the cells are captured more minimally as circles, and not polygons. For rapid prototyping, **stardist-cell** offers faster annotation upload speed compared to **stardist-polygon**.\n",
    "\n",
    "![Stardist Cell Screenshot](../img/stardist-cell-screenshot.png)"
   ]
  },
  {
   "cell_type": "markdown",
   "metadata": {},
   "source": [
    "Congratulations! Now you can visualize your annotations and results on DSA platform."
   ]
  },
  {
   "cell_type": "code",
   "execution_count": null,
   "metadata": {},
   "outputs": [],
   "source": []
  }
 ],
 "metadata": {
  "kernelspec": {
   "display_name": "Python 3 (ipykernel)",
   "language": "python",
   "name": "python3"
  },
  "language_info": {
   "codemirror_mode": {
    "name": "ipython",
    "version": 3
   },
   "file_extension": ".py",
   "mimetype": "text/x-python",
   "name": "python",
   "nbconvert_exporter": "python",
   "pygments_lexer": "ipython3",
   "version": "3.9.13"
  }
 },
 "nbformat": 4,
 "nbformat_minor": 4
}
