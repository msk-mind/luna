{
 "cells": [
  {
   "cell_type": "markdown",
   "metadata": {},
   "source": [
    "# DSA Annotation"
   ]
  },
  {
   "cell_type": "markdown",
   "metadata": {},
   "source": [
    "Digital Slide Archive (DSA) is an open-source web application where users can annotate regional and point annotations on the high power slide viewer. Luna Pathology CLIs pull the different annotation types from DSA, and save the annotations in GeoJSON format along with metadata. In this notebook, we will review:\n",
    "\n",
    "- Project setup on DSA\n",
    "- Create annotations on DSA\n",
    "- Run regional annotation ETL\n",
    "- Run point annotation ETL\n",
    "\n",
    "DSA provides an excellent [video tutorial](https://www.youtube.com/watch?v=HTvLMyKYyGs&ab_channel=DigitalSlideArchive%2FHistomicsTK) that covers platform features. For the first two points on DSA, the information below is an abridged version of the tutorial for your reference."
   ]
  },
  {
   "cell_type": "markdown",
   "metadata": {},
   "source": [
    "## Project setup on DSA"
   ]
  },
  {
   "cell_type": "markdown",
   "metadata": {},
   "source": [
    "Digital Slide Archive (DSA) is a platform that provides the ability to store, manage, visualize and annotate large imaging data sets. The DSA consists of an interface to visualize slides and manage annotations (HistomicsUI), and a web-server that provides a rich API and data management tools (using Girder). This system can:\n",
    "\n",
    "- Organize images from a variety of assetstores, such as local files systems and S3.\n",
    "- Provide user access controls.\n",
    "- Image annotation and review.\n",
    "\n",
    "HistomicsUI is a web-based application for examining, annotating, and processing histology images to extract both low and high level features (e.g. cellular structure, feature types).\n",
    "Concepts\n",
    "\n",
    "- **Collections** correspond to a project. Collections are at the top level objects in the data organization hierarchy.\n",
    "- **Folders** help organize slides under a project. e.g. hne_slides\n",
    "- **Items** correspond to a slide. An item can have metadata, annotations and files associated with it.\n",
    "- **Annotation** is a single rectangle, point, or polygon\n",
    "- **Annotation Document** is a set of annotations, created by the pathologist.\n",
    "- **Annotation Style** is a predefined set of labels (morphology like tumor, stroma, necrosis etc) and colors."
   ]
  },
  {
   "cell_type": "markdown",
   "metadata": {},
   "source": [
    "Create a collection for your project.\n",
    "Your images can be organized in a folder.\n",
    "In this example, we have a `pathology-tutorial` collection with `slides` folder where we organized the images.\n",
    "\n",
    "<img src=\"../img/dsa-collection-screenshot.png\" alt=\"DSA Collection\" width=\"600px\" />\n"
   ]
  },
  {
   "cell_type": "markdown",
   "metadata": {},
   "source": [
    "## Create annotations on DSA"
   ]
  },
  {
   "cell_type": "markdown",
   "metadata": {},
   "source": [
    "Please see this [video tutorial](https://youtu.be/HTvLMyKYyGs?t=369) for creating and viewing annotations. The information below is an abridged version of the tutorial for your reference. \n",
    "\n",
    "**1. To navigate to HistomicsUI, go to the Actions → Open in HistomicsUI on the upper right side. HistomicsUI will open a new tab in your browser.**\n",
    "\n",
    "<img src=\"../img/dsa-histomicsui-screenshot.png\" alt=\"DSA Collection\" width=\"400px\" />\n",
    "\n",
    "**2. Create an annotation document**\n",
    "- Click on the + New button on the Annotation panel. This will bring up a Create annotation modal.\n",
    "- Name you annotation document **regional** or **point**. These are the two types of annotations we support. The annotation document name will be used in the ETL, it is important to standardize your document names so the ETL can download all documents for the annotation type.\n",
    "- Optionally add a description, then click save.\n",
    "    \n",
    "<img src=\"../img/dsa-document-screenshot.png\" alt=\"DSA Document\" width=\"400px\" />\n",
    "\n",
    "**3. Create annotations**\n",
    "\n",
    "- Select a label (e.g. regional_tumor)\n",
    "- Click on **Point** or **Polygon**. When an annotation shape is highlighted, then your cursor on the slide area will look like a +\n",
    "- For Point annotation, zoom to an appropriate magnification and click on the cell. The annotation will appear as a circle.\n",
    "- For Polygon annotation, click and drag your mouse. As you drag the area will be highlighted. Try to meet the starting point, or double click to close the polygon.\n",
    "\n",
    "<img src=\"../img/dsa-annotation-screenshot.png\" alt=\"DSA Annotation\" width=\"200px\" />\n",
    "\n",
    "\n",
    "**Note**: Using standardized annotation styles is recommended. A uniform annotation style json can be created and shared among the pathologists making annotations."
   ]
  },
  {
   "cell_type": "markdown",
   "metadata": {},
   "source": [
    "## Run regional annotation ETL\n"
   ]
  },
  {
   "cell_type": "code",
   "execution_count": null,
   "metadata": {},
   "outputs": [],
   "source": [
    "import os\n",
    "HOME = os.environ['HOME']"
   ]
  },
  {
   "cell_type": "markdown",
   "metadata": {},
   "source": [
    "Once you have created annotations on DSA, we can run the annotation ETL CLI! This ETL will download the annotations, convert them to GeoJSON format, and create a parquet table to make the annotations and metadata queryable.\n",
    "\n",
    "For details of the data and app configuration, please refer to the example configurations.\n",
    "\n",
    "**Note**: details of your DSA instance should be updated to reflect your DSA setup. If you are using the luna tutorial docker, replace the `localhost` with the IP you get from running:\n",
    "\n",
    "```docker inspect -f '{{range.NetworkSettings.Networks}}{{.IPAddress}}{{end}}' luna_tutorial_girder_1```\n",
    "\n",
    "First, let's look at the CLI arguments, by running `--help`"
   ]
  },
  {
   "cell_type": "code",
   "execution_count": null,
   "metadata": {},
   "outputs": [],
   "source": [
    "!dsa_annotation --help"
   ]
  },
  {
   "cell_type": "code",
   "execution_count": null,
   "metadata": {
    "scrolled": true,
    "tags": []
   },
   "outputs": [],
   "source": [
    "# ingest annotations\n",
    "!dsa_annotation http://localhost:8080/api/v1 \\\n",
    "--output_dir ../dsa_annotations \\\n",
    "--collection_name 'TCGA collection' \\\n",
    "--annotation_name ov_regional \\\n",
    "--num_cores 1 \\\n",
    "--username admin --password password"
   ]
  },
  {
   "cell_type": "code",
   "execution_count": null,
   "metadata": {
    "scrolled": false
   },
   "outputs": [],
   "source": [
    "# metadata, geojson, parquet table output\n",
    "!ls -lh ../dsa_annotations/"
   ]
  },
  {
   "cell_type": "markdown",
   "metadata": {},
   "source": [
    "Annotations are saved in a parquet format, where 1 row represents an annotation element.\n",
    "\n",
    "We collect metadata about the annotation such as created timestamp and user.\n",
    "Note that different annotation types (point, regional) can be ingested using the same CLI"
   ]
  },
  {
   "cell_type": "code",
   "execution_count": null,
   "metadata": {
    "scrolled": false
   },
   "outputs": [],
   "source": [
    "# check annotation metadata table\n",
    "import pyarrow.parquet as pq\n",
    "\n",
    "annotation_table = pq.read_table(r'../dsa_annotations/slide_annotation_dataset_TCGA collection_ov_regional.parquet').to_pandas()\n",
    "print(annotation_table.columns)\n",
    "annotation_table"
   ]
  },
  {
   "cell_type": "code",
   "execution_count": null,
   "metadata": {},
   "outputs": [],
   "source": []
  }
 ],
 "metadata": {
  "kernelspec": {
   "display_name": "Python 3 (ipykernel)",
   "language": "python",
   "name": "python3"
  },
  "language_info": {
   "codemirror_mode": {
    "name": "ipython",
    "version": 3
   },
   "file_extension": ".py",
   "mimetype": "text/x-python",
   "name": "python",
   "nbconvert_exporter": "python",
   "pygments_lexer": "ipython3",
   "version": "3.9.12"
  }
 },
 "nbformat": 4,
 "nbformat_minor": 4
}
