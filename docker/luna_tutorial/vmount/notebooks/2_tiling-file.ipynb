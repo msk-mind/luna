{
 "cells": [
  {
   "cell_type": "markdown",
   "metadata": {},
   "source": [
    "# Tile Generation Tutorial (File Edition)"
   ]
  },
  {
   "cell_type": "markdown",
   "metadata": {},
   "source": [
    "Welcome to the tile generation tutorial!\n",
    "\n",
    "As a whole slide image is too large for deep learning model training, a slide is often divded into a set of small tiles, and used for training. For tile-based whole slide image analysis, generating tiles and labels is an important and laborious step. With LUNA tiling CLIs and tutorials, you can easily generate tile labels and get your data ready for downstream analysis. In this notebook, we will see how to generate tiles and labels using LUNA tiling CLIs. Here are the main steps we will review:\n",
    "\n",
    "1. Load slides\n",
    "2. Generate tiles, labels\n",
    "3. Collect tiles for model training\n",
    "\n",
    "Through out this notebook, we will use different method parameter files. Please refer to the example parameter files in the `configs` directory to follow these steps.\n"
   ]
  },
  {
   "cell_type": "code",
   "execution_count": 1,
   "metadata": {},
   "outputs": [],
   "source": [
    "import os\n",
    "HOME = os.environ['HOME']"
   ]
  },
  {
   "cell_type": "code",
   "execution_count": 2,
   "metadata": {
    "scrolled": true
   },
   "outputs": [
    {
     "name": "stdout",
     "output_type": "stream",
     "text": [
      "env: DATASET_URL=file:////home/pashaa/vmount/PRO-12-123/\n"
     ]
    }
   ],
   "source": [
    "env DATASET_URL=file:///$HOME/vmount/PRO-12-123/"
   ]
  },
  {
   "cell_type": "markdown",
   "metadata": {},
   "source": [
    "Initially, we'll walk through each CLI step manually-- then run them using the LunaCLIClient in parallel\n",
    "\n",
    "First, we generate tiles given a slide image of size 128 at 20x, and save them"
   ]
  },
  {
   "cell_type": "code",
   "execution_count": 3,
   "metadata": {},
   "outputs": [
    {
     "name": "stdout",
     "output_type": "stream",
     "text": [
      "2022-08-22 11:21:41,608 - INFO - root - Initalized logger, log file at: luna.log\n",
      "2022-08-22 11:21:44,867 - INFO - luna.common.utils - Started CLI Runner wtih <function generate_tiles at 0x7f259f988dc0>\n",
      "2022-08-22 11:21:44,869 - INFO - luna.common.utils - Validating params...\n",
      "2022-08-22 11:21:44,872 - INFO - luna.common.utils -  -> Set input_slide_image (<class 'str'>) = file:~/vmount/PRO-12-123/data/toy_data_set/01OV002-bd8cdc70-3d46-40ae-99c4-90ef77.svs\n",
      "2022-08-22 11:21:44,873 - INFO - luna.common.utils -  -> Set output_dir (<class 'str'>) = /home/pashaa/vmount/PRO-12-123/tiling/test/tiles\n",
      "2022-08-22 11:21:44,876 - INFO - luna.common.utils -  -> Set tile_size (<class 'int'>) = 128\n",
      "2022-08-22 11:21:44,877 - INFO - luna.common.utils -  -> Set requested_magnification (<class 'float'>) = 10.0\n",
      "2022-08-22 11:21:44,894 - INFO - luna.common.utils - Expanding inputs...\n",
      "2022-08-22 11:21:44,896 - INFO - luna.common.utils - Attempting to read metadata at file:~/vmount/PRO-12-123/data/toy_data_set/01OV002-bd8cdc70-3d46-40ae-99c4-90ef77.svs/metadata.yml\n",
      "2022-08-22 11:21:44,899 - WARNING - luna.common.utils - Resolving a user directory, be careful!\n",
      "2022-08-22 11:21:44,902 - INFO - luna.common.utils - Resolved input:\n",
      "2022-08-22 11:21:44,902 - INFO - luna.common.utils -  -> file:~/vmount/PRO-12-123/data/toy_data_set/01OV002-bd8cdc70-3d46-40ae-99c4-90ef77.svs\n",
      "2022-08-22 11:21:44,902 - INFO - luna.common.utils -  -> /home/pashaa/vmount/PRO-12-123/data/toy_data_set/01OV002-bd8cdc70-3d46-40ae-99c4-90ef77.svs\n",
      "2022-08-22 11:21:44,907 - INFO - luna.common.utils - Full segment key set: {}\n",
      "2022-08-22 11:21:44,909 - INFO - luna.common.utils - ------------------------------------------------------------\n",
      "2022-08-22 11:21:44,909 - INFO - luna.common.utils -  Starting transform::generate_tiles \n",
      "2022-08-22 11:21:44,909 - INFO - luna.common.utils - ------------------------------------------------------------\n",
      "2022-08-22 11:21:45,190 - INFO - generate_tiles - Slide size = [53760,54840]\n",
      "2022-08-22 11:21:45,193 - INFO - generate_tiles - Normalized magnification scale factor for 10.0x is 4.0\n",
      "2022-08-22 11:21:45,195 - INFO - generate_tiles - Requested tile size=128, tile size at full magnficiation=512\n",
      "2022-08-22 11:21:45,197 - INFO - generate_tiles - tiles x 105, tiles y 108\n",
      "2022-08-22 11:21:45,224 - INFO - generate_tiles - Number of tiles in raster: 10918\n",
      "2022-08-22 11:21:45,249 - INFO - generate_tiles -                  x_coord  y_coord  xy_extent  tile_size tile_units\n",
      "2022-08-22 11:21:45,249 - INFO - generate_tiles - address                                                           \n",
      "2022-08-22 11:21:45,249 - INFO - generate_tiles - x1_y1_z10.0          512      512        512        128         px\n",
      "2022-08-22 11:21:45,249 - INFO - generate_tiles - x1_y2_z10.0          512     1024        512        128         px\n",
      "2022-08-22 11:21:45,249 - INFO - generate_tiles - x1_y3_z10.0          512     1536        512        128         px\n",
      "2022-08-22 11:21:45,249 - INFO - generate_tiles - x1_y4_z10.0          512     2048        512        128         px\n",
      "2022-08-22 11:21:45,249 - INFO - generate_tiles - x1_y5_z10.0          512     2560        512        128         px\n",
      "2022-08-22 11:21:45,249 - INFO - generate_tiles - ...                  ...      ...        ...        ...        ...\n",
      "2022-08-22 11:21:45,249 - INFO - generate_tiles - x103_y102_z10.0    52736    52224        512        128         px\n",
      "2022-08-22 11:21:45,249 - INFO - generate_tiles - x103_y103_z10.0    52736    52736        512        128         px\n",
      "2022-08-22 11:21:45,249 - INFO - generate_tiles - x103_y104_z10.0    52736    53248        512        128         px\n",
      "2022-08-22 11:21:45,249 - INFO - generate_tiles - x103_y105_z10.0    52736    53760        512        128         px\n",
      "2022-08-22 11:21:45,249 - INFO - generate_tiles - x103_y106_z10.0    52736    54272        512        128         px\n",
      "2022-08-22 11:21:45,249 - INFO - generate_tiles - \n",
      "2022-08-22 11:21:45,249 - INFO - generate_tiles - [10918 rows x 5 columns]\n",
      "2022-08-22 11:21:45,396 - INFO - luna.common.utils - Code block 'transform::generate_tiles' took: 0.48387636999996175s\n",
      "2022-08-22 11:21:45,398 - INFO - luna.common.utils - ------------------------------------------------------------\n",
      "2022-08-22 11:21:45,398 - INFO - luna.common.utils -  Done with transform, running post-transform functions... \n",
      "2022-08-22 11:21:45,398 - INFO - luna.common.utils - ------------------------------------------------------------\n",
      "2022-08-22 11:21:45,408 - INFO - luna.common.utils - Done.\n"
     ]
    }
   ],
   "source": [
    "!generate_tiles \\\n",
    "file:~/vmount/PRO-12-123/data/toy_data_set/01OV002-bd8cdc70-3d46-40ae-99c4-90ef77.svs \\\n",
    "--tile_size 128 --requested_magnification 10 \\\n",
    "-o ~/vmount/PRO-12-123/tiling/test/tiles\n"
   ]
  },
  {
   "cell_type": "code",
   "execution_count": 4,
   "metadata": {},
   "outputs": [
    {
     "name": "stdout",
     "output_type": "stream",
     "text": [
      "2022-08-22 11:23:56,325 - INFO - root - Initalized logger, log file at: luna.log\n",
      "2022-08-22 11:23:58,171 - INFO - luna.common.utils - Started CLI Runner wtih <function detect_tissue at 0x7f4e09297310>\n",
      "2022-08-22 11:23:58,173 - INFO - luna.common.utils - Validating params...\n",
      "2022-08-22 11:23:58,174 - INFO - luna.common.utils -  -> Set input_slide_image (<class 'str'>) = /home/pashaa/vmount/PRO-12-123/data/toy_data_set/01OV002-bd8cdc70-3d46-40ae-99c4-90ef77.svs\n",
      "2022-08-22 11:23:58,175 - INFO - luna.common.utils -  -> Set input_slide_tiles (<class 'str'>) = /home/pashaa/vmount/PRO-12-123/tiling/test/tiles\n",
      "2022-08-22 11:23:58,177 - INFO - luna.common.utils -  -> Set requested_magnification (<class 'float'>) = 2.0\n",
      "2022-08-22 11:23:58,178 - INFO - luna.common.utils -  -> Set filter_query (<class 'str'>) = otsu_score > 0.1\n",
      "2022-08-22 11:23:58,180 - INFO - luna.common.utils -  -> Set output_dir (<class 'str'>) = /home/pashaa/vmount/PRO-12-123/tiling/test/detect\n",
      "2022-08-22 11:23:58,181 - INFO - luna.common.utils -  -> Set num_cores (<class 'int'>) = 4\n",
      "2022-08-22 11:23:58,186 - INFO - luna.common.utils - Expanding inputs...\n",
      "2022-08-22 11:23:58,187 - INFO - luna.common.utils - Attempting to read metadata at /home/pashaa/vmount/PRO-12-123/data/toy_data_set/01OV002-bd8cdc70-3d46-40ae-99c4-90ef77.svs/metadata.yml\n",
      "2022-08-22 11:23:58,188 - INFO - luna.common.utils - Attempting to read metadata at /home/pashaa/vmount/PRO-12-123/tiling/test/tiles/metadata.yml\n",
      "2022-08-22 11:23:58,194 - INFO - luna.common.utils - Expanded input:\n",
      "2022-08-22 11:23:58,194 - INFO - luna.common.utils -  -> /home/pashaa/vmount/PRO-12-123/tiling/test/tiles\n",
      "2022-08-22 11:23:58,194 - INFO - luna.common.utils -  -> /home/pashaa/vmount/PRO-12-123/tiling/test/tiles/01OV002-bd8cdc70-3d46-40ae-99c4-90ef77.tiles.parquet\n",
      "2022-08-22 11:23:58,196 - INFO - luna.common.utils - Found segment keys: {'slide_id': '01OV002-bd8cdc70-3d46-40ae-99c4-90ef77'}\n",
      "2022-08-22 11:23:58,198 - INFO - luna.common.utils - Resolved input:\n",
      "2022-08-22 11:23:58,198 - INFO - luna.common.utils -  -> /home/pashaa/vmount/PRO-12-123/data/toy_data_set/01OV002-bd8cdc70-3d46-40ae-99c4-90ef77.svs\n",
      "2022-08-22 11:23:58,198 - INFO - luna.common.utils -  -> /home/pashaa/vmount/PRO-12-123/data/toy_data_set/01OV002-bd8cdc70-3d46-40ae-99c4-90ef77.svs\n",
      "2022-08-22 11:23:58,200 - INFO - luna.common.utils - Resolved input:\n",
      "2022-08-22 11:23:58,200 - INFO - luna.common.utils -  -> /home/pashaa/vmount/PRO-12-123/tiling/test/tiles/01OV002-bd8cdc70-3d46-40ae-99c4-90ef77.tiles.parquet\n",
      "2022-08-22 11:23:58,200 - INFO - luna.common.utils -  -> /home/pashaa/vmount/PRO-12-123/tiling/test/tiles/01OV002-bd8cdc70-3d46-40ae-99c4-90ef77.tiles.parquet\n",
      "2022-08-22 11:23:58,202 - INFO - luna.common.utils - Full segment key set: {'slide_id': '01OV002-bd8cdc70-3d46-40ae-99c4-90ef77'}\n",
      "2022-08-22 11:23:58,203 - INFO - luna.common.utils - ------------------------------------------------------------\n",
      "2022-08-22 11:23:58,203 - INFO - luna.common.utils -  Starting transform::detect_tissue \n",
      "2022-08-22 11:23:58,203 - INFO - luna.common.utils - ------------------------------------------------------------\n",
      "2022-08-22 11:23:58,417 - INFO - detect_tissue - Slide dimensions (53760, 54840)\n",
      "2022-08-22 11:23:58,419 - INFO - detect_tissue - Thumbnail scale factor: 20.0\n",
      "2022-08-22 11:23:59,839 - INFO - detect_tissue - Sample array size: (2742, 2688, 3)\n",
      "2022-08-22 11:24:13,608 - INFO - detect_tissue - Starting otsu thresholding, threshold=0.7300508425245098\n",
      "100%|█████████████████████████████████████| 10918/10918 [02:23<00:00, 75.83it/s]\n",
      "2022-08-22 11:26:39,439 - INFO - detect_tissue - Filtering based on query: otsu_score > 0.1\n",
      "2022-08-22 11:26:39,454 - INFO - detect_tissue -                x_coord  y_coord  xy_extent  tile_size tile_units  otsu_score\n",
      "2022-08-22 11:26:39,454 - INFO - detect_tissue - address                                                                     \n",
      "2022-08-22 11:26:39,454 - INFO - detect_tissue - x3_y81_z10.0      1536    41472        512        128         px        0.12\n",
      "2022-08-22 11:26:39,454 - INFO - detect_tissue - x3_y84_z10.0      1536    43008        512        128         px        0.16\n",
      "2022-08-22 11:26:39,454 - INFO - detect_tissue - x3_y85_z10.0      1536    43520        512        128         px        0.32\n",
      "2022-08-22 11:26:39,454 - INFO - detect_tissue - x3_y86_z10.0      1536    44032        512        128         px        0.64\n",
      "2022-08-22 11:26:39,454 - INFO - detect_tissue - x3_y87_z10.0      1536    44544        512        128         px        0.43\n",
      "2022-08-22 11:26:39,454 - INFO - detect_tissue - ...                ...      ...        ...        ...        ...         ...\n",
      "2022-08-22 11:26:39,454 - INFO - detect_tissue - x93_y65_z10.0    47616    33280        512        128         px        0.32\n",
      "2022-08-22 11:26:39,454 - INFO - detect_tissue - x93_y66_z10.0    47616    33792        512        128         px        0.35\n",
      "2022-08-22 11:26:39,454 - INFO - detect_tissue - x93_y67_z10.0    47616    34304        512        128         px        0.58\n",
      "2022-08-22 11:26:39,454 - INFO - detect_tissue - x93_y68_z10.0    47616    34816        512        128         px        0.68\n",
      "2022-08-22 11:26:39,454 - INFO - detect_tissue - x93_y69_z10.0    47616    35328        512        128         px        0.33\n",
      "2022-08-22 11:26:39,454 - INFO - detect_tissue - \n",
      "2022-08-22 11:26:39,454 - INFO - detect_tissue - [5089 rows x 6 columns]\n",
      "2022-08-22 11:26:39,529 - INFO - luna.common.utils - Code block 'transform::detect_tissue' took: 161.4490522179999s\n",
      "2022-08-22 11:26:39,531 - INFO - luna.common.utils - ------------------------------------------------------------\n",
      "2022-08-22 11:26:39,531 - INFO - luna.common.utils -  Done with transform, running post-transform functions... \n",
      "2022-08-22 11:26:39,531 - INFO - luna.common.utils - ------------------------------------------------------------\n",
      "2022-08-22 11:26:39,541 - INFO - luna.common.utils - Done.\n"
     ]
    }
   ],
   "source": [
    "!detect_tissue \\\n",
    "~/vmount/PRO-12-123/data/toy_data_set/01OV002-bd8cdc70-3d46-40ae-99c4-90ef77.svs \\\n",
    "~/vmount/PRO-12-123/tiling/test/tiles \\\n",
    "--requested_magnification 2 \\\n",
    "--filter_query \"otsu_score > 0.1\" \\\n",
    "-o ~/vmount/PRO-12-123/tiling/test/detect"
   ]
  },
  {
   "cell_type": "code",
   "execution_count": 5,
   "metadata": {},
   "outputs": [
    {
     "name": "stdout",
     "output_type": "stream",
     "text": [
      "2022-08-22 11:42:37,912 - INFO - root - Initalized logger, log file at: luna.log\n",
      "2022-08-22 11:42:37,916 - INFO - luna.common.utils - Started CLI Runner wtih <function generate_tile_labels at 0x7fe4784541f0>\n",
      "2022-08-22 11:42:37,918 - INFO - luna.common.utils - Validating params...\n",
      "2022-08-22 11:42:37,919 - INFO - luna.common.utils -  -> Set input_slide_annotation_dataset (<class 'str'>) = ../PRO-12-123/data/toy_data_set/table/ANNOTATIONS\n",
      "2022-08-22 11:42:37,920 - INFO - luna.common.utils -  -> Set input_slide_tiles (<class 'str'>) = /home/pashaa/vmount/PRO-12-123/tiling/test/detect\n",
      "2022-08-22 11:42:37,922 - INFO - luna.common.utils -  -> Set output_dir (<class 'str'>) = /home/pashaa/vmount/PRO-12-123/tiling/test/label\n",
      "2022-08-22 11:42:37,925 - INFO - luna.common.utils - Expanding inputs...\n",
      "2022-08-22 11:42:37,927 - INFO - luna.common.utils - Attempting to read metadata at ../PRO-12-123/data/toy_data_set/table/ANNOTATIONS/metadata.yml\n",
      "2022-08-22 11:42:37,931 - INFO - luna.common.utils - Expanded input:\n",
      "2022-08-22 11:42:37,931 - INFO - luna.common.utils -  -> ../PRO-12-123/data/toy_data_set/table/ANNOTATIONS\n",
      "2022-08-22 11:42:37,931 - INFO - luna.common.utils -  -> ../PRO-12-123/data/toy_data_set/table/ANNOTATIONS/slide_annotation_dataset_TCGA collection_ov_regional.parquet\n",
      "2022-08-22 11:42:37,932 - INFO - luna.common.utils - Found segment keys: {'dsa_collection_uuid': '63035f7a18325e4c6e929591'}\n",
      "2022-08-22 11:42:37,934 - INFO - luna.common.utils - Attempting to read metadata at /home/pashaa/vmount/PRO-12-123/tiling/test/detect/metadata.yml\n",
      "2022-08-22 11:42:37,939 - INFO - luna.common.utils - Expanded input:\n",
      "2022-08-22 11:42:37,939 - INFO - luna.common.utils -  -> /home/pashaa/vmount/PRO-12-123/tiling/test/detect\n",
      "2022-08-22 11:42:37,939 - INFO - luna.common.utils -  -> /home/pashaa/vmount/PRO-12-123/tiling/test/detect/01OV002-bd8cdc70-3d46-40ae-99c4-90ef77-filtered.tiles.parquet\n",
      "2022-08-22 11:42:37,940 - INFO - luna.common.utils - Found segment keys: {'slide_id': '01OV002-bd8cdc70-3d46-40ae-99c4-90ef77'}\n",
      "2022-08-22 11:42:37,941 - INFO - luna.common.utils - Resolved input:\n",
      "2022-08-22 11:42:37,941 - INFO - luna.common.utils -  -> ../PRO-12-123/data/toy_data_set/table/ANNOTATIONS/slide_annotation_dataset_TCGA collection_ov_regional.parquet\n",
      "2022-08-22 11:42:37,941 - INFO - luna.common.utils -  -> /home/pashaa/vmount/PRO-12-123/data/toy_data_set/table/ANNOTATIONS/slide_annotation_dataset_TCGA collection_ov_regional.parquet\n",
      "2022-08-22 11:42:37,942 - INFO - luna.common.utils - Resolved input:\n",
      "2022-08-22 11:42:37,942 - INFO - luna.common.utils -  -> /home/pashaa/vmount/PRO-12-123/tiling/test/detect/01OV002-bd8cdc70-3d46-40ae-99c4-90ef77-filtered.tiles.parquet\n",
      "2022-08-22 11:42:37,942 - INFO - luna.common.utils -  -> /home/pashaa/vmount/PRO-12-123/tiling/test/detect/01OV002-bd8cdc70-3d46-40ae-99c4-90ef77-filtered.tiles.parquet\n",
      "2022-08-22 11:42:37,945 - INFO - luna.common.utils - Full segment key set: {'dsa_collection_uuid': '63035f7a18325e4c6e929591', 'slide_id': '01OV002-bd8cdc70-3d46-40ae-99c4-90ef77'}\n",
      "2022-08-22 11:42:37,946 - INFO - luna.common.utils - ------------------------------------------------------------\n",
      "2022-08-22 11:42:37,946 - INFO - luna.common.utils -  Starting transform::generate_tile_labels \n",
      "2022-08-22 11:42:37,946 - INFO - luna.common.utils - ------------------------------------------------------------\n",
      "2022-08-22 11:42:37,948 - INFO - generate_tile_labels - slide_id=01OV002-bd8cdc70-3d46-40ae-99c4-90ef77\n",
      "../PRO-12-123/data/toy_data_set/table/ANNOTATIONS/01OV002-bd8cdc70-3d46-40ae-99c4-90ef77.annotation.geojson TCGA collection ov_regional\n",
      "100%|█████████████████████████████████████| 5089/5089 [00:01<00:00, 4823.20it/s]\n",
      "2022-08-22 11:42:39,187 - INFO - generate_tile_labels -                x_coord  y_coord  ...  regional_label  intersection_area\n",
      "2022-08-22 11:42:39,187 - INFO - generate_tile_labels - address                          ...                                   \n",
      "2022-08-22 11:42:39,187 - INFO - generate_tile_labels - x26_y56_z10.0    13312    28672  ...          stroma           0.053094\n",
      "2022-08-22 11:42:39,187 - INFO - generate_tile_labels - x26_y57_z10.0    13312    29184  ...          stroma           0.341454\n",
      "2022-08-22 11:42:39,187 - INFO - generate_tile_labels - x27_y56_z10.0    13824    28672  ...          stroma           0.655530\n",
      "2022-08-22 11:42:39,187 - INFO - generate_tile_labels - x27_y57_z10.0    13824    29184  ...          stroma           0.898266\n",
      "2022-08-22 11:42:39,187 - INFO - generate_tile_labels - x28_y55_z10.0    14336    28160  ...          stroma           0.258913\n",
      "2022-08-22 11:42:39,187 - INFO - generate_tile_labels - ...                ...      ...  ...             ...                ...\n",
      "2022-08-22 11:42:39,187 - INFO - generate_tile_labels - x65_y72_z10.0    33280    36864  ...           tumor           0.419049\n",
      "2022-08-22 11:42:39,187 - INFO - generate_tile_labels - x65_y73_z10.0    33280    37376  ...           tumor           0.553953\n",
      "2022-08-22 11:42:39,187 - INFO - generate_tile_labels - x65_y74_z10.0    33280    37888  ...           tumor           0.102413\n",
      "2022-08-22 11:42:39,187 - INFO - generate_tile_labels - x66_y70_z10.0    33792    35840  ...           tumor           0.187448\n",
      "2022-08-22 11:42:39,187 - INFO - generate_tile_labels - x66_y71_z10.0    33792    36352  ...           tumor           0.062544\n",
      "2022-08-22 11:42:39,187 - INFO - generate_tile_labels - \n",
      "2022-08-22 11:42:39,187 - INFO - generate_tile_labels - [170 rows x 8 columns]\n",
      "2022-08-22 11:42:39,216 - INFO - luna.common.utils - Code block 'transform::generate_tile_labels' took: 1.267807669999911s\n",
      "2022-08-22 11:42:39,217 - INFO - luna.common.utils - ------------------------------------------------------------\n",
      "2022-08-22 11:42:39,217 - INFO - luna.common.utils -  Done with transform, running post-transform functions... \n",
      "2022-08-22 11:42:39,217 - INFO - luna.common.utils - ------------------------------------------------------------\n",
      "2022-08-22 11:42:39,221 - INFO - luna.common.utils - Done.\n"
     ]
    }
   ],
   "source": [
    "!label_tiles \\\n",
    "../PRO-12-123/data/toy_data_set/table/ANNOTATIONS ~/vmount/PRO-12-123/tiling/test/detect \\\n",
    "-o ~/vmount/PRO-12-123/tiling/test/label"
   ]
  },
  {
   "cell_type": "code",
   "execution_count": 6,
   "metadata": {
    "scrolled": false
   },
   "outputs": [
    {
     "name": "stdout",
     "output_type": "stream",
     "text": [
      "2022-08-22 11:42:55,310 - INFO - root - Initalized logger, log file at: luna.log\n",
      "2022-08-22 11:42:57,188 - INFO - luna.common.utils - Started CLI Runner wtih <function save_tiles at 0x7f5279659dc0>\n",
      "2022-08-22 11:42:57,190 - INFO - luna.common.utils - Validating params...\n",
      "2022-08-22 11:42:57,191 - INFO - luna.common.utils -  -> Set input_slide_image (<class 'str'>) = /home/pashaa/vmount/PRO-12-123/data/toy_data_set/01OV002-bd8cdc70-3d46-40ae-99c4-90ef77.svs\n",
      "2022-08-22 11:42:57,192 - INFO - luna.common.utils -  -> Set input_slide_tiles (<class 'str'>) = /home/pashaa/vmount/PRO-12-123/tiling/test/label\n",
      "2022-08-22 11:42:57,193 - INFO - luna.common.utils -  -> Set output_dir (<class 'str'>) = /home/pashaa/vmount/PRO-12-123/tiling/test/saved_tiles\n",
      "2022-08-22 11:42:57,196 - INFO - luna.common.utils -  -> Set num_cores (<class 'int'>) = 4\n",
      "2022-08-22 11:42:57,197 - INFO - luna.common.utils -  -> Set batch_size (<class 'int'>) = 200\n",
      "2022-08-22 11:42:57,201 - INFO - luna.common.utils - Expanding inputs...\n",
      "2022-08-22 11:42:57,202 - INFO - luna.common.utils - Attempting to read metadata at /home/pashaa/vmount/PRO-12-123/data/toy_data_set/01OV002-bd8cdc70-3d46-40ae-99c4-90ef77.svs/metadata.yml\n",
      "2022-08-22 11:42:57,204 - INFO - luna.common.utils - Attempting to read metadata at /home/pashaa/vmount/PRO-12-123/tiling/test/label/metadata.yml\n",
      "2022-08-22 11:42:57,210 - INFO - luna.common.utils - Expanded input:\n",
      "2022-08-22 11:42:57,210 - INFO - luna.common.utils -  -> /home/pashaa/vmount/PRO-12-123/tiling/test/label\n",
      "2022-08-22 11:42:57,210 - INFO - luna.common.utils -  -> /home/pashaa/vmount/PRO-12-123/tiling/test/label/01OV002-bd8cdc70-3d46-40ae-99c4-90ef77.regional_label.tiles.parquet\n",
      "2022-08-22 11:42:57,214 - INFO - luna.common.utils - Found segment keys: {'dsa_collection_uuid': '63035f7a18325e4c6e929591', 'slide_id': '01OV002-bd8cdc70-3d46-40ae-99c4-90ef77'}\n",
      "2022-08-22 11:42:57,216 - INFO - luna.common.utils - Resolved input:\n",
      "2022-08-22 11:42:57,216 - INFO - luna.common.utils -  -> /home/pashaa/vmount/PRO-12-123/data/toy_data_set/01OV002-bd8cdc70-3d46-40ae-99c4-90ef77.svs\n",
      "2022-08-22 11:42:57,216 - INFO - luna.common.utils -  -> /home/pashaa/vmount/PRO-12-123/data/toy_data_set/01OV002-bd8cdc70-3d46-40ae-99c4-90ef77.svs\n",
      "2022-08-22 11:42:57,217 - INFO - luna.common.utils - Resolved input:\n",
      "2022-08-22 11:42:57,217 - INFO - luna.common.utils -  -> /home/pashaa/vmount/PRO-12-123/tiling/test/label/01OV002-bd8cdc70-3d46-40ae-99c4-90ef77.regional_label.tiles.parquet\n",
      "2022-08-22 11:42:57,217 - INFO - luna.common.utils -  -> /home/pashaa/vmount/PRO-12-123/tiling/test/label/01OV002-bd8cdc70-3d46-40ae-99c4-90ef77.regional_label.tiles.parquet\n",
      "2022-08-22 11:42:57,219 - INFO - luna.common.utils - Full segment key set: {'dsa_collection_uuid': '63035f7a18325e4c6e929591', 'slide_id': '01OV002-bd8cdc70-3d46-40ae-99c4-90ef77'}\n",
      "2022-08-22 11:42:57,220 - INFO - luna.common.utils - ------------------------------------------------------------\n",
      "2022-08-22 11:42:57,220 - INFO - luna.common.utils -  Starting transform::save_tiles \n",
      "2022-08-22 11:42:57,220 - INFO - luna.common.utils - ------------------------------------------------------------\n",
      "2022-08-22 11:42:57,310 - INFO - generate_tiles - Now generating tiles with num_cores=4 and batch_size=200!\n",
      "100%|███████████████████████████████████████████| 26/26 [00:51<00:00,  1.98s/it]\n",
      "2022-08-22 11:43:50,168 - INFO - generate_tiles -                x_coord  ...                                         tile_store\n",
      "2022-08-22 11:43:50,168 - INFO - generate_tiles - address                 ...                                                   \n",
      "2022-08-22 11:43:50,168 - INFO - generate_tiles - x3_y81_z10.0      1536  ...  /home/pashaa/vmount/PRO-12-123/tiling/test/sav...\n",
      "2022-08-22 11:43:50,168 - INFO - generate_tiles - x3_y84_z10.0      1536  ...  /home/pashaa/vmount/PRO-12-123/tiling/test/sav...\n",
      "2022-08-22 11:43:50,168 - INFO - generate_tiles - x3_y85_z10.0      1536  ...  /home/pashaa/vmount/PRO-12-123/tiling/test/sav...\n",
      "2022-08-22 11:43:50,168 - INFO - generate_tiles - x3_y86_z10.0      1536  ...  /home/pashaa/vmount/PRO-12-123/tiling/test/sav...\n",
      "2022-08-22 11:43:50,168 - INFO - generate_tiles - x3_y87_z10.0      1536  ...  /home/pashaa/vmount/PRO-12-123/tiling/test/sav...\n",
      "2022-08-22 11:43:50,168 - INFO - generate_tiles - ...                ...  ...                                                ...\n",
      "2022-08-22 11:43:50,168 - INFO - generate_tiles - x93_y65_z10.0    47616  ...  /home/pashaa/vmount/PRO-12-123/tiling/test/sav...\n",
      "2022-08-22 11:43:50,168 - INFO - generate_tiles - x93_y66_z10.0    47616  ...  /home/pashaa/vmount/PRO-12-123/tiling/test/sav...\n",
      "2022-08-22 11:43:50,168 - INFO - generate_tiles - x93_y67_z10.0    47616  ...  /home/pashaa/vmount/PRO-12-123/tiling/test/sav...\n",
      "2022-08-22 11:43:50,168 - INFO - generate_tiles - x93_y68_z10.0    47616  ...  /home/pashaa/vmount/PRO-12-123/tiling/test/sav...\n",
      "2022-08-22 11:43:50,168 - INFO - generate_tiles - x93_y69_z10.0    47616  ...  /home/pashaa/vmount/PRO-12-123/tiling/test/sav...\n",
      "2022-08-22 11:43:50,168 - INFO - generate_tiles - \n",
      "2022-08-22 11:43:50,168 - INFO - generate_tiles - [5089 rows x 9 columns]\n",
      "2022-08-22 11:43:50,219 - INFO - luna.common.utils - Code block 'transform::save_tiles' took: 53.03938359499989s\n",
      "2022-08-22 11:43:50,221 - INFO - luna.common.utils - ------------------------------------------------------------\n",
      "2022-08-22 11:43:50,221 - INFO - luna.common.utils -  Done with transform, running post-transform functions... \n",
      "2022-08-22 11:43:50,221 - INFO - luna.common.utils - ------------------------------------------------------------\n",
      "2022-08-22 11:43:50,228 - INFO - luna.common.utils - Adding feature segment /home/pashaa/vmount/PRO-12-123/tiling/test/saved_tiles/01OV002-bd8cdc70-3d46-40ae-99c4-90ef77.tiles.parquet to PRO_TILES\n",
      "2022-08-22 11:43:50,229 - INFO - luna.common.utils - Found dataset URL = file:////home/pashaa/vmount/PRO-12-123/\n",
      "2022-08-22 11:43:50,230 - INFO - luna.common.utils - Adding /home/pashaa/vmount/PRO-12-123/tiling/test/saved_tiles/01OV002-bd8cdc70-3d46-40ae-99c4-90ef77.tiles.parquet to PRO_TILES via file:////home/pashaa/vmount/PRO-12-123/\n",
      "2022-08-22 11:43:50,231 - INFO - luna.common.utils - SEGMENT_ID=63035f7a18325e4c6e929591-01OV002-bd8cdc70-3d46-40ae-99c4-90ef77\n",
      "2022-08-22 11:43:50,232 - INFO - luna.common.utils - Writing to: //home/pashaa/vmount/PRO-12-123/datasets/PRO_TILES/segments/63035f7a18325e4c6e929591-01OV002-bd8cdc70-3d46-40ae-99c4-90ef77\n",
      "2022-08-22 11:43:50,306 - INFO - luna.common.utils - Done.\n"
     ]
    }
   ],
   "source": [
    "!save_tiles \\\n",
    "~/vmount/PRO-12-123/data/toy_data_set/01OV002-bd8cdc70-3d46-40ae-99c4-90ef77.svs \\\n",
    "~/vmount/PRO-12-123/tiling/test/label \\\n",
    "--num_cores 4 --batch_size 200 --dataset_id PRO_TILES \\\n",
    "-o ~/vmount/PRO-12-123/tiling/test/saved_tiles"
   ]
  },
  {
   "cell_type": "code",
   "execution_count": 7,
   "metadata": {
    "scrolled": false
   },
   "outputs": [],
   "source": [
    "from luna.common.utils import LunaCliClient\n",
    "\n",
    "def pipeline (slide_id, input_slide, input_annotations):\n",
    "    client = LunaCliClient(\"~/vmount/PRO-12-123/2_tiling-file\", slide_id)\n",
    "    \n",
    "    client.bootstrap(\"slide\", input_slide)\n",
    "    client.bootstrap(\"annotations\", input_annotations)\n",
    "    \n",
    "    client.configure(\"generate_tiles\", \"slide\", \n",
    "        tile_size=128, \n",
    "        requested_magnification=10\n",
    "    ).run(\"source_tiles\")\n",
    "\n",
    "    client.configure(\"detect_tissue\", \"slide\", \"source_tiles\",\n",
    "        filter_query=\"otsu_score > 0.1\", \n",
    "        requested_magnification=2\n",
    "    ).run(\"detected_tiles\")\n",
    "\n",
    "    client.configure(\"label_tiles\", \"annotations\", \"detected_tiles\").run(\"labled_tiles\")\n",
    "\n",
    "    client.configure( \"save_tiles\", \"slide\", \"labled_tiles\",\n",
    "        num_cores=4, batch_size=200, dataset_id='PRO_TILES_LABELED'\n",
    "    ).run(\"saved_tiles\")"
   ]
  },
  {
   "cell_type": "code",
   "execution_count": 8,
   "metadata": {
    "scrolled": true
   },
   "outputs": [
    {
     "name": "stdout",
     "output_type": "stream",
     "text": [
      "01OV008-308ad404-7079-4ff8-8232-12ee2e\n",
      "generate_tiles file:/home/pashaa/vmount/PRO-12-123/data/toy_data_set/01OV008-308ad404-7079-4ff8-8232-12ee2e.svs --tile_size 128 --requested_magnification 10\n",
      "['generate_tiles', PosixPath('file:/home/pashaa/vmount/PRO-12-123/data/toy_data_set/01OV008-308ad404-7079-4ff8-8232-12ee2e.svs'), '--tile_size', '128', '--requested_magnification', '10', '-o', '/home/pashaa/vmount/PRO-12-123/2_tiling-file/01OV008-308ad404-7079-4ff8-8232-12ee2e/source_tiles']\n",
      "01OV002-ed65cf94-8bc6-492b-9149-adc16f\n",
      "generate_tiles file:/home/pashaa/vmount/PRO-12-123/data/toy_data_set/01OV002-ed65cf94-8bc6-492b-9149-adc16f.svs --tile_size 128 --requested_magnification 10\n",
      "['generate_tiles', PosixPath('file:/home/pashaa/vmount/PRO-12-123/data/toy_data_set/01OV002-ed65cf94-8bc6-492b-9149-adc16f.svs'), '--tile_size', '128', '--requested_magnification', '10', '-o', '/home/pashaa/vmount/PRO-12-123/2_tiling-file/01OV002-ed65cf94-8bc6-492b-9149-adc16f/source_tiles']\n",
      "01OV002-bd8cdc70-3d46-40ae-99c4-90ef77\n",
      "generate_tiles file:/home/pashaa/vmount/PRO-12-123/data/toy_data_set/01OV002-bd8cdc70-3d46-40ae-99c4-90ef77.svs --tile_size 128 --requested_magnification 10\n",
      "['generate_tiles', PosixPath('file:/home/pashaa/vmount/PRO-12-123/data/toy_data_set/01OV002-bd8cdc70-3d46-40ae-99c4-90ef77.svs'), '--tile_size', '128', '--requested_magnification', '10', '-o', '/home/pashaa/vmount/PRO-12-123/2_tiling-file/01OV002-bd8cdc70-3d46-40ae-99c4-90ef77/source_tiles']\n",
      "01OV007-9b90eb78-2f50-4aeb-b010-d642f9\n",
      "generate_tiles file:/home/pashaa/vmount/PRO-12-123/data/toy_data_set/01OV007-9b90eb78-2f50-4aeb-b010-d642f9.svs --tile_size 128 --requested_magnification 10\n",
      "['generate_tiles', PosixPath('file:/home/pashaa/vmount/PRO-12-123/data/toy_data_set/01OV007-9b90eb78-2f50-4aeb-b010-d642f9.svs'), '--tile_size', '128', '--requested_magnification', '10', '-o', '/home/pashaa/vmount/PRO-12-123/2_tiling-file/01OV007-9b90eb78-2f50-4aeb-b010-d642f9/source_tiles']\n",
      "01OV008-7579323e-2fae-43a9-b00f-a15c28\n",
      "generate_tiles file:/home/pashaa/vmount/PRO-12-123/data/toy_data_set/01OV008-7579323e-2fae-43a9-b00f-a15c28.svs --tile_size 128 --requested_magnification 10\n",
      "['generate_tiles', PosixPath('file:/home/pashaa/vmount/PRO-12-123/data/toy_data_set/01OV008-7579323e-2fae-43a9-b00f-a15c28.svs'), '--tile_size', '128', '--requested_magnification', '10', '-o', '/home/pashaa/vmount/PRO-12-123/2_tiling-file/01OV008-7579323e-2fae-43a9-b00f-a15c28/source_tiles']\n"
     ]
    },
    {
     "name": "stderr",
     "output_type": "stream",
     "text": [
      "2022-08-22 11:46:29,576 - INFO - root - Initalized logger, log file at: luna.log\n",
      "2022-08-22 11:46:29,582 - INFO - root - Initalized logger, log file at: luna.log\n",
      "2022-08-22 11:46:29,600 - INFO - root - Initalized logger, log file at: luna.log\n",
      "2022-08-22 11:46:29,630 - INFO - root - Initalized logger, log file at: luna.log\n",
      "2022-08-22 11:46:29,651 - INFO - root - Initalized logger, log file at: luna.log\n",
      "2022-08-22 11:46:31,759 - INFO - luna.common.utils - Started CLI Runner wtih <function generate_tiles at 0x7f72db216d30>\n",
      "2022-08-22 11:46:31,761 - INFO - luna.common.utils - Validating params...\n",
      "2022-08-22 11:46:31,763 - INFO - luna.common.utils -  -> Set input_slide_image (<class 'str'>) = file:/home/pashaa/vmount/PRO-12-123/data/toy_data_set/01OV002-bd8cdc70-3d46-40ae-99c4-90ef77.svs\n",
      "2022-08-22 11:46:31,765 - INFO - luna.common.utils -  -> Set output_dir (<class 'str'>) = /home/pashaa/vmount/PRO-12-123/2_tiling-file/01OV002-bd8cdc70-3d46-40ae-99c4-90ef77/source_tiles\n",
      "2022-08-22 11:46:31,766 - INFO - luna.common.utils -  -> Set tile_size (<class 'int'>) = 128\n",
      "2022-08-22 11:46:31,768 - INFO - luna.common.utils -  -> Set requested_magnification (<class 'float'>) = 10.0\n",
      "2022-08-22 11:46:31,770 - INFO - luna.common.utils - Started CLI Runner wtih <function generate_tiles at 0x7fb81ecc5d30>\n",
      "2022-08-22 11:46:31,772 - INFO - luna.common.utils - Validating params...\n",
      "2022-08-22 11:46:31,775 - INFO - luna.common.utils -  -> Set input_slide_image (<class 'str'>) = file:/home/pashaa/vmount/PRO-12-123/data/toy_data_set/01OV002-ed65cf94-8bc6-492b-9149-adc16f.svs\n",
      "2022-08-22 11:46:31,777 - INFO - luna.common.utils -  -> Set output_dir (<class 'str'>) = /home/pashaa/vmount/PRO-12-123/2_tiling-file/01OV002-ed65cf94-8bc6-492b-9149-adc16f/source_tiles\n",
      "2022-08-22 11:46:31,780 - INFO - luna.common.utils -  -> Set tile_size (<class 'int'>) = 128\n",
      "2022-08-22 11:46:31,781 - INFO - luna.common.utils - Expanding inputs...\n",
      "2022-08-22 11:46:31,784 - INFO - luna.common.utils -  -> Set requested_magnification (<class 'float'>) = 10.0\n",
      "2022-08-22 11:46:31,787 - INFO - luna.common.utils - Attempting to read metadata at file:/home/pashaa/vmount/PRO-12-123/data/toy_data_set/01OV002-bd8cdc70-3d46-40ae-99c4-90ef77.svs/metadata.yml\n",
      "2022-08-22 11:46:31,791 - INFO - luna.common.utils - Started CLI Runner wtih <function generate_tiles at 0x7f233b9a1d30>\n",
      "2022-08-22 11:46:31,791 - INFO - luna.common.utils - Resolved input:\n",
      "2022-08-22 11:46:31,791 - INFO - luna.common.utils -  -> file:/home/pashaa/vmount/PRO-12-123/data/toy_data_set/01OV002-bd8cdc70-3d46-40ae-99c4-90ef77.svs\n",
      "2022-08-22 11:46:31,791 - INFO - luna.common.utils -  -> /home/pashaa/vmount/PRO-12-123/data/toy_data_set/01OV002-bd8cdc70-3d46-40ae-99c4-90ef77.svs\n",
      "2022-08-22 11:46:31,793 - INFO - luna.common.utils - Validating params...\n",
      "2022-08-22 11:46:31,795 - INFO - luna.common.utils -  -> Set input_slide_image (<class 'str'>) = file:/home/pashaa/vmount/PRO-12-123/data/toy_data_set/01OV008-308ad404-7079-4ff8-8232-12ee2e.svs\n",
      "2022-08-22 11:46:31,796 - INFO - luna.common.utils - Full segment key set: {}\n",
      "2022-08-22 11:46:31,796 - INFO - luna.common.utils - Expanding inputs...\n",
      "2022-08-22 11:46:31,798 - INFO - luna.common.utils - ------------------------------------------------------------\n",
      "2022-08-22 11:46:31,798 - INFO - luna.common.utils -  Starting transform::generate_tiles \n",
      "2022-08-22 11:46:31,798 - INFO - luna.common.utils - ------------------------------------------------------------\n",
      "2022-08-22 11:46:31,800 - INFO - luna.common.utils - Attempting to read metadata at file:/home/pashaa/vmount/PRO-12-123/data/toy_data_set/01OV002-ed65cf94-8bc6-492b-9149-adc16f.svs/metadata.yml\n",
      "2022-08-22 11:46:31,802 - INFO - luna.common.utils -  -> Set output_dir (<class 'str'>) = /home/pashaa/vmount/PRO-12-123/2_tiling-file/01OV008-308ad404-7079-4ff8-8232-12ee2e/source_tiles\n",
      "2022-08-22 11:46:31,806 - INFO - luna.common.utils - Resolved input:\n",
      "2022-08-22 11:46:31,806 - INFO - luna.common.utils -  -> file:/home/pashaa/vmount/PRO-12-123/data/toy_data_set/01OV002-ed65cf94-8bc6-492b-9149-adc16f.svs\n",
      "2022-08-22 11:46:31,806 - INFO - luna.common.utils -  -> /home/pashaa/vmount/PRO-12-123/data/toy_data_set/01OV002-ed65cf94-8bc6-492b-9149-adc16f.svs\n",
      "2022-08-22 11:46:31,807 - INFO - luna.common.utils -  -> Set tile_size (<class 'int'>) = 128\n",
      "2022-08-22 11:46:31,809 - INFO - luna.common.utils -  -> Set requested_magnification (<class 'float'>) = 10.0\n",
      "2022-08-22 11:46:31,812 - INFO - luna.common.utils - Full segment key set: {}\n",
      "2022-08-22 11:46:31,816 - INFO - luna.common.utils - ------------------------------------------------------------\n",
      "2022-08-22 11:46:31,816 - INFO - luna.common.utils -  Starting transform::generate_tiles \n",
      "2022-08-22 11:46:31,816 - INFO - luna.common.utils - ------------------------------------------------------------\n",
      "2022-08-22 11:46:31,830 - INFO - luna.common.utils - Expanding inputs...\n",
      "2022-08-22 11:46:31,832 - INFO - luna.common.utils - Attempting to read metadata at file:/home/pashaa/vmount/PRO-12-123/data/toy_data_set/01OV008-308ad404-7079-4ff8-8232-12ee2e.svs/metadata.yml\n",
      "2022-08-22 11:46:31,836 - INFO - luna.common.utils - Resolved input:\n",
      "2022-08-22 11:46:31,836 - INFO - luna.common.utils -  -> file:/home/pashaa/vmount/PRO-12-123/data/toy_data_set/01OV008-308ad404-7079-4ff8-8232-12ee2e.svs\n",
      "2022-08-22 11:46:31,836 - INFO - luna.common.utils -  -> /home/pashaa/vmount/PRO-12-123/data/toy_data_set/01OV008-308ad404-7079-4ff8-8232-12ee2e.svs\n",
      "2022-08-22 11:46:31,837 - INFO - luna.common.utils - Full segment key set: {}\n",
      "2022-08-22 11:46:31,840 - INFO - luna.common.utils - ------------------------------------------------------------\n",
      "2022-08-22 11:46:31,840 - INFO - luna.common.utils -  Starting transform::generate_tiles \n",
      "2022-08-22 11:46:31,840 - INFO - luna.common.utils - ------------------------------------------------------------\n",
      "2022-08-22 11:46:31,842 - INFO - luna.common.utils - Started CLI Runner wtih <function generate_tiles at 0x7f3a36843d30>\n",
      "2022-08-22 11:46:31,848 - INFO - luna.common.utils - Validating params...\n",
      "2022-08-22 11:46:31,850 - INFO - luna.common.utils -  -> Set input_slide_image (<class 'str'>) = file:/home/pashaa/vmount/PRO-12-123/data/toy_data_set/01OV008-7579323e-2fae-43a9-b00f-a15c28.svs\n",
      "2022-08-22 11:46:31,852 - INFO - luna.common.utils -  -> Set output_dir (<class 'str'>) = /home/pashaa/vmount/PRO-12-123/2_tiling-file/01OV008-7579323e-2fae-43a9-b00f-a15c28/source_tiles\n",
      "2022-08-22 11:46:31,855 - INFO - luna.common.utils -  -> Set tile_size (<class 'int'>) = 128\n",
      "2022-08-22 11:46:31,861 - INFO - luna.common.utils -  -> Set requested_magnification (<class 'float'>) = 10.0\n",
      "2022-08-22 11:46:31,877 - INFO - luna.common.utils - Started CLI Runner wtih <function generate_tiles at 0x7ffb7b412d30>\n",
      "2022-08-22 11:46:31,877 - INFO - luna.common.utils - Expanding inputs...\n",
      "2022-08-22 11:46:31,880 - INFO - luna.common.utils - Validating params...\n",
      "2022-08-22 11:46:31,883 - INFO - luna.common.utils - Attempting to read metadata at file:/home/pashaa/vmount/PRO-12-123/data/toy_data_set/01OV008-7579323e-2fae-43a9-b00f-a15c28.svs/metadata.yml\n",
      "2022-08-22 11:46:31,886 - INFO - luna.common.utils -  -> Set input_slide_image (<class 'str'>) = file:/home/pashaa/vmount/PRO-12-123/data/toy_data_set/01OV007-9b90eb78-2f50-4aeb-b010-d642f9.svs\n",
      "2022-08-22 11:46:31,890 - INFO - luna.common.utils - Resolved input:\n",
      "2022-08-22 11:46:31,890 - INFO - luna.common.utils -  -> file:/home/pashaa/vmount/PRO-12-123/data/toy_data_set/01OV008-7579323e-2fae-43a9-b00f-a15c28.svs\n",
      "2022-08-22 11:46:31,890 - INFO - luna.common.utils -  -> /home/pashaa/vmount/PRO-12-123/data/toy_data_set/01OV008-7579323e-2fae-43a9-b00f-a15c28.svs\n",
      "2022-08-22 11:46:31,894 - INFO - luna.common.utils -  -> Set output_dir (<class 'str'>) = /home/pashaa/vmount/PRO-12-123/2_tiling-file/01OV007-9b90eb78-2f50-4aeb-b010-d642f9/source_tiles\n",
      "2022-08-22 11:46:31,897 - INFO - luna.common.utils - Full segment key set: {}\n",
      "2022-08-22 11:46:31,899 - INFO - luna.common.utils -  -> Set tile_size (<class 'int'>) = 128\n",
      "2022-08-22 11:46:31,902 - INFO - luna.common.utils - ------------------------------------------------------------\n",
      "2022-08-22 11:46:31,902 - INFO - luna.common.utils -  Starting transform::generate_tiles \n",
      "2022-08-22 11:46:31,902 - INFO - luna.common.utils - ------------------------------------------------------------\n",
      "2022-08-22 11:46:31,905 - INFO - luna.common.utils -  -> Set requested_magnification (<class 'float'>) = 10.0\n",
      "2022-08-22 11:46:31,919 - INFO - luna.common.utils - Expanding inputs...\n",
      "2022-08-22 11:46:31,922 - INFO - luna.common.utils - Attempting to read metadata at file:/home/pashaa/vmount/PRO-12-123/data/toy_data_set/01OV007-9b90eb78-2f50-4aeb-b010-d642f9.svs/metadata.yml\n",
      "2022-08-22 11:46:31,926 - INFO - luna.common.utils - Resolved input:\n",
      "2022-08-22 11:46:31,926 - INFO - luna.common.utils -  -> file:/home/pashaa/vmount/PRO-12-123/data/toy_data_set/01OV007-9b90eb78-2f50-4aeb-b010-d642f9.svs\n",
      "2022-08-22 11:46:31,926 - INFO - luna.common.utils -  -> /home/pashaa/vmount/PRO-12-123/data/toy_data_set/01OV007-9b90eb78-2f50-4aeb-b010-d642f9.svs\n",
      "2022-08-22 11:46:31,929 - INFO - luna.common.utils - Full segment key set: {}\n",
      "2022-08-22 11:46:31,931 - INFO - luna.common.utils - ------------------------------------------------------------\n",
      "2022-08-22 11:46:31,931 - INFO - luna.common.utils -  Starting transform::generate_tiles \n",
      "2022-08-22 11:46:31,931 - INFO - luna.common.utils - ------------------------------------------------------------\n"
     ]
    },
    {
     "name": "stderr",
     "output_type": "stream",
     "text": [
      "2022-08-22 11:46:32,127 - INFO - generate_tiles - Slide size = [53760,54840]\n",
      "2022-08-22 11:46:32,131 - INFO - generate_tiles - Normalized magnification scale factor for 10.0x is 4.0\n",
      "2022-08-22 11:46:32,133 - INFO - generate_tiles - Requested tile size=128, tile size at full magnficiation=512\n",
      "2022-08-22 11:46:32,138 - INFO - generate_tiles - tiles x 105, tiles y 108\n",
      "2022-08-22 11:46:32,153 - INFO - generate_tiles - Slide size = [50880,49787]\n",
      "2022-08-22 11:46:32,155 - INFO - generate_tiles - Normalized magnification scale factor for 10.0x is 4.0\n",
      "2022-08-22 11:46:32,157 - INFO - generate_tiles - Requested tile size=128, tile size at full magnficiation=512\n",
      "2022-08-22 11:46:32,160 - INFO - generate_tiles - tiles x 100, tiles y 98\n",
      "2022-08-22 11:46:32,167 - INFO - generate_tiles - Number of tiles in raster: 10918\n",
      "2022-08-22 11:46:32,182 - INFO - generate_tiles - Number of tiles in raster: 9408\n",
      "2022-08-22 11:46:32,207 - INFO - generate_tiles -                x_coord  y_coord  xy_extent  tile_size tile_units\n",
      "2022-08-22 11:46:32,207 - INFO - generate_tiles - address                                                         \n",
      "2022-08-22 11:46:32,207 - INFO - generate_tiles - x1_y1_z10.0        512      512        512        128         px\n",
      "2022-08-22 11:46:32,207 - INFO - generate_tiles - x1_y2_z10.0        512     1024        512        128         px\n",
      "2022-08-22 11:46:32,207 - INFO - generate_tiles - x1_y3_z10.0        512     1536        512        128         px\n",
      "2022-08-22 11:46:32,207 - INFO - generate_tiles - x1_y4_z10.0        512     2048        512        128         px\n",
      "2022-08-22 11:46:32,207 - INFO - generate_tiles - x1_y5_z10.0        512     2560        512        128         px\n",
      "2022-08-22 11:46:32,207 - INFO - generate_tiles - ...                ...      ...        ...        ...        ...\n",
      "2022-08-22 11:46:32,207 - INFO - generate_tiles - x98_y92_z10.0    50176    47104        512        128         px\n",
      "2022-08-22 11:46:32,207 - INFO - generate_tiles - x98_y93_z10.0    50176    47616        512        128         px\n",
      "2022-08-22 11:46:32,207 - INFO - generate_tiles - x98_y94_z10.0    50176    48128        512        128         px\n",
      "2022-08-22 11:46:32,207 - INFO - generate_tiles - x98_y95_z10.0    50176    48640        512        128         px\n",
      "2022-08-22 11:46:32,207 - INFO - generate_tiles - x98_y96_z10.0    50176    49152        512        128         px\n",
      "2022-08-22 11:46:32,207 - INFO - generate_tiles - \n",
      "2022-08-22 11:46:32,207 - INFO - generate_tiles - [9408 rows x 5 columns]\n",
      "2022-08-22 11:46:32,208 - INFO - generate_tiles -                  x_coord  y_coord  xy_extent  tile_size tile_units\n",
      "2022-08-22 11:46:32,208 - INFO - generate_tiles - address                                                           \n",
      "2022-08-22 11:46:32,208 - INFO - generate_tiles - x1_y1_z10.0          512      512        512        128         px\n",
      "2022-08-22 11:46:32,208 - INFO - generate_tiles - x1_y2_z10.0          512     1024        512        128         px\n",
      "2022-08-22 11:46:32,208 - INFO - generate_tiles - x1_y3_z10.0          512     1536        512        128         px\n",
      "2022-08-22 11:46:32,208 - INFO - generate_tiles - x1_y4_z10.0          512     2048        512        128         px\n",
      "2022-08-22 11:46:32,208 - INFO - generate_tiles - x1_y5_z10.0          512     2560        512        128         px\n",
      "2022-08-22 11:46:32,208 - INFO - generate_tiles - ...                  ...      ...        ...        ...        ...\n",
      "2022-08-22 11:46:32,208 - INFO - generate_tiles - x103_y102_z10.0    52736    52224        512        128         px\n",
      "2022-08-22 11:46:32,208 - INFO - generate_tiles - x103_y103_z10.0    52736    52736        512        128         px\n",
      "2022-08-22 11:46:32,208 - INFO - generate_tiles - x103_y104_z10.0    52736    53248        512        128         px\n",
      "2022-08-22 11:46:32,208 - INFO - generate_tiles - x103_y105_z10.0    52736    53760        512        128         px\n",
      "2022-08-22 11:46:32,208 - INFO - generate_tiles - x103_y106_z10.0    52736    54272        512        128         px\n",
      "2022-08-22 11:46:32,208 - INFO - generate_tiles - \n",
      "2022-08-22 11:46:32,208 - INFO - generate_tiles - [10918 rows x 5 columns]\n",
      "2022-08-22 11:46:32,244 - INFO - generate_tiles - Slide size = [42240,59209]\n",
      "2022-08-22 11:46:32,247 - INFO - generate_tiles - Normalized magnification scale factor for 10.0x is 4.0\n",
      "2022-08-22 11:46:32,250 - INFO - generate_tiles - Requested tile size=128, tile size at full magnficiation=512\n",
      "2022-08-22 11:46:32,255 - INFO - generate_tiles - tiles x 83, tiles y 116\n",
      "2022-08-22 11:46:32,269 - INFO - generate_tiles - Slide size = [52800,38628]\n",
      "2022-08-22 11:46:32,271 - INFO - generate_tiles - Normalized magnification scale factor for 10.0x is 4.0\n",
      "2022-08-22 11:46:32,273 - INFO - generate_tiles - Requested tile size=128, tile size at full magnficiation=512\n",
      "2022-08-22 11:46:32,275 - INFO - generate_tiles - tiles x 104, tiles y 76\n",
      "2022-08-22 11:46:32,276 - INFO - generate_tiles - Number of tiles in raster: 9234\n",
      "2022-08-22 11:46:32,293 - INFO - generate_tiles - Number of tiles in raster: 7548\n",
      "2022-08-22 11:46:32,294 - INFO - generate_tiles -                 x_coord  y_coord  xy_extent  tile_size tile_units\n",
      "2022-08-22 11:46:32,294 - INFO - generate_tiles - address                                                          \n",
      "2022-08-22 11:46:32,294 - INFO - generate_tiles - x1_y1_z10.0         512      512        512        128         px\n",
      "2022-08-22 11:46:32,294 - INFO - generate_tiles - x1_y2_z10.0         512     1024        512        128         px\n",
      "2022-08-22 11:46:32,294 - INFO - generate_tiles - x1_y3_z10.0         512     1536        512        128         px\n",
      "2022-08-22 11:46:32,294 - INFO - generate_tiles - x1_y4_z10.0         512     2048        512        128         px\n",
      "2022-08-22 11:46:32,294 - INFO - generate_tiles - x1_y5_z10.0         512     2560        512        128         px\n",
      "2022-08-22 11:46:32,294 - INFO - generate_tiles - ...                 ...      ...        ...        ...        ...\n",
      "2022-08-22 11:46:32,294 - INFO - generate_tiles - x81_y110_z10.0    41472    56320        512        128         px\n",
      "2022-08-22 11:46:32,294 - INFO - generate_tiles - x81_y111_z10.0    41472    56832        512        128         px\n",
      "2022-08-22 11:46:32,294 - INFO - generate_tiles - x81_y112_z10.0    41472    57344        512        128         px\n",
      "2022-08-22 11:46:32,294 - INFO - generate_tiles - x81_y113_z10.0    41472    57856        512        128         px\n",
      "2022-08-22 11:46:32,294 - INFO - generate_tiles - x81_y114_z10.0    41472    58368        512        128         px\n",
      "2022-08-22 11:46:32,294 - INFO - generate_tiles - \n",
      "2022-08-22 11:46:32,294 - INFO - generate_tiles - [9234 rows x 5 columns]\n",
      "2022-08-22 11:46:32,346 - INFO - luna.common.utils - Code block 'transform::generate_tiles' took: 0.5392834839999523s\n",
      "2022-08-22 11:46:32,348 - INFO - luna.common.utils - Code block 'transform::generate_tiles' took: 0.5208995689999938s\n",
      "2022-08-22 11:46:32,348 - INFO - luna.common.utils - ------------------------------------------------------------\n",
      "2022-08-22 11:46:32,348 - INFO - luna.common.utils -  Done with transform, running post-transform functions... \n",
      "2022-08-22 11:46:32,348 - INFO - luna.common.utils - ------------------------------------------------------------\n",
      "2022-08-22 11:46:32,319 - INFO - generate_tiles -                 x_coord  y_coord  xy_extent  tile_size tile_units\n",
      "2022-08-22 11:46:32,319 - INFO - generate_tiles - address                                                          \n",
      "2022-08-22 11:46:32,319 - INFO - generate_tiles - x1_y1_z10.0         512      512        512        128         px\n",
      "2022-08-22 11:46:32,319 - INFO - generate_tiles - x1_y2_z10.0         512     1024        512        128         px\n",
      "2022-08-22 11:46:32,319 - INFO - generate_tiles - x1_y3_z10.0         512     1536        512        128         px\n",
      "2022-08-22 11:46:32,319 - INFO - generate_tiles - x1_y4_z10.0         512     2048        512        128         px\n",
      "2022-08-22 11:46:32,319 - INFO - generate_tiles - x1_y5_z10.0         512     2560        512        128         px\n",
      "2022-08-22 11:46:32,319 - INFO - generate_tiles - ...                 ...      ...        ...        ...        ...\n",
      "2022-08-22 11:46:32,319 - INFO - generate_tiles - x102_y70_z10.0    52224    35840        512        128         px\n",
      "2022-08-22 11:46:32,319 - INFO - generate_tiles - x102_y71_z10.0    52224    36352        512        128         px\n",
      "2022-08-22 11:46:32,319 - INFO - generate_tiles - x102_y72_z10.0    52224    36864        512        128         px\n",
      "2022-08-22 11:46:32,319 - INFO - generate_tiles - x102_y73_z10.0    52224    37376        512        128         px\n",
      "2022-08-22 11:46:32,319 - INFO - generate_tiles - x102_y74_z10.0    52224    37888        512        128         px\n",
      "2022-08-22 11:46:32,319 - INFO - generate_tiles - \n",
      "2022-08-22 11:46:32,319 - INFO - generate_tiles - [7548 rows x 5 columns]\n",
      "2022-08-22 11:46:32,352 - INFO - luna.common.utils - ------------------------------------------------------------\n",
      "2022-08-22 11:46:32,352 - INFO - luna.common.utils -  Done with transform, running post-transform functions... \n",
      "2022-08-22 11:46:32,352 - INFO - luna.common.utils - ------------------------------------------------------------\n",
      "2022-08-22 11:46:32,365 - INFO - generate_tiles - Slide size = [109440,60110]\n",
      "2022-08-22 11:46:32,366 - INFO - luna.common.utils - Done.\n",
      "2022-08-22 11:46:32,369 - INFO - luna.common.utils - Done.\n",
      "2022-08-22 11:46:32,369 - INFO - generate_tiles - Normalized magnification scale factor for 10.0x is 4.0\n",
      "2022-08-22 11:46:32,374 - INFO - generate_tiles - Requested tile size=128, tile size at full magnficiation=512\n",
      "2022-08-22 11:46:32,378 - INFO - generate_tiles - tiles x 214, tiles y 118\n",
      "2022-08-22 11:46:32,434 - INFO - generate_tiles - Number of tiles in raster: 24592\n",
      "2022-08-22 11:46:32,449 - INFO - luna.common.utils - Code block 'transform::generate_tiles' took: 0.5407473510003911s\n",
      "2022-08-22 11:46:32,451 - INFO - luna.common.utils - ------------------------------------------------------------\n",
      "2022-08-22 11:46:32,451 - INFO - luna.common.utils -  Done with transform, running post-transform functions... \n",
      "2022-08-22 11:46:32,451 - INFO - luna.common.utils - ------------------------------------------------------------\n",
      "2022-08-22 11:46:32,461 - INFO - luna.common.utils - Done.\n",
      "2022-08-22 11:46:32,474 - INFO - luna.common.utils - Code block 'transform::generate_tiles' took: 0.6304765410000073s\n",
      "2022-08-22 11:46:32,476 - INFO - luna.common.utils - ------------------------------------------------------------\n",
      "2022-08-22 11:46:32,476 - INFO - luna.common.utils -  Done with transform, running post-transform functions... \n",
      "2022-08-22 11:46:32,476 - INFO - luna.common.utils - ------------------------------------------------------------\n",
      "2022-08-22 11:46:32,484 - INFO - luna.common.utils - Done.\n",
      "2022-08-22 11:46:32,493 - INFO - generate_tiles -                  x_coord  y_coord  xy_extent  tile_size tile_units\n",
      "2022-08-22 11:46:32,493 - INFO - generate_tiles - address                                                           \n",
      "2022-08-22 11:46:32,493 - INFO - generate_tiles - x1_y1_z10.0          512      512        512        128         px\n",
      "2022-08-22 11:46:32,493 - INFO - generate_tiles - x1_y2_z10.0          512     1024        512        128         px\n",
      "2022-08-22 11:46:32,493 - INFO - generate_tiles - x1_y3_z10.0          512     1536        512        128         px\n",
      "2022-08-22 11:46:32,493 - INFO - generate_tiles - x1_y4_z10.0          512     2048        512        128         px\n",
      "2022-08-22 11:46:32,493 - INFO - generate_tiles - x1_y5_z10.0          512     2560        512        128         px\n",
      "2022-08-22 11:46:32,493 - INFO - generate_tiles - ...                  ...      ...        ...        ...        ...\n",
      "2022-08-22 11:46:32,493 - INFO - generate_tiles - x212_y112_z10.0   108544    57344        512        128         px\n",
      "2022-08-22 11:46:32,493 - INFO - generate_tiles - x212_y113_z10.0   108544    57856        512        128         px\n",
      "2022-08-22 11:46:32,493 - INFO - generate_tiles - x212_y114_z10.0   108544    58368        512        128         px\n",
      "2022-08-22 11:46:32,493 - INFO - generate_tiles - x212_y115_z10.0   108544    58880        512        128         px\n",
      "2022-08-22 11:46:32,493 - INFO - generate_tiles - x212_y116_z10.0   108544    59392        512        128         px\n",
      "2022-08-22 11:46:32,493 - INFO - generate_tiles - \n",
      "2022-08-22 11:46:32,493 - INFO - generate_tiles - [24592 rows x 5 columns]\n"
     ]
    },
    {
     "name": "stderr",
     "output_type": "stream",
     "text": [
      "2022-08-22 11:46:32,637 - INFO - luna.common.utils - Code block 'transform::generate_tiles' took: 0.7036285760000283s\n",
      "2022-08-22 11:46:32,640 - INFO - luna.common.utils - ------------------------------------------------------------\n",
      "2022-08-22 11:46:32,640 - INFO - luna.common.utils -  Done with transform, running post-transform functions... \n",
      "2022-08-22 11:46:32,640 - INFO - luna.common.utils - ------------------------------------------------------------\n",
      "2022-08-22 11:46:32,649 - INFO - luna.common.utils - Done.\n"
     ]
    },
    {
     "name": "stdout",
     "output_type": "stream",
     "text": [
      "detect_tissue file:/home/pashaa/vmount/PRO-12-123/data/toy_data_set/01OV002-bd8cdc70-3d46-40ae-99c4-90ef77.svs /home/pashaa/vmount/PRO-12-123/2_tiling-file/01OV002-bd8cdc70-3d46-40ae-99c4-90ef77/source_tiles --filter_query otsu_score > 0.1 --requested_magnification 2\n",
      "['detect_tissue', PosixPath('file:/home/pashaa/vmount/PRO-12-123/data/toy_data_set/01OV002-bd8cdc70-3d46-40ae-99c4-90ef77.svs'), '/home/pashaa/vmount/PRO-12-123/2_tiling-file/01OV002-bd8cdc70-3d46-40ae-99c4-90ef77/source_tiles', '--filter_query', 'otsu_score > 0.1', '--requested_magnification', '2', '-o', '/home/pashaa/vmount/PRO-12-123/2_tiling-file/01OV002-bd8cdc70-3d46-40ae-99c4-90ef77/detected_tiles']\n",
      "detect_tissue file:/home/pashaa/vmount/PRO-12-123/data/toy_data_set/01OV002-ed65cf94-8bc6-492b-9149-adc16f.svs /home/pashaa/vmount/PRO-12-123/2_tiling-file/01OV002-ed65cf94-8bc6-492b-9149-adc16f/source_tiles --filter_query otsu_score > 0.1 --requested_magnification 2\n",
      "['detect_tissue', PosixPath('file:/home/pashaa/vmount/PRO-12-123/data/toy_data_set/01OV002-ed65cf94-8bc6-492b-9149-adc16f.svs'), '/home/pashaa/vmount/PRO-12-123/2_tiling-file/01OV002-ed65cf94-8bc6-492b-9149-adc16f/source_tiles', '--filter_query', 'otsu_score > 0.1', '--requested_magnification', '2', '-o', '/home/pashaa/vmount/PRO-12-123/2_tiling-file/01OV002-ed65cf94-8bc6-492b-9149-adc16f/detected_tiles']\n",
      "detect_tissue file:/home/pashaa/vmount/PRO-12-123/data/toy_data_set/01OV008-7579323e-2fae-43a9-b00f-a15c28.svs /home/pashaa/vmount/PRO-12-123/2_tiling-file/01OV008-7579323e-2fae-43a9-b00f-a15c28/source_tiles --filter_query otsu_score > 0.1 --requested_magnification 2\n",
      "['detect_tissue', PosixPath('file:/home/pashaa/vmount/PRO-12-123/data/toy_data_set/01OV008-7579323e-2fae-43a9-b00f-a15c28.svs'), '/home/pashaa/vmount/PRO-12-123/2_tiling-file/01OV008-7579323e-2fae-43a9-b00f-a15c28/source_tiles', '--filter_query', 'otsu_score > 0.1', '--requested_magnification', '2', '-o', '/home/pashaa/vmount/PRO-12-123/2_tiling-file/01OV008-7579323e-2fae-43a9-b00f-a15c28/detected_tiles']\n",
      "detect_tissue file:/home/pashaa/vmount/PRO-12-123/data/toy_data_set/01OV008-308ad404-7079-4ff8-8232-12ee2e.svs /home/pashaa/vmount/PRO-12-123/2_tiling-file/01OV008-308ad404-7079-4ff8-8232-12ee2e/source_tiles --filter_query otsu_score > 0.1 --requested_magnification 2\n",
      "['detect_tissue', PosixPath('file:/home/pashaa/vmount/PRO-12-123/data/toy_data_set/01OV008-308ad404-7079-4ff8-8232-12ee2e.svs'), '/home/pashaa/vmount/PRO-12-123/2_tiling-file/01OV008-308ad404-7079-4ff8-8232-12ee2e/source_tiles', '--filter_query', 'otsu_score > 0.1', '--requested_magnification', '2', '-o', '/home/pashaa/vmount/PRO-12-123/2_tiling-file/01OV008-308ad404-7079-4ff8-8232-12ee2e/detected_tiles']\n",
      "detect_tissue file:/home/pashaa/vmount/PRO-12-123/data/toy_data_set/01OV007-9b90eb78-2f50-4aeb-b010-d642f9.svs /home/pashaa/vmount/PRO-12-123/2_tiling-file/01OV007-9b90eb78-2f50-4aeb-b010-d642f9/source_tiles --filter_query otsu_score > 0.1 --requested_magnification 2\n",
      "['detect_tissue', PosixPath('file:/home/pashaa/vmount/PRO-12-123/data/toy_data_set/01OV007-9b90eb78-2f50-4aeb-b010-d642f9.svs'), '/home/pashaa/vmount/PRO-12-123/2_tiling-file/01OV007-9b90eb78-2f50-4aeb-b010-d642f9/source_tiles', '--filter_query', 'otsu_score > 0.1', '--requested_magnification', '2', '-o', '/home/pashaa/vmount/PRO-12-123/2_tiling-file/01OV007-9b90eb78-2f50-4aeb-b010-d642f9/detected_tiles']\n"
     ]
    },
    {
     "name": "stderr",
     "output_type": "stream",
     "text": [
      "2022-08-22 11:46:34,234 - INFO - root - Initalized logger, log file at: luna.log\n",
      "2022-08-22 11:46:34,308 - INFO - root - Initalized logger, log file at: luna.log\n",
      "2022-08-22 11:46:34,315 - INFO - root - Initalized logger, log file at: luna.log\n",
      "2022-08-22 11:46:34,389 - INFO - root - Initalized logger, log file at: luna.log\n",
      "2022-08-22 11:46:34,559 - INFO - root - Initalized logger, log file at: luna.log\n",
      "2022-08-22 11:46:36,465 - INFO - luna.common.utils - Started CLI Runner wtih <function detect_tissue at 0x7f5c88579280>\n",
      "2022-08-22 11:46:36,467 - INFO - luna.common.utils - Validating params...\n",
      "2022-08-22 11:46:36,469 - INFO - luna.common.utils -  -> Set input_slide_image (<class 'str'>) = file:/home/pashaa/vmount/PRO-12-123/data/toy_data_set/01OV002-bd8cdc70-3d46-40ae-99c4-90ef77.svs\n",
      "2022-08-22 11:46:36,471 - INFO - luna.common.utils -  -> Set input_slide_tiles (<class 'str'>) = /home/pashaa/vmount/PRO-12-123/2_tiling-file/01OV002-bd8cdc70-3d46-40ae-99c4-90ef77/source_tiles\n",
      "2022-08-22 11:46:36,472 - INFO - luna.common.utils -  -> Set requested_magnification (<class 'float'>) = 2.0\n",
      "2022-08-22 11:46:36,477 - INFO - luna.common.utils -  -> Set filter_query (<class 'str'>) = otsu_score > 0.1\n",
      "2022-08-22 11:46:36,479 - INFO - luna.common.utils -  -> Set output_dir (<class 'str'>) = /home/pashaa/vmount/PRO-12-123/2_tiling-file/01OV002-bd8cdc70-3d46-40ae-99c4-90ef77/detected_tiles\n",
      "2022-08-22 11:46:36,481 - INFO - luna.common.utils -  -> Set num_cores (<class 'int'>) = 4\n",
      "2022-08-22 11:46:36,487 - INFO - luna.common.utils - Expanding inputs...\n",
      "2022-08-22 11:46:36,489 - INFO - luna.common.utils - Attempting to read metadata at file:/home/pashaa/vmount/PRO-12-123/data/toy_data_set/01OV002-bd8cdc70-3d46-40ae-99c4-90ef77.svs/metadata.yml\n",
      "2022-08-22 11:46:36,491 - INFO - luna.common.utils - Attempting to read metadata at /home/pashaa/vmount/PRO-12-123/2_tiling-file/01OV002-bd8cdc70-3d46-40ae-99c4-90ef77/source_tiles/metadata.yml\n",
      "2022-08-22 11:46:36,498 - INFO - luna.common.utils - Expanded input:\n",
      "2022-08-22 11:46:36,498 - INFO - luna.common.utils -  -> /home/pashaa/vmount/PRO-12-123/2_tiling-file/01OV002-bd8cdc70-3d46-40ae-99c4-90ef77/source_tiles\n",
      "2022-08-22 11:46:36,498 - INFO - luna.common.utils -  -> /home/pashaa/vmount/PRO-12-123/2_tiling-file/01OV002-bd8cdc70-3d46-40ae-99c4-90ef77/source_tiles/01OV002-bd8cdc70-3d46-40ae-99c4-90ef77.tiles.parquet\n",
      "2022-08-22 11:46:36,500 - INFO - luna.common.utils - Found segment keys: {'slide_id': '01OV002-bd8cdc70-3d46-40ae-99c4-90ef77'}\n",
      "2022-08-22 11:46:36,502 - INFO - luna.common.utils - Resolved input:\n",
      "2022-08-22 11:46:36,502 - INFO - luna.common.utils -  -> file:/home/pashaa/vmount/PRO-12-123/data/toy_data_set/01OV002-bd8cdc70-3d46-40ae-99c4-90ef77.svs\n",
      "2022-08-22 11:46:36,502 - INFO - luna.common.utils -  -> /home/pashaa/vmount/PRO-12-123/data/toy_data_set/01OV002-bd8cdc70-3d46-40ae-99c4-90ef77.svs\n",
      "2022-08-22 11:46:36,505 - INFO - luna.common.utils - Resolved input:\n",
      "2022-08-22 11:46:36,505 - INFO - luna.common.utils -  -> /home/pashaa/vmount/PRO-12-123/2_tiling-file/01OV002-bd8cdc70-3d46-40ae-99c4-90ef77/source_tiles/01OV002-bd8cdc70-3d46-40ae-99c4-90ef77.tiles.parquet\n",
      "2022-08-22 11:46:36,505 - INFO - luna.common.utils -  -> /home/pashaa/vmount/PRO-12-123/2_tiling-file/01OV002-bd8cdc70-3d46-40ae-99c4-90ef77/source_tiles/01OV002-bd8cdc70-3d46-40ae-99c4-90ef77.tiles.parquet\n",
      "2022-08-22 11:46:36,507 - INFO - luna.common.utils - Full segment key set: {'slide_id': '01OV002-bd8cdc70-3d46-40ae-99c4-90ef77'}\n",
      "2022-08-22 11:46:36,509 - INFO - luna.common.utils - ------------------------------------------------------------\n",
      "2022-08-22 11:46:36,509 - INFO - luna.common.utils -  Starting transform::detect_tissue \n",
      "2022-08-22 11:46:36,509 - INFO - luna.common.utils - ------------------------------------------------------------\n",
      "2022-08-22 11:46:36,581 - INFO - luna.common.utils - Started CLI Runner wtih <function detect_tissue at 0x7fb506566280>\n",
      "2022-08-22 11:46:36,583 - INFO - luna.common.utils - Validating params...\n",
      "2022-08-22 11:46:36,586 - INFO - luna.common.utils -  -> Set input_slide_image (<class 'str'>) = file:/home/pashaa/vmount/PRO-12-123/data/toy_data_set/01OV002-ed65cf94-8bc6-492b-9149-adc16f.svs\n",
      "2022-08-22 11:46:36,588 - INFO - luna.common.utils -  -> Set input_slide_tiles (<class 'str'>) = /home/pashaa/vmount/PRO-12-123/2_tiling-file/01OV002-ed65cf94-8bc6-492b-9149-adc16f/source_tiles\n",
      "2022-08-22 11:46:36,591 - INFO - luna.common.utils -  -> Set requested_magnification (<class 'float'>) = 2.0\n",
      "2022-08-22 11:46:36,593 - INFO - luna.common.utils -  -> Set filter_query (<class 'str'>) = otsu_score > 0.1\n",
      "2022-08-22 11:46:36,596 - INFO - luna.common.utils -  -> Set output_dir (<class 'str'>) = /home/pashaa/vmount/PRO-12-123/2_tiling-file/01OV002-ed65cf94-8bc6-492b-9149-adc16f/detected_tiles\n",
      "2022-08-22 11:46:36,598 - INFO - luna.common.utils -  -> Set num_cores (<class 'int'>) = 4\n",
      "2022-08-22 11:46:36,607 - INFO - luna.common.utils - Expanding inputs...\n",
      "2022-08-22 11:46:36,609 - INFO - luna.common.utils - Attempting to read metadata at file:/home/pashaa/vmount/PRO-12-123/data/toy_data_set/01OV002-ed65cf94-8bc6-492b-9149-adc16f.svs/metadata.yml\n",
      "2022-08-22 11:46:36,612 - INFO - luna.common.utils - Attempting to read metadata at /home/pashaa/vmount/PRO-12-123/2_tiling-file/01OV002-ed65cf94-8bc6-492b-9149-adc16f/source_tiles/metadata.yml\n",
      "2022-08-22 11:46:36,629 - INFO - luna.common.utils - Expanded input:\n",
      "2022-08-22 11:46:36,629 - INFO - luna.common.utils -  -> /home/pashaa/vmount/PRO-12-123/2_tiling-file/01OV002-ed65cf94-8bc6-492b-9149-adc16f/source_tiles\n",
      "2022-08-22 11:46:36,629 - INFO - luna.common.utils -  -> /home/pashaa/vmount/PRO-12-123/2_tiling-file/01OV002-ed65cf94-8bc6-492b-9149-adc16f/source_tiles/01OV002-ed65cf94-8bc6-492b-9149-adc16f.tiles.parquet\n",
      "2022-08-22 11:46:36,632 - INFO - luna.common.utils - Found segment keys: {'slide_id': '01OV002-ed65cf94-8bc6-492b-9149-adc16f'}\n",
      "2022-08-22 11:46:36,636 - INFO - luna.common.utils - Resolved input:\n",
      "2022-08-22 11:46:36,636 - INFO - luna.common.utils -  -> file:/home/pashaa/vmount/PRO-12-123/data/toy_data_set/01OV002-ed65cf94-8bc6-492b-9149-adc16f.svs\n",
      "2022-08-22 11:46:36,636 - INFO - luna.common.utils -  -> /home/pashaa/vmount/PRO-12-123/data/toy_data_set/01OV002-ed65cf94-8bc6-492b-9149-adc16f.svs\n",
      "2022-08-22 11:46:36,639 - INFO - luna.common.utils - Resolved input:\n",
      "2022-08-22 11:46:36,639 - INFO - luna.common.utils -  -> /home/pashaa/vmount/PRO-12-123/2_tiling-file/01OV002-ed65cf94-8bc6-492b-9149-adc16f/source_tiles/01OV002-ed65cf94-8bc6-492b-9149-adc16f.tiles.parquet\n",
      "2022-08-22 11:46:36,639 - INFO - luna.common.utils -  -> /home/pashaa/vmount/PRO-12-123/2_tiling-file/01OV002-ed65cf94-8bc6-492b-9149-adc16f/source_tiles/01OV002-ed65cf94-8bc6-492b-9149-adc16f.tiles.parquet\n",
      "2022-08-22 11:46:36,642 - INFO - luna.common.utils - Full segment key set: {'slide_id': '01OV002-ed65cf94-8bc6-492b-9149-adc16f'}\n",
      "2022-08-22 11:46:36,645 - INFO - luna.common.utils - ------------------------------------------------------------\n",
      "2022-08-22 11:46:36,645 - INFO - luna.common.utils -  Starting transform::detect_tissue \n",
      "2022-08-22 11:46:36,645 - INFO - luna.common.utils - ------------------------------------------------------------\n",
      "2022-08-22 11:46:36,667 - INFO - luna.common.utils - Started CLI Runner wtih <function detect_tissue at 0x7f2ab5f83280>\n",
      "2022-08-22 11:46:36,671 - INFO - luna.common.utils - Validating params...\n",
      "2022-08-22 11:46:36,674 - INFO - luna.common.utils -  -> Set input_slide_image (<class 'str'>) = file:/home/pashaa/vmount/PRO-12-123/data/toy_data_set/01OV008-7579323e-2fae-43a9-b00f-a15c28.svs\n",
      "2022-08-22 11:46:36,680 - INFO - luna.common.utils -  -> Set input_slide_tiles (<class 'str'>) = /home/pashaa/vmount/PRO-12-123/2_tiling-file/01OV008-7579323e-2fae-43a9-b00f-a15c28/source_tiles\n",
      "2022-08-22 11:46:36,690 - INFO - luna.common.utils -  -> Set requested_magnification (<class 'float'>) = 2.0\n",
      "2022-08-22 11:46:36,693 - INFO - luna.common.utils -  -> Set filter_query (<class 'str'>) = otsu_score > 0.1\n",
      "2022-08-22 11:46:36,694 - INFO - luna.common.utils - Started CLI Runner wtih <function detect_tissue at 0x7fae321c3280>\n",
      "2022-08-22 11:46:36,696 - INFO - luna.common.utils -  -> Set output_dir (<class 'str'>) = /home/pashaa/vmount/PRO-12-123/2_tiling-file/01OV008-7579323e-2fae-43a9-b00f-a15c28/detected_tiles\n",
      "2022-08-22 11:46:36,700 - INFO - luna.common.utils - Validating params...\n",
      "2022-08-22 11:46:36,704 - INFO - luna.common.utils -  -> Set num_cores (<class 'int'>) = 4\n",
      "2022-08-22 11:46:36,706 - INFO - luna.common.utils -  -> Set input_slide_image (<class 'str'>) = file:/home/pashaa/vmount/PRO-12-123/data/toy_data_set/01OV008-308ad404-7079-4ff8-8232-12ee2e.svs\n",
      "2022-08-22 11:46:36,709 - INFO - luna.common.utils -  -> Set input_slide_tiles (<class 'str'>) = /home/pashaa/vmount/PRO-12-123/2_tiling-file/01OV008-308ad404-7079-4ff8-8232-12ee2e/source_tiles\n",
      "2022-08-22 11:46:36,715 - INFO - luna.common.utils -  -> Set requested_magnification (<class 'float'>) = 2.0\n",
      "2022-08-22 11:46:36,722 - INFO - luna.common.utils - Expanding inputs...\n",
      "2022-08-22 11:46:36,722 - INFO - luna.common.utils -  -> Set filter_query (<class 'str'>) = otsu_score > 0.1\n",
      "2022-08-22 11:46:36,727 - INFO - luna.common.utils - Attempting to read metadata at file:/home/pashaa/vmount/PRO-12-123/data/toy_data_set/01OV008-7579323e-2fae-43a9-b00f-a15c28.svs/metadata.yml\n",
      "2022-08-22 11:46:36,732 - INFO - luna.common.utils -  -> Set output_dir (<class 'str'>) = /home/pashaa/vmount/PRO-12-123/2_tiling-file/01OV008-308ad404-7079-4ff8-8232-12ee2e/detected_tiles\n",
      "2022-08-22 11:46:36,738 - INFO - luna.common.utils - Attempting to read metadata at /home/pashaa/vmount/PRO-12-123/2_tiling-file/01OV008-7579323e-2fae-43a9-b00f-a15c28/source_tiles/metadata.yml\n",
      "2022-08-22 11:46:36,740 - INFO - luna.common.utils -  -> Set num_cores (<class 'int'>) = 4\n",
      "2022-08-22 11:46:36,747 - INFO - luna.common.utils - Expanding inputs...\n",
      "2022-08-22 11:46:36,752 - INFO - luna.common.utils - Expanded input:\n",
      "2022-08-22 11:46:36,752 - INFO - luna.common.utils -  -> /home/pashaa/vmount/PRO-12-123/2_tiling-file/01OV008-7579323e-2fae-43a9-b00f-a15c28/source_tiles\n",
      "2022-08-22 11:46:36,752 - INFO - luna.common.utils -  -> /home/pashaa/vmount/PRO-12-123/2_tiling-file/01OV008-7579323e-2fae-43a9-b00f-a15c28/source_tiles/01OV008-7579323e-2fae-43a9-b00f-a15c28.tiles.parquet\n",
      "2022-08-22 11:46:36,752 - INFO - luna.common.utils - Attempting to read metadata at file:/home/pashaa/vmount/PRO-12-123/data/toy_data_set/01OV008-308ad404-7079-4ff8-8232-12ee2e.svs/metadata.yml\n",
      "2022-08-22 11:46:36,755 - INFO - luna.common.utils - Found segment keys: {'slide_id': '01OV008-7579323e-2fae-43a9-b00f-a15c28'}\n",
      "2022-08-22 11:46:36,757 - INFO - luna.common.utils - Attempting to read metadata at /home/pashaa/vmount/PRO-12-123/2_tiling-file/01OV008-308ad404-7079-4ff8-8232-12ee2e/source_tiles/metadata.yml\n",
      "2022-08-22 11:46:36,759 - INFO - luna.common.utils - Resolved input:\n",
      "2022-08-22 11:46:36,759 - INFO - luna.common.utils -  -> file:/home/pashaa/vmount/PRO-12-123/data/toy_data_set/01OV008-7579323e-2fae-43a9-b00f-a15c28.svs\n",
      "2022-08-22 11:46:36,759 - INFO - luna.common.utils -  -> /home/pashaa/vmount/PRO-12-123/data/toy_data_set/01OV008-7579323e-2fae-43a9-b00f-a15c28.svs\n",
      "2022-08-22 11:46:36,763 - INFO - luna.common.utils - Resolved input:\n",
      "2022-08-22 11:46:36,763 - INFO - luna.common.utils -  -> /home/pashaa/vmount/PRO-12-123/2_tiling-file/01OV008-7579323e-2fae-43a9-b00f-a15c28/source_tiles/01OV008-7579323e-2fae-43a9-b00f-a15c28.tiles.parquet\n",
      "2022-08-22 11:46:36,763 - INFO - luna.common.utils -  -> /home/pashaa/vmount/PRO-12-123/2_tiling-file/01OV008-7579323e-2fae-43a9-b00f-a15c28/source_tiles/01OV008-7579323e-2fae-43a9-b00f-a15c28.tiles.parquet\n",
      "2022-08-22 11:46:36,767 - INFO - luna.common.utils - Full segment key set: {'slide_id': '01OV008-7579323e-2fae-43a9-b00f-a15c28'}\n",
      "2022-08-22 11:46:36,770 - INFO - luna.common.utils - Expanded input:\n",
      "2022-08-22 11:46:36,770 - INFO - luna.common.utils -  -> /home/pashaa/vmount/PRO-12-123/2_tiling-file/01OV008-308ad404-7079-4ff8-8232-12ee2e/source_tiles\n",
      "2022-08-22 11:46:36,770 - INFO - luna.common.utils -  -> /home/pashaa/vmount/PRO-12-123/2_tiling-file/01OV008-308ad404-7079-4ff8-8232-12ee2e/source_tiles/01OV008-308ad404-7079-4ff8-8232-12ee2e.tiles.parquet\n",
      "2022-08-22 11:46:36,773 - INFO - luna.common.utils - ------------------------------------------------------------\n",
      "2022-08-22 11:46:36,773 - INFO - luna.common.utils -  Starting transform::detect_tissue \n",
      "2022-08-22 11:46:36,773 - INFO - luna.common.utils - ------------------------------------------------------------\n",
      "2022-08-22 11:46:36,778 - INFO - luna.common.utils - Found segment keys: {'slide_id': '01OV008-308ad404-7079-4ff8-8232-12ee2e'}\n",
      "2022-08-22 11:46:36,785 - INFO - luna.common.utils - Resolved input:\n",
      "2022-08-22 11:46:36,785 - INFO - luna.common.utils -  -> file:/home/pashaa/vmount/PRO-12-123/data/toy_data_set/01OV008-308ad404-7079-4ff8-8232-12ee2e.svs\n",
      "2022-08-22 11:46:36,785 - INFO - luna.common.utils -  -> /home/pashaa/vmount/PRO-12-123/data/toy_data_set/01OV008-308ad404-7079-4ff8-8232-12ee2e.svs\n",
      "2022-08-22 11:46:36,789 - INFO - luna.common.utils - Resolved input:\n",
      "2022-08-22 11:46:36,789 - INFO - luna.common.utils -  -> /home/pashaa/vmount/PRO-12-123/2_tiling-file/01OV008-308ad404-7079-4ff8-8232-12ee2e/source_tiles/01OV008-308ad404-7079-4ff8-8232-12ee2e.tiles.parquet\n",
      "2022-08-22 11:46:36,789 - INFO - luna.common.utils -  -> /home/pashaa/vmount/PRO-12-123/2_tiling-file/01OV008-308ad404-7079-4ff8-8232-12ee2e/source_tiles/01OV008-308ad404-7079-4ff8-8232-12ee2e.tiles.parquet\n",
      "2022-08-22 11:46:36,795 - INFO - luna.common.utils - Full segment key set: {'slide_id': '01OV008-308ad404-7079-4ff8-8232-12ee2e'}\n",
      "2022-08-22 11:46:36,799 - INFO - luna.common.utils - ------------------------------------------------------------\n",
      "2022-08-22 11:46:36,799 - INFO - luna.common.utils -  Starting transform::detect_tissue \n",
      "2022-08-22 11:46:36,799 - INFO - luna.common.utils - ------------------------------------------------------------\n"
     ]
    },
    {
     "name": "stderr",
     "output_type": "stream",
     "text": [
      "2022-08-22 11:46:37,005 - INFO - luna.common.utils - Started CLI Runner wtih <function detect_tissue at 0x7fcef2871280>\n",
      "2022-08-22 11:46:37,008 - INFO - luna.common.utils - Validating params...\n",
      "2022-08-22 11:46:37,010 - INFO - detect_tissue - Slide dimensions (53760, 54840)\n",
      "2022-08-22 11:46:37,013 - INFO - luna.common.utils -  -> Set input_slide_image (<class 'str'>) = file:/home/pashaa/vmount/PRO-12-123/data/toy_data_set/01OV007-9b90eb78-2f50-4aeb-b010-d642f9.svs\n",
      "2022-08-22 11:46:37,015 - INFO - detect_tissue - Thumbnail scale factor: 20.0\n",
      "2022-08-22 11:46:37,019 - INFO - luna.common.utils -  -> Set input_slide_tiles (<class 'str'>) = /home/pashaa/vmount/PRO-12-123/2_tiling-file/01OV007-9b90eb78-2f50-4aeb-b010-d642f9/source_tiles\n",
      "2022-08-22 11:46:37,023 - INFO - luna.common.utils -  -> Set requested_magnification (<class 'float'>) = 2.0\n",
      "2022-08-22 11:46:37,025 - INFO - luna.common.utils -  -> Set filter_query (<class 'str'>) = otsu_score > 0.1\n",
      "2022-08-22 11:46:37,028 - INFO - luna.common.utils -  -> Set output_dir (<class 'str'>) = /home/pashaa/vmount/PRO-12-123/2_tiling-file/01OV007-9b90eb78-2f50-4aeb-b010-d642f9/detected_tiles\n",
      "2022-08-22 11:46:37,031 - INFO - luna.common.utils -  -> Set num_cores (<class 'int'>) = 4\n",
      "2022-08-22 11:46:37,046 - INFO - luna.common.utils - Expanding inputs...\n",
      "2022-08-22 11:46:37,049 - INFO - luna.common.utils - Attempting to read metadata at file:/home/pashaa/vmount/PRO-12-123/data/toy_data_set/01OV007-9b90eb78-2f50-4aeb-b010-d642f9.svs/metadata.yml\n",
      "2022-08-22 11:46:37,055 - INFO - luna.common.utils - Attempting to read metadata at /home/pashaa/vmount/PRO-12-123/2_tiling-file/01OV007-9b90eb78-2f50-4aeb-b010-d642f9/source_tiles/metadata.yml\n",
      "2022-08-22 11:46:37,071 - INFO - luna.common.utils - Expanded input:\n",
      "2022-08-22 11:46:37,071 - INFO - luna.common.utils -  -> /home/pashaa/vmount/PRO-12-123/2_tiling-file/01OV007-9b90eb78-2f50-4aeb-b010-d642f9/source_tiles\n",
      "2022-08-22 11:46:37,071 - INFO - luna.common.utils -  -> /home/pashaa/vmount/PRO-12-123/2_tiling-file/01OV007-9b90eb78-2f50-4aeb-b010-d642f9/source_tiles/01OV007-9b90eb78-2f50-4aeb-b010-d642f9.tiles.parquet\n",
      "2022-08-22 11:46:37,076 - INFO - luna.common.utils - Found segment keys: {'slide_id': '01OV007-9b90eb78-2f50-4aeb-b010-d642f9'}\n",
      "2022-08-22 11:46:37,080 - INFO - luna.common.utils - Resolved input:\n",
      "2022-08-22 11:46:37,080 - INFO - luna.common.utils -  -> file:/home/pashaa/vmount/PRO-12-123/data/toy_data_set/01OV007-9b90eb78-2f50-4aeb-b010-d642f9.svs\n",
      "2022-08-22 11:46:37,080 - INFO - luna.common.utils -  -> /home/pashaa/vmount/PRO-12-123/data/toy_data_set/01OV007-9b90eb78-2f50-4aeb-b010-d642f9.svs\n",
      "2022-08-22 11:46:37,083 - INFO - luna.common.utils - Resolved input:\n",
      "2022-08-22 11:46:37,083 - INFO - luna.common.utils -  -> /home/pashaa/vmount/PRO-12-123/2_tiling-file/01OV007-9b90eb78-2f50-4aeb-b010-d642f9/source_tiles/01OV007-9b90eb78-2f50-4aeb-b010-d642f9.tiles.parquet\n",
      "2022-08-22 11:46:37,083 - INFO - luna.common.utils -  -> /home/pashaa/vmount/PRO-12-123/2_tiling-file/01OV007-9b90eb78-2f50-4aeb-b010-d642f9/source_tiles/01OV007-9b90eb78-2f50-4aeb-b010-d642f9.tiles.parquet\n",
      "2022-08-22 11:46:37,086 - INFO - luna.common.utils - Full segment key set: {'slide_id': '01OV007-9b90eb78-2f50-4aeb-b010-d642f9'}\n",
      "2022-08-22 11:46:37,089 - INFO - luna.common.utils - ------------------------------------------------------------\n",
      "2022-08-22 11:46:37,089 - INFO - luna.common.utils -  Starting transform::detect_tissue \n",
      "2022-08-22 11:46:37,089 - INFO - luna.common.utils - ------------------------------------------------------------\n",
      "2022-08-22 11:46:37,170 - INFO - detect_tissue - Slide dimensions (50880, 49787)\n",
      "2022-08-22 11:46:37,173 - INFO - detect_tissue - Thumbnail scale factor: 20.0\n",
      "2022-08-22 11:46:37,303 - INFO - detect_tissue - Slide dimensions (42240, 59209)\n",
      "2022-08-22 11:46:37,306 - INFO - detect_tissue - Thumbnail scale factor: 20.0\n",
      "2022-08-22 11:46:37,409 - INFO - detect_tissue - Slide dimensions (52800, 38628)\n",
      "2022-08-22 11:46:37,412 - INFO - detect_tissue - Thumbnail scale factor: 20.0\n",
      "2022-08-22 11:46:37,623 - INFO - detect_tissue - Slide dimensions (109440, 60110)\n",
      "2022-08-22 11:46:37,625 - INFO - detect_tissue - Thumbnail scale factor: 20.0\n",
      "2022-08-22 11:46:39,261 - INFO - detect_tissue - Sample array size: (1931, 2640, 3)\n",
      "2022-08-22 11:46:39,606 - INFO - detect_tissue - Sample array size: (2489, 2544, 3)\n",
      "2022-08-22 11:46:39,680 - INFO - detect_tissue - Sample array size: (2742, 2688, 3)\n",
      "2022-08-22 11:46:39,736 - INFO - detect_tissue - Sample array size: (2960, 2112, 3)\n",
      "2022-08-22 11:46:44,160 - INFO - detect_tissue - Sample array size: (3005, 5472, 3)\n",
      "2022-08-22 11:46:56,452 - INFO - detect_tissue - Starting otsu thresholding, threshold=0.6760414889705882\n",
      "  8%|▊         | 638/7548 [00:06<01:24, 82.18it/s]2022-08-22 11:47:05,960 - INFO - detect_tissue - Starting otsu thresholding, threshold=0.7107123230698529\n",
      " 10%|█         | 773/7548 [00:09<01:34, 71.95it/s]2022-08-22 11:47:08,457 - INFO - detect_tissue - Starting otsu thresholding, threshold=0.7071628178615197\n",
      " 12%|█▏        | 941/7548 [00:13<03:16, 33.57it/s]s]2022-08-22 11:47:13,026 - INFO - detect_tissue - Starting otsu thresholding, threshold=0.7300508425245098\n",
      " 32%|███▏      | 3462/10918 [02:06<08:36, 14.44it/s]2022-08-22 11:49:28,590 - INFO - detect_tissue - Starting otsu thresholding, threshold=0.7421401378676471\n",
      "100%|██████████| 7548/7548 [05:39<00:00, 22.23it/s]]  \n",
      " 62%|██████▏   | 6780/10918 [05:16<02:54, 23.74it/s]2022-08-22 11:52:38,781 - INFO - detect_tissue - Filtering based on query: otsu_score > 0.1\n",
      " 62%|██████▏   | 6790/10918 [05:16<02:52, 23.98it/s]2022-08-22 11:52:38,983 - INFO - detect_tissue -                x_coord  y_coord  xy_extent  tile_size tile_units  otsu_score\n",
      "2022-08-22 11:52:38,983 - INFO - detect_tissue - address                                                                     \n",
      "2022-08-22 11:52:38,983 - INFO - detect_tissue - x4_y38_z10.0      2048    19456        512        128         px        0.22\n",
      "2022-08-22 11:52:38,983 - INFO - detect_tissue - x4_y39_z10.0      2048    19968        512        128         px        0.31\n",
      "2022-08-22 11:52:38,983 - INFO - detect_tissue - x4_y40_z10.0      2048    20480        512        128         px        0.16\n",
      "2022-08-22 11:52:38,983 - INFO - detect_tissue - x5_y39_z10.0      2560    19968        512        128         px        0.44\n",
      "2022-08-22 11:52:38,983 - INFO - detect_tissue - x5_y40_z10.0      2560    20480        512        128         px        0.26\n",
      "2022-08-22 11:52:38,983 - INFO - detect_tissue - ...                ...      ...        ...        ...        ...         ...\n",
      "2022-08-22 11:52:38,983 - INFO - detect_tissue - x90_y19_z10.0    46080     9728        512        128         px        0.55\n",
      "2022-08-22 11:52:38,983 - INFO - detect_tissue - x90_y20_z10.0    46080    10240        512        128         px        0.62\n",
      "2022-08-22 11:52:38,983 - INFO - detect_tissue - x90_y21_z10.0    46080    10752        512        128         px        0.77\n",
      "2022-08-22 11:52:38,983 - INFO - detect_tissue - x90_y22_z10.0    46080    11264        512        128         px        0.63\n",
      "2022-08-22 11:52:38,983 - INFO - detect_tissue - x91_y21_z10.0    46592    10752        512        128         px        0.32\n",
      "2022-08-22 11:52:38,983 - INFO - detect_tissue - \n",
      "2022-08-22 11:52:38,983 - INFO - detect_tissue - [3490 rows x 6 columns]\n",
      " 73%|███████▎  | 6830/9408 [05:28<01:51, 23.22it/s]2022-08-22 11:52:39,354 - INFO - luna.common.utils - Code block 'transform::detect_tissue' took: 362.79832782099993s\n",
      "2022-08-22 11:52:39,357 - INFO - luna.common.utils - ------------------------------------------------------------\n",
      "2022-08-22 11:52:39,357 - INFO - luna.common.utils -  Done with transform, running post-transform functions... \n",
      "2022-08-22 11:52:39,357 - INFO - luna.common.utils - ------------------------------------------------------------\n",
      " 62%|██████▏   | 6794/10918 [05:17<03:05, 22.21it/s]2022-08-22 11:52:39,392 - INFO - luna.common.utils - Done.\n",
      " 74%|███████▍  | 6841/9234 [05:26<01:28, 26.94it/s]]"
     ]
    },
    {
     "name": "stdout",
     "output_type": "stream",
     "text": [
      "label_tiles ../PRO-12-123/data/toy_data_set/table/ANNOTATIONS /home/pashaa/vmount/PRO-12-123/2_tiling-file/01OV008-308ad404-7079-4ff8-8232-12ee2e/detected_tiles\n",
      "['label_tiles', PosixPath('../PRO-12-123/data/toy_data_set/table/ANNOTATIONS'), '/home/pashaa/vmount/PRO-12-123/2_tiling-file/01OV008-308ad404-7079-4ff8-8232-12ee2e/detected_tiles', '-o', '/home/pashaa/vmount/PRO-12-123/2_tiling-file/01OV008-308ad404-7079-4ff8-8232-12ee2e/labled_tiles']\n"
     ]
    },
    {
     "name": "stderr",
     "output_type": "stream",
     "text": [
      " 77%|███████▋  | 7138/9234 [05:36<01:20, 26.04it/s]2022-08-22 11:52:51,698 - INFO - root - Initalized logger, log file at: luna.log\n",
      "2022-08-22 11:52:51,706 - INFO - luna.common.utils - Started CLI Runner wtih <function generate_tile_labels at 0x7fb68582e1f0>\n",
      "2022-08-22 11:52:51,725 - INFO - luna.common.utils - Validating params...\n",
      "2022-08-22 11:52:51,730 - INFO - luna.common.utils -  -> Set input_slide_annotation_dataset (<class 'str'>) = ../PRO-12-123/data/toy_data_set/table/ANNOTATIONS\n",
      "2022-08-22 11:52:51,733 - INFO - luna.common.utils -  -> Set input_slide_tiles (<class 'str'>) = /home/pashaa/vmount/PRO-12-123/2_tiling-file/01OV008-308ad404-7079-4ff8-8232-12ee2e/detected_tiles\n",
      "2022-08-22 11:52:51,737 - INFO - luna.common.utils -  -> Set output_dir (<class 'str'>) = /home/pashaa/vmount/PRO-12-123/2_tiling-file/01OV008-308ad404-7079-4ff8-8232-12ee2e/labled_tiles\n",
      "2022-08-22 11:52:51,747 - INFO - luna.common.utils - Expanding inputs...\n",
      " 16%|█▌        | 3904/24592 [02:45<13:14, 26.03it/s]2022-08-22 11:52:51,751 - INFO - luna.common.utils - Attempting to read metadata at ../PRO-12-123/data/toy_data_set/table/ANNOTATIONS/metadata.yml\n",
      "2022-08-22 11:52:51,778 - INFO - luna.common.utils - Expanded input:\n",
      "2022-08-22 11:52:51,778 - INFO - luna.common.utils -  -> ../PRO-12-123/data/toy_data_set/table/ANNOTATIONS\n",
      "2022-08-22 11:52:51,778 - INFO - luna.common.utils -  -> ../PRO-12-123/data/toy_data_set/table/ANNOTATIONS/slide_annotation_dataset_TCGA collection_ov_regional.parquet\n",
      " 65%|██████▍   | 7082/10918 [05:29<03:16, 19.50it/s]2022-08-22 11:52:51,787 - INFO - luna.common.utils - Found segment keys: {'dsa_collection_uuid': '63035f7a18325e4c6e929591'}\n",
      "2022-08-22 11:52:51,792 - INFO - luna.common.utils - Attempting to read metadata at /home/pashaa/vmount/PRO-12-123/2_tiling-file/01OV008-308ad404-7079-4ff8-8232-12ee2e/detected_tiles/metadata.yml\n",
      "2022-08-22 11:52:51,810 - INFO - luna.common.utils - Expanded input:\n",
      "2022-08-22 11:52:51,810 - INFO - luna.common.utils -  -> /home/pashaa/vmount/PRO-12-123/2_tiling-file/01OV008-308ad404-7079-4ff8-8232-12ee2e/detected_tiles\n",
      "2022-08-22 11:52:51,810 - INFO - luna.common.utils -  -> /home/pashaa/vmount/PRO-12-123/2_tiling-file/01OV008-308ad404-7079-4ff8-8232-12ee2e/detected_tiles/01OV008-308ad404-7079-4ff8-8232-12ee2e-filtered.tiles.parquet\n",
      "2022-08-22 11:52:51,827 - INFO - luna.common.utils - Found segment keys: {'slide_id': '01OV008-308ad404-7079-4ff8-8232-12ee2e'}\n",
      "2022-08-22 11:52:51,837 - INFO - luna.common.utils - Resolved input:\n",
      "2022-08-22 11:52:51,837 - INFO - luna.common.utils -  -> ../PRO-12-123/data/toy_data_set/table/ANNOTATIONS/slide_annotation_dataset_TCGA collection_ov_regional.parquet\n",
      "2022-08-22 11:52:51,837 - INFO - luna.common.utils -  -> /home/pashaa/vmount/PRO-12-123/data/toy_data_set/table/ANNOTATIONS/slide_annotation_dataset_TCGA collection_ov_regional.parquet\n",
      "2022-08-22 11:52:51,843 - INFO - luna.common.utils - Resolved input:\n",
      "2022-08-22 11:52:51,843 - INFO - luna.common.utils -  -> /home/pashaa/vmount/PRO-12-123/2_tiling-file/01OV008-308ad404-7079-4ff8-8232-12ee2e/detected_tiles/01OV008-308ad404-7079-4ff8-8232-12ee2e-filtered.tiles.parquet\n",
      "2022-08-22 11:52:51,843 - INFO - luna.common.utils -  -> /home/pashaa/vmount/PRO-12-123/2_tiling-file/01OV008-308ad404-7079-4ff8-8232-12ee2e/detected_tiles/01OV008-308ad404-7079-4ff8-8232-12ee2e-filtered.tiles.parquet\n",
      " 77%|███████▋  | 7141/9234 [05:37<01:33, 22.41it/s]2022-08-22 11:52:51,861 - INFO - luna.common.utils - Full segment key set: {'dsa_collection_uuid': '63035f7a18325e4c6e929591', 'slide_id': '01OV008-308ad404-7079-4ff8-8232-12ee2e'}\n",
      "2022-08-22 11:52:51,871 - INFO - luna.common.utils - ------------------------------------------------------------\n",
      "2022-08-22 11:52:51,871 - INFO - luna.common.utils -  Starting transform::generate_tile_labels \n",
      "2022-08-22 11:52:51,871 - INFO - luna.common.utils - ------------------------------------------------------------\n",
      "2022-08-22 11:52:51,883 - INFO - generate_tile_labels - slide_id=01OV008-308ad404-7079-4ff8-8232-12ee2e\n",
      " 65%|██████▌   | 7122/10918 [05:30<02:26, 25.99it/s]"
     ]
    },
    {
     "name": "stdout",
     "output_type": "stream",
     "text": [
      "../PRO-12-123/data/toy_data_set/table/ANNOTATIONS/01OV008-308ad404-7079-4ff8-8232-12ee2e.annotation.geojson TCGA collection ov_regional\n"
     ]
    },
    {
     "name": "stderr",
     "output_type": "stream",
     "text": [
      "100%|██████████| 3490/3490 [00:20<00:00, 167.88it/s]\n",
      " 84%|████████▍ | 7738/9234 [05:59<01:03, 23.66it/s]2022-08-22 11:53:13,962 - INFO - generate_tile_labels -                x_coord  y_coord  ...  regional_label  intersection_area\n",
      "2022-08-22 11:53:13,962 - INFO - generate_tile_labels - address                          ...                                   \n",
      "2022-08-22 11:53:13,962 - INFO - generate_tile_labels - x29_y30_z10.0    14848    15360  ...          stroma           0.308059\n",
      "2022-08-22 11:53:13,962 - INFO - generate_tile_labels - x29_y31_z10.0    14848    15872  ...          stroma           0.571795\n",
      "2022-08-22 11:53:13,962 - INFO - generate_tile_labels - x29_y32_z10.0    14848    16384  ...          stroma           0.120971\n",
      "2022-08-22 11:53:13,962 - INFO - generate_tile_labels - x30_y30_z10.0    15360    15360  ...          stroma           0.092542\n",
      "2022-08-22 11:53:13,962 - INFO - generate_tile_labels - x30_y31_z10.0    15360    15872  ...          stroma           0.853902\n",
      "2022-08-22 11:53:13,962 - INFO - generate_tile_labels - ...                ...      ...  ...             ...                ...\n",
      "2022-08-22 11:53:13,962 - INFO - generate_tile_labels - x74_y46_z10.0    37888    23552  ...          stroma           0.352438\n",
      "2022-08-22 11:53:13,962 - INFO - generate_tile_labels - x75_y36_z10.0    38400    18432  ...             fat           0.199322\n",
      "2022-08-22 11:53:13,962 - INFO - generate_tile_labels - x75_y37_z10.0    38400    18944  ...             fat           0.404442\n",
      "2022-08-22 11:53:13,962 - INFO - generate_tile_labels - x75_y45_z10.0    38400    23040  ...          stroma           0.015358\n",
      "2022-08-22 11:53:13,962 - INFO - generate_tile_labels - x75_y46_z10.0    38400    23552  ...          stroma           0.017129\n",
      "2022-08-22 11:53:13,962 - INFO - generate_tile_labels - \n",
      "2022-08-22 11:53:13,962 - INFO - generate_tile_labels - [346 rows x 8 columns]\n",
      " 69%|██████▉   | 7562/10918 [05:51<02:41, 20.83it/s]2022-08-22 11:53:14,341 - INFO - luna.common.utils - Code block 'transform::generate_tile_labels' took: 22.480088944999807s\n",
      "2022-08-22 11:53:14,345 - INFO - luna.common.utils - ------------------------------------------------------------\n",
      "2022-08-22 11:53:14,345 - INFO - luna.common.utils -  Done with transform, running post-transform functions... \n",
      "2022-08-22 11:53:14,345 - INFO - luna.common.utils - ------------------------------------------------------------\n",
      "2022-08-22 11:53:14,378 - INFO - luna.common.utils - Done.\n",
      " 84%|████████▍ | 7781/9234 [06:00<00:46, 31.12it/s]]"
     ]
    },
    {
     "name": "stdout",
     "output_type": "stream",
     "text": [
      "save_tiles file:/home/pashaa/vmount/PRO-12-123/data/toy_data_set/01OV008-308ad404-7079-4ff8-8232-12ee2e.svs /home/pashaa/vmount/PRO-12-123/2_tiling-file/01OV008-308ad404-7079-4ff8-8232-12ee2e/labled_tiles --num_cores 4 --batch_size 200 --dataset_id PRO_TILES_LABELED\n",
      "['save_tiles', PosixPath('file:/home/pashaa/vmount/PRO-12-123/data/toy_data_set/01OV008-308ad404-7079-4ff8-8232-12ee2e.svs'), '/home/pashaa/vmount/PRO-12-123/2_tiling-file/01OV008-308ad404-7079-4ff8-8232-12ee2e/labled_tiles', '--num_cores', '4', '--batch_size', '200', '--dataset_id', 'PRO_TILES_LABELED', '-o', '/home/pashaa/vmount/PRO-12-123/2_tiling-file/01OV008-308ad404-7079-4ff8-8232-12ee2e/saved_tiles']\n"
     ]
    },
    {
     "name": "stderr",
     "output_type": "stream",
     "text": [
      " 20%|█▉        | 4814/24592 [03:26<15:57, 20.65it/s]2022-08-22 11:53:32,279 - INFO - root - Initalized logger, log file at: luna.log\n",
      " 93%|█████████▎| 8708/9408 [06:51<00:28, 24.86it/s]2022-08-22 11:54:01,625 - INFO - luna.common.utils - Started CLI Runner wtih <function save_tiles at 0x7f57bc583dc0>\n",
      "2022-08-22 11:54:01,635 - INFO - luna.common.utils - Validating params...\n",
      "2022-08-22 11:54:01,642 - INFO - luna.common.utils -  -> Set input_slide_image (<class 'str'>) = file:/home/pashaa/vmount/PRO-12-123/data/toy_data_set/01OV008-308ad404-7079-4ff8-8232-12ee2e.svs\n",
      "2022-08-22 11:54:01,646 - INFO - luna.common.utils -  -> Set input_slide_tiles (<class 'str'>) = /home/pashaa/vmount/PRO-12-123/2_tiling-file/01OV008-308ad404-7079-4ff8-8232-12ee2e/labled_tiles\n",
      "2022-08-22 11:54:01,650 - INFO - luna.common.utils -  -> Set output_dir (<class 'str'>) = /home/pashaa/vmount/PRO-12-123/2_tiling-file/01OV008-308ad404-7079-4ff8-8232-12ee2e/saved_tiles\n",
      "2022-08-22 11:54:01,655 - INFO - luna.common.utils -  -> Set num_cores (<class 'int'>) = 4\n",
      "2022-08-22 11:54:01,660 - INFO - luna.common.utils -  -> Set batch_size (<class 'int'>) = 200\n",
      " 79%|███████▊  | 8586/10918 [06:39<01:14, 31.30it/s]2022-08-22 11:54:01,672 - INFO - luna.common.utils - Expanding inputs...\n",
      "2022-08-22 11:54:01,678 - INFO - luna.common.utils - Attempting to read metadata at file:/home/pashaa/vmount/PRO-12-123/data/toy_data_set/01OV008-308ad404-7079-4ff8-8232-12ee2e.svs/metadata.yml\n",
      "2022-08-22 11:54:01,687 - INFO - luna.common.utils - Attempting to read metadata at /home/pashaa/vmount/PRO-12-123/2_tiling-file/01OV008-308ad404-7079-4ff8-8232-12ee2e/labled_tiles/metadata.yml\n",
      "2022-08-22 11:54:01,710 - INFO - luna.common.utils - Expanded input:\n",
      "2022-08-22 11:54:01,710 - INFO - luna.common.utils -  -> /home/pashaa/vmount/PRO-12-123/2_tiling-file/01OV008-308ad404-7079-4ff8-8232-12ee2e/labled_tiles\n",
      "2022-08-22 11:54:01,710 - INFO - luna.common.utils -  -> /home/pashaa/vmount/PRO-12-123/2_tiling-file/01OV008-308ad404-7079-4ff8-8232-12ee2e/labled_tiles/01OV008-308ad404-7079-4ff8-8232-12ee2e.regional_label.tiles.parquet\n",
      "2022-08-22 11:54:01,718 - INFO - luna.common.utils - Found segment keys: {'dsa_collection_uuid': '63035f7a18325e4c6e929591', 'slide_id': '01OV008-308ad404-7079-4ff8-8232-12ee2e'}\n",
      "2022-08-22 11:54:01,727 - INFO - luna.common.utils - Resolved input:\n",
      "2022-08-22 11:54:01,727 - INFO - luna.common.utils -  -> file:/home/pashaa/vmount/PRO-12-123/data/toy_data_set/01OV008-308ad404-7079-4ff8-8232-12ee2e.svs\n",
      "2022-08-22 11:54:01,727 - INFO - luna.common.utils -  -> /home/pashaa/vmount/PRO-12-123/data/toy_data_set/01OV008-308ad404-7079-4ff8-8232-12ee2e.svs\n",
      "2022-08-22 11:54:01,735 - INFO - luna.common.utils - Resolved input:\n",
      "2022-08-22 11:54:01,735 - INFO - luna.common.utils -  -> /home/pashaa/vmount/PRO-12-123/2_tiling-file/01OV008-308ad404-7079-4ff8-8232-12ee2e/labled_tiles/01OV008-308ad404-7079-4ff8-8232-12ee2e.regional_label.tiles.parquet\n",
      "2022-08-22 11:54:01,735 - INFO - luna.common.utils -  -> /home/pashaa/vmount/PRO-12-123/2_tiling-file/01OV008-308ad404-7079-4ff8-8232-12ee2e/labled_tiles/01OV008-308ad404-7079-4ff8-8232-12ee2e.regional_label.tiles.parquet\n",
      " 23%|██▎       | 5568/24592 [03:55<09:02, 35.08it/s]2022-08-22 11:54:01,743 - INFO - luna.common.utils - Full segment key set: {'dsa_collection_uuid': '63035f7a18325e4c6e929591', 'slide_id': '01OV008-308ad404-7079-4ff8-8232-12ee2e'}\n",
      "2022-08-22 11:54:01,749 - INFO - luna.common.utils - ------------------------------------------------------------\n",
      "2022-08-22 11:54:01,749 - INFO - luna.common.utils -  Starting transform::save_tiles \n",
      "2022-08-22 11:54:01,749 - INFO - luna.common.utils - ------------------------------------------------------------\n",
      " 93%|█████████▎| 8739/9408 [06:52<00:29, 22.96it/s]2022-08-22 11:54:02,970 - INFO - generate_tiles - Now generating tiles with num_cores=4 and batch_size=200!\n",
      " 98%|█████████▊| 9032/9234 [06:50<00:06, 31.88it/s]]"
     ]
    },
    {
     "name": "stdout",
     "output_type": "stream",
     "text": [
      "\r",
      "  0%|          | 0/18 [00:00<?, ?it/s]"
     ]
    },
    {
     "name": "stderr",
     "output_type": "stream",
     "text": [
      "100%|██████████| 9234/9234 [06:58<00:00, 22.08it/s]]\n",
      "2022-08-22 11:54:13,081 - INFO - detect_tissue - Filtering based on query: otsu_score > 0.1\n",
      " 96%|█████████▌| 9018/9408 [07:03<00:15, 24.63it/s]2022-08-22 11:54:13,265 - INFO - detect_tissue -                x_coord  y_coord  xy_extent  tile_size tile_units  otsu_score\n",
      "2022-08-22 11:54:13,265 - INFO - detect_tissue - address                                                                     \n",
      "2022-08-22 11:54:13,265 - INFO - detect_tissue - x3_y67_z10.0      1536    34304        512        128         px        0.12\n",
      "2022-08-22 11:54:13,265 - INFO - detect_tissue - x3_y73_z10.0      1536    37376        512        128         px        0.21\n",
      "2022-08-22 11:54:13,265 - INFO - detect_tissue - x4_y66_z10.0      2048    33792        512        128         px        0.51\n",
      "2022-08-22 11:54:13,265 - INFO - detect_tissue - x4_y67_z10.0      2048    34304        512        128         px        0.75\n",
      "2022-08-22 11:54:13,265 - INFO - detect_tissue - x4_y68_z10.0      2048    34816        512        128         px        0.72\n",
      "2022-08-22 11:54:13,265 - INFO - detect_tissue - ...                ...      ...        ...        ...        ...         ...\n",
      "2022-08-22 11:54:13,265 - INFO - detect_tissue - x63_y70_z10.0    32256    35840        512        128         px        0.27\n",
      "2022-08-22 11:54:13,265 - INFO - detect_tissue - x63_y71_z10.0    32256    36352        512        128         px        0.18\n",
      "2022-08-22 11:54:13,265 - INFO - detect_tissue - x63_y72_z10.0    32256    36864        512        128         px        0.22\n",
      "2022-08-22 11:54:13,265 - INFO - detect_tissue - x63_y73_z10.0    32256    37376        512        128         px        0.20\n",
      "2022-08-22 11:54:13,265 - INFO - detect_tissue - x63_y74_z10.0    32256    37888        512        128         px        0.11\n",
      "2022-08-22 11:54:13,265 - INFO - detect_tissue - \n",
      "2022-08-22 11:54:13,265 - INFO - detect_tissue - [4288 rows x 6 columns]\n",
      " 81%|████████  | 8868/10918 [06:51<01:41, 20.13it/s]2022-08-22 11:54:13,810 - INFO - luna.common.utils - Code block 'transform::detect_tissue' took: 457.3390607999995s\n",
      "2022-08-22 11:54:13,814 - INFO - luna.common.utils - ------------------------------------------------------------\n",
      "2022-08-22 11:54:13,814 - INFO - luna.common.utils -  Done with transform, running post-transform functions... \n",
      "2022-08-22 11:54:13,814 - INFO - luna.common.utils - ------------------------------------------------------------\n",
      " 96%|█████████▌| 9026/9408 [07:03<00:15, 23.93it/s]2022-08-22 11:54:13,842 - INFO - luna.common.utils - Done.\n",
      " 82%|████████▏ | 8988/10918 [06:56<01:11, 26.96it/s]"
     ]
    },
    {
     "name": "stdout",
     "output_type": "stream",
     "text": [
      "label_tiles ../PRO-12-123/data/toy_data_set/table/ANNOTATIONS /home/pashaa/vmount/PRO-12-123/2_tiling-file/01OV008-7579323e-2fae-43a9-b00f-a15c28/detected_tiles\n",
      "['label_tiles', PosixPath('../PRO-12-123/data/toy_data_set/table/ANNOTATIONS'), '/home/pashaa/vmount/PRO-12-123/2_tiling-file/01OV008-7579323e-2fae-43a9-b00f-a15c28/detected_tiles', '-o', '/home/pashaa/vmount/PRO-12-123/2_tiling-file/01OV008-7579323e-2fae-43a9-b00f-a15c28/labled_tiles']\n"
     ]
    },
    {
     "name": "stderr",
     "output_type": "stream",
     "text": [
      "100%|██████████| 9408/9408 [07:17<00:00, 21.49it/s]]\n",
      " 85%|████████▍ | 9241/10918 [07:05<01:21, 20.47it/s]2022-08-22 11:54:28,243 - INFO - detect_tissue - Filtering based on query: otsu_score > 0.1\n",
      " 26%|██▌       | 6312/24592 [04:22<11:09, 27.29it/s]2022-08-22 11:54:28,632 - INFO - detect_tissue -                x_coord  y_coord  xy_extent  tile_size tile_units  otsu_score\n",
      "2022-08-22 11:54:28,632 - INFO - detect_tissue - address                                                                     \n",
      "2022-08-22 11:54:28,632 - INFO - detect_tissue - x2_y19_z10.0      1024     9728        512        128         px        0.27\n",
      "2022-08-22 11:54:28,632 - INFO - detect_tissue - x2_y20_z10.0      1024    10240        512        128         px        0.14\n",
      "2022-08-22 11:54:28,632 - INFO - detect_tissue - x3_y17_z10.0      1536     8704        512        128         px        0.16\n",
      "2022-08-22 11:54:28,632 - INFO - detect_tissue - x3_y18_z10.0      1536     9216        512        128         px        0.39\n",
      "2022-08-22 11:54:28,632 - INFO - detect_tissue - x3_y19_z10.0      1536     9728        512        128         px        0.39\n",
      "2022-08-22 11:54:28,632 - INFO - detect_tissue - ...                ...      ...        ...        ...        ...         ...\n",
      "2022-08-22 11:54:28,632 - INFO - detect_tissue - x83_y23_z10.0    42496    11776        512        128         px        0.14\n",
      "2022-08-22 11:54:28,632 - INFO - detect_tissue - x83_y24_z10.0    42496    12288        512        128         px        0.37\n",
      "2022-08-22 11:54:28,632 - INFO - detect_tissue - x83_y25_z10.0    42496    12800        512        128         px        0.43\n",
      "2022-08-22 11:54:28,632 - INFO - detect_tissue - x83_y26_z10.0    42496    13312        512        128         px        0.39\n",
      "2022-08-22 11:54:28,632 - INFO - detect_tissue - x83_y27_z10.0    42496    13824        512        128         px        0.22\n",
      "2022-08-22 11:54:28,632 - INFO - detect_tissue - \n",
      "2022-08-22 11:54:28,632 - INFO - detect_tissue - [4642 rows x 6 columns]\n",
      " 85%|████████▍ | 9264/10918 [07:06<01:02, 26.39it/s]2022-08-22 11:54:29,164 - INFO - luna.common.utils - Code block 'transform::detect_tissue' took: 472.8258745610001s\n",
      "2022-08-22 11:54:29,185 - INFO - luna.common.utils - ------------------------------------------------------------\n",
      "2022-08-22 11:54:29,185 - INFO - luna.common.utils -  Done with transform, running post-transform functions... \n",
      "2022-08-22 11:54:29,185 - INFO - luna.common.utils - ------------------------------------------------------------\n",
      "2022-08-22 11:54:29,213 - INFO - luna.common.utils - Done.\n",
      " 85%|████████▌ | 9326/10918 [07:09<01:03, 24.90it/s]"
     ]
    },
    {
     "name": "stdout",
     "output_type": "stream",
     "text": [
      "label_tiles ../PRO-12-123/data/toy_data_set/table/ANNOTATIONS /home/pashaa/vmount/PRO-12-123/2_tiling-file/01OV002-ed65cf94-8bc6-492b-9149-adc16f/detected_tiles\n",
      "['label_tiles', PosixPath('../PRO-12-123/data/toy_data_set/table/ANNOTATIONS'), '/home/pashaa/vmount/PRO-12-123/2_tiling-file/01OV002-ed65cf94-8bc6-492b-9149-adc16f/detected_tiles', '-o', '/home/pashaa/vmount/PRO-12-123/2_tiling-file/01OV002-ed65cf94-8bc6-492b-9149-adc16f/labled_tiles']\n"
     ]
    },
    {
     "name": "stderr",
     "output_type": "stream",
     "text": [
      " 26%|██▌       | 6407/24592 [04:25<11:51, 25.58it/s]2022-08-22 11:54:32,033 - INFO - root - Initalized logger, log file at: luna.log\n",
      "2022-08-22 11:54:32,051 - INFO - luna.common.utils - Started CLI Runner wtih <function generate_tile_labels at 0x7f7ba15be1f0>\n",
      "2022-08-22 11:54:32,058 - INFO - luna.common.utils - Validating params...\n",
      "2022-08-22 11:54:32,063 - INFO - luna.common.utils -  -> Set input_slide_annotation_dataset (<class 'str'>) = ../PRO-12-123/data/toy_data_set/table/ANNOTATIONS\n",
      " 86%|████████▌ | 9337/10918 [07:09<00:53, 29.60it/s]2022-08-22 11:54:32,066 - INFO - luna.common.utils -  -> Set input_slide_tiles (<class 'str'>) = /home/pashaa/vmount/PRO-12-123/2_tiling-file/01OV008-7579323e-2fae-43a9-b00f-a15c28/detected_tiles\n",
      "2022-08-22 11:54:32,072 - INFO - luna.common.utils -  -> Set output_dir (<class 'str'>) = /home/pashaa/vmount/PRO-12-123/2_tiling-file/01OV008-7579323e-2fae-43a9-b00f-a15c28/labled_tiles\n",
      "2022-08-22 11:54:32,087 - INFO - luna.common.utils - Expanding inputs...\n",
      "2022-08-22 11:54:32,091 - INFO - luna.common.utils - Attempting to read metadata at ../PRO-12-123/data/toy_data_set/table/ANNOTATIONS/metadata.yml\n",
      "2022-08-22 11:54:32,103 - INFO - luna.common.utils - Expanded input:\n",
      "2022-08-22 11:54:32,103 - INFO - luna.common.utils -  -> ../PRO-12-123/data/toy_data_set/table/ANNOTATIONS\n",
      "2022-08-22 11:54:32,103 - INFO - luna.common.utils -  -> ../PRO-12-123/data/toy_data_set/table/ANNOTATIONS/slide_annotation_dataset_TCGA collection_ov_regional.parquet\n",
      "2022-08-22 11:54:32,122 - INFO - luna.common.utils - Found segment keys: {'dsa_collection_uuid': '63035f7a18325e4c6e929591'}\n",
      "2022-08-22 11:54:32,126 - INFO - luna.common.utils - Attempting to read metadata at /home/pashaa/vmount/PRO-12-123/2_tiling-file/01OV008-7579323e-2fae-43a9-b00f-a15c28/detected_tiles/metadata.yml\n",
      "2022-08-22 11:54:32,170 - INFO - luna.common.utils - Expanded input:\n",
      "2022-08-22 11:54:32,170 - INFO - luna.common.utils -  -> /home/pashaa/vmount/PRO-12-123/2_tiling-file/01OV008-7579323e-2fae-43a9-b00f-a15c28/detected_tiles\n",
      "2022-08-22 11:54:32,170 - INFO - luna.common.utils -  -> /home/pashaa/vmount/PRO-12-123/2_tiling-file/01OV008-7579323e-2fae-43a9-b00f-a15c28/detected_tiles/01OV008-7579323e-2fae-43a9-b00f-a15c28-filtered.tiles.parquet\n",
      " 86%|████████▌ | 9342/10918 [07:09<00:47, 33.12it/s]2022-08-22 11:54:32,179 - INFO - luna.common.utils - Found segment keys: {'slide_id': '01OV008-7579323e-2fae-43a9-b00f-a15c28'}\n",
      " 26%|██▌       | 6413/24592 [04:25<10:25, 29.04it/s]2022-08-22 11:54:32,183 - INFO - luna.common.utils - Resolved input:\n",
      "2022-08-22 11:54:32,183 - INFO - luna.common.utils -  -> ../PRO-12-123/data/toy_data_set/table/ANNOTATIONS/slide_annotation_dataset_TCGA collection_ov_regional.parquet\n",
      "2022-08-22 11:54:32,183 - INFO - luna.common.utils -  -> /home/pashaa/vmount/PRO-12-123/data/toy_data_set/table/ANNOTATIONS/slide_annotation_dataset_TCGA collection_ov_regional.parquet\n",
      "2022-08-22 11:54:32,193 - INFO - luna.common.utils - Resolved input:\n",
      "2022-08-22 11:54:32,193 - INFO - luna.common.utils -  -> /home/pashaa/vmount/PRO-12-123/2_tiling-file/01OV008-7579323e-2fae-43a9-b00f-a15c28/detected_tiles/01OV008-7579323e-2fae-43a9-b00f-a15c28-filtered.tiles.parquet\n",
      "2022-08-22 11:54:32,193 - INFO - luna.common.utils -  -> /home/pashaa/vmount/PRO-12-123/2_tiling-file/01OV008-7579323e-2fae-43a9-b00f-a15c28/detected_tiles/01OV008-7579323e-2fae-43a9-b00f-a15c28-filtered.tiles.parquet\n",
      "2022-08-22 11:54:32,198 - INFO - luna.common.utils - Full segment key set: {'dsa_collection_uuid': '63035f7a18325e4c6e929591', 'slide_id': '01OV008-7579323e-2fae-43a9-b00f-a15c28'}\n",
      "2022-08-22 11:54:32,202 - INFO - luna.common.utils - ------------------------------------------------------------\n",
      "2022-08-22 11:54:32,202 - INFO - luna.common.utils -  Starting transform::generate_tile_labels \n",
      "2022-08-22 11:54:32,202 - INFO - luna.common.utils - ------------------------------------------------------------\n",
      "2022-08-22 11:54:32,205 - INFO - generate_tile_labels - slide_id=01OV008-7579323e-2fae-43a9-b00f-a15c28\n",
      "  1%|          | 33/4288 [00:00<00:13, 303.98it/s]s]"
     ]
    },
    {
     "name": "stdout",
     "output_type": "stream",
     "text": [
      "../PRO-12-123/data/toy_data_set/table/ANNOTATIONS/01OV008-7579323e-2fae-43a9-b00f-a15c28.annotation.geojson TCGA collection ov_regional\n"
     ]
    },
    {
     "name": "stderr",
     "output_type": "stream",
     "text": [
      " 89%|████████▉ | 9690/10918 [07:23<00:46, 26.50it/s]2022-08-22 11:54:45,424 - INFO - root - Initalized logger, log file at: luna.log\n",
      "2022-08-22 11:54:45,451 - INFO - luna.common.utils - Started CLI Runner wtih <function generate_tile_labels at 0x7f9ca214f1f0>\n",
      "2022-08-22 11:54:45,458 - INFO - luna.common.utils - Validating params...\n",
      "2022-08-22 11:54:45,463 - INFO - luna.common.utils -  -> Set input_slide_annotation_dataset (<class 'str'>) = ../PRO-12-123/data/toy_data_set/table/ANNOTATIONS\n",
      "2022-08-22 11:54:45,469 - INFO - luna.common.utils -  -> Set input_slide_tiles (<class 'str'>) = /home/pashaa/vmount/PRO-12-123/2_tiling-file/01OV002-ed65cf94-8bc6-492b-9149-adc16f/detected_tiles\n",
      "2022-08-22 11:54:45,477 - INFO - luna.common.utils -  -> Set output_dir (<class 'str'>) = /home/pashaa/vmount/PRO-12-123/2_tiling-file/01OV002-ed65cf94-8bc6-492b-9149-adc16f/labled_tiles\n",
      "2022-08-22 11:54:45,490 - INFO - luna.common.utils - Expanding inputs...\n",
      " 92%|█████████▏| 3939/4288 [00:12<00:01, 175.23it/s]2022-08-22 11:54:45,497 - INFO - luna.common.utils - Attempting to read metadata at ../PRO-12-123/data/toy_data_set/table/ANNOTATIONS/metadata.yml\n",
      "2022-08-22 11:54:45,522 - INFO - luna.common.utils - Expanded input:\n",
      "2022-08-22 11:54:45,522 - INFO - luna.common.utils -  -> ../PRO-12-123/data/toy_data_set/table/ANNOTATIONS\n",
      "2022-08-22 11:54:45,522 - INFO - luna.common.utils -  -> ../PRO-12-123/data/toy_data_set/table/ANNOTATIONS/slide_annotation_dataset_TCGA collection_ov_regional.parquet\n",
      "2022-08-22 11:54:45,527 - INFO - luna.common.utils - Found segment keys: {'dsa_collection_uuid': '63035f7a18325e4c6e929591'}\n",
      "2022-08-22 11:54:45,530 - INFO - luna.common.utils - Attempting to read metadata at /home/pashaa/vmount/PRO-12-123/2_tiling-file/01OV002-ed65cf94-8bc6-492b-9149-adc16f/detected_tiles/metadata.yml\n",
      " 28%|██▊       | 6797/24592 [04:39<09:26, 31.42it/s]2022-08-22 11:54:45,570 - INFO - luna.common.utils - Expanded input:\n",
      "2022-08-22 11:54:45,570 - INFO - luna.common.utils -  -> /home/pashaa/vmount/PRO-12-123/2_tiling-file/01OV002-ed65cf94-8bc6-492b-9149-adc16f/detected_tiles\n",
      "2022-08-22 11:54:45,570 - INFO - luna.common.utils -  -> /home/pashaa/vmount/PRO-12-123/2_tiling-file/01OV002-ed65cf94-8bc6-492b-9149-adc16f/detected_tiles/01OV002-ed65cf94-8bc6-492b-9149-adc16f-filtered.tiles.parquet\n",
      "2022-08-22 11:54:45,580 - INFO - luna.common.utils - Found segment keys: {'slide_id': '01OV002-ed65cf94-8bc6-492b-9149-adc16f'}\n",
      "2022-08-22 11:54:45,585 - INFO - luna.common.utils - Resolved input:\n",
      "2022-08-22 11:54:45,585 - INFO - luna.common.utils -  -> ../PRO-12-123/data/toy_data_set/table/ANNOTATIONS/slide_annotation_dataset_TCGA collection_ov_regional.parquet\n",
      "2022-08-22 11:54:45,585 - INFO - luna.common.utils -  -> /home/pashaa/vmount/PRO-12-123/data/toy_data_set/table/ANNOTATIONS/slide_annotation_dataset_TCGA collection_ov_regional.parquet\n",
      "2022-08-22 11:54:45,592 - INFO - luna.common.utils - Resolved input:\n",
      "2022-08-22 11:54:45,592 - INFO - luna.common.utils -  -> /home/pashaa/vmount/PRO-12-123/2_tiling-file/01OV002-ed65cf94-8bc6-492b-9149-adc16f/detected_tiles/01OV002-ed65cf94-8bc6-492b-9149-adc16f-filtered.tiles.parquet\n",
      "2022-08-22 11:54:45,592 - INFO - luna.common.utils -  -> /home/pashaa/vmount/PRO-12-123/2_tiling-file/01OV002-ed65cf94-8bc6-492b-9149-adc16f/detected_tiles/01OV002-ed65cf94-8bc6-492b-9149-adc16f-filtered.tiles.parquet\n",
      " 89%|████████▉ | 9694/10918 [07:23<00:48, 25.48it/s]2022-08-22 11:54:45,599 - INFO - luna.common.utils - Full segment key set: {'dsa_collection_uuid': '63035f7a18325e4c6e929591', 'slide_id': '01OV002-ed65cf94-8bc6-492b-9149-adc16f'}\n",
      "2022-08-22 11:54:45,606 - INFO - luna.common.utils - ------------------------------------------------------------\n",
      "2022-08-22 11:54:45,606 - INFO - luna.common.utils -  Starting transform::generate_tile_labels \n",
      "2022-08-22 11:54:45,606 - INFO - luna.common.utils - ------------------------------------------------------------\n",
      "2022-08-22 11:54:45,613 - INFO - generate_tile_labels - slide_id=01OV002-ed65cf94-8bc6-492b-9149-adc16f\n",
      "100%|██████████| 4288/4288 [00:13<00:00, 306.30it/s]\n",
      " 28%|██▊       | 6849/24592 [04:41<10:11, 29.03it/s]"
     ]
    },
    {
     "name": "stdout",
     "output_type": "stream",
     "text": [
      "../PRO-12-123/data/toy_data_set/table/ANNOTATIONS/01OV002-ed65cf94-8bc6-492b-9149-adc16f.annotation.geojson TCGA collection ov_regional\n"
     ]
    },
    {
     "name": "stderr",
     "output_type": "stream",
     "text": [
      "  1%|          | 25/4642 [00:00<00:18, 248.77it/s]2022-08-22 11:54:47,211 - INFO - generate_tile_labels -                x_coord  y_coord  ...  regional_label  intersection_area\n",
      "2022-08-22 11:54:47,211 - INFO - generate_tile_labels - address                          ...                                   \n",
      "2022-08-22 11:54:47,211 - INFO - generate_tile_labels - x22_y51_z10.0    11264    26112  ...          stroma           0.406965\n",
      "2022-08-22 11:54:47,211 - INFO - generate_tile_labels - x22_y52_z10.0    11264    26624  ...          stroma           0.172066\n",
      "2022-08-22 11:54:47,211 - INFO - generate_tile_labels - x23_y51_z10.0    11776    26112  ...          stroma           0.352117\n",
      "2022-08-22 11:54:47,211 - INFO - generate_tile_labels - x23_y52_z10.0    11776    26624  ...          stroma           0.760514\n",
      "2022-08-22 11:54:47,211 - INFO - generate_tile_labels - x23_y53_z10.0    11776    27136  ...          stroma           0.772726\n",
      "2022-08-22 11:54:47,211 - INFO - generate_tile_labels - ...                ...      ...  ...             ...                ...\n",
      "2022-08-22 11:54:47,211 - INFO - generate_tile_labels - x54_y41_z10.0    27648    20992  ...          stroma           0.528478\n",
      "2022-08-22 11:54:47,211 - INFO - generate_tile_labels - x55_y39_z10.0    28160    19968  ...          stroma           0.465030\n",
      "2022-08-22 11:54:47,211 - INFO - generate_tile_labels - x55_y40_z10.0    28160    20480  ...          stroma           0.893236\n",
      "2022-08-22 11:54:47,211 - INFO - generate_tile_labels - x55_y41_z10.0    28160    20992  ...          stroma           0.034031\n",
      "2022-08-22 11:54:47,211 - INFO - generate_tile_labels - x56_y40_z10.0    28672    20480  ...          stroma           0.074149\n",
      "2022-08-22 11:54:47,211 - INFO - generate_tile_labels - \n",
      "2022-08-22 11:54:47,211 - INFO - generate_tile_labels - [88 rows x 8 columns]\n",
      " 28%|██▊       | 6853/24592 [04:41<12:20, 23.95it/s]2022-08-22 11:54:47,620 - INFO - luna.common.utils - Code block 'transform::generate_tile_labels' took: 15.436013171000013s\n",
      "2022-08-22 11:54:47,627 - INFO - luna.common.utils - ------------------------------------------------------------\n",
      "2022-08-22 11:54:47,627 - INFO - luna.common.utils -  Done with transform, running post-transform functions... \n",
      "2022-08-22 11:54:47,627 - INFO - luna.common.utils - ------------------------------------------------------------\n",
      " 89%|████████▉ | 9737/10918 [07:25<00:47, 25.07it/s]2022-08-22 11:54:47,660 - INFO - luna.common.utils - Done.\n",
      " 89%|████████▉ | 9761/10918 [07:26<01:00, 18.97it/s]"
     ]
    },
    {
     "name": "stdout",
     "output_type": "stream",
     "text": [
      "save_tiles file:/home/pashaa/vmount/PRO-12-123/data/toy_data_set/01OV008-7579323e-2fae-43a9-b00f-a15c28.svs /home/pashaa/vmount/PRO-12-123/2_tiling-file/01OV008-7579323e-2fae-43a9-b00f-a15c28/labled_tiles --num_cores 4 --batch_size 200 --dataset_id PRO_TILES_LABELED\n",
      "['save_tiles', PosixPath('file:/home/pashaa/vmount/PRO-12-123/data/toy_data_set/01OV008-7579323e-2fae-43a9-b00f-a15c28.svs'), '/home/pashaa/vmount/PRO-12-123/2_tiling-file/01OV008-7579323e-2fae-43a9-b00f-a15c28/labled_tiles', '--num_cores', '4', '--batch_size', '200', '--dataset_id', 'PRO_TILES_LABELED', '-o', '/home/pashaa/vmount/PRO-12-123/2_tiling-file/01OV008-7579323e-2fae-43a9-b00f-a15c28/saved_tiles']\n"
     ]
    },
    {
     "name": "stderr",
     "output_type": "stream",
     "text": [
      " 29%|██▉       | 7081/24592 [04:51<13:41, 21.30it/s]"
     ]
    },
    {
     "name": "stdout",
     "output_type": "stream",
     "text": [
      "\r",
      "  6%|▌         | 1/18 [00:52<14:44, 52.06s/it]"
     ]
    },
    {
     "name": "stderr",
     "output_type": "stream",
     "text": [
      " 91%|█████████▏| 9989/10918 [07:37<00:35, 25.88it/s]"
     ]
    },
    {
     "name": "stdout",
     "output_type": "stream",
     "text": [
      "\r",
      " 11%|█         | 2/18 [00:54<06:01, 22.60s/it]"
     ]
    },
    {
     "name": "stderr",
     "output_type": "stream",
     "text": [
      " 92%|█████████▏| 10024/10918 [07:38<00:38, 23.00it/s]"
     ]
    },
    {
     "name": "stdout",
     "output_type": "stream",
     "text": [
      "\r",
      " 17%|█▋        | 3/18 [00:55<03:14, 13.00s/it]"
     ]
    },
    {
     "name": "stderr",
     "output_type": "stream",
     "text": [
      " 29%|██▉       | 7176/24592 [04:56<13:31, 21.46it/s]]"
     ]
    },
    {
     "name": "stdout",
     "output_type": "stream",
     "text": [
      "\r",
      " 22%|██▏       | 4/18 [00:56<01:57,  8.40s/it]"
     ]
    },
    {
     "name": "stderr",
     "output_type": "stream",
     "text": [
      " 85%|████████▌ | 3960/4642 [00:19<00:03, 220.54it/s]2022-08-22 11:55:06,606 - INFO - root - Initalized logger, log file at: luna.log\n",
      "100%|██████████| 4642/4642 [00:22<00:00, 203.60it/s]]\n",
      " 94%|█████████▎| 10233/10918 [07:48<00:25, 26.81it/s]2022-08-22 11:55:10,171 - INFO - generate_tile_labels -                x_coord  y_coord  ...  regional_label  intersection_area\n",
      "2022-08-22 11:55:10,171 - INFO - generate_tile_labels - address                          ...                                   \n",
      "2022-08-22 11:55:10,171 - INFO - generate_tile_labels - x20_y56_z10.0    10240    28672  ...          stroma           0.004746\n",
      "2022-08-22 11:55:10,171 - INFO - generate_tile_labels - x20_y57_z10.0    10240    29184  ...          stroma           0.593851\n",
      "2022-08-22 11:55:10,171 - INFO - generate_tile_labels - x20_y58_z10.0    10240    29696  ...          stroma           0.936956\n",
      "2022-08-22 11:55:10,171 - INFO - generate_tile_labels - x20_y59_z10.0    10240    30208  ...          stroma           0.651344\n",
      "2022-08-22 11:55:10,171 - INFO - generate_tile_labels - x20_y60_z10.0    10240    30720  ...          stroma           0.377246\n",
      "2022-08-22 11:55:10,171 - INFO - generate_tile_labels - ...                ...      ...  ...             ...                ...\n",
      "2022-08-22 11:55:10,171 - INFO - generate_tile_labels - x50_y9_z10.0     25600     4608  ...             fat           0.003110\n",
      "2022-08-22 11:55:10,171 - INFO - generate_tile_labels - x50_y10_z10.0    25600     5120  ...             fat           0.227630\n",
      "2022-08-22 11:55:10,171 - INFO - generate_tile_labels - x50_y11_z10.0    25600     5632  ...             fat           0.312645\n",
      "2022-08-22 11:55:10,171 - INFO - generate_tile_labels - x50_y12_z10.0    25600     6144  ...             fat           0.138952\n",
      "2022-08-22 11:55:10,171 - INFO - generate_tile_labels - x50_y13_z10.0    25600     6656  ...             fat           0.000660\n",
      "2022-08-22 11:55:10,171 - INFO - generate_tile_labels - \n",
      "2022-08-22 11:55:10,171 - INFO - generate_tile_labels - [354 rows x 8 columns]\n",
      " 94%|█████████▍| 10238/10918 [07:48<00:21, 31.20it/s]2022-08-22 11:55:10,561 - INFO - luna.common.utils - Code block 'transform::generate_tile_labels' took: 24.961676267999792s\n",
      "2022-08-22 11:55:10,566 - INFO - luna.common.utils - ------------------------------------------------------------\n",
      "2022-08-22 11:55:10,566 - INFO - luna.common.utils -  Done with transform, running post-transform functions... \n",
      "2022-08-22 11:55:10,566 - INFO - luna.common.utils - ------------------------------------------------------------\n",
      "2022-08-22 11:55:10,594 - INFO - luna.common.utils - Done.\n",
      " 94%|█████████▍| 10280/10918 [07:49<00:19, 33.04it/s]"
     ]
    },
    {
     "name": "stdout",
     "output_type": "stream",
     "text": [
      "save_tiles file:/home/pashaa/vmount/PRO-12-123/data/toy_data_set/01OV002-ed65cf94-8bc6-492b-9149-adc16f.svs /home/pashaa/vmount/PRO-12-123/2_tiling-file/01OV002-ed65cf94-8bc6-492b-9149-adc16f/labled_tiles --num_cores 4 --batch_size 200 --dataset_id PRO_TILES_LABELED\n",
      "['save_tiles', PosixPath('file:/home/pashaa/vmount/PRO-12-123/data/toy_data_set/01OV002-ed65cf94-8bc6-492b-9149-adc16f.svs'), '/home/pashaa/vmount/PRO-12-123/2_tiling-file/01OV002-ed65cf94-8bc6-492b-9149-adc16f/labled_tiles', '--num_cores', '4', '--batch_size', '200', '--dataset_id', 'PRO_TILES_LABELED', '-o', '/home/pashaa/vmount/PRO-12-123/2_tiling-file/01OV002-ed65cf94-8bc6-492b-9149-adc16f/saved_tiles']\n"
     ]
    },
    {
     "name": "stderr",
     "output_type": "stream",
     "text": [
      " 97%|█████████▋| 10611/10918 [07:59<00:10, 29.15it/s]2022-08-22 11:55:22,155 - INFO - root - Initalized logger, log file at: luna.log\n",
      " 32%|███▏      | 7909/24592 [05:21<10:35, 26.27it/s]]2022-08-22 11:55:28,179 - INFO - luna.common.utils - Started CLI Runner wtih <function save_tiles at 0x7f0dae853dc0>\n",
      "2022-08-22 11:55:28,182 - INFO - luna.common.utils - Validating params...\n",
      "2022-08-22 11:55:28,186 - INFO - luna.common.utils -  -> Set input_slide_image (<class 'str'>) = file:/home/pashaa/vmount/PRO-12-123/data/toy_data_set/01OV008-7579323e-2fae-43a9-b00f-a15c28.svs\n",
      "2022-08-22 11:55:28,189 - INFO - luna.common.utils -  -> Set input_slide_tiles (<class 'str'>) = /home/pashaa/vmount/PRO-12-123/2_tiling-file/01OV008-7579323e-2fae-43a9-b00f-a15c28/labled_tiles\n",
      "2022-08-22 11:55:28,192 - INFO - luna.common.utils -  -> Set output_dir (<class 'str'>) = /home/pashaa/vmount/PRO-12-123/2_tiling-file/01OV008-7579323e-2fae-43a9-b00f-a15c28/saved_tiles\n",
      "2022-08-22 11:55:28,196 - INFO - luna.common.utils -  -> Set num_cores (<class 'int'>) = 4\n",
      "2022-08-22 11:55:28,211 - INFO - luna.common.utils -  -> Set batch_size (<class 'int'>) = 200\n",
      "2022-08-22 11:55:28,222 - INFO - luna.common.utils - Expanding inputs...\n",
      "2022-08-22 11:55:28,225 - INFO - luna.common.utils - Attempting to read metadata at file:/home/pashaa/vmount/PRO-12-123/data/toy_data_set/01OV008-7579323e-2fae-43a9-b00f-a15c28.svs/metadata.yml\n",
      " 99%|█████████▉| 10823/10918 [08:05<00:03, 27.84it/s]2022-08-22 11:55:28,230 - INFO - luna.common.utils - Attempting to read metadata at /home/pashaa/vmount/PRO-12-123/2_tiling-file/01OV008-7579323e-2fae-43a9-b00f-a15c28/labled_tiles/metadata.yml\n",
      " 32%|███▏      | 7915/24592 [05:22<09:07, 30.46it/s]2022-08-22 11:55:28,258 - INFO - luna.common.utils - Expanded input:\n",
      "2022-08-22 11:55:28,258 - INFO - luna.common.utils -  -> /home/pashaa/vmount/PRO-12-123/2_tiling-file/01OV008-7579323e-2fae-43a9-b00f-a15c28/labled_tiles\n",
      "2022-08-22 11:55:28,258 - INFO - luna.common.utils -  -> /home/pashaa/vmount/PRO-12-123/2_tiling-file/01OV008-7579323e-2fae-43a9-b00f-a15c28/labled_tiles/01OV008-7579323e-2fae-43a9-b00f-a15c28.regional_label.tiles.parquet\n",
      "2022-08-22 11:55:28,268 - INFO - luna.common.utils - Found segment keys: {'dsa_collection_uuid': '63035f7a18325e4c6e929591', 'slide_id': '01OV008-7579323e-2fae-43a9-b00f-a15c28'}\n",
      "2022-08-22 11:55:28,272 - INFO - luna.common.utils - Resolved input:\n",
      "2022-08-22 11:55:28,272 - INFO - luna.common.utils -  -> file:/home/pashaa/vmount/PRO-12-123/data/toy_data_set/01OV008-7579323e-2fae-43a9-b00f-a15c28.svs\n",
      "2022-08-22 11:55:28,272 - INFO - luna.common.utils -  -> /home/pashaa/vmount/PRO-12-123/data/toy_data_set/01OV008-7579323e-2fae-43a9-b00f-a15c28.svs\n",
      "2022-08-22 11:55:28,276 - INFO - luna.common.utils - Resolved input:\n",
      "2022-08-22 11:55:28,276 - INFO - luna.common.utils -  -> /home/pashaa/vmount/PRO-12-123/2_tiling-file/01OV008-7579323e-2fae-43a9-b00f-a15c28/labled_tiles/01OV008-7579323e-2fae-43a9-b00f-a15c28.regional_label.tiles.parquet\n",
      "2022-08-22 11:55:28,276 - INFO - luna.common.utils -  -> /home/pashaa/vmount/PRO-12-123/2_tiling-file/01OV008-7579323e-2fae-43a9-b00f-a15c28/labled_tiles/01OV008-7579323e-2fae-43a9-b00f-a15c28.regional_label.tiles.parquet\n",
      "2022-08-22 11:55:28,279 - INFO - luna.common.utils - Full segment key set: {'dsa_collection_uuid': '63035f7a18325e4c6e929591', 'slide_id': '01OV008-7579323e-2fae-43a9-b00f-a15c28'}\n",
      "2022-08-22 11:55:28,283 - INFO - luna.common.utils - ------------------------------------------------------------\n",
      "2022-08-22 11:55:28,283 - INFO - luna.common.utils -  Starting transform::save_tiles \n",
      "2022-08-22 11:55:28,283 - INFO - luna.common.utils - ------------------------------------------------------------\n",
      " 99%|█████████▉| 10846/10918 [08:06<00:01, 39.51it/s]2022-08-22 11:55:28,802 - INFO - generate_tiles - Now generating tiles with num_cores=4 and batch_size=200!\n",
      "100%|██████████| 10918/10918 [08:08<00:00, 22.36it/s]\n",
      "2022-08-22 11:55:30,617 - INFO - detect_tissue - Filtering based on query: otsu_score > 0.1\n",
      " 33%|███▎      | 8013/24592 [05:24<06:14, 44.21it/s]"
     ]
    },
    {
     "name": "stdout",
     "output_type": "stream",
     "text": [
      "\r",
      "  0%|          | 0/22 [00:00<?, ?it/s]"
     ]
    },
    {
     "name": "stderr",
     "output_type": "stream",
     "text": [
      "2022-08-22 11:55:30,710 - INFO - detect_tissue -                x_coord  y_coord  xy_extent  tile_size tile_units  otsu_score\n",
      "2022-08-22 11:55:30,710 - INFO - detect_tissue - address                                                                     \n",
      "2022-08-22 11:55:30,710 - INFO - detect_tissue - x3_y81_z10.0      1536    41472        512        128         px        0.12\n",
      "2022-08-22 11:55:30,710 - INFO - detect_tissue - x3_y84_z10.0      1536    43008        512        128         px        0.16\n",
      "2022-08-22 11:55:30,710 - INFO - detect_tissue - x3_y85_z10.0      1536    43520        512        128         px        0.32\n",
      "2022-08-22 11:55:30,710 - INFO - detect_tissue - x3_y86_z10.0      1536    44032        512        128         px        0.64\n",
      "2022-08-22 11:55:30,710 - INFO - detect_tissue - x3_y87_z10.0      1536    44544        512        128         px        0.43\n",
      "2022-08-22 11:55:30,710 - INFO - detect_tissue - ...                ...      ...        ...        ...        ...         ...\n",
      "2022-08-22 11:55:30,710 - INFO - detect_tissue - x93_y65_z10.0    47616    33280        512        128         px        0.32\n",
      "2022-08-22 11:55:30,710 - INFO - detect_tissue - x93_y66_z10.0    47616    33792        512        128         px        0.35\n",
      "2022-08-22 11:55:30,710 - INFO - detect_tissue - x93_y67_z10.0    47616    34304        512        128         px        0.58\n",
      "2022-08-22 11:55:30,710 - INFO - detect_tissue - x93_y68_z10.0    47616    34816        512        128         px        0.68\n",
      "2022-08-22 11:55:30,710 - INFO - detect_tissue - x93_y69_z10.0    47616    35328        512        128         px        0.33\n",
      "2022-08-22 11:55:30,710 - INFO - detect_tissue - \n",
      "2022-08-22 11:55:30,710 - INFO - detect_tissue - [5089 rows x 6 columns]\n",
      " 33%|███▎      | 8023/24592 [05:24<08:29, 32.52it/s]2022-08-22 11:55:31,148 - INFO - luna.common.utils - Code block 'transform::detect_tissue' took: 534.9812818990004s\n",
      "2022-08-22 11:55:31,152 - INFO - luna.common.utils - ------------------------------------------------------------\n",
      "2022-08-22 11:55:31,152 - INFO - luna.common.utils -  Done with transform, running post-transform functions... \n",
      "2022-08-22 11:55:31,152 - INFO - luna.common.utils - ------------------------------------------------------------\n",
      "2022-08-22 11:55:31,173 - INFO - luna.common.utils - Done.\n",
      " 33%|███▎      | 8093/24592 [05:27<07:34, 36.33it/s]"
     ]
    },
    {
     "name": "stdout",
     "output_type": "stream",
     "text": [
      "label_tiles ../PRO-12-123/data/toy_data_set/table/ANNOTATIONS /home/pashaa/vmount/PRO-12-123/2_tiling-file/01OV002-bd8cdc70-3d46-40ae-99c4-90ef77/detected_tiles\n",
      "['label_tiles', PosixPath('../PRO-12-123/data/toy_data_set/table/ANNOTATIONS'), '/home/pashaa/vmount/PRO-12-123/2_tiling-file/01OV002-bd8cdc70-3d46-40ae-99c4-90ef77/detected_tiles', '-o', '/home/pashaa/vmount/PRO-12-123/2_tiling-file/01OV002-bd8cdc70-3d46-40ae-99c4-90ef77/labled_tiles']\n"
     ]
    },
    {
     "name": "stderr",
     "output_type": "stream",
     "text": [
      " 33%|███▎      | 8167/24592 [05:30<12:28, 21.95it/s]"
     ]
    },
    {
     "name": "stdout",
     "output_type": "stream",
     "text": [
      "\r",
      " 28%|██▊       | 5/18 [01:31<03:50, 17.74s/it]"
     ]
    },
    {
     "name": "stderr",
     "output_type": "stream",
     "text": [
      " 34%|███▍      | 8375/24592 [05:36<07:50, 34.48it/s]2022-08-22 11:55:42,265 - INFO - luna.common.utils - Started CLI Runner wtih <function save_tiles at 0x7fcef917adc0>\n",
      "2022-08-22 11:55:42,274 - INFO - luna.common.utils - Validating params...\n",
      "2022-08-22 11:55:42,277 - INFO - luna.common.utils -  -> Set input_slide_image (<class 'str'>) = file:/home/pashaa/vmount/PRO-12-123/data/toy_data_set/01OV002-ed65cf94-8bc6-492b-9149-adc16f.svs\n",
      "2022-08-22 11:55:42,282 - INFO - luna.common.utils -  -> Set input_slide_tiles (<class 'str'>) = /home/pashaa/vmount/PRO-12-123/2_tiling-file/01OV002-ed65cf94-8bc6-492b-9149-adc16f/labled_tiles\n",
      "2022-08-22 11:55:42,285 - INFO - luna.common.utils -  -> Set output_dir (<class 'str'>) = /home/pashaa/vmount/PRO-12-123/2_tiling-file/01OV002-ed65cf94-8bc6-492b-9149-adc16f/saved_tiles\n",
      "2022-08-22 11:55:42,288 - INFO - luna.common.utils -  -> Set num_cores (<class 'int'>) = 4\n",
      "2022-08-22 11:55:42,291 - INFO - luna.common.utils -  -> Set batch_size (<class 'int'>) = 200\n",
      "2022-08-22 11:55:42,308 - INFO - luna.common.utils - Expanding inputs...\n",
      "2022-08-22 11:55:42,313 - INFO - luna.common.utils - Attempting to read metadata at file:/home/pashaa/vmount/PRO-12-123/data/toy_data_set/01OV002-ed65cf94-8bc6-492b-9149-adc16f.svs/metadata.yml\n",
      "2022-08-22 11:55:42,319 - INFO - luna.common.utils - Attempting to read metadata at /home/pashaa/vmount/PRO-12-123/2_tiling-file/01OV002-ed65cf94-8bc6-492b-9149-adc16f/labled_tiles/metadata.yml\n",
      "2022-08-22 11:55:42,340 - INFO - luna.common.utils - Expanded input:\n",
      "2022-08-22 11:55:42,340 - INFO - luna.common.utils -  -> /home/pashaa/vmount/PRO-12-123/2_tiling-file/01OV002-ed65cf94-8bc6-492b-9149-adc16f/labled_tiles\n",
      "2022-08-22 11:55:42,340 - INFO - luna.common.utils -  -> /home/pashaa/vmount/PRO-12-123/2_tiling-file/01OV002-ed65cf94-8bc6-492b-9149-adc16f/labled_tiles/01OV002-ed65cf94-8bc6-492b-9149-adc16f.regional_label.tiles.parquet\n",
      " 34%|███▍      | 8379/24592 [05:36<08:05, 33.41it/s]2022-08-22 11:55:42,347 - INFO - luna.common.utils - Found segment keys: {'dsa_collection_uuid': '63035f7a18325e4c6e929591', 'slide_id': '01OV002-ed65cf94-8bc6-492b-9149-adc16f'}\n",
      "2022-08-22 11:55:42,352 - INFO - luna.common.utils - Resolved input:\n",
      "2022-08-22 11:55:42,352 - INFO - luna.common.utils -  -> file:/home/pashaa/vmount/PRO-12-123/data/toy_data_set/01OV002-ed65cf94-8bc6-492b-9149-adc16f.svs\n",
      "2022-08-22 11:55:42,352 - INFO - luna.common.utils -  -> /home/pashaa/vmount/PRO-12-123/data/toy_data_set/01OV002-ed65cf94-8bc6-492b-9149-adc16f.svs\n",
      "2022-08-22 11:55:42,358 - INFO - luna.common.utils - Resolved input:\n",
      "2022-08-22 11:55:42,358 - INFO - luna.common.utils -  -> /home/pashaa/vmount/PRO-12-123/2_tiling-file/01OV002-ed65cf94-8bc6-492b-9149-adc16f/labled_tiles/01OV002-ed65cf94-8bc6-492b-9149-adc16f.regional_label.tiles.parquet\n",
      "2022-08-22 11:55:42,358 - INFO - luna.common.utils -  -> /home/pashaa/vmount/PRO-12-123/2_tiling-file/01OV002-ed65cf94-8bc6-492b-9149-adc16f/labled_tiles/01OV002-ed65cf94-8bc6-492b-9149-adc16f.regional_label.tiles.parquet\n",
      "2022-08-22 11:55:42,361 - INFO - luna.common.utils - Full segment key set: {'dsa_collection_uuid': '63035f7a18325e4c6e929591', 'slide_id': '01OV002-ed65cf94-8bc6-492b-9149-adc16f'}\n",
      "2022-08-22 11:55:42,364 - INFO - luna.common.utils - ------------------------------------------------------------\n",
      "2022-08-22 11:55:42,364 - INFO - luna.common.utils -  Starting transform::save_tiles \n",
      "2022-08-22 11:55:42,364 - INFO - luna.common.utils - ------------------------------------------------------------\n",
      " 34%|███▍      | 8394/24592 [05:36<07:00, 38.52it/s]2022-08-22 11:55:42,844 - INFO - generate_tiles - Now generating tiles with num_cores=4 and batch_size=200!\n",
      " 34%|███▍      | 8456/24592 [05:38<08:21, 32.20it/s]"
     ]
    },
    {
     "name": "stdout",
     "output_type": "stream",
     "text": [
      "\r",
      "  0%|          | 0/24 [00:00<?, ?it/s]"
     ]
    },
    {
     "name": "stderr",
     "output_type": "stream",
     "text": [
      " 34%|███▍      | 8471/24592 [05:38<07:00, 38.37it/s]"
     ]
    },
    {
     "name": "stdout",
     "output_type": "stream",
     "text": [
      "\r",
      " 33%|███▎      | 6/18 [01:39<02:54, 14.55s/it]"
     ]
    },
    {
     "name": "stderr",
     "output_type": "stream",
     "text": [
      " 35%|███▍      | 8502/24592 [05:39<10:11, 26.32it/s]"
     ]
    },
    {
     "name": "stdout",
     "output_type": "stream",
     "text": [
      "\r",
      " 39%|███▉      | 7/18 [01:40<01:51, 10.18s/it]"
     ]
    },
    {
     "name": "stderr",
     "output_type": "stream",
     "text": [
      "2022-08-22 11:55:46,253 - INFO - root - Initalized logger, log file at: luna.log\n",
      "2022-08-22 11:55:46,266 - INFO - luna.common.utils - Started CLI Runner wtih <function generate_tile_labels at 0x7fb5fb5401f0>\n",
      "2022-08-22 11:55:46,294 - INFO - luna.common.utils - Validating params...\n",
      "2022-08-22 11:55:46,298 - INFO - luna.common.utils -  -> Set input_slide_annotation_dataset (<class 'str'>) = ../PRO-12-123/data/toy_data_set/table/ANNOTATIONS\n",
      "2022-08-22 11:55:46,304 - INFO - luna.common.utils -  -> Set input_slide_tiles (<class 'str'>) = /home/pashaa/vmount/PRO-12-123/2_tiling-file/01OV002-bd8cdc70-3d46-40ae-99c4-90ef77/detected_tiles\n",
      " 35%|███▍      | 8506/24592 [05:40<11:10, 23.98it/s]2022-08-22 11:55:46,311 - INFO - luna.common.utils -  -> Set output_dir (<class 'str'>) = /home/pashaa/vmount/PRO-12-123/2_tiling-file/01OV002-bd8cdc70-3d46-40ae-99c4-90ef77/labled_tiles\n",
      "2022-08-22 11:55:46,323 - INFO - luna.common.utils - Expanding inputs...\n",
      "2022-08-22 11:55:46,331 - INFO - luna.common.utils - Attempting to read metadata at ../PRO-12-123/data/toy_data_set/table/ANNOTATIONS/metadata.yml\n",
      "2022-08-22 11:55:46,367 - INFO - luna.common.utils - Expanded input:\n",
      "2022-08-22 11:55:46,367 - INFO - luna.common.utils -  -> ../PRO-12-123/data/toy_data_set/table/ANNOTATIONS\n",
      "2022-08-22 11:55:46,367 - INFO - luna.common.utils -  -> ../PRO-12-123/data/toy_data_set/table/ANNOTATIONS/slide_annotation_dataset_TCGA collection_ov_regional.parquet\n",
      "2022-08-22 11:55:46,380 - INFO - luna.common.utils - Found segment keys: {'dsa_collection_uuid': '63035f7a18325e4c6e929591'}\n",
      "2022-08-22 11:55:46,391 - INFO - luna.common.utils - Attempting to read metadata at /home/pashaa/vmount/PRO-12-123/2_tiling-file/01OV002-bd8cdc70-3d46-40ae-99c4-90ef77/detected_tiles/metadata.yml\n",
      " 35%|███▍      | 8509/24592 [05:40<10:39, 25.14it/s]2022-08-22 11:55:46,449 - INFO - luna.common.utils - Expanded input:\n",
      "2022-08-22 11:55:46,449 - INFO - luna.common.utils -  -> /home/pashaa/vmount/PRO-12-123/2_tiling-file/01OV002-bd8cdc70-3d46-40ae-99c4-90ef77/detected_tiles\n",
      "2022-08-22 11:55:46,449 - INFO - luna.common.utils -  -> /home/pashaa/vmount/PRO-12-123/2_tiling-file/01OV002-bd8cdc70-3d46-40ae-99c4-90ef77/detected_tiles/01OV002-bd8cdc70-3d46-40ae-99c4-90ef77-filtered.tiles.parquet\n",
      "2022-08-22 11:55:46,454 - INFO - luna.common.utils - Found segment keys: {'slide_id': '01OV002-bd8cdc70-3d46-40ae-99c4-90ef77'}\n",
      "2022-08-22 11:55:46,473 - INFO - luna.common.utils - Resolved input:\n",
      "2022-08-22 11:55:46,473 - INFO - luna.common.utils -  -> ../PRO-12-123/data/toy_data_set/table/ANNOTATIONS/slide_annotation_dataset_TCGA collection_ov_regional.parquet\n",
      "2022-08-22 11:55:46,473 - INFO - luna.common.utils -  -> /home/pashaa/vmount/PRO-12-123/data/toy_data_set/table/ANNOTATIONS/slide_annotation_dataset_TCGA collection_ov_regional.parquet\n",
      "2022-08-22 11:55:46,492 - INFO - luna.common.utils - Resolved input:\n",
      "2022-08-22 11:55:46,492 - INFO - luna.common.utils -  -> /home/pashaa/vmount/PRO-12-123/2_tiling-file/01OV002-bd8cdc70-3d46-40ae-99c4-90ef77/detected_tiles/01OV002-bd8cdc70-3d46-40ae-99c4-90ef77-filtered.tiles.parquet\n",
      "2022-08-22 11:55:46,492 - INFO - luna.common.utils -  -> /home/pashaa/vmount/PRO-12-123/2_tiling-file/01OV002-bd8cdc70-3d46-40ae-99c4-90ef77/detected_tiles/01OV002-bd8cdc70-3d46-40ae-99c4-90ef77-filtered.tiles.parquet\n",
      "2022-08-22 11:55:46,498 - INFO - luna.common.utils - Full segment key set: {'dsa_collection_uuid': '63035f7a18325e4c6e929591', 'slide_id': '01OV002-bd8cdc70-3d46-40ae-99c4-90ef77'}\n",
      "2022-08-22 11:55:46,511 - INFO - luna.common.utils - ------------------------------------------------------------\n",
      "2022-08-22 11:55:46,511 - INFO - luna.common.utils -  Starting transform::generate_tile_labels \n",
      "2022-08-22 11:55:46,511 - INFO - luna.common.utils - ------------------------------------------------------------\n",
      "2022-08-22 11:55:46,518 - INFO - generate_tile_labels - slide_id=01OV002-bd8cdc70-3d46-40ae-99c4-90ef77\n",
      "  0%|          | 0/5089 [00:00<?, ?it/s], 30.71it/s]"
     ]
    },
    {
     "name": "stdout",
     "output_type": "stream",
     "text": [
      "../PRO-12-123/data/toy_data_set/table/ANNOTATIONS/01OV002-bd8cdc70-3d46-40ae-99c4-90ef77.annotation.geojson TCGA collection ov_regional\n"
     ]
    },
    {
     "name": "stderr",
     "output_type": "stream",
     "text": [
      "  3%|▎         | 173/5089 [00:00<00:22, 216.65it/s]]"
     ]
    },
    {
     "name": "stdout",
     "output_type": "stream",
     "text": [
      "\r",
      " 44%|████▍     | 8/18 [01:42<01:15,  7.57s/it]"
     ]
    },
    {
     "name": "stderr",
     "output_type": "stream",
     "text": [
      "100%|██████████| 5089/5089 [00:22<00:00, 229.72it/s]\n",
      " 37%|███▋      | 9189/24592 [06:03<07:32, 34.08it/s]2022-08-22 11:56:09,682 - INFO - generate_tile_labels -                x_coord  y_coord  ...  regional_label  intersection_area\n",
      "2022-08-22 11:56:09,682 - INFO - generate_tile_labels - address                          ...                                   \n",
      "2022-08-22 11:56:09,682 - INFO - generate_tile_labels - x26_y56_z10.0    13312    28672  ...          stroma           0.053094\n",
      "2022-08-22 11:56:09,682 - INFO - generate_tile_labels - x26_y57_z10.0    13312    29184  ...          stroma           0.341454\n",
      "2022-08-22 11:56:09,682 - INFO - generate_tile_labels - x27_y56_z10.0    13824    28672  ...          stroma           0.655530\n",
      "2022-08-22 11:56:09,682 - INFO - generate_tile_labels - x27_y57_z10.0    13824    29184  ...          stroma           0.898266\n",
      "2022-08-22 11:56:09,682 - INFO - generate_tile_labels - x28_y55_z10.0    14336    28160  ...          stroma           0.258913\n",
      "2022-08-22 11:56:09,682 - INFO - generate_tile_labels - ...                ...      ...  ...             ...                ...\n",
      "2022-08-22 11:56:09,682 - INFO - generate_tile_labels - x65_y72_z10.0    33280    36864  ...           tumor           0.419049\n",
      "2022-08-22 11:56:09,682 - INFO - generate_tile_labels - x65_y73_z10.0    33280    37376  ...           tumor           0.553953\n",
      "2022-08-22 11:56:09,682 - INFO - generate_tile_labels - x65_y74_z10.0    33280    37888  ...           tumor           0.102413\n",
      "2022-08-22 11:56:09,682 - INFO - generate_tile_labels - x66_y70_z10.0    33792    35840  ...           tumor           0.187448\n",
      "2022-08-22 11:56:09,682 - INFO - generate_tile_labels - x66_y71_z10.0    33792    36352  ...           tumor           0.062544\n",
      "2022-08-22 11:56:09,682 - INFO - generate_tile_labels - \n",
      "2022-08-22 11:56:09,682 - INFO - generate_tile_labels - [170 rows x 8 columns]\n"
     ]
    },
    {
     "name": "stdout",
     "output_type": "stream",
     "text": [
      "\r",
      "  5%|▍         | 1/22 [00:39<13:45, 39.30s/it]"
     ]
    },
    {
     "name": "stderr",
     "output_type": "stream",
     "text": [
      " 37%|███▋      | 9193/24592 [06:03<07:37, 33.66it/s]2022-08-22 11:56:10,145 - INFO - luna.common.utils - Code block 'transform::generate_tile_labels' took: 23.6461106859997s\n",
      "2022-08-22 11:56:10,149 - INFO - luna.common.utils - ------------------------------------------------------------\n",
      "2022-08-22 11:56:10,149 - INFO - luna.common.utils -  Done with transform, running post-transform functions... \n",
      "2022-08-22 11:56:10,149 - INFO - luna.common.utils - ------------------------------------------------------------\n",
      "2022-08-22 11:56:10,183 - INFO - luna.common.utils - Done.\n",
      " 38%|███▊      | 9242/24592 [06:06<10:58, 23.29it/s]"
     ]
    },
    {
     "name": "stdout",
     "output_type": "stream",
     "text": [
      "save_tiles file:/home/pashaa/vmount/PRO-12-123/data/toy_data_set/01OV002-bd8cdc70-3d46-40ae-99c4-90ef77.svs /home/pashaa/vmount/PRO-12-123/2_tiling-file/01OV002-bd8cdc70-3d46-40ae-99c4-90ef77/labled_tiles --num_cores 4 --batch_size 200 --dataset_id PRO_TILES_LABELED\n",
      "['save_tiles', PosixPath('file:/home/pashaa/vmount/PRO-12-123/data/toy_data_set/01OV002-bd8cdc70-3d46-40ae-99c4-90ef77.svs'), '/home/pashaa/vmount/PRO-12-123/2_tiling-file/01OV002-bd8cdc70-3d46-40ae-99c4-90ef77/labled_tiles', '--num_cores', '4', '--batch_size', '200', '--dataset_id', 'PRO_TILES_LABELED', '-o', '/home/pashaa/vmount/PRO-12-123/2_tiling-file/01OV002-bd8cdc70-3d46-40ae-99c4-90ef77/saved_tiles']\n"
     ]
    },
    {
     "name": "stderr",
     "output_type": "stream",
     "text": [
      " 38%|███▊      | 9254/24592 [06:06<13:13, 19.32it/s]"
     ]
    },
    {
     "name": "stdout",
     "output_type": "stream",
     "text": [
      "\r",
      "  9%|▉         | 2/22 [00:42<05:59, 17.96s/it]"
     ]
    },
    {
     "name": "stderr",
     "output_type": "stream",
     "text": [
      " 38%|███▊      | 9328/24592 [06:09<10:11, 24.96it/s]"
     ]
    },
    {
     "name": "stdout",
     "output_type": "stream",
     "text": [
      "\r",
      " 14%|█▎        | 3/22 [00:45<03:31, 11.16s/it]"
     ]
    },
    {
     "name": "stderr",
     "output_type": "stream",
     "text": [
      " 38%|███▊      | 9338/24592 [06:10<12:11, 20.85it/s]"
     ]
    },
    {
     "name": "stdout",
     "output_type": "stream",
     "text": [
      "\r",
      " 50%|█████     | 9/18 [02:11<02:06, 14.07s/it]"
     ]
    },
    {
     "name": "stderr",
     "output_type": "stream",
     "text": [
      " 38%|███▊      | 9362/24592 [06:11<14:17, 17.75it/s]"
     ]
    },
    {
     "name": "stdout",
     "output_type": "stream",
     "text": [
      "\r",
      " 18%|█▊        | 4/22 [00:47<02:15,  7.54s/it]"
     ]
    },
    {
     "name": "stderr",
     "output_type": "stream",
     "text": [
      " 39%|███▉      | 9642/24592 [06:22<12:32, 19.87it/s]"
     ]
    },
    {
     "name": "stdout",
     "output_type": "stream",
     "text": [
      "\r",
      "  4%|▍         | 1/24 [00:43<16:49, 43.90s/it]"
     ]
    },
    {
     "name": "stderr",
     "output_type": "stream",
     "text": [
      " 39%|███▉      | 9687/24592 [06:24<09:37, 25.80it/s]2022-08-22 11:56:30,303 - INFO - root - Initalized logger, log file at: luna.log\n",
      " 39%|███▉      | 9690/24592 [06:24<10:28, 23.69it/s]"
     ]
    },
    {
     "name": "stdout",
     "output_type": "stream",
     "text": [
      "\r",
      " 56%|█████▌    | 10/18 [02:24<01:51, 13.98s/it]"
     ]
    },
    {
     "name": "stderr",
     "output_type": "stream",
     "text": [
      " 39%|███▉      | 9706/24592 [06:24<09:38, 25.72it/s]"
     ]
    },
    {
     "name": "stdout",
     "output_type": "stream",
     "text": [
      "\r",
      "  8%|▊         | 2/24 [00:46<07:13, 19.69s/it]"
     ]
    },
    {
     "name": "stderr",
     "output_type": "stream",
     "text": [
      " 40%|███▉      | 9760/24592 [06:27<13:50, 17.85it/s]"
     ]
    },
    {
     "name": "stdout",
     "output_type": "stream",
     "text": [
      "\r",
      " 61%|██████    | 11/18 [02:27<01:14, 10.61s/it]\r",
      " 12%|█▎        | 3/24 [00:49<04:07, 11.80s/it]"
     ]
    },
    {
     "name": "stderr",
     "output_type": "stream",
     "text": [
      " 40%|███▉      | 9799/24592 [06:28<09:43, 25.33it/s]"
     ]
    },
    {
     "name": "stdout",
     "output_type": "stream",
     "text": [
      "\r",
      " 67%|██████▋   | 12/18 [02:29<00:47,  7.97s/it]\r",
      " 17%|█▋        | 4/24 [00:51<02:38,  7.94s/it]"
     ]
    },
    {
     "name": "stderr",
     "output_type": "stream",
     "text": [
      " 42%|████▏     | 10310/24592 [06:50<11:06, 21.42it/s]"
     ]
    },
    {
     "name": "stdout",
     "output_type": "stream",
     "text": [
      "\r",
      " 23%|██▎       | 5/22 [01:26<05:22, 18.97s/it]"
     ]
    },
    {
     "name": "stderr",
     "output_type": "stream",
     "text": [
      " 42%|████▏     | 10343/24592 [06:52<09:16, 25.62it/s]"
     ]
    },
    {
     "name": "stdout",
     "output_type": "stream",
     "text": [
      "\r",
      " 27%|██▋       | 6/22 [01:28<03:29, 13.07s/it]"
     ]
    },
    {
     "name": "stderr",
     "output_type": "stream",
     "text": [
      " 42%|████▏     | 10401/24592 [06:54<07:44, 30.55it/s]2022-08-22 11:57:00,848 - INFO - luna.common.utils - Started CLI Runner wtih <function save_tiles at 0x7f82f77aedc0>\n",
      "2022-08-22 11:57:00,858 - INFO - luna.common.utils - Validating params...\n",
      "2022-08-22 11:57:00,862 - INFO - luna.common.utils -  -> Set input_slide_image (<class 'str'>) = file:/home/pashaa/vmount/PRO-12-123/data/toy_data_set/01OV002-bd8cdc70-3d46-40ae-99c4-90ef77.svs\n",
      "2022-08-22 11:57:00,872 - INFO - luna.common.utils -  -> Set input_slide_tiles (<class 'str'>) = /home/pashaa/vmount/PRO-12-123/2_tiling-file/01OV002-bd8cdc70-3d46-40ae-99c4-90ef77/labled_tiles\n",
      "2022-08-22 11:57:00,876 - INFO - luna.common.utils -  -> Set output_dir (<class 'str'>) = /home/pashaa/vmount/PRO-12-123/2_tiling-file/01OV002-bd8cdc70-3d46-40ae-99c4-90ef77/saved_tiles\n",
      "2022-08-22 11:57:00,881 - INFO - luna.common.utils -  -> Set num_cores (<class 'int'>) = 4\n",
      "2022-08-22 11:57:00,888 - INFO - luna.common.utils -  -> Set batch_size (<class 'int'>) = 200\n",
      "2022-08-22 11:57:00,916 - INFO - luna.common.utils - Expanding inputs...\n",
      "2022-08-22 11:57:00,919 - INFO - luna.common.utils - Attempting to read metadata at file:/home/pashaa/vmount/PRO-12-123/data/toy_data_set/01OV002-bd8cdc70-3d46-40ae-99c4-90ef77.svs/metadata.yml\n",
      "2022-08-22 11:57:00,924 - INFO - luna.common.utils - Attempting to read metadata at /home/pashaa/vmount/PRO-12-123/2_tiling-file/01OV002-bd8cdc70-3d46-40ae-99c4-90ef77/labled_tiles/metadata.yml\n",
      "2022-08-22 11:57:00,967 - INFO - luna.common.utils - Expanded input:\n",
      "2022-08-22 11:57:00,967 - INFO - luna.common.utils -  -> /home/pashaa/vmount/PRO-12-123/2_tiling-file/01OV002-bd8cdc70-3d46-40ae-99c4-90ef77/labled_tiles\n",
      "2022-08-22 11:57:00,967 - INFO - luna.common.utils -  -> /home/pashaa/vmount/PRO-12-123/2_tiling-file/01OV002-bd8cdc70-3d46-40ae-99c4-90ef77/labled_tiles/01OV002-bd8cdc70-3d46-40ae-99c4-90ef77.regional_label.tiles.parquet\n",
      "2022-08-22 11:57:00,975 - INFO - luna.common.utils - Found segment keys: {'dsa_collection_uuid': '63035f7a18325e4c6e929591', 'slide_id': '01OV002-bd8cdc70-3d46-40ae-99c4-90ef77'}\n",
      "2022-08-22 11:57:00,979 - INFO - luna.common.utils - Resolved input:\n",
      "2022-08-22 11:57:00,979 - INFO - luna.common.utils -  -> file:/home/pashaa/vmount/PRO-12-123/data/toy_data_set/01OV002-bd8cdc70-3d46-40ae-99c4-90ef77.svs\n",
      "2022-08-22 11:57:00,979 - INFO - luna.common.utils -  -> /home/pashaa/vmount/PRO-12-123/data/toy_data_set/01OV002-bd8cdc70-3d46-40ae-99c4-90ef77.svs\n",
      "2022-08-22 11:57:00,986 - INFO - luna.common.utils - Resolved input:\n",
      "2022-08-22 11:57:00,986 - INFO - luna.common.utils -  -> /home/pashaa/vmount/PRO-12-123/2_tiling-file/01OV002-bd8cdc70-3d46-40ae-99c4-90ef77/labled_tiles/01OV002-bd8cdc70-3d46-40ae-99c4-90ef77.regional_label.tiles.parquet\n",
      "2022-08-22 11:57:00,986 - INFO - luna.common.utils -  -> /home/pashaa/vmount/PRO-12-123/2_tiling-file/01OV002-bd8cdc70-3d46-40ae-99c4-90ef77/labled_tiles/01OV002-bd8cdc70-3d46-40ae-99c4-90ef77.regional_label.tiles.parquet\n",
      "2022-08-22 11:57:01,002 - INFO - luna.common.utils - Full segment key set: {'dsa_collection_uuid': '63035f7a18325e4c6e929591', 'slide_id': '01OV002-bd8cdc70-3d46-40ae-99c4-90ef77'}\n",
      "2022-08-22 11:57:01,005 - INFO - luna.common.utils - ------------------------------------------------------------\n",
      "2022-08-22 11:57:01,005 - INFO - luna.common.utils -  Starting transform::save_tiles \n",
      "2022-08-22 11:57:01,005 - INFO - luna.common.utils - ------------------------------------------------------------\n",
      " 42%|████▏     | 10442/24592 [06:56<08:54, 26.47it/s]2022-08-22 11:57:02,230 - INFO - generate_tiles - Now generating tiles with num_cores=4 and batch_size=200!\n",
      " 43%|████▎     | 10533/24592 [06:59<08:23, 27.92it/s]"
     ]
    },
    {
     "name": "stdout",
     "output_type": "stream",
     "text": [
      "\r",
      " 32%|███▏      | 7/22 [01:34<02:44, 10.97s/it]"
     ]
    },
    {
     "name": "stderr",
     "output_type": "stream",
     "text": [
      " 43%|████▎     | 10569/24592 [07:00<10:09, 23.00it/s]"
     ]
    },
    {
     "name": "stdout",
     "output_type": "stream",
     "text": [
      "\r",
      " 36%|███▋      | 8/22 [01:36<01:51,  7.94s/it]\r",
      "  0%|          | 0/26 [00:00<?, ?it/s]"
     ]
    },
    {
     "name": "stderr",
     "output_type": "stream",
     "text": [
      " 43%|████▎     | 10660/24592 [07:05<10:35, 21.91it/s]"
     ]
    },
    {
     "name": "stdout",
     "output_type": "stream",
     "text": [
      "\r",
      " 72%|███████▏  | 13/18 [03:06<01:23, 16.70s/it]"
     ]
    },
    {
     "name": "stderr",
     "output_type": "stream",
     "text": [
      " 45%|████▍     | 10957/24592 [07:19<10:09, 22.37it/s]"
     ]
    },
    {
     "name": "stdout",
     "output_type": "stream",
     "text": [
      "\r",
      " 21%|██        | 5/24 [01:41<07:24, 23.38s/it]"
     ]
    },
    {
     "name": "stderr",
     "output_type": "stream",
     "text": [
      " 45%|████▍     | 10988/24592 [07:21<14:33, 15.58it/s]"
     ]
    },
    {
     "name": "stdout",
     "output_type": "stream",
     "text": [
      "\r",
      " 25%|██▌       | 6/24 [01:43<04:48, 16.03s/it]"
     ]
    },
    {
     "name": "stderr",
     "output_type": "stream",
     "text": [
      " 45%|████▍     | 11008/24592 [07:23<19:10, 11.81it/s]"
     ]
    },
    {
     "name": "stdout",
     "output_type": "stream",
     "text": [
      "\r",
      " 78%|███████▊  | 14/18 [03:24<01:08, 17.05s/it]"
     ]
    },
    {
     "name": "stderr",
     "output_type": "stream",
     "text": [
      " 45%|████▍     | 11027/24592 [07:25<23:32,  9.60it/s]"
     ]
    },
    {
     "name": "stdout",
     "output_type": "stream",
     "text": [
      "\r",
      " 29%|██▉       | 7/24 [01:47<03:27, 12.22s/it]"
     ]
    },
    {
     "name": "stderr",
     "output_type": "stream",
     "text": [
      " 45%|████▍     | 11051/24592 [07:28<20:19, 11.10it/s]"
     ]
    },
    {
     "name": "stdout",
     "output_type": "stream",
     "text": [
      "\r",
      " 83%|████████▎ | 15/18 [03:28<00:39, 13.24s/it]"
     ]
    },
    {
     "name": "stderr",
     "output_type": "stream",
     "text": [
      " 45%|████▌     | 11070/24592 [07:30<20:31, 10.98it/s]"
     ]
    },
    {
     "name": "stdout",
     "output_type": "stream",
     "text": [
      "\r",
      " 33%|███▎      | 8/24 [01:51<02:33,  9.59s/it]"
     ]
    },
    {
     "name": "stderr",
     "output_type": "stream",
     "text": [
      " 45%|████▌     | 11113/24592 [07:34<27:59,  8.03it/s]"
     ]
    },
    {
     "name": "stdout",
     "output_type": "stream",
     "text": [
      "\r",
      " 89%|████████▉ | 16/18 [03:35<00:22, 11.30s/it]"
     ]
    },
    {
     "name": "stderr",
     "output_type": "stream",
     "text": [
      " 47%|████▋     | 11578/24592 [08:12<15:14, 14.23it/s]  "
     ]
    },
    {
     "name": "stdout",
     "output_type": "stream",
     "text": [
      "\r",
      " 41%|████      | 9/22 [02:48<06:04, 28.01s/it]"
     ]
    },
    {
     "name": "stderr",
     "output_type": "stream",
     "text": [
      " 47%|████▋     | 11605/24592 [08:14<14:02, 15.42it/s]"
     ]
    },
    {
     "name": "stdout",
     "output_type": "stream",
     "text": [
      "\r",
      " 94%|█████████▍| 17/18 [04:15<00:19, 19.92s/it]"
     ]
    },
    {
     "name": "stderr",
     "output_type": "stream",
     "text": [
      " 48%|████▊     | 11693/24592 [08:20<14:11, 15.15it/s]"
     ]
    },
    {
     "name": "stdout",
     "output_type": "stream",
     "text": [
      "\r",
      "  4%|▍         | 1/26 [01:19<33:07, 79.51s/it]"
     ]
    },
    {
     "name": "stderr",
     "output_type": "stream",
     "text": [
      "\r",
      " 48%|████▊     | 11696/24592 [08:20<13:37, 15.78it/s]\r",
      " 48%|████▊     | 11701/24592 [08:20<10:10, 21.11it/s]"
     ]
    },
    {
     "name": "stdout",
     "output_type": "stream",
     "text": [
      "\r",
      " 45%|████▌     | 10/22 [02:56<04:21, 21.79s/it]"
     ]
    },
    {
     "name": "stderr",
     "output_type": "stream",
     "text": [
      " 48%|████▊     | 11805/24592 [08:25<10:08, 21.02it/s]"
     ]
    },
    {
     "name": "stdout",
     "output_type": "stream",
     "text": [
      "\r",
      "  8%|▊         | 2/26 [01:24<14:09, 35.40s/it]\r",
      " 50%|█████     | 11/22 [03:00<03:00, 16.39s/it]"
     ]
    },
    {
     "name": "stderr",
     "output_type": "stream",
     "text": [
      " 48%|████▊     | 11890/24592 [08:28<06:57, 30.43it/s]"
     ]
    },
    {
     "name": "stdout",
     "output_type": "stream",
     "text": [
      "\r",
      " 55%|█████▍    | 12/22 [03:03<02:03, 12.38s/it]"
     ]
    },
    {
     "name": "stderr",
     "output_type": "stream",
     "text": [
      "\r",
      " 48%|████▊     | 11894/24592 [08:28<08:13, 25.71it/s]\r",
      " 48%|████▊     | 11897/24592 [08:28<09:20, 22.64it/s]"
     ]
    },
    {
     "name": "stdout",
     "output_type": "stream",
     "text": [
      "\r",
      " 12%|█▏        | 3/26 [01:27<08:02, 20.98s/it]"
     ]
    },
    {
     "name": "stderr",
     "output_type": "stream",
     "text": [
      " 49%|████▊     | 11936/24592 [08:30<08:57, 23.56it/s]"
     ]
    },
    {
     "name": "stdout",
     "output_type": "stream",
     "text": [
      "\r",
      " 15%|█▌        | 4/26 [01:29<04:52, 13.29s/it]"
     ]
    },
    {
     "name": "stderr",
     "output_type": "stream",
     "text": [
      " 49%|████▊     | 11955/24592 [08:30<08:01, 26.25it/s]"
     ]
    },
    {
     "name": "stdout",
     "output_type": "stream",
     "text": [
      "\r",
      "100%|██████████| 18/18 [04:31<00:00, 18.79s/it]\r",
      "100%|██████████| 18/18 [04:31<00:00, 15.10s/it]"
     ]
    },
    {
     "name": "stderr",
     "output_type": "stream",
     "text": [
      " 49%|████▉     | 12040/24592 [08:33<07:43, 27.11it/s]2022-08-22 11:58:39,950 - INFO - generate_tiles -                x_coord  ...                                         tile_store\n",
      "2022-08-22 11:58:39,950 - INFO - generate_tiles - address                 ...                                                   \n",
      "2022-08-22 11:58:39,950 - INFO - generate_tiles - x4_y38_z10.0      2048  ...  /home/pashaa/vmount/PRO-12-123/2_tiling-file/0...\n",
      "2022-08-22 11:58:39,950 - INFO - generate_tiles - x4_y39_z10.0      2048  ...  /home/pashaa/vmount/PRO-12-123/2_tiling-file/0...\n",
      "2022-08-22 11:58:39,950 - INFO - generate_tiles - x4_y40_z10.0      2048  ...  /home/pashaa/vmount/PRO-12-123/2_tiling-file/0...\n",
      "2022-08-22 11:58:39,950 - INFO - generate_tiles - x5_y39_z10.0      2560  ...  /home/pashaa/vmount/PRO-12-123/2_tiling-file/0...\n",
      "2022-08-22 11:58:39,950 - INFO - generate_tiles - x5_y40_z10.0      2560  ...  /home/pashaa/vmount/PRO-12-123/2_tiling-file/0...\n",
      "2022-08-22 11:58:39,950 - INFO - generate_tiles - ...                ...  ...                                                ...\n",
      "2022-08-22 11:58:39,950 - INFO - generate_tiles - x90_y19_z10.0    46080  ...  /home/pashaa/vmount/PRO-12-123/2_tiling-file/0...\n",
      "2022-08-22 11:58:39,950 - INFO - generate_tiles - x90_y20_z10.0    46080  ...  /home/pashaa/vmount/PRO-12-123/2_tiling-file/0...\n",
      "2022-08-22 11:58:39,950 - INFO - generate_tiles - x90_y21_z10.0    46080  ...  /home/pashaa/vmount/PRO-12-123/2_tiling-file/0...\n",
      "2022-08-22 11:58:39,950 - INFO - generate_tiles - x90_y22_z10.0    46080  ...  /home/pashaa/vmount/PRO-12-123/2_tiling-file/0...\n",
      "2022-08-22 11:58:39,950 - INFO - generate_tiles - x91_y21_z10.0    46592  ...  /home/pashaa/vmount/PRO-12-123/2_tiling-file/0...\n",
      "2022-08-22 11:58:39,950 - INFO - generate_tiles - \n",
      "2022-08-22 11:58:39,950 - INFO - generate_tiles - [3490 rows x 9 columns]\n",
      " 49%|████▉     | 12049/24592 [08:34<07:04, 29.56it/s]2022-08-22 11:58:40,529 - INFO - luna.common.utils - Code block 'transform::save_tiles' took: 278.9789229400003s\n",
      "2022-08-22 11:58:40,535 - INFO - luna.common.utils - ------------------------------------------------------------\n",
      "2022-08-22 11:58:40,535 - INFO - luna.common.utils -  Done with transform, running post-transform functions... \n",
      "2022-08-22 11:58:40,535 - INFO - luna.common.utils - ------------------------------------------------------------\n",
      " 49%|████▉     | 12054/24592 [08:34<06:34, 31.74it/s]2022-08-22 11:58:40,591 - INFO - luna.common.utils - Adding feature segment /home/pashaa/vmount/PRO-12-123/2_tiling-file/01OV008-308ad404-7079-4ff8-8232-12ee2e/saved_tiles/01OV008-308ad404-7079-4ff8-8232-12ee2e.tiles.parquet to PRO_TILES_LABELED\n",
      "2022-08-22 11:58:40,603 - INFO - luna.common.utils - Found dataset URL = file:////home/pashaa/vmount/PRO-12-123/\n",
      "2022-08-22 11:58:40,616 - INFO - luna.common.utils - Adding /home/pashaa/vmount/PRO-12-123/2_tiling-file/01OV008-308ad404-7079-4ff8-8232-12ee2e/saved_tiles/01OV008-308ad404-7079-4ff8-8232-12ee2e.tiles.parquet to PRO_TILES_LABELED via file:////home/pashaa/vmount/PRO-12-123/\n",
      "2022-08-22 11:58:40,620 - INFO - luna.common.utils - SEGMENT_ID=63035f7a18325e4c6e929591-01OV008-308ad404-7079-4ff8-8232-12ee2e\n",
      "2022-08-22 11:58:40,624 - INFO - luna.common.utils - Writing to: //home/pashaa/vmount/PRO-12-123/datasets/PRO_TILES_LABELED/segments/63035f7a18325e4c6e929591-01OV008-308ad404-7079-4ff8-8232-12ee2e\n",
      " 49%|████▉     | 12066/24592 [08:34<07:32, 27.70it/s]2022-08-22 11:58:41,045 - INFO - luna.common.utils - Done.\n",
      " 49%|████▉     | 12070/24592 [08:34<07:45, 26.91it/s]"
     ]
    },
    {
     "name": "stdout",
     "output_type": "stream",
     "text": [
      "\n"
     ]
    },
    {
     "name": "stderr",
     "output_type": "stream",
     "text": [
      " 50%|████▉     | 12185/24592 [08:42<08:19, 24.83it/s]"
     ]
    },
    {
     "name": "stdout",
     "output_type": "stream",
     "text": [
      "\r",
      " 38%|███▊      | 9/24 [03:03<07:16, 29.07s/it]"
     ]
    },
    {
     "name": "stderr",
     "output_type": "stream",
     "text": [
      " 50%|████▉     | 12220/24592 [08:43<13:30, 15.26it/s]"
     ]
    },
    {
     "name": "stdout",
     "output_type": "stream",
     "text": [
      "\r",
      " 42%|████▏     | 10/24 [03:05<04:49, 20.70s/it]"
     ]
    },
    {
     "name": "stderr",
     "output_type": "stream",
     "text": [
      " 50%|████▉     | 12258/24592 [08:45<10:01, 20.49it/s]"
     ]
    },
    {
     "name": "stdout",
     "output_type": "stream",
     "text": [
      "\r",
      " 46%|████▌     | 11/24 [03:07<03:13, 14.88s/it]"
     ]
    },
    {
     "name": "stderr",
     "output_type": "stream",
     "text": [
      " 50%|████▉     | 12290/24592 [08:47<08:47, 23.31it/s]"
     ]
    },
    {
     "name": "stdout",
     "output_type": "stream",
     "text": [
      "\r",
      " 50%|█████     | 12/24 [03:09<02:09, 10.83s/it]"
     ]
    },
    {
     "name": "stderr",
     "output_type": "stream",
     "text": [
      " 52%|█████▏    | 12787/24592 [09:07<08:26, 23.29it/s]"
     ]
    },
    {
     "name": "stdout",
     "output_type": "stream",
     "text": [
      "\r",
      " 59%|█████▉    | 13/22 [03:43<03:05, 20.62s/it]"
     ]
    },
    {
     "name": "stderr",
     "output_type": "stream",
     "text": [
      " 52%|█████▏    | 12861/24592 [09:11<11:59, 16.30it/s]"
     ]
    },
    {
     "name": "stdout",
     "output_type": "stream",
     "text": [
      "\r",
      " 64%|██████▎   | 14/22 [03:47<02:04, 15.55s/it]"
     ]
    },
    {
     "name": "stderr",
     "output_type": "stream",
     "text": [
      " 52%|█████▏    | 12905/24592 [09:14<10:22, 18.76it/s]"
     ]
    },
    {
     "name": "stdout",
     "output_type": "stream",
     "text": [
      "\r",
      " 19%|█▉        | 5/26 [02:13<08:31, 24.34s/it]"
     ]
    },
    {
     "name": "stderr",
     "output_type": "stream",
     "text": [
      " 53%|█████▎    | 13022/24592 [09:22<20:14,  9.53it/s]"
     ]
    },
    {
     "name": "stdout",
     "output_type": "stream",
     "text": [
      " 68%|██████▊   | 15/22 [03:58<01:40, 14.36s/it]"
     ]
    },
    {
     "name": "stderr",
     "output_type": "stream",
     "text": [
      " 53%|█████▎    | 13052/24592 [09:26<24:54,  7.72it/s]"
     ]
    },
    {
     "name": "stdout",
     "output_type": "stream",
     "text": [
      "\r",
      " 73%|███████▎  | 16/22 [04:02<01:07, 11.24s/it]"
     ]
    },
    {
     "name": "stderr",
     "output_type": "stream",
     "text": [
      " 53%|█████▎    | 13112/24592 [09:35<29:03,  6.58it/s]"
     ]
    },
    {
     "name": "stdout",
     "output_type": "stream",
     "text": [
      "\r",
      " 27%|██▋       | 7/26 [02:34<05:22, 16.96s/it]"
     ]
    },
    {
     "name": "stderr",
     "output_type": "stream",
     "text": [
      " 53%|█████▎    | 13141/24592 [09:43<2:15:25,  1.41it/s]"
     ]
    },
    {
     "name": "stdout",
     "output_type": "stream",
     "text": [
      "\r",
      " 31%|███       | 8/26 [02:44<04:25, 14.74s/it]"
     ]
    },
    {
     "name": "stderr",
     "output_type": "stream",
     "text": [
      " 54%|█████▍    | 13346/24592 [10:36<14:37, 12.81it/s]  "
     ]
    },
    {
     "name": "stdout",
     "output_type": "stream",
     "text": [
      "\r",
      " 54%|█████▍    | 13/24 [04:58<07:28, 40.81s/it]"
     ]
    },
    {
     "name": "stderr",
     "output_type": "stream",
     "text": [
      " 55%|█████▍    | 13424/24592 [10:41<12:28, 14.93it/s]"
     ]
    },
    {
     "name": "stdout",
     "output_type": "stream",
     "text": [
      "\r",
      " 58%|█████▊    | 14/24 [05:03<04:59, 29.97s/it]"
     ]
    },
    {
     "name": "stderr",
     "output_type": "stream",
     "text": [
      " 55%|█████▍    | 13477/24592 [10:45<12:27, 14.88it/s]"
     ]
    },
    {
     "name": "stdout",
     "output_type": "stream",
     "text": [
      "\r",
      " 62%|██████▎   | 15/24 [05:07<03:17, 21.93s/it]"
     ]
    },
    {
     "name": "stderr",
     "output_type": "stream",
     "text": [
      " 55%|█████▍    | 13524/24592 [10:47<09:30, 19.42it/s]"
     ]
    },
    {
     "name": "stdout",
     "output_type": "stream",
     "text": [
      "\r",
      " 67%|██████▋   | 16/24 [05:09<02:08, 16.07s/it]"
     ]
    },
    {
     "name": "stderr",
     "output_type": "stream",
     "text": [
      " 58%|█████▊    | 14151/24592 [11:09<06:18, 27.61it/s]"
     ]
    },
    {
     "name": "stdout",
     "output_type": "stream",
     "text": [
      "\r",
      " 77%|███████▋  | 17/22 [05:44<03:13, 38.60s/it]\r",
      " 35%|███▍      | 9/26 [04:08<10:18, 36.38s/it]"
     ]
    },
    {
     "name": "stderr",
     "output_type": "stream",
     "text": [
      " 58%|█████▊    | 14188/24592 [11:11<08:06, 21.37it/s]"
     ]
    },
    {
     "name": "stdout",
     "output_type": "stream",
     "text": [
      "\r",
      " 38%|███▊      | 10/26 [04:10<06:50, 25.68s/it]\r",
      " 82%|████████▏ | 18/22 [05:46<01:50, 27.55s/it]"
     ]
    },
    {
     "name": "stderr",
     "output_type": "stream",
     "text": [
      " 58%|█████▊    | 14236/24592 [11:12<07:10, 24.05it/s]"
     ]
    },
    {
     "name": "stdout",
     "output_type": "stream",
     "text": [
      "\r",
      " 86%|████████▋ | 19/22 [05:48<00:59, 19.75s/it]"
     ]
    },
    {
     "name": "stderr",
     "output_type": "stream",
     "text": [
      " 58%|█████▊    | 14259/24592 [11:13<06:52, 25.08it/s]"
     ]
    },
    {
     "name": "stdout",
     "output_type": "stream",
     "text": [
      "\r",
      " 42%|████▏     | 11/26 [04:12<04:39, 18.63s/it]"
     ]
    },
    {
     "name": "stderr",
     "output_type": "stream",
     "text": [
      " 58%|█████▊    | 14325/24592 [11:15<04:09, 41.15it/s]"
     ]
    },
    {
     "name": "stdout",
     "output_type": "stream",
     "text": [
      "\r",
      " 91%|█████████ | 20/22 [05:51<00:29, 14.70s/it]"
     ]
    },
    {
     "name": "stderr",
     "output_type": "stream",
     "text": [
      " 58%|█████▊    | 14343/24592 [11:16<05:07, 33.33it/s]"
     ]
    },
    {
     "name": "stdout",
     "output_type": "stream",
     "text": [
      "\r",
      " 46%|████▌     | 12/26 [04:15<03:12, 13.73s/it]"
     ]
    },
    {
     "name": "stderr",
     "output_type": "stream",
     "text": [
      " 59%|█████▉    | 14491/24592 [11:20<05:06, 32.98it/s]"
     ]
    },
    {
     "name": "stdout",
     "output_type": "stream",
     "text": [
      "\r",
      " 71%|███████   | 17/24 [05:42<02:27, 21.05s/it]"
     ]
    },
    {
     "name": "stderr",
     "output_type": "stream",
     "text": [
      " 59%|█████▉    | 14531/24592 [11:21<04:43, 35.45it/s]"
     ]
    },
    {
     "name": "stdout",
     "output_type": "stream",
     "text": [
      "\r",
      " 75%|███████▌  | 18/24 [05:43<01:30, 15.15s/it]"
     ]
    },
    {
     "name": "stderr",
     "output_type": "stream",
     "text": [
      " 60%|█████▉    | 14698/24592 [11:26<05:35, 29.47it/s]"
     ]
    },
    {
     "name": "stdout",
     "output_type": "stream",
     "text": [
      "\r",
      " 79%|███████▉  | 19/24 [05:48<01:00, 12.19s/it]"
     ]
    },
    {
     "name": "stderr",
     "output_type": "stream",
     "text": [
      " 60%|█████▉    | 14737/24592 [11:28<05:17, 31.08it/s]"
     ]
    },
    {
     "name": "stdout",
     "output_type": "stream",
     "text": [
      "\r",
      " 95%|█████████▌| 21/22 [06:03<00:13, 14.00s/it]"
     ]
    },
    {
     "name": "stderr",
     "output_type": "stream",
     "text": [
      " 60%|██████    | 14821/24592 [11:30<05:24, 30.11it/s]"
     ]
    },
    {
     "name": "stdout",
     "output_type": "stream",
     "text": [
      "\r",
      " 83%|████████▎ | 20/24 [05:52<00:38,  9.69s/it]"
     ]
    },
    {
     "name": "stderr",
     "output_type": "stream",
     "text": [
      " 61%|██████▏   | 15088/24592 [11:38<04:16, 37.01it/s]"
     ]
    },
    {
     "name": "stdout",
     "output_type": "stream",
     "text": [
      "\r",
      " 88%|████████▊ | 21/24 [05:59<00:26,  8.97s/it]"
     ]
    },
    {
     "name": "stderr",
     "output_type": "stream",
     "text": [
      " 62%|██████▏   | 15242/24592 [11:42<05:18, 29.36it/s]"
     ]
    },
    {
     "name": "stdout",
     "output_type": "stream",
     "text": [
      "\r",
      " 50%|█████     | 13/26 [04:41<03:46, 17.41s/it]"
     ]
    },
    {
     "name": "stderr",
     "output_type": "stream",
     "text": [
      " 63%|██████▎   | 15416/24592 [11:46<04:04, 37.56it/s]"
     ]
    },
    {
     "name": "stdout",
     "output_type": "stream",
     "text": [
      "\r",
      " 54%|█████▍    | 14/26 [04:45<02:41, 13.43s/it]"
     ]
    },
    {
     "name": "stderr",
     "output_type": "stream",
     "text": [
      " 63%|██████▎   | 15434/24592 [11:47<04:47, 31.90it/s]"
     ]
    },
    {
     "name": "stdout",
     "output_type": "stream",
     "text": [
      "\r",
      "100%|██████████| 22/22 [06:22<00:00, 15.49s/it]\r",
      "100%|██████████| 22/22 [06:22<00:00, 17.39s/it]"
     ]
    },
    {
     "name": "stderr",
     "output_type": "stream",
     "text": [
      " 63%|██████▎   | 15467/24592 [11:48<04:27, 34.05it/s]"
     ]
    },
    {
     "name": "stdout",
     "output_type": "stream",
     "text": [
      "\r",
      " 58%|█████▊    | 15/26 [04:47<01:49,  9.98s/it]"
     ]
    },
    {
     "name": "stderr",
     "output_type": "stream",
     "text": [
      " 63%|██████▎   | 15530/24592 [11:50<03:53, 38.85it/s]"
     ]
    },
    {
     "name": "stdout",
     "output_type": "stream",
     "text": [
      "\r",
      " 62%|██████▏   | 16/26 [04:49<01:15,  7.52s/it]"
     ]
    },
    {
     "name": "stderr",
     "output_type": "stream",
     "text": [
      " 63%|██████▎   | 15588/24592 [11:51<04:10, 35.99it/s]2022-08-22 12:01:57,551 - INFO - generate_tiles -                x_coord  ...                                         tile_store\n",
      "2022-08-22 12:01:57,551 - INFO - generate_tiles - address                 ...                                                   \n",
      "2022-08-22 12:01:57,551 - INFO - generate_tiles - x3_y67_z10.0      1536  ...  /home/pashaa/vmount/PRO-12-123/2_tiling-file/0...\n",
      "2022-08-22 12:01:57,551 - INFO - generate_tiles - x3_y73_z10.0      1536  ...  /home/pashaa/vmount/PRO-12-123/2_tiling-file/0...\n",
      "2022-08-22 12:01:57,551 - INFO - generate_tiles - x4_y66_z10.0      2048  ...  /home/pashaa/vmount/PRO-12-123/2_tiling-file/0...\n",
      "2022-08-22 12:01:57,551 - INFO - generate_tiles - x4_y67_z10.0      2048  ...  /home/pashaa/vmount/PRO-12-123/2_tiling-file/0...\n",
      "2022-08-22 12:01:57,551 - INFO - generate_tiles - x4_y68_z10.0      2048  ...  /home/pashaa/vmount/PRO-12-123/2_tiling-file/0...\n",
      "2022-08-22 12:01:57,551 - INFO - generate_tiles - ...                ...  ...                                                ...\n",
      "2022-08-22 12:01:57,551 - INFO - generate_tiles - x63_y70_z10.0    32256  ...  /home/pashaa/vmount/PRO-12-123/2_tiling-file/0...\n",
      "2022-08-22 12:01:57,551 - INFO - generate_tiles - x63_y71_z10.0    32256  ...  /home/pashaa/vmount/PRO-12-123/2_tiling-file/0...\n",
      "2022-08-22 12:01:57,551 - INFO - generate_tiles - x63_y72_z10.0    32256  ...  /home/pashaa/vmount/PRO-12-123/2_tiling-file/0...\n",
      "2022-08-22 12:01:57,551 - INFO - generate_tiles - x63_y73_z10.0    32256  ...  /home/pashaa/vmount/PRO-12-123/2_tiling-file/0...\n",
      "2022-08-22 12:01:57,551 - INFO - generate_tiles - x63_y74_z10.0    32256  ...  /home/pashaa/vmount/PRO-12-123/2_tiling-file/0...\n",
      "2022-08-22 12:01:57,551 - INFO - generate_tiles - \n",
      "2022-08-22 12:01:57,551 - INFO - generate_tiles - [4288 rows x 9 columns]\n",
      " 63%|██████▎   | 15605/24592 [11:52<03:37, 41.39it/s]2022-08-22 12:01:58,478 - INFO - luna.common.utils - Code block 'transform::save_tiles' took: 390.4659805029996s\n",
      "2022-08-22 12:01:58,489 - INFO - luna.common.utils - ------------------------------------------------------------\n",
      "2022-08-22 12:01:58,489 - INFO - luna.common.utils -  Done with transform, running post-transform functions... \n",
      "2022-08-22 12:01:58,489 - INFO - luna.common.utils - ------------------------------------------------------------\n",
      "2022-08-22 12:01:58,530 - INFO - luna.common.utils - Adding feature segment /home/pashaa/vmount/PRO-12-123/2_tiling-file/01OV008-7579323e-2fae-43a9-b00f-a15c28/saved_tiles/01OV008-7579323e-2fae-43a9-b00f-a15c28.tiles.parquet to PRO_TILES_LABELED\n",
      "2022-08-22 12:01:58,534 - INFO - luna.common.utils - Found dataset URL = file:////home/pashaa/vmount/PRO-12-123/\n",
      "2022-08-22 12:01:58,538 - INFO - luna.common.utils - Adding /home/pashaa/vmount/PRO-12-123/2_tiling-file/01OV008-7579323e-2fae-43a9-b00f-a15c28/saved_tiles/01OV008-7579323e-2fae-43a9-b00f-a15c28.tiles.parquet to PRO_TILES_LABELED via file:////home/pashaa/vmount/PRO-12-123/\n",
      "2022-08-22 12:01:58,542 - INFO - luna.common.utils - SEGMENT_ID=63035f7a18325e4c6e929591-01OV008-7579323e-2fae-43a9-b00f-a15c28\n",
      "2022-08-22 12:01:58,545 - INFO - luna.common.utils - Writing to: //home/pashaa/vmount/PRO-12-123/datasets/PRO_TILES_LABELED/segments/63035f7a18325e4c6e929591-01OV008-7579323e-2fae-43a9-b00f-a15c28\n",
      " 63%|██████▎   | 15615/24592 [11:52<03:31, 42.40it/s]2022-08-22 12:01:58,899 - INFO - luna.common.utils - Done.\n",
      " 64%|██████▎   | 15624/24592 [11:52<05:04, 29.44it/s]"
     ]
    },
    {
     "name": "stdout",
     "output_type": "stream",
     "text": [
      "\n"
     ]
    },
    {
     "name": "stderr",
     "output_type": "stream",
     "text": [
      " 64%|██████▍   | 15711/24592 [11:58<06:02, 24.47it/s]"
     ]
    },
    {
     "name": "stdout",
     "output_type": "stream",
     "text": [
      "\r",
      " 92%|█████████▏| 22/24 [06:20<00:24, 12.42s/it]"
     ]
    },
    {
     "name": "stderr",
     "output_type": "stream",
     "text": [
      " 65%|██████▍   | 15907/24592 [12:04<04:44, 30.53it/s]"
     ]
    },
    {
     "name": "stdout",
     "output_type": "stream",
     "text": [
      "\r",
      " 96%|█████████▌| 23/24 [06:26<00:10, 10.48s/it]"
     ]
    },
    {
     "name": "stderr",
     "output_type": "stream",
     "text": [
      " 65%|██████▍   | 15955/24592 [12:05<04:52, 29.57it/s]"
     ]
    },
    {
     "name": "stdout",
     "output_type": "stream",
     "text": [
      "\r",
      "100%|██████████| 24/24 [06:27<00:00,  7.74s/it]\r",
      "100%|██████████| 24/24 [06:27<00:00, 16.16s/it]"
     ]
    },
    {
     "name": "stderr",
     "output_type": "stream",
     "text": [
      " 66%|██████▌   | 16110/24592 [12:11<06:08, 23.04it/s]2022-08-22 12:02:16,758 - INFO - generate_tiles -                x_coord  ...                                         tile_store\n",
      "2022-08-22 12:02:16,758 - INFO - generate_tiles - address                 ...                                                   \n",
      "2022-08-22 12:02:16,758 - INFO - generate_tiles - x2_y19_z10.0      1024  ...  /home/pashaa/vmount/PRO-12-123/2_tiling-file/0...\n",
      "2022-08-22 12:02:16,758 - INFO - generate_tiles - x2_y20_z10.0      1024  ...  /home/pashaa/vmount/PRO-12-123/2_tiling-file/0...\n",
      "2022-08-22 12:02:16,758 - INFO - generate_tiles - x3_y17_z10.0      1536  ...  /home/pashaa/vmount/PRO-12-123/2_tiling-file/0...\n",
      "2022-08-22 12:02:16,758 - INFO - generate_tiles - x3_y18_z10.0      1536  ...  /home/pashaa/vmount/PRO-12-123/2_tiling-file/0...\n",
      "2022-08-22 12:02:16,758 - INFO - generate_tiles - x3_y19_z10.0      1536  ...  /home/pashaa/vmount/PRO-12-123/2_tiling-file/0...\n",
      "2022-08-22 12:02:16,758 - INFO - generate_tiles - ...                ...  ...                                                ...\n",
      "2022-08-22 12:02:16,758 - INFO - generate_tiles - x83_y23_z10.0    42496  ...  /home/pashaa/vmount/PRO-12-123/2_tiling-file/0...\n",
      "2022-08-22 12:02:16,758 - INFO - generate_tiles - x83_y24_z10.0    42496  ...  /home/pashaa/vmount/PRO-12-123/2_tiling-file/0...\n",
      "2022-08-22 12:02:16,758 - INFO - generate_tiles - x83_y25_z10.0    42496  ...  /home/pashaa/vmount/PRO-12-123/2_tiling-file/0...\n",
      "2022-08-22 12:02:16,758 - INFO - generate_tiles - x83_y26_z10.0    42496  ...  /home/pashaa/vmount/PRO-12-123/2_tiling-file/0...\n",
      "2022-08-22 12:02:16,758 - INFO - generate_tiles - x83_y27_z10.0    42496  ...  /home/pashaa/vmount/PRO-12-123/2_tiling-file/0...\n",
      "2022-08-22 12:02:16,758 - INFO - generate_tiles - \n",
      "2022-08-22 12:02:16,758 - INFO - generate_tiles - [4642 rows x 9 columns]\n",
      " 66%|██████▌   | 16131/24592 [12:11<04:06, 34.26it/s]2022-08-22 12:02:17,934 - INFO - luna.common.utils - Code block 'transform::save_tiles' took: 395.83392659200035s\n",
      "2022-08-22 12:02:17,942 - INFO - luna.common.utils - ------------------------------------------------------------\n",
      "2022-08-22 12:02:17,942 - INFO - luna.common.utils -  Done with transform, running post-transform functions... \n",
      "2022-08-22 12:02:17,942 - INFO - luna.common.utils - ------------------------------------------------------------\n",
      "2022-08-22 12:02:17,986 - INFO - luna.common.utils - Adding feature segment /home/pashaa/vmount/PRO-12-123/2_tiling-file/01OV002-ed65cf94-8bc6-492b-9149-adc16f/saved_tiles/01OV002-ed65cf94-8bc6-492b-9149-adc16f.tiles.parquet to PRO_TILES_LABELED\n",
      "2022-08-22 12:02:18,006 - INFO - luna.common.utils - Found dataset URL = file:////home/pashaa/vmount/PRO-12-123/\n",
      "2022-08-22 12:02:18,013 - INFO - luna.common.utils - Adding /home/pashaa/vmount/PRO-12-123/2_tiling-file/01OV002-ed65cf94-8bc6-492b-9149-adc16f/saved_tiles/01OV002-ed65cf94-8bc6-492b-9149-adc16f.tiles.parquet to PRO_TILES_LABELED via file:////home/pashaa/vmount/PRO-12-123/\n",
      "2022-08-22 12:02:18,022 - INFO - luna.common.utils - SEGMENT_ID=63035f7a18325e4c6e929591-01OV002-ed65cf94-8bc6-492b-9149-adc16f\n",
      "2022-08-22 12:02:18,029 - INFO - luna.common.utils - Writing to: //home/pashaa/vmount/PRO-12-123/datasets/PRO_TILES_LABELED/segments/63035f7a18325e4c6e929591-01OV002-ed65cf94-8bc6-492b-9149-adc16f\n",
      " 66%|██████▌   | 16149/24592 [12:12<06:19, 22.22it/s]2022-08-22 12:02:18,929 - INFO - luna.common.utils - Done.\n"
     ]
    },
    {
     "name": "stdout",
     "output_type": "stream",
     "text": [
      "\n"
     ]
    },
    {
     "name": "stderr",
     "output_type": "stream",
     "text": [
      " 67%|██████▋   | 16440/24592 [12:22<04:57, 27.45it/s]"
     ]
    },
    {
     "name": "stdout",
     "output_type": "stream",
     "text": [
      "\r",
      " 65%|██████▌   | 17/26 [05:21<02:15, 15.04s/it]"
     ]
    },
    {
     "name": "stderr",
     "output_type": "stream",
     "text": [
      " 67%|██████▋   | 16555/24592 [12:28<09:41, 13.83it/s]"
     ]
    },
    {
     "name": "stdout",
     "output_type": "stream",
     "text": [
      "\r",
      " 69%|██████▉   | 18/26 [05:27<01:36, 12.10s/it]"
     ]
    },
    {
     "name": "stderr",
     "output_type": "stream",
     "text": [
      " 68%|██████▊   | 16689/24592 [12:33<05:42, 23.10it/s]"
     ]
    },
    {
     "name": "stdout",
     "output_type": "stream",
     "text": [
      "\r",
      " 73%|███████▎  | 19/26 [05:32<01:10, 10.06s/it]"
     ]
    },
    {
     "name": "stderr",
     "output_type": "stream",
     "text": [
      " 68%|██████▊   | 16725/24592 [12:34<05:09, 25.43it/s]"
     ]
    },
    {
     "name": "stdout",
     "output_type": "stream",
     "text": [
      "\r",
      " 77%|███████▋  | 20/26 [05:34<00:45,  7.54s/it]"
     ]
    },
    {
     "name": "stderr",
     "output_type": "stream",
     "text": [
      " 72%|███████▏  | 17599/24592 [13:20<04:33, 25.61it/s]"
     ]
    },
    {
     "name": "stdout",
     "output_type": "stream",
     "text": [
      "\r",
      " 81%|████████  | 21/26 [06:19<01:33, 18.79s/it]"
     ]
    },
    {
     "name": "stderr",
     "output_type": "stream",
     "text": [
      " 72%|███████▏  | 17711/24592 [13:23<03:17, 34.77it/s]"
     ]
    },
    {
     "name": "stdout",
     "output_type": "stream",
     "text": [
      "\r",
      " 85%|████████▍ | 22/26 [06:22<00:56, 14.22s/it]"
     ]
    },
    {
     "name": "stderr",
     "output_type": "stream",
     "text": [
      " 72%|███████▏  | 17827/24592 [13:27<03:28, 32.42it/s]"
     ]
    },
    {
     "name": "stdout",
     "output_type": "stream",
     "text": [
      "\r",
      " 88%|████████▊ | 23/26 [06:26<00:33, 11.04s/it]"
     ]
    },
    {
     "name": "stderr",
     "output_type": "stream",
     "text": [
      " 73%|███████▎  | 17878/24592 [13:28<02:02, 54.88it/s]"
     ]
    },
    {
     "name": "stdout",
     "output_type": "stream",
     "text": [
      "\r",
      " 92%|█████████▏| 24/26 [06:27<00:16,  8.00s/it]"
     ]
    },
    {
     "name": "stderr",
     "output_type": "stream",
     "text": [
      " 74%|███████▍  | 18147/24592 [13:32<01:25, 75.44it/s]"
     ]
    },
    {
     "name": "stdout",
     "output_type": "stream",
     "text": [
      "\r",
      " 96%|█████████▌| 25/26 [06:31<00:06,  6.81s/it]"
     ]
    },
    {
     "name": "stderr",
     "output_type": "stream",
     "text": [
      " 76%|███████▌  | 18681/24592 [13:38<01:24, 70.15it/s]"
     ]
    },
    {
     "name": "stdout",
     "output_type": "stream",
     "text": [
      "\r",
      "100%|██████████| 26/26 [06:38<00:00,  6.82s/it]\r",
      "100%|██████████| 26/26 [06:38<00:00, 15.31s/it]"
     ]
    },
    {
     "name": "stderr",
     "output_type": "stream",
     "text": [
      " 77%|███████▋  | 18917/24592 [13:42<01:04, 88.10it/s]2022-08-22 12:03:48,006 - INFO - generate_tiles -                x_coord  ...                                         tile_store\n",
      "2022-08-22 12:03:48,006 - INFO - generate_tiles - address                 ...                                                   \n",
      "2022-08-22 12:03:48,006 - INFO - generate_tiles - x3_y81_z10.0      1536  ...  /home/pashaa/vmount/PRO-12-123/2_tiling-file/0...\n",
      "2022-08-22 12:03:48,006 - INFO - generate_tiles - x3_y84_z10.0      1536  ...  /home/pashaa/vmount/PRO-12-123/2_tiling-file/0...\n",
      "2022-08-22 12:03:48,006 - INFO - generate_tiles - x3_y85_z10.0      1536  ...  /home/pashaa/vmount/PRO-12-123/2_tiling-file/0...\n",
      "2022-08-22 12:03:48,006 - INFO - generate_tiles - x3_y86_z10.0      1536  ...  /home/pashaa/vmount/PRO-12-123/2_tiling-file/0...\n",
      "2022-08-22 12:03:48,006 - INFO - generate_tiles - x3_y87_z10.0      1536  ...  /home/pashaa/vmount/PRO-12-123/2_tiling-file/0...\n",
      "2022-08-22 12:03:48,006 - INFO - generate_tiles - ...                ...  ...                                                ...\n",
      "2022-08-22 12:03:48,006 - INFO - generate_tiles - x93_y65_z10.0    47616  ...  /home/pashaa/vmount/PRO-12-123/2_tiling-file/0...\n",
      "2022-08-22 12:03:48,006 - INFO - generate_tiles - x93_y66_z10.0    47616  ...  /home/pashaa/vmount/PRO-12-123/2_tiling-file/0...\n",
      "2022-08-22 12:03:48,006 - INFO - generate_tiles - x93_y67_z10.0    47616  ...  /home/pashaa/vmount/PRO-12-123/2_tiling-file/0...\n",
      "2022-08-22 12:03:48,006 - INFO - generate_tiles - x93_y68_z10.0    47616  ...  /home/pashaa/vmount/PRO-12-123/2_tiling-file/0...\n",
      "2022-08-22 12:03:48,006 - INFO - generate_tiles - x93_y69_z10.0    47616  ...  /home/pashaa/vmount/PRO-12-123/2_tiling-file/0...\n",
      "2022-08-22 12:03:48,006 - INFO - generate_tiles - \n",
      "2022-08-22 12:03:48,006 - INFO - generate_tiles - [5089 rows x 9 columns]\n",
      " 77%|███████▋  | 18949/24592 [13:42<01:01, 92.06it/s]2022-08-22 12:03:48,689 - INFO - luna.common.utils - Code block 'transform::save_tiles' took: 407.9680689679999s\n",
      "2022-08-22 12:03:48,696 - INFO - luna.common.utils - ------------------------------------------------------------\n",
      "2022-08-22 12:03:48,696 - INFO - luna.common.utils -  Done with transform, running post-transform functions... \n",
      "2022-08-22 12:03:48,696 - INFO - luna.common.utils - ------------------------------------------------------------\n",
      "2022-08-22 12:03:48,730 - INFO - luna.common.utils - Adding feature segment /home/pashaa/vmount/PRO-12-123/2_tiling-file/01OV002-bd8cdc70-3d46-40ae-99c4-90ef77/saved_tiles/01OV002-bd8cdc70-3d46-40ae-99c4-90ef77.tiles.parquet to PRO_TILES_LABELED\n",
      "2022-08-22 12:03:48,735 - INFO - luna.common.utils - Found dataset URL = file:////home/pashaa/vmount/PRO-12-123/\n",
      "2022-08-22 12:03:48,739 - INFO - luna.common.utils - Adding /home/pashaa/vmount/PRO-12-123/2_tiling-file/01OV002-bd8cdc70-3d46-40ae-99c4-90ef77/saved_tiles/01OV002-bd8cdc70-3d46-40ae-99c4-90ef77.tiles.parquet to PRO_TILES_LABELED via file:////home/pashaa/vmount/PRO-12-123/\n",
      "2022-08-22 12:03:48,742 - INFO - luna.common.utils - SEGMENT_ID=63035f7a18325e4c6e929591-01OV002-bd8cdc70-3d46-40ae-99c4-90ef77\n",
      "2022-08-22 12:03:48,748 - INFO - luna.common.utils - Writing to: //home/pashaa/vmount/PRO-12-123/datasets/PRO_TILES_LABELED/segments/63035f7a18325e4c6e929591-01OV002-bd8cdc70-3d46-40ae-99c4-90ef77\n",
      " 77%|███████▋  | 18959/24592 [13:42<01:12, 77.86it/s]2022-08-22 12:03:48,910 - INFO - luna.common.utils - Done.\n",
      " 77%|███████▋  | 18976/24592 [13:42<01:22, 67.96it/s]"
     ]
    },
    {
     "name": "stdout",
     "output_type": "stream",
     "text": [
      "\n"
     ]
    },
    {
     "name": "stderr",
     "output_type": "stream",
     "text": [
      "100%|██████████| 24592/24592 [14:37<00:00, 28.04it/s] \n",
      "2022-08-22 12:04:43,474 - INFO - detect_tissue - Filtering based on query: otsu_score > 0.1\n",
      "2022-08-22 12:04:43,773 - INFO - detect_tissue -                 x_coord  y_coord  xy_extent  tile_size tile_units  otsu_score\n",
      "2022-08-22 12:04:43,773 - INFO - detect_tissue - address                                                                      \n",
      "2022-08-22 12:04:43,773 - INFO - detect_tissue - x3_y74_z10.0       1536    37888        512        128         px        0.12\n",
      "2022-08-22 12:04:43,773 - INFO - detect_tissue - x3_y75_z10.0       1536    38400        512        128         px        0.33\n",
      "2022-08-22 12:04:43,773 - INFO - detect_tissue - x3_y76_z10.0       1536    38912        512        128         px        0.53\n",
      "2022-08-22 12:04:43,773 - INFO - detect_tissue - x3_y77_z10.0       1536    39424        512        128         px        0.70\n",
      "2022-08-22 12:04:43,773 - INFO - detect_tissue - x3_y78_z10.0       1536    39936        512        128         px        0.75\n",
      "2022-08-22 12:04:43,773 - INFO - detect_tissue - ...                 ...      ...        ...        ...        ...         ...\n",
      "2022-08-22 12:04:43,773 - INFO - detect_tissue - x206_y13_z10.0   105472     6656        512        128         px        0.34\n",
      "2022-08-22 12:04:43,773 - INFO - detect_tissue - x206_y14_z10.0   105472     7168        512        128         px        0.51\n",
      "2022-08-22 12:04:43,773 - INFO - detect_tissue - x206_y15_z10.0   105472     7680        512        128         px        0.74\n",
      "2022-08-22 12:04:43,773 - INFO - detect_tissue - x206_y38_z10.0   105472    19456        512        128         px        0.11\n",
      "2022-08-22 12:04:43,773 - INFO - detect_tissue - x207_y12_z10.0   105984     6144        512        128         px        0.21\n",
      "2022-08-22 12:04:43,773 - INFO - detect_tissue - \n",
      "2022-08-22 12:04:43,773 - INFO - detect_tissue - [5317 rows x 6 columns]\n",
      "2022-08-22 12:04:44,237 - INFO - luna.common.utils - Code block 'transform::detect_tissue' took: 1087.8831860019995s\n",
      "2022-08-22 12:04:44,240 - INFO - luna.common.utils - ------------------------------------------------------------\n",
      "2022-08-22 12:04:44,240 - INFO - luna.common.utils -  Done with transform, running post-transform functions... \n",
      "2022-08-22 12:04:44,240 - INFO - luna.common.utils - ------------------------------------------------------------\n",
      "2022-08-22 12:04:44,258 - INFO - luna.common.utils - Done.\n"
     ]
    },
    {
     "name": "stdout",
     "output_type": "stream",
     "text": [
      "label_tiles ../PRO-12-123/data/toy_data_set/table/ANNOTATIONS /home/pashaa/vmount/PRO-12-123/2_tiling-file/01OV007-9b90eb78-2f50-4aeb-b010-d642f9/detected_tiles\n",
      "['label_tiles', PosixPath('../PRO-12-123/data/toy_data_set/table/ANNOTATIONS'), '/home/pashaa/vmount/PRO-12-123/2_tiling-file/01OV007-9b90eb78-2f50-4aeb-b010-d642f9/detected_tiles', '-o', '/home/pashaa/vmount/PRO-12-123/2_tiling-file/01OV007-9b90eb78-2f50-4aeb-b010-d642f9/labled_tiles']\n"
     ]
    },
    {
     "name": "stderr",
     "output_type": "stream",
     "text": [
      "2022-08-22 12:04:50,532 - INFO - root - Initalized logger, log file at: luna.log\n",
      "2022-08-22 12:04:50,536 - INFO - luna.common.utils - Started CLI Runner wtih <function generate_tile_labels at 0x7f764902a1f0>\n",
      "2022-08-22 12:04:50,538 - INFO - luna.common.utils - Validating params...\n",
      "2022-08-22 12:04:50,541 - INFO - luna.common.utils -  -> Set input_slide_annotation_dataset (<class 'str'>) = ../PRO-12-123/data/toy_data_set/table/ANNOTATIONS\n",
      "2022-08-22 12:04:50,543 - INFO - luna.common.utils -  -> Set input_slide_tiles (<class 'str'>) = /home/pashaa/vmount/PRO-12-123/2_tiling-file/01OV007-9b90eb78-2f50-4aeb-b010-d642f9/detected_tiles\n",
      "2022-08-22 12:04:50,545 - INFO - luna.common.utils -  -> Set output_dir (<class 'str'>) = /home/pashaa/vmount/PRO-12-123/2_tiling-file/01OV007-9b90eb78-2f50-4aeb-b010-d642f9/labled_tiles\n",
      "2022-08-22 12:04:50,551 - INFO - luna.common.utils - Expanding inputs...\n",
      "2022-08-22 12:04:50,553 - INFO - luna.common.utils - Attempting to read metadata at ../PRO-12-123/data/toy_data_set/table/ANNOTATIONS/metadata.yml\n",
      "2022-08-22 12:04:50,560 - INFO - luna.common.utils - Expanded input:\n",
      "2022-08-22 12:04:50,560 - INFO - luna.common.utils -  -> ../PRO-12-123/data/toy_data_set/table/ANNOTATIONS\n",
      "2022-08-22 12:04:50,560 - INFO - luna.common.utils -  -> ../PRO-12-123/data/toy_data_set/table/ANNOTATIONS/slide_annotation_dataset_TCGA collection_ov_regional.parquet\n",
      "2022-08-22 12:04:50,563 - INFO - luna.common.utils - Found segment keys: {'dsa_collection_uuid': '63035f7a18325e4c6e929591'}\n",
      "2022-08-22 12:04:50,565 - INFO - luna.common.utils - Attempting to read metadata at /home/pashaa/vmount/PRO-12-123/2_tiling-file/01OV007-9b90eb78-2f50-4aeb-b010-d642f9/detected_tiles/metadata.yml\n",
      "2022-08-22 12:04:50,575 - INFO - luna.common.utils - Expanded input:\n",
      "2022-08-22 12:04:50,575 - INFO - luna.common.utils -  -> /home/pashaa/vmount/PRO-12-123/2_tiling-file/01OV007-9b90eb78-2f50-4aeb-b010-d642f9/detected_tiles\n",
      "2022-08-22 12:04:50,575 - INFO - luna.common.utils -  -> /home/pashaa/vmount/PRO-12-123/2_tiling-file/01OV007-9b90eb78-2f50-4aeb-b010-d642f9/detected_tiles/01OV007-9b90eb78-2f50-4aeb-b010-d642f9-filtered.tiles.parquet\n",
      "2022-08-22 12:04:50,577 - INFO - luna.common.utils - Found segment keys: {'slide_id': '01OV007-9b90eb78-2f50-4aeb-b010-d642f9'}\n",
      "2022-08-22 12:04:50,579 - INFO - luna.common.utils - Resolved input:\n",
      "2022-08-22 12:04:50,579 - INFO - luna.common.utils -  -> ../PRO-12-123/data/toy_data_set/table/ANNOTATIONS/slide_annotation_dataset_TCGA collection_ov_regional.parquet\n",
      "2022-08-22 12:04:50,579 - INFO - luna.common.utils -  -> /home/pashaa/vmount/PRO-12-123/data/toy_data_set/table/ANNOTATIONS/slide_annotation_dataset_TCGA collection_ov_regional.parquet\n",
      "2022-08-22 12:04:50,581 - INFO - luna.common.utils - Resolved input:\n",
      "2022-08-22 12:04:50,581 - INFO - luna.common.utils -  -> /home/pashaa/vmount/PRO-12-123/2_tiling-file/01OV007-9b90eb78-2f50-4aeb-b010-d642f9/detected_tiles/01OV007-9b90eb78-2f50-4aeb-b010-d642f9-filtered.tiles.parquet\n",
      "2022-08-22 12:04:50,581 - INFO - luna.common.utils -  -> /home/pashaa/vmount/PRO-12-123/2_tiling-file/01OV007-9b90eb78-2f50-4aeb-b010-d642f9/detected_tiles/01OV007-9b90eb78-2f50-4aeb-b010-d642f9-filtered.tiles.parquet\n",
      "2022-08-22 12:04:50,584 - INFO - luna.common.utils - Full segment key set: {'dsa_collection_uuid': '63035f7a18325e4c6e929591', 'slide_id': '01OV007-9b90eb78-2f50-4aeb-b010-d642f9'}\n",
      "2022-08-22 12:04:50,586 - INFO - luna.common.utils - ------------------------------------------------------------\n",
      "2022-08-22 12:04:50,586 - INFO - luna.common.utils -  Starting transform::generate_tile_labels \n",
      "2022-08-22 12:04:50,586 - INFO - luna.common.utils - ------------------------------------------------------------\n",
      "2022-08-22 12:04:50,588 - INFO - generate_tile_labels - slide_id=01OV007-9b90eb78-2f50-4aeb-b010-d642f9\n"
     ]
    },
    {
     "name": "stdout",
     "output_type": "stream",
     "text": [
      "../PRO-12-123/data/toy_data_set/table/ANNOTATIONS/01OV007-9b90eb78-2f50-4aeb-b010-d642f9.annotation.geojson TCGA collection ov_regional\n"
     ]
    },
    {
     "name": "stderr",
     "output_type": "stream",
     "text": [
      "100%|██████████| 5317/5317 [00:02<00:00, 1975.33it/s]\n",
      "2022-08-22 12:04:53,587 - INFO - generate_tile_labels -                 x_coord  y_coord  ...  regional_label  intersection_area\n",
      "2022-08-22 12:04:53,587 - INFO - generate_tile_labels - address                           ...                                   \n",
      "2022-08-22 12:04:53,587 - INFO - generate_tile_labels - x12_y28_z10.0      6144    14336  ...             fat           0.442006\n",
      "2022-08-22 12:04:53,587 - INFO - generate_tile_labels - x12_y29_z10.0      6144    14848  ...             fat           0.761986\n",
      "2022-08-22 12:04:53,587 - INFO - generate_tile_labels - x12_y30_z10.0      6144    15360  ...             fat           0.272937\n",
      "2022-08-22 12:04:53,587 - INFO - generate_tile_labels - x13_y27_z10.0      6656    13824  ...             fat           0.147144\n",
      "2022-08-22 12:04:53,587 - INFO - generate_tile_labels - x13_y28_z10.0      6656    14336  ...             fat           0.992228\n",
      "2022-08-22 12:04:53,587 - INFO - generate_tile_labels - ...                 ...      ...  ...             ...                ...\n",
      "2022-08-22 12:04:53,587 - INFO - generate_tile_labels - x189_y53_z10.0    96768    27136  ...           tumor           0.975338\n",
      "2022-08-22 12:04:53,587 - INFO - generate_tile_labels - x189_y54_z10.0    96768    27648  ...           tumor           0.826891\n",
      "2022-08-22 12:04:53,587 - INFO - generate_tile_labels - x189_y55_z10.0    96768    28160  ...           tumor           0.009049\n",
      "2022-08-22 12:04:53,587 - INFO - generate_tile_labels - x190_y52_z10.0    97280    26624  ...           tumor           0.086954\n",
      "2022-08-22 12:04:53,587 - INFO - generate_tile_labels - x190_y53_z10.0    97280    27136  ...           tumor           0.186906\n",
      "2022-08-22 12:04:53,587 - INFO - generate_tile_labels - \n",
      "2022-08-22 12:04:53,587 - INFO - generate_tile_labels - [187 rows x 8 columns]\n",
      "2022-08-22 12:04:53,641 - INFO - luna.common.utils - Code block 'transform::generate_tile_labels' took: 3.0534988489998796s\n",
      "2022-08-22 12:04:53,644 - INFO - luna.common.utils - ------------------------------------------------------------\n",
      "2022-08-22 12:04:53,644 - INFO - luna.common.utils -  Done with transform, running post-transform functions... \n",
      "2022-08-22 12:04:53,644 - INFO - luna.common.utils - ------------------------------------------------------------\n",
      "2022-08-22 12:04:53,653 - INFO - luna.common.utils - Done.\n"
     ]
    },
    {
     "name": "stdout",
     "output_type": "stream",
     "text": [
      "save_tiles file:/home/pashaa/vmount/PRO-12-123/data/toy_data_set/01OV007-9b90eb78-2f50-4aeb-b010-d642f9.svs /home/pashaa/vmount/PRO-12-123/2_tiling-file/01OV007-9b90eb78-2f50-4aeb-b010-d642f9/labled_tiles --num_cores 4 --batch_size 200 --dataset_id PRO_TILES_LABELED\n",
      "['save_tiles', PosixPath('file:/home/pashaa/vmount/PRO-12-123/data/toy_data_set/01OV007-9b90eb78-2f50-4aeb-b010-d642f9.svs'), '/home/pashaa/vmount/PRO-12-123/2_tiling-file/01OV007-9b90eb78-2f50-4aeb-b010-d642f9/labled_tiles', '--num_cores', '4', '--batch_size', '200', '--dataset_id', 'PRO_TILES_LABELED', '-o', '/home/pashaa/vmount/PRO-12-123/2_tiling-file/01OV007-9b90eb78-2f50-4aeb-b010-d642f9/saved_tiles']\n"
     ]
    },
    {
     "name": "stderr",
     "output_type": "stream",
     "text": [
      "2022-08-22 12:04:55,506 - INFO - root - Initalized logger, log file at: luna.log\n",
      "2022-08-22 12:04:59,558 - INFO - luna.common.utils - Started CLI Runner wtih <function save_tiles at 0x7fcc314aedc0>\n",
      "2022-08-22 12:04:59,561 - INFO - luna.common.utils - Validating params...\n",
      "2022-08-22 12:04:59,563 - INFO - luna.common.utils -  -> Set input_slide_image (<class 'str'>) = file:/home/pashaa/vmount/PRO-12-123/data/toy_data_set/01OV007-9b90eb78-2f50-4aeb-b010-d642f9.svs\n",
      "2022-08-22 12:04:59,565 - INFO - luna.common.utils -  -> Set input_slide_tiles (<class 'str'>) = /home/pashaa/vmount/PRO-12-123/2_tiling-file/01OV007-9b90eb78-2f50-4aeb-b010-d642f9/labled_tiles\n",
      "2022-08-22 12:04:59,566 - INFO - luna.common.utils -  -> Set output_dir (<class 'str'>) = /home/pashaa/vmount/PRO-12-123/2_tiling-file/01OV007-9b90eb78-2f50-4aeb-b010-d642f9/saved_tiles\n",
      "2022-08-22 12:04:59,568 - INFO - luna.common.utils -  -> Set num_cores (<class 'int'>) = 4\n",
      "2022-08-22 12:04:59,570 - INFO - luna.common.utils -  -> Set batch_size (<class 'int'>) = 200\n",
      "2022-08-22 12:04:59,576 - INFO - luna.common.utils - Expanding inputs...\n",
      "2022-08-22 12:04:59,578 - INFO - luna.common.utils - Attempting to read metadata at file:/home/pashaa/vmount/PRO-12-123/data/toy_data_set/01OV007-9b90eb78-2f50-4aeb-b010-d642f9.svs/metadata.yml\n",
      "2022-08-22 12:04:59,581 - INFO - luna.common.utils - Attempting to read metadata at /home/pashaa/vmount/PRO-12-123/2_tiling-file/01OV007-9b90eb78-2f50-4aeb-b010-d642f9/labled_tiles/metadata.yml\n",
      "2022-08-22 12:04:59,590 - INFO - luna.common.utils - Expanded input:\n",
      "2022-08-22 12:04:59,590 - INFO - luna.common.utils -  -> /home/pashaa/vmount/PRO-12-123/2_tiling-file/01OV007-9b90eb78-2f50-4aeb-b010-d642f9/labled_tiles\n",
      "2022-08-22 12:04:59,590 - INFO - luna.common.utils -  -> /home/pashaa/vmount/PRO-12-123/2_tiling-file/01OV007-9b90eb78-2f50-4aeb-b010-d642f9/labled_tiles/01OV007-9b90eb78-2f50-4aeb-b010-d642f9.regional_label.tiles.parquet\n",
      "2022-08-22 12:04:59,592 - INFO - luna.common.utils - Found segment keys: {'dsa_collection_uuid': '63035f7a18325e4c6e929591', 'slide_id': '01OV007-9b90eb78-2f50-4aeb-b010-d642f9'}\n",
      "2022-08-22 12:04:59,595 - INFO - luna.common.utils - Resolved input:\n",
      "2022-08-22 12:04:59,595 - INFO - luna.common.utils -  -> file:/home/pashaa/vmount/PRO-12-123/data/toy_data_set/01OV007-9b90eb78-2f50-4aeb-b010-d642f9.svs\n",
      "2022-08-22 12:04:59,595 - INFO - luna.common.utils -  -> /home/pashaa/vmount/PRO-12-123/data/toy_data_set/01OV007-9b90eb78-2f50-4aeb-b010-d642f9.svs\n",
      "2022-08-22 12:04:59,597 - INFO - luna.common.utils - Resolved input:\n",
      "2022-08-22 12:04:59,597 - INFO - luna.common.utils -  -> /home/pashaa/vmount/PRO-12-123/2_tiling-file/01OV007-9b90eb78-2f50-4aeb-b010-d642f9/labled_tiles/01OV007-9b90eb78-2f50-4aeb-b010-d642f9.regional_label.tiles.parquet\n",
      "2022-08-22 12:04:59,597 - INFO - luna.common.utils -  -> /home/pashaa/vmount/PRO-12-123/2_tiling-file/01OV007-9b90eb78-2f50-4aeb-b010-d642f9/labled_tiles/01OV007-9b90eb78-2f50-4aeb-b010-d642f9.regional_label.tiles.parquet\n",
      "2022-08-22 12:04:59,598 - INFO - luna.common.utils - Full segment key set: {'dsa_collection_uuid': '63035f7a18325e4c6e929591', 'slide_id': '01OV007-9b90eb78-2f50-4aeb-b010-d642f9'}\n",
      "2022-08-22 12:04:59,600 - INFO - luna.common.utils - ------------------------------------------------------------\n",
      "2022-08-22 12:04:59,600 - INFO - luna.common.utils -  Starting transform::save_tiles \n",
      "2022-08-22 12:04:59,600 - INFO - luna.common.utils - ------------------------------------------------------------\n",
      "2022-08-22 12:04:59,706 - INFO - generate_tiles - Now generating tiles with num_cores=4 and batch_size=200!\n"
     ]
    },
    {
     "name": "stdout",
     "output_type": "stream",
     "text": [
      "100%|██████████| 27/27 [01:22<00:00,  3.05s/it]"
     ]
    },
    {
     "name": "stderr",
     "output_type": "stream",
     "text": [
      "2022-08-22 12:06:24,272 - INFO - generate_tiles -                 x_coord  ...                                         tile_store\n",
      "2022-08-22 12:06:24,272 - INFO - generate_tiles - address                  ...                                                   \n",
      "2022-08-22 12:06:24,272 - INFO - generate_tiles - x3_y74_z10.0       1536  ...  /home/pashaa/vmount/PRO-12-123/2_tiling-file/0...\n",
      "2022-08-22 12:06:24,272 - INFO - generate_tiles - x3_y75_z10.0       1536  ...  /home/pashaa/vmount/PRO-12-123/2_tiling-file/0...\n",
      "2022-08-22 12:06:24,272 - INFO - generate_tiles - x3_y76_z10.0       1536  ...  /home/pashaa/vmount/PRO-12-123/2_tiling-file/0...\n",
      "2022-08-22 12:06:24,272 - INFO - generate_tiles - x3_y77_z10.0       1536  ...  /home/pashaa/vmount/PRO-12-123/2_tiling-file/0...\n",
      "2022-08-22 12:06:24,272 - INFO - generate_tiles - x3_y78_z10.0       1536  ...  /home/pashaa/vmount/PRO-12-123/2_tiling-file/0...\n",
      "2022-08-22 12:06:24,272 - INFO - generate_tiles - ...                 ...  ...                                                ...\n",
      "2022-08-22 12:06:24,272 - INFO - generate_tiles - x206_y13_z10.0   105472  ...  /home/pashaa/vmount/PRO-12-123/2_tiling-file/0...\n",
      "2022-08-22 12:06:24,272 - INFO - generate_tiles - x206_y14_z10.0   105472  ...  /home/pashaa/vmount/PRO-12-123/2_tiling-file/0...\n",
      "2022-08-22 12:06:24,272 - INFO - generate_tiles - x206_y15_z10.0   105472  ...  /home/pashaa/vmount/PRO-12-123/2_tiling-file/0...\n",
      "2022-08-22 12:06:24,272 - INFO - generate_tiles - x206_y38_z10.0   105472  ...  /home/pashaa/vmount/PRO-12-123/2_tiling-file/0...\n",
      "2022-08-22 12:06:24,272 - INFO - generate_tiles - x207_y12_z10.0   105984  ...  /home/pashaa/vmount/PRO-12-123/2_tiling-file/0...\n",
      "2022-08-22 12:06:24,272 - INFO - generate_tiles - \n",
      "2022-08-22 12:06:24,272 - INFO - generate_tiles - [5317 rows x 9 columns]\n",
      "2022-08-22 12:06:24,370 - INFO - luna.common.utils - Code block 'transform::save_tiles' took: 84.83073697200052s\n",
      "2022-08-22 12:06:24,373 - INFO - luna.common.utils - ------------------------------------------------------------\n",
      "2022-08-22 12:06:24,373 - INFO - luna.common.utils -  Done with transform, running post-transform functions... \n",
      "2022-08-22 12:06:24,373 - INFO - luna.common.utils - ------------------------------------------------------------\n",
      "2022-08-22 12:06:24,387 - INFO - luna.common.utils - Adding feature segment /home/pashaa/vmount/PRO-12-123/2_tiling-file/01OV007-9b90eb78-2f50-4aeb-b010-d642f9/saved_tiles/01OV007-9b90eb78-2f50-4aeb-b010-d642f9.tiles.parquet to PRO_TILES_LABELED\n",
      "2022-08-22 12:06:24,390 - INFO - luna.common.utils - Found dataset URL = file:////home/pashaa/vmount/PRO-12-123/\n",
      "2022-08-22 12:06:24,394 - INFO - luna.common.utils - Adding /home/pashaa/vmount/PRO-12-123/2_tiling-file/01OV007-9b90eb78-2f50-4aeb-b010-d642f9/saved_tiles/01OV007-9b90eb78-2f50-4aeb-b010-d642f9.tiles.parquet to PRO_TILES_LABELED via file:////home/pashaa/vmount/PRO-12-123/\n",
      "2022-08-22 12:06:24,397 - INFO - luna.common.utils - SEGMENT_ID=63035f7a18325e4c6e929591-01OV007-9b90eb78-2f50-4aeb-b010-d642f9\n",
      "2022-08-22 12:06:24,399 - INFO - luna.common.utils - Writing to: //home/pashaa/vmount/PRO-12-123/datasets/PRO_TILES_LABELED/segments/63035f7a18325e4c6e929591-01OV007-9b90eb78-2f50-4aeb-b010-d642f9\n",
      "2022-08-22 12:06:24,508 - INFO - luna.common.utils - Done.\n"
     ]
    },
    {
     "name": "stdout",
     "output_type": "stream",
     "text": [
      "\n"
     ]
    }
   ],
   "source": [
    "from concurrent.futures import ThreadPoolExecutor\n",
    "import pandas as pd\n",
    "\n",
    "df_slides = pd.read_parquet(\"../PRO-12-123/data/toy_data_set/table/SLIDES/slide_ingest_PRO-12-123.parquet\")\n",
    "        \n",
    "with ThreadPoolExecutor(5) as pool:\n",
    "    \n",
    "    for index, row in df_slides.iterrows():\n",
    "        print (index)\n",
    "        \n",
    "        pool.submit(pipeline, index, row.slide_image, \"../PRO-12-123/data/toy_data_set/table/ANNOTATIONS\")\n",
    "        "
   ]
  },
  {
   "cell_type": "code",
   "execution_count": 9,
   "metadata": {},
   "outputs": [
    {
     "name": "stdout",
     "output_type": "stream",
     "text": [
      "tumor     605\n",
      "fat       277\n",
      "stroma    263\n",
      "Name: regional_label, dtype: int64\n"
     ]
    },
    {
     "data": {
      "text/html": [
       "<div>\n",
       "<style scoped>\n",
       "    .dataframe tbody tr th:only-of-type {\n",
       "        vertical-align: middle;\n",
       "    }\n",
       "\n",
       "    .dataframe tbody tr th {\n",
       "        vertical-align: top;\n",
       "    }\n",
       "\n",
       "    .dataframe thead th {\n",
       "        text-align: right;\n",
       "    }\n",
       "</style>\n",
       "<table border=\"1\" class=\"dataframe\">\n",
       "  <thead>\n",
       "    <tr style=\"text-align: right;\">\n",
       "      <th></th>\n",
       "      <th>SEGMENT_ID</th>\n",
       "      <th>dsa_collection_uuid</th>\n",
       "      <th>slide_id</th>\n",
       "      <th>address</th>\n",
       "      <th>x_coord</th>\n",
       "      <th>y_coord</th>\n",
       "      <th>xy_extent</th>\n",
       "      <th>tile_size</th>\n",
       "      <th>tile_units</th>\n",
       "      <th>otsu_score</th>\n",
       "      <th>regional_label</th>\n",
       "      <th>intersection_area</th>\n",
       "      <th>tile_store</th>\n",
       "    </tr>\n",
       "  </thead>\n",
       "  <tbody>\n",
       "    <tr>\n",
       "      <th>1163</th>\n",
       "      <td>63035f7a18325e4c6e929591-01OV002-bd8cdc70-3d46...</td>\n",
       "      <td>63035f7a18325e4c6e929591</td>\n",
       "      <td>01OV002-bd8cdc70-3d46-40ae-99c4-90ef77</td>\n",
       "      <td>x26_y56_z10.0</td>\n",
       "      <td>13312</td>\n",
       "      <td>28672</td>\n",
       "      <td>512</td>\n",
       "      <td>128</td>\n",
       "      <td>px</td>\n",
       "      <td>0.88</td>\n",
       "      <td>stroma</td>\n",
       "      <td>0.053094</td>\n",
       "      <td>/home/pashaa/vmount/PRO-12-123/2_tiling-file/0...</td>\n",
       "    </tr>\n",
       "    <tr>\n",
       "      <th>1164</th>\n",
       "      <td>63035f7a18325e4c6e929591-01OV002-bd8cdc70-3d46...</td>\n",
       "      <td>63035f7a18325e4c6e929591</td>\n",
       "      <td>01OV002-bd8cdc70-3d46-40ae-99c4-90ef77</td>\n",
       "      <td>x26_y57_z10.0</td>\n",
       "      <td>13312</td>\n",
       "      <td>29184</td>\n",
       "      <td>512</td>\n",
       "      <td>128</td>\n",
       "      <td>px</td>\n",
       "      <td>0.63</td>\n",
       "      <td>stroma</td>\n",
       "      <td>0.341454</td>\n",
       "      <td>/home/pashaa/vmount/PRO-12-123/2_tiling-file/0...</td>\n",
       "    </tr>\n",
       "    <tr>\n",
       "      <th>1223</th>\n",
       "      <td>63035f7a18325e4c6e929591-01OV002-bd8cdc70-3d46...</td>\n",
       "      <td>63035f7a18325e4c6e929591</td>\n",
       "      <td>01OV002-bd8cdc70-3d46-40ae-99c4-90ef77</td>\n",
       "      <td>x27_y56_z10.0</td>\n",
       "      <td>13824</td>\n",
       "      <td>28672</td>\n",
       "      <td>512</td>\n",
       "      <td>128</td>\n",
       "      <td>px</td>\n",
       "      <td>0.76</td>\n",
       "      <td>stroma</td>\n",
       "      <td>0.655530</td>\n",
       "      <td>/home/pashaa/vmount/PRO-12-123/2_tiling-file/0...</td>\n",
       "    </tr>\n",
       "    <tr>\n",
       "      <th>1224</th>\n",
       "      <td>63035f7a18325e4c6e929591-01OV002-bd8cdc70-3d46...</td>\n",
       "      <td>63035f7a18325e4c6e929591</td>\n",
       "      <td>01OV002-bd8cdc70-3d46-40ae-99c4-90ef77</td>\n",
       "      <td>x27_y57_z10.0</td>\n",
       "      <td>13824</td>\n",
       "      <td>29184</td>\n",
       "      <td>512</td>\n",
       "      <td>128</td>\n",
       "      <td>px</td>\n",
       "      <td>0.58</td>\n",
       "      <td>stroma</td>\n",
       "      <td>0.898266</td>\n",
       "      <td>/home/pashaa/vmount/PRO-12-123/2_tiling-file/0...</td>\n",
       "    </tr>\n",
       "    <tr>\n",
       "      <th>1277</th>\n",
       "      <td>63035f7a18325e4c6e929591-01OV002-bd8cdc70-3d46...</td>\n",
       "      <td>63035f7a18325e4c6e929591</td>\n",
       "      <td>01OV002-bd8cdc70-3d46-40ae-99c4-90ef77</td>\n",
       "      <td>x28_y55_z10.0</td>\n",
       "      <td>14336</td>\n",
       "      <td>28160</td>\n",
       "      <td>512</td>\n",
       "      <td>128</td>\n",
       "      <td>px</td>\n",
       "      <td>0.84</td>\n",
       "      <td>stroma</td>\n",
       "      <td>0.258913</td>\n",
       "      <td>/home/pashaa/vmount/PRO-12-123/2_tiling-file/0...</td>\n",
       "    </tr>\n",
       "    <tr>\n",
       "      <th>...</th>\n",
       "      <td>...</td>\n",
       "      <td>...</td>\n",
       "      <td>...</td>\n",
       "      <td>...</td>\n",
       "      <td>...</td>\n",
       "      <td>...</td>\n",
       "      <td>...</td>\n",
       "      <td>...</td>\n",
       "      <td>...</td>\n",
       "      <td>...</td>\n",
       "      <td>...</td>\n",
       "      <td>...</td>\n",
       "      <td>...</td>\n",
       "    </tr>\n",
       "    <tr>\n",
       "      <th>22454</th>\n",
       "      <td>63035f7a18325e4c6e929591-01OV008-7579323e-2fae...</td>\n",
       "      <td>63035f7a18325e4c6e929591</td>\n",
       "      <td>01OV008-7579323e-2fae-43a9-b00f-a15c28</td>\n",
       "      <td>x54_y41_z10.0</td>\n",
       "      <td>27648</td>\n",
       "      <td>20992</td>\n",
       "      <td>512</td>\n",
       "      <td>128</td>\n",
       "      <td>px</td>\n",
       "      <td>0.64</td>\n",
       "      <td>stroma</td>\n",
       "      <td>0.528478</td>\n",
       "      <td>/home/pashaa/vmount/PRO-12-123/2_tiling-file/0...</td>\n",
       "    </tr>\n",
       "    <tr>\n",
       "      <th>22507</th>\n",
       "      <td>63035f7a18325e4c6e929591-01OV008-7579323e-2fae...</td>\n",
       "      <td>63035f7a18325e4c6e929591</td>\n",
       "      <td>01OV008-7579323e-2fae-43a9-b00f-a15c28</td>\n",
       "      <td>x55_y39_z10.0</td>\n",
       "      <td>28160</td>\n",
       "      <td>19968</td>\n",
       "      <td>512</td>\n",
       "      <td>128</td>\n",
       "      <td>px</td>\n",
       "      <td>0.38</td>\n",
       "      <td>stroma</td>\n",
       "      <td>0.465030</td>\n",
       "      <td>/home/pashaa/vmount/PRO-12-123/2_tiling-file/0...</td>\n",
       "    </tr>\n",
       "    <tr>\n",
       "      <th>22508</th>\n",
       "      <td>63035f7a18325e4c6e929591-01OV008-7579323e-2fae...</td>\n",
       "      <td>63035f7a18325e4c6e929591</td>\n",
       "      <td>01OV008-7579323e-2fae-43a9-b00f-a15c28</td>\n",
       "      <td>x55_y40_z10.0</td>\n",
       "      <td>28160</td>\n",
       "      <td>20480</td>\n",
       "      <td>512</td>\n",
       "      <td>128</td>\n",
       "      <td>px</td>\n",
       "      <td>0.53</td>\n",
       "      <td>stroma</td>\n",
       "      <td>0.893236</td>\n",
       "      <td>/home/pashaa/vmount/PRO-12-123/2_tiling-file/0...</td>\n",
       "    </tr>\n",
       "    <tr>\n",
       "      <th>22509</th>\n",
       "      <td>63035f7a18325e4c6e929591-01OV008-7579323e-2fae...</td>\n",
       "      <td>63035f7a18325e4c6e929591</td>\n",
       "      <td>01OV008-7579323e-2fae-43a9-b00f-a15c28</td>\n",
       "      <td>x55_y41_z10.0</td>\n",
       "      <td>28160</td>\n",
       "      <td>20992</td>\n",
       "      <td>512</td>\n",
       "      <td>128</td>\n",
       "      <td>px</td>\n",
       "      <td>0.73</td>\n",
       "      <td>stroma</td>\n",
       "      <td>0.034031</td>\n",
       "      <td>/home/pashaa/vmount/PRO-12-123/2_tiling-file/0...</td>\n",
       "    </tr>\n",
       "    <tr>\n",
       "      <th>22555</th>\n",
       "      <td>63035f7a18325e4c6e929591-01OV008-7579323e-2fae...</td>\n",
       "      <td>63035f7a18325e4c6e929591</td>\n",
       "      <td>01OV008-7579323e-2fae-43a9-b00f-a15c28</td>\n",
       "      <td>x56_y40_z10.0</td>\n",
       "      <td>28672</td>\n",
       "      <td>20480</td>\n",
       "      <td>512</td>\n",
       "      <td>128</td>\n",
       "      <td>px</td>\n",
       "      <td>0.18</td>\n",
       "      <td>stroma</td>\n",
       "      <td>0.074149</td>\n",
       "      <td>/home/pashaa/vmount/PRO-12-123/2_tiling-file/0...</td>\n",
       "    </tr>\n",
       "  </tbody>\n",
       "</table>\n",
       "<p>1145 rows × 13 columns</p>\n",
       "</div>"
      ],
      "text/plain": [
       "                                              SEGMENT_ID  \\\n",
       "1163   63035f7a18325e4c6e929591-01OV002-bd8cdc70-3d46...   \n",
       "1164   63035f7a18325e4c6e929591-01OV002-bd8cdc70-3d46...   \n",
       "1223   63035f7a18325e4c6e929591-01OV002-bd8cdc70-3d46...   \n",
       "1224   63035f7a18325e4c6e929591-01OV002-bd8cdc70-3d46...   \n",
       "1277   63035f7a18325e4c6e929591-01OV002-bd8cdc70-3d46...   \n",
       "...                                                  ...   \n",
       "22454  63035f7a18325e4c6e929591-01OV008-7579323e-2fae...   \n",
       "22507  63035f7a18325e4c6e929591-01OV008-7579323e-2fae...   \n",
       "22508  63035f7a18325e4c6e929591-01OV008-7579323e-2fae...   \n",
       "22509  63035f7a18325e4c6e929591-01OV008-7579323e-2fae...   \n",
       "22555  63035f7a18325e4c6e929591-01OV008-7579323e-2fae...   \n",
       "\n",
       "            dsa_collection_uuid                                slide_id  \\\n",
       "1163   63035f7a18325e4c6e929591  01OV002-bd8cdc70-3d46-40ae-99c4-90ef77   \n",
       "1164   63035f7a18325e4c6e929591  01OV002-bd8cdc70-3d46-40ae-99c4-90ef77   \n",
       "1223   63035f7a18325e4c6e929591  01OV002-bd8cdc70-3d46-40ae-99c4-90ef77   \n",
       "1224   63035f7a18325e4c6e929591  01OV002-bd8cdc70-3d46-40ae-99c4-90ef77   \n",
       "1277   63035f7a18325e4c6e929591  01OV002-bd8cdc70-3d46-40ae-99c4-90ef77   \n",
       "...                         ...                                     ...   \n",
       "22454  63035f7a18325e4c6e929591  01OV008-7579323e-2fae-43a9-b00f-a15c28   \n",
       "22507  63035f7a18325e4c6e929591  01OV008-7579323e-2fae-43a9-b00f-a15c28   \n",
       "22508  63035f7a18325e4c6e929591  01OV008-7579323e-2fae-43a9-b00f-a15c28   \n",
       "22509  63035f7a18325e4c6e929591  01OV008-7579323e-2fae-43a9-b00f-a15c28   \n",
       "22555  63035f7a18325e4c6e929591  01OV008-7579323e-2fae-43a9-b00f-a15c28   \n",
       "\n",
       "             address  x_coord  y_coord  xy_extent  tile_size tile_units  \\\n",
       "1163   x26_y56_z10.0    13312    28672        512        128         px   \n",
       "1164   x26_y57_z10.0    13312    29184        512        128         px   \n",
       "1223   x27_y56_z10.0    13824    28672        512        128         px   \n",
       "1224   x27_y57_z10.0    13824    29184        512        128         px   \n",
       "1277   x28_y55_z10.0    14336    28160        512        128         px   \n",
       "...              ...      ...      ...        ...        ...        ...   \n",
       "22454  x54_y41_z10.0    27648    20992        512        128         px   \n",
       "22507  x55_y39_z10.0    28160    19968        512        128         px   \n",
       "22508  x55_y40_z10.0    28160    20480        512        128         px   \n",
       "22509  x55_y41_z10.0    28160    20992        512        128         px   \n",
       "22555  x56_y40_z10.0    28672    20480        512        128         px   \n",
       "\n",
       "       otsu_score regional_label  intersection_area  \\\n",
       "1163         0.88         stroma           0.053094   \n",
       "1164         0.63         stroma           0.341454   \n",
       "1223         0.76         stroma           0.655530   \n",
       "1224         0.58         stroma           0.898266   \n",
       "1277         0.84         stroma           0.258913   \n",
       "...           ...            ...                ...   \n",
       "22454        0.64         stroma           0.528478   \n",
       "22507        0.38         stroma           0.465030   \n",
       "22508        0.53         stroma           0.893236   \n",
       "22509        0.73         stroma           0.034031   \n",
       "22555        0.18         stroma           0.074149   \n",
       "\n",
       "                                              tile_store  \n",
       "1163   /home/pashaa/vmount/PRO-12-123/2_tiling-file/0...  \n",
       "1164   /home/pashaa/vmount/PRO-12-123/2_tiling-file/0...  \n",
       "1223   /home/pashaa/vmount/PRO-12-123/2_tiling-file/0...  \n",
       "1224   /home/pashaa/vmount/PRO-12-123/2_tiling-file/0...  \n",
       "1277   /home/pashaa/vmount/PRO-12-123/2_tiling-file/0...  \n",
       "...                                                  ...  \n",
       "22454  /home/pashaa/vmount/PRO-12-123/2_tiling-file/0...  \n",
       "22507  /home/pashaa/vmount/PRO-12-123/2_tiling-file/0...  \n",
       "22508  /home/pashaa/vmount/PRO-12-123/2_tiling-file/0...  \n",
       "22509  /home/pashaa/vmount/PRO-12-123/2_tiling-file/0...  \n",
       "22555  /home/pashaa/vmount/PRO-12-123/2_tiling-file/0...  \n",
       "\n",
       "[1145 rows x 13 columns]"
      ]
     },
     "execution_count": 9,
     "metadata": {},
     "output_type": "execute_result"
    }
   ],
   "source": [
    "import pandas as pd\n",
    "df_tiles = pd.read_parquet(\"~/vmount/PRO-12-123/datasets/PRO_TILES_LABELED/\").query(\"intersection_area > 0\")\n",
    "print (df_tiles['regional_label'].value_counts())\n",
    "df_tiles"
   ]
  },
  {
   "cell_type": "markdown",
   "metadata": {},
   "source": [
    "Congratulations! Now you have 2120 tumor, 860 stroma, and 751 fat tiles images and labels ready to train your model."
   ]
  }
 ],
 "metadata": {
  "kernelspec": {
   "display_name": "Python 3 (ipykernel)",
   "language": "python",
   "name": "python3"
  },
  "language_info": {
   "codemirror_mode": {
    "name": "ipython",
    "version": 3
   },
   "file_extension": ".py",
   "mimetype": "text/x-python",
   "name": "python",
   "nbconvert_exporter": "python",
   "pygments_lexer": "ipython3",
   "version": "3.9.13"
  }
 },
 "nbformat": 4,
 "nbformat_minor": 4
}
