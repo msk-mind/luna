{
 "cells": [
  {
   "cell_type": "markdown",
   "metadata": {},
   "source": [
    "# Tile Generation Tutorial"
   ]
  },
  {
   "cell_type": "markdown",
   "metadata": {},
   "source": [
    "Welcome to the tile generation tutorial!\n",
    "\n",
    "As a whole slide image is too large for deep learning model training, a slide is often divded into a set of small tiles, and used for training. For tile-based whole slide image analysis, generating tiles and labels is an important and laborious step. With LUNA tiling CLIs and tutorials, you can easily generate tile labels and get your data ready for downstream analysis. In this notebook, we will see how to generate tiles and labels using LUNA tiling CLIs. Here are the main steps we will review:\n",
    "\n",
    "1. Load slides\n",
    "2. Generate tiles, labels\n",
    "3. Collect tiles for model training\n",
    "\n",
    "Through out this notebook, we will use different method parameter files. Please refer to the example parameter files in the `configs` directory to follow these steps.\n"
   ]
  },
  {
   "cell_type": "code",
   "execution_count": 1,
   "metadata": {},
   "outputs": [],
   "source": [
    "import os\n",
    "HOME = os.environ['HOME']"
   ]
  },
  {
   "cell_type": "code",
   "execution_count": 2,
   "metadata": {
    "scrolled": true
   },
   "outputs": [
    {
     "name": "stdout",
     "output_type": "stream",
     "text": [
      "env: DATASET_URL=file:////home/aukermaa/vmount/PRO_12-123/\n"
     ]
    }
   ],
   "source": [
    "env DATASET_URL=file:///$HOME/vmount/PRO_12-123/"
   ]
  },
  {
   "cell_type": "markdown",
   "metadata": {},
   "source": [
    "Initially, we'll walk through each CLI step manually-- then run them using the LunaCLIClient in parallel\n",
    "\n",
    "First, we generate tiles given a slide image of size 128 at 20x, and save them"
   ]
  },
  {
   "cell_type": "code",
   "execution_count": 3,
   "metadata": {},
   "outputs": [
    {
     "name": "stdout",
     "output_type": "stream",
     "text": [
      "2022-04-29 19:10:34,662 - INFO - root - Initalized logger, log file at: data-processing.log\n",
      "2022-04-29 19:10:36,487 - INFO - luna.common.utils - Started CLI Runner wtih <function generate_tiles at 0x7f747d588550>\n",
      "2022-04-29 19:10:36,490 - INFO - luna.common.utils - Validating params...\n",
      "2022-04-29 19:10:36,491 - INFO - luna.common.utils -  -> Set input_slide_image (<class 'str'>) = file:~/vmount/PRO_12-123/data/toy_data_set/01OV002-bd8cdc70-3d46-40ae-99c4-90ef77.svs\n",
      "2022-04-29 19:10:36,493 - INFO - luna.common.utils -  -> Set output_dir (<class 'str'>) = /home/aukermaa/vmount/PRO_12-123/tiling/test/tiles\n",
      "2022-04-29 19:10:36,494 - INFO - luna.common.utils -  -> Set tile_size (<class 'int'>) = 128\n",
      "2022-04-29 19:10:36,496 - INFO - luna.common.utils -  -> Set requested_magnification (<class 'float'>) = 5.0\n",
      "2022-04-29 19:10:36,498 - INFO - luna.common.utils - Expanding inputs...\n",
      "2022-04-29 19:10:36,499 - INFO - luna.common.utils - Attempting to read metadata at file:~/vmount/PRO_12-123/data/toy_data_set/01OV002-bd8cdc70-3d46-40ae-99c4-90ef77.svs/metadata.yml\n",
      "2022-04-29 19:10:36,501 - WARNING - luna.common.utils - Resolving a user directory, be careful!\n",
      "2022-04-29 19:10:36,502 - INFO - luna.common.utils - Resolved input:\n",
      "2022-04-29 19:10:36,502 - INFO - luna.common.utils -  -> file:~/vmount/PRO_12-123/data/toy_data_set/01OV002-bd8cdc70-3d46-40ae-99c4-90ef77.svs\n",
      "2022-04-29 19:10:36,502 - INFO - luna.common.utils -  -> /home/aukermaa/vmount/PRO_12-123/data/toy_data_set/01OV002-bd8cdc70-3d46-40ae-99c4-90ef77.svs\n",
      "2022-04-29 19:10:36,503 - INFO - luna.common.utils - Full segment key set: {}\n",
      "2022-04-29 19:10:36,505 - INFO - luna.common.utils - ------------------------------------------------------------\n",
      "2022-04-29 19:10:36,505 - INFO - luna.common.utils -  Starting transform::generate_tiles \n",
      "2022-04-29 19:10:36,505 - INFO - luna.common.utils - ------------------------------------------------------------\n",
      "2022-04-29 19:10:36,518 - INFO - generate_tiles - Slide size = [53760,54840]\n",
      "2022-04-29 19:10:36,520 - INFO - generate_tiles - Normalized magnification scale factor for 5.0x is 8.0\n",
      "2022-04-29 19:10:36,521 - INFO - generate_tiles - Requested tile size=128, tile size at full magnficiation=1024\n",
      "2022-04-29 19:10:36,523 - INFO - generate_tiles - tiles x 53, tiles y 54\n",
      "2022-04-29 19:10:36,527 - INFO - generate_tiles - Number of tiles in raster: 2652\n",
      "2022-04-29 19:10:36,533 - INFO - generate_tiles -               x_coord  y_coord  xy_extent  tile_size tile_units\n",
      "2022-04-29 19:10:36,533 - INFO - generate_tiles - address                                                        \n",
      "2022-04-29 19:10:36,533 - INFO - generate_tiles - x1_y1_z5.0       1024     1024       1024        128         px\n",
      "2022-04-29 19:10:36,533 - INFO - generate_tiles - x1_y2_z5.0       1024     2048       1024        128         px\n",
      "2022-04-29 19:10:36,533 - INFO - generate_tiles - x1_y3_z5.0       1024     3072       1024        128         px\n",
      "2022-04-29 19:10:36,533 - INFO - generate_tiles - x1_y4_z5.0       1024     4096       1024        128         px\n",
      "2022-04-29 19:10:36,533 - INFO - generate_tiles - x1_y5_z5.0       1024     5120       1024        128         px\n",
      "2022-04-29 19:10:36,533 - INFO - generate_tiles - ...               ...      ...        ...        ...        ...\n",
      "2022-04-29 19:10:36,533 - INFO - generate_tiles - x51_y48_z5.0    52224    49152       1024        128         px\n",
      "2022-04-29 19:10:36,533 - INFO - generate_tiles - x51_y49_z5.0    52224    50176       1024        128         px\n",
      "2022-04-29 19:10:36,533 - INFO - generate_tiles - x51_y50_z5.0    52224    51200       1024        128         px\n",
      "2022-04-29 19:10:36,533 - INFO - generate_tiles - x51_y51_z5.0    52224    52224       1024        128         px\n",
      "2022-04-29 19:10:36,533 - INFO - generate_tiles - x51_y52_z5.0    52224    53248       1024        128         px\n",
      "2022-04-29 19:10:36,533 - INFO - generate_tiles - \n",
      "2022-04-29 19:10:36,533 - INFO - generate_tiles - [2652 rows x 5 columns]\n",
      "2022-04-29 19:10:36,566 - INFO - luna.common.utils - Code block 'transform::generate_tiles' took: 0.05979139357805252s\n",
      "2022-04-29 19:10:36,567 - INFO - luna.common.utils - ------------------------------------------------------------\n",
      "2022-04-29 19:10:36,567 - INFO - luna.common.utils -  Done with transform, running post-transform functions... \n",
      "2022-04-29 19:10:36,567 - INFO - luna.common.utils - ------------------------------------------------------------\n",
      "2022-04-29 19:10:36,573 - INFO - luna.common.utils - Done.\n"
     ]
    }
   ],
   "source": [
    "!generate_tiles \\\n",
    "file:~/vmount/PRO_12-123/data/toy_data_set/01OV002-bd8cdc70-3d46-40ae-99c4-90ef77.svs \\\n",
    "--tile_size 128 --requested_magnification 5 \\\n",
    "-o ~/vmount/PRO_12-123/tiling/test/tiles\n"
   ]
  },
  {
   "cell_type": "code",
   "execution_count": 4,
   "metadata": {},
   "outputs": [
    {
     "name": "stdout",
     "output_type": "stream",
     "text": [
      "2022-04-29 19:10:39,281 - INFO - root - Initalized logger, log file at: data-processing.log\n",
      "2022-04-29 19:10:41,015 - INFO - luna.common.utils - Started CLI Runner wtih <function detect_tissue at 0x7f123c7c0310>\n",
      "2022-04-29 19:10:41,018 - INFO - luna.common.utils - Validating params...\n",
      "2022-04-29 19:10:41,019 - INFO - luna.common.utils -  -> Set input_slide_image (<class 'str'>) = /home/aukermaa/vmount/PRO_12-123/data/toy_data_set/01OV002-bd8cdc70-3d46-40ae-99c4-90ef77.svs\n",
      "2022-04-29 19:10:41,020 - INFO - luna.common.utils -  -> Set input_slide_tiles (<class 'str'>) = /home/aukermaa/vmount/PRO_12-123/tiling/test/tiles\n",
      "2022-04-29 19:10:41,021 - INFO - luna.common.utils -  -> Set requested_magnification (<class 'float'>) = 2.0\n",
      "2022-04-29 19:10:41,022 - INFO - luna.common.utils -  -> Set filter_query (<class 'str'>) = otsu_score > 0.1\n",
      "2022-04-29 19:10:41,025 - INFO - luna.common.utils -  -> Set output_dir (<class 'str'>) = /home/aukermaa/vmount/PRO_12-123/tiling/test/detect\n",
      "2022-04-29 19:10:41,026 - INFO - luna.common.utils -  -> Set num_cores (<class 'int'>) = 4\n",
      "2022-04-29 19:10:41,028 - INFO - luna.common.utils - Expanding inputs...\n",
      "2022-04-29 19:10:41,029 - INFO - luna.common.utils - Attempting to read metadata at /home/aukermaa/vmount/PRO_12-123/data/toy_data_set/01OV002-bd8cdc70-3d46-40ae-99c4-90ef77.svs/metadata.yml\n",
      "2022-04-29 19:10:41,031 - INFO - luna.common.utils - Attempting to read metadata at /home/aukermaa/vmount/PRO_12-123/tiling/test/tiles/metadata.yml\n",
      "2022-04-29 19:10:41,035 - INFO - luna.common.utils - Expanded input:\n",
      "2022-04-29 19:10:41,035 - INFO - luna.common.utils -  -> /home/aukermaa/vmount/PRO_12-123/tiling/test/tiles\n",
      "2022-04-29 19:10:41,035 - INFO - luna.common.utils -  -> /home/aukermaa/vmount/PRO_12-123/tiling/test/tiles/01OV002-bd8cdc70-3d46-40ae-99c4-90ef77.tiles.parquet\n",
      "2022-04-29 19:10:41,036 - INFO - luna.common.utils - Found segment keys: {'slide_id': '01OV002-bd8cdc70-3d46-40ae-99c4-90ef77'}\n",
      "2022-04-29 19:10:41,037 - INFO - luna.common.utils - Resolved input:\n",
      "2022-04-29 19:10:41,037 - INFO - luna.common.utils -  -> /home/aukermaa/vmount/PRO_12-123/data/toy_data_set/01OV002-bd8cdc70-3d46-40ae-99c4-90ef77.svs\n",
      "2022-04-29 19:10:41,037 - INFO - luna.common.utils -  -> /home/aukermaa/vmount/PRO_12-123/data/toy_data_set/01OV002-bd8cdc70-3d46-40ae-99c4-90ef77.svs\n",
      "2022-04-29 19:10:41,038 - INFO - luna.common.utils - Resolved input:\n",
      "2022-04-29 19:10:41,038 - INFO - luna.common.utils -  -> /home/aukermaa/vmount/PRO_12-123/tiling/test/tiles/01OV002-bd8cdc70-3d46-40ae-99c4-90ef77.tiles.parquet\n",
      "2022-04-29 19:10:41,038 - INFO - luna.common.utils -  -> /home/aukermaa/vmount/PRO_12-123/tiling/test/tiles/01OV002-bd8cdc70-3d46-40ae-99c4-90ef77.tiles.parquet\n",
      "2022-04-29 19:10:41,040 - INFO - luna.common.utils - Full segment key set: {'slide_id': '01OV002-bd8cdc70-3d46-40ae-99c4-90ef77'}\n",
      "2022-04-29 19:10:41,041 - INFO - luna.common.utils - ------------------------------------------------------------\n",
      "2022-04-29 19:10:41,041 - INFO - luna.common.utils -  Starting transform::detect_tissue \n",
      "2022-04-29 19:10:41,041 - INFO - luna.common.utils - ------------------------------------------------------------\n",
      "2022-04-29 19:10:41,087 - INFO - detect_tissue - Slide dimensions (53760, 54840)\n",
      "2022-04-29 19:10:41,088 - INFO - detect_tissue - Thumbnail scale factor: 20.0\n",
      "2022-04-29 19:10:42,605 - INFO - detect_tissue - Sample array size: (2742, 2688, 3)\n",
      "2022-04-29 19:11:02,088 - INFO - detect_tissue - Starting otsu thresholding, threshold=0.7300508425245098\n",
      "100%|███████████████████████████████████████| 2652/2652 [00:37<00:00, 70.57it/s]\n",
      "2022-04-29 19:11:39,993 - INFO - detect_tissue - Filtering based on query: otsu_score > 0.1\n",
      "2022-04-29 19:11:40,003 - INFO - detect_tissue -               x_coord  y_coord  xy_extent  tile_size tile_units  otsu_score\n",
      "2022-04-29 19:11:40,003 - INFO - detect_tissue - address                                                                    \n",
      "2022-04-29 19:11:40,003 - INFO - detect_tissue - x1_y42_z5.0      1024    43008       1024        128         px        0.16\n",
      "2022-04-29 19:11:40,003 - INFO - detect_tissue - x1_y43_z5.0      1024    44032       1024        128         px        0.29\n",
      "2022-04-29 19:11:40,003 - INFO - detect_tissue - x2_y38_z5.0      2048    38912       1024        128         px        0.25\n",
      "2022-04-29 19:11:40,003 - INFO - detect_tissue - x2_y39_z5.0      2048    39936       1024        128         px        0.40\n",
      "2022-04-29 19:11:40,003 - INFO - detect_tissue - x2_y40_z5.0      2048    40960       1024        128         px        0.39\n",
      "2022-04-29 19:11:40,003 - INFO - detect_tissue - ...               ...      ...        ...        ...        ...         ...\n",
      "2022-04-29 19:11:40,003 - INFO - detect_tissue - x46_y30_z5.0    47104    30720       1024        128         px        0.61\n",
      "2022-04-29 19:11:40,003 - INFO - detect_tissue - x46_y31_z5.0    47104    31744       1024        128         px        0.72\n",
      "2022-04-29 19:11:40,003 - INFO - detect_tissue - x46_y32_z5.0    47104    32768       1024        128         px        0.56\n",
      "2022-04-29 19:11:40,003 - INFO - detect_tissue - x46_y33_z5.0    47104    33792       1024        128         px        0.46\n",
      "2022-04-29 19:11:40,003 - INFO - detect_tissue - x46_y34_z5.0    47104    34816       1024        128         px        0.53\n",
      "2022-04-29 19:11:40,003 - INFO - detect_tissue - \n",
      "2022-04-29 19:11:40,003 - INFO - detect_tissue - [1303 rows x 6 columns]\n",
      "2022-04-29 19:11:40,031 - INFO - luna.common.utils - Code block 'transform::detect_tissue' took: 58.988800406455994s\n",
      "2022-04-29 19:11:40,033 - INFO - luna.common.utils - ------------------------------------------------------------\n",
      "2022-04-29 19:11:40,033 - INFO - luna.common.utils -  Done with transform, running post-transform functions... \n",
      "2022-04-29 19:11:40,033 - INFO - luna.common.utils - ------------------------------------------------------------\n",
      "2022-04-29 19:11:40,038 - INFO - luna.common.utils - Done.\n"
     ]
    }
   ],
   "source": [
    "!detect_tissue \\\n",
    "~/vmount/PRO_12-123/data/toy_data_set/01OV002-bd8cdc70-3d46-40ae-99c4-90ef77.svs \\\n",
    "~/vmount/PRO_12-123/tiling/test/tiles \\\n",
    "--requested_magnification 2 \\\n",
    "--filter_query \"otsu_score > 0.1\" \\\n",
    "-o ~/vmount/PRO_12-123/tiling/test/detect"
   ]
  },
  {
   "cell_type": "code",
   "execution_count": 5,
   "metadata": {},
   "outputs": [
    {
     "name": "stdout",
     "output_type": "stream",
     "text": [
      "2022-04-29 19:11:42,817 - INFO - root - Initalized logger, log file at: data-processing.log\n",
      "2022-04-29 19:11:42,819 - INFO - luna.common.utils - Started CLI Runner wtih <function generate_tile_labels at 0x7f60b2a3ae50>\n",
      "2022-04-29 19:11:42,820 - INFO - luna.common.utils - Validating params...\n",
      "2022-04-29 19:11:42,822 - INFO - luna.common.utils -  -> Set input_slide_annotation_dataset (<class 'str'>) = ../PRO_12-123/data/toy_data_set/table/ANNOTATIONS\n",
      "2022-04-29 19:11:42,823 - INFO - luna.common.utils -  -> Set input_slide_tiles (<class 'str'>) = /home/aukermaa/vmount/PRO_12-123/tiling/test/detect\n",
      "2022-04-29 19:11:42,824 - INFO - luna.common.utils -  -> Set output_dir (<class 'str'>) = /home/aukermaa/vmount/PRO_12-123/tiling/test/label\n",
      "2022-04-29 19:11:42,826 - INFO - luna.common.utils - Expanding inputs...\n",
      "2022-04-29 19:11:42,827 - INFO - luna.common.utils - Attempting to read metadata at ../PRO_12-123/data/toy_data_set/table/ANNOTATIONS/metadata.yml\n",
      "2022-04-29 19:11:42,832 - INFO - luna.common.utils - Expanded input:\n",
      "2022-04-29 19:11:42,832 - INFO - luna.common.utils -  -> ../PRO_12-123/data/toy_data_set/table/ANNOTATIONS\n",
      "2022-04-29 19:11:42,832 - INFO - luna.common.utils -  -> ../PRO_12-123/data/toy_data_set/table/ANNOTATIONS/slide_annotation_dataset_TCGA collection_ov_regional.parquet\n",
      "2022-04-29 19:11:42,833 - INFO - luna.common.utils - Found segment keys: {'dsa_collection_uuid': '626c0a1dbfa0f49e3e026f6a'}\n",
      "2022-04-29 19:11:42,834 - INFO - luna.common.utils - Attempting to read metadata at /home/aukermaa/vmount/PRO_12-123/tiling/test/detect/metadata.yml\n",
      "2022-04-29 19:11:42,839 - INFO - luna.common.utils - Expanded input:\n",
      "2022-04-29 19:11:42,839 - INFO - luna.common.utils -  -> /home/aukermaa/vmount/PRO_12-123/tiling/test/detect\n",
      "2022-04-29 19:11:42,839 - INFO - luna.common.utils -  -> /home/aukermaa/vmount/PRO_12-123/tiling/test/detect/01OV002-bd8cdc70-3d46-40ae-99c4-90ef77-filtered.tiles.parquet\n",
      "2022-04-29 19:11:42,840 - INFO - luna.common.utils - Found segment keys: {'slide_id': '01OV002-bd8cdc70-3d46-40ae-99c4-90ef77'}\n",
      "2022-04-29 19:11:42,842 - INFO - luna.common.utils - Resolved input:\n",
      "2022-04-29 19:11:42,842 - INFO - luna.common.utils -  -> ../PRO_12-123/data/toy_data_set/table/ANNOTATIONS/slide_annotation_dataset_TCGA collection_ov_regional.parquet\n",
      "2022-04-29 19:11:42,842 - INFO - luna.common.utils -  -> /home/aukermaa/vmount/PRO_12-123/data/toy_data_set/table/ANNOTATIONS/slide_annotation_dataset_TCGA collection_ov_regional.parquet\n",
      "2022-04-29 19:11:42,844 - INFO - luna.common.utils - Resolved input:\n",
      "2022-04-29 19:11:42,844 - INFO - luna.common.utils -  -> /home/aukermaa/vmount/PRO_12-123/tiling/test/detect/01OV002-bd8cdc70-3d46-40ae-99c4-90ef77-filtered.tiles.parquet\n",
      "2022-04-29 19:11:42,844 - INFO - luna.common.utils -  -> /home/aukermaa/vmount/PRO_12-123/tiling/test/detect/01OV002-bd8cdc70-3d46-40ae-99c4-90ef77-filtered.tiles.parquet\n",
      "2022-04-29 19:11:42,845 - INFO - luna.common.utils - Full segment key set: {'dsa_collection_uuid': '626c0a1dbfa0f49e3e026f6a', 'slide_id': '01OV002-bd8cdc70-3d46-40ae-99c4-90ef77'}\n",
      "2022-04-29 19:11:42,847 - INFO - luna.common.utils - ------------------------------------------------------------\n",
      "2022-04-29 19:11:42,847 - INFO - luna.common.utils -  Starting transform::generate_tile_labels \n",
      "2022-04-29 19:11:42,847 - INFO - luna.common.utils - ------------------------------------------------------------\n",
      "2022-04-29 19:11:42,848 - INFO - generate_tile_labels - slide_id=01OV002-bd8cdc70-3d46-40ae-99c4-90ef77\n",
      "../PRO_12-123/data/toy_data_set/table/ANNOTATIONS/01OV002-bd8cdc70-3d46-40ae-99c4-90ef77.annotation.geojson TCGA collection ov_regional\n",
      "100%|█████████████████████████████████████| 1303/1303 [00:00<00:00, 4611.89it/s]\n",
      "2022-04-29 19:11:43,207 - INFO - generate_tile_labels -               x_coord  y_coord  ...  regional_label  intersection_area\n",
      "2022-04-29 19:11:43,207 - INFO - generate_tile_labels - address                         ...                                   \n",
      "2022-04-29 19:11:43,207 - INFO - generate_tile_labels - x13_y28_z5.0    13312    28672  ...          stroma           0.487086\n",
      "2022-04-29 19:11:43,207 - INFO - generate_tile_labels - x14_y27_z5.0    14336    27648  ...          stroma           0.291768\n",
      "2022-04-29 19:11:43,207 - INFO - generate_tile_labels - x14_y28_z5.0    14336    28672  ...          stroma           0.651016\n",
      "2022-04-29 19:11:43,207 - INFO - generate_tile_labels - x15_y26_z5.0    15360    26624  ...          stroma           0.072020\n",
      "2022-04-29 19:11:43,207 - INFO - generate_tile_labels - x15_y27_z5.0    15360    27648  ...          stroma           0.791896\n",
      "2022-04-29 19:11:43,207 - INFO - generate_tile_labels - ...               ...      ...  ...             ...                ...\n",
      "2022-04-29 19:11:43,207 - INFO - generate_tile_labels - x32_y34_z5.0    32768    34816  ...           tumor           0.078126\n",
      "2022-04-29 19:11:43,207 - INFO - generate_tile_labels - x32_y35_z5.0    32768    35840  ...           tumor           0.970465\n",
      "2022-04-29 19:11:43,207 - INFO - generate_tile_labels - x32_y36_z5.0    32768    36864  ...           tumor           0.743251\n",
      "2022-04-29 19:11:43,207 - INFO - generate_tile_labels - x32_y37_z5.0    32768    37888  ...           tumor           0.334259\n",
      "2022-04-29 19:11:43,207 - INFO - generate_tile_labels - x33_y35_z5.0    33792    35840  ...           tumor           0.062498\n",
      "2022-04-29 19:11:43,207 - INFO - generate_tile_labels - \n",
      "2022-04-29 19:11:43,207 - INFO - generate_tile_labels - [67 rows x 8 columns]\n",
      "2022-04-29 19:11:43,231 - INFO - luna.common.utils - Code block 'transform::generate_tile_labels' took: 0.38335680961608887s\n",
      "2022-04-29 19:11:43,261 - INFO - luna.common.utils - ------------------------------------------------------------\n",
      "2022-04-29 19:11:43,261 - INFO - luna.common.utils -  Done with transform, running post-transform functions... \n",
      "2022-04-29 19:11:43,261 - INFO - luna.common.utils - ------------------------------------------------------------\n",
      "2022-04-29 19:11:43,265 - INFO - luna.common.utils - Done.\n"
     ]
    }
   ],
   "source": [
    "!label_tiles \\\n",
    "../PRO_12-123/data/toy_data_set/table/ANNOTATIONS ~/vmount/PRO_12-123/tiling/test/detect \\\n",
    "-o ~/vmount/PRO_12-123/tiling/test/label"
   ]
  },
  {
   "cell_type": "code",
   "execution_count": 6,
   "metadata": {
    "scrolled": false
   },
   "outputs": [
    {
     "name": "stdout",
     "output_type": "stream",
     "text": [
      "2022-04-29 19:11:45,644 - INFO - root - Initalized logger, log file at: data-processing.log\n",
      "2022-04-29 19:11:47,412 - INFO - luna.common.utils - Started CLI Runner wtih <function save_tiles at 0x7f09877163a0>\n",
      "2022-04-29 19:11:47,426 - INFO - luna.common.utils - Validating params...\n",
      "2022-04-29 19:11:47,427 - INFO - luna.common.utils -  -> Set input_slide_image (<class 'str'>) = /home/aukermaa/vmount/PRO_12-123/data/toy_data_set/01OV002-bd8cdc70-3d46-40ae-99c4-90ef77.svs\n",
      "2022-04-29 19:11:47,428 - INFO - luna.common.utils -  -> Set input_slide_tiles (<class 'str'>) = /home/aukermaa/vmount/PRO_12-123/tiling/test/label\n",
      "2022-04-29 19:11:47,429 - INFO - luna.common.utils -  -> Set output_dir (<class 'str'>) = /home/aukermaa/vmount/PRO_12-123/tiling/test/saved_tiles\n",
      "2022-04-29 19:11:47,430 - INFO - luna.common.utils -  -> Set num_cores (<class 'int'>) = 16\n",
      "2022-04-29 19:11:47,431 - INFO - luna.common.utils -  -> Set batch_size (<class 'int'>) = 200\n",
      "2022-04-29 19:11:47,433 - INFO - luna.common.utils - Expanding inputs...\n",
      "2022-04-29 19:11:47,434 - INFO - luna.common.utils - Attempting to read metadata at /home/aukermaa/vmount/PRO_12-123/data/toy_data_set/01OV002-bd8cdc70-3d46-40ae-99c4-90ef77.svs/metadata.yml\n",
      "2022-04-29 19:11:47,435 - INFO - luna.common.utils - Attempting to read metadata at /home/aukermaa/vmount/PRO_12-123/tiling/test/label/metadata.yml\n",
      "2022-04-29 19:11:47,438 - INFO - luna.common.utils - Expanded input:\n",
      "2022-04-29 19:11:47,438 - INFO - luna.common.utils -  -> /home/aukermaa/vmount/PRO_12-123/tiling/test/label\n",
      "2022-04-29 19:11:47,438 - INFO - luna.common.utils -  -> /home/aukermaa/vmount/PRO_12-123/tiling/test/label/01OV002-bd8cdc70-3d46-40ae-99c4-90ef77.regional_label.tiles.parquet\n",
      "2022-04-29 19:11:47,439 - INFO - luna.common.utils - Found segment keys: {'dsa_collection_uuid': '626c0a1dbfa0f49e3e026f6a', 'slide_id': '01OV002-bd8cdc70-3d46-40ae-99c4-90ef77'}\n",
      "2022-04-29 19:11:47,440 - INFO - luna.common.utils - Resolved input:\n",
      "2022-04-29 19:11:47,440 - INFO - luna.common.utils -  -> /home/aukermaa/vmount/PRO_12-123/data/toy_data_set/01OV002-bd8cdc70-3d46-40ae-99c4-90ef77.svs\n",
      "2022-04-29 19:11:47,440 - INFO - luna.common.utils -  -> /home/aukermaa/vmount/PRO_12-123/data/toy_data_set/01OV002-bd8cdc70-3d46-40ae-99c4-90ef77.svs\n",
      "2022-04-29 19:11:47,441 - INFO - luna.common.utils - Resolved input:\n",
      "2022-04-29 19:11:47,441 - INFO - luna.common.utils -  -> /home/aukermaa/vmount/PRO_12-123/tiling/test/label/01OV002-bd8cdc70-3d46-40ae-99c4-90ef77.regional_label.tiles.parquet\n",
      "2022-04-29 19:11:47,441 - INFO - luna.common.utils -  -> /home/aukermaa/vmount/PRO_12-123/tiling/test/label/01OV002-bd8cdc70-3d46-40ae-99c4-90ef77.regional_label.tiles.parquet\n",
      "2022-04-29 19:11:47,442 - INFO - luna.common.utils - Full segment key set: {'dsa_collection_uuid': '626c0a1dbfa0f49e3e026f6a', 'slide_id': '01OV002-bd8cdc70-3d46-40ae-99c4-90ef77'}\n",
      "2022-04-29 19:11:47,443 - INFO - luna.common.utils - ------------------------------------------------------------\n",
      "2022-04-29 19:11:47,443 - INFO - luna.common.utils -  Starting transform::save_tiles \n",
      "2022-04-29 19:11:47,443 - INFO - luna.common.utils - ------------------------------------------------------------\n",
      "2022-04-29 19:11:47,473 - INFO - generate_tiles - Now generating tiles with num_cores=16 and batch_size=200!\n",
      "2022-04-29 19:11:47,475 - WARNING - generate_tiles - /home/aukermaa/vmount/PRO_12-123/tiling/test/saved_tiles/01OV002-bd8cdc70-3d46-40ae-99c4-90ef77.tiles.h5 already exists, deleting the file..\n",
      "100%|█████████████████████████████████████████████| 7/7 [00:14<00:00,  2.01s/it]\n",
      "2022-04-29 19:12:01,980 - INFO - generate_tiles -               x_coord  ...                                         tile_store\n",
      "2022-04-29 19:12:01,980 - INFO - generate_tiles - address                ...                                                   \n",
      "2022-04-29 19:12:01,980 - INFO - generate_tiles - x1_y42_z5.0      1024  ...  /home/aukermaa/vmount/PRO_12-123/tiling/test/s...\n",
      "2022-04-29 19:12:01,980 - INFO - generate_tiles - x1_y43_z5.0      1024  ...  /home/aukermaa/vmount/PRO_12-123/tiling/test/s...\n",
      "2022-04-29 19:12:01,980 - INFO - generate_tiles - x2_y38_z5.0      2048  ...  /home/aukermaa/vmount/PRO_12-123/tiling/test/s...\n",
      "2022-04-29 19:12:01,980 - INFO - generate_tiles - x2_y39_z5.0      2048  ...  /home/aukermaa/vmount/PRO_12-123/tiling/test/s...\n",
      "2022-04-29 19:12:01,980 - INFO - generate_tiles - x2_y40_z5.0      2048  ...  /home/aukermaa/vmount/PRO_12-123/tiling/test/s...\n",
      "2022-04-29 19:12:01,980 - INFO - generate_tiles - ...               ...  ...                                                ...\n",
      "2022-04-29 19:12:01,980 - INFO - generate_tiles - x46_y30_z5.0    47104  ...  /home/aukermaa/vmount/PRO_12-123/tiling/test/s...\n",
      "2022-04-29 19:12:01,980 - INFO - generate_tiles - x46_y31_z5.0    47104  ...  /home/aukermaa/vmount/PRO_12-123/tiling/test/s...\n",
      "2022-04-29 19:12:01,980 - INFO - generate_tiles - x46_y32_z5.0    47104  ...  /home/aukermaa/vmount/PRO_12-123/tiling/test/s...\n",
      "2022-04-29 19:12:01,980 - INFO - generate_tiles - x46_y33_z5.0    47104  ...  /home/aukermaa/vmount/PRO_12-123/tiling/test/s...\n",
      "2022-04-29 19:12:01,980 - INFO - generate_tiles - x46_y34_z5.0    47104  ...  /home/aukermaa/vmount/PRO_12-123/tiling/test/s...\n",
      "2022-04-29 19:12:01,980 - INFO - generate_tiles - \n",
      "2022-04-29 19:12:01,980 - INFO - generate_tiles - [1303 rows x 9 columns]\n",
      "2022-04-29 19:12:02,009 - INFO - luna.common.utils - Code block 'transform::save_tiles' took: 14.565252356231213s\n",
      "2022-04-29 19:12:02,011 - INFO - luna.common.utils - ------------------------------------------------------------\n",
      "2022-04-29 19:12:02,011 - INFO - luna.common.utils -  Done with transform, running post-transform functions... \n",
      "2022-04-29 19:12:02,011 - INFO - luna.common.utils - ------------------------------------------------------------\n",
      "2022-04-29 19:12:02,015 - INFO - luna.common.utils - Adding feature segment /home/aukermaa/vmount/PRO_12-123/tiling/test/saved_tiles/01OV002-bd8cdc70-3d46-40ae-99c4-90ef77.tiles.parquet to PRO_TILES\n",
      "2022-04-29 19:12:02,017 - INFO - luna.common.utils - Found dataset URL = http://waystation:6077/datasets\n",
      "2022-04-29 19:12:02,017 - INFO - luna.common.utils - Adding /home/aukermaa/vmount/PRO_12-123/tiling/test/saved_tiles/01OV002-bd8cdc70-3d46-40ae-99c4-90ef77.tiles.parquet to PRO_TILES via http://waystation:6077/datasets\n",
      "2022-04-29 19:12:02,018 - INFO - luna.common.utils - SEGMENT_ID=626c0a1dbfa0f49e3e026f6a-01OV002-bd8cdc70-3d46-40ae-99c4-90ef77\n",
      "2022-04-29 19:12:02,019 - INFO - luna.common.utils - Posting to: http://waystation:6077/datasets/datasets/PRO_TILES/segments/626c0a1dbfa0f49e3e026f6a-01OV002-bd8cdc70-3d46-40ae-99c4-90ef77\n",
      "2022-04-29 19:12:02,029 - INFO - luna.common.utils - <Response [404]>:\n",
      "2022-04-29 19:12:02,031 - INFO - luna.common.utils - Done.\n"
     ]
    }
   ],
   "source": [
    "!save_tiles \\\n",
    "~/vmount/PRO_12-123/data/toy_data_set/01OV002-bd8cdc70-3d46-40ae-99c4-90ef77.svs \\\n",
    "~/vmount/PRO_12-123/tiling/test/label \\\n",
    "--num_cores 16 --batch_size 200 --dataset_id PRO_TILES \\\n",
    "-o ~/vmount/PRO_12-123/tiling/test/saved_tiles"
   ]
  },
  {
   "cell_type": "code",
   "execution_count": 7,
   "metadata": {
    "scrolled": false
   },
   "outputs": [],
   "source": [
    "from luna.common.utils import LunaCliClient\n",
    "\n",
    "def pipeline (slide_id, input_slide, input_annotations):\n",
    "    client = LunaCliClient(\"~/vmount/PRO_12-123/tiling\", slide_id)\n",
    "    \n",
    "    client.bootstrap(\"slide\", input_slide)\n",
    "    client.bootstrap(\"annotations\", input_annotations)\n",
    "    \n",
    "    client.configure(\"generate_tiles\", \"slide\", \n",
    "        tile_size=128, \n",
    "        requested_magnification=20\n",
    "    ).run(\"source_tiles\")\n",
    "\n",
    "    client.configure(\"detect_tissue\", \"slide\", \"source_tiles\",\n",
    "        filter_query=\"otsu_score > 0.1\", \n",
    "        requested_magnification=2\n",
    "    ).run(\"detected_tiles\")\n",
    "\n",
    "    client.configure(\"label_tiles\", \"annotations\", \"detected_tiles\").run(\"labled_tiles\")\n",
    "\n",
    "    client.configure( \"save_tiles\", \"slide\", \"labled_tiles\",\n",
    "        num_cores=16, batch_size=200, dataset_id='PRO_TILES_LABLED'\n",
    "    ).run(\"saved_tiles\")"
   ]
  },
  {
   "cell_type": "code",
   "execution_count": 8,
   "metadata": {
    "scrolled": true
   },
   "outputs": [
    {
     "name": "stdout",
     "output_type": "stream",
     "text": [
      "01OV008-7579323e-2fae-43a9-b00f-a15c28\n",
      "generate_tiles file:/home/aukermaa/vmount/PRO_12-123/data/toy_data_set/01OV008-7579323e-2fae-43a9-b00f-a15c28.svs --tile_size 128 --requested_magnification 20\n",
      "['generate_tiles', PosixPath('file:/home/aukermaa/vmount/PRO_12-123/data/toy_data_set/01OV008-7579323e-2fae-43a9-b00f-a15c28.svs'), '--tile_size', '128', '--requested_magnification', '20', '-o', '/home/aukermaa/vmount/PRO_12-123/tiling/01OV008-7579323e-2fae-43a9-b00f-a15c28/source_tiles']\n",
      "01OV002-bd8cdc70-3d46-40ae-99c4-90ef77\n",
      "generate_tiles file:/home/aukermaa/vmount/PRO_12-123/data/toy_data_set/01OV002-bd8cdc70-3d46-40ae-99c4-90ef77.svs --tile_size 128 --requested_magnification 20\n",
      "['generate_tiles', PosixPath('file:/home/aukermaa/vmount/PRO_12-123/data/toy_data_set/01OV002-bd8cdc70-3d46-40ae-99c4-90ef77.svs'), '--tile_size', '128', '--requested_magnification', '20', '-o', '/home/aukermaa/vmount/PRO_12-123/tiling/01OV002-bd8cdc70-3d46-40ae-99c4-90ef77/source_tiles']\n",
      "01OV002-ed65cf94-8bc6-492b-9149-adc16f\n",
      "generate_tiles file:/home/aukermaa/vmount/PRO_12-123/data/toy_data_set/01OV002-ed65cf94-8bc6-492b-9149-adc16f.svs --tile_size 128 --requested_magnification 20\n",
      "['generate_tiles', PosixPath('file:/home/aukermaa/vmount/PRO_12-123/data/toy_data_set/01OV002-ed65cf94-8bc6-492b-9149-adc16f.svs'), '--tile_size', '128', '--requested_magnification', '20', '-o', '/home/aukermaa/vmount/PRO_12-123/tiling/01OV002-ed65cf94-8bc6-492b-9149-adc16f/source_tiles']\n",
      "01OV007-9b90eb78-2f50-4aeb-b010-d642f9\n",
      "generate_tiles file:/home/aukermaa/vmount/PRO_12-123/data/toy_data_set/01OV007-9b90eb78-2f50-4aeb-b010-d642f9.svs --tile_size 128 --requested_magnification 20\n",
      "['generate_tiles', PosixPath('file:/home/aukermaa/vmount/PRO_12-123/data/toy_data_set/01OV007-9b90eb78-2f50-4aeb-b010-d642f9.svs'), '--tile_size', '128', '--requested_magnification', '20', '-o', '/home/aukermaa/vmount/PRO_12-123/tiling/01OV007-9b90eb78-2f50-4aeb-b010-d642f9/source_tiles']\n",
      "01OV008-308ad404-7079-4ff8-8232-12ee2e\n",
      "generate_tiles file:/home/aukermaa/vmount/PRO_12-123/data/toy_data_set/01OV008-308ad404-7079-4ff8-8232-12ee2e.svs --tile_size 128 --requested_magnification 20\n",
      "['generate_tiles', PosixPath('file:/home/aukermaa/vmount/PRO_12-123/data/toy_data_set/01OV008-308ad404-7079-4ff8-8232-12ee2e.svs'), '--tile_size', '128', '--requested_magnification', '20', '-o', '/home/aukermaa/vmount/PRO_12-123/tiling/01OV008-308ad404-7079-4ff8-8232-12ee2e/source_tiles']\n"
     ]
    },
    {
     "name": "stderr",
     "output_type": "stream",
     "text": [
      "2022-04-29 19:00:00,723 - INFO - root - Initalized logger, log file at: data-processing.log\n",
      "2022-04-29 19:00:00,763 - INFO - root - Initalized logger, log file at: data-processing.log\n",
      "2022-04-29 19:00:00,766 - INFO - root - Initalized logger, log file at: data-processing.log\n",
      "2022-04-29 19:00:00,775 - INFO - root - Initalized logger, log file at: data-processing.log\n",
      "2022-04-29 19:00:00,816 - INFO - root - Initalized logger, log file at: data-processing.log\n",
      "2022-04-29 19:00:02,616 - INFO - luna.common.utils - Started CLI Runner wtih <function generate_tiles at 0x7ff58273f550>\n",
      "2022-04-29 19:00:02,618 - INFO - luna.common.utils - Validating params...\n",
      "2022-04-29 19:00:02,620 - INFO - luna.common.utils -  -> Set input_slide_image (<class 'str'>) = file:/home/aukermaa/vmount/PRO_12-123/data/toy_data_set/01OV002-ed65cf94-8bc6-492b-9149-adc16f.svs\n",
      "2022-04-29 19:00:02,622 - INFO - luna.common.utils -  -> Set output_dir (<class 'str'>) = /home/aukermaa/vmount/PRO_12-123/tiling/01OV002-ed65cf94-8bc6-492b-9149-adc16f/source_tiles\n",
      "2022-04-29 19:00:02,623 - INFO - luna.common.utils -  -> Set tile_size (<class 'int'>) = 128\n",
      "2022-04-29 19:00:02,625 - INFO - luna.common.utils -  -> Set requested_magnification (<class 'float'>) = 20.0\n",
      "2022-04-29 19:00:02,627 - INFO - luna.common.utils - Started CLI Runner wtih <function generate_tiles at 0x7f839fd90550>\n",
      "2022-04-29 19:00:02,628 - INFO - luna.common.utils - Validating params...\n",
      "2022-04-29 19:00:02,629 - INFO - luna.common.utils - Expanding inputs...\n",
      "2022-04-29 19:00:02,630 - INFO - luna.common.utils -  -> Set input_slide_image (<class 'str'>) = file:/home/aukermaa/vmount/PRO_12-123/data/toy_data_set/01OV008-7579323e-2fae-43a9-b00f-a15c28.svs\n",
      "2022-04-29 19:00:02,630 - INFO - luna.common.utils - Attempting to read metadata at file:/home/aukermaa/vmount/PRO_12-123/data/toy_data_set/01OV002-ed65cf94-8bc6-492b-9149-adc16f.svs/metadata.yml\n",
      "2022-04-29 19:00:02,631 - INFO - luna.common.utils -  -> Set output_dir (<class 'str'>) = /home/aukermaa/vmount/PRO_12-123/tiling/01OV008-7579323e-2fae-43a9-b00f-a15c28/source_tiles\n",
      "2022-04-29 19:00:02,632 - INFO - luna.common.utils - Started CLI Runner wtih <function generate_tiles at 0x7febbbdd6550>\n",
      "2022-04-29 19:00:02,633 - INFO - luna.common.utils - Resolved input:\n",
      "2022-04-29 19:00:02,633 - INFO - luna.common.utils -  -> file:/home/aukermaa/vmount/PRO_12-123/data/toy_data_set/01OV002-ed65cf94-8bc6-492b-9149-adc16f.svs\n",
      "2022-04-29 19:00:02,633 - INFO - luna.common.utils -  -> /home/aukermaa/vmount/PRO_12-123/data/toy_data_set/01OV002-ed65cf94-8bc6-492b-9149-adc16f.svs\n",
      "2022-04-29 19:00:02,634 - INFO - luna.common.utils -  -> Set tile_size (<class 'int'>) = 128\n",
      "2022-04-29 19:00:02,635 - INFO - luna.common.utils - Validating params...\n",
      "2022-04-29 19:00:02,635 - INFO - luna.common.utils - Full segment key set: {}\n",
      "2022-04-29 19:00:02,636 - INFO - luna.common.utils -  -> Set requested_magnification (<class 'float'>) = 20.0\n",
      "2022-04-29 19:00:02,637 - INFO - luna.common.utils -  -> Set input_slide_image (<class 'str'>) = file:/home/aukermaa/vmount/PRO_12-123/data/toy_data_set/01OV008-308ad404-7079-4ff8-8232-12ee2e.svs\n",
      "2022-04-29 19:00:02,637 - INFO - luna.common.utils - ------------------------------------------------------------\n",
      "2022-04-29 19:00:02,637 - INFO - luna.common.utils -  Starting transform::generate_tiles \n",
      "2022-04-29 19:00:02,637 - INFO - luna.common.utils - ------------------------------------------------------------\n",
      "2022-04-29 19:00:02,638 - INFO - luna.common.utils -  -> Set output_dir (<class 'str'>) = /home/aukermaa/vmount/PRO_12-123/tiling/01OV008-308ad404-7079-4ff8-8232-12ee2e/source_tiles\n",
      "2022-04-29 19:00:02,639 - INFO - luna.common.utils -  -> Set tile_size (<class 'int'>) = 128\n",
      "2022-04-29 19:00:02,639 - INFO - luna.common.utils - Expanding inputs...\n",
      "2022-04-29 19:00:02,640 - INFO - luna.common.utils -  -> Set requested_magnification (<class 'float'>) = 20.0\n",
      "2022-04-29 19:00:02,641 - INFO - luna.common.utils - Attempting to read metadata at file:/home/aukermaa/vmount/PRO_12-123/data/toy_data_set/01OV008-7579323e-2fae-43a9-b00f-a15c28.svs/metadata.yml\n",
      "2022-04-29 19:00:02,642 - INFO - luna.common.utils - Resolved input:\n",
      "2022-04-29 19:00:02,642 - INFO - luna.common.utils -  -> file:/home/aukermaa/vmount/PRO_12-123/data/toy_data_set/01OV008-7579323e-2fae-43a9-b00f-a15c28.svs\n",
      "2022-04-29 19:00:02,642 - INFO - luna.common.utils -  -> /home/aukermaa/vmount/PRO_12-123/data/toy_data_set/01OV008-7579323e-2fae-43a9-b00f-a15c28.svs\n",
      "2022-04-29 19:00:02,643 - INFO - luna.common.utils - Expanding inputs...\n",
      "2022-04-29 19:00:02,643 - INFO - luna.common.utils - Attempting to read metadata at file:/home/aukermaa/vmount/PRO_12-123/data/toy_data_set/01OV008-308ad404-7079-4ff8-8232-12ee2e.svs/metadata.yml\n",
      "2022-04-29 19:00:02,643 - INFO - luna.common.utils - Full segment key set: {}\n",
      "2022-04-29 19:00:02,644 - INFO - luna.common.utils - ------------------------------------------------------------\n",
      "2022-04-29 19:00:02,644 - INFO - luna.common.utils -  Starting transform::generate_tiles \n",
      "2022-04-29 19:00:02,644 - INFO - luna.common.utils - ------------------------------------------------------------\n",
      "2022-04-29 19:00:02,645 - INFO - luna.common.utils - Resolved input:\n",
      "2022-04-29 19:00:02,645 - INFO - luna.common.utils -  -> file:/home/aukermaa/vmount/PRO_12-123/data/toy_data_set/01OV008-308ad404-7079-4ff8-8232-12ee2e.svs\n",
      "2022-04-29 19:00:02,645 - INFO - luna.common.utils -  -> /home/aukermaa/vmount/PRO_12-123/data/toy_data_set/01OV008-308ad404-7079-4ff8-8232-12ee2e.svs\n",
      "2022-04-29 19:00:02,646 - INFO - luna.common.utils - Full segment key set: {}\n",
      "2022-04-29 19:00:02,647 - INFO - luna.common.utils - ------------------------------------------------------------\n",
      "2022-04-29 19:00:02,647 - INFO - luna.common.utils -  Starting transform::generate_tiles \n",
      "2022-04-29 19:00:02,647 - INFO - luna.common.utils - ------------------------------------------------------------\n",
      "2022-04-29 19:00:02,653 - INFO - generate_tiles - Slide size = [50880,49787]\n",
      "2022-04-29 19:00:02,655 - INFO - generate_tiles - Normalized magnification scale factor for 20.0x is 2.0\n",
      "2022-04-29 19:00:02,656 - INFO - generate_tiles - Requested tile size=128, tile size at full magnficiation=256\n",
      "2022-04-29 19:00:02,658 - INFO - generate_tiles - tiles x 199, tiles y 195\n",
      "2022-04-29 19:00:02,661 - INFO - generate_tiles - Slide size = [42240,59209]\n",
      "2022-04-29 19:00:02,662 - INFO - generate_tiles - Normalized magnification scale factor for 20.0x is 2.0\n",
      "2022-04-29 19:00:02,664 - INFO - generate_tiles - Requested tile size=128, tile size at full magnficiation=256\n",
      "2022-04-29 19:00:02,665 - INFO - generate_tiles - tiles x 165, tiles y 232\n",
      "2022-04-29 19:00:02,670 - INFO - generate_tiles - Slide size = [52800,38628]\n",
      "2022-04-29 19:00:02,671 - INFO - generate_tiles - Normalized magnification scale factor for 20.0x is 2.0\n",
      "2022-04-29 19:00:02,672 - INFO - generate_tiles - Requested tile size=128, tile size at full magnficiation=256\n",
      "2022-04-29 19:00:02,673 - INFO - generate_tiles - tiles x 207, tiles y 151\n",
      "2022-04-29 19:00:02,686 - INFO - luna.common.utils - Started CLI Runner wtih <function generate_tiles at 0x7fe36e696550>\n",
      "2022-04-29 19:00:02,688 - INFO - luna.common.utils - Validating params...\n",
      "2022-04-29 19:00:02,689 - INFO - luna.common.utils -  -> Set input_slide_image (<class 'str'>) = file:/home/aukermaa/vmount/PRO_12-123/data/toy_data_set/01OV002-bd8cdc70-3d46-40ae-99c4-90ef77.svs\n",
      "2022-04-29 19:00:02,689 - INFO - luna.common.utils -  -> Set output_dir (<class 'str'>) = /home/aukermaa/vmount/PRO_12-123/tiling/01OV002-bd8cdc70-3d46-40ae-99c4-90ef77/source_tiles\n",
      "2022-04-29 19:00:02,690 - INFO - luna.common.utils -  -> Set tile_size (<class 'int'>) = 128\n",
      "2022-04-29 19:00:02,691 - INFO - luna.common.utils -  -> Set requested_magnification (<class 'float'>) = 20.0\n",
      "2022-04-29 19:00:02,694 - INFO - luna.common.utils - Expanding inputs...\n",
      "2022-04-29 19:00:02,695 - INFO - luna.common.utils - Attempting to read metadata at file:/home/aukermaa/vmount/PRO_12-123/data/toy_data_set/01OV002-bd8cdc70-3d46-40ae-99c4-90ef77.svs/metadata.yml\n",
      "2022-04-29 19:00:02,696 - INFO - luna.common.utils - Resolved input:\n",
      "2022-04-29 19:00:02,696 - INFO - luna.common.utils -  -> file:/home/aukermaa/vmount/PRO_12-123/data/toy_data_set/01OV002-bd8cdc70-3d46-40ae-99c4-90ef77.svs\n",
      "2022-04-29 19:00:02,696 - INFO - luna.common.utils -  -> /home/aukermaa/vmount/PRO_12-123/data/toy_data_set/01OV002-bd8cdc70-3d46-40ae-99c4-90ef77.svs\n",
      "2022-04-29 19:00:02,696 - INFO - luna.common.utils - Full segment key set: {}\n",
      "2022-04-29 19:00:02,697 - INFO - luna.common.utils - ------------------------------------------------------------\n",
      "2022-04-29 19:00:02,697 - INFO - luna.common.utils -  Starting transform::generate_tiles \n",
      "2022-04-29 19:00:02,697 - INFO - luna.common.utils - ------------------------------------------------------------\n",
      "2022-04-29 19:00:02,706 - INFO - generate_tiles - Number of tiles in raster: 38021\n",
      "2022-04-29 19:00:02,707 - INFO - generate_tiles - Number of tiles in raster: 30545\n",
      "2022-04-29 19:00:02,711 - INFO - generate_tiles - Slide size = [53760,54840]\n",
      "2022-04-29 19:00:02,711 - INFO - generate_tiles - Number of tiles in raster: 37490\n",
      "2022-04-29 19:00:02,712 - INFO - generate_tiles - Normalized magnification scale factor for 20.0x is 2.0\n",
      "2022-04-29 19:00:02,713 - INFO - generate_tiles - Requested tile size=128, tile size at full magnficiation=256\n",
      "2022-04-29 19:00:02,714 - INFO - generate_tiles - tiles x 210, tiles y 215\n",
      "2022-04-29 19:00:02,741 - INFO - luna.common.utils - Started CLI Runner wtih <function generate_tiles at 0x7fcecf0c5550>\n",
      "2022-04-29 19:00:02,743 - INFO - luna.common.utils - Validating params...\n",
      "2022-04-29 19:00:02,744 - INFO - luna.common.utils -  -> Set input_slide_image (<class 'str'>) = file:/home/aukermaa/vmount/PRO_12-123/data/toy_data_set/01OV007-9b90eb78-2f50-4aeb-b010-d642f9.svs\n",
      "2022-04-29 19:00:02,739 - INFO - generate_tiles -                  x_coord  y_coord  xy_extent  tile_size tile_units\n",
      "2022-04-29 19:00:02,739 - INFO - generate_tiles - address                                                           \n",
      "2022-04-29 19:00:02,739 - INFO - generate_tiles - x1_y1_z20.0          256      256        256        128         px\n",
      "2022-04-29 19:00:02,739 - INFO - generate_tiles - x1_y2_z20.0          256      512        256        128         px\n",
      "2022-04-29 19:00:02,739 - INFO - generate_tiles - x1_y3_z20.0          256      768        256        128         px\n",
      "2022-04-29 19:00:02,739 - INFO - generate_tiles - x1_y4_z20.0          256     1024        256        128         px\n",
      "2022-04-29 19:00:02,739 - INFO - generate_tiles - x1_y5_z20.0          256     1280        256        128         px\n",
      "2022-04-29 19:00:02,739 - INFO - generate_tiles - ...                  ...      ...        ...        ...        ...\n",
      "2022-04-29 19:00:02,739 - INFO - generate_tiles - x205_y145_z20.0    52480    37120        256        128         px\n",
      "2022-04-29 19:00:02,739 - INFO - generate_tiles - x205_y146_z20.0    52480    37376        256        128         px\n",
      "2022-04-29 19:00:02,739 - INFO - generate_tiles - x205_y147_z20.0    52480    37632        256        128         px\n",
      "2022-04-29 19:00:02,739 - INFO - generate_tiles - x205_y148_z20.0    52480    37888        256        128         px\n",
      "2022-04-29 19:00:02,739 - INFO - generate_tiles - x205_y149_z20.0    52480    38144        256        128         px\n",
      "2022-04-29 19:00:02,739 - INFO - generate_tiles - \n",
      "2022-04-29 19:00:02,739 - INFO - generate_tiles - [30545 rows x 5 columns]\n",
      "2022-04-29 19:00:02,747 - INFO - luna.common.utils -  -> Set output_dir (<class 'str'>) = /home/aukermaa/vmount/PRO_12-123/tiling/01OV007-9b90eb78-2f50-4aeb-b010-d642f9/source_tiles\n",
      "2022-04-29 19:00:02,749 - INFO - luna.common.utils -  -> Set tile_size (<class 'int'>) = 128\n",
      "2022-04-29 19:00:02,751 - INFO - luna.common.utils -  -> Set requested_magnification (<class 'float'>) = 20.0\n",
      "2022-04-29 19:00:02,754 - INFO - luna.common.utils - Expanding inputs...\n",
      "2022-04-29 19:00:02,756 - INFO - luna.common.utils - Attempting to read metadata at file:/home/aukermaa/vmount/PRO_12-123/data/toy_data_set/01OV007-9b90eb78-2f50-4aeb-b010-d642f9.svs/metadata.yml\n",
      "2022-04-29 19:00:02,748 - INFO - generate_tiles -                  x_coord  y_coord  xy_extent  tile_size tile_units\n",
      "2022-04-29 19:00:02,748 - INFO - generate_tiles - address                                                           \n",
      "2022-04-29 19:00:02,748 - INFO - generate_tiles - x1_y1_z20.0          256      256        256        128         px\n",
      "2022-04-29 19:00:02,748 - INFO - generate_tiles - x1_y2_z20.0          256      512        256        128         px\n",
      "2022-04-29 19:00:02,748 - INFO - generate_tiles - x1_y3_z20.0          256      768        256        128         px\n",
      "2022-04-29 19:00:02,748 - INFO - generate_tiles - x1_y4_z20.0          256     1024        256        128         px\n",
      "2022-04-29 19:00:02,748 - INFO - generate_tiles - x1_y5_z20.0          256     1280        256        128         px\n",
      "2022-04-29 19:00:02,748 - INFO - generate_tiles - ...                  ...      ...        ...        ...        ...\n",
      "2022-04-29 19:00:02,748 - INFO - generate_tiles - x197_y189_z20.0    50432    48384        256        128         px\n",
      "2022-04-29 19:00:02,748 - INFO - generate_tiles - x197_y190_z20.0    50432    48640        256        128         px\n",
      "2022-04-29 19:00:02,748 - INFO - generate_tiles - x197_y191_z20.0    50432    48896        256        128         px\n",
      "2022-04-29 19:00:02,748 - INFO - generate_tiles - x197_y192_z20.0    50432    49152        256        128         px\n",
      "2022-04-29 19:00:02,748 - INFO - generate_tiles - x197_y193_z20.0    50432    49408        256        128         px\n",
      "2022-04-29 19:00:02,748 - INFO - generate_tiles - \n",
      "2022-04-29 19:00:02,748 - INFO - generate_tiles - [38021 rows x 5 columns]\n",
      "2022-04-29 19:00:02,757 - INFO - luna.common.utils - Resolved input:\n",
      "2022-04-29 19:00:02,757 - INFO - luna.common.utils -  -> file:/home/aukermaa/vmount/PRO_12-123/data/toy_data_set/01OV007-9b90eb78-2f50-4aeb-b010-d642f9.svs\n",
      "2022-04-29 19:00:02,757 - INFO - luna.common.utils -  -> /home/aukermaa/vmount/PRO_12-123/data/toy_data_set/01OV007-9b90eb78-2f50-4aeb-b010-d642f9.svs\n",
      "2022-04-29 19:00:02,758 - INFO - luna.common.utils - Full segment key set: {}\n",
      "2022-04-29 19:00:02,751 - INFO - generate_tiles -                  x_coord  y_coord  xy_extent  tile_size tile_units\n",
      "2022-04-29 19:00:02,751 - INFO - generate_tiles - address                                                           \n",
      "2022-04-29 19:00:02,751 - INFO - generate_tiles - x1_y1_z20.0          256      256        256        128         px\n",
      "2022-04-29 19:00:02,751 - INFO - generate_tiles - x1_y2_z20.0          256      512        256        128         px\n",
      "2022-04-29 19:00:02,751 - INFO - generate_tiles - x1_y3_z20.0          256      768        256        128         px\n",
      "2022-04-29 19:00:02,751 - INFO - generate_tiles - x1_y4_z20.0          256     1024        256        128         px\n",
      "2022-04-29 19:00:02,751 - INFO - generate_tiles - x1_y5_z20.0          256     1280        256        128         px\n",
      "2022-04-29 19:00:02,751 - INFO - generate_tiles - ...                  ...      ...        ...        ...        ...\n",
      "2022-04-29 19:00:02,751 - INFO - generate_tiles - x163_y226_z20.0    41728    57856        256        128         px\n",
      "2022-04-29 19:00:02,751 - INFO - generate_tiles - x163_y227_z20.0    41728    58112        256        128         px\n",
      "2022-04-29 19:00:02,751 - INFO - generate_tiles - x163_y228_z20.0    41728    58368        256        128         px\n",
      "2022-04-29 19:00:02,751 - INFO - generate_tiles - x163_y229_z20.0    41728    58624        256        128         px\n",
      "2022-04-29 19:00:02,751 - INFO - generate_tiles - x163_y230_z20.0    41728    58880        256        128         px\n",
      "2022-04-29 19:00:02,751 - INFO - generate_tiles - \n",
      "2022-04-29 19:00:02,751 - INFO - generate_tiles - [37490 rows x 5 columns]\n",
      "2022-04-29 19:00:02,761 - INFO - luna.common.utils - ------------------------------------------------------------\n",
      "2022-04-29 19:00:02,761 - INFO - luna.common.utils -  Starting transform::generate_tiles \n",
      "2022-04-29 19:00:02,761 - INFO - luna.common.utils - ------------------------------------------------------------\n",
      "2022-04-29 19:00:02,762 - INFO - generate_tiles - Number of tiles in raster: 44304\n",
      "2022-04-29 19:00:02,779 - INFO - generate_tiles - Slide size = [109440,60110]\n",
      "2022-04-29 19:00:02,781 - INFO - generate_tiles - Normalized magnification scale factor for 20.0x is 2.0\n",
      "2022-04-29 19:00:02,782 - INFO - generate_tiles - Requested tile size=128, tile size at full magnficiation=256\n",
      "2022-04-29 19:00:02,784 - INFO - generate_tiles - tiles x 428, tiles y 235\n",
      "2022-04-29 19:00:02,786 - INFO - luna.common.utils - Code block 'transform::generate_tiles' took: 0.13792141526937485s\n",
      "2022-04-29 19:00:02,787 - INFO - luna.common.utils - ------------------------------------------------------------\n",
      "2022-04-29 19:00:02,787 - INFO - luna.common.utils -  Done with transform, running post-transform functions... \n",
      "2022-04-29 19:00:02,787 - INFO - luna.common.utils - ------------------------------------------------------------\n",
      "2022-04-29 19:00:02,791 - INFO - luna.common.utils - Done.\n",
      "2022-04-29 19:00:02,810 - INFO - luna.common.utils - Code block 'transform::generate_tiles' took: 0.1715700775384903s\n",
      "2022-04-29 19:00:02,810 - INFO - luna.common.utils - ------------------------------------------------------------\n",
      "2022-04-29 19:00:02,810 - INFO - luna.common.utils -  Done with transform, running post-transform functions... \n",
      "2022-04-29 19:00:02,810 - INFO - luna.common.utils - ------------------------------------------------------------\n",
      "2022-04-29 19:00:02,813 - INFO - luna.common.utils - Code block 'transform::generate_tiles' took: 0.16734563559293747s\n",
      "2022-04-29 19:00:02,814 - INFO - luna.common.utils - ------------------------------------------------------------\n",
      "2022-04-29 19:00:02,814 - INFO - luna.common.utils -  Done with transform, running post-transform functions... \n",
      "2022-04-29 19:00:02,814 - INFO - luna.common.utils - ------------------------------------------------------------\n",
      "2022-04-29 19:00:02,815 - INFO - luna.common.utils - Done.\n",
      "2022-04-29 19:00:02,809 - INFO - generate_tiles -                  x_coord  y_coord  xy_extent  tile_size tile_units\n",
      "2022-04-29 19:00:02,809 - INFO - generate_tiles - address                                                           \n",
      "2022-04-29 19:00:02,809 - INFO - generate_tiles - x1_y1_z20.0          256      256        256        128         px\n",
      "2022-04-29 19:00:02,809 - INFO - generate_tiles - x1_y2_z20.0          256      512        256        128         px\n",
      "2022-04-29 19:00:02,809 - INFO - generate_tiles - x1_y3_z20.0          256      768        256        128         px\n",
      "2022-04-29 19:00:02,809 - INFO - generate_tiles - x1_y4_z20.0          256     1024        256        128         px\n",
      "2022-04-29 19:00:02,809 - INFO - generate_tiles - x1_y5_z20.0          256     1280        256        128         px\n",
      "2022-04-29 19:00:02,809 - INFO - generate_tiles - ...                  ...      ...        ...        ...        ...\n",
      "2022-04-29 19:00:02,809 - INFO - generate_tiles - x208_y209_z20.0    53248    53504        256        128         px\n",
      "2022-04-29 19:00:02,809 - INFO - generate_tiles - x208_y210_z20.0    53248    53760        256        128         px\n",
      "2022-04-29 19:00:02,809 - INFO - generate_tiles - x208_y211_z20.0    53248    54016        256        128         px\n",
      "2022-04-29 19:00:02,809 - INFO - generate_tiles - x208_y212_z20.0    53248    54272        256        128         px\n",
      "2022-04-29 19:00:02,809 - INFO - generate_tiles - x208_y213_z20.0    53248    54528        256        128         px\n",
      "2022-04-29 19:00:02,809 - INFO - generate_tiles - \n",
      "2022-04-29 19:00:02,809 - INFO - generate_tiles - [44304 rows x 5 columns]\n"
     ]
    },
    {
     "name": "stderr",
     "output_type": "stream",
     "text": [
      "2022-04-29 19:00:02,818 - INFO - luna.common.utils - Done.\n",
      "2022-04-29 19:00:02,869 - INFO - luna.common.utils - Code block 'transform::generate_tiles' took: 0.17044439166784286s\n",
      "2022-04-29 19:00:02,869 - INFO - luna.common.utils - ------------------------------------------------------------\n",
      "2022-04-29 19:00:02,869 - INFO - luna.common.utils -  Done with transform, running post-transform functions... \n",
      "2022-04-29 19:00:02,869 - INFO - luna.common.utils - ------------------------------------------------------------\n",
      "2022-04-29 19:00:02,874 - INFO - luna.common.utils - Done.\n",
      "2022-04-29 19:00:02,896 - INFO - generate_tiles - Number of tiles in raster: 99258\n",
      "2022-04-29 19:00:03,001 - INFO - generate_tiles -                  x_coord  y_coord  xy_extent  tile_size tile_units\n",
      "2022-04-29 19:00:03,001 - INFO - generate_tiles - address                                                           \n",
      "2022-04-29 19:00:03,001 - INFO - generate_tiles - x1_y1_z20.0          256      256        256        128         px\n",
      "2022-04-29 19:00:03,001 - INFO - generate_tiles - x1_y2_z20.0          256      512        256        128         px\n",
      "2022-04-29 19:00:03,001 - INFO - generate_tiles - x1_y3_z20.0          256      768        256        128         px\n",
      "2022-04-29 19:00:03,001 - INFO - generate_tiles - x1_y4_z20.0          256     1024        256        128         px\n",
      "2022-04-29 19:00:03,001 - INFO - generate_tiles - x1_y5_z20.0          256     1280        256        128         px\n",
      "2022-04-29 19:00:03,001 - INFO - generate_tiles - ...                  ...      ...        ...        ...        ...\n",
      "2022-04-29 19:00:03,001 - INFO - generate_tiles - x426_y229_z20.0   109056    58624        256        128         px\n",
      "2022-04-29 19:00:03,001 - INFO - generate_tiles - x426_y230_z20.0   109056    58880        256        128         px\n",
      "2022-04-29 19:00:03,001 - INFO - generate_tiles - x426_y231_z20.0   109056    59136        256        128         px\n",
      "2022-04-29 19:00:03,001 - INFO - generate_tiles - x426_y232_z20.0   109056    59392        256        128         px\n",
      "2022-04-29 19:00:03,001 - INFO - generate_tiles - x426_y233_z20.0   109056    59648        256        128         px\n",
      "2022-04-29 19:00:03,001 - INFO - generate_tiles - \n",
      "2022-04-29 19:00:03,001 - INFO - generate_tiles - [99258 rows x 5 columns]\n",
      "2022-04-29 19:00:03,116 - INFO - luna.common.utils - Code block 'transform::generate_tiles' took: 0.35427386313676834s\n",
      "2022-04-29 19:00:03,118 - INFO - luna.common.utils - ------------------------------------------------------------\n",
      "2022-04-29 19:00:03,118 - INFO - luna.common.utils -  Done with transform, running post-transform functions... \n",
      "2022-04-29 19:00:03,118 - INFO - luna.common.utils - ------------------------------------------------------------\n",
      "2022-04-29 19:00:03,122 - INFO - luna.common.utils - Done.\n"
     ]
    },
    {
     "name": "stdout",
     "output_type": "stream",
     "text": [
      "detect_tissue file:/home/aukermaa/vmount/PRO_12-123/data/toy_data_set/01OV008-308ad404-7079-4ff8-8232-12ee2e.svs /home/aukermaa/vmount/PRO_12-123/tiling/01OV008-308ad404-7079-4ff8-8232-12ee2e/source_tiles --filter_query otsu_score > 0.1 --requested_magnification 2\n",
      "['detect_tissue', PosixPath('file:/home/aukermaa/vmount/PRO_12-123/data/toy_data_set/01OV008-308ad404-7079-4ff8-8232-12ee2e.svs'), '/home/aukermaa/vmount/PRO_12-123/tiling/01OV008-308ad404-7079-4ff8-8232-12ee2e/source_tiles', '--filter_query', 'otsu_score > 0.1', '--requested_magnification', '2', '-o', '/home/aukermaa/vmount/PRO_12-123/tiling/01OV008-308ad404-7079-4ff8-8232-12ee2e/detected_tiles']\n",
      "detect_tissue file:/home/aukermaa/vmount/PRO_12-123/data/toy_data_set/01OV002-ed65cf94-8bc6-492b-9149-adc16f.svs /home/aukermaa/vmount/PRO_12-123/tiling/01OV002-ed65cf94-8bc6-492b-9149-adc16f/source_tiles --filter_query otsu_score > 0.1 --requested_magnification 2\n",
      "['detect_tissue', PosixPath('file:/home/aukermaa/vmount/PRO_12-123/data/toy_data_set/01OV002-ed65cf94-8bc6-492b-9149-adc16f.svs'), '/home/aukermaa/vmount/PRO_12-123/tiling/01OV002-ed65cf94-8bc6-492b-9149-adc16f/source_tiles', '--filter_query', 'otsu_score > 0.1', '--requested_magnification', '2', '-o', '/home/aukermaa/vmount/PRO_12-123/tiling/01OV002-ed65cf94-8bc6-492b-9149-adc16f/detected_tiles']\n",
      "detect_tissue file:/home/aukermaa/vmount/PRO_12-123/data/toy_data_set/01OV002-bd8cdc70-3d46-40ae-99c4-90ef77.svs /home/aukermaa/vmount/PRO_12-123/tiling/01OV002-bd8cdc70-3d46-40ae-99c4-90ef77/source_tiles --filter_query otsu_score > 0.1 --requested_magnification 2\n",
      "['detect_tissue', PosixPath('file:/home/aukermaa/vmount/PRO_12-123/data/toy_data_set/01OV002-bd8cdc70-3d46-40ae-99c4-90ef77.svs'), '/home/aukermaa/vmount/PRO_12-123/tiling/01OV002-bd8cdc70-3d46-40ae-99c4-90ef77/source_tiles', '--filter_query', 'otsu_score > 0.1', '--requested_magnification', '2', '-o', '/home/aukermaa/vmount/PRO_12-123/tiling/01OV002-bd8cdc70-3d46-40ae-99c4-90ef77/detected_tiles']\n",
      "detect_tissue file:/home/aukermaa/vmount/PRO_12-123/data/toy_data_set/01OV008-7579323e-2fae-43a9-b00f-a15c28.svs /home/aukermaa/vmount/PRO_12-123/tiling/01OV008-7579323e-2fae-43a9-b00f-a15c28/source_tiles --filter_query otsu_score > 0.1 --requested_magnification 2\n",
      "['detect_tissue', PosixPath('file:/home/aukermaa/vmount/PRO_12-123/data/toy_data_set/01OV008-7579323e-2fae-43a9-b00f-a15c28.svs'), '/home/aukermaa/vmount/PRO_12-123/tiling/01OV008-7579323e-2fae-43a9-b00f-a15c28/source_tiles', '--filter_query', 'otsu_score > 0.1', '--requested_magnification', '2', '-o', '/home/aukermaa/vmount/PRO_12-123/tiling/01OV008-7579323e-2fae-43a9-b00f-a15c28/detected_tiles']\n",
      "detect_tissue file:/home/aukermaa/vmount/PRO_12-123/data/toy_data_set/01OV007-9b90eb78-2f50-4aeb-b010-d642f9.svs /home/aukermaa/vmount/PRO_12-123/tiling/01OV007-9b90eb78-2f50-4aeb-b010-d642f9/source_tiles --filter_query otsu_score > 0.1 --requested_magnification 2\n",
      "['detect_tissue', PosixPath('file:/home/aukermaa/vmount/PRO_12-123/data/toy_data_set/01OV007-9b90eb78-2f50-4aeb-b010-d642f9.svs'), '/home/aukermaa/vmount/PRO_12-123/tiling/01OV007-9b90eb78-2f50-4aeb-b010-d642f9/source_tiles', '--filter_query', 'otsu_score > 0.1', '--requested_magnification', '2', '-o', '/home/aukermaa/vmount/PRO_12-123/tiling/01OV007-9b90eb78-2f50-4aeb-b010-d642f9/detected_tiles']\n"
     ]
    },
    {
     "name": "stderr",
     "output_type": "stream",
     "text": [
      "2022-04-29 19:00:04,246 - INFO - root - Initalized logger, log file at: data-processing.log\n",
      "2022-04-29 19:00:04,340 - INFO - root - Initalized logger, log file at: data-processing.log\n",
      "2022-04-29 19:00:04,392 - INFO - root - Initalized logger, log file at: data-processing.log\n",
      "2022-04-29 19:00:04,453 - INFO - root - Initalized logger, log file at: data-processing.log\n",
      "2022-04-29 19:00:04,809 - INFO - root - Initalized logger, log file at: data-processing.log\n",
      "2022-04-29 19:00:06,144 - INFO - luna.common.utils - Started CLI Runner wtih <function detect_tissue at 0x7f4a6d7803a0>\n",
      "2022-04-29 19:00:06,146 - INFO - luna.common.utils - Validating params...\n",
      "2022-04-29 19:00:06,147 - INFO - luna.common.utils -  -> Set input_slide_image (<class 'str'>) = file:/home/aukermaa/vmount/PRO_12-123/data/toy_data_set/01OV008-308ad404-7079-4ff8-8232-12ee2e.svs\n",
      "2022-04-29 19:00:06,149 - INFO - luna.common.utils -  -> Set input_slide_tiles (<class 'str'>) = /home/aukermaa/vmount/PRO_12-123/tiling/01OV008-308ad404-7079-4ff8-8232-12ee2e/source_tiles\n",
      "2022-04-29 19:00:06,150 - INFO - luna.common.utils -  -> Set requested_magnification (<class 'float'>) = 2.0\n",
      "2022-04-29 19:00:06,151 - INFO - luna.common.utils -  -> Set filter_query (<class 'str'>) = otsu_score > 0.1\n",
      "2022-04-29 19:00:06,152 - INFO - luna.common.utils -  -> Set output_dir (<class 'str'>) = /home/aukermaa/vmount/PRO_12-123/tiling/01OV008-308ad404-7079-4ff8-8232-12ee2e/detected_tiles\n",
      "2022-04-29 19:00:06,153 - INFO - luna.common.utils -  -> Set num_cores (<class 'int'>) = 4\n",
      "2022-04-29 19:00:06,155 - INFO - luna.common.utils - Expanding inputs...\n",
      "2022-04-29 19:00:06,156 - INFO - luna.common.utils - Attempting to read metadata at file:/home/aukermaa/vmount/PRO_12-123/data/toy_data_set/01OV008-308ad404-7079-4ff8-8232-12ee2e.svs/metadata.yml\n",
      "2022-04-29 19:00:06,157 - INFO - luna.common.utils - Attempting to read metadata at /home/aukermaa/vmount/PRO_12-123/tiling/01OV008-308ad404-7079-4ff8-8232-12ee2e/source_tiles/metadata.yml\n",
      "2022-04-29 19:00:06,160 - INFO - luna.common.utils - Expanded input:\n",
      "2022-04-29 19:00:06,160 - INFO - luna.common.utils -  -> /home/aukermaa/vmount/PRO_12-123/tiling/01OV008-308ad404-7079-4ff8-8232-12ee2e/source_tiles\n",
      "2022-04-29 19:00:06,160 - INFO - luna.common.utils -  -> /home/aukermaa/vmount/PRO_12-123/tiling/01OV008-308ad404-7079-4ff8-8232-12ee2e/source_tiles/01OV008-308ad404-7079-4ff8-8232-12ee2e.tiles.parquet\n",
      "2022-04-29 19:00:06,162 - INFO - luna.common.utils - Found segment keys: {'slide_id': '01OV008-308ad404-7079-4ff8-8232-12ee2e'}\n",
      "2022-04-29 19:00:06,163 - INFO - luna.common.utils - Resolved input:\n",
      "2022-04-29 19:00:06,163 - INFO - luna.common.utils -  -> file:/home/aukermaa/vmount/PRO_12-123/data/toy_data_set/01OV008-308ad404-7079-4ff8-8232-12ee2e.svs\n",
      "2022-04-29 19:00:06,163 - INFO - luna.common.utils -  -> /home/aukermaa/vmount/PRO_12-123/data/toy_data_set/01OV008-308ad404-7079-4ff8-8232-12ee2e.svs\n",
      "2022-04-29 19:00:06,164 - INFO - luna.common.utils - Resolved input:\n",
      "2022-04-29 19:00:06,164 - INFO - luna.common.utils -  -> /home/aukermaa/vmount/PRO_12-123/tiling/01OV008-308ad404-7079-4ff8-8232-12ee2e/source_tiles/01OV008-308ad404-7079-4ff8-8232-12ee2e.tiles.parquet\n",
      "2022-04-29 19:00:06,164 - INFO - luna.common.utils -  -> /home/aukermaa/vmount/PRO_12-123/tiling/01OV008-308ad404-7079-4ff8-8232-12ee2e/source_tiles/01OV008-308ad404-7079-4ff8-8232-12ee2e.tiles.parquet\n",
      "2022-04-29 19:00:06,165 - INFO - luna.common.utils - Full segment key set: {'slide_id': '01OV008-308ad404-7079-4ff8-8232-12ee2e'}\n",
      "2022-04-29 19:00:06,166 - INFO - luna.common.utils - ------------------------------------------------------------\n",
      "2022-04-29 19:00:06,166 - INFO - luna.common.utils -  Starting transform::detect_tissue \n",
      "2022-04-29 19:00:06,166 - INFO - luna.common.utils - ------------------------------------------------------------\n",
      "2022-04-29 19:00:06,240 - INFO - detect_tissue - Slide dimensions (52800, 38628)\n",
      "2022-04-29 19:00:06,241 - INFO - detect_tissue - Thumbnail scale factor: 20.0\n",
      "2022-04-29 19:00:06,263 - INFO - luna.common.utils - Started CLI Runner wtih <function detect_tissue at 0x7f8697eed3a0>\n",
      "2022-04-29 19:00:06,265 - INFO - luna.common.utils - Validating params...\n",
      "2022-04-29 19:00:06,266 - INFO - luna.common.utils -  -> Set input_slide_image (<class 'str'>) = file:/home/aukermaa/vmount/PRO_12-123/data/toy_data_set/01OV002-bd8cdc70-3d46-40ae-99c4-90ef77.svs\n",
      "2022-04-29 19:00:06,267 - INFO - luna.common.utils -  -> Set input_slide_tiles (<class 'str'>) = /home/aukermaa/vmount/PRO_12-123/tiling/01OV002-bd8cdc70-3d46-40ae-99c4-90ef77/source_tiles\n",
      "2022-04-29 19:00:06,268 - INFO - luna.common.utils -  -> Set requested_magnification (<class 'float'>) = 2.0\n",
      "2022-04-29 19:00:06,269 - INFO - luna.common.utils -  -> Set filter_query (<class 'str'>) = otsu_score > 0.1\n",
      "2022-04-29 19:00:06,270 - INFO - luna.common.utils -  -> Set output_dir (<class 'str'>) = /home/aukermaa/vmount/PRO_12-123/tiling/01OV002-bd8cdc70-3d46-40ae-99c4-90ef77/detected_tiles\n",
      "2022-04-29 19:00:06,271 - INFO - luna.common.utils -  -> Set num_cores (<class 'int'>) = 4\n",
      "2022-04-29 19:00:06,273 - INFO - luna.common.utils - Expanding inputs...\n",
      "2022-04-29 19:00:06,274 - INFO - luna.common.utils - Attempting to read metadata at file:/home/aukermaa/vmount/PRO_12-123/data/toy_data_set/01OV002-bd8cdc70-3d46-40ae-99c4-90ef77.svs/metadata.yml\n",
      "2022-04-29 19:00:06,275 - INFO - luna.common.utils - Attempting to read metadata at /home/aukermaa/vmount/PRO_12-123/tiling/01OV002-bd8cdc70-3d46-40ae-99c4-90ef77/source_tiles/metadata.yml\n",
      "2022-04-29 19:00:06,279 - INFO - luna.common.utils - Expanded input:\n",
      "2022-04-29 19:00:06,279 - INFO - luna.common.utils -  -> /home/aukermaa/vmount/PRO_12-123/tiling/01OV002-bd8cdc70-3d46-40ae-99c4-90ef77/source_tiles\n",
      "2022-04-29 19:00:06,279 - INFO - luna.common.utils -  -> /home/aukermaa/vmount/PRO_12-123/tiling/01OV002-bd8cdc70-3d46-40ae-99c4-90ef77/source_tiles/01OV002-bd8cdc70-3d46-40ae-99c4-90ef77.tiles.parquet\n",
      "2022-04-29 19:00:06,280 - INFO - luna.common.utils - Found segment keys: {'slide_id': '01OV002-bd8cdc70-3d46-40ae-99c4-90ef77'}\n",
      "2022-04-29 19:00:06,281 - INFO - luna.common.utils - Resolved input:\n",
      "2022-04-29 19:00:06,281 - INFO - luna.common.utils -  -> file:/home/aukermaa/vmount/PRO_12-123/data/toy_data_set/01OV002-bd8cdc70-3d46-40ae-99c4-90ef77.svs\n",
      "2022-04-29 19:00:06,281 - INFO - luna.common.utils -  -> /home/aukermaa/vmount/PRO_12-123/data/toy_data_set/01OV002-bd8cdc70-3d46-40ae-99c4-90ef77.svs\n",
      "2022-04-29 19:00:06,282 - INFO - luna.common.utils - Resolved input:\n",
      "2022-04-29 19:00:06,282 - INFO - luna.common.utils -  -> /home/aukermaa/vmount/PRO_12-123/tiling/01OV002-bd8cdc70-3d46-40ae-99c4-90ef77/source_tiles/01OV002-bd8cdc70-3d46-40ae-99c4-90ef77.tiles.parquet\n",
      "2022-04-29 19:00:06,282 - INFO - luna.common.utils -  -> /home/aukermaa/vmount/PRO_12-123/tiling/01OV002-bd8cdc70-3d46-40ae-99c4-90ef77/source_tiles/01OV002-bd8cdc70-3d46-40ae-99c4-90ef77.tiles.parquet\n",
      "2022-04-29 19:00:06,284 - INFO - luna.common.utils - Full segment key set: {'slide_id': '01OV002-bd8cdc70-3d46-40ae-99c4-90ef77'}\n",
      "2022-04-29 19:00:06,284 - INFO - luna.common.utils - ------------------------------------------------------------\n",
      "2022-04-29 19:00:06,284 - INFO - luna.common.utils -  Starting transform::detect_tissue \n",
      "2022-04-29 19:00:06,284 - INFO - luna.common.utils - ------------------------------------------------------------\n",
      "2022-04-29 19:00:06,350 - INFO - detect_tissue - Slide dimensions (53760, 54840)\n",
      "2022-04-29 19:00:06,351 - INFO - detect_tissue - Thumbnail scale factor: 20.0\n",
      "2022-04-29 19:00:06,393 - INFO - luna.common.utils - Started CLI Runner wtih <function detect_tissue at 0x7fe8439193a0>\n",
      "2022-04-29 19:00:06,394 - INFO - luna.common.utils - Validating params...\n",
      "2022-04-29 19:00:06,395 - INFO - luna.common.utils -  -> Set input_slide_image (<class 'str'>) = file:/home/aukermaa/vmount/PRO_12-123/data/toy_data_set/01OV002-ed65cf94-8bc6-492b-9149-adc16f.svs\n",
      "2022-04-29 19:00:06,396 - INFO - luna.common.utils -  -> Set input_slide_tiles (<class 'str'>) = /home/aukermaa/vmount/PRO_12-123/tiling/01OV002-ed65cf94-8bc6-492b-9149-adc16f/source_tiles\n",
      "2022-04-29 19:00:06,397 - INFO - luna.common.utils -  -> Set requested_magnification (<class 'float'>) = 2.0\n",
      "2022-04-29 19:00:06,398 - INFO - luna.common.utils -  -> Set filter_query (<class 'str'>) = otsu_score > 0.1\n",
      "2022-04-29 19:00:06,399 - INFO - luna.common.utils -  -> Set output_dir (<class 'str'>) = /home/aukermaa/vmount/PRO_12-123/tiling/01OV002-ed65cf94-8bc6-492b-9149-adc16f/detected_tiles\n",
      "2022-04-29 19:00:06,400 - INFO - luna.common.utils -  -> Set num_cores (<class 'int'>) = 4\n",
      "2022-04-29 19:00:06,402 - INFO - luna.common.utils - Expanding inputs...\n",
      "2022-04-29 19:00:06,403 - INFO - luna.common.utils - Attempting to read metadata at file:/home/aukermaa/vmount/PRO_12-123/data/toy_data_set/01OV002-ed65cf94-8bc6-492b-9149-adc16f.svs/metadata.yml\n",
      "2022-04-29 19:00:06,404 - INFO - luna.common.utils - Attempting to read metadata at /home/aukermaa/vmount/PRO_12-123/tiling/01OV002-ed65cf94-8bc6-492b-9149-adc16f/source_tiles/metadata.yml\n",
      "2022-04-29 19:00:06,407 - INFO - luna.common.utils - Expanded input:\n",
      "2022-04-29 19:00:06,407 - INFO - luna.common.utils -  -> /home/aukermaa/vmount/PRO_12-123/tiling/01OV002-ed65cf94-8bc6-492b-9149-adc16f/source_tiles\n",
      "2022-04-29 19:00:06,407 - INFO - luna.common.utils -  -> /home/aukermaa/vmount/PRO_12-123/tiling/01OV002-ed65cf94-8bc6-492b-9149-adc16f/source_tiles/01OV002-ed65cf94-8bc6-492b-9149-adc16f.tiles.parquet\n",
      "2022-04-29 19:00:06,408 - INFO - luna.common.utils - Found segment keys: {'slide_id': '01OV002-ed65cf94-8bc6-492b-9149-adc16f'}\n",
      "2022-04-29 19:00:06,410 - INFO - luna.common.utils - Resolved input:\n",
      "2022-04-29 19:00:06,410 - INFO - luna.common.utils -  -> file:/home/aukermaa/vmount/PRO_12-123/data/toy_data_set/01OV002-ed65cf94-8bc6-492b-9149-adc16f.svs\n",
      "2022-04-29 19:00:06,410 - INFO - luna.common.utils -  -> /home/aukermaa/vmount/PRO_12-123/data/toy_data_set/01OV002-ed65cf94-8bc6-492b-9149-adc16f.svs\n",
      "2022-04-29 19:00:06,411 - INFO - luna.common.utils - Resolved input:\n",
      "2022-04-29 19:00:06,411 - INFO - luna.common.utils -  -> /home/aukermaa/vmount/PRO_12-123/tiling/01OV002-ed65cf94-8bc6-492b-9149-adc16f/source_tiles/01OV002-ed65cf94-8bc6-492b-9149-adc16f.tiles.parquet\n",
      "2022-04-29 19:00:06,411 - INFO - luna.common.utils -  -> /home/aukermaa/vmount/PRO_12-123/tiling/01OV002-ed65cf94-8bc6-492b-9149-adc16f/source_tiles/01OV002-ed65cf94-8bc6-492b-9149-adc16f.tiles.parquet\n",
      "2022-04-29 19:00:06,412 - INFO - luna.common.utils - Full segment key set: {'slide_id': '01OV002-ed65cf94-8bc6-492b-9149-adc16f'}\n",
      "2022-04-29 19:00:06,420 - INFO - luna.common.utils - Started CLI Runner wtih <function detect_tissue at 0x7f628d29e3a0>\n",
      "2022-04-29 19:00:06,438 - INFO - luna.common.utils - ------------------------------------------------------------\n",
      "2022-04-29 19:00:06,438 - INFO - luna.common.utils -  Starting transform::detect_tissue \n",
      "2022-04-29 19:00:06,438 - INFO - luna.common.utils - ------------------------------------------------------------\n",
      "2022-04-29 19:00:06,439 - INFO - luna.common.utils - Validating params...\n",
      "2022-04-29 19:00:06,440 - INFO - luna.common.utils -  -> Set input_slide_image (<class 'str'>) = file:/home/aukermaa/vmount/PRO_12-123/data/toy_data_set/01OV008-7579323e-2fae-43a9-b00f-a15c28.svs\n",
      "2022-04-29 19:00:06,441 - INFO - luna.common.utils -  -> Set input_slide_tiles (<class 'str'>) = /home/aukermaa/vmount/PRO_12-123/tiling/01OV008-7579323e-2fae-43a9-b00f-a15c28/source_tiles\n",
      "2022-04-29 19:00:06,442 - INFO - luna.common.utils -  -> Set requested_magnification (<class 'float'>) = 2.0\n",
      "2022-04-29 19:00:06,443 - INFO - luna.common.utils -  -> Set filter_query (<class 'str'>) = otsu_score > 0.1\n",
      "2022-04-29 19:00:06,444 - INFO - luna.common.utils -  -> Set output_dir (<class 'str'>) = /home/aukermaa/vmount/PRO_12-123/tiling/01OV008-7579323e-2fae-43a9-b00f-a15c28/detected_tiles\n",
      "2022-04-29 19:00:06,445 - INFO - luna.common.utils -  -> Set num_cores (<class 'int'>) = 4\n",
      "2022-04-29 19:00:06,446 - INFO - luna.common.utils - Expanding inputs...\n",
      "2022-04-29 19:00:06,448 - INFO - luna.common.utils - Attempting to read metadata at file:/home/aukermaa/vmount/PRO_12-123/data/toy_data_set/01OV008-7579323e-2fae-43a9-b00f-a15c28.svs/metadata.yml\n",
      "2022-04-29 19:00:06,448 - INFO - luna.common.utils - Attempting to read metadata at /home/aukermaa/vmount/PRO_12-123/tiling/01OV008-7579323e-2fae-43a9-b00f-a15c28/source_tiles/metadata.yml\n",
      "2022-04-29 19:00:06,452 - INFO - luna.common.utils - Expanded input:\n",
      "2022-04-29 19:00:06,452 - INFO - luna.common.utils -  -> /home/aukermaa/vmount/PRO_12-123/tiling/01OV008-7579323e-2fae-43a9-b00f-a15c28/source_tiles\n",
      "2022-04-29 19:00:06,452 - INFO - luna.common.utils -  -> /home/aukermaa/vmount/PRO_12-123/tiling/01OV008-7579323e-2fae-43a9-b00f-a15c28/source_tiles/01OV008-7579323e-2fae-43a9-b00f-a15c28.tiles.parquet\n",
      "2022-04-29 19:00:06,454 - INFO - luna.common.utils - Found segment keys: {'slide_id': '01OV008-7579323e-2fae-43a9-b00f-a15c28'}\n",
      "2022-04-29 19:00:06,455 - INFO - luna.common.utils - Resolved input:\n",
      "2022-04-29 19:00:06,455 - INFO - luna.common.utils -  -> file:/home/aukermaa/vmount/PRO_12-123/data/toy_data_set/01OV008-7579323e-2fae-43a9-b00f-a15c28.svs\n",
      "2022-04-29 19:00:06,455 - INFO - luna.common.utils -  -> /home/aukermaa/vmount/PRO_12-123/data/toy_data_set/01OV008-7579323e-2fae-43a9-b00f-a15c28.svs\n",
      "2022-04-29 19:00:06,456 - INFO - luna.common.utils - Resolved input:\n",
      "2022-04-29 19:00:06,456 - INFO - luna.common.utils -  -> /home/aukermaa/vmount/PRO_12-123/tiling/01OV008-7579323e-2fae-43a9-b00f-a15c28/source_tiles/01OV008-7579323e-2fae-43a9-b00f-a15c28.tiles.parquet\n",
      "2022-04-29 19:00:06,456 - INFO - luna.common.utils -  -> /home/aukermaa/vmount/PRO_12-123/tiling/01OV008-7579323e-2fae-43a9-b00f-a15c28/source_tiles/01OV008-7579323e-2fae-43a9-b00f-a15c28.tiles.parquet\n",
      "2022-04-29 19:00:06,457 - INFO - luna.common.utils - Full segment key set: {'slide_id': '01OV008-7579323e-2fae-43a9-b00f-a15c28'}\n",
      "2022-04-29 19:00:06,457 - INFO - luna.common.utils - ------------------------------------------------------------\n",
      "2022-04-29 19:00:06,457 - INFO - luna.common.utils -  Starting transform::detect_tissue \n",
      "2022-04-29 19:00:06,457 - INFO - luna.common.utils - ------------------------------------------------------------\n",
      "2022-04-29 19:00:06,508 - INFO - detect_tissue - Slide dimensions (50880, 49787)\n",
      "2022-04-29 19:00:06,510 - INFO - detect_tissue - Thumbnail scale factor: 20.0\n",
      "2022-04-29 19:00:06,522 - INFO - detect_tissue - Slide dimensions (42240, 59209)\n",
      "2022-04-29 19:00:06,524 - INFO - detect_tissue - Thumbnail scale factor: 20.0\n"
     ]
    },
    {
     "name": "stderr",
     "output_type": "stream",
     "text": [
      "2022-04-29 19:00:06,671 - INFO - luna.common.utils - Started CLI Runner wtih <function detect_tissue at 0x7fa3d9bcf3a0>\n",
      "2022-04-29 19:00:06,673 - INFO - luna.common.utils - Validating params...\n",
      "2022-04-29 19:00:06,674 - INFO - luna.common.utils -  -> Set input_slide_image (<class 'str'>) = file:/home/aukermaa/vmount/PRO_12-123/data/toy_data_set/01OV007-9b90eb78-2f50-4aeb-b010-d642f9.svs\n",
      "2022-04-29 19:00:06,675 - INFO - luna.common.utils -  -> Set input_slide_tiles (<class 'str'>) = /home/aukermaa/vmount/PRO_12-123/tiling/01OV007-9b90eb78-2f50-4aeb-b010-d642f9/source_tiles\n",
      "2022-04-29 19:00:06,676 - INFO - luna.common.utils -  -> Set requested_magnification (<class 'float'>) = 2.0\n",
      "2022-04-29 19:00:06,677 - INFO - luna.common.utils -  -> Set filter_query (<class 'str'>) = otsu_score > 0.1\n",
      "2022-04-29 19:00:06,678 - INFO - luna.common.utils -  -> Set output_dir (<class 'str'>) = /home/aukermaa/vmount/PRO_12-123/tiling/01OV007-9b90eb78-2f50-4aeb-b010-d642f9/detected_tiles\n",
      "2022-04-29 19:00:06,679 - INFO - luna.common.utils -  -> Set num_cores (<class 'int'>) = 4\n",
      "2022-04-29 19:00:06,682 - INFO - luna.common.utils - Expanding inputs...\n",
      "2022-04-29 19:00:06,682 - INFO - luna.common.utils - Attempting to read metadata at file:/home/aukermaa/vmount/PRO_12-123/data/toy_data_set/01OV007-9b90eb78-2f50-4aeb-b010-d642f9.svs/metadata.yml\n",
      "2022-04-29 19:00:06,683 - INFO - luna.common.utils - Attempting to read metadata at /home/aukermaa/vmount/PRO_12-123/tiling/01OV007-9b90eb78-2f50-4aeb-b010-d642f9/source_tiles/metadata.yml\n",
      "2022-04-29 19:00:06,687 - INFO - luna.common.utils - Expanded input:\n",
      "2022-04-29 19:00:06,687 - INFO - luna.common.utils -  -> /home/aukermaa/vmount/PRO_12-123/tiling/01OV007-9b90eb78-2f50-4aeb-b010-d642f9/source_tiles\n",
      "2022-04-29 19:00:06,687 - INFO - luna.common.utils -  -> /home/aukermaa/vmount/PRO_12-123/tiling/01OV007-9b90eb78-2f50-4aeb-b010-d642f9/source_tiles/01OV007-9b90eb78-2f50-4aeb-b010-d642f9.tiles.parquet\n",
      "2022-04-29 19:00:06,688 - INFO - luna.common.utils - Found segment keys: {'slide_id': '01OV007-9b90eb78-2f50-4aeb-b010-d642f9'}\n",
      "2022-04-29 19:00:06,689 - INFO - luna.common.utils - Resolved input:\n",
      "2022-04-29 19:00:06,689 - INFO - luna.common.utils -  -> file:/home/aukermaa/vmount/PRO_12-123/data/toy_data_set/01OV007-9b90eb78-2f50-4aeb-b010-d642f9.svs\n",
      "2022-04-29 19:00:06,689 - INFO - luna.common.utils -  -> /home/aukermaa/vmount/PRO_12-123/data/toy_data_set/01OV007-9b90eb78-2f50-4aeb-b010-d642f9.svs\n",
      "2022-04-29 19:00:06,690 - INFO - luna.common.utils - Resolved input:\n",
      "2022-04-29 19:00:06,690 - INFO - luna.common.utils -  -> /home/aukermaa/vmount/PRO_12-123/tiling/01OV007-9b90eb78-2f50-4aeb-b010-d642f9/source_tiles/01OV007-9b90eb78-2f50-4aeb-b010-d642f9.tiles.parquet\n",
      "2022-04-29 19:00:06,690 - INFO - luna.common.utils -  -> /home/aukermaa/vmount/PRO_12-123/tiling/01OV007-9b90eb78-2f50-4aeb-b010-d642f9/source_tiles/01OV007-9b90eb78-2f50-4aeb-b010-d642f9.tiles.parquet\n",
      "2022-04-29 19:00:06,691 - INFO - luna.common.utils - Full segment key set: {'slide_id': '01OV007-9b90eb78-2f50-4aeb-b010-d642f9'}\n",
      "2022-04-29 19:00:06,692 - INFO - luna.common.utils - ------------------------------------------------------------\n",
      "2022-04-29 19:00:06,692 - INFO - luna.common.utils -  Starting transform::detect_tissue \n",
      "2022-04-29 19:00:06,692 - INFO - luna.common.utils - ------------------------------------------------------------\n",
      "2022-04-29 19:00:06,822 - INFO - detect_tissue - Slide dimensions (109440, 60110)\n",
      "2022-04-29 19:00:06,824 - INFO - detect_tissue - Thumbnail scale factor: 20.0\n",
      "2022-04-29 19:00:07,255 - INFO - detect_tissue - Sample array size: (1931, 2640, 3)\n",
      "2022-04-29 19:00:07,815 - INFO - detect_tissue - Sample array size: (2960, 2112, 3)\n",
      "2022-04-29 19:00:07,878 - INFO - detect_tissue - Sample array size: (2489, 2544, 3)\n",
      "2022-04-29 19:00:07,885 - INFO - detect_tissue - Sample array size: (2742, 2688, 3)\n",
      "2022-04-29 19:00:10,578 - INFO - detect_tissue - Sample array size: (3005, 5472, 3)\n",
      "2022-04-29 19:00:20,985 - INFO - detect_tissue - Starting otsu thresholding, threshold=0.6760414889705882\n",
      "  5%|▌         | 1644/30545 [00:01<00:21, 1340.94it/s]2022-04-29 19:00:25,750 - INFO - detect_tissue - Starting otsu thresholding, threshold=0.7107123230698529\n",
      "  7%|▋         | 2210/30545 [00:01<00:25, 1127.90it/s]2022-04-29 19:00:26,256 - INFO - detect_tissue - Starting otsu thresholding, threshold=0.7071628178615197\n",
      " 17%|█▋        | 5080/30545 [00:04<00:27, 920.27it/s]2022-04-29 19:00:29,369 - INFO - detect_tissue - Starting otsu thresholding, threshold=0.7300508425245098\n",
      " 76%|███████▌  | 23174/30545 [00:26<00:09, 802.10it/s]2022-04-29 19:00:51,414 - INFO - detect_tissue - Starting otsu thresholding, threshold=0.7421401378676471\n",
      "100%|██████████| 30545/30545 [00:33<00:00, 905.84it/s] \n",
      "2022-04-29 19:00:58,364 - INFO - detect_tissue - Filtering based on query: otsu_score > 0.1\n",
      " 64%|██████▍   | 24507/38021 [00:27<00:16, 833.72it/s]2022-04-29 19:00:58,381 - INFO - detect_tissue -                 x_coord  y_coord  xy_extent  tile_size tile_units  otsu_score\n",
      "2022-04-29 19:00:58,381 - INFO - detect_tissue - address                                                                      \n",
      "2022-04-29 19:00:58,381 - INFO - detect_tissue - x6_y74_z20.0       1536    18944        256        128         px        0.18\n",
      "2022-04-29 19:00:58,381 - INFO - detect_tissue - x7_y74_z20.0       1792    18944        256        128         px        0.13\n",
      "2022-04-29 19:00:58,381 - INFO - detect_tissue - x7_y81_z20.0       1792    20736        256        128         px        0.11\n",
      "2022-04-29 19:00:58,381 - INFO - detect_tissue - x8_y75_z20.0       2048    19200        256        128         px        0.22\n",
      "2022-04-29 19:00:58,381 - INFO - detect_tissue - x8_y76_z20.0       2048    19456        256        128         px        0.29\n",
      "2022-04-29 19:00:58,381 - INFO - detect_tissue - ...                 ...      ...        ...        ...        ...         ...\n",
      "2022-04-29 19:00:58,381 - INFO - detect_tissue - x181_y45_z20.0    46336    11520        256        128         px        0.48\n",
      "2022-04-29 19:00:58,381 - INFO - detect_tissue - x182_y41_z20.0    46592    10496        256        128         px        0.26\n",
      "2022-04-29 19:00:58,381 - INFO - detect_tissue - x182_y42_z20.0    46592    10752        256        128         px        0.59\n",
      "2022-04-29 19:00:58,381 - INFO - detect_tissue - x182_y43_z20.0    46592    11008        256        128         px        0.56\n",
      "2022-04-29 19:00:58,381 - INFO - detect_tissue - x182_y44_z20.0    46592    11264        256        128         px        0.28\n",
      "2022-04-29 19:00:58,381 - INFO - detect_tissue - \n",
      "2022-04-29 19:00:58,381 - INFO - detect_tissue - [13704 rows x 6 columns]\n",
      "2022-04-29 19:00:58,419 - INFO - luna.common.utils - Code block 'transform::detect_tissue' took: 52.25224673002958s\n",
      "2022-04-29 19:00:58,421 - INFO - luna.common.utils - ------------------------------------------------------------\n",
      "2022-04-29 19:00:58,421 - INFO - luna.common.utils -  Done with transform, running post-transform functions... \n",
      "2022-04-29 19:00:58,421 - INFO - luna.common.utils - ------------------------------------------------------------\n",
      "2022-04-29 19:00:58,427 - INFO - luna.common.utils - Done.\n",
      " 65%|██████▌   | 24390/37490 [00:27<00:14, 902.13it/s]"
     ]
    },
    {
     "name": "stdout",
     "output_type": "stream",
     "text": [
      "label_tiles ../PRO_12-123/data/toy_data_set/table/ANNOTATIONS /home/aukermaa/vmount/PRO_12-123/tiling/01OV008-308ad404-7079-4ff8-8232-12ee2e/detected_tiles\n",
      "['label_tiles', PosixPath('../PRO_12-123/data/toy_data_set/table/ANNOTATIONS'), '/home/aukermaa/vmount/PRO_12-123/tiling/01OV008-308ad404-7079-4ff8-8232-12ee2e/detected_tiles', '-o', '/home/aukermaa/vmount/PRO_12-123/tiling/01OV008-308ad404-7079-4ff8-8232-12ee2e/labled_tiles']\n"
     ]
    },
    {
     "name": "stderr",
     "output_type": "stream",
     "text": [
      " 68%|██████▊   | 25781/38021 [00:29<00:15, 776.10it/s]2022-04-29 19:01:00,057 - INFO - root - Initalized logger, log file at: data-processing.log\n",
      "2022-04-29 19:01:00,058 - INFO - luna.common.utils - Started CLI Runner wtih <function generate_tile_labels at 0x7f4613d9ff70>\n",
      "2022-04-29 19:01:00,060 - INFO - luna.common.utils - Validating params...\n",
      "2022-04-29 19:01:00,062 - INFO - luna.common.utils -  -> Set input_slide_annotation_dataset (<class 'str'>) = ../PRO_12-123/data/toy_data_set/table/ANNOTATIONS\n",
      "2022-04-29 19:01:00,063 - INFO - luna.common.utils -  -> Set input_slide_tiles (<class 'str'>) = /home/aukermaa/vmount/PRO_12-123/tiling/01OV008-308ad404-7079-4ff8-8232-12ee2e/detected_tiles\n",
      "2022-04-29 19:01:00,065 - INFO - luna.common.utils -  -> Set output_dir (<class 'str'>) = /home/aukermaa/vmount/PRO_12-123/tiling/01OV008-308ad404-7079-4ff8-8232-12ee2e/labled_tiles\n",
      "2022-04-29 19:01:00,067 - INFO - luna.common.utils - Expanding inputs...\n",
      "2022-04-29 19:01:00,068 - INFO - luna.common.utils - Attempting to read metadata at ../PRO_12-123/data/toy_data_set/table/ANNOTATIONS/metadata.yml\n",
      "2022-04-29 19:01:00,073 - INFO - luna.common.utils - Expanded input:\n",
      "2022-04-29 19:01:00,073 - INFO - luna.common.utils -  -> ../PRO_12-123/data/toy_data_set/table/ANNOTATIONS\n",
      "2022-04-29 19:01:00,073 - INFO - luna.common.utils -  -> ../PRO_12-123/data/toy_data_set/table/ANNOTATIONS/slide_annotation_dataset_TCGA collection_ov_regional.parquet\n",
      "2022-04-29 19:01:00,075 - INFO - luna.common.utils - Found segment keys: {'dsa_collection_uuid': '626c0a1dbfa0f49e3e026f6a'}\n",
      "2022-04-29 19:01:00,076 - INFO - luna.common.utils - Attempting to read metadata at /home/aukermaa/vmount/PRO_12-123/tiling/01OV008-308ad404-7079-4ff8-8232-12ee2e/detected_tiles/metadata.yml\n",
      "2022-04-29 19:01:00,080 - INFO - luna.common.utils - Expanded input:\n",
      "2022-04-29 19:01:00,080 - INFO - luna.common.utils -  -> /home/aukermaa/vmount/PRO_12-123/tiling/01OV008-308ad404-7079-4ff8-8232-12ee2e/detected_tiles\n",
      "2022-04-29 19:01:00,080 - INFO - luna.common.utils -  -> /home/aukermaa/vmount/PRO_12-123/tiling/01OV008-308ad404-7079-4ff8-8232-12ee2e/detected_tiles/01OV008-308ad404-7079-4ff8-8232-12ee2e-filtered.tiles.parquet\n",
      "2022-04-29 19:01:00,082 - INFO - luna.common.utils - Found segment keys: {'slide_id': '01OV008-308ad404-7079-4ff8-8232-12ee2e'}\n",
      "2022-04-29 19:01:00,083 - INFO - luna.common.utils - Resolved input:\n",
      "2022-04-29 19:01:00,083 - INFO - luna.common.utils -  -> ../PRO_12-123/data/toy_data_set/table/ANNOTATIONS/slide_annotation_dataset_TCGA collection_ov_regional.parquet\n",
      "2022-04-29 19:01:00,083 - INFO - luna.common.utils -  -> /home/aukermaa/vmount/PRO_12-123/data/toy_data_set/table/ANNOTATIONS/slide_annotation_dataset_TCGA collection_ov_regional.parquet\n",
      "2022-04-29 19:01:00,085 - INFO - luna.common.utils - Resolved input:\n",
      "2022-04-29 19:01:00,085 - INFO - luna.common.utils -  -> /home/aukermaa/vmount/PRO_12-123/tiling/01OV008-308ad404-7079-4ff8-8232-12ee2e/detected_tiles/01OV008-308ad404-7079-4ff8-8232-12ee2e-filtered.tiles.parquet\n",
      "2022-04-29 19:01:00,085 - INFO - luna.common.utils -  -> /home/aukermaa/vmount/PRO_12-123/tiling/01OV008-308ad404-7079-4ff8-8232-12ee2e/detected_tiles/01OV008-308ad404-7079-4ff8-8232-12ee2e-filtered.tiles.parquet\n",
      "2022-04-29 19:01:00,086 - INFO - luna.common.utils - Full segment key set: {'dsa_collection_uuid': '626c0a1dbfa0f49e3e026f6a', 'slide_id': '01OV008-308ad404-7079-4ff8-8232-12ee2e'}\n",
      "2022-04-29 19:01:00,087 - INFO - luna.common.utils - ------------------------------------------------------------\n",
      "2022-04-29 19:01:00,087 - INFO - luna.common.utils -  Starting transform::generate_tile_labels \n",
      "2022-04-29 19:01:00,087 - INFO - luna.common.utils - ------------------------------------------------------------\n",
      "2022-04-29 19:01:00,088 - INFO - generate_tile_labels - slide_id=01OV008-308ad404-7079-4ff8-8232-12ee2e\n",
      "  4%|▍         | 580/13704 [00:00<00:02, 5796.63it/s]]"
     ]
    },
    {
     "name": "stdout",
     "output_type": "stream",
     "text": [
      "../PRO_12-123/data/toy_data_set/table/ANNOTATIONS/01OV008-308ad404-7079-4ff8-8232-12ee2e.annotation.geojson TCGA collection ov_regional\n"
     ]
    },
    {
     "name": "stderr",
     "output_type": "stream",
     "text": [
      "100%|██████████| 13704/13704 [00:02<00:00, 5080.58it/s]\n",
      "2022-04-29 19:01:02,872 - INFO - generate_tile_labels -                 x_coord  y_coord  ...  regional_label  intersection_area\n",
      "2022-04-29 19:01:02,872 - INFO - generate_tile_labels - address                           ...                                   \n",
      "2022-04-29 19:01:02,872 - INFO - generate_tile_labels - x58_y60_z20.0     14848    15360  ...          stroma           0.055923\n",
      "2022-04-29 19:01:02,872 - INFO - generate_tile_labels - x58_y61_z20.0     14848    15616  ...          stroma           0.272237\n",
      "2022-04-29 19:01:02,872 - INFO - generate_tile_labels - x58_y62_z20.0     14848    15872  ...          stroma           0.074921\n",
      "2022-04-29 19:01:02,872 - INFO - generate_tile_labels - x58_y63_z20.0     14848    16128  ...          stroma           0.230325\n",
      "2022-04-29 19:01:02,872 - INFO - generate_tile_labels - x59_y60_z20.0     15104    15360  ...          stroma           0.061584\n",
      "2022-04-29 19:01:02,872 - INFO - generate_tile_labels - ...                 ...      ...  ...             ...                ...\n",
      "2022-04-29 19:01:02,872 - INFO - generate_tile_labels - x150_y75_z20.0    38400    19200  ...             fat           0.655609\n",
      "2022-04-29 19:01:02,872 - INFO - generate_tile_labels - x150_y91_z20.0    38400    23296  ...          stroma           0.061430\n",
      "2022-04-29 19:01:02,872 - INFO - generate_tile_labels - x150_y92_z20.0    38400    23552  ...          stroma           0.068517\n",
      "2022-04-29 19:01:02,872 - INFO - generate_tile_labels - x151_y74_z20.0    38656    18944  ...             fat           0.037047\n",
      "2022-04-29 19:01:02,872 - INFO - generate_tile_labels - x151_y75_z20.0    38656    19200  ...             fat           0.031012\n",
      "2022-04-29 19:01:02,872 - INFO - generate_tile_labels - \n",
      "2022-04-29 19:01:02,872 - INFO - generate_tile_labels - [1179 rows x 8 columns]\n",
      "2022-04-29 19:01:02,906 - INFO - luna.common.utils - Code block 'transform::generate_tile_labels' took: 2.817621096968651s\n",
      "2022-04-29 19:01:02,907 - INFO - luna.common.utils - ------------------------------------------------------------\n",
      "2022-04-29 19:01:02,907 - INFO - luna.common.utils -  Done with transform, running post-transform functions... \n",
      "2022-04-29 19:01:02,907 - INFO - luna.common.utils - ------------------------------------------------------------\n",
      "2022-04-29 19:01:02,912 - INFO - luna.common.utils - Done.\n",
      " 75%|███████▍  | 27951/37490 [00:31<00:09, 958.79it/s]"
     ]
    },
    {
     "name": "stdout",
     "output_type": "stream",
     "text": [
      "save_tiles file:/home/aukermaa/vmount/PRO_12-123/data/toy_data_set/01OV008-308ad404-7079-4ff8-8232-12ee2e.svs /home/aukermaa/vmount/PRO_12-123/tiling/01OV008-308ad404-7079-4ff8-8232-12ee2e/labled_tiles --num_cores 16 --batch_size 200 --dataset_id PRO_TILES_LABLED\n",
      "['save_tiles', PosixPath('file:/home/aukermaa/vmount/PRO_12-123/data/toy_data_set/01OV008-308ad404-7079-4ff8-8232-12ee2e.svs'), '/home/aukermaa/vmount/PRO_12-123/tiling/01OV008-308ad404-7079-4ff8-8232-12ee2e/labled_tiles', '--num_cores', '16', '--batch_size', '200', '--dataset_id', 'PRO_TILES_LABLED', '-o', '/home/aukermaa/vmount/PRO_12-123/tiling/01OV008-308ad404-7079-4ff8-8232-12ee2e/saved_tiles']\n"
     ]
    },
    {
     "name": "stderr",
     "output_type": "stream",
     "text": [
      " 78%|███████▊  | 29350/37490 [00:33<00:07, 1098.96it/s]2022-04-29 19:01:04,315 - INFO - root - Initalized logger, log file at: data-processing.log\n",
      "  7%|▋         | 6539/99258 [00:05<01:38, 937.07it/s]2022-04-29 19:01:06,191 - INFO - luna.common.utils - Started CLI Runner wtih <function save_tiles at 0x7f987cb94430>\n",
      "2022-04-29 19:01:06,193 - INFO - luna.common.utils - Validating params...\n",
      "2022-04-29 19:01:06,194 - INFO - luna.common.utils -  -> Set input_slide_image (<class 'str'>) = file:/home/aukermaa/vmount/PRO_12-123/data/toy_data_set/01OV008-308ad404-7079-4ff8-8232-12ee2e.svs\n",
      "2022-04-29 19:01:06,196 - INFO - luna.common.utils -  -> Set input_slide_tiles (<class 'str'>) = /home/aukermaa/vmount/PRO_12-123/tiling/01OV008-308ad404-7079-4ff8-8232-12ee2e/labled_tiles\n",
      "2022-04-29 19:01:06,197 - INFO - luna.common.utils -  -> Set output_dir (<class 'str'>) = /home/aukermaa/vmount/PRO_12-123/tiling/01OV008-308ad404-7079-4ff8-8232-12ee2e/saved_tiles\n",
      "2022-04-29 19:01:06,199 - INFO - luna.common.utils -  -> Set num_cores (<class 'int'>) = 16\n",
      "2022-04-29 19:01:06,200 - INFO - luna.common.utils -  -> Set batch_size (<class 'int'>) = 200\n",
      "2022-04-29 19:01:06,202 - INFO - luna.common.utils - Expanding inputs...\n",
      "2022-04-29 19:01:06,203 - INFO - luna.common.utils - Attempting to read metadata at file:/home/aukermaa/vmount/PRO_12-123/data/toy_data_set/01OV008-308ad404-7079-4ff8-8232-12ee2e.svs/metadata.yml\n",
      "2022-04-29 19:01:06,204 - INFO - luna.common.utils - Attempting to read metadata at /home/aukermaa/vmount/PRO_12-123/tiling/01OV008-308ad404-7079-4ff8-8232-12ee2e/labled_tiles/metadata.yml\n",
      " 65%|██████▍   | 28607/44304 [00:31<00:19, 825.69it/s]2022-04-29 19:01:06,208 - INFO - luna.common.utils - Expanded input:\n",
      "2022-04-29 19:01:06,208 - INFO - luna.common.utils -  -> /home/aukermaa/vmount/PRO_12-123/tiling/01OV008-308ad404-7079-4ff8-8232-12ee2e/labled_tiles\n",
      "2022-04-29 19:01:06,208 - INFO - luna.common.utils -  -> /home/aukermaa/vmount/PRO_12-123/tiling/01OV008-308ad404-7079-4ff8-8232-12ee2e/labled_tiles/01OV008-308ad404-7079-4ff8-8232-12ee2e.regional_label.tiles.parquet\n",
      "2022-04-29 19:01:06,210 - INFO - luna.common.utils - Found segment keys: {'dsa_collection_uuid': '626c0a1dbfa0f49e3e026f6a', 'slide_id': '01OV008-308ad404-7079-4ff8-8232-12ee2e'}\n",
      "2022-04-29 19:01:06,212 - INFO - luna.common.utils - Resolved input:\n",
      "2022-04-29 19:01:06,212 - INFO - luna.common.utils -  -> file:/home/aukermaa/vmount/PRO_12-123/data/toy_data_set/01OV008-308ad404-7079-4ff8-8232-12ee2e.svs\n",
      "2022-04-29 19:01:06,212 - INFO - luna.common.utils -  -> /home/aukermaa/vmount/PRO_12-123/data/toy_data_set/01OV008-308ad404-7079-4ff8-8232-12ee2e.svs\n",
      "2022-04-29 19:01:06,213 - INFO - luna.common.utils - Resolved input:\n",
      "2022-04-29 19:01:06,213 - INFO - luna.common.utils -  -> /home/aukermaa/vmount/PRO_12-123/tiling/01OV008-308ad404-7079-4ff8-8232-12ee2e/labled_tiles/01OV008-308ad404-7079-4ff8-8232-12ee2e.regional_label.tiles.parquet\n",
      "2022-04-29 19:01:06,213 - INFO - luna.common.utils -  -> /home/aukermaa/vmount/PRO_12-123/tiling/01OV008-308ad404-7079-4ff8-8232-12ee2e/labled_tiles/01OV008-308ad404-7079-4ff8-8232-12ee2e.regional_label.tiles.parquet\n",
      "2022-04-29 19:01:06,215 - INFO - luna.common.utils - Full segment key set: {'dsa_collection_uuid': '626c0a1dbfa0f49e3e026f6a', 'slide_id': '01OV008-308ad404-7079-4ff8-8232-12ee2e'}\n",
      "2022-04-29 19:01:06,216 - INFO - luna.common.utils - ------------------------------------------------------------\n",
      "2022-04-29 19:01:06,216 - INFO - luna.common.utils -  Starting transform::save_tiles \n",
      "2022-04-29 19:01:06,216 - INFO - luna.common.utils - ------------------------------------------------------------\n",
      " 84%|████████▍ | 31563/37490 [00:35<00:05, 1175.19it/s]2022-04-29 19:01:06,256 - INFO - generate_tiles - Now generating tiles with num_cores=16 and batch_size=200!\n",
      "  8%|▊         | 7744/99258 [00:07<01:35, 955.91it/s]s]"
     ]
    },
    {
     "name": "stdout",
     "output_type": "stream",
     "text": [
      "\r",
      "  0%|          | 0/69 [00:00<?, ?it/s]"
     ]
    },
    {
     "name": "stderr",
     "output_type": "stream",
     "text": [
      "  9%|▊         | 8625/99258 [00:07<01:39, 911.27it/s]s]"
     ]
    },
    {
     "name": "stdout",
     "output_type": "stream",
     "text": [
      "\r",
      "  1%|▏         | 1/69 [00:00<01:02,  1.09it/s]\r",
      "  3%|▎         | 2/69 [00:01<00:29,  2.27it/s]"
     ]
    },
    {
     "name": "stderr",
     "output_type": "stream",
     "text": [
      "\r",
      " 88%|████████▊ | 33474/38021 [00:38<00:03, 1170.18it/s]\r",
      " 69%|██████▉   | 30584/44304 [00:34<00:15, 881.71it/s]\r",
      " 91%|█████████ | 34161/37490 [00:37<00:02, 1167.01it/s]\r",
      "  9%|▉         | 8718/99258 [00:08<01:39, 910.41it/s]\r",
      " 88%|████████▊ | 33593/38021 [00:38<00:03, 1175.53it/s]\r",
      " 69%|██████▉   | 30682/44304 [00:34<00:15, 907.82it/s]\r",
      " 91%|█████████▏| 34281/37490 [00:37<00:02, 1175.84it/s]\r",
      "  9%|▉         | 8810/99258 [00:08<01:43, 873.33it/s]\r",
      " 89%|████████▊ | 33711/38021 [00:38<00:03, 1176.11it/s]"
     ]
    },
    {
     "name": "stdout",
     "output_type": "stream",
     "text": [
      "\r",
      "  4%|▍         | 3/69 [00:01<00:19,  3.46it/s]\r",
      "  6%|▌         | 4/69 [00:01<00:14,  4.34it/s]"
     ]
    },
    {
     "name": "stderr",
     "output_type": "stream",
     "text": [
      "\r",
      " 92%|█████████▏| 34405/37490 [00:37<00:02, 1192.69it/s]\r",
      " 69%|██████▉   | 30774/44304 [00:34<00:15, 896.02it/s]\r",
      "  9%|▉         | 8918/99258 [00:08<01:37, 929.15it/s]\r",
      " 89%|████████▉ | 33831/38021 [00:38<00:03, 1182.15it/s]\r",
      " 92%|█████████▏| 34528/37490 [00:37<00:02, 1203.06it/s]\r",
      " 70%|██████▉   | 30864/44304 [00:34<00:15, 882.15it/s]\r",
      "  9%|▉         | 9012/99258 [00:08<01:42, 881.23it/s]\r",
      " 89%|████████▉ | 33954/38021 [00:38<00:03, 1192.10it/s]\r",
      " 92%|█████████▏| 34651/37490 [00:37<00:02, 1209.84it/s]"
     ]
    },
    {
     "name": "stdout",
     "output_type": "stream",
     "text": [
      "\r",
      "  7%|▋         | 5/69 [00:01<00:13,  4.58it/s]\r",
      " 12%|█▏        | 8/69 [00:01<00:06,  8.92it/s]"
     ]
    },
    {
     "name": "stderr",
     "output_type": "stream",
     "text": [
      "\r",
      " 70%|██████▉   | 30961/44304 [00:34<00:14, 900.02it/s]\r",
      "  9%|▉         | 9117/99258 [00:08<01:37, 927.81it/s]\r",
      " 90%|████████▉ | 34078/38021 [00:38<00:03, 1199.82it/s]\r",
      " 93%|█████████▎| 34775/37490 [00:37<00:02, 1214.11it/s]\r",
      " 70%|███████   | 31052/44304 [00:34<00:15, 850.55it/s]\r",
      "  9%|▉         | 9211/99258 [00:08<01:39, 907.99it/s]\r",
      " 90%|████████▉ | 34199/38021 [00:38<00:03, 1202.64it/s]\r",
      " 93%|█████████▎| 34899/37490 [00:38<00:02, 1220.38it/s]"
     ]
    },
    {
     "name": "stdout",
     "output_type": "stream",
     "text": [
      "\r",
      " 16%|█▌        | 11/69 [00:01<00:04, 12.84it/s]\r",
      " 19%|█▉        | 13/69 [00:01<00:04, 13.73it/s]"
     ]
    },
    {
     "name": "stderr",
     "output_type": "stream",
     "text": [
      " 94%|█████████▍| 35387/37490 [00:38<00:01, 1151.70it/s]"
     ]
    },
    {
     "name": "stdout",
     "output_type": "stream",
     "text": [
      "\r",
      " 23%|██▎       | 16/69 [00:01<00:03, 16.75it/s]"
     ]
    },
    {
     "name": "stderr",
     "output_type": "stream",
     "text": [
      "\r",
      " 71%|███████   | 31528/44304 [00:35<00:14, 884.70it/s]\r",
      " 92%|█████████▏| 34801/38021 [00:39<00:02, 1185.05it/s]\r",
      " 10%|▉         | 9699/99258 [00:09<01:40, 893.15it/s]\r",
      " 95%|█████████▍| 35503/37490 [00:38<00:01, 1141.02it/s]\r",
      " 71%|███████▏  | 31618/44304 [00:35<00:14, 886.76it/s]\r",
      " 92%|█████████▏| 34921/38021 [00:39<00:02, 1185.42it/s]\r",
      " 10%|▉         | 9797/99258 [00:09<01:37, 915.52it/s]\r",
      " 95%|█████████▌| 35618/37490 [00:38<00:01, 1131.43it/s]"
     ]
    },
    {
     "name": "stdout",
     "output_type": "stream",
     "text": [
      "\r",
      " 26%|██▌       | 18/69 [00:02<00:03, 13.24it/s]"
     ]
    },
    {
     "name": "stderr",
     "output_type": "stream",
     "text": [
      "\r",
      " 72%|███████▏  | 31707/44304 [00:35<00:14, 864.93it/s]\r",
      " 92%|█████████▏| 35042/38021 [00:39<00:02, 1191.23it/s]\r",
      " 10%|▉         | 9890/99258 [00:09<01:39, 898.83it/s]\r",
      " 95%|█████████▌| 35732/37490 [00:38<00:01, 1127.54it/s]\r",
      " 72%|███████▏  | 31814/44304 [00:35<00:13, 918.96it/s]\r",
      " 92%|█████████▏| 35164/38021 [00:39<00:02, 1199.51it/s]\r",
      " 10%|█         | 9981/99258 [00:09<01:42, 870.65it/s]\r",
      " 96%|█████████▌| 35845/37490 [00:38<00:01, 1110.72it/s]"
     ]
    },
    {
     "name": "stdout",
     "output_type": "stream",
     "text": [
      "\r",
      " 29%|██▉       | 20/69 [00:02<00:04, 11.46it/s]"
     ]
    },
    {
     "name": "stderr",
     "output_type": "stream",
     "text": [
      "\r",
      " 72%|███████▏  | 31907/44304 [00:35<00:14, 864.89it/s]\r",
      " 93%|█████████▎| 35284/38021 [00:39<00:02, 1194.17it/s]\r",
      " 10%|█         | 10078/99258 [00:09<01:39, 898.55it/s]\r",
      " 96%|█████████▌| 35957/37490 [00:38<00:01, 1087.03it/s]\r",
      " 72%|███████▏  | 32014/44304 [00:35<00:13, 921.50it/s]\r",
      " 93%|█████████▎| 35404/38021 [00:39<00:02, 1183.50it/s]\r",
      " 10%|█         | 10169/99258 [00:09<01:44, 855.31it/s]\r",
      " 96%|█████████▌| 36066/37490 [00:39<00:01, 1072.18it/s]"
     ]
    },
    {
     "name": "stdout",
     "output_type": "stream",
     "text": [
      "\r",
      " 32%|███▏      | 22/69 [00:02<00:04, 10.97it/s]\r",
      " 36%|███▌      | 25/69 [00:02<00:03, 13.94it/s]"
     ]
    },
    {
     "name": "stderr",
     "output_type": "stream",
     "text": [
      "\r",
      " 93%|█████████▎| 35523/38021 [00:39<00:02, 1182.56it/s]\r",
      " 72%|███████▏  | 32108/44304 [00:35<00:14, 852.80it/s]\r",
      " 10%|█         | 10265/99258 [00:09<01:40, 883.69it/s]\r",
      " 97%|█████████▋| 36190/37490 [00:39<00:01, 1120.11it/s]\r",
      " 94%|█████████▎| 35642/38021 [00:39<00:02, 1173.78it/s]\r",
      " 73%|███████▎  | 32216/44304 [00:35<00:13, 914.12it/s]\r",
      " 10%|█         | 10355/99258 [00:09<01:41, 875.07it/s]\r",
      " 97%|█████████▋| 36319/37490 [00:39<00:01, 1169.14it/s]"
     ]
    },
    {
     "name": "stdout",
     "output_type": "stream",
     "text": [
      "\r",
      " 41%|████      | 28/69 [00:02<00:02, 16.43it/s]\r",
      " 43%|████▎     | 30/69 [00:02<00:02, 16.97it/s]"
     ]
    },
    {
     "name": "stderr",
     "output_type": "stream",
     "text": [
      "\r",
      " 94%|█████████▍| 35761/38021 [00:39<00:01, 1178.18it/s]\r",
      " 73%|███████▎  | 32310/44304 [00:35<00:13, 866.97it/s]\r",
      " 97%|█████████▋| 36437/37490 [00:39<00:00, 1167.96it/s]\r",
      " 11%|█         | 10443/99258 [00:10<01:44, 848.28it/s]\r",
      " 94%|█████████▍| 35879/38021 [00:40<00:01, 1177.04it/s]\r",
      " 73%|███████▎  | 32417/44304 [00:36<00:12, 922.10it/s]\r",
      " 98%|█████████▊| 36555/37490 [00:39<00:00, 1171.45it/s]\r",
      " 11%|█         | 10545/99258 [00:10<01:39, 892.44it/s]"
     ]
    },
    {
     "name": "stdout",
     "output_type": "stream",
     "text": [
      "\r",
      " 46%|████▋     | 32/69 [00:03<00:02, 16.60it/s]"
     ]
    },
    {
     "name": "stderr",
     "output_type": "stream",
     "text": [
      " 11%|█         | 10910/99258 [00:10<01:43, 852.18it/s]]"
     ]
    },
    {
     "name": "stdout",
     "output_type": "stream",
     "text": [
      "\r",
      " 49%|████▉     | 34/69 [00:03<00:03, 11.54it/s]"
     ]
    },
    {
     "name": "stderr",
     "output_type": "stream",
     "text": [
      "\r",
      " 96%|█████████▌| 36461/38021 [00:40<00:01, 1148.15it/s]\r",
      " 99%|█████████▉| 37183/37490 [00:39<00:00, 1234.44it/s]\r",
      " 74%|███████▍  | 32896/44304 [00:36<00:12, 922.24it/s]\r",
      " 11%|█         | 11008/99258 [00:10<01:39, 884.04it/s]\r",
      " 96%|█████████▌| 36576/38021 [00:40<00:01, 1143.97it/s]\r",
      "100%|█████████▉| 37307/37490 [00:40<00:00, 1228.98it/s]\r",
      " 74%|███████▍  | 32989/44304 [00:36<00:12, 892.76it/s]\r",
      " 11%|█         | 11097/99258 [00:10<01:42, 860.74it/s]"
     ]
    },
    {
     "name": "stdout",
     "output_type": "stream",
     "text": [
      "\r",
      " 52%|█████▏    | 36/69 [00:03<00:03, 10.94it/s]"
     ]
    },
    {
     "name": "stderr",
     "output_type": "stream",
     "text": [
      "\r",
      " 97%|█████████▋| 36691/38021 [00:40<00:01, 1137.57it/s]\r",
      "100%|█████████▉| 37430/37490 [00:40<00:00, 1225.08it/s]\r",
      " 75%|███████▍  | 33096/44304 [00:36<00:11, 941.46it/s]\r",
      " 11%|█▏        | 11191/99258 [00:10<01:40, 877.10it/s]\r",
      "100%|██████████| 37490/37490 [00:40<00:00, 932.13it/s] \n",
      "2022-04-29 19:01:11,322 - INFO - detect_tissue - Filtering based on query: otsu_score > 0.1\n",
      "\r",
      " 97%|█████████▋| 36806/38021 [00:40<00:01, 1131.89it/s]2022-04-29 19:01:11,337 - INFO - detect_tissue -                  x_coord  y_coord  xy_extent  tile_size tile_units  otsu_score\n",
      "2022-04-29 19:01:11,337 - INFO - detect_tissue - address                                                                       \n",
      "2022-04-29 19:01:11,337 - INFO - detect_tissue - x7_y134_z20.0       1792    34304        256        128         px        0.21\n",
      "2022-04-29 19:01:11,337 - INFO - detect_tissue - x7_y135_z20.0       1792    34560        256        128         px        0.21\n",
      "2022-04-29 19:01:11,337 - INFO - detect_tissue - x7_y136_z20.0       1792    34816        256        128         px        0.23\n",
      "2022-04-29 19:01:11,337 - INFO - detect_tissue - x7_y146_z20.0       1792    37376        256        128         px        0.51\n",
      "2022-04-29 19:01:11,337 - INFO - detect_tissue - x7_y147_z20.0       1792    37632        256        128         px        0.41\n",
      "2022-04-29 19:01:11,337 - INFO - detect_tissue - ...                  ...      ...        ...        ...        ...         ...\n",
      "2022-04-29 19:01:11,337 - INFO - detect_tissue - x139_y1_z20.0      35584      256        256        128         px        0.15\n",
      "2022-04-29 19:01:11,337 - INFO - detect_tissue - x148_y139_z20.0    37888    35584        256        128         px        0.13\n",
      "2022-04-29 19:01:11,337 - INFO - detect_tissue - x149_y89_z20.0     38144    22784        256        128         px        0.12\n",
      "2022-04-29 19:01:11,337 - INFO - detect_tissue - x159_y98_z20.0     40704    25088        256        128         px        0.11\n",
      "2022-04-29 19:01:11,337 - INFO - detect_tissue - x159_y170_z20.0    40704    43520        256        128         px        0.27\n",
      "2022-04-29 19:01:11,337 - INFO - detect_tissue - \n",
      "2022-04-29 19:01:11,337 - INFO - detect_tissue - [16496 rows x 6 columns]\n",
      "\r",
      " 11%|█▏        | 11280/99258 [00:10<01:40, 879.71it/s]\r",
      " 75%|███████▍  | 33191/44304 [00:36<00:12, 891.29it/s]2022-04-29 19:01:11,409 - INFO - luna.common.utils - Code block 'transform::detect_tissue' took: 64.95061086118221s\n",
      "2022-04-29 19:01:11,413 - INFO - luna.common.utils - ------------------------------------------------------------\n",
      "2022-04-29 19:01:11,413 - INFO - luna.common.utils -  Done with transform, running post-transform functions... \n",
      "2022-04-29 19:01:11,413 - INFO - luna.common.utils - ------------------------------------------------------------\n"
     ]
    },
    {
     "name": "stdout",
     "output_type": "stream",
     "text": [
      "\r",
      " 55%|█████▌    | 38/69 [00:03<00:03, 10.05it/s]\r",
      " 58%|█████▊    | 40/69 [00:03<00:02, 11.22it/s]"
     ]
    },
    {
     "name": "stderr",
     "output_type": "stream",
     "text": [
      "\r",
      " 97%|█████████▋| 36924/38021 [00:40<00:00, 1138.49it/s]2022-04-29 19:01:11,440 - INFO - luna.common.utils - Done.\n",
      "\r",
      " 75%|███████▌  | 33301/44304 [00:37<00:11, 948.37it/s]\r",
      " 11%|█▏        | 11369/99258 [00:11<01:43, 851.27it/s]\r",
      " 97%|█████████▋| 37038/38021 [00:41<00:00, 1132.04it/s]\r",
      " 12%|█▏        | 11472/99258 [00:11<01:37, 899.01it/s]"
     ]
    },
    {
     "name": "stdout",
     "output_type": "stream",
     "text": [
      "\r",
      " 61%|██████    | 42/69 [00:04<00:02, 12.59it/s]\r",
      " 64%|██████▍   | 44/69 [00:04<00:01, 13.41it/s]"
     ]
    },
    {
     "name": "stderr",
     "output_type": "stream",
     "text": [
      "\r",
      " 98%|█████████▊| 37153/38021 [00:41<00:00, 1130.64it/s]\r",
      " 75%|███████▌  | 33397/44304 [00:37<00:12, 882.12it/s]\r",
      " 98%|█████████▊| 37268/38021 [00:41<00:00, 1135.81it/s]\r",
      " 12%|█▏        | 11563/99258 [00:11<01:41, 865.24it/s]\r",
      " 76%|███████▌  | 33506/44304 [00:37<00:11, 935.05it/s]"
     ]
    },
    {
     "name": "stdout",
     "output_type": "stream",
     "text": [
      "\r",
      " 68%|██████▊   | 47/69 [00:04<00:01, 15.06it/s]"
     ]
    },
    {
     "name": "stderr",
     "output_type": "stream",
     "text": [
      "\r",
      " 98%|█████████▊| 37382/38021 [00:41<00:00, 1135.06it/s]\r",
      " 12%|█▏        | 11659/99258 [00:11<01:38, 890.06it/s]\r",
      " 76%|███████▌  | 33601/44304 [00:37<00:12, 869.84it/s]\r",
      " 99%|█████████▊| 37496/38021 [00:41<00:00, 1125.07it/s]\r",
      " 12%|█▏        | 11749/99258 [00:11<01:38, 885.42it/s]\r",
      " 76%|███████▌  | 33704/44304 [00:37<00:11, 909.89it/s]"
     ]
    },
    {
     "name": "stdout",
     "output_type": "stream",
     "text": [
      "\r",
      " 71%|███████   | 49/69 [00:04<00:01, 12.43it/s]label_tiles ../PRO_12-123/data/toy_data_set/table/ANNOTATIONS /home/aukermaa/vmount/PRO_12-123/tiling/01OV008-7579323e-2fae-43a9-b00f-a15c28/detected_tiles\n",
      "['label_tiles', PosixPath('../PRO_12-123/data/toy_data_set/table/ANNOTATIONS'), '/home/aukermaa/vmount/PRO_12-123/tiling/01OV008-7579323e-2fae-43a9-b00f-a15c28/detected_tiles', '-o', '/home/aukermaa/vmount/PRO_12-123/tiling/01OV008-7579323e-2fae-43a9-b00f-a15c28/labled_tiles']\n",
      "\r",
      " 74%|███████▍  | 51/69 [00:04<00:01, 12.43it/s]"
     ]
    },
    {
     "name": "stderr",
     "output_type": "stream",
     "text": [
      "100%|██████████| 38021/38021 [00:41<00:00, 905.75it/s] \n"
     ]
    },
    {
     "name": "stdout",
     "output_type": "stream",
     "text": [
      "\r",
      " 77%|███████▋  | 53/69 [00:04<00:01, 12.64it/s]\r",
      " 80%|███████▉  | 55/69 [00:05<00:01, 13.16it/s]"
     ]
    },
    {
     "name": "stderr",
     "output_type": "stream",
     "text": [
      "2022-04-29 19:01:12,458 - INFO - detect_tissue - Filtering based on query: otsu_score > 0.1\n",
      "2022-04-29 19:01:12,485 - INFO - detect_tissue -                 x_coord  y_coord  xy_extent  tile_size tile_units  otsu_score\n",
      "2022-04-29 19:01:12,485 - INFO - detect_tissue - address                                                                      \n",
      "2022-04-29 19:01:12,485 - INFO - detect_tissue - x5_y37_z20.0       1280     9472        256        128         px        0.11\n",
      "2022-04-29 19:01:12,485 - INFO - detect_tissue - x5_y38_z20.0       1280     9728        256        128         px        0.47\n",
      "2022-04-29 19:01:12,485 - INFO - detect_tissue - x5_y39_z20.0       1280     9984        256        128         px        0.55\n",
      "2022-04-29 19:01:12,485 - INFO - detect_tissue - x5_y40_z20.0       1280    10240        256        128         px        0.48\n",
      "2022-04-29 19:01:12,485 - INFO - detect_tissue - x5_y41_z20.0       1280    10496        256        128         px        0.13\n",
      "2022-04-29 19:01:12,485 - INFO - detect_tissue - ...                 ...      ...        ...        ...        ...         ...\n",
      "2022-04-29 19:01:12,485 - INFO - detect_tissue - x167_y49_z20.0    42752    12544        256        128         px        0.30\n",
      "2022-04-29 19:01:12,485 - INFO - detect_tissue - x167_y50_z20.0    42752    12800        256        128         px        0.43\n",
      "2022-04-29 19:01:12,485 - INFO - detect_tissue - x167_y51_z20.0    42752    13056        256        128         px        0.43\n",
      "2022-04-29 19:01:12,485 - INFO - detect_tissue - x167_y52_z20.0    42752    13312        256        128         px        0.31\n",
      "2022-04-29 19:01:12,485 - INFO - detect_tissue - x172_y31_z20.0    44032     7936        256        128         px        0.16\n",
      "2022-04-29 19:01:12,485 - INFO - detect_tissue - \n",
      "2022-04-29 19:01:12,485 - INFO - detect_tissue - [18274 rows x 6 columns]\n",
      "\r",
      " 12%|█▏        | 12216/99258 [00:12<01:49, 797.24it/s]2022-04-29 19:01:12,518 - INFO - luna.common.utils - Code block 'transform::detect_tissue' took: 66.07930017262697s\n",
      "2022-04-29 19:01:12,520 - INFO - luna.common.utils - ------------------------------------------------------------\n",
      "2022-04-29 19:01:12,520 - INFO - luna.common.utils -  Done with transform, running post-transform functions... \n",
      "2022-04-29 19:01:12,520 - INFO - luna.common.utils - ------------------------------------------------------------\n",
      "2022-04-29 19:01:12,525 - INFO - luna.common.utils - Done.\n",
      "\r",
      " 77%|███████▋  | 34210/44304 [00:38<00:11, 907.52it/s]\r",
      " 12%|█▏        | 12303/99258 [00:12<01:46, 815.95it/s]\r",
      " 77%|███████▋  | 34317/44304 [00:38<00:10, 951.01it/s]"
     ]
    },
    {
     "name": "stdout",
     "output_type": "stream",
     "text": [
      "\r",
      " 83%|████████▎ | 57/69 [00:05<00:00, 13.78it/s]\r",
      " 86%|████████▌ | 59/69 [00:05<00:00, 14.66it/s]"
     ]
    },
    {
     "name": "stderr",
     "output_type": "stream",
     "text": [
      "\r",
      " 13%|█▎        | 12410/99258 [00:12<01:38, 880.90it/s]\r",
      " 78%|███████▊  | 34414/44304 [00:38<00:10, 949.66it/s]\r",
      " 13%|█▎        | 12500/99258 [00:12<01:40, 865.77it/s]\r",
      " 78%|███████▊  | 34520/44304 [00:38<00:09, 980.22it/s]"
     ]
    },
    {
     "name": "stdout",
     "output_type": "stream",
     "text": [
      "\r",
      " 90%|████████▉ | 62/69 [00:05<00:00, 18.04it/s]\r",
      " 94%|█████████▍| 65/69 [00:05<00:00, 20.29it/s]"
     ]
    },
    {
     "name": "stderr",
     "output_type": "stream",
     "text": [
      " 79%|███████▊  | 34814/44304 [00:38<00:10, 946.92it/s]2022-04-29 19:01:13,231 - INFO - root - Initalized logger, log file at: data-processing.log\n",
      "2022-04-29 19:01:13,233 - INFO - luna.common.utils - Started CLI Runner wtih <function generate_tile_labels at 0x7f94cd7d5f70>\n",
      "2022-04-29 19:01:13,234 - INFO - luna.common.utils - Validating params...\n",
      "2022-04-29 19:01:13,235 - INFO - luna.common.utils -  -> Set input_slide_annotation_dataset (<class 'str'>) = ../PRO_12-123/data/toy_data_set/table/ANNOTATIONS\n",
      "2022-04-29 19:01:13,236 - INFO - luna.common.utils -  -> Set input_slide_tiles (<class 'str'>) = /home/aukermaa/vmount/PRO_12-123/tiling/01OV008-7579323e-2fae-43a9-b00f-a15c28/detected_tiles\n",
      " 13%|█▎        | 12888/99258 [00:12<01:34, 916.87it/s]2022-04-29 19:01:13,237 - INFO - luna.common.utils -  -> Set output_dir (<class 'str'>) = /home/aukermaa/vmount/PRO_12-123/tiling/01OV008-7579323e-2fae-43a9-b00f-a15c28/labled_tiles\n",
      "2022-04-29 19:01:13,239 - INFO - luna.common.utils - Expanding inputs...\n",
      "2022-04-29 19:01:13,240 - INFO - luna.common.utils - Attempting to read metadata at ../PRO_12-123/data/toy_data_set/table/ANNOTATIONS/metadata.yml\n",
      "2022-04-29 19:01:13,242 - INFO - luna.common.utils - Expanded input:\n",
      "2022-04-29 19:01:13,242 - INFO - luna.common.utils -  -> ../PRO_12-123/data/toy_data_set/table/ANNOTATIONS\n",
      "2022-04-29 19:01:13,242 - INFO - luna.common.utils -  -> ../PRO_12-123/data/toy_data_set/table/ANNOTATIONS/slide_annotation_dataset_TCGA collection_ov_regional.parquet\n",
      "2022-04-29 19:01:13,243 - INFO - luna.common.utils - Found segment keys: {'dsa_collection_uuid': '626c0a1dbfa0f49e3e026f6a'}\n",
      "2022-04-29 19:01:13,244 - INFO - luna.common.utils - Attempting to read metadata at /home/aukermaa/vmount/PRO_12-123/tiling/01OV008-7579323e-2fae-43a9-b00f-a15c28/detected_tiles/metadata.yml\n",
      "2022-04-29 19:01:13,248 - INFO - luna.common.utils - Expanded input:\n",
      "2022-04-29 19:01:13,248 - INFO - luna.common.utils -  -> /home/aukermaa/vmount/PRO_12-123/tiling/01OV008-7579323e-2fae-43a9-b00f-a15c28/detected_tiles\n",
      "2022-04-29 19:01:13,248 - INFO - luna.common.utils -  -> /home/aukermaa/vmount/PRO_12-123/tiling/01OV008-7579323e-2fae-43a9-b00f-a15c28/detected_tiles/01OV008-7579323e-2fae-43a9-b00f-a15c28-filtered.tiles.parquet\n",
      "2022-04-29 19:01:13,249 - INFO - luna.common.utils - Found segment keys: {'slide_id': '01OV008-7579323e-2fae-43a9-b00f-a15c28'}\n",
      "2022-04-29 19:01:13,250 - INFO - luna.common.utils - Resolved input:\n",
      "2022-04-29 19:01:13,250 - INFO - luna.common.utils -  -> ../PRO_12-123/data/toy_data_set/table/ANNOTATIONS/slide_annotation_dataset_TCGA collection_ov_regional.parquet\n",
      "2022-04-29 19:01:13,250 - INFO - luna.common.utils -  -> /home/aukermaa/vmount/PRO_12-123/data/toy_data_set/table/ANNOTATIONS/slide_annotation_dataset_TCGA collection_ov_regional.parquet\n",
      "2022-04-29 19:01:13,251 - INFO - luna.common.utils - Resolved input:\n",
      "2022-04-29 19:01:13,251 - INFO - luna.common.utils -  -> /home/aukermaa/vmount/PRO_12-123/tiling/01OV008-7579323e-2fae-43a9-b00f-a15c28/detected_tiles/01OV008-7579323e-2fae-43a9-b00f-a15c28-filtered.tiles.parquet\n",
      "2022-04-29 19:01:13,251 - INFO - luna.common.utils -  -> /home/aukermaa/vmount/PRO_12-123/tiling/01OV008-7579323e-2fae-43a9-b00f-a15c28/detected_tiles/01OV008-7579323e-2fae-43a9-b00f-a15c28-filtered.tiles.parquet\n",
      "2022-04-29 19:01:13,252 - INFO - luna.common.utils - Full segment key set: {'dsa_collection_uuid': '626c0a1dbfa0f49e3e026f6a', 'slide_id': '01OV008-7579323e-2fae-43a9-b00f-a15c28'}\n",
      " 79%|███████▉  | 34910/44304 [00:38<00:10, 928.85it/s]2022-04-29 19:01:13,253 - INFO - luna.common.utils - ------------------------------------------------------------\n",
      "2022-04-29 19:01:13,253 - INFO - luna.common.utils -  Starting transform::generate_tile_labels \n",
      "2022-04-29 19:01:13,253 - INFO - luna.common.utils - ------------------------------------------------------------\n",
      "2022-04-29 19:01:13,254 - INFO - generate_tile_labels - slide_id=01OV008-7579323e-2fae-43a9-b00f-a15c28\n"
     ]
    },
    {
     "name": "stdout",
     "output_type": "stream",
     "text": [
      "label_tiles ../PRO_12-123/data/toy_data_set/table/ANNOTATIONS /home/aukermaa/vmount/PRO_12-123/tiling/01OV002-ed65cf94-8bc6-492b-9149-adc16f/detected_tiles\n",
      "['label_tiles', PosixPath('../PRO_12-123/data/toy_data_set/table/ANNOTATIONS'), '/home/aukermaa/vmount/PRO_12-123/tiling/01OV002-ed65cf94-8bc6-492b-9149-adc16f/detected_tiles', '-o', '/home/aukermaa/vmount/PRO_12-123/tiling/01OV002-ed65cf94-8bc6-492b-9149-adc16f/labled_tiles']\n",
      "\r",
      " 99%|█████████▊| 68/69 [00:05<00:00, 14.73it/s]\r",
      "100%|██████████| 69/69 [00:05<00:00, 11.70it/s]../PRO_12-123/data/toy_data_set/table/ANNOTATIONS/01OV008-7579323e-2fae-43a9-b00f-a15c28.annotation.geojson TCGA collection ov_regional\n"
     ]
    },
    {
     "name": "stderr",
     "output_type": "stream",
     "text": [
      " 13%|█▎        | 13186/99258 [00:13<01:40, 855.50it/s]2022-04-29 19:01:13,585 - INFO - generate_tiles -                 x_coord  ...                                         tile_store\n",
      "2022-04-29 19:01:13,585 - INFO - generate_tiles - address                  ...                                                   \n",
      "2022-04-29 19:01:13,585 - INFO - generate_tiles - x6_y74_z20.0       1536  ...  /home/aukermaa/vmount/PRO_12-123/tiling/01OV00...\n",
      "2022-04-29 19:01:13,585 - INFO - generate_tiles - x7_y74_z20.0       1792  ...  /home/aukermaa/vmount/PRO_12-123/tiling/01OV00...\n",
      "2022-04-29 19:01:13,585 - INFO - generate_tiles - x7_y81_z20.0       1792  ...  /home/aukermaa/vmount/PRO_12-123/tiling/01OV00...\n",
      "2022-04-29 19:01:13,585 - INFO - generate_tiles - x8_y75_z20.0       2048  ...  /home/aukermaa/vmount/PRO_12-123/tiling/01OV00...\n",
      "2022-04-29 19:01:13,585 - INFO - generate_tiles - x8_y76_z20.0       2048  ...  /home/aukermaa/vmount/PRO_12-123/tiling/01OV00...\n",
      "2022-04-29 19:01:13,585 - INFO - generate_tiles - ...                 ...  ...                                                ...\n",
      "2022-04-29 19:01:13,585 - INFO - generate_tiles - x181_y45_z20.0    46336  ...  /home/aukermaa/vmount/PRO_12-123/tiling/01OV00...\n",
      "2022-04-29 19:01:13,585 - INFO - generate_tiles - x182_y41_z20.0    46592  ...  /home/aukermaa/vmount/PRO_12-123/tiling/01OV00...\n",
      "2022-04-29 19:01:13,585 - INFO - generate_tiles - x182_y42_z20.0    46592  ...  /home/aukermaa/vmount/PRO_12-123/tiling/01OV00...\n",
      "2022-04-29 19:01:13,585 - INFO - generate_tiles - x182_y43_z20.0    46592  ...  /home/aukermaa/vmount/PRO_12-123/tiling/01OV00...\n",
      "2022-04-29 19:01:13,585 - INFO - generate_tiles - x182_y44_z20.0    46592  ...  /home/aukermaa/vmount/PRO_12-123/tiling/01OV00...\n",
      "2022-04-29 19:01:13,585 - INFO - generate_tiles - \n",
      "2022-04-29 19:01:13,585 - INFO - generate_tiles - [13704 rows x 9 columns]\n",
      "2022-04-29 19:01:13,657 - INFO - luna.common.utils - Code block 'transform::save_tiles' took: 7.439033165574074s\n",
      "2022-04-29 19:01:13,658 - INFO - luna.common.utils - ------------------------------------------------------------\n",
      "2022-04-29 19:01:13,658 - INFO - luna.common.utils -  Done with transform, running post-transform functions... \n",
      "2022-04-29 19:01:13,658 - INFO - luna.common.utils - ------------------------------------------------------------\n",
      " 10%|▉         | 1607/16496 [00:00<00:02, 5409.69it/s]2022-04-29 19:01:13,663 - INFO - luna.common.utils - Adding feature segment /home/aukermaa/vmount/PRO_12-123/tiling/01OV008-308ad404-7079-4ff8-8232-12ee2e/saved_tiles/01OV008-308ad404-7079-4ff8-8232-12ee2e.tiles.parquet to PRO_TILES_LABLED\n",
      "2022-04-29 19:01:13,664 - INFO - luna.common.utils - Found dataset URL = file:////home/aukermaa/vmount/PRO_12-123/\n",
      "2022-04-29 19:01:13,665 - INFO - luna.common.utils - Adding /home/aukermaa/vmount/PRO_12-123/tiling/01OV008-308ad404-7079-4ff8-8232-12ee2e/saved_tiles/01OV008-308ad404-7079-4ff8-8232-12ee2e.tiles.parquet to PRO_TILES_LABLED via file:////home/aukermaa/vmount/PRO_12-123/\n",
      "2022-04-29 19:01:13,666 - INFO - luna.common.utils - SEGMENT_ID=626c0a1dbfa0f49e3e026f6a-01OV008-308ad404-7079-4ff8-8232-12ee2e\n",
      "2022-04-29 19:01:13,667 - INFO - luna.common.utils - Writing to: //home/aukermaa/vmount/PRO_12-123/datasets/PRO_TILES_LABLED/segments/626c0a1dbfa0f49e3e026f6a-01OV008-308ad404-7079-4ff8-8232-12ee2e\n",
      " 13%|█▎        | 13287/99258 [00:13<01:35, 897.38it/s]2022-04-29 19:01:13,734 - INFO - luna.common.utils - Done.\n",
      " 13%|█▎        | 2182/16496 [00:00<00:02, 5540.87it/s]"
     ]
    },
    {
     "name": "stdout",
     "output_type": "stream",
     "text": [
      "\n"
     ]
    },
    {
     "name": "stderr",
     "output_type": "stream",
     "text": [
      " 81%|████████  | 35883/44304 [00:39<00:07, 1065.80it/s]2022-04-29 19:01:14,229 - INFO - root - Initalized logger, log file at: data-processing.log\n",
      "2022-04-29 19:01:14,230 - INFO - luna.common.utils - Started CLI Runner wtih <function generate_tile_labels at 0x7f272b287f70>\n",
      "2022-04-29 19:01:14,232 - INFO - luna.common.utils - Validating params...\n",
      "2022-04-29 19:01:14,233 - INFO - luna.common.utils -  -> Set input_slide_annotation_dataset (<class 'str'>) = ../PRO_12-123/data/toy_data_set/table/ANNOTATIONS\n",
      "2022-04-29 19:01:14,234 - INFO - luna.common.utils -  -> Set input_slide_tiles (<class 'str'>) = /home/aukermaa/vmount/PRO_12-123/tiling/01OV002-ed65cf94-8bc6-492b-9149-adc16f/detected_tiles\n",
      "2022-04-29 19:01:14,235 - INFO - luna.common.utils -  -> Set output_dir (<class 'str'>) = /home/aukermaa/vmount/PRO_12-123/tiling/01OV002-ed65cf94-8bc6-492b-9149-adc16f/labled_tiles\n",
      "2022-04-29 19:01:14,236 - INFO - luna.common.utils - Expanding inputs...\n",
      "2022-04-29 19:01:14,237 - INFO - luna.common.utils - Attempting to read metadata at ../PRO_12-123/data/toy_data_set/table/ANNOTATIONS/metadata.yml\n",
      "2022-04-29 19:01:14,240 - INFO - luna.common.utils - Expanded input:\n",
      "2022-04-29 19:01:14,240 - INFO - luna.common.utils -  -> ../PRO_12-123/data/toy_data_set/table/ANNOTATIONS\n",
      "2022-04-29 19:01:14,240 - INFO - luna.common.utils -  -> ../PRO_12-123/data/toy_data_set/table/ANNOTATIONS/slide_annotation_dataset_TCGA collection_ov_regional.parquet\n",
      "2022-04-29 19:01:14,241 - INFO - luna.common.utils - Found segment keys: {'dsa_collection_uuid': '626c0a1dbfa0f49e3e026f6a'}\n",
      "2022-04-29 19:01:14,242 - INFO - luna.common.utils - Attempting to read metadata at /home/aukermaa/vmount/PRO_12-123/tiling/01OV002-ed65cf94-8bc6-492b-9149-adc16f/detected_tiles/metadata.yml\n",
      "2022-04-29 19:01:14,245 - INFO - luna.common.utils - Expanded input:\n",
      "2022-04-29 19:01:14,245 - INFO - luna.common.utils -  -> /home/aukermaa/vmount/PRO_12-123/tiling/01OV002-ed65cf94-8bc6-492b-9149-adc16f/detected_tiles\n",
      "2022-04-29 19:01:14,245 - INFO - luna.common.utils -  -> /home/aukermaa/vmount/PRO_12-123/tiling/01OV002-ed65cf94-8bc6-492b-9149-adc16f/detected_tiles/01OV002-ed65cf94-8bc6-492b-9149-adc16f-filtered.tiles.parquet\n",
      "2022-04-29 19:01:14,247 - INFO - luna.common.utils - Found segment keys: {'slide_id': '01OV002-ed65cf94-8bc6-492b-9149-adc16f'}\n",
      "2022-04-29 19:01:14,248 - INFO - luna.common.utils - Resolved input:\n",
      "2022-04-29 19:01:14,248 - INFO - luna.common.utils -  -> ../PRO_12-123/data/toy_data_set/table/ANNOTATIONS/slide_annotation_dataset_TCGA collection_ov_regional.parquet\n",
      "2022-04-29 19:01:14,248 - INFO - luna.common.utils -  -> /home/aukermaa/vmount/PRO_12-123/data/toy_data_set/table/ANNOTATIONS/slide_annotation_dataset_TCGA collection_ov_regional.parquet\n",
      "2022-04-29 19:01:14,249 - INFO - luna.common.utils - Resolved input:\n",
      "2022-04-29 19:01:14,249 - INFO - luna.common.utils -  -> /home/aukermaa/vmount/PRO_12-123/tiling/01OV002-ed65cf94-8bc6-492b-9149-adc16f/detected_tiles/01OV002-ed65cf94-8bc6-492b-9149-adc16f-filtered.tiles.parquet\n",
      "2022-04-29 19:01:14,249 - INFO - luna.common.utils -  -> /home/aukermaa/vmount/PRO_12-123/tiling/01OV002-ed65cf94-8bc6-492b-9149-adc16f/detected_tiles/01OV002-ed65cf94-8bc6-492b-9149-adc16f-filtered.tiles.parquet\n",
      "2022-04-29 19:01:14,250 - INFO - luna.common.utils - Full segment key set: {'dsa_collection_uuid': '626c0a1dbfa0f49e3e026f6a', 'slide_id': '01OV002-ed65cf94-8bc6-492b-9149-adc16f'}\n",
      "2022-04-29 19:01:14,251 - INFO - luna.common.utils - ------------------------------------------------------------\n",
      "2022-04-29 19:01:14,251 - INFO - luna.common.utils -  Starting transform::generate_tile_labels \n",
      "2022-04-29 19:01:14,251 - INFO - luna.common.utils - ------------------------------------------------------------\n",
      "2022-04-29 19:01:14,252 - INFO - generate_tile_labels - slide_id=01OV002-ed65cf94-8bc6-492b-9149-adc16f\n",
      " 34%|███▍      | 5592/16496 [00:01<00:01, 5533.89it/s]]"
     ]
    },
    {
     "name": "stdout",
     "output_type": "stream",
     "text": [
      "../PRO_12-123/data/toy_data_set/table/ANNOTATIONS/01OV002-ed65cf94-8bc6-492b-9149-adc16f.annotation.geojson TCGA collection ov_regional\n"
     ]
    },
    {
     "name": "stderr",
     "output_type": "stream",
     "text": [
      "100%|██████████| 16496/16496 [00:03<00:00, 5463.35it/s]\n",
      " 86%|████████▋ | 38297/44304 [00:41<00:05, 1089.76it/s]2022-04-29 19:01:16,387 - INFO - generate_tile_labels -                 x_coord  y_coord  ...  regional_label  intersection_area\n",
      "2022-04-29 19:01:16,387 - INFO - generate_tile_labels - address                           ...                                   \n",
      "2022-04-29 19:01:16,387 - INFO - generate_tile_labels - x44_y102_z20.0    11264    26112  ...          stroma           0.033000\n",
      "2022-04-29 19:01:16,387 - INFO - generate_tile_labels - x44_y103_z20.0    11264    26368  ...          stroma           0.100707\n",
      "2022-04-29 19:01:16,387 - INFO - generate_tile_labels - x45_y102_z20.0    11520    26112  ...          stroma           0.550479\n",
      "2022-04-29 19:01:16,387 - INFO - generate_tile_labels - x45_y103_z20.0    11520    26368  ...          stroma           0.943674\n",
      "2022-04-29 19:01:16,387 - INFO - generate_tile_labels - x45_y104_z20.0    11520    26624  ...          stroma           0.632023\n",
      "2022-04-29 19:01:16,387 - INFO - generate_tile_labels - ...                 ...      ...  ...             ...                ...\n",
      "2022-04-29 19:01:16,387 - INFO - generate_tile_labels - x111_y79_z20.0    28416    20224  ...          stroma           0.622304\n",
      "2022-04-29 19:01:16,387 - INFO - generate_tile_labels - x111_y80_z20.0    28416    20480  ...          stroma           1.000000\n",
      "2022-04-29 19:01:16,387 - INFO - generate_tile_labels - x111_y81_z20.0    28416    20736  ...          stroma           0.577473\n",
      "2022-04-29 19:01:16,387 - INFO - generate_tile_labels - x112_y80_z20.0    28672    20480  ...          stroma           0.251255\n",
      "2022-04-29 19:01:16,387 - INFO - generate_tile_labels - x112_y81_z20.0    28672    20736  ...          stroma           0.045343\n",
      "2022-04-29 19:01:16,387 - INFO - generate_tile_labels - \n",
      "2022-04-29 19:01:16,387 - INFO - generate_tile_labels - [250 rows x 8 columns]\n",
      "2022-04-29 19:01:16,427 - INFO - luna.common.utils - Code block 'transform::generate_tile_labels' took: 3.1729087233543396s\n",
      "2022-04-29 19:01:16,429 - INFO - luna.common.utils - ------------------------------------------------------------\n",
      "2022-04-29 19:01:16,429 - INFO - luna.common.utils -  Done with transform, running post-transform functions... \n",
      "2022-04-29 19:01:16,429 - INFO - luna.common.utils - ------------------------------------------------------------\n",
      "2022-04-29 19:01:16,433 - INFO - luna.common.utils - Done.\n",
      " 68%|██████▊   | 12408/18274 [00:02<00:01, 5860.05it/s]"
     ]
    },
    {
     "name": "stdout",
     "output_type": "stream",
     "text": [
      "save_tiles file:/home/aukermaa/vmount/PRO_12-123/data/toy_data_set/01OV008-7579323e-2fae-43a9-b00f-a15c28.svs /home/aukermaa/vmount/PRO_12-123/tiling/01OV008-7579323e-2fae-43a9-b00f-a15c28/labled_tiles --num_cores 16 --batch_size 200 --dataset_id PRO_TILES_LABLED\n",
      "['save_tiles', PosixPath('file:/home/aukermaa/vmount/PRO_12-123/data/toy_data_set/01OV008-7579323e-2fae-43a9-b00f-a15c28.svs'), '/home/aukermaa/vmount/PRO_12-123/tiling/01OV008-7579323e-2fae-43a9-b00f-a15c28/labled_tiles', '--num_cores', '16', '--batch_size', '200', '--dataset_id', 'PRO_TILES_LABLED', '-o', '/home/aukermaa/vmount/PRO_12-123/tiling/01OV008-7579323e-2fae-43a9-b00f-a15c28/saved_tiles']\n"
     ]
    },
    {
     "name": "stderr",
     "output_type": "stream",
     "text": [
      " 98%|█████████▊| 17891/18274 [00:03<00:00, 5821.23it/s]2022-04-29 19:01:17,619 - INFO - root - Initalized logger, log file at: data-processing.log\n",
      "100%|██████████| 18274/18274 [00:03<00:00, 5506.82it/s]\n",
      "2022-04-29 19:01:17,672 - INFO - generate_tile_labels -                 x_coord  y_coord  ...  regional_label  intersection_area\n",
      "2022-04-29 19:01:17,672 - INFO - generate_tile_labels - address                           ...                                   \n",
      "2022-04-29 19:01:17,672 - INFO - generate_tile_labels - x40_y114_z20.0    10240    29184  ...          stroma           0.022247\n",
      "2022-04-29 19:01:17,672 - INFO - generate_tile_labels - x40_y115_z20.0    10240    29440  ...          stroma           0.664626\n",
      "2022-04-29 19:01:17,672 - INFO - generate_tile_labels - x40_y116_z20.0    10240    29696  ...          stroma           0.974943\n",
      "2022-04-29 19:01:17,672 - INFO - generate_tile_labels - x40_y117_z20.0    10240    29952  ...          stroma           0.772881\n",
      "2022-04-29 19:01:17,672 - INFO - generate_tile_labels - x40_y118_z20.0    10240    30208  ...          stroma           0.469818\n",
      "2022-04-29 19:01:17,672 - INFO - generate_tile_labels - ...                 ...      ...  ...             ...                ...\n",
      "2022-04-29 19:01:17,672 - INFO - generate_tile_labels - x100_y21_z20.0    25600     5376  ...             fat           0.502811\n",
      "2022-04-29 19:01:17,672 - INFO - generate_tile_labels - x100_y22_z20.0    25600     5632  ...             fat           0.636428\n",
      "2022-04-29 19:01:17,672 - INFO - generate_tile_labels - x100_y23_z20.0    25600     5888  ...             fat           0.614154\n",
      "2022-04-29 19:01:17,672 - INFO - generate_tile_labels - x100_y25_z20.0    25600     6400  ...             fat           0.183442\n",
      "2022-04-29 19:01:17,672 - INFO - generate_tile_labels - x100_y26_z20.0    25600     6656  ...             fat           0.002640\n",
      "2022-04-29 19:01:17,672 - INFO - generate_tile_labels - \n",
      "2022-04-29 19:01:17,672 - INFO - generate_tile_labels - [1175 rows x 8 columns]\n",
      " 17%|█▋        | 17267/99258 [00:17<01:17, 1059.51it/s]2022-04-29 19:01:17,712 - INFO - luna.common.utils - Code block 'transform::generate_tile_labels' took: 3.4602816700935364s\n",
      "2022-04-29 19:01:17,713 - INFO - luna.common.utils - ------------------------------------------------------------\n",
      "2022-04-29 19:01:17,713 - INFO - luna.common.utils -  Done with transform, running post-transform functions... \n",
      "2022-04-29 19:01:17,713 - INFO - luna.common.utils - ------------------------------------------------------------\n",
      "2022-04-29 19:01:17,717 - INFO - luna.common.utils - Done.\n",
      " 18%|█▊        | 17478/99258 [00:17<01:20, 1020.14it/s]"
     ]
    },
    {
     "name": "stdout",
     "output_type": "stream",
     "text": [
      "save_tiles file:/home/aukermaa/vmount/PRO_12-123/data/toy_data_set/01OV002-ed65cf94-8bc6-492b-9149-adc16f.svs /home/aukermaa/vmount/PRO_12-123/tiling/01OV002-ed65cf94-8bc6-492b-9149-adc16f/labled_tiles --num_cores 16 --batch_size 200 --dataset_id PRO_TILES_LABLED\n",
      "['save_tiles', PosixPath('file:/home/aukermaa/vmount/PRO_12-123/data/toy_data_set/01OV002-ed65cf94-8bc6-492b-9149-adc16f.svs'), '/home/aukermaa/vmount/PRO_12-123/tiling/01OV002-ed65cf94-8bc6-492b-9149-adc16f/labled_tiles', '--num_cores', '16', '--batch_size', '200', '--dataset_id', 'PRO_TILES_LABLED', '-o', '/home/aukermaa/vmount/PRO_12-123/tiling/01OV002-ed65cf94-8bc6-492b-9149-adc16f/saved_tiles']\n"
     ]
    },
    {
     "name": "stderr",
     "output_type": "stream",
     "text": [
      " 93%|█████████▎| 41125/44304 [00:44<00:02, 1174.51it/s]2022-04-29 19:01:18,925 - INFO - root - Initalized logger, log file at: data-processing.log\n",
      " 19%|█▉        | 19114/99258 [00:19<01:15, 1066.02it/s]2022-04-29 19:01:19,540 - INFO - luna.common.utils - Started CLI Runner wtih <function save_tiles at 0x7f4432ec0430>\n",
      "2022-04-29 19:01:19,542 - INFO - luna.common.utils - Validating params...\n",
      "2022-04-29 19:01:19,544 - INFO - luna.common.utils -  -> Set input_slide_image (<class 'str'>) = file:/home/aukermaa/vmount/PRO_12-123/data/toy_data_set/01OV008-7579323e-2fae-43a9-b00f-a15c28.svs\n",
      "2022-04-29 19:01:19,545 - INFO - luna.common.utils -  -> Set input_slide_tiles (<class 'str'>) = /home/aukermaa/vmount/PRO_12-123/tiling/01OV008-7579323e-2fae-43a9-b00f-a15c28/labled_tiles\n",
      "2022-04-29 19:01:19,546 - INFO - luna.common.utils -  -> Set output_dir (<class 'str'>) = /home/aukermaa/vmount/PRO_12-123/tiling/01OV008-7579323e-2fae-43a9-b00f-a15c28/saved_tiles\n",
      "2022-04-29 19:01:19,546 - INFO - luna.common.utils -  -> Set num_cores (<class 'int'>) = 16\n",
      "2022-04-29 19:01:19,547 - INFO - luna.common.utils -  -> Set batch_size (<class 'int'>) = 200\n",
      "2022-04-29 19:01:19,549 - INFO - luna.common.utils - Expanding inputs...\n",
      "2022-04-29 19:01:19,550 - INFO - luna.common.utils - Attempting to read metadata at file:/home/aukermaa/vmount/PRO_12-123/data/toy_data_set/01OV008-7579323e-2fae-43a9-b00f-a15c28.svs/metadata.yml\n",
      "2022-04-29 19:01:19,551 - INFO - luna.common.utils - Attempting to read metadata at /home/aukermaa/vmount/PRO_12-123/tiling/01OV008-7579323e-2fae-43a9-b00f-a15c28/labled_tiles/metadata.yml\n",
      "2022-04-29 19:01:19,555 - INFO - luna.common.utils - Expanded input:\n",
      "2022-04-29 19:01:19,555 - INFO - luna.common.utils -  -> /home/aukermaa/vmount/PRO_12-123/tiling/01OV008-7579323e-2fae-43a9-b00f-a15c28/labled_tiles\n",
      "2022-04-29 19:01:19,555 - INFO - luna.common.utils -  -> /home/aukermaa/vmount/PRO_12-123/tiling/01OV008-7579323e-2fae-43a9-b00f-a15c28/labled_tiles/01OV008-7579323e-2fae-43a9-b00f-a15c28.regional_label.tiles.parquet\n",
      "2022-04-29 19:01:19,556 - INFO - luna.common.utils - Found segment keys: {'dsa_collection_uuid': '626c0a1dbfa0f49e3e026f6a', 'slide_id': '01OV008-7579323e-2fae-43a9-b00f-a15c28'}\n",
      "2022-04-29 19:01:19,557 - INFO - luna.common.utils - Resolved input:\n",
      "2022-04-29 19:01:19,557 - INFO - luna.common.utils -  -> file:/home/aukermaa/vmount/PRO_12-123/data/toy_data_set/01OV008-7579323e-2fae-43a9-b00f-a15c28.svs\n",
      "2022-04-29 19:01:19,557 - INFO - luna.common.utils -  -> /home/aukermaa/vmount/PRO_12-123/data/toy_data_set/01OV008-7579323e-2fae-43a9-b00f-a15c28.svs\n",
      "2022-04-29 19:01:19,558 - INFO - luna.common.utils - Resolved input:\n",
      "2022-04-29 19:01:19,558 - INFO - luna.common.utils -  -> /home/aukermaa/vmount/PRO_12-123/tiling/01OV008-7579323e-2fae-43a9-b00f-a15c28/labled_tiles/01OV008-7579323e-2fae-43a9-b00f-a15c28.regional_label.tiles.parquet\n",
      "2022-04-29 19:01:19,558 - INFO - luna.common.utils -  -> /home/aukermaa/vmount/PRO_12-123/tiling/01OV008-7579323e-2fae-43a9-b00f-a15c28/labled_tiles/01OV008-7579323e-2fae-43a9-b00f-a15c28.regional_label.tiles.parquet\n",
      "2022-04-29 19:01:19,559 - INFO - luna.common.utils - Full segment key set: {'dsa_collection_uuid': '626c0a1dbfa0f49e3e026f6a', 'slide_id': '01OV008-7579323e-2fae-43a9-b00f-a15c28'}\n",
      "2022-04-29 19:01:19,560 - INFO - luna.common.utils - ------------------------------------------------------------\n",
      "2022-04-29 19:01:19,560 - INFO - luna.common.utils -  Starting transform::save_tiles \n",
      "2022-04-29 19:01:19,560 - INFO - luna.common.utils - ------------------------------------------------------------\n",
      " 19%|█▉        | 19223/99258 [00:19<01:14, 1071.36it/s]2022-04-29 19:01:19,607 - INFO - generate_tiles - Now generating tiles with num_cores=16 and batch_size=200!\n",
      " 98%|█████████▊| 43497/44304 [00:46<00:00, 1236.36it/s]2022-04-29 19:01:20,826 - INFO - luna.common.utils - Started CLI Runner wtih <function save_tiles at 0x7f95781c9430>\n",
      "2022-04-29 19:01:20,828 - INFO - luna.common.utils - Validating params...\n",
      "2022-04-29 19:01:20,830 - INFO - luna.common.utils -  -> Set input_slide_image (<class 'str'>) = file:/home/aukermaa/vmount/PRO_12-123/data/toy_data_set/01OV002-ed65cf94-8bc6-492b-9149-adc16f.svs\n",
      "2022-04-29 19:01:20,831 - INFO - luna.common.utils -  -> Set input_slide_tiles (<class 'str'>) = /home/aukermaa/vmount/PRO_12-123/tiling/01OV002-ed65cf94-8bc6-492b-9149-adc16f/labled_tiles\n",
      " 21%|██        | 20610/99258 [00:20<01:11, 1093.13it/s]2022-04-29 19:01:20,833 - INFO - luna.common.utils -  -> Set output_dir (<class 'str'>) = /home/aukermaa/vmount/PRO_12-123/tiling/01OV002-ed65cf94-8bc6-492b-9149-adc16f/saved_tiles\n",
      "2022-04-29 19:01:20,834 - INFO - luna.common.utils -  -> Set num_cores (<class 'int'>) = 16\n",
      "2022-04-29 19:01:20,835 - INFO - luna.common.utils -  -> Set batch_size (<class 'int'>) = 200\n",
      "2022-04-29 19:01:20,838 - INFO - luna.common.utils - Expanding inputs...\n",
      "2022-04-29 19:01:20,839 - INFO - luna.common.utils - Attempting to read metadata at file:/home/aukermaa/vmount/PRO_12-123/data/toy_data_set/01OV002-ed65cf94-8bc6-492b-9149-adc16f.svs/metadata.yml\n",
      "2022-04-29 19:01:20,840 - INFO - luna.common.utils - Attempting to read metadata at /home/aukermaa/vmount/PRO_12-123/tiling/01OV002-ed65cf94-8bc6-492b-9149-adc16f/labled_tiles/metadata.yml\n",
      "2022-04-29 19:01:20,844 - INFO - luna.common.utils - Expanded input:\n",
      "2022-04-29 19:01:20,844 - INFO - luna.common.utils -  -> /home/aukermaa/vmount/PRO_12-123/tiling/01OV002-ed65cf94-8bc6-492b-9149-adc16f/labled_tiles\n",
      "2022-04-29 19:01:20,844 - INFO - luna.common.utils -  -> /home/aukermaa/vmount/PRO_12-123/tiling/01OV002-ed65cf94-8bc6-492b-9149-adc16f/labled_tiles/01OV002-ed65cf94-8bc6-492b-9149-adc16f.regional_label.tiles.parquet\n",
      "2022-04-29 19:01:20,845 - INFO - luna.common.utils - Found segment keys: {'dsa_collection_uuid': '626c0a1dbfa0f49e3e026f6a', 'slide_id': '01OV002-ed65cf94-8bc6-492b-9149-adc16f'}\n",
      "2022-04-29 19:01:20,847 - INFO - luna.common.utils - Resolved input:\n",
      "2022-04-29 19:01:20,847 - INFO - luna.common.utils -  -> file:/home/aukermaa/vmount/PRO_12-123/data/toy_data_set/01OV002-ed65cf94-8bc6-492b-9149-adc16f.svs\n",
      "2022-04-29 19:01:20,847 - INFO - luna.common.utils -  -> /home/aukermaa/vmount/PRO_12-123/data/toy_data_set/01OV002-ed65cf94-8bc6-492b-9149-adc16f.svs\n",
      "2022-04-29 19:01:20,848 - INFO - luna.common.utils - Resolved input:\n",
      "2022-04-29 19:01:20,848 - INFO - luna.common.utils -  -> /home/aukermaa/vmount/PRO_12-123/tiling/01OV002-ed65cf94-8bc6-492b-9149-adc16f/labled_tiles/01OV002-ed65cf94-8bc6-492b-9149-adc16f.regional_label.tiles.parquet\n",
      "2022-04-29 19:01:20,848 - INFO - luna.common.utils -  -> /home/aukermaa/vmount/PRO_12-123/tiling/01OV002-ed65cf94-8bc6-492b-9149-adc16f/labled_tiles/01OV002-ed65cf94-8bc6-492b-9149-adc16f.regional_label.tiles.parquet\n",
      "2022-04-29 19:01:20,849 - INFO - luna.common.utils - Full segment key set: {'dsa_collection_uuid': '626c0a1dbfa0f49e3e026f6a', 'slide_id': '01OV002-ed65cf94-8bc6-492b-9149-adc16f'}\n",
      "2022-04-29 19:01:20,851 - INFO - luna.common.utils - ------------------------------------------------------------\n",
      "2022-04-29 19:01:20,851 - INFO - luna.common.utils -  Starting transform::save_tiles \n",
      "2022-04-29 19:01:20,851 - INFO - luna.common.utils - ------------------------------------------------------------\n",
      " 98%|█████████▊| 43621/44304 [00:46<00:00, 1234.70it/s]2022-04-29 19:01:20,904 - INFO - generate_tiles - Now generating tiles with num_cores=16 and batch_size=200!\n",
      " 21%|██▏       | 21177/99258 [00:20<01:09, 1124.76it/s]"
     ]
    },
    {
     "name": "stdout",
     "output_type": "stream",
     "text": [
      "\r",
      "  0%|          | 0/83 [00:00<?, ?it/s]"
     ]
    },
    {
     "name": "stderr",
     "output_type": "stream",
     "text": [
      "100%|██████████| 44304/44304 [00:46<00:00, 942.73it/s] \n",
      "2022-04-29 19:01:21,477 - INFO - detect_tissue - Filtering based on query: otsu_score > 0.1\n",
      "2022-04-29 19:01:21,496 - INFO - detect_tissue -                  x_coord  y_coord  xy_extent  tile_size tile_units  otsu_score\n",
      "2022-04-29 19:01:21,496 - INFO - detect_tissue - address                                                                       \n",
      "2022-04-29 19:01:21,496 - INFO - detect_tissue - x3_y58_z20.0         768    14848        256        128         px        0.16\n",
      "2022-04-29 19:01:21,496 - INFO - detect_tissue - x6_y171_z20.0       1536    43776        256        128         px        0.16\n",
      "2022-04-29 19:01:21,496 - INFO - detect_tissue - x6_y172_z20.0       1536    44032        256        128         px        0.47\n",
      "2022-04-29 19:01:21,496 - INFO - detect_tissue - x6_y173_z20.0       1536    44288        256        128         px        0.45\n",
      "2022-04-29 19:01:21,496 - INFO - detect_tissue - x6_y174_z20.0       1536    44544        256        128         px        0.35\n",
      "2022-04-29 19:01:21,496 - INFO - detect_tissue - ...                  ...      ...        ...        ...        ...         ...\n",
      "2022-04-29 19:01:21,496 - INFO - detect_tissue - x188_y118_z20.0    48128    30208        256        128         px        0.21\n",
      "2022-04-29 19:01:21,496 - INFO - detect_tissue - x193_y206_z20.0    49408    52736        256        128         px        0.14\n",
      "2022-04-29 19:01:21,496 - INFO - detect_tissue - x200_y167_z20.0    51200    42752        256        128         px        0.15\n",
      "2022-04-29 19:01:21,496 - INFO - detect_tissue - x201_y198_z20.0    51456    50688        256        128         px        0.12\n",
      "2022-04-29 19:01:21,496 - INFO - detect_tissue - x207_y208_z20.0    52992    53248        256        128         px        0.11\n",
      "2022-04-29 19:01:21,496 - INFO - detect_tissue - \n",
      "2022-04-29 19:01:21,496 - INFO - detect_tissue - [19982 rows x 6 columns]\n",
      "2022-04-29 19:01:21,533 - INFO - luna.common.utils - Code block 'transform::detect_tissue' took: 75.2475611642003s\n",
      "2022-04-29 19:01:21,535 - INFO - luna.common.utils - ------------------------------------------------------------\n",
      "2022-04-29 19:01:21,535 - INFO - luna.common.utils -  Done with transform, running post-transform functions... \n",
      "2022-04-29 19:01:21,535 - INFO - luna.common.utils - ------------------------------------------------------------\n",
      " 22%|██▏       | 21414/99258 [00:21<01:07, 1151.74it/s]2022-04-29 19:01:21,540 - INFO - luna.common.utils - Done.\n",
      " 22%|██▏       | 21647/99258 [00:21<01:08, 1133.53it/s]"
     ]
    },
    {
     "name": "stdout",
     "output_type": "stream",
     "text": [
      "\r",
      "  1%|          | 1/83 [00:00<00:30,  2.71it/s]\r",
      "  2%|▏         | 2/83 [00:00<00:17,  4.64it/s]"
     ]
    },
    {
     "name": "stderr",
     "output_type": "stream",
     "text": [
      "\r",
      " 22%|██▏       | 21761/99258 [00:21<01:08, 1130.85it/s]\r",
      " 22%|██▏       | 21875/99258 [00:21<01:09, 1120.16it/s]"
     ]
    },
    {
     "name": "stdout",
     "output_type": "stream",
     "text": [
      "\r",
      "  5%|▍         | 4/83 [00:00<00:11,  7.13it/s]label_tiles ../PRO_12-123/data/toy_data_set/table/ANNOTATIONS /home/aukermaa/vmount/PRO_12-123/tiling/01OV002-bd8cdc70-3d46-40ae-99c4-90ef77/detected_tiles\n",
      "['label_tiles', PosixPath('../PRO_12-123/data/toy_data_set/table/ANNOTATIONS'), '/home/aukermaa/vmount/PRO_12-123/tiling/01OV002-bd8cdc70-3d46-40ae-99c4-90ef77/detected_tiles', '-o', '/home/aukermaa/vmount/PRO_12-123/tiling/01OV002-bd8cdc70-3d46-40ae-99c4-90ef77/labled_tiles']\n",
      "\r",
      "  6%|▌         | 5/83 [00:00<00:10,  7.21it/s]"
     ]
    },
    {
     "name": "stderr",
     "output_type": "stream",
     "text": [
      "\r",
      " 22%|██▏       | 21988/99258 [00:21<01:10, 1103.27it/s]\r",
      " 22%|██▏       | 22102/99258 [00:21<01:09, 1112.97it/s]"
     ]
    },
    {
     "name": "stdout",
     "output_type": "stream",
     "text": [
      "\r",
      "  8%|▊         | 7/83 [00:00<00:07,  9.74it/s]\r",
      " 12%|█▏        | 10/83 [00:01<00:05, 13.93it/s]"
     ]
    },
    {
     "name": "stderr",
     "output_type": "stream",
     "text": [
      "\r",
      " 22%|██▏       | 22216/99258 [00:21<01:08, 1120.04it/s]\r",
      " 22%|██▏       | 22333/99258 [00:21<01:07, 1133.59it/s]"
     ]
    },
    {
     "name": "stdout",
     "output_type": "stream",
     "text": [
      "\r",
      " 16%|█▌        | 13/83 [00:01<00:04, 15.82it/s]\r",
      " 19%|█▉        | 16/83 [00:01<00:03, 19.11it/s]\r",
      "  0%|          | 0/92 [00:00<?, ?it/s]"
     ]
    },
    {
     "name": "stderr",
     "output_type": "stream",
     "text": [
      " 23%|██▎       | 23008/99258 [00:22<01:09, 1104.47it/s]"
     ]
    },
    {
     "name": "stdout",
     "output_type": "stream",
     "text": [
      "\r",
      " 23%|██▎       | 19/83 [00:01<00:04, 13.43it/s]\r",
      " 25%|██▌       | 21/83 [00:01<00:04, 13.01it/s]"
     ]
    },
    {
     "name": "stderr",
     "output_type": "stream",
     "text": [
      "\r",
      " 23%|██▎       | 23119/99258 [00:22<01:09, 1091.21it/s]\r",
      " 23%|██▎       | 23231/99258 [00:22<01:09, 1098.12it/s]2022-04-29 19:01:23,259 - INFO - root - Initalized logger, log file at: data-processing.log\n",
      "2022-04-29 19:01:23,261 - INFO - luna.common.utils - Started CLI Runner wtih <function generate_tile_labels at 0x7f2a2bee6f70>\n",
      "2022-04-29 19:01:23,268 - INFO - luna.common.utils - Validating params...\n",
      "2022-04-29 19:01:23,269 - INFO - luna.common.utils -  -> Set input_slide_annotation_dataset (<class 'str'>) = ../PRO_12-123/data/toy_data_set/table/ANNOTATIONS\n",
      "2022-04-29 19:01:23,270 - INFO - luna.common.utils -  -> Set input_slide_tiles (<class 'str'>) = /home/aukermaa/vmount/PRO_12-123/tiling/01OV002-bd8cdc70-3d46-40ae-99c4-90ef77/detected_tiles\n",
      "2022-04-29 19:01:23,271 - INFO - luna.common.utils -  -> Set output_dir (<class 'str'>) = /home/aukermaa/vmount/PRO_12-123/tiling/01OV002-bd8cdc70-3d46-40ae-99c4-90ef77/labled_tiles\n",
      "2022-04-29 19:01:23,273 - INFO - luna.common.utils - Expanding inputs...\n",
      "2022-04-29 19:01:23,275 - INFO - luna.common.utils - Attempting to read metadata at ../PRO_12-123/data/toy_data_set/table/ANNOTATIONS/metadata.yml\n",
      "2022-04-29 19:01:23,278 - INFO - luna.common.utils - Expanded input:\n",
      "2022-04-29 19:01:23,278 - INFO - luna.common.utils -  -> ../PRO_12-123/data/toy_data_set/table/ANNOTATIONS\n",
      "2022-04-29 19:01:23,278 - INFO - luna.common.utils -  -> ../PRO_12-123/data/toy_data_set/table/ANNOTATIONS/slide_annotation_dataset_TCGA collection_ov_regional.parquet\n",
      "2022-04-29 19:01:23,281 - INFO - luna.common.utils - Found segment keys: {'dsa_collection_uuid': '626c0a1dbfa0f49e3e026f6a'}\n",
      "2022-04-29 19:01:23,281 - INFO - luna.common.utils - Attempting to read metadata at /home/aukermaa/vmount/PRO_12-123/tiling/01OV002-bd8cdc70-3d46-40ae-99c4-90ef77/detected_tiles/metadata.yml\n",
      "2022-04-29 19:01:23,285 - INFO - luna.common.utils - Expanded input:\n",
      "2022-04-29 19:01:23,285 - INFO - luna.common.utils -  -> /home/aukermaa/vmount/PRO_12-123/tiling/01OV002-bd8cdc70-3d46-40ae-99c4-90ef77/detected_tiles\n",
      "2022-04-29 19:01:23,285 - INFO - luna.common.utils -  -> /home/aukermaa/vmount/PRO_12-123/tiling/01OV002-bd8cdc70-3d46-40ae-99c4-90ef77/detected_tiles/01OV002-bd8cdc70-3d46-40ae-99c4-90ef77-filtered.tiles.parquet\n",
      "2022-04-29 19:01:23,286 - INFO - luna.common.utils - Found segment keys: {'slide_id': '01OV002-bd8cdc70-3d46-40ae-99c4-90ef77'}\n",
      "2022-04-29 19:01:23,288 - INFO - luna.common.utils - Resolved input:\n",
      "2022-04-29 19:01:23,288 - INFO - luna.common.utils -  -> ../PRO_12-123/data/toy_data_set/table/ANNOTATIONS/slide_annotation_dataset_TCGA collection_ov_regional.parquet\n",
      "2022-04-29 19:01:23,288 - INFO - luna.common.utils -  -> /home/aukermaa/vmount/PRO_12-123/data/toy_data_set/table/ANNOTATIONS/slide_annotation_dataset_TCGA collection_ov_regional.parquet\n",
      "2022-04-29 19:01:23,289 - INFO - luna.common.utils - Resolved input:\n",
      "2022-04-29 19:01:23,289 - INFO - luna.common.utils -  -> /home/aukermaa/vmount/PRO_12-123/tiling/01OV002-bd8cdc70-3d46-40ae-99c4-90ef77/detected_tiles/01OV002-bd8cdc70-3d46-40ae-99c4-90ef77-filtered.tiles.parquet\n",
      "2022-04-29 19:01:23,289 - INFO - luna.common.utils -  -> /home/aukermaa/vmount/PRO_12-123/tiling/01OV002-bd8cdc70-3d46-40ae-99c4-90ef77/detected_tiles/01OV002-bd8cdc70-3d46-40ae-99c4-90ef77-filtered.tiles.parquet\n",
      "2022-04-29 19:01:23,291 - INFO - luna.common.utils - Full segment key set: {'dsa_collection_uuid': '626c0a1dbfa0f49e3e026f6a', 'slide_id': '01OV002-bd8cdc70-3d46-40ae-99c4-90ef77'}\n",
      "2022-04-29 19:01:23,292 - INFO - luna.common.utils - ------------------------------------------------------------\n",
      "2022-04-29 19:01:23,292 - INFO - luna.common.utils -  Starting transform::generate_tile_labels \n",
      "2022-04-29 19:01:23,292 - INFO - luna.common.utils - ------------------------------------------------------------\n",
      "2022-04-29 19:01:23,293 - INFO - generate_tile_labels - slide_id=01OV002-bd8cdc70-3d46-40ae-99c4-90ef77\n"
     ]
    },
    {
     "name": "stdout",
     "output_type": "stream",
     "text": [
      "\r",
      " 28%|██▊       | 23/83 [00:01<00:04, 13.69it/s]\r",
      " 31%|███▏      | 26/83 [00:02<00:03, 16.65it/s]\r",
      "  1%|          | 1/92 [00:00<01:08,  1.32it/s]../PRO_12-123/data/toy_data_set/table/ANNOTATIONS/01OV002-bd8cdc70-3d46-40ae-99c4-90ef77.annotation.geojson TCGA collection ov_regional\n"
     ]
    },
    {
     "name": "stderr",
     "output_type": "stream",
     "text": [
      "\r",
      " 24%|██▎       | 23342/99258 [00:22<01:09, 1089.09it/s]\r",
      "  0%|          | 0/19982 [00:00<?, ?it/s]\r",
      " 24%|██▎       | 23453/99258 [00:22<01:09, 1094.81it/s]\r",
      "  3%|▎         | 509/19982 [00:00<00:03, 5084.05it/s]"
     ]
    },
    {
     "name": "stdout",
     "output_type": "stream",
     "text": [
      "\r",
      " 34%|███▎      | 28/83 [00:02<00:03, 16.95it/s]\r",
      "  2%|▏         | 2/92 [00:00<00:36,  2.49it/s]"
     ]
    },
    {
     "name": "stderr",
     "output_type": "stream",
     "text": [
      "\r",
      " 24%|██▎       | 23564/99258 [00:23<01:09, 1094.63it/s]\r",
      "  5%|▌         | 1053/19982 [00:00<00:03, 5287.72it/s]\r",
      " 24%|██▍       | 23679/99258 [00:23<01:08, 1110.91it/s]\r",
      "  8%|▊         | 1606/19982 [00:00<00:03, 5394.46it/s]"
     ]
    },
    {
     "name": "stdout",
     "output_type": "stream",
     "text": [
      "\r",
      " 36%|███▌      | 30/83 [00:02<00:03, 14.03it/s]\r",
      "  3%|▎         | 3/92 [00:01<00:27,  3.20it/s]\r",
      " 39%|███▊      | 32/83 [00:02<00:03, 15.02it/s]"
     ]
    },
    {
     "name": "stderr",
     "output_type": "stream",
     "text": [
      "\r",
      " 24%|██▍       | 23792/99258 [00:23<01:07, 1115.10it/s]\r",
      " 11%|█         | 2173/19982 [00:00<00:03, 5500.37it/s]\r",
      " 24%|██▍       | 23909/99258 [00:23<01:06, 1129.08it/s]\r",
      " 14%|█▎        | 2724/19982 [00:00<00:03, 5498.88it/s]\r",
      " 24%|██▍       | 24026/99258 [00:23<01:05, 1140.21it/s]"
     ]
    },
    {
     "name": "stdout",
     "output_type": "stream",
     "text": [
      "\r",
      " 41%|████      | 34/83 [00:02<00:03, 14.98it/s]\r",
      "  5%|▌         | 5/92 [00:01<00:17,  4.99it/s]\r",
      "  8%|▊         | 7/92 [00:01<00:11,  7.14it/s]"
     ]
    },
    {
     "name": "stderr",
     "output_type": "stream",
     "text": [
      "\r",
      " 16%|█▋        | 3279/19982 [00:00<00:03, 5516.01it/s]\r",
      " 24%|██▍       | 24141/99258 [00:23<01:05, 1140.10it/s]\r",
      " 19%|█▉        | 3855/19982 [00:00<00:02, 5594.15it/s]\r",
      " 24%|██▍       | 24256/99258 [00:23<01:06, 1132.56it/s]"
     ]
    },
    {
     "name": "stdout",
     "output_type": "stream",
     "text": [
      "\r",
      " 43%|████▎     | 36/83 [00:02<00:03, 12.28it/s]\r",
      " 11%|█         | 10/92 [00:01<00:08, 10.24it/s]\r",
      " 46%|████▌     | 38/83 [00:03<00:03, 11.96it/s]"
     ]
    },
    {
     "name": "stderr",
     "output_type": "stream",
     "text": [
      "\r",
      " 22%|██▏       | 4415/19982 [00:00<00:02, 5526.99it/s]\r",
      " 25%|██▍       | 24370/99258 [00:23<01:06, 1126.06it/s]\r",
      " 25%|██▍       | 4968/19982 [00:00<00:02, 5439.42it/s]\r",
      " 25%|██▍       | 24483/99258 [00:23<01:06, 1123.95it/s]"
     ]
    },
    {
     "name": "stdout",
     "output_type": "stream",
     "text": [
      "\r",
      " 14%|█▍        | 13/92 [00:01<00:05, 13.44it/s]\r",
      " 48%|████▊     | 40/83 [00:03<00:03, 13.02it/s]"
     ]
    },
    {
     "name": "stderr",
     "output_type": "stream",
     "text": [
      "\r",
      " 28%|██▊       | 5513/19982 [00:01<00:02, 5358.15it/s]\r",
      " 25%|██▍       | 24596/99258 [00:24<01:06, 1118.70it/s]\r",
      " 30%|███       | 6050/19982 [00:01<00:02, 5320.59it/s]\r",
      " 25%|██▍       | 24708/99258 [00:24<01:07, 1110.85it/s]"
     ]
    },
    {
     "name": "stdout",
     "output_type": "stream",
     "text": [
      "\r",
      " 16%|█▋        | 15/92 [00:01<00:06, 12.20it/s]\r",
      " 51%|█████     | 42/83 [00:03<00:03, 13.58it/s]\r",
      " 18%|█▊        | 17/92 [00:02<00:06, 12.37it/s]\r",
      " 53%|█████▎    | 44/83 [00:03<00:02, 13.36it/s]"
     ]
    },
    {
     "name": "stderr",
     "output_type": "stream",
     "text": [
      " 44%|████▍     | 8763/19982 [00:01<00:02, 5348.27it/s]]"
     ]
    },
    {
     "name": "stdout",
     "output_type": "stream",
     "text": [
      "\r",
      " 55%|█████▌    | 46/83 [00:03<00:03, 12.12it/s]\r",
      " 21%|██        | 19/92 [00:02<00:06, 11.20it/s]\r",
      " 58%|█████▊    | 48/83 [00:03<00:02, 12.73it/s]"
     ]
    },
    {
     "name": "stderr",
     "output_type": "stream",
     "text": [
      "\r",
      " 25%|██▌       | 25281/99258 [00:24<01:05, 1133.10it/s]\r",
      " 47%|████▋     | 9298/19982 [00:01<00:02, 5301.64it/s]\r",
      " 26%|██▌       | 25396/99258 [00:24<01:05, 1129.48it/s]\r",
      " 49%|████▉     | 9829/19982 [00:01<00:01, 5294.69it/s]\r",
      " 26%|██▌       | 25512/99258 [00:24<01:05, 1132.56it/s]"
     ]
    },
    {
     "name": "stdout",
     "output_type": "stream",
     "text": [
      "\r",
      " 23%|██▎       | 21/92 [00:02<00:06, 10.66it/s]\r",
      " 61%|██████▏   | 51/83 [00:03<00:02, 13.60it/s]\r",
      " 25%|██▌       | 23/92 [00:02<00:06, 11.28it/s]"
     ]
    },
    {
     "name": "stderr",
     "output_type": "stream",
     "text": [
      "\r",
      " 52%|█████▏    | 10368/19982 [00:01<00:01, 5321.33it/s]\r",
      " 26%|██▌       | 25626/99258 [00:24<01:05, 1123.57it/s]\r",
      " 55%|█████▍    | 10901/19982 [00:02<00:01, 5211.13it/s]\r",
      " 26%|██▌       | 25739/99258 [00:25<01:06, 1110.50it/s]"
     ]
    },
    {
     "name": "stdout",
     "output_type": "stream",
     "text": [
      "\r",
      " 64%|██████▍   | 53/83 [00:04<00:02, 13.90it/s]\r",
      " 27%|██▋       | 25/92 [00:02<00:05, 12.18it/s]\r",
      " 66%|██████▋   | 55/83 [00:04<00:01, 15.14it/s]"
     ]
    },
    {
     "name": "stderr",
     "output_type": "stream",
     "text": [
      "\r",
      " 57%|█████▋    | 11423/19982 [00:02<00:01, 5135.94it/s]\r",
      " 26%|██▌       | 25851/99258 [00:25<01:06, 1106.86it/s]\r",
      " 26%|██▌       | 25962/99258 [00:25<01:06, 1104.89it/s]\r",
      " 60%|█████▉    | 11938/19982 [00:02<00:01, 5084.14it/s]"
     ]
    },
    {
     "name": "stdout",
     "output_type": "stream",
     "text": [
      "\r",
      " 29%|██▉       | 27/92 [00:03<00:05, 11.46it/s]\r",
      " 69%|██████▊   | 57/83 [00:04<00:01, 14.23it/s]\r",
      " 71%|███████   | 59/83 [00:04<00:01, 13.84it/s]"
     ]
    },
    {
     "name": "stderr",
     "output_type": "stream",
     "text": [
      "\r",
      " 62%|██████▏   | 12447/19982 [00:02<00:01, 5052.97it/s]\r",
      " 26%|██▋       | 26073/99258 [00:25<01:07, 1082.29it/s]\r",
      " 65%|██████▍   | 12953/19982 [00:02<00:01, 5041.65it/s]\r",
      " 26%|██▋       | 26182/99258 [00:25<01:07, 1080.88it/s]"
     ]
    },
    {
     "name": "stdout",
     "output_type": "stream",
     "text": [
      "\r",
      " 32%|███▏      | 29/92 [00:03<00:06,  9.66it/s]\r",
      " 73%|███████▎  | 61/83 [00:04<00:01, 13.27it/s]"
     ]
    },
    {
     "name": "stderr",
     "output_type": "stream",
     "text": [
      "\r",
      " 68%|██████▊   | 13490/19982 [00:02<00:01, 5136.05it/s]\r",
      " 26%|██▋       | 26291/99258 [00:25<01:08, 1070.86it/s]\r",
      " 70%|███████   | 14015/19982 [00:02<00:01, 5167.62it/s]\r",
      " 27%|██▋       | 26401/99258 [00:25<01:07, 1078.80it/s]"
     ]
    },
    {
     "name": "stdout",
     "output_type": "stream",
     "text": [
      "\r",
      " 77%|███████▋  | 64/83 [00:04<00:01, 15.33it/s]\r",
      " 34%|███▎      | 31/92 [00:03<00:06,  8.99it/s]\r",
      " 35%|███▍      | 32/92 [00:03<00:06,  8.75it/s]"
     ]
    },
    {
     "name": "stderr",
     "output_type": "stream",
     "text": [
      " 27%|██▋       | 26834/99258 [00:26<01:09, 1047.36it/s]"
     ]
    },
    {
     "name": "stdout",
     "output_type": "stream",
     "text": [
      "\r",
      " 81%|████████  | 67/83 [00:05<00:01, 13.48it/s]\r",
      " 37%|███▋      | 34/92 [00:03<00:05, 10.06it/s]"
     ]
    },
    {
     "name": "stderr",
     "output_type": "stream",
     "text": [
      "\r",
      " 83%|████████▎ | 16680/19982 [00:03<00:00, 5337.00it/s]\r",
      " 27%|██▋       | 26939/99258 [00:26<01:10, 1026.51it/s]\r",
      " 86%|████████▋ | 17262/19982 [00:03<00:00, 5479.52it/s]\r",
      " 27%|██▋       | 27042/99258 [00:26<01:11, 1004.42it/s]\r",
      " 89%|████████▉ | 17835/19982 [00:03<00:00, 5551.12it/s]"
     ]
    },
    {
     "name": "stdout",
     "output_type": "stream",
     "text": [
      "\r",
      " 83%|████████▎ | 69/83 [00:05<00:01, 12.34it/s]\r",
      " 40%|████      | 37/92 [00:04<00:04, 12.35it/s]\r",
      " 43%|████▎     | 40/92 [00:04<00:03, 13.83it/s]"
     ]
    },
    {
     "name": "stderr",
     "output_type": "stream",
     "text": [
      "\r",
      " 27%|██▋       | 27148/99258 [00:26<01:11, 1015.48it/s]\r",
      " 92%|█████████▏| 18416/19982 [00:03<00:00, 5627.45it/s]\r",
      " 27%|██▋       | 27254/99258 [00:26<01:10, 1028.32it/s]\r",
      " 95%|█████████▌| 19004/19982 [00:03<00:00, 5701.18it/s]"
     ]
    },
    {
     "name": "stdout",
     "output_type": "stream",
     "text": [
      "\r",
      " 86%|████████▌ | 71/83 [00:05<00:01, 11.02it/s]\r",
      " 46%|████▌     | 42/92 [00:04<00:03, 13.68it/s]\r",
      " 88%|████████▊ | 73/83 [00:05<00:00, 12.36it/s]"
     ]
    },
    {
     "name": "stderr",
     "output_type": "stream",
     "text": [
      "\r",
      " 28%|██▊       | 27363/99258 [00:26<01:08, 1045.14it/s]\r",
      " 98%|█████████▊| 19607/19982 [00:03<00:00, 5797.89it/s]\r",
      " 28%|██▊       | 27472/99258 [00:26<01:07, 1057.87it/s]\r",
      "100%|██████████| 19982/19982 [00:03<00:00, 5371.33it/s]\n",
      "2022-04-29 19:01:27,128 - INFO - generate_tile_labels -                  x_coord  y_coord  ...  regional_label  intersection_area\n",
      "2022-04-29 19:01:27,128 - INFO - generate_tile_labels - address                            ...                                   \n",
      "2022-04-29 19:01:27,128 - INFO - generate_tile_labels - x52_y114_z20.0     13312    29184  ...          stroma           0.055345\n",
      "2022-04-29 19:01:27,128 - INFO - generate_tile_labels - x53_y113_z20.0     13568    28928  ...          stroma           0.212376\n",
      "2022-04-29 19:01:27,128 - INFO - generate_tile_labels - x53_y114_z20.0     13568    29184  ...          stroma           0.965976\n",
      "2022-04-29 19:01:27,128 - INFO - generate_tile_labels - x53_y115_z20.0     13568    29440  ...          stroma           0.344496\n",
      "2022-04-29 19:01:27,128 - INFO - generate_tile_labels - x54_y112_z20.0     13824    28672  ...          stroma           0.061422\n",
      "2022-04-29 19:01:27,128 - INFO - generate_tile_labels - ...                  ...      ...  ...             ...                ...\n",
      "2022-04-29 19:01:27,128 - INFO - generate_tile_labels - x131_y146_z20.0    33536    37376  ...           tumor           0.166847\n",
      "2022-04-29 19:01:27,128 - INFO - generate_tile_labels - x131_y147_z20.0    33536    37632  ...           tumor           0.096977\n",
      "2022-04-29 19:01:27,128 - INFO - generate_tile_labels - x132_y140_z20.0    33792    35840  ...           tumor           0.245755\n",
      "2022-04-29 19:01:27,128 - INFO - generate_tile_labels - x132_y141_z20.0    33792    36096  ...           tumor           0.504036\n",
      "2022-04-29 19:01:27,128 - INFO - generate_tile_labels - x132_y142_z20.0    33792    36352  ...           tumor           0.250175\n",
      "2022-04-29 19:01:27,128 - INFO - generate_tile_labels - \n",
      "2022-04-29 19:01:27,128 - INFO - generate_tile_labels - [513 rows x 8 columns]\n",
      "\r",
      " 28%|██▊       | 27582/99258 [00:26<01:07, 1068.04it/s]"
     ]
    },
    {
     "name": "stdout",
     "output_type": "stream",
     "text": [
      "\r",
      " 48%|████▊     | 44/92 [00:04<00:03, 13.77it/s]\r",
      " 90%|█████████ | 75/83 [00:05<00:00, 12.18it/s]\r",
      " 93%|█████████▎| 77/83 [00:05<00:00, 13.43it/s]\r",
      " 50%|█████     | 46/92 [00:04<00:03, 12.40it/s]"
     ]
    },
    {
     "name": "stderr",
     "output_type": "stream",
     "text": [
      "2022-04-29 19:01:27,192 - INFO - luna.common.utils - Code block 'transform::generate_tile_labels' took: 3.8982560113072395s\n",
      "2022-04-29 19:01:27,197 - INFO - luna.common.utils - ------------------------------------------------------------\n",
      "2022-04-29 19:01:27,197 - INFO - luna.common.utils -  Done with transform, running post-transform functions... \n",
      "2022-04-29 19:01:27,197 - INFO - luna.common.utils - ------------------------------------------------------------\n",
      "2022-04-29 19:01:27,202 - INFO - luna.common.utils - Done.\n",
      "\r",
      " 28%|██▊       | 27693/99258 [00:26<01:06, 1075.75it/s]\r",
      " 28%|██▊       | 27804/99258 [00:26<01:05, 1085.72it/s]"
     ]
    },
    {
     "name": "stdout",
     "output_type": "stream",
     "text": [
      "\r",
      " 95%|█████████▌| 79/83 [00:06<00:00, 14.81it/s]save_tiles file:/home/aukermaa/vmount/PRO_12-123/data/toy_data_set/01OV002-bd8cdc70-3d46-40ae-99c4-90ef77.svs /home/aukermaa/vmount/PRO_12-123/tiling/01OV002-bd8cdc70-3d46-40ae-99c4-90ef77/labled_tiles --num_cores 16 --batch_size 200 --dataset_id PRO_TILES_LABLED\n",
      "['save_tiles', PosixPath('file:/home/aukermaa/vmount/PRO_12-123/data/toy_data_set/01OV002-bd8cdc70-3d46-40ae-99c4-90ef77.svs'), '/home/aukermaa/vmount/PRO_12-123/tiling/01OV002-bd8cdc70-3d46-40ae-99c4-90ef77/labled_tiles', '--num_cores', '16', '--batch_size', '200', '--dataset_id', 'PRO_TILES_LABLED', '-o', '/home/aukermaa/vmount/PRO_12-123/tiling/01OV002-bd8cdc70-3d46-40ae-99c4-90ef77/saved_tiles']\n",
      "\r",
      " 52%|█████▏    | 48/92 [00:04<00:03, 12.14it/s]\r",
      " 98%|█████████▊| 81/83 [00:06<00:00, 14.74it/s]"
     ]
    },
    {
     "name": "stderr",
     "output_type": "stream",
     "text": [
      "\r",
      " 28%|██▊       | 27915/99258 [00:27<01:05, 1091.91it/s]\r",
      " 28%|██▊       | 28029/99258 [00:27<01:04, 1102.19it/s]"
     ]
    },
    {
     "name": "stdout",
     "output_type": "stream",
     "text": [
      "\r",
      "100%|██████████| 83/83 [00:06<00:00, 14.35it/s]\r",
      "100%|██████████| 83/83 [00:06<00:00, 13.10it/s]\r",
      " 55%|█████▌    | 51/92 [00:05<00:03, 12.85it/s]\r",
      " 58%|█████▊    | 53/92 [00:05<00:02, 13.87it/s]"
     ]
    },
    {
     "name": "stderr",
     "output_type": "stream",
     "text": [
      " 28%|██▊       | 28250/99258 [00:27<01:08, 1043.16it/s]2022-04-29 19:01:27,803 - INFO - generate_tiles -                  x_coord  ...                                         tile_store\n",
      "2022-04-29 19:01:27,803 - INFO - generate_tiles - address                   ...                                                   \n",
      "2022-04-29 19:01:27,803 - INFO - generate_tiles - x7_y134_z20.0       1792  ...  /home/aukermaa/vmount/PRO_12-123/tiling/01OV00...\n",
      "2022-04-29 19:01:27,803 - INFO - generate_tiles - x7_y135_z20.0       1792  ...  /home/aukermaa/vmount/PRO_12-123/tiling/01OV00...\n",
      "2022-04-29 19:01:27,803 - INFO - generate_tiles - x7_y136_z20.0       1792  ...  /home/aukermaa/vmount/PRO_12-123/tiling/01OV00...\n",
      "2022-04-29 19:01:27,803 - INFO - generate_tiles - x7_y146_z20.0       1792  ...  /home/aukermaa/vmount/PRO_12-123/tiling/01OV00...\n",
      "2022-04-29 19:01:27,803 - INFO - generate_tiles - x7_y147_z20.0       1792  ...  /home/aukermaa/vmount/PRO_12-123/tiling/01OV00...\n",
      "2022-04-29 19:01:27,803 - INFO - generate_tiles - ...                  ...  ...                                                ...\n",
      "2022-04-29 19:01:27,803 - INFO - generate_tiles - x139_y1_z20.0      35584  ...  /home/aukermaa/vmount/PRO_12-123/tiling/01OV00...\n",
      "2022-04-29 19:01:27,803 - INFO - generate_tiles - x148_y139_z20.0    37888  ...  /home/aukermaa/vmount/PRO_12-123/tiling/01OV00...\n",
      "2022-04-29 19:01:27,803 - INFO - generate_tiles - x149_y89_z20.0     38144  ...  /home/aukermaa/vmount/PRO_12-123/tiling/01OV00...\n",
      "2022-04-29 19:01:27,803 - INFO - generate_tiles - x159_y98_z20.0     40704  ...  /home/aukermaa/vmount/PRO_12-123/tiling/01OV00...\n",
      "2022-04-29 19:01:27,803 - INFO - generate_tiles - x159_y170_z20.0    40704  ...  /home/aukermaa/vmount/PRO_12-123/tiling/01OV00...\n",
      "2022-04-29 19:01:27,803 - INFO - generate_tiles - \n",
      "2022-04-29 19:01:27,803 - INFO - generate_tiles - [16496 rows x 9 columns]\n",
      "2022-04-29 19:01:27,864 - INFO - luna.common.utils - Code block 'transform::save_tiles' took: 8.303010568022728s\n",
      "2022-04-29 19:01:27,865 - INFO - luna.common.utils - ------------------------------------------------------------\n",
      "2022-04-29 19:01:27,865 - INFO - luna.common.utils -  Done with transform, running post-transform functions... \n",
      "2022-04-29 19:01:27,865 - INFO - luna.common.utils - ------------------------------------------------------------\n",
      "2022-04-29 19:01:27,870 - INFO - luna.common.utils - Adding feature segment /home/aukermaa/vmount/PRO_12-123/tiling/01OV008-7579323e-2fae-43a9-b00f-a15c28/saved_tiles/01OV008-7579323e-2fae-43a9-b00f-a15c28.tiles.parquet to PRO_TILES_LABLED\n",
      "2022-04-29 19:01:27,871 - INFO - luna.common.utils - Found dataset URL = file:////home/aukermaa/vmount/PRO_12-123/\n",
      "2022-04-29 19:01:27,872 - INFO - luna.common.utils - Adding /home/aukermaa/vmount/PRO_12-123/tiling/01OV008-7579323e-2fae-43a9-b00f-a15c28/saved_tiles/01OV008-7579323e-2fae-43a9-b00f-a15c28.tiles.parquet to PRO_TILES_LABLED via file:////home/aukermaa/vmount/PRO_12-123/\n",
      "2022-04-29 19:01:27,873 - INFO - luna.common.utils - SEGMENT_ID=626c0a1dbfa0f49e3e026f6a-01OV008-7579323e-2fae-43a9-b00f-a15c28\n",
      "2022-04-29 19:01:27,874 - INFO - luna.common.utils - Writing to: //home/aukermaa/vmount/PRO_12-123/datasets/PRO_TILES_LABLED/segments/626c0a1dbfa0f49e3e026f6a-01OV008-7579323e-2fae-43a9-b00f-a15c28\n",
      " 29%|██▊       | 28355/99258 [00:27<01:09, 1024.17it/s]2022-04-29 19:01:27,976 - INFO - luna.common.utils - Done.\n",
      " 29%|██▊       | 28458/99258 [00:27<01:15, 934.34it/s] "
     ]
    },
    {
     "name": "stdout",
     "output_type": "stream",
     "text": [
      "\n",
      "\r",
      " 61%|██████    | 56/92 [00:05<00:02, 12.36it/s]"
     ]
    },
    {
     "name": "stderr",
     "output_type": "stream",
     "text": [
      "\r",
      " 29%|██▉       | 28564/99258 [00:27<01:13, 967.58it/s]\r",
      " 29%|██▉       | 28673/99258 [00:27<01:10, 1000.79it/s]\r",
      " 29%|██▉       | 28782/99258 [00:27<01:08, 1024.18it/s]"
     ]
    },
    {
     "name": "stdout",
     "output_type": "stream",
     "text": [
      "\r",
      " 63%|██████▎   | 58/92 [00:05<00:02, 13.19it/s]\r",
      " 65%|██████▌   | 60/92 [00:05<00:02, 13.59it/s]"
     ]
    },
    {
     "name": "stderr",
     "output_type": "stream",
     "text": [
      "\r",
      " 29%|██▉       | 28891/99258 [00:28<01:07, 1042.99it/s]2022-04-29 19:01:28,502 - INFO - root - Initalized logger, log file at: data-processing.log\n",
      "\r",
      " 29%|██▉       | 28999/99258 [00:28<01:07, 1047.11it/s]"
     ]
    },
    {
     "name": "stdout",
     "output_type": "stream",
     "text": [
      "\r",
      " 67%|██████▋   | 62/92 [00:05<00:02, 13.22it/s]\r",
      " 71%|███████   | 65/92 [00:06<00:01, 15.42it/s]"
     ]
    },
    {
     "name": "stderr",
     "output_type": "stream",
     "text": [
      "\r",
      " 29%|██▉       | 29111/99258 [00:28<01:05, 1067.72it/s]\r",
      " 29%|██▉       | 29224/99258 [00:28<01:04, 1082.76it/s]"
     ]
    },
    {
     "name": "stdout",
     "output_type": "stream",
     "text": [
      "\r",
      " 74%|███████▍  | 68/92 [00:06<00:01, 17.67it/s]\r",
      " 76%|███████▌  | 70/92 [00:06<00:01, 17.11it/s]"
     ]
    },
    {
     "name": "stderr",
     "output_type": "stream",
     "text": [
      "\r",
      " 30%|██▉       | 29334/99258 [00:28<01:04, 1087.47it/s]\r",
      " 30%|██▉       | 29452/99258 [00:28<01:02, 1109.78it/s]"
     ]
    },
    {
     "name": "stdout",
     "output_type": "stream",
     "text": [
      "\r",
      " 79%|███████▉  | 73/92 [00:06<00:01, 18.59it/s]\r",
      " 82%|████████▏ | 75/92 [00:06<00:01, 16.33it/s]"
     ]
    },
    {
     "name": "stderr",
     "output_type": "stream",
     "text": [
      " 30%|███       | 29905/99258 [00:28<01:02, 1113.92it/s]"
     ]
    },
    {
     "name": "stdout",
     "output_type": "stream",
     "text": [
      "\r",
      " 85%|████████▍ | 78/92 [00:06<00:00, 18.43it/s]\r",
      " 87%|████████▋ | 80/92 [00:06<00:00, 16.09it/s]"
     ]
    },
    {
     "name": "stderr",
     "output_type": "stream",
     "text": [
      "\r",
      " 30%|███       | 30020/99258 [00:29<01:01, 1120.07it/s]\r",
      " 30%|███       | 30139/99258 [00:29<01:00, 1135.11it/s]"
     ]
    },
    {
     "name": "stdout",
     "output_type": "stream",
     "text": [
      "\r",
      " 90%|█████████ | 83/92 [00:06<00:00, 19.12it/s]\r",
      " 93%|█████████▎| 86/92 [00:07<00:00, 19.23it/s]"
     ]
    },
    {
     "name": "stderr",
     "output_type": "stream",
     "text": [
      " 31%|███       | 30623/99258 [00:29<00:58, 1176.96it/s]"
     ]
    },
    {
     "name": "stdout",
     "output_type": "stream",
     "text": [
      "\r",
      " 97%|█████████▋| 89/92 [00:07<00:00, 19.53it/s]\r",
      "100%|██████████| 92/92 [00:07<00:00, 21.70it/s]\r",
      "100%|██████████| 92/92 [00:07<00:00, 12.46it/s]"
     ]
    },
    {
     "name": "stderr",
     "output_type": "stream",
     "text": [
      " 31%|███       | 30868/99258 [00:29<00:58, 1174.47it/s]2022-04-29 19:01:30,249 - INFO - generate_tiles -                 x_coord  ...                                         tile_store\n",
      "2022-04-29 19:01:30,249 - INFO - generate_tiles - address                  ...                                                   \n",
      "2022-04-29 19:01:30,249 - INFO - generate_tiles - x5_y37_z20.0       1280  ...  /home/aukermaa/vmount/PRO_12-123/tiling/01OV00...\n",
      "2022-04-29 19:01:30,249 - INFO - generate_tiles - x5_y38_z20.0       1280  ...  /home/aukermaa/vmount/PRO_12-123/tiling/01OV00...\n",
      "2022-04-29 19:01:30,249 - INFO - generate_tiles - x5_y39_z20.0       1280  ...  /home/aukermaa/vmount/PRO_12-123/tiling/01OV00...\n",
      "2022-04-29 19:01:30,249 - INFO - generate_tiles - x5_y40_z20.0       1280  ...  /home/aukermaa/vmount/PRO_12-123/tiling/01OV00...\n",
      "2022-04-29 19:01:30,249 - INFO - generate_tiles - x5_y41_z20.0       1280  ...  /home/aukermaa/vmount/PRO_12-123/tiling/01OV00...\n",
      "2022-04-29 19:01:30,249 - INFO - generate_tiles - ...                 ...  ...                                                ...\n",
      "2022-04-29 19:01:30,249 - INFO - generate_tiles - x167_y49_z20.0    42752  ...  /home/aukermaa/vmount/PRO_12-123/tiling/01OV00...\n",
      "2022-04-29 19:01:30,249 - INFO - generate_tiles - x167_y50_z20.0    42752  ...  /home/aukermaa/vmount/PRO_12-123/tiling/01OV00...\n",
      "2022-04-29 19:01:30,249 - INFO - generate_tiles - x167_y51_z20.0    42752  ...  /home/aukermaa/vmount/PRO_12-123/tiling/01OV00...\n",
      "2022-04-29 19:01:30,249 - INFO - generate_tiles - x167_y52_z20.0    42752  ...  /home/aukermaa/vmount/PRO_12-123/tiling/01OV00...\n",
      "2022-04-29 19:01:30,249 - INFO - generate_tiles - x172_y31_z20.0    44032  ...  /home/aukermaa/vmount/PRO_12-123/tiling/01OV00...\n",
      "2022-04-29 19:01:30,249 - INFO - generate_tiles - \n",
      "2022-04-29 19:01:30,249 - INFO - generate_tiles - [18274 rows x 9 columns]\n",
      " 31%|███       | 30986/99258 [00:29<00:58, 1173.90it/s]2022-04-29 19:01:30,371 - INFO - luna.common.utils - Code block 'transform::save_tiles' took: 9.519027158617973s\n",
      "2022-04-29 19:01:30,373 - INFO - luna.common.utils - ------------------------------------------------------------\n",
      "2022-04-29 19:01:30,373 - INFO - luna.common.utils -  Done with transform, running post-transform functions... \n",
      "2022-04-29 19:01:30,373 - INFO - luna.common.utils - ------------------------------------------------------------\n",
      " 31%|███▏      | 31111/99258 [00:29<00:57, 1190.53it/s]2022-04-29 19:01:30,380 - INFO - luna.common.utils - Adding feature segment /home/aukermaa/vmount/PRO_12-123/tiling/01OV002-ed65cf94-8bc6-492b-9149-adc16f/saved_tiles/01OV002-ed65cf94-8bc6-492b-9149-adc16f.tiles.parquet to PRO_TILES_LABLED\n",
      "2022-04-29 19:01:30,381 - INFO - luna.common.utils - Found dataset URL = file:////home/aukermaa/vmount/PRO_12-123/\n",
      "2022-04-29 19:01:30,382 - INFO - luna.common.utils - Adding /home/aukermaa/vmount/PRO_12-123/tiling/01OV002-ed65cf94-8bc6-492b-9149-adc16f/saved_tiles/01OV002-ed65cf94-8bc6-492b-9149-adc16f.tiles.parquet to PRO_TILES_LABLED via file:////home/aukermaa/vmount/PRO_12-123/\n",
      "2022-04-29 19:01:30,384 - INFO - luna.common.utils - SEGMENT_ID=626c0a1dbfa0f49e3e026f6a-01OV002-ed65cf94-8bc6-492b-9149-adc16f\n",
      "2022-04-29 19:01:30,385 - INFO - luna.common.utils - Writing to: //home/aukermaa/vmount/PRO_12-123/datasets/PRO_TILES_LABLED/segments/626c0a1dbfa0f49e3e026f6a-01OV002-ed65cf94-8bc6-492b-9149-adc16f\n",
      "2022-04-29 19:01:30,419 - INFO - luna.common.utils - Started CLI Runner wtih <function save_tiles at 0x7fc8e5d25430>\n",
      "2022-04-29 19:01:30,421 - INFO - luna.common.utils - Validating params...\n",
      "2022-04-29 19:01:30,422 - INFO - luna.common.utils -  -> Set input_slide_image (<class 'str'>) = file:/home/aukermaa/vmount/PRO_12-123/data/toy_data_set/01OV002-bd8cdc70-3d46-40ae-99c4-90ef77.svs\n",
      "2022-04-29 19:01:30,423 - INFO - luna.common.utils -  -> Set input_slide_tiles (<class 'str'>) = /home/aukermaa/vmount/PRO_12-123/tiling/01OV002-bd8cdc70-3d46-40ae-99c4-90ef77/labled_tiles\n",
      "2022-04-29 19:01:30,425 - INFO - luna.common.utils -  -> Set output_dir (<class 'str'>) = /home/aukermaa/vmount/PRO_12-123/tiling/01OV002-bd8cdc70-3d46-40ae-99c4-90ef77/saved_tiles\n",
      "2022-04-29 19:01:30,426 - INFO - luna.common.utils -  -> Set num_cores (<class 'int'>) = 16\n",
      "2022-04-29 19:01:30,427 - INFO - luna.common.utils -  -> Set batch_size (<class 'int'>) = 200\n",
      "2022-04-29 19:01:30,430 - INFO - luna.common.utils - Expanding inputs...\n",
      "2022-04-29 19:01:30,431 - INFO - luna.common.utils - Attempting to read metadata at file:/home/aukermaa/vmount/PRO_12-123/data/toy_data_set/01OV002-bd8cdc70-3d46-40ae-99c4-90ef77.svs/metadata.yml\n",
      "2022-04-29 19:01:30,432 - INFO - luna.common.utils - Attempting to read metadata at /home/aukermaa/vmount/PRO_12-123/tiling/01OV002-bd8cdc70-3d46-40ae-99c4-90ef77/labled_tiles/metadata.yml\n",
      "2022-04-29 19:01:30,436 - INFO - luna.common.utils - Expanded input:\n",
      "2022-04-29 19:01:30,436 - INFO - luna.common.utils -  -> /home/aukermaa/vmount/PRO_12-123/tiling/01OV002-bd8cdc70-3d46-40ae-99c4-90ef77/labled_tiles\n",
      "2022-04-29 19:01:30,436 - INFO - luna.common.utils -  -> /home/aukermaa/vmount/PRO_12-123/tiling/01OV002-bd8cdc70-3d46-40ae-99c4-90ef77/labled_tiles/01OV002-bd8cdc70-3d46-40ae-99c4-90ef77.regional_label.tiles.parquet\n",
      "2022-04-29 19:01:30,437 - INFO - luna.common.utils - Found segment keys: {'dsa_collection_uuid': '626c0a1dbfa0f49e3e026f6a', 'slide_id': '01OV002-bd8cdc70-3d46-40ae-99c4-90ef77'}\n",
      "2022-04-29 19:01:30,438 - INFO - luna.common.utils - Resolved input:\n",
      "2022-04-29 19:01:30,438 - INFO - luna.common.utils -  -> file:/home/aukermaa/vmount/PRO_12-123/data/toy_data_set/01OV002-bd8cdc70-3d46-40ae-99c4-90ef77.svs\n",
      "2022-04-29 19:01:30,438 - INFO - luna.common.utils -  -> /home/aukermaa/vmount/PRO_12-123/data/toy_data_set/01OV002-bd8cdc70-3d46-40ae-99c4-90ef77.svs\n",
      "2022-04-29 19:01:30,440 - INFO - luna.common.utils - Resolved input:\n",
      "2022-04-29 19:01:30,440 - INFO - luna.common.utils -  -> /home/aukermaa/vmount/PRO_12-123/tiling/01OV002-bd8cdc70-3d46-40ae-99c4-90ef77/labled_tiles/01OV002-bd8cdc70-3d46-40ae-99c4-90ef77.regional_label.tiles.parquet\n",
      "2022-04-29 19:01:30,440 - INFO - luna.common.utils -  -> /home/aukermaa/vmount/PRO_12-123/tiling/01OV002-bd8cdc70-3d46-40ae-99c4-90ef77/labled_tiles/01OV002-bd8cdc70-3d46-40ae-99c4-90ef77.regional_label.tiles.parquet\n",
      "2022-04-29 19:01:30,441 - INFO - luna.common.utils - Full segment key set: {'dsa_collection_uuid': '626c0a1dbfa0f49e3e026f6a', 'slide_id': '01OV002-bd8cdc70-3d46-40ae-99c4-90ef77'}\n",
      "2022-04-29 19:01:30,442 - INFO - luna.common.utils - ------------------------------------------------------------\n",
      "2022-04-29 19:01:30,442 - INFO - luna.common.utils -  Starting transform::save_tiles \n",
      "2022-04-29 19:01:30,442 - INFO - luna.common.utils - ------------------------------------------------------------\n",
      "2022-04-29 19:01:30,461 - INFO - luna.common.utils - Done.\n"
     ]
    },
    {
     "name": "stdout",
     "output_type": "stream",
     "text": [
      "\n"
     ]
    },
    {
     "name": "stderr",
     "output_type": "stream",
     "text": [
      " 31%|███▏      | 31244/99258 [00:30<00:55, 1228.42it/s]2022-04-29 19:01:30,490 - INFO - generate_tiles - Now generating tiles with num_cores=16 and batch_size=200!\n",
      " 34%|███▎      | 33280/99258 [00:31<00:54, 1202.92it/s]"
     ]
    },
    {
     "name": "stdout",
     "output_type": "stream",
     "text": [
      "\r",
      "  0%|          | 0/100 [00:00<?, ?it/s]"
     ]
    },
    {
     "name": "stderr",
     "output_type": "stream",
     "text": [
      " 34%|███▍      | 34137/99258 [00:32<00:53, 1224.29it/s]"
     ]
    },
    {
     "name": "stdout",
     "output_type": "stream",
     "text": [
      "\r",
      "  1%|          | 1/100 [00:00<01:17,  1.28it/s]\r",
      "  2%|▏         | 2/100 [00:00<00:38,  2.55it/s]"
     ]
    },
    {
     "name": "stderr",
     "output_type": "stream",
     "text": [
      "\r",
      " 35%|███▍      | 34261/99258 [00:32<00:53, 1224.41it/s]\r",
      " 35%|███▍      | 34384/99258 [00:32<00:52, 1225.14it/s]"
     ]
    },
    {
     "name": "stdout",
     "output_type": "stream",
     "text": [
      "\r",
      "  3%|▎         | 3/100 [00:01<00:25,  3.77it/s]\r",
      "  4%|▍         | 4/100 [00:01<00:19,  4.98it/s]"
     ]
    },
    {
     "name": "stderr",
     "output_type": "stream",
     "text": [
      "\r",
      " 35%|███▍      | 34507/99258 [00:32<00:53, 1220.62it/s]\r",
      " 35%|███▍      | 34630/99258 [00:32<00:53, 1213.07it/s]"
     ]
    },
    {
     "name": "stdout",
     "output_type": "stream",
     "text": [
      "\r",
      "  5%|▌         | 5/100 [00:01<00:15,  5.94it/s]\r",
      "  6%|▌         | 6/100 [00:01<00:14,  6.53it/s]"
     ]
    },
    {
     "name": "stderr",
     "output_type": "stream",
     "text": [
      "\r",
      " 35%|███▌      | 34752/99258 [00:32<00:54, 1180.24it/s]\r",
      " 35%|███▌      | 34871/99258 [00:33<00:55, 1170.57it/s]"
     ]
    },
    {
     "name": "stdout",
     "output_type": "stream",
     "text": [
      "\r",
      "  9%|▉         | 9/100 [00:01<00:07, 12.10it/s]\r",
      " 12%|█▏        | 12/100 [00:01<00:05, 15.21it/s]"
     ]
    },
    {
     "name": "stderr",
     "output_type": "stream",
     "text": [
      "\r",
      " 35%|███▌      | 34989/99258 [00:33<00:55, 1161.77it/s]\r",
      " 35%|███▌      | 35106/99258 [00:33<00:55, 1162.74it/s]\r",
      " 35%|███▌      | 35228/99258 [00:33<00:54, 1177.76it/s]"
     ]
    },
    {
     "name": "stdout",
     "output_type": "stream",
     "text": [
      "\r",
      " 15%|█▌        | 15/100 [00:01<00:04, 17.69it/s]\r",
      " 17%|█▋        | 17/100 [00:01<00:04, 17.05it/s]"
     ]
    },
    {
     "name": "stderr",
     "output_type": "stream",
     "text": [
      "\r",
      " 36%|███▌      | 35352/99258 [00:33<00:53, 1194.15it/s]\r",
      " 36%|███▌      | 35479/99258 [00:33<00:52, 1215.19it/s]\r",
      " 36%|███▌      | 35601/99258 [00:33<00:52, 1216.20it/s]"
     ]
    },
    {
     "name": "stdout",
     "output_type": "stream",
     "text": [
      "\r",
      " 19%|█▉        | 19/100 [00:01<00:04, 16.22it/s]\r",
      " 21%|██        | 21/100 [00:02<00:05, 14.21it/s]"
     ]
    },
    {
     "name": "stderr",
     "output_type": "stream",
     "text": [
      " 36%|███▋      | 36092/99258 [00:34<00:53, 1184.73it/s]"
     ]
    },
    {
     "name": "stdout",
     "output_type": "stream",
     "text": [
      "\r",
      " 23%|██▎       | 23/100 [00:02<00:05, 14.01it/s]\r",
      " 25%|██▌       | 25/100 [00:02<00:05, 14.70it/s]"
     ]
    },
    {
     "name": "stderr",
     "output_type": "stream",
     "text": [
      "\r",
      " 36%|███▋      | 36219/99258 [00:34<00:52, 1204.50it/s]\r",
      " 37%|███▋      | 36344/99258 [00:34<00:51, 1217.84it/s]\r",
      " 37%|███▋      | 36468/99258 [00:34<00:51, 1224.17it/s]"
     ]
    },
    {
     "name": "stdout",
     "output_type": "stream",
     "text": [
      "\r",
      " 28%|██▊       | 28/100 [00:02<00:04, 17.18it/s]\r",
      " 31%|███       | 31/100 [00:02<00:03, 18.75it/s]"
     ]
    },
    {
     "name": "stderr",
     "output_type": "stream",
     "text": [
      "\r",
      " 37%|███▋      | 36591/99258 [00:34<00:51, 1219.75it/s]\r",
      " 37%|███▋      | 36716/99258 [00:34<00:50, 1227.92it/s]"
     ]
    },
    {
     "name": "stdout",
     "output_type": "stream",
     "text": [
      "\r",
      " 33%|███▎      | 33/100 [00:02<00:04, 14.23it/s]\r",
      " 35%|███▌      | 35/100 [00:03<00:04, 13.03it/s]"
     ]
    },
    {
     "name": "stderr",
     "output_type": "stream",
     "text": [
      " 37%|███▋      | 37206/99258 [00:34<00:51, 1203.57it/s]"
     ]
    },
    {
     "name": "stdout",
     "output_type": "stream",
     "text": [
      "\r",
      " 37%|███▋      | 37/100 [00:03<00:04, 12.75it/s]\r",
      " 39%|███▉      | 39/100 [00:03<00:04, 12.89it/s]"
     ]
    },
    {
     "name": "stderr",
     "output_type": "stream",
     "text": [
      "\r",
      " 38%|███▊      | 37327/99258 [00:35<00:51, 1195.32it/s]\r",
      " 38%|███▊      | 37452/99258 [00:35<00:51, 1206.38it/s]"
     ]
    },
    {
     "name": "stdout",
     "output_type": "stream",
     "text": [
      "\r",
      " 42%|████▏     | 42/100 [00:03<00:03, 15.89it/s]\r",
      " 45%|████▌     | 45/100 [00:03<00:03, 18.33it/s]"
     ]
    },
    {
     "name": "stderr",
     "output_type": "stream",
     "text": [
      "\r",
      " 38%|███▊      | 37577/99258 [00:35<00:50, 1217.43it/s]\r",
      " 38%|███▊      | 37701/99258 [00:35<00:50, 1223.36it/s]"
     ]
    },
    {
     "name": "stdout",
     "output_type": "stream",
     "text": [
      "\r",
      " 48%|████▊     | 48/100 [00:03<00:02, 20.72it/s]"
     ]
    },
    {
     "name": "stderr",
     "output_type": "stream",
     "text": [
      " 38%|███▊      | 38192/99258 [00:35<00:50, 1204.28it/s]"
     ]
    },
    {
     "name": "stdout",
     "output_type": "stream",
     "text": [
      "\r",
      " 51%|█████     | 51/100 [00:04<00:03, 15.27it/s]"
     ]
    },
    {
     "name": "stderr",
     "output_type": "stream",
     "text": [
      "\r",
      " 39%|███▊      | 38318/99258 [00:35<00:50, 1217.18it/s]\r",
      " 39%|███▊      | 38443/99258 [00:35<00:49, 1226.26it/s]"
     ]
    },
    {
     "name": "stdout",
     "output_type": "stream",
     "text": [
      "\r",
      " 53%|█████▎    | 53/100 [00:04<00:03, 13.47it/s]"
     ]
    },
    {
     "name": "stderr",
     "output_type": "stream",
     "text": [
      "\r",
      " 39%|███▉      | 38570/99258 [00:36<00:49, 1233.71it/s]\r",
      " 39%|███▉      | 38694/99258 [00:36<00:49, 1227.10it/s]"
     ]
    },
    {
     "name": "stdout",
     "output_type": "stream",
     "text": [
      "\r",
      " 55%|█████▌    | 55/100 [00:04<00:03, 11.98it/s]\r",
      " 58%|█████▊    | 58/100 [00:04<00:02, 14.59it/s]"
     ]
    },
    {
     "name": "stderr",
     "output_type": "stream",
     "text": [
      "\r",
      " 39%|███▉      | 38818/99258 [00:36<00:49, 1227.80it/s]\r",
      " 39%|███▉      | 38941/99258 [00:36<00:49, 1214.30it/s]"
     ]
    },
    {
     "name": "stdout",
     "output_type": "stream",
     "text": [
      "\r",
      " 60%|██████    | 60/100 [00:04<00:02, 15.32it/s]\r",
      " 63%|██████▎   | 63/100 [00:04<00:02, 18.04it/s]"
     ]
    },
    {
     "name": "stderr",
     "output_type": "stream",
     "text": [
      " 40%|███▉      | 39429/99258 [00:36<00:49, 1209.18it/s]"
     ]
    },
    {
     "name": "stdout",
     "output_type": "stream",
     "text": [
      "\r",
      " 66%|██████▌   | 66/100 [00:05<00:02, 15.40it/s]\r",
      " 69%|██████▉   | 69/100 [00:05<00:02, 15.47it/s]"
     ]
    },
    {
     "name": "stderr",
     "output_type": "stream",
     "text": [
      " 40%|████      | 39920/99258 [00:37<00:49, 1201.87it/s]"
     ]
    },
    {
     "name": "stdout",
     "output_type": "stream",
     "text": [
      "\r",
      " 71%|███████   | 71/100 [00:05<00:02, 13.26it/s]\r",
      " 74%|███████▍  | 74/100 [00:05<00:01, 16.03it/s]"
     ]
    },
    {
     "name": "stderr",
     "output_type": "stream",
     "text": [
      "\r",
      " 40%|████      | 40041/99258 [00:37<00:49, 1186.16it/s]\r",
      " 40%|████      | 40165/99258 [00:37<00:49, 1197.61it/s]"
     ]
    },
    {
     "name": "stdout",
     "output_type": "stream",
     "text": [
      "\r",
      " 77%|███████▋  | 77/100 [00:05<00:01, 16.46it/s]\r",
      " 79%|███████▉  | 79/100 [00:05<00:01, 16.82it/s]"
     ]
    },
    {
     "name": "stderr",
     "output_type": "stream",
     "text": [
      " 41%|████      | 40654/99258 [00:37<00:48, 1200.81it/s]"
     ]
    },
    {
     "name": "stdout",
     "output_type": "stream",
     "text": [
      "\r",
      " 81%|████████  | 81/100 [00:06<00:01, 14.72it/s]\r",
      " 83%|████████▎ | 83/100 [00:06<00:01, 13.36it/s]"
     ]
    },
    {
     "name": "stderr",
     "output_type": "stream",
     "text": [
      "\r",
      " 41%|████      | 40775/99258 [00:37<00:49, 1193.16it/s]\r",
      " 41%|████      | 40895/99258 [00:38<00:49, 1181.64it/s]"
     ]
    },
    {
     "name": "stdout",
     "output_type": "stream",
     "text": [
      "\r",
      " 86%|████████▌ | 86/100 [00:06<00:00, 15.62it/s]\r",
      " 88%|████████▊ | 88/100 [00:06<00:00, 14.94it/s]"
     ]
    },
    {
     "name": "stderr",
     "output_type": "stream",
     "text": [
      "\r",
      " 41%|████▏     | 41014/99258 [00:38<00:49, 1165.30it/s]\r",
      " 41%|████▏     | 41140/99258 [00:38<00:48, 1192.33it/s]\r",
      " 42%|████▏     | 41265/99258 [00:38<00:48, 1206.57it/s]"
     ]
    },
    {
     "name": "stdout",
     "output_type": "stream",
     "text": [
      "\r",
      " 91%|█████████ | 91/100 [00:06<00:00, 17.75it/s]\r",
      " 94%|█████████▍| 94/100 [00:06<00:00, 19.33it/s]"
     ]
    },
    {
     "name": "stderr",
     "output_type": "stream",
     "text": [
      "\r",
      " 42%|████▏     | 41391/99258 [00:38<00:47, 1221.30it/s]\r",
      " 42%|████▏     | 41518/99258 [00:38<00:46, 1233.76it/s]"
     ]
    },
    {
     "name": "stdout",
     "output_type": "stream",
     "text": [
      "\r",
      " 97%|█████████▋| 97/100 [00:06<00:00, 19.12it/s]\r",
      "100%|██████████| 100/100 [00:07<00:00, 19.72it/s]\r",
      "100%|██████████| 100/100 [00:07<00:00, 14.04it/s]"
     ]
    },
    {
     "name": "stderr",
     "output_type": "stream",
     "text": [
      " 42%|████▏     | 42143/99258 [00:39<00:46, 1224.01it/s]2022-04-29 19:01:39,531 - INFO - generate_tiles -                  x_coord  ...                                         tile_store\n",
      "2022-04-29 19:01:39,531 - INFO - generate_tiles - address                   ...                                                   \n",
      "2022-04-29 19:01:39,531 - INFO - generate_tiles - x3_y58_z20.0         768  ...  /home/aukermaa/vmount/PRO_12-123/tiling/01OV00...\n",
      "2022-04-29 19:01:39,531 - INFO - generate_tiles - x6_y171_z20.0       1536  ...  /home/aukermaa/vmount/PRO_12-123/tiling/01OV00...\n",
      "2022-04-29 19:01:39,531 - INFO - generate_tiles - x6_y172_z20.0       1536  ...  /home/aukermaa/vmount/PRO_12-123/tiling/01OV00...\n",
      "2022-04-29 19:01:39,531 - INFO - generate_tiles - x6_y173_z20.0       1536  ...  /home/aukermaa/vmount/PRO_12-123/tiling/01OV00...\n",
      "2022-04-29 19:01:39,531 - INFO - generate_tiles - x6_y174_z20.0       1536  ...  /home/aukermaa/vmount/PRO_12-123/tiling/01OV00...\n",
      "2022-04-29 19:01:39,531 - INFO - generate_tiles - ...                  ...  ...                                                ...\n",
      "2022-04-29 19:01:39,531 - INFO - generate_tiles - x188_y118_z20.0    48128  ...  /home/aukermaa/vmount/PRO_12-123/tiling/01OV00...\n",
      "2022-04-29 19:01:39,531 - INFO - generate_tiles - x193_y206_z20.0    49408  ...  /home/aukermaa/vmount/PRO_12-123/tiling/01OV00...\n",
      "2022-04-29 19:01:39,531 - INFO - generate_tiles - x200_y167_z20.0    51200  ...  /home/aukermaa/vmount/PRO_12-123/tiling/01OV00...\n",
      "2022-04-29 19:01:39,531 - INFO - generate_tiles - x201_y198_z20.0    51456  ...  /home/aukermaa/vmount/PRO_12-123/tiling/01OV00...\n",
      "2022-04-29 19:01:39,531 - INFO - generate_tiles - x207_y208_z20.0    52992  ...  /home/aukermaa/vmount/PRO_12-123/tiling/01OV00...\n",
      "2022-04-29 19:01:39,531 - INFO - generate_tiles - \n",
      "2022-04-29 19:01:39,531 - INFO - generate_tiles - [19982 rows x 9 columns]\n",
      " 43%|████▎     | 42388/99258 [00:39<00:46, 1211.87it/s]2022-04-29 19:01:39,698 - INFO - luna.common.utils - Code block 'transform::save_tiles' took: 9.254986546933651s\n",
      "2022-04-29 19:01:39,700 - INFO - luna.common.utils - ------------------------------------------------------------\n",
      "2022-04-29 19:01:39,700 - INFO - luna.common.utils -  Done with transform, running post-transform functions... \n",
      "2022-04-29 19:01:39,700 - INFO - luna.common.utils - ------------------------------------------------------------\n",
      "2022-04-29 19:01:39,706 - INFO - luna.common.utils - Adding feature segment /home/aukermaa/vmount/PRO_12-123/tiling/01OV002-bd8cdc70-3d46-40ae-99c4-90ef77/saved_tiles/01OV002-bd8cdc70-3d46-40ae-99c4-90ef77.tiles.parquet to PRO_TILES_LABLED\n",
      "2022-04-29 19:01:39,708 - INFO - luna.common.utils - Found dataset URL = file:////home/aukermaa/vmount/PRO_12-123/\n",
      "2022-04-29 19:01:39,709 - INFO - luna.common.utils - Adding /home/aukermaa/vmount/PRO_12-123/tiling/01OV002-bd8cdc70-3d46-40ae-99c4-90ef77/saved_tiles/01OV002-bd8cdc70-3d46-40ae-99c4-90ef77.tiles.parquet to PRO_TILES_LABLED via file:////home/aukermaa/vmount/PRO_12-123/\n",
      "2022-04-29 19:01:39,710 - INFO - luna.common.utils - SEGMENT_ID=626c0a1dbfa0f49e3e026f6a-01OV002-bd8cdc70-3d46-40ae-99c4-90ef77\n",
      "2022-04-29 19:01:39,711 - INFO - luna.common.utils - Writing to: //home/aukermaa/vmount/PRO_12-123/datasets/PRO_TILES_LABLED/segments/626c0a1dbfa0f49e3e026f6a-01OV002-bd8cdc70-3d46-40ae-99c4-90ef77\n",
      " 43%|████▎     | 42510/99258 [00:39<00:47, 1206.31it/s]2022-04-29 19:01:39,786 - INFO - luna.common.utils - Done.\n"
     ]
    },
    {
     "name": "stdout",
     "output_type": "stream",
     "text": [
      "\n"
     ]
    },
    {
     "name": "stderr",
     "output_type": "stream",
     "text": [
      "100%|██████████| 99258/99258 [01:29<00:00, 1107.27it/s]\n",
      "2022-04-29 19:02:30,081 - INFO - detect_tissue - Filtering based on query: otsu_score > 0.1\n",
      "2022-04-29 19:02:30,098 - INFO - detect_tissue -                 x_coord  y_coord  xy_extent  tile_size tile_units  otsu_score\n",
      "2022-04-29 19:02:30,098 - INFO - detect_tissue - address                                                                      \n",
      "2022-04-29 19:02:30,098 - INFO - detect_tissue - x6_y152_z20.0      1536    38912        256        128         px        0.15\n",
      "2022-04-29 19:02:30,098 - INFO - detect_tissue - x6_y153_z20.0      1536    39168        256        128         px        0.30\n",
      "2022-04-29 19:02:30,098 - INFO - detect_tissue - x6_y154_z20.0      1536    39424        256        128         px        0.56\n",
      "2022-04-29 19:02:30,098 - INFO - detect_tissue - x6_y155_z20.0      1536    39680        256        128         px        0.73\n",
      "2022-04-29 19:02:30,098 - INFO - detect_tissue - x6_y156_z20.0      1536    39936        256        128         px        0.73\n",
      "2022-04-29 19:02:30,098 - INFO - detect_tissue - ...                 ...      ...        ...        ...        ...         ...\n",
      "2022-04-29 19:02:30,098 - INFO - detect_tissue - x414_y26_z20.0   105984     6656        256        128         px        0.31\n",
      "2022-04-29 19:02:30,098 - INFO - detect_tissue - x415_y22_z20.0   106240     5632        256        128         px        0.24\n",
      "2022-04-29 19:02:30,098 - INFO - detect_tissue - x415_y25_z20.0   106240     6400        256        128         px        0.12\n",
      "2022-04-29 19:02:30,098 - INFO - detect_tissue - x419_y21_z20.0   107264     5376        256        128         px        0.23\n",
      "2022-04-29 19:02:30,098 - INFO - detect_tissue - x420_y22_z20.0   107520     5632        256        128         px        0.27\n",
      "2022-04-29 19:02:30,098 - INFO - detect_tissue - \n",
      "2022-04-29 19:02:30,098 - INFO - detect_tissue - [20648 rows x 6 columns]\n",
      "2022-04-29 19:02:30,170 - INFO - luna.common.utils - Code block 'transform::detect_tissue' took: 143.4771154820919s\n",
      "2022-04-29 19:02:30,172 - INFO - luna.common.utils - ------------------------------------------------------------\n",
      "2022-04-29 19:02:30,172 - INFO - luna.common.utils -  Done with transform, running post-transform functions... \n",
      "2022-04-29 19:02:30,172 - INFO - luna.common.utils - ------------------------------------------------------------\n",
      "2022-04-29 19:02:30,179 - INFO - luna.common.utils - Done.\n"
     ]
    },
    {
     "name": "stdout",
     "output_type": "stream",
     "text": [
      "label_tiles ../PRO_12-123/data/toy_data_set/table/ANNOTATIONS /home/aukermaa/vmount/PRO_12-123/tiling/01OV007-9b90eb78-2f50-4aeb-b010-d642f9/detected_tiles\n",
      "['label_tiles', PosixPath('../PRO_12-123/data/toy_data_set/table/ANNOTATIONS'), '/home/aukermaa/vmount/PRO_12-123/tiling/01OV007-9b90eb78-2f50-4aeb-b010-d642f9/detected_tiles', '-o', '/home/aukermaa/vmount/PRO_12-123/tiling/01OV007-9b90eb78-2f50-4aeb-b010-d642f9/labled_tiles']\n"
     ]
    },
    {
     "name": "stderr",
     "output_type": "stream",
     "text": [
      "2022-04-29 19:02:31,745 - INFO - root - Initalized logger, log file at: data-processing.log\n",
      "2022-04-29 19:02:31,746 - INFO - luna.common.utils - Started CLI Runner wtih <function generate_tile_labels at 0x7f39204f1f70>\n",
      "2022-04-29 19:02:31,761 - INFO - luna.common.utils - Validating params...\n",
      "2022-04-29 19:02:31,762 - INFO - luna.common.utils -  -> Set input_slide_annotation_dataset (<class 'str'>) = ../PRO_12-123/data/toy_data_set/table/ANNOTATIONS\n",
      "2022-04-29 19:02:31,764 - INFO - luna.common.utils -  -> Set input_slide_tiles (<class 'str'>) = /home/aukermaa/vmount/PRO_12-123/tiling/01OV007-9b90eb78-2f50-4aeb-b010-d642f9/detected_tiles\n",
      "2022-04-29 19:02:31,765 - INFO - luna.common.utils -  -> Set output_dir (<class 'str'>) = /home/aukermaa/vmount/PRO_12-123/tiling/01OV007-9b90eb78-2f50-4aeb-b010-d642f9/labled_tiles\n",
      "2022-04-29 19:02:31,768 - INFO - luna.common.utils - Expanding inputs...\n",
      "2022-04-29 19:02:31,770 - INFO - luna.common.utils - Attempting to read metadata at ../PRO_12-123/data/toy_data_set/table/ANNOTATIONS/metadata.yml\n",
      "2022-04-29 19:02:31,774 - INFO - luna.common.utils - Expanded input:\n",
      "2022-04-29 19:02:31,774 - INFO - luna.common.utils -  -> ../PRO_12-123/data/toy_data_set/table/ANNOTATIONS\n",
      "2022-04-29 19:02:31,774 - INFO - luna.common.utils -  -> ../PRO_12-123/data/toy_data_set/table/ANNOTATIONS/slide_annotation_dataset_TCGA collection_ov_regional.parquet\n",
      "2022-04-29 19:02:31,776 - INFO - luna.common.utils - Found segment keys: {'dsa_collection_uuid': '626c0a1dbfa0f49e3e026f6a'}\n",
      "2022-04-29 19:02:31,777 - INFO - luna.common.utils - Attempting to read metadata at /home/aukermaa/vmount/PRO_12-123/tiling/01OV007-9b90eb78-2f50-4aeb-b010-d642f9/detected_tiles/metadata.yml\n",
      "2022-04-29 19:02:31,782 - INFO - luna.common.utils - Expanded input:\n",
      "2022-04-29 19:02:31,782 - INFO - luna.common.utils -  -> /home/aukermaa/vmount/PRO_12-123/tiling/01OV007-9b90eb78-2f50-4aeb-b010-d642f9/detected_tiles\n",
      "2022-04-29 19:02:31,782 - INFO - luna.common.utils -  -> /home/aukermaa/vmount/PRO_12-123/tiling/01OV007-9b90eb78-2f50-4aeb-b010-d642f9/detected_tiles/01OV007-9b90eb78-2f50-4aeb-b010-d642f9-filtered.tiles.parquet\n",
      "2022-04-29 19:02:31,783 - INFO - luna.common.utils - Found segment keys: {'slide_id': '01OV007-9b90eb78-2f50-4aeb-b010-d642f9'}\n",
      "2022-04-29 19:02:31,785 - INFO - luna.common.utils - Resolved input:\n",
      "2022-04-29 19:02:31,785 - INFO - luna.common.utils -  -> ../PRO_12-123/data/toy_data_set/table/ANNOTATIONS/slide_annotation_dataset_TCGA collection_ov_regional.parquet\n",
      "2022-04-29 19:02:31,785 - INFO - luna.common.utils -  -> /home/aukermaa/vmount/PRO_12-123/data/toy_data_set/table/ANNOTATIONS/slide_annotation_dataset_TCGA collection_ov_regional.parquet\n",
      "2022-04-29 19:02:31,787 - INFO - luna.common.utils - Resolved input:\n",
      "2022-04-29 19:02:31,787 - INFO - luna.common.utils -  -> /home/aukermaa/vmount/PRO_12-123/tiling/01OV007-9b90eb78-2f50-4aeb-b010-d642f9/detected_tiles/01OV007-9b90eb78-2f50-4aeb-b010-d642f9-filtered.tiles.parquet\n",
      "2022-04-29 19:02:31,787 - INFO - luna.common.utils -  -> /home/aukermaa/vmount/PRO_12-123/tiling/01OV007-9b90eb78-2f50-4aeb-b010-d642f9/detected_tiles/01OV007-9b90eb78-2f50-4aeb-b010-d642f9-filtered.tiles.parquet\n",
      "2022-04-29 19:02:31,788 - INFO - luna.common.utils - Full segment key set: {'dsa_collection_uuid': '626c0a1dbfa0f49e3e026f6a', 'slide_id': '01OV007-9b90eb78-2f50-4aeb-b010-d642f9'}\n",
      "2022-04-29 19:02:31,789 - INFO - luna.common.utils - ------------------------------------------------------------\n",
      "2022-04-29 19:02:31,789 - INFO - luna.common.utils -  Starting transform::generate_tile_labels \n",
      "2022-04-29 19:02:31,789 - INFO - luna.common.utils - ------------------------------------------------------------\n",
      "2022-04-29 19:02:31,791 - INFO - generate_tile_labels - slide_id=01OV007-9b90eb78-2f50-4aeb-b010-d642f9\n",
      "\r",
      "  0%|          | 0/20648 [00:00<?, ?it/s]"
     ]
    },
    {
     "name": "stdout",
     "output_type": "stream",
     "text": [
      "../PRO_12-123/data/toy_data_set/table/ANNOTATIONS/01OV007-9b90eb78-2f50-4aeb-b010-d642f9.annotation.geojson TCGA collection ov_regional\n"
     ]
    },
    {
     "name": "stderr",
     "output_type": "stream",
     "text": [
      "100%|██████████| 20648/20648 [00:03<00:00, 5889.49it/s]\n",
      "2022-04-29 19:02:35,386 - INFO - generate_tile_labels -                  x_coord  y_coord  ...  regional_label  intersection_area\n",
      "2022-04-29 19:02:35,386 - INFO - generate_tile_labels - address                            ...                                   \n",
      "2022-04-29 19:02:35,386 - INFO - generate_tile_labels - x24_y56_z20.0       6144    14336  ...             fat           0.001128\n",
      "2022-04-29 19:02:35,386 - INFO - generate_tile_labels - x24_y57_z20.0       6144    14592  ...             fat           0.337458\n",
      "2022-04-29 19:02:35,386 - INFO - generate_tile_labels - x24_y58_z20.0       6144    14848  ...             fat           0.536735\n",
      "2022-04-29 19:02:35,386 - INFO - generate_tile_labels - x24_y59_z20.0       6144    15104  ...             fat           0.511210\n",
      "2022-04-29 19:02:35,386 - INFO - generate_tile_labels - x24_y60_z20.0       6144    15360  ...             fat           0.161498\n",
      "2022-04-29 19:02:35,386 - INFO - generate_tile_labels - ...                  ...      ...  ...             ...                ...\n",
      "2022-04-29 19:02:35,386 - INFO - generate_tile_labels - x379_y109_z20.0    97024    27904  ...           tumor           0.482618\n",
      "2022-04-29 19:02:35,386 - INFO - generate_tile_labels - x380_y104_z20.0    97280    26624  ...           tumor           0.009819\n",
      "2022-04-29 19:02:35,386 - INFO - generate_tile_labels - x380_y105_z20.0    97280    26880  ...           tumor           0.337997\n",
      "2022-04-29 19:02:35,386 - INFO - generate_tile_labels - x380_y106_z20.0    97280    27136  ...           tumor           0.453576\n",
      "2022-04-29 19:02:35,386 - INFO - generate_tile_labels - x380_y107_z20.0    97280    27392  ...           tumor           0.294047\n",
      "2022-04-29 19:02:35,386 - INFO - generate_tile_labels - \n",
      "2022-04-29 19:02:35,386 - INFO - generate_tile_labels - [614 rows x 8 columns]\n",
      "2022-04-29 19:02:35,430 - INFO - luna.common.utils - Code block 'transform::generate_tile_labels' took: 3.6391268372535706s\n",
      "2022-04-29 19:02:35,432 - INFO - luna.common.utils - ------------------------------------------------------------\n",
      "2022-04-29 19:02:35,432 - INFO - luna.common.utils -  Done with transform, running post-transform functions... \n",
      "2022-04-29 19:02:35,432 - INFO - luna.common.utils - ------------------------------------------------------------\n",
      "2022-04-29 19:02:35,437 - INFO - luna.common.utils - Done.\n"
     ]
    },
    {
     "name": "stdout",
     "output_type": "stream",
     "text": [
      "save_tiles file:/home/aukermaa/vmount/PRO_12-123/data/toy_data_set/01OV007-9b90eb78-2f50-4aeb-b010-d642f9.svs /home/aukermaa/vmount/PRO_12-123/tiling/01OV007-9b90eb78-2f50-4aeb-b010-d642f9/labled_tiles --num_cores 16 --batch_size 200 --dataset_id PRO_TILES_LABLED\n",
      "['save_tiles', PosixPath('file:/home/aukermaa/vmount/PRO_12-123/data/toy_data_set/01OV007-9b90eb78-2f50-4aeb-b010-d642f9.svs'), '/home/aukermaa/vmount/PRO_12-123/tiling/01OV007-9b90eb78-2f50-4aeb-b010-d642f9/labled_tiles', '--num_cores', '16', '--batch_size', '200', '--dataset_id', 'PRO_TILES_LABLED', '-o', '/home/aukermaa/vmount/PRO_12-123/tiling/01OV007-9b90eb78-2f50-4aeb-b010-d642f9/saved_tiles']\n"
     ]
    },
    {
     "name": "stderr",
     "output_type": "stream",
     "text": [
      "2022-04-29 19:02:36,516 - INFO - root - Initalized logger, log file at: data-processing.log\n",
      "2022-04-29 19:02:38,311 - INFO - luna.common.utils - Started CLI Runner wtih <function save_tiles at 0x7fc251973430>\n",
      "2022-04-29 19:02:38,313 - INFO - luna.common.utils - Validating params...\n",
      "2022-04-29 19:02:38,314 - INFO - luna.common.utils -  -> Set input_slide_image (<class 'str'>) = file:/home/aukermaa/vmount/PRO_12-123/data/toy_data_set/01OV007-9b90eb78-2f50-4aeb-b010-d642f9.svs\n",
      "2022-04-29 19:02:38,316 - INFO - luna.common.utils -  -> Set input_slide_tiles (<class 'str'>) = /home/aukermaa/vmount/PRO_12-123/tiling/01OV007-9b90eb78-2f50-4aeb-b010-d642f9/labled_tiles\n",
      "2022-04-29 19:02:38,317 - INFO - luna.common.utils -  -> Set output_dir (<class 'str'>) = /home/aukermaa/vmount/PRO_12-123/tiling/01OV007-9b90eb78-2f50-4aeb-b010-d642f9/saved_tiles\n",
      "2022-04-29 19:02:38,318 - INFO - luna.common.utils -  -> Set num_cores (<class 'int'>) = 16\n",
      "2022-04-29 19:02:38,319 - INFO - luna.common.utils -  -> Set batch_size (<class 'int'>) = 200\n",
      "2022-04-29 19:02:38,322 - INFO - luna.common.utils - Expanding inputs...\n",
      "2022-04-29 19:02:38,323 - INFO - luna.common.utils - Attempting to read metadata at file:/home/aukermaa/vmount/PRO_12-123/data/toy_data_set/01OV007-9b90eb78-2f50-4aeb-b010-d642f9.svs/metadata.yml\n",
      "2022-04-29 19:02:38,324 - INFO - luna.common.utils - Attempting to read metadata at /home/aukermaa/vmount/PRO_12-123/tiling/01OV007-9b90eb78-2f50-4aeb-b010-d642f9/labled_tiles/metadata.yml\n",
      "2022-04-29 19:02:38,328 - INFO - luna.common.utils - Expanded input:\n",
      "2022-04-29 19:02:38,328 - INFO - luna.common.utils -  -> /home/aukermaa/vmount/PRO_12-123/tiling/01OV007-9b90eb78-2f50-4aeb-b010-d642f9/labled_tiles\n",
      "2022-04-29 19:02:38,328 - INFO - luna.common.utils -  -> /home/aukermaa/vmount/PRO_12-123/tiling/01OV007-9b90eb78-2f50-4aeb-b010-d642f9/labled_tiles/01OV007-9b90eb78-2f50-4aeb-b010-d642f9.regional_label.tiles.parquet\n",
      "2022-04-29 19:02:38,330 - INFO - luna.common.utils - Found segment keys: {'dsa_collection_uuid': '626c0a1dbfa0f49e3e026f6a', 'slide_id': '01OV007-9b90eb78-2f50-4aeb-b010-d642f9'}\n",
      "2022-04-29 19:02:38,331 - INFO - luna.common.utils - Resolved input:\n",
      "2022-04-29 19:02:38,331 - INFO - luna.common.utils -  -> file:/home/aukermaa/vmount/PRO_12-123/data/toy_data_set/01OV007-9b90eb78-2f50-4aeb-b010-d642f9.svs\n",
      "2022-04-29 19:02:38,331 - INFO - luna.common.utils -  -> /home/aukermaa/vmount/PRO_12-123/data/toy_data_set/01OV007-9b90eb78-2f50-4aeb-b010-d642f9.svs\n",
      "2022-04-29 19:02:38,332 - INFO - luna.common.utils - Resolved input:\n",
      "2022-04-29 19:02:38,332 - INFO - luna.common.utils -  -> /home/aukermaa/vmount/PRO_12-123/tiling/01OV007-9b90eb78-2f50-4aeb-b010-d642f9/labled_tiles/01OV007-9b90eb78-2f50-4aeb-b010-d642f9.regional_label.tiles.parquet\n",
      "2022-04-29 19:02:38,332 - INFO - luna.common.utils -  -> /home/aukermaa/vmount/PRO_12-123/tiling/01OV007-9b90eb78-2f50-4aeb-b010-d642f9/labled_tiles/01OV007-9b90eb78-2f50-4aeb-b010-d642f9.regional_label.tiles.parquet\n",
      "2022-04-29 19:02:38,333 - INFO - luna.common.utils - Full segment key set: {'dsa_collection_uuid': '626c0a1dbfa0f49e3e026f6a', 'slide_id': '01OV007-9b90eb78-2f50-4aeb-b010-d642f9'}\n",
      "2022-04-29 19:02:38,335 - INFO - luna.common.utils - ------------------------------------------------------------\n",
      "2022-04-29 19:02:38,335 - INFO - luna.common.utils -  Starting transform::save_tiles \n",
      "2022-04-29 19:02:38,335 - INFO - luna.common.utils - ------------------------------------------------------------\n",
      "2022-04-29 19:02:38,407 - INFO - generate_tiles - Now generating tiles with num_cores=16 and batch_size=200!\n"
     ]
    },
    {
     "name": "stdout",
     "output_type": "stream",
     "text": [
      "100%|██████████| 104/104 [00:07<00:00, 14.30it/s]"
     ]
    },
    {
     "name": "stderr",
     "output_type": "stream",
     "text": [
      "2022-04-29 19:02:47,436 - INFO - generate_tiles -                 x_coord  ...                                         tile_store\n",
      "2022-04-29 19:02:47,436 - INFO - generate_tiles - address                  ...                                                   \n",
      "2022-04-29 19:02:47,436 - INFO - generate_tiles - x6_y152_z20.0      1536  ...  /home/aukermaa/vmount/PRO_12-123/tiling/01OV00...\n",
      "2022-04-29 19:02:47,436 - INFO - generate_tiles - x6_y153_z20.0      1536  ...  /home/aukermaa/vmount/PRO_12-123/tiling/01OV00...\n",
      "2022-04-29 19:02:47,436 - INFO - generate_tiles - x6_y154_z20.0      1536  ...  /home/aukermaa/vmount/PRO_12-123/tiling/01OV00...\n",
      "2022-04-29 19:02:47,436 - INFO - generate_tiles - x6_y155_z20.0      1536  ...  /home/aukermaa/vmount/PRO_12-123/tiling/01OV00...\n",
      "2022-04-29 19:02:47,436 - INFO - generate_tiles - x6_y156_z20.0      1536  ...  /home/aukermaa/vmount/PRO_12-123/tiling/01OV00...\n",
      "2022-04-29 19:02:47,436 - INFO - generate_tiles - ...                 ...  ...                                                ...\n",
      "2022-04-29 19:02:47,436 - INFO - generate_tiles - x414_y26_z20.0   105984  ...  /home/aukermaa/vmount/PRO_12-123/tiling/01OV00...\n",
      "2022-04-29 19:02:47,436 - INFO - generate_tiles - x415_y22_z20.0   106240  ...  /home/aukermaa/vmount/PRO_12-123/tiling/01OV00...\n",
      "2022-04-29 19:02:47,436 - INFO - generate_tiles - x415_y25_z20.0   106240  ...  /home/aukermaa/vmount/PRO_12-123/tiling/01OV00...\n",
      "2022-04-29 19:02:47,436 - INFO - generate_tiles - x419_y21_z20.0   107264  ...  /home/aukermaa/vmount/PRO_12-123/tiling/01OV00...\n",
      "2022-04-29 19:02:47,436 - INFO - generate_tiles - x420_y22_z20.0   107520  ...  /home/aukermaa/vmount/PRO_12-123/tiling/01OV00...\n",
      "2022-04-29 19:02:47,436 - INFO - generate_tiles - \n",
      "2022-04-29 19:02:47,436 - INFO - generate_tiles - [20648 rows x 9 columns]\n",
      "2022-04-29 19:02:47,564 - INFO - luna.common.utils - Code block 'transform::save_tiles' took: 9.202225811779499s\n",
      "2022-04-29 19:02:47,566 - INFO - luna.common.utils - ------------------------------------------------------------\n",
      "2022-04-29 19:02:47,566 - INFO - luna.common.utils -  Done with transform, running post-transform functions... \n",
      "2022-04-29 19:02:47,566 - INFO - luna.common.utils - ------------------------------------------------------------\n",
      "2022-04-29 19:02:47,570 - INFO - luna.common.utils - Adding feature segment /home/aukermaa/vmount/PRO_12-123/tiling/01OV007-9b90eb78-2f50-4aeb-b010-d642f9/saved_tiles/01OV007-9b90eb78-2f50-4aeb-b010-d642f9.tiles.parquet to PRO_TILES_LABLED\n",
      "2022-04-29 19:02:47,572 - INFO - luna.common.utils - Found dataset URL = file:////home/aukermaa/vmount/PRO_12-123/\n",
      "2022-04-29 19:02:47,572 - INFO - luna.common.utils - Adding /home/aukermaa/vmount/PRO_12-123/tiling/01OV007-9b90eb78-2f50-4aeb-b010-d642f9/saved_tiles/01OV007-9b90eb78-2f50-4aeb-b010-d642f9.tiles.parquet to PRO_TILES_LABLED via file:////home/aukermaa/vmount/PRO_12-123/\n",
      "2022-04-29 19:02:47,574 - INFO - luna.common.utils - SEGMENT_ID=626c0a1dbfa0f49e3e026f6a-01OV007-9b90eb78-2f50-4aeb-b010-d642f9\n",
      "2022-04-29 19:02:47,575 - INFO - luna.common.utils - Writing to: //home/aukermaa/vmount/PRO_12-123/datasets/PRO_TILES_LABLED/segments/626c0a1dbfa0f49e3e026f6a-01OV007-9b90eb78-2f50-4aeb-b010-d642f9\n",
      "2022-04-29 19:02:47,651 - INFO - luna.common.utils - Done.\n"
     ]
    },
    {
     "name": "stdout",
     "output_type": "stream",
     "text": [
      "\n"
     ]
    }
   ],
   "source": [
    "from concurrent.futures import ThreadPoolExecutor\n",
    "import pandas as pd\n",
    "\n",
    "df_slides = pd.read_parquet(\"../PRO_12-123/data/toy_data_set/table/SLIDES/slide_ingest_PRO_12-123.parquet\")\n",
    "        \n",
    "with ThreadPoolExecutor(5) as pool:\n",
    "    \n",
    "    for index, row in df_slides.iterrows():\n",
    "        print (index)\n",
    "        \n",
    "        pool.submit(pipeline, index, row.slide_image, \"../PRO_12-123/data/toy_data_set/table/ANNOTATIONS\")\n",
    "        "
   ]
  },
  {
   "cell_type": "code",
   "execution_count": 9,
   "metadata": {},
   "outputs": [
    {
     "name": "stdout",
     "output_type": "stream",
     "text": [
      "tumor     2120\n",
      "stroma     860\n",
      "fat        751\n",
      "Name: regional_label, dtype: int64\n"
     ]
    },
    {
     "data": {
      "text/html": [
       "<div>\n",
       "<style scoped>\n",
       "    .dataframe tbody tr th:only-of-type {\n",
       "        vertical-align: middle;\n",
       "    }\n",
       "\n",
       "    .dataframe tbody tr th {\n",
       "        vertical-align: top;\n",
       "    }\n",
       "\n",
       "    .dataframe thead th {\n",
       "        text-align: right;\n",
       "    }\n",
       "</style>\n",
       "<table border=\"1\" class=\"dataframe\">\n",
       "  <thead>\n",
       "    <tr style=\"text-align: right;\">\n",
       "      <th></th>\n",
       "      <th>SEGMENT_ID</th>\n",
       "      <th>dsa_collection_uuid</th>\n",
       "      <th>slide_id</th>\n",
       "      <th>address</th>\n",
       "      <th>x_coord</th>\n",
       "      <th>y_coord</th>\n",
       "      <th>xy_extent</th>\n",
       "      <th>tile_size</th>\n",
       "      <th>tile_units</th>\n",
       "      <th>otsu_score</th>\n",
       "      <th>regional_label</th>\n",
       "      <th>intersection_area</th>\n",
       "      <th>tile_store</th>\n",
       "    </tr>\n",
       "  </thead>\n",
       "  <tbody>\n",
       "    <tr>\n",
       "      <th>4480</th>\n",
       "      <td>626c0a1dbfa0f49e3e026f6a-01OV002-bd8cdc70-3d46...</td>\n",
       "      <td>626c0a1dbfa0f49e3e026f6a</td>\n",
       "      <td>01OV002-bd8cdc70-3d46-40ae-99c4-90ef77</td>\n",
       "      <td>x52_y114_z20.0</td>\n",
       "      <td>13312</td>\n",
       "      <td>29184</td>\n",
       "      <td>256</td>\n",
       "      <td>128</td>\n",
       "      <td>px</td>\n",
       "      <td>0.66</td>\n",
       "      <td>stroma</td>\n",
       "      <td>0.055345</td>\n",
       "      <td>/home/aukermaa/vmount/PRO_12-123/tiling/01OV00...</td>\n",
       "    </tr>\n",
       "    <tr>\n",
       "      <th>4602</th>\n",
       "      <td>626c0a1dbfa0f49e3e026f6a-01OV002-bd8cdc70-3d46...</td>\n",
       "      <td>626c0a1dbfa0f49e3e026f6a</td>\n",
       "      <td>01OV002-bd8cdc70-3d46-40ae-99c4-90ef77</td>\n",
       "      <td>x53_y113_z20.0</td>\n",
       "      <td>13568</td>\n",
       "      <td>28928</td>\n",
       "      <td>256</td>\n",
       "      <td>128</td>\n",
       "      <td>px</td>\n",
       "      <td>0.81</td>\n",
       "      <td>stroma</td>\n",
       "      <td>0.212376</td>\n",
       "      <td>/home/aukermaa/vmount/PRO_12-123/tiling/01OV00...</td>\n",
       "    </tr>\n",
       "    <tr>\n",
       "      <th>4603</th>\n",
       "      <td>626c0a1dbfa0f49e3e026f6a-01OV002-bd8cdc70-3d46...</td>\n",
       "      <td>626c0a1dbfa0f49e3e026f6a</td>\n",
       "      <td>01OV002-bd8cdc70-3d46-40ae-99c4-90ef77</td>\n",
       "      <td>x53_y114_z20.0</td>\n",
       "      <td>13568</td>\n",
       "      <td>29184</td>\n",
       "      <td>256</td>\n",
       "      <td>128</td>\n",
       "      <td>px</td>\n",
       "      <td>0.56</td>\n",
       "      <td>stroma</td>\n",
       "      <td>0.965976</td>\n",
       "      <td>/home/aukermaa/vmount/PRO_12-123/tiling/01OV00...</td>\n",
       "    </tr>\n",
       "    <tr>\n",
       "      <th>4604</th>\n",
       "      <td>626c0a1dbfa0f49e3e026f6a-01OV002-bd8cdc70-3d46...</td>\n",
       "      <td>626c0a1dbfa0f49e3e026f6a</td>\n",
       "      <td>01OV002-bd8cdc70-3d46-40ae-99c4-90ef77</td>\n",
       "      <td>x53_y115_z20.0</td>\n",
       "      <td>13568</td>\n",
       "      <td>29440</td>\n",
       "      <td>256</td>\n",
       "      <td>128</td>\n",
       "      <td>px</td>\n",
       "      <td>0.45</td>\n",
       "      <td>stroma</td>\n",
       "      <td>0.344496</td>\n",
       "      <td>/home/aukermaa/vmount/PRO_12-123/tiling/01OV00...</td>\n",
       "    </tr>\n",
       "    <tr>\n",
       "      <th>4719</th>\n",
       "      <td>626c0a1dbfa0f49e3e026f6a-01OV002-bd8cdc70-3d46...</td>\n",
       "      <td>626c0a1dbfa0f49e3e026f6a</td>\n",
       "      <td>01OV002-bd8cdc70-3d46-40ae-99c4-90ef77</td>\n",
       "      <td>x54_y112_z20.0</td>\n",
       "      <td>13824</td>\n",
       "      <td>28672</td>\n",
       "      <td>256</td>\n",
       "      <td>128</td>\n",
       "      <td>px</td>\n",
       "      <td>0.94</td>\n",
       "      <td>stroma</td>\n",
       "      <td>0.061422</td>\n",
       "      <td>/home/aukermaa/vmount/PRO_12-123/tiling/01OV00...</td>\n",
       "    </tr>\n",
       "    <tr>\n",
       "      <th>...</th>\n",
       "      <td>...</td>\n",
       "      <td>...</td>\n",
       "      <td>...</td>\n",
       "      <td>...</td>\n",
       "      <td>...</td>\n",
       "      <td>...</td>\n",
       "      <td>...</td>\n",
       "      <td>...</td>\n",
       "      <td>...</td>\n",
       "      <td>...</td>\n",
       "      <td>...</td>\n",
       "      <td>...</td>\n",
       "      <td>...</td>\n",
       "    </tr>\n",
       "    <tr>\n",
       "      <th>87948</th>\n",
       "      <td>626c0a1dbfa0f49e3e026f6a-01OV008-7579323e-2fae...</td>\n",
       "      <td>626c0a1dbfa0f49e3e026f6a</td>\n",
       "      <td>01OV008-7579323e-2fae-43a9-b00f-a15c28</td>\n",
       "      <td>x111_y79_z20.0</td>\n",
       "      <td>28416</td>\n",
       "      <td>20224</td>\n",
       "      <td>256</td>\n",
       "      <td>128</td>\n",
       "      <td>px</td>\n",
       "      <td>0.59</td>\n",
       "      <td>stroma</td>\n",
       "      <td>0.622304</td>\n",
       "      <td>/home/aukermaa/vmount/PRO_12-123/tiling/01OV00...</td>\n",
       "    </tr>\n",
       "    <tr>\n",
       "      <th>87949</th>\n",
       "      <td>626c0a1dbfa0f49e3e026f6a-01OV008-7579323e-2fae...</td>\n",
       "      <td>626c0a1dbfa0f49e3e026f6a</td>\n",
       "      <td>01OV008-7579323e-2fae-43a9-b00f-a15c28</td>\n",
       "      <td>x111_y80_z20.0</td>\n",
       "      <td>28416</td>\n",
       "      <td>20480</td>\n",
       "      <td>256</td>\n",
       "      <td>128</td>\n",
       "      <td>px</td>\n",
       "      <td>0.78</td>\n",
       "      <td>stroma</td>\n",
       "      <td>1.000000</td>\n",
       "      <td>/home/aukermaa/vmount/PRO_12-123/tiling/01OV00...</td>\n",
       "    </tr>\n",
       "    <tr>\n",
       "      <th>87950</th>\n",
       "      <td>626c0a1dbfa0f49e3e026f6a-01OV008-7579323e-2fae...</td>\n",
       "      <td>626c0a1dbfa0f49e3e026f6a</td>\n",
       "      <td>01OV008-7579323e-2fae-43a9-b00f-a15c28</td>\n",
       "      <td>x111_y81_z20.0</td>\n",
       "      <td>28416</td>\n",
       "      <td>20736</td>\n",
       "      <td>256</td>\n",
       "      <td>128</td>\n",
       "      <td>px</td>\n",
       "      <td>0.56</td>\n",
       "      <td>stroma</td>\n",
       "      <td>0.577473</td>\n",
       "      <td>/home/aukermaa/vmount/PRO_12-123/tiling/01OV00...</td>\n",
       "    </tr>\n",
       "    <tr>\n",
       "      <th>88043</th>\n",
       "      <td>626c0a1dbfa0f49e3e026f6a-01OV008-7579323e-2fae...</td>\n",
       "      <td>626c0a1dbfa0f49e3e026f6a</td>\n",
       "      <td>01OV008-7579323e-2fae-43a9-b00f-a15c28</td>\n",
       "      <td>x112_y80_z20.0</td>\n",
       "      <td>28672</td>\n",
       "      <td>20480</td>\n",
       "      <td>256</td>\n",
       "      <td>128</td>\n",
       "      <td>px</td>\n",
       "      <td>0.26</td>\n",
       "      <td>stroma</td>\n",
       "      <td>0.251255</td>\n",
       "      <td>/home/aukermaa/vmount/PRO_12-123/tiling/01OV00...</td>\n",
       "    </tr>\n",
       "    <tr>\n",
       "      <th>88044</th>\n",
       "      <td>626c0a1dbfa0f49e3e026f6a-01OV008-7579323e-2fae...</td>\n",
       "      <td>626c0a1dbfa0f49e3e026f6a</td>\n",
       "      <td>01OV008-7579323e-2fae-43a9-b00f-a15c28</td>\n",
       "      <td>x112_y81_z20.0</td>\n",
       "      <td>28672</td>\n",
       "      <td>20736</td>\n",
       "      <td>256</td>\n",
       "      <td>128</td>\n",
       "      <td>px</td>\n",
       "      <td>0.39</td>\n",
       "      <td>stroma</td>\n",
       "      <td>0.045343</td>\n",
       "      <td>/home/aukermaa/vmount/PRO_12-123/tiling/01OV00...</td>\n",
       "    </tr>\n",
       "  </tbody>\n",
       "</table>\n",
       "<p>3731 rows × 13 columns</p>\n",
       "</div>"
      ],
      "text/plain": [
       "                                              SEGMENT_ID  \\\n",
       "4480   626c0a1dbfa0f49e3e026f6a-01OV002-bd8cdc70-3d46...   \n",
       "4602   626c0a1dbfa0f49e3e026f6a-01OV002-bd8cdc70-3d46...   \n",
       "4603   626c0a1dbfa0f49e3e026f6a-01OV002-bd8cdc70-3d46...   \n",
       "4604   626c0a1dbfa0f49e3e026f6a-01OV002-bd8cdc70-3d46...   \n",
       "4719   626c0a1dbfa0f49e3e026f6a-01OV002-bd8cdc70-3d46...   \n",
       "...                                                  ...   \n",
       "87948  626c0a1dbfa0f49e3e026f6a-01OV008-7579323e-2fae...   \n",
       "87949  626c0a1dbfa0f49e3e026f6a-01OV008-7579323e-2fae...   \n",
       "87950  626c0a1dbfa0f49e3e026f6a-01OV008-7579323e-2fae...   \n",
       "88043  626c0a1dbfa0f49e3e026f6a-01OV008-7579323e-2fae...   \n",
       "88044  626c0a1dbfa0f49e3e026f6a-01OV008-7579323e-2fae...   \n",
       "\n",
       "            dsa_collection_uuid                                slide_id  \\\n",
       "4480   626c0a1dbfa0f49e3e026f6a  01OV002-bd8cdc70-3d46-40ae-99c4-90ef77   \n",
       "4602   626c0a1dbfa0f49e3e026f6a  01OV002-bd8cdc70-3d46-40ae-99c4-90ef77   \n",
       "4603   626c0a1dbfa0f49e3e026f6a  01OV002-bd8cdc70-3d46-40ae-99c4-90ef77   \n",
       "4604   626c0a1dbfa0f49e3e026f6a  01OV002-bd8cdc70-3d46-40ae-99c4-90ef77   \n",
       "4719   626c0a1dbfa0f49e3e026f6a  01OV002-bd8cdc70-3d46-40ae-99c4-90ef77   \n",
       "...                         ...                                     ...   \n",
       "87948  626c0a1dbfa0f49e3e026f6a  01OV008-7579323e-2fae-43a9-b00f-a15c28   \n",
       "87949  626c0a1dbfa0f49e3e026f6a  01OV008-7579323e-2fae-43a9-b00f-a15c28   \n",
       "87950  626c0a1dbfa0f49e3e026f6a  01OV008-7579323e-2fae-43a9-b00f-a15c28   \n",
       "88043  626c0a1dbfa0f49e3e026f6a  01OV008-7579323e-2fae-43a9-b00f-a15c28   \n",
       "88044  626c0a1dbfa0f49e3e026f6a  01OV008-7579323e-2fae-43a9-b00f-a15c28   \n",
       "\n",
       "              address  x_coord  y_coord  xy_extent  tile_size tile_units  \\\n",
       "4480   x52_y114_z20.0    13312    29184        256        128         px   \n",
       "4602   x53_y113_z20.0    13568    28928        256        128         px   \n",
       "4603   x53_y114_z20.0    13568    29184        256        128         px   \n",
       "4604   x53_y115_z20.0    13568    29440        256        128         px   \n",
       "4719   x54_y112_z20.0    13824    28672        256        128         px   \n",
       "...               ...      ...      ...        ...        ...        ...   \n",
       "87948  x111_y79_z20.0    28416    20224        256        128         px   \n",
       "87949  x111_y80_z20.0    28416    20480        256        128         px   \n",
       "87950  x111_y81_z20.0    28416    20736        256        128         px   \n",
       "88043  x112_y80_z20.0    28672    20480        256        128         px   \n",
       "88044  x112_y81_z20.0    28672    20736        256        128         px   \n",
       "\n",
       "       otsu_score regional_label  intersection_area  \\\n",
       "4480         0.66         stroma           0.055345   \n",
       "4602         0.81         stroma           0.212376   \n",
       "4603         0.56         stroma           0.965976   \n",
       "4604         0.45         stroma           0.344496   \n",
       "4719         0.94         stroma           0.061422   \n",
       "...           ...            ...                ...   \n",
       "87948        0.59         stroma           0.622304   \n",
       "87949        0.78         stroma           1.000000   \n",
       "87950        0.56         stroma           0.577473   \n",
       "88043        0.26         stroma           0.251255   \n",
       "88044        0.39         stroma           0.045343   \n",
       "\n",
       "                                              tile_store  \n",
       "4480   /home/aukermaa/vmount/PRO_12-123/tiling/01OV00...  \n",
       "4602   /home/aukermaa/vmount/PRO_12-123/tiling/01OV00...  \n",
       "4603   /home/aukermaa/vmount/PRO_12-123/tiling/01OV00...  \n",
       "4604   /home/aukermaa/vmount/PRO_12-123/tiling/01OV00...  \n",
       "4719   /home/aukermaa/vmount/PRO_12-123/tiling/01OV00...  \n",
       "...                                                  ...  \n",
       "87948  /home/aukermaa/vmount/PRO_12-123/tiling/01OV00...  \n",
       "87949  /home/aukermaa/vmount/PRO_12-123/tiling/01OV00...  \n",
       "87950  /home/aukermaa/vmount/PRO_12-123/tiling/01OV00...  \n",
       "88043  /home/aukermaa/vmount/PRO_12-123/tiling/01OV00...  \n",
       "88044  /home/aukermaa/vmount/PRO_12-123/tiling/01OV00...  \n",
       "\n",
       "[3731 rows x 13 columns]"
      ]
     },
     "execution_count": 9,
     "metadata": {},
     "output_type": "execute_result"
    }
   ],
   "source": [
    "import pandas as pd\n",
    "df_tiles = pd.read_parquet(\"~/vmount/PRO_12-123/datasets/PRO_TILES_LABLED/\").query(\"intersection_area > 0\")\n",
    "print (df_tiles['regional_label'].value_counts())\n",
    "df_tiles"
   ]
  },
  {
   "cell_type": "markdown",
   "metadata": {},
   "source": [
    "Congratulations! Now you have 2120 tumor, 860 stroma, and 751 fat tiles images and labels ready to train your model."
   ]
  }
 ],
 "metadata": {
  "kernelspec": {
   "display_name": "Python 3 (ipykernel)",
   "language": "python",
   "name": "python3"
  },
  "language_info": {
   "codemirror_mode": {
    "name": "ipython",
    "version": 3
   },
   "file_extension": ".py",
   "mimetype": "text/x-python",
   "name": "python",
   "nbconvert_exporter": "python",
   "pygments_lexer": "ipython3",
   "version": "3.9.11"
  }
 },
 "nbformat": 4,
 "nbformat_minor": 4
}
