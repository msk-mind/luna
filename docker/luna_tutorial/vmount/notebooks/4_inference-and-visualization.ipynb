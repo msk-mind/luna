{
 "cells": [
  {
   "cell_type": "markdown",
   "metadata": {},
   "source": [
    "# Inference and Visualization Tutorial"
   ]
  },
  {
   "cell_type": "markdown",
   "metadata": {},
   "source": [
    "Welcome to the inference and visualization notebook! At this point, you should have a trained model and tiles to run inference. In this notebook we will run inference on a slide and visualize the results. Here are the steps we will review:\n",
    "\n",
    "- Run inference with a trained model.\n",
    "- Visualize the inference results"
   ]
  },
  {
   "cell_type": "markdown",
   "metadata": {},
   "source": [
    "## Run inference with a trained model"
   ]
  },
  {
   "cell_type": "markdown",
   "metadata": {},
   "source": [
    "Often tissue-based analysis on whole slide images benefit from annotations provided by expert pathologists. However, having pathologists annotate 1000s of slides is very time consuming and expensive. To overcome this bottleneck, it is common to have pathologist annotate a subset of the slides, and use that dataset to train a model. This model is then used to label the rest of the dataset.\n",
    "\n",
    "In the model training notebook, we trained a ResNet-18 model on a subset of our slides with the annotated regions and labels. We will now use this trained model and the prepared tiles from the test slide to run the inference step."
   ]
  },
  {
   "cell_type": "code",
   "execution_count": 2,
   "metadata": {},
   "outputs": [
    {
     "name": "stdout",
     "output_type": "stream",
     "text": [
      "env: LUNA_HOME=/Users/rosed2/Documents/msk-mind/luna\n",
      "env: PYTHONPATH=/Users/rosed2/Documents/msk-mind/luna/pyluna-pathology:/Users/rosed2/Documents/msk-mind/luna/pyluna-common:.\n"
     ]
    }
   ],
   "source": [
    "# TEMP\n",
    "%env LUNA_HOME=/Users/rosed2/Documents/msk-mind/luna\n",
    "%env PYTHONPATH=/Users/rosed2/Documents/msk-mind/luna/pyluna-pathology:/Users/rosed2/Documents/msk-mind/luna/pyluna-common:.\n"
   ]
  },
  {
   "cell_type": "code",
   "execution_count": 7,
   "metadata": {},
   "outputs": [
    {
     "name": "stdout",
     "output_type": "stream",
     "text": [
      "2022-04-04 15:07:49,991 - INFO - root - FYI: Initalized logger, log file at: data-processing.log with handlers: [<StreamHandler <stderr> (INFO)>, <RotatingFileHandler /Users/rosed2/Documents/msk-mind/luna/docker/luna_tutorial/vmount/notebooks/data-processing.log (INFO)>]\r\n",
      "Usage: infer_tiles [OPTIONS] INPUT_SLIDE_TILES\r\n",
      "\r\n",
      "  Run a model with a specific pre-transform for all tiles in a slide\r\n",
      "  (tile_images), requires tiles to be saved (save_tiles) first\r\n",
      "\r\n",
      "  Inputs:\r\n",
      "      input_slide_tiles: path to tile images (.tiles.csv)\r\n",
      "  \b\r\n",
      "  Outputs:\r\n",
      "      tile_scores\r\n",
      "  \b\r\n",
      "  Example:\r\n",
      "      infer_tiles tiles/slide-100012/tiles\r\n",
      "          -rn msk-mind/luna-ml:main\r\n",
      "          -mn tissue_tile_net_model_5_class\r\n",
      "          -tn tissue_tile_net_transform\r\n",
      "          -wt main:tissue_net_2021-01-19_21.05.24-e17.pth\r\n",
      "          -o tiles/slide-100012/scores\r\n",
      "\r\n",
      "Options:\r\n",
      "  -o, --output_dir TEXT         path to output directory to save results\r\n",
      "  -rn, --hub_repo_or_dir TEXT   repository name to pull model and weight from,\r\n",
      "                                e.g. msk-mind/luna-ml\r\n",
      "\r\n",
      "  -tn, --transform_name TEXT    torch hub transform name\r\n",
      "  -mn, --model_name TEXT        torch hub model name\r\n",
      "  -kw, --kwargs TEXT            additional keywords to pass to model\r\n",
      "                                initialization\r\n",
      "\r\n",
      "  -nc, --num_cores INTEGER      Number of cores to use\r\n",
      "  -bx, --batch_size INTEGER     batch size used for inference speedup\r\n",
      "  -m, --method_param_path TEXT  path to a metadata json/yaml file with method\r\n",
      "                                parameters to reproduce results\r\n",
      "\r\n",
      "  --help                        Show this message and exit.\r\n"
     ]
    }
   ],
   "source": [
    "!infer_tiles --help"
   ]
  },
  {
   "cell_type": "markdown",
   "metadata": {},
   "source": [
    "**infer_tiles** CLI takes in details on your trained model, and loads the tiles data for inference."
   ]
  },
  {
   "cell_type": "code",
   "execution_count": 18,
   "metadata": {},
   "outputs": [
    {
     "name": "stdout",
     "output_type": "stream",
     "text": [
      "address,x_coord,y_coord,xy_extent,tile_size,tile_units,tile_store\r\n",
      "x1_y1_z10.0,512,512,512,256,px,pyluna-pathology/tests/luna/pathology/cli/testdata/data/save_tiles/123/123.tiles.h5\r\n",
      "x1_y2_z10.0,512,1024,512,256,px,pyluna-pathology/tests/luna/pathology/cli/testdata/data/save_tiles/123/123.tiles.h5\r\n",
      "x1_y3_z10.0,512,1536,512,256,px,pyluna-pathology/tests/luna/pathology/cli/testdata/data/save_tiles/123/123.tiles.h5\r\n",
      "x1_y4_z10.0,512,2048,512,256,px,pyluna-pathology/tests/luna/pathology/cli/testdata/data/save_tiles/123/123.tiles.h5\r\n",
      "x2_y1_z10.0,1024,512,512,256,px,pyluna-pathology/tests/luna/pathology/cli/testdata/data/save_tiles/123/123.tiles.h5\r\n",
      "x2_y2_z10.0,1024,1024,512,256,px,pyluna-pathology/tests/luna/pathology/cli/testdata/data/save_tiles/123/123.tiles.h5\r\n",
      "x2_y3_z10.0,1024,1536,512,256,px,pyluna-pathology/tests/luna/pathology/cli/testdata/data/save_tiles/123/123.tiles.h5\r\n",
      "x2_y4_z10.0,1024,2048,512,256,px,pyluna-pathology/tests/luna/pathology/cli/testdata/data/save_tiles/123/123.tiles.h5\r\n",
      "x3_y1_z10.0,1536,512,512,256,px,pyluna-pathology/tests/luna/pathology/cli/testdata/data/save_tiles/123/123.tiles.h5\r\n",
      "x3_y2_z10.0,1536,1024,512,256,px,pyluna-pathology/tests/luna/pathology/cli/testdata/data/save_tiles/123/123.tiles.h5\r\n",
      "x3_y3_z10.0,1536,1536,512,256,px,pyluna-pathology/tests/luna/pathology/cli/testdata/data/save_tiles/123/123.tiles.h5\r\n",
      "x3_y4_z10.0,1536,2048,512,256,px,pyluna-pathology/tests/luna/pathology/cli/testdata/data/save_tiles/123/123.tiles.h5\r\n"
     ]
    }
   ],
   "source": [
    "#!cat ../PRO-12-123/tables/tiles/01OV008-7579323e-2fae-43a9-b00f-a15c28/ov_default_labels/TileImages/data/address.slice.csv\n",
    "\n",
    "# Copied pyluna-pathology/tests/luna/pathology/cli/testdata/data/save_tiles/123/\n",
    "!cat ../PRO-12-123/sample_tiles/123.tiles.csv"
   ]
  },
  {
   "cell_type": "code",
   "execution_count": 20,
   "metadata": {
    "scrolled": false
   },
   "outputs": [
    {
     "name": "stdout",
     "output_type": "stream",
     "text": [
      "2022-04-04 15:58:01,312 - INFO - root - FYI: Initalized logger, log file at: data-processing.log with handlers: [<StreamHandler <stderr> (INFO)>, <RotatingFileHandler /Users/rosed2/Documents/msk-mind/luna/docker/luna_tutorial/vmount/notebooks/data-processing.log (INFO)>]\n",
      "2022-04-04 15:58:01,313 - INFO - luna.common.utils - Running <function infer_tile_labels at 0x16239e940> with {'output_dir': '../PRO-12-123/sample_tiles_inference', 'hub_repo_or_dir': '../classifier', 'model_name': 'test_custom_model', 'input_slide_tiles': '../PRO-12-123/sample_tiles/123.tiles.csv', 'transform_name': None, 'kwargs': {}, 'num_cores': 4, 'batch_size': 64, 'method_param_path': None}\n",
      "2022-04-04 15:58:01,313 - INFO - luna.common.utils - Param input_slide_tiles set = ../PRO-12-123/sample_tiles/123.tiles.csv\n",
      "2022-04-04 15:58:01,313 - INFO - luna.common.utils - Param output_dir set = ../PRO-12-123/sample_tiles_inference\n",
      "2022-04-04 15:58:01,313 - INFO - luna.common.utils - Param hub_repo_or_dir set = ../classifier\n",
      "2022-04-04 15:58:01,313 - INFO - luna.common.utils - Param model_name set = test_custom_model\n",
      "2022-04-04 15:58:01,314 - INFO - luna.common.utils - Param kwargs set = {}\n",
      "2022-04-04 15:58:01,314 - INFO - luna.common.utils - Param num_cores set = 4\n",
      "2022-04-04 15:58:01,314 - INFO - luna.common.utils - Param batch_size set = 64\n",
      "../PRO-12-123/sample_tiles/123.tiles.csv/metadata.yml\n",
      "2022-04-04 15:58:01,314 - INFO - luna.common.utils - Full segment key set: {}\n",
      "\n",
      "----------------------------------- Running transform::infer_tile_labels -----------------------------------\n",
      "\n",
      "2022-04-04 15:58:01,314 - INFO - infer_tile_labels - Torch hub source = local @ ../classifier\n",
      "2022-04-04 15:58:01,315 - INFO - infer_tile_labels - Using device = cpu\n",
      "100%|█████████████████████████████████████████████| 1/1 [00:08<00:00,  8.80s/it]\n",
      "2022-04-04 15:58:10,126 - INFO - infer_tile_labels - Mapping column labels -> {0: 'Background', 1: 'Tumor'}\n",
      "2022-04-04 15:58:10,134 - INFO - infer_tile_labels -              x_coord  y_coord  ...  Background     Tumor\n",
      "2022-04-04 15:58:10,134 - INFO - infer_tile_labels - address                        ...                      \n",
      "2022-04-04 15:58:10,134 - INFO - infer_tile_labels - x1_y1_z10.0      512      512  ...   -0.162288  1.159485\n",
      "2022-04-04 15:58:10,134 - INFO - infer_tile_labels - x1_y2_z10.0      512     1024  ...   -0.151000  1.070280\n",
      "2022-04-04 15:58:10,134 - INFO - infer_tile_labels - x1_y3_z10.0      512     1536  ...   -0.146432  1.033477\n",
      "2022-04-04 15:58:10,134 - INFO - infer_tile_labels - x1_y4_z10.0      512     2048  ...   -0.136010  0.933327\n",
      "2022-04-04 15:58:10,134 - INFO - infer_tile_labels - x2_y1_z10.0     1024      512  ...   -0.098171  0.691738\n",
      "2022-04-04 15:58:10,134 - INFO - infer_tile_labels - x2_y2_z10.0     1024     1024  ...   -0.090072  0.663284\n",
      "2022-04-04 15:58:10,134 - INFO - infer_tile_labels - x2_y3_z10.0     1024     1536  ...   -0.091160  0.654910\n",
      "2022-04-04 15:58:10,134 - INFO - infer_tile_labels - x2_y4_z10.0     1024     2048  ...   -0.107406  0.732663\n",
      "2022-04-04 15:58:10,134 - INFO - infer_tile_labels - x3_y1_z10.0     1536      512  ...   -0.158197  1.147173\n",
      "2022-04-04 15:58:10,134 - INFO - infer_tile_labels - x3_y2_z10.0     1536     1024  ...   -0.135955  1.007193\n",
      "2022-04-04 15:58:10,134 - INFO - infer_tile_labels - x3_y3_z10.0     1536     1536  ...   -0.152792  1.108577\n",
      "2022-04-04 15:58:10,134 - INFO - infer_tile_labels - x3_y4_z10.0     1536     2048  ...   -0.127656  0.930692\n",
      "2022-04-04 15:58:10,134 - INFO - infer_tile_labels - \n",
      "2022-04-04 15:58:10,134 - INFO - infer_tile_labels - [12 rows x 8 columns]\n",
      "2022-04-04 15:58:10,162 - INFO - luna.common.utils - Code block 'transform::infer_tile_labels' took: 8.848070255s\n",
      "2022-04-04 15:58:10,164 - INFO - luna.common.utils - Done.\n"
     ]
    }
   ],
   "source": [
    "!infer_tiles ../PRO-12-123/sample_tiles/123.tiles.csv \\\n",
    "--output_dir ../PRO-12-123/sample_tiles_inference \\\n",
    "--hub_repo_or_dir ../classifier \\\n",
    "--model_name test_custom_model \\\n",
    "#--model_name tissue_tile_net_model_5_class \\\n",
    "--num_cores 1 \\\n",
    "--batch_size 16\n",
    "        "
   ]
  },
  {
   "cell_type": "markdown",
   "metadata": {},
   "source": [
    "The output of the inference is saved in a CSV. Let's take a look at the results."
   ]
  },
  {
   "cell_type": "code",
   "execution_count": 21,
   "metadata": {},
   "outputs": [
    {
     "name": "stdout",
     "output_type": "stream",
     "text": [
      "total 16\r\n",
      "-rw-r--r--  1 rosed2  MSKCC\\Domain Users   1.2K Apr  4 15:58 tile_scores_and_labels_pytorch_inference.csv\r\n",
      "-rw-r--r--  1 rosed2  MSKCC\\Domain Users   446B Apr  4 15:58 metadata.yml\r\n"
     ]
    }
   ],
   "source": [
    "!ls -lhtr ../PRO-12-123/sample_tiles_inference "
   ]
  },
  {
   "cell_type": "markdown",
   "metadata": {},
   "source": [
    "Note that for the purpose of the tutorials, we are working with a small toy dataset, and therefore the inference result is not optimal. This result is for demonstration purposes only."
   ]
  },
  {
   "cell_type": "code",
   "execution_count": 23,
   "metadata": {},
   "outputs": [
    {
     "data": {
      "text/html": [
       "<div>\n",
       "<style scoped>\n",
       "    .dataframe tbody tr th:only-of-type {\n",
       "        vertical-align: middle;\n",
       "    }\n",
       "\n",
       "    .dataframe tbody tr th {\n",
       "        vertical-align: top;\n",
       "    }\n",
       "\n",
       "    .dataframe thead th {\n",
       "        text-align: right;\n",
       "    }\n",
       "</style>\n",
       "<table border=\"1\" class=\"dataframe\">\n",
       "  <thead>\n",
       "    <tr style=\"text-align: right;\">\n",
       "      <th></th>\n",
       "      <th>address</th>\n",
       "      <th>x_coord</th>\n",
       "      <th>y_coord</th>\n",
       "      <th>xy_extent</th>\n",
       "      <th>tile_size</th>\n",
       "      <th>tile_units</th>\n",
       "      <th>tile_store</th>\n",
       "      <th>Background</th>\n",
       "      <th>Tumor</th>\n",
       "    </tr>\n",
       "  </thead>\n",
       "  <tbody>\n",
       "    <tr>\n",
       "      <th>0</th>\n",
       "      <td>x1_y1_z10.0</td>\n",
       "      <td>512</td>\n",
       "      <td>512</td>\n",
       "      <td>512</td>\n",
       "      <td>256</td>\n",
       "      <td>px</td>\n",
       "      <td>../PRO-12-123/sample_tiles/123.tiles.h5</td>\n",
       "      <td>-0.162288</td>\n",
       "      <td>1.159485</td>\n",
       "    </tr>\n",
       "    <tr>\n",
       "      <th>1</th>\n",
       "      <td>x1_y2_z10.0</td>\n",
       "      <td>512</td>\n",
       "      <td>1024</td>\n",
       "      <td>512</td>\n",
       "      <td>256</td>\n",
       "      <td>px</td>\n",
       "      <td>../PRO-12-123/sample_tiles/123.tiles.h5</td>\n",
       "      <td>-0.151000</td>\n",
       "      <td>1.070280</td>\n",
       "    </tr>\n",
       "    <tr>\n",
       "      <th>2</th>\n",
       "      <td>x1_y3_z10.0</td>\n",
       "      <td>512</td>\n",
       "      <td>1536</td>\n",
       "      <td>512</td>\n",
       "      <td>256</td>\n",
       "      <td>px</td>\n",
       "      <td>../PRO-12-123/sample_tiles/123.tiles.h5</td>\n",
       "      <td>-0.146432</td>\n",
       "      <td>1.033477</td>\n",
       "    </tr>\n",
       "    <tr>\n",
       "      <th>3</th>\n",
       "      <td>x1_y4_z10.0</td>\n",
       "      <td>512</td>\n",
       "      <td>2048</td>\n",
       "      <td>512</td>\n",
       "      <td>256</td>\n",
       "      <td>px</td>\n",
       "      <td>../PRO-12-123/sample_tiles/123.tiles.h5</td>\n",
       "      <td>-0.136010</td>\n",
       "      <td>0.933327</td>\n",
       "    </tr>\n",
       "    <tr>\n",
       "      <th>4</th>\n",
       "      <td>x2_y1_z10.0</td>\n",
       "      <td>1024</td>\n",
       "      <td>512</td>\n",
       "      <td>512</td>\n",
       "      <td>256</td>\n",
       "      <td>px</td>\n",
       "      <td>../PRO-12-123/sample_tiles/123.tiles.h5</td>\n",
       "      <td>-0.098171</td>\n",
       "      <td>0.691738</td>\n",
       "    </tr>\n",
       "    <tr>\n",
       "      <th>5</th>\n",
       "      <td>x2_y2_z10.0</td>\n",
       "      <td>1024</td>\n",
       "      <td>1024</td>\n",
       "      <td>512</td>\n",
       "      <td>256</td>\n",
       "      <td>px</td>\n",
       "      <td>../PRO-12-123/sample_tiles/123.tiles.h5</td>\n",
       "      <td>-0.090072</td>\n",
       "      <td>0.663284</td>\n",
       "    </tr>\n",
       "    <tr>\n",
       "      <th>6</th>\n",
       "      <td>x2_y3_z10.0</td>\n",
       "      <td>1024</td>\n",
       "      <td>1536</td>\n",
       "      <td>512</td>\n",
       "      <td>256</td>\n",
       "      <td>px</td>\n",
       "      <td>../PRO-12-123/sample_tiles/123.tiles.h5</td>\n",
       "      <td>-0.091160</td>\n",
       "      <td>0.654910</td>\n",
       "    </tr>\n",
       "    <tr>\n",
       "      <th>7</th>\n",
       "      <td>x2_y4_z10.0</td>\n",
       "      <td>1024</td>\n",
       "      <td>2048</td>\n",
       "      <td>512</td>\n",
       "      <td>256</td>\n",
       "      <td>px</td>\n",
       "      <td>../PRO-12-123/sample_tiles/123.tiles.h5</td>\n",
       "      <td>-0.107406</td>\n",
       "      <td>0.732663</td>\n",
       "    </tr>\n",
       "    <tr>\n",
       "      <th>8</th>\n",
       "      <td>x3_y1_z10.0</td>\n",
       "      <td>1536</td>\n",
       "      <td>512</td>\n",
       "      <td>512</td>\n",
       "      <td>256</td>\n",
       "      <td>px</td>\n",
       "      <td>../PRO-12-123/sample_tiles/123.tiles.h5</td>\n",
       "      <td>-0.158197</td>\n",
       "      <td>1.147173</td>\n",
       "    </tr>\n",
       "    <tr>\n",
       "      <th>9</th>\n",
       "      <td>x3_y2_z10.0</td>\n",
       "      <td>1536</td>\n",
       "      <td>1024</td>\n",
       "      <td>512</td>\n",
       "      <td>256</td>\n",
       "      <td>px</td>\n",
       "      <td>../PRO-12-123/sample_tiles/123.tiles.h5</td>\n",
       "      <td>-0.135955</td>\n",
       "      <td>1.007193</td>\n",
       "    </tr>\n",
       "    <tr>\n",
       "      <th>10</th>\n",
       "      <td>x3_y3_z10.0</td>\n",
       "      <td>1536</td>\n",
       "      <td>1536</td>\n",
       "      <td>512</td>\n",
       "      <td>256</td>\n",
       "      <td>px</td>\n",
       "      <td>../PRO-12-123/sample_tiles/123.tiles.h5</td>\n",
       "      <td>-0.152792</td>\n",
       "      <td>1.108577</td>\n",
       "    </tr>\n",
       "    <tr>\n",
       "      <th>11</th>\n",
       "      <td>x3_y4_z10.0</td>\n",
       "      <td>1536</td>\n",
       "      <td>2048</td>\n",
       "      <td>512</td>\n",
       "      <td>256</td>\n",
       "      <td>px</td>\n",
       "      <td>../PRO-12-123/sample_tiles/123.tiles.h5</td>\n",
       "      <td>-0.127656</td>\n",
       "      <td>0.930692</td>\n",
       "    </tr>\n",
       "  </tbody>\n",
       "</table>\n",
       "</div>"
      ],
      "text/plain": [
       "        address  x_coord  y_coord  xy_extent  tile_size tile_units  \\\n",
       "0   x1_y1_z10.0      512      512        512        256         px   \n",
       "1   x1_y2_z10.0      512     1024        512        256         px   \n",
       "2   x1_y3_z10.0      512     1536        512        256         px   \n",
       "3   x1_y4_z10.0      512     2048        512        256         px   \n",
       "4   x2_y1_z10.0     1024      512        512        256         px   \n",
       "5   x2_y2_z10.0     1024     1024        512        256         px   \n",
       "6   x2_y3_z10.0     1024     1536        512        256         px   \n",
       "7   x2_y4_z10.0     1024     2048        512        256         px   \n",
       "8   x3_y1_z10.0     1536      512        512        256         px   \n",
       "9   x3_y2_z10.0     1536     1024        512        256         px   \n",
       "10  x3_y3_z10.0     1536     1536        512        256         px   \n",
       "11  x3_y4_z10.0     1536     2048        512        256         px   \n",
       "\n",
       "                                 tile_store  Background     Tumor  \n",
       "0   ../PRO-12-123/sample_tiles/123.tiles.h5   -0.162288  1.159485  \n",
       "1   ../PRO-12-123/sample_tiles/123.tiles.h5   -0.151000  1.070280  \n",
       "2   ../PRO-12-123/sample_tiles/123.tiles.h5   -0.146432  1.033477  \n",
       "3   ../PRO-12-123/sample_tiles/123.tiles.h5   -0.136010  0.933327  \n",
       "4   ../PRO-12-123/sample_tiles/123.tiles.h5   -0.098171  0.691738  \n",
       "5   ../PRO-12-123/sample_tiles/123.tiles.h5   -0.090072  0.663284  \n",
       "6   ../PRO-12-123/sample_tiles/123.tiles.h5   -0.091160  0.654910  \n",
       "7   ../PRO-12-123/sample_tiles/123.tiles.h5   -0.107406  0.732663  \n",
       "8   ../PRO-12-123/sample_tiles/123.tiles.h5   -0.158197  1.147173  \n",
       "9   ../PRO-12-123/sample_tiles/123.tiles.h5   -0.135955  1.007193  \n",
       "10  ../PRO-12-123/sample_tiles/123.tiles.h5   -0.152792  1.108577  \n",
       "11  ../PRO-12-123/sample_tiles/123.tiles.h5   -0.127656  0.930692  "
      ]
     },
     "execution_count": 23,
     "metadata": {},
     "output_type": "execute_result"
    }
   ],
   "source": [
    "import pandas as pd\n",
    "\n",
    "results = pd.read_csv(\"../PRO-12-123/sample_tiles_inference/tile_scores_and_labels_pytorch_inference.csv\")\n",
    "results"
   ]
  },
  {
   "cell_type": "markdown",
   "metadata": {},
   "source": [
    "## Visualize the inference results"
   ]
  },
  {
   "cell_type": "markdown",
   "metadata": {},
   "source": [
    "Now we will visualize the inference results. **visualize_tiles_ng** CLI creates heatmaps based on the scores, and saves the thumbnail images in png format.\n"
   ]
  },
  {
   "cell_type": "code",
   "execution_count": 27,
   "metadata": {},
   "outputs": [
    {
     "name": "stdout",
     "output_type": "stream",
     "text": [
      "2022-04-04 16:05:18,158 - INFO - root - FYI: Initalized logger, log file at: data-processing.log with handlers: [<StreamHandler <stderr> (INFO)>, <RotatingFileHandler /Users/rosed2/Documents/msk-mind/luna/docker/luna_tutorial/vmount/notebooks/data-processing.log (INFO)>]\n",
      "Usage: visualize_tiles_png [OPTIONS] INPUT_SLIDE_IMAGE INPUT_SLIDE_TILES\n",
      "\n",
      "  Generate nice tile markup images with continuous or discrete tile scores\n",
      "\n",
      "  Inputs:\n",
      "      input_slide_image: slide image (virtual slide formats compatible with openslide, .svs, .tif, .scn, ...)\n",
      "      input_slide_tiles: slide tiles (manifest tile files, .tiles.csv)\n",
      " \n",
      "  Outputs:\n",
      "      markups: markup images\n",
      " \n",
      "  Example:\n",
      "      visualize_tiles_png 10001.svs 10001/tiles/10001.tiles.csv\n",
      "          -o 10001/markups\n",
      "          -pl Tumor,Stroma,TILs,otsu_score\n",
      "          -rmg 0.5\n",
      "\n",
      "Options:\n",
      "  -o, --output_dir TEXT           path to output directory to save results\n",
      "  -pl, --plot_labels TEXT         Label names (as column labels) to plot\n",
      "  -rmg, --requested_magnification TEXT\n",
      "                                  Magnificiation scale at which to generate\n",
      "                                  thumbnail/png images (recommended <= 1)\n",
      "\n",
      "  --mpp-units                     Set this flag if input coordinates are in\n",
      "                                  µm, not pixels\n",
      "\n",
      "  -m, --method_param_path TEXT    path to a metadata json/yaml file with\n",
      "                                  method parameters to reproduce results\n",
      "\n",
      "  --help                          Show this message and exit.\n"
     ]
    }
   ],
   "source": [
    "!visualize_tiles_png --help"
   ]
  },
  {
   "cell_type": "markdown",
   "metadata": {},
   "source": [
    "If you want to evaluate your model results in detail, it is desirable to review the results and images in high-magnification.\n",
    "We use [Digital Slide Archive (DSA)](https://digitalslidearchive.github.io/digital_slide_archive/) viewer to examine the high resolution image and results. DSA is a web-based platform and this enables us to easily share the images and model results with other researchers via a link.\n",
    "\n",
    "A set of CLIs are available to help you convert your pathologist or model-generated annotations and push them to DSA. Please refer to the `dsa-tools.ipynb` notebook for more details.\n"
   ]
  },
  {
   "cell_type": "code",
   "execution_count": 8,
   "metadata": {},
   "outputs": [
    {
     "name": "stdout",
     "output_type": "stream",
     "text": [
      "2022-04-05 08:07:23,436 - INFO - root - FYI: Initalized logger, log file at: data-processing.log with handlers: [<StreamHandler <stderr> (INFO)>, <RotatingFileHandler /Users/rosed2/Documents/msk-mind/luna/docker/luna_tutorial/vmount/notebooks/data-processing.log (INFO)>]\n",
      "2022-04-05 08:07:24,597 - INFO - luna.common.utils - Running <function visualize_tiles at 0x11f211ca0> with {'output_dir': '../PRO-12-123/sample_tiles_viz', 'plot_labels': 'Background,Tumor', 'requested_magnification': '1', 'input_slide_image': '../PRO-12-123/123.svs', 'input_slide_tiles': '../PRO-12-123/sample_tiles_inference/tile_scores_and_labels_pytorch_inference.csv', 'mpp_units': False, 'method_param_path': None}\n",
      "2022-04-05 08:07:24,597 - INFO - luna.common.utils - Param input_slide_image set = ../PRO-12-123/123.svs\n",
      "2022-04-05 08:07:24,597 - INFO - luna.common.utils - Param input_slide_tiles set = ../PRO-12-123/sample_tiles_inference/tile_scores_and_labels_pytorch_inference.csv\n",
      "2022-04-05 08:07:24,597 - INFO - luna.common.utils - Param mpp_units set = False\n",
      "2022-04-05 08:07:24,597 - INFO - luna.common.utils - Param plot_labels set = ['Background', 'Tumor']\n",
      "2022-04-05 08:07:24,597 - INFO - luna.common.utils - Param requested_magnification set = 1.0\n",
      "2022-04-05 08:07:24,598 - INFO - luna.common.utils - Param output_dir set = ../PRO-12-123/sample_tiles_viz\n",
      "../PRO-12-123/123.svs/metadata.yml\n",
      "../PRO-12-123/sample_tiles_inference/tile_scores_and_labels_pytorch_inference.csv/metadata.yml\n",
      "2022-04-05 08:07:24,598 - INFO - luna.common.utils - Full segment key set: {}\n",
      "\n",
      "----------------------------------- Running transform::visualize_tiles -----------------------------------\n",
      "\n",
      "100%|██████████████████████████████████████████| 12/12 [00:00<00:00, 999.50it/s]\n",
      "2022-04-05 08:07:24,932 - INFO - visualize_tiles_png - Saved Tumor visualization at ../PRO-12-123/sample_tiles_viz/tile_scores_and_labels_visualization_Tumor.png\n",
      "100%|█████████████████████████████████████████| 12/12 [00:00<00:00, 1287.16it/s]\n",
      "2022-04-05 08:07:24,950 - INFO - visualize_tiles_png - Saved Background visualization at ../PRO-12-123/sample_tiles_viz/tile_scores_and_labels_visualization_Background.png\n",
      "2022-04-05 08:07:24,956 - INFO - luna.common.utils - Code block 'transform::visualize_tiles' took: 0.35854921900000014s\n",
      "2022-04-05 08:07:24,958 - INFO - luna.common.utils - Done.\n"
     ]
    }
   ],
   "source": [
    "!visualize_tiles_png \\\n",
    "../PRO-12-123/123.svs \\\n",
    "../PRO-12-123/sample_tiles_inference/tile_scores_and_labels_pytorch_inference.csv \\\n",
    "--output_dir ../PRO-12-123/sample_tiles_viz \\\n",
    "--plot_labels Background,Tumor \\\n",
    "--requested_magnification 1\n"
   ]
  },
  {
   "cell_type": "code",
   "execution_count": 9,
   "metadata": {},
   "outputs": [
    {
     "data": {
      "image/png": "[encoded data removed]",
      "text/plain": [
       "<IPython.core.display.Image object>"
      ]
     },
     "execution_count": 9,
     "metadata": {},
     "output_type": "execute_result"
    }
   ],
   "source": [
    "from IPython.display import Image\n",
    "\n",
    "Image('../PRO-12-123/sample_tiles_viz/tile_scores_and_labels_visualization_Background.png')"
   ]
  },
  {
   "cell_type": "markdown",
   "metadata": {},
   "source": [
    "Congratulations on completing the inference and visualization notebook! To view the end-to-end pipeline of the tiling workflow, please checkout the end-to-end notebook."
   ]
  },
  {
   "cell_type": "code",
   "execution_count": null,
   "metadata": {},
   "outputs": [],
   "source": []
  }
 ],
 "metadata": {
  "kernelspec": {
   "display_name": "Python 3",
   "language": "python",
   "name": "python3"
  },
  "language_info": {
   "codemirror_mode": {
    "name": "ipython",
    "version": 3
   },
   "file_extension": ".py",
   "mimetype": "text/x-python",
   "name": "python",
   "nbconvert_exporter": "python",
   "pygments_lexer": "ipython3",
   "version": "3.7.3"
  }
 },
 "nbformat": 4,
 "nbformat_minor": 4
}
