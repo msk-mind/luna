{
 "cells": [
  {
   "cell_type": "markdown",
   "metadata": {},
   "source": [
    "# Tile Generation Tutorial"
   ]
  },
  {
   "cell_type": "code",
   "execution_count": 6,
   "metadata": {
    "scrolled": true
   },
   "outputs": [
    {
     "name": "stdout",
     "output_type": "stream",
     "text": [
      "env: DATASET_URL=http://waystation:6077/\n"
     ]
    }
   ],
   "source": [
    "env DATASET_URL=http://waystation:6077/"
   ]
  },
  {
   "cell_type": "markdown",
   "metadata": {},
   "source": [
    "We can run the same save_tiles command as before"
   ]
  },
  {
   "cell_type": "code",
   "execution_count": 3,
   "metadata": {},
   "outputs": [],
   "source": [
    "import pandas as pd"
   ]
  },
  {
   "cell_type": "code",
   "execution_count": 13,
   "metadata": {
    "scrolled": false
   },
   "outputs": [
    {
     "name": "stdout",
     "output_type": "stream",
     "text": [
      "2022-04-29 19:45:49,381 - INFO - root - Initalized logger, log file at: data-processing.log\n",
      "2022-04-29 19:45:51,052 - INFO - luna.common.utils - Started CLI Runner wtih <function save_tiles at 0x7f70d2c923a0>\n",
      "2022-04-29 19:45:51,055 - INFO - luna.common.utils - Validating params...\n",
      "2022-04-29 19:45:51,056 - INFO - luna.common.utils -  -> Set input_slide_image (<class 'str'>) = /home/aukermaa/vmount/PRO_12-123/data/toy_data_set/01OV002-bd8cdc70-3d46-40ae-99c4-90ef77.svs\n",
      "2022-04-29 19:45:51,058 - INFO - luna.common.utils -  -> Set input_slide_tiles (<class 'str'>) = /home/aukermaa/vmount/PRO_12-123/tiling/test/label\n",
      "2022-04-29 19:45:51,059 - INFO - luna.common.utils -  -> Set output_dir (<class 'str'>) = /home/aukermaa/vmount/PRO_12-123/tiling/test/saved_tiles\n",
      "2022-04-29 19:45:51,061 - INFO - luna.common.utils -  -> Set num_cores (<class 'int'>) = 16\n",
      "2022-04-29 19:45:51,062 - INFO - luna.common.utils -  -> Set batch_size (<class 'int'>) = 20\n",
      "2022-04-29 19:45:51,066 - INFO - luna.common.utils - Expanding inputs...\n",
      "2022-04-29 19:45:51,067 - INFO - luna.common.utils - Attempting to read metadata at /home/aukermaa/vmount/PRO_12-123/data/toy_data_set/01OV002-bd8cdc70-3d46-40ae-99c4-90ef77.svs/metadata.yml\n",
      "2022-04-29 19:45:51,070 - INFO - luna.common.utils - Attempting to read metadata at /home/aukermaa/vmount/PRO_12-123/tiling/test/label/metadata.yml\n",
      "2022-04-29 19:45:51,075 - INFO - luna.common.utils - Expanded input:\n",
      "2022-04-29 19:45:51,075 - INFO - luna.common.utils -  -> /home/aukermaa/vmount/PRO_12-123/tiling/test/label\n",
      "2022-04-29 19:45:51,075 - INFO - luna.common.utils -  -> /home/aukermaa/vmount/PRO_12-123/tiling/test/label/01OV002-bd8cdc70-3d46-40ae-99c4-90ef77.regional_label.tiles.parquet\n",
      "2022-04-29 19:45:51,076 - INFO - luna.common.utils - Found segment keys: {'dsa_collection_uuid': '626c0a1dbfa0f49e3e026f6a', 'slide_id': '01OV002-bd8cdc70-3d46-40ae-99c4-90ef77'}\n",
      "2022-04-29 19:45:51,078 - INFO - luna.common.utils - Resolved input:\n",
      "2022-04-29 19:45:51,078 - INFO - luna.common.utils -  -> /home/aukermaa/vmount/PRO_12-123/data/toy_data_set/01OV002-bd8cdc70-3d46-40ae-99c4-90ef77.svs\n",
      "2022-04-29 19:45:51,078 - INFO - luna.common.utils -  -> /home/aukermaa/vmount/PRO_12-123/data/toy_data_set/01OV002-bd8cdc70-3d46-40ae-99c4-90ef77.svs\n",
      "2022-04-29 19:45:51,079 - INFO - luna.common.utils - Resolved input:\n",
      "2022-04-29 19:45:51,079 - INFO - luna.common.utils -  -> /home/aukermaa/vmount/PRO_12-123/tiling/test/label/01OV002-bd8cdc70-3d46-40ae-99c4-90ef77.regional_label.tiles.parquet\n",
      "2022-04-29 19:45:51,079 - INFO - luna.common.utils -  -> /home/aukermaa/vmount/PRO_12-123/tiling/test/label/01OV002-bd8cdc70-3d46-40ae-99c4-90ef77.regional_label.tiles.parquet\n",
      "2022-04-29 19:45:51,081 - INFO - luna.common.utils - Full segment key set: {'dsa_collection_uuid': '626c0a1dbfa0f49e3e026f6a', 'slide_id': '01OV002-bd8cdc70-3d46-40ae-99c4-90ef77'}\n",
      "2022-04-29 19:45:51,083 - INFO - luna.common.utils - ------------------------------------------------------------\n",
      "2022-04-29 19:45:51,083 - INFO - luna.common.utils -  Starting transform::save_tiles \n",
      "2022-04-29 19:45:51,083 - INFO - luna.common.utils - ------------------------------------------------------------\n",
      "2022-04-29 19:45:51,114 - INFO - generate_tiles - Now generating tiles with num_cores=16 and batch_size=20!\n",
      "2022-04-29 19:45:51,116 - WARNING - generate_tiles - /home/aukermaa/vmount/PRO_12-123/tiling/test/saved_tiles/01OV002-bd8cdc70-3d46-40ae-99c4-90ef77.tiles.h5 already exists, deleting the file..\n",
      "100%|███████████████████████████████████████████| 66/66 [00:06<00:00,  9.49it/s]\n",
      "2022-04-29 19:45:58,411 - INFO - generate_tiles -               x_coord  ...                                         tile_store\n",
      "2022-04-29 19:45:58,411 - INFO - generate_tiles - address                ...                                                   \n",
      "2022-04-29 19:45:58,411 - INFO - generate_tiles - x1_y42_z5.0      1024  ...  /home/aukermaa/vmount/PRO_12-123/tiling/test/s...\n",
      "2022-04-29 19:45:58,411 - INFO - generate_tiles - x1_y43_z5.0      1024  ...  /home/aukermaa/vmount/PRO_12-123/tiling/test/s...\n",
      "2022-04-29 19:45:58,411 - INFO - generate_tiles - x2_y38_z5.0      2048  ...  /home/aukermaa/vmount/PRO_12-123/tiling/test/s...\n",
      "2022-04-29 19:45:58,411 - INFO - generate_tiles - x2_y39_z5.0      2048  ...  /home/aukermaa/vmount/PRO_12-123/tiling/test/s...\n",
      "2022-04-29 19:45:58,411 - INFO - generate_tiles - x2_y40_z5.0      2048  ...  /home/aukermaa/vmount/PRO_12-123/tiling/test/s...\n",
      "2022-04-29 19:45:58,411 - INFO - generate_tiles - ...               ...  ...                                                ...\n",
      "2022-04-29 19:45:58,411 - INFO - generate_tiles - x46_y30_z5.0    47104  ...  /home/aukermaa/vmount/PRO_12-123/tiling/test/s...\n",
      "2022-04-29 19:45:58,411 - INFO - generate_tiles - x46_y31_z5.0    47104  ...  /home/aukermaa/vmount/PRO_12-123/tiling/test/s...\n",
      "2022-04-29 19:45:58,411 - INFO - generate_tiles - x46_y32_z5.0    47104  ...  /home/aukermaa/vmount/PRO_12-123/tiling/test/s...\n",
      "2022-04-29 19:45:58,411 - INFO - generate_tiles - x46_y33_z5.0    47104  ...  /home/aukermaa/vmount/PRO_12-123/tiling/test/s...\n",
      "2022-04-29 19:45:58,411 - INFO - generate_tiles - x46_y34_z5.0    47104  ...  /home/aukermaa/vmount/PRO_12-123/tiling/test/s...\n",
      "2022-04-29 19:45:58,411 - INFO - generate_tiles - \n",
      "2022-04-29 19:45:58,411 - INFO - generate_tiles - [1303 rows x 9 columns]\n",
      "2022-04-29 19:45:58,440 - INFO - luna.common.utils - Code block 'transform::save_tiles' took: 7.355777136981487s\n",
      "2022-04-29 19:45:58,441 - INFO - luna.common.utils - ------------------------------------------------------------\n",
      "2022-04-29 19:45:58,441 - INFO - luna.common.utils -  Done with transform, running post-transform functions... \n",
      "2022-04-29 19:45:58,441 - INFO - luna.common.utils - ------------------------------------------------------------\n",
      "2022-04-29 19:45:58,475 - INFO - luna.common.utils - Adding feature segment /home/aukermaa/vmount/PRO_12-123/tiling/test/saved_tiles/01OV002-bd8cdc70-3d46-40ae-99c4-90ef77.tiles.parquet to PRO_TILES_S3\n",
      "2022-04-29 19:45:58,476 - INFO - luna.common.utils - Found dataset URL = http://waystation:6077/\n",
      "2022-04-29 19:45:58,477 - INFO - luna.common.utils - Adding /home/aukermaa/vmount/PRO_12-123/tiling/test/saved_tiles/01OV002-bd8cdc70-3d46-40ae-99c4-90ef77.tiles.parquet to PRO_TILES_S3 via http://waystation:6077/\n",
      "2022-04-29 19:45:58,478 - INFO - luna.common.utils - SEGMENT_ID=626c0a1dbfa0f49e3e026f6a-01OV002-bd8cdc70-3d46-40ae-99c4-90ef77\n",
      "2022-04-29 19:45:58,479 - INFO - luna.common.utils - Posting to: http://waystation:6077/datasets/PRO_TILES_S3/segments/626c0a1dbfa0f49e3e026f6a-01OV002-bd8cdc70-3d46-40ae-99c4-90ef77\n",
      "2022-04-29 19:46:00,684 - INFO - luna.common.utils - <Response [200]>: {\"dsid\":\"PRO_TILES_S3\",\"rows_written\":1303,\"sid\":\"626c0a1dbfa0f49e3e026f6a-01OV002-bd8cdc70-3d46-40ae-99c4-90ef77\",\"status\":\"success\"}\n",
      "2022-04-29 19:46:00,686 - INFO - luna.common.utils - Done.\n"
     ]
    }
   ],
   "source": [
    "!save_tiles \\\n",
    "~/vmount/PRO_12-123/data/toy_data_set/01OV002-bd8cdc70-3d46-40ae-99c4-90ef77.svs \\\n",
    "~/vmount/PRO_12-123/tiling/test/label \\\n",
    "--num_cores 16 --batch_size 20 --dataset_id PRO_TILES_LABLED_S3 \\\n",
    "-o ~/vmount/PRO_12-123/tiling/test/saved_tiles"
   ]
  },
  {
   "cell_type": "markdown",
   "metadata": {},
   "source": [
    "We can see that we got a REST response <Response [200]>: {\"dsid\":\"PRO_TILES_S3\",\"rows_written\":1303,\"sid\":\"626c0a1dbfa0f49e3e026f6a-01OV002-bd8cdc70-3d46-40ae-99c4-90ef77\",\"status\":\"success\"}, so our 1303 tiles for this slide ID were successfully written!\n",
    "\n",
    "Since waystation was configured with a local minio instance, we can read our dataset directly using S3"
   ]
  },
  {
   "cell_type": "code",
   "execution_count": 22,
   "metadata": {
    "scrolled": false
   },
   "outputs": [
    {
     "data": {
      "text/html": [
       "<div>\n",
       "<style scoped>\n",
       "    .dataframe tbody tr th:only-of-type {\n",
       "        vertical-align: middle;\n",
       "    }\n",
       "\n",
       "    .dataframe tbody tr th {\n",
       "        vertical-align: top;\n",
       "    }\n",
       "\n",
       "    .dataframe thead th {\n",
       "        text-align: right;\n",
       "    }\n",
       "</style>\n",
       "<table border=\"1\" class=\"dataframe\">\n",
       "  <thead>\n",
       "    <tr style=\"text-align: right;\">\n",
       "      <th></th>\n",
       "      <th>dsa_collection_uuid</th>\n",
       "      <th>slide_id</th>\n",
       "      <th>address</th>\n",
       "      <th>x_coord</th>\n",
       "      <th>y_coord</th>\n",
       "      <th>xy_extent</th>\n",
       "      <th>tile_size</th>\n",
       "      <th>tile_units</th>\n",
       "      <th>otsu_score</th>\n",
       "      <th>regional_label</th>\n",
       "      <th>intersection_area</th>\n",
       "      <th>tile_store</th>\n",
       "    </tr>\n",
       "    <tr>\n",
       "      <th>SEGMENT_ID</th>\n",
       "      <th></th>\n",
       "      <th></th>\n",
       "      <th></th>\n",
       "      <th></th>\n",
       "      <th></th>\n",
       "      <th></th>\n",
       "      <th></th>\n",
       "      <th></th>\n",
       "      <th></th>\n",
       "      <th></th>\n",
       "      <th></th>\n",
       "      <th></th>\n",
       "    </tr>\n",
       "  </thead>\n",
       "  <tbody>\n",
       "    <tr>\n",
       "      <th>626c0a1dbfa0f49e3e026f6a-01OV002-bd8cdc70-3d46-40ae-99c4-90ef77</th>\n",
       "      <td>626c0a1dbfa0f49e3e026f6a</td>\n",
       "      <td>01OV002-bd8cdc70-3d46-40ae-99c4-90ef77</td>\n",
       "      <td>x1_y42_z5.0</td>\n",
       "      <td>1024</td>\n",
       "      <td>43008</td>\n",
       "      <td>1024</td>\n",
       "      <td>128</td>\n",
       "      <td>px</td>\n",
       "      <td>0.16</td>\n",
       "      <td>None</td>\n",
       "      <td>0.0</td>\n",
       "      <td>/home/aukermaa/vmount/PRO_12-123/tiling/test/s...</td>\n",
       "    </tr>\n",
       "    <tr>\n",
       "      <th>626c0a1dbfa0f49e3e026f6a-01OV002-bd8cdc70-3d46-40ae-99c4-90ef77</th>\n",
       "      <td>626c0a1dbfa0f49e3e026f6a</td>\n",
       "      <td>01OV002-bd8cdc70-3d46-40ae-99c4-90ef77</td>\n",
       "      <td>x1_y43_z5.0</td>\n",
       "      <td>1024</td>\n",
       "      <td>44032</td>\n",
       "      <td>1024</td>\n",
       "      <td>128</td>\n",
       "      <td>px</td>\n",
       "      <td>0.29</td>\n",
       "      <td>None</td>\n",
       "      <td>0.0</td>\n",
       "      <td>/home/aukermaa/vmount/PRO_12-123/tiling/test/s...</td>\n",
       "    </tr>\n",
       "    <tr>\n",
       "      <th>626c0a1dbfa0f49e3e026f6a-01OV002-bd8cdc70-3d46-40ae-99c4-90ef77</th>\n",
       "      <td>626c0a1dbfa0f49e3e026f6a</td>\n",
       "      <td>01OV002-bd8cdc70-3d46-40ae-99c4-90ef77</td>\n",
       "      <td>x2_y38_z5.0</td>\n",
       "      <td>2048</td>\n",
       "      <td>38912</td>\n",
       "      <td>1024</td>\n",
       "      <td>128</td>\n",
       "      <td>px</td>\n",
       "      <td>0.25</td>\n",
       "      <td>None</td>\n",
       "      <td>0.0</td>\n",
       "      <td>/home/aukermaa/vmount/PRO_12-123/tiling/test/s...</td>\n",
       "    </tr>\n",
       "    <tr>\n",
       "      <th>626c0a1dbfa0f49e3e026f6a-01OV002-bd8cdc70-3d46-40ae-99c4-90ef77</th>\n",
       "      <td>626c0a1dbfa0f49e3e026f6a</td>\n",
       "      <td>01OV002-bd8cdc70-3d46-40ae-99c4-90ef77</td>\n",
       "      <td>x2_y39_z5.0</td>\n",
       "      <td>2048</td>\n",
       "      <td>39936</td>\n",
       "      <td>1024</td>\n",
       "      <td>128</td>\n",
       "      <td>px</td>\n",
       "      <td>0.40</td>\n",
       "      <td>None</td>\n",
       "      <td>0.0</td>\n",
       "      <td>/home/aukermaa/vmount/PRO_12-123/tiling/test/s...</td>\n",
       "    </tr>\n",
       "    <tr>\n",
       "      <th>626c0a1dbfa0f49e3e026f6a-01OV002-bd8cdc70-3d46-40ae-99c4-90ef77</th>\n",
       "      <td>626c0a1dbfa0f49e3e026f6a</td>\n",
       "      <td>01OV002-bd8cdc70-3d46-40ae-99c4-90ef77</td>\n",
       "      <td>x2_y40_z5.0</td>\n",
       "      <td>2048</td>\n",
       "      <td>40960</td>\n",
       "      <td>1024</td>\n",
       "      <td>128</td>\n",
       "      <td>px</td>\n",
       "      <td>0.39</td>\n",
       "      <td>None</td>\n",
       "      <td>0.0</td>\n",
       "      <td>/home/aukermaa/vmount/PRO_12-123/tiling/test/s...</td>\n",
       "    </tr>\n",
       "    <tr>\n",
       "      <th>...</th>\n",
       "      <td>...</td>\n",
       "      <td>...</td>\n",
       "      <td>...</td>\n",
       "      <td>...</td>\n",
       "      <td>...</td>\n",
       "      <td>...</td>\n",
       "      <td>...</td>\n",
       "      <td>...</td>\n",
       "      <td>...</td>\n",
       "      <td>...</td>\n",
       "      <td>...</td>\n",
       "      <td>...</td>\n",
       "    </tr>\n",
       "    <tr>\n",
       "      <th>626c0a1dbfa0f49e3e026f6a-01OV002-bd8cdc70-3d46-40ae-99c4-90ef77</th>\n",
       "      <td>626c0a1dbfa0f49e3e026f6a</td>\n",
       "      <td>01OV002-bd8cdc70-3d46-40ae-99c4-90ef77</td>\n",
       "      <td>x46_y30_z5.0</td>\n",
       "      <td>47104</td>\n",
       "      <td>30720</td>\n",
       "      <td>1024</td>\n",
       "      <td>128</td>\n",
       "      <td>px</td>\n",
       "      <td>0.61</td>\n",
       "      <td>None</td>\n",
       "      <td>0.0</td>\n",
       "      <td>/home/aukermaa/vmount/PRO_12-123/tiling/test/s...</td>\n",
       "    </tr>\n",
       "    <tr>\n",
       "      <th>626c0a1dbfa0f49e3e026f6a-01OV002-bd8cdc70-3d46-40ae-99c4-90ef77</th>\n",
       "      <td>626c0a1dbfa0f49e3e026f6a</td>\n",
       "      <td>01OV002-bd8cdc70-3d46-40ae-99c4-90ef77</td>\n",
       "      <td>x46_y31_z5.0</td>\n",
       "      <td>47104</td>\n",
       "      <td>31744</td>\n",
       "      <td>1024</td>\n",
       "      <td>128</td>\n",
       "      <td>px</td>\n",
       "      <td>0.72</td>\n",
       "      <td>None</td>\n",
       "      <td>0.0</td>\n",
       "      <td>/home/aukermaa/vmount/PRO_12-123/tiling/test/s...</td>\n",
       "    </tr>\n",
       "    <tr>\n",
       "      <th>626c0a1dbfa0f49e3e026f6a-01OV002-bd8cdc70-3d46-40ae-99c4-90ef77</th>\n",
       "      <td>626c0a1dbfa0f49e3e026f6a</td>\n",
       "      <td>01OV002-bd8cdc70-3d46-40ae-99c4-90ef77</td>\n",
       "      <td>x46_y32_z5.0</td>\n",
       "      <td>47104</td>\n",
       "      <td>32768</td>\n",
       "      <td>1024</td>\n",
       "      <td>128</td>\n",
       "      <td>px</td>\n",
       "      <td>0.56</td>\n",
       "      <td>None</td>\n",
       "      <td>0.0</td>\n",
       "      <td>/home/aukermaa/vmount/PRO_12-123/tiling/test/s...</td>\n",
       "    </tr>\n",
       "    <tr>\n",
       "      <th>626c0a1dbfa0f49e3e026f6a-01OV002-bd8cdc70-3d46-40ae-99c4-90ef77</th>\n",
       "      <td>626c0a1dbfa0f49e3e026f6a</td>\n",
       "      <td>01OV002-bd8cdc70-3d46-40ae-99c4-90ef77</td>\n",
       "      <td>x46_y33_z5.0</td>\n",
       "      <td>47104</td>\n",
       "      <td>33792</td>\n",
       "      <td>1024</td>\n",
       "      <td>128</td>\n",
       "      <td>px</td>\n",
       "      <td>0.46</td>\n",
       "      <td>None</td>\n",
       "      <td>0.0</td>\n",
       "      <td>/home/aukermaa/vmount/PRO_12-123/tiling/test/s...</td>\n",
       "    </tr>\n",
       "    <tr>\n",
       "      <th>626c0a1dbfa0f49e3e026f6a-01OV002-bd8cdc70-3d46-40ae-99c4-90ef77</th>\n",
       "      <td>626c0a1dbfa0f49e3e026f6a</td>\n",
       "      <td>01OV002-bd8cdc70-3d46-40ae-99c4-90ef77</td>\n",
       "      <td>x46_y34_z5.0</td>\n",
       "      <td>47104</td>\n",
       "      <td>34816</td>\n",
       "      <td>1024</td>\n",
       "      <td>128</td>\n",
       "      <td>px</td>\n",
       "      <td>0.53</td>\n",
       "      <td>None</td>\n",
       "      <td>0.0</td>\n",
       "      <td>/home/aukermaa/vmount/PRO_12-123/tiling/test/s...</td>\n",
       "    </tr>\n",
       "  </tbody>\n",
       "</table>\n",
       "<p>1303 rows × 12 columns</p>\n",
       "</div>"
      ],
      "text/plain": [
       "                                                         dsa_collection_uuid  \\\n",
       "SEGMENT_ID                                                                     \n",
       "626c0a1dbfa0f49e3e026f6a-01OV002-bd8cdc70-3d46-...  626c0a1dbfa0f49e3e026f6a   \n",
       "626c0a1dbfa0f49e3e026f6a-01OV002-bd8cdc70-3d46-...  626c0a1dbfa0f49e3e026f6a   \n",
       "626c0a1dbfa0f49e3e026f6a-01OV002-bd8cdc70-3d46-...  626c0a1dbfa0f49e3e026f6a   \n",
       "626c0a1dbfa0f49e3e026f6a-01OV002-bd8cdc70-3d46-...  626c0a1dbfa0f49e3e026f6a   \n",
       "626c0a1dbfa0f49e3e026f6a-01OV002-bd8cdc70-3d46-...  626c0a1dbfa0f49e3e026f6a   \n",
       "...                                                                      ...   \n",
       "626c0a1dbfa0f49e3e026f6a-01OV002-bd8cdc70-3d46-...  626c0a1dbfa0f49e3e026f6a   \n",
       "626c0a1dbfa0f49e3e026f6a-01OV002-bd8cdc70-3d46-...  626c0a1dbfa0f49e3e026f6a   \n",
       "626c0a1dbfa0f49e3e026f6a-01OV002-bd8cdc70-3d46-...  626c0a1dbfa0f49e3e026f6a   \n",
       "626c0a1dbfa0f49e3e026f6a-01OV002-bd8cdc70-3d46-...  626c0a1dbfa0f49e3e026f6a   \n",
       "626c0a1dbfa0f49e3e026f6a-01OV002-bd8cdc70-3d46-...  626c0a1dbfa0f49e3e026f6a   \n",
       "\n",
       "                                                                                  slide_id  \\\n",
       "SEGMENT_ID                                                                                   \n",
       "626c0a1dbfa0f49e3e026f6a-01OV002-bd8cdc70-3d46-...  01OV002-bd8cdc70-3d46-40ae-99c4-90ef77   \n",
       "626c0a1dbfa0f49e3e026f6a-01OV002-bd8cdc70-3d46-...  01OV002-bd8cdc70-3d46-40ae-99c4-90ef77   \n",
       "626c0a1dbfa0f49e3e026f6a-01OV002-bd8cdc70-3d46-...  01OV002-bd8cdc70-3d46-40ae-99c4-90ef77   \n",
       "626c0a1dbfa0f49e3e026f6a-01OV002-bd8cdc70-3d46-...  01OV002-bd8cdc70-3d46-40ae-99c4-90ef77   \n",
       "626c0a1dbfa0f49e3e026f6a-01OV002-bd8cdc70-3d46-...  01OV002-bd8cdc70-3d46-40ae-99c4-90ef77   \n",
       "...                                                                                    ...   \n",
       "626c0a1dbfa0f49e3e026f6a-01OV002-bd8cdc70-3d46-...  01OV002-bd8cdc70-3d46-40ae-99c4-90ef77   \n",
       "626c0a1dbfa0f49e3e026f6a-01OV002-bd8cdc70-3d46-...  01OV002-bd8cdc70-3d46-40ae-99c4-90ef77   \n",
       "626c0a1dbfa0f49e3e026f6a-01OV002-bd8cdc70-3d46-...  01OV002-bd8cdc70-3d46-40ae-99c4-90ef77   \n",
       "626c0a1dbfa0f49e3e026f6a-01OV002-bd8cdc70-3d46-...  01OV002-bd8cdc70-3d46-40ae-99c4-90ef77   \n",
       "626c0a1dbfa0f49e3e026f6a-01OV002-bd8cdc70-3d46-...  01OV002-bd8cdc70-3d46-40ae-99c4-90ef77   \n",
       "\n",
       "                                                         address  x_coord  \\\n",
       "SEGMENT_ID                                                                  \n",
       "626c0a1dbfa0f49e3e026f6a-01OV002-bd8cdc70-3d46-...   x1_y42_z5.0     1024   \n",
       "626c0a1dbfa0f49e3e026f6a-01OV002-bd8cdc70-3d46-...   x1_y43_z5.0     1024   \n",
       "626c0a1dbfa0f49e3e026f6a-01OV002-bd8cdc70-3d46-...   x2_y38_z5.0     2048   \n",
       "626c0a1dbfa0f49e3e026f6a-01OV002-bd8cdc70-3d46-...   x2_y39_z5.0     2048   \n",
       "626c0a1dbfa0f49e3e026f6a-01OV002-bd8cdc70-3d46-...   x2_y40_z5.0     2048   \n",
       "...                                                          ...      ...   \n",
       "626c0a1dbfa0f49e3e026f6a-01OV002-bd8cdc70-3d46-...  x46_y30_z5.0    47104   \n",
       "626c0a1dbfa0f49e3e026f6a-01OV002-bd8cdc70-3d46-...  x46_y31_z5.0    47104   \n",
       "626c0a1dbfa0f49e3e026f6a-01OV002-bd8cdc70-3d46-...  x46_y32_z5.0    47104   \n",
       "626c0a1dbfa0f49e3e026f6a-01OV002-bd8cdc70-3d46-...  x46_y33_z5.0    47104   \n",
       "626c0a1dbfa0f49e3e026f6a-01OV002-bd8cdc70-3d46-...  x46_y34_z5.0    47104   \n",
       "\n",
       "                                                    y_coord  xy_extent  \\\n",
       "SEGMENT_ID                                                               \n",
       "626c0a1dbfa0f49e3e026f6a-01OV002-bd8cdc70-3d46-...    43008       1024   \n",
       "626c0a1dbfa0f49e3e026f6a-01OV002-bd8cdc70-3d46-...    44032       1024   \n",
       "626c0a1dbfa0f49e3e026f6a-01OV002-bd8cdc70-3d46-...    38912       1024   \n",
       "626c0a1dbfa0f49e3e026f6a-01OV002-bd8cdc70-3d46-...    39936       1024   \n",
       "626c0a1dbfa0f49e3e026f6a-01OV002-bd8cdc70-3d46-...    40960       1024   \n",
       "...                                                     ...        ...   \n",
       "626c0a1dbfa0f49e3e026f6a-01OV002-bd8cdc70-3d46-...    30720       1024   \n",
       "626c0a1dbfa0f49e3e026f6a-01OV002-bd8cdc70-3d46-...    31744       1024   \n",
       "626c0a1dbfa0f49e3e026f6a-01OV002-bd8cdc70-3d46-...    32768       1024   \n",
       "626c0a1dbfa0f49e3e026f6a-01OV002-bd8cdc70-3d46-...    33792       1024   \n",
       "626c0a1dbfa0f49e3e026f6a-01OV002-bd8cdc70-3d46-...    34816       1024   \n",
       "\n",
       "                                                    tile_size tile_units  \\\n",
       "SEGMENT_ID                                                                 \n",
       "626c0a1dbfa0f49e3e026f6a-01OV002-bd8cdc70-3d46-...        128         px   \n",
       "626c0a1dbfa0f49e3e026f6a-01OV002-bd8cdc70-3d46-...        128         px   \n",
       "626c0a1dbfa0f49e3e026f6a-01OV002-bd8cdc70-3d46-...        128         px   \n",
       "626c0a1dbfa0f49e3e026f6a-01OV002-bd8cdc70-3d46-...        128         px   \n",
       "626c0a1dbfa0f49e3e026f6a-01OV002-bd8cdc70-3d46-...        128         px   \n",
       "...                                                       ...        ...   \n",
       "626c0a1dbfa0f49e3e026f6a-01OV002-bd8cdc70-3d46-...        128         px   \n",
       "626c0a1dbfa0f49e3e026f6a-01OV002-bd8cdc70-3d46-...        128         px   \n",
       "626c0a1dbfa0f49e3e026f6a-01OV002-bd8cdc70-3d46-...        128         px   \n",
       "626c0a1dbfa0f49e3e026f6a-01OV002-bd8cdc70-3d46-...        128         px   \n",
       "626c0a1dbfa0f49e3e026f6a-01OV002-bd8cdc70-3d46-...        128         px   \n",
       "\n",
       "                                                    otsu_score regional_label  \\\n",
       "SEGMENT_ID                                                                      \n",
       "626c0a1dbfa0f49e3e026f6a-01OV002-bd8cdc70-3d46-...        0.16           None   \n",
       "626c0a1dbfa0f49e3e026f6a-01OV002-bd8cdc70-3d46-...        0.29           None   \n",
       "626c0a1dbfa0f49e3e026f6a-01OV002-bd8cdc70-3d46-...        0.25           None   \n",
       "626c0a1dbfa0f49e3e026f6a-01OV002-bd8cdc70-3d46-...        0.40           None   \n",
       "626c0a1dbfa0f49e3e026f6a-01OV002-bd8cdc70-3d46-...        0.39           None   \n",
       "...                                                        ...            ...   \n",
       "626c0a1dbfa0f49e3e026f6a-01OV002-bd8cdc70-3d46-...        0.61           None   \n",
       "626c0a1dbfa0f49e3e026f6a-01OV002-bd8cdc70-3d46-...        0.72           None   \n",
       "626c0a1dbfa0f49e3e026f6a-01OV002-bd8cdc70-3d46-...        0.56           None   \n",
       "626c0a1dbfa0f49e3e026f6a-01OV002-bd8cdc70-3d46-...        0.46           None   \n",
       "626c0a1dbfa0f49e3e026f6a-01OV002-bd8cdc70-3d46-...        0.53           None   \n",
       "\n",
       "                                                    intersection_area  \\\n",
       "SEGMENT_ID                                                              \n",
       "626c0a1dbfa0f49e3e026f6a-01OV002-bd8cdc70-3d46-...                0.0   \n",
       "626c0a1dbfa0f49e3e026f6a-01OV002-bd8cdc70-3d46-...                0.0   \n",
       "626c0a1dbfa0f49e3e026f6a-01OV002-bd8cdc70-3d46-...                0.0   \n",
       "626c0a1dbfa0f49e3e026f6a-01OV002-bd8cdc70-3d46-...                0.0   \n",
       "626c0a1dbfa0f49e3e026f6a-01OV002-bd8cdc70-3d46-...                0.0   \n",
       "...                                                               ...   \n",
       "626c0a1dbfa0f49e3e026f6a-01OV002-bd8cdc70-3d46-...                0.0   \n",
       "626c0a1dbfa0f49e3e026f6a-01OV002-bd8cdc70-3d46-...                0.0   \n",
       "626c0a1dbfa0f49e3e026f6a-01OV002-bd8cdc70-3d46-...                0.0   \n",
       "626c0a1dbfa0f49e3e026f6a-01OV002-bd8cdc70-3d46-...                0.0   \n",
       "626c0a1dbfa0f49e3e026f6a-01OV002-bd8cdc70-3d46-...                0.0   \n",
       "\n",
       "                                                                                           tile_store  \n",
       "SEGMENT_ID                                                                                             \n",
       "626c0a1dbfa0f49e3e026f6a-01OV002-bd8cdc70-3d46-...  /home/aukermaa/vmount/PRO_12-123/tiling/test/s...  \n",
       "626c0a1dbfa0f49e3e026f6a-01OV002-bd8cdc70-3d46-...  /home/aukermaa/vmount/PRO_12-123/tiling/test/s...  \n",
       "626c0a1dbfa0f49e3e026f6a-01OV002-bd8cdc70-3d46-...  /home/aukermaa/vmount/PRO_12-123/tiling/test/s...  \n",
       "626c0a1dbfa0f49e3e026f6a-01OV002-bd8cdc70-3d46-...  /home/aukermaa/vmount/PRO_12-123/tiling/test/s...  \n",
       "626c0a1dbfa0f49e3e026f6a-01OV002-bd8cdc70-3d46-...  /home/aukermaa/vmount/PRO_12-123/tiling/test/s...  \n",
       "...                                                                                               ...  \n",
       "626c0a1dbfa0f49e3e026f6a-01OV002-bd8cdc70-3d46-...  /home/aukermaa/vmount/PRO_12-123/tiling/test/s...  \n",
       "626c0a1dbfa0f49e3e026f6a-01OV002-bd8cdc70-3d46-...  /home/aukermaa/vmount/PRO_12-123/tiling/test/s...  \n",
       "626c0a1dbfa0f49e3e026f6a-01OV002-bd8cdc70-3d46-...  /home/aukermaa/vmount/PRO_12-123/tiling/test/s...  \n",
       "626c0a1dbfa0f49e3e026f6a-01OV002-bd8cdc70-3d46-...  /home/aukermaa/vmount/PRO_12-123/tiling/test/s...  \n",
       "626c0a1dbfa0f49e3e026f6a-01OV002-bd8cdc70-3d46-...  /home/aukermaa/vmount/PRO_12-123/tiling/test/s...  \n",
       "\n",
       "[1303 rows x 12 columns]"
      ]
     },
     "execution_count": 22,
     "metadata": {},
     "output_type": "execute_result"
    }
   ],
   "source": [
    "df_tiles = pd.read_parquet(\n",
    "    \"s3://datasets/PRO_TILES_LABLED_S3/\",\n",
    "    storage_options={\n",
    "        \"key\": 'admin',\n",
    "        \"secret\": 'password',\n",
    "        \"client_kwargs\": {\"endpoint_url\": \"http://minio:9000\"}\n",
    "    }\n",
    ")\n",
    "df_tiles"
   ]
  },
  {
   "cell_type": "code",
   "execution_count": 19,
   "metadata": {},
   "outputs": [],
   "source": [
    "from luna.common.utils import LunaCliClient\n",
    "import os\n",
    "def pipeline (slide_id, input_slide, input_annotations):\n",
    "    \n",
    "    print (os.environ)\n",
    "    client = LunaCliClient(\"~/vmount/PRO_12-123/tiling\", slide_id)\n",
    "    \n",
    "    client.bootstrap(\"slide\", input_slide)\n",
    "    client.bootstrap(\"annotations\", input_annotations)\n",
    "    \n",
    "    client.configure(\"generate_tiles\", \"slide\", \n",
    "        tile_size=128, \n",
    "        requested_magnification=20\n",
    "    ).run(\"source_tiles\")\n",
    "\n",
    "    client.configure(\"detect_tissue\", \"slide\", \"source_tiles\",\n",
    "        filter_query=\"otsu_score > 0.1\", \n",
    "        requested_magnification=2\n",
    "    ).run(\"detected_tiles\")\n",
    "\n",
    "    client.configure(\"label_tiles\", \"annotations\", \"detected_tiles\").run(\"labled_tiles\")\n",
    "\n",
    "    client.configure( \"save_tiles\", \"slide\", \"labled_tiles\",\n",
    "        num_cores=16, batch_size=200, dataset_id='PRO_TILES_LABLED_S3'\n",
    "    ).run(\"saved_tiles\")"
   ]
  },
  {
   "cell_type": "code",
   "execution_count": 17,
   "metadata": {},
   "outputs": [
    {
     "name": "stdout",
     "output_type": "stream",
     "text": [
      "01OV008-7579323e-2fae-43a9-b00f-a15c28\n",
      "environ({'HOSTNAME': '01e7e790d57a', 'PYTHON_VERSION': '3.9.11', 'PWD': '/home/aukermaa', 'PYTHON_SETUPTOOLS_VERSION': '58.1.0', 'HOME': '/home/aukermaa', 'LANG': 'C.UTF-8', 'GPG_KEY': 'E3FF2839C048B25C084DEBE9B26995E310250568', 'PIP_DEFAULT_TIMEOUT': '100', 'SHLVL': '1', 'PYTHON_PIP_VERSION': '22.0.4', 'PYTHON_GET_PIP_SHA256': 'e235c437e5c7d7524fbce3880ca39b917a73dc565e0c813465b7a7a329bb279a', 'PYTHON_GET_PIP_URL': 'https://github.com/pypa/get-pip/raw/38e54e5de07c66e875c11a1ebbdb938854625dd8/public/get-pip.py', 'PATH': '/usr/local/bin:/usr/local/sbin:/usr/local/bin:/usr/sbin:/usr/bin:/sbin:/bin:/home/aukermaa/.local/bin', 'LUNA_HOME': '/home/aukermaa/vmount', '_': '/home/aukermaa/.local/bin/jupyter', 'PYDEVD_USE_FRAME_EVAL': 'NO', 'JPY_PARENT_PID': '8', 'TERM': 'xterm-color', 'CLICOLOR': '1', 'PAGER': 'cat', 'GIT_PAGER': 'cat', 'MPLBACKEND': 'module://matplotlib_inline.backend_inline', 'DATASET_URL': 'http://waystation:6077/'})\n",
      "generate_tiles file:/home/aukermaa/vmount/PRO_12-123/data/toy_data_set/01OV008-7579323e-2fae-43a9-b00f-a15c28.svs --tile_size 128 --requested_magnification 20\n",
      "['generate_tiles', PosixPath('file:/home/aukermaa/vmount/PRO_12-123/data/toy_data_set/01OV008-7579323e-2fae-43a9-b00f-a15c28.svs'), '--tile_size', '128', '--requested_magnification', '20', '-o', '/home/aukermaa/vmount/PRO_12-123/tiling/01OV008-7579323e-2fae-43a9-b00f-a15c28/source_tiles']\n",
      "01OV002-bd8cdc70-3d46-40ae-99c4-90ef77\n",
      "environ({'HOSTNAME': '01e7e790d57a', 'PYTHON_VERSION': '3.9.11', 'PWD': '/home/aukermaa', 'PYTHON_SETUPTOOLS_VERSION': '58.1.0', 'HOME': '/home/aukermaa', 'LANG': 'C.UTF-8', 'GPG_KEY': 'E3FF2839C048B25C084DEBE9B26995E310250568', 'PIP_DEFAULT_TIMEOUT': '100', 'SHLVL': '1', 'PYTHON_PIP_VERSION': '22.0.4', 'PYTHON_GET_PIP_SHA256': 'e235c437e5c7d7524fbce3880ca39b917a73dc565e0c813465b7a7a329bb279a', 'PYTHON_GET_PIP_URL': 'https://github.com/pypa/get-pip/raw/38e54e5de07c66e875c11a1ebbdb938854625dd8/public/get-pip.py', 'PATH': '/usr/local/bin:/usr/local/sbin:/usr/local/bin:/usr/sbin:/usr/bin:/sbin:/bin:/home/aukermaa/.local/bin', 'LUNA_HOME': '/home/aukermaa/vmount', '_': '/home/aukermaa/.local/bin/jupyter', 'PYDEVD_USE_FRAME_EVAL': 'NO', 'JPY_PARENT_PID': '8', 'TERM': 'xterm-color', 'CLICOLOR': '1', 'PAGER': 'cat', 'GIT_PAGER': 'cat', 'MPLBACKEND': 'module://matplotlib_inline.backend_inline', 'DATASET_URL': 'http://waystation:6077/'})\n",
      "generate_tiles file:/home/aukermaa/vmount/PRO_12-123/data/toy_data_set/01OV002-bd8cdc70-3d46-40ae-99c4-90ef77.svs --tile_size 128 --requested_magnification 20\n",
      "['generate_tiles', PosixPath('file:/home/aukermaa/vmount/PRO_12-123/data/toy_data_set/01OV002-bd8cdc70-3d46-40ae-99c4-90ef77.svs'), '--tile_size', '128', '--requested_magnification', '20', '-o', '/home/aukermaa/vmount/PRO_12-123/tiling/01OV002-bd8cdc70-3d46-40ae-99c4-90ef77/source_tiles']\n",
      "01OV002-ed65cf94-8bc6-492b-9149-adc16f\n",
      "environ({'HOSTNAME': '01e7e790d57a', 'PYTHON_VERSION': '3.9.11', 'PWD': '/home/aukermaa', 'PYTHON_SETUPTOOLS_VERSION': '58.1.0', 'HOME': '/home/aukermaa', 'LANG': 'C.UTF-8', 'GPG_KEY': 'E3FF2839C048B25C084DEBE9B26995E310250568', 'PIP_DEFAULT_TIMEOUT': '100', 'SHLVL': '1', 'PYTHON_PIP_VERSION': '22.0.4', 'PYTHON_GET_PIP_SHA256': 'e235c437e5c7d7524fbce3880ca39b917a73dc565e0c813465b7a7a329bb279a', 'PYTHON_GET_PIP_URL': 'https://github.com/pypa/get-pip/raw/38e54e5de07c66e875c11a1ebbdb938854625dd8/public/get-pip.py', 'PATH': '/usr/local/bin:/usr/local/sbin:/usr/local/bin:/usr/sbin:/usr/bin:/sbin:/bin:/home/aukermaa/.local/bin', 'LUNA_HOME': '/home/aukermaa/vmount', '_': '/home/aukermaa/.local/bin/jupyter', 'PYDEVD_USE_FRAME_EVAL': 'NO', 'JPY_PARENT_PID': '8', 'TERM': 'xterm-color', 'CLICOLOR': '1', 'PAGER': 'cat', 'GIT_PAGER': 'cat', 'MPLBACKEND': 'module://matplotlib_inline.backend_inline', 'DATASET_URL': 'http://waystation:6077/'})\n",
      "generate_tiles file:/home/aukermaa/vmount/PRO_12-123/data/toy_data_set/01OV002-ed65cf94-8bc6-492b-9149-adc16f.svs --tile_size 128 --requested_magnification 20\n",
      "['generate_tiles', PosixPath('file:/home/aukermaa/vmount/PRO_12-123/data/toy_data_set/01OV002-ed65cf94-8bc6-492b-9149-adc16f.svs'), '--tile_size', '128', '--requested_magnification', '20', '-o', '/home/aukermaa/vmount/PRO_12-123/tiling/01OV002-ed65cf94-8bc6-492b-9149-adc16f/source_tiles']\n",
      "01OV007-9b90eb78-2f50-4aeb-b010-d642f9\n",
      "environ({'HOSTNAME': '01e7e790d57a', 'PYTHON_VERSION': '3.9.11', 'PWD': '/home/aukermaa', 'PYTHON_SETUPTOOLS_VERSION': '58.1.0', 'HOME': '/home/aukermaa', 'LANG': 'C.UTF-8', 'GPG_KEY': 'E3FF2839C048B25C084DEBE9B26995E310250568', 'PIP_DEFAULT_TIMEOUT': '100', 'SHLVL': '1', 'PYTHON_PIP_VERSION': '22.0.4', 'PYTHON_GET_PIP_SHA256': 'e235c437e5c7d7524fbce3880ca39b917a73dc565e0c813465b7a7a329bb279a', 'PYTHON_GET_PIP_URL': 'https://github.com/pypa/get-pip/raw/38e54e5de07c66e875c11a1ebbdb938854625dd8/public/get-pip.py', 'PATH': '/usr/local/bin:/usr/local/sbin:/usr/local/bin:/usr/sbin:/usr/bin:/sbin:/bin:/home/aukermaa/.local/bin', 'LUNA_HOME': '/home/aukermaa/vmount', '_': '/home/aukermaa/.local/bin/jupyter', 'PYDEVD_USE_FRAME_EVAL': 'NO', 'JPY_PARENT_PID': '8', 'TERM': 'xterm-color', 'CLICOLOR': '1', 'PAGER': 'cat', 'GIT_PAGER': 'cat', 'MPLBACKEND': 'module://matplotlib_inline.backend_inline', 'DATASET_URL': 'http://waystation:6077/'})\n",
      "generate_tiles file:/home/aukermaa/vmount/PRO_12-123/data/toy_data_set/01OV007-9b90eb78-2f50-4aeb-b010-d642f9.svs --tile_size 128 --requested_magnification 20\n",
      "['generate_tiles', PosixPath('file:/home/aukermaa/vmount/PRO_12-123/data/toy_data_set/01OV007-9b90eb78-2f50-4aeb-b010-d642f9.svs'), '--tile_size', '128', '--requested_magnification', '20', '-o', '/home/aukermaa/vmount/PRO_12-123/tiling/01OV007-9b90eb78-2f50-4aeb-b010-d642f9/source_tiles']\n",
      "01OV008-308ad404-7079-4ff8-8232-12ee2e\n",
      "environ({'HOSTNAME': '01e7e790d57a', 'PYTHON_VERSION': '3.9.11', 'PWD': '/home/aukermaa', 'PYTHON_SETUPTOOLS_VERSION': '58.1.0', 'HOME': '/home/aukermaa', 'LANG': 'C.UTF-8', 'GPG_KEY': 'E3FF2839C048B25C084DEBE9B26995E310250568', 'PIP_DEFAULT_TIMEOUT': '100', 'SHLVL': '1', 'PYTHON_PIP_VERSION': '22.0.4', 'PYTHON_GET_PIP_SHA256': 'e235c437e5c7d7524fbce3880ca39b917a73dc565e0c813465b7a7a329bb279a', 'PYTHON_GET_PIP_URL': 'https://github.com/pypa/get-pip/raw/38e54e5de07c66e875c11a1ebbdb938854625dd8/public/get-pip.py', 'PATH': '/usr/local/bin:/usr/local/sbin:/usr/local/bin:/usr/sbin:/usr/bin:/sbin:/bin:/home/aukermaa/.local/bin', 'LUNA_HOME': '/home/aukermaa/vmount', '_': '/home/aukermaa/.local/bin/jupyter', 'PYDEVD_USE_FRAME_EVAL': 'NO', 'JPY_PARENT_PID': '8', 'TERM': 'xterm-color', 'CLICOLOR': '1', 'PAGER': 'cat', 'GIT_PAGER': 'cat', 'MPLBACKEND': 'module://matplotlib_inline.backend_inline', 'DATASET_URL': 'http://waystation:6077/'})\n",
      "generate_tiles file:/home/aukermaa/vmount/PRO_12-123/data/toy_data_set/01OV008-308ad404-7079-4ff8-8232-12ee2e.svs --tile_size 128 --requested_magnification 20\n",
      "['generate_tiles', PosixPath('file:/home/aukermaa/vmount/PRO_12-123/data/toy_data_set/01OV008-308ad404-7079-4ff8-8232-12ee2e.svs'), '--tile_size', '128', '--requested_magnification', '20', '-o', '/home/aukermaa/vmount/PRO_12-123/tiling/01OV008-308ad404-7079-4ff8-8232-12ee2e/source_tiles']\n"
     ]
    },
    {
     "name": "stderr",
     "output_type": "stream",
     "text": [
      "2022-04-29 20:03:02,926 - INFO - root - Initalized logger, log file at: data-processing.log\n",
      "2022-04-29 20:03:02,946 - INFO - root - Initalized logger, log file at: data-processing.log\n",
      "2022-04-29 20:03:02,980 - INFO - root - Initalized logger, log file at: data-processing.log\n",
      "2022-04-29 20:03:02,982 - INFO - root - Initalized logger, log file at: data-processing.log\n",
      "2022-04-29 20:03:03,002 - INFO - root - Initalized logger, log file at: data-processing.log\n",
      "2022-04-29 20:03:04,873 - INFO - luna.common.utils - Started CLI Runner wtih <function generate_tiles at 0x7fcfbc09a550>\n",
      "2022-04-29 20:03:04,875 - INFO - luna.common.utils - Validating params...\n",
      "2022-04-29 20:03:04,876 - INFO - luna.common.utils -  -> Set input_slide_image (<class 'str'>) = file:/home/aukermaa/vmount/PRO_12-123/data/toy_data_set/01OV002-ed65cf94-8bc6-492b-9149-adc16f.svs\n",
      "2022-04-29 20:03:04,878 - INFO - luna.common.utils -  -> Set output_dir (<class 'str'>) = /home/aukermaa/vmount/PRO_12-123/tiling/01OV002-ed65cf94-8bc6-492b-9149-adc16f/source_tiles\n",
      "2022-04-29 20:03:04,879 - INFO - luna.common.utils -  -> Set tile_size (<class 'int'>) = 128\n",
      "2022-04-29 20:03:04,880 - INFO - luna.common.utils -  -> Set requested_magnification (<class 'float'>) = 20.0\n",
      "2022-04-29 20:03:04,882 - INFO - luna.common.utils - Expanding inputs...\n",
      "2022-04-29 20:03:04,884 - INFO - luna.common.utils - Attempting to read metadata at file:/home/aukermaa/vmount/PRO_12-123/data/toy_data_set/01OV002-ed65cf94-8bc6-492b-9149-adc16f.svs/metadata.yml\n",
      "2022-04-29 20:03:04,885 - INFO - luna.common.utils - Resolved input:\n",
      "2022-04-29 20:03:04,885 - INFO - luna.common.utils -  -> file:/home/aukermaa/vmount/PRO_12-123/data/toy_data_set/01OV002-ed65cf94-8bc6-492b-9149-adc16f.svs\n",
      "2022-04-29 20:03:04,885 - INFO - luna.common.utils -  -> /home/aukermaa/vmount/PRO_12-123/data/toy_data_set/01OV002-ed65cf94-8bc6-492b-9149-adc16f.svs\n",
      "2022-04-29 20:03:04,886 - INFO - luna.common.utils - Full segment key set: {}\n",
      "2022-04-29 20:03:04,887 - INFO - luna.common.utils - ------------------------------------------------------------\n",
      "2022-04-29 20:03:04,887 - INFO - luna.common.utils -  Starting transform::generate_tiles \n",
      "2022-04-29 20:03:04,887 - INFO - luna.common.utils - ------------------------------------------------------------\n",
      "2022-04-29 20:03:04,901 - INFO - generate_tiles - Slide size = [50880,49787]\n",
      "2022-04-29 20:03:04,903 - INFO - generate_tiles - Normalized magnification scale factor for 20.0x is 2.0\n",
      "2022-04-29 20:03:04,904 - INFO - generate_tiles - Requested tile size=128, tile size at full magnficiation=256\n",
      "2022-04-29 20:03:04,906 - INFO - generate_tiles - tiles x 199, tiles y 195\n",
      "2022-04-29 20:03:04,909 - INFO - luna.common.utils - Started CLI Runner wtih <function generate_tiles at 0x7f9050d9a550>\n",
      "2022-04-29 20:03:04,911 - INFO - luna.common.utils - Validating params...\n",
      "2022-04-29 20:03:04,912 - INFO - luna.common.utils -  -> Set input_slide_image (<class 'str'>) = file:/home/aukermaa/vmount/PRO_12-123/data/toy_data_set/01OV007-9b90eb78-2f50-4aeb-b010-d642f9.svs\n",
      "2022-04-29 20:03:04,913 - INFO - luna.common.utils -  -> Set output_dir (<class 'str'>) = /home/aukermaa/vmount/PRO_12-123/tiling/01OV007-9b90eb78-2f50-4aeb-b010-d642f9/source_tiles\n",
      "2022-04-29 20:03:04,914 - INFO - luna.common.utils -  -> Set tile_size (<class 'int'>) = 128\n",
      "2022-04-29 20:03:04,915 - INFO - luna.common.utils -  -> Set requested_magnification (<class 'float'>) = 20.0\n",
      "2022-04-29 20:03:04,917 - INFO - luna.common.utils - Expanding inputs...\n",
      "2022-04-29 20:03:04,918 - INFO - luna.common.utils - Attempting to read metadata at file:/home/aukermaa/vmount/PRO_12-123/data/toy_data_set/01OV007-9b90eb78-2f50-4aeb-b010-d642f9.svs/metadata.yml\n",
      "2022-04-29 20:03:04,920 - INFO - luna.common.utils - Resolved input:\n",
      "2022-04-29 20:03:04,920 - INFO - luna.common.utils -  -> file:/home/aukermaa/vmount/PRO_12-123/data/toy_data_set/01OV007-9b90eb78-2f50-4aeb-b010-d642f9.svs\n",
      "2022-04-29 20:03:04,920 - INFO - luna.common.utils -  -> /home/aukermaa/vmount/PRO_12-123/data/toy_data_set/01OV007-9b90eb78-2f50-4aeb-b010-d642f9.svs\n",
      "2022-04-29 20:03:04,921 - INFO - luna.common.utils - Full segment key set: {}\n",
      "2022-04-29 20:03:04,922 - INFO - luna.common.utils - ------------------------------------------------------------\n",
      "2022-04-29 20:03:04,922 - INFO - luna.common.utils -  Starting transform::generate_tiles \n",
      "2022-04-29 20:03:04,922 - INFO - luna.common.utils - ------------------------------------------------------------\n",
      "2022-04-29 20:03:04,927 - INFO - luna.common.utils - Started CLI Runner wtih <function generate_tiles at 0x7f8daa901550>\n",
      "2022-04-29 20:03:04,928 - INFO - luna.common.utils - Validating params...\n",
      "2022-04-29 20:03:04,930 - INFO - luna.common.utils -  -> Set input_slide_image (<class 'str'>) = file:/home/aukermaa/vmount/PRO_12-123/data/toy_data_set/01OV008-308ad404-7079-4ff8-8232-12ee2e.svs\n",
      "2022-04-29 20:03:04,931 - INFO - luna.common.utils -  -> Set output_dir (<class 'str'>) = /home/aukermaa/vmount/PRO_12-123/tiling/01OV008-308ad404-7079-4ff8-8232-12ee2e/source_tiles\n",
      "2022-04-29 20:03:04,932 - INFO - luna.common.utils -  -> Set tile_size (<class 'int'>) = 128\n",
      "2022-04-29 20:03:04,933 - INFO - luna.common.utils -  -> Set requested_magnification (<class 'float'>) = 20.0\n",
      "2022-04-29 20:03:04,935 - INFO - luna.common.utils - Expanding inputs...\n",
      "2022-04-29 20:03:04,936 - INFO - luna.common.utils - Started CLI Runner wtih <function generate_tiles at 0x7fcf87364550>\n",
      "2022-04-29 20:03:04,937 - INFO - luna.common.utils - Validating params...\n",
      "2022-04-29 20:03:04,937 - INFO - luna.common.utils - Attempting to read metadata at file:/home/aukermaa/vmount/PRO_12-123/data/toy_data_set/01OV008-308ad404-7079-4ff8-8232-12ee2e.svs/metadata.yml\n",
      "2022-04-29 20:03:04,938 - INFO - luna.common.utils -  -> Set input_slide_image (<class 'str'>) = file:/home/aukermaa/vmount/PRO_12-123/data/toy_data_set/01OV002-bd8cdc70-3d46-40ae-99c4-90ef77.svs\n",
      "2022-04-29 20:03:04,938 - INFO - luna.common.utils - Resolved input:\n",
      "2022-04-29 20:03:04,938 - INFO - luna.common.utils -  -> file:/home/aukermaa/vmount/PRO_12-123/data/toy_data_set/01OV008-308ad404-7079-4ff8-8232-12ee2e.svs\n",
      "2022-04-29 20:03:04,938 - INFO - luna.common.utils -  -> /home/aukermaa/vmount/PRO_12-123/data/toy_data_set/01OV008-308ad404-7079-4ff8-8232-12ee2e.svs\n",
      "2022-04-29 20:03:04,939 - INFO - luna.common.utils -  -> Set output_dir (<class 'str'>) = /home/aukermaa/vmount/PRO_12-123/tiling/01OV002-bd8cdc70-3d46-40ae-99c4-90ef77/source_tiles\n",
      "2022-04-29 20:03:04,940 - INFO - generate_tiles - Slide size = [109440,60110]\n",
      "2022-04-29 20:03:04,940 - INFO - luna.common.utils -  -> Set tile_size (<class 'int'>) = 128\n",
      "2022-04-29 20:03:04,941 - INFO - luna.common.utils - Full segment key set: {}\n",
      "2022-04-29 20:03:04,942 - INFO - generate_tiles - Normalized magnification scale factor for 20.0x is 2.0\n",
      "2022-04-29 20:03:04,943 - INFO - luna.common.utils -  -> Set requested_magnification (<class 'float'>) = 20.0\n",
      "2022-04-29 20:03:04,947 - INFO - luna.common.utils - Started CLI Runner wtih <function generate_tiles at 0x7fe838540550>\n",
      "2022-04-29 20:03:04,949 - INFO - generate_tiles - Number of tiles in raster: 38021\n",
      "2022-04-29 20:03:04,970 - INFO - luna.common.utils - Expanding inputs...\n",
      "2022-04-29 20:03:04,970 - INFO - luna.common.utils - ------------------------------------------------------------\n",
      "2022-04-29 20:03:04,970 - INFO - luna.common.utils -  Starting transform::generate_tiles \n",
      "2022-04-29 20:03:04,970 - INFO - luna.common.utils - ------------------------------------------------------------\n",
      "2022-04-29 20:03:04,971 - INFO - generate_tiles - Requested tile size=128, tile size at full magnficiation=256\n",
      "2022-04-29 20:03:04,972 - INFO - luna.common.utils - Attempting to read metadata at file:/home/aukermaa/vmount/PRO_12-123/data/toy_data_set/01OV002-bd8cdc70-3d46-40ae-99c4-90ef77.svs/metadata.yml\n",
      "2022-04-29 20:03:04,972 - INFO - luna.common.utils - Validating params...\n",
      "2022-04-29 20:03:04,974 - INFO - generate_tiles - tiles x 428, tiles y 235\n",
      "2022-04-29 20:03:04,974 - INFO - luna.common.utils - Resolved input:\n",
      "2022-04-29 20:03:04,974 - INFO - luna.common.utils -  -> file:/home/aukermaa/vmount/PRO_12-123/data/toy_data_set/01OV002-bd8cdc70-3d46-40ae-99c4-90ef77.svs\n",
      "2022-04-29 20:03:04,974 - INFO - luna.common.utils -  -> /home/aukermaa/vmount/PRO_12-123/data/toy_data_set/01OV002-bd8cdc70-3d46-40ae-99c4-90ef77.svs\n",
      "2022-04-29 20:03:04,975 - INFO - luna.common.utils -  -> Set input_slide_image (<class 'str'>) = file:/home/aukermaa/vmount/PRO_12-123/data/toy_data_set/01OV008-7579323e-2fae-43a9-b00f-a15c28.svs\n",
      "2022-04-29 20:03:04,977 - INFO - luna.common.utils - Full segment key set: {}\n",
      "2022-04-29 20:03:04,977 - INFO - luna.common.utils -  -> Set output_dir (<class 'str'>) = /home/aukermaa/vmount/PRO_12-123/tiling/01OV008-7579323e-2fae-43a9-b00f-a15c28/source_tiles\n",
      "2022-04-29 20:03:04,978 - INFO - luna.common.utils - ------------------------------------------------------------\n",
      "2022-04-29 20:03:04,978 - INFO - luna.common.utils -  Starting transform::generate_tiles \n",
      "2022-04-29 20:03:04,978 - INFO - luna.common.utils - ------------------------------------------------------------\n",
      "2022-04-29 20:03:04,978 - INFO - luna.common.utils -  -> Set tile_size (<class 'int'>) = 128\n",
      "2022-04-29 20:03:04,979 - INFO - luna.common.utils -  -> Set requested_magnification (<class 'float'>) = 20.0\n",
      "2022-04-29 20:03:04,980 - INFO - luna.common.utils - Expanding inputs...\n",
      "2022-04-29 20:03:04,981 - INFO - luna.common.utils - Attempting to read metadata at file:/home/aukermaa/vmount/PRO_12-123/data/toy_data_set/01OV008-7579323e-2fae-43a9-b00f-a15c28.svs/metadata.yml\n",
      "2022-04-29 20:03:04,982 - INFO - luna.common.utils - Resolved input:\n",
      "2022-04-29 20:03:04,982 - INFO - luna.common.utils -  -> file:/home/aukermaa/vmount/PRO_12-123/data/toy_data_set/01OV008-7579323e-2fae-43a9-b00f-a15c28.svs\n",
      "2022-04-29 20:03:04,982 - INFO - luna.common.utils -  -> /home/aukermaa/vmount/PRO_12-123/data/toy_data_set/01OV008-7579323e-2fae-43a9-b00f-a15c28.svs\n",
      "2022-04-29 20:03:04,983 - INFO - luna.common.utils - Full segment key set: {}\n",
      "2022-04-29 20:03:04,984 - INFO - luna.common.utils - ------------------------------------------------------------\n",
      "2022-04-29 20:03:04,984 - INFO - luna.common.utils -  Starting transform::generate_tiles \n",
      "2022-04-29 20:03:04,984 - INFO - luna.common.utils - ------------------------------------------------------------\n",
      "2022-04-29 20:03:04,993 - INFO - generate_tiles - Slide size = [53760,54840]\n",
      "2022-04-29 20:03:04,994 - INFO - generate_tiles - Normalized magnification scale factor for 20.0x is 2.0\n",
      "2022-04-29 20:03:04,995 - INFO - generate_tiles - Requested tile size=128, tile size at full magnficiation=256\n",
      "2022-04-29 20:03:04,995 - INFO - generate_tiles - Slide size = [52800,38628]\n",
      "2022-04-29 20:03:04,996 - INFO - generate_tiles - tiles x 210, tiles y 215\n",
      "2022-04-29 20:03:04,996 - INFO - generate_tiles - Normalized magnification scale factor for 20.0x is 2.0\n",
      "2022-04-29 20:03:04,998 - INFO - generate_tiles - Requested tile size=128, tile size at full magnficiation=256\n",
      "2022-04-29 20:03:04,998 - INFO - generate_tiles - Slide size = [42240,59209]\n",
      "2022-04-29 20:03:04,999 - INFO - generate_tiles - Normalized magnification scale factor for 20.0x is 2.0\n",
      "2022-04-29 20:03:04,999 - INFO - generate_tiles - tiles x 207, tiles y 151\n",
      "2022-04-29 20:03:04,999 - INFO - generate_tiles - Requested tile size=128, tile size at full magnficiation=256\n",
      "2022-04-29 20:03:05,000 - INFO - generate_tiles - tiles x 165, tiles y 232\n",
      "2022-04-29 20:03:05,012 - INFO - generate_tiles -                  x_coord  y_coord  xy_extent  tile_size tile_units\n",
      "2022-04-29 20:03:05,012 - INFO - generate_tiles - address                                                           \n",
      "2022-04-29 20:03:05,012 - INFO - generate_tiles - x1_y1_z20.0          256      256        256        128         px\n",
      "2022-04-29 20:03:05,012 - INFO - generate_tiles - x1_y2_z20.0          256      512        256        128         px\n",
      "2022-04-29 20:03:05,012 - INFO - generate_tiles - x1_y3_z20.0          256      768        256        128         px\n",
      "2022-04-29 20:03:05,012 - INFO - generate_tiles - x1_y4_z20.0          256     1024        256        128         px\n",
      "2022-04-29 20:03:05,012 - INFO - generate_tiles - x1_y5_z20.0          256     1280        256        128         px\n",
      "2022-04-29 20:03:05,012 - INFO - generate_tiles - ...                  ...      ...        ...        ...        ...\n",
      "2022-04-29 20:03:05,012 - INFO - generate_tiles - x197_y189_z20.0    50432    48384        256        128         px\n",
      "2022-04-29 20:03:05,012 - INFO - generate_tiles - x197_y190_z20.0    50432    48640        256        128         px\n",
      "2022-04-29 20:03:05,012 - INFO - generate_tiles - x197_y191_z20.0    50432    48896        256        128         px\n",
      "2022-04-29 20:03:05,012 - INFO - generate_tiles - x197_y192_z20.0    50432    49152        256        128         px\n",
      "2022-04-29 20:03:05,012 - INFO - generate_tiles - x197_y193_z20.0    50432    49408        256        128         px\n",
      "2022-04-29 20:03:05,012 - INFO - generate_tiles - \n",
      "2022-04-29 20:03:05,012 - INFO - generate_tiles - [38021 rows x 5 columns]\n",
      "2022-04-29 20:03:05,037 - INFO - generate_tiles - Number of tiles in raster: 30545\n",
      "2022-04-29 20:03:05,046 - INFO - generate_tiles - Number of tiles in raster: 37490\n",
      "2022-04-29 20:03:05,048 - INFO - generate_tiles - Number of tiles in raster: 44304\n"
     ]
    },
    {
     "name": "stderr",
     "output_type": "stream",
     "text": [
      "2022-04-29 20:03:05,078 - INFO - luna.common.utils - Code block 'transform::generate_tiles' took: 0.1891004666686058s\n",
      "2022-04-29 20:03:05,079 - INFO - luna.common.utils - ------------------------------------------------------------\n",
      "2022-04-29 20:03:05,079 - INFO - luna.common.utils -  Done with transform, running post-transform functions... \n",
      "2022-04-29 20:03:05,079 - INFO - luna.common.utils - ------------------------------------------------------------\n",
      "2022-04-29 20:03:05,072 - INFO - generate_tiles -                  x_coord  y_coord  xy_extent  tile_size tile_units\n",
      "2022-04-29 20:03:05,072 - INFO - generate_tiles - address                                                           \n",
      "2022-04-29 20:03:05,072 - INFO - generate_tiles - x1_y1_z20.0          256      256        256        128         px\n",
      "2022-04-29 20:03:05,072 - INFO - generate_tiles - x1_y2_z20.0          256      512        256        128         px\n",
      "2022-04-29 20:03:05,072 - INFO - generate_tiles - x1_y3_z20.0          256      768        256        128         px\n",
      "2022-04-29 20:03:05,072 - INFO - generate_tiles - x1_y4_z20.0          256     1024        256        128         px\n",
      "2022-04-29 20:03:05,072 - INFO - generate_tiles - x1_y5_z20.0          256     1280        256        128         px\n",
      "2022-04-29 20:03:05,072 - INFO - generate_tiles - ...                  ...      ...        ...        ...        ...\n",
      "2022-04-29 20:03:05,072 - INFO - generate_tiles - x205_y145_z20.0    52480    37120        256        128         px\n",
      "2022-04-29 20:03:05,072 - INFO - generate_tiles - x205_y146_z20.0    52480    37376        256        128         px\n",
      "2022-04-29 20:03:05,072 - INFO - generate_tiles - x205_y147_z20.0    52480    37632        256        128         px\n",
      "2022-04-29 20:03:05,072 - INFO - generate_tiles - x205_y148_z20.0    52480    37888        256        128         px\n",
      "2022-04-29 20:03:05,072 - INFO - generate_tiles - x205_y149_z20.0    52480    38144        256        128         px\n",
      "2022-04-29 20:03:05,072 - INFO - generate_tiles - \n",
      "2022-04-29 20:03:05,072 - INFO - generate_tiles - [30545 rows x 5 columns]\n",
      "2022-04-29 20:03:05,084 - INFO - luna.common.utils - Done.\n",
      "2022-04-29 20:03:05,091 - INFO - generate_tiles -                  x_coord  y_coord  xy_extent  tile_size tile_units\n",
      "2022-04-29 20:03:05,091 - INFO - generate_tiles - address                                                           \n",
      "2022-04-29 20:03:05,091 - INFO - generate_tiles - x1_y1_z20.0          256      256        256        128         px\n",
      "2022-04-29 20:03:05,091 - INFO - generate_tiles - x1_y2_z20.0          256      512        256        128         px\n",
      "2022-04-29 20:03:05,091 - INFO - generate_tiles - x1_y3_z20.0          256      768        256        128         px\n",
      "2022-04-29 20:03:05,091 - INFO - generate_tiles - x1_y4_z20.0          256     1024        256        128         px\n",
      "2022-04-29 20:03:05,091 - INFO - generate_tiles - x1_y5_z20.0          256     1280        256        128         px\n",
      "2022-04-29 20:03:05,091 - INFO - generate_tiles - ...                  ...      ...        ...        ...        ...\n",
      "2022-04-29 20:03:05,091 - INFO - generate_tiles - x163_y226_z20.0    41728    57856        256        128         px\n",
      "2022-04-29 20:03:05,091 - INFO - generate_tiles - x163_y227_z20.0    41728    58112        256        128         px\n",
      "2022-04-29 20:03:05,091 - INFO - generate_tiles - x163_y228_z20.0    41728    58368        256        128         px\n",
      "2022-04-29 20:03:05,091 - INFO - generate_tiles - x163_y229_z20.0    41728    58624        256        128         px\n",
      "2022-04-29 20:03:05,091 - INFO - generate_tiles - x163_y230_z20.0    41728    58880        256        128         px\n",
      "2022-04-29 20:03:05,091 - INFO - generate_tiles - \n",
      "2022-04-29 20:03:05,091 - INFO - generate_tiles - [37490 rows x 5 columns]\n",
      "2022-04-29 20:03:05,105 - INFO - generate_tiles - Number of tiles in raster: 99258\n",
      "2022-04-29 20:03:05,101 - INFO - generate_tiles -                  x_coord  y_coord  xy_extent  tile_size tile_units\n",
      "2022-04-29 20:03:05,101 - INFO - generate_tiles - address                                                           \n",
      "2022-04-29 20:03:05,101 - INFO - generate_tiles - x1_y1_z20.0          256      256        256        128         px\n",
      "2022-04-29 20:03:05,101 - INFO - generate_tiles - x1_y2_z20.0          256      512        256        128         px\n",
      "2022-04-29 20:03:05,101 - INFO - generate_tiles - x1_y3_z20.0          256      768        256        128         px\n",
      "2022-04-29 20:03:05,101 - INFO - generate_tiles - x1_y4_z20.0          256     1024        256        128         px\n",
      "2022-04-29 20:03:05,101 - INFO - generate_tiles - x1_y5_z20.0          256     1280        256        128         px\n",
      "2022-04-29 20:03:05,101 - INFO - generate_tiles - ...                  ...      ...        ...        ...        ...\n",
      "2022-04-29 20:03:05,101 - INFO - generate_tiles - x208_y209_z20.0    53248    53504        256        128         px\n",
      "2022-04-29 20:03:05,101 - INFO - generate_tiles - x208_y210_z20.0    53248    53760        256        128         px\n",
      "2022-04-29 20:03:05,101 - INFO - generate_tiles - x208_y211_z20.0    53248    54016        256        128         px\n",
      "2022-04-29 20:03:05,101 - INFO - generate_tiles - x208_y212_z20.0    53248    54272        256        128         px\n",
      "2022-04-29 20:03:05,101 - INFO - generate_tiles - x208_y213_z20.0    53248    54528        256        128         px\n",
      "2022-04-29 20:03:05,101 - INFO - generate_tiles - \n",
      "2022-04-29 20:03:05,101 - INFO - generate_tiles - [44304 rows x 5 columns]\n",
      "2022-04-29 20:03:05,129 - INFO - luna.common.utils - Code block 'transform::generate_tiles' took: 0.15549571067094803s\n",
      "2022-04-29 20:03:05,130 - INFO - luna.common.utils - ------------------------------------------------------------\n",
      "2022-04-29 20:03:05,130 - INFO - luna.common.utils -  Done with transform, running post-transform functions... \n",
      "2022-04-29 20:03:05,130 - INFO - luna.common.utils - ------------------------------------------------------------\n",
      "2022-04-29 20:03:05,134 - INFO - luna.common.utils - Done.\n",
      "2022-04-29 20:03:05,156 - INFO - luna.common.utils - Code block 'transform::generate_tiles' took: 0.1708373874425888s\n",
      "2022-04-29 20:03:05,156 - INFO - luna.common.utils - ------------------------------------------------------------\n",
      "2022-04-29 20:03:05,156 - INFO - luna.common.utils -  Done with transform, running post-transform functions... \n",
      "2022-04-29 20:03:05,156 - INFO - luna.common.utils - ------------------------------------------------------------\n",
      "2022-04-29 20:03:05,161 - INFO - luna.common.utils - Done.\n",
      "2022-04-29 20:03:05,172 - INFO - luna.common.utils - Code block 'transform::generate_tiles' took: 0.19305617362260818s\n",
      "2022-04-29 20:03:05,172 - INFO - luna.common.utils - ------------------------------------------------------------\n",
      "2022-04-29 20:03:05,172 - INFO - luna.common.utils -  Done with transform, running post-transform functions... \n",
      "2022-04-29 20:03:05,172 - INFO - luna.common.utils - ------------------------------------------------------------\n",
      "2022-04-29 20:03:05,177 - INFO - luna.common.utils - Done.\n",
      "2022-04-29 20:03:05,230 - INFO - generate_tiles -                  x_coord  y_coord  xy_extent  tile_size tile_units\n",
      "2022-04-29 20:03:05,230 - INFO - generate_tiles - address                                                           \n",
      "2022-04-29 20:03:05,230 - INFO - generate_tiles - x1_y1_z20.0          256      256        256        128         px\n",
      "2022-04-29 20:03:05,230 - INFO - generate_tiles - x1_y2_z20.0          256      512        256        128         px\n",
      "2022-04-29 20:03:05,230 - INFO - generate_tiles - x1_y3_z20.0          256      768        256        128         px\n",
      "2022-04-29 20:03:05,230 - INFO - generate_tiles - x1_y4_z20.0          256     1024        256        128         px\n",
      "2022-04-29 20:03:05,230 - INFO - generate_tiles - x1_y5_z20.0          256     1280        256        128         px\n",
      "2022-04-29 20:03:05,230 - INFO - generate_tiles - ...                  ...      ...        ...        ...        ...\n",
      "2022-04-29 20:03:05,230 - INFO - generate_tiles - x426_y229_z20.0   109056    58624        256        128         px\n",
      "2022-04-29 20:03:05,230 - INFO - generate_tiles - x426_y230_z20.0   109056    58880        256        128         px\n",
      "2022-04-29 20:03:05,230 - INFO - generate_tiles - x426_y231_z20.0   109056    59136        256        128         px\n",
      "2022-04-29 20:03:05,230 - INFO - generate_tiles - x426_y232_z20.0   109056    59392        256        128         px\n",
      "2022-04-29 20:03:05,230 - INFO - generate_tiles - x426_y233_z20.0   109056    59648        256        128         px\n",
      "2022-04-29 20:03:05,230 - INFO - generate_tiles - \n",
      "2022-04-29 20:03:05,230 - INFO - generate_tiles - [99258 rows x 5 columns]\n"
     ]
    },
    {
     "name": "stderr",
     "output_type": "stream",
     "text": [
      "2022-04-29 20:03:05,343 - INFO - luna.common.utils - Code block 'transform::generate_tiles' took: 0.41895292699337006s\n",
      "2022-04-29 20:03:05,344 - INFO - luna.common.utils - ------------------------------------------------------------\n",
      "2022-04-29 20:03:05,344 - INFO - luna.common.utils -  Done with transform, running post-transform functions... \n",
      "2022-04-29 20:03:05,344 - INFO - luna.common.utils - ------------------------------------------------------------\n",
      "2022-04-29 20:03:05,349 - INFO - luna.common.utils - Done.\n"
     ]
    },
    {
     "name": "stdout",
     "output_type": "stream",
     "text": [
      "detect_tissue file:/home/aukermaa/vmount/PRO_12-123/data/toy_data_set/01OV002-ed65cf94-8bc6-492b-9149-adc16f.svs /home/aukermaa/vmount/PRO_12-123/tiling/01OV002-ed65cf94-8bc6-492b-9149-adc16f/source_tiles --filter_query otsu_score > 0.1 --requested_magnification 2\n",
      "['detect_tissue', PosixPath('file:/home/aukermaa/vmount/PRO_12-123/data/toy_data_set/01OV002-ed65cf94-8bc6-492b-9149-adc16f.svs'), '/home/aukermaa/vmount/PRO_12-123/tiling/01OV002-ed65cf94-8bc6-492b-9149-adc16f/source_tiles', '--filter_query', 'otsu_score > 0.1', '--requested_magnification', '2', '-o', '/home/aukermaa/vmount/PRO_12-123/tiling/01OV002-ed65cf94-8bc6-492b-9149-adc16f/detected_tiles']\n",
      "detect_tissue file:/home/aukermaa/vmount/PRO_12-123/data/toy_data_set/01OV008-308ad404-7079-4ff8-8232-12ee2e.svs /home/aukermaa/vmount/PRO_12-123/tiling/01OV008-308ad404-7079-4ff8-8232-12ee2e/source_tiles --filter_query otsu_score > 0.1 --requested_magnification 2\n",
      "['detect_tissue', PosixPath('file:/home/aukermaa/vmount/PRO_12-123/data/toy_data_set/01OV008-308ad404-7079-4ff8-8232-12ee2e.svs'), '/home/aukermaa/vmount/PRO_12-123/tiling/01OV008-308ad404-7079-4ff8-8232-12ee2e/source_tiles', '--filter_query', 'otsu_score > 0.1', '--requested_magnification', '2', '-o', '/home/aukermaa/vmount/PRO_12-123/tiling/01OV008-308ad404-7079-4ff8-8232-12ee2e/detected_tiles']\n",
      "detect_tissue file:/home/aukermaa/vmount/PRO_12-123/data/toy_data_set/01OV008-7579323e-2fae-43a9-b00f-a15c28.svs /home/aukermaa/vmount/PRO_12-123/tiling/01OV008-7579323e-2fae-43a9-b00f-a15c28/source_tiles --filter_query otsu_score > 0.1 --requested_magnification 2detect_tissue file:/home/aukermaa/vmount/PRO_12-123/data/toy_data_set/01OV002-bd8cdc70-3d46-40ae-99c4-90ef77.svs /home/aukermaa/vmount/PRO_12-123/tiling/01OV002-bd8cdc70-3d46-40ae-99c4-90ef77/source_tiles --filter_query otsu_score > 0.1 --requested_magnification 2\n",
      "['detect_tissue', PosixPath('file:/home/aukermaa/vmount/PRO_12-123/data/toy_data_set/01OV002-bd8cdc70-3d46-40ae-99c4-90ef77.svs'), '/home/aukermaa/vmount/PRO_12-123/tiling/01OV002-bd8cdc70-3d46-40ae-99c4-90ef77/source_tiles', '--filter_query', 'otsu_score > 0.1', '--requested_magnification', '2', '-o', '/home/aukermaa/vmount/PRO_12-123/tiling/01OV002-bd8cdc70-3d46-40ae-99c4-90ef77/detected_tiles']\n",
      "\n",
      "['detect_tissue', PosixPath('file:/home/aukermaa/vmount/PRO_12-123/data/toy_data_set/01OV008-7579323e-2fae-43a9-b00f-a15c28.svs'), '/home/aukermaa/vmount/PRO_12-123/tiling/01OV008-7579323e-2fae-43a9-b00f-a15c28/source_tiles', '--filter_query', 'otsu_score > 0.1', '--requested_magnification', '2', '-o', '/home/aukermaa/vmount/PRO_12-123/tiling/01OV008-7579323e-2fae-43a9-b00f-a15c28/detected_tiles']\n",
      "detect_tissue file:/home/aukermaa/vmount/PRO_12-123/data/toy_data_set/01OV007-9b90eb78-2f50-4aeb-b010-d642f9.svs /home/aukermaa/vmount/PRO_12-123/tiling/01OV007-9b90eb78-2f50-4aeb-b010-d642f9/source_tiles --filter_query otsu_score > 0.1 --requested_magnification 2\n",
      "['detect_tissue', PosixPath('file:/home/aukermaa/vmount/PRO_12-123/data/toy_data_set/01OV007-9b90eb78-2f50-4aeb-b010-d642f9.svs'), '/home/aukermaa/vmount/PRO_12-123/tiling/01OV007-9b90eb78-2f50-4aeb-b010-d642f9/source_tiles', '--filter_query', 'otsu_score > 0.1', '--requested_magnification', '2', '-o', '/home/aukermaa/vmount/PRO_12-123/tiling/01OV007-9b90eb78-2f50-4aeb-b010-d642f9/detected_tiles']\n"
     ]
    },
    {
     "name": "stderr",
     "output_type": "stream",
     "text": [
      "2022-04-29 20:03:06,695 - INFO - root - Initalized logger, log file at: data-processing.log\n",
      "2022-04-29 20:03:06,827 - INFO - root - Initalized logger, log file at: data-processing.log\n",
      "2022-04-29 20:03:06,917 - INFO - root - Initalized logger, log file at: data-processing.log\n",
      "2022-04-29 20:03:06,942 - INFO - root - Initalized logger, log file at: data-processing.log\n",
      "2022-04-29 20:03:07,011 - INFO - root - Initalized logger, log file at: data-processing.log\n",
      "2022-04-29 20:03:08,460 - INFO - luna.common.utils - Started CLI Runner wtih <function detect_tissue at 0x7fb3e500e3a0>\n",
      "2022-04-29 20:03:08,462 - INFO - luna.common.utils - Validating params...\n",
      "2022-04-29 20:03:08,464 - INFO - luna.common.utils -  -> Set input_slide_image (<class 'str'>) = file:/home/aukermaa/vmount/PRO_12-123/data/toy_data_set/01OV002-ed65cf94-8bc6-492b-9149-adc16f.svs\n",
      "2022-04-29 20:03:08,465 - INFO - luna.common.utils -  -> Set input_slide_tiles (<class 'str'>) = /home/aukermaa/vmount/PRO_12-123/tiling/01OV002-ed65cf94-8bc6-492b-9149-adc16f/source_tiles\n",
      "2022-04-29 20:03:08,466 - INFO - luna.common.utils -  -> Set requested_magnification (<class 'float'>) = 2.0\n",
      "2022-04-29 20:03:08,467 - INFO - luna.common.utils -  -> Set filter_query (<class 'str'>) = otsu_score > 0.1\n",
      "2022-04-29 20:03:08,468 - INFO - luna.common.utils -  -> Set output_dir (<class 'str'>) = /home/aukermaa/vmount/PRO_12-123/tiling/01OV002-ed65cf94-8bc6-492b-9149-adc16f/detected_tiles\n",
      "2022-04-29 20:03:08,469 - INFO - luna.common.utils -  -> Set num_cores (<class 'int'>) = 4\n",
      "2022-04-29 20:03:08,470 - INFO - luna.common.utils - Expanding inputs...\n",
      "2022-04-29 20:03:08,471 - INFO - luna.common.utils - Attempting to read metadata at file:/home/aukermaa/vmount/PRO_12-123/data/toy_data_set/01OV002-ed65cf94-8bc6-492b-9149-adc16f.svs/metadata.yml\n",
      "2022-04-29 20:03:08,472 - INFO - luna.common.utils - Attempting to read metadata at /home/aukermaa/vmount/PRO_12-123/tiling/01OV002-ed65cf94-8bc6-492b-9149-adc16f/source_tiles/metadata.yml\n",
      "2022-04-29 20:03:08,475 - INFO - luna.common.utils - Expanded input:\n",
      "2022-04-29 20:03:08,475 - INFO - luna.common.utils -  -> /home/aukermaa/vmount/PRO_12-123/tiling/01OV002-ed65cf94-8bc6-492b-9149-adc16f/source_tiles\n",
      "2022-04-29 20:03:08,475 - INFO - luna.common.utils -  -> /home/aukermaa/vmount/PRO_12-123/tiling/01OV002-ed65cf94-8bc6-492b-9149-adc16f/source_tiles/01OV002-ed65cf94-8bc6-492b-9149-adc16f.tiles.parquet\n",
      "2022-04-29 20:03:08,477 - INFO - luna.common.utils - Found segment keys: {'slide_id': '01OV002-ed65cf94-8bc6-492b-9149-adc16f'}\n",
      "2022-04-29 20:03:08,478 - INFO - luna.common.utils - Resolved input:\n",
      "2022-04-29 20:03:08,478 - INFO - luna.common.utils -  -> file:/home/aukermaa/vmount/PRO_12-123/data/toy_data_set/01OV002-ed65cf94-8bc6-492b-9149-adc16f.svs\n",
      "2022-04-29 20:03:08,478 - INFO - luna.common.utils -  -> /home/aukermaa/vmount/PRO_12-123/data/toy_data_set/01OV002-ed65cf94-8bc6-492b-9149-adc16f.svs\n",
      "2022-04-29 20:03:08,479 - INFO - luna.common.utils - Resolved input:\n",
      "2022-04-29 20:03:08,479 - INFO - luna.common.utils -  -> /home/aukermaa/vmount/PRO_12-123/tiling/01OV002-ed65cf94-8bc6-492b-9149-adc16f/source_tiles/01OV002-ed65cf94-8bc6-492b-9149-adc16f.tiles.parquet\n",
      "2022-04-29 20:03:08,479 - INFO - luna.common.utils -  -> /home/aukermaa/vmount/PRO_12-123/tiling/01OV002-ed65cf94-8bc6-492b-9149-adc16f/source_tiles/01OV002-ed65cf94-8bc6-492b-9149-adc16f.tiles.parquet\n",
      "2022-04-29 20:03:08,480 - INFO - luna.common.utils - Full segment key set: {'slide_id': '01OV002-ed65cf94-8bc6-492b-9149-adc16f'}\n",
      "2022-04-29 20:03:08,481 - INFO - luna.common.utils - ------------------------------------------------------------\n",
      "2022-04-29 20:03:08,481 - INFO - luna.common.utils -  Starting transform::detect_tissue \n",
      "2022-04-29 20:03:08,481 - INFO - luna.common.utils - ------------------------------------------------------------\n",
      "2022-04-29 20:03:08,543 - INFO - detect_tissue - Slide dimensions (50880, 49787)\n",
      "2022-04-29 20:03:08,545 - INFO - detect_tissue - Thumbnail scale factor: 20.0\n",
      "2022-04-29 20:03:08,772 - INFO - luna.common.utils - Started CLI Runner wtih <function detect_tissue at 0x7f4b66d0b3a0>\n",
      "2022-04-29 20:03:08,774 - INFO - luna.common.utils - Validating params...\n",
      "2022-04-29 20:03:08,775 - INFO - luna.common.utils -  -> Set input_slide_image (<class 'str'>) = file:/home/aukermaa/vmount/PRO_12-123/data/toy_data_set/01OV008-7579323e-2fae-43a9-b00f-a15c28.svs\n",
      "2022-04-29 20:03:08,776 - INFO - luna.common.utils -  -> Set input_slide_tiles (<class 'str'>) = /home/aukermaa/vmount/PRO_12-123/tiling/01OV008-7579323e-2fae-43a9-b00f-a15c28/source_tiles\n",
      "2022-04-29 20:03:08,777 - INFO - luna.common.utils -  -> Set requested_magnification (<class 'float'>) = 2.0\n",
      "2022-04-29 20:03:08,778 - INFO - luna.common.utils -  -> Set filter_query (<class 'str'>) = otsu_score > 0.1\n",
      "2022-04-29 20:03:08,779 - INFO - luna.common.utils -  -> Set output_dir (<class 'str'>) = /home/aukermaa/vmount/PRO_12-123/tiling/01OV008-7579323e-2fae-43a9-b00f-a15c28/detected_tiles\n",
      "2022-04-29 20:03:08,780 - INFO - luna.common.utils -  -> Set num_cores (<class 'int'>) = 4\n",
      "2022-04-29 20:03:08,782 - INFO - luna.common.utils - Expanding inputs...\n",
      "2022-04-29 20:03:08,783 - INFO - luna.common.utils - Attempting to read metadata at file:/home/aukermaa/vmount/PRO_12-123/data/toy_data_set/01OV008-7579323e-2fae-43a9-b00f-a15c28.svs/metadata.yml\n",
      "2022-04-29 20:03:08,784 - INFO - luna.common.utils - Attempting to read metadata at /home/aukermaa/vmount/PRO_12-123/tiling/01OV008-7579323e-2fae-43a9-b00f-a15c28/source_tiles/metadata.yml\n",
      "2022-04-29 20:03:08,787 - INFO - luna.common.utils - Expanded input:\n",
      "2022-04-29 20:03:08,787 - INFO - luna.common.utils -  -> /home/aukermaa/vmount/PRO_12-123/tiling/01OV008-7579323e-2fae-43a9-b00f-a15c28/source_tiles\n",
      "2022-04-29 20:03:08,787 - INFO - luna.common.utils -  -> /home/aukermaa/vmount/PRO_12-123/tiling/01OV008-7579323e-2fae-43a9-b00f-a15c28/source_tiles/01OV008-7579323e-2fae-43a9-b00f-a15c28.tiles.parquet\n",
      "2022-04-29 20:03:08,789 - INFO - luna.common.utils - Found segment keys: {'slide_id': '01OV008-7579323e-2fae-43a9-b00f-a15c28'}\n",
      "2022-04-29 20:03:08,790 - INFO - luna.common.utils - Resolved input:\n",
      "2022-04-29 20:03:08,790 - INFO - luna.common.utils -  -> file:/home/aukermaa/vmount/PRO_12-123/data/toy_data_set/01OV008-7579323e-2fae-43a9-b00f-a15c28.svs\n",
      "2022-04-29 20:03:08,790 - INFO - luna.common.utils -  -> /home/aukermaa/vmount/PRO_12-123/data/toy_data_set/01OV008-7579323e-2fae-43a9-b00f-a15c28.svs\n",
      "2022-04-29 20:03:08,791 - INFO - luna.common.utils - Resolved input:\n",
      "2022-04-29 20:03:08,791 - INFO - luna.common.utils -  -> /home/aukermaa/vmount/PRO_12-123/tiling/01OV008-7579323e-2fae-43a9-b00f-a15c28/source_tiles/01OV008-7579323e-2fae-43a9-b00f-a15c28.tiles.parquet\n",
      "2022-04-29 20:03:08,791 - INFO - luna.common.utils -  -> /home/aukermaa/vmount/PRO_12-123/tiling/01OV008-7579323e-2fae-43a9-b00f-a15c28/source_tiles/01OV008-7579323e-2fae-43a9-b00f-a15c28.tiles.parquet\n",
      "2022-04-29 20:03:08,792 - INFO - luna.common.utils - Full segment key set: {'slide_id': '01OV008-7579323e-2fae-43a9-b00f-a15c28'}\n",
      "2022-04-29 20:03:08,793 - INFO - luna.common.utils - ------------------------------------------------------------\n",
      "2022-04-29 20:03:08,793 - INFO - luna.common.utils -  Starting transform::detect_tissue \n",
      "2022-04-29 20:03:08,793 - INFO - luna.common.utils - ------------------------------------------------------------\n",
      "2022-04-29 20:03:08,811 - INFO - luna.common.utils - Started CLI Runner wtih <function detect_tissue at 0x7f91d41af3a0>\n",
      "2022-04-29 20:03:08,813 - INFO - luna.common.utils - Validating params...\n",
      "2022-04-29 20:03:08,814 - INFO - luna.common.utils -  -> Set input_slide_image (<class 'str'>) = file:/home/aukermaa/vmount/PRO_12-123/data/toy_data_set/01OV008-308ad404-7079-4ff8-8232-12ee2e.svs\n",
      "2022-04-29 20:03:08,816 - INFO - luna.common.utils -  -> Set input_slide_tiles (<class 'str'>) = /home/aukermaa/vmount/PRO_12-123/tiling/01OV008-308ad404-7079-4ff8-8232-12ee2e/source_tiles\n",
      "2022-04-29 20:03:08,817 - INFO - luna.common.utils -  -> Set requested_magnification (<class 'float'>) = 2.0\n",
      "2022-04-29 20:03:08,818 - INFO - luna.common.utils -  -> Set filter_query (<class 'str'>) = otsu_score > 0.1\n",
      "2022-04-29 20:03:08,819 - INFO - luna.common.utils -  -> Set output_dir (<class 'str'>) = /home/aukermaa/vmount/PRO_12-123/tiling/01OV008-308ad404-7079-4ff8-8232-12ee2e/detected_tiles\n",
      "2022-04-29 20:03:08,819 - INFO - luna.common.utils -  -> Set num_cores (<class 'int'>) = 4\n",
      "2022-04-29 20:03:08,821 - INFO - luna.common.utils - Expanding inputs...\n",
      "2022-04-29 20:03:08,822 - INFO - luna.common.utils - Attempting to read metadata at file:/home/aukermaa/vmount/PRO_12-123/data/toy_data_set/01OV008-308ad404-7079-4ff8-8232-12ee2e.svs/metadata.yml\n",
      "2022-04-29 20:03:08,823 - INFO - luna.common.utils - Attempting to read metadata at /home/aukermaa/vmount/PRO_12-123/tiling/01OV008-308ad404-7079-4ff8-8232-12ee2e/source_tiles/metadata.yml\n",
      "2022-04-29 20:03:08,827 - INFO - luna.common.utils - Expanded input:\n",
      "2022-04-29 20:03:08,827 - INFO - luna.common.utils -  -> /home/aukermaa/vmount/PRO_12-123/tiling/01OV008-308ad404-7079-4ff8-8232-12ee2e/source_tiles\n",
      "2022-04-29 20:03:08,827 - INFO - luna.common.utils -  -> /home/aukermaa/vmount/PRO_12-123/tiling/01OV008-308ad404-7079-4ff8-8232-12ee2e/source_tiles/01OV008-308ad404-7079-4ff8-8232-12ee2e.tiles.parquet\n",
      "2022-04-29 20:03:08,829 - INFO - luna.common.utils - Found segment keys: {'slide_id': '01OV008-308ad404-7079-4ff8-8232-12ee2e'}\n",
      "2022-04-29 20:03:08,830 - INFO - luna.common.utils - Resolved input:\n",
      "2022-04-29 20:03:08,830 - INFO - luna.common.utils -  -> file:/home/aukermaa/vmount/PRO_12-123/data/toy_data_set/01OV008-308ad404-7079-4ff8-8232-12ee2e.svs\n",
      "2022-04-29 20:03:08,830 - INFO - luna.common.utils -  -> /home/aukermaa/vmount/PRO_12-123/data/toy_data_set/01OV008-308ad404-7079-4ff8-8232-12ee2e.svs\n",
      "2022-04-29 20:03:08,831 - INFO - luna.common.utils - Resolved input:\n",
      "2022-04-29 20:03:08,831 - INFO - luna.common.utils -  -> /home/aukermaa/vmount/PRO_12-123/tiling/01OV008-308ad404-7079-4ff8-8232-12ee2e/source_tiles/01OV008-308ad404-7079-4ff8-8232-12ee2e.tiles.parquet\n",
      "2022-04-29 20:03:08,831 - INFO - luna.common.utils -  -> /home/aukermaa/vmount/PRO_12-123/tiling/01OV008-308ad404-7079-4ff8-8232-12ee2e/source_tiles/01OV008-308ad404-7079-4ff8-8232-12ee2e.tiles.parquet\n",
      "2022-04-29 20:03:08,832 - INFO - luna.common.utils - Full segment key set: {'slide_id': '01OV008-308ad404-7079-4ff8-8232-12ee2e'}\n",
      "2022-04-29 20:03:08,832 - INFO - luna.common.utils - ------------------------------------------------------------\n",
      "2022-04-29 20:03:08,832 - INFO - luna.common.utils -  Starting transform::detect_tissue \n",
      "2022-04-29 20:03:08,832 - INFO - luna.common.utils - ------------------------------------------------------------\n",
      "2022-04-29 20:03:08,853 - INFO - detect_tissue - Slide dimensions (42240, 59209)\n",
      "2022-04-29 20:03:08,855 - INFO - detect_tissue - Thumbnail scale factor: 20.0\n",
      "2022-04-29 20:03:08,874 - INFO - luna.common.utils - Started CLI Runner wtih <function detect_tissue at 0x7fa55615b3a0>\n",
      "2022-04-29 20:03:08,876 - INFO - luna.common.utils - Validating params...\n",
      "2022-04-29 20:03:08,877 - INFO - luna.common.utils -  -> Set input_slide_image (<class 'str'>) = file:/home/aukermaa/vmount/PRO_12-123/data/toy_data_set/01OV007-9b90eb78-2f50-4aeb-b010-d642f9.svs\n",
      "2022-04-29 20:03:08,878 - INFO - luna.common.utils -  -> Set input_slide_tiles (<class 'str'>) = /home/aukermaa/vmount/PRO_12-123/tiling/01OV007-9b90eb78-2f50-4aeb-b010-d642f9/source_tiles\n",
      "2022-04-29 20:03:08,879 - INFO - luna.common.utils -  -> Set requested_magnification (<class 'float'>) = 2.0\n",
      "2022-04-29 20:03:08,880 - INFO - luna.common.utils -  -> Set filter_query (<class 'str'>) = otsu_score > 0.1\n",
      "2022-04-29 20:03:08,880 - INFO - luna.common.utils -  -> Set output_dir (<class 'str'>) = /home/aukermaa/vmount/PRO_12-123/tiling/01OV007-9b90eb78-2f50-4aeb-b010-d642f9/detected_tiles\n",
      "2022-04-29 20:03:08,882 - INFO - luna.common.utils -  -> Set num_cores (<class 'int'>) = 4\n",
      "2022-04-29 20:03:08,883 - INFO - luna.common.utils - Expanding inputs...\n",
      "2022-04-29 20:03:08,884 - INFO - luna.common.utils - Attempting to read metadata at file:/home/aukermaa/vmount/PRO_12-123/data/toy_data_set/01OV007-9b90eb78-2f50-4aeb-b010-d642f9.svs/metadata.yml\n",
      "2022-04-29 20:03:08,885 - INFO - luna.common.utils - Attempting to read metadata at /home/aukermaa/vmount/PRO_12-123/tiling/01OV007-9b90eb78-2f50-4aeb-b010-d642f9/source_tiles/metadata.yml\n",
      "2022-04-29 20:03:08,888 - INFO - luna.common.utils - Expanded input:\n",
      "2022-04-29 20:03:08,888 - INFO - luna.common.utils -  -> /home/aukermaa/vmount/PRO_12-123/tiling/01OV007-9b90eb78-2f50-4aeb-b010-d642f9/source_tiles\n",
      "2022-04-29 20:03:08,888 - INFO - luna.common.utils -  -> /home/aukermaa/vmount/PRO_12-123/tiling/01OV007-9b90eb78-2f50-4aeb-b010-d642f9/source_tiles/01OV007-9b90eb78-2f50-4aeb-b010-d642f9.tiles.parquet\n",
      "2022-04-29 20:03:08,889 - INFO - luna.common.utils - Found segment keys: {'slide_id': '01OV007-9b90eb78-2f50-4aeb-b010-d642f9'}\n",
      "2022-04-29 20:03:08,891 - INFO - luna.common.utils - Resolved input:\n",
      "2022-04-29 20:03:08,891 - INFO - luna.common.utils -  -> file:/home/aukermaa/vmount/PRO_12-123/data/toy_data_set/01OV007-9b90eb78-2f50-4aeb-b010-d642f9.svs\n",
      "2022-04-29 20:03:08,891 - INFO - luna.common.utils -  -> /home/aukermaa/vmount/PRO_12-123/data/toy_data_set/01OV007-9b90eb78-2f50-4aeb-b010-d642f9.svs\n",
      "2022-04-29 20:03:08,892 - INFO - luna.common.utils - Resolved input:\n",
      "2022-04-29 20:03:08,892 - INFO - luna.common.utils -  -> /home/aukermaa/vmount/PRO_12-123/tiling/01OV007-9b90eb78-2f50-4aeb-b010-d642f9/source_tiles/01OV007-9b90eb78-2f50-4aeb-b010-d642f9.tiles.parquet\n",
      "2022-04-29 20:03:08,892 - INFO - luna.common.utils -  -> /home/aukermaa/vmount/PRO_12-123/tiling/01OV007-9b90eb78-2f50-4aeb-b010-d642f9/source_tiles/01OV007-9b90eb78-2f50-4aeb-b010-d642f9.tiles.parquet\n",
      "2022-04-29 20:03:08,892 - INFO - luna.common.utils - Full segment key set: {'slide_id': '01OV007-9b90eb78-2f50-4aeb-b010-d642f9'}\n",
      "2022-04-29 20:03:08,893 - INFO - luna.common.utils - ------------------------------------------------------------\n",
      "2022-04-29 20:03:08,893 - INFO - luna.common.utils -  Starting transform::detect_tissue \n",
      "2022-04-29 20:03:08,893 - INFO - luna.common.utils - ------------------------------------------------------------\n",
      "2022-04-29 20:03:08,903 - INFO - detect_tissue - Slide dimensions (52800, 38628)\n",
      "2022-04-29 20:03:08,905 - INFO - detect_tissue - Thumbnail scale factor: 20.0\n",
      "2022-04-29 20:03:08,906 - INFO - luna.common.utils - Started CLI Runner wtih <function detect_tissue at 0x7f2538a8e3a0>\n",
      "2022-04-29 20:03:08,908 - INFO - luna.common.utils - Validating params...\n",
      "2022-04-29 20:03:08,909 - INFO - luna.common.utils -  -> Set input_slide_image (<class 'str'>) = file:/home/aukermaa/vmount/PRO_12-123/data/toy_data_set/01OV002-bd8cdc70-3d46-40ae-99c4-90ef77.svs\n",
      "2022-04-29 20:03:08,910 - INFO - luna.common.utils -  -> Set input_slide_tiles (<class 'str'>) = /home/aukermaa/vmount/PRO_12-123/tiling/01OV002-bd8cdc70-3d46-40ae-99c4-90ef77/source_tiles\n",
      "2022-04-29 20:03:08,911 - INFO - luna.common.utils -  -> Set requested_magnification (<class 'float'>) = 2.0\n",
      "2022-04-29 20:03:08,912 - INFO - luna.common.utils -  -> Set filter_query (<class 'str'>) = otsu_score > 0.1\n",
      "2022-04-29 20:03:08,913 - INFO - luna.common.utils -  -> Set output_dir (<class 'str'>) = /home/aukermaa/vmount/PRO_12-123/tiling/01OV002-bd8cdc70-3d46-40ae-99c4-90ef77/detected_tiles\n",
      "2022-04-29 20:03:08,914 - INFO - luna.common.utils -  -> Set num_cores (<class 'int'>) = 4\n",
      "2022-04-29 20:03:08,915 - INFO - luna.common.utils - Expanding inputs...\n",
      "2022-04-29 20:03:08,916 - INFO - luna.common.utils - Attempting to read metadata at file:/home/aukermaa/vmount/PRO_12-123/data/toy_data_set/01OV002-bd8cdc70-3d46-40ae-99c4-90ef77.svs/metadata.yml\n",
      "2022-04-29 20:03:08,917 - INFO - luna.common.utils - Attempting to read metadata at /home/aukermaa/vmount/PRO_12-123/tiling/01OV002-bd8cdc70-3d46-40ae-99c4-90ef77/source_tiles/metadata.yml\n",
      "2022-04-29 20:03:08,921 - INFO - luna.common.utils - Expanded input:\n",
      "2022-04-29 20:03:08,921 - INFO - luna.common.utils -  -> /home/aukermaa/vmount/PRO_12-123/tiling/01OV002-bd8cdc70-3d46-40ae-99c4-90ef77/source_tiles\n",
      "2022-04-29 20:03:08,921 - INFO - luna.common.utils -  -> /home/aukermaa/vmount/PRO_12-123/tiling/01OV002-bd8cdc70-3d46-40ae-99c4-90ef77/source_tiles/01OV002-bd8cdc70-3d46-40ae-99c4-90ef77.tiles.parquet\n",
      "2022-04-29 20:03:08,922 - INFO - luna.common.utils - Found segment keys: {'slide_id': '01OV002-bd8cdc70-3d46-40ae-99c4-90ef77'}\n",
      "2022-04-29 20:03:08,923 - INFO - luna.common.utils - Resolved input:\n",
      "2022-04-29 20:03:08,923 - INFO - luna.common.utils -  -> file:/home/aukermaa/vmount/PRO_12-123/data/toy_data_set/01OV002-bd8cdc70-3d46-40ae-99c4-90ef77.svs\n",
      "2022-04-29 20:03:08,923 - INFO - luna.common.utils -  -> /home/aukermaa/vmount/PRO_12-123/data/toy_data_set/01OV002-bd8cdc70-3d46-40ae-99c4-90ef77.svs\n",
      "2022-04-29 20:03:08,925 - INFO - luna.common.utils - Resolved input:\n",
      "2022-04-29 20:03:08,925 - INFO - luna.common.utils -  -> /home/aukermaa/vmount/PRO_12-123/tiling/01OV002-bd8cdc70-3d46-40ae-99c4-90ef77/source_tiles/01OV002-bd8cdc70-3d46-40ae-99c4-90ef77.tiles.parquet\n",
      "2022-04-29 20:03:08,925 - INFO - luna.common.utils -  -> /home/aukermaa/vmount/PRO_12-123/tiling/01OV002-bd8cdc70-3d46-40ae-99c4-90ef77/source_tiles/01OV002-bd8cdc70-3d46-40ae-99c4-90ef77.tiles.parquet\n",
      "2022-04-29 20:03:08,926 - INFO - luna.common.utils - Full segment key set: {'slide_id': '01OV002-bd8cdc70-3d46-40ae-99c4-90ef77'}\n",
      "2022-04-29 20:03:08,927 - INFO - luna.common.utils - ------------------------------------------------------------\n",
      "2022-04-29 20:03:08,927 - INFO - luna.common.utils -  Starting transform::detect_tissue \n",
      "2022-04-29 20:03:08,927 - INFO - luna.common.utils - ------------------------------------------------------------\n"
     ]
    },
    {
     "name": "stderr",
     "output_type": "stream",
     "text": [
      "2022-04-29 20:03:08,998 - INFO - detect_tissue - Slide dimensions (53760, 54840)\n",
      "2022-04-29 20:03:09,000 - INFO - detect_tissue - Thumbnail scale factor: 20.0\n",
      "2022-04-29 20:03:09,001 - INFO - detect_tissue - Slide dimensions (109440, 60110)\n",
      "2022-04-29 20:03:09,002 - INFO - detect_tissue - Thumbnail scale factor: 20.0\n",
      "2022-04-29 20:03:09,858 - INFO - detect_tissue - Sample array size: (2489, 2544, 3)\n",
      "2022-04-29 20:03:09,913 - INFO - detect_tissue - Sample array size: (1931, 2640, 3)\n",
      "2022-04-29 20:03:10,104 - INFO - detect_tissue - Sample array size: (2960, 2112, 3)\n",
      "2022-04-29 20:03:10,530 - INFO - detect_tissue - Sample array size: (2742, 2688, 3)\n",
      "2022-04-29 20:03:12,670 - INFO - detect_tissue - Sample array size: (3005, 5472, 3)\n",
      "2022-04-29 20:03:23,704 - INFO - detect_tissue - Starting otsu thresholding, threshold=0.6760414889705882\n",
      "2022-04-29 20:03:27,379 - INFO - detect_tissue - Starting otsu thresholding, threshold=0.7107123230698529\n",
      "  0%|          | 0/30545 [00:00<?, ?it/s]2022-04-29 20:03:27,481 - INFO - detect_tissue - Starting otsu thresholding, threshold=0.7071628178615197\n",
      "  1%|▏         | 541/38021 [00:00<00:06, 5396.00it/s]2022-04-29 20:03:31,378 - INFO - detect_tissue - Starting otsu thresholding, threshold=0.7300508425245098\n",
      " 42%|████▏     | 15832/37490 [00:18<00:28, 770.98it/s]2022-04-29 20:03:50,033 - INFO - detect_tissue - Starting otsu thresholding, threshold=0.7421401378676471\n",
      "100%|██████████| 30545/30545 [00:35<00:00, 872.54it/s] \n",
      "2022-04-29 20:04:02,498 - INFO - detect_tissue - Filtering based on query: otsu_score > 0.1\n",
      " 71%|███████   | 26842/38021 [00:31<00:12, 883.77it/s]2022-04-29 20:04:02,512 - INFO - detect_tissue -                 x_coord  y_coord  xy_extent  tile_size tile_units  otsu_score\n",
      "2022-04-29 20:04:02,512 - INFO - detect_tissue - address                                                                      \n",
      "2022-04-29 20:04:02,512 - INFO - detect_tissue - x6_y74_z20.0       1536    18944        256        128         px        0.18\n",
      "2022-04-29 20:04:02,512 - INFO - detect_tissue - x7_y74_z20.0       1792    18944        256        128         px        0.13\n",
      "2022-04-29 20:04:02,512 - INFO - detect_tissue - x7_y81_z20.0       1792    20736        256        128         px        0.11\n",
      "2022-04-29 20:04:02,512 - INFO - detect_tissue - x8_y75_z20.0       2048    19200        256        128         px        0.22\n",
      "2022-04-29 20:04:02,512 - INFO - detect_tissue - x8_y76_z20.0       2048    19456        256        128         px        0.29\n",
      "2022-04-29 20:04:02,512 - INFO - detect_tissue - ...                 ...      ...        ...        ...        ...         ...\n",
      "2022-04-29 20:04:02,512 - INFO - detect_tissue - x181_y45_z20.0    46336    11520        256        128         px        0.48\n",
      "2022-04-29 20:04:02,512 - INFO - detect_tissue - x182_y41_z20.0    46592    10496        256        128         px        0.26\n",
      "2022-04-29 20:04:02,512 - INFO - detect_tissue - x182_y42_z20.0    46592    10752        256        128         px        0.59\n",
      "2022-04-29 20:04:02,512 - INFO - detect_tissue - x182_y43_z20.0    46592    11008        256        128         px        0.56\n",
      "2022-04-29 20:04:02,512 - INFO - detect_tissue - x182_y44_z20.0    46592    11264        256        128         px        0.28\n",
      "2022-04-29 20:04:02,512 - INFO - detect_tissue - \n",
      "2022-04-29 20:04:02,512 - INFO - detect_tissue - [13704 rows x 6 columns]\n",
      " 71%|███████   | 26467/37490 [00:31<00:11, 939.26it/s]2022-04-29 20:04:02,553 - INFO - luna.common.utils - Code block 'transform::detect_tissue' took: 53.71914231777191s\n",
      "2022-04-29 20:04:02,554 - INFO - luna.common.utils - ------------------------------------------------------------\n",
      "2022-04-29 20:04:02,554 - INFO - luna.common.utils -  Done with transform, running post-transform functions... \n",
      "2022-04-29 20:04:02,554 - INFO - luna.common.utils - ------------------------------------------------------------\n",
      "2022-04-29 20:04:02,559 - INFO - luna.common.utils - Done.\n",
      " 72%|███████▏  | 27535/38021 [00:32<00:12, 863.62it/s]]"
     ]
    },
    {
     "name": "stdout",
     "output_type": "stream",
     "text": [
      "label_tiles ../PRO_12-123/data/toy_data_set/table/ANNOTATIONS /home/aukermaa/vmount/PRO_12-123/tiling/01OV008-308ad404-7079-4ff8-8232-12ee2e/detected_tiles\n",
      "['label_tiles', PosixPath('../PRO_12-123/data/toy_data_set/table/ANNOTATIONS'), '/home/aukermaa/vmount/PRO_12-123/tiling/01OV008-308ad404-7079-4ff8-8232-12ee2e/detected_tiles', '-o', '/home/aukermaa/vmount/PRO_12-123/tiling/01OV008-308ad404-7079-4ff8-8232-12ee2e/labled_tiles']\n"
     ]
    },
    {
     "name": "stderr",
     "output_type": "stream",
     "text": [
      " 61%|██████▏   | 27183/44304 [00:29<00:20, 846.20it/s]2022-04-29 20:04:04,366 - INFO - root - Initalized logger, log file at: data-processing.log\n",
      "2022-04-29 20:04:04,367 - INFO - luna.common.utils - Started CLI Runner wtih <function generate_tile_labels at 0x7ff8a63adf70>\n",
      "2022-04-29 20:04:04,369 - INFO - luna.common.utils - Validating params...\n",
      "2022-04-29 20:04:04,370 - INFO - luna.common.utils -  -> Set input_slide_annotation_dataset (<class 'str'>) = ../PRO_12-123/data/toy_data_set/table/ANNOTATIONS\n",
      "2022-04-29 20:04:04,371 - INFO - luna.common.utils -  -> Set input_slide_tiles (<class 'str'>) = /home/aukermaa/vmount/PRO_12-123/tiling/01OV008-308ad404-7079-4ff8-8232-12ee2e/detected_tiles\n",
      "2022-04-29 20:04:04,373 - INFO - luna.common.utils -  -> Set output_dir (<class 'str'>) = /home/aukermaa/vmount/PRO_12-123/tiling/01OV008-308ad404-7079-4ff8-8232-12ee2e/labled_tiles\n",
      "2022-04-29 20:04:04,374 - INFO - luna.common.utils - Expanding inputs...\n",
      " 76%|███████▌  | 28360/37490 [00:32<00:08, 1114.28it/s]2022-04-29 20:04:04,375 - INFO - luna.common.utils - Attempting to read metadata at ../PRO_12-123/data/toy_data_set/table/ANNOTATIONS/metadata.yml\n",
      "2022-04-29 20:04:04,379 - INFO - luna.common.utils - Expanded input:\n",
      "2022-04-29 20:04:04,379 - INFO - luna.common.utils -  -> ../PRO_12-123/data/toy_data_set/table/ANNOTATIONS\n",
      "2022-04-29 20:04:04,379 - INFO - luna.common.utils -  -> ../PRO_12-123/data/toy_data_set/table/ANNOTATIONS/slide_annotation_dataset_TCGA collection_ov_regional.parquet\n",
      "2022-04-29 20:04:04,380 - INFO - luna.common.utils - Found segment keys: {'dsa_collection_uuid': '626c0a1dbfa0f49e3e026f6a'}\n",
      "2022-04-29 20:04:04,381 - INFO - luna.common.utils - Attempting to read metadata at /home/aukermaa/vmount/PRO_12-123/tiling/01OV008-308ad404-7079-4ff8-8232-12ee2e/detected_tiles/metadata.yml\n",
      "2022-04-29 20:04:04,385 - INFO - luna.common.utils - Expanded input:\n",
      "2022-04-29 20:04:04,385 - INFO - luna.common.utils -  -> /home/aukermaa/vmount/PRO_12-123/tiling/01OV008-308ad404-7079-4ff8-8232-12ee2e/detected_tiles\n",
      "2022-04-29 20:04:04,385 - INFO - luna.common.utils -  -> /home/aukermaa/vmount/PRO_12-123/tiling/01OV008-308ad404-7079-4ff8-8232-12ee2e/detected_tiles/01OV008-308ad404-7079-4ff8-8232-12ee2e-filtered.tiles.parquet\n",
      "2022-04-29 20:04:04,386 - INFO - luna.common.utils - Found segment keys: {'slide_id': '01OV008-308ad404-7079-4ff8-8232-12ee2e'}\n",
      "2022-04-29 20:04:04,387 - INFO - luna.common.utils - Resolved input:\n",
      "2022-04-29 20:04:04,387 - INFO - luna.common.utils -  -> ../PRO_12-123/data/toy_data_set/table/ANNOTATIONS/slide_annotation_dataset_TCGA collection_ov_regional.parquet\n",
      "2022-04-29 20:04:04,387 - INFO - luna.common.utils -  -> /home/aukermaa/vmount/PRO_12-123/data/toy_data_set/table/ANNOTATIONS/slide_annotation_dataset_TCGA collection_ov_regional.parquet\n",
      "2022-04-29 20:04:04,388 - INFO - luna.common.utils - Resolved input:\n",
      "2022-04-29 20:04:04,388 - INFO - luna.common.utils -  -> /home/aukermaa/vmount/PRO_12-123/tiling/01OV008-308ad404-7079-4ff8-8232-12ee2e/detected_tiles/01OV008-308ad404-7079-4ff8-8232-12ee2e-filtered.tiles.parquet\n",
      "2022-04-29 20:04:04,388 - INFO - luna.common.utils -  -> /home/aukermaa/vmount/PRO_12-123/tiling/01OV008-308ad404-7079-4ff8-8232-12ee2e/detected_tiles/01OV008-308ad404-7079-4ff8-8232-12ee2e-filtered.tiles.parquet\n",
      "2022-04-29 20:04:04,389 - INFO - luna.common.utils - Full segment key set: {'dsa_collection_uuid': '626c0a1dbfa0f49e3e026f6a', 'slide_id': '01OV008-308ad404-7079-4ff8-8232-12ee2e'}\n",
      "2022-04-29 20:04:04,390 - INFO - luna.common.utils - ------------------------------------------------------------\n",
      "2022-04-29 20:04:04,390 - INFO - luna.common.utils -  Starting transform::generate_tile_labels \n",
      "2022-04-29 20:04:04,390 - INFO - luna.common.utils - ------------------------------------------------------------\n",
      "2022-04-29 20:04:04,391 - INFO - generate_tile_labels - slide_id=01OV008-308ad404-7079-4ff8-8232-12ee2e\n",
      "  5%|▌         | 5266/99258 [00:04<01:38, 949.41it/s] ]"
     ]
    },
    {
     "name": "stdout",
     "output_type": "stream",
     "text": [
      "../PRO_12-123/data/toy_data_set/table/ANNOTATIONS/01OV008-308ad404-7079-4ff8-8232-12ee2e.annotation.geojson TCGA collection ov_regional\n"
     ]
    },
    {
     "name": "stderr",
     "output_type": "stream",
     "text": [
      "100%|██████████| 13704/13704 [00:02<00:00, 4642.77it/s]\n",
      " 85%|████████▌ | 31952/37490 [00:35<00:04, 1233.81it/s]2022-04-29 20:04:07,434 - INFO - generate_tile_labels -                 x_coord  y_coord  ...  regional_label  intersection_area\n",
      "2022-04-29 20:04:07,434 - INFO - generate_tile_labels - address                           ...                                   \n",
      "2022-04-29 20:04:07,434 - INFO - generate_tile_labels - x58_y60_z20.0     14848    15360  ...          stroma           0.055923\n",
      "2022-04-29 20:04:07,434 - INFO - generate_tile_labels - x58_y61_z20.0     14848    15616  ...          stroma           0.272237\n",
      "2022-04-29 20:04:07,434 - INFO - generate_tile_labels - x58_y62_z20.0     14848    15872  ...          stroma           0.074921\n",
      "2022-04-29 20:04:07,434 - INFO - generate_tile_labels - x58_y63_z20.0     14848    16128  ...          stroma           0.230325\n",
      "2022-04-29 20:04:07,434 - INFO - generate_tile_labels - x59_y60_z20.0     15104    15360  ...          stroma           0.061584\n",
      "2022-04-29 20:04:07,434 - INFO - generate_tile_labels - ...                 ...      ...  ...             ...                ...\n",
      "2022-04-29 20:04:07,434 - INFO - generate_tile_labels - x150_y75_z20.0    38400    19200  ...             fat           0.655609\n",
      "2022-04-29 20:04:07,434 - INFO - generate_tile_labels - x150_y91_z20.0    38400    23296  ...          stroma           0.061430\n",
      "2022-04-29 20:04:07,434 - INFO - generate_tile_labels - x150_y92_z20.0    38400    23552  ...          stroma           0.068517\n",
      "2022-04-29 20:04:07,434 - INFO - generate_tile_labels - x151_y74_z20.0    38656    18944  ...             fat           0.037047\n",
      "2022-04-29 20:04:07,434 - INFO - generate_tile_labels - x151_y75_z20.0    38656    19200  ...             fat           0.031012\n",
      "2022-04-29 20:04:07,434 - INFO - generate_tile_labels - \n",
      "2022-04-29 20:04:07,434 - INFO - generate_tile_labels - [1179 rows x 8 columns]\n",
      "2022-04-29 20:04:07,475 - INFO - luna.common.utils - Code block 'transform::generate_tile_labels' took: 3.084052637219429s\n",
      "2022-04-29 20:04:07,484 - INFO - luna.common.utils - ------------------------------------------------------------\n",
      "2022-04-29 20:04:07,484 - INFO - luna.common.utils -  Done with transform, running post-transform functions... \n",
      "2022-04-29 20:04:07,484 - INFO - luna.common.utils - ------------------------------------------------------------\n",
      "2022-04-29 20:04:07,488 - INFO - luna.common.utils - Done.\n",
      "  8%|▊         | 8356/99258 [00:07<01:44, 872.59it/s]s]"
     ]
    },
    {
     "name": "stdout",
     "output_type": "stream",
     "text": [
      "save_tiles file:/home/aukermaa/vmount/PRO_12-123/data/toy_data_set/01OV008-308ad404-7079-4ff8-8232-12ee2e.svs /home/aukermaa/vmount/PRO_12-123/tiling/01OV008-308ad404-7079-4ff8-8232-12ee2e/labled_tiles --num_cores 16 --batch_size 200 --dataset_id PRO_TILES_LABLED_S3\n",
      "['save_tiles', PosixPath('file:/home/aukermaa/vmount/PRO_12-123/data/toy_data_set/01OV008-308ad404-7079-4ff8-8232-12ee2e.svs'), '/home/aukermaa/vmount/PRO_12-123/tiling/01OV008-308ad404-7079-4ff8-8232-12ee2e/labled_tiles', '--num_cores', '16', '--batch_size', '200', '--dataset_id', 'PRO_TILES_LABLED_S3', '-o', '/home/aukermaa/vmount/PRO_12-123/tiling/01OV008-308ad404-7079-4ff8-8232-12ee2e/saved_tiles']\n"
     ]
    },
    {
     "name": "stderr",
     "output_type": "stream",
     "text": [
      " 70%|██████▉   | 30906/44304 [00:33<00:14, 895.77it/s]2022-04-29 20:04:08,656 - INFO - root - Initalized logger, log file at: data-processing.log\n",
      " 73%|███████▎  | 32552/44304 [00:35<00:12, 933.34it/s]2022-04-29 20:04:10,502 - INFO - luna.common.utils - Started CLI Runner wtih <function save_tiles at 0x7f04d484f430>\n",
      "2022-04-29 20:04:10,504 - INFO - luna.common.utils - Validating params...\n",
      "2022-04-29 20:04:10,505 - INFO - luna.common.utils -  -> Set input_slide_image (<class 'str'>) = file:/home/aukermaa/vmount/PRO_12-123/data/toy_data_set/01OV008-308ad404-7079-4ff8-8232-12ee2e.svs\n",
      "2022-04-29 20:04:10,506 - INFO - luna.common.utils -  -> Set input_slide_tiles (<class 'str'>) = /home/aukermaa/vmount/PRO_12-123/tiling/01OV008-308ad404-7079-4ff8-8232-12ee2e/labled_tiles\n",
      "2022-04-29 20:04:10,507 - INFO - luna.common.utils -  -> Set output_dir (<class 'str'>) = /home/aukermaa/vmount/PRO_12-123/tiling/01OV008-308ad404-7079-4ff8-8232-12ee2e/saved_tiles\n",
      "2022-04-29 20:04:10,508 - INFO - luna.common.utils -  -> Set num_cores (<class 'int'>) = 16\n",
      "2022-04-29 20:04:10,509 - INFO - luna.common.utils -  -> Set batch_size (<class 'int'>) = 200\n",
      "2022-04-29 20:04:10,510 - INFO - luna.common.utils - Expanding inputs...\n",
      "2022-04-29 20:04:10,512 - INFO - luna.common.utils - Attempting to read metadata at file:/home/aukermaa/vmount/PRO_12-123/data/toy_data_set/01OV008-308ad404-7079-4ff8-8232-12ee2e.svs/metadata.yml\n",
      "2022-04-29 20:04:10,513 - INFO - luna.common.utils - Attempting to read metadata at /home/aukermaa/vmount/PRO_12-123/tiling/01OV008-308ad404-7079-4ff8-8232-12ee2e/labled_tiles/metadata.yml\n",
      "2022-04-29 20:04:10,517 - INFO - luna.common.utils - Expanded input:\n",
      "2022-04-29 20:04:10,517 - INFO - luna.common.utils -  -> /home/aukermaa/vmount/PRO_12-123/tiling/01OV008-308ad404-7079-4ff8-8232-12ee2e/labled_tiles\n",
      "2022-04-29 20:04:10,517 - INFO - luna.common.utils -  -> /home/aukermaa/vmount/PRO_12-123/tiling/01OV008-308ad404-7079-4ff8-8232-12ee2e/labled_tiles/01OV008-308ad404-7079-4ff8-8232-12ee2e.regional_label.tiles.parquet\n",
      "2022-04-29 20:04:10,518 - INFO - luna.common.utils - Found segment keys: {'dsa_collection_uuid': '626c0a1dbfa0f49e3e026f6a', 'slide_id': '01OV008-308ad404-7079-4ff8-8232-12ee2e'}\n",
      "2022-04-29 20:04:10,519 - INFO - luna.common.utils - Resolved input:\n",
      "2022-04-29 20:04:10,519 - INFO - luna.common.utils -  -> file:/home/aukermaa/vmount/PRO_12-123/data/toy_data_set/01OV008-308ad404-7079-4ff8-8232-12ee2e.svs\n",
      "2022-04-29 20:04:10,519 - INFO - luna.common.utils -  -> /home/aukermaa/vmount/PRO_12-123/data/toy_data_set/01OV008-308ad404-7079-4ff8-8232-12ee2e.svs\n",
      "2022-04-29 20:04:10,521 - INFO - luna.common.utils - Resolved input:\n",
      "2022-04-29 20:04:10,521 - INFO - luna.common.utils -  -> /home/aukermaa/vmount/PRO_12-123/tiling/01OV008-308ad404-7079-4ff8-8232-12ee2e/labled_tiles/01OV008-308ad404-7079-4ff8-8232-12ee2e.regional_label.tiles.parquet\n",
      "2022-04-29 20:04:10,521 - INFO - luna.common.utils -  -> /home/aukermaa/vmount/PRO_12-123/tiling/01OV008-308ad404-7079-4ff8-8232-12ee2e/labled_tiles/01OV008-308ad404-7079-4ff8-8232-12ee2e.regional_label.tiles.parquet\n",
      " 94%|█████████▍| 35424/37490 [00:39<00:01, 1168.08it/s]2022-04-29 20:04:10,522 - INFO - luna.common.utils - Full segment key set: {'dsa_collection_uuid': '626c0a1dbfa0f49e3e026f6a', 'slide_id': '01OV008-308ad404-7079-4ff8-8232-12ee2e'}\n",
      "2022-04-29 20:04:10,523 - INFO - luna.common.utils - ------------------------------------------------------------\n",
      "2022-04-29 20:04:10,523 - INFO - luna.common.utils -  Starting transform::save_tiles \n",
      "2022-04-29 20:04:10,523 - INFO - luna.common.utils - ------------------------------------------------------------\n",
      " 74%|███████▎  | 32667/44304 [00:35<00:11, 991.18it/s]2022-04-29 20:04:10,562 - INFO - generate_tiles - Now generating tiles with num_cores=16 and batch_size=200!\n",
      "2022-04-29 20:04:10,565 - WARNING - generate_tiles - /home/aukermaa/vmount/PRO_12-123/tiling/01OV008-308ad404-7079-4ff8-8232-12ee2e/saved_tiles/01OV008-308ad404-7079-4ff8-8232-12ee2e.tiles.h5 already exists, deleting the file..\n",
      " 76%|███████▋  | 33834/44304 [00:36<00:11, 921.87it/s]]"
     ]
    },
    {
     "name": "stdout",
     "output_type": "stream",
     "text": [
      "\r",
      "  0%|          | 0/69 [00:00<?, ?it/s]"
     ]
    },
    {
     "name": "stderr",
     "output_type": "stream",
     "text": [
      "100%|██████████| 37490/37490 [00:40<00:00, 919.58it/s] \n",
      "2022-04-29 20:04:12,283 - INFO - detect_tissue - Filtering based on query: otsu_score > 0.1\n",
      "2022-04-29 20:04:12,297 - INFO - detect_tissue -                  x_coord  y_coord  xy_extent  tile_size tile_units  otsu_score\n",
      "2022-04-29 20:04:12,297 - INFO - detect_tissue - address                                                                       \n",
      "2022-04-29 20:04:12,297 - INFO - detect_tissue - x7_y134_z20.0       1792    34304        256        128         px        0.21\n",
      "2022-04-29 20:04:12,297 - INFO - detect_tissue - x7_y135_z20.0       1792    34560        256        128         px        0.21\n",
      "2022-04-29 20:04:12,297 - INFO - detect_tissue - x7_y136_z20.0       1792    34816        256        128         px        0.23\n",
      "2022-04-29 20:04:12,297 - INFO - detect_tissue - x7_y146_z20.0       1792    37376        256        128         px        0.51\n",
      "2022-04-29 20:04:12,297 - INFO - detect_tissue - x7_y147_z20.0       1792    37632        256        128         px        0.41\n",
      "2022-04-29 20:04:12,297 - INFO - detect_tissue - ...                  ...      ...        ...        ...        ...         ...\n",
      "2022-04-29 20:04:12,297 - INFO - detect_tissue - x139_y1_z20.0      35584      256        256        128         px        0.15\n",
      "2022-04-29 20:04:12,297 - INFO - detect_tissue - x148_y139_z20.0    37888    35584        256        128         px        0.13\n",
      "2022-04-29 20:04:12,297 - INFO - detect_tissue - x149_y89_z20.0     38144    22784        256        128         px        0.12\n",
      "2022-04-29 20:04:12,297 - INFO - detect_tissue - x159_y98_z20.0     40704    25088        256        128         px        0.11\n",
      "2022-04-29 20:04:12,297 - INFO - detect_tissue - x159_y170_z20.0    40704    43520        256        128         px        0.27\n",
      "2022-04-29 20:04:12,297 - INFO - detect_tissue - \n",
      "2022-04-29 20:04:12,297 - INFO - detect_tissue - [16496 rows x 6 columns]\n",
      "2022-04-29 20:04:12,330 - INFO - luna.common.utils - Code block 'transform::detect_tissue' took: 63.535659931600094s\n",
      "2022-04-29 20:04:12,332 - INFO - luna.common.utils - ------------------------------------------------------------\n",
      "2022-04-29 20:04:12,332 - INFO - luna.common.utils -  Done with transform, running post-transform functions... \n",
      "2022-04-29 20:04:12,332 - INFO - luna.common.utils - ------------------------------------------------------------\n",
      "2022-04-29 20:04:12,338 - INFO - luna.common.utils - Done.\n",
      " 79%|███████▊  | 34792/44304 [00:37<00:10, 949.03it/s]]"
     ]
    },
    {
     "name": "stdout",
     "output_type": "stream",
     "text": [
      "\r",
      "  1%|▏         | 1/69 [00:01<01:14,  1.09s/it]label_tiles ../PRO_12-123/data/toy_data_set/table/ANNOTATIONS /home/aukermaa/vmount/PRO_12-123/tiling/01OV008-7579323e-2fae-43a9-b00f-a15c28/detected_tiles\n",
      "['label_tiles', PosixPath('../PRO_12-123/data/toy_data_set/table/ANNOTATIONS'), '/home/aukermaa/vmount/PRO_12-123/tiling/01OV008-7579323e-2fae-43a9-b00f-a15c28/detected_tiles', '-o', '/home/aukermaa/vmount/PRO_12-123/tiling/01OV008-7579323e-2fae-43a9-b00f-a15c28/labled_tiles']\n",
      "\r",
      "  4%|▍         | 3/69 [00:01<00:23,  2.80it/s]"
     ]
    },
    {
     "name": "stderr",
     "output_type": "stream",
     "text": [
      "\r",
      " 13%|█▎        | 12860/99258 [00:12<01:32, 931.49it/s]\r",
      " 99%|█████████▉| 37787/38021 [00:41<00:00, 1118.78it/s]\r",
      " 79%|███████▊  | 34889/44304 [00:37<00:10, 931.26it/s]\r",
      " 13%|█▎        | 12954/99258 [00:12<01:34, 910.04it/s]\r",
      "100%|█████████▉| 37907/38021 [00:41<00:00, 1138.57it/s]\r",
      " 79%|███████▉  | 35011/44304 [00:37<00:09, 1010.57it/s]"
     ]
    },
    {
     "name": "stdout",
     "output_type": "stream",
     "text": [
      "\r",
      "  6%|▌         | 4/69 [00:01<00:17,  3.73it/s]\r",
      "  7%|▋         | 5/69 [00:01<00:15,  4.20it/s]"
     ]
    },
    {
     "name": "stderr",
     "output_type": "stream",
     "text": [
      "100%|██████████| 38021/38021 [00:41<00:00, 908.00it/s] \n",
      "2022-04-29 20:04:13,121 - INFO - detect_tissue - Filtering based on query: otsu_score > 0.1\n",
      " 79%|███████▉  | 35114/44304 [00:37<00:09, 966.61it/s] 2022-04-29 20:04:13,134 - INFO - detect_tissue -                 x_coord  y_coord  xy_extent  tile_size tile_units  otsu_score\n",
      "2022-04-29 20:04:13,134 - INFO - detect_tissue - address                                                                      \n",
      "2022-04-29 20:04:13,134 - INFO - detect_tissue - x5_y37_z20.0       1280     9472        256        128         px        0.11\n",
      "2022-04-29 20:04:13,134 - INFO - detect_tissue - x5_y38_z20.0       1280     9728        256        128         px        0.47\n",
      "2022-04-29 20:04:13,134 - INFO - detect_tissue - x5_y39_z20.0       1280     9984        256        128         px        0.55\n",
      "2022-04-29 20:04:13,134 - INFO - detect_tissue - x5_y40_z20.0       1280    10240        256        128         px        0.48\n",
      "2022-04-29 20:04:13,134 - INFO - detect_tissue - x5_y41_z20.0       1280    10496        256        128         px        0.13\n",
      "2022-04-29 20:04:13,134 - INFO - detect_tissue - ...                 ...      ...        ...        ...        ...         ...\n",
      "2022-04-29 20:04:13,134 - INFO - detect_tissue - x167_y49_z20.0    42752    12544        256        128         px        0.30\n",
      "2022-04-29 20:04:13,134 - INFO - detect_tissue - x167_y50_z20.0    42752    12800        256        128         px        0.43\n",
      "2022-04-29 20:04:13,134 - INFO - detect_tissue - x167_y51_z20.0    42752    13056        256        128         px        0.43\n",
      "2022-04-29 20:04:13,134 - INFO - detect_tissue - x167_y52_z20.0    42752    13312        256        128         px        0.31\n",
      "2022-04-29 20:04:13,134 - INFO - detect_tissue - x172_y31_z20.0    44032     7936        256        128         px        0.16\n",
      "2022-04-29 20:04:13,134 - INFO - detect_tissue - \n",
      "2022-04-29 20:04:13,134 - INFO - detect_tissue - [18274 rows x 6 columns]\n",
      "2022-04-29 20:04:13,175 - INFO - luna.common.utils - Code block 'transform::detect_tissue' took: 64.69254758954048s\n",
      "2022-04-29 20:04:13,177 - INFO - luna.common.utils - ------------------------------------------------------------\n",
      "2022-04-29 20:04:13,177 - INFO - luna.common.utils -  Done with transform, running post-transform functions... \n",
      "2022-04-29 20:04:13,177 - INFO - luna.common.utils - ------------------------------------------------------------\n",
      "2022-04-29 20:04:13,184 - INFO - luna.common.utils - Done.\n",
      " 80%|████████  | 35444/44304 [00:38<00:08, 1000.90it/s]"
     ]
    },
    {
     "name": "stdout",
     "output_type": "stream",
     "text": [
      "\r",
      " 10%|█         | 7/69 [00:01<00:09,  6.60it/s]\r",
      " 14%|█▍        | 10/69 [00:01<00:05, 10.57it/s]"
     ]
    },
    {
     "name": "stderr",
     "output_type": "stream",
     "text": [
      "\r",
      " 14%|█▎        | 13430/99258 [00:13<01:38, 875.54it/s]\r",
      " 80%|████████  | 35546/44304 [00:38<00:09, 946.99it/s] \r",
      " 14%|█▎        | 13526/99258 [00:13<01:35, 899.02it/s]\r",
      " 80%|████████  | 35661/44304 [00:38<00:08, 997.50it/s]\r",
      " 14%|█▎        | 13618/99258 [00:13<01:34, 903.56it/s]"
     ]
    },
    {
     "name": "stdout",
     "output_type": "stream",
     "text": [
      "\r",
      " 19%|█▉        | 13/69 [00:01<00:04, 13.92it/s]\r",
      " 23%|██▎       | 16/69 [00:02<00:03, 16.90it/s]"
     ]
    },
    {
     "name": "stderr",
     "output_type": "stream",
     "text": [
      "\r",
      " 81%|████████  | 35763/44304 [00:38<00:08, 969.78it/s]\r",
      " 14%|█▍        | 13709/99258 [00:13<01:35, 900.48it/s]\r",
      " 81%|████████  | 35879/44304 [00:38<00:08, 1020.41it/s]2022-04-29 20:04:13,933 - INFO - root - Initalized logger, log file at: data-processing.log\n",
      "2022-04-29 20:04:13,935 - INFO - luna.common.utils - Started CLI Runner wtih <function generate_tile_labels at 0x7f63fa2d9f70>\n",
      "2022-04-29 20:04:13,936 - INFO - luna.common.utils - Validating params...\n",
      "2022-04-29 20:04:13,938 - INFO - luna.common.utils -  -> Set input_slide_annotation_dataset (<class 'str'>) = ../PRO_12-123/data/toy_data_set/table/ANNOTATIONS\n",
      "2022-04-29 20:04:13,939 - INFO - luna.common.utils -  -> Set input_slide_tiles (<class 'str'>) = /home/aukermaa/vmount/PRO_12-123/tiling/01OV008-7579323e-2fae-43a9-b00f-a15c28/detected_tiles\n",
      "2022-04-29 20:04:13,941 - INFO - luna.common.utils -  -> Set output_dir (<class 'str'>) = /home/aukermaa/vmount/PRO_12-123/tiling/01OV008-7579323e-2fae-43a9-b00f-a15c28/labled_tiles\n",
      "2022-04-29 20:04:13,943 - INFO - luna.common.utils - Expanding inputs...\n",
      "2022-04-29 20:04:13,944 - INFO - luna.common.utils - Attempting to read metadata at ../PRO_12-123/data/toy_data_set/table/ANNOTATIONS/metadata.yml\n",
      "2022-04-29 20:04:13,947 - INFO - luna.common.utils - Expanded input:\n",
      "2022-04-29 20:04:13,947 - INFO - luna.common.utils -  -> ../PRO_12-123/data/toy_data_set/table/ANNOTATIONS\n",
      "2022-04-29 20:04:13,947 - INFO - luna.common.utils -  -> ../PRO_12-123/data/toy_data_set/table/ANNOTATIONS/slide_annotation_dataset_TCGA collection_ov_regional.parquet\n",
      "2022-04-29 20:04:13,949 - INFO - luna.common.utils - Found segment keys: {'dsa_collection_uuid': '626c0a1dbfa0f49e3e026f6a'}\n",
      "2022-04-29 20:04:13,949 - INFO - luna.common.utils - Attempting to read metadata at /home/aukermaa/vmount/PRO_12-123/tiling/01OV008-7579323e-2fae-43a9-b00f-a15c28/detected_tiles/metadata.yml\n",
      "\r",
      " 14%|█▍        | 13802/99258 [00:13<01:35, 897.81it/s]2022-04-29 20:04:13,955 - INFO - luna.common.utils - Expanded input:\n",
      "2022-04-29 20:04:13,955 - INFO - luna.common.utils -  -> /home/aukermaa/vmount/PRO_12-123/tiling/01OV008-7579323e-2fae-43a9-b00f-a15c28/detected_tiles\n",
      "2022-04-29 20:04:13,955 - INFO - luna.common.utils -  -> /home/aukermaa/vmount/PRO_12-123/tiling/01OV008-7579323e-2fae-43a9-b00f-a15c28/detected_tiles/01OV008-7579323e-2fae-43a9-b00f-a15c28-filtered.tiles.parquet\n",
      "2022-04-29 20:04:13,956 - INFO - luna.common.utils - Found segment keys: {'slide_id': '01OV008-7579323e-2fae-43a9-b00f-a15c28'}\n",
      "2022-04-29 20:04:13,957 - INFO - luna.common.utils - Resolved input:\n",
      "2022-04-29 20:04:13,957 - INFO - luna.common.utils -  -> ../PRO_12-123/data/toy_data_set/table/ANNOTATIONS/slide_annotation_dataset_TCGA collection_ov_regional.parquet\n",
      "2022-04-29 20:04:13,957 - INFO - luna.common.utils -  -> /home/aukermaa/vmount/PRO_12-123/data/toy_data_set/table/ANNOTATIONS/slide_annotation_dataset_TCGA collection_ov_regional.parquet\n",
      "2022-04-29 20:04:13,959 - INFO - luna.common.utils - Resolved input:\n",
      "2022-04-29 20:04:13,959 - INFO - luna.common.utils -  -> /home/aukermaa/vmount/PRO_12-123/tiling/01OV008-7579323e-2fae-43a9-b00f-a15c28/detected_tiles/01OV008-7579323e-2fae-43a9-b00f-a15c28-filtered.tiles.parquet\n",
      "2022-04-29 20:04:13,959 - INFO - luna.common.utils -  -> /home/aukermaa/vmount/PRO_12-123/tiling/01OV008-7579323e-2fae-43a9-b00f-a15c28/detected_tiles/01OV008-7579323e-2fae-43a9-b00f-a15c28-filtered.tiles.parquet\n",
      "2022-04-29 20:04:13,960 - INFO - luna.common.utils - Full segment key set: {'dsa_collection_uuid': '626c0a1dbfa0f49e3e026f6a', 'slide_id': '01OV008-7579323e-2fae-43a9-b00f-a15c28'}\n",
      "2022-04-29 20:04:13,961 - INFO - luna.common.utils - ------------------------------------------------------------\n",
      "2022-04-29 20:04:13,961 - INFO - luna.common.utils -  Starting transform::generate_tile_labels \n",
      "2022-04-29 20:04:13,961 - INFO - luna.common.utils - ------------------------------------------------------------\n",
      "2022-04-29 20:04:13,962 - INFO - generate_tile_labels - slide_id=01OV008-7579323e-2fae-43a9-b00f-a15c28\n"
     ]
    },
    {
     "name": "stdout",
     "output_type": "stream",
     "text": [
      "label_tiles ../PRO_12-123/data/toy_data_set/table/ANNOTATIONS /home/aukermaa/vmount/PRO_12-123/tiling/01OV002-ed65cf94-8bc6-492b-9149-adc16f/detected_tiles\n",
      "['label_tiles', PosixPath('../PRO_12-123/data/toy_data_set/table/ANNOTATIONS'), '/home/aukermaa/vmount/PRO_12-123/tiling/01OV002-ed65cf94-8bc6-492b-9149-adc16f/detected_tiles', '-o', '/home/aukermaa/vmount/PRO_12-123/tiling/01OV002-ed65cf94-8bc6-492b-9149-adc16f/labled_tiles']\n",
      "../PRO_12-123/data/toy_data_set/table/ANNOTATIONS/01OV008-7579323e-2fae-43a9-b00f-a15c28.annotation.geojson TCGA collection ov_regional\n",
      "\r",
      " 28%|██▊       | 19/69 [00:02<00:04, 11.21it/s]"
     ]
    },
    {
     "name": "stderr",
     "output_type": "stream",
     "text": [
      " 12%|█▏        | 2061/16496 [00:00<00:02, 5082.07it/s] "
     ]
    },
    {
     "name": "stdout",
     "output_type": "stream",
     "text": [
      "\r",
      " 30%|███       | 21/69 [00:02<00:04, 11.53it/s]"
     ]
    },
    {
     "name": "stderr",
     "output_type": "stream",
     "text": [
      "\r",
      " 14%|█▍        | 14264/99258 [00:14<01:37, 869.71it/s]\r",
      " 82%|████████▏ | 36385/44304 [00:39<00:09, 864.31it/s]\r",
      " 16%|█▌        | 2627/16496 [00:00<00:02, 5287.73it/s]\r",
      " 14%|█▍        | 14352/99258 [00:14<01:39, 853.05it/s]\r",
      " 82%|████████▏ | 36501/44304 [00:39<00:08, 941.73it/s]\r",
      " 19%|█▉        | 3206/16496 [00:00<00:02, 5453.86it/s]"
     ]
    },
    {
     "name": "stdout",
     "output_type": "stream",
     "text": [
      "\r",
      " 33%|███▎      | 23/69 [00:02<00:04, 10.97it/s]\r",
      " 38%|███▊      | 26/69 [00:02<00:03, 13.49it/s]"
     ]
    },
    {
     "name": "stderr",
     "output_type": "stream",
     "text": [
      "\r",
      " 15%|█▍        | 14447/99258 [00:14<01:36, 876.02it/s]\r",
      " 83%|████████▎ | 36598/44304 [00:39<00:08, 920.31it/s]\r",
      " 23%|██▎       | 3784/16496 [00:00<00:02, 5558.87it/s]\r",
      " 15%|█▍        | 14544/99258 [00:14<01:34, 900.43it/s]\r",
      " 83%|████████▎ | 36717/44304 [00:39<00:07, 994.35it/s]\r",
      " 26%|██▋       | 4351/16496 [00:00<00:02, 5592.14it/s]"
     ]
    },
    {
     "name": "stdout",
     "output_type": "stream",
     "text": [
      "\r",
      " 41%|████      | 28/69 [00:03<00:02, 14.49it/s]\r",
      " 45%|████▍     | 31/69 [00:03<00:02, 16.17it/s]"
     ]
    },
    {
     "name": "stderr",
     "output_type": "stream",
     "text": [
      " 33%|███▎      | 5466/16496 [00:01<00:02, 5498.86it/s]2022-04-29 20:04:15,120 - INFO - root - Initalized logger, log file at: data-processing.log\n",
      "2022-04-29 20:04:15,122 - INFO - luna.common.utils - Started CLI Runner wtih <function generate_tile_labels at 0x7f404bca7f70>\n",
      "2022-04-29 20:04:15,123 - INFO - luna.common.utils - Validating params...\n",
      "2022-04-29 20:04:15,124 - INFO - luna.common.utils -  -> Set input_slide_annotation_dataset (<class 'str'>) = ../PRO_12-123/data/toy_data_set/table/ANNOTATIONS\n",
      "2022-04-29 20:04:15,125 - INFO - luna.common.utils -  -> Set input_slide_tiles (<class 'str'>) = /home/aukermaa/vmount/PRO_12-123/tiling/01OV002-ed65cf94-8bc6-492b-9149-adc16f/detected_tiles\n",
      "2022-04-29 20:04:15,126 - INFO - luna.common.utils -  -> Set output_dir (<class 'str'>) = /home/aukermaa/vmount/PRO_12-123/tiling/01OV002-ed65cf94-8bc6-492b-9149-adc16f/labled_tiles\n",
      "2022-04-29 20:04:15,127 - INFO - luna.common.utils - Expanding inputs...\n",
      "2022-04-29 20:04:15,128 - INFO - luna.common.utils - Attempting to read metadata at ../PRO_12-123/data/toy_data_set/table/ANNOTATIONS/metadata.yml\n",
      "2022-04-29 20:04:15,131 - INFO - luna.common.utils - Expanded input:\n",
      "2022-04-29 20:04:15,131 - INFO - luna.common.utils -  -> ../PRO_12-123/data/toy_data_set/table/ANNOTATIONS\n",
      "2022-04-29 20:04:15,131 - INFO - luna.common.utils -  -> ../PRO_12-123/data/toy_data_set/table/ANNOTATIONS/slide_annotation_dataset_TCGA collection_ov_regional.parquet\n",
      "2022-04-29 20:04:15,132 - INFO - luna.common.utils - Found segment keys: {'dsa_collection_uuid': '626c0a1dbfa0f49e3e026f6a'}\n",
      "2022-04-29 20:04:15,133 - INFO - luna.common.utils - Attempting to read metadata at /home/aukermaa/vmount/PRO_12-123/tiling/01OV002-ed65cf94-8bc6-492b-9149-adc16f/detected_tiles/metadata.yml\n",
      "2022-04-29 20:04:15,137 - INFO - luna.common.utils - Expanded input:\n",
      "2022-04-29 20:04:15,137 - INFO - luna.common.utils -  -> /home/aukermaa/vmount/PRO_12-123/tiling/01OV002-ed65cf94-8bc6-492b-9149-adc16f/detected_tiles\n",
      "2022-04-29 20:04:15,137 - INFO - luna.common.utils -  -> /home/aukermaa/vmount/PRO_12-123/tiling/01OV002-ed65cf94-8bc6-492b-9149-adc16f/detected_tiles/01OV002-ed65cf94-8bc6-492b-9149-adc16f-filtered.tiles.parquet\n",
      "2022-04-29 20:04:15,138 - INFO - luna.common.utils - Found segment keys: {'slide_id': '01OV002-ed65cf94-8bc6-492b-9149-adc16f'}\n",
      " 15%|█▍        | 14835/99258 [00:14<01:34, 889.21it/s]2022-04-29 20:04:15,139 - INFO - luna.common.utils - Resolved input:\n",
      "2022-04-29 20:04:15,139 - INFO - luna.common.utils -  -> ../PRO_12-123/data/toy_data_set/table/ANNOTATIONS/slide_annotation_dataset_TCGA collection_ov_regional.parquet\n",
      "2022-04-29 20:04:15,139 - INFO - luna.common.utils -  -> /home/aukermaa/vmount/PRO_12-123/data/toy_data_set/table/ANNOTATIONS/slide_annotation_dataset_TCGA collection_ov_regional.parquet\n",
      "2022-04-29 20:04:15,140 - INFO - luna.common.utils - Resolved input:\n",
      "2022-04-29 20:04:15,140 - INFO - luna.common.utils -  -> /home/aukermaa/vmount/PRO_12-123/tiling/01OV002-ed65cf94-8bc6-492b-9149-adc16f/detected_tiles/01OV002-ed65cf94-8bc6-492b-9149-adc16f-filtered.tiles.parquet\n",
      "2022-04-29 20:04:15,140 - INFO - luna.common.utils -  -> /home/aukermaa/vmount/PRO_12-123/tiling/01OV002-ed65cf94-8bc6-492b-9149-adc16f/detected_tiles/01OV002-ed65cf94-8bc6-492b-9149-adc16f-filtered.tiles.parquet\n",
      "2022-04-29 20:04:15,142 - INFO - luna.common.utils - Full segment key set: {'dsa_collection_uuid': '626c0a1dbfa0f49e3e026f6a', 'slide_id': '01OV002-ed65cf94-8bc6-492b-9149-adc16f'}\n",
      "2022-04-29 20:04:15,142 - INFO - luna.common.utils - ------------------------------------------------------------\n",
      "2022-04-29 20:04:15,142 - INFO - luna.common.utils -  Starting transform::generate_tile_labels \n",
      "2022-04-29 20:04:15,142 - INFO - luna.common.utils - ------------------------------------------------------------\n",
      "2022-04-29 20:04:15,143 - INFO - generate_tile_labels - slide_id=01OV002-ed65cf94-8bc6-492b-9149-adc16f\n",
      " 40%|███▉      | 6562/16496 [00:01<00:01, 5319.40it/s]]"
     ]
    },
    {
     "name": "stdout",
     "output_type": "stream",
     "text": [
      "\r",
      " 48%|████▊     | 33/69 [00:03<00:02, 13.27it/s]../PRO_12-123/data/toy_data_set/table/ANNOTATIONS/01OV002-ed65cf94-8bc6-492b-9149-adc16f.annotation.geojson TCGA collection ov_regional\n",
      "\r",
      " 51%|█████     | 35/69 [00:03<00:02, 13.30it/s]"
     ]
    },
    {
     "name": "stderr",
     "output_type": "stream",
     "text": [
      "\r",
      "  3%|▎         | 524/18274 [00:00<00:03, 5235.17it/s]\r",
      " 15%|█▌        | 15026/99258 [00:15<01:34, 890.01it/s]\r",
      " 84%|████████▍ | 37255/44304 [00:40<00:07, 972.11it/s] \r",
      " 43%|████▎     | 7095/16496 [00:01<00:01, 5268.78it/s]\r",
      "  6%|▌         | 1100/18274 [00:00<00:03, 5541.48it/s]\r",
      " 15%|█▌        | 15116/99258 [00:15<01:36, 875.94it/s]\r",
      " 84%|████████▍ | 37375/44304 [00:40<00:06, 1032.18it/s]\r",
      " 46%|████▋     | 7633/16496 [00:01<00:01, 5300.48it/s]\r",
      "  9%|▉         | 1668/18274 [00:00<00:02, 5603.11it/s]"
     ]
    },
    {
     "name": "stdout",
     "output_type": "stream",
     "text": [
      "\r",
      " 54%|█████▎    | 37/69 [00:03<00:02, 12.22it/s]"
     ]
    },
    {
     "name": "stderr",
     "output_type": "stream",
     "text": [
      "\r",
      " 15%|█▌        | 15218/99258 [00:15<01:31, 916.00it/s]\r",
      " 49%|████▉     | 8164/16496 [00:01<00:01, 5238.56it/s]\r",
      " 85%|████████▍ | 37480/44304 [00:40<00:06, 1008.74it/s]\r",
      " 12%|█▏        | 2239/18274 [00:00<00:02, 5643.41it/s]\r",
      " 15%|█▌        | 15311/99258 [00:15<01:36, 873.10it/s]\r",
      " 85%|████████▍ | 37594/44304 [00:40<00:06, 1042.70it/s]\r",
      " 53%|█████▎    | 8689/16496 [00:01<00:01, 5173.62it/s]\r",
      " 15%|█▌        | 2804/18274 [00:00<00:02, 5588.53it/s]"
     ]
    },
    {
     "name": "stdout",
     "output_type": "stream",
     "text": [
      "\r",
      " 57%|█████▋    | 39/69 [00:04<00:02, 11.25it/s]\r",
      " 59%|█████▉    | 41/69 [00:04<00:02, 12.36it/s]"
     ]
    },
    {
     "name": "stderr",
     "output_type": "stream",
     "text": [
      "\r",
      " 16%|█▌        | 15409/99258 [00:15<01:32, 902.55it/s]\r",
      " 56%|█████▌    | 9208/16496 [00:01<00:01, 5175.97it/s]\r",
      " 85%|████████▌ | 37700/44304 [00:40<00:06, 1023.96it/s]\r",
      " 18%|█▊        | 3363/18274 [00:00<00:02, 5282.58it/s]\r",
      " 16%|█▌        | 15500/99258 [00:15<01:34, 889.37it/s]\r",
      " 59%|█████▉    | 9742/16496 [00:01<00:01, 5222.63it/s]\r",
      " 85%|████████▌ | 37812/44304 [00:40<00:06, 1050.94it/s]\r",
      " 21%|██▏       | 3895/18274 [00:00<00:02, 5066.51it/s]"
     ]
    },
    {
     "name": "stdout",
     "output_type": "stream",
     "text": [
      "\r",
      " 64%|██████▍   | 44/69 [00:04<00:01, 15.39it/s]\r",
      " 68%|██████▊   | 47/69 [00:04<00:01, 15.79it/s]"
     ]
    },
    {
     "name": "stderr",
     "output_type": "stream",
     "text": [
      " 75%|███████▌  | 12378/16496 [00:02<00:00, 5257.08it/s]"
     ]
    },
    {
     "name": "stdout",
     "output_type": "stream",
     "text": [
      "\r",
      " 71%|███████   | 49/69 [00:04<00:01, 13.92it/s]\r",
      " 74%|███████▍  | 51/69 [00:04<00:01, 14.04it/s]"
     ]
    },
    {
     "name": "stderr",
     "output_type": "stream",
     "text": [
      "\r",
      " 16%|█▌        | 15981/99258 [00:16<01:32, 897.02it/s]\r",
      " 87%|████████▋ | 38343/44304 [00:41<00:05, 1029.42it/s]\r",
      " 32%|███▏      | 5799/18274 [00:01<00:02, 4364.76it/s]\r",
      " 78%|███████▊  | 12933/16496 [00:02<00:00, 5342.27it/s]\r",
      " 16%|█▌        | 16074/99258 [00:16<01:32, 901.10it/s]\r",
      " 87%|████████▋ | 38452/44304 [00:41<00:05, 1041.80it/s]\r",
      " 34%|███▍      | 6237/18274 [00:01<00:02, 4303.03it/s]\r",
      " 82%|████████▏ | 13488/16496 [00:02<00:00, 5403.48it/s]"
     ]
    },
    {
     "name": "stdout",
     "output_type": "stream",
     "text": [
      "\r",
      " 77%|███████▋  | 53/69 [00:04<00:01, 14.38it/s]\r",
      " 80%|███████▉  | 55/69 [00:05<00:00, 14.51it/s]"
     ]
    },
    {
     "name": "stderr",
     "output_type": "stream",
     "text": [
      " 95%|█████████▍| 15665/16496 [00:02<00:00, 5376.31it/s]"
     ]
    },
    {
     "name": "stdout",
     "output_type": "stream",
     "text": [
      "\r",
      " 83%|████████▎ | 57/69 [00:05<00:00, 14.36it/s]\r",
      " 86%|████████▌ | 59/69 [00:05<00:00, 14.65it/s]"
     ]
    },
    {
     "name": "stderr",
     "output_type": "stream",
     "text": [
      "\r",
      " 48%|████▊     | 8861/18274 [00:01<00:01, 5198.79it/s]\r",
      " 88%|████████▊ | 38985/44304 [00:41<00:05, 1036.14it/s]\r",
      " 17%|█▋        | 16563/99258 [00:16<01:29, 920.80it/s]\r",
      " 99%|█████████▊| 16249/16496 [00:03<00:00, 5511.75it/s]\r",
      " 52%|█████▏    | 9413/18274 [00:01<00:01, 5293.44it/s]\r",
      " 88%|████████▊ | 39098/44304 [00:41<00:04, 1061.72it/s]\r",
      "100%|██████████| 16496/16496 [00:03<00:00, 5349.67it/s]\n",
      "\r",
      " 17%|█▋        | 16659/99258 [00:16<01:29, 921.47it/s]2022-04-29 20:04:17,148 - INFO - generate_tile_labels -                 x_coord  y_coord  ...  regional_label  intersection_area\n",
      "2022-04-29 20:04:17,148 - INFO - generate_tile_labels - address                           ...                                   \n",
      "2022-04-29 20:04:17,148 - INFO - generate_tile_labels - x44_y102_z20.0    11264    26112  ...          stroma           0.033000\n",
      "2022-04-29 20:04:17,148 - INFO - generate_tile_labels - x44_y103_z20.0    11264    26368  ...          stroma           0.100707\n",
      "2022-04-29 20:04:17,148 - INFO - generate_tile_labels - x45_y102_z20.0    11520    26112  ...          stroma           0.550479\n",
      "2022-04-29 20:04:17,148 - INFO - generate_tile_labels - x45_y103_z20.0    11520    26368  ...          stroma           0.943674\n",
      "2022-04-29 20:04:17,148 - INFO - generate_tile_labels - x45_y104_z20.0    11520    26624  ...          stroma           0.632023\n",
      "2022-04-29 20:04:17,148 - INFO - generate_tile_labels - ...                 ...      ...  ...             ...                ...\n",
      "2022-04-29 20:04:17,148 - INFO - generate_tile_labels - x111_y79_z20.0    28416    20224  ...          stroma           0.622304\n",
      "2022-04-29 20:04:17,148 - INFO - generate_tile_labels - x111_y80_z20.0    28416    20480  ...          stroma           1.000000\n",
      "2022-04-29 20:04:17,148 - INFO - generate_tile_labels - x111_y81_z20.0    28416    20736  ...          stroma           0.577473\n",
      "2022-04-29 20:04:17,148 - INFO - generate_tile_labels - x112_y80_z20.0    28672    20480  ...          stroma           0.251255\n",
      "2022-04-29 20:04:17,148 - INFO - generate_tile_labels - x112_y81_z20.0    28672    20736  ...          stroma           0.045343\n",
      "2022-04-29 20:04:17,148 - INFO - generate_tile_labels - \n",
      "2022-04-29 20:04:17,148 - INFO - generate_tile_labels - [250 rows x 8 columns]\n",
      "2022-04-29 20:04:17,187 - INFO - luna.common.utils - Code block 'transform::generate_tile_labels' took: 3.2251828759908676s\n",
      "2022-04-29 20:04:17,189 - INFO - luna.common.utils - ------------------------------------------------------------\n",
      "2022-04-29 20:04:17,189 - INFO - luna.common.utils -  Done with transform, running post-transform functions... \n",
      "2022-04-29 20:04:17,189 - INFO - luna.common.utils - ------------------------------------------------------------\n",
      "2022-04-29 20:04:17,194 - INFO - luna.common.utils - Done.\n",
      "\r",
      " 55%|█████▍    | 9964/18274 [00:01<00:01, 5357.47it/s]"
     ]
    },
    {
     "name": "stdout",
     "output_type": "stream",
     "text": [
      "\r",
      " 88%|████████▊ | 61/69 [00:05<00:00, 15.04it/s]\r",
      " 93%|█████████▎| 64/69 [00:05<00:00, 18.05it/s]"
     ]
    },
    {
     "name": "stderr",
     "output_type": "stream",
     "text": [
      "\r",
      " 88%|████████▊ | 39205/44304 [00:42<00:04, 1062.93it/s]\r",
      " 17%|█▋        | 16754/99258 [00:16<01:28, 928.24it/s]\r",
      " 58%|█████▊    | 10522/18274 [00:02<00:01, 5422.89it/s]\r",
      " 89%|████████▊ | 39314/44304 [00:42<00:04, 1066.95it/s]\r",
      " 17%|█▋        | 16859/99258 [00:17<01:25, 963.32it/s]\r",
      " 61%|██████    | 11076/18274 [00:02<00:01, 5457.63it/s]\r",
      " 89%|████████▉ | 39425/44304 [00:42<00:04, 1078.60it/s]"
     ]
    },
    {
     "name": "stdout",
     "output_type": "stream",
     "text": [
      "save_tiles file:/home/aukermaa/vmount/PRO_12-123/data/toy_data_set/01OV008-7579323e-2fae-43a9-b00f-a15c28.svs /home/aukermaa/vmount/PRO_12-123/tiling/01OV008-7579323e-2fae-43a9-b00f-a15c28/labled_tiles --num_cores 16 --batch_size 200 --dataset_id PRO_TILES_LABLED_S3\n",
      "['save_tiles', PosixPath('file:/home/aukermaa/vmount/PRO_12-123/data/toy_data_set/01OV008-7579323e-2fae-43a9-b00f-a15c28.svs'), '/home/aukermaa/vmount/PRO_12-123/tiling/01OV008-7579323e-2fae-43a9-b00f-a15c28/labled_tiles', '--num_cores', '16', '--batch_size', '200', '--dataset_id', 'PRO_TILES_LABLED_S3', '-o', '/home/aukermaa/vmount/PRO_12-123/tiling/01OV008-7579323e-2fae-43a9-b00f-a15c28/saved_tiles']\n",
      "\r",
      " 96%|█████████▌| 66/69 [00:05<00:00, 13.69it/s]"
     ]
    },
    {
     "name": "stderr",
     "output_type": "stream",
     "text": [
      "\r",
      " 17%|█▋        | 16956/99258 [00:17<01:28, 927.85it/s]\r",
      " 64%|██████▍   | 11681/18274 [00:02<00:01, 5634.41it/s]\r",
      " 89%|████████▉ | 39533/44304 [00:42<00:04, 1078.75it/s]\r",
      " 17%|█▋        | 17061/99258 [00:17<01:25, 958.51it/s]\r",
      " 67%|██████▋   | 12291/18274 [00:02<00:01, 5772.89it/s]\r",
      " 89%|████████▉ | 39649/44304 [00:42<00:04, 1102.01it/s]"
     ]
    },
    {
     "name": "stdout",
     "output_type": "stream",
     "text": [
      "\r",
      " 99%|█████████▊| 68/69 [00:05<00:00, 14.77it/s]\r",
      "100%|██████████| 69/69 [00:05<00:00, 11.52it/s]"
     ]
    },
    {
     "name": "stderr",
     "output_type": "stream",
     "text": [
      " 17%|█▋        | 17361/99258 [00:17<01:25, 953.97it/s]2022-04-29 20:04:17,873 - INFO - generate_tiles -                 x_coord  ...                                         tile_store\n",
      "2022-04-29 20:04:17,873 - INFO - generate_tiles - address                  ...                                                   \n",
      "2022-04-29 20:04:17,873 - INFO - generate_tiles - x6_y74_z20.0       1536  ...  /home/aukermaa/vmount/PRO_12-123/tiling/01OV00...\n",
      "2022-04-29 20:04:17,873 - INFO - generate_tiles - x7_y74_z20.0       1792  ...  /home/aukermaa/vmount/PRO_12-123/tiling/01OV00...\n",
      "2022-04-29 20:04:17,873 - INFO - generate_tiles - x7_y81_z20.0       1792  ...  /home/aukermaa/vmount/PRO_12-123/tiling/01OV00...\n",
      "2022-04-29 20:04:17,873 - INFO - generate_tiles - x8_y75_z20.0       2048  ...  /home/aukermaa/vmount/PRO_12-123/tiling/01OV00...\n",
      "2022-04-29 20:04:17,873 - INFO - generate_tiles - x8_y76_z20.0       2048  ...  /home/aukermaa/vmount/PRO_12-123/tiling/01OV00...\n",
      "2022-04-29 20:04:17,873 - INFO - generate_tiles - ...                 ...  ...                                                ...\n",
      "2022-04-29 20:04:17,873 - INFO - generate_tiles - x181_y45_z20.0    46336  ...  /home/aukermaa/vmount/PRO_12-123/tiling/01OV00...\n",
      "2022-04-29 20:04:17,873 - INFO - generate_tiles - x182_y41_z20.0    46592  ...  /home/aukermaa/vmount/PRO_12-123/tiling/01OV00...\n",
      "2022-04-29 20:04:17,873 - INFO - generate_tiles - x182_y42_z20.0    46592  ...  /home/aukermaa/vmount/PRO_12-123/tiling/01OV00...\n",
      "2022-04-29 20:04:17,873 - INFO - generate_tiles - x182_y43_z20.0    46592  ...  /home/aukermaa/vmount/PRO_12-123/tiling/01OV00...\n",
      "2022-04-29 20:04:17,873 - INFO - generate_tiles - x182_y44_z20.0    46592  ...  /home/aukermaa/vmount/PRO_12-123/tiling/01OV00...\n",
      "2022-04-29 20:04:17,873 - INFO - generate_tiles - \n",
      "2022-04-29 20:04:17,873 - INFO - generate_tiles - [13704 rows x 9 columns]\n",
      " 90%|█████████ | 39993/44304 [00:42<00:04, 1070.46it/s]2022-04-29 20:04:17,981 - INFO - luna.common.utils - Code block 'transform::save_tiles' took: 7.4566264152526855s\n",
      "2022-04-29 20:04:17,982 - INFO - luna.common.utils - ------------------------------------------------------------\n",
      "2022-04-29 20:04:17,982 - INFO - luna.common.utils -  Done with transform, running post-transform functions... \n",
      "2022-04-29 20:04:17,982 - INFO - luna.common.utils - ------------------------------------------------------------\n",
      "2022-04-29 20:04:17,988 - INFO - luna.common.utils - Adding feature segment /home/aukermaa/vmount/PRO_12-123/tiling/01OV008-308ad404-7079-4ff8-8232-12ee2e/saved_tiles/01OV008-308ad404-7079-4ff8-8232-12ee2e.tiles.parquet to PRO_TILES_LABLED_S3\n",
      "2022-04-29 20:04:17,989 - INFO - luna.common.utils - Found dataset URL = http://waystation:6077/\n",
      "2022-04-29 20:04:17,990 - INFO - luna.common.utils - Adding /home/aukermaa/vmount/PRO_12-123/tiling/01OV008-308ad404-7079-4ff8-8232-12ee2e/saved_tiles/01OV008-308ad404-7079-4ff8-8232-12ee2e.tiles.parquet to PRO_TILES_LABLED_S3 via http://waystation:6077/\n",
      "2022-04-29 20:04:17,991 - INFO - luna.common.utils - SEGMENT_ID=626c0a1dbfa0f49e3e026f6a-01OV008-308ad404-7079-4ff8-8232-12ee2e\n",
      "2022-04-29 20:04:17,992 - INFO - luna.common.utils - Posting to: http://waystation:6077/datasets/PRO_TILES_LABLED_S3/segments/626c0a1dbfa0f49e3e026f6a-01OV008-308ad404-7079-4ff8-8232-12ee2e\n",
      " 91%|█████████ | 16574/18274 [00:03<00:00, 6101.34it/s]2022-04-29 20:04:18,354 - INFO - root - Initalized logger, log file at: data-processing.log\n",
      "100%|██████████| 18274/18274 [00:03<00:00, 5398.79it/s]\n",
      " 18%|█▊        | 18042/99258 [00:18<01:24, 960.79it/s]2022-04-29 20:04:18,634 - INFO - generate_tile_labels -                 x_coord  y_coord  ...  regional_label  intersection_area\n",
      "2022-04-29 20:04:18,634 - INFO - generate_tile_labels - address                           ...                                   \n",
      "2022-04-29 20:04:18,634 - INFO - generate_tile_labels - x40_y114_z20.0    10240    29184  ...          stroma           0.022247\n",
      "2022-04-29 20:04:18,634 - INFO - generate_tile_labels - x40_y115_z20.0    10240    29440  ...          stroma           0.664626\n",
      "2022-04-29 20:04:18,634 - INFO - generate_tile_labels - x40_y116_z20.0    10240    29696  ...          stroma           0.974943\n",
      "2022-04-29 20:04:18,634 - INFO - generate_tile_labels - x40_y117_z20.0    10240    29952  ...          stroma           0.772881\n",
      "2022-04-29 20:04:18,634 - INFO - generate_tile_labels - x40_y118_z20.0    10240    30208  ...          stroma           0.469818\n",
      "2022-04-29 20:04:18,634 - INFO - generate_tile_labels - ...                 ...      ...  ...             ...                ...\n",
      "2022-04-29 20:04:18,634 - INFO - generate_tile_labels - x100_y21_z20.0    25600     5376  ...             fat           0.502811\n",
      "2022-04-29 20:04:18,634 - INFO - generate_tile_labels - x100_y22_z20.0    25600     5632  ...             fat           0.636428\n",
      "2022-04-29 20:04:18,634 - INFO - generate_tile_labels - x100_y23_z20.0    25600     5888  ...             fat           0.614154\n",
      "2022-04-29 20:04:18,634 - INFO - generate_tile_labels - x100_y25_z20.0    25600     6400  ...             fat           0.183442\n",
      "2022-04-29 20:04:18,634 - INFO - generate_tile_labels - x100_y26_z20.0    25600     6656  ...             fat           0.002640\n",
      "2022-04-29 20:04:18,634 - INFO - generate_tile_labels - \n",
      "2022-04-29 20:04:18,634 - INFO - generate_tile_labels - [1175 rows x 8 columns]\n",
      " 92%|█████████▏| 40802/44304 [00:43<00:03, 1148.17it/s]2022-04-29 20:04:18,676 - INFO - luna.common.utils - Code block 'transform::generate_tile_labels' took: 3.5323542430996895s\n",
      "2022-04-29 20:04:18,677 - INFO - luna.common.utils - ------------------------------------------------------------\n",
      "2022-04-29 20:04:18,677 - INFO - luna.common.utils -  Done with transform, running post-transform functions... \n",
      "2022-04-29 20:04:18,677 - INFO - luna.common.utils - ------------------------------------------------------------\n",
      "2022-04-29 20:04:18,684 - INFO - luna.common.utils - Done.\n",
      " 93%|█████████▎| 41037/44304 [00:43<00:02, 1157.18it/s]"
     ]
    },
    {
     "name": "stdout",
     "output_type": "stream",
     "text": [
      "save_tiles file:/home/aukermaa/vmount/PRO_12-123/data/toy_data_set/01OV002-ed65cf94-8bc6-492b-9149-adc16f.svs /home/aukermaa/vmount/PRO_12-123/tiling/01OV002-ed65cf94-8bc6-492b-9149-adc16f/labled_tiles --num_cores 16 --batch_size 200 --dataset_id PRO_TILES_LABLED_S3\n",
      "['save_tiles', PosixPath('file:/home/aukermaa/vmount/PRO_12-123/data/toy_data_set/01OV002-ed65cf94-8bc6-492b-9149-adc16f.svs'), '/home/aukermaa/vmount/PRO_12-123/tiling/01OV002-ed65cf94-8bc6-492b-9149-adc16f/labled_tiles', '--num_cores', '16', '--batch_size', '200', '--dataset_id', 'PRO_TILES_LABLED_S3', '-o', '/home/aukermaa/vmount/PRO_12-123/tiling/01OV002-ed65cf94-8bc6-492b-9149-adc16f/saved_tiles']\n"
     ]
    },
    {
     "name": "stderr",
     "output_type": "stream",
     "text": [
      " 95%|█████████▌| 42097/44304 [00:44<00:01, 1160.04it/s]2022-04-29 20:04:19,809 - INFO - root - Initalized logger, log file at: data-processing.log\n",
      " 96%|█████████▌| 42448/44304 [00:44<00:01, 1102.79it/s]2022-04-29 20:04:20,139 - INFO - luna.common.utils - Started CLI Runner wtih <function save_tiles at 0x7f98e1f87430>\n",
      "2022-04-29 20:04:20,142 - INFO - luna.common.utils - Validating params...\n",
      "2022-04-29 20:04:20,144 - INFO - luna.common.utils -  -> Set input_slide_image (<class 'str'>) = file:/home/aukermaa/vmount/PRO_12-123/data/toy_data_set/01OV008-7579323e-2fae-43a9-b00f-a15c28.svs\n",
      "2022-04-29 20:04:20,145 - INFO - luna.common.utils -  -> Set input_slide_tiles (<class 'str'>) = /home/aukermaa/vmount/PRO_12-123/tiling/01OV008-7579323e-2fae-43a9-b00f-a15c28/labled_tiles\n",
      "2022-04-29 20:04:20,147 - INFO - luna.common.utils -  -> Set output_dir (<class 'str'>) = /home/aukermaa/vmount/PRO_12-123/tiling/01OV008-7579323e-2fae-43a9-b00f-a15c28/saved_tiles\n",
      "2022-04-29 20:04:20,148 - INFO - luna.common.utils -  -> Set num_cores (<class 'int'>) = 16\n",
      "2022-04-29 20:04:20,149 - INFO - luna.common.utils - <Response [200]>: {\"dsid\":\"PRO_TILES_LABLED_S3\",\"rows_written\":13704,\"sid\":\"626c0a1dbfa0f49e3e026f6a-01OV008-308ad404-7079-4ff8-8232-12ee2e\",\"status\":\"success\"}\n",
      "2022-04-29 20:04:20,150 - INFO - luna.common.utils -  -> Set batch_size (<class 'int'>) = 200\n",
      "2022-04-29 20:04:20,150 - INFO - luna.common.utils - Done.\n",
      "2022-04-29 20:04:20,151 - INFO - luna.common.utils - Expanding inputs...\n",
      "2022-04-29 20:04:20,152 - INFO - luna.common.utils - Attempting to read metadata at file:/home/aukermaa/vmount/PRO_12-123/data/toy_data_set/01OV008-7579323e-2fae-43a9-b00f-a15c28.svs/metadata.yml\n",
      "2022-04-29 20:04:20,153 - INFO - luna.common.utils - Attempting to read metadata at /home/aukermaa/vmount/PRO_12-123/tiling/01OV008-7579323e-2fae-43a9-b00f-a15c28/labled_tiles/metadata.yml\n",
      "2022-04-29 20:04:20,158 - INFO - luna.common.utils - Expanded input:\n",
      "2022-04-29 20:04:20,158 - INFO - luna.common.utils -  -> /home/aukermaa/vmount/PRO_12-123/tiling/01OV008-7579323e-2fae-43a9-b00f-a15c28/labled_tiles\n",
      "2022-04-29 20:04:20,158 - INFO - luna.common.utils -  -> /home/aukermaa/vmount/PRO_12-123/tiling/01OV008-7579323e-2fae-43a9-b00f-a15c28/labled_tiles/01OV008-7579323e-2fae-43a9-b00f-a15c28.regional_label.tiles.parquet\n",
      "2022-04-29 20:04:20,159 - INFO - luna.common.utils - Found segment keys: {'dsa_collection_uuid': '626c0a1dbfa0f49e3e026f6a', 'slide_id': '01OV008-7579323e-2fae-43a9-b00f-a15c28'}\n",
      "2022-04-29 20:04:20,160 - INFO - luna.common.utils - Resolved input:\n",
      "2022-04-29 20:04:20,160 - INFO - luna.common.utils -  -> file:/home/aukermaa/vmount/PRO_12-123/data/toy_data_set/01OV008-7579323e-2fae-43a9-b00f-a15c28.svs\n",
      "2022-04-29 20:04:20,160 - INFO - luna.common.utils -  -> /home/aukermaa/vmount/PRO_12-123/data/toy_data_set/01OV008-7579323e-2fae-43a9-b00f-a15c28.svs\n",
      "2022-04-29 20:04:20,161 - INFO - luna.common.utils - Resolved input:\n",
      "2022-04-29 20:04:20,161 - INFO - luna.common.utils -  -> /home/aukermaa/vmount/PRO_12-123/tiling/01OV008-7579323e-2fae-43a9-b00f-a15c28/labled_tiles/01OV008-7579323e-2fae-43a9-b00f-a15c28.regional_label.tiles.parquet\n",
      "2022-04-29 20:04:20,161 - INFO - luna.common.utils -  -> /home/aukermaa/vmount/PRO_12-123/tiling/01OV008-7579323e-2fae-43a9-b00f-a15c28/labled_tiles/01OV008-7579323e-2fae-43a9-b00f-a15c28.regional_label.tiles.parquet\n",
      "2022-04-29 20:04:20,163 - INFO - luna.common.utils - Full segment key set: {'dsa_collection_uuid': '626c0a1dbfa0f49e3e026f6a', 'slide_id': '01OV008-7579323e-2fae-43a9-b00f-a15c28'}\n",
      "2022-04-29 20:04:20,164 - INFO - luna.common.utils - ------------------------------------------------------------\n",
      "2022-04-29 20:04:20,164 - INFO - luna.common.utils -  Starting transform::save_tiles \n",
      "2022-04-29 20:04:20,164 - INFO - luna.common.utils - ------------------------------------------------------------\n"
     ]
    },
    {
     "name": "stdout",
     "output_type": "stream",
     "text": [
      "\n"
     ]
    },
    {
     "name": "stderr",
     "output_type": "stream",
     "text": [
      " 96%|█████████▌| 42563/44304 [00:45<00:01, 1115.20it/s]2022-04-29 20:04:20,211 - INFO - generate_tiles - Now generating tiles with num_cores=16 and batch_size=200!\n",
      "2022-04-29 20:04:20,213 - WARNING - generate_tiles - /home/aukermaa/vmount/PRO_12-123/tiling/01OV008-7579323e-2fae-43a9-b00f-a15c28/saved_tiles/01OV008-7579323e-2fae-43a9-b00f-a15c28.tiles.h5 already exists, deleting the file..\n",
      " 21%|██▏       | 21099/99258 [00:21<01:10, 1109.56it/s]"
     ]
    },
    {
     "name": "stdout",
     "output_type": "stream",
     "text": [
      "\r",
      "  0%|          | 0/83 [00:00<?, ?it/s]"
     ]
    },
    {
     "name": "stderr",
     "output_type": "stream",
     "text": [
      " 21%|██▏       | 21217/99258 [00:21<01:09, 1126.10it/s]2022-04-29 20:04:21,689 - INFO - luna.common.utils - Started CLI Runner wtih <function save_tiles at 0x7f8767ab5430>\n",
      "2022-04-29 20:04:21,691 - INFO - luna.common.utils - Validating params...\n",
      "2022-04-29 20:04:21,692 - INFO - luna.common.utils -  -> Set input_slide_image (<class 'str'>) = file:/home/aukermaa/vmount/PRO_12-123/data/toy_data_set/01OV002-ed65cf94-8bc6-492b-9149-adc16f.svs\n",
      "2022-04-29 20:04:21,694 - INFO - luna.common.utils -  -> Set input_slide_tiles (<class 'str'>) = /home/aukermaa/vmount/PRO_12-123/tiling/01OV002-ed65cf94-8bc6-492b-9149-adc16f/labled_tiles\n",
      "2022-04-29 20:04:21,694 - INFO - luna.common.utils -  -> Set output_dir (<class 'str'>) = /home/aukermaa/vmount/PRO_12-123/tiling/01OV002-ed65cf94-8bc6-492b-9149-adc16f/saved_tiles\n",
      "2022-04-29 20:04:21,695 - INFO - luna.common.utils -  -> Set num_cores (<class 'int'>) = 16\n",
      "2022-04-29 20:04:21,696 - INFO - luna.common.utils -  -> Set batch_size (<class 'int'>) = 200\n",
      "2022-04-29 20:04:21,698 - INFO - luna.common.utils - Expanding inputs...\n",
      "2022-04-29 20:04:21,699 - INFO - luna.common.utils - Attempting to read metadata at file:/home/aukermaa/vmount/PRO_12-123/data/toy_data_set/01OV002-ed65cf94-8bc6-492b-9149-adc16f.svs/metadata.yml\n",
      "2022-04-29 20:04:21,700 - INFO - luna.common.utils - Attempting to read metadata at /home/aukermaa/vmount/PRO_12-123/tiling/01OV002-ed65cf94-8bc6-492b-9149-adc16f/labled_tiles/metadata.yml\n",
      "2022-04-29 20:04:21,704 - INFO - luna.common.utils - Expanded input:\n",
      "2022-04-29 20:04:21,704 - INFO - luna.common.utils -  -> /home/aukermaa/vmount/PRO_12-123/tiling/01OV002-ed65cf94-8bc6-492b-9149-adc16f/labled_tiles\n",
      "2022-04-29 20:04:21,704 - INFO - luna.common.utils -  -> /home/aukermaa/vmount/PRO_12-123/tiling/01OV002-ed65cf94-8bc6-492b-9149-adc16f/labled_tiles/01OV002-ed65cf94-8bc6-492b-9149-adc16f.regional_label.tiles.parquet\n",
      "2022-04-29 20:04:21,705 - INFO - luna.common.utils - Found segment keys: {'dsa_collection_uuid': '626c0a1dbfa0f49e3e026f6a', 'slide_id': '01OV002-ed65cf94-8bc6-492b-9149-adc16f'}\n",
      "2022-04-29 20:04:21,706 - INFO - luna.common.utils - Resolved input:\n",
      "2022-04-29 20:04:21,706 - INFO - luna.common.utils -  -> file:/home/aukermaa/vmount/PRO_12-123/data/toy_data_set/01OV002-ed65cf94-8bc6-492b-9149-adc16f.svs\n",
      "2022-04-29 20:04:21,706 - INFO - luna.common.utils -  -> /home/aukermaa/vmount/PRO_12-123/data/toy_data_set/01OV002-ed65cf94-8bc6-492b-9149-adc16f.svs\n",
      "2022-04-29 20:04:21,707 - INFO - luna.common.utils - Resolved input:\n",
      "2022-04-29 20:04:21,707 - INFO - luna.common.utils -  -> /home/aukermaa/vmount/PRO_12-123/tiling/01OV002-ed65cf94-8bc6-492b-9149-adc16f/labled_tiles/01OV002-ed65cf94-8bc6-492b-9149-adc16f.regional_label.tiles.parquet\n",
      "2022-04-29 20:04:21,707 - INFO - luna.common.utils -  -> /home/aukermaa/vmount/PRO_12-123/tiling/01OV002-ed65cf94-8bc6-492b-9149-adc16f/labled_tiles/01OV002-ed65cf94-8bc6-492b-9149-adc16f.regional_label.tiles.parquet\n",
      "2022-04-29 20:04:21,708 - INFO - luna.common.utils - Full segment key set: {'dsa_collection_uuid': '626c0a1dbfa0f49e3e026f6a', 'slide_id': '01OV002-ed65cf94-8bc6-492b-9149-adc16f'}\n",
      "100%|█████████▉| 44303/44304 [00:46<00:00, 1151.47it/s]2022-04-29 20:04:21,709 - INFO - luna.common.utils - ------------------------------------------------------------\n",
      "2022-04-29 20:04:21,709 - INFO - luna.common.utils -  Starting transform::save_tiles \n",
      "2022-04-29 20:04:21,709 - INFO - luna.common.utils - ------------------------------------------------------------\n",
      "100%|██████████| 44304/44304 [00:46<00:00, 951.29it/s] \n",
      "2022-04-29 20:04:21,728 - INFO - detect_tissue - Filtering based on query: otsu_score > 0.1\n",
      "2022-04-29 20:04:21,756 - INFO - generate_tiles - Now generating tiles with num_cores=16 and batch_size=200!\n",
      "2022-04-29 20:04:21,744 - INFO - detect_tissue -                  x_coord  y_coord  xy_extent  tile_size tile_units  otsu_score\n",
      "2022-04-29 20:04:21,744 - INFO - detect_tissue - address                                                                       \n",
      "2022-04-29 20:04:21,744 - INFO - detect_tissue - x3_y58_z20.0         768    14848        256        128         px        0.16\n",
      "2022-04-29 20:04:21,744 - INFO - detect_tissue - x6_y171_z20.0       1536    43776        256        128         px        0.16\n",
      "2022-04-29 20:04:21,744 - INFO - detect_tissue - x6_y172_z20.0       1536    44032        256        128         px        0.47\n",
      "2022-04-29 20:04:21,744 - INFO - detect_tissue - x6_y173_z20.0       1536    44288        256        128         px        0.45\n",
      "2022-04-29 20:04:21,744 - INFO - detect_tissue - x6_y174_z20.0       1536    44544        256        128         px        0.35\n",
      "2022-04-29 20:04:21,744 - INFO - detect_tissue - ...                  ...      ...        ...        ...        ...         ...\n",
      "2022-04-29 20:04:21,744 - INFO - detect_tissue - x188_y118_z20.0    48128    30208        256        128         px        0.21\n",
      "2022-04-29 20:04:21,744 - INFO - detect_tissue - x193_y206_z20.0    49408    52736        256        128         px        0.14\n",
      "2022-04-29 20:04:21,744 - INFO - detect_tissue - x200_y167_z20.0    51200    42752        256        128         px        0.15\n",
      "2022-04-29 20:04:21,744 - INFO - detect_tissue - x201_y198_z20.0    51456    50688        256        128         px        0.12\n",
      "2022-04-29 20:04:21,744 - INFO - detect_tissue - x207_y208_z20.0    52992    53248        256        128         px        0.11\n",
      "2022-04-29 20:04:21,744 - INFO - detect_tissue - \n",
      "2022-04-29 20:04:21,744 - INFO - detect_tissue - [19982 rows x 6 columns]\n",
      "2022-04-29 20:04:21,758 - WARNING - generate_tiles - /home/aukermaa/vmount/PRO_12-123/tiling/01OV002-ed65cf94-8bc6-492b-9149-adc16f/saved_tiles/01OV002-ed65cf94-8bc6-492b-9149-adc16f.tiles.h5 already exists, deleting the file..\n",
      "2022-04-29 20:04:21,781 - INFO - luna.common.utils - Code block 'transform::detect_tissue' took: 72.85280350595713s\n",
      "2022-04-29 20:04:21,782 - INFO - luna.common.utils - ------------------------------------------------------------\n",
      "2022-04-29 20:04:21,782 - INFO - luna.common.utils -  Done with transform, running post-transform functions... \n",
      "2022-04-29 20:04:21,782 - INFO - luna.common.utils - ------------------------------------------------------------\n",
      "2022-04-29 20:04:21,786 - INFO - luna.common.utils - Done.\n",
      " 22%|██▏       | 21796/99258 [00:21<01:09, 1109.86it/s]"
     ]
    },
    {
     "name": "stdout",
     "output_type": "stream",
     "text": [
      "\r",
      "  1%|          | 1/83 [00:00<00:55,  1.48it/s]\r",
      "  4%|▎         | 3/83 [00:00<00:18,  4.33it/s]"
     ]
    },
    {
     "name": "stderr",
     "output_type": "stream",
     "text": [
      " 22%|██▏       | 22261/99258 [00:22<01:11, 1071.39it/s]"
     ]
    },
    {
     "name": "stdout",
     "output_type": "stream",
     "text": [
      "\r",
      "  5%|▍         | 4/83 [00:00<00:15,  5.19it/s]label_tiles ../PRO_12-123/data/toy_data_set/table/ANNOTATIONS /home/aukermaa/vmount/PRO_12-123/tiling/01OV002-bd8cdc70-3d46-40ae-99c4-90ef77/detected_tiles\n",
      "['label_tiles', PosixPath('../PRO_12-123/data/toy_data_set/table/ANNOTATIONS'), '/home/aukermaa/vmount/PRO_12-123/tiling/01OV002-bd8cdc70-3d46-40ae-99c4-90ef77/detected_tiles', '-o', '/home/aukermaa/vmount/PRO_12-123/tiling/01OV002-bd8cdc70-3d46-40ae-99c4-90ef77/labled_tiles']\n",
      "\r",
      "  6%|▌         | 5/83 [00:01<00:13,  5.84it/s]"
     ]
    },
    {
     "name": "stderr",
     "output_type": "stream",
     "text": [
      "\r",
      " 23%|██▎       | 22369/99258 [00:22<01:12, 1061.93it/s]\r",
      " 23%|██▎       | 22476/99258 [00:22<01:13, 1046.55it/s]"
     ]
    },
    {
     "name": "stdout",
     "output_type": "stream",
     "text": [
      "\r",
      "  8%|▊         | 7/83 [00:01<00:09,  8.13it/s]\r",
      " 12%|█▏        | 10/83 [00:01<00:05, 12.70it/s]"
     ]
    },
    {
     "name": "stderr",
     "output_type": "stream",
     "text": [
      "\r",
      " 23%|██▎       | 22581/99258 [00:22<01:13, 1037.64it/s]\r",
      " 23%|██▎       | 22685/99258 [00:22<01:14, 1029.64it/s]"
     ]
    },
    {
     "name": "stdout",
     "output_type": "stream",
     "text": [
      "\r",
      " 16%|█▌        | 13/83 [00:01<00:04, 14.67it/s]\r",
      " 19%|█▉        | 16/83 [00:01<00:04, 16.14it/s]"
     ]
    },
    {
     "name": "stderr",
     "output_type": "stream",
     "text": [
      "\r",
      " 23%|██▎       | 22789/99258 [00:22<01:17, 983.32it/s] \r",
      " 23%|██▎       | 22894/99258 [00:22<01:16, 998.40it/s]"
     ]
    },
    {
     "name": "stdout",
     "output_type": "stream",
     "text": [
      "\r",
      "  0%|          | 0/92 [00:00<?, ?it/s]"
     ]
    },
    {
     "name": "stderr",
     "output_type": "stream",
     "text": [
      "\r",
      " 23%|██▎       | 23000/99258 [00:22<01:15, 1010.32it/s]\r",
      " 23%|██▎       | 23105/99258 [00:23<01:14, 1020.40it/s]\r",
      " 23%|██▎       | 23211/99258 [00:23<01:13, 1031.26it/s]"
     ]
    },
    {
     "name": "stdout",
     "output_type": "stream",
     "text": [
      "\r",
      " 22%|██▏       | 18/83 [00:01<00:05, 12.29it/s]"
     ]
    },
    {
     "name": "stderr",
     "output_type": "stream",
     "text": [
      "2022-04-29 20:04:23,567 - INFO - root - Initalized logger, log file at: data-processing.log\n",
      "2022-04-29 20:04:23,568 - INFO - luna.common.utils - Started CLI Runner wtih <function generate_tile_labels at 0x7f0bc86a2f70>\n",
      "2022-04-29 20:04:23,570 - INFO - luna.common.utils - Validating params...\n",
      "2022-04-29 20:04:23,572 - INFO - luna.common.utils -  -> Set input_slide_annotation_dataset (<class 'str'>) = ../PRO_12-123/data/toy_data_set/table/ANNOTATIONS\n",
      "2022-04-29 20:04:23,573 - INFO - luna.common.utils -  -> Set input_slide_tiles (<class 'str'>) = /home/aukermaa/vmount/PRO_12-123/tiling/01OV002-bd8cdc70-3d46-40ae-99c4-90ef77/detected_tiles\n",
      "2022-04-29 20:04:23,574 - INFO - luna.common.utils -  -> Set output_dir (<class 'str'>) = /home/aukermaa/vmount/PRO_12-123/tiling/01OV002-bd8cdc70-3d46-40ae-99c4-90ef77/labled_tiles\n",
      "2022-04-29 20:04:23,575 - INFO - luna.common.utils - Expanding inputs...\n",
      "2022-04-29 20:04:23,576 - INFO - luna.common.utils - Attempting to read metadata at ../PRO_12-123/data/toy_data_set/table/ANNOTATIONS/metadata.yml\n",
      "2022-04-29 20:04:23,579 - INFO - luna.common.utils - Expanded input:\n",
      "2022-04-29 20:04:23,579 - INFO - luna.common.utils -  -> ../PRO_12-123/data/toy_data_set/table/ANNOTATIONS\n",
      "2022-04-29 20:04:23,579 - INFO - luna.common.utils -  -> ../PRO_12-123/data/toy_data_set/table/ANNOTATIONS/slide_annotation_dataset_TCGA collection_ov_regional.parquet\n",
      "2022-04-29 20:04:23,580 - INFO - luna.common.utils - Found segment keys: {'dsa_collection_uuid': '626c0a1dbfa0f49e3e026f6a'}\n",
      "2022-04-29 20:04:23,581 - INFO - luna.common.utils - Attempting to read metadata at /home/aukermaa/vmount/PRO_12-123/tiling/01OV002-bd8cdc70-3d46-40ae-99c4-90ef77/detected_tiles/metadata.yml\n",
      "2022-04-29 20:04:23,584 - INFO - luna.common.utils - Expanded input:\n",
      "2022-04-29 20:04:23,584 - INFO - luna.common.utils -  -> /home/aukermaa/vmount/PRO_12-123/tiling/01OV002-bd8cdc70-3d46-40ae-99c4-90ef77/detected_tiles\n",
      "2022-04-29 20:04:23,584 - INFO - luna.common.utils -  -> /home/aukermaa/vmount/PRO_12-123/tiling/01OV002-bd8cdc70-3d46-40ae-99c4-90ef77/detected_tiles/01OV002-bd8cdc70-3d46-40ae-99c4-90ef77-filtered.tiles.parquet\n",
      "2022-04-29 20:04:23,585 - INFO - luna.common.utils - Found segment keys: {'slide_id': '01OV002-bd8cdc70-3d46-40ae-99c4-90ef77'}\n",
      "2022-04-29 20:04:23,586 - INFO - luna.common.utils - Resolved input:\n",
      "2022-04-29 20:04:23,586 - INFO - luna.common.utils -  -> ../PRO_12-123/data/toy_data_set/table/ANNOTATIONS/slide_annotation_dataset_TCGA collection_ov_regional.parquet\n",
      "2022-04-29 20:04:23,586 - INFO - luna.common.utils -  -> /home/aukermaa/vmount/PRO_12-123/data/toy_data_set/table/ANNOTATIONS/slide_annotation_dataset_TCGA collection_ov_regional.parquet\n",
      "2022-04-29 20:04:23,587 - INFO - luna.common.utils - Resolved input:\n",
      "2022-04-29 20:04:23,587 - INFO - luna.common.utils -  -> /home/aukermaa/vmount/PRO_12-123/tiling/01OV002-bd8cdc70-3d46-40ae-99c4-90ef77/detected_tiles/01OV002-bd8cdc70-3d46-40ae-99c4-90ef77-filtered.tiles.parquet\n",
      "2022-04-29 20:04:23,587 - INFO - luna.common.utils -  -> /home/aukermaa/vmount/PRO_12-123/tiling/01OV002-bd8cdc70-3d46-40ae-99c4-90ef77/detected_tiles/01OV002-bd8cdc70-3d46-40ae-99c4-90ef77-filtered.tiles.parquet\n",
      "2022-04-29 20:04:23,588 - INFO - luna.common.utils - Full segment key set: {'dsa_collection_uuid': '626c0a1dbfa0f49e3e026f6a', 'slide_id': '01OV002-bd8cdc70-3d46-40ae-99c4-90ef77'}\n",
      "2022-04-29 20:04:23,589 - INFO - luna.common.utils - ------------------------------------------------------------\n",
      "2022-04-29 20:04:23,589 - INFO - luna.common.utils -  Starting transform::generate_tile_labels \n",
      "2022-04-29 20:04:23,589 - INFO - luna.common.utils - ------------------------------------------------------------\n",
      "\r",
      " 23%|██▎       | 23319/99258 [00:23<01:12, 1041.51it/s]2022-04-29 20:04:23,590 - INFO - generate_tile_labels - slide_id=01OV002-bd8cdc70-3d46-40ae-99c4-90ef77\n",
      "\r",
      "  0%|          | 0/19982 [00:00<?, ?it/s]\r",
      " 24%|██▎       | 23424/99258 [00:23<01:13, 1030.69it/s]"
     ]
    },
    {
     "name": "stdout",
     "output_type": "stream",
     "text": [
      "../PRO_12-123/data/toy_data_set/table/ANNOTATIONS/01OV002-bd8cdc70-3d46-40ae-99c4-90ef77.annotation.geojson TCGA collection ov_regional\n",
      "\r",
      " 24%|██▍       | 20/83 [00:02<00:06, 10.10it/s]\r",
      " 27%|██▋       | 22/83 [00:02<00:05, 11.71it/s]"
     ]
    },
    {
     "name": "stderr",
     "output_type": "stream",
     "text": [
      "\r",
      "  2%|▏         | 467/19982 [00:00<00:04, 4666.00it/s]\r",
      " 24%|██▎       | 23532/99258 [00:23<01:12, 1044.11it/s]\r",
      "  5%|▍         | 970/19982 [00:00<00:03, 4876.52it/s]\r",
      " 24%|██▍       | 23650/99258 [00:23<01:09, 1082.89it/s]\r",
      "  7%|▋         | 1498/19982 [00:00<00:03, 5057.49it/s]"
     ]
    },
    {
     "name": "stdout",
     "output_type": "stream",
     "text": [
      "\r",
      " 29%|██▉       | 24/83 [00:02<00:04, 12.49it/s]\r",
      "  1%|          | 1/92 [00:00<01:20,  1.12it/s]\r",
      " 33%|███▎      | 27/83 [00:02<00:03, 14.31it/s]"
     ]
    },
    {
     "name": "stderr",
     "output_type": "stream",
     "text": [
      " 18%|█▊        | 3695/19982 [00:00<00:03, 5408.22it/s]]"
     ]
    },
    {
     "name": "stdout",
     "output_type": "stream",
     "text": [
      "\r",
      "  3%|▎         | 3/92 [00:01<00:25,  3.53it/s]\r",
      " 35%|███▍      | 29/83 [00:02<00:03, 13.73it/s]\r",
      "  4%|▍         | 4/92 [00:01<00:22,  3.92it/s]"
     ]
    },
    {
     "name": "stderr",
     "output_type": "stream",
     "text": [
      "\r",
      " 24%|██▍       | 24231/99258 [00:24<01:05, 1142.48it/s]\r",
      " 21%|██        | 4236/19982 [00:00<00:02, 5365.87it/s]\r",
      " 25%|██▍       | 24348/99258 [00:24<01:05, 1149.79it/s]\r",
      " 24%|██▍       | 4773/19982 [00:00<00:02, 5257.79it/s]\r",
      " 25%|██▍       | 24468/99258 [00:24<01:04, 1163.94it/s]"
     ]
    },
    {
     "name": "stdout",
     "output_type": "stream",
     "text": [
      "\r",
      " 37%|███▋      | 31/83 [00:02<00:04, 11.75it/s]\r",
      "  5%|▌         | 5/92 [00:01<00:18,  4.68it/s]\r",
      "  9%|▊         | 8/92 [00:01<00:09,  9.00it/s]"
     ]
    },
    {
     "name": "stderr",
     "output_type": "stream",
     "text": [
      "\r",
      " 27%|██▋       | 5300/19982 [00:01<00:02, 5134.97it/s]\r",
      " 25%|██▍       | 24590/99258 [00:24<01:03, 1178.23it/s]\r",
      " 29%|██▉       | 5815/19982 [00:01<00:02, 5032.64it/s]\r",
      " 25%|██▍       | 24714/99258 [00:24<01:02, 1190.41it/s]"
     ]
    },
    {
     "name": "stdout",
     "output_type": "stream",
     "text": [
      "\r",
      " 11%|█         | 10/92 [00:01<00:07, 10.70it/s]\r",
      " 40%|███▉      | 33/83 [00:03<00:05,  9.05it/s]\r",
      " 13%|█▎        | 12/92 [00:01<00:06, 12.05it/s]"
     ]
    },
    {
     "name": "stderr",
     "output_type": "stream",
     "text": [
      "\r",
      " 32%|███▏      | 6319/19982 [00:01<00:02, 5023.84it/s]\r",
      " 25%|██▌       | 24838/99258 [00:24<01:01, 1204.32it/s]\r",
      " 34%|███▍      | 6827/19982 [00:01<00:02, 5038.91it/s]\r",
      " 25%|██▌       | 24962/99258 [00:24<01:01, 1210.39it/s]\r",
      " 37%|███▋      | 7344/19982 [00:01<00:02, 5075.69it/s]"
     ]
    },
    {
     "name": "stdout",
     "output_type": "stream",
     "text": [
      "\r",
      " 42%|████▏     | 35/83 [00:03<00:05,  9.43it/s]\r",
      " 15%|█▌        | 14/92 [00:01<00:05, 13.66it/s]\r",
      " 17%|█▋        | 16/92 [00:01<00:05, 13.40it/s]"
     ]
    },
    {
     "name": "stderr",
     "output_type": "stream",
     "text": [
      " 26%|██▌       | 25445/99258 [00:25<01:01, 1194.34it/s]"
     ]
    },
    {
     "name": "stdout",
     "output_type": "stream",
     "text": [
      "\r",
      " 45%|████▍     | 37/83 [00:03<00:05,  8.51it/s]\r",
      " 20%|█▉        | 18/92 [00:02<00:05, 12.93it/s]\r",
      " 48%|████▊     | 40/83 [00:03<00:03, 11.41it/s]"
     ]
    },
    {
     "name": "stderr",
     "output_type": "stream",
     "text": [
      "\r",
      " 26%|██▌       | 25566/99258 [00:25<01:01, 1193.91it/s]\r",
      " 47%|████▋     | 9369/19982 [00:01<00:02, 4947.40it/s]\r",
      " 49%|████▉     | 9864/19982 [00:01<00:02, 4934.94it/s]\r",
      " 26%|██▌       | 25686/99258 [00:25<01:02, 1186.34it/s]"
     ]
    },
    {
     "name": "stdout",
     "output_type": "stream",
     "text": [
      "\r",
      " 51%|█████     | 42/83 [00:04<00:03, 11.52it/s]\r",
      " 22%|██▏       | 20/92 [00:02<00:07,  9.06it/s]\r",
      " 53%|█████▎    | 44/83 [00:04<00:03, 12.35it/s]"
     ]
    },
    {
     "name": "stderr",
     "output_type": "stream",
     "text": [
      "\r",
      " 26%|██▌       | 25807/99258 [00:25<01:01, 1192.87it/s]\r",
      " 52%|█████▏    | 10358/19982 [00:02<00:02, 4799.00it/s]\r",
      " 26%|██▌       | 25927/99258 [00:25<01:01, 1194.34it/s]\r",
      " 54%|█████▍    | 10839/19982 [00:02<00:02, 3985.92it/s]"
     ]
    },
    {
     "name": "stdout",
     "output_type": "stream",
     "text": [
      "\r",
      " 24%|██▍       | 22/92 [00:02<00:06, 10.10it/s]\r",
      " 55%|█████▌    | 46/83 [00:04<00:02, 12.68it/s]\r",
      " 26%|██▌       | 24/92 [00:02<00:05, 11.60it/s]\r",
      " 58%|█████▊    | 48/83 [00:04<00:02, 12.90it/s]"
     ]
    },
    {
     "name": "stderr",
     "output_type": "stream",
     "text": [
      " 60%|██████    | 12055/19982 [00:02<00:02, 3620.65it/s]"
     ]
    },
    {
     "name": "stdout",
     "output_type": "stream",
     "text": [
      "\r",
      " 28%|██▊       | 26/92 [00:02<00:05, 12.73it/s]\r",
      " 30%|███       | 28/92 [00:03<00:04, 13.52it/s]"
     ]
    },
    {
     "name": "stderr",
     "output_type": "stream",
     "text": [
      "\r",
      " 27%|██▋       | 26522/99258 [00:25<01:02, 1162.58it/s]\r",
      " 62%|██████▏   | 12432/19982 [00:02<00:02, 3659.84it/s]\r",
      " 27%|██▋       | 26642/99258 [00:26<01:01, 1171.30it/s]\r",
      " 65%|██████▍   | 12927/19982 [00:02<00:01, 4010.48it/s]\r",
      " 27%|██▋       | 26761/99258 [00:26<01:01, 1175.98it/s]"
     ]
    },
    {
     "name": "stdout",
     "output_type": "stream",
     "text": [
      "\r",
      " 33%|███▎      | 30/92 [00:03<00:04, 13.52it/s]\r",
      " 60%|██████    | 50/83 [00:04<00:03,  9.05it/s]"
     ]
    },
    {
     "name": "stderr",
     "output_type": "stream",
     "text": [
      "\r",
      " 67%|██████▋   | 13425/19982 [00:02<00:01, 4280.34it/s]\r",
      " 27%|██▋       | 26879/99258 [00:26<01:01, 1167.98it/s]\r",
      " 70%|██████▉   | 13929/19982 [00:02<00:01, 4497.35it/s]\r",
      " 27%|██▋       | 26997/99258 [00:26<01:01, 1170.71it/s]\r",
      " 72%|███████▏  | 14413/19982 [00:03<00:01, 4592.24it/s]"
     ]
    },
    {
     "name": "stdout",
     "output_type": "stream",
     "text": [
      "\r",
      " 63%|██████▎   | 52/83 [00:05<00:03,  8.92it/s]\r",
      " 35%|███▍      | 32/92 [00:03<00:05, 10.55it/s]\r",
      " 65%|██████▌   | 54/83 [00:05<00:02,  9.94it/s]"
     ]
    },
    {
     "name": "stderr",
     "output_type": "stream",
     "text": [
      "\r",
      " 27%|██▋       | 27116/99258 [00:26<01:01, 1173.88it/s]\r",
      " 75%|███████▍  | 14902/19982 [00:03<00:01, 4677.33it/s]\r",
      " 27%|██▋       | 27234/99258 [00:26<01:01, 1172.31it/s]\r",
      " 77%|███████▋  | 15404/19982 [00:03<00:00, 4777.88it/s]"
     ]
    },
    {
     "name": "stdout",
     "output_type": "stream",
     "text": [
      "\r",
      " 37%|███▋      | 34/92 [00:03<00:06,  9.66it/s]\r",
      " 67%|██████▋   | 56/83 [00:05<00:02, 10.54it/s]"
     ]
    },
    {
     "name": "stderr",
     "output_type": "stream",
     "text": [
      "\r",
      " 28%|██▊       | 27352/99258 [00:26<01:01, 1169.48it/s]\r",
      " 80%|███████▉  | 15932/19982 [00:03<00:00, 4924.53it/s]\r",
      " 28%|██▊       | 27469/99258 [00:26<01:02, 1157.10it/s]\r",
      " 82%|████████▏ | 16473/19982 [00:03<00:00, 5067.67it/s]"
     ]
    },
    {
     "name": "stdout",
     "output_type": "stream",
     "text": [
      "\r",
      " 70%|██████▉   | 58/83 [00:05<00:02, 10.86it/s]\r",
      " 39%|███▉      | 36/92 [00:03<00:06,  8.93it/s]\r",
      " 73%|███████▎  | 61/83 [00:05<00:01, 12.65it/s]"
     ]
    },
    {
     "name": "stderr",
     "output_type": "stream",
     "text": [
      "\r",
      " 28%|██▊       | 27585/99258 [00:26<01:01, 1157.35it/s]\r",
      " 85%|████████▌ | 17017/19982 [00:03<00:00, 5178.26it/s]\r",
      " 28%|██▊       | 27701/99258 [00:26<01:01, 1155.02it/s]\r",
      " 88%|████████▊ | 17564/19982 [00:03<00:00, 5263.09it/s]\r",
      " 28%|██▊       | 27819/99258 [00:27<01:01, 1160.78it/s]"
     ]
    },
    {
     "name": "stdout",
     "output_type": "stream",
     "text": [
      "\r",
      " 42%|████▏     | 39/92 [00:04<00:04, 11.22it/s]\r",
      " 76%|███████▌  | 63/83 [00:05<00:01, 12.91it/s]\r",
      " 46%|████▌     | 42/92 [00:04<00:03, 14.04it/s]"
     ]
    },
    {
     "name": "stderr",
     "output_type": "stream",
     "text": [
      "\r",
      " 91%|█████████ | 18117/19982 [00:03<00:00, 5340.78it/s]\r",
      " 28%|██▊       | 27936/99258 [00:27<01:01, 1157.74it/s]\r",
      " 94%|█████████▎| 18695/19982 [00:03<00:00, 5469.54it/s]\r",
      " 28%|██▊       | 28052/99258 [00:27<01:01, 1154.51it/s]\r",
      " 96%|█████████▋| 19278/19982 [00:03<00:00, 5577.05it/s]"
     ]
    },
    {
     "name": "stdout",
     "output_type": "stream",
     "text": [
      "\r",
      " 49%|████▉     | 45/92 [00:04<00:02, 16.05it/s]\r",
      " 78%|███████▊  | 65/83 [00:06<00:01, 13.14it/s]\r",
      " 81%|████████  | 67/83 [00:06<00:01, 13.13it/s]"
     ]
    },
    {
     "name": "stderr",
     "output_type": "stream",
     "text": [
      "\r",
      " 28%|██▊       | 28168/99258 [00:27<01:01, 1155.48it/s]\r",
      " 99%|█████████▉| 19875/19982 [00:04<00:00, 5693.87it/s]\r",
      "100%|██████████| 19982/19982 [00:04<00:00, 4886.77it/s]\n",
      "2022-04-29 20:04:27,773 - INFO - generate_tile_labels -                  x_coord  y_coord  ...  regional_label  intersection_area\n",
      "2022-04-29 20:04:27,773 - INFO - generate_tile_labels - address                            ...                                   \n",
      "2022-04-29 20:04:27,773 - INFO - generate_tile_labels - x52_y114_z20.0     13312    29184  ...          stroma           0.055345\n",
      "2022-04-29 20:04:27,773 - INFO - generate_tile_labels - x53_y113_z20.0     13568    28928  ...          stroma           0.212376\n",
      "2022-04-29 20:04:27,773 - INFO - generate_tile_labels - x53_y114_z20.0     13568    29184  ...          stroma           0.965976\n",
      "2022-04-29 20:04:27,773 - INFO - generate_tile_labels - x53_y115_z20.0     13568    29440  ...          stroma           0.344496\n",
      "2022-04-29 20:04:27,773 - INFO - generate_tile_labels - x54_y112_z20.0     13824    28672  ...          stroma           0.061422\n",
      "2022-04-29 20:04:27,773 - INFO - generate_tile_labels - ...                  ...      ...  ...             ...                ...\n",
      "2022-04-29 20:04:27,773 - INFO - generate_tile_labels - x131_y146_z20.0    33536    37376  ...           tumor           0.166847\n",
      "2022-04-29 20:04:27,773 - INFO - generate_tile_labels - x131_y147_z20.0    33536    37632  ...           tumor           0.096977\n",
      "2022-04-29 20:04:27,773 - INFO - generate_tile_labels - x132_y140_z20.0    33792    35840  ...           tumor           0.245755\n",
      "2022-04-29 20:04:27,773 - INFO - generate_tile_labels - x132_y141_z20.0    33792    36096  ...           tumor           0.504036\n",
      "2022-04-29 20:04:27,773 - INFO - generate_tile_labels - x132_y142_z20.0    33792    36352  ...           tumor           0.250175\n",
      "2022-04-29 20:04:27,773 - INFO - generate_tile_labels - \n",
      "2022-04-29 20:04:27,773 - INFO - generate_tile_labels - [513 rows x 8 columns]\n",
      "\r",
      " 28%|██▊       | 28284/99258 [00:27<01:01, 1154.44it/s]2022-04-29 20:04:27,867 - INFO - luna.common.utils - Code block 'transform::generate_tile_labels' took: 4.2764556631445885s\n",
      "2022-04-29 20:04:27,870 - INFO - luna.common.utils - ------------------------------------------------------------\n",
      "2022-04-29 20:04:27,870 - INFO - luna.common.utils -  Done with transform, running post-transform functions... \n",
      "2022-04-29 20:04:27,870 - INFO - luna.common.utils - ------------------------------------------------------------\n",
      "2022-04-29 20:04:27,877 - INFO - luna.common.utils - Done.\n"
     ]
    },
    {
     "name": "stdout",
     "output_type": "stream",
     "text": [
      "\r",
      " 51%|█████     | 47/92 [00:04<00:03, 13.37it/s]\r",
      " 83%|████████▎ | 69/83 [00:06<00:00, 14.08it/s]\r",
      " 87%|████████▋ | 72/83 [00:06<00:00, 16.51it/s]"
     ]
    },
    {
     "name": "stderr",
     "output_type": "stream",
     "text": [
      "\r",
      " 29%|██▊       | 28400/99258 [00:27<01:01, 1146.01it/s]\r",
      " 29%|██▊       | 28517/99258 [00:27<01:01, 1153.04it/s]\r",
      " 29%|██▉       | 28634/99258 [00:27<01:00, 1157.93it/s]"
     ]
    },
    {
     "name": "stdout",
     "output_type": "stream",
     "text": [
      "save_tiles file:/home/aukermaa/vmount/PRO_12-123/data/toy_data_set/01OV002-bd8cdc70-3d46-40ae-99c4-90ef77.svs /home/aukermaa/vmount/PRO_12-123/tiling/01OV002-bd8cdc70-3d46-40ae-99c4-90ef77/labled_tiles --num_cores 16 --batch_size 200 --dataset_id PRO_TILES_LABLED_S3\n",
      "['save_tiles', PosixPath('file:/home/aukermaa/vmount/PRO_12-123/data/toy_data_set/01OV002-bd8cdc70-3d46-40ae-99c4-90ef77.svs'), '/home/aukermaa/vmount/PRO_12-123/tiling/01OV002-bd8cdc70-3d46-40ae-99c4-90ef77/labled_tiles', '--num_cores', '16', '--batch_size', '200', '--dataset_id', 'PRO_TILES_LABLED_S3', '-o', '/home/aukermaa/vmount/PRO_12-123/tiling/01OV002-bd8cdc70-3d46-40ae-99c4-90ef77/saved_tiles']\n",
      "\r",
      " 53%|█████▎    | 49/92 [00:04<00:03, 11.17it/s]\r",
      " 90%|█████████ | 75/83 [00:06<00:00, 19.15it/s]\r",
      " 55%|█████▌    | 51/92 [00:05<00:03, 11.14it/s]"
     ]
    },
    {
     "name": "stderr",
     "output_type": "stream",
     "text": [
      "\r",
      " 29%|██▉       | 28751/99258 [00:27<01:00, 1158.08it/s]\r",
      " 29%|██▉       | 28871/99258 [00:28<01:00, 1166.82it/s]\r",
      " 29%|██▉       | 28990/99258 [00:28<00:59, 1173.41it/s]"
     ]
    },
    {
     "name": "stdout",
     "output_type": "stream",
     "text": [
      "\r",
      " 94%|█████████▍| 78/83 [00:06<00:00, 17.82it/s]\r",
      " 58%|█████▊    | 53/92 [00:05<00:03, 11.57it/s]\r",
      " 96%|█████████▋| 80/83 [00:06<00:00, 16.84it/s]"
     ]
    },
    {
     "name": "stderr",
     "output_type": "stream",
     "text": [
      "\r",
      " 29%|██▉       | 29108/99258 [00:28<01:01, 1145.58it/s]\r",
      " 29%|██▉       | 29225/99258 [00:28<01:00, 1151.67it/s]"
     ]
    },
    {
     "name": "stdout",
     "output_type": "stream",
     "text": [
      "\r",
      " 60%|█████▉    | 55/92 [00:05<00:03, 11.36it/s]\r",
      "100%|██████████| 83/83 [00:07<00:00, 16.64it/s]\r",
      "100%|██████████| 83/83 [00:07<00:00, 11.64it/s]"
     ]
    },
    {
     "name": "stderr",
     "output_type": "stream",
     "text": [
      " 30%|██▉       | 29454/99258 [00:28<01:02, 1112.22it/s]2022-04-29 20:04:28,852 - INFO - generate_tiles -                  x_coord  ...                                         tile_store\n",
      "2022-04-29 20:04:28,852 - INFO - generate_tiles - address                   ...                                                   \n",
      "2022-04-29 20:04:28,852 - INFO - generate_tiles - x7_y134_z20.0       1792  ...  /home/aukermaa/vmount/PRO_12-123/tiling/01OV00...\n",
      "2022-04-29 20:04:28,852 - INFO - generate_tiles - x7_y135_z20.0       1792  ...  /home/aukermaa/vmount/PRO_12-123/tiling/01OV00...\n",
      "2022-04-29 20:04:28,852 - INFO - generate_tiles - x7_y136_z20.0       1792  ...  /home/aukermaa/vmount/PRO_12-123/tiling/01OV00...\n",
      "2022-04-29 20:04:28,852 - INFO - generate_tiles - x7_y146_z20.0       1792  ...  /home/aukermaa/vmount/PRO_12-123/tiling/01OV00...\n",
      "2022-04-29 20:04:28,852 - INFO - generate_tiles - x7_y147_z20.0       1792  ...  /home/aukermaa/vmount/PRO_12-123/tiling/01OV00...\n",
      "2022-04-29 20:04:28,852 - INFO - generate_tiles - ...                  ...  ...                                                ...\n",
      "2022-04-29 20:04:28,852 - INFO - generate_tiles - x139_y1_z20.0      35584  ...  /home/aukermaa/vmount/PRO_12-123/tiling/01OV00...\n",
      "2022-04-29 20:04:28,852 - INFO - generate_tiles - x148_y139_z20.0    37888  ...  /home/aukermaa/vmount/PRO_12-123/tiling/01OV00...\n",
      "2022-04-29 20:04:28,852 - INFO - generate_tiles - x149_y89_z20.0     38144  ...  /home/aukermaa/vmount/PRO_12-123/tiling/01OV00...\n",
      "2022-04-29 20:04:28,852 - INFO - generate_tiles - x159_y98_z20.0     40704  ...  /home/aukermaa/vmount/PRO_12-123/tiling/01OV00...\n",
      "2022-04-29 20:04:28,852 - INFO - generate_tiles - x159_y170_z20.0    40704  ...  /home/aukermaa/vmount/PRO_12-123/tiling/01OV00...\n",
      "2022-04-29 20:04:28,852 - INFO - generate_tiles - \n",
      "2022-04-29 20:04:28,852 - INFO - generate_tiles - [16496 rows x 9 columns]\n",
      "2022-04-29 20:04:28,947 - INFO - luna.common.utils - Code block 'transform::save_tiles' took: 8.781375482678413s\n",
      "2022-04-29 20:04:28,949 - INFO - luna.common.utils - ------------------------------------------------------------\n",
      "2022-04-29 20:04:28,949 - INFO - luna.common.utils -  Done with transform, running post-transform functions... \n",
      "2022-04-29 20:04:28,949 - INFO - luna.common.utils - ------------------------------------------------------------\n",
      "2022-04-29 20:04:28,956 - INFO - luna.common.utils - Adding feature segment /home/aukermaa/vmount/PRO_12-123/tiling/01OV008-7579323e-2fae-43a9-b00f-a15c28/saved_tiles/01OV008-7579323e-2fae-43a9-b00f-a15c28.tiles.parquet to PRO_TILES_LABLED_S3\n",
      "2022-04-29 20:04:28,958 - INFO - luna.common.utils - Found dataset URL = http://waystation:6077/\n",
      "2022-04-29 20:04:28,959 - INFO - luna.common.utils - Adding /home/aukermaa/vmount/PRO_12-123/tiling/01OV008-7579323e-2fae-43a9-b00f-a15c28/saved_tiles/01OV008-7579323e-2fae-43a9-b00f-a15c28.tiles.parquet to PRO_TILES_LABLED_S3 via http://waystation:6077/\n",
      "2022-04-29 20:04:28,960 - INFO - luna.common.utils - SEGMENT_ID=626c0a1dbfa0f49e3e026f6a-01OV008-7579323e-2fae-43a9-b00f-a15c28\n",
      "2022-04-29 20:04:28,961 - INFO - luna.common.utils - Posting to: http://waystation:6077/datasets/PRO_TILES_LABLED_S3/segments/626c0a1dbfa0f49e3e026f6a-01OV008-7579323e-2fae-43a9-b00f-a15c28\n",
      " 30%|██▉       | 29686/99258 [00:28<01:01, 1135.52it/s]"
     ]
    },
    {
     "name": "stdout",
     "output_type": "stream",
     "text": [
      "\r",
      " 62%|██████▏   | 57/92 [00:05<00:04,  7.38it/s]\r",
      " 64%|██████▍   | 59/92 [00:06<00:03,  8.56it/s]"
     ]
    },
    {
     "name": "stderr",
     "output_type": "stream",
     "text": [
      " 30%|███       | 29808/99258 [00:28<01:00, 1156.22it/s]2022-04-29 20:04:29,267 - INFO - root - Initalized logger, log file at: data-processing.log\n",
      " 30%|███       | 30162/99258 [00:29<00:59, 1165.84it/s]"
     ]
    },
    {
     "name": "stdout",
     "output_type": "stream",
     "text": [
      "\r",
      " 67%|██████▋   | 62/92 [00:06<00:02, 10.36it/s]\r",
      " 70%|██████▉   | 64/92 [00:06<00:02, 11.62it/s]"
     ]
    },
    {
     "name": "stderr",
     "output_type": "stream",
     "text": [
      "\r",
      " 31%|███       | 30279/99258 [00:29<00:59, 1151.86it/s]\r",
      " 31%|███       | 30400/99258 [00:29<00:58, 1167.43it/s]\r",
      " 31%|███       | 30519/99258 [00:29<00:58, 1172.27it/s]"
     ]
    },
    {
     "name": "stdout",
     "output_type": "stream",
     "text": [
      "\r",
      " 73%|███████▎  | 67/92 [00:06<00:01, 14.58it/s]\r",
      " 76%|███████▌  | 70/92 [00:06<00:01, 16.43it/s]"
     ]
    },
    {
     "name": "stderr",
     "output_type": "stream",
     "text": [
      "\r",
      " 31%|███       | 30641/99258 [00:29<00:57, 1185.97it/s]\r",
      " 31%|███       | 30764/99258 [00:29<00:57, 1194.65it/s]"
     ]
    },
    {
     "name": "stdout",
     "output_type": "stream",
     "text": [
      "\r",
      " 78%|███████▊  | 72/92 [00:06<00:01, 17.13it/s]\r",
      " 80%|████████  | 74/92 [00:06<00:01, 15.99it/s]"
     ]
    },
    {
     "name": "stderr",
     "output_type": "stream",
     "text": [
      "\r",
      " 31%|███       | 30888/99258 [00:29<00:56, 1201.84it/s]\r",
      " 31%|███       | 31011/99258 [00:29<00:56, 1206.62it/s]"
     ]
    },
    {
     "name": "stdout",
     "output_type": "stream",
     "text": [
      "\r",
      " 83%|████████▎ | 76/92 [00:06<00:00, 16.61it/s]\r",
      " 86%|████████▌ | 79/92 [00:07<00:00, 19.45it/s]"
     ]
    },
    {
     "name": "stderr",
     "output_type": "stream",
     "text": [
      "\r",
      " 31%|███▏      | 31133/99258 [00:29<00:56, 1210.55it/s]\r",
      " 31%|███▏      | 31255/99258 [00:30<00:56, 1209.32it/s]"
     ]
    },
    {
     "name": "stdout",
     "output_type": "stream",
     "text": [
      "\r",
      " 89%|████████▉ | 82/92 [00:07<00:00, 20.33it/s]\r",
      " 92%|█████████▏| 85/92 [00:07<00:00, 19.70it/s]"
     ]
    },
    {
     "name": "stderr",
     "output_type": "stream",
     "text": [
      " 32%|███▏      | 31858/99258 [00:30<00:56, 1189.21it/s]"
     ]
    },
    {
     "name": "stdout",
     "output_type": "stream",
     "text": [
      "\r",
      " 96%|█████████▌| 88/92 [00:07<00:00, 21.20it/s]\r",
      " 99%|█████████▉| 91/92 [00:07<00:00, 20.49it/s]\r",
      "100%|██████████| 92/92 [00:07<00:00, 11.96it/s]"
     ]
    },
    {
     "name": "stderr",
     "output_type": "stream",
     "text": [
      "\r",
      " 32%|███▏      | 31980/99258 [00:30<00:56, 1193.34it/s]2022-04-29 20:04:31,097 - INFO - luna.common.utils - <Response [200]>: {\"dsid\":\"PRO_TILES_LABLED_S3\",\"rows_written\":16496,\"sid\":\"626c0a1dbfa0f49e3e026f6a-01OV008-7579323e-2fae-43a9-b00f-a15c28\",\"status\":\"success\"}\n",
      "\r",
      " 32%|███▏      | 32100/99258 [00:30<00:56, 1185.41it/s]2022-04-29 20:04:31,102 - INFO - luna.common.utils - Done.\n",
      "2022-04-29 20:04:31,182 - INFO - luna.common.utils - Started CLI Runner wtih <function save_tiles at 0x7f4d9656a430>\n",
      "2022-04-29 20:04:31,185 - INFO - luna.common.utils - Validating params...\n",
      "2022-04-29 20:04:31,188 - INFO - luna.common.utils -  -> Set input_slide_image (<class 'str'>) = file:/home/aukermaa/vmount/PRO_12-123/data/toy_data_set/01OV002-bd8cdc70-3d46-40ae-99c4-90ef77.svs\n",
      "2022-04-29 20:04:31,189 - INFO - luna.common.utils -  -> Set input_slide_tiles (<class 'str'>) = /home/aukermaa/vmount/PRO_12-123/tiling/01OV002-bd8cdc70-3d46-40ae-99c4-90ef77/labled_tiles\n",
      "2022-04-29 20:04:31,190 - INFO - luna.common.utils -  -> Set output_dir (<class 'str'>) = /home/aukermaa/vmount/PRO_12-123/tiling/01OV002-bd8cdc70-3d46-40ae-99c4-90ef77/saved_tiles\n",
      "2022-04-29 20:04:31,191 - INFO - luna.common.utils -  -> Set num_cores (<class 'int'>) = 16\n",
      "2022-04-29 20:04:31,192 - INFO - luna.common.utils -  -> Set batch_size (<class 'int'>) = 200\n",
      "2022-04-29 20:04:31,193 - INFO - luna.common.utils - Expanding inputs...\n",
      "2022-04-29 20:04:31,194 - INFO - luna.common.utils - Attempting to read metadata at file:/home/aukermaa/vmount/PRO_12-123/data/toy_data_set/01OV002-bd8cdc70-3d46-40ae-99c4-90ef77.svs/metadata.yml\n",
      "2022-04-29 20:04:31,195 - INFO - luna.common.utils - Attempting to read metadata at /home/aukermaa/vmount/PRO_12-123/tiling/01OV002-bd8cdc70-3d46-40ae-99c4-90ef77/labled_tiles/metadata.yml\n"
     ]
    },
    {
     "name": "stdout",
     "output_type": "stream",
     "text": [
      "\n"
     ]
    },
    {
     "name": "stderr",
     "output_type": "stream",
     "text": [
      "2022-04-29 20:04:31,199 - INFO - luna.common.utils - Expanded input:\n",
      "2022-04-29 20:04:31,199 - INFO - luna.common.utils -  -> /home/aukermaa/vmount/PRO_12-123/tiling/01OV002-bd8cdc70-3d46-40ae-99c4-90ef77/labled_tiles\n",
      "2022-04-29 20:04:31,199 - INFO - luna.common.utils -  -> /home/aukermaa/vmount/PRO_12-123/tiling/01OV002-bd8cdc70-3d46-40ae-99c4-90ef77/labled_tiles/01OV002-bd8cdc70-3d46-40ae-99c4-90ef77.regional_label.tiles.parquet\n",
      "2022-04-29 20:04:31,200 - INFO - luna.common.utils - Found segment keys: {'dsa_collection_uuid': '626c0a1dbfa0f49e3e026f6a', 'slide_id': '01OV002-bd8cdc70-3d46-40ae-99c4-90ef77'}\n",
      "2022-04-29 20:04:31,201 - INFO - luna.common.utils - Resolved input:\n",
      "2022-04-29 20:04:31,201 - INFO - luna.common.utils -  -> file:/home/aukermaa/vmount/PRO_12-123/data/toy_data_set/01OV002-bd8cdc70-3d46-40ae-99c4-90ef77.svs\n",
      "2022-04-29 20:04:31,201 - INFO - luna.common.utils -  -> /home/aukermaa/vmount/PRO_12-123/data/toy_data_set/01OV002-bd8cdc70-3d46-40ae-99c4-90ef77.svs\n",
      " 32%|███▏      | 32224/99258 [00:30<00:56, 1196.72it/s]2022-04-29 20:04:31,202 - INFO - luna.common.utils - Resolved input:\n",
      "2022-04-29 20:04:31,202 - INFO - luna.common.utils -  -> /home/aukermaa/vmount/PRO_12-123/tiling/01OV002-bd8cdc70-3d46-40ae-99c4-90ef77/labled_tiles/01OV002-bd8cdc70-3d46-40ae-99c4-90ef77.regional_label.tiles.parquet\n",
      "2022-04-29 20:04:31,202 - INFO - luna.common.utils -  -> /home/aukermaa/vmount/PRO_12-123/tiling/01OV002-bd8cdc70-3d46-40ae-99c4-90ef77/labled_tiles/01OV002-bd8cdc70-3d46-40ae-99c4-90ef77.regional_label.tiles.parquet\n",
      "2022-04-29 20:04:31,203 - INFO - luna.common.utils - Full segment key set: {'dsa_collection_uuid': '626c0a1dbfa0f49e3e026f6a', 'slide_id': '01OV002-bd8cdc70-3d46-40ae-99c4-90ef77'}\n",
      "2022-04-29 20:04:31,204 - INFO - luna.common.utils - ------------------------------------------------------------\n",
      "2022-04-29 20:04:31,204 - INFO - luna.common.utils -  Starting transform::save_tiles \n",
      "2022-04-29 20:04:31,204 - INFO - luna.common.utils - ------------------------------------------------------------\n",
      "2022-04-29 20:04:31,193 - INFO - generate_tiles -                 x_coord  ...                                         tile_store\n",
      "2022-04-29 20:04:31,193 - INFO - generate_tiles - address                  ...                                                   \n",
      "2022-04-29 20:04:31,193 - INFO - generate_tiles - x5_y37_z20.0       1280  ...  /home/aukermaa/vmount/PRO_12-123/tiling/01OV00...\n",
      "2022-04-29 20:04:31,193 - INFO - generate_tiles - x5_y38_z20.0       1280  ...  /home/aukermaa/vmount/PRO_12-123/tiling/01OV00...\n",
      "2022-04-29 20:04:31,193 - INFO - generate_tiles - x5_y39_z20.0       1280  ...  /home/aukermaa/vmount/PRO_12-123/tiling/01OV00...\n",
      "2022-04-29 20:04:31,193 - INFO - generate_tiles - x5_y40_z20.0       1280  ...  /home/aukermaa/vmount/PRO_12-123/tiling/01OV00...\n",
      "2022-04-29 20:04:31,193 - INFO - generate_tiles - x5_y41_z20.0       1280  ...  /home/aukermaa/vmount/PRO_12-123/tiling/01OV00...\n",
      "2022-04-29 20:04:31,193 - INFO - generate_tiles - ...                 ...  ...                                                ...\n",
      "2022-04-29 20:04:31,193 - INFO - generate_tiles - x167_y49_z20.0    42752  ...  /home/aukermaa/vmount/PRO_12-123/tiling/01OV00...\n",
      "2022-04-29 20:04:31,193 - INFO - generate_tiles - x167_y50_z20.0    42752  ...  /home/aukermaa/vmount/PRO_12-123/tiling/01OV00...\n",
      "2022-04-29 20:04:31,193 - INFO - generate_tiles - x167_y51_z20.0    42752  ...  /home/aukermaa/vmount/PRO_12-123/tiling/01OV00...\n",
      "2022-04-29 20:04:31,193 - INFO - generate_tiles - x167_y52_z20.0    42752  ...  /home/aukermaa/vmount/PRO_12-123/tiling/01OV00...\n",
      "2022-04-29 20:04:31,193 - INFO - generate_tiles - x172_y31_z20.0    44032  ...  /home/aukermaa/vmount/PRO_12-123/tiling/01OV00...\n",
      "2022-04-29 20:04:31,193 - INFO - generate_tiles - \n",
      "2022-04-29 20:04:31,193 - INFO - generate_tiles - [18274 rows x 9 columns]\n",
      "2022-04-29 20:04:31,254 - INFO - generate_tiles - Now generating tiles with num_cores=16 and batch_size=200!\n",
      "2022-04-29 20:04:31,256 - WARNING - generate_tiles - /home/aukermaa/vmount/PRO_12-123/tiling/01OV002-bd8cdc70-3d46-40ae-99c4-90ef77/saved_tiles/01OV002-bd8cdc70-3d46-40ae-99c4-90ef77.tiles.h5 already exists, deleting the file..\n",
      " 33%|███▎      | 32346/99258 [00:30<00:55, 1200.23it/s]2022-04-29 20:04:31,330 - INFO - luna.common.utils - Code block 'transform::save_tiles' took: 9.620228596031666s\n",
      "2022-04-29 20:04:31,332 - INFO - luna.common.utils - ------------------------------------------------------------\n",
      "2022-04-29 20:04:31,332 - INFO - luna.common.utils -  Done with transform, running post-transform functions... \n",
      "2022-04-29 20:04:31,332 - INFO - luna.common.utils - ------------------------------------------------------------\n",
      "2022-04-29 20:04:31,337 - INFO - luna.common.utils - Adding feature segment /home/aukermaa/vmount/PRO_12-123/tiling/01OV002-ed65cf94-8bc6-492b-9149-adc16f/saved_tiles/01OV002-ed65cf94-8bc6-492b-9149-adc16f.tiles.parquet to PRO_TILES_LABLED_S3\n",
      "2022-04-29 20:04:31,338 - INFO - luna.common.utils - Found dataset URL = http://waystation:6077/\n",
      "2022-04-29 20:04:31,339 - INFO - luna.common.utils - Adding /home/aukermaa/vmount/PRO_12-123/tiling/01OV002-ed65cf94-8bc6-492b-9149-adc16f/saved_tiles/01OV002-ed65cf94-8bc6-492b-9149-adc16f.tiles.parquet to PRO_TILES_LABLED_S3 via http://waystation:6077/\n",
      "2022-04-29 20:04:31,340 - INFO - luna.common.utils - SEGMENT_ID=626c0a1dbfa0f49e3e026f6a-01OV002-ed65cf94-8bc6-492b-9149-adc16f\n",
      "2022-04-29 20:04:31,341 - INFO - luna.common.utils - Posting to: http://waystation:6077/datasets/PRO_TILES_LABLED_S3/segments/626c0a1dbfa0f49e3e026f6a-01OV002-ed65cf94-8bc6-492b-9149-adc16f\n",
      " 35%|███▍      | 34315/99258 [00:32<00:52, 1228.62it/s]"
     ]
    },
    {
     "name": "stdout",
     "output_type": "stream",
     "text": [
      "\r",
      "  0%|          | 0/100 [00:00<?, ?it/s]"
     ]
    },
    {
     "name": "stderr",
     "output_type": "stream",
     "text": [
      " 35%|███▌      | 35056/99258 [00:33<00:52, 1227.70it/s]2022-04-29 20:04:33,540 - INFO - luna.common.utils - <Response [200]>: {\"dsid\":\"PRO_TILES_LABLED_S3\",\"rows_written\":18274,\"sid\":\"626c0a1dbfa0f49e3e026f6a-01OV002-ed65cf94-8bc6-492b-9149-adc16f\",\"status\":\"success\"}\n",
      "2022-04-29 20:04:33,542 - INFO - luna.common.utils - Done.\n"
     ]
    },
    {
     "name": "stdout",
     "output_type": "stream",
     "text": [
      "\n"
     ]
    },
    {
     "name": "stderr",
     "output_type": "stream",
     "text": [
      "\r",
      " 35%|███▌      | 35179/99258 [00:33<00:52, 1222.36it/s]\r",
      " 36%|███▌      | 35304/99258 [00:33<00:52, 1229.67it/s]"
     ]
    },
    {
     "name": "stdout",
     "output_type": "stream",
     "text": [
      "\r",
      "  1%|          | 1/100 [00:00<01:27,  1.13it/s]\r",
      "  3%|▎         | 3/100 [00:01<00:28,  3.46it/s]"
     ]
    },
    {
     "name": "stderr",
     "output_type": "stream",
     "text": [
      "\r",
      " 36%|███▌      | 35427/99258 [00:33<00:52, 1215.81it/s]\r",
      " 36%|███▌      | 35549/99258 [00:33<00:52, 1216.18it/s]"
     ]
    },
    {
     "name": "stdout",
     "output_type": "stream",
     "text": [
      "\r",
      "  4%|▍         | 4/100 [00:01<00:22,  4.34it/s]"
     ]
    },
    {
     "name": "stderr",
     "output_type": "stream",
     "text": [
      " 36%|███▋      | 36163/99258 [00:34<00:51, 1216.21it/s]"
     ]
    },
    {
     "name": "stdout",
     "output_type": "stream",
     "text": [
      " 14%|█▍        | 14/100 [00:01<00:05, 14.44it/s]"
     ]
    },
    {
     "name": "stderr",
     "output_type": "stream",
     "text": [
      " 37%|███▋      | 36781/99258 [00:34<00:51, 1223.21it/s]"
     ]
    },
    {
     "name": "stdout",
     "output_type": "stream",
     "text": [
      " 19%|█▉        | 19/100 [00:02<00:06, 12.61it/s]"
     ]
    },
    {
     "name": "stderr",
     "output_type": "stream",
     "text": [
      "\r",
      " 37%|███▋      | 36904/99258 [00:34<00:50, 1225.16it/s]\r",
      " 37%|███▋      | 37027/99258 [00:34<00:50, 1223.37it/s]"
     ]
    },
    {
     "name": "stdout",
     "output_type": "stream",
     "text": [
      "\r",
      " 21%|██        | 21/100 [00:02<00:07, 11.27it/s]\r",
      " 23%|██▎       | 23/100 [00:02<00:06, 12.25it/s]"
     ]
    },
    {
     "name": "stderr",
     "output_type": "stream",
     "text": [
      " 38%|███▊      | 37524/99258 [00:35<00:50, 1225.76it/s]"
     ]
    },
    {
     "name": "stdout",
     "output_type": "stream",
     "text": [
      "\r",
      " 26%|██▌       | 26/100 [00:02<00:04, 15.13it/s]\r",
      " 29%|██▉       | 29/100 [00:02<00:04, 16.45it/s]"
     ]
    },
    {
     "name": "stderr",
     "output_type": "stream",
     "text": [
      "\r",
      " 38%|███▊      | 37650/99258 [00:35<00:49, 1232.67it/s]\r",
      " 38%|███▊      | 37774/99258 [00:35<00:49, 1231.38it/s]\r",
      " 38%|███▊      | 37901/99258 [00:35<00:49, 1242.46it/s]"
     ]
    },
    {
     "name": "stdout",
     "output_type": "stream",
     "text": [
      "\r",
      " 31%|███       | 31/100 [00:02<00:04, 16.86it/s]"
     ]
    },
    {
     "name": "stderr",
     "output_type": "stream",
     "text": [
      "\r",
      " 38%|███▊      | 38026/99258 [00:35<00:49, 1233.15it/s]\r",
      " 38%|███▊      | 38150/99258 [00:35<00:50, 1211.89it/s]"
     ]
    },
    {
     "name": "stdout",
     "output_type": "stream",
     "text": [
      "\r",
      " 33%|███▎      | 33/100 [00:03<00:04, 13.68it/s]"
     ]
    },
    {
     "name": "stderr",
     "output_type": "stream",
     "text": [
      "\r",
      " 39%|███▊      | 38272/99258 [00:35<00:50, 1208.39it/s]\r",
      " 39%|███▊      | 38393/99258 [00:35<00:50, 1202.29it/s]"
     ]
    },
    {
     "name": "stdout",
     "output_type": "stream",
     "text": [
      "\r",
      " 35%|███▌      | 35/100 [00:03<00:05, 11.48it/s]\r",
      " 37%|███▋      | 37/100 [00:03<00:05, 12.34it/s]"
     ]
    },
    {
     "name": "stderr",
     "output_type": "stream",
     "text": [
      "\r",
      " 39%|███▉      | 38518/99258 [00:36<00:49, 1215.85it/s]\r",
      " 39%|███▉      | 38644/99258 [00:36<00:49, 1227.74it/s]"
     ]
    },
    {
     "name": "stdout",
     "output_type": "stream",
     "text": [
      "\r",
      " 40%|████      | 40/100 [00:03<00:04, 14.05it/s]\r",
      " 43%|████▎     | 43/100 [00:03<00:03, 16.57it/s]"
     ]
    },
    {
     "name": "stderr",
     "output_type": "stream",
     "text": [
      "\r",
      " 39%|███▉      | 38767/99258 [00:36<00:49, 1221.21it/s]\r",
      " 39%|███▉      | 38890/99258 [00:36<00:49, 1220.31it/s]"
     ]
    },
    {
     "name": "stdout",
     "output_type": "stream",
     "text": [
      "\r",
      " 46%|████▌     | 46/100 [00:03<00:02, 18.07it/s]\r",
      " 49%|████▉     | 49/100 [00:04<00:02, 17.57it/s]"
     ]
    },
    {
     "name": "stderr",
     "output_type": "stream",
     "text": [
      " 40%|███▉      | 39384/99258 [00:36<00:49, 1215.57it/s]"
     ]
    },
    {
     "name": "stdout",
     "output_type": "stream",
     "text": [
      "\r",
      " 51%|█████     | 51/100 [00:04<00:03, 16.09it/s]\r",
      " 53%|█████▎    | 53/100 [00:04<00:03, 14.83it/s]"
     ]
    },
    {
     "name": "stderr",
     "output_type": "stream",
     "text": [
      " 40%|████      | 39886/99258 [00:37<00:47, 1241.47it/s]"
     ]
    },
    {
     "name": "stdout",
     "output_type": "stream",
     "text": [
      "\r",
      " 55%|█████▌    | 55/100 [00:04<00:03, 13.82it/s]\r",
      " 57%|█████▋    | 57/100 [00:04<00:02, 14.65it/s]"
     ]
    },
    {
     "name": "stderr",
     "output_type": "stream",
     "text": [
      "\r",
      " 40%|████      | 40011/99258 [00:37<00:47, 1237.98it/s]\r",
      " 40%|████      | 40135/99258 [00:37<00:49, 1190.37it/s]"
     ]
    },
    {
     "name": "stdout",
     "output_type": "stream",
     "text": [
      "\r",
      " 60%|██████    | 60/100 [00:04<00:02, 16.10it/s]\r",
      " 63%|██████▎   | 63/100 [00:04<00:02, 17.84it/s]"
     ]
    },
    {
     "name": "stderr",
     "output_type": "stream",
     "text": [
      "\r",
      " 41%|████      | 40255/99258 [00:37<00:50, 1174.79it/s]\r",
      " 41%|████      | 40373/99258 [00:37<00:50, 1174.25it/s]"
     ]
    },
    {
     "name": "stdout",
     "output_type": "stream",
     "text": [
      "\r",
      " 65%|██████▌   | 65/100 [00:05<00:01, 17.90it/s]\r",
      " 67%|██████▋   | 67/100 [00:05<00:02, 16.06it/s]"
     ]
    },
    {
     "name": "stderr",
     "output_type": "stream",
     "text": [
      " 41%|████      | 40842/99258 [00:37<00:50, 1148.57it/s]"
     ]
    },
    {
     "name": "stdout",
     "output_type": "stream",
     "text": [
      "\r",
      " 69%|██████▉   | 69/100 [00:05<00:02, 13.84it/s]"
     ]
    },
    {
     "name": "stderr",
     "output_type": "stream",
     "text": [
      "\r",
      " 41%|████▏     | 40958/99258 [00:38<00:50, 1148.92it/s]\r",
      " 41%|████▏     | 41073/99258 [00:38<00:50, 1142.13it/s]"
     ]
    },
    {
     "name": "stdout",
     "output_type": "stream",
     "text": [
      "\r",
      " 71%|███████   | 71/100 [00:05<00:02, 12.28it/s]\r",
      " 74%|███████▍  | 74/100 [00:05<00:01, 15.28it/s]"
     ]
    },
    {
     "name": "stderr",
     "output_type": "stream",
     "text": [
      "\r",
      " 41%|████▏     | 41188/99258 [00:38<00:51, 1137.12it/s]\r",
      " 42%|████▏     | 41304/99258 [00:38<00:50, 1140.73it/s]"
     ]
    },
    {
     "name": "stdout",
     "output_type": "stream",
     "text": [
      "\r",
      " 76%|███████▌  | 76/100 [00:05<00:01, 15.29it/s]\r",
      " 78%|███████▊  | 78/100 [00:06<00:01, 15.60it/s]"
     ]
    },
    {
     "name": "stderr",
     "output_type": "stream",
     "text": [
      "\r",
      " 42%|████▏     | 41424/99258 [00:38<00:50, 1155.52it/s]\r",
      " 42%|████▏     | 41541/99258 [00:38<00:49, 1159.66it/s]\r",
      " 42%|████▏     | 41663/99258 [00:38<00:48, 1176.65it/s]"
     ]
    },
    {
     "name": "stdout",
     "output_type": "stream",
     "text": [
      "\r",
      " 80%|████████  | 80/100 [00:06<00:01, 14.19it/s]\r",
      " 82%|████████▏ | 82/100 [00:06<00:01, 14.79it/s]"
     ]
    },
    {
     "name": "stderr",
     "output_type": "stream",
     "text": [
      " 42%|████▏     | 42134/99258 [00:39<00:49, 1164.52it/s]"
     ]
    },
    {
     "name": "stdout",
     "output_type": "stream",
     "text": [
      "\r",
      " 84%|████████▍ | 84/100 [00:06<00:01, 13.98it/s]\r",
      " 86%|████████▌ | 86/100 [00:06<00:00, 15.14it/s]"
     ]
    },
    {
     "name": "stderr",
     "output_type": "stream",
     "text": [
      "\r",
      " 43%|████▎     | 42257/99258 [00:39<00:48, 1179.54it/s]\r",
      " 43%|████▎     | 42381/99258 [00:39<00:47, 1192.85it/s]"
     ]
    },
    {
     "name": "stdout",
     "output_type": "stream",
     "text": [
      "\r",
      " 88%|████████▊ | 88/100 [00:06<00:00, 14.89it/s]\r",
      " 91%|█████████ | 91/100 [00:06<00:00, 16.12it/s]"
     ]
    },
    {
     "name": "stderr",
     "output_type": "stream",
     "text": [
      "\r",
      " 43%|████▎     | 42504/99258 [00:39<00:47, 1202.54it/s]\r",
      " 43%|████▎     | 42628/99258 [00:39<00:46, 1206.24it/s]"
     ]
    },
    {
     "name": "stdout",
     "output_type": "stream",
     "text": [
      "\r",
      " 94%|█████████▍| 94/100 [00:07<00:00, 17.72it/s]\r",
      " 96%|█████████▌| 96/100 [00:07<00:00, 17.60it/s]"
     ]
    },
    {
     "name": "stderr",
     "output_type": "stream",
     "text": [
      "\r",
      " 43%|████▎     | 42752/99258 [00:39<00:46, 1211.35it/s]\r",
      " 43%|████▎     | 42874/99258 [00:39<00:46, 1209.84it/s]"
     ]
    },
    {
     "name": "stdout",
     "output_type": "stream",
     "text": [
      "\r",
      " 98%|█████████▊| 98/100 [00:07<00:00, 17.70it/s]\r",
      "100%|██████████| 100/100 [00:07<00:00, 17.97it/s]\r",
      "100%|██████████| 100/100 [00:07<00:00, 13.58it/s]"
     ]
    },
    {
     "name": "stderr",
     "output_type": "stream",
     "text": [
      " 44%|████▍     | 43494/99258 [00:40<00:45, 1227.69it/s]2022-04-29 20:04:40,615 - INFO - generate_tiles -                  x_coord  ...                                         tile_store\n",
      "2022-04-29 20:04:40,615 - INFO - generate_tiles - address                   ...                                                   \n",
      "2022-04-29 20:04:40,615 - INFO - generate_tiles - x3_y58_z20.0         768  ...  /home/aukermaa/vmount/PRO_12-123/tiling/01OV00...\n",
      "2022-04-29 20:04:40,615 - INFO - generate_tiles - x6_y171_z20.0       1536  ...  /home/aukermaa/vmount/PRO_12-123/tiling/01OV00...\n",
      "2022-04-29 20:04:40,615 - INFO - generate_tiles - x6_y172_z20.0       1536  ...  /home/aukermaa/vmount/PRO_12-123/tiling/01OV00...\n",
      "2022-04-29 20:04:40,615 - INFO - generate_tiles - x6_y173_z20.0       1536  ...  /home/aukermaa/vmount/PRO_12-123/tiling/01OV00...\n",
      "2022-04-29 20:04:40,615 - INFO - generate_tiles - x6_y174_z20.0       1536  ...  /home/aukermaa/vmount/PRO_12-123/tiling/01OV00...\n",
      "2022-04-29 20:04:40,615 - INFO - generate_tiles - ...                  ...  ...                                                ...\n",
      "2022-04-29 20:04:40,615 - INFO - generate_tiles - x188_y118_z20.0    48128  ...  /home/aukermaa/vmount/PRO_12-123/tiling/01OV00...\n",
      "2022-04-29 20:04:40,615 - INFO - generate_tiles - x193_y206_z20.0    49408  ...  /home/aukermaa/vmount/PRO_12-123/tiling/01OV00...\n",
      "2022-04-29 20:04:40,615 - INFO - generate_tiles - x200_y167_z20.0    51200  ...  /home/aukermaa/vmount/PRO_12-123/tiling/01OV00...\n",
      "2022-04-29 20:04:40,615 - INFO - generate_tiles - x201_y198_z20.0    51456  ...  /home/aukermaa/vmount/PRO_12-123/tiling/01OV00...\n",
      "2022-04-29 20:04:40,615 - INFO - generate_tiles - x207_y208_z20.0    52992  ...  /home/aukermaa/vmount/PRO_12-123/tiling/01OV00...\n",
      "2022-04-29 20:04:40,615 - INFO - generate_tiles - \n",
      "2022-04-29 20:04:40,615 - INFO - generate_tiles - [19982 rows x 9 columns]\n",
      " 44%|████▍     | 43738/99258 [00:40<00:46, 1192.82it/s]2022-04-29 20:04:40,792 - INFO - luna.common.utils - Code block 'transform::save_tiles' took: 9.587063916027546s\n",
      "2022-04-29 20:04:40,794 - INFO - luna.common.utils - ------------------------------------------------------------\n",
      "2022-04-29 20:04:40,794 - INFO - luna.common.utils -  Done with transform, running post-transform functions... \n",
      "2022-04-29 20:04:40,794 - INFO - luna.common.utils - ------------------------------------------------------------\n",
      "2022-04-29 20:04:40,800 - INFO - luna.common.utils - Adding feature segment /home/aukermaa/vmount/PRO_12-123/tiling/01OV002-bd8cdc70-3d46-40ae-99c4-90ef77/saved_tiles/01OV002-bd8cdc70-3d46-40ae-99c4-90ef77.tiles.parquet to PRO_TILES_LABLED_S3\n",
      "2022-04-29 20:04:40,801 - INFO - luna.common.utils - Found dataset URL = http://waystation:6077/\n",
      "2022-04-29 20:04:40,802 - INFO - luna.common.utils - Adding /home/aukermaa/vmount/PRO_12-123/tiling/01OV002-bd8cdc70-3d46-40ae-99c4-90ef77/saved_tiles/01OV002-bd8cdc70-3d46-40ae-99c4-90ef77.tiles.parquet to PRO_TILES_LABLED_S3 via http://waystation:6077/\n",
      "2022-04-29 20:04:40,803 - INFO - luna.common.utils - SEGMENT_ID=626c0a1dbfa0f49e3e026f6a-01OV002-bd8cdc70-3d46-40ae-99c4-90ef77\n",
      "2022-04-29 20:04:40,804 - INFO - luna.common.utils - Posting to: http://waystation:6077/datasets/PRO_TILES_LABLED_S3/segments/626c0a1dbfa0f49e3e026f6a-01OV002-bd8cdc70-3d46-40ae-99c4-90ef77\n",
      " 47%|████▋     | 46430/99258 [00:42<00:44, 1183.46it/s]2022-04-29 20:04:43,026 - INFO - luna.common.utils - <Response [200]>: {\"dsid\":\"PRO_TILES_LABLED_S3\",\"rows_written\":19982,\"sid\":\"626c0a1dbfa0f49e3e026f6a-01OV002-bd8cdc70-3d46-40ae-99c4-90ef77\",\"status\":\"success\"}\n",
      "2022-04-29 20:04:43,028 - INFO - luna.common.utils - Done.\n",
      " 47%|████▋     | 46549/99258 [00:42<00:44, 1171.87it/s]"
     ]
    },
    {
     "name": "stdout",
     "output_type": "stream",
     "text": [
      "\n"
     ]
    },
    {
     "name": "stderr",
     "output_type": "stream",
     "text": [
      "100%|██████████| 99258/99258 [01:31<00:00, 1084.60it/s]\n",
      "2022-04-29 20:05:31,892 - INFO - detect_tissue - Filtering based on query: otsu_score > 0.1\n",
      "2022-04-29 20:05:31,914 - INFO - detect_tissue -                 x_coord  y_coord  xy_extent  tile_size tile_units  otsu_score\n",
      "2022-04-29 20:05:31,914 - INFO - detect_tissue - address                                                                      \n",
      "2022-04-29 20:05:31,914 - INFO - detect_tissue - x6_y152_z20.0      1536    38912        256        128         px        0.15\n",
      "2022-04-29 20:05:31,914 - INFO - detect_tissue - x6_y153_z20.0      1536    39168        256        128         px        0.30\n",
      "2022-04-29 20:05:31,914 - INFO - detect_tissue - x6_y154_z20.0      1536    39424        256        128         px        0.56\n",
      "2022-04-29 20:05:31,914 - INFO - detect_tissue - x6_y155_z20.0      1536    39680        256        128         px        0.73\n",
      "2022-04-29 20:05:31,914 - INFO - detect_tissue - x6_y156_z20.0      1536    39936        256        128         px        0.73\n",
      "2022-04-29 20:05:31,914 - INFO - detect_tissue - ...                 ...      ...        ...        ...        ...         ...\n",
      "2022-04-29 20:05:31,914 - INFO - detect_tissue - x414_y26_z20.0   105984     6656        256        128         px        0.31\n",
      "2022-04-29 20:05:31,914 - INFO - detect_tissue - x415_y22_z20.0   106240     5632        256        128         px        0.24\n",
      "2022-04-29 20:05:31,914 - INFO - detect_tissue - x415_y25_z20.0   106240     6400        256        128         px        0.12\n",
      "2022-04-29 20:05:31,914 - INFO - detect_tissue - x419_y21_z20.0   107264     5376        256        128         px        0.23\n",
      "2022-04-29 20:05:31,914 - INFO - detect_tissue - x420_y22_z20.0   107520     5632        256        128         px        0.27\n",
      "2022-04-29 20:05:31,914 - INFO - detect_tissue - \n",
      "2022-04-29 20:05:31,914 - INFO - detect_tissue - [20648 rows x 6 columns]\n",
      "2022-04-29 20:05:31,992 - INFO - luna.common.utils - Code block 'transform::detect_tissue' took: 143.09757313132286s\n",
      "2022-04-29 20:05:31,994 - INFO - luna.common.utils - ------------------------------------------------------------\n",
      "2022-04-29 20:05:31,994 - INFO - luna.common.utils -  Done with transform, running post-transform functions... \n",
      "2022-04-29 20:05:31,994 - INFO - luna.common.utils - ------------------------------------------------------------\n",
      "2022-04-29 20:05:31,999 - INFO - luna.common.utils - Done.\n"
     ]
    },
    {
     "name": "stdout",
     "output_type": "stream",
     "text": [
      "label_tiles ../PRO_12-123/data/toy_data_set/table/ANNOTATIONS /home/aukermaa/vmount/PRO_12-123/tiling/01OV007-9b90eb78-2f50-4aeb-b010-d642f9/detected_tiles\n",
      "['label_tiles', PosixPath('../PRO_12-123/data/toy_data_set/table/ANNOTATIONS'), '/home/aukermaa/vmount/PRO_12-123/tiling/01OV007-9b90eb78-2f50-4aeb-b010-d642f9/detected_tiles', '-o', '/home/aukermaa/vmount/PRO_12-123/tiling/01OV007-9b90eb78-2f50-4aeb-b010-d642f9/labled_tiles']\n"
     ]
    },
    {
     "name": "stderr",
     "output_type": "stream",
     "text": [
      "2022-04-29 20:05:33,619 - INFO - root - Initalized logger, log file at: data-processing.log\n",
      "2022-04-29 20:05:33,620 - INFO - luna.common.utils - Started CLI Runner wtih <function generate_tile_labels at 0x7f3364f2ff70>\n",
      "2022-04-29 20:05:33,636 - INFO - luna.common.utils - Validating params...\n",
      "2022-04-29 20:05:33,638 - INFO - luna.common.utils -  -> Set input_slide_annotation_dataset (<class 'str'>) = ../PRO_12-123/data/toy_data_set/table/ANNOTATIONS\n",
      "2022-04-29 20:05:33,639 - INFO - luna.common.utils -  -> Set input_slide_tiles (<class 'str'>) = /home/aukermaa/vmount/PRO_12-123/tiling/01OV007-9b90eb78-2f50-4aeb-b010-d642f9/detected_tiles\n",
      "2022-04-29 20:05:33,641 - INFO - luna.common.utils -  -> Set output_dir (<class 'str'>) = /home/aukermaa/vmount/PRO_12-123/tiling/01OV007-9b90eb78-2f50-4aeb-b010-d642f9/labled_tiles\n",
      "2022-04-29 20:05:33,643 - INFO - luna.common.utils - Expanding inputs...\n",
      "2022-04-29 20:05:33,644 - INFO - luna.common.utils - Attempting to read metadata at ../PRO_12-123/data/toy_data_set/table/ANNOTATIONS/metadata.yml\n",
      "2022-04-29 20:05:33,648 - INFO - luna.common.utils - Expanded input:\n",
      "2022-04-29 20:05:33,648 - INFO - luna.common.utils -  -> ../PRO_12-123/data/toy_data_set/table/ANNOTATIONS\n",
      "2022-04-29 20:05:33,648 - INFO - luna.common.utils -  -> ../PRO_12-123/data/toy_data_set/table/ANNOTATIONS/slide_annotation_dataset_TCGA collection_ov_regional.parquet\n",
      "2022-04-29 20:05:33,649 - INFO - luna.common.utils - Found segment keys: {'dsa_collection_uuid': '626c0a1dbfa0f49e3e026f6a'}\n",
      "2022-04-29 20:05:33,650 - INFO - luna.common.utils - Attempting to read metadata at /home/aukermaa/vmount/PRO_12-123/tiling/01OV007-9b90eb78-2f50-4aeb-b010-d642f9/detected_tiles/metadata.yml\n",
      "2022-04-29 20:05:33,654 - INFO - luna.common.utils - Expanded input:\n",
      "2022-04-29 20:05:33,654 - INFO - luna.common.utils -  -> /home/aukermaa/vmount/PRO_12-123/tiling/01OV007-9b90eb78-2f50-4aeb-b010-d642f9/detected_tiles\n",
      "2022-04-29 20:05:33,654 - INFO - luna.common.utils -  -> /home/aukermaa/vmount/PRO_12-123/tiling/01OV007-9b90eb78-2f50-4aeb-b010-d642f9/detected_tiles/01OV007-9b90eb78-2f50-4aeb-b010-d642f9-filtered.tiles.parquet\n",
      "2022-04-29 20:05:33,656 - INFO - luna.common.utils - Found segment keys: {'slide_id': '01OV007-9b90eb78-2f50-4aeb-b010-d642f9'}\n",
      "2022-04-29 20:05:33,657 - INFO - luna.common.utils - Resolved input:\n",
      "2022-04-29 20:05:33,657 - INFO - luna.common.utils -  -> ../PRO_12-123/data/toy_data_set/table/ANNOTATIONS/slide_annotation_dataset_TCGA collection_ov_regional.parquet\n",
      "2022-04-29 20:05:33,657 - INFO - luna.common.utils -  -> /home/aukermaa/vmount/PRO_12-123/data/toy_data_set/table/ANNOTATIONS/slide_annotation_dataset_TCGA collection_ov_regional.parquet\n",
      "2022-04-29 20:05:33,659 - INFO - luna.common.utils - Resolved input:\n",
      "2022-04-29 20:05:33,659 - INFO - luna.common.utils -  -> /home/aukermaa/vmount/PRO_12-123/tiling/01OV007-9b90eb78-2f50-4aeb-b010-d642f9/detected_tiles/01OV007-9b90eb78-2f50-4aeb-b010-d642f9-filtered.tiles.parquet\n",
      "2022-04-29 20:05:33,659 - INFO - luna.common.utils -  -> /home/aukermaa/vmount/PRO_12-123/tiling/01OV007-9b90eb78-2f50-4aeb-b010-d642f9/detected_tiles/01OV007-9b90eb78-2f50-4aeb-b010-d642f9-filtered.tiles.parquet\n",
      "2022-04-29 20:05:33,661 - INFO - luna.common.utils - Full segment key set: {'dsa_collection_uuid': '626c0a1dbfa0f49e3e026f6a', 'slide_id': '01OV007-9b90eb78-2f50-4aeb-b010-d642f9'}\n",
      "2022-04-29 20:05:33,663 - INFO - luna.common.utils - ------------------------------------------------------------\n",
      "2022-04-29 20:05:33,663 - INFO - luna.common.utils -  Starting transform::generate_tile_labels \n",
      "2022-04-29 20:05:33,663 - INFO - luna.common.utils - ------------------------------------------------------------\n",
      "2022-04-29 20:05:33,664 - INFO - generate_tile_labels - slide_id=01OV007-9b90eb78-2f50-4aeb-b010-d642f9\n",
      "\r",
      "  0%|          | 0/20648 [00:00<?, ?it/s]"
     ]
    },
    {
     "name": "stdout",
     "output_type": "stream",
     "text": [
      "../PRO_12-123/data/toy_data_set/table/ANNOTATIONS/01OV007-9b90eb78-2f50-4aeb-b010-d642f9.annotation.geojson TCGA collection ov_regional\n"
     ]
    },
    {
     "name": "stderr",
     "output_type": "stream",
     "text": [
      "100%|██████████| 20648/20648 [00:03<00:00, 5945.73it/s]\n",
      "2022-04-29 20:05:37,226 - INFO - generate_tile_labels -                  x_coord  y_coord  ...  regional_label  intersection_area\n",
      "2022-04-29 20:05:37,226 - INFO - generate_tile_labels - address                            ...                                   \n",
      "2022-04-29 20:05:37,226 - INFO - generate_tile_labels - x24_y56_z20.0       6144    14336  ...             fat           0.001128\n",
      "2022-04-29 20:05:37,226 - INFO - generate_tile_labels - x24_y57_z20.0       6144    14592  ...             fat           0.337458\n",
      "2022-04-29 20:05:37,226 - INFO - generate_tile_labels - x24_y58_z20.0       6144    14848  ...             fat           0.536735\n",
      "2022-04-29 20:05:37,226 - INFO - generate_tile_labels - x24_y59_z20.0       6144    15104  ...             fat           0.511210\n",
      "2022-04-29 20:05:37,226 - INFO - generate_tile_labels - x24_y60_z20.0       6144    15360  ...             fat           0.161498\n",
      "2022-04-29 20:05:37,226 - INFO - generate_tile_labels - ...                  ...      ...  ...             ...                ...\n",
      "2022-04-29 20:05:37,226 - INFO - generate_tile_labels - x379_y109_z20.0    97024    27904  ...           tumor           0.482618\n",
      "2022-04-29 20:05:37,226 - INFO - generate_tile_labels - x380_y104_z20.0    97280    26624  ...           tumor           0.009819\n",
      "2022-04-29 20:05:37,226 - INFO - generate_tile_labels - x380_y105_z20.0    97280    26880  ...           tumor           0.337997\n",
      "2022-04-29 20:05:37,226 - INFO - generate_tile_labels - x380_y106_z20.0    97280    27136  ...           tumor           0.453576\n",
      "2022-04-29 20:05:37,226 - INFO - generate_tile_labels - x380_y107_z20.0    97280    27392  ...           tumor           0.294047\n",
      "2022-04-29 20:05:37,226 - INFO - generate_tile_labels - \n",
      "2022-04-29 20:05:37,226 - INFO - generate_tile_labels - [614 rows x 8 columns]\n",
      "2022-04-29 20:05:37,269 - INFO - luna.common.utils - Code block 'transform::generate_tile_labels' took: 3.6049192771315575s\n",
      "2022-04-29 20:05:37,270 - INFO - luna.common.utils - ------------------------------------------------------------\n",
      "2022-04-29 20:05:37,270 - INFO - luna.common.utils -  Done with transform, running post-transform functions... \n",
      "2022-04-29 20:05:37,270 - INFO - luna.common.utils - ------------------------------------------------------------\n",
      "2022-04-29 20:05:37,276 - INFO - luna.common.utils - Done.\n"
     ]
    },
    {
     "name": "stdout",
     "output_type": "stream",
     "text": [
      "save_tiles file:/home/aukermaa/vmount/PRO_12-123/data/toy_data_set/01OV007-9b90eb78-2f50-4aeb-b010-d642f9.svs /home/aukermaa/vmount/PRO_12-123/tiling/01OV007-9b90eb78-2f50-4aeb-b010-d642f9/labled_tiles --num_cores 16 --batch_size 200 --dataset_id PRO_TILES_LABLED_S3\n",
      "['save_tiles', PosixPath('file:/home/aukermaa/vmount/PRO_12-123/data/toy_data_set/01OV007-9b90eb78-2f50-4aeb-b010-d642f9.svs'), '/home/aukermaa/vmount/PRO_12-123/tiling/01OV007-9b90eb78-2f50-4aeb-b010-d642f9/labled_tiles', '--num_cores', '16', '--batch_size', '200', '--dataset_id', 'PRO_TILES_LABLED_S3', '-o', '/home/aukermaa/vmount/PRO_12-123/tiling/01OV007-9b90eb78-2f50-4aeb-b010-d642f9/saved_tiles']\n"
     ]
    },
    {
     "name": "stderr",
     "output_type": "stream",
     "text": [
      "2022-04-29 20:05:38,334 - INFO - root - Initalized logger, log file at: data-processing.log\n",
      "2022-04-29 20:05:40,004 - INFO - luna.common.utils - Started CLI Runner wtih <function save_tiles at 0x7ffa73252430>\n",
      "2022-04-29 20:05:40,005 - INFO - luna.common.utils - Validating params...\n",
      "2022-04-29 20:05:40,007 - INFO - luna.common.utils -  -> Set input_slide_image (<class 'str'>) = file:/home/aukermaa/vmount/PRO_12-123/data/toy_data_set/01OV007-9b90eb78-2f50-4aeb-b010-d642f9.svs\n",
      "2022-04-29 20:05:40,008 - INFO - luna.common.utils -  -> Set input_slide_tiles (<class 'str'>) = /home/aukermaa/vmount/PRO_12-123/tiling/01OV007-9b90eb78-2f50-4aeb-b010-d642f9/labled_tiles\n",
      "2022-04-29 20:05:40,010 - INFO - luna.common.utils -  -> Set output_dir (<class 'str'>) = /home/aukermaa/vmount/PRO_12-123/tiling/01OV007-9b90eb78-2f50-4aeb-b010-d642f9/saved_tiles\n",
      "2022-04-29 20:05:40,011 - INFO - luna.common.utils -  -> Set num_cores (<class 'int'>) = 16\n",
      "2022-04-29 20:05:40,012 - INFO - luna.common.utils -  -> Set batch_size (<class 'int'>) = 200\n",
      "2022-04-29 20:05:40,014 - INFO - luna.common.utils - Expanding inputs...\n",
      "2022-04-29 20:05:40,015 - INFO - luna.common.utils - Attempting to read metadata at file:/home/aukermaa/vmount/PRO_12-123/data/toy_data_set/01OV007-9b90eb78-2f50-4aeb-b010-d642f9.svs/metadata.yml\n",
      "2022-04-29 20:05:40,017 - INFO - luna.common.utils - Attempting to read metadata at /home/aukermaa/vmount/PRO_12-123/tiling/01OV007-9b90eb78-2f50-4aeb-b010-d642f9/labled_tiles/metadata.yml\n",
      "2022-04-29 20:05:40,021 - INFO - luna.common.utils - Expanded input:\n",
      "2022-04-29 20:05:40,021 - INFO - luna.common.utils -  -> /home/aukermaa/vmount/PRO_12-123/tiling/01OV007-9b90eb78-2f50-4aeb-b010-d642f9/labled_tiles\n",
      "2022-04-29 20:05:40,021 - INFO - luna.common.utils -  -> /home/aukermaa/vmount/PRO_12-123/tiling/01OV007-9b90eb78-2f50-4aeb-b010-d642f9/labled_tiles/01OV007-9b90eb78-2f50-4aeb-b010-d642f9.regional_label.tiles.parquet\n",
      "2022-04-29 20:05:40,022 - INFO - luna.common.utils - Found segment keys: {'dsa_collection_uuid': '626c0a1dbfa0f49e3e026f6a', 'slide_id': '01OV007-9b90eb78-2f50-4aeb-b010-d642f9'}\n",
      "2022-04-29 20:05:40,024 - INFO - luna.common.utils - Resolved input:\n",
      "2022-04-29 20:05:40,024 - INFO - luna.common.utils -  -> file:/home/aukermaa/vmount/PRO_12-123/data/toy_data_set/01OV007-9b90eb78-2f50-4aeb-b010-d642f9.svs\n",
      "2022-04-29 20:05:40,024 - INFO - luna.common.utils -  -> /home/aukermaa/vmount/PRO_12-123/data/toy_data_set/01OV007-9b90eb78-2f50-4aeb-b010-d642f9.svs\n",
      "2022-04-29 20:05:40,025 - INFO - luna.common.utils - Resolved input:\n",
      "2022-04-29 20:05:40,025 - INFO - luna.common.utils -  -> /home/aukermaa/vmount/PRO_12-123/tiling/01OV007-9b90eb78-2f50-4aeb-b010-d642f9/labled_tiles/01OV007-9b90eb78-2f50-4aeb-b010-d642f9.regional_label.tiles.parquet\n",
      "2022-04-29 20:05:40,025 - INFO - luna.common.utils -  -> /home/aukermaa/vmount/PRO_12-123/tiling/01OV007-9b90eb78-2f50-4aeb-b010-d642f9/labled_tiles/01OV007-9b90eb78-2f50-4aeb-b010-d642f9.regional_label.tiles.parquet\n",
      "2022-04-29 20:05:40,026 - INFO - luna.common.utils - Full segment key set: {'dsa_collection_uuid': '626c0a1dbfa0f49e3e026f6a', 'slide_id': '01OV007-9b90eb78-2f50-4aeb-b010-d642f9'}\n",
      "2022-04-29 20:05:40,027 - INFO - luna.common.utils - ------------------------------------------------------------\n",
      "2022-04-29 20:05:40,027 - INFO - luna.common.utils -  Starting transform::save_tiles \n",
      "2022-04-29 20:05:40,027 - INFO - luna.common.utils - ------------------------------------------------------------\n",
      "2022-04-29 20:05:40,075 - INFO - generate_tiles - Now generating tiles with num_cores=16 and batch_size=200!\n",
      "2022-04-29 20:05:40,077 - WARNING - generate_tiles - /home/aukermaa/vmount/PRO_12-123/tiling/01OV007-9b90eb78-2f50-4aeb-b010-d642f9/saved_tiles/01OV007-9b90eb78-2f50-4aeb-b010-d642f9.tiles.h5 already exists, deleting the file..\n"
     ]
    },
    {
     "name": "stdout",
     "output_type": "stream",
     "text": [
      "100%|██████████| 104/104 [00:07<00:00, 14.22it/s]"
     ]
    },
    {
     "name": "stderr",
     "output_type": "stream",
     "text": [
      "2022-04-29 20:05:49,274 - INFO - generate_tiles -                 x_coord  ...                                         tile_store\n",
      "2022-04-29 20:05:49,274 - INFO - generate_tiles - address                  ...                                                   \n",
      "2022-04-29 20:05:49,274 - INFO - generate_tiles - x6_y152_z20.0      1536  ...  /home/aukermaa/vmount/PRO_12-123/tiling/01OV00...\n",
      "2022-04-29 20:05:49,274 - INFO - generate_tiles - x6_y153_z20.0      1536  ...  /home/aukermaa/vmount/PRO_12-123/tiling/01OV00...\n",
      "2022-04-29 20:05:49,274 - INFO - generate_tiles - x6_y154_z20.0      1536  ...  /home/aukermaa/vmount/PRO_12-123/tiling/01OV00...\n",
      "2022-04-29 20:05:49,274 - INFO - generate_tiles - x6_y155_z20.0      1536  ...  /home/aukermaa/vmount/PRO_12-123/tiling/01OV00...\n",
      "2022-04-29 20:05:49,274 - INFO - generate_tiles - x6_y156_z20.0      1536  ...  /home/aukermaa/vmount/PRO_12-123/tiling/01OV00...\n",
      "2022-04-29 20:05:49,274 - INFO - generate_tiles - ...                 ...  ...                                                ...\n",
      "2022-04-29 20:05:49,274 - INFO - generate_tiles - x414_y26_z20.0   105984  ...  /home/aukermaa/vmount/PRO_12-123/tiling/01OV00...\n",
      "2022-04-29 20:05:49,274 - INFO - generate_tiles - x415_y22_z20.0   106240  ...  /home/aukermaa/vmount/PRO_12-123/tiling/01OV00...\n",
      "2022-04-29 20:05:49,274 - INFO - generate_tiles - x415_y25_z20.0   106240  ...  /home/aukermaa/vmount/PRO_12-123/tiling/01OV00...\n",
      "2022-04-29 20:05:49,274 - INFO - generate_tiles - x419_y21_z20.0   107264  ...  /home/aukermaa/vmount/PRO_12-123/tiling/01OV00...\n",
      "2022-04-29 20:05:49,274 - INFO - generate_tiles - x420_y22_z20.0   107520  ...  /home/aukermaa/vmount/PRO_12-123/tiling/01OV00...\n",
      "2022-04-29 20:05:49,274 - INFO - generate_tiles - \n",
      "2022-04-29 20:05:49,274 - INFO - generate_tiles - [20648 rows x 9 columns]\n",
      "2022-04-29 20:05:49,359 - INFO - luna.common.utils - Code block 'transform::save_tiles' took: 9.330010309815407s\n",
      "2022-04-29 20:05:49,360 - INFO - luna.common.utils - ------------------------------------------------------------\n",
      "2022-04-29 20:05:49,360 - INFO - luna.common.utils -  Done with transform, running post-transform functions... \n",
      "2022-04-29 20:05:49,360 - INFO - luna.common.utils - ------------------------------------------------------------\n",
      "2022-04-29 20:05:49,366 - INFO - luna.common.utils - Adding feature segment /home/aukermaa/vmount/PRO_12-123/tiling/01OV007-9b90eb78-2f50-4aeb-b010-d642f9/saved_tiles/01OV007-9b90eb78-2f50-4aeb-b010-d642f9.tiles.parquet to PRO_TILES_LABLED_S3\n",
      "2022-04-29 20:05:49,367 - INFO - luna.common.utils - Found dataset URL = http://waystation:6077/\n",
      "2022-04-29 20:05:49,369 - INFO - luna.common.utils - Adding /home/aukermaa/vmount/PRO_12-123/tiling/01OV007-9b90eb78-2f50-4aeb-b010-d642f9/saved_tiles/01OV007-9b90eb78-2f50-4aeb-b010-d642f9.tiles.parquet to PRO_TILES_LABLED_S3 via http://waystation:6077/\n",
      "2022-04-29 20:05:49,370 - INFO - luna.common.utils - SEGMENT_ID=626c0a1dbfa0f49e3e026f6a-01OV007-9b90eb78-2f50-4aeb-b010-d642f9\n",
      "2022-04-29 20:05:49,371 - INFO - luna.common.utils - Posting to: http://waystation:6077/datasets/PRO_TILES_LABLED_S3/segments/626c0a1dbfa0f49e3e026f6a-01OV007-9b90eb78-2f50-4aeb-b010-d642f9\n",
      "2022-04-29 20:05:51,684 - INFO - luna.common.utils - <Response [200]>: {\"dsid\":\"PRO_TILES_LABLED_S3\",\"rows_written\":20648,\"sid\":\"626c0a1dbfa0f49e3e026f6a-01OV007-9b90eb78-2f50-4aeb-b010-d642f9\",\"status\":\"success\"}\n",
      "2022-04-29 20:05:51,686 - INFO - luna.common.utils - Done.\n"
     ]
    },
    {
     "name": "stdout",
     "output_type": "stream",
     "text": [
      "\n"
     ]
    }
   ],
   "source": [
    "from concurrent.futures import ThreadPoolExecutor\n",
    "import pandas as pd\n",
    "\n",
    "df_slides = pd.read_parquet(\"../PRO_12-123/data/toy_data_set/table/SLIDES/slide_ingest_PRO_12-123.parquet\")\n",
    "        \n",
    "with ThreadPoolExecutor(5) as pool:\n",
    "    \n",
    "    for index, row in df_slides.iterrows():\n",
    "        print (index)\n",
    "        \n",
    "        pool.submit(pipeline, index, row.slide_image, \"../PRO_12-123/data/toy_data_set/table/ANNOTATIONS\")\n",
    "        "
   ]
  },
  {
   "cell_type": "markdown",
   "metadata": {},
   "source": [
    "Now, we when we read the dataset again, we see our tiles from all slides"
   ]
  },
  {
   "cell_type": "code",
   "execution_count": 20,
   "metadata": {},
   "outputs": [
    {
     "name": "stdout",
     "output_type": "stream",
     "text": [
      "tumor     2120\n",
      "stroma     860\n",
      "fat        751\n",
      "Name: regional_label, dtype: int64\n"
     ]
    },
    {
     "data": {
      "text/html": [
       "<div>\n",
       "<style scoped>\n",
       "    .dataframe tbody tr th:only-of-type {\n",
       "        vertical-align: middle;\n",
       "    }\n",
       "\n",
       "    .dataframe tbody tr th {\n",
       "        vertical-align: top;\n",
       "    }\n",
       "\n",
       "    .dataframe thead th {\n",
       "        text-align: right;\n",
       "    }\n",
       "</style>\n",
       "<table border=\"1\" class=\"dataframe\">\n",
       "  <thead>\n",
       "    <tr style=\"text-align: right;\">\n",
       "      <th></th>\n",
       "      <th>dsa_collection_uuid</th>\n",
       "      <th>slide_id</th>\n",
       "      <th>address</th>\n",
       "      <th>x_coord</th>\n",
       "      <th>y_coord</th>\n",
       "      <th>xy_extent</th>\n",
       "      <th>tile_size</th>\n",
       "      <th>tile_units</th>\n",
       "      <th>otsu_score</th>\n",
       "      <th>regional_label</th>\n",
       "      <th>intersection_area</th>\n",
       "      <th>tile_store</th>\n",
       "    </tr>\n",
       "    <tr>\n",
       "      <th>SEGMENT_ID</th>\n",
       "      <th></th>\n",
       "      <th></th>\n",
       "      <th></th>\n",
       "      <th></th>\n",
       "      <th></th>\n",
       "      <th></th>\n",
       "      <th></th>\n",
       "      <th></th>\n",
       "      <th></th>\n",
       "      <th></th>\n",
       "      <th></th>\n",
       "      <th></th>\n",
       "    </tr>\n",
       "  </thead>\n",
       "  <tbody>\n",
       "    <tr>\n",
       "      <th>626c0a1dbfa0f49e3e026f6a-01OV008-308ad404-7079-4ff8-8232-12ee2e</th>\n",
       "      <td>626c0a1dbfa0f49e3e026f6a</td>\n",
       "      <td>01OV008-308ad404-7079-4ff8-8232-12ee2e</td>\n",
       "      <td>x6_y74_z20.0</td>\n",
       "      <td>1536</td>\n",
       "      <td>18944</td>\n",
       "      <td>256</td>\n",
       "      <td>128</td>\n",
       "      <td>px</td>\n",
       "      <td>0.18</td>\n",
       "      <td>None</td>\n",
       "      <td>0.0</td>\n",
       "      <td>/home/aukermaa/vmount/PRO_12-123/tiling/01OV00...</td>\n",
       "    </tr>\n",
       "    <tr>\n",
       "      <th>626c0a1dbfa0f49e3e026f6a-01OV008-308ad404-7079-4ff8-8232-12ee2e</th>\n",
       "      <td>626c0a1dbfa0f49e3e026f6a</td>\n",
       "      <td>01OV008-308ad404-7079-4ff8-8232-12ee2e</td>\n",
       "      <td>x7_y74_z20.0</td>\n",
       "      <td>1792</td>\n",
       "      <td>18944</td>\n",
       "      <td>256</td>\n",
       "      <td>128</td>\n",
       "      <td>px</td>\n",
       "      <td>0.13</td>\n",
       "      <td>None</td>\n",
       "      <td>0.0</td>\n",
       "      <td>/home/aukermaa/vmount/PRO_12-123/tiling/01OV00...</td>\n",
       "    </tr>\n",
       "    <tr>\n",
       "      <th>626c0a1dbfa0f49e3e026f6a-01OV008-308ad404-7079-4ff8-8232-12ee2e</th>\n",
       "      <td>626c0a1dbfa0f49e3e026f6a</td>\n",
       "      <td>01OV008-308ad404-7079-4ff8-8232-12ee2e</td>\n",
       "      <td>x7_y81_z20.0</td>\n",
       "      <td>1792</td>\n",
       "      <td>20736</td>\n",
       "      <td>256</td>\n",
       "      <td>128</td>\n",
       "      <td>px</td>\n",
       "      <td>0.11</td>\n",
       "      <td>None</td>\n",
       "      <td>0.0</td>\n",
       "      <td>/home/aukermaa/vmount/PRO_12-123/tiling/01OV00...</td>\n",
       "    </tr>\n",
       "    <tr>\n",
       "      <th>626c0a1dbfa0f49e3e026f6a-01OV008-308ad404-7079-4ff8-8232-12ee2e</th>\n",
       "      <td>626c0a1dbfa0f49e3e026f6a</td>\n",
       "      <td>01OV008-308ad404-7079-4ff8-8232-12ee2e</td>\n",
       "      <td>x8_y75_z20.0</td>\n",
       "      <td>2048</td>\n",
       "      <td>19200</td>\n",
       "      <td>256</td>\n",
       "      <td>128</td>\n",
       "      <td>px</td>\n",
       "      <td>0.22</td>\n",
       "      <td>None</td>\n",
       "      <td>0.0</td>\n",
       "      <td>/home/aukermaa/vmount/PRO_12-123/tiling/01OV00...</td>\n",
       "    </tr>\n",
       "    <tr>\n",
       "      <th>626c0a1dbfa0f49e3e026f6a-01OV008-308ad404-7079-4ff8-8232-12ee2e</th>\n",
       "      <td>626c0a1dbfa0f49e3e026f6a</td>\n",
       "      <td>01OV008-308ad404-7079-4ff8-8232-12ee2e</td>\n",
       "      <td>x8_y76_z20.0</td>\n",
       "      <td>2048</td>\n",
       "      <td>19456</td>\n",
       "      <td>256</td>\n",
       "      <td>128</td>\n",
       "      <td>px</td>\n",
       "      <td>0.29</td>\n",
       "      <td>None</td>\n",
       "      <td>0.0</td>\n",
       "      <td>/home/aukermaa/vmount/PRO_12-123/tiling/01OV00...</td>\n",
       "    </tr>\n",
       "    <tr>\n",
       "      <th>...</th>\n",
       "      <td>...</td>\n",
       "      <td>...</td>\n",
       "      <td>...</td>\n",
       "      <td>...</td>\n",
       "      <td>...</td>\n",
       "      <td>...</td>\n",
       "      <td>...</td>\n",
       "      <td>...</td>\n",
       "      <td>...</td>\n",
       "      <td>...</td>\n",
       "      <td>...</td>\n",
       "      <td>...</td>\n",
       "    </tr>\n",
       "    <tr>\n",
       "      <th>626c0a1dbfa0f49e3e026f6a-01OV007-9b90eb78-2f50-4aeb-b010-d642f9</th>\n",
       "      <td>626c0a1dbfa0f49e3e026f6a</td>\n",
       "      <td>01OV007-9b90eb78-2f50-4aeb-b010-d642f9</td>\n",
       "      <td>x414_y26_z20.0</td>\n",
       "      <td>105984</td>\n",
       "      <td>6656</td>\n",
       "      <td>256</td>\n",
       "      <td>128</td>\n",
       "      <td>px</td>\n",
       "      <td>0.31</td>\n",
       "      <td>None</td>\n",
       "      <td>0.0</td>\n",
       "      <td>/home/aukermaa/vmount/PRO_12-123/tiling/01OV00...</td>\n",
       "    </tr>\n",
       "    <tr>\n",
       "      <th>626c0a1dbfa0f49e3e026f6a-01OV007-9b90eb78-2f50-4aeb-b010-d642f9</th>\n",
       "      <td>626c0a1dbfa0f49e3e026f6a</td>\n",
       "      <td>01OV007-9b90eb78-2f50-4aeb-b010-d642f9</td>\n",
       "      <td>x415_y22_z20.0</td>\n",
       "      <td>106240</td>\n",
       "      <td>5632</td>\n",
       "      <td>256</td>\n",
       "      <td>128</td>\n",
       "      <td>px</td>\n",
       "      <td>0.24</td>\n",
       "      <td>None</td>\n",
       "      <td>0.0</td>\n",
       "      <td>/home/aukermaa/vmount/PRO_12-123/tiling/01OV00...</td>\n",
       "    </tr>\n",
       "    <tr>\n",
       "      <th>626c0a1dbfa0f49e3e026f6a-01OV007-9b90eb78-2f50-4aeb-b010-d642f9</th>\n",
       "      <td>626c0a1dbfa0f49e3e026f6a</td>\n",
       "      <td>01OV007-9b90eb78-2f50-4aeb-b010-d642f9</td>\n",
       "      <td>x415_y25_z20.0</td>\n",
       "      <td>106240</td>\n",
       "      <td>6400</td>\n",
       "      <td>256</td>\n",
       "      <td>128</td>\n",
       "      <td>px</td>\n",
       "      <td>0.12</td>\n",
       "      <td>None</td>\n",
       "      <td>0.0</td>\n",
       "      <td>/home/aukermaa/vmount/PRO_12-123/tiling/01OV00...</td>\n",
       "    </tr>\n",
       "    <tr>\n",
       "      <th>626c0a1dbfa0f49e3e026f6a-01OV007-9b90eb78-2f50-4aeb-b010-d642f9</th>\n",
       "      <td>626c0a1dbfa0f49e3e026f6a</td>\n",
       "      <td>01OV007-9b90eb78-2f50-4aeb-b010-d642f9</td>\n",
       "      <td>x419_y21_z20.0</td>\n",
       "      <td>107264</td>\n",
       "      <td>5376</td>\n",
       "      <td>256</td>\n",
       "      <td>128</td>\n",
       "      <td>px</td>\n",
       "      <td>0.23</td>\n",
       "      <td>None</td>\n",
       "      <td>0.0</td>\n",
       "      <td>/home/aukermaa/vmount/PRO_12-123/tiling/01OV00...</td>\n",
       "    </tr>\n",
       "    <tr>\n",
       "      <th>626c0a1dbfa0f49e3e026f6a-01OV007-9b90eb78-2f50-4aeb-b010-d642f9</th>\n",
       "      <td>626c0a1dbfa0f49e3e026f6a</td>\n",
       "      <td>01OV007-9b90eb78-2f50-4aeb-b010-d642f9</td>\n",
       "      <td>x420_y22_z20.0</td>\n",
       "      <td>107520</td>\n",
       "      <td>5632</td>\n",
       "      <td>256</td>\n",
       "      <td>128</td>\n",
       "      <td>px</td>\n",
       "      <td>0.27</td>\n",
       "      <td>None</td>\n",
       "      <td>0.0</td>\n",
       "      <td>/home/aukermaa/vmount/PRO_12-123/tiling/01OV00...</td>\n",
       "    </tr>\n",
       "  </tbody>\n",
       "</table>\n",
       "<p>89104 rows × 12 columns</p>\n",
       "</div>"
      ],
      "text/plain": [
       "                                                         dsa_collection_uuid  \\\n",
       "SEGMENT_ID                                                                     \n",
       "626c0a1dbfa0f49e3e026f6a-01OV008-308ad404-7079-...  626c0a1dbfa0f49e3e026f6a   \n",
       "626c0a1dbfa0f49e3e026f6a-01OV008-308ad404-7079-...  626c0a1dbfa0f49e3e026f6a   \n",
       "626c0a1dbfa0f49e3e026f6a-01OV008-308ad404-7079-...  626c0a1dbfa0f49e3e026f6a   \n",
       "626c0a1dbfa0f49e3e026f6a-01OV008-308ad404-7079-...  626c0a1dbfa0f49e3e026f6a   \n",
       "626c0a1dbfa0f49e3e026f6a-01OV008-308ad404-7079-...  626c0a1dbfa0f49e3e026f6a   \n",
       "...                                                                      ...   \n",
       "626c0a1dbfa0f49e3e026f6a-01OV007-9b90eb78-2f50-...  626c0a1dbfa0f49e3e026f6a   \n",
       "626c0a1dbfa0f49e3e026f6a-01OV007-9b90eb78-2f50-...  626c0a1dbfa0f49e3e026f6a   \n",
       "626c0a1dbfa0f49e3e026f6a-01OV007-9b90eb78-2f50-...  626c0a1dbfa0f49e3e026f6a   \n",
       "626c0a1dbfa0f49e3e026f6a-01OV007-9b90eb78-2f50-...  626c0a1dbfa0f49e3e026f6a   \n",
       "626c0a1dbfa0f49e3e026f6a-01OV007-9b90eb78-2f50-...  626c0a1dbfa0f49e3e026f6a   \n",
       "\n",
       "                                                                                  slide_id  \\\n",
       "SEGMENT_ID                                                                                   \n",
       "626c0a1dbfa0f49e3e026f6a-01OV008-308ad404-7079-...  01OV008-308ad404-7079-4ff8-8232-12ee2e   \n",
       "626c0a1dbfa0f49e3e026f6a-01OV008-308ad404-7079-...  01OV008-308ad404-7079-4ff8-8232-12ee2e   \n",
       "626c0a1dbfa0f49e3e026f6a-01OV008-308ad404-7079-...  01OV008-308ad404-7079-4ff8-8232-12ee2e   \n",
       "626c0a1dbfa0f49e3e026f6a-01OV008-308ad404-7079-...  01OV008-308ad404-7079-4ff8-8232-12ee2e   \n",
       "626c0a1dbfa0f49e3e026f6a-01OV008-308ad404-7079-...  01OV008-308ad404-7079-4ff8-8232-12ee2e   \n",
       "...                                                                                    ...   \n",
       "626c0a1dbfa0f49e3e026f6a-01OV007-9b90eb78-2f50-...  01OV007-9b90eb78-2f50-4aeb-b010-d642f9   \n",
       "626c0a1dbfa0f49e3e026f6a-01OV007-9b90eb78-2f50-...  01OV007-9b90eb78-2f50-4aeb-b010-d642f9   \n",
       "626c0a1dbfa0f49e3e026f6a-01OV007-9b90eb78-2f50-...  01OV007-9b90eb78-2f50-4aeb-b010-d642f9   \n",
       "626c0a1dbfa0f49e3e026f6a-01OV007-9b90eb78-2f50-...  01OV007-9b90eb78-2f50-4aeb-b010-d642f9   \n",
       "626c0a1dbfa0f49e3e026f6a-01OV007-9b90eb78-2f50-...  01OV007-9b90eb78-2f50-4aeb-b010-d642f9   \n",
       "\n",
       "                                                           address  x_coord  \\\n",
       "SEGMENT_ID                                                                    \n",
       "626c0a1dbfa0f49e3e026f6a-01OV008-308ad404-7079-...    x6_y74_z20.0     1536   \n",
       "626c0a1dbfa0f49e3e026f6a-01OV008-308ad404-7079-...    x7_y74_z20.0     1792   \n",
       "626c0a1dbfa0f49e3e026f6a-01OV008-308ad404-7079-...    x7_y81_z20.0     1792   \n",
       "626c0a1dbfa0f49e3e026f6a-01OV008-308ad404-7079-...    x8_y75_z20.0     2048   \n",
       "626c0a1dbfa0f49e3e026f6a-01OV008-308ad404-7079-...    x8_y76_z20.0     2048   \n",
       "...                                                            ...      ...   \n",
       "626c0a1dbfa0f49e3e026f6a-01OV007-9b90eb78-2f50-...  x414_y26_z20.0   105984   \n",
       "626c0a1dbfa0f49e3e026f6a-01OV007-9b90eb78-2f50-...  x415_y22_z20.0   106240   \n",
       "626c0a1dbfa0f49e3e026f6a-01OV007-9b90eb78-2f50-...  x415_y25_z20.0   106240   \n",
       "626c0a1dbfa0f49e3e026f6a-01OV007-9b90eb78-2f50-...  x419_y21_z20.0   107264   \n",
       "626c0a1dbfa0f49e3e026f6a-01OV007-9b90eb78-2f50-...  x420_y22_z20.0   107520   \n",
       "\n",
       "                                                    y_coord  xy_extent  \\\n",
       "SEGMENT_ID                                                               \n",
       "626c0a1dbfa0f49e3e026f6a-01OV008-308ad404-7079-...    18944        256   \n",
       "626c0a1dbfa0f49e3e026f6a-01OV008-308ad404-7079-...    18944        256   \n",
       "626c0a1dbfa0f49e3e026f6a-01OV008-308ad404-7079-...    20736        256   \n",
       "626c0a1dbfa0f49e3e026f6a-01OV008-308ad404-7079-...    19200        256   \n",
       "626c0a1dbfa0f49e3e026f6a-01OV008-308ad404-7079-...    19456        256   \n",
       "...                                                     ...        ...   \n",
       "626c0a1dbfa0f49e3e026f6a-01OV007-9b90eb78-2f50-...     6656        256   \n",
       "626c0a1dbfa0f49e3e026f6a-01OV007-9b90eb78-2f50-...     5632        256   \n",
       "626c0a1dbfa0f49e3e026f6a-01OV007-9b90eb78-2f50-...     6400        256   \n",
       "626c0a1dbfa0f49e3e026f6a-01OV007-9b90eb78-2f50-...     5376        256   \n",
       "626c0a1dbfa0f49e3e026f6a-01OV007-9b90eb78-2f50-...     5632        256   \n",
       "\n",
       "                                                    tile_size tile_units  \\\n",
       "SEGMENT_ID                                                                 \n",
       "626c0a1dbfa0f49e3e026f6a-01OV008-308ad404-7079-...        128         px   \n",
       "626c0a1dbfa0f49e3e026f6a-01OV008-308ad404-7079-...        128         px   \n",
       "626c0a1dbfa0f49e3e026f6a-01OV008-308ad404-7079-...        128         px   \n",
       "626c0a1dbfa0f49e3e026f6a-01OV008-308ad404-7079-...        128         px   \n",
       "626c0a1dbfa0f49e3e026f6a-01OV008-308ad404-7079-...        128         px   \n",
       "...                                                       ...        ...   \n",
       "626c0a1dbfa0f49e3e026f6a-01OV007-9b90eb78-2f50-...        128         px   \n",
       "626c0a1dbfa0f49e3e026f6a-01OV007-9b90eb78-2f50-...        128         px   \n",
       "626c0a1dbfa0f49e3e026f6a-01OV007-9b90eb78-2f50-...        128         px   \n",
       "626c0a1dbfa0f49e3e026f6a-01OV007-9b90eb78-2f50-...        128         px   \n",
       "626c0a1dbfa0f49e3e026f6a-01OV007-9b90eb78-2f50-...        128         px   \n",
       "\n",
       "                                                    otsu_score regional_label  \\\n",
       "SEGMENT_ID                                                                      \n",
       "626c0a1dbfa0f49e3e026f6a-01OV008-308ad404-7079-...        0.18           None   \n",
       "626c0a1dbfa0f49e3e026f6a-01OV008-308ad404-7079-...        0.13           None   \n",
       "626c0a1dbfa0f49e3e026f6a-01OV008-308ad404-7079-...        0.11           None   \n",
       "626c0a1dbfa0f49e3e026f6a-01OV008-308ad404-7079-...        0.22           None   \n",
       "626c0a1dbfa0f49e3e026f6a-01OV008-308ad404-7079-...        0.29           None   \n",
       "...                                                        ...            ...   \n",
       "626c0a1dbfa0f49e3e026f6a-01OV007-9b90eb78-2f50-...        0.31           None   \n",
       "626c0a1dbfa0f49e3e026f6a-01OV007-9b90eb78-2f50-...        0.24           None   \n",
       "626c0a1dbfa0f49e3e026f6a-01OV007-9b90eb78-2f50-...        0.12           None   \n",
       "626c0a1dbfa0f49e3e026f6a-01OV007-9b90eb78-2f50-...        0.23           None   \n",
       "626c0a1dbfa0f49e3e026f6a-01OV007-9b90eb78-2f50-...        0.27           None   \n",
       "\n",
       "                                                    intersection_area  \\\n",
       "SEGMENT_ID                                                              \n",
       "626c0a1dbfa0f49e3e026f6a-01OV008-308ad404-7079-...                0.0   \n",
       "626c0a1dbfa0f49e3e026f6a-01OV008-308ad404-7079-...                0.0   \n",
       "626c0a1dbfa0f49e3e026f6a-01OV008-308ad404-7079-...                0.0   \n",
       "626c0a1dbfa0f49e3e026f6a-01OV008-308ad404-7079-...                0.0   \n",
       "626c0a1dbfa0f49e3e026f6a-01OV008-308ad404-7079-...                0.0   \n",
       "...                                                               ...   \n",
       "626c0a1dbfa0f49e3e026f6a-01OV007-9b90eb78-2f50-...                0.0   \n",
       "626c0a1dbfa0f49e3e026f6a-01OV007-9b90eb78-2f50-...                0.0   \n",
       "626c0a1dbfa0f49e3e026f6a-01OV007-9b90eb78-2f50-...                0.0   \n",
       "626c0a1dbfa0f49e3e026f6a-01OV007-9b90eb78-2f50-...                0.0   \n",
       "626c0a1dbfa0f49e3e026f6a-01OV007-9b90eb78-2f50-...                0.0   \n",
       "\n",
       "                                                                                           tile_store  \n",
       "SEGMENT_ID                                                                                             \n",
       "626c0a1dbfa0f49e3e026f6a-01OV008-308ad404-7079-...  /home/aukermaa/vmount/PRO_12-123/tiling/01OV00...  \n",
       "626c0a1dbfa0f49e3e026f6a-01OV008-308ad404-7079-...  /home/aukermaa/vmount/PRO_12-123/tiling/01OV00...  \n",
       "626c0a1dbfa0f49e3e026f6a-01OV008-308ad404-7079-...  /home/aukermaa/vmount/PRO_12-123/tiling/01OV00...  \n",
       "626c0a1dbfa0f49e3e026f6a-01OV008-308ad404-7079-...  /home/aukermaa/vmount/PRO_12-123/tiling/01OV00...  \n",
       "626c0a1dbfa0f49e3e026f6a-01OV008-308ad404-7079-...  /home/aukermaa/vmount/PRO_12-123/tiling/01OV00...  \n",
       "...                                                                                               ...  \n",
       "626c0a1dbfa0f49e3e026f6a-01OV007-9b90eb78-2f50-...  /home/aukermaa/vmount/PRO_12-123/tiling/01OV00...  \n",
       "626c0a1dbfa0f49e3e026f6a-01OV007-9b90eb78-2f50-...  /home/aukermaa/vmount/PRO_12-123/tiling/01OV00...  \n",
       "626c0a1dbfa0f49e3e026f6a-01OV007-9b90eb78-2f50-...  /home/aukermaa/vmount/PRO_12-123/tiling/01OV00...  \n",
       "626c0a1dbfa0f49e3e026f6a-01OV007-9b90eb78-2f50-...  /home/aukermaa/vmount/PRO_12-123/tiling/01OV00...  \n",
       "626c0a1dbfa0f49e3e026f6a-01OV007-9b90eb78-2f50-...  /home/aukermaa/vmount/PRO_12-123/tiling/01OV00...  \n",
       "\n",
       "[89104 rows x 12 columns]"
      ]
     },
     "execution_count": 20,
     "metadata": {},
     "output_type": "execute_result"
    }
   ],
   "source": [
    "df_tiles = pd.read_parquet(\n",
    "    \"s3://datasets/PRO_TILES_LABLED_S3/\",\n",
    "    storage_options={\n",
    "        \"key\": 'admin',\n",
    "        \"secret\": 'password',\n",
    "        \"client_kwargs\": {\"endpoint_url\": \"http://minio:9000\"}\n",
    "    }\n",
    ")\n",
    "print (df_tiles['regional_label'].value_counts())\n",
    "df_tiles\n"
   ]
  },
  {
   "cell_type": "markdown",
   "metadata": {},
   "source": [
    "We still have 2120 tumor, 860 stroma, and 751 fat tiles images and labels ready to train your model, however aggregated at an S3 endpoint!"
   ]
  }
 ],
 "metadata": {
  "kernelspec": {
   "display_name": "Python 3 (ipykernel)",
   "language": "python",
   "name": "python3"
  },
  "language_info": {
   "codemirror_mode": {
    "name": "ipython",
    "version": 3
   },
   "file_extension": ".py",
   "mimetype": "text/x-python",
   "name": "python",
   "nbconvert_exporter": "python",
   "pygments_lexer": "ipython3",
   "version": "3.9.11"
  }
 },
 "nbformat": 4,
 "nbformat_minor": 4
}
