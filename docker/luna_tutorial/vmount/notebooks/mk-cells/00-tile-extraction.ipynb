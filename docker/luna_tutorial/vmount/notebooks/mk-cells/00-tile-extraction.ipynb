{
 "cells": [
  {
   "cell_type": "code",
   "execution_count": null,
   "id": "3ffb588a",
   "metadata": {},
   "outputs": [],
   "source": [
    "'''\n",
    "HistomicsUI is used to identify regions of interest (containing mk-cells) \n",
    "and this code is used to extract 800x800 tiles containing the regions of interest. \n",
    "\n",
    "The tile file names contain the top left coordinate of the region of interest in the svs file. \n",
    "'''"
   ]
  },
  {
   "cell_type": "code",
   "execution_count": 1,
   "id": "678101d6",
   "metadata": {},
   "outputs": [],
   "source": [
    "import openslide\n",
    "wsi = openslide.OpenSlide('1354466.svs')"
   ]
  },
  {
   "cell_type": "code",
   "execution_count": 2,
   "id": "022a51c2",
   "metadata": {},
   "outputs": [
    {
     "name": "stdout",
     "output_type": "stream",
     "text": [
      "3\n",
      "((41832, 29364), (10458, 7341), (2614, 1835))\n"
     ]
    }
   ],
   "source": [
    "print(wsi.level_count)  # [what is level count]\n",
    "print(wsi.level_dimensions) # [what are level dimensions]"
   ]
  },
  {
   "cell_type": "code",
   "execution_count": 10,
   "id": "61cc1640",
   "metadata": {},
   "outputs": [],
   "source": [
    "img = wsi.read_region((33000, 7500), wsi.level_count - 3, (800,800))"
   ]
  },
  {
   "cell_type": "code",
   "execution_count": 11,
   "id": "950b9582",
   "metadata": {},
   "outputs": [],
   "source": [
    "img.save('1354466-33000-7500.tiff', format='tiff', compression=None, save_all=True,)"
   ]
  },
  {
   "cell_type": "code",
   "execution_count": 38,
   "id": "10b04b1a",
   "metadata": {},
   "outputs": [],
   "source": [
    "img = wsi.read_region((7900, 15800), wsi.level_count - 3, (800,800))"
   ]
  },
  {
   "cell_type": "code",
   "execution_count": 39,
   "id": "005ef769",
   "metadata": {},
   "outputs": [],
   "source": [
    "img.save('/home/pashaa/vmount/charlie/1354466-1.tiff', format='tiff', compression=None, save_all=True,)"
   ]
  },
  {
   "cell_type": "code",
   "execution_count": null,
   "id": "396e62d2",
   "metadata": {},
   "outputs": [],
   "source": []
  }
 ],
 "metadata": {
  "kernelspec": {
   "display_name": "Python 3 (ipykernel)",
   "language": "python",
   "name": "python3"
  },
  "language_info": {
   "codemirror_mode": {
    "name": "ipython",
    "version": 3
   },
   "file_extension": ".py",
   "mimetype": "text/x-python",
   "name": "python",
   "nbconvert_exporter": "python",
   "pygments_lexer": "ipython3",
   "version": "3.9.12"
  }
 },
 "nbformat": 4,
 "nbformat_minor": 5
}
