{
 "cells": [
  {
   "cell_type": "markdown",
   "metadata": {
    "execution": {
     "iopub.execute_input": "2021-11-16T20:03:16.158336Z",
     "iopub.status.busy": "2021-11-16T20:03:16.157988Z",
     "iopub.status.idle": "2021-11-16T20:03:16.169309Z",
     "shell.execute_reply": "2021-11-16T20:03:16.168150Z",
     "shell.execute_reply.started": "2021-11-16T20:03:16.158308Z"
    }
   },
   "source": [
    "# Teardown your project and virtual environment\n",
    "\n",
    "**WARNING:** Follow these steps only after you are done with using this jupyter environment and you are ready to restore you sytem back to its original state. \n",
    "\n",
    "    # in your jupyter terminal, uninstall the pt-venv kernel\n",
    "    jupyter kernelspec uninstall pt-venv\n",
    "    \n",
    "    # delete the virtual environment \n",
    "    rm -rf pt-venv"
   ]
  },
  {
   "cell_type": "markdown",
   "metadata": {},
   "source": [
    "Next, delete the sandbox."
   ]
  },
  {
   "cell_type": "code",
   "execution_count": null,
   "metadata": {},
   "outputs": [],
   "source": [
    "rm -rf ~/vmount/PRO_12-123"
   ]
  }
 ],
 "metadata": {
  "kernelspec": {
   "display_name": "Python 3",
   "language": "python",
   "name": "python3"
  },
  "language_info": {
   "codemirror_mode": {
    "name": "ipython",
    "version": 3
   },
   "file_extension": ".py",
   "mimetype": "text/x-python",
   "name": "python",
   "nbconvert_exporter": "python",
   "pygments_lexer": "ipython3",
   "version": "3.6.9"
  }
 },
 "nbformat": 4,
 "nbformat_minor": 4
}
