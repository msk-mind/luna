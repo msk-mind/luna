{
 "cells": [
  {
   "cell_type": "markdown",
   "metadata": {},
   "source": [
    "# Tile Generation Tutorial"
   ]
  },
  {
   "cell_type": "markdown",
   "metadata": {},
   "source": [
    "Welcome to the tile generation tutorial!\n",
    "\n",
    "As a whole slide image is too large for deep learning model training, a slide is often divded into a set of small tiles, and used for training. For tile-based whole slide image analysis, generating tiles and labels is an important and laborious step. With LUNA tiling CLIs and tutorials, you can easily generate tile labels and get your data ready for downstream analysis. In this notebook, we will see how to generate tiles and labels using LUNA tiling CLIs. Here are the main steps we will review:\n",
    "\n",
    "1. Load slides\n",
    "2. Generate tiles, labels\n",
    "3. Collect tiles for model training\n",
    "\n",
    "Through out this notebook, we will use different method parameter files. Please refer to the example parameter files in the `configs` directory to follow these steps.\n"
   ]
  },
  {
   "cell_type": "code",
   "execution_count": 13,
   "metadata": {},
   "outputs": [
    {
     "name": "stdout",
     "output_type": "stream",
     "text": [
      "env: DATASET_URL=file:///home/aukermaa/vmount/PRO_12-123/tables\n"
     ]
    }
   ],
   "source": [
    "env DATASET_URL=file:///home/aukermaa/vmount/PRO_12-123/tables"
   ]
  },
  {
   "cell_type": "markdown",
   "metadata": {},
   "source": [
    "This is the main tiling step. The CLI generates tiles, populates otsu and purple scores along with the regional annotation label. An otsu score is calculated using the otsu foreground/background detection algorithm commonly used to filter out the background of the slide. Purple scores are calculated to provide additional guidance to H&E slide analysis.\n"
   ]
  },
  {
   "cell_type": "code",
   "execution_count": 16,
   "metadata": {},
   "outputs": [
    {
     "name": "stdout",
     "output_type": "stream",
     "text": [
      "2022-04-20 19:42:48,591 - INFO - root - Initalized logger, log file at: data-processing.log\n",
      "2022-04-20 19:42:50,336 - INFO - luna.common.utils - Started CLI Runner wtih <function generate_tiles at 0x7fbef65faf70>\n",
      "2022-04-20 19:42:50,338 - INFO - luna.common.utils - Validating params...\n",
      "2022-04-20 19:42:50,340 - INFO - luna.common.utils -  -> Set input_slide_image (<class 'str'>) = /home/aukermaa/vmount/PRO_12-123/data/toy_data_set/01OV002-bd8cdc70-3d46-40ae-99c4-90ef77.svs\n",
      "2022-04-20 19:42:50,341 - INFO - luna.common.utils -  -> Set output_dir (<class 'str'>) = /home/aukermaa/vmount/PRO_12-123/tiling/test/tiles\n",
      "2022-04-20 19:42:50,342 - INFO - luna.common.utils -  -> Set tile_size (<class 'int'>) = 128\n",
      "2022-04-20 19:42:50,343 - INFO - luna.common.utils -  -> Set requested_magnification (<class 'float'>) = 20.0\n",
      "2022-04-20 19:42:50,346 - INFO - luna.common.utils - Expanding inputs...\n",
      "2022-04-20 19:42:50,347 - INFO - luna.common.utils - Attempting to read metadata at /home/aukermaa/vmount/PRO_12-123/data/toy_data_set/01OV002-bd8cdc70-3d46-40ae-99c4-90ef77.svs/metadata.yml\n",
      "2022-04-20 19:42:50,348 - INFO - luna.common.utils - Full segment key set: {}\n",
      "2022-04-20 19:42:50,349 - INFO - luna.common.utils - ------------------------------------------------------------\n",
      "2022-04-20 19:42:50,349 - INFO - luna.common.utils -  Starting transform::generate_tiles \n",
      "2022-04-20 19:42:50,349 - INFO - luna.common.utils - ------------------------------------------------------------\n",
      "2022-04-20 19:42:50,362 - INFO - generate_tiles - Slide size = [53760,54840]\n",
      "2022-04-20 19:42:50,364 - INFO - generate_tiles - Normalized magnification scale factor for 20.0x is 2.0\n",
      "2022-04-20 19:42:50,365 - INFO - generate_tiles - Requested tile size=128, tile size at full magnficiation=256\n",
      "2022-04-20 19:42:50,366 - INFO - generate_tiles - tiles x 210, tiles y 215\n",
      "2022-04-20 19:42:50,417 - INFO - generate_tiles - Number of tiles in raster: 44304\n",
      "2022-04-20 19:42:50,463 - INFO - generate_tiles -                  x_coord  y_coord  xy_extent  tile_size tile_units\n",
      "2022-04-20 19:42:50,463 - INFO - generate_tiles - address                                                           \n",
      "2022-04-20 19:42:50,463 - INFO - generate_tiles - x1_y1_z20.0          256      256        256        128         px\n",
      "2022-04-20 19:42:50,463 - INFO - generate_tiles - x1_y2_z20.0          256      512        256        128         px\n",
      "2022-04-20 19:42:50,463 - INFO - generate_tiles - x1_y3_z20.0          256      768        256        128         px\n",
      "2022-04-20 19:42:50,463 - INFO - generate_tiles - x1_y4_z20.0          256     1024        256        128         px\n",
      "2022-04-20 19:42:50,463 - INFO - generate_tiles - x1_y5_z20.0          256     1280        256        128         px\n",
      "2022-04-20 19:42:50,463 - INFO - generate_tiles - ...                  ...      ...        ...        ...        ...\n",
      "2022-04-20 19:42:50,463 - INFO - generate_tiles - x208_y209_z20.0    53248    53504        256        128         px\n",
      "2022-04-20 19:42:50,463 - INFO - generate_tiles - x208_y210_z20.0    53248    53760        256        128         px\n",
      "2022-04-20 19:42:50,463 - INFO - generate_tiles - x208_y211_z20.0    53248    54016        256        128         px\n",
      "2022-04-20 19:42:50,463 - INFO - generate_tiles - x208_y212_z20.0    53248    54272        256        128         px\n",
      "2022-04-20 19:42:50,463 - INFO - generate_tiles - x208_y213_z20.0    53248    54528        256        128         px\n",
      "2022-04-20 19:42:50,463 - INFO - generate_tiles - \n",
      "2022-04-20 19:42:50,463 - INFO - generate_tiles - [44304 rows x 5 columns]\n",
      "2022-04-20 19:42:50,532 - INFO - luna.common.utils - Code block 'transform::generate_tiles' took: 0.18157998099923134s\n",
      "2022-04-20 19:42:50,534 - INFO - luna.common.utils - ------------------------------------------------------------\n",
      "2022-04-20 19:42:50,534 - INFO - luna.common.utils -  Done with transform, running post-transform functions... \n",
      "2022-04-20 19:42:50,534 - INFO - luna.common.utils - ------------------------------------------------------------\n",
      "2022-04-20 19:42:50,538 - INFO - luna.common.utils - Done.\n"
     ]
    }
   ],
   "source": [
    "!generate_tiles \\\n",
    "/home/aukermaa/vmount/PRO_12-123/data/toy_data_set/01OV002-bd8cdc70-3d46-40ae-99c4-90ef77.svs \\\n",
    "--tile_size 128 --requested_magnification 20 \\\n",
    "-o /home/aukermaa/vmount/PRO_12-123/tiling/test/tiles\n"
   ]
  },
  {
   "cell_type": "code",
   "execution_count": 17,
   "metadata": {},
   "outputs": [
    {
     "name": "stdout",
     "output_type": "stream",
     "text": [
      "2022-04-20 19:42:53,281 - INFO - root - Initalized logger, log file at: data-processing.log\n",
      "2022-04-20 19:42:53,282 - INFO - luna.common.utils - Started CLI Runner wtih <function generate_tile_labels at 0x7ff0d14889d0>\n",
      "2022-04-20 19:42:53,284 - INFO - luna.common.utils - Validating params...\n",
      "2022-04-20 19:42:53,285 - INFO - luna.common.utils -  -> Set input_slide_annotation_dataset (<class 'str'>) = ../PRO_12-123/data/toy_data_set/table/ANNOTATIONS\n",
      "2022-04-20 19:42:53,287 - INFO - luna.common.utils -  -> Set input_slide_tiles (<class 'str'>) = /home/aukermaa/vmount/PRO_12-123/tiling/test/tiles\n",
      "2022-04-20 19:42:53,288 - INFO - luna.common.utils -  -> Set output_dir (<class 'str'>) = /home/aukermaa/vmount/PRO_12-123/tiling/test/label\n",
      "2022-04-20 19:42:53,290 - INFO - luna.common.utils - Expanding inputs...\n",
      "2022-04-20 19:42:53,291 - INFO - luna.common.utils - Attempting to read metadata at ../PRO_12-123/data/toy_data_set/table/ANNOTATIONS/metadata.yml\n",
      "2022-04-20 19:42:53,295 - INFO - luna.common.utils - Expanded input:\n",
      "2022-04-20 19:42:53,295 - INFO - luna.common.utils -  -> ../PRO_12-123/data/toy_data_set/table/ANNOTATIONS\n",
      "2022-04-20 19:42:53,295 - INFO - luna.common.utils -  -> ../PRO_12-123/data/toy_data_set/table/ANNOTATIONS/slide_annotation_dataset_TCGA collection_ov_regional.parquet\n",
      "2022-04-20 19:42:53,296 - INFO - luna.common.utils - Found segment keys: {'dsa_collection_uuid': '62604ad0b42dbd234598879a'}\n",
      "2022-04-20 19:42:53,298 - INFO - luna.common.utils - Attempting to read metadata at /home/aukermaa/vmount/PRO_12-123/tiling/test/tiles/metadata.yml\n",
      "2022-04-20 19:42:53,302 - INFO - luna.common.utils - Expanded input:\n",
      "2022-04-20 19:42:53,302 - INFO - luna.common.utils -  -> /home/aukermaa/vmount/PRO_12-123/tiling/test/tiles\n",
      "2022-04-20 19:42:53,302 - INFO - luna.common.utils -  -> /home/aukermaa/vmount/PRO_12-123/tiling/test/tiles/01OV002-bd8cdc70-3d46-40ae-99c4-90ef77.tiles.parquet\n",
      "2022-04-20 19:42:53,303 - INFO - luna.common.utils - Found segment keys: {'slide_id': '01OV002-bd8cdc70-3d46-40ae-99c4-90ef77'}\n",
      "2022-04-20 19:42:53,304 - INFO - luna.common.utils - Full segment key set: {'dsa_collection_uuid': '62604ad0b42dbd234598879a', 'slide_id': '01OV002-bd8cdc70-3d46-40ae-99c4-90ef77'}\n",
      "2022-04-20 19:42:53,305 - INFO - luna.common.utils - ------------------------------------------------------------\n",
      "2022-04-20 19:42:53,305 - INFO - luna.common.utils -  Starting transform::generate_tile_labels \n",
      "2022-04-20 19:42:53,305 - INFO - luna.common.utils - ------------------------------------------------------------\n",
      "2022-04-20 19:42:53,306 - INFO - generate_tile_labels - slide_id=01OV002-bd8cdc70-3d46-40ae-99c4-90ef77\n",
      "../PRO_12-123/data/toy_data_set/table/ANNOTATIONS/01OV002-bd8cdc70-3d46-40ae-99c4-90ef77.annotation.geojson TCGA collection ov_regional\n",
      "100%|███████████████████████████████████| 44304/44304 [00:07<00:00, 5898.90it/s]\n",
      "2022-04-20 19:43:00,923 - INFO - generate_tile_labels -                  x_coord  y_coord  ...  regional_label  intersection_area\n",
      "2022-04-20 19:43:00,923 - INFO - generate_tile_labels - address                            ...                                   \n",
      "2022-04-20 19:43:00,923 - INFO - generate_tile_labels - x52_y114_z20.0     13312    29184  ...          stroma           0.055345\n",
      "2022-04-20 19:43:00,923 - INFO - generate_tile_labels - x53_y113_z20.0     13568    28928  ...          stroma           0.212376\n",
      "2022-04-20 19:43:00,923 - INFO - generate_tile_labels - x53_y114_z20.0     13568    29184  ...          stroma           0.965976\n",
      "2022-04-20 19:43:00,923 - INFO - generate_tile_labels - x53_y115_z20.0     13568    29440  ...          stroma           0.344496\n",
      "2022-04-20 19:43:00,923 - INFO - generate_tile_labels - x54_y112_z20.0     13824    28672  ...          stroma           0.061422\n",
      "2022-04-20 19:43:00,923 - INFO - generate_tile_labels - ...                  ...      ...  ...             ...                ...\n",
      "2022-04-20 19:43:00,923 - INFO - generate_tile_labels - x131_y146_z20.0    33536    37376  ...           tumor           0.166847\n",
      "2022-04-20 19:43:00,923 - INFO - generate_tile_labels - x131_y147_z20.0    33536    37632  ...           tumor           0.096977\n",
      "2022-04-20 19:43:00,923 - INFO - generate_tile_labels - x132_y140_z20.0    33792    35840  ...           tumor           0.245755\n",
      "2022-04-20 19:43:00,923 - INFO - generate_tile_labels - x132_y141_z20.0    33792    36096  ...           tumor           0.504036\n",
      "2022-04-20 19:43:00,923 - INFO - generate_tile_labels - x132_y142_z20.0    33792    36352  ...           tumor           0.250175\n",
      "2022-04-20 19:43:00,923 - INFO - generate_tile_labels - \n",
      "2022-04-20 19:43:00,923 - INFO - generate_tile_labels - [666 rows x 7 columns]\n",
      "2022-04-20 19:43:00,983 - INFO - luna.common.utils - Code block 'transform::generate_tile_labels' took: 7.676592480391264s\n",
      "2022-04-20 19:43:01,010 - INFO - luna.common.utils - ------------------------------------------------------------\n",
      "2022-04-20 19:43:01,010 - INFO - luna.common.utils -  Done with transform, running post-transform functions... \n",
      "2022-04-20 19:43:01,010 - INFO - luna.common.utils - ------------------------------------------------------------\n",
      "2022-04-20 19:43:01,016 - INFO - luna.common.utils - Done.\n"
     ]
    }
   ],
   "source": [
    "!label_tiles \\\n",
    "../PRO_12-123/data/toy_data_set/table/ANNOTATIONS /home/aukermaa/vmount/PRO_12-123/tiling/test/tiles \\\n",
    "-o /home/aukermaa/vmount/PRO_12-123/tiling/test/label"
   ]
  },
  {
   "cell_type": "code",
   "execution_count": 19,
   "metadata": {},
   "outputs": [
    {
     "name": "stdout",
     "output_type": "stream",
     "text": [
      "2022-04-20 19:43:08,648 - INFO - root - Initalized logger, log file at: data-processing.log\n",
      "2022-04-20 19:43:10,411 - INFO - luna.common.utils - Started CLI Runner wtih <function save_tiles at 0x7f0302a27af0>\n",
      "2022-04-20 19:43:10,413 - INFO - luna.common.utils - Validating params...\n",
      "2022-04-20 19:43:10,414 - INFO - luna.common.utils -  -> Set input_slide_image (<class 'str'>) = /home/aukermaa/vmount/PRO_12-123/data/toy_data_set/01OV002-bd8cdc70-3d46-40ae-99c4-90ef77.svs\n",
      "2022-04-20 19:43:10,416 - INFO - luna.common.utils -  -> Set input_slide_tiles (<class 'str'>) = /home/aukermaa/vmount/PRO_12-123/tiling/test/tiles\n",
      "2022-04-20 19:43:10,417 - INFO - luna.common.utils -  -> Set output_dir (<class 'str'>) = /home/aukermaa/vmount/PRO_12-123/tiling/test/saved_tiles\n",
      "2022-04-20 19:43:10,419 - INFO - luna.common.utils -  -> Set num_cores (<class 'int'>) = 16\n",
      "2022-04-20 19:43:10,420 - INFO - luna.common.utils -  -> Set batch_size (<class 'int'>) = 200\n",
      "2022-04-20 19:43:10,423 - INFO - luna.common.utils - Expanding inputs...\n",
      "2022-04-20 19:43:10,425 - INFO - luna.common.utils - Attempting to read metadata at /home/aukermaa/vmount/PRO_12-123/data/toy_data_set/01OV002-bd8cdc70-3d46-40ae-99c4-90ef77.svs/metadata.yml\n",
      "2022-04-20 19:43:10,426 - INFO - luna.common.utils - Attempting to read metadata at /home/aukermaa/vmount/PRO_12-123/tiling/test/tiles/metadata.yml\n",
      "2022-04-20 19:43:10,430 - INFO - luna.common.utils - Expanded input:\n",
      "2022-04-20 19:43:10,430 - INFO - luna.common.utils -  -> /home/aukermaa/vmount/PRO_12-123/tiling/test/tiles\n",
      "2022-04-20 19:43:10,430 - INFO - luna.common.utils -  -> /home/aukermaa/vmount/PRO_12-123/tiling/test/tiles/01OV002-bd8cdc70-3d46-40ae-99c4-90ef77.tiles.parquet\n",
      "2022-04-20 19:43:10,431 - INFO - luna.common.utils - Found segment keys: {'slide_id': '01OV002-bd8cdc70-3d46-40ae-99c4-90ef77'}\n",
      "2022-04-20 19:43:10,433 - INFO - luna.common.utils - Full segment key set: {'slide_id': '01OV002-bd8cdc70-3d46-40ae-99c4-90ef77'}\n",
      "2022-04-20 19:43:10,435 - INFO - luna.common.utils - ------------------------------------------------------------\n",
      "2022-04-20 19:43:10,435 - INFO - luna.common.utils -  Starting transform::save_tiles \n",
      "2022-04-20 19:43:10,435 - INFO - luna.common.utils - ------------------------------------------------------------\n",
      "2022-04-20 19:43:10,489 - INFO - generate_tiles - Now generating tiles with num_cores=16 and batch_size=200!\n",
      "2022-04-20 19:43:10,491 - WARNING - generate_tiles - /home/aukermaa/vmount/PRO_12-123/tiling/test/saved_tiles/01OV002-bd8cdc70-3d46-40ae-99c4-90ef77.tiles.h5 already exists, deleting the file..\n",
      "100%|█████████████████████████████████████████| 222/222 [00:15<00:00, 14.40it/s]\n",
      "2022-04-20 19:43:29,122 - INFO - generate_tiles -                  x_coord  ...                                         tile_store\n",
      "2022-04-20 19:43:29,122 - INFO - generate_tiles - address                   ...                                                   \n",
      "2022-04-20 19:43:29,122 - INFO - generate_tiles - x1_y1_z20.0          256  ...  /home/aukermaa/vmount/PRO_12-123/tiling/test/s...\n",
      "2022-04-20 19:43:29,122 - INFO - generate_tiles - x1_y2_z20.0          256  ...  /home/aukermaa/vmount/PRO_12-123/tiling/test/s...\n",
      "2022-04-20 19:43:29,122 - INFO - generate_tiles - x1_y3_z20.0          256  ...  /home/aukermaa/vmount/PRO_12-123/tiling/test/s...\n",
      "2022-04-20 19:43:29,122 - INFO - generate_tiles - x1_y4_z20.0          256  ...  /home/aukermaa/vmount/PRO_12-123/tiling/test/s...\n",
      "2022-04-20 19:43:29,122 - INFO - generate_tiles - x1_y5_z20.0          256  ...  /home/aukermaa/vmount/PRO_12-123/tiling/test/s...\n",
      "2022-04-20 19:43:29,122 - INFO - generate_tiles - ...                  ...  ...                                                ...\n",
      "2022-04-20 19:43:29,122 - INFO - generate_tiles - x208_y209_z20.0    53248  ...  /home/aukermaa/vmount/PRO_12-123/tiling/test/s...\n",
      "2022-04-20 19:43:29,122 - INFO - generate_tiles - x208_y210_z20.0    53248  ...  /home/aukermaa/vmount/PRO_12-123/tiling/test/s...\n",
      "2022-04-20 19:43:29,122 - INFO - generate_tiles - x208_y211_z20.0    53248  ...  /home/aukermaa/vmount/PRO_12-123/tiling/test/s...\n",
      "2022-04-20 19:43:29,122 - INFO - generate_tiles - x208_y212_z20.0    53248  ...  /home/aukermaa/vmount/PRO_12-123/tiling/test/s...\n",
      "2022-04-20 19:43:29,122 - INFO - generate_tiles - x208_y213_z20.0    53248  ...  /home/aukermaa/vmount/PRO_12-123/tiling/test/s...\n",
      "2022-04-20 19:43:29,122 - INFO - generate_tiles - \n",
      "2022-04-20 19:43:29,122 - INFO - generate_tiles - [44304 rows x 6 columns]\n",
      "2022-04-20 19:43:29,269 - INFO - luna.common.utils - Code block 'transform::save_tiles' took: 18.83252378180623s\n",
      "2022-04-20 19:43:29,271 - INFO - luna.common.utils - ------------------------------------------------------------\n",
      "2022-04-20 19:43:29,271 - INFO - luna.common.utils -  Done with transform, running post-transform functions... \n",
      "2022-04-20 19:43:29,271 - INFO - luna.common.utils - ------------------------------------------------------------\n",
      "2022-04-20 19:43:29,276 - INFO - luna.common.utils - Adding feature segment /home/aukermaa/vmount/PRO_12-123/tiling/test/saved_tiles/01OV002-bd8cdc70-3d46-40ae-99c4-90ef77.tiles.parquet to PRO_TILES\n",
      "2022-04-20 19:43:29,277 - INFO - luna.common.utils - Found dataset URL = file:///home/aukermaa/vmount/PRO_12-123/tables\n",
      "2022-04-20 19:43:29,278 - INFO - luna.common.utils - Adding /home/aukermaa/vmount/PRO_12-123/tiling/test/saved_tiles/01OV002-bd8cdc70-3d46-40ae-99c4-90ef77.tiles.parquet to PRO_TILES via file:///home/aukermaa/vmount/PRO_12-123/tables\n",
      "2022-04-20 19:43:29,279 - INFO - luna.common.utils - SEGMENT_ID=01OV002-bd8cdc70-3d46-40ae-99c4-90ef77\n",
      "2022-04-20 19:43:29,280 - INFO - luna.common.utils - Writing to: /home/aukermaa/vmount/PRO_12-123/tables/datasets/PRO_TILES/segments/01OV002-bd8cdc70-3d46-40ae-99c4-90ef77\n",
      "2022-04-20 19:43:29,289 - INFO - luna.common.utils - Done.\n"
     ]
    }
   ],
   "source": [
    "!save_tiles \\\n",
    "/home/aukermaa/vmount/PRO_12-123/data/toy_data_set/01OV002-bd8cdc70-3d46-40ae-99c4-90ef77.svs \\\n",
    "/home/aukermaa/vmount/PRO_12-123/tiling/test/tiles \\\n",
    "--num_cores 16 --batch_size 200 --dataset_id PRO_TILES \\\n",
    "-o /home/aukermaa/vmount/PRO_12-123/tiling/test/saved_tiles"
   ]
  },
  {
   "cell_type": "code",
   "execution_count": 66,
   "metadata": {
    "scrolled": false
   },
   "outputs": [],
   "source": [
    "from pathlib import Path\n",
    "import subprocess\n",
    "import os\n",
    "\n",
    "class CLIShepard:\n",
    "    def __init__(self, base_dir, uuid):\n",
    "        self.base_dir = Path(base_dir).expanduser()\n",
    "        self.uuid = uuid\n",
    "        self.cli_steps = {}\n",
    "    def run(self, cli_resource, *args, **kwargs):\n",
    "        \n",
    "        cli_name, cli_step = cli_resource.split('::')\n",
    "        \n",
    "        output_dir = os.path.join(self.base_dir, self.uuid, cli_step)\n",
    "\n",
    "        if cli_name == 'bootstrap':\n",
    "            self.cli_steps[cli_step] = Path(args[0]).expanduser()\n",
    "            return None\n",
    "        \n",
    "        cli_call = [cli_name]\n",
    "        for arg in args: \n",
    "            if arg in self.cli_steps.keys():\n",
    "                cli_call.append(self.cli_steps[arg])\n",
    "            else:\n",
    "                cli_call.append(Path(arg).expanduser())\n",
    "            \n",
    "        for key, value in kwargs.items(): \n",
    "            cli_call.append(f\"--{key}\")\n",
    "            cli_call.append(f\"{value}\")\n",
    "            \n",
    "        cli_call.append(\"-o\")\n",
    "        cli_call.append(output_dir)\n",
    "        \n",
    "        print (\" \".join(f\"{x}\" for x in cli_call))\n",
    "        \n",
    "        subprocess.Popen(cli_call).communicate()\n",
    "        \n",
    "        self.cli_steps[cli_step] = output_dir\n",
    "\n",
    "         \n",
    "            \n",
    "def pipeline (slide_id, input_slide, input_annotations):\n",
    "    shepard = CLIShepard(\"~/vmount/PRO_12-123/tiling\", slide_id)\n",
    "\n",
    "    shepard.run(\n",
    "        \"bootstrap::slide\", \n",
    "        input_slide, \n",
    "    )\n",
    "\n",
    "    shepard.run(\n",
    "        \"bootstrap::annotations\", \n",
    "        input_annotations, \n",
    "    )\n",
    "\n",
    "\n",
    "    shepard.run(\n",
    "        \"generate_tiles::tiles\", \"slide\", \n",
    "        tile_size=128, \n",
    "        requested_magnification=20\n",
    "    )\n",
    "\n",
    "    shepard.run(\n",
    "        \"label_tiles::labels\", \"annotations\", \"tiles\",\n",
    "    )\n",
    "\n",
    "    shepard.run(\n",
    "        \"save_tiles::saved_tiles\", \"slide\", \"labels\",\n",
    "        num_cores=16, batch_size=200, dataset_id='PRO_TILES'\n",
    "    )"
   ]
  },
  {
   "cell_type": "code",
   "execution_count": 67,
   "metadata": {
    "scrolled": true
   },
   "outputs": [
    {
     "name": "stdout",
     "output_type": "stream",
     "text": [
      "generate_tiles ../PRO_12-123/data/toy_data_set/01OV002-bd8cdc70-3d46-40ae-99c4-90ef77.svs --tile_size 128 --requested_magnification 20 -o /home/aukermaa/vmount/PRO_12-123/tiling/01OV002-bd8cdc70-3d46-40ae-99c4-90ef77/tiles\n",
      "generate_tiles ../PRO_12-123/data/toy_data_set/01OV002-ed65cf94-8bc6-492b-9149-adc16f.svs --tile_size 128 --requested_magnification 20 -o /home/aukermaa/vmount/PRO_12-123/tiling/01OV002-ed65cf94-8bc6-492b-9149-adc16f/tiles\n",
      "generate_tiles ../PRO_12-123/data/toy_data_set/01OV007-9b90eb78-2f50-4aeb-b010-d642f9.svs --tile_size 128 --requested_magnification 20 -o /home/aukermaa/vmount/PRO_12-123/tiling/01OV007-9b90eb78-2f50-4aeb-b010-d642f9/tiles\n",
      "generate_tiles ../PRO_12-123/data/toy_data_set/01OV008-308ad404-7079-4ff8-8232-12ee2e.svs --tile_size 128 --requested_magnification 20 -o /home/aukermaa/vmount/PRO_12-123/tiling/01OV008-308ad404-7079-4ff8-8232-12ee2e/tiles\n",
      "generate_tiles ../PRO_12-123/data/toy_data_set/01OV008-7579323e-2fae-43a9-b00f-a15c28.svs --tile_size 128 --requested_magnification 20 -o /home/aukermaa/vmount/PRO_12-123/tiling/01OV008-7579323e-2fae-43a9-b00f-a15c28/tiles\n"
     ]
    },
    {
     "name": "stderr",
     "output_type": "stream",
     "text": [
      "2022-04-20 20:19:49,748 - INFO - root - Initalized logger, log file at: data-processing.log\n",
      "2022-04-20 20:19:49,766 - INFO - root - Initalized logger, log file at: data-processing.log\n",
      "2022-04-20 20:19:49,814 - INFO - root - Initalized logger, log file at: data-processing.log\n",
      "2022-04-20 20:19:49,835 - INFO - root - Initalized logger, log file at: data-processing.log\n",
      "2022-04-20 20:19:50,022 - INFO - root - Initalized logger, log file at: data-processing.log\n",
      "2022-04-20 20:19:51,808 - INFO - luna.common.utils - Started CLI Runner wtih <function generate_tiles at 0x7f67f7220f70>\n",
      "2022-04-20 20:19:51,809 - INFO - luna.common.utils - Validating params...\n",
      "2022-04-20 20:19:51,810 - INFO - luna.common.utils -  -> Set input_slide_image (<class 'str'>) = ../PRO_12-123/data/toy_data_set/01OV002-bd8cdc70-3d46-40ae-99c4-90ef77.svs\n",
      "2022-04-20 20:19:51,811 - INFO - luna.common.utils -  -> Set output_dir (<class 'str'>) = /home/aukermaa/vmount/PRO_12-123/tiling/01OV002-bd8cdc70-3d46-40ae-99c4-90ef77/tiles\n",
      "2022-04-20 20:19:51,812 - INFO - luna.common.utils -  -> Set tile_size (<class 'int'>) = 128\n",
      "2022-04-20 20:19:51,813 - INFO - luna.common.utils -  -> Set requested_magnification (<class 'float'>) = 20.0\n",
      "2022-04-20 20:19:51,815 - INFO - luna.common.utils - Expanding inputs...\n",
      "2022-04-20 20:19:51,817 - INFO - luna.common.utils - Attempting to read metadata at ../PRO_12-123/data/toy_data_set/01OV002-bd8cdc70-3d46-40ae-99c4-90ef77.svs/metadata.yml\n",
      "2022-04-20 20:19:51,819 - INFO - luna.common.utils - Full segment key set: {}\n",
      "2022-04-20 20:19:51,820 - INFO - luna.common.utils - ------------------------------------------------------------\n",
      "2022-04-20 20:19:51,820 - INFO - luna.common.utils -  Starting transform::generate_tiles \n",
      "2022-04-20 20:19:51,820 - INFO - luna.common.utils - ------------------------------------------------------------\n",
      "2022-04-20 20:19:51,835 - INFO - generate_tiles - Slide size = [53760,54840]\n",
      "2022-04-20 20:19:51,837 - INFO - generate_tiles - Normalized magnification scale factor for 20.0x is 2.0\n",
      "2022-04-20 20:19:51,838 - INFO - generate_tiles - Requested tile size=128, tile size at full magnficiation=256\n",
      "2022-04-20 20:19:51,839 - INFO - generate_tiles - tiles x 210, tiles y 215\n",
      "2022-04-20 20:19:51,860 - INFO - luna.common.utils - Started CLI Runner wtih <function generate_tiles at 0x7f387377ff70>\n",
      "2022-04-20 20:19:51,861 - INFO - luna.common.utils - Validating params...\n",
      "2022-04-20 20:19:51,862 - INFO - luna.common.utils -  -> Set input_slide_image (<class 'str'>) = ../PRO_12-123/data/toy_data_set/01OV007-9b90eb78-2f50-4aeb-b010-d642f9.svs\n",
      "2022-04-20 20:19:51,863 - INFO - luna.common.utils -  -> Set output_dir (<class 'str'>) = /home/aukermaa/vmount/PRO_12-123/tiling/01OV007-9b90eb78-2f50-4aeb-b010-d642f9/tiles\n",
      "2022-04-20 20:19:51,864 - INFO - luna.common.utils -  -> Set tile_size (<class 'int'>) = 128\n",
      "2022-04-20 20:19:51,865 - INFO - luna.common.utils -  -> Set requested_magnification (<class 'float'>) = 20.0\n",
      "2022-04-20 20:19:51,867 - INFO - luna.common.utils - Expanding inputs...\n",
      "2022-04-20 20:19:51,868 - INFO - luna.common.utils - Attempting to read metadata at ../PRO_12-123/data/toy_data_set/01OV007-9b90eb78-2f50-4aeb-b010-d642f9.svs/metadata.yml\n",
      "2022-04-20 20:19:51,869 - INFO - luna.common.utils - Full segment key set: {}\n",
      "2022-04-20 20:19:51,870 - INFO - luna.common.utils - ------------------------------------------------------------\n",
      "2022-04-20 20:19:51,870 - INFO - luna.common.utils -  Starting transform::generate_tiles \n",
      "2022-04-20 20:19:51,870 - INFO - luna.common.utils - ------------------------------------------------------------\n",
      "2022-04-20 20:19:51,889 - INFO - generate_tiles - Slide size = [109440,60110]\n",
      "2022-04-20 20:19:51,890 - INFO - generate_tiles - Normalized magnification scale factor for 20.0x is 2.0\n",
      "2022-04-20 20:19:51,891 - INFO - generate_tiles - Requested tile size=128, tile size at full magnficiation=256\n",
      "2022-04-20 20:19:51,892 - INFO - generate_tiles - tiles x 428, tiles y 235\n",
      "2022-04-20 20:19:51,895 - INFO - generate_tiles - Number of tiles in raster: 44304\n",
      "2022-04-20 20:19:51,937 - INFO - luna.common.utils - Started CLI Runner wtih <function generate_tiles at 0x7f0282df9f70>\n",
      "2022-04-20 20:19:51,938 - INFO - luna.common.utils - Validating params...\n",
      "2022-04-20 20:19:51,939 - INFO - luna.common.utils -  -> Set input_slide_image (<class 'str'>) = ../PRO_12-123/data/toy_data_set/01OV002-ed65cf94-8bc6-492b-9149-adc16f.svs\n",
      "2022-04-20 20:19:51,940 - INFO - luna.common.utils -  -> Set output_dir (<class 'str'>) = /home/aukermaa/vmount/PRO_12-123/tiling/01OV002-ed65cf94-8bc6-492b-9149-adc16f/tiles\n",
      "2022-04-20 20:19:51,941 - INFO - luna.common.utils -  -> Set tile_size (<class 'int'>) = 128\n",
      "2022-04-20 20:19:51,942 - INFO - luna.common.utils -  -> Set requested_magnification (<class 'float'>) = 20.0\n",
      "2022-04-20 20:19:51,944 - INFO - luna.common.utils - Expanding inputs...\n",
      "2022-04-20 20:19:51,945 - INFO - luna.common.utils - Attempting to read metadata at ../PRO_12-123/data/toy_data_set/01OV002-ed65cf94-8bc6-492b-9149-adc16f.svs/metadata.yml\n",
      "2022-04-20 20:19:51,946 - INFO - luna.common.utils - Full segment key set: {}\n",
      "2022-04-20 20:19:51,947 - INFO - luna.common.utils - ------------------------------------------------------------\n",
      "2022-04-20 20:19:51,947 - INFO - luna.common.utils -  Starting transform::generate_tiles \n",
      "2022-04-20 20:19:51,947 - INFO - luna.common.utils - ------------------------------------------------------------\n",
      "2022-04-20 20:19:51,950 - INFO - generate_tiles -                  x_coord  y_coord  xy_extent  tile_size tile_units\n",
      "2022-04-20 20:19:51,950 - INFO - generate_tiles - address                                                           \n",
      "2022-04-20 20:19:51,950 - INFO - generate_tiles - x1_y1_z20.0          256      256        256        128         px\n",
      "2022-04-20 20:19:51,950 - INFO - generate_tiles - x1_y2_z20.0          256      512        256        128         px\n",
      "2022-04-20 20:19:51,950 - INFO - generate_tiles - x1_y3_z20.0          256      768        256        128         px\n",
      "2022-04-20 20:19:51,950 - INFO - generate_tiles - x1_y4_z20.0          256     1024        256        128         px\n",
      "2022-04-20 20:19:51,950 - INFO - generate_tiles - x1_y5_z20.0          256     1280        256        128         px\n",
      "2022-04-20 20:19:51,950 - INFO - generate_tiles - ...                  ...      ...        ...        ...        ...\n",
      "2022-04-20 20:19:51,950 - INFO - generate_tiles - x208_y209_z20.0    53248    53504        256        128         px\n",
      "2022-04-20 20:19:51,950 - INFO - generate_tiles - x208_y210_z20.0    53248    53760        256        128         px\n",
      "2022-04-20 20:19:51,950 - INFO - generate_tiles - x208_y211_z20.0    53248    54016        256        128         px\n",
      "2022-04-20 20:19:51,950 - INFO - generate_tiles - x208_y212_z20.0    53248    54272        256        128         px\n",
      "2022-04-20 20:19:51,950 - INFO - generate_tiles - x208_y213_z20.0    53248    54528        256        128         px\n",
      "2022-04-20 20:19:51,950 - INFO - generate_tiles - \n",
      "2022-04-20 20:19:51,950 - INFO - generate_tiles - [44304 rows x 5 columns]\n",
      "2022-04-20 20:19:51,961 - INFO - generate_tiles - Slide size = [50880,49787]\n",
      "2022-04-20 20:19:51,986 - INFO - luna.common.utils - Started CLI Runner wtih <function generate_tiles at 0x7faa85127f70>\n",
      "2022-04-20 20:19:51,987 - INFO - luna.common.utils - Validating params...\n",
      "2022-04-20 20:19:51,987 - INFO - generate_tiles - Normalized magnification scale factor for 20.0x is 2.0\n",
      "2022-04-20 20:19:51,988 - INFO - generate_tiles - Requested tile size=128, tile size at full magnficiation=256\n",
      "2022-04-20 20:19:51,988 - INFO - luna.common.utils -  -> Set input_slide_image (<class 'str'>) = ../PRO_12-123/data/toy_data_set/01OV008-308ad404-7079-4ff8-8232-12ee2e.svs\n",
      "2022-04-20 20:19:51,990 - INFO - luna.common.utils -  -> Set output_dir (<class 'str'>) = /home/aukermaa/vmount/PRO_12-123/tiling/01OV008-308ad404-7079-4ff8-8232-12ee2e/tiles\n",
      "2022-04-20 20:19:51,990 - INFO - generate_tiles - tiles x 199, tiles y 195\n",
      "2022-04-20 20:19:51,991 - INFO - luna.common.utils -  -> Set tile_size (<class 'int'>) = 128\n",
      "2022-04-20 20:19:51,993 - INFO - luna.common.utils -  -> Set requested_magnification (<class 'float'>) = 20.0\n",
      "2022-04-20 20:19:51,995 - INFO - luna.common.utils - Expanding inputs...\n",
      "2022-04-20 20:19:51,996 - INFO - luna.common.utils - Attempting to read metadata at ../PRO_12-123/data/toy_data_set/01OV008-308ad404-7079-4ff8-8232-12ee2e.svs/metadata.yml\n",
      "2022-04-20 20:19:51,998 - INFO - luna.common.utils - Full segment key set: {}\n",
      "2022-04-20 20:19:51,999 - INFO - luna.common.utils - ------------------------------------------------------------\n",
      "2022-04-20 20:19:51,999 - INFO - luna.common.utils -  Starting transform::generate_tiles \n",
      "2022-04-20 20:19:51,999 - INFO - luna.common.utils - ------------------------------------------------------------\n"
     ]
    },
    {
     "name": "stderr",
     "output_type": "stream",
     "text": [
      "2022-04-20 20:19:52,016 - INFO - generate_tiles - Number of tiles in raster: 99258\n",
      "2022-04-20 20:19:52,022 - INFO - generate_tiles - Slide size = [52800,38628]\n",
      "2022-04-20 20:19:52,023 - INFO - luna.common.utils - Code block 'transform::generate_tiles' took: 0.20122752338647842s\n",
      "2022-04-20 20:19:52,024 - INFO - generate_tiles - Normalized magnification scale factor for 20.0x is 2.0\n",
      "2022-04-20 20:19:52,025 - INFO - generate_tiles - Requested tile size=128, tile size at full magnficiation=256\n",
      "2022-04-20 20:19:52,025 - INFO - luna.common.utils - ------------------------------------------------------------\n",
      "2022-04-20 20:19:52,025 - INFO - luna.common.utils -  Done with transform, running post-transform functions... \n",
      "2022-04-20 20:19:52,025 - INFO - luna.common.utils - ------------------------------------------------------------\n",
      "2022-04-20 20:19:52,026 - INFO - generate_tiles - tiles x 207, tiles y 151\n",
      "2022-04-20 20:19:52,030 - INFO - luna.common.utils - Done.\n",
      "2022-04-20 20:19:52,038 - INFO - generate_tiles - Number of tiles in raster: 38021\n",
      "2022-04-20 20:19:52,067 - INFO - generate_tiles - Number of tiles in raster: 30545\n",
      "2022-04-20 20:19:52,085 - INFO - generate_tiles -                  x_coord  y_coord  xy_extent  tile_size tile_units\n",
      "2022-04-20 20:19:52,085 - INFO - generate_tiles - address                                                           \n",
      "2022-04-20 20:19:52,085 - INFO - generate_tiles - x1_y1_z20.0          256      256        256        128         px\n",
      "2022-04-20 20:19:52,085 - INFO - generate_tiles - x1_y2_z20.0          256      512        256        128         px\n",
      "2022-04-20 20:19:52,085 - INFO - generate_tiles - x1_y3_z20.0          256      768        256        128         px\n",
      "2022-04-20 20:19:52,085 - INFO - generate_tiles - x1_y4_z20.0          256     1024        256        128         px\n",
      "2022-04-20 20:19:52,085 - INFO - generate_tiles - x1_y5_z20.0          256     1280        256        128         px\n",
      "2022-04-20 20:19:52,085 - INFO - generate_tiles - ...                  ...      ...        ...        ...        ...\n",
      "2022-04-20 20:19:52,085 - INFO - generate_tiles - x197_y189_z20.0    50432    48384        256        128         px\n",
      "2022-04-20 20:19:52,085 - INFO - generate_tiles - x197_y190_z20.0    50432    48640        256        128         px\n",
      "2022-04-20 20:19:52,085 - INFO - generate_tiles - x197_y191_z20.0    50432    48896        256        128         px\n",
      "2022-04-20 20:19:52,085 - INFO - generate_tiles - x197_y192_z20.0    50432    49152        256        128         px\n",
      "2022-04-20 20:19:52,085 - INFO - generate_tiles - x197_y193_z20.0    50432    49408        256        128         px\n",
      "2022-04-20 20:19:52,085 - INFO - generate_tiles - \n",
      "2022-04-20 20:19:52,085 - INFO - generate_tiles - [38021 rows x 5 columns]\n",
      "2022-04-20 20:19:52,113 - INFO - luna.common.utils - Started CLI Runner wtih <function generate_tiles at 0x7f57bef26f70>\n",
      "2022-04-20 20:19:52,115 - INFO - luna.common.utils - Validating params...\n",
      "2022-04-20 20:19:52,116 - INFO - luna.common.utils -  -> Set input_slide_image (<class 'str'>) = ../PRO_12-123/data/toy_data_set/01OV008-7579323e-2fae-43a9-b00f-a15c28.svs\n",
      "2022-04-20 20:19:52,117 - INFO - luna.common.utils -  -> Set output_dir (<class 'str'>) = /home/aukermaa/vmount/PRO_12-123/tiling/01OV008-7579323e-2fae-43a9-b00f-a15c28/tiles\n",
      "2022-04-20 20:19:52,109 - INFO - generate_tiles -                  x_coord  y_coord  xy_extent  tile_size tile_units\n",
      "2022-04-20 20:19:52,109 - INFO - generate_tiles - address                                                           \n",
      "2022-04-20 20:19:52,109 - INFO - generate_tiles - x1_y1_z20.0          256      256        256        128         px\n",
      "2022-04-20 20:19:52,109 - INFO - generate_tiles - x1_y2_z20.0          256      512        256        128         px\n",
      "2022-04-20 20:19:52,109 - INFO - generate_tiles - x1_y3_z20.0          256      768        256        128         px\n",
      "2022-04-20 20:19:52,109 - INFO - generate_tiles - x1_y4_z20.0          256     1024        256        128         px\n",
      "2022-04-20 20:19:52,109 - INFO - generate_tiles - x1_y5_z20.0          256     1280        256        128         px\n",
      "2022-04-20 20:19:52,109 - INFO - generate_tiles - ...                  ...      ...        ...        ...        ...\n",
      "2022-04-20 20:19:52,109 - INFO - generate_tiles - x205_y145_z20.0    52480    37120        256        128         px\n",
      "2022-04-20 20:19:52,109 - INFO - generate_tiles - x205_y146_z20.0    52480    37376        256        128         px\n",
      "2022-04-20 20:19:52,109 - INFO - generate_tiles - x205_y147_z20.0    52480    37632        256        128         px\n",
      "2022-04-20 20:19:52,109 - INFO - generate_tiles - x205_y148_z20.0    52480    37888        256        128         px\n",
      "2022-04-20 20:19:52,109 - INFO - generate_tiles - x205_y149_z20.0    52480    38144        256        128         px\n",
      "2022-04-20 20:19:52,109 - INFO - generate_tiles - \n",
      "2022-04-20 20:19:52,109 - INFO - generate_tiles - [30545 rows x 5 columns]\n",
      "2022-04-20 20:19:52,118 - INFO - luna.common.utils -  -> Set tile_size (<class 'int'>) = 128\n",
      "2022-04-20 20:19:52,119 - INFO - luna.common.utils -  -> Set requested_magnification (<class 'float'>) = 20.0\n",
      "2022-04-20 20:19:52,122 - INFO - luna.common.utils - Expanding inputs...\n",
      "2022-04-20 20:19:52,123 - INFO - luna.common.utils - Attempting to read metadata at ../PRO_12-123/data/toy_data_set/01OV008-7579323e-2fae-43a9-b00f-a15c28.svs/metadata.yml\n",
      "2022-04-20 20:19:52,125 - INFO - luna.common.utils - Full segment key set: {}\n",
      "2022-04-20 20:19:52,126 - INFO - luna.common.utils - ------------------------------------------------------------\n",
      "2022-04-20 20:19:52,126 - INFO - luna.common.utils -  Starting transform::generate_tiles \n",
      "2022-04-20 20:19:52,126 - INFO - luna.common.utils - ------------------------------------------------------------\n",
      "2022-04-20 20:19:52,140 - INFO - generate_tiles - Slide size = [42240,59209]\n",
      "2022-04-20 20:19:52,141 - INFO - generate_tiles - Normalized magnification scale factor for 20.0x is 2.0\n",
      "2022-04-20 20:19:52,143 - INFO - generate_tiles - Requested tile size=128, tile size at full magnficiation=256\n",
      "2022-04-20 20:19:52,144 - INFO - generate_tiles - tiles x 165, tiles y 232\n",
      "2022-04-20 20:19:52,136 - INFO - generate_tiles -                  x_coord  y_coord  xy_extent  tile_size tile_units\n",
      "2022-04-20 20:19:52,136 - INFO - generate_tiles - address                                                           \n",
      "2022-04-20 20:19:52,136 - INFO - generate_tiles - x1_y1_z20.0          256      256        256        128         px\n",
      "2022-04-20 20:19:52,136 - INFO - generate_tiles - x1_y2_z20.0          256      512        256        128         px\n",
      "2022-04-20 20:19:52,136 - INFO - generate_tiles - x1_y3_z20.0          256      768        256        128         px\n",
      "2022-04-20 20:19:52,136 - INFO - generate_tiles - x1_y4_z20.0          256     1024        256        128         px\n",
      "2022-04-20 20:19:52,136 - INFO - generate_tiles - x1_y5_z20.0          256     1280        256        128         px\n",
      "2022-04-20 20:19:52,136 - INFO - generate_tiles - ...                  ...      ...        ...        ...        ...\n",
      "2022-04-20 20:19:52,136 - INFO - generate_tiles - x426_y229_z20.0   109056    58624        256        128         px\n",
      "2022-04-20 20:19:52,136 - INFO - generate_tiles - x426_y230_z20.0   109056    58880        256        128         px\n",
      "2022-04-20 20:19:52,136 - INFO - generate_tiles - x426_y231_z20.0   109056    59136        256        128         px\n",
      "2022-04-20 20:19:52,136 - INFO - generate_tiles - x426_y232_z20.0   109056    59392        256        128         px\n",
      "2022-04-20 20:19:52,136 - INFO - generate_tiles - x426_y233_z20.0   109056    59648        256        128         px\n",
      "2022-04-20 20:19:52,136 - INFO - generate_tiles - \n",
      "2022-04-20 20:19:52,136 - INFO - generate_tiles - [99258 rows x 5 columns]\n",
      "2022-04-20 20:19:52,151 - INFO - luna.common.utils - Code block 'transform::generate_tiles' took: 0.20326532423496246s\n",
      "2022-04-20 20:19:52,152 - INFO - luna.common.utils - ------------------------------------------------------------\n",
      "2022-04-20 20:19:52,152 - INFO - luna.common.utils -  Done with transform, running post-transform functions... \n",
      "2022-04-20 20:19:52,152 - INFO - luna.common.utils - ------------------------------------------------------------\n",
      "2022-04-20 20:19:52,156 - INFO - luna.common.utils - Done.\n",
      "2022-04-20 20:19:52,168 - INFO - luna.common.utils - Code block 'transform::generate_tiles' took: 0.1674172803759575s\n",
      "2022-04-20 20:19:52,168 - INFO - luna.common.utils - ------------------------------------------------------------\n",
      "2022-04-20 20:19:52,168 - INFO - luna.common.utils -  Done with transform, running post-transform functions... \n",
      "2022-04-20 20:19:52,168 - INFO - luna.common.utils - ------------------------------------------------------------\n",
      "2022-04-20 20:19:52,172 - INFO - luna.common.utils - Done.\n",
      "2022-04-20 20:19:52,188 - INFO - generate_tiles - Number of tiles in raster: 37490\n"
     ]
    },
    {
     "name": "stderr",
     "output_type": "stream",
     "text": [
      "2022-04-20 20:19:52,231 - INFO - generate_tiles -                  x_coord  y_coord  xy_extent  tile_size tile_units\n",
      "2022-04-20 20:19:52,231 - INFO - generate_tiles - address                                                           \n",
      "2022-04-20 20:19:52,231 - INFO - generate_tiles - x1_y1_z20.0          256      256        256        128         px\n",
      "2022-04-20 20:19:52,231 - INFO - generate_tiles - x1_y2_z20.0          256      512        256        128         px\n",
      "2022-04-20 20:19:52,231 - INFO - generate_tiles - x1_y3_z20.0          256      768        256        128         px\n",
      "2022-04-20 20:19:52,231 - INFO - generate_tiles - x1_y4_z20.0          256     1024        256        128         px\n",
      "2022-04-20 20:19:52,231 - INFO - generate_tiles - x1_y5_z20.0          256     1280        256        128         px\n",
      "2022-04-20 20:19:52,231 - INFO - generate_tiles - ...                  ...      ...        ...        ...        ...\n",
      "2022-04-20 20:19:52,231 - INFO - generate_tiles - x163_y226_z20.0    41728    57856        256        128         px\n",
      "2022-04-20 20:19:52,231 - INFO - generate_tiles - x163_y227_z20.0    41728    58112        256        128         px\n",
      "2022-04-20 20:19:52,231 - INFO - generate_tiles - x163_y228_z20.0    41728    58368        256        128         px\n",
      "2022-04-20 20:19:52,231 - INFO - generate_tiles - x163_y229_z20.0    41728    58624        256        128         px\n",
      "2022-04-20 20:19:52,231 - INFO - generate_tiles - x163_y230_z20.0    41728    58880        256        128         px\n",
      "2022-04-20 20:19:52,231 - INFO - generate_tiles - \n",
      "2022-04-20 20:19:52,231 - INFO - generate_tiles - [37490 rows x 5 columns]\n",
      "2022-04-20 20:19:52,251 - INFO - luna.common.utils - Code block 'transform::generate_tiles' took: 0.3800363801419735s\n",
      "2022-04-20 20:19:52,253 - INFO - luna.common.utils - ------------------------------------------------------------\n",
      "2022-04-20 20:19:52,253 - INFO - luna.common.utils -  Done with transform, running post-transform functions... \n",
      "2022-04-20 20:19:52,253 - INFO - luna.common.utils - ------------------------------------------------------------\n",
      "2022-04-20 20:19:52,257 - INFO - luna.common.utils - Done.\n",
      "2022-04-20 20:19:52,298 - INFO - luna.common.utils - Code block 'transform::generate_tiles' took: 0.17074079439044s\n",
      "2022-04-20 20:19:52,299 - INFO - luna.common.utils - ------------------------------------------------------------\n",
      "2022-04-20 20:19:52,299 - INFO - luna.common.utils -  Done with transform, running post-transform functions... \n",
      "2022-04-20 20:19:52,299 - INFO - luna.common.utils - ------------------------------------------------------------\n",
      "2022-04-20 20:19:52,303 - INFO - luna.common.utils - Done.\n"
     ]
    },
    {
     "name": "stdout",
     "output_type": "stream",
     "text": [
      "label_tiles ../PRO_12-123/data/toy_data_set/table/ANNOTATIONS /home/aukermaa/vmount/PRO_12-123/tiling/01OV002-bd8cdc70-3d46-40ae-99c4-90ef77/tiles -o /home/aukermaa/vmount/PRO_12-123/tiling/01OV002-bd8cdc70-3d46-40ae-99c4-90ef77/labels\n",
      "label_tiles ../PRO_12-123/data/toy_data_set/table/ANNOTATIONS /home/aukermaa/vmount/PRO_12-123/tiling/01OV008-308ad404-7079-4ff8-8232-12ee2e/tiles -o /home/aukermaa/vmount/PRO_12-123/tiling/01OV008-308ad404-7079-4ff8-8232-12ee2e/labels\n",
      "label_tiles ../PRO_12-123/data/toy_data_set/table/ANNOTATIONS /home/aukermaa/vmount/PRO_12-123/tiling/01OV002-ed65cf94-8bc6-492b-9149-adc16f/tiles -o /home/aukermaa/vmount/PRO_12-123/tiling/01OV002-ed65cf94-8bc6-492b-9149-adc16f/labels\n",
      "label_tiles ../PRO_12-123/data/toy_data_set/table/ANNOTATIONS /home/aukermaa/vmount/PRO_12-123/tiling/01OV007-9b90eb78-2f50-4aeb-b010-d642f9/tiles -o /home/aukermaa/vmount/PRO_12-123/tiling/01OV007-9b90eb78-2f50-4aeb-b010-d642f9/labels\n",
      "label_tiles ../PRO_12-123/data/toy_data_set/table/ANNOTATIONS /home/aukermaa/vmount/PRO_12-123/tiling/01OV008-7579323e-2fae-43a9-b00f-a15c28/tiles -o /home/aukermaa/vmount/PRO_12-123/tiling/01OV008-7579323e-2fae-43a9-b00f-a15c28/labels\n"
     ]
    },
    {
     "name": "stderr",
     "output_type": "stream",
     "text": [
      "2022-04-20 20:19:53,883 - INFO - root - Initalized logger, log file at: data-processing.log\n",
      "2022-04-20 20:19:53,884 - INFO - luna.common.utils - Started CLI Runner wtih <function generate_tile_labels at 0x7f25655c0af0>\n",
      "2022-04-20 20:19:53,895 - INFO - luna.common.utils - Validating params...\n",
      "2022-04-20 20:19:53,896 - INFO - luna.common.utils -  -> Set input_slide_annotation_dataset (<class 'str'>) = ../PRO_12-123/data/toy_data_set/table/ANNOTATIONS\n",
      "2022-04-20 20:19:53,897 - INFO - luna.common.utils -  -> Set input_slide_tiles (<class 'str'>) = /home/aukermaa/vmount/PRO_12-123/tiling/01OV002-bd8cdc70-3d46-40ae-99c4-90ef77/tiles\n",
      "2022-04-20 20:19:53,898 - INFO - luna.common.utils -  -> Set output_dir (<class 'str'>) = /home/aukermaa/vmount/PRO_12-123/tiling/01OV002-bd8cdc70-3d46-40ae-99c4-90ef77/labels\n",
      "2022-04-20 20:19:53,900 - INFO - luna.common.utils - Expanding inputs...\n",
      "2022-04-20 20:19:53,901 - INFO - luna.common.utils - Attempting to read metadata at ../PRO_12-123/data/toy_data_set/table/ANNOTATIONS/metadata.yml\n",
      "2022-04-20 20:19:53,906 - INFO - luna.common.utils - Expanded input:\n",
      "2022-04-20 20:19:53,906 - INFO - luna.common.utils -  -> ../PRO_12-123/data/toy_data_set/table/ANNOTATIONS\n",
      "2022-04-20 20:19:53,906 - INFO - luna.common.utils -  -> ../PRO_12-123/data/toy_data_set/table/ANNOTATIONS/slide_annotation_dataset_TCGA collection_ov_regional.parquet\n",
      "2022-04-20 20:19:53,907 - INFO - luna.common.utils - Found segment keys: {'dsa_collection_uuid': '62604ad0b42dbd234598879a'}\n",
      "2022-04-20 20:19:53,908 - INFO - luna.common.utils - Attempting to read metadata at /home/aukermaa/vmount/PRO_12-123/tiling/01OV002-bd8cdc70-3d46-40ae-99c4-90ef77/tiles/metadata.yml\n",
      "2022-04-20 20:19:53,911 - INFO - luna.common.utils - Expanded input:\n",
      "2022-04-20 20:19:53,911 - INFO - luna.common.utils -  -> /home/aukermaa/vmount/PRO_12-123/tiling/01OV002-bd8cdc70-3d46-40ae-99c4-90ef77/tiles\n",
      "2022-04-20 20:19:53,911 - INFO - luna.common.utils -  -> /home/aukermaa/vmount/PRO_12-123/tiling/01OV002-bd8cdc70-3d46-40ae-99c4-90ef77/tiles/01OV002-bd8cdc70-3d46-40ae-99c4-90ef77.tiles.parquet\n",
      "2022-04-20 20:19:53,912 - INFO - luna.common.utils - Found segment keys: {'slide_id': '01OV002-bd8cdc70-3d46-40ae-99c4-90ef77'}\n",
      "2022-04-20 20:19:53,938 - INFO - luna.common.utils - Full segment key set: {'dsa_collection_uuid': '62604ad0b42dbd234598879a', 'slide_id': '01OV002-bd8cdc70-3d46-40ae-99c4-90ef77'}\n",
      "2022-04-20 20:19:53,939 - INFO - luna.common.utils - ------------------------------------------------------------\n",
      "2022-04-20 20:19:53,939 - INFO - luna.common.utils -  Starting transform::generate_tile_labels \n",
      "2022-04-20 20:19:53,939 - INFO - luna.common.utils - ------------------------------------------------------------\n",
      "2022-04-20 20:19:53,940 - INFO - generate_tile_labels - slide_id=01OV002-bd8cdc70-3d46-40ae-99c4-90ef77\n",
      "\r",
      "  0%|          | 0/44304 [00:00<?, ?it/s]2022-04-20 20:19:54,061 - INFO - root - Initalized logger, log file at: data-processing.log\n",
      "2022-04-20 20:19:54,062 - INFO - luna.common.utils - Started CLI Runner wtih <function generate_tile_labels at 0x7ff13932faf0>\n",
      "2022-04-20 20:19:54,064 - INFO - luna.common.utils - Validating params...\n",
      "2022-04-20 20:19:54,065 - INFO - luna.common.utils -  -> Set input_slide_annotation_dataset (<class 'str'>) = ../PRO_12-123/data/toy_data_set/table/ANNOTATIONS\n",
      "2022-04-20 20:19:54,066 - INFO - luna.common.utils -  -> Set input_slide_tiles (<class 'str'>) = /home/aukermaa/vmount/PRO_12-123/tiling/01OV008-308ad404-7079-4ff8-8232-12ee2e/tiles\n",
      "2022-04-20 20:19:54,068 - INFO - luna.common.utils -  -> Set output_dir (<class 'str'>) = /home/aukermaa/vmount/PRO_12-123/tiling/01OV008-308ad404-7079-4ff8-8232-12ee2e/labels\n",
      "2022-04-20 20:19:54,069 - INFO - luna.common.utils - Expanding inputs...\n",
      "2022-04-20 20:19:54,071 - INFO - luna.common.utils - Attempting to read metadata at ../PRO_12-123/data/toy_data_set/table/ANNOTATIONS/metadata.yml\n",
      "2022-04-20 20:19:54,074 - INFO - luna.common.utils - Expanded input:\n",
      "2022-04-20 20:19:54,074 - INFO - luna.common.utils -  -> ../PRO_12-123/data/toy_data_set/table/ANNOTATIONS\n",
      "2022-04-20 20:19:54,074 - INFO - luna.common.utils -  -> ../PRO_12-123/data/toy_data_set/table/ANNOTATIONS/slide_annotation_dataset_TCGA collection_ov_regional.parquet\n",
      "2022-04-20 20:19:54,075 - INFO - luna.common.utils - Found segment keys: {'dsa_collection_uuid': '62604ad0b42dbd234598879a'}\n",
      "2022-04-20 20:19:54,076 - INFO - root - Initalized logger, log file at: data-processing.log\n",
      "2022-04-20 20:19:54,077 - INFO - luna.common.utils - Attempting to read metadata at /home/aukermaa/vmount/PRO_12-123/tiling/01OV008-308ad404-7079-4ff8-8232-12ee2e/tiles/metadata.yml\n",
      "2022-04-20 20:19:54,079 - INFO - luna.common.utils - Started CLI Runner wtih <function generate_tile_labels at 0x7f65a0fedaf0>\n",
      "2022-04-20 20:19:54,080 - INFO - luna.common.utils - Expanded input:\n",
      "2022-04-20 20:19:54,080 - INFO - luna.common.utils -  -> /home/aukermaa/vmount/PRO_12-123/tiling/01OV008-308ad404-7079-4ff8-8232-12ee2e/tiles\n",
      "2022-04-20 20:19:54,080 - INFO - luna.common.utils -  -> /home/aukermaa/vmount/PRO_12-123/tiling/01OV008-308ad404-7079-4ff8-8232-12ee2e/tiles/01OV008-308ad404-7079-4ff8-8232-12ee2e.tiles.parquet\n",
      "2022-04-20 20:19:54,080 - INFO - luna.common.utils - Validating params...\n",
      "2022-04-20 20:19:54,082 - INFO - luna.common.utils -  -> Set input_slide_annotation_dataset (<class 'str'>) = ../PRO_12-123/data/toy_data_set/table/ANNOTATIONS\n",
      "2022-04-20 20:19:54,082 - INFO - luna.common.utils - Found segment keys: {'slide_id': '01OV008-308ad404-7079-4ff8-8232-12ee2e'}\n",
      "2022-04-20 20:19:54,083 - INFO - luna.common.utils -  -> Set input_slide_tiles (<class 'str'>) = /home/aukermaa/vmount/PRO_12-123/tiling/01OV002-ed65cf94-8bc6-492b-9149-adc16f/tiles\n",
      "2022-04-20 20:19:54,083 - INFO - luna.common.utils - Full segment key set: {'dsa_collection_uuid': '62604ad0b42dbd234598879a', 'slide_id': '01OV008-308ad404-7079-4ff8-8232-12ee2e'}\n"
     ]
    },
    {
     "name": "stdout",
     "output_type": "stream",
     "text": [
      "../PRO_12-123/data/toy_data_set/table/ANNOTATIONS/01OV002-bd8cdc70-3d46-40ae-99c4-90ef77.annotation.geojson TCGA collection ov_regional\n",
      "../PRO_12-123/data/toy_data_set/table/ANNOTATIONS/01OV008-308ad404-7079-4ff8-8232-12ee2e.annotation.geojson TCGA collection ov_regional\n",
      "../PRO_12-123/data/toy_data_set/table/ANNOTATIONS/01OV002-ed65cf94-8bc6-492b-9149-adc16f.annotation.geojson TCGA collection ov_regional\n"
     ]
    },
    {
     "name": "stderr",
     "output_type": "stream",
     "text": [
      "2022-04-20 20:19:54,084 - INFO - luna.common.utils - ------------------------------------------------------------\n",
      "2022-04-20 20:19:54,084 - INFO - luna.common.utils -  Starting transform::generate_tile_labels \n",
      "2022-04-20 20:19:54,084 - INFO - luna.common.utils - ------------------------------------------------------------\n",
      "2022-04-20 20:19:54,084 - INFO - luna.common.utils -  -> Set output_dir (<class 'str'>) = /home/aukermaa/vmount/PRO_12-123/tiling/01OV002-ed65cf94-8bc6-492b-9149-adc16f/labels\n",
      "2022-04-20 20:19:54,086 - INFO - generate_tile_labels - slide_id=01OV008-308ad404-7079-4ff8-8232-12ee2e\n",
      "2022-04-20 20:19:54,087 - INFO - luna.common.utils - Expanding inputs...\n",
      "2022-04-20 20:19:54,088 - INFO - luna.common.utils - Attempting to read metadata at ../PRO_12-123/data/toy_data_set/table/ANNOTATIONS/metadata.yml\n",
      "2022-04-20 20:19:54,091 - INFO - luna.common.utils - Expanded input:\n",
      "2022-04-20 20:19:54,091 - INFO - luna.common.utils -  -> ../PRO_12-123/data/toy_data_set/table/ANNOTATIONS\n",
      "2022-04-20 20:19:54,091 - INFO - luna.common.utils -  -> ../PRO_12-123/data/toy_data_set/table/ANNOTATIONS/slide_annotation_dataset_TCGA collection_ov_regional.parquet\n",
      "2022-04-20 20:19:54,092 - INFO - luna.common.utils - Found segment keys: {'dsa_collection_uuid': '62604ad0b42dbd234598879a'}\n",
      "2022-04-20 20:19:54,093 - INFO - luna.common.utils - Attempting to read metadata at /home/aukermaa/vmount/PRO_12-123/tiling/01OV002-ed65cf94-8bc6-492b-9149-adc16f/tiles/metadata.yml\n",
      "2022-04-20 20:19:54,096 - INFO - luna.common.utils - Expanded input:\n",
      "2022-04-20 20:19:54,096 - INFO - luna.common.utils -  -> /home/aukermaa/vmount/PRO_12-123/tiling/01OV002-ed65cf94-8bc6-492b-9149-adc16f/tiles\n",
      "2022-04-20 20:19:54,096 - INFO - luna.common.utils -  -> /home/aukermaa/vmount/PRO_12-123/tiling/01OV002-ed65cf94-8bc6-492b-9149-adc16f/tiles/01OV002-ed65cf94-8bc6-492b-9149-adc16f.tiles.parquet\n",
      "2022-04-20 20:19:54,098 - INFO - luna.common.utils - Found segment keys: {'slide_id': '01OV002-ed65cf94-8bc6-492b-9149-adc16f'}\n",
      "2022-04-20 20:19:54,099 - INFO - luna.common.utils - Full segment key set: {'dsa_collection_uuid': '62604ad0b42dbd234598879a', 'slide_id': '01OV002-ed65cf94-8bc6-492b-9149-adc16f'}\n",
      "2022-04-20 20:19:54,100 - INFO - luna.common.utils - ------------------------------------------------------------\n",
      "2022-04-20 20:19:54,100 - INFO - luna.common.utils -  Starting transform::generate_tile_labels \n",
      "2022-04-20 20:19:54,100 - INFO - luna.common.utils - ------------------------------------------------------------\n",
      "2022-04-20 20:19:54,101 - INFO - generate_tile_labels - slide_id=01OV002-ed65cf94-8bc6-492b-9149-adc16f\n",
      "\r",
      "  1%|          | 521/44304 [00:00<00:08, 5201.03it/s]\r",
      "  0%|          | 0/30545 [00:00<?, ?it/s]2022-04-20 20:19:54,183 - INFO - root - Initalized logger, log file at: data-processing.log\n",
      "2022-04-20 20:19:54,184 - INFO - root - Initalized logger, log file at: data-processing.log\n",
      "2022-04-20 20:19:54,184 - INFO - luna.common.utils - Started CLI Runner wtih <function generate_tile_labels at 0x7f0453e08af0>\n",
      "2022-04-20 20:19:54,186 - INFO - luna.common.utils - Validating params...\n",
      "2022-04-20 20:19:54,186 - INFO - luna.common.utils - Started CLI Runner wtih <function generate_tile_labels at 0x7f27f877aaf0>\n",
      "2022-04-20 20:19:54,187 - INFO - luna.common.utils -  -> Set input_slide_annotation_dataset (<class 'str'>) = ../PRO_12-123/data/toy_data_set/table/ANNOTATIONS\n",
      "2022-04-20 20:19:54,188 - INFO - luna.common.utils -  -> Set input_slide_tiles (<class 'str'>) = /home/aukermaa/vmount/PRO_12-123/tiling/01OV008-7579323e-2fae-43a9-b00f-a15c28/tiles\n",
      "2022-04-20 20:19:54,189 - INFO - luna.common.utils - Validating params...\n",
      "2022-04-20 20:19:54,190 - INFO - luna.common.utils -  -> Set output_dir (<class 'str'>) = /home/aukermaa/vmount/PRO_12-123/tiling/01OV008-7579323e-2fae-43a9-b00f-a15c28/labels\n",
      "2022-04-20 20:19:54,191 - INFO - luna.common.utils -  -> Set input_slide_annotation_dataset (<class 'str'>) = ../PRO_12-123/data/toy_data_set/table/ANNOTATIONS\n",
      "2022-04-20 20:19:54,192 - INFO - luna.common.utils - Expanding inputs...\n",
      "2022-04-20 20:19:54,193 - INFO - luna.common.utils - Attempting to read metadata at ../PRO_12-123/data/toy_data_set/table/ANNOTATIONS/metadata.yml\n",
      "2022-04-20 20:19:54,193 - INFO - luna.common.utils -  -> Set input_slide_tiles (<class 'str'>) = /home/aukermaa/vmount/PRO_12-123/tiling/01OV007-9b90eb78-2f50-4aeb-b010-d642f9/tiles\n",
      "2022-04-20 20:19:54,195 - INFO - luna.common.utils -  -> Set output_dir (<class 'str'>) = /home/aukermaa/vmount/PRO_12-123/tiling/01OV007-9b90eb78-2f50-4aeb-b010-d642f9/labels\n",
      "2022-04-20 20:19:54,195 - INFO - luna.common.utils - Expanded input:\n",
      "2022-04-20 20:19:54,195 - INFO - luna.common.utils -  -> ../PRO_12-123/data/toy_data_set/table/ANNOTATIONS\n",
      "2022-04-20 20:19:54,195 - INFO - luna.common.utils -  -> ../PRO_12-123/data/toy_data_set/table/ANNOTATIONS/slide_annotation_dataset_TCGA collection_ov_regional.parquet\n",
      "2022-04-20 20:19:54,196 - INFO - luna.common.utils - Found segment keys: {'dsa_collection_uuid': '62604ad0b42dbd234598879a'}\n",
      "2022-04-20 20:19:54,196 - INFO - luna.common.utils - Expanding inputs...\n",
      "2022-04-20 20:19:54,197 - INFO - luna.common.utils - Attempting to read metadata at /home/aukermaa/vmount/PRO_12-123/tiling/01OV008-7579323e-2fae-43a9-b00f-a15c28/tiles/metadata.yml\n",
      "2022-04-20 20:19:54,198 - INFO - luna.common.utils - Attempting to read metadata at ../PRO_12-123/data/toy_data_set/table/ANNOTATIONS/metadata.yml\n",
      "\r",
      "  0%|          | 0/38021 [00:00<?, ?it/s]2022-04-20 20:19:54,200 - INFO - luna.common.utils - Expanded input:\n",
      "2022-04-20 20:19:54,200 - INFO - luna.common.utils -  -> ../PRO_12-123/data/toy_data_set/table/ANNOTATIONS\n",
      "2022-04-20 20:19:54,200 - INFO - luna.common.utils -  -> ../PRO_12-123/data/toy_data_set/table/ANNOTATIONS/slide_annotation_dataset_TCGA collection_ov_regional.parquet\n",
      "2022-04-20 20:19:54,201 - INFO - luna.common.utils - Expanded input:\n",
      "2022-04-20 20:19:54,201 - INFO - luna.common.utils -  -> /home/aukermaa/vmount/PRO_12-123/tiling/01OV008-7579323e-2fae-43a9-b00f-a15c28/tiles\n",
      "2022-04-20 20:19:54,201 - INFO - luna.common.utils -  -> /home/aukermaa/vmount/PRO_12-123/tiling/01OV008-7579323e-2fae-43a9-b00f-a15c28/tiles/01OV008-7579323e-2fae-43a9-b00f-a15c28.tiles.parquet\n",
      "2022-04-20 20:19:54,201 - INFO - luna.common.utils - Found segment keys: {'dsa_collection_uuid': '62604ad0b42dbd234598879a'}\n",
      "2022-04-20 20:19:54,202 - INFO - luna.common.utils - Found segment keys: {'slide_id': '01OV008-7579323e-2fae-43a9-b00f-a15c28'}\n",
      "2022-04-20 20:19:54,203 - INFO - luna.common.utils - Attempting to read metadata at /home/aukermaa/vmount/PRO_12-123/tiling/01OV007-9b90eb78-2f50-4aeb-b010-d642f9/tiles/metadata.yml\n",
      "2022-04-20 20:19:54,204 - INFO - luna.common.utils - Full segment key set: {'dsa_collection_uuid': '62604ad0b42dbd234598879a', 'slide_id': '01OV008-7579323e-2fae-43a9-b00f-a15c28'}\n",
      "2022-04-20 20:19:54,205 - INFO - luna.common.utils - ------------------------------------------------------------\n",
      "2022-04-20 20:19:54,205 - INFO - luna.common.utils -  Starting transform::generate_tile_labels \n",
      "2022-04-20 20:19:54,205 - INFO - luna.common.utils - ------------------------------------------------------------\n",
      "2022-04-20 20:19:54,206 - INFO - generate_tile_labels - slide_id=01OV008-7579323e-2fae-43a9-b00f-a15c28\n",
      "2022-04-20 20:19:54,207 - INFO - luna.common.utils - Expanded input:\n",
      "2022-04-20 20:19:54,207 - INFO - luna.common.utils -  -> /home/aukermaa/vmount/PRO_12-123/tiling/01OV007-9b90eb78-2f50-4aeb-b010-d642f9/tiles\n",
      "2022-04-20 20:19:54,207 - INFO - luna.common.utils -  -> /home/aukermaa/vmount/PRO_12-123/tiling/01OV007-9b90eb78-2f50-4aeb-b010-d642f9/tiles/01OV007-9b90eb78-2f50-4aeb-b010-d642f9.tiles.parquet\n",
      "2022-04-20 20:19:54,208 - INFO - luna.common.utils - Found segment keys: {'slide_id': '01OV007-9b90eb78-2f50-4aeb-b010-d642f9'}\n",
      "2022-04-20 20:19:54,209 - INFO - luna.common.utils - Full segment key set: {'dsa_collection_uuid': '62604ad0b42dbd234598879a', 'slide_id': '01OV007-9b90eb78-2f50-4aeb-b010-d642f9'}\n",
      "2022-04-20 20:19:54,210 - INFO - luna.common.utils - ------------------------------------------------------------\n",
      "2022-04-20 20:19:54,210 - INFO - luna.common.utils -  Starting transform::generate_tile_labels \n",
      "2022-04-20 20:19:54,210 - INFO - luna.common.utils - ------------------------------------------------------------\n",
      "2022-04-20 20:19:54,211 - INFO - generate_tile_labels - slide_id=01OV007-9b90eb78-2f50-4aeb-b010-d642f9\n"
     ]
    },
    {
     "name": "stderr",
     "output_type": "stream",
     "text": [
      "\r",
      "  2%|▏         | 1082/44304 [00:00<00:07, 5440.57it/s]\r",
      "  2%|▏         | 535/30545 [00:00<00:05, 5346.93it/s]\r",
      "  1%|▏         | 554/38021 [00:00<00:06, 5536.55it/s]\r",
      "  0%|          | 0/37490 [00:00<?, ?it/s]\r",
      "  4%|▍         | 1662/44304 [00:00<00:07, 5602.14it/s]\r",
      "  0%|          | 0/99258 [00:00<?, ?it/s]\r",
      "  4%|▎         | 1118/30545 [00:00<00:05, 5625.52it/s]\r",
      "  3%|▎         | 1156/38021 [00:00<00:06, 5820.09it/s]\r",
      "  1%|▏         | 518/37490 [00:00<00:07, 5174.38it/s]\r",
      "  5%|▌         | 2248/44304 [00:00<00:07, 5700.45it/s]\r",
      "  0%|          | 495/99258 [00:00<00:19, 4949.11it/s]\r",
      "  6%|▌         | 1706/30545 [00:00<00:05, 5738.25it/s]\r",
      "  5%|▍         | 1764/38021 [00:00<00:06, 5936.93it/s]"
     ]
    },
    {
     "name": "stdout",
     "output_type": "stream",
     "text": [
      "../PRO_12-123/data/toy_data_set/table/ANNOTATIONS/01OV008-7579323e-2fae-43a9-b00f-a15c28.annotation.geojson TCGA collection ov_regional\n",
      "../PRO_12-123/data/toy_data_set/table/ANNOTATIONS/01OV007-9b90eb78-2f50-4aeb-b010-d642f9.annotation.geojson TCGA collection ov_regional\n"
     ]
    },
    {
     "name": "stderr",
     "output_type": "stream",
     "text": [
      "100%|██████████| 30545/30545 [00:05<00:00, 5501.09it/s]\n",
      " 82%|████████▏ | 30719/37490 [00:05<00:01, 5802.17it/s]2022-04-20 20:19:59,739 - INFO - generate_tile_labels -                 x_coord  y_coord  ...  regional_label  intersection_area\n",
      "2022-04-20 20:19:59,739 - INFO - generate_tile_labels - address                           ...                                   \n",
      "2022-04-20 20:19:59,739 - INFO - generate_tile_labels - x58_y60_z20.0     14848    15360  ...          stroma           0.055923\n",
      "2022-04-20 20:19:59,739 - INFO - generate_tile_labels - x58_y61_z20.0     14848    15616  ...          stroma           0.272237\n",
      "2022-04-20 20:19:59,739 - INFO - generate_tile_labels - x58_y62_z20.0     14848    15872  ...          stroma           0.074921\n",
      "2022-04-20 20:19:59,739 - INFO - generate_tile_labels - x58_y63_z20.0     14848    16128  ...          stroma           0.230325\n",
      "2022-04-20 20:19:59,739 - INFO - generate_tile_labels - x59_y60_z20.0     15104    15360  ...          stroma           0.061584\n",
      "2022-04-20 20:19:59,739 - INFO - generate_tile_labels - ...                 ...      ...  ...             ...                ...\n",
      "2022-04-20 20:19:59,739 - INFO - generate_tile_labels - x150_y75_z20.0    38400    19200  ...             fat           0.655609\n",
      "2022-04-20 20:19:59,739 - INFO - generate_tile_labels - x150_y91_z20.0    38400    23296  ...          stroma           0.061430\n",
      "2022-04-20 20:19:59,739 - INFO - generate_tile_labels - x150_y92_z20.0    38400    23552  ...          stroma           0.068517\n",
      "2022-04-20 20:19:59,739 - INFO - generate_tile_labels - x151_y74_z20.0    38656    18944  ...             fat           0.037047\n",
      "2022-04-20 20:19:59,739 - INFO - generate_tile_labels - x151_y75_z20.0    38656    19200  ...             fat           0.031012\n",
      "2022-04-20 20:19:59,739 - INFO - generate_tile_labels - \n",
      "2022-04-20 20:19:59,739 - INFO - generate_tile_labels - [1180 rows x 7 columns]\n",
      "2022-04-20 20:19:59,785 - INFO - luna.common.utils - Code block 'transform::generate_tile_labels' took: 5.698992345482111s\n",
      "2022-04-20 20:19:59,786 - INFO - luna.common.utils - ------------------------------------------------------------\n",
      "2022-04-20 20:19:59,786 - INFO - luna.common.utils -  Done with transform, running post-transform functions... \n",
      "2022-04-20 20:19:59,786 - INFO - luna.common.utils - ------------------------------------------------------------\n",
      "2022-04-20 20:19:59,791 - INFO - luna.common.utils - Done.\n",
      " 77%|███████▋  | 33907/44304 [00:06<00:01, 5845.10it/s]"
     ]
    },
    {
     "name": "stdout",
     "output_type": "stream",
     "text": [
      "save_tiles ../PRO_12-123/data/toy_data_set/01OV008-308ad404-7079-4ff8-8232-12ee2e.svs /home/aukermaa/vmount/PRO_12-123/tiling/01OV008-308ad404-7079-4ff8-8232-12ee2e/labels --num_cores 16 --batch_size 200 --dataset_id PRO_TILES -o /home/aukermaa/vmount/PRO_12-123/tiling/01OV008-308ad404-7079-4ff8-8232-12ee2e/saved_tiles\n"
     ]
    },
    {
     "name": "stderr",
     "output_type": "stream",
     "text": [
      "100%|██████████| 38021/38021 [00:06<00:00, 5801.45it/s]\n",
      " 97%|█████████▋| 36535/37490 [00:06<00:00, 5740.50it/s]2022-04-20 20:20:00,766 - INFO - generate_tile_labels -                 x_coord  y_coord  ...  regional_label  intersection_area\n",
      "2022-04-20 20:20:00,766 - INFO - generate_tile_labels - address                           ...                                   \n",
      "2022-04-20 20:20:00,766 - INFO - generate_tile_labels - x40_y114_z20.0    10240    29184  ...          stroma           0.022247\n",
      "2022-04-20 20:20:00,766 - INFO - generate_tile_labels - x40_y115_z20.0    10240    29440  ...          stroma           0.664626\n",
      "2022-04-20 20:20:00,766 - INFO - generate_tile_labels - x40_y116_z20.0    10240    29696  ...          stroma           0.974943\n",
      "2022-04-20 20:20:00,766 - INFO - generate_tile_labels - x40_y117_z20.0    10240    29952  ...          stroma           0.772881\n",
      "2022-04-20 20:20:00,766 - INFO - generate_tile_labels - x40_y118_z20.0    10240    30208  ...          stroma           0.469818\n",
      "2022-04-20 20:20:00,766 - INFO - generate_tile_labels - ...                 ...      ...  ...             ...                ...\n",
      "2022-04-20 20:20:00,766 - INFO - generate_tile_labels - x100_y22_z20.0    25600     5632  ...             fat           0.636428\n",
      "2022-04-20 20:20:00,766 - INFO - generate_tile_labels - x100_y23_z20.0    25600     5888  ...             fat           0.614154\n",
      "2022-04-20 20:20:00,766 - INFO - generate_tile_labels - x100_y24_z20.0    25600     6144  ...             fat           0.372366\n",
      "2022-04-20 20:20:00,766 - INFO - generate_tile_labels - x100_y25_z20.0    25600     6400  ...             fat           0.183442\n",
      "2022-04-20 20:20:00,766 - INFO - generate_tile_labels - x100_y26_z20.0    25600     6656  ...             fat           0.002640\n",
      "2022-04-20 20:20:00,766 - INFO - generate_tile_labels - \n",
      "2022-04-20 20:20:00,766 - INFO - generate_tile_labels - [1266 rows x 7 columns]\n",
      " 39%|███▊      | 38383/99258 [00:06<00:10, 5996.53it/s]2022-04-20 20:20:00,818 - INFO - luna.common.utils - Code block 'transform::generate_tile_labels' took: 6.716962069272995s\n",
      "2022-04-20 20:20:00,820 - INFO - luna.common.utils - ------------------------------------------------------------\n",
      "2022-04-20 20:20:00,820 - INFO - luna.common.utils -  Done with transform, running post-transform functions... \n",
      "2022-04-20 20:20:00,820 - INFO - luna.common.utils - ------------------------------------------------------------\n",
      "2022-04-20 20:20:00,827 - INFO - luna.common.utils - Done.\n",
      "100%|██████████| 37490/37490 [00:06<00:00, 5665.74it/s]\n",
      " 87%|████████▋ | 38537/44304 [00:06<00:01, 5647.57it/s]2022-04-20 20:20:00,935 - INFO - generate_tile_labels -                 x_coord  y_coord  ...  regional_label  intersection_area\n",
      "2022-04-20 20:20:00,935 - INFO - generate_tile_labels - address                           ...                                   \n",
      "2022-04-20 20:20:00,935 - INFO - generate_tile_labels - x44_y102_z20.0    11264    26112  ...          stroma           0.033000\n",
      "2022-04-20 20:20:00,935 - INFO - generate_tile_labels - x44_y103_z20.0    11264    26368  ...          stroma           0.100707\n",
      "2022-04-20 20:20:00,935 - INFO - generate_tile_labels - x45_y102_z20.0    11520    26112  ...          stroma           0.550479\n",
      "2022-04-20 20:20:00,935 - INFO - generate_tile_labels - x45_y103_z20.0    11520    26368  ...          stroma           0.943674\n",
      "2022-04-20 20:20:00,935 - INFO - generate_tile_labels - x45_y104_z20.0    11520    26624  ...          stroma           0.632023\n",
      "2022-04-20 20:20:00,935 - INFO - generate_tile_labels - ...                 ...      ...  ...             ...                ...\n",
      "2022-04-20 20:20:00,935 - INFO - generate_tile_labels - x111_y80_z20.0    28416    20480  ...          stroma           1.000000\n",
      "2022-04-20 20:20:00,935 - INFO - generate_tile_labels - x111_y81_z20.0    28416    20736  ...          stroma           0.577473\n",
      "2022-04-20 20:20:00,935 - INFO - generate_tile_labels - x112_y79_z20.0    28672    20224  ...          stroma           0.000450\n",
      "2022-04-20 20:20:00,935 - INFO - generate_tile_labels - x112_y80_z20.0    28672    20480  ...          stroma           0.251255\n",
      "2022-04-20 20:20:00,935 - INFO - generate_tile_labels - x112_y81_z20.0    28672    20736  ...          stroma           0.045343\n",
      "2022-04-20 20:20:00,935 - INFO - generate_tile_labels - \n",
      "2022-04-20 20:20:00,935 - INFO - generate_tile_labels - [276 rows x 7 columns]\n",
      "2022-04-20 20:20:00,977 - INFO - root - Initalized logger, log file at: data-processing.log\n",
      "2022-04-20 20:20:00,990 - INFO - luna.common.utils - Code block 'transform::generate_tile_labels' took: 6.7842529229819775s\n",
      "2022-04-20 20:20:00,992 - INFO - luna.common.utils - ------------------------------------------------------------\n",
      "2022-04-20 20:20:00,992 - INFO - luna.common.utils -  Done with transform, running post-transform functions... \n",
      "2022-04-20 20:20:00,992 - INFO - luna.common.utils - ------------------------------------------------------------\n",
      "2022-04-20 20:20:00,996 - INFO - luna.common.utils - Done.\n",
      " 40%|███▉      | 39590/99258 [00:06<00:10, 5958.70it/s]"
     ]
    },
    {
     "name": "stdout",
     "output_type": "stream",
     "text": [
      "save_tiles ../PRO_12-123/data/toy_data_set/01OV002-ed65cf94-8bc6-492b-9149-adc16f.svs /home/aukermaa/vmount/PRO_12-123/tiling/01OV002-ed65cf94-8bc6-492b-9149-adc16f/labels --num_cores 16 --batch_size 200 --dataset_id PRO_TILES -o /home/aukermaa/vmount/PRO_12-123/tiling/01OV002-ed65cf94-8bc6-492b-9149-adc16f/saved_tiles\n"
     ]
    },
    {
     "name": "stderr",
     "output_type": "stream",
     "text": [
      "\r",
      " 88%|████████▊ | 39102/44304 [00:06<00:00, 5580.30it/s]\r",
      " 40%|████      | 40190/99258 [00:06<00:09, 5969.81it/s]\r",
      " 90%|████████▉ | 39661/44304 [00:07<00:00, 5188.50it/s]\r",
      " 41%|████      | 40788/99258 [00:06<00:10, 5843.25it/s]"
     ]
    },
    {
     "name": "stdout",
     "output_type": "stream",
     "text": [
      "save_tiles ../PRO_12-123/data/toy_data_set/01OV008-7579323e-2fae-43a9-b00f-a15c28.svs /home/aukermaa/vmount/PRO_12-123/tiling/01OV008-7579323e-2fae-43a9-b00f-a15c28/labels --num_cores 16 --batch_size 200 --dataset_id PRO_TILES -o /home/aukermaa/vmount/PRO_12-123/tiling/01OV008-7579323e-2fae-43a9-b00f-a15c28/saved_tiles\n"
     ]
    },
    {
     "name": "stderr",
     "output_type": "stream",
     "text": [
      "100%|██████████| 44304/44304 [00:08<00:00, 5527.41it/s]\n",
      "2022-04-20 20:20:02,078 - INFO - generate_tile_labels -                  x_coord  y_coord  ...  regional_label  intersection_area\n",
      "2022-04-20 20:20:02,078 - INFO - generate_tile_labels - address                            ...                                   \n",
      "2022-04-20 20:20:02,078 - INFO - generate_tile_labels - x52_y114_z20.0     13312    29184  ...          stroma           0.055345\n",
      "2022-04-20 20:20:02,078 - INFO - generate_tile_labels - x53_y113_z20.0     13568    28928  ...          stroma           0.212376\n",
      "2022-04-20 20:20:02,078 - INFO - generate_tile_labels - x53_y114_z20.0     13568    29184  ...          stroma           0.965976\n",
      "2022-04-20 20:20:02,078 - INFO - generate_tile_labels - x53_y115_z20.0     13568    29440  ...          stroma           0.344496\n",
      "2022-04-20 20:20:02,078 - INFO - generate_tile_labels - x54_y112_z20.0     13824    28672  ...          stroma           0.061422\n",
      "2022-04-20 20:20:02,078 - INFO - generate_tile_labels - ...                  ...      ...  ...             ...                ...\n",
      "2022-04-20 20:20:02,078 - INFO - generate_tile_labels - x131_y146_z20.0    33536    37376  ...           tumor           0.166847\n",
      "2022-04-20 20:20:02,078 - INFO - generate_tile_labels - x131_y147_z20.0    33536    37632  ...           tumor           0.096977\n",
      "2022-04-20 20:20:02,078 - INFO - generate_tile_labels - x132_y140_z20.0    33792    35840  ...           tumor           0.245755\n",
      "2022-04-20 20:20:02,078 - INFO - generate_tile_labels - x132_y141_z20.0    33792    36096  ...           tumor           0.504036\n",
      "2022-04-20 20:20:02,078 - INFO - generate_tile_labels - x132_y142_z20.0    33792    36352  ...           tumor           0.250175\n",
      "2022-04-20 20:20:02,078 - INFO - generate_tile_labels - \n",
      "2022-04-20 20:20:02,078 - INFO - generate_tile_labels - [666 rows x 7 columns]\n",
      "2022-04-20 20:20:02,126 - INFO - root - Initalized logger, log file at: data-processing.log\n",
      " 46%|████▌     | 45380/99258 [00:07<00:10, 5243.22it/s]2022-04-20 20:20:02,137 - INFO - luna.common.utils - Code block 'transform::generate_tile_labels' took: 8.196606773883104s\n",
      "2022-04-20 20:20:02,139 - INFO - luna.common.utils - ------------------------------------------------------------\n",
      "2022-04-20 20:20:02,139 - INFO - luna.common.utils -  Done with transform, running post-transform functions... \n",
      "2022-04-20 20:20:02,139 - INFO - luna.common.utils - ------------------------------------------------------------\n",
      "2022-04-20 20:20:02,146 - INFO - luna.common.utils - Done.\n",
      " 46%|████▋     | 45985/99258 [00:07<00:09, 5467.66it/s]2022-04-20 20:20:02,288 - INFO - root - Initalized logger, log file at: data-processing.log\n",
      " 47%|████▋     | 47130/99258 [00:08<00:09, 5590.92it/s]"
     ]
    },
    {
     "name": "stdout",
     "output_type": "stream",
     "text": [
      "save_tiles ../PRO_12-123/data/toy_data_set/01OV002-bd8cdc70-3d46-40ae-99c4-90ef77.svs /home/aukermaa/vmount/PRO_12-123/tiling/01OV002-bd8cdc70-3d46-40ae-99c4-90ef77/labels --num_cores 16 --batch_size 200 --dataset_id PRO_TILES -o /home/aukermaa/vmount/PRO_12-123/tiling/01OV002-bd8cdc70-3d46-40ae-99c4-90ef77/saved_tiles\n"
     ]
    },
    {
     "name": "stderr",
     "output_type": "stream",
     "text": [
      " 50%|█████     | 50055/99258 [00:08<00:08, 5520.96it/s]2022-04-20 20:20:03,001 - INFO - luna.common.utils - Started CLI Runner wtih <function save_tiles at 0x7fa847e85b80>\n",
      "2022-04-20 20:20:03,003 - INFO - luna.common.utils - Validating params...\n",
      "2022-04-20 20:20:03,005 - INFO - luna.common.utils -  -> Set input_slide_image (<class 'str'>) = ../PRO_12-123/data/toy_data_set/01OV008-308ad404-7079-4ff8-8232-12ee2e.svs\n",
      "2022-04-20 20:20:03,006 - INFO - luna.common.utils -  -> Set input_slide_tiles (<class 'str'>) = /home/aukermaa/vmount/PRO_12-123/tiling/01OV008-308ad404-7079-4ff8-8232-12ee2e/labels\n",
      "2022-04-20 20:20:03,007 - INFO - luna.common.utils -  -> Set output_dir (<class 'str'>) = /home/aukermaa/vmount/PRO_12-123/tiling/01OV008-308ad404-7079-4ff8-8232-12ee2e/saved_tiles\n",
      "2022-04-20 20:20:03,008 - INFO - luna.common.utils -  -> Set num_cores (<class 'int'>) = 16\n",
      "2022-04-20 20:20:03,009 - INFO - luna.common.utils -  -> Set batch_size (<class 'int'>) = 200\n",
      "2022-04-20 20:20:03,010 - INFO - luna.common.utils - Expanding inputs...\n",
      "2022-04-20 20:20:03,011 - INFO - luna.common.utils - Attempting to read metadata at ../PRO_12-123/data/toy_data_set/01OV008-308ad404-7079-4ff8-8232-12ee2e.svs/metadata.yml\n",
      "2022-04-20 20:20:03,012 - INFO - luna.common.utils - Attempting to read metadata at /home/aukermaa/vmount/PRO_12-123/tiling/01OV008-308ad404-7079-4ff8-8232-12ee2e/labels/metadata.yml\n",
      "2022-04-20 20:20:03,016 - INFO - luna.common.utils - Expanded input:\n",
      "2022-04-20 20:20:03,016 - INFO - luna.common.utils -  -> /home/aukermaa/vmount/PRO_12-123/tiling/01OV008-308ad404-7079-4ff8-8232-12ee2e/labels\n",
      "2022-04-20 20:20:03,016 - INFO - luna.common.utils -  -> /home/aukermaa/vmount/PRO_12-123/tiling/01OV008-308ad404-7079-4ff8-8232-12ee2e/labels/01OV008-308ad404-7079-4ff8-8232-12ee2e.regional_label.tiles.parquet\n",
      "2022-04-20 20:20:03,017 - INFO - luna.common.utils - Found segment keys: {'dsa_collection_uuid': '62604ad0b42dbd234598879a', 'slide_id': '01OV008-308ad404-7079-4ff8-8232-12ee2e'}\n",
      "2022-04-20 20:20:03,018 - INFO - luna.common.utils - Full segment key set: {'dsa_collection_uuid': '62604ad0b42dbd234598879a', 'slide_id': '01OV008-308ad404-7079-4ff8-8232-12ee2e'}\n",
      "2022-04-20 20:20:03,019 - INFO - luna.common.utils - ------------------------------------------------------------\n",
      "2022-04-20 20:20:03,019 - INFO - luna.common.utils -  Starting transform::save_tiles \n",
      "2022-04-20 20:20:03,019 - INFO - luna.common.utils - ------------------------------------------------------------\n",
      "2022-04-20 20:20:03,073 - INFO - generate_tiles - Now generating tiles with num_cores=16 and batch_size=200!\n",
      "2022-04-20 20:20:03,075 - WARNING - generate_tiles - /home/aukermaa/vmount/PRO_12-123/tiling/01OV008-308ad404-7079-4ff8-8232-12ee2e/saved_tiles/01OV008-308ad404-7079-4ff8-8232-12ee2e.tiles.h5 already exists, deleting the file..\n",
      " 52%|█████▏    | 51871/99258 [00:08<00:08, 5861.99it/s]2022-04-20 20:20:03,372 - INFO - root - Initalized logger, log file at: data-processing.log\n",
      " 57%|█████▋    | 56697/99258 [00:09<00:07, 6002.13it/s]2022-04-20 20:20:04,202 - INFO - luna.common.utils - Started CLI Runner wtih <function save_tiles at 0x7f3625b86b80>\n",
      "2022-04-20 20:20:04,204 - INFO - luna.common.utils - Validating params...\n",
      "2022-04-20 20:20:04,205 - INFO - luna.common.utils -  -> Set input_slide_image (<class 'str'>) = ../PRO_12-123/data/toy_data_set/01OV002-ed65cf94-8bc6-492b-9149-adc16f.svs\n",
      "2022-04-20 20:20:04,206 - INFO - luna.common.utils -  -> Set input_slide_tiles (<class 'str'>) = /home/aukermaa/vmount/PRO_12-123/tiling/01OV002-ed65cf94-8bc6-492b-9149-adc16f/labels\n",
      " 58%|█████▊    | 57302/99258 [00:09<00:06, 6014.51it/s]2022-04-20 20:20:04,208 - INFO - luna.common.utils -  -> Set output_dir (<class 'str'>) = /home/aukermaa/vmount/PRO_12-123/tiling/01OV002-ed65cf94-8bc6-492b-9149-adc16f/saved_tiles\n",
      "2022-04-20 20:20:04,209 - INFO - luna.common.utils -  -> Set num_cores (<class 'int'>) = 16\n",
      "2022-04-20 20:20:04,210 - INFO - luna.common.utils -  -> Set batch_size (<class 'int'>) = 200\n",
      "2022-04-20 20:20:04,212 - INFO - luna.common.utils - Expanding inputs...\n",
      "2022-04-20 20:20:04,213 - INFO - luna.common.utils - Attempting to read metadata at ../PRO_12-123/data/toy_data_set/01OV002-ed65cf94-8bc6-492b-9149-adc16f.svs/metadata.yml\n",
      "2022-04-20 20:20:04,214 - INFO - luna.common.utils - Attempting to read metadata at /home/aukermaa/vmount/PRO_12-123/tiling/01OV002-ed65cf94-8bc6-492b-9149-adc16f/labels/metadata.yml\n",
      "2022-04-20 20:20:04,217 - INFO - luna.common.utils - Expanded input:\n",
      "2022-04-20 20:20:04,217 - INFO - luna.common.utils -  -> /home/aukermaa/vmount/PRO_12-123/tiling/01OV002-ed65cf94-8bc6-492b-9149-adc16f/labels\n",
      "2022-04-20 20:20:04,217 - INFO - luna.common.utils -  -> /home/aukermaa/vmount/PRO_12-123/tiling/01OV002-ed65cf94-8bc6-492b-9149-adc16f/labels/01OV002-ed65cf94-8bc6-492b-9149-adc16f.regional_label.tiles.parquet\n",
      "2022-04-20 20:20:04,218 - INFO - luna.common.utils - Found segment keys: {'dsa_collection_uuid': '62604ad0b42dbd234598879a', 'slide_id': '01OV002-ed65cf94-8bc6-492b-9149-adc16f'}\n",
      "2022-04-20 20:20:04,219 - INFO - luna.common.utils - Full segment key set: {'dsa_collection_uuid': '62604ad0b42dbd234598879a', 'slide_id': '01OV002-ed65cf94-8bc6-492b-9149-adc16f'}\n",
      "2022-04-20 20:20:04,220 - INFO - luna.common.utils - ------------------------------------------------------------\n",
      "2022-04-20 20:20:04,220 - INFO - luna.common.utils -  Starting transform::save_tiles \n",
      "2022-04-20 20:20:04,220 - INFO - luna.common.utils - ------------------------------------------------------------\n",
      "2022-04-20 20:20:04,278 - INFO - generate_tiles - Now generating tiles with num_cores=16 and batch_size=200!\n",
      "2022-04-20 20:20:04,280 - WARNING - generate_tiles - /home/aukermaa/vmount/PRO_12-123/tiling/01OV002-ed65cf94-8bc6-492b-9149-adc16f/saved_tiles/01OV002-ed65cf94-8bc6-492b-9149-adc16f.tiles.h5 already exists, deleting the file..\n",
      "2022-04-20 20:20:04,291 - INFO - luna.common.utils - Started CLI Runner wtih <function save_tiles at 0x7fb9c3d13b80>\n",
      "2022-04-20 20:20:04,292 - INFO - luna.common.utils - Validating params...\n",
      "2022-04-20 20:20:04,293 - INFO - luna.common.utils -  -> Set input_slide_image (<class 'str'>) = ../PRO_12-123/data/toy_data_set/01OV008-7579323e-2fae-43a9-b00f-a15c28.svs\n",
      "2022-04-20 20:20:04,294 - INFO - luna.common.utils -  -> Set input_slide_tiles (<class 'str'>) = /home/aukermaa/vmount/PRO_12-123/tiling/01OV008-7579323e-2fae-43a9-b00f-a15c28/labels\n",
      "2022-04-20 20:20:04,295 - INFO - luna.common.utils -  -> Set output_dir (<class 'str'>) = /home/aukermaa/vmount/PRO_12-123/tiling/01OV008-7579323e-2fae-43a9-b00f-a15c28/saved_tiles\n",
      "2022-04-20 20:20:04,296 - INFO - luna.common.utils -  -> Set num_cores (<class 'int'>) = 16\n",
      "2022-04-20 20:20:04,297 - INFO - luna.common.utils -  -> Set batch_size (<class 'int'>) = 200\n",
      "2022-04-20 20:20:04,298 - INFO - luna.common.utils - Expanding inputs...\n",
      "2022-04-20 20:20:04,299 - INFO - luna.common.utils - Attempting to read metadata at ../PRO_12-123/data/toy_data_set/01OV008-7579323e-2fae-43a9-b00f-a15c28.svs/metadata.yml\n",
      "2022-04-20 20:20:04,300 - INFO - luna.common.utils - Attempting to read metadata at /home/aukermaa/vmount/PRO_12-123/tiling/01OV008-7579323e-2fae-43a9-b00f-a15c28/labels/metadata.yml\n",
      "2022-04-20 20:20:04,303 - INFO - luna.common.utils - Expanded input:\n",
      "2022-04-20 20:20:04,303 - INFO - luna.common.utils -  -> /home/aukermaa/vmount/PRO_12-123/tiling/01OV008-7579323e-2fae-43a9-b00f-a15c28/labels\n",
      "2022-04-20 20:20:04,303 - INFO - luna.common.utils -  -> /home/aukermaa/vmount/PRO_12-123/tiling/01OV008-7579323e-2fae-43a9-b00f-a15c28/labels/01OV008-7579323e-2fae-43a9-b00f-a15c28.regional_label.tiles.parquet\n",
      "2022-04-20 20:20:04,305 - INFO - luna.common.utils - Found segment keys: {'dsa_collection_uuid': '62604ad0b42dbd234598879a', 'slide_id': '01OV008-7579323e-2fae-43a9-b00f-a15c28'}\n",
      "2022-04-20 20:20:04,305 - INFO - luna.common.utils - Full segment key set: {'dsa_collection_uuid': '62604ad0b42dbd234598879a', 'slide_id': '01OV008-7579323e-2fae-43a9-b00f-a15c28'}\n",
      "2022-04-20 20:20:04,306 - INFO - luna.common.utils - ------------------------------------------------------------\n",
      "2022-04-20 20:20:04,306 - INFO - luna.common.utils -  Starting transform::save_tiles \n",
      "2022-04-20 20:20:04,306 - INFO - luna.common.utils - ------------------------------------------------------------\n",
      " 58%|█████▊    | 57908/99258 [00:09<00:06, 6026.84it/s]2022-04-20 20:20:04,366 - INFO - generate_tiles - Now generating tiles with num_cores=16 and batch_size=200!\n",
      "2022-04-20 20:20:04,368 - WARNING - generate_tiles - /home/aukermaa/vmount/PRO_12-123/tiling/01OV008-7579323e-2fae-43a9-b00f-a15c28/saved_tiles/01OV008-7579323e-2fae-43a9-b00f-a15c28.tiles.h5 already exists, deleting the file..\n"
     ]
    },
    {
     "name": "stderr",
     "output_type": "stream",
     "text": [
      " 64%|██████▍   | 63362/99258 [00:10<00:05, 6056.39it/s]2022-04-20 20:20:05,278 - INFO - luna.common.utils - Started CLI Runner wtih <function save_tiles at 0x7f4a317ebb80>\n",
      "2022-04-20 20:20:05,280 - INFO - luna.common.utils - Validating params...\n",
      "2022-04-20 20:20:05,281 - INFO - luna.common.utils -  -> Set input_slide_image (<class 'str'>) = ../PRO_12-123/data/toy_data_set/01OV002-bd8cdc70-3d46-40ae-99c4-90ef77.svs\n",
      "2022-04-20 20:20:05,282 - INFO - luna.common.utils -  -> Set input_slide_tiles (<class 'str'>) = /home/aukermaa/vmount/PRO_12-123/tiling/01OV002-bd8cdc70-3d46-40ae-99c4-90ef77/labels\n",
      "2022-04-20 20:20:05,283 - INFO - luna.common.utils -  -> Set output_dir (<class 'str'>) = /home/aukermaa/vmount/PRO_12-123/tiling/01OV002-bd8cdc70-3d46-40ae-99c4-90ef77/saved_tiles\n",
      "2022-04-20 20:20:05,284 - INFO - luna.common.utils -  -> Set num_cores (<class 'int'>) = 16\n",
      "2022-04-20 20:20:05,285 - INFO - luna.common.utils -  -> Set batch_size (<class 'int'>) = 200\n",
      "2022-04-20 20:20:05,286 - INFO - luna.common.utils - Expanding inputs...\n",
      "2022-04-20 20:20:05,287 - INFO - luna.common.utils - Attempting to read metadata at ../PRO_12-123/data/toy_data_set/01OV002-bd8cdc70-3d46-40ae-99c4-90ef77.svs/metadata.yml\n",
      "2022-04-20 20:20:05,287 - INFO - luna.common.utils - Attempting to read metadata at /home/aukermaa/vmount/PRO_12-123/tiling/01OV002-bd8cdc70-3d46-40ae-99c4-90ef77/labels/metadata.yml\n",
      "2022-04-20 20:20:05,291 - INFO - luna.common.utils - Expanded input:\n",
      "2022-04-20 20:20:05,291 - INFO - luna.common.utils -  -> /home/aukermaa/vmount/PRO_12-123/tiling/01OV002-bd8cdc70-3d46-40ae-99c4-90ef77/labels\n",
      "2022-04-20 20:20:05,291 - INFO - luna.common.utils -  -> /home/aukermaa/vmount/PRO_12-123/tiling/01OV002-bd8cdc70-3d46-40ae-99c4-90ef77/labels/01OV002-bd8cdc70-3d46-40ae-99c4-90ef77.regional_label.tiles.parquet\n",
      "2022-04-20 20:20:05,292 - INFO - luna.common.utils - Found segment keys: {'dsa_collection_uuid': '62604ad0b42dbd234598879a', 'slide_id': '01OV002-bd8cdc70-3d46-40ae-99c4-90ef77'}\n",
      "2022-04-20 20:20:05,293 - INFO - luna.common.utils - Full segment key set: {'dsa_collection_uuid': '62604ad0b42dbd234598879a', 'slide_id': '01OV002-bd8cdc70-3d46-40ae-99c4-90ef77'}\n",
      "2022-04-20 20:20:05,294 - INFO - luna.common.utils - ------------------------------------------------------------\n",
      "2022-04-20 20:20:05,294 - INFO - luna.common.utils -  Starting transform::save_tiles \n",
      "2022-04-20 20:20:05,294 - INFO - luna.common.utils - ------------------------------------------------------------\n",
      " 64%|██████▍   | 63968/99258 [00:10<00:05, 6032.99it/s]2022-04-20 20:20:05,370 - INFO - generate_tiles - Now generating tiles with num_cores=16 and batch_size=200!\n",
      "2022-04-20 20:20:05,372 - WARNING - generate_tiles - /home/aukermaa/vmount/PRO_12-123/tiling/01OV002-bd8cdc70-3d46-40ae-99c4-90ef77/saved_tiles/01OV002-bd8cdc70-3d46-40ae-99c4-90ef77.tiles.h5 already exists, deleting the file..\n",
      " 67%|██████▋   | 66999/99258 [00:11<00:05, 6050.63it/s]"
     ]
    },
    {
     "name": "stdout",
     "output_type": "stream",
     "text": [
      "\r",
      "  0%|          | 0/153 [00:00<?, ?it/s]"
     ]
    },
    {
     "name": "stderr",
     "output_type": "stream",
     "text": [
      "\r",
      " 68%|██████▊   | 67605/99258 [00:11<00:05, 6052.17it/s]\r",
      " 69%|██████▊   | 68211/99258 [00:11<00:05, 6054.16it/s]\r",
      " 69%|██████▉   | 68817/99258 [00:11<00:05, 6053.19it/s]"
     ]
    },
    {
     "name": "stdout",
     "output_type": "stream",
     "text": [
      "\r",
      "  1%|          | 1/153 [00:00<01:19,  1.92it/s]\r",
      "  1%|▏         | 2/153 [00:00<00:41,  3.62it/s]"
     ]
    },
    {
     "name": "stderr",
     "output_type": "stream",
     "text": [
      "\r",
      " 70%|██████▉   | 69423/99258 [00:11<00:04, 6051.27it/s]\r",
      " 71%|███████   | 70029/99258 [00:11<00:04, 6026.98it/s]"
     ]
    },
    {
     "name": "stdout",
     "output_type": "stream",
     "text": [
      "\r",
      "  2%|▏         | 3/153 [00:00<00:31,  4.77it/s]\r",
      "  3%|▎         | 4/153 [00:00<00:25,  5.86it/s]"
     ]
    },
    {
     "name": "stderr",
     "output_type": "stream",
     "text": [
      "\r",
      " 71%|███████   | 70632/99258 [00:12<00:04, 5969.95it/s]\r",
      " 72%|███████▏  | 71230/99258 [00:12<00:04, 5933.08it/s]"
     ]
    },
    {
     "name": "stdout",
     "output_type": "stream",
     "text": [
      "\r",
      "  3%|▎         | 5/153 [00:00<00:21,  6.77it/s]\r",
      "  5%|▍         | 7/153 [00:01<00:14,  9.78it/s]"
     ]
    },
    {
     "name": "stderr",
     "output_type": "stream",
     "text": [
      "\r",
      " 72%|███████▏  | 71824/99258 [00:12<00:04, 5870.86it/s]\r",
      " 73%|███████▎  | 72412/99258 [00:12<00:04, 5867.26it/s]\r",
      " 74%|███████▎  | 72999/99258 [00:12<00:04, 5866.31it/s]"
     ]
    },
    {
     "name": "stdout",
     "output_type": "stream",
     "text": [
      "\r",
      "  7%|▋         | 10/153 [00:01<00:09, 14.51it/s]\r",
      "  8%|▊         | 12/153 [00:01<00:09, 15.30it/s]"
     ]
    },
    {
     "name": "stderr",
     "output_type": "stream",
     "text": [
      " 76%|███████▌  | 75344/99258 [00:12<00:04, 5813.66it/s]"
     ]
    },
    {
     "name": "stdout",
     "output_type": "stream",
     "text": [
      "\r",
      "  9%|▉         | 14/153 [00:01<00:10, 13.40it/s]\r",
      " 10%|█         | 16/153 [00:01<00:10, 12.57it/s]"
     ]
    },
    {
     "name": "stderr",
     "output_type": "stream",
     "text": [
      "\r",
      " 76%|███████▋  | 75926/99258 [00:12<00:04, 5773.45it/s]\r",
      " 77%|███████▋  | 76504/99258 [00:13<00:03, 5736.36it/s]"
     ]
    },
    {
     "name": "stdout",
     "output_type": "stream",
     "text": [
      "\r",
      " 12%|█▏        | 18/153 [00:01<00:10, 13.36it/s]\r",
      " 13%|█▎        | 20/153 [00:01<00:09, 14.46it/s]"
     ]
    },
    {
     "name": "stderr",
     "output_type": "stream",
     "text": [
      "\r",
      " 78%|███████▊  | 77078/99258 [00:13<00:03, 5633.02it/s]\r",
      " 78%|███████▊  | 77642/99258 [00:13<00:03, 5543.75it/s]"
     ]
    },
    {
     "name": "stdout",
     "output_type": "stream",
     "text": [
      "\r",
      "  0%|          | 0/191 [00:00<?, ?it/s]\r",
      "  0%|          | 0/188 [00:00<?, ?it/s]\r",
      " 15%|█▌        | 23/153 [00:02<00:07, 16.45it/s]\r",
      " 16%|█▋        | 25/153 [00:02<00:07, 17.14it/s]"
     ]
    },
    {
     "name": "stderr",
     "output_type": "stream",
     "text": [
      " 80%|████████  | 79806/99258 [00:13<00:03, 5242.06it/s]"
     ]
    },
    {
     "name": "stdout",
     "output_type": "stream",
     "text": [
      "\r",
      " 18%|█▊        | 28/153 [00:02<00:07, 16.39it/s]"
     ]
    },
    {
     "name": "stderr",
     "output_type": "stream",
     "text": [
      "\r",
      " 81%|████████  | 80331/99258 [00:13<00:03, 5199.43it/s]\r",
      " 81%|████████▏ | 80851/99258 [00:13<00:03, 4613.45it/s]"
     ]
    },
    {
     "name": "stdout",
     "output_type": "stream",
     "text": [
      "\r",
      "  1%|          | 1/188 [00:00<01:58,  1.58it/s]\r",
      " 20%|█▉        | 30/153 [00:02<00:10, 11.93it/s]\r",
      "  1%|          | 1/191 [00:00<02:15,  1.41it/s]\r",
      "  1%|          | 2/188 [00:00<01:06,  2.78it/s]"
     ]
    },
    {
     "name": "stderr",
     "output_type": "stream",
     "text": [
      "\r",
      " 82%|████████▏ | 81324/99258 [00:14<00:04, 4367.26it/s]\r",
      " 82%|████████▏ | 81770/99258 [00:14<00:04, 4154.82it/s]"
     ]
    },
    {
     "name": "stdout",
     "output_type": "stream",
     "text": [
      "\r",
      "  1%|          | 2/191 [00:00<01:09,  2.70it/s]\r",
      " 21%|██        | 32/153 [00:03<00:13,  9.30it/s]\r",
      "  2%|▏         | 4/188 [00:00<00:35,  5.20it/s]\r",
      "  2%|▏         | 3/191 [00:01<00:52,  3.56it/s]"
     ]
    },
    {
     "name": "stderr",
     "output_type": "stream",
     "text": [
      "\r",
      " 83%|████████▎ | 82208/99258 [00:14<00:04, 4210.57it/s]\r",
      " 83%|████████▎ | 82635/99258 [00:14<00:03, 4197.93it/s]"
     ]
    },
    {
     "name": "stdout",
     "output_type": "stream",
     "text": [
      "\r",
      " 22%|██▏       | 34/153 [00:03<00:11, 10.21it/s]\r",
      "  3%|▎         | 6/188 [00:01<00:25,  7.17it/s]\r",
      "  3%|▎         | 5/191 [00:01<00:30,  6.10it/s]\r",
      "  4%|▍         | 8/188 [00:01<00:20,  8.86it/s]\r",
      " 24%|██▎       | 36/153 [00:03<00:11, 10.35it/s]"
     ]
    },
    {
     "name": "stderr",
     "output_type": "stream",
     "text": [
      "\r",
      " 84%|████████▎ | 83069/99258 [00:14<00:03, 4235.43it/s]\r",
      " 84%|████████▍ | 83496/99258 [00:14<00:03, 4128.28it/s]"
     ]
    },
    {
     "name": "stdout",
     "output_type": "stream",
     "text": [
      "\r",
      "  3%|▎         | 6/191 [00:01<00:30,  6.06it/s]\r",
      "  5%|▌         | 10/188 [00:01<00:17, 10.40it/s]\r",
      "  4%|▎         | 7/191 [00:01<00:28,  6.45it/s]\r",
      " 25%|██▍       | 38/153 [00:03<00:10, 10.74it/s]"
     ]
    },
    {
     "name": "stderr",
     "output_type": "stream",
     "text": [
      "\r",
      " 85%|████████▍ | 83912/99258 [00:14<00:04, 3796.89it/s]\r",
      " 85%|████████▍ | 84298/99258 [00:14<00:04, 3543.97it/s]"
     ]
    },
    {
     "name": "stdout",
     "output_type": "stream",
     "text": [
      "\r",
      "  6%|▋         | 12/188 [00:01<00:15, 11.08it/s]\r",
      "  4%|▍         | 8/191 [00:01<00:27,  6.75it/s]\r",
      "  0%|          | 0/222 [00:00<?, ?it/s]\r",
      "  7%|▋         | 14/188 [00:01<00:14, 12.05it/s]\r",
      "  5%|▍         | 9/191 [00:01<00:27,  6.68it/s]\r",
      " 26%|██▌       | 40/153 [00:03<00:12,  9.10it/s]"
     ]
    },
    {
     "name": "stderr",
     "output_type": "stream",
     "text": [
      "\r",
      " 85%|████████▌ | 84659/99258 [00:14<00:04, 3407.55it/s]\r",
      " 86%|████████▌ | 85004/99258 [00:15<00:04, 3313.66it/s]"
     ]
    },
    {
     "name": "stdout",
     "output_type": "stream",
     "text": [
      "\r",
      "  9%|▊         | 16/188 [00:01<00:13, 12.71it/s]\r",
      " 27%|██▋       | 42/153 [00:04<00:11,  9.25it/s]\r",
      "  6%|▌         | 11/191 [00:02<00:25,  7.04it/s]"
     ]
    },
    {
     "name": "stderr",
     "output_type": "stream",
     "text": [
      "\r",
      " 86%|████████▌ | 85338/99258 [00:15<00:04, 3263.58it/s]\r",
      " 86%|████████▋ | 85666/99258 [00:15<00:04, 3193.05it/s]"
     ]
    },
    {
     "name": "stdout",
     "output_type": "stream",
     "text": [
      "\r",
      " 10%|▉         | 18/188 [00:02<00:15, 11.13it/s]\r",
      "  6%|▋         | 12/191 [00:02<00:24,  7.44it/s]\r",
      " 29%|██▉       | 44/153 [00:04<00:10, 10.17it/s]\r",
      " 11%|█         | 21/188 [00:02<00:13, 12.57it/s]"
     ]
    },
    {
     "name": "stderr",
     "output_type": "stream",
     "text": [
      "\r",
      " 87%|████████▋ | 85987/99258 [00:15<00:04, 3127.53it/s]\r",
      " 87%|████████▋ | 86419/99258 [00:15<00:03, 3459.46it/s]\r",
      " 87%|████████▋ | 86781/99258 [00:15<00:03, 3504.52it/s]"
     ]
    },
    {
     "name": "stdout",
     "output_type": "stream",
     "text": [
      "\r",
      "  7%|▋         | 13/191 [00:02<00:25,  6.94it/s]\r",
      "  0%|          | 1/222 [00:00<02:14,  1.65it/s]\r",
      " 30%|███       | 46/153 [00:04<00:09, 10.73it/s]\r",
      "  1%|          | 2/222 [00:00<01:13,  2.98it/s]\r",
      " 31%|███▏      | 48/153 [00:04<00:09, 11.34it/s]\r",
      " 12%|█▏        | 23/188 [00:02<00:13, 12.29it/s]\r",
      "  7%|▋         | 14/191 [00:02<00:26,  6.60it/s]"
     ]
    },
    {
     "name": "stderr",
     "output_type": "stream",
     "text": [
      "\r",
      " 88%|████████▊ | 87172/99258 [00:15<00:03, 3619.99it/s]\r",
      " 88%|████████▊ | 87642/99258 [00:15<00:02, 3934.85it/s]"
     ]
    },
    {
     "name": "stdout",
     "output_type": "stream",
     "text": [
      "\r",
      " 13%|█▎        | 25/188 [00:02<00:12, 13.33it/s]\r",
      "  8%|▊         | 15/191 [00:02<00:26,  6.72it/s]\r",
      "  1%|▏         | 3/222 [00:00<01:00,  3.61it/s]\r",
      "  9%|▉         | 17/191 [00:02<00:19,  8.76it/s]\r",
      " 33%|███▎      | 50/153 [00:04<00:10,  9.40it/s]\r",
      " 14%|█▍        | 27/188 [00:02<00:13, 12.31it/s]\r",
      "  2%|▏         | 4/222 [00:01<00:46,  4.64it/s]"
     ]
    },
    {
     "name": "stderr",
     "output_type": "stream",
     "text": [
      "\r",
      " 89%|████████▊ | 88038/99258 [00:15<00:02, 3790.31it/s]\r",
      " 89%|████████▉ | 88474/99258 [00:16<00:02, 3954.07it/s]\r",
      " 90%|████████▉ | 88941/99258 [00:16<00:02, 4159.39it/s]"
     ]
    },
    {
     "name": "stdout",
     "output_type": "stream",
     "text": [
      "\r",
      " 10%|▉         | 19/191 [00:02<00:16, 10.49it/s]\r",
      " 34%|███▍      | 52/153 [00:05<00:10,  9.23it/s]\r",
      "  2%|▏         | 5/222 [00:01<00:51,  4.25it/s]\r",
      " 15%|█▌        | 29/188 [00:03<00:15, 10.03it/s]\r",
      " 12%|█▏        | 22/191 [00:03<00:13, 12.35it/s]"
     ]
    },
    {
     "name": "stderr",
     "output_type": "stream",
     "text": [
      "\r",
      " 90%|█████████ | 89360/99258 [00:16<00:02, 3808.93it/s]\r",
      " 90%|█████████ | 89748/99258 [00:16<00:02, 3614.10it/s]"
     ]
    },
    {
     "name": "stdout",
     "output_type": "stream",
     "text": [
      "\r",
      " 35%|███▍      | 53/153 [00:05<00:12,  8.11it/s]\r",
      "  3%|▎         | 7/222 [00:01<00:34,  6.24it/s]\r",
      " 16%|█▋        | 31/188 [00:03<00:15, 10.32it/s]\r",
      " 13%|█▎        | 24/191 [00:03<00:13, 11.95it/s]\r",
      "  4%|▍         | 9/222 [00:01<00:26,  8.13it/s]\r",
      " 36%|███▌      | 55/153 [00:05<00:11,  8.76it/s]"
     ]
    },
    {
     "name": "stderr",
     "output_type": "stream",
     "text": [
      "\r",
      " 91%|█████████ | 90116/99258 [00:16<00:02, 3526.98it/s]\r",
      " 91%|█████████ | 90473/99258 [00:16<00:02, 3429.98it/s]"
     ]
    },
    {
     "name": "stdout",
     "output_type": "stream",
     "text": [
      "\r",
      " 18%|█▊        | 33/188 [00:03<00:14, 10.96it/s]\r",
      "  5%|▍         | 11/222 [00:01<00:21,  9.73it/s]\r",
      " 14%|█▎        | 26/191 [00:03<00:16, 10.20it/s]\r",
      " 19%|█▊        | 35/188 [00:03<00:13, 11.47it/s]"
     ]
    },
    {
     "name": "stderr",
     "output_type": "stream",
     "text": [
      " 93%|█████████▎| 92763/99258 [00:17<00:01, 4482.78it/s]"
     ]
    },
    {
     "name": "stdout",
     "output_type": "stream",
     "text": [
      "  6%|▋         | 14/222 [00:02<00:29,  6.94it/s]"
     ]
    },
    {
     "name": "stderr",
     "output_type": "stream",
     "text": [
      "\r",
      " 94%|█████████▍| 93215/99258 [00:17<00:01, 4303.50it/s]\r",
      " 94%|█████████▍| 93650/99258 [00:17<00:01, 4213.14it/s]"
     ]
    },
    {
     "name": "stdout",
     "output_type": "stream",
     "text": [
      "\r",
      " 39%|███▉      | 60/153 [00:06<00:12,  7.64it/s]\r",
      " 15%|█▌        | 29/191 [00:04<00:22,  7.11it/s]\r",
      " 22%|██▏       | 42/188 [00:04<00:13, 10.95it/s]"
     ]
    },
    {
     "name": "stderr",
     "output_type": "stream",
     "text": [
      "\r",
      " 95%|█████████▍| 94108/99258 [00:17<00:01, 4316.71it/s]\r",
      " 95%|█████████▌| 94641/99258 [00:17<00:01, 4608.62it/s]\r",
      " 96%|█████████▌| 95151/99258 [00:17<00:00, 4751.13it/s]"
     ]
    },
    {
     "name": "stdout",
     "output_type": "stream",
     "text": [
      "\r",
      " 40%|███▉      | 61/153 [00:06<00:13,  6.70it/s]\r",
      " 16%|█▌        | 31/191 [00:04<00:19,  8.13it/s]\r",
      "  7%|▋         | 15/222 [00:02<00:37,  5.54it/s]\r",
      " 41%|████      | 62/153 [00:06<00:13,  6.74it/s]\r",
      " 17%|█▋        | 33/191 [00:04<00:17,  8.92it/s]"
     ]
    },
    {
     "name": "stderr",
     "output_type": "stream",
     "text": [
      "\r",
      " 96%|█████████▋| 95686/99258 [00:17<00:00, 4924.68it/s]\r",
      " 97%|█████████▋| 96181/99258 [00:17<00:00, 4709.28it/s]"
     ]
    },
    {
     "name": "stdout",
     "output_type": "stream",
     "text": [
      "\r",
      " 23%|██▎       | 44/188 [00:04<00:16,  8.48it/s]\r",
      "  8%|▊         | 17/222 [00:02<00:28,  7.07it/s]\r",
      " 41%|████      | 63/153 [00:06<00:14,  6.32it/s]\r",
      "  8%|▊         | 18/222 [00:03<00:29,  6.89it/s]\r",
      " 18%|█▊        | 35/191 [00:04<00:17,  8.76it/s]"
     ]
    },
    {
     "name": "stderr",
     "output_type": "stream",
     "text": [
      "\r",
      " 97%|█████████▋| 96656/99258 [00:17<00:00, 4226.77it/s]\r",
      " 98%|█████████▊| 97090/99258 [00:18<00:00, 3857.71it/s]"
     ]
    },
    {
     "name": "stdout",
     "output_type": "stream",
     "text": [
      "\r",
      " 42%|████▏     | 64/153 [00:06<00:12,  6.90it/s]\r",
      " 24%|██▍       | 45/188 [00:04<00:21,  6.80it/s]\r",
      " 42%|████▏     | 65/153 [00:06<00:11,  7.40it/s]\r",
      " 19%|█▉        | 36/191 [00:04<00:18,  8.42it/s]"
     ]
    },
    {
     "name": "stderr",
     "output_type": "stream",
     "text": [
      "\r",
      " 98%|█████████▊| 97622/99258 [00:18<00:00, 4233.67it/s]\r",
      " 99%|█████████▉| 98124/99258 [00:18<00:00, 4444.73it/s]"
     ]
    },
    {
     "name": "stdout",
     "output_type": "stream",
     "text": [
      "\r",
      " 25%|██▌       | 47/188 [00:04<00:17,  8.08it/s]\r",
      " 19%|█▉        | 37/191 [00:05<00:19,  7.93it/s]\r",
      "  9%|▉         | 20/222 [00:03<00:30,  6.61it/s]\r",
      " 44%|████▍     | 67/153 [00:07<00:10,  8.54it/s]\r",
      " 27%|██▋       | 50/188 [00:05<00:13, 10.17it/s]"
     ]
    },
    {
     "name": "stderr",
     "output_type": "stream",
     "text": [
      "\r",
      " 99%|█████████▉| 98581/99258 [00:18<00:00, 4053.54it/s]\r",
      "100%|█████████▉| 99001/99258 [00:18<00:00, 4030.12it/s]\r",
      "100%|██████████| 99258/99258 [00:18<00:00, 5322.74it/s]\n"
     ]
    },
    {
     "name": "stdout",
     "output_type": "stream",
     "text": [
      "\r",
      " 44%|████▍     | 68/153 [00:07<00:10,  8.18it/s]\r",
      " 20%|██        | 39/191 [00:05<00:17,  8.92it/s]\r",
      " 28%|██▊       | 52/188 [00:05<00:12, 10.99it/s]\r",
      "  9%|▉         | 21/222 [00:03<00:36,  5.51it/s]\r",
      " 21%|██        | 40/191 [00:05<00:17,  8.55it/s]"
     ]
    },
    {
     "name": "stderr",
     "output_type": "stream",
     "text": [
      "2022-04-20 20:20:13,047 - INFO - generate_tile_labels -                  x_coord  y_coord  ...  regional_label  intersection_area\n",
      "2022-04-20 20:20:13,047 - INFO - generate_tile_labels - address                            ...                                   \n",
      "2022-04-20 20:20:13,047 - INFO - generate_tile_labels - x24_y56_z20.0       6144    14336  ...             fat           0.001128\n",
      "2022-04-20 20:20:13,047 - INFO - generate_tile_labels - x24_y57_z20.0       6144    14592  ...             fat           0.337458\n",
      "2022-04-20 20:20:13,047 - INFO - generate_tile_labels - x24_y58_z20.0       6144    14848  ...             fat           0.536735\n",
      "2022-04-20 20:20:13,047 - INFO - generate_tile_labels - x24_y59_z20.0       6144    15104  ...             fat           0.511210\n",
      "2022-04-20 20:20:13,047 - INFO - generate_tile_labels - x24_y60_z20.0       6144    15360  ...             fat           0.161498\n",
      "2022-04-20 20:20:13,047 - INFO - generate_tile_labels - ...                  ...      ...  ...             ...                ...\n",
      "2022-04-20 20:20:13,047 - INFO - generate_tile_labels - x379_y109_z20.0    97024    27904  ...           tumor           0.482618\n",
      "2022-04-20 20:20:13,047 - INFO - generate_tile_labels - x380_y104_z20.0    97280    26624  ...           tumor           0.009819\n",
      "2022-04-20 20:20:13,047 - INFO - generate_tile_labels - x380_y105_z20.0    97280    26880  ...           tumor           0.337997\n",
      "2022-04-20 20:20:13,047 - INFO - generate_tile_labels - x380_y106_z20.0    97280    27136  ...           tumor           0.453576\n",
      "2022-04-20 20:20:13,047 - INFO - generate_tile_labels - x380_y107_z20.0    97280    27392  ...           tumor           0.294047\n",
      "2022-04-20 20:20:13,047 - INFO - generate_tile_labels - \n",
      "2022-04-20 20:20:13,047 - INFO - generate_tile_labels - [637 rows x 7 columns]\n",
      "2022-04-20 20:20:13,207 - INFO - luna.common.utils - Code block 'transform::generate_tile_labels' took: 18.99619135260582s\n",
      "2022-04-20 20:20:13,248 - INFO - luna.common.utils - ------------------------------------------------------------\n",
      "2022-04-20 20:20:13,248 - INFO - luna.common.utils -  Done with transform, running post-transform functions... \n",
      "2022-04-20 20:20:13,248 - INFO - luna.common.utils - ------------------------------------------------------------\n",
      "2022-04-20 20:20:13,260 - INFO - luna.common.utils - Done.\n"
     ]
    },
    {
     "name": "stdout",
     "output_type": "stream",
     "text": [
      " 30%|██▉       | 56/188 [00:05<00:17,  7.67it/s]save_tiles ../PRO_12-123/data/toy_data_set/01OV007-9b90eb78-2f50-4aeb-b010-d642f9.svs /home/aukermaa/vmount/PRO_12-123/tiling/01OV007-9b90eb78-2f50-4aeb-b010-d642f9/labels --num_cores 16 --batch_size 200 --dataset_id PRO_TILES -o /home/aukermaa/vmount/PRO_12-123/tiling/01OV007-9b90eb78-2f50-4aeb-b010-d642f9/saved_tiles\n",
      " 31%|███▏      | 60/191 [00:07<00:14,  8.85it/s]"
     ]
    },
    {
     "name": "stderr",
     "output_type": "stream",
     "text": [
      "2022-04-20 20:20:15,407 - INFO - root - Initalized logger, log file at: data-processing.log\n"
     ]
    },
    {
     "name": "stdout",
     "output_type": "stream",
     "text": [
      " 42%|████▏     | 80/191 [00:10<00:14,  7.75it/s]]"
     ]
    },
    {
     "name": "stderr",
     "output_type": "stream",
     "text": [
      "2022-04-20 20:20:18,101 - INFO - luna.common.utils - Started CLI Runner wtih <function save_tiles at 0x7f8198295b80>\n",
      "2022-04-20 20:20:18,108 - INFO - luna.common.utils - Validating params...\n",
      "2022-04-20 20:20:18,135 - INFO - luna.common.utils -  -> Set input_slide_image (<class 'str'>) = ../PRO_12-123/data/toy_data_set/01OV007-9b90eb78-2f50-4aeb-b010-d642f9.svs\n",
      "2022-04-20 20:20:18,137 - INFO - luna.common.utils -  -> Set input_slide_tiles (<class 'str'>) = /home/aukermaa/vmount/PRO_12-123/tiling/01OV007-9b90eb78-2f50-4aeb-b010-d642f9/labels\n",
      "2022-04-20 20:20:18,139 - INFO - luna.common.utils -  -> Set output_dir (<class 'str'>) = /home/aukermaa/vmount/PRO_12-123/tiling/01OV007-9b90eb78-2f50-4aeb-b010-d642f9/saved_tiles\n",
      "2022-04-20 20:20:18,140 - INFO - luna.common.utils -  -> Set num_cores (<class 'int'>) = 16\n",
      "2022-04-20 20:20:18,141 - INFO - luna.common.utils -  -> Set batch_size (<class 'int'>) = 200\n",
      "2022-04-20 20:20:18,144 - INFO - luna.common.utils - Expanding inputs...\n",
      "2022-04-20 20:20:18,153 - INFO - luna.common.utils - Attempting to read metadata at ../PRO_12-123/data/toy_data_set/01OV007-9b90eb78-2f50-4aeb-b010-d642f9.svs/metadata.yml\n",
      "2022-04-20 20:20:18,161 - INFO - luna.common.utils - Attempting to read metadata at /home/aukermaa/vmount/PRO_12-123/tiling/01OV007-9b90eb78-2f50-4aeb-b010-d642f9/labels/metadata.yml\n",
      "2022-04-20 20:20:18,167 - INFO - luna.common.utils - Expanded input:\n",
      "2022-04-20 20:20:18,167 - INFO - luna.common.utils -  -> /home/aukermaa/vmount/PRO_12-123/tiling/01OV007-9b90eb78-2f50-4aeb-b010-d642f9/labels\n",
      "2022-04-20 20:20:18,167 - INFO - luna.common.utils -  -> /home/aukermaa/vmount/PRO_12-123/tiling/01OV007-9b90eb78-2f50-4aeb-b010-d642f9/labels/01OV007-9b90eb78-2f50-4aeb-b010-d642f9.regional_label.tiles.parquet\n",
      "2022-04-20 20:20:18,179 - INFO - luna.common.utils - Found segment keys: {'dsa_collection_uuid': '62604ad0b42dbd234598879a', 'slide_id': '01OV007-9b90eb78-2f50-4aeb-b010-d642f9'}\n",
      "2022-04-20 20:20:18,181 - INFO - luna.common.utils - Full segment key set: {'dsa_collection_uuid': '62604ad0b42dbd234598879a', 'slide_id': '01OV007-9b90eb78-2f50-4aeb-b010-d642f9'}\n",
      "2022-04-20 20:20:18,182 - INFO - luna.common.utils - ------------------------------------------------------------\n",
      "2022-04-20 20:20:18,182 - INFO - luna.common.utils -  Starting transform::save_tiles \n",
      "2022-04-20 20:20:18,182 - INFO - luna.common.utils - ------------------------------------------------------------\n"
     ]
    },
    {
     "name": "stdout",
     "output_type": "stream",
     "text": [
      "\r",
      " 80%|████████  | 123/153 [00:12<00:01, 16.25it/s]\r",
      " 48%|████▊     | 91/188 [00:10<00:15,  6.35it/s]\r",
      " 42%|████▏     | 81/191 [00:10<00:16,  6.64it/s]"
     ]
    },
    {
     "name": "stderr",
     "output_type": "stream",
     "text": [
      "2022-04-20 20:20:18,364 - INFO - generate_tiles - Now generating tiles with num_cores=16 and batch_size=200!\n",
      "2022-04-20 20:20:18,366 - WARNING - generate_tiles - /home/aukermaa/vmount/PRO_12-123/tiling/01OV007-9b90eb78-2f50-4aeb-b010-d642f9/saved_tiles/01OV007-9b90eb78-2f50-4aeb-b010-d642f9.tiles.h5 already exists, deleting the file..\n"
     ]
    },
    {
     "name": "stdout",
     "output_type": "stream",
     "text": [
      " 34%|███▍      | 75/222 [00:12<00:19,  7.38it/s]]"
     ]
    },
    {
     "name": "stderr",
     "output_type": "stream",
     "text": [
      "2022-04-20 20:20:21,454 - INFO - generate_tiles -                  x_coord  ...                                         tile_store\n",
      "2022-04-20 20:20:21,454 - INFO - generate_tiles - address                   ...                                                   \n",
      "2022-04-20 20:20:21,454 - INFO - generate_tiles - x1_y1_z20.0          256  ...  /home/aukermaa/vmount/PRO_12-123/tiling/01OV00...\n",
      "2022-04-20 20:20:21,454 - INFO - generate_tiles - x1_y2_z20.0          256  ...  /home/aukermaa/vmount/PRO_12-123/tiling/01OV00...\n",
      "2022-04-20 20:20:21,454 - INFO - generate_tiles - x1_y3_z20.0          256  ...  /home/aukermaa/vmount/PRO_12-123/tiling/01OV00...\n",
      "2022-04-20 20:20:21,454 - INFO - generate_tiles - x1_y4_z20.0          256  ...  /home/aukermaa/vmount/PRO_12-123/tiling/01OV00...\n",
      "2022-04-20 20:20:21,454 - INFO - generate_tiles - x1_y5_z20.0          256  ...  /home/aukermaa/vmount/PRO_12-123/tiling/01OV00...\n",
      "2022-04-20 20:20:21,454 - INFO - generate_tiles - ...                  ...  ...                                                ...\n",
      "2022-04-20 20:20:21,454 - INFO - generate_tiles - x205_y145_z20.0    52480  ...  /home/aukermaa/vmount/PRO_12-123/tiling/01OV00...\n",
      "2022-04-20 20:20:21,454 - INFO - generate_tiles - x205_y146_z20.0    52480  ...  /home/aukermaa/vmount/PRO_12-123/tiling/01OV00...\n",
      "2022-04-20 20:20:21,454 - INFO - generate_tiles - x205_y147_z20.0    52480  ...  /home/aukermaa/vmount/PRO_12-123/tiling/01OV00...\n",
      "2022-04-20 20:20:21,454 - INFO - generate_tiles - x205_y148_z20.0    52480  ...  /home/aukermaa/vmount/PRO_12-123/tiling/01OV00...\n",
      "2022-04-20 20:20:21,454 - INFO - generate_tiles - x205_y149_z20.0    52480  ...  /home/aukermaa/vmount/PRO_12-123/tiling/01OV00...\n",
      "2022-04-20 20:20:21,454 - INFO - generate_tiles - \n",
      "2022-04-20 20:20:21,454 - INFO - generate_tiles - [30545 rows x 8 columns]\n",
      "2022-04-20 20:20:21,631 - INFO - luna.common.utils - Code block 'transform::save_tiles' took: 18.61173628643155s\n",
      "2022-04-20 20:20:21,657 - INFO - luna.common.utils - ------------------------------------------------------------\n",
      "2022-04-20 20:20:21,657 - INFO - luna.common.utils -  Done with transform, running post-transform functions... \n",
      "2022-04-20 20:20:21,657 - INFO - luna.common.utils - ------------------------------------------------------------\n",
      "2022-04-20 20:20:21,666 - INFO - luna.common.utils - Adding feature segment /home/aukermaa/vmount/PRO_12-123/tiling/01OV008-308ad404-7079-4ff8-8232-12ee2e/saved_tiles/01OV008-308ad404-7079-4ff8-8232-12ee2e.tiles.parquet to PRO_TILES\n",
      "2022-04-20 20:20:21,668 - INFO - luna.common.utils - Found dataset URL = file:///home/aukermaa/vmount/PRO_12-123/tables\n",
      "2022-04-20 20:20:21,670 - INFO - luna.common.utils - Adding /home/aukermaa/vmount/PRO_12-123/tiling/01OV008-308ad404-7079-4ff8-8232-12ee2e/saved_tiles/01OV008-308ad404-7079-4ff8-8232-12ee2e.tiles.parquet to PRO_TILES via file:///home/aukermaa/vmount/PRO_12-123/tables\n",
      "2022-04-20 20:20:21,672 - INFO - luna.common.utils - SEGMENT_ID=62604ad0b42dbd234598879a-01OV008-308ad404-7079-4ff8-8232-12ee2e\n"
     ]
    },
    {
     "name": "stdout",
     "output_type": "stream",
     "text": [
      "\r",
      " 60%|█████▉    | 112/188 [00:14<00:07, 10.36it/s]\r",
      " 58%|█████▊    | 110/191 [00:14<00:07, 11.36it/s]\n",
      "\r",
      " 35%|███▍      | 77/222 [00:12<00:17,  8.39it/s]\r",
      " 59%|█████▊    | 112/191 [00:14<00:06, 12.39it/s]\r",
      " 61%|██████    | 114/188 [00:14<00:06, 10.97it/s]\r",
      " 35%|███▌      | 78/222 [00:12<00:18,  7.83it/s]"
     ]
    },
    {
     "name": "stderr",
     "output_type": "stream",
     "text": [
      "2022-04-20 20:20:21,674 - INFO - luna.common.utils - Writing to: /home/aukermaa/vmount/PRO_12-123/tables/datasets/PRO_TILES/segments/62604ad0b42dbd234598879a-01OV008-308ad404-7079-4ff8-8232-12ee2e\n",
      "2022-04-20 20:20:21,684 - INFO - luna.common.utils - Done.\n"
     ]
    },
    {
     "name": "stdout",
     "output_type": "stream",
     "text": [
      "  3%|▎         | 13/497 [00:02<00:49,  9.79it/s]]"
     ]
    },
    {
     "name": "stderr",
     "output_type": "stream",
     "text": [
      "2022-04-20 20:20:28,471 - INFO - generate_tiles -                  x_coord  ...                                         tile_store\n",
      "2022-04-20 20:20:28,471 - INFO - generate_tiles - address                   ...                                                   \n",
      "2022-04-20 20:20:28,471 - INFO - generate_tiles - x1_y1_z20.0          256  ...  /home/aukermaa/vmount/PRO_12-123/tiling/01OV00...\n",
      "2022-04-20 20:20:28,471 - INFO - generate_tiles - x1_y2_z20.0          256  ...  /home/aukermaa/vmount/PRO_12-123/tiling/01OV00...\n",
      "2022-04-20 20:20:28,471 - INFO - generate_tiles - x1_y3_z20.0          256  ...  /home/aukermaa/vmount/PRO_12-123/tiling/01OV00...\n",
      "2022-04-20 20:20:28,471 - INFO - generate_tiles - x1_y4_z20.0          256  ...  /home/aukermaa/vmount/PRO_12-123/tiling/01OV00...\n",
      "2022-04-20 20:20:28,471 - INFO - generate_tiles - x1_y5_z20.0          256  ...  /home/aukermaa/vmount/PRO_12-123/tiling/01OV00...\n",
      "2022-04-20 20:20:28,471 - INFO - generate_tiles - ...                  ...  ...                                                ...\n",
      "2022-04-20 20:20:28,471 - INFO - generate_tiles - x163_y226_z20.0    41728  ...  /home/aukermaa/vmount/PRO_12-123/tiling/01OV00...\n",
      "2022-04-20 20:20:28,471 - INFO - generate_tiles - x163_y227_z20.0    41728  ...  /home/aukermaa/vmount/PRO_12-123/tiling/01OV00...\n",
      "2022-04-20 20:20:28,471 - INFO - generate_tiles - x163_y228_z20.0    41728  ...  /home/aukermaa/vmount/PRO_12-123/tiling/01OV00...\n",
      "2022-04-20 20:20:28,471 - INFO - generate_tiles - x163_y229_z20.0    41728  ...  /home/aukermaa/vmount/PRO_12-123/tiling/01OV00...\n",
      "2022-04-20 20:20:28,471 - INFO - generate_tiles - x163_y230_z20.0    41728  ...  /home/aukermaa/vmount/PRO_12-123/tiling/01OV00...\n",
      "2022-04-20 20:20:28,471 - INFO - generate_tiles - \n",
      "2022-04-20 20:20:28,471 - INFO - generate_tiles - [37490 rows x 8 columns]\n",
      "2022-04-20 20:20:28,647 - INFO - generate_tiles -                  x_coord  ...                                         tile_store\n",
      "2022-04-20 20:20:28,647 - INFO - generate_tiles - address                   ...                                                   \n",
      "2022-04-20 20:20:28,647 - INFO - generate_tiles - x1_y1_z20.0          256  ...  /home/aukermaa/vmount/PRO_12-123/tiling/01OV00...\n",
      "2022-04-20 20:20:28,647 - INFO - generate_tiles - x1_y2_z20.0          256  ...  /home/aukermaa/vmount/PRO_12-123/tiling/01OV00...\n",
      "2022-04-20 20:20:28,647 - INFO - generate_tiles - x1_y3_z20.0          256  ...  /home/aukermaa/vmount/PRO_12-123/tiling/01OV00...\n",
      "2022-04-20 20:20:28,647 - INFO - generate_tiles - x1_y4_z20.0          256  ...  /home/aukermaa/vmount/PRO_12-123/tiling/01OV00...\n",
      "2022-04-20 20:20:28,647 - INFO - generate_tiles - x1_y5_z20.0          256  ...  /home/aukermaa/vmount/PRO_12-123/tiling/01OV00...\n",
      "2022-04-20 20:20:28,647 - INFO - generate_tiles - ...                  ...  ...                                                ...\n",
      "2022-04-20 20:20:28,647 - INFO - generate_tiles - x197_y189_z20.0    50432  ...  /home/aukermaa/vmount/PRO_12-123/tiling/01OV00...\n",
      "2022-04-20 20:20:28,647 - INFO - generate_tiles - x197_y190_z20.0    50432  ...  /home/aukermaa/vmount/PRO_12-123/tiling/01OV00...\n",
      "2022-04-20 20:20:28,647 - INFO - generate_tiles - x197_y191_z20.0    50432  ...  /home/aukermaa/vmount/PRO_12-123/tiling/01OV00...\n",
      "2022-04-20 20:20:28,647 - INFO - generate_tiles - x197_y192_z20.0    50432  ...  /home/aukermaa/vmount/PRO_12-123/tiling/01OV00...\n",
      "2022-04-20 20:20:28,647 - INFO - generate_tiles - x197_y193_z20.0    50432  ...  /home/aukermaa/vmount/PRO_12-123/tiling/01OV00...\n",
      "2022-04-20 20:20:28,647 - INFO - generate_tiles - \n",
      "2022-04-20 20:20:28,647 - INFO - generate_tiles - [38021 rows x 8 columns]\n"
     ]
    },
    {
     "name": "stdout",
     "output_type": "stream",
     "text": [
      "\r",
      " 62%|██████▏   | 137/222 [00:19<00:08, 10.52it/s]\n",
      "\r",
      "  3%|▎         | 15/497 [00:02<00:54,  8.89it/s]\r",
      " 63%|██████▎   | 139/222 [00:19<00:07, 11.14it/s]\n"
     ]
    },
    {
     "name": "stderr",
     "output_type": "stream",
     "text": [
      "2022-04-20 20:20:28,732 - INFO - luna.common.utils - Code block 'transform::save_tiles' took: 24.42469407990575s\n",
      "2022-04-20 20:20:28,750 - INFO - luna.common.utils - ------------------------------------------------------------\n",
      "2022-04-20 20:20:28,750 - INFO - luna.common.utils -  Done with transform, running post-transform functions... \n",
      "2022-04-20 20:20:28,750 - INFO - luna.common.utils - ------------------------------------------------------------\n",
      "2022-04-20 20:20:28,757 - INFO - luna.common.utils - Adding feature segment /home/aukermaa/vmount/PRO_12-123/tiling/01OV008-7579323e-2fae-43a9-b00f-a15c28/saved_tiles/01OV008-7579323e-2fae-43a9-b00f-a15c28.tiles.parquet to PRO_TILES\n",
      "2022-04-20 20:20:28,757 - INFO - luna.common.utils - Found dataset URL = file:///home/aukermaa/vmount/PRO_12-123/tables\n",
      "2022-04-20 20:20:28,762 - INFO - luna.common.utils - Adding /home/aukermaa/vmount/PRO_12-123/tiling/01OV008-7579323e-2fae-43a9-b00f-a15c28/saved_tiles/01OV008-7579323e-2fae-43a9-b00f-a15c28.tiles.parquet to PRO_TILES via file:///home/aukermaa/vmount/PRO_12-123/tables\n",
      "2022-04-20 20:20:28,763 - INFO - luna.common.utils - SEGMENT_ID=62604ad0b42dbd234598879a-01OV008-7579323e-2fae-43a9-b00f-a15c28\n",
      "2022-04-20 20:20:28,777 - INFO - luna.common.utils - Writing to: /home/aukermaa/vmount/PRO_12-123/tables/datasets/PRO_TILES/segments/62604ad0b42dbd234598879a-01OV008-7579323e-2fae-43a9-b00f-a15c28\n",
      "2022-04-20 20:20:28,785 - INFO - luna.common.utils - Done.\n",
      "2022-04-20 20:20:28,861 - INFO - luna.common.utils - Code block 'transform::save_tiles' took: 24.640388537198305s\n",
      "2022-04-20 20:20:28,862 - INFO - luna.common.utils - ------------------------------------------------------------\n",
      "2022-04-20 20:20:28,862 - INFO - luna.common.utils -  Done with transform, running post-transform functions... \n",
      "2022-04-20 20:20:28,862 - INFO - luna.common.utils - ------------------------------------------------------------\n",
      "2022-04-20 20:20:28,868 - INFO - luna.common.utils - Adding feature segment /home/aukermaa/vmount/PRO_12-123/tiling/01OV002-ed65cf94-8bc6-492b-9149-adc16f/saved_tiles/01OV002-ed65cf94-8bc6-492b-9149-adc16f.tiles.parquet to PRO_TILES\n",
      "2022-04-20 20:20:28,869 - INFO - luna.common.utils - Found dataset URL = file:///home/aukermaa/vmount/PRO_12-123/tables\n",
      "2022-04-20 20:20:28,870 - INFO - luna.common.utils - Adding /home/aukermaa/vmount/PRO_12-123/tiling/01OV002-ed65cf94-8bc6-492b-9149-adc16f/saved_tiles/01OV002-ed65cf94-8bc6-492b-9149-adc16f.tiles.parquet to PRO_TILES via file:///home/aukermaa/vmount/PRO_12-123/tables\n",
      "2022-04-20 20:20:28,871 - INFO - luna.common.utils - SEGMENT_ID=62604ad0b42dbd234598879a-01OV002-ed65cf94-8bc6-492b-9149-adc16f\n",
      "2022-04-20 20:20:28,872 - INFO - luna.common.utils - Writing to: /home/aukermaa/vmount/PRO_12-123/tables/datasets/PRO_TILES/segments/62604ad0b42dbd234598879a-01OV002-ed65cf94-8bc6-492b-9149-adc16f\n",
      "2022-04-20 20:20:28,878 - INFO - luna.common.utils - Done.\n"
     ]
    },
    {
     "name": "stdout",
     "output_type": "stream",
     "text": [
      " 13%|█▎        | 66/497 [00:08<00:42, 10.12it/s]]"
     ]
    },
    {
     "name": "stderr",
     "output_type": "stream",
     "text": [
      "2022-04-20 20:20:34,726 - INFO - generate_tiles -                  x_coord  ...                                         tile_store\n",
      "2022-04-20 20:20:34,726 - INFO - generate_tiles - address                   ...                                                   \n",
      "2022-04-20 20:20:34,726 - INFO - generate_tiles - x1_y1_z20.0          256  ...  /home/aukermaa/vmount/PRO_12-123/tiling/01OV00...\n",
      "2022-04-20 20:20:34,726 - INFO - generate_tiles - x1_y2_z20.0          256  ...  /home/aukermaa/vmount/PRO_12-123/tiling/01OV00...\n",
      "2022-04-20 20:20:34,726 - INFO - generate_tiles - x1_y3_z20.0          256  ...  /home/aukermaa/vmount/PRO_12-123/tiling/01OV00...\n",
      "2022-04-20 20:20:34,726 - INFO - generate_tiles - x1_y4_z20.0          256  ...  /home/aukermaa/vmount/PRO_12-123/tiling/01OV00...\n",
      "2022-04-20 20:20:34,726 - INFO - generate_tiles - x1_y5_z20.0          256  ...  /home/aukermaa/vmount/PRO_12-123/tiling/01OV00...\n",
      "2022-04-20 20:20:34,726 - INFO - generate_tiles - ...                  ...  ...                                                ...\n",
      "2022-04-20 20:20:34,726 - INFO - generate_tiles - x208_y209_z20.0    53248  ...  /home/aukermaa/vmount/PRO_12-123/tiling/01OV00...\n",
      "2022-04-20 20:20:34,726 - INFO - generate_tiles - x208_y210_z20.0    53248  ...  /home/aukermaa/vmount/PRO_12-123/tiling/01OV00...\n",
      "2022-04-20 20:20:34,726 - INFO - generate_tiles - x208_y211_z20.0    53248  ...  /home/aukermaa/vmount/PRO_12-123/tiling/01OV00...\n",
      "2022-04-20 20:20:34,726 - INFO - generate_tiles - x208_y212_z20.0    53248  ...  /home/aukermaa/vmount/PRO_12-123/tiling/01OV00...\n",
      "2022-04-20 20:20:34,726 - INFO - generate_tiles - x208_y213_z20.0    53248  ...  /home/aukermaa/vmount/PRO_12-123/tiling/01OV00...\n",
      "2022-04-20 20:20:34,726 - INFO - generate_tiles - \n",
      "2022-04-20 20:20:34,726 - INFO - generate_tiles - [44304 rows x 8 columns]\n",
      "2022-04-20 20:20:34,907 - INFO - luna.common.utils - Code block 'transform::save_tiles' took: 29.612379737198353s\n",
      "2022-04-20 20:20:34,910 - INFO - luna.common.utils - ------------------------------------------------------------\n",
      "2022-04-20 20:20:34,910 - INFO - luna.common.utils -  Done with transform, running post-transform functions... \n",
      "2022-04-20 20:20:34,910 - INFO - luna.common.utils - ------------------------------------------------------------\n",
      "2022-04-20 20:20:34,916 - INFO - luna.common.utils - Adding feature segment /home/aukermaa/vmount/PRO_12-123/tiling/01OV002-bd8cdc70-3d46-40ae-99c4-90ef77/saved_tiles/01OV002-bd8cdc70-3d46-40ae-99c4-90ef77.tiles.parquet to PRO_TILES\n",
      "2022-04-20 20:20:34,917 - INFO - luna.common.utils - Found dataset URL = file:///home/aukermaa/vmount/PRO_12-123/tables\n",
      "2022-04-20 20:20:34,918 - INFO - luna.common.utils - Adding /home/aukermaa/vmount/PRO_12-123/tiling/01OV002-bd8cdc70-3d46-40ae-99c4-90ef77/saved_tiles/01OV002-bd8cdc70-3d46-40ae-99c4-90ef77.tiles.parquet to PRO_TILES via file:///home/aukermaa/vmount/PRO_12-123/tables\n",
      "2022-04-20 20:20:34,919 - INFO - luna.common.utils - SEGMENT_ID=62604ad0b42dbd234598879a-01OV002-bd8cdc70-3d46-40ae-99c4-90ef77\n",
      "2022-04-20 20:20:34,920 - INFO - luna.common.utils - Writing to: /home/aukermaa/vmount/PRO_12-123/tables/datasets/PRO_TILES/segments/62604ad0b42dbd234598879a-01OV002-bd8cdc70-3d46-40ae-99c4-90ef77\n",
      "2022-04-20 20:20:34,946 - INFO - luna.common.utils - Done.\n"
     ]
    },
    {
     "name": "stdout",
     "output_type": "stream",
     "text": [
      "\n",
      "100%|██████████| 497/497 [00:37<00:00, 13.14it/s]"
     ]
    },
    {
     "name": "stderr",
     "output_type": "stream",
     "text": [
      "2022-04-20 20:21:04,776 - INFO - generate_tiles -                  x_coord  ...                                         tile_store\n",
      "2022-04-20 20:21:04,776 - INFO - generate_tiles - address                   ...                                                   \n",
      "2022-04-20 20:21:04,776 - INFO - generate_tiles - x1_y1_z20.0          256  ...  /home/aukermaa/vmount/PRO_12-123/tiling/01OV00...\n",
      "2022-04-20 20:21:04,776 - INFO - generate_tiles - x1_y2_z20.0          256  ...  /home/aukermaa/vmount/PRO_12-123/tiling/01OV00...\n",
      "2022-04-20 20:21:04,776 - INFO - generate_tiles - x1_y3_z20.0          256  ...  /home/aukermaa/vmount/PRO_12-123/tiling/01OV00...\n",
      "2022-04-20 20:21:04,776 - INFO - generate_tiles - x1_y4_z20.0          256  ...  /home/aukermaa/vmount/PRO_12-123/tiling/01OV00...\n",
      "2022-04-20 20:21:04,776 - INFO - generate_tiles - x1_y5_z20.0          256  ...  /home/aukermaa/vmount/PRO_12-123/tiling/01OV00...\n",
      "2022-04-20 20:21:04,776 - INFO - generate_tiles - ...                  ...  ...                                                ...\n",
      "2022-04-20 20:21:04,776 - INFO - generate_tiles - x426_y229_z20.0   109056  ...  /home/aukermaa/vmount/PRO_12-123/tiling/01OV00...\n",
      "2022-04-20 20:21:04,776 - INFO - generate_tiles - x426_y230_z20.0   109056  ...  /home/aukermaa/vmount/PRO_12-123/tiling/01OV00...\n",
      "2022-04-20 20:21:04,776 - INFO - generate_tiles - x426_y231_z20.0   109056  ...  /home/aukermaa/vmount/PRO_12-123/tiling/01OV00...\n",
      "2022-04-20 20:21:04,776 - INFO - generate_tiles - x426_y232_z20.0   109056  ...  /home/aukermaa/vmount/PRO_12-123/tiling/01OV00...\n",
      "2022-04-20 20:21:04,776 - INFO - generate_tiles - x426_y233_z20.0   109056  ...  /home/aukermaa/vmount/PRO_12-123/tiling/01OV00...\n",
      "2022-04-20 20:21:04,776 - INFO - generate_tiles - \n",
      "2022-04-20 20:21:04,776 - INFO - generate_tiles - [99258 rows x 8 columns]\n",
      "2022-04-20 20:21:05,159 - INFO - luna.common.utils - Code block 'transform::save_tiles' took: 46.97516653314233s\n",
      "2022-04-20 20:21:05,162 - INFO - luna.common.utils - ------------------------------------------------------------\n",
      "2022-04-20 20:21:05,162 - INFO - luna.common.utils -  Done with transform, running post-transform functions... \n",
      "2022-04-20 20:21:05,162 - INFO - luna.common.utils - ------------------------------------------------------------\n",
      "2022-04-20 20:21:05,168 - INFO - luna.common.utils - Adding feature segment /home/aukermaa/vmount/PRO_12-123/tiling/01OV007-9b90eb78-2f50-4aeb-b010-d642f9/saved_tiles/01OV007-9b90eb78-2f50-4aeb-b010-d642f9.tiles.parquet to PRO_TILES\n",
      "2022-04-20 20:21:05,169 - INFO - luna.common.utils - Found dataset URL = file:///home/aukermaa/vmount/PRO_12-123/tables\n",
      "2022-04-20 20:21:05,170 - INFO - luna.common.utils - Adding /home/aukermaa/vmount/PRO_12-123/tiling/01OV007-9b90eb78-2f50-4aeb-b010-d642f9/saved_tiles/01OV007-9b90eb78-2f50-4aeb-b010-d642f9.tiles.parquet to PRO_TILES via file:///home/aukermaa/vmount/PRO_12-123/tables\n",
      "2022-04-20 20:21:05,171 - INFO - luna.common.utils - SEGMENT_ID=62604ad0b42dbd234598879a-01OV007-9b90eb78-2f50-4aeb-b010-d642f9\n",
      "2022-04-20 20:21:05,172 - INFO - luna.common.utils - Writing to: /home/aukermaa/vmount/PRO_12-123/tables/datasets/PRO_TILES/segments/62604ad0b42dbd234598879a-01OV007-9b90eb78-2f50-4aeb-b010-d642f9\n",
      "2022-04-20 20:21:05,184 - INFO - luna.common.utils - Done.\n"
     ]
    },
    {
     "name": "stdout",
     "output_type": "stream",
     "text": [
      "\n"
     ]
    }
   ],
   "source": [
    "from concurrent.futures import ThreadPoolExecutor\n",
    "\n",
    "with ThreadPoolExecutor(5) as pool:\n",
    "    pool.submit(pipeline, \"01OV002-bd8cdc70-3d46-40ae-99c4-90ef77\", \"../PRO_12-123/data/toy_data_set/01OV002-bd8cdc70-3d46-40ae-99c4-90ef77.svs\", \"../PRO_12-123/data/toy_data_set/table/ANNOTATIONS\")\n",
    "    pool.submit(pipeline, \"01OV002-ed65cf94-8bc6-492b-9149-adc16f\", \"../PRO_12-123/data/toy_data_set/01OV002-ed65cf94-8bc6-492b-9149-adc16f.svs\", \"../PRO_12-123/data/toy_data_set/table/ANNOTATIONS\")\n",
    "    pool.submit(pipeline, \"01OV007-9b90eb78-2f50-4aeb-b010-d642f9\", \"../PRO_12-123/data/toy_data_set/01OV007-9b90eb78-2f50-4aeb-b010-d642f9.svs\", \"../PRO_12-123/data/toy_data_set/table/ANNOTATIONS\")\n",
    "    pool.submit(pipeline, \"01OV008-308ad404-7079-4ff8-8232-12ee2e\", \"../PRO_12-123/data/toy_data_set/01OV008-308ad404-7079-4ff8-8232-12ee2e.svs\", \"../PRO_12-123/data/toy_data_set/table/ANNOTATIONS\")\n",
    "    pool.submit(pipeline, \"01OV008-7579323e-2fae-43a9-b00f-a15c28\", \"../PRO_12-123/data/toy_data_set/01OV008-7579323e-2fae-43a9-b00f-a15c28.svs\", \"../PRO_12-123/data/toy_data_set/table/ANNOTATIONS\")\n",
    "\n"
   ]
  },
  {
   "cell_type": "code",
   "execution_count": 76,
   "metadata": {},
   "outputs": [
    {
     "data": {
      "text/html": [
       "<div>\n",
       "<style scoped>\n",
       "    .dataframe tbody tr th:only-of-type {\n",
       "        vertical-align: middle;\n",
       "    }\n",
       "\n",
       "    .dataframe tbody tr th {\n",
       "        vertical-align: top;\n",
       "    }\n",
       "\n",
       "    .dataframe thead th {\n",
       "        text-align: right;\n",
       "    }\n",
       "</style>\n",
       "<table border=\"1\" class=\"dataframe\">\n",
       "  <thead>\n",
       "    <tr style=\"text-align: right;\">\n",
       "      <th></th>\n",
       "      <th>x_coord</th>\n",
       "      <th>y_coord</th>\n",
       "      <th>xy_extent</th>\n",
       "      <th>tile_size</th>\n",
       "      <th>tile_units</th>\n",
       "      <th>regional_label</th>\n",
       "      <th>intersection_area</th>\n",
       "      <th>tile_store</th>\n",
       "    </tr>\n",
       "    <tr>\n",
       "      <th>address</th>\n",
       "      <th></th>\n",
       "      <th></th>\n",
       "      <th></th>\n",
       "      <th></th>\n",
       "      <th></th>\n",
       "      <th></th>\n",
       "      <th></th>\n",
       "      <th></th>\n",
       "    </tr>\n",
       "  </thead>\n",
       "  <tbody>\n",
       "    <tr>\n",
       "      <th>x52_y114_z20.0</th>\n",
       "      <td>13312</td>\n",
       "      <td>29184</td>\n",
       "      <td>256</td>\n",
       "      <td>128</td>\n",
       "      <td>px</td>\n",
       "      <td>stroma</td>\n",
       "      <td>0.055345</td>\n",
       "      <td>/home/aukermaa/vmount/PRO_12-123/tiling/01OV00...</td>\n",
       "    </tr>\n",
       "    <tr>\n",
       "      <th>x53_y113_z20.0</th>\n",
       "      <td>13568</td>\n",
       "      <td>28928</td>\n",
       "      <td>256</td>\n",
       "      <td>128</td>\n",
       "      <td>px</td>\n",
       "      <td>stroma</td>\n",
       "      <td>0.212376</td>\n",
       "      <td>/home/aukermaa/vmount/PRO_12-123/tiling/01OV00...</td>\n",
       "    </tr>\n",
       "    <tr>\n",
       "      <th>x53_y114_z20.0</th>\n",
       "      <td>13568</td>\n",
       "      <td>29184</td>\n",
       "      <td>256</td>\n",
       "      <td>128</td>\n",
       "      <td>px</td>\n",
       "      <td>stroma</td>\n",
       "      <td>0.965976</td>\n",
       "      <td>/home/aukermaa/vmount/PRO_12-123/tiling/01OV00...</td>\n",
       "    </tr>\n",
       "    <tr>\n",
       "      <th>x53_y115_z20.0</th>\n",
       "      <td>13568</td>\n",
       "      <td>29440</td>\n",
       "      <td>256</td>\n",
       "      <td>128</td>\n",
       "      <td>px</td>\n",
       "      <td>stroma</td>\n",
       "      <td>0.344496</td>\n",
       "      <td>/home/aukermaa/vmount/PRO_12-123/tiling/01OV00...</td>\n",
       "    </tr>\n",
       "    <tr>\n",
       "      <th>x54_y112_z20.0</th>\n",
       "      <td>13824</td>\n",
       "      <td>28672</td>\n",
       "      <td>256</td>\n",
       "      <td>128</td>\n",
       "      <td>px</td>\n",
       "      <td>stroma</td>\n",
       "      <td>0.061422</td>\n",
       "      <td>/home/aukermaa/vmount/PRO_12-123/tiling/01OV00...</td>\n",
       "    </tr>\n",
       "    <tr>\n",
       "      <th>...</th>\n",
       "      <td>...</td>\n",
       "      <td>...</td>\n",
       "      <td>...</td>\n",
       "      <td>...</td>\n",
       "      <td>...</td>\n",
       "      <td>...</td>\n",
       "      <td>...</td>\n",
       "      <td>...</td>\n",
       "    </tr>\n",
       "    <tr>\n",
       "      <th>x111_y80_z20.0</th>\n",
       "      <td>28416</td>\n",
       "      <td>20480</td>\n",
       "      <td>256</td>\n",
       "      <td>128</td>\n",
       "      <td>px</td>\n",
       "      <td>stroma</td>\n",
       "      <td>1.000000</td>\n",
       "      <td>/home/aukermaa/vmount/PRO_12-123/tiling/01OV00...</td>\n",
       "    </tr>\n",
       "    <tr>\n",
       "      <th>x111_y81_z20.0</th>\n",
       "      <td>28416</td>\n",
       "      <td>20736</td>\n",
       "      <td>256</td>\n",
       "      <td>128</td>\n",
       "      <td>px</td>\n",
       "      <td>stroma</td>\n",
       "      <td>0.577473</td>\n",
       "      <td>/home/aukermaa/vmount/PRO_12-123/tiling/01OV00...</td>\n",
       "    </tr>\n",
       "    <tr>\n",
       "      <th>x112_y79_z20.0</th>\n",
       "      <td>28672</td>\n",
       "      <td>20224</td>\n",
       "      <td>256</td>\n",
       "      <td>128</td>\n",
       "      <td>px</td>\n",
       "      <td>stroma</td>\n",
       "      <td>0.000450</td>\n",
       "      <td>/home/aukermaa/vmount/PRO_12-123/tiling/01OV00...</td>\n",
       "    </tr>\n",
       "    <tr>\n",
       "      <th>x112_y80_z20.0</th>\n",
       "      <td>28672</td>\n",
       "      <td>20480</td>\n",
       "      <td>256</td>\n",
       "      <td>128</td>\n",
       "      <td>px</td>\n",
       "      <td>stroma</td>\n",
       "      <td>0.251255</td>\n",
       "      <td>/home/aukermaa/vmount/PRO_12-123/tiling/01OV00...</td>\n",
       "    </tr>\n",
       "    <tr>\n",
       "      <th>x112_y81_z20.0</th>\n",
       "      <td>28672</td>\n",
       "      <td>20736</td>\n",
       "      <td>256</td>\n",
       "      <td>128</td>\n",
       "      <td>px</td>\n",
       "      <td>stroma</td>\n",
       "      <td>0.045343</td>\n",
       "      <td>/home/aukermaa/vmount/PRO_12-123/tiling/01OV00...</td>\n",
       "    </tr>\n",
       "  </tbody>\n",
       "</table>\n",
       "<p>4025 rows × 8 columns</p>\n",
       "</div>"
      ],
      "text/plain": [
       "                x_coord  y_coord  xy_extent  tile_size tile_units  \\\n",
       "address                                                             \n",
       "x52_y114_z20.0    13312    29184        256        128         px   \n",
       "x53_y113_z20.0    13568    28928        256        128         px   \n",
       "x53_y114_z20.0    13568    29184        256        128         px   \n",
       "x53_y115_z20.0    13568    29440        256        128         px   \n",
       "x54_y112_z20.0    13824    28672        256        128         px   \n",
       "...                 ...      ...        ...        ...        ...   \n",
       "x111_y80_z20.0    28416    20480        256        128         px   \n",
       "x111_y81_z20.0    28416    20736        256        128         px   \n",
       "x112_y79_z20.0    28672    20224        256        128         px   \n",
       "x112_y80_z20.0    28672    20480        256        128         px   \n",
       "x112_y81_z20.0    28672    20736        256        128         px   \n",
       "\n",
       "               regional_label  intersection_area  \\\n",
       "address                                            \n",
       "x52_y114_z20.0         stroma           0.055345   \n",
       "x53_y113_z20.0         stroma           0.212376   \n",
       "x53_y114_z20.0         stroma           0.965976   \n",
       "x53_y115_z20.0         stroma           0.344496   \n",
       "x54_y112_z20.0         stroma           0.061422   \n",
       "...                       ...                ...   \n",
       "x111_y80_z20.0         stroma           1.000000   \n",
       "x111_y81_z20.0         stroma           0.577473   \n",
       "x112_y79_z20.0         stroma           0.000450   \n",
       "x112_y80_z20.0         stroma           0.251255   \n",
       "x112_y81_z20.0         stroma           0.045343   \n",
       "\n",
       "                                                       tile_store  \n",
       "address                                                            \n",
       "x52_y114_z20.0  /home/aukermaa/vmount/PRO_12-123/tiling/01OV00...  \n",
       "x53_y113_z20.0  /home/aukermaa/vmount/PRO_12-123/tiling/01OV00...  \n",
       "x53_y114_z20.0  /home/aukermaa/vmount/PRO_12-123/tiling/01OV00...  \n",
       "x53_y115_z20.0  /home/aukermaa/vmount/PRO_12-123/tiling/01OV00...  \n",
       "x54_y112_z20.0  /home/aukermaa/vmount/PRO_12-123/tiling/01OV00...  \n",
       "...                                                           ...  \n",
       "x111_y80_z20.0  /home/aukermaa/vmount/PRO_12-123/tiling/01OV00...  \n",
       "x111_y81_z20.0  /home/aukermaa/vmount/PRO_12-123/tiling/01OV00...  \n",
       "x112_y79_z20.0  /home/aukermaa/vmount/PRO_12-123/tiling/01OV00...  \n",
       "x112_y80_z20.0  /home/aukermaa/vmount/PRO_12-123/tiling/01OV00...  \n",
       "x112_y81_z20.0  /home/aukermaa/vmount/PRO_12-123/tiling/01OV00...  \n",
       "\n",
       "[4025 rows x 8 columns]"
      ]
     },
     "execution_count": 76,
     "metadata": {},
     "output_type": "execute_result"
    }
   ],
   "source": [
    "pd.read_parquet(\"/home/aukermaa/vmount/PRO_12-123/tables/datasets/PRO_TILES/\").query(\"intersection_area > 0\")"
   ]
  },
  {
   "cell_type": "markdown",
   "metadata": {},
   "source": [
    "Congratulations! Now you have the tiles images and labels ready to train your model."
   ]
  }
 ],
 "metadata": {
  "kernelspec": {
   "display_name": "Python 3 (ipykernel)",
   "language": "python",
   "name": "python3"
  },
  "language_info": {
   "codemirror_mode": {
    "name": "ipython",
    "version": 3
   },
   "file_extension": ".py",
   "mimetype": "text/x-python",
   "name": "python",
   "nbconvert_exporter": "python",
   "pygments_lexer": "ipython3",
   "version": "3.9.11"
  }
 },
 "nbformat": 4,
 "nbformat_minor": 4
}
