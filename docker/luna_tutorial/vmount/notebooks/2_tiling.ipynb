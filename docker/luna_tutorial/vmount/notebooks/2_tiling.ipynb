{
 "cells": [
  {
   "cell_type": "markdown",
   "metadata": {},
   "source": [
    "# Tile Generation Tutorial"
   ]
  },
  {
   "cell_type": "markdown",
   "metadata": {},
   "source": [
    "Welcome to the tile generation tutorial!\n",
    "\n",
    "As a whole slide image is too large for deep learning model training, a slide is often divded into a set of small tiles, and used for training. For tile-based whole slide image analysis, generating tiles and labels is an important and laborious step. With LUNA tiling CLIs and tutorials, you can easily generate tile labels and get your data ready for downstream analysis. In this notebook, we will see how to generate tiles and labels using LUNA tiling CLIs. Here are the main steps we will review:\n",
    "\n",
    "1. Load slides\n",
    "2. Generate tiles, labels\n",
    "3. Collect tiles for model training\n",
    "\n",
    "Through out this notebook, we will use different method parameter files. Please refer to the example parameter files in the `configs` directory to follow these steps.\n"
   ]
  },
  {
   "cell_type": "code",
   "execution_count": 2,
   "metadata": {},
   "outputs": [
    {
     "name": "stdout",
     "output_type": "stream",
     "text": [
      "env: DATASET_URL=file:///home/aukermaa/vmount/PRO_12-123/\n"
     ]
    }
   ],
   "source": [
    "env DATASET_URL=file:///home/aukermaa/vmount/PRO_12-123/"
   ]
  },
  {
   "cell_type": "markdown",
   "metadata": {},
   "source": [
    "This is the main tiling step. The CLI generates tiles, populates otsu and purple scores along with the regional annotation label. An otsu score is calculated using the otsu foreground/background detection algorithm commonly used to filter out the background of the slide. Purple scores are calculated to provide additional guidance to H&E slide analysis.\n"
   ]
  },
  {
   "cell_type": "code",
   "execution_count": 18,
   "metadata": {},
   "outputs": [
    {
     "name": "stdout",
     "output_type": "stream",
     "text": [
      "2022-04-21 18:21:34,036 - INFO - root - Initalized logger, log file at: data-processing.log\n",
      "2022-04-21 18:21:35,815 - INFO - luna.common.utils - Started CLI Runner wtih <function generate_tiles at 0x7f8321273310>\n",
      "2022-04-21 18:21:35,817 - INFO - luna.common.utils - Validating params...\n",
      "2022-04-21 18:21:35,819 - INFO - luna.common.utils -  -> Set input_slide_image (<class 'str'>) = file:~/vmount/PRO_12-123/data/toy_data_set/01OV002-bd8cdc70-3d46-40ae-99c4-90ef77.svs\n",
      "2022-04-21 18:21:35,820 - INFO - luna.common.utils -  -> Set output_dir (<class 'str'>) = /home/aukermaa/vmount/PRO_12-123/tiling/test/tiles\n",
      "2022-04-21 18:21:35,821 - INFO - luna.common.utils -  -> Set tile_size (<class 'int'>) = 128\n",
      "2022-04-21 18:21:35,822 - INFO - luna.common.utils -  -> Set requested_magnification (<class 'float'>) = 20.0\n",
      "2022-04-21 18:21:35,823 - INFO - luna.common.utils - Expanding inputs...\n",
      "2022-04-21 18:21:35,824 - INFO - luna.common.utils - Attempting to read metadata at file:~/vmount/PRO_12-123/data/toy_data_set/01OV002-bd8cdc70-3d46-40ae-99c4-90ef77.svs/metadata.yml\n",
      "2022-04-21 18:21:35,825 - WARNING - luna.common.utils - Resolving a user directory, be careful!\n",
      "2022-04-21 18:21:35,826 - INFO - luna.common.utils - Resolved input:\n",
      "2022-04-21 18:21:35,826 - INFO - luna.common.utils -  -> file:~/vmount/PRO_12-123/data/toy_data_set/01OV002-bd8cdc70-3d46-40ae-99c4-90ef77.svs\n",
      "2022-04-21 18:21:35,826 - INFO - luna.common.utils -  -> /home/aukermaa/vmount/PRO_12-123/data/toy_data_set/01OV002-bd8cdc70-3d46-40ae-99c4-90ef77.svs\n",
      "2022-04-21 18:21:35,827 - INFO - luna.common.utils - Full segment key set: {}\n",
      "2022-04-21 18:21:35,827 - INFO - luna.common.utils - ------------------------------------------------------------\n",
      "2022-04-21 18:21:35,827 - INFO - luna.common.utils -  Starting transform::generate_tiles \n",
      "2022-04-21 18:21:35,827 - INFO - luna.common.utils - ------------------------------------------------------------\n",
      "2022-04-21 18:21:35,842 - INFO - generate_tiles - Slide size = [53760,54840]\n",
      "2022-04-21 18:21:35,843 - INFO - generate_tiles - Normalized magnification scale factor for 20.0x is 2.0\n",
      "2022-04-21 18:21:35,844 - INFO - generate_tiles - Requested tile size=128, tile size at full magnficiation=256\n",
      "2022-04-21 18:21:35,845 - INFO - generate_tiles - tiles x 210, tiles y 215\n",
      "2022-04-21 18:21:35,895 - INFO - generate_tiles - Number of tiles in raster: 44304\n",
      "2022-04-21 18:21:35,941 - INFO - generate_tiles -                  x_coord  y_coord  xy_extent  tile_size tile_units\n",
      "2022-04-21 18:21:35,941 - INFO - generate_tiles - address                                                           \n",
      "2022-04-21 18:21:35,941 - INFO - generate_tiles - x1_y1_z20.0          256      256        256        128         px\n",
      "2022-04-21 18:21:35,941 - INFO - generate_tiles - x1_y2_z20.0          256      512        256        128         px\n",
      "2022-04-21 18:21:35,941 - INFO - generate_tiles - x1_y3_z20.0          256      768        256        128         px\n",
      "2022-04-21 18:21:35,941 - INFO - generate_tiles - x1_y4_z20.0          256     1024        256        128         px\n",
      "2022-04-21 18:21:35,941 - INFO - generate_tiles - x1_y5_z20.0          256     1280        256        128         px\n",
      "2022-04-21 18:21:35,941 - INFO - generate_tiles - ...                  ...      ...        ...        ...        ...\n",
      "2022-04-21 18:21:35,941 - INFO - generate_tiles - x208_y209_z20.0    53248    53504        256        128         px\n",
      "2022-04-21 18:21:35,941 - INFO - generate_tiles - x208_y210_z20.0    53248    53760        256        128         px\n",
      "2022-04-21 18:21:35,941 - INFO - generate_tiles - x208_y211_z20.0    53248    54016        256        128         px\n",
      "2022-04-21 18:21:35,941 - INFO - generate_tiles - x208_y212_z20.0    53248    54272        256        128         px\n",
      "2022-04-21 18:21:35,941 - INFO - generate_tiles - x208_y213_z20.0    53248    54528        256        128         px\n",
      "2022-04-21 18:21:35,941 - INFO - generate_tiles - \n",
      "2022-04-21 18:21:35,941 - INFO - generate_tiles - [44304 rows x 5 columns]\n",
      "2022-04-21 18:21:36,011 - INFO - luna.common.utils - Code block 'transform::generate_tiles' took: 0.1822694167494774s\n",
      "2022-04-21 18:21:36,039 - INFO - luna.common.utils - ------------------------------------------------------------\n",
      "2022-04-21 18:21:36,039 - INFO - luna.common.utils -  Done with transform, running post-transform functions... \n",
      "2022-04-21 18:21:36,039 - INFO - luna.common.utils - ------------------------------------------------------------\n",
      "2022-04-21 18:21:36,043 - INFO - luna.common.utils - Done.\n"
     ]
    }
   ],
   "source": [
    "!generate_tiles \\\n",
    "file:~/vmount/PRO_12-123/data/toy_data_set/01OV002-bd8cdc70-3d46-40ae-99c4-90ef77.svs \\\n",
    "--tile_size 128 --requested_magnification 20 \\\n",
    "-o /home/aukermaa/vmount/PRO_12-123/tiling/test/tiles\n"
   ]
  },
  {
   "cell_type": "code",
   "execution_count": 7,
   "metadata": {},
   "outputs": [
    {
     "name": "stdout",
     "output_type": "stream",
     "text": [
      "2022-04-21 16:45:25,051 - INFO - root - Initalized logger, log file at: data-processing.log\n",
      "2022-04-21 16:45:26,761 - INFO - luna.common.utils - Started CLI Runner wtih <function detect_tissue at 0x7efc7b348160>\n",
      "2022-04-21 16:45:26,763 - INFO - luna.common.utils - Validating params...\n",
      "2022-04-21 16:45:26,764 - INFO - luna.common.utils -  -> Set input_slide_image (<class 'str'>) = /home/aukermaa/vmount/PRO_12-123/data/toy_data_set/01OV002-bd8cdc70-3d46-40ae-99c4-90ef77.svs\n",
      "2022-04-21 16:45:26,765 - INFO - luna.common.utils -  -> Set input_slide_tiles (<class 'str'>) = /home/aukermaa/vmount/PRO_12-123/tiling/test/tiles\n",
      "2022-04-21 16:45:26,767 - INFO - luna.common.utils -  -> Set requested_magnification (<class 'float'>) = 2.0\n",
      "2022-04-21 16:45:26,768 - INFO - luna.common.utils -  -> Set filter_query (<class 'str'>) = otsu_score > 0.1\n",
      "2022-04-21 16:45:26,769 - INFO - luna.common.utils -  -> Set output_dir (<class 'str'>) = /home/aukermaa/vmount/PRO_12-123/tiling/test/detect\n",
      "2022-04-21 16:45:26,770 - INFO - luna.common.utils -  -> Set num_cores (<class 'int'>) = 4\n",
      "2022-04-21 16:45:26,772 - INFO - luna.common.utils - Expanding inputs...\n",
      "2022-04-21 16:45:26,773 - INFO - luna.common.utils - Attempting to read metadata at /home/aukermaa/vmount/PRO_12-123/data/toy_data_set/01OV002-bd8cdc70-3d46-40ae-99c4-90ef77.svs/metadata.yml\n",
      "2022-04-21 16:45:26,775 - INFO - luna.common.utils - Attempting to read metadata at /home/aukermaa/vmount/PRO_12-123/tiling/test/tiles/metadata.yml\n",
      "2022-04-21 16:45:26,779 - INFO - luna.common.utils - Expanded input:\n",
      "2022-04-21 16:45:26,779 - INFO - luna.common.utils -  -> /home/aukermaa/vmount/PRO_12-123/tiling/test/tiles\n",
      "2022-04-21 16:45:26,779 - INFO - luna.common.utils -  -> /home/aukermaa/vmount/PRO_12-123/tiling/test/tiles/01OV002-bd8cdc70-3d46-40ae-99c4-90ef77.tiles.parquet\n",
      "2022-04-21 16:45:26,780 - INFO - luna.common.utils - Found segment keys: {'slide_id': '01OV002-bd8cdc70-3d46-40ae-99c4-90ef77'}\n",
      "2022-04-21 16:45:26,782 - INFO - luna.common.utils - Resolved input:\n",
      "2022-04-21 16:45:26,782 - INFO - luna.common.utils -  -> /home/aukermaa/vmount/PRO_12-123/data/toy_data_set/01OV002-bd8cdc70-3d46-40ae-99c4-90ef77.svs\n",
      "2022-04-21 16:45:26,782 - INFO - luna.common.utils -  -> /home/aukermaa/vmount/PRO_12-123/data/toy_data_set/01OV002-bd8cdc70-3d46-40ae-99c4-90ef77.svs\n",
      "2022-04-21 16:45:26,783 - INFO - luna.common.utils - Resolved input:\n",
      "2022-04-21 16:45:26,783 - INFO - luna.common.utils -  -> /home/aukermaa/vmount/PRO_12-123/tiling/test/tiles/01OV002-bd8cdc70-3d46-40ae-99c4-90ef77.tiles.parquet\n",
      "2022-04-21 16:45:26,783 - INFO - luna.common.utils -  -> /home/aukermaa/vmount/PRO_12-123/tiling/test/tiles/01OV002-bd8cdc70-3d46-40ae-99c4-90ef77.tiles.parquet\n",
      "2022-04-21 16:45:26,784 - INFO - luna.common.utils - Full segment key set: {'slide_id': '01OV002-bd8cdc70-3d46-40ae-99c4-90ef77'}\n",
      "2022-04-21 16:45:26,785 - INFO - luna.common.utils - ------------------------------------------------------------\n",
      "2022-04-21 16:45:26,785 - INFO - luna.common.utils -  Starting transform::detect_tissue \n",
      "2022-04-21 16:45:26,785 - INFO - luna.common.utils - ------------------------------------------------------------\n",
      "2022-04-21 16:45:26,854 - INFO - detect_tissue - Slide dimensions (53760, 54840)\n",
      "2022-04-21 16:45:26,855 - INFO - detect_tissue - Thumbnail scale factor: 20.0\n",
      "2022-04-21 16:45:28,311 - INFO - detect_tissue - Sample array size: (2742, 2688, 3)\n",
      "2022-04-21 16:45:46,080 - INFO - detect_tissue - Starting otsu thresholding, threshold=0.7300508425245098\n",
      "100%|███████████████████████████████████| 44304/44304 [00:44<00:00, 1004.93it/s]\n",
      "2022-04-21 16:46:34,250 - INFO - detect_tissue - Filtering based on query: otsu_score > 0.1\n",
      "2022-04-21 16:46:34,265 - INFO - detect_tissue -                  x_coord  y_coord  xy_extent  tile_size tile_units  otsu_score\n",
      "2022-04-21 16:46:34,265 - INFO - detect_tissue - address                                                                       \n",
      "2022-04-21 16:46:34,265 - INFO - detect_tissue - x3_y58_z20.0         768    14848        256        128         px        0.16\n",
      "2022-04-21 16:46:34,265 - INFO - detect_tissue - x6_y171_z20.0       1536    43776        256        128         px        0.16\n",
      "2022-04-21 16:46:34,265 - INFO - detect_tissue - x6_y172_z20.0       1536    44032        256        128         px        0.47\n",
      "2022-04-21 16:46:34,265 - INFO - detect_tissue - x6_y173_z20.0       1536    44288        256        128         px        0.45\n",
      "2022-04-21 16:46:34,265 - INFO - detect_tissue - x6_y174_z20.0       1536    44544        256        128         px        0.35\n",
      "2022-04-21 16:46:34,265 - INFO - detect_tissue - ...                  ...      ...        ...        ...        ...         ...\n",
      "2022-04-21 16:46:34,265 - INFO - detect_tissue - x188_y118_z20.0    48128    30208        256        128         px        0.21\n",
      "2022-04-21 16:46:34,265 - INFO - detect_tissue - x193_y206_z20.0    49408    52736        256        128         px        0.14\n",
      "2022-04-21 16:46:34,265 - INFO - detect_tissue - x200_y167_z20.0    51200    42752        256        128         px        0.15\n",
      "2022-04-21 16:46:34,265 - INFO - detect_tissue - x201_y198_z20.0    51456    50688        256        128         px        0.12\n",
      "2022-04-21 16:46:34,265 - INFO - detect_tissue - x207_y208_z20.0    52992    53248        256        128         px        0.11\n",
      "2022-04-21 16:46:34,265 - INFO - detect_tissue - \n",
      "2022-04-21 16:46:34,265 - INFO - detect_tissue - [19982 rows x 6 columns]\n",
      "2022-04-21 16:46:34,306 - INFO - luna.common.utils - Code block 'transform::detect_tissue' took: 67.51937088742852s\n",
      "2022-04-21 16:46:34,307 - INFO - luna.common.utils - ------------------------------------------------------------\n",
      "2022-04-21 16:46:34,307 - INFO - luna.common.utils -  Done with transform, running post-transform functions... \n",
      "2022-04-21 16:46:34,307 - INFO - luna.common.utils - ------------------------------------------------------------\n",
      "2022-04-21 16:46:34,312 - INFO - luna.common.utils - Done.\n"
     ]
    }
   ],
   "source": [
    "!detect_tissue \\\n",
    "~/vmount/PRO_12-123/data/toy_data_set/01OV002-bd8cdc70-3d46-40ae-99c4-90ef77.svs \\\n",
    "/home/aukermaa/vmount/PRO_12-123/tiling/test/tiles \\\n",
    "--requested_magnification 2 \\\n",
    "--filter_query \"otsu_score > 0.1\" \\\n",
    "-o /home/aukermaa/vmount/PRO_12-123/tiling/test/detect"
   ]
  },
  {
   "cell_type": "code",
   "execution_count": 8,
   "metadata": {},
   "outputs": [
    {
     "name": "stdout",
     "output_type": "stream",
     "text": [
      "2022-04-21 16:46:42,161 - INFO - root - Initalized logger, log file at: data-processing.log\n",
      "2022-04-21 16:46:42,162 - INFO - luna.common.utils - Started CLI Runner wtih <function generate_tile_labels at 0x7f91b750faf0>\n",
      "2022-04-21 16:46:42,163 - INFO - luna.common.utils - Validating params...\n",
      "2022-04-21 16:46:42,165 - INFO - luna.common.utils -  -> Set input_slide_annotation_dataset (<class 'str'>) = ../PRO_12-123/data/toy_data_set/table/ANNOTATIONS\n",
      "2022-04-21 16:46:42,167 - INFO - luna.common.utils -  -> Set input_slide_tiles (<class 'str'>) = /home/aukermaa/vmount/PRO_12-123/tiling/test/detect\n",
      "2022-04-21 16:46:42,168 - INFO - luna.common.utils -  -> Set output_dir (<class 'str'>) = /home/aukermaa/vmount/PRO_12-123/tiling/test/label\n",
      "2022-04-21 16:46:42,171 - INFO - luna.common.utils - Expanding inputs...\n",
      "2022-04-21 16:46:42,173 - INFO - luna.common.utils - Attempting to read metadata at ../PRO_12-123/data/toy_data_set/table/ANNOTATIONS/metadata.yml\n",
      "2022-04-21 16:46:42,179 - INFO - luna.common.utils - Expanded input:\n",
      "2022-04-21 16:46:42,179 - INFO - luna.common.utils -  -> ../PRO_12-123/data/toy_data_set/table/ANNOTATIONS\n",
      "2022-04-21 16:46:42,179 - INFO - luna.common.utils -  -> ../PRO_12-123/data/toy_data_set/table/ANNOTATIONS/slide_annotation_dataset_TCGA collection_ov_regional.parquet\n",
      "2022-04-21 16:46:42,180 - INFO - luna.common.utils - Found segment keys: {'dsa_collection_uuid': '62618802005d04d493d48694'}\n",
      "2022-04-21 16:46:42,182 - INFO - luna.common.utils - Attempting to read metadata at /home/aukermaa/vmount/PRO_12-123/tiling/test/detect/metadata.yml\n",
      "2022-04-21 16:46:42,187 - INFO - luna.common.utils - Expanded input:\n",
      "2022-04-21 16:46:42,187 - INFO - luna.common.utils -  -> /home/aukermaa/vmount/PRO_12-123/tiling/test/detect\n",
      "2022-04-21 16:46:42,187 - INFO - luna.common.utils -  -> /home/aukermaa/vmount/PRO_12-123/tiling/test/detect/01OV002-bd8cdc70-3d46-40ae-99c4-90ef77-filtered.tiles.parquet\n",
      "2022-04-21 16:46:42,188 - INFO - luna.common.utils - Found segment keys: {'slide_id': '01OV002-bd8cdc70-3d46-40ae-99c4-90ef77'}\n",
      "2022-04-21 16:46:42,190 - INFO - luna.common.utils - Resolved input:\n",
      "2022-04-21 16:46:42,190 - INFO - luna.common.utils -  -> ../PRO_12-123/data/toy_data_set/table/ANNOTATIONS/slide_annotation_dataset_TCGA collection_ov_regional.parquet\n",
      "2022-04-21 16:46:42,190 - INFO - luna.common.utils -  -> /home/aukermaa/vmount/PRO_12-123/data/toy_data_set/table/ANNOTATIONS/slide_annotation_dataset_TCGA collection_ov_regional.parquet\n",
      "2022-04-21 16:46:42,191 - INFO - luna.common.utils - Resolved input:\n",
      "2022-04-21 16:46:42,191 - INFO - luna.common.utils -  -> /home/aukermaa/vmount/PRO_12-123/tiling/test/detect/01OV002-bd8cdc70-3d46-40ae-99c4-90ef77-filtered.tiles.parquet\n",
      "2022-04-21 16:46:42,191 - INFO - luna.common.utils -  -> /home/aukermaa/vmount/PRO_12-123/tiling/test/detect/01OV002-bd8cdc70-3d46-40ae-99c4-90ef77-filtered.tiles.parquet\n",
      "2022-04-21 16:46:42,193 - INFO - luna.common.utils - Full segment key set: {'dsa_collection_uuid': '62618802005d04d493d48694', 'slide_id': '01OV002-bd8cdc70-3d46-40ae-99c4-90ef77'}\n",
      "2022-04-21 16:46:42,194 - INFO - luna.common.utils - ------------------------------------------------------------\n",
      "2022-04-21 16:46:42,194 - INFO - luna.common.utils -  Starting transform::generate_tile_labels \n",
      "2022-04-21 16:46:42,194 - INFO - luna.common.utils - ------------------------------------------------------------\n",
      "2022-04-21 16:46:42,195 - INFO - generate_tile_labels - slide_id=01OV002-bd8cdc70-3d46-40ae-99c4-90ef77\n",
      "../PRO_12-123/data/toy_data_set/table/ANNOTATIONS/01OV002-bd8cdc70-3d46-40ae-99c4-90ef77.annotation.geojson TCGA collection ov_regional\n",
      "100%|███████████████████████████████████| 19982/19982 [00:03<00:00, 5656.48it/s]\n",
      "2022-04-21 16:46:45,830 - INFO - generate_tile_labels -                  x_coord  y_coord  ...  regional_label  intersection_area\n",
      "2022-04-21 16:46:45,830 - INFO - generate_tile_labels - address                            ...                                   \n",
      "2022-04-21 16:46:45,830 - INFO - generate_tile_labels - x52_y114_z20.0     13312    29184  ...          stroma           0.055345\n",
      "2022-04-21 16:46:45,830 - INFO - generate_tile_labels - x53_y113_z20.0     13568    28928  ...          stroma           0.212376\n",
      "2022-04-21 16:46:45,830 - INFO - generate_tile_labels - x53_y114_z20.0     13568    29184  ...          stroma           0.965976\n",
      "2022-04-21 16:46:45,830 - INFO - generate_tile_labels - x53_y115_z20.0     13568    29440  ...          stroma           0.344496\n",
      "2022-04-21 16:46:45,830 - INFO - generate_tile_labels - x54_y112_z20.0     13824    28672  ...          stroma           0.061422\n",
      "2022-04-21 16:46:45,830 - INFO - generate_tile_labels - ...                  ...      ...  ...             ...                ...\n",
      "2022-04-21 16:46:45,830 - INFO - generate_tile_labels - x131_y146_z20.0    33536    37376  ...           tumor           0.166847\n",
      "2022-04-21 16:46:45,830 - INFO - generate_tile_labels - x131_y147_z20.0    33536    37632  ...           tumor           0.096977\n",
      "2022-04-21 16:46:45,830 - INFO - generate_tile_labels - x132_y140_z20.0    33792    35840  ...           tumor           0.245755\n",
      "2022-04-21 16:46:45,830 - INFO - generate_tile_labels - x132_y141_z20.0    33792    36096  ...           tumor           0.504036\n",
      "2022-04-21 16:46:45,830 - INFO - generate_tile_labels - x132_y142_z20.0    33792    36352  ...           tumor           0.250175\n",
      "2022-04-21 16:46:45,830 - INFO - generate_tile_labels - \n",
      "2022-04-21 16:46:45,830 - INFO - generate_tile_labels - [513 rows x 8 columns]\n",
      "2022-04-21 16:46:45,881 - INFO - luna.common.utils - Code block 'transform::generate_tile_labels' took: 3.685633607208729s\n",
      "2022-04-21 16:46:45,883 - INFO - luna.common.utils - ------------------------------------------------------------\n",
      "2022-04-21 16:46:45,883 - INFO - luna.common.utils -  Done with transform, running post-transform functions... \n",
      "2022-04-21 16:46:45,883 - INFO - luna.common.utils - ------------------------------------------------------------\n",
      "2022-04-21 16:46:45,888 - INFO - luna.common.utils - Done.\n"
     ]
    }
   ],
   "source": [
    "!label_tiles \\\n",
    "../PRO_12-123/data/toy_data_set/table/ANNOTATIONS /home/aukermaa/vmount/PRO_12-123/tiling/test/detect \\\n",
    "-o /home/aukermaa/vmount/PRO_12-123/tiling/test/label"
   ]
  },
  {
   "cell_type": "code",
   "execution_count": 3,
   "metadata": {},
   "outputs": [
    {
     "name": "stdout",
     "output_type": "stream",
     "text": [
      "2022-04-21 18:13:58,465 - INFO - root - Initalized logger, log file at: data-processing.log\n",
      "2022-04-21 18:14:00,292 - INFO - luna.common.utils - Started CLI Runner wtih <function save_tiles at 0x7f277d08b280>\n",
      "2022-04-21 18:14:00,294 - INFO - luna.common.utils - Validating params...\n",
      "2022-04-21 18:14:00,296 - INFO - luna.common.utils -  -> Set input_slide_image (<class 'str'>) = /home/aukermaa/vmount/PRO_12-123/data/toy_data_set/01OV002-bd8cdc70-3d46-40ae-99c4-90ef77.svs\n",
      "2022-04-21 18:14:00,297 - INFO - luna.common.utils -  -> Set input_slide_tiles (<class 'str'>) = /home/aukermaa/vmount/PRO_12-123/tiling/test/label\n",
      "2022-04-21 18:14:00,298 - INFO - luna.common.utils -  -> Set output_dir (<class 'str'>) = /home/aukermaa/vmount/PRO_12-123/tiling/test/saved_tiles\n",
      "2022-04-21 18:14:00,300 - INFO - luna.common.utils -  -> Set num_cores (<class 'int'>) = 16\n",
      "2022-04-21 18:14:00,301 - INFO - luna.common.utils -  -> Set batch_size (<class 'int'>) = 200\n",
      "2022-04-21 18:14:00,302 - INFO - luna.common.utils - Expanding inputs...\n",
      "2022-04-21 18:14:00,303 - INFO - luna.common.utils - Attempting to read metadata at /home/aukermaa/vmount/PRO_12-123/data/toy_data_set/01OV002-bd8cdc70-3d46-40ae-99c4-90ef77.svs/metadata.yml\n",
      "2022-04-21 18:14:00,304 - INFO - luna.common.utils - Attempting to read metadata at /home/aukermaa/vmount/PRO_12-123/tiling/test/label/metadata.yml\n",
      "2022-04-21 18:14:00,308 - INFO - luna.common.utils - Expanded input:\n",
      "2022-04-21 18:14:00,308 - INFO - luna.common.utils -  -> /home/aukermaa/vmount/PRO_12-123/tiling/test/label\n",
      "2022-04-21 18:14:00,308 - INFO - luna.common.utils -  -> /home/aukermaa/vmount/PRO_12-123/tiling/test/label/01OV002-bd8cdc70-3d46-40ae-99c4-90ef77.regional_label.tiles.parquet\n",
      "2022-04-21 18:14:00,309 - INFO - luna.common.utils - Found segment keys: {'dsa_collection_uuid': '62618802005d04d493d48694', 'slide_id': '01OV002-bd8cdc70-3d46-40ae-99c4-90ef77'}\n",
      "2022-04-21 18:14:00,310 - INFO - luna.common.utils - Resolved input:\n",
      "2022-04-21 18:14:00,310 - INFO - luna.common.utils -  -> /home/aukermaa/vmount/PRO_12-123/data/toy_data_set/01OV002-bd8cdc70-3d46-40ae-99c4-90ef77.svs\n",
      "2022-04-21 18:14:00,310 - INFO - luna.common.utils -  -> /home/aukermaa/vmount/PRO_12-123/data/toy_data_set/01OV002-bd8cdc70-3d46-40ae-99c4-90ef77.svs\n",
      "2022-04-21 18:14:00,311 - INFO - luna.common.utils - Resolved input:\n",
      "2022-04-21 18:14:00,311 - INFO - luna.common.utils -  -> /home/aukermaa/vmount/PRO_12-123/tiling/test/label/01OV002-bd8cdc70-3d46-40ae-99c4-90ef77.regional_label.tiles.parquet\n",
      "2022-04-21 18:14:00,311 - INFO - luna.common.utils -  -> /home/aukermaa/vmount/PRO_12-123/tiling/test/label/01OV002-bd8cdc70-3d46-40ae-99c4-90ef77.regional_label.tiles.parquet\n",
      "2022-04-21 18:14:00,313 - INFO - luna.common.utils - Full segment key set: {'dsa_collection_uuid': '62618802005d04d493d48694', 'slide_id': '01OV002-bd8cdc70-3d46-40ae-99c4-90ef77'}\n",
      "2022-04-21 18:14:00,314 - INFO - luna.common.utils - ------------------------------------------------------------\n",
      "2022-04-21 18:14:00,314 - INFO - luna.common.utils -  Starting transform::save_tiles \n",
      "2022-04-21 18:14:00,314 - INFO - luna.common.utils - ------------------------------------------------------------\n",
      "2022-04-21 18:14:00,357 - INFO - generate_tiles - Now generating tiles with num_cores=16 and batch_size=200!\n",
      "2022-04-21 18:14:00,358 - WARNING - generate_tiles - /home/aukermaa/vmount/PRO_12-123/tiling/test/saved_tiles/01OV002-bd8cdc70-3d46-40ae-99c4-90ef77.tiles.h5 already exists, deleting the file..\n",
      "100%|█████████████████████████████████████████| 100/100 [00:06<00:00, 14.47it/s]\n",
      "2022-04-21 18:14:09,149 - INFO - generate_tiles -                  x_coord  ...                                         tile_store\n",
      "2022-04-21 18:14:09,149 - INFO - generate_tiles - address                   ...                                                   \n",
      "2022-04-21 18:14:09,149 - INFO - generate_tiles - x3_y58_z20.0         768  ...  /home/aukermaa/vmount/PRO_12-123/tiling/test/s...\n",
      "2022-04-21 18:14:09,149 - INFO - generate_tiles - x6_y171_z20.0       1536  ...  /home/aukermaa/vmount/PRO_12-123/tiling/test/s...\n",
      "2022-04-21 18:14:09,149 - INFO - generate_tiles - x6_y172_z20.0       1536  ...  /home/aukermaa/vmount/PRO_12-123/tiling/test/s...\n",
      "2022-04-21 18:14:09,149 - INFO - generate_tiles - x6_y173_z20.0       1536  ...  /home/aukermaa/vmount/PRO_12-123/tiling/test/s...\n",
      "2022-04-21 18:14:09,149 - INFO - generate_tiles - x6_y174_z20.0       1536  ...  /home/aukermaa/vmount/PRO_12-123/tiling/test/s...\n",
      "2022-04-21 18:14:09,149 - INFO - generate_tiles - ...                  ...  ...                                                ...\n",
      "2022-04-21 18:14:09,149 - INFO - generate_tiles - x188_y118_z20.0    48128  ...  /home/aukermaa/vmount/PRO_12-123/tiling/test/s...\n",
      "2022-04-21 18:14:09,149 - INFO - generate_tiles - x193_y206_z20.0    49408  ...  /home/aukermaa/vmount/PRO_12-123/tiling/test/s...\n",
      "2022-04-21 18:14:09,149 - INFO - generate_tiles - x200_y167_z20.0    51200  ...  /home/aukermaa/vmount/PRO_12-123/tiling/test/s...\n",
      "2022-04-21 18:14:09,149 - INFO - generate_tiles - x201_y198_z20.0    51456  ...  /home/aukermaa/vmount/PRO_12-123/tiling/test/s...\n",
      "2022-04-21 18:14:09,149 - INFO - generate_tiles - x207_y208_z20.0    52992  ...  /home/aukermaa/vmount/PRO_12-123/tiling/test/s...\n",
      "2022-04-21 18:14:09,149 - INFO - generate_tiles - \n",
      "2022-04-21 18:14:09,149 - INFO - generate_tiles - [19982 rows x 9 columns]\n",
      "2022-04-21 18:14:09,218 - INFO - luna.common.utils - Code block 'transform::save_tiles' took: 8.903329081833363s\n",
      "2022-04-21 18:14:09,247 - INFO - luna.common.utils - ------------------------------------------------------------\n",
      "2022-04-21 18:14:09,247 - INFO - luna.common.utils -  Done with transform, running post-transform functions... \n",
      "2022-04-21 18:14:09,247 - INFO - luna.common.utils - ------------------------------------------------------------\n",
      "2022-04-21 18:14:09,251 - INFO - luna.common.utils - Adding feature segment /home/aukermaa/vmount/PRO_12-123/tiling/test/saved_tiles/01OV002-bd8cdc70-3d46-40ae-99c4-90ef77.tiles.parquet to PRO_TILES\n",
      "2022-04-21 18:14:09,252 - INFO - luna.common.utils - Found dataset URL = file:///home/aukermaa/vmount/PRO_12-123/\n",
      "2022-04-21 18:14:09,253 - INFO - luna.common.utils - Adding /home/aukermaa/vmount/PRO_12-123/tiling/test/saved_tiles/01OV002-bd8cdc70-3d46-40ae-99c4-90ef77.tiles.parquet to PRO_TILES via file:///home/aukermaa/vmount/PRO_12-123/\n",
      "2022-04-21 18:14:09,254 - INFO - luna.common.utils - SEGMENT_ID=62618802005d04d493d48694-01OV002-bd8cdc70-3d46-40ae-99c4-90ef77\n",
      "2022-04-21 18:14:09,255 - INFO - luna.common.utils - Writing to: /home/aukermaa/vmount/PRO_12-123/datasets/PRO_TILES/segments/62618802005d04d493d48694-01OV002-bd8cdc70-3d46-40ae-99c4-90ef77\n",
      "2022-04-21 18:14:09,331 - INFO - luna.common.utils - Done.\n"
     ]
    }
   ],
   "source": [
    "!save_tiles \\\n",
    "/home/aukermaa/vmount/PRO_12-123/data/toy_data_set/01OV002-bd8cdc70-3d46-40ae-99c4-90ef77.svs \\\n",
    "/home/aukermaa/vmount/PRO_12-123/tiling/test/label \\\n",
    "--num_cores 16 --batch_size 200 --dataset_id PRO_TILES \\\n",
    "-o /home/aukermaa/vmount/PRO_12-123/tiling/test/saved_tiles"
   ]
  },
  {
   "cell_type": "code",
   "execution_count": 4,
   "metadata": {
    "scrolled": false
   },
   "outputs": [],
   "source": [
    "from luna.common.utils import LunaCliClient\n",
    "\n",
    "def pipeline (slide_id, input_slide, input_annotations):\n",
    "    client = LunaCliClient(\"~/vmount/PRO_12-123/tiling\", slide_id)\n",
    "\n",
    "    client.run(\n",
    "        \"bootstrap::slide\", \n",
    "        input_slide, \n",
    "    )\n",
    "\n",
    "    client.run(\n",
    "        \"bootstrap::annotations\", \n",
    "        input_annotations, \n",
    "    )\n",
    "\n",
    "\n",
    "    client.run(\n",
    "        \"generate_tiles::source_tiles\", \"slide\", \n",
    "        tile_size=128, \n",
    "        requested_magnification=20\n",
    "    )\n",
    "    \n",
    "    client.run(\n",
    "        \"detect_tissue::detected_tiles\", \"slide\", \"source_tiles\",\n",
    "        filter_query=\"otsu_score > 0.1\", \n",
    "        requested_magnification=2\n",
    "    )\n",
    "\n",
    "    client.run(\n",
    "        \"label_tiles::labled_tiles\", \"annotations\", \"detected_tiles\",\n",
    "    )\n",
    "\n",
    "    client.run(\n",
    "        \"save_tiles::saved_tiles\", \"slide\", \"labled_tiles\",\n",
    "        num_cores=16, batch_size=200, dataset_id='PRO_TILES'\n",
    "    )"
   ]
  },
  {
   "cell_type": "code",
   "execution_count": 19,
   "metadata": {
    "scrolled": true
   },
   "outputs": [
    {
     "name": "stdout",
     "output_type": "stream",
     "text": [
      "generate_tiles file:/home/aukermaa/vmount/PRO_12-123/data/toy_data_set/01OV008-7579323e-2fae-43a9-b00f-a15c28.svs --tile_size 128 --requested_magnification 20 -o /home/aukermaa/vmount/PRO_12-123/tiling/01OV008-7579323e-2fae-43a9-b00f-a15c28/source_tiles\n",
      "generate_tiles file:/home/aukermaa/vmount/PRO_12-123/data/toy_data_set/01OV002-ed65cf94-8bc6-492b-9149-adc16f.svs --tile_size 128 --requested_magnification 20 -o /home/aukermaa/vmount/PRO_12-123/tiling/01OV002-ed65cf94-8bc6-492b-9149-adc16f/source_tiles\n",
      "generate_tiles file:/home/aukermaa/vmount/PRO_12-123/data/toy_data_set/01OV002-bd8cdc70-3d46-40ae-99c4-90ef77.svs --tile_size 128 --requested_magnification 20 -o /home/aukermaa/vmount/PRO_12-123/tiling/01OV002-bd8cdc70-3d46-40ae-99c4-90ef77/source_tiles\n",
      "generate_tiles file:/home/aukermaa/vmount/PRO_12-123/data/toy_data_set/01OV007-9b90eb78-2f50-4aeb-b010-d642f9.svs --tile_size 128 --requested_magnification 20 -o /home/aukermaa/vmount/PRO_12-123/tiling/01OV007-9b90eb78-2f50-4aeb-b010-d642f9/source_tiles\n",
      "generate_tiles file:/home/aukermaa/vmount/PRO_12-123/data/toy_data_set/01OV008-308ad404-7079-4ff8-8232-12ee2e.svs --tile_size 128 --requested_magnification 20 -o /home/aukermaa/vmount/PRO_12-123/tiling/01OV008-308ad404-7079-4ff8-8232-12ee2e/source_tiles\n"
     ]
    },
    {
     "name": "stderr",
     "output_type": "stream",
     "text": [
      "2022-04-21 18:31:12,094 - INFO - root - Initalized logger, log file at: data-processing.log\n",
      "2022-04-21 18:31:12,103 - INFO - root - Initalized logger, log file at: data-processing.log\n",
      "2022-04-21 18:31:12,111 - INFO - root - Initalized logger, log file at: data-processing.log\n",
      "2022-04-21 18:31:12,139 - INFO - root - Initalized logger, log file at: data-processing.log\n",
      "2022-04-21 18:31:12,158 - INFO - root - Initalized logger, log file at: data-processing.log\n",
      "2022-04-21 18:31:14,149 - INFO - luna.common.utils - Started CLI Runner wtih <function generate_tiles at 0x7fa9ff2c4310>\n",
      "2022-04-21 18:31:14,149 - INFO - luna.common.utils - Started CLI Runner wtih <function generate_tiles at 0x7fb816b24310>\n",
      "2022-04-21 18:31:14,151 - INFO - luna.common.utils - Started CLI Runner wtih <function generate_tiles at 0x7f5929276310>\n",
      "2022-04-21 18:31:14,151 - INFO - luna.common.utils - Validating params...\n",
      "2022-04-21 18:31:14,151 - INFO - luna.common.utils - Validating params...\n",
      "2022-04-21 18:31:14,151 - INFO - luna.common.utils - Validating params...\n",
      "2022-04-21 18:31:14,153 - INFO - luna.common.utils -  -> Set input_slide_image (<class 'str'>) = file:/home/aukermaa/vmount/PRO_12-123/data/toy_data_set/01OV008-308ad404-7079-4ff8-8232-12ee2e.svs\n",
      "2022-04-21 18:31:14,153 - INFO - luna.common.utils -  -> Set input_slide_image (<class 'str'>) = file:/home/aukermaa/vmount/PRO_12-123/data/toy_data_set/01OV002-bd8cdc70-3d46-40ae-99c4-90ef77.svs\n",
      "2022-04-21 18:31:14,154 - INFO - luna.common.utils -  -> Set output_dir (<class 'str'>) = /home/aukermaa/vmount/PRO_12-123/tiling/01OV008-308ad404-7079-4ff8-8232-12ee2e/source_tiles\n",
      "2022-04-21 18:31:14,154 - INFO - luna.common.utils -  -> Set output_dir (<class 'str'>) = /home/aukermaa/vmount/PRO_12-123/tiling/01OV002-bd8cdc70-3d46-40ae-99c4-90ef77/source_tiles\n",
      "2022-04-21 18:31:14,154 - INFO - luna.common.utils -  -> Set input_slide_image (<class 'str'>) = file:/home/aukermaa/vmount/PRO_12-123/data/toy_data_set/01OV007-9b90eb78-2f50-4aeb-b010-d642f9.svs\n",
      "2022-04-21 18:31:14,155 - INFO - luna.common.utils -  -> Set tile_size (<class 'int'>) = 128\n",
      "2022-04-21 18:31:14,155 - INFO - luna.common.utils -  -> Set tile_size (<class 'int'>) = 128\n",
      "2022-04-21 18:31:14,155 - INFO - luna.common.utils -  -> Set output_dir (<class 'str'>) = /home/aukermaa/vmount/PRO_12-123/tiling/01OV007-9b90eb78-2f50-4aeb-b010-d642f9/source_tiles\n",
      "2022-04-21 18:31:14,156 - INFO - luna.common.utils -  -> Set requested_magnification (<class 'float'>) = 20.0\n",
      "2022-04-21 18:31:14,156 - INFO - luna.common.utils -  -> Set requested_magnification (<class 'float'>) = 20.0\n",
      "2022-04-21 18:31:14,156 - INFO - luna.common.utils -  -> Set tile_size (<class 'int'>) = 128\n",
      "2022-04-21 18:31:14,157 - INFO - luna.common.utils -  -> Set requested_magnification (<class 'float'>) = 20.0\n",
      "2022-04-21 18:31:14,158 - INFO - luna.common.utils - Expanding inputs...\n",
      "2022-04-21 18:31:14,158 - INFO - luna.common.utils - Expanding inputs...\n",
      "2022-04-21 18:31:14,159 - INFO - luna.common.utils - Expanding inputs...\n",
      "2022-04-21 18:31:14,159 - INFO - luna.common.utils - Attempting to read metadata at file:/home/aukermaa/vmount/PRO_12-123/data/toy_data_set/01OV002-bd8cdc70-3d46-40ae-99c4-90ef77.svs/metadata.yml\n",
      "2022-04-21 18:31:14,159 - INFO - luna.common.utils - Attempting to read metadata at file:/home/aukermaa/vmount/PRO_12-123/data/toy_data_set/01OV008-308ad404-7079-4ff8-8232-12ee2e.svs/metadata.yml\n",
      "2022-04-21 18:31:14,159 - INFO - luna.common.utils - Attempting to read metadata at file:/home/aukermaa/vmount/PRO_12-123/data/toy_data_set/01OV007-9b90eb78-2f50-4aeb-b010-d642f9.svs/metadata.yml\n",
      "2022-04-21 18:31:14,160 - INFO - luna.common.utils - Resolved input:\n",
      "2022-04-21 18:31:14,160 - INFO - luna.common.utils -  -> file:/home/aukermaa/vmount/PRO_12-123/data/toy_data_set/01OV008-308ad404-7079-4ff8-8232-12ee2e.svs\n",
      "2022-04-21 18:31:14,160 - INFO - luna.common.utils -  -> /home/aukermaa/vmount/PRO_12-123/data/toy_data_set/01OV008-308ad404-7079-4ff8-8232-12ee2e.svs\n",
      "2022-04-21 18:31:14,161 - INFO - luna.common.utils - Resolved input:\n",
      "2022-04-21 18:31:14,161 - INFO - luna.common.utils -  -> file:/home/aukermaa/vmount/PRO_12-123/data/toy_data_set/01OV002-bd8cdc70-3d46-40ae-99c4-90ef77.svs\n",
      "2022-04-21 18:31:14,161 - INFO - luna.common.utils -  -> /home/aukermaa/vmount/PRO_12-123/data/toy_data_set/01OV002-bd8cdc70-3d46-40ae-99c4-90ef77.svs\n",
      "2022-04-21 18:31:14,162 - INFO - luna.common.utils - Resolved input:\n",
      "2022-04-21 18:31:14,162 - INFO - luna.common.utils -  -> file:/home/aukermaa/vmount/PRO_12-123/data/toy_data_set/01OV007-9b90eb78-2f50-4aeb-b010-d642f9.svs\n",
      "2022-04-21 18:31:14,162 - INFO - luna.common.utils -  -> /home/aukermaa/vmount/PRO_12-123/data/toy_data_set/01OV007-9b90eb78-2f50-4aeb-b010-d642f9.svs\n",
      "2022-04-21 18:31:14,163 - INFO - luna.common.utils - Full segment key set: {}\n",
      "2022-04-21 18:31:14,163 - INFO - luna.common.utils - Full segment key set: {}\n",
      "2022-04-21 18:31:14,163 - INFO - luna.common.utils - Full segment key set: {}\n",
      "2022-04-21 18:31:14,164 - INFO - luna.common.utils - ------------------------------------------------------------\n",
      "2022-04-21 18:31:14,164 - INFO - luna.common.utils -  Starting transform::generate_tiles \n",
      "2022-04-21 18:31:14,164 - INFO - luna.common.utils - ------------------------------------------------------------\n",
      "2022-04-21 18:31:14,164 - INFO - luna.common.utils - ------------------------------------------------------------\n",
      "2022-04-21 18:31:14,164 - INFO - luna.common.utils -  Starting transform::generate_tiles \n",
      "2022-04-21 18:31:14,164 - INFO - luna.common.utils - ------------------------------------------------------------\n",
      "2022-04-21 18:31:14,164 - INFO - luna.common.utils - ------------------------------------------------------------\n",
      "2022-04-21 18:31:14,164 - INFO - luna.common.utils -  Starting transform::generate_tiles \n",
      "2022-04-21 18:31:14,164 - INFO - luna.common.utils - ------------------------------------------------------------\n",
      "2022-04-21 18:31:14,172 - INFO - luna.common.utils - Started CLI Runner wtih <function generate_tiles at 0x7f185f1b7310>\n",
      "2022-04-21 18:31:14,173 - INFO - luna.common.utils - Validating params...\n",
      "2022-04-21 18:31:14,174 - INFO - luna.common.utils -  -> Set input_slide_image (<class 'str'>) = file:/home/aukermaa/vmount/PRO_12-123/data/toy_data_set/01OV002-ed65cf94-8bc6-492b-9149-adc16f.svs\n",
      "2022-04-21 18:31:14,175 - INFO - luna.common.utils -  -> Set output_dir (<class 'str'>) = /home/aukermaa/vmount/PRO_12-123/tiling/01OV002-ed65cf94-8bc6-492b-9149-adc16f/source_tiles\n",
      "2022-04-21 18:31:14,176 - INFO - luna.common.utils -  -> Set tile_size (<class 'int'>) = 128\n",
      "2022-04-21 18:31:14,177 - INFO - luna.common.utils -  -> Set requested_magnification (<class 'float'>) = 20.0\n",
      "2022-04-21 18:31:14,177 - INFO - luna.common.utils - Started CLI Runner wtih <function generate_tiles at 0x7f4a1100c310>\n",
      "2022-04-21 18:31:14,179 - INFO - luna.common.utils - Expanding inputs...\n",
      "2022-04-21 18:31:14,179 - INFO - luna.common.utils - Validating params...\n",
      "2022-04-21 18:31:14,180 - INFO - luna.common.utils - Attempting to read metadata at file:/home/aukermaa/vmount/PRO_12-123/data/toy_data_set/01OV002-ed65cf94-8bc6-492b-9149-adc16f.svs/metadata.yml\n",
      "2022-04-21 18:31:14,180 - INFO - generate_tiles - Slide size = [53760,54840]\n",
      "2022-04-21 18:31:14,181 - INFO - luna.common.utils -  -> Set input_slide_image (<class 'str'>) = file:/home/aukermaa/vmount/PRO_12-123/data/toy_data_set/01OV008-7579323e-2fae-43a9-b00f-a15c28.svs\n",
      "2022-04-21 18:31:14,181 - INFO - luna.common.utils - Resolved input:\n",
      "2022-04-21 18:31:14,181 - INFO - luna.common.utils -  -> file:/home/aukermaa/vmount/PRO_12-123/data/toy_data_set/01OV002-ed65cf94-8bc6-492b-9149-adc16f.svs\n",
      "2022-04-21 18:31:14,181 - INFO - luna.common.utils -  -> /home/aukermaa/vmount/PRO_12-123/data/toy_data_set/01OV002-ed65cf94-8bc6-492b-9149-adc16f.svs\n",
      "2022-04-21 18:31:14,182 - INFO - luna.common.utils -  -> Set output_dir (<class 'str'>) = /home/aukermaa/vmount/PRO_12-123/tiling/01OV008-7579323e-2fae-43a9-b00f-a15c28/source_tiles\n",
      "2022-04-21 18:31:14,182 - INFO - generate_tiles - Normalized magnification scale factor for 20.0x is 2.0\n",
      "2022-04-21 18:31:14,183 - INFO - luna.common.utils -  -> Set tile_size (<class 'int'>) = 128\n",
      "2022-04-21 18:31:14,183 - INFO - luna.common.utils - Full segment key set: {}\n",
      "2022-04-21 18:31:14,183 - INFO - generate_tiles - Requested tile size=128, tile size at full magnficiation=256\n",
      "2022-04-21 18:31:14,184 - INFO - luna.common.utils -  -> Set requested_magnification (<class 'float'>) = 20.0\n",
      "2022-04-21 18:31:14,184 - INFO - luna.common.utils - ------------------------------------------------------------\n",
      "2022-04-21 18:31:14,184 - INFO - luna.common.utils -  Starting transform::generate_tiles \n",
      "2022-04-21 18:31:14,184 - INFO - luna.common.utils - ------------------------------------------------------------\n",
      "2022-04-21 18:31:14,184 - INFO - generate_tiles - tiles x 210, tiles y 215\n",
      "2022-04-21 18:31:14,185 - INFO - generate_tiles - Slide size = [109440,60110]\n",
      "2022-04-21 18:31:14,186 - INFO - luna.common.utils - Expanding inputs...\n",
      "2022-04-21 18:31:14,186 - INFO - luna.common.utils - Attempting to read metadata at file:/home/aukermaa/vmount/PRO_12-123/data/toy_data_set/01OV008-7579323e-2fae-43a9-b00f-a15c28.svs/metadata.yml\n",
      "2022-04-21 18:31:14,186 - INFO - generate_tiles - Normalized magnification scale factor for 20.0x is 2.0\n",
      "2022-04-21 18:31:14,187 - INFO - generate_tiles - Requested tile size=128, tile size at full magnficiation=256\n",
      "2022-04-21 18:31:14,188 - INFO - luna.common.utils - Resolved input:\n",
      "2022-04-21 18:31:14,188 - INFO - luna.common.utils -  -> file:/home/aukermaa/vmount/PRO_12-123/data/toy_data_set/01OV008-7579323e-2fae-43a9-b00f-a15c28.svs\n",
      "2022-04-21 18:31:14,188 - INFO - luna.common.utils -  -> /home/aukermaa/vmount/PRO_12-123/data/toy_data_set/01OV008-7579323e-2fae-43a9-b00f-a15c28.svs\n",
      "2022-04-21 18:31:14,188 - INFO - generate_tiles - Slide size = [52800,38628]\n",
      "2022-04-21 18:31:14,188 - INFO - generate_tiles - tiles x 428, tiles y 235\n",
      "2022-04-21 18:31:14,189 - INFO - luna.common.utils - Full segment key set: {}\n",
      "2022-04-21 18:31:14,190 - INFO - generate_tiles - Normalized magnification scale factor for 20.0x is 2.0\n",
      "2022-04-21 18:31:14,191 - INFO - luna.common.utils - ------------------------------------------------------------\n",
      "2022-04-21 18:31:14,191 - INFO - luna.common.utils -  Starting transform::generate_tiles \n",
      "2022-04-21 18:31:14,191 - INFO - luna.common.utils - ------------------------------------------------------------\n",
      "2022-04-21 18:31:14,192 - INFO - generate_tiles - Requested tile size=128, tile size at full magnficiation=256\n",
      "2022-04-21 18:31:14,193 - INFO - generate_tiles - tiles x 207, tiles y 151\n",
      "2022-04-21 18:31:14,199 - INFO - generate_tiles - Slide size = [50880,49787]\n",
      "2022-04-21 18:31:14,200 - INFO - generate_tiles - Normalized magnification scale factor for 20.0x is 2.0\n",
      "2022-04-21 18:31:14,201 - INFO - generate_tiles - Requested tile size=128, tile size at full magnficiation=256\n",
      "2022-04-21 18:31:14,202 - INFO - generate_tiles - tiles x 199, tiles y 195\n",
      "2022-04-21 18:31:14,206 - INFO - generate_tiles - Slide size = [42240,59209]\n",
      "2022-04-21 18:31:14,207 - INFO - generate_tiles - Normalized magnification scale factor for 20.0x is 2.0\n",
      "2022-04-21 18:31:14,208 - INFO - generate_tiles - Requested tile size=128, tile size at full magnficiation=256\n",
      "2022-04-21 18:31:14,209 - INFO - generate_tiles - tiles x 165, tiles y 232\n",
      "2022-04-21 18:31:14,230 - INFO - generate_tiles - Number of tiles in raster: 30545\n",
      "2022-04-21 18:31:14,237 - INFO - generate_tiles - Number of tiles in raster: 44304\n",
      "2022-04-21 18:31:14,248 - INFO - generate_tiles - Number of tiles in raster: 38021\n",
      "2022-04-21 18:31:14,254 - INFO - generate_tiles - Number of tiles in raster: 37490\n",
      "2022-04-21 18:31:14,266 - INFO - generate_tiles -                  x_coord  y_coord  xy_extent  tile_size tile_units\n",
      "2022-04-21 18:31:14,266 - INFO - generate_tiles - address                                                           \n",
      "2022-04-21 18:31:14,266 - INFO - generate_tiles - x1_y1_z20.0          256      256        256        128         px\n",
      "2022-04-21 18:31:14,266 - INFO - generate_tiles - x1_y2_z20.0          256      512        256        128         px\n",
      "2022-04-21 18:31:14,266 - INFO - generate_tiles - x1_y3_z20.0          256      768        256        128         px\n",
      "2022-04-21 18:31:14,266 - INFO - generate_tiles - x1_y4_z20.0          256     1024        256        128         px\n",
      "2022-04-21 18:31:14,266 - INFO - generate_tiles - x1_y5_z20.0          256     1280        256        128         px\n",
      "2022-04-21 18:31:14,266 - INFO - generate_tiles - ...                  ...      ...        ...        ...        ...\n",
      "2022-04-21 18:31:14,266 - INFO - generate_tiles - x205_y145_z20.0    52480    37120        256        128         px\n",
      "2022-04-21 18:31:14,266 - INFO - generate_tiles - x205_y146_z20.0    52480    37376        256        128         px\n",
      "2022-04-21 18:31:14,266 - INFO - generate_tiles - x205_y147_z20.0    52480    37632        256        128         px\n",
      "2022-04-21 18:31:14,266 - INFO - generate_tiles - x205_y148_z20.0    52480    37888        256        128         px\n",
      "2022-04-21 18:31:14,266 - INFO - generate_tiles - x205_y149_z20.0    52480    38144        256        128         px\n",
      "2022-04-21 18:31:14,266 - INFO - generate_tiles - \n",
      "2022-04-21 18:31:14,266 - INFO - generate_tiles - [30545 rows x 5 columns]\n",
      "2022-04-21 18:31:14,288 - INFO - generate_tiles -                  x_coord  y_coord  xy_extent  tile_size tile_units\n",
      "2022-04-21 18:31:14,288 - INFO - generate_tiles - address                                                           \n",
      "2022-04-21 18:31:14,288 - INFO - generate_tiles - x1_y1_z20.0          256      256        256        128         px\n",
      "2022-04-21 18:31:14,288 - INFO - generate_tiles - x1_y2_z20.0          256      512        256        128         px\n",
      "2022-04-21 18:31:14,288 - INFO - generate_tiles - x1_y3_z20.0          256      768        256        128         px\n",
      "2022-04-21 18:31:14,288 - INFO - generate_tiles - x1_y4_z20.0          256     1024        256        128         px\n",
      "2022-04-21 18:31:14,288 - INFO - generate_tiles - x1_y5_z20.0          256     1280        256        128         px\n",
      "2022-04-21 18:31:14,288 - INFO - generate_tiles - ...                  ...      ...        ...        ...        ...\n",
      "2022-04-21 18:31:14,288 - INFO - generate_tiles - x208_y209_z20.0    53248    53504        256        128         px\n",
      "2022-04-21 18:31:14,288 - INFO - generate_tiles - x208_y210_z20.0    53248    53760        256        128         px\n",
      "2022-04-21 18:31:14,288 - INFO - generate_tiles - x208_y211_z20.0    53248    54016        256        128         px\n",
      "2022-04-21 18:31:14,288 - INFO - generate_tiles - x208_y212_z20.0    53248    54272        256        128         px\n",
      "2022-04-21 18:31:14,288 - INFO - generate_tiles - x208_y213_z20.0    53248    54528        256        128         px\n",
      "2022-04-21 18:31:14,288 - INFO - generate_tiles - \n",
      "2022-04-21 18:31:14,288 - INFO - generate_tiles - [44304 rows x 5 columns]\n",
      "2022-04-21 18:31:14,292 - INFO - generate_tiles -                  x_coord  y_coord  xy_extent  tile_size tile_units\n",
      "2022-04-21 18:31:14,292 - INFO - generate_tiles - address                                                           \n",
      "2022-04-21 18:31:14,292 - INFO - generate_tiles - x1_y1_z20.0          256      256        256        128         px\n",
      "2022-04-21 18:31:14,292 - INFO - generate_tiles - x1_y2_z20.0          256      512        256        128         px\n",
      "2022-04-21 18:31:14,292 - INFO - generate_tiles - x1_y3_z20.0          256      768        256        128         px\n",
      "2022-04-21 18:31:14,292 - INFO - generate_tiles - x1_y4_z20.0          256     1024        256        128         px\n",
      "2022-04-21 18:31:14,292 - INFO - generate_tiles - x1_y5_z20.0          256     1280        256        128         px\n",
      "2022-04-21 18:31:14,292 - INFO - generate_tiles - ...                  ...      ...        ...        ...        ...\n",
      "2022-04-21 18:31:14,292 - INFO - generate_tiles - x197_y189_z20.0    50432    48384        256        128         px\n",
      "2022-04-21 18:31:14,292 - INFO - generate_tiles - x197_y190_z20.0    50432    48640        256        128         px\n",
      "2022-04-21 18:31:14,292 - INFO - generate_tiles - x197_y191_z20.0    50432    48896        256        128         px\n",
      "2022-04-21 18:31:14,292 - INFO - generate_tiles - x197_y192_z20.0    50432    49152        256        128         px\n",
      "2022-04-21 18:31:14,292 - INFO - generate_tiles - x197_y193_z20.0    50432    49408        256        128         px\n",
      "2022-04-21 18:31:14,292 - INFO - generate_tiles - \n",
      "2022-04-21 18:31:14,292 - INFO - generate_tiles - [38021 rows x 5 columns]\n",
      "2022-04-21 18:31:14,298 - INFO - generate_tiles -                  x_coord  y_coord  xy_extent  tile_size tile_units\n",
      "2022-04-21 18:31:14,298 - INFO - generate_tiles - address                                                           \n",
      "2022-04-21 18:31:14,298 - INFO - generate_tiles - x1_y1_z20.0          256      256        256        128         px\n",
      "2022-04-21 18:31:14,298 - INFO - generate_tiles - x1_y2_z20.0          256      512        256        128         px\n",
      "2022-04-21 18:31:14,298 - INFO - generate_tiles - x1_y3_z20.0          256      768        256        128         px\n",
      "2022-04-21 18:31:14,298 - INFO - generate_tiles - x1_y4_z20.0          256     1024        256        128         px\n",
      "2022-04-21 18:31:14,298 - INFO - generate_tiles - x1_y5_z20.0          256     1280        256        128         px\n",
      "2022-04-21 18:31:14,298 - INFO - generate_tiles - ...                  ...      ...        ...        ...        ...\n",
      "2022-04-21 18:31:14,298 - INFO - generate_tiles - x163_y226_z20.0    41728    57856        256        128         px\n",
      "2022-04-21 18:31:14,298 - INFO - generate_tiles - x163_y227_z20.0    41728    58112        256        128         px\n",
      "2022-04-21 18:31:14,298 - INFO - generate_tiles - x163_y228_z20.0    41728    58368        256        128         px\n",
      "2022-04-21 18:31:14,298 - INFO - generate_tiles - x163_y229_z20.0    41728    58624        256        128         px\n",
      "2022-04-21 18:31:14,298 - INFO - generate_tiles - x163_y230_z20.0    41728    58880        256        128         px\n",
      "2022-04-21 18:31:14,298 - INFO - generate_tiles - \n",
      "2022-04-21 18:31:14,298 - INFO - generate_tiles - [37490 rows x 5 columns]\n",
      "2022-04-21 18:31:14,309 - INFO - generate_tiles - Number of tiles in raster: 99258\n",
      "2022-04-21 18:31:14,324 - INFO - luna.common.utils - Code block 'transform::generate_tiles' took: 0.15841038525104523s\n",
      "2022-04-21 18:31:14,335 - INFO - luna.common.utils - ------------------------------------------------------------\n",
      "2022-04-21 18:31:14,335 - INFO - luna.common.utils -  Done with transform, running post-transform functions... \n",
      "2022-04-21 18:31:14,335 - INFO - luna.common.utils - ------------------------------------------------------------\n",
      "2022-04-21 18:31:14,340 - INFO - luna.common.utils - Done.\n"
     ]
    },
    {
     "name": "stderr",
     "output_type": "stream",
     "text": [
      "2022-04-21 18:31:14,359 - INFO - luna.common.utils - Code block 'transform::generate_tiles' took: 0.1741073541343212s\n",
      "2022-04-21 18:31:14,359 - INFO - luna.common.utils - ------------------------------------------------------------\n",
      "2022-04-21 18:31:14,359 - INFO - luna.common.utils -  Done with transform, running post-transform functions... \n",
      "2022-04-21 18:31:14,359 - INFO - luna.common.utils - ------------------------------------------------------------\n",
      "2022-04-21 18:31:14,363 - INFO - luna.common.utils - Code block 'transform::generate_tiles' took: 0.19807152077555656s\n",
      "2022-04-21 18:31:14,364 - INFO - luna.common.utils - Done.\n",
      "2022-04-21 18:31:14,365 - INFO - luna.common.utils - ------------------------------------------------------------\n",
      "2022-04-21 18:31:14,365 - INFO - luna.common.utils -  Done with transform, running post-transform functions... \n",
      "2022-04-21 18:31:14,365 - INFO - luna.common.utils - ------------------------------------------------------------\n",
      "2022-04-21 18:31:14,369 - INFO - luna.common.utils - Done.\n",
      "2022-04-21 18:31:14,393 - INFO - luna.common.utils - Code block 'transform::generate_tiles' took: 0.20170344412326813s\n",
      "2022-04-21 18:31:14,394 - INFO - luna.common.utils - ------------------------------------------------------------\n",
      "2022-04-21 18:31:14,394 - INFO - luna.common.utils -  Done with transform, running post-transform functions... \n",
      "2022-04-21 18:31:14,394 - INFO - luna.common.utils - ------------------------------------------------------------\n",
      "2022-04-21 18:31:14,399 - INFO - luna.common.utils - Done.\n",
      "2022-04-21 18:31:14,448 - INFO - generate_tiles -                  x_coord  y_coord  xy_extent  tile_size tile_units\n",
      "2022-04-21 18:31:14,448 - INFO - generate_tiles - address                                                           \n",
      "2022-04-21 18:31:14,448 - INFO - generate_tiles - x1_y1_z20.0          256      256        256        128         px\n",
      "2022-04-21 18:31:14,448 - INFO - generate_tiles - x1_y2_z20.0          256      512        256        128         px\n",
      "2022-04-21 18:31:14,448 - INFO - generate_tiles - x1_y3_z20.0          256      768        256        128         px\n",
      "2022-04-21 18:31:14,448 - INFO - generate_tiles - x1_y4_z20.0          256     1024        256        128         px\n",
      "2022-04-21 18:31:14,448 - INFO - generate_tiles - x1_y5_z20.0          256     1280        256        128         px\n",
      "2022-04-21 18:31:14,448 - INFO - generate_tiles - ...                  ...      ...        ...        ...        ...\n",
      "2022-04-21 18:31:14,448 - INFO - generate_tiles - x426_y229_z20.0   109056    58624        256        128         px\n",
      "2022-04-21 18:31:14,448 - INFO - generate_tiles - x426_y230_z20.0   109056    58880        256        128         px\n",
      "2022-04-21 18:31:14,448 - INFO - generate_tiles - x426_y231_z20.0   109056    59136        256        128         px\n",
      "2022-04-21 18:31:14,448 - INFO - generate_tiles - x426_y232_z20.0   109056    59392        256        128         px\n",
      "2022-04-21 18:31:14,448 - INFO - generate_tiles - x426_y233_z20.0   109056    59648        256        128         px\n",
      "2022-04-21 18:31:14,448 - INFO - generate_tiles - \n",
      "2022-04-21 18:31:14,448 - INFO - generate_tiles - [99258 rows x 5 columns]\n",
      "2022-04-21 18:31:14,568 - INFO - luna.common.utils - Code block 'transform::generate_tiles' took: 0.40058721229434013s\n",
      "2022-04-21 18:31:14,569 - INFO - luna.common.utils - ------------------------------------------------------------\n",
      "2022-04-21 18:31:14,569 - INFO - luna.common.utils -  Done with transform, running post-transform functions... \n",
      "2022-04-21 18:31:14,569 - INFO - luna.common.utils - ------------------------------------------------------------\n",
      "2022-04-21 18:31:14,574 - INFO - luna.common.utils - Done.\n"
     ]
    },
    {
     "name": "stdout",
     "output_type": "stream",
     "text": [
      "detect_tissue file:/home/aukermaa/vmount/PRO_12-123/data/toy_data_set/01OV008-308ad404-7079-4ff8-8232-12ee2e.svs /home/aukermaa/vmount/PRO_12-123/tiling/01OV008-308ad404-7079-4ff8-8232-12ee2e/source_tiles --filter_query otsu_score > 0.1 --requested_magnification 2 -o /home/aukermaa/vmount/PRO_12-123/tiling/01OV008-308ad404-7079-4ff8-8232-12ee2e/detected_tiles\n",
      "detect_tissue file:/home/aukermaa/vmount/PRO_12-123/data/toy_data_set/01OV002-ed65cf94-8bc6-492b-9149-adc16f.svs /home/aukermaa/vmount/PRO_12-123/tiling/01OV002-ed65cf94-8bc6-492b-9149-adc16f/source_tiles --filter_query otsu_score > 0.1 --requested_magnification 2 -o /home/aukermaa/vmount/PRO_12-123/tiling/01OV002-ed65cf94-8bc6-492b-9149-adc16f/detected_tiles\n",
      "detect_tissue file:/home/aukermaa/vmount/PRO_12-123/data/toy_data_set/01OV008-7579323e-2fae-43a9-b00f-a15c28.svs /home/aukermaa/vmount/PRO_12-123/tiling/01OV008-7579323e-2fae-43a9-b00f-a15c28/source_tiles --filter_query otsu_score > 0.1 --requested_magnification 2 -o /home/aukermaa/vmount/PRO_12-123/tiling/01OV008-7579323e-2fae-43a9-b00f-a15c28/detected_tiles\n",
      "detect_tissue file:/home/aukermaa/vmount/PRO_12-123/data/toy_data_set/01OV002-bd8cdc70-3d46-40ae-99c4-90ef77.svs /home/aukermaa/vmount/PRO_12-123/tiling/01OV002-bd8cdc70-3d46-40ae-99c4-90ef77/source_tiles --filter_query otsu_score > 0.1 --requested_magnification 2 -o /home/aukermaa/vmount/PRO_12-123/tiling/01OV002-bd8cdc70-3d46-40ae-99c4-90ef77/detected_tiles\n",
      "detect_tissue file:/home/aukermaa/vmount/PRO_12-123/data/toy_data_set/01OV007-9b90eb78-2f50-4aeb-b010-d642f9.svs /home/aukermaa/vmount/PRO_12-123/tiling/01OV007-9b90eb78-2f50-4aeb-b010-d642f9/source_tiles --filter_query otsu_score > 0.1 --requested_magnification 2 -o /home/aukermaa/vmount/PRO_12-123/tiling/01OV007-9b90eb78-2f50-4aeb-b010-d642f9/detected_tiles\n"
     ]
    },
    {
     "name": "stderr",
     "output_type": "stream",
     "text": [
      "2022-04-21 18:31:16,029 - INFO - root - Initalized logger, log file at: data-processing.log\n",
      "2022-04-21 18:31:16,264 - INFO - root - Initalized logger, log file at: data-processing.log\n",
      "2022-04-21 18:31:16,335 - INFO - root - Initalized logger, log file at: data-processing.log\n",
      "2022-04-21 18:31:16,385 - INFO - root - Initalized logger, log file at: data-processing.log\n",
      "2022-04-21 18:31:16,552 - INFO - root - Initalized logger, log file at: data-processing.log\n",
      "2022-04-21 18:31:17,707 - INFO - luna.common.utils - Started CLI Runner wtih <function detect_tissue at 0x7f39c412b280>\n",
      "2022-04-21 18:31:17,709 - INFO - luna.common.utils - Validating params...\n",
      "2022-04-21 18:31:17,710 - INFO - luna.common.utils -  -> Set input_slide_image (<class 'str'>) = file:/home/aukermaa/vmount/PRO_12-123/data/toy_data_set/01OV008-308ad404-7079-4ff8-8232-12ee2e.svs\n",
      "2022-04-21 18:31:17,712 - INFO - luna.common.utils -  -> Set input_slide_tiles (<class 'str'>) = /home/aukermaa/vmount/PRO_12-123/tiling/01OV008-308ad404-7079-4ff8-8232-12ee2e/source_tiles\n",
      "2022-04-21 18:31:17,713 - INFO - luna.common.utils -  -> Set requested_magnification (<class 'float'>) = 2.0\n",
      "2022-04-21 18:31:17,714 - INFO - luna.common.utils -  -> Set filter_query (<class 'str'>) = otsu_score > 0.1\n",
      "2022-04-21 18:31:17,715 - INFO - luna.common.utils -  -> Set output_dir (<class 'str'>) = /home/aukermaa/vmount/PRO_12-123/tiling/01OV008-308ad404-7079-4ff8-8232-12ee2e/detected_tiles\n",
      "2022-04-21 18:31:17,716 - INFO - luna.common.utils -  -> Set num_cores (<class 'int'>) = 4\n",
      "2022-04-21 18:31:17,717 - INFO - luna.common.utils - Expanding inputs...\n",
      "2022-04-21 18:31:17,718 - INFO - luna.common.utils - Attempting to read metadata at file:/home/aukermaa/vmount/PRO_12-123/data/toy_data_set/01OV008-308ad404-7079-4ff8-8232-12ee2e.svs/metadata.yml\n",
      "2022-04-21 18:31:17,719 - INFO - luna.common.utils - Attempting to read metadata at /home/aukermaa/vmount/PRO_12-123/tiling/01OV008-308ad404-7079-4ff8-8232-12ee2e/source_tiles/metadata.yml\n",
      "2022-04-21 18:31:17,723 - INFO - luna.common.utils - Expanded input:\n",
      "2022-04-21 18:31:17,723 - INFO - luna.common.utils -  -> /home/aukermaa/vmount/PRO_12-123/tiling/01OV008-308ad404-7079-4ff8-8232-12ee2e/source_tiles\n",
      "2022-04-21 18:31:17,723 - INFO - luna.common.utils -  -> /home/aukermaa/vmount/PRO_12-123/tiling/01OV008-308ad404-7079-4ff8-8232-12ee2e/source_tiles/01OV008-308ad404-7079-4ff8-8232-12ee2e.tiles.parquet\n",
      "2022-04-21 18:31:17,724 - INFO - luna.common.utils - Found segment keys: {'slide_id': '01OV008-308ad404-7079-4ff8-8232-12ee2e'}\n",
      "2022-04-21 18:31:17,725 - INFO - luna.common.utils - Resolved input:\n",
      "2022-04-21 18:31:17,725 - INFO - luna.common.utils -  -> file:/home/aukermaa/vmount/PRO_12-123/data/toy_data_set/01OV008-308ad404-7079-4ff8-8232-12ee2e.svs\n",
      "2022-04-21 18:31:17,725 - INFO - luna.common.utils -  -> /home/aukermaa/vmount/PRO_12-123/data/toy_data_set/01OV008-308ad404-7079-4ff8-8232-12ee2e.svs\n",
      "2022-04-21 18:31:17,726 - INFO - luna.common.utils - Resolved input:\n",
      "2022-04-21 18:31:17,726 - INFO - luna.common.utils -  -> /home/aukermaa/vmount/PRO_12-123/tiling/01OV008-308ad404-7079-4ff8-8232-12ee2e/source_tiles/01OV008-308ad404-7079-4ff8-8232-12ee2e.tiles.parquet\n",
      "2022-04-21 18:31:17,726 - INFO - luna.common.utils -  -> /home/aukermaa/vmount/PRO_12-123/tiling/01OV008-308ad404-7079-4ff8-8232-12ee2e/source_tiles/01OV008-308ad404-7079-4ff8-8232-12ee2e.tiles.parquet\n",
      "2022-04-21 18:31:17,728 - INFO - luna.common.utils - Full segment key set: {'slide_id': '01OV008-308ad404-7079-4ff8-8232-12ee2e'}\n",
      "2022-04-21 18:31:17,729 - INFO - luna.common.utils - ------------------------------------------------------------\n",
      "2022-04-21 18:31:17,729 - INFO - luna.common.utils -  Starting transform::detect_tissue \n",
      "2022-04-21 18:31:17,729 - INFO - luna.common.utils - ------------------------------------------------------------\n",
      "2022-04-21 18:31:17,793 - INFO - detect_tissue - Slide dimensions (52800, 38628)\n",
      "2022-04-21 18:31:17,794 - INFO - detect_tissue - Thumbnail scale factor: 20.0\n",
      "2022-04-21 18:31:18,146 - INFO - luna.common.utils - Started CLI Runner wtih <function detect_tissue at 0x7f66535a0280>\n",
      "2022-04-21 18:31:18,147 - INFO - luna.common.utils - Validating params...\n",
      "2022-04-21 18:31:18,148 - INFO - luna.common.utils -  -> Set input_slide_image (<class 'str'>) = file:/home/aukermaa/vmount/PRO_12-123/data/toy_data_set/01OV008-7579323e-2fae-43a9-b00f-a15c28.svs\n",
      "2022-04-21 18:31:18,149 - INFO - luna.common.utils -  -> Set input_slide_tiles (<class 'str'>) = /home/aukermaa/vmount/PRO_12-123/tiling/01OV008-7579323e-2fae-43a9-b00f-a15c28/source_tiles\n",
      "2022-04-21 18:31:18,150 - INFO - luna.common.utils -  -> Set requested_magnification (<class 'float'>) = 2.0\n",
      "2022-04-21 18:31:18,151 - INFO - luna.common.utils -  -> Set filter_query (<class 'str'>) = otsu_score > 0.1\n",
      "2022-04-21 18:31:18,152 - INFO - luna.common.utils -  -> Set output_dir (<class 'str'>) = /home/aukermaa/vmount/PRO_12-123/tiling/01OV008-7579323e-2fae-43a9-b00f-a15c28/detected_tiles\n",
      "2022-04-21 18:31:18,153 - INFO - luna.common.utils -  -> Set num_cores (<class 'int'>) = 4\n",
      "2022-04-21 18:31:18,154 - INFO - luna.common.utils - Expanding inputs...\n",
      "2022-04-21 18:31:18,155 - INFO - luna.common.utils - Attempting to read metadata at file:/home/aukermaa/vmount/PRO_12-123/data/toy_data_set/01OV008-7579323e-2fae-43a9-b00f-a15c28.svs/metadata.yml\n",
      "2022-04-21 18:31:18,156 - INFO - luna.common.utils - Attempting to read metadata at /home/aukermaa/vmount/PRO_12-123/tiling/01OV008-7579323e-2fae-43a9-b00f-a15c28/source_tiles/metadata.yml\n",
      "2022-04-21 18:31:18,160 - INFO - luna.common.utils - Expanded input:\n",
      "2022-04-21 18:31:18,160 - INFO - luna.common.utils -  -> /home/aukermaa/vmount/PRO_12-123/tiling/01OV008-7579323e-2fae-43a9-b00f-a15c28/source_tiles\n",
      "2022-04-21 18:31:18,160 - INFO - luna.common.utils -  -> /home/aukermaa/vmount/PRO_12-123/tiling/01OV008-7579323e-2fae-43a9-b00f-a15c28/source_tiles/01OV008-7579323e-2fae-43a9-b00f-a15c28.tiles.parquet\n",
      "2022-04-21 18:31:18,161 - INFO - luna.common.utils - Found segment keys: {'slide_id': '01OV008-7579323e-2fae-43a9-b00f-a15c28'}\n",
      "2022-04-21 18:31:18,163 - INFO - luna.common.utils - Resolved input:\n",
      "2022-04-21 18:31:18,163 - INFO - luna.common.utils -  -> file:/home/aukermaa/vmount/PRO_12-123/data/toy_data_set/01OV008-7579323e-2fae-43a9-b00f-a15c28.svs\n",
      "2022-04-21 18:31:18,163 - INFO - luna.common.utils -  -> /home/aukermaa/vmount/PRO_12-123/data/toy_data_set/01OV008-7579323e-2fae-43a9-b00f-a15c28.svs\n",
      "2022-04-21 18:31:18,164 - INFO - luna.common.utils - Resolved input:\n",
      "2022-04-21 18:31:18,164 - INFO - luna.common.utils -  -> /home/aukermaa/vmount/PRO_12-123/tiling/01OV008-7579323e-2fae-43a9-b00f-a15c28/source_tiles/01OV008-7579323e-2fae-43a9-b00f-a15c28.tiles.parquet\n",
      "2022-04-21 18:31:18,164 - INFO - luna.common.utils -  -> /home/aukermaa/vmount/PRO_12-123/tiling/01OV008-7579323e-2fae-43a9-b00f-a15c28/source_tiles/01OV008-7579323e-2fae-43a9-b00f-a15c28.tiles.parquet\n",
      "2022-04-21 18:31:18,165 - INFO - luna.common.utils - Full segment key set: {'slide_id': '01OV008-7579323e-2fae-43a9-b00f-a15c28'}\n",
      "2022-04-21 18:31:18,166 - INFO - luna.common.utils - ------------------------------------------------------------\n",
      "2022-04-21 18:31:18,166 - INFO - luna.common.utils -  Starting transform::detect_tissue \n",
      "2022-04-21 18:31:18,166 - INFO - luna.common.utils - ------------------------------------------------------------\n",
      "2022-04-21 18:31:18,232 - INFO - luna.common.utils - Started CLI Runner wtih <function detect_tissue at 0x7f74feae7280>\n",
      "2022-04-21 18:31:18,233 - INFO - luna.common.utils - Validating params...\n",
      "2022-04-21 18:31:18,234 - INFO - luna.common.utils -  -> Set input_slide_image (<class 'str'>) = file:/home/aukermaa/vmount/PRO_12-123/data/toy_data_set/01OV002-bd8cdc70-3d46-40ae-99c4-90ef77.svs\n",
      "2022-04-21 18:31:18,234 - INFO - detect_tissue - Slide dimensions (42240, 59209)\n",
      "2022-04-21 18:31:18,235 - INFO - luna.common.utils -  -> Set input_slide_tiles (<class 'str'>) = /home/aukermaa/vmount/PRO_12-123/tiling/01OV002-bd8cdc70-3d46-40ae-99c4-90ef77/source_tiles\n",
      "2022-04-21 18:31:18,235 - INFO - detect_tissue - Thumbnail scale factor: 20.0\n",
      "2022-04-21 18:31:18,236 - INFO - luna.common.utils -  -> Set requested_magnification (<class 'float'>) = 2.0\n",
      "2022-04-21 18:31:18,237 - INFO - luna.common.utils -  -> Set filter_query (<class 'str'>) = otsu_score > 0.1\n",
      "2022-04-21 18:31:18,238 - INFO - luna.common.utils -  -> Set output_dir (<class 'str'>) = /home/aukermaa/vmount/PRO_12-123/tiling/01OV002-bd8cdc70-3d46-40ae-99c4-90ef77/detected_tiles\n",
      "2022-04-21 18:31:18,239 - INFO - luna.common.utils -  -> Set num_cores (<class 'int'>) = 4\n",
      "2022-04-21 18:31:18,240 - INFO - luna.common.utils - Expanding inputs...\n",
      "2022-04-21 18:31:18,241 - INFO - luna.common.utils - Attempting to read metadata at file:/home/aukermaa/vmount/PRO_12-123/data/toy_data_set/01OV002-bd8cdc70-3d46-40ae-99c4-90ef77.svs/metadata.yml\n",
      "2022-04-21 18:31:18,242 - INFO - luna.common.utils - Attempting to read metadata at /home/aukermaa/vmount/PRO_12-123/tiling/01OV002-bd8cdc70-3d46-40ae-99c4-90ef77/source_tiles/metadata.yml\n",
      "2022-04-21 18:31:18,245 - INFO - luna.common.utils - Expanded input:\n",
      "2022-04-21 18:31:18,245 - INFO - luna.common.utils -  -> /home/aukermaa/vmount/PRO_12-123/tiling/01OV002-bd8cdc70-3d46-40ae-99c4-90ef77/source_tiles\n",
      "2022-04-21 18:31:18,245 - INFO - luna.common.utils -  -> /home/aukermaa/vmount/PRO_12-123/tiling/01OV002-bd8cdc70-3d46-40ae-99c4-90ef77/source_tiles/01OV002-bd8cdc70-3d46-40ae-99c4-90ef77.tiles.parquet\n",
      "2022-04-21 18:31:18,246 - INFO - luna.common.utils - Found segment keys: {'slide_id': '01OV002-bd8cdc70-3d46-40ae-99c4-90ef77'}\n",
      "2022-04-21 18:31:18,272 - INFO - luna.common.utils - Resolved input:\n",
      "2022-04-21 18:31:18,272 - INFO - luna.common.utils -  -> file:/home/aukermaa/vmount/PRO_12-123/data/toy_data_set/01OV002-bd8cdc70-3d46-40ae-99c4-90ef77.svs\n",
      "2022-04-21 18:31:18,272 - INFO - luna.common.utils -  -> /home/aukermaa/vmount/PRO_12-123/data/toy_data_set/01OV002-bd8cdc70-3d46-40ae-99c4-90ef77.svs\n",
      "2022-04-21 18:31:18,274 - INFO - luna.common.utils - Resolved input:\n",
      "2022-04-21 18:31:18,274 - INFO - luna.common.utils -  -> /home/aukermaa/vmount/PRO_12-123/tiling/01OV002-bd8cdc70-3d46-40ae-99c4-90ef77/source_tiles/01OV002-bd8cdc70-3d46-40ae-99c4-90ef77.tiles.parquet\n",
      "2022-04-21 18:31:18,274 - INFO - luna.common.utils -  -> /home/aukermaa/vmount/PRO_12-123/tiling/01OV002-bd8cdc70-3d46-40ae-99c4-90ef77/source_tiles/01OV002-bd8cdc70-3d46-40ae-99c4-90ef77.tiles.parquet\n",
      "2022-04-21 18:31:18,275 - INFO - luna.common.utils - Full segment key set: {'slide_id': '01OV002-bd8cdc70-3d46-40ae-99c4-90ef77'}\n",
      "2022-04-21 18:31:18,276 - INFO - luna.common.utils - ------------------------------------------------------------\n",
      "2022-04-21 18:31:18,276 - INFO - luna.common.utils -  Starting transform::detect_tissue \n",
      "2022-04-21 18:31:18,276 - INFO - luna.common.utils - ------------------------------------------------------------\n",
      "2022-04-21 18:31:18,341 - INFO - detect_tissue - Slide dimensions (53760, 54840)\n",
      "2022-04-21 18:31:18,343 - INFO - detect_tissue - Thumbnail scale factor: 20.0\n"
     ]
    },
    {
     "name": "stderr",
     "output_type": "stream",
     "text": [
      "2022-04-21 18:31:18,380 - INFO - luna.common.utils - Started CLI Runner wtih <function detect_tissue at 0x7f2898b3b280>\n",
      "2022-04-21 18:31:18,381 - INFO - luna.common.utils - Validating params...\n",
      "2022-04-21 18:31:18,382 - INFO - luna.common.utils -  -> Set input_slide_image (<class 'str'>) = file:/home/aukermaa/vmount/PRO_12-123/data/toy_data_set/01OV002-ed65cf94-8bc6-492b-9149-adc16f.svs\n",
      "2022-04-21 18:31:18,383 - INFO - luna.common.utils -  -> Set input_slide_tiles (<class 'str'>) = /home/aukermaa/vmount/PRO_12-123/tiling/01OV002-ed65cf94-8bc6-492b-9149-adc16f/source_tiles\n",
      "2022-04-21 18:31:18,384 - INFO - luna.common.utils -  -> Set requested_magnification (<class 'float'>) = 2.0\n",
      "2022-04-21 18:31:18,385 - INFO - luna.common.utils -  -> Set filter_query (<class 'str'>) = otsu_score > 0.1\n",
      "2022-04-21 18:31:18,386 - INFO - luna.common.utils -  -> Set output_dir (<class 'str'>) = /home/aukermaa/vmount/PRO_12-123/tiling/01OV002-ed65cf94-8bc6-492b-9149-adc16f/detected_tiles\n",
      "2022-04-21 18:31:18,387 - INFO - luna.common.utils -  -> Set num_cores (<class 'int'>) = 4\n",
      "2022-04-21 18:31:18,388 - INFO - luna.common.utils - Expanding inputs...\n",
      "2022-04-21 18:31:18,389 - INFO - luna.common.utils - Attempting to read metadata at file:/home/aukermaa/vmount/PRO_12-123/data/toy_data_set/01OV002-ed65cf94-8bc6-492b-9149-adc16f.svs/metadata.yml\n",
      "2022-04-21 18:31:18,390 - INFO - luna.common.utils - Attempting to read metadata at /home/aukermaa/vmount/PRO_12-123/tiling/01OV002-ed65cf94-8bc6-492b-9149-adc16f/source_tiles/metadata.yml\n",
      "2022-04-21 18:31:18,394 - INFO - luna.common.utils - Expanded input:\n",
      "2022-04-21 18:31:18,394 - INFO - luna.common.utils -  -> /home/aukermaa/vmount/PRO_12-123/tiling/01OV002-ed65cf94-8bc6-492b-9149-adc16f/source_tiles\n",
      "2022-04-21 18:31:18,394 - INFO - luna.common.utils -  -> /home/aukermaa/vmount/PRO_12-123/tiling/01OV002-ed65cf94-8bc6-492b-9149-adc16f/source_tiles/01OV002-ed65cf94-8bc6-492b-9149-adc16f.tiles.parquet\n",
      "2022-04-21 18:31:18,395 - INFO - luna.common.utils - Found segment keys: {'slide_id': '01OV002-ed65cf94-8bc6-492b-9149-adc16f'}\n",
      "2022-04-21 18:31:18,396 - INFO - luna.common.utils - Resolved input:\n",
      "2022-04-21 18:31:18,396 - INFO - luna.common.utils -  -> file:/home/aukermaa/vmount/PRO_12-123/data/toy_data_set/01OV002-ed65cf94-8bc6-492b-9149-adc16f.svs\n",
      "2022-04-21 18:31:18,396 - INFO - luna.common.utils -  -> /home/aukermaa/vmount/PRO_12-123/data/toy_data_set/01OV002-ed65cf94-8bc6-492b-9149-adc16f.svs\n",
      "2022-04-21 18:31:18,397 - INFO - luna.common.utils - Resolved input:\n",
      "2022-04-21 18:31:18,397 - INFO - luna.common.utils -  -> /home/aukermaa/vmount/PRO_12-123/tiling/01OV002-ed65cf94-8bc6-492b-9149-adc16f/source_tiles/01OV002-ed65cf94-8bc6-492b-9149-adc16f.tiles.parquet\n",
      "2022-04-21 18:31:18,397 - INFO - luna.common.utils -  -> /home/aukermaa/vmount/PRO_12-123/tiling/01OV002-ed65cf94-8bc6-492b-9149-adc16f/source_tiles/01OV002-ed65cf94-8bc6-492b-9149-adc16f.tiles.parquet\n",
      "2022-04-21 18:31:18,398 - INFO - luna.common.utils - Full segment key set: {'slide_id': '01OV002-ed65cf94-8bc6-492b-9149-adc16f'}\n",
      "2022-04-21 18:31:18,399 - INFO - luna.common.utils - ------------------------------------------------------------\n",
      "2022-04-21 18:31:18,399 - INFO - luna.common.utils -  Starting transform::detect_tissue \n",
      "2022-04-21 18:31:18,399 - INFO - luna.common.utils - ------------------------------------------------------------\n",
      "2022-04-21 18:31:18,467 - INFO - detect_tissue - Slide dimensions (50880, 49787)\n",
      "2022-04-21 18:31:18,468 - INFO - detect_tissue - Thumbnail scale factor: 20.0\n",
      "2022-04-21 18:31:18,517 - INFO - luna.common.utils - Started CLI Runner wtih <function detect_tissue at 0x7fb314097280>\n",
      "2022-04-21 18:31:18,518 - INFO - luna.common.utils - Validating params...\n",
      "2022-04-21 18:31:18,519 - INFO - luna.common.utils -  -> Set input_slide_image (<class 'str'>) = file:/home/aukermaa/vmount/PRO_12-123/data/toy_data_set/01OV007-9b90eb78-2f50-4aeb-b010-d642f9.svs\n",
      "2022-04-21 18:31:18,521 - INFO - luna.common.utils -  -> Set input_slide_tiles (<class 'str'>) = /home/aukermaa/vmount/PRO_12-123/tiling/01OV007-9b90eb78-2f50-4aeb-b010-d642f9/source_tiles\n",
      "2022-04-21 18:31:18,521 - INFO - luna.common.utils -  -> Set requested_magnification (<class 'float'>) = 2.0\n",
      "2022-04-21 18:31:18,522 - INFO - luna.common.utils -  -> Set filter_query (<class 'str'>) = otsu_score > 0.1\n",
      "2022-04-21 18:31:18,523 - INFO - luna.common.utils -  -> Set output_dir (<class 'str'>) = /home/aukermaa/vmount/PRO_12-123/tiling/01OV007-9b90eb78-2f50-4aeb-b010-d642f9/detected_tiles\n",
      "2022-04-21 18:31:18,524 - INFO - luna.common.utils -  -> Set num_cores (<class 'int'>) = 4\n",
      "2022-04-21 18:31:18,526 - INFO - luna.common.utils - Expanding inputs...\n",
      "2022-04-21 18:31:18,527 - INFO - luna.common.utils - Attempting to read metadata at file:/home/aukermaa/vmount/PRO_12-123/data/toy_data_set/01OV007-9b90eb78-2f50-4aeb-b010-d642f9.svs/metadata.yml\n",
      "2022-04-21 18:31:18,529 - INFO - luna.common.utils - Attempting to read metadata at /home/aukermaa/vmount/PRO_12-123/tiling/01OV007-9b90eb78-2f50-4aeb-b010-d642f9/source_tiles/metadata.yml\n",
      "2022-04-21 18:31:18,532 - INFO - luna.common.utils - Expanded input:\n",
      "2022-04-21 18:31:18,532 - INFO - luna.common.utils -  -> /home/aukermaa/vmount/PRO_12-123/tiling/01OV007-9b90eb78-2f50-4aeb-b010-d642f9/source_tiles\n",
      "2022-04-21 18:31:18,532 - INFO - luna.common.utils -  -> /home/aukermaa/vmount/PRO_12-123/tiling/01OV007-9b90eb78-2f50-4aeb-b010-d642f9/source_tiles/01OV007-9b90eb78-2f50-4aeb-b010-d642f9.tiles.parquet\n",
      "2022-04-21 18:31:18,533 - INFO - luna.common.utils - Found segment keys: {'slide_id': '01OV007-9b90eb78-2f50-4aeb-b010-d642f9'}\n",
      "2022-04-21 18:31:18,534 - INFO - luna.common.utils - Resolved input:\n",
      "2022-04-21 18:31:18,534 - INFO - luna.common.utils -  -> file:/home/aukermaa/vmount/PRO_12-123/data/toy_data_set/01OV007-9b90eb78-2f50-4aeb-b010-d642f9.svs\n",
      "2022-04-21 18:31:18,534 - INFO - luna.common.utils -  -> /home/aukermaa/vmount/PRO_12-123/data/toy_data_set/01OV007-9b90eb78-2f50-4aeb-b010-d642f9.svs\n",
      "2022-04-21 18:31:18,535 - INFO - luna.common.utils - Resolved input:\n",
      "2022-04-21 18:31:18,535 - INFO - luna.common.utils -  -> /home/aukermaa/vmount/PRO_12-123/tiling/01OV007-9b90eb78-2f50-4aeb-b010-d642f9/source_tiles/01OV007-9b90eb78-2f50-4aeb-b010-d642f9.tiles.parquet\n",
      "2022-04-21 18:31:18,535 - INFO - luna.common.utils -  -> /home/aukermaa/vmount/PRO_12-123/tiling/01OV007-9b90eb78-2f50-4aeb-b010-d642f9/source_tiles/01OV007-9b90eb78-2f50-4aeb-b010-d642f9.tiles.parquet\n",
      "2022-04-21 18:31:18,536 - INFO - luna.common.utils - Full segment key set: {'slide_id': '01OV007-9b90eb78-2f50-4aeb-b010-d642f9'}\n",
      "2022-04-21 18:31:18,537 - INFO - luna.common.utils - ------------------------------------------------------------\n",
      "2022-04-21 18:31:18,537 - INFO - luna.common.utils -  Starting transform::detect_tissue \n",
      "2022-04-21 18:31:18,537 - INFO - luna.common.utils - ------------------------------------------------------------\n",
      "2022-04-21 18:31:18,668 - INFO - detect_tissue - Slide dimensions (109440, 60110)\n",
      "2022-04-21 18:31:18,669 - INFO - detect_tissue - Thumbnail scale factor: 20.0\n",
      "2022-04-21 18:31:18,850 - INFO - detect_tissue - Sample array size: (1931, 2640, 3)\n",
      "2022-04-21 18:31:19,546 - INFO - detect_tissue - Sample array size: (2960, 2112, 3)\n",
      "2022-04-21 18:31:19,805 - INFO - detect_tissue - Sample array size: (2742, 2688, 3)\n",
      "2022-04-21 18:31:19,838 - INFO - detect_tissue - Sample array size: (2489, 2544, 3)\n",
      "2022-04-21 18:31:22,399 - INFO - detect_tissue - Sample array size: (3005, 5472, 3)\n",
      "2022-04-21 18:31:32,886 - INFO - detect_tissue - Starting otsu thresholding, threshold=0.6760414889705882\n",
      "  4%|▍         | 1216/30545 [00:00<00:19, 1527.93it/s]2022-04-21 18:31:37,471 - INFO - detect_tissue - Starting otsu thresholding, threshold=0.7071628178615197\n",
      "2022-04-21 18:31:37,510 - INFO - detect_tissue - Starting otsu thresholding, threshold=0.7107123230698529\n",
      "  8%|▊         | 2544/30545 [00:01<00:27, 1015.59it/s]2022-04-21 18:31:38,779 - INFO - detect_tissue - Starting otsu thresholding, threshold=0.7300508425245098\n",
      " 39%|███▉      | 14605/37490 [00:16<00:27, 839.31it/s]2022-04-21 18:31:57,395 - INFO - detect_tissue - Starting otsu thresholding, threshold=0.7421401378676471\n"
     ]
    },
    {
     "name": "stderr",
     "output_type": "stream",
     "text": [
      "100%|██████████| 30545/30545 [00:33<00:00, 902.84it/s] \n",
      "  7%|▋         | 6481/99258 [00:05<01:43, 898.10it/s]2022-04-21 18:32:10,547 - INFO - detect_tissue - Filtering based on query: otsu_score > 0.1\n",
      " 57%|█████▋    | 25399/44304 [00:27<00:23, 815.25it/s]2022-04-21 18:32:10,560 - INFO - detect_tissue -                 x_coord  y_coord  xy_extent  tile_size tile_units  otsu_score\n",
      "2022-04-21 18:32:10,560 - INFO - detect_tissue - address                                                                      \n",
      "2022-04-21 18:32:10,560 - INFO - detect_tissue - x6_y74_z20.0       1536    18944        256        128         px        0.18\n",
      "2022-04-21 18:32:10,560 - INFO - detect_tissue - x7_y74_z20.0       1792    18944        256        128         px        0.13\n",
      "2022-04-21 18:32:10,560 - INFO - detect_tissue - x7_y81_z20.0       1792    20736        256        128         px        0.11\n",
      "2022-04-21 18:32:10,560 - INFO - detect_tissue - x8_y75_z20.0       2048    19200        256        128         px        0.22\n",
      "2022-04-21 18:32:10,560 - INFO - detect_tissue - x8_y76_z20.0       2048    19456        256        128         px        0.29\n",
      "2022-04-21 18:32:10,560 - INFO - detect_tissue - ...                 ...      ...        ...        ...        ...         ...\n",
      "2022-04-21 18:32:10,560 - INFO - detect_tissue - x181_y45_z20.0    46336    11520        256        128         px        0.48\n",
      "2022-04-21 18:32:10,560 - INFO - detect_tissue - x182_y41_z20.0    46592    10496        256        128         px        0.26\n",
      "2022-04-21 18:32:10,560 - INFO - detect_tissue - x182_y42_z20.0    46592    10752        256        128         px        0.59\n",
      "2022-04-21 18:32:10,560 - INFO - detect_tissue - x182_y43_z20.0    46592    11008        256        128         px        0.56\n",
      "2022-04-21 18:32:10,560 - INFO - detect_tissue - x182_y44_z20.0    46592    11264        256        128         px        0.28\n",
      "2022-04-21 18:32:10,560 - INFO - detect_tissue - \n",
      "2022-04-21 18:32:10,560 - INFO - detect_tissue - [13704 rows x 6 columns]\n",
      "2022-04-21 18:32:10,590 - INFO - luna.common.utils - Code block 'transform::detect_tissue' took: 52.86003277823329s\n",
      "2022-04-21 18:32:10,591 - INFO - luna.common.utils - ------------------------------------------------------------\n",
      "2022-04-21 18:32:10,591 - INFO - luna.common.utils -  Done with transform, running post-transform functions... \n",
      "2022-04-21 18:32:10,591 - INFO - luna.common.utils - ------------------------------------------------------------\n",
      "2022-04-21 18:32:10,597 - INFO - luna.common.utils - Done.\n",
      " 68%|██████▊   | 25939/38021 [00:30<00:15, 780.38it/s]"
     ]
    },
    {
     "name": "stdout",
     "output_type": "stream",
     "text": [
      "label_tiles ../PRO_12-123/data/toy_data_set/table/ANNOTATIONS /home/aukermaa/vmount/PRO_12-123/tiling/01OV008-308ad404-7079-4ff8-8232-12ee2e/detected_tiles -o /home/aukermaa/vmount/PRO_12-123/tiling/01OV008-308ad404-7079-4ff8-8232-12ee2e/labled_tiles\n"
     ]
    },
    {
     "name": "stderr",
     "output_type": "stream",
     "text": [
      "  8%|▊         | 7841/99258 [00:07<01:39, 920.66it/s]2022-04-21 18:32:12,040 - INFO - root - Initalized logger, log file at: data-processing.log\n",
      "2022-04-21 18:32:12,041 - INFO - luna.common.utils - Started CLI Runner wtih <function generate_tile_labels at 0x7fa3c7d67d30>\n",
      "2022-04-21 18:32:12,043 - INFO - luna.common.utils - Validating params...\n",
      "2022-04-21 18:32:12,045 - INFO - luna.common.utils -  -> Set input_slide_annotation_dataset (<class 'str'>) = ../PRO_12-123/data/toy_data_set/table/ANNOTATIONS\n",
      "2022-04-21 18:32:12,046 - INFO - luna.common.utils -  -> Set input_slide_tiles (<class 'str'>) = /home/aukermaa/vmount/PRO_12-123/tiling/01OV008-308ad404-7079-4ff8-8232-12ee2e/detected_tiles\n",
      "2022-04-21 18:32:12,048 - INFO - luna.common.utils -  -> Set output_dir (<class 'str'>) = /home/aukermaa/vmount/PRO_12-123/tiling/01OV008-308ad404-7079-4ff8-8232-12ee2e/labled_tiles\n",
      "2022-04-21 18:32:12,050 - INFO - luna.common.utils - Expanding inputs...\n",
      "2022-04-21 18:32:12,051 - INFO - luna.common.utils - Attempting to read metadata at ../PRO_12-123/data/toy_data_set/table/ANNOTATIONS/metadata.yml\n",
      "2022-04-21 18:32:12,057 - INFO - luna.common.utils - Expanded input:\n",
      "2022-04-21 18:32:12,057 - INFO - luna.common.utils -  -> ../PRO_12-123/data/toy_data_set/table/ANNOTATIONS\n",
      "2022-04-21 18:32:12,057 - INFO - luna.common.utils -  -> ../PRO_12-123/data/toy_data_set/table/ANNOTATIONS/slide_annotation_dataset_TCGA collection_ov_regional.parquet\n",
      "2022-04-21 18:32:12,058 - INFO - luna.common.utils - Found segment keys: {'dsa_collection_uuid': '62618802005d04d493d48694'}\n",
      "2022-04-21 18:32:12,059 - INFO - luna.common.utils - Attempting to read metadata at /home/aukermaa/vmount/PRO_12-123/tiling/01OV008-308ad404-7079-4ff8-8232-12ee2e/detected_tiles/metadata.yml\n",
      "2022-04-21 18:32:12,062 - INFO - luna.common.utils - Expanded input:\n",
      "2022-04-21 18:32:12,062 - INFO - luna.common.utils -  -> /home/aukermaa/vmount/PRO_12-123/tiling/01OV008-308ad404-7079-4ff8-8232-12ee2e/detected_tiles\n",
      "2022-04-21 18:32:12,062 - INFO - luna.common.utils -  -> /home/aukermaa/vmount/PRO_12-123/tiling/01OV008-308ad404-7079-4ff8-8232-12ee2e/detected_tiles/01OV008-308ad404-7079-4ff8-8232-12ee2e-filtered.tiles.parquet\n",
      "2022-04-21 18:32:12,064 - INFO - luna.common.utils - Found segment keys: {'slide_id': '01OV008-308ad404-7079-4ff8-8232-12ee2e'}\n",
      "2022-04-21 18:32:12,065 - INFO - luna.common.utils - Resolved input:\n",
      "2022-04-21 18:32:12,065 - INFO - luna.common.utils -  -> ../PRO_12-123/data/toy_data_set/table/ANNOTATIONS/slide_annotation_dataset_TCGA collection_ov_regional.parquet\n",
      "2022-04-21 18:32:12,065 - INFO - luna.common.utils -  -> /home/aukermaa/vmount/PRO_12-123/data/toy_data_set/table/ANNOTATIONS/slide_annotation_dataset_TCGA collection_ov_regional.parquet\n",
      "2022-04-21 18:32:12,067 - INFO - luna.common.utils - Resolved input:\n",
      "2022-04-21 18:32:12,067 - INFO - luna.common.utils -  -> /home/aukermaa/vmount/PRO_12-123/tiling/01OV008-308ad404-7079-4ff8-8232-12ee2e/detected_tiles/01OV008-308ad404-7079-4ff8-8232-12ee2e-filtered.tiles.parquet\n",
      "2022-04-21 18:32:12,067 - INFO - luna.common.utils -  -> /home/aukermaa/vmount/PRO_12-123/tiling/01OV008-308ad404-7079-4ff8-8232-12ee2e/detected_tiles/01OV008-308ad404-7079-4ff8-8232-12ee2e-filtered.tiles.parquet\n",
      "2022-04-21 18:32:12,068 - INFO - luna.common.utils - Full segment key set: {'dsa_collection_uuid': '62618802005d04d493d48694', 'slide_id': '01OV008-308ad404-7079-4ff8-8232-12ee2e'}\n",
      "2022-04-21 18:32:12,069 - INFO - luna.common.utils - ------------------------------------------------------------\n",
      "2022-04-21 18:32:12,069 - INFO - luna.common.utils -  Starting transform::generate_tile_labels \n",
      "2022-04-21 18:32:12,069 - INFO - luna.common.utils - ------------------------------------------------------------\n",
      "2022-04-21 18:32:12,070 - INFO - generate_tile_labels - slide_id=01OV008-308ad404-7079-4ff8-8232-12ee2e\n",
      " 71%|███████   | 26852/38021 [00:31<00:12, 877.15it/s] "
     ]
    },
    {
     "name": "stdout",
     "output_type": "stream",
     "text": [
      "../PRO_12-123/data/toy_data_set/table/ANNOTATIONS/01OV008-308ad404-7079-4ff8-8232-12ee2e.annotation.geojson TCGA collection ov_regional\n"
     ]
    },
    {
     "name": "stderr",
     "output_type": "stream",
     "text": [
      "100%|██████████| 13704/13704 [00:02<00:00, 5064.46it/s]\n",
      "2022-04-21 18:32:14,862 - INFO - generate_tile_labels -                 x_coord  y_coord  ...  regional_label  intersection_area\n",
      "2022-04-21 18:32:14,862 - INFO - generate_tile_labels - address                           ...                                   \n",
      "2022-04-21 18:32:14,862 - INFO - generate_tile_labels - x58_y60_z20.0     14848    15360  ...          stroma           0.055923\n",
      "2022-04-21 18:32:14,862 - INFO - generate_tile_labels - x58_y61_z20.0     14848    15616  ...          stroma           0.272237\n",
      "2022-04-21 18:32:14,862 - INFO - generate_tile_labels - x58_y62_z20.0     14848    15872  ...          stroma           0.074921\n",
      "2022-04-21 18:32:14,862 - INFO - generate_tile_labels - x58_y63_z20.0     14848    16128  ...          stroma           0.230325\n",
      "2022-04-21 18:32:14,862 - INFO - generate_tile_labels - x59_y60_z20.0     15104    15360  ...          stroma           0.061584\n",
      "2022-04-21 18:32:14,862 - INFO - generate_tile_labels - ...                 ...      ...  ...             ...                ...\n",
      "2022-04-21 18:32:14,862 - INFO - generate_tile_labels - x150_y75_z20.0    38400    19200  ...             fat           0.655609\n",
      "2022-04-21 18:32:14,862 - INFO - generate_tile_labels - x150_y91_z20.0    38400    23296  ...          stroma           0.061430\n",
      "2022-04-21 18:32:14,862 - INFO - generate_tile_labels - x150_y92_z20.0    38400    23552  ...          stroma           0.068517\n",
      "2022-04-21 18:32:14,862 - INFO - generate_tile_labels - x151_y74_z20.0    38656    18944  ...             fat           0.037047\n",
      "2022-04-21 18:32:14,862 - INFO - generate_tile_labels - x151_y75_z20.0    38656    19200  ...             fat           0.031012\n",
      "2022-04-21 18:32:14,862 - INFO - generate_tile_labels - \n",
      "2022-04-21 18:32:14,862 - INFO - generate_tile_labels - [1179 rows x 8 columns]\n",
      "2022-04-21 18:32:14,901 - INFO - luna.common.utils - Code block 'transform::generate_tile_labels' took: 2.8302813693881035s\n",
      "2022-04-21 18:32:14,902 - INFO - luna.common.utils - ------------------------------------------------------------\n",
      "2022-04-21 18:32:14,902 - INFO - luna.common.utils -  Done with transform, running post-transform functions... \n",
      "2022-04-21 18:32:14,902 - INFO - luna.common.utils - ------------------------------------------------------------\n",
      "2022-04-21 18:32:14,907 - INFO - luna.common.utils - Done.\n",
      " 66%|██████▌   | 29049/44304 [00:32<00:17, 860.16it/s]]"
     ]
    },
    {
     "name": "stdout",
     "output_type": "stream",
     "text": [
      "save_tiles file:/home/aukermaa/vmount/PRO_12-123/data/toy_data_set/01OV008-308ad404-7079-4ff8-8232-12ee2e.svs /home/aukermaa/vmount/PRO_12-123/tiling/01OV008-308ad404-7079-4ff8-8232-12ee2e/labled_tiles --num_cores 16 --batch_size 200 --dataset_id PRO_TILES -o /home/aukermaa/vmount/PRO_12-123/tiling/01OV008-308ad404-7079-4ff8-8232-12ee2e/saved_tiles\n"
     ]
    },
    {
     "name": "stderr",
     "output_type": "stream",
     "text": [
      " 80%|███████▉  | 30344/38021 [00:35<00:08, 937.33it/s]2022-04-21 18:32:16,091 - INFO - root - Initalized logger, log file at: data-processing.log\n",
      " 85%|████████▌ | 32321/38021 [00:36<00:04, 1148.25it/s]2022-04-21 18:32:17,954 - INFO - luna.common.utils - Started CLI Runner wtih <function save_tiles at 0x7f5d11078310>\n",
      "2022-04-21 18:32:17,955 - INFO - luna.common.utils - Validating params...\n",
      "2022-04-21 18:32:17,956 - INFO - luna.common.utils -  -> Set input_slide_image (<class 'str'>) = file:/home/aukermaa/vmount/PRO_12-123/data/toy_data_set/01OV008-308ad404-7079-4ff8-8232-12ee2e.svs\n",
      " 92%|█████████▏| 34551/37490 [00:37<00:02, 1189.60it/s]2022-04-21 18:32:17,958 - INFO - luna.common.utils -  -> Set input_slide_tiles (<class 'str'>) = /home/aukermaa/vmount/PRO_12-123/tiling/01OV008-308ad404-7079-4ff8-8232-12ee2e/labled_tiles\n",
      "2022-04-21 18:32:17,958 - INFO - luna.common.utils -  -> Set output_dir (<class 'str'>) = /home/aukermaa/vmount/PRO_12-123/tiling/01OV008-308ad404-7079-4ff8-8232-12ee2e/saved_tiles\n",
      "2022-04-21 18:32:17,960 - INFO - luna.common.utils -  -> Set num_cores (<class 'int'>) = 16\n",
      "2022-04-21 18:32:17,961 - INFO - luna.common.utils -  -> Set batch_size (<class 'int'>) = 200\n",
      "2022-04-21 18:32:17,963 - INFO - luna.common.utils - Expanding inputs...\n",
      "2022-04-21 18:32:17,964 - INFO - luna.common.utils - Attempting to read metadata at file:/home/aukermaa/vmount/PRO_12-123/data/toy_data_set/01OV008-308ad404-7079-4ff8-8232-12ee2e.svs/metadata.yml\n",
      "2022-04-21 18:32:17,967 - INFO - luna.common.utils - Attempting to read metadata at /home/aukermaa/vmount/PRO_12-123/tiling/01OV008-308ad404-7079-4ff8-8232-12ee2e/labled_tiles/metadata.yml\n",
      "2022-04-21 18:32:17,970 - INFO - luna.common.utils - Expanded input:\n",
      "2022-04-21 18:32:17,970 - INFO - luna.common.utils -  -> /home/aukermaa/vmount/PRO_12-123/tiling/01OV008-308ad404-7079-4ff8-8232-12ee2e/labled_tiles\n",
      "2022-04-21 18:32:17,970 - INFO - luna.common.utils -  -> /home/aukermaa/vmount/PRO_12-123/tiling/01OV008-308ad404-7079-4ff8-8232-12ee2e/labled_tiles/01OV008-308ad404-7079-4ff8-8232-12ee2e.regional_label.tiles.parquet\n",
      "2022-04-21 18:32:17,971 - INFO - luna.common.utils - Found segment keys: {'dsa_collection_uuid': '62618802005d04d493d48694', 'slide_id': '01OV008-308ad404-7079-4ff8-8232-12ee2e'}\n",
      "2022-04-21 18:32:17,972 - INFO - luna.common.utils - Resolved input:\n",
      "2022-04-21 18:32:17,972 - INFO - luna.common.utils -  -> file:/home/aukermaa/vmount/PRO_12-123/data/toy_data_set/01OV008-308ad404-7079-4ff8-8232-12ee2e.svs\n",
      "2022-04-21 18:32:17,972 - INFO - luna.common.utils -  -> /home/aukermaa/vmount/PRO_12-123/data/toy_data_set/01OV008-308ad404-7079-4ff8-8232-12ee2e.svs\n",
      "2022-04-21 18:32:17,973 - INFO - luna.common.utils - Resolved input:\n",
      "2022-04-21 18:32:17,973 - INFO - luna.common.utils -  -> /home/aukermaa/vmount/PRO_12-123/tiling/01OV008-308ad404-7079-4ff8-8232-12ee2e/labled_tiles/01OV008-308ad404-7079-4ff8-8232-12ee2e.regional_label.tiles.parquet\n",
      "2022-04-21 18:32:17,973 - INFO - luna.common.utils -  -> /home/aukermaa/vmount/PRO_12-123/tiling/01OV008-308ad404-7079-4ff8-8232-12ee2e/labled_tiles/01OV008-308ad404-7079-4ff8-8232-12ee2e.regional_label.tiles.parquet\n",
      " 13%|█▎        | 13349/99258 [00:13<01:31, 943.51it/s]2022-04-21 18:32:17,975 - INFO - luna.common.utils - Full segment key set: {'dsa_collection_uuid': '62618802005d04d493d48694', 'slide_id': '01OV008-308ad404-7079-4ff8-8232-12ee2e'}\n",
      "2022-04-21 18:32:17,975 - INFO - luna.common.utils - ------------------------------------------------------------\n",
      "2022-04-21 18:32:17,975 - INFO - luna.common.utils -  Starting transform::save_tiles \n",
      "2022-04-21 18:32:17,975 - INFO - luna.common.utils - ------------------------------------------------------------\n",
      " 72%|███████▏  | 31700/44304 [00:35<00:13, 934.02it/s]2022-04-21 18:32:18,017 - INFO - generate_tiles - Now generating tiles with num_cores=16 and batch_size=200!\n",
      "2022-04-21 18:32:18,019 - WARNING - generate_tiles - /home/aukermaa/vmount/PRO_12-123/tiling/01OV008-308ad404-7079-4ff8-8232-12ee2e/saved_tiles/01OV008-308ad404-7079-4ff8-8232-12ee2e.tiles.h5 already exists, deleting the file..\n",
      " 15%|█▍        | 14549/99258 [00:14<01:31, 928.71it/s]]"
     ]
    },
    {
     "name": "stdout",
     "output_type": "stream",
     "text": [
      "\r",
      "  0%|          | 0/69 [00:00<?, ?it/s]"
     ]
    },
    {
     "name": "stderr",
     "output_type": "stream",
     "text": [
      " 15%|█▌        | 15367/99258 [00:15<01:44, 805.97it/s]]"
     ]
    },
    {
     "name": "stdout",
     "output_type": "stream",
     "text": [
      "\r",
      "  1%|▏         | 1/69 [00:01<01:08,  1.00s/it]"
     ]
    },
    {
     "name": "stderr",
     "output_type": "stream",
     "text": [
      "\r",
      " 92%|█████████▏| 35129/38021 [00:39<00:02, 1215.39it/s]\r",
      " 99%|█████████▉| 37188/37490 [00:39<00:00, 1023.50it/s]\r",
      " 76%|███████▋  | 33813/44304 [00:37<00:12, 818.87it/s]\r",
      " 16%|█▌        | 15459/99258 [00:15<01:40, 837.15it/s]\r",
      " 93%|█████████▎| 35251/38021 [00:39<00:02, 1191.75it/s]\r",
      " 77%|███████▋  | 33919/44304 [00:37<00:11, 884.53it/s]\r",
      " 99%|█████████▉| 37291/37490 [00:39<00:00, 1019.08it/s]\r",
      " 16%|█▌        | 15544/99258 [00:15<01:45, 797.24it/s]"
     ]
    },
    {
     "name": "stdout",
     "output_type": "stream",
     "text": [
      "\r",
      "  4%|▍         | 3/69 [00:01<00:22,  2.92it/s]\r",
      "  6%|▌         | 4/69 [00:01<00:17,  3.71it/s]"
     ]
    },
    {
     "name": "stderr",
     "output_type": "stream",
     "text": [
      "\r",
      " 93%|█████████▎| 35371/38021 [00:39<00:02, 1186.01it/s]\r",
      "100%|█████████▉| 37403/37490 [00:39<00:00, 1042.74it/s]\r",
      " 77%|███████▋  | 34010/44304 [00:37<00:12, 851.11it/s]\r",
      " 16%|█▌        | 15638/99258 [00:15<01:39, 836.61it/s]\r",
      " 93%|█████████▎| 35494/38021 [00:39<00:02, 1191.78it/s]\r",
      "100%|██████████| 37490/37490 [00:39<00:00, 940.83it/s] \n",
      "2022-04-21 18:32:20,624 - INFO - detect_tissue - Filtering based on query: otsu_score > 0.1\n",
      "2022-04-21 18:32:20,638 - INFO - detect_tissue -                  x_coord  y_coord  xy_extent  tile_size tile_units  otsu_score\n",
      "2022-04-21 18:32:20,638 - INFO - detect_tissue - address                                                                       \n",
      "2022-04-21 18:32:20,638 - INFO - detect_tissue - x7_y134_z20.0       1792    34304        256        128         px        0.21\n",
      "2022-04-21 18:32:20,638 - INFO - detect_tissue - x7_y135_z20.0       1792    34560        256        128         px        0.21\n",
      "2022-04-21 18:32:20,638 - INFO - detect_tissue - x7_y136_z20.0       1792    34816        256        128         px        0.23\n",
      "2022-04-21 18:32:20,638 - INFO - detect_tissue - x7_y146_z20.0       1792    37376        256        128         px        0.51\n",
      "2022-04-21 18:32:20,638 - INFO - detect_tissue - x7_y147_z20.0       1792    37632        256        128         px        0.41\n",
      "2022-04-21 18:32:20,638 - INFO - detect_tissue - ...                  ...      ...        ...        ...        ...         ...\n",
      "2022-04-21 18:32:20,638 - INFO - detect_tissue - x139_y1_z20.0      35584      256        256        128         px        0.15\n",
      "2022-04-21 18:32:20,638 - INFO - detect_tissue - x148_y139_z20.0    37888    35584        256        128         px        0.13\n",
      "2022-04-21 18:32:20,638 - INFO - detect_tissue - x149_y89_z20.0     38144    22784        256        128         px        0.12\n",
      "2022-04-21 18:32:20,638 - INFO - detect_tissue - x159_y98_z20.0     40704    25088        256        128         px        0.11\n",
      "2022-04-21 18:32:20,638 - INFO - detect_tissue - x159_y170_z20.0    40704    43520        256        128         px        0.27\n",
      "2022-04-21 18:32:20,638 - INFO - detect_tissue - \n",
      "2022-04-21 18:32:20,638 - INFO - detect_tissue - [16496 rows x 6 columns]\n",
      "\r",
      " 77%|███████▋  | 34122/44304 [00:37<00:11, 920.38it/s]2022-04-21 18:32:20,683 - INFO - luna.common.utils - Code block 'transform::detect_tissue' took: 62.516482189297676s\n"
     ]
    },
    {
     "name": "stdout",
     "output_type": "stream",
     "text": [
      "\r",
      "  7%|▋         | 5/69 [00:01<00:14,  4.44it/s]\r",
      " 10%|█         | 7/69 [00:01<00:09,  6.79it/s]"
     ]
    },
    {
     "name": "stderr",
     "output_type": "stream",
     "text": [
      "\r",
      " 16%|█▌        | 15723/99258 [00:15<01:39, 835.76it/s]\r",
      " 94%|█████████▎| 35620/38021 [00:39<00:01, 1209.17it/s]2022-04-21 18:32:20,723 - INFO - luna.common.utils - ------------------------------------------------------------\n",
      "2022-04-21 18:32:20,723 - INFO - luna.common.utils -  Done with transform, running post-transform functions... \n",
      "2022-04-21 18:32:20,723 - INFO - luna.common.utils - ------------------------------------------------------------\n",
      "2022-04-21 18:32:20,737 - INFO - luna.common.utils - Done.\n",
      "\r",
      " 77%|███████▋  | 34216/44304 [00:37<00:11, 882.50it/s]\r",
      " 16%|█▌        | 15808/99258 [00:15<01:40, 828.11it/s]\r",
      " 94%|█████████▍| 35747/38021 [00:39<00:01, 1226.06it/s]\r",
      " 77%|███████▋  | 34318/44304 [00:37<00:10, 919.50it/s]\r",
      " 16%|█▌        | 15912/99258 [00:15<01:33, 888.76it/s]\r",
      " 94%|█████████▍| 35872/38021 [00:39<00:01, 1229.08it/s]"
     ]
    },
    {
     "name": "stdout",
     "output_type": "stream",
     "text": [
      "\r",
      " 14%|█▍        | 10/69 [00:01<00:05, 10.66it/s]\r",
      " 19%|█▉        | 13/69 [00:01<00:04, 13.87it/s]"
     ]
    },
    {
     "name": "stderr",
     "output_type": "stream",
     "text": [
      " 79%|███████▊  | 34812/44304 [00:38<00:09, 964.41it/s]]"
     ]
    },
    {
     "name": "stdout",
     "output_type": "stream",
     "text": [
      "\r",
      " 23%|██▎       | 16/69 [00:01<00:03, 16.67it/s]label_tiles ../PRO_12-123/data/toy_data_set/table/ANNOTATIONS /home/aukermaa/vmount/PRO_12-123/tiling/01OV008-7579323e-2fae-43a9-b00f-a15c28/detected_tiles -o /home/aukermaa/vmount/PRO_12-123/tiling/01OV008-7579323e-2fae-43a9-b00f-a15c28/labled_tiles\n"
     ]
    },
    {
     "name": "stderr",
     "output_type": "stream",
     "text": [
      "\r",
      " 17%|█▋        | 16380/99258 [00:16<01:30, 910.82it/s]\r",
      " 96%|█████████▌| 36482/38021 [00:40<00:01, 1173.56it/s]\r",
      " 79%|███████▉  | 34910/44304 [00:38<00:09, 945.90it/s]\r",
      " 96%|█████████▋| 36602/38021 [00:40<00:01, 1179.47it/s]\r",
      " 17%|█▋        | 16472/99258 [00:16<01:33, 880.71it/s]\r",
      " 79%|███████▉  | 35021/44304 [00:38<00:09, 991.17it/s]"
     ]
    },
    {
     "name": "stdout",
     "output_type": "stream",
     "text": [
      "\r",
      " 26%|██▌       | 18/69 [00:02<00:04, 12.74it/s]\r",
      " 29%|██▉       | 20/69 [00:02<00:03, 12.47it/s]"
     ]
    },
    {
     "name": "stderr",
     "output_type": "stream",
     "text": [
      " 17%|█▋        | 16847/99258 [00:17<01:29, 921.14it/s]]"
     ]
    },
    {
     "name": "stdout",
     "output_type": "stream",
     "text": [
      "\r",
      " 32%|███▏      | 22/69 [00:02<00:04, 10.65it/s]\r",
      " 35%|███▍      | 24/69 [00:02<00:04, 10.63it/s]"
     ]
    },
    {
     "name": "stderr",
     "output_type": "stream",
     "text": [
      " 17%|█▋        | 17219/99258 [00:17<01:42, 800.98it/s]2022-04-21 18:32:22,421 - INFO - root - Initalized logger, log file at: data-processing.log\n",
      "2022-04-21 18:32:22,423 - INFO - luna.common.utils - Started CLI Runner wtih <function generate_tile_labels at 0x7fd1eb3a1d30>\n",
      "2022-04-21 18:32:22,424 - INFO - luna.common.utils - Validating params...\n",
      "2022-04-21 18:32:22,425 - INFO - luna.common.utils -  -> Set input_slide_annotation_dataset (<class 'str'>) = ../PRO_12-123/data/toy_data_set/table/ANNOTATIONS\n",
      "2022-04-21 18:32:22,426 - INFO - luna.common.utils -  -> Set input_slide_tiles (<class 'str'>) = /home/aukermaa/vmount/PRO_12-123/tiling/01OV008-7579323e-2fae-43a9-b00f-a15c28/detected_tiles\n",
      "2022-04-21 18:32:22,427 - INFO - luna.common.utils -  -> Set output_dir (<class 'str'>) = /home/aukermaa/vmount/PRO_12-123/tiling/01OV008-7579323e-2fae-43a9-b00f-a15c28/labled_tiles\n",
      "2022-04-21 18:32:22,429 - INFO - luna.common.utils - Expanding inputs...\n",
      "2022-04-21 18:32:22,430 - INFO - luna.common.utils - Attempting to read metadata at ../PRO_12-123/data/toy_data_set/table/ANNOTATIONS/metadata.yml\n",
      "2022-04-21 18:32:22,433 - INFO - luna.common.utils - Expanded input:\n",
      "2022-04-21 18:32:22,433 - INFO - luna.common.utils -  -> ../PRO_12-123/data/toy_data_set/table/ANNOTATIONS\n",
      "2022-04-21 18:32:22,433 - INFO - luna.common.utils -  -> ../PRO_12-123/data/toy_data_set/table/ANNOTATIONS/slide_annotation_dataset_TCGA collection_ov_regional.parquet\n",
      "2022-04-21 18:32:22,434 - INFO - luna.common.utils - Found segment keys: {'dsa_collection_uuid': '62618802005d04d493d48694'}\n",
      "2022-04-21 18:32:22,435 - INFO - luna.common.utils - Attempting to read metadata at /home/aukermaa/vmount/PRO_12-123/tiling/01OV008-7579323e-2fae-43a9-b00f-a15c28/detected_tiles/metadata.yml\n",
      "2022-04-21 18:32:22,438 - INFO - luna.common.utils - Expanded input:\n",
      "2022-04-21 18:32:22,438 - INFO - luna.common.utils -  -> /home/aukermaa/vmount/PRO_12-123/tiling/01OV008-7579323e-2fae-43a9-b00f-a15c28/detected_tiles\n",
      "2022-04-21 18:32:22,438 - INFO - luna.common.utils -  -> /home/aukermaa/vmount/PRO_12-123/tiling/01OV008-7579323e-2fae-43a9-b00f-a15c28/detected_tiles/01OV008-7579323e-2fae-43a9-b00f-a15c28-filtered.tiles.parquet\n",
      "2022-04-21 18:32:22,439 - INFO - luna.common.utils - Found segment keys: {'slide_id': '01OV008-7579323e-2fae-43a9-b00f-a15c28'}\n"
     ]
    },
    {
     "name": "stdout",
     "output_type": "stream",
     "text": [
      "\r",
      " 39%|███▉      | 27/69 [00:03<00:03, 12.51it/s]\r",
      " 42%|████▏     | 29/69 [00:03<00:02, 13.82it/s]"
     ]
    },
    {
     "name": "stderr",
     "output_type": "stream",
     "text": [
      "2022-04-21 18:32:22,442 - INFO - luna.common.utils - Resolved input:\n",
      "2022-04-21 18:32:22,442 - INFO - luna.common.utils -  -> ../PRO_12-123/data/toy_data_set/table/ANNOTATIONS/slide_annotation_dataset_TCGA collection_ov_regional.parquet\n",
      "2022-04-21 18:32:22,442 - INFO - luna.common.utils -  -> /home/aukermaa/vmount/PRO_12-123/data/toy_data_set/table/ANNOTATIONS/slide_annotation_dataset_TCGA collection_ov_regional.parquet\n",
      "\r",
      " 99%|█████████▉| 37720/38021 [00:41<00:00, 1231.06it/s]2022-04-21 18:32:22,444 - INFO - luna.common.utils - Resolved input:\n",
      "2022-04-21 18:32:22,444 - INFO - luna.common.utils -  -> /home/aukermaa/vmount/PRO_12-123/tiling/01OV008-7579323e-2fae-43a9-b00f-a15c28/detected_tiles/01OV008-7579323e-2fae-43a9-b00f-a15c28-filtered.tiles.parquet\n",
      "2022-04-21 18:32:22,444 - INFO - luna.common.utils -  -> /home/aukermaa/vmount/PRO_12-123/tiling/01OV008-7579323e-2fae-43a9-b00f-a15c28/detected_tiles/01OV008-7579323e-2fae-43a9-b00f-a15c28-filtered.tiles.parquet\n",
      "2022-04-21 18:32:22,447 - INFO - luna.common.utils - Full segment key set: {'dsa_collection_uuid': '62618802005d04d493d48694', 'slide_id': '01OV008-7579323e-2fae-43a9-b00f-a15c28'}\n",
      "2022-04-21 18:32:22,449 - INFO - luna.common.utils - ------------------------------------------------------------\n",
      "2022-04-21 18:32:22,449 - INFO - luna.common.utils -  Starting transform::generate_tile_labels \n",
      "2022-04-21 18:32:22,449 - INFO - luna.common.utils - ------------------------------------------------------------\n",
      "2022-04-21 18:32:22,451 - INFO - generate_tile_labels - slide_id=01OV008-7579323e-2fae-43a9-b00f-a15c28\n",
      "\r",
      " 81%|████████  | 35865/44304 [00:39<00:08, 1004.46it/s]\r",
      " 17%|█▋        | 17301/99258 [00:17<01:43, 790.94it/s]\r",
      "100%|█████████▉| 37844/38021 [00:41<00:00, 1232.64it/s]\r",
      "  0%|          | 0/16496 [00:00<?, ?it/s]\r",
      " 81%|████████  | 35967/44304 [00:39<00:08, 980.45it/s] \r",
      " 18%|█▊        | 17381/99258 [00:17<01:45, 778.79it/s]"
     ]
    },
    {
     "name": "stdout",
     "output_type": "stream",
     "text": [
      "\r",
      " 46%|████▋     | 32/69 [00:03<00:02, 16.57it/s]../PRO_12-123/data/toy_data_set/table/ANNOTATIONS/01OV008-7579323e-2fae-43a9-b00f-a15c28.annotation.geojson TCGA collection ov_regional\n"
     ]
    },
    {
     "name": "stderr",
     "output_type": "stream",
     "text": [
      "100%|██████████| 38021/38021 [00:41<00:00, 911.38it/s] \n",
      " 81%|████████▏ | 36091/44304 [00:39<00:07, 1050.39it/s]2022-04-21 18:32:22,700 - INFO - detect_tissue - Filtering based on query: otsu_score > 0.1\n",
      " 18%|█▊        | 17471/99258 [00:17<01:40, 810.44it/s]2022-04-21 18:32:22,716 - INFO - detect_tissue -                 x_coord  y_coord  xy_extent  tile_size tile_units  otsu_score\n",
      "2022-04-21 18:32:22,716 - INFO - detect_tissue - address                                                                      \n",
      "2022-04-21 18:32:22,716 - INFO - detect_tissue - x5_y37_z20.0       1280     9472        256        128         px        0.11\n",
      "2022-04-21 18:32:22,716 - INFO - detect_tissue - x5_y38_z20.0       1280     9728        256        128         px        0.47\n",
      "2022-04-21 18:32:22,716 - INFO - detect_tissue - x5_y39_z20.0       1280     9984        256        128         px        0.55\n",
      "2022-04-21 18:32:22,716 - INFO - detect_tissue - x5_y40_z20.0       1280    10240        256        128         px        0.48\n",
      "2022-04-21 18:32:22,716 - INFO - detect_tissue - x5_y41_z20.0       1280    10496        256        128         px        0.13\n",
      "2022-04-21 18:32:22,716 - INFO - detect_tissue - ...                 ...      ...        ...        ...        ...         ...\n",
      "2022-04-21 18:32:22,716 - INFO - detect_tissue - x167_y49_z20.0    42752    12544        256        128         px        0.30\n",
      "2022-04-21 18:32:22,716 - INFO - detect_tissue - x167_y50_z20.0    42752    12800        256        128         px        0.43\n",
      "2022-04-21 18:32:22,716 - INFO - detect_tissue - x167_y51_z20.0    42752    13056        256        128         px        0.43\n",
      "2022-04-21 18:32:22,716 - INFO - detect_tissue - x167_y52_z20.0    42752    13312        256        128         px        0.31\n",
      "2022-04-21 18:32:22,716 - INFO - detect_tissue - x172_y31_z20.0    44032     7936        256        128         px        0.16\n",
      "2022-04-21 18:32:22,716 - INFO - detect_tissue - \n",
      "2022-04-21 18:32:22,716 - INFO - detect_tissue - [18274 rows x 6 columns]\n",
      "  7%|▋         | 1133/16496 [00:00<00:02, 5679.89it/s]2022-04-21 18:32:22,792 - INFO - luna.common.utils - Code block 'transform::detect_tissue' took: 64.39215469360352s\n",
      "2022-04-21 18:32:22,792 - INFO - luna.common.utils - ------------------------------------------------------------\n",
      "2022-04-21 18:32:22,792 - INFO - luna.common.utils -  Done with transform, running post-transform functions... \n",
      "2022-04-21 18:32:22,792 - INFO - luna.common.utils - ------------------------------------------------------------\n",
      "2022-04-21 18:32:22,798 - INFO - luna.common.utils - Done.\n",
      " 17%|█▋        | 2850/16496 [00:00<00:02, 5711.06it/s]]"
     ]
    },
    {
     "name": "stdout",
     "output_type": "stream",
     "text": [
      "\r",
      " 49%|████▉     | 34/69 [00:03<00:03,  9.79it/s]\r",
      " 54%|█████▎    | 37/69 [00:03<00:02, 11.77it/s]"
     ]
    },
    {
     "name": "stderr",
     "output_type": "stream",
     "text": [
      "\r",
      " 82%|████████▏ | 36526/44304 [00:40<00:07, 1040.43it/s]\r",
      " 18%|█▊        | 17830/99258 [00:18<01:37, 833.96it/s]\r",
      " 21%|██        | 3435/16496 [00:00<00:02, 5754.99it/s]\r",
      " 83%|████████▎ | 36631/44304 [00:40<00:07, 994.12it/s] \r",
      " 18%|█▊        | 17919/99258 [00:18<01:35, 849.27it/s]\r",
      " 24%|██▍       | 4019/16496 [00:00<00:02, 5781.52it/s]"
     ]
    },
    {
     "name": "stdout",
     "output_type": "stream",
     "text": [
      "\r",
      " 57%|█████▋    | 39/69 [00:04<00:02, 11.74it/s]"
     ]
    },
    {
     "name": "stderr",
     "output_type": "stream",
     "text": [
      "\r",
      " 83%|████████▎ | 36732/44304 [00:40<00:07, 993.92it/s]\r",
      " 18%|█▊        | 18005/99258 [00:18<01:35, 851.16it/s]\r",
      " 28%|██▊       | 4598/16496 [00:00<00:02, 5743.18it/s]\r",
      " 83%|████████▎ | 36832/44304 [00:40<00:07, 936.87it/s]\r",
      " 31%|███▏      | 5173/16496 [00:00<00:02, 5578.45it/s]\r",
      " 18%|█▊        | 18091/99258 [00:18<01:40, 804.35it/s]"
     ]
    },
    {
     "name": "stdout",
     "output_type": "stream",
     "text": [
      "label_tiles ../PRO_12-123/data/toy_data_set/table/ANNOTATIONS /home/aukermaa/vmount/PRO_12-123/tiling/01OV002-ed65cf94-8bc6-492b-9149-adc16f/detected_tiles -o /home/aukermaa/vmount/PRO_12-123/tiling/01OV002-ed65cf94-8bc6-492b-9149-adc16f/labled_tiles\n",
      "\r",
      " 61%|██████    | 42/69 [00:04<00:02, 11.55it/s]\r",
      " 64%|██████▍   | 44/69 [00:04<00:01, 12.75it/s]"
     ]
    },
    {
     "name": "stderr",
     "output_type": "stream",
     "text": [
      "\r",
      " 83%|████████▎ | 36943/44304 [00:40<00:07, 984.91it/s]\r",
      " 35%|███▍      | 5732/16496 [00:01<00:01, 5580.31it/s]\r",
      " 18%|█▊        | 18173/99258 [00:18<01:43, 780.75it/s]\r",
      " 38%|███▊      | 6291/16496 [00:01<00:01, 5520.47it/s]\r",
      " 84%|████████▎ | 37043/44304 [00:40<00:07, 951.78it/s]\r",
      " 18%|█▊        | 18253/99258 [00:18<01:43, 780.82it/s]"
     ]
    },
    {
     "name": "stdout",
     "output_type": "stream",
     "text": [
      "\r",
      " 67%|██████▋   | 46/69 [00:04<00:01, 13.84it/s]"
     ]
    },
    {
     "name": "stderr",
     "output_type": "stream",
     "text": [
      " 62%|██████▏   | 10167/16496 [00:01<00:01, 5516.92it/s]"
     ]
    },
    {
     "name": "stdout",
     "output_type": "stream",
     "text": [
      "\r",
      " 71%|███████   | 49/69 [00:04<00:02,  9.79it/s]"
     ]
    },
    {
     "name": "stderr",
     "output_type": "stream",
     "text": [
      "\r",
      " 85%|████████▌ | 37805/44304 [00:41<00:06, 1046.43it/s]\r",
      " 19%|█▉        | 18880/99258 [00:19<01:30, 885.48it/s]\r",
      " 65%|██████▍   | 10719/16496 [00:01<00:01, 5506.50it/s]\r",
      " 86%|████████▌ | 37911/44304 [00:41<00:06, 1035.08it/s]\r",
      " 19%|█▉        | 18972/99258 [00:19<01:29, 893.60it/s]2022-04-21 18:32:24,552 - INFO - root - Initalized logger, log file at: data-processing.log\n",
      "2022-04-21 18:32:24,553 - INFO - luna.common.utils - Started CLI Runner wtih <function generate_tile_labels at 0x7f1c11568d30>\n",
      "2022-04-21 18:32:24,554 - INFO - luna.common.utils - Validating params...\n",
      "2022-04-21 18:32:24,555 - INFO - luna.common.utils -  -> Set input_slide_annotation_dataset (<class 'str'>) = ../PRO_12-123/data/toy_data_set/table/ANNOTATIONS\n",
      "2022-04-21 18:32:24,556 - INFO - luna.common.utils -  -> Set input_slide_tiles (<class 'str'>) = /home/aukermaa/vmount/PRO_12-123/tiling/01OV002-ed65cf94-8bc6-492b-9149-adc16f/detected_tiles\n",
      "2022-04-21 18:32:24,557 - INFO - luna.common.utils -  -> Set output_dir (<class 'str'>) = /home/aukermaa/vmount/PRO_12-123/tiling/01OV002-ed65cf94-8bc6-492b-9149-adc16f/labled_tiles\n",
      "2022-04-21 18:32:24,559 - INFO - luna.common.utils - Expanding inputs...\n",
      "2022-04-21 18:32:24,560 - INFO - luna.common.utils - Attempting to read metadata at ../PRO_12-123/data/toy_data_set/table/ANNOTATIONS/metadata.yml\n",
      "2022-04-21 18:32:24,563 - INFO - luna.common.utils - Expanded input:\n",
      "2022-04-21 18:32:24,563 - INFO - luna.common.utils -  -> ../PRO_12-123/data/toy_data_set/table/ANNOTATIONS\n",
      "2022-04-21 18:32:24,563 - INFO - luna.common.utils -  -> ../PRO_12-123/data/toy_data_set/table/ANNOTATIONS/slide_annotation_dataset_TCGA collection_ov_regional.parquet\n",
      "2022-04-21 18:32:24,564 - INFO - luna.common.utils - Found segment keys: {'dsa_collection_uuid': '62618802005d04d493d48694'}\n",
      "2022-04-21 18:32:24,565 - INFO - luna.common.utils - Attempting to read metadata at /home/aukermaa/vmount/PRO_12-123/tiling/01OV002-ed65cf94-8bc6-492b-9149-adc16f/detected_tiles/metadata.yml\n",
      "2022-04-21 18:32:24,569 - INFO - luna.common.utils - Expanded input:\n",
      "2022-04-21 18:32:24,569 - INFO - luna.common.utils -  -> /home/aukermaa/vmount/PRO_12-123/tiling/01OV002-ed65cf94-8bc6-492b-9149-adc16f/detected_tiles\n",
      "2022-04-21 18:32:24,569 - INFO - luna.common.utils -  -> /home/aukermaa/vmount/PRO_12-123/tiling/01OV002-ed65cf94-8bc6-492b-9149-adc16f/detected_tiles/01OV002-ed65cf94-8bc6-492b-9149-adc16f-filtered.tiles.parquet\n",
      "2022-04-21 18:32:24,570 - INFO - luna.common.utils - Found segment keys: {'slide_id': '01OV002-ed65cf94-8bc6-492b-9149-adc16f'}\n",
      "2022-04-21 18:32:24,572 - INFO - luna.common.utils - Resolved input:\n",
      "2022-04-21 18:32:24,572 - INFO - luna.common.utils -  -> ../PRO_12-123/data/toy_data_set/table/ANNOTATIONS/slide_annotation_dataset_TCGA collection_ov_regional.parquet\n",
      "2022-04-21 18:32:24,572 - INFO - luna.common.utils -  -> /home/aukermaa/vmount/PRO_12-123/data/toy_data_set/table/ANNOTATIONS/slide_annotation_dataset_TCGA collection_ov_regional.parquet\n",
      "2022-04-21 18:32:24,573 - INFO - luna.common.utils - Resolved input:\n",
      "2022-04-21 18:32:24,573 - INFO - luna.common.utils -  -> /home/aukermaa/vmount/PRO_12-123/tiling/01OV002-ed65cf94-8bc6-492b-9149-adc16f/detected_tiles/01OV002-ed65cf94-8bc6-492b-9149-adc16f-filtered.tiles.parquet\n",
      "2022-04-21 18:32:24,573 - INFO - luna.common.utils -  -> /home/aukermaa/vmount/PRO_12-123/tiling/01OV002-ed65cf94-8bc6-492b-9149-adc16f/detected_tiles/01OV002-ed65cf94-8bc6-492b-9149-adc16f-filtered.tiles.parquet\n",
      "2022-04-21 18:32:24,574 - INFO - luna.common.utils - Full segment key set: {'dsa_collection_uuid': '62618802005d04d493d48694', 'slide_id': '01OV002-ed65cf94-8bc6-492b-9149-adc16f'}\n",
      "2022-04-21 18:32:24,575 - INFO - luna.common.utils - ------------------------------------------------------------\n",
      "2022-04-21 18:32:24,575 - INFO - luna.common.utils -  Starting transform::generate_tile_labels \n",
      "2022-04-21 18:32:24,575 - INFO - luna.common.utils - ------------------------------------------------------------\n",
      "2022-04-21 18:32:24,576 - INFO - generate_tile_labels - slide_id=01OV002-ed65cf94-8bc6-492b-9149-adc16f\n",
      "\r",
      " 68%|██████▊   | 11270/16496 [00:02<00:00, 5497.42it/s]"
     ]
    },
    {
     "name": "stdout",
     "output_type": "stream",
     "text": [
      "\r",
      " 74%|███████▍  | 51/69 [00:05<00:02,  8.93it/s]\r",
      " 78%|███████▊  | 54/69 [00:05<00:01, 10.95it/s]../PRO_12-123/data/toy_data_set/table/ANNOTATIONS/01OV002-ed65cf94-8bc6-492b-9149-adc16f.annotation.geojson TCGA collection ov_regional\n"
     ]
    },
    {
     "name": "stderr",
     "output_type": "stream",
     "text": [
      "\r",
      " 86%|████████▌ | 38019/44304 [00:41<00:06, 1046.87it/s]\r",
      " 19%|█▉        | 19067/99258 [00:19<01:28, 904.06it/s]\r",
      "  0%|          | 0/18274 [00:00<?, ?it/s]\r",
      " 72%|███████▏  | 11830/16496 [00:02<00:00, 5526.36it/s]\r",
      " 86%|████████▌ | 38125/44304 [00:41<00:06, 1022.03it/s]\r",
      " 19%|█▉        | 19168/99258 [00:19<01:25, 935.10it/s]\r",
      "  3%|▎         | 527/18274 [00:00<00:03, 5265.22it/s]\r",
      " 75%|███████▌  | 12388/16496 [00:02<00:00, 5539.45it/s]"
     ]
    },
    {
     "name": "stdout",
     "output_type": "stream",
     "text": [
      "\r",
      " 81%|████████  | 56/69 [00:05<00:01, 11.71it/s]\r",
      " 84%|████████▍ | 58/69 [00:05<00:00, 12.61it/s]"
     ]
    },
    {
     "name": "stderr",
     "output_type": "stream",
     "text": [
      "\r",
      " 86%|████████▋ | 38239/44304 [00:41<00:05, 1046.26it/s]\r",
      " 19%|█▉        | 19268/99258 [00:19<01:23, 953.14it/s]\r",
      "  6%|▌         | 1103/18274 [00:00<00:03, 5555.17it/s]\r",
      " 79%|███████▊  | 12969/16496 [00:02<00:00, 5619.85it/s]\r",
      " 87%|████████▋ | 38346/44304 [00:41<00:05, 1050.36it/s]\r",
      " 20%|█▉        | 19373/99258 [00:20<01:21, 980.90it/s]\r",
      "  9%|▉         | 1689/18274 [00:00<00:02, 5691.03it/s]\r",
      " 82%|████████▏ | 13549/16496 [00:02<00:00, 5671.66it/s]\r",
      " 87%|████████▋ | 38455/44304 [00:42<00:05, 1060.91it/s]"
     ]
    },
    {
     "name": "stdout",
     "output_type": "stream",
     "text": [
      "\r",
      " 88%|████████▊ | 61/69 [00:05<00:00, 15.43it/s]\r",
      " 93%|█████████▎| 64/69 [00:05<00:00, 16.56it/s]"
     ]
    },
    {
     "name": "stderr",
     "output_type": "stream",
     "text": [
      "100%|██████████| 16496/16496 [00:02<00:00, 5610.48it/s]\n",
      "2022-04-21 18:32:25,500 - INFO - generate_tile_labels -                 x_coord  y_coord  ...  regional_label  intersection_area\n",
      "2022-04-21 18:32:25,500 - INFO - generate_tile_labels - address                           ...                                   \n",
      "2022-04-21 18:32:25,500 - INFO - generate_tile_labels - x44_y102_z20.0    11264    26112  ...          stroma           0.033000\n",
      "2022-04-21 18:32:25,500 - INFO - generate_tile_labels - x44_y103_z20.0    11264    26368  ...          stroma           0.100707\n",
      "2022-04-21 18:32:25,500 - INFO - generate_tile_labels - x45_y102_z20.0    11520    26112  ...          stroma           0.550479\n",
      "2022-04-21 18:32:25,500 - INFO - generate_tile_labels - x45_y103_z20.0    11520    26368  ...          stroma           0.943674\n",
      "2022-04-21 18:32:25,500 - INFO - generate_tile_labels - x45_y104_z20.0    11520    26624  ...          stroma           0.632023\n",
      "2022-04-21 18:32:25,500 - INFO - generate_tile_labels - ...                 ...      ...  ...             ...                ...\n",
      "2022-04-21 18:32:25,500 - INFO - generate_tile_labels - x111_y79_z20.0    28416    20224  ...          stroma           0.622304\n",
      "2022-04-21 18:32:25,500 - INFO - generate_tile_labels - x111_y80_z20.0    28416    20480  ...          stroma           1.000000\n",
      "2022-04-21 18:32:25,500 - INFO - generate_tile_labels - x111_y81_z20.0    28416    20736  ...          stroma           0.577473\n",
      "2022-04-21 18:32:25,500 - INFO - generate_tile_labels - x112_y80_z20.0    28672    20480  ...          stroma           0.251255\n",
      "2022-04-21 18:32:25,500 - INFO - generate_tile_labels - x112_y81_z20.0    28672    20736  ...          stroma           0.045343\n",
      "2022-04-21 18:32:25,500 - INFO - generate_tile_labels - \n",
      "2022-04-21 18:32:25,500 - INFO - generate_tile_labels - [250 rows x 8 columns]\n",
      " 88%|████████▊ | 38986/44304 [00:42<00:05, 1001.03it/s]2022-04-21 18:32:25,571 - INFO - luna.common.utils - Code block 'transform::generate_tile_labels' took: 3.1195163503289223s\n",
      "2022-04-21 18:32:25,595 - INFO - luna.common.utils - ------------------------------------------------------------\n",
      "2022-04-21 18:32:25,595 - INFO - luna.common.utils -  Done with transform, running post-transform functions... \n",
      "2022-04-21 18:32:25,595 - INFO - luna.common.utils - ------------------------------------------------------------\n",
      "2022-04-21 18:32:25,600 - INFO - luna.common.utils - Done.\n",
      " 27%|██▋       | 5010/18274 [00:00<00:02, 4749.52it/s]"
     ]
    },
    {
     "name": "stdout",
     "output_type": "stream",
     "text": [
      "\r",
      " 96%|█████████▌| 66/69 [00:06<00:00, 12.71it/s]\r",
      " 99%|█████████▊| 68/69 [00:06<00:00, 12.98it/s]\r",
      "100%|██████████| 69/69 [00:06<00:00, 10.74it/s]"
     ]
    },
    {
     "name": "stderr",
     "output_type": "stream",
     "text": [
      "\r",
      " 20%|██        | 20139/99258 [00:20<01:11, 1101.96it/s]\r",
      " 88%|████████▊ | 39092/44304 [00:42<00:05, 1014.01it/s]\r",
      " 30%|███       | 5488/18274 [00:01<00:02, 4590.58it/s]\r",
      " 20%|██        | 20252/99258 [00:20<01:11, 1106.56it/s]\r",
      " 88%|████████▊ | 39194/44304 [00:42<00:05, 1013.61it/s]"
     ]
    },
    {
     "name": "stdout",
     "output_type": "stream",
     "text": [
      "save_tiles file:/home/aukermaa/vmount/PRO_12-123/data/toy_data_set/01OV008-7579323e-2fae-43a9-b00f-a15c28.svs /home/aukermaa/vmount/PRO_12-123/tiling/01OV008-7579323e-2fae-43a9-b00f-a15c28/labled_tiles --num_cores 16 --batch_size 200 --dataset_id PRO_TILES -o /home/aukermaa/vmount/PRO_12-123/tiling/01OV008-7579323e-2fae-43a9-b00f-a15c28/saved_tiles\n"
     ]
    },
    {
     "name": "stderr",
     "output_type": "stream",
     "text": [
      "\r",
      " 21%|██        | 20367/99258 [00:20<01:10, 1117.48it/s]\r",
      " 33%|███▎      | 5950/18274 [00:01<00:02, 4521.05it/s]\r",
      " 89%|████████▊ | 39308/44304 [00:42<00:04, 1041.75it/s]2022-04-21 18:32:25,869 - INFO - generate_tiles -                 x_coord  ...                                         tile_store\n",
      "2022-04-21 18:32:25,869 - INFO - generate_tiles - address                  ...                                                   \n",
      "2022-04-21 18:32:25,869 - INFO - generate_tiles - x6_y74_z20.0       1536  ...  /home/aukermaa/vmount/PRO_12-123/tiling/01OV00...\n",
      "2022-04-21 18:32:25,869 - INFO - generate_tiles - x7_y74_z20.0       1792  ...  /home/aukermaa/vmount/PRO_12-123/tiling/01OV00...\n",
      "2022-04-21 18:32:25,869 - INFO - generate_tiles - x7_y81_z20.0       1792  ...  /home/aukermaa/vmount/PRO_12-123/tiling/01OV00...\n",
      "2022-04-21 18:32:25,869 - INFO - generate_tiles - x8_y75_z20.0       2048  ...  /home/aukermaa/vmount/PRO_12-123/tiling/01OV00...\n",
      "2022-04-21 18:32:25,869 - INFO - generate_tiles - x8_y76_z20.0       2048  ...  /home/aukermaa/vmount/PRO_12-123/tiling/01OV00...\n",
      "2022-04-21 18:32:25,869 - INFO - generate_tiles - ...                 ...  ...                                                ...\n",
      "2022-04-21 18:32:25,869 - INFO - generate_tiles - x181_y45_z20.0    46336  ...  /home/aukermaa/vmount/PRO_12-123/tiling/01OV00...\n",
      "2022-04-21 18:32:25,869 - INFO - generate_tiles - x182_y41_z20.0    46592  ...  /home/aukermaa/vmount/PRO_12-123/tiling/01OV00...\n",
      "2022-04-21 18:32:25,869 - INFO - generate_tiles - x182_y42_z20.0    46592  ...  /home/aukermaa/vmount/PRO_12-123/tiling/01OV00...\n",
      "2022-04-21 18:32:25,869 - INFO - generate_tiles - x182_y43_z20.0    46592  ...  /home/aukermaa/vmount/PRO_12-123/tiling/01OV00...\n",
      "2022-04-21 18:32:25,869 - INFO - generate_tiles - x182_y44_z20.0    46592  ...  /home/aukermaa/vmount/PRO_12-123/tiling/01OV00...\n",
      "2022-04-21 18:32:25,869 - INFO - generate_tiles - \n",
      "2022-04-21 18:32:25,869 - INFO - generate_tiles - [13704 rows x 9 columns]\n",
      "2022-04-21 18:32:25,947 - INFO - luna.common.utils - Code block 'transform::save_tiles' took: 7.970003876835108s\n",
      "2022-04-21 18:32:25,949 - INFO - luna.common.utils - ------------------------------------------------------------\n",
      "2022-04-21 18:32:25,949 - INFO - luna.common.utils -  Done with transform, running post-transform functions... \n",
      "2022-04-21 18:32:25,949 - INFO - luna.common.utils - ------------------------------------------------------------\n",
      "\r",
      " 21%|██        | 20488/99258 [00:21<01:08, 1143.06it/s]2022-04-21 18:32:25,955 - INFO - luna.common.utils - Adding feature segment /home/aukermaa/vmount/PRO_12-123/tiling/01OV008-308ad404-7079-4ff8-8232-12ee2e/saved_tiles/01OV008-308ad404-7079-4ff8-8232-12ee2e.tiles.parquet to PRO_TILES\n",
      "\r",
      " 35%|███▌      | 6404/18274 [00:01<00:02, 4516.78it/s]2022-04-21 18:32:25,956 - INFO - luna.common.utils - Found dataset URL = file:///home/aukermaa/vmount/PRO_12-123/\n",
      "2022-04-21 18:32:25,957 - INFO - luna.common.utils - Adding /home/aukermaa/vmount/PRO_12-123/tiling/01OV008-308ad404-7079-4ff8-8232-12ee2e/saved_tiles/01OV008-308ad404-7079-4ff8-8232-12ee2e.tiles.parquet to PRO_TILES via file:///home/aukermaa/vmount/PRO_12-123/\n",
      "2022-04-21 18:32:25,958 - INFO - luna.common.utils - SEGMENT_ID=62618802005d04d493d48694-01OV008-308ad404-7079-4ff8-8232-12ee2e\n",
      "2022-04-21 18:32:25,959 - INFO - luna.common.utils - Writing to: /home/aukermaa/vmount/PRO_12-123/datasets/PRO_TILES/segments/62618802005d04d493d48694-01OV008-308ad404-7079-4ff8-8232-12ee2e\n",
      "\r",
      " 89%|████████▉ | 39420/44304 [00:42<00:04, 1062.44it/s]2022-04-21 18:32:26,027 - INFO - luna.common.utils - Done.\n",
      "\r",
      " 21%|██        | 20610/99258 [00:21<01:07, 1165.70it/s]"
     ]
    },
    {
     "name": "stdout",
     "output_type": "stream",
     "text": [
      "\n"
     ]
    },
    {
     "name": "stderr",
     "output_type": "stream",
     "text": [
      " 62%|██████▏   | 11376/18274 [00:02<00:01, 5601.05it/s]2022-04-21 18:32:26,857 - INFO - root - Initalized logger, log file at: data-processing.log\n",
      "100%|██████████| 18274/18274 [00:03<00:00, 5386.82it/s]\n",
      "2022-04-21 18:32:28,068 - INFO - generate_tile_labels -                 x_coord  y_coord  ...  regional_label  intersection_area\n",
      "2022-04-21 18:32:28,068 - INFO - generate_tile_labels - address                           ...                                   \n",
      "2022-04-21 18:32:28,068 - INFO - generate_tile_labels - x40_y114_z20.0    10240    29184  ...          stroma           0.022247\n",
      "2022-04-21 18:32:28,068 - INFO - generate_tile_labels - x40_y115_z20.0    10240    29440  ...          stroma           0.664626\n",
      "2022-04-21 18:32:28,068 - INFO - generate_tile_labels - x40_y116_z20.0    10240    29696  ...          stroma           0.974943\n",
      "2022-04-21 18:32:28,068 - INFO - generate_tile_labels - x40_y117_z20.0    10240    29952  ...          stroma           0.772881\n",
      "2022-04-21 18:32:28,068 - INFO - generate_tile_labels - x40_y118_z20.0    10240    30208  ...          stroma           0.469818\n",
      "2022-04-21 18:32:28,068 - INFO - generate_tile_labels - ...                 ...      ...  ...             ...                ...\n",
      "2022-04-21 18:32:28,068 - INFO - generate_tile_labels - x100_y21_z20.0    25600     5376  ...             fat           0.502811\n",
      "2022-04-21 18:32:28,068 - INFO - generate_tile_labels - x100_y22_z20.0    25600     5632  ...             fat           0.636428\n",
      "2022-04-21 18:32:28,068 - INFO - generate_tile_labels - x100_y23_z20.0    25600     5888  ...             fat           0.614154\n",
      "2022-04-21 18:32:28,068 - INFO - generate_tile_labels - x100_y25_z20.0    25600     6400  ...             fat           0.183442\n",
      "2022-04-21 18:32:28,068 - INFO - generate_tile_labels - x100_y26_z20.0    25600     6656  ...             fat           0.002640\n",
      "2022-04-21 18:32:28,068 - INFO - generate_tile_labels - \n",
      "2022-04-21 18:32:28,068 - INFO - generate_tile_labels - [1175 rows x 8 columns]\n",
      " 23%|██▎       | 23190/99258 [00:23<00:59, 1286.08it/s]2022-04-21 18:32:28,112 - INFO - luna.common.utils - Code block 'transform::generate_tile_labels' took: 3.535990636795759s\n",
      "2022-04-21 18:32:28,113 - INFO - luna.common.utils - ------------------------------------------------------------\n",
      "2022-04-21 18:32:28,113 - INFO - luna.common.utils -  Done with transform, running post-transform functions... \n",
      "2022-04-21 18:32:28,113 - INFO - luna.common.utils - ------------------------------------------------------------\n",
      " 95%|█████████▍| 41884/44304 [00:45<00:02, 1194.52it/s]2022-04-21 18:32:28,118 - INFO - luna.common.utils - Done.\n",
      " 24%|██▍       | 23576/99258 [00:23<01:00, 1255.75it/s]"
     ]
    },
    {
     "name": "stdout",
     "output_type": "stream",
     "text": [
      "save_tiles file:/home/aukermaa/vmount/PRO_12-123/data/toy_data_set/01OV002-ed65cf94-8bc6-492b-9149-adc16f.svs /home/aukermaa/vmount/PRO_12-123/tiling/01OV002-ed65cf94-8bc6-492b-9149-adc16f/labled_tiles --num_cores 16 --batch_size 200 --dataset_id PRO_TILES -o /home/aukermaa/vmount/PRO_12-123/tiling/01OV002-ed65cf94-8bc6-492b-9149-adc16f/saved_tiles\n"
     ]
    },
    {
     "name": "stderr",
     "output_type": "stream",
     "text": [
      " 96%|█████████▌| 42604/44304 [00:45<00:01, 1172.10it/s]2022-04-21 18:32:28,758 - INFO - luna.common.utils - Started CLI Runner wtih <function save_tiles at 0x7f6c33d3b310>\n",
      "2022-04-21 18:32:28,758 - INFO - luna.common.utils - Validating params...\n",
      "2022-04-21 18:32:28,759 - INFO - luna.common.utils -  -> Set input_slide_image (<class 'str'>) = file:/home/aukermaa/vmount/PRO_12-123/data/toy_data_set/01OV008-7579323e-2fae-43a9-b00f-a15c28.svs\n",
      "2022-04-21 18:32:28,760 - INFO - luna.common.utils -  -> Set input_slide_tiles (<class 'str'>) = /home/aukermaa/vmount/PRO_12-123/tiling/01OV008-7579323e-2fae-43a9-b00f-a15c28/labled_tiles\n",
      "2022-04-21 18:32:28,761 - INFO - luna.common.utils -  -> Set output_dir (<class 'str'>) = /home/aukermaa/vmount/PRO_12-123/tiling/01OV008-7579323e-2fae-43a9-b00f-a15c28/saved_tiles\n",
      "2022-04-21 18:32:28,762 - INFO - luna.common.utils -  -> Set num_cores (<class 'int'>) = 16\n",
      "2022-04-21 18:32:28,764 - INFO - luna.common.utils -  -> Set batch_size (<class 'int'>) = 200\n",
      "2022-04-21 18:32:28,766 - INFO - luna.common.utils - Expanding inputs...\n",
      "2022-04-21 18:32:28,767 - INFO - luna.common.utils - Attempting to read metadata at file:/home/aukermaa/vmount/PRO_12-123/data/toy_data_set/01OV008-7579323e-2fae-43a9-b00f-a15c28.svs/metadata.yml\n",
      "2022-04-21 18:32:28,768 - INFO - luna.common.utils - Attempting to read metadata at /home/aukermaa/vmount/PRO_12-123/tiling/01OV008-7579323e-2fae-43a9-b00f-a15c28/labled_tiles/metadata.yml\n",
      "2022-04-21 18:32:28,771 - INFO - luna.common.utils - Expanded input:\n",
      "2022-04-21 18:32:28,771 - INFO - luna.common.utils -  -> /home/aukermaa/vmount/PRO_12-123/tiling/01OV008-7579323e-2fae-43a9-b00f-a15c28/labled_tiles\n",
      "2022-04-21 18:32:28,771 - INFO - luna.common.utils -  -> /home/aukermaa/vmount/PRO_12-123/tiling/01OV008-7579323e-2fae-43a9-b00f-a15c28/labled_tiles/01OV008-7579323e-2fae-43a9-b00f-a15c28.regional_label.tiles.parquet\n",
      "2022-04-21 18:32:28,772 - INFO - luna.common.utils - Found segment keys: {'dsa_collection_uuid': '62618802005d04d493d48694', 'slide_id': '01OV008-7579323e-2fae-43a9-b00f-a15c28'}\n",
      "2022-04-21 18:32:28,774 - INFO - luna.common.utils - Resolved input:\n",
      "2022-04-21 18:32:28,774 - INFO - luna.common.utils -  -> file:/home/aukermaa/vmount/PRO_12-123/data/toy_data_set/01OV008-7579323e-2fae-43a9-b00f-a15c28.svs\n",
      "2022-04-21 18:32:28,774 - INFO - luna.common.utils -  -> /home/aukermaa/vmount/PRO_12-123/data/toy_data_set/01OV008-7579323e-2fae-43a9-b00f-a15c28.svs\n",
      "2022-04-21 18:32:28,775 - INFO - luna.common.utils - Resolved input:\n",
      "2022-04-21 18:32:28,775 - INFO - luna.common.utils -  -> /home/aukermaa/vmount/PRO_12-123/tiling/01OV008-7579323e-2fae-43a9-b00f-a15c28/labled_tiles/01OV008-7579323e-2fae-43a9-b00f-a15c28.regional_label.tiles.parquet\n",
      "2022-04-21 18:32:28,775 - INFO - luna.common.utils -  -> /home/aukermaa/vmount/PRO_12-123/tiling/01OV008-7579323e-2fae-43a9-b00f-a15c28/labled_tiles/01OV008-7579323e-2fae-43a9-b00f-a15c28.regional_label.tiles.parquet\n",
      "2022-04-21 18:32:28,776 - INFO - luna.common.utils - Full segment key set: {'dsa_collection_uuid': '62618802005d04d493d48694', 'slide_id': '01OV008-7579323e-2fae-43a9-b00f-a15c28'}\n",
      "2022-04-21 18:32:28,777 - INFO - luna.common.utils - ------------------------------------------------------------\n",
      "2022-04-21 18:32:28,777 - INFO - luna.common.utils -  Starting transform::save_tiles \n",
      "2022-04-21 18:32:28,777 - INFO - luna.common.utils - ------------------------------------------------------------\n",
      " 24%|██▍       | 24083/99258 [00:23<01:03, 1177.50it/s]2022-04-21 18:32:28,848 - INFO - generate_tiles - Now generating tiles with num_cores=16 and batch_size=200!\n",
      "2022-04-21 18:32:28,850 - WARNING - generate_tiles - /home/aukermaa/vmount/PRO_12-123/tiling/01OV008-7579323e-2fae-43a9-b00f-a15c28/saved_tiles/01OV008-7579323e-2fae-43a9-b00f-a15c28.tiles.h5 already exists, deleting the file..\n",
      " 25%|██▍       | 24569/99258 [00:24<01:03, 1183.63it/s]2022-04-21 18:32:29,280 - INFO - root - Initalized logger, log file at: data-processing.log\n",
      "100%|██████████| 44304/44304 [00:47<00:00, 938.71it/s] \n",
      "2022-04-21 18:32:30,195 - INFO - detect_tissue - Filtering based on query: otsu_score > 0.1\n",
      " 26%|██▌       | 25713/99258 [00:25<00:58, 1265.15it/s]2022-04-21 18:32:30,212 - INFO - detect_tissue -                  x_coord  y_coord  xy_extent  tile_size tile_units  otsu_score\n",
      "2022-04-21 18:32:30,212 - INFO - detect_tissue - address                                                                       \n",
      "2022-04-21 18:32:30,212 - INFO - detect_tissue - x3_y58_z20.0         768    14848        256        128         px        0.16\n",
      "2022-04-21 18:32:30,212 - INFO - detect_tissue - x6_y171_z20.0       1536    43776        256        128         px        0.16\n",
      "2022-04-21 18:32:30,212 - INFO - detect_tissue - x6_y172_z20.0       1536    44032        256        128         px        0.47\n",
      "2022-04-21 18:32:30,212 - INFO - detect_tissue - x6_y173_z20.0       1536    44288        256        128         px        0.45\n",
      "2022-04-21 18:32:30,212 - INFO - detect_tissue - x6_y174_z20.0       1536    44544        256        128         px        0.35\n",
      "2022-04-21 18:32:30,212 - INFO - detect_tissue - ...                  ...      ...        ...        ...        ...         ...\n",
      "2022-04-21 18:32:30,212 - INFO - detect_tissue - x188_y118_z20.0    48128    30208        256        128         px        0.21\n",
      "2022-04-21 18:32:30,212 - INFO - detect_tissue - x193_y206_z20.0    49408    52736        256        128         px        0.14\n",
      "2022-04-21 18:32:30,212 - INFO - detect_tissue - x200_y167_z20.0    51200    42752        256        128         px        0.15\n",
      "2022-04-21 18:32:30,212 - INFO - detect_tissue - x201_y198_z20.0    51456    50688        256        128         px        0.12\n",
      "2022-04-21 18:32:30,212 - INFO - detect_tissue - x207_y208_z20.0    52992    53248        256        128         px        0.11\n",
      "2022-04-21 18:32:30,212 - INFO - detect_tissue - \n",
      "2022-04-21 18:32:30,212 - INFO - detect_tissue - [19982 rows x 6 columns]\n",
      "2022-04-21 18:32:30,249 - INFO - luna.common.utils - Code block 'transform::detect_tissue' took: 71.97251476347446s\n",
      "2022-04-21 18:32:30,251 - INFO - luna.common.utils - ------------------------------------------------------------\n",
      "2022-04-21 18:32:30,251 - INFO - luna.common.utils -  Done with transform, running post-transform functions... \n",
      "2022-04-21 18:32:30,251 - INFO - luna.common.utils - ------------------------------------------------------------\n",
      "2022-04-21 18:32:30,255 - INFO - luna.common.utils - Done.\n",
      " 26%|██▋       | 26233/99258 [00:25<00:57, 1279.22it/s]"
     ]
    },
    {
     "name": "stdout",
     "output_type": "stream",
     "text": [
      "\r",
      "  0%|          | 0/83 [00:00<?, ?it/s]"
     ]
    },
    {
     "name": "stderr",
     "output_type": "stream",
     "text": [
      "\r",
      " 27%|██▋       | 26362/99258 [00:25<00:57, 1275.45it/s]\r",
      " 27%|██▋       | 26490/99258 [00:25<01:00, 1207.19it/s]"
     ]
    },
    {
     "name": "stdout",
     "output_type": "stream",
     "text": [
      "label_tiles ../PRO_12-123/data/toy_data_set/table/ANNOTATIONS /home/aukermaa/vmount/PRO_12-123/tiling/01OV002-bd8cdc70-3d46-40ae-99c4-90ef77/detected_tiles -o /home/aukermaa/vmount/PRO_12-123/tiling/01OV002-bd8cdc70-3d46-40ae-99c4-90ef77/labled_tiles\n",
      "\r",
      "  1%|          | 1/83 [00:00<00:32,  2.49it/s]"
     ]
    },
    {
     "name": "stderr",
     "output_type": "stream",
     "text": [
      "\r",
      " 27%|██▋       | 26612/99258 [00:26<01:02, 1166.06it/s]\r",
      " 27%|██▋       | 26730/99258 [00:26<01:04, 1124.53it/s]"
     ]
    },
    {
     "name": "stdout",
     "output_type": "stream",
     "text": [
      "\r",
      "  2%|▏         | 2/83 [00:00<00:21,  3.77it/s]\r",
      "  4%|▎         | 3/83 [00:00<00:18,  4.34it/s]"
     ]
    },
    {
     "name": "stderr",
     "output_type": "stream",
     "text": [
      " 27%|██▋       | 26957/99258 [00:26<01:10, 1032.40it/s]2022-04-21 18:32:31,354 - INFO - luna.common.utils - Started CLI Runner wtih <function save_tiles at 0x7f0acb028310>\n",
      "2022-04-21 18:32:31,355 - INFO - luna.common.utils - Validating params...\n",
      "2022-04-21 18:32:31,357 - INFO - luna.common.utils -  -> Set input_slide_image (<class 'str'>) = file:/home/aukermaa/vmount/PRO_12-123/data/toy_data_set/01OV002-ed65cf94-8bc6-492b-9149-adc16f.svs\n",
      "2022-04-21 18:32:31,358 - INFO - luna.common.utils -  -> Set input_slide_tiles (<class 'str'>) = /home/aukermaa/vmount/PRO_12-123/tiling/01OV002-ed65cf94-8bc6-492b-9149-adc16f/labled_tiles\n",
      "2022-04-21 18:32:31,360 - INFO - luna.common.utils -  -> Set output_dir (<class 'str'>) = /home/aukermaa/vmount/PRO_12-123/tiling/01OV002-ed65cf94-8bc6-492b-9149-adc16f/saved_tiles\n",
      "2022-04-21 18:32:31,361 - INFO - luna.common.utils -  -> Set num_cores (<class 'int'>) = 16\n",
      "2022-04-21 18:32:31,362 - INFO - luna.common.utils -  -> Set batch_size (<class 'int'>) = 200\n",
      "2022-04-21 18:32:31,365 - INFO - luna.common.utils - Expanding inputs...\n",
      "2022-04-21 18:32:31,366 - INFO - luna.common.utils - Attempting to read metadata at file:/home/aukermaa/vmount/PRO_12-123/data/toy_data_set/01OV002-ed65cf94-8bc6-492b-9149-adc16f.svs/metadata.yml\n",
      "2022-04-21 18:32:31,367 - INFO - luna.common.utils - Attempting to read metadata at /home/aukermaa/vmount/PRO_12-123/tiling/01OV002-ed65cf94-8bc6-492b-9149-adc16f/labled_tiles/metadata.yml\n",
      "2022-04-21 18:32:31,371 - INFO - luna.common.utils - Expanded input:\n",
      "2022-04-21 18:32:31,371 - INFO - luna.common.utils -  -> /home/aukermaa/vmount/PRO_12-123/tiling/01OV002-ed65cf94-8bc6-492b-9149-adc16f/labled_tiles\n",
      "2022-04-21 18:32:31,371 - INFO - luna.common.utils -  -> /home/aukermaa/vmount/PRO_12-123/tiling/01OV002-ed65cf94-8bc6-492b-9149-adc16f/labled_tiles/01OV002-ed65cf94-8bc6-492b-9149-adc16f.regional_label.tiles.parquet\n",
      "2022-04-21 18:32:31,372 - INFO - luna.common.utils - Found segment keys: {'dsa_collection_uuid': '62618802005d04d493d48694', 'slide_id': '01OV002-ed65cf94-8bc6-492b-9149-adc16f'}\n",
      "2022-04-21 18:32:31,374 - INFO - luna.common.utils - Resolved input:\n",
      "2022-04-21 18:32:31,374 - INFO - luna.common.utils -  -> file:/home/aukermaa/vmount/PRO_12-123/data/toy_data_set/01OV002-ed65cf94-8bc6-492b-9149-adc16f.svs\n",
      "2022-04-21 18:32:31,374 - INFO - luna.common.utils -  -> /home/aukermaa/vmount/PRO_12-123/data/toy_data_set/01OV002-ed65cf94-8bc6-492b-9149-adc16f.svs\n",
      "2022-04-21 18:32:31,375 - INFO - luna.common.utils - Resolved input:\n",
      "2022-04-21 18:32:31,375 - INFO - luna.common.utils -  -> /home/aukermaa/vmount/PRO_12-123/tiling/01OV002-ed65cf94-8bc6-492b-9149-adc16f/labled_tiles/01OV002-ed65cf94-8bc6-492b-9149-adc16f.regional_label.tiles.parquet\n",
      "2022-04-21 18:32:31,375 - INFO - luna.common.utils -  -> /home/aukermaa/vmount/PRO_12-123/tiling/01OV002-ed65cf94-8bc6-492b-9149-adc16f/labled_tiles/01OV002-ed65cf94-8bc6-492b-9149-adc16f.regional_label.tiles.parquet\n",
      "2022-04-21 18:32:31,377 - INFO - luna.common.utils - Full segment key set: {'dsa_collection_uuid': '62618802005d04d493d48694', 'slide_id': '01OV002-ed65cf94-8bc6-492b-9149-adc16f'}\n",
      "2022-04-21 18:32:31,378 - INFO - luna.common.utils - ------------------------------------------------------------\n",
      "2022-04-21 18:32:31,378 - INFO - luna.common.utils -  Starting transform::save_tiles \n",
      "2022-04-21 18:32:31,378 - INFO - luna.common.utils - ------------------------------------------------------------\n",
      " 27%|██▋       | 27066/99258 [00:26<01:09, 1045.72it/s]2022-04-21 18:32:31,433 - INFO - generate_tiles - Now generating tiles with num_cores=16 and batch_size=200!\n",
      "2022-04-21 18:32:31,435 - WARNING - generate_tiles - /home/aukermaa/vmount/PRO_12-123/tiling/01OV002-ed65cf94-8bc6-492b-9149-adc16f/saved_tiles/01OV002-ed65cf94-8bc6-492b-9149-adc16f.tiles.h5 already exists, deleting the file..\n",
      " 27%|██▋       | 27190/99258 [00:26<01:05, 1098.28it/s]"
     ]
    },
    {
     "name": "stdout",
     "output_type": "stream",
     "text": [
      "\r",
      "  5%|▍         | 4/83 [00:00<00:14,  5.31it/s]\r",
      "  8%|▊         | 7/83 [00:01<00:07,  9.52it/s]"
     ]
    },
    {
     "name": "stderr",
     "output_type": "stream",
     "text": [
      "\r",
      " 28%|██▊       | 27315/99258 [00:26<01:03, 1139.86it/s]\r",
      " 28%|██▊       | 27442/99258 [00:26<01:01, 1177.02it/s]\r",
      " 28%|██▊       | 27569/99258 [00:26<00:59, 1203.60it/s]"
     ]
    },
    {
     "name": "stdout",
     "output_type": "stream",
     "text": [
      "\r",
      " 12%|█▏        | 10/83 [00:01<00:05, 13.31it/s]\r",
      " 16%|█▌        | 13/83 [00:01<00:04, 15.06it/s]"
     ]
    },
    {
     "name": "stderr",
     "output_type": "stream",
     "text": [
      "\r",
      " 28%|██▊       | 27695/99258 [00:26<00:58, 1218.07it/s]\r",
      " 28%|██▊       | 27818/99258 [00:27<00:58, 1216.33it/s]2022-04-21 18:32:32,081 - INFO - root - Initalized logger, log file at: data-processing.log\n",
      "2022-04-21 18:32:32,082 - INFO - luna.common.utils - Started CLI Runner wtih <function generate_tile_labels at 0x7ff400520d30>\n",
      "2022-04-21 18:32:32,084 - INFO - luna.common.utils - Validating params...\n",
      "2022-04-21 18:32:32,085 - INFO - luna.common.utils -  -> Set input_slide_annotation_dataset (<class 'str'>) = ../PRO_12-123/data/toy_data_set/table/ANNOTATIONS\n",
      "2022-04-21 18:32:32,086 - INFO - luna.common.utils -  -> Set input_slide_tiles (<class 'str'>) = /home/aukermaa/vmount/PRO_12-123/tiling/01OV002-bd8cdc70-3d46-40ae-99c4-90ef77/detected_tiles\n",
      "2022-04-21 18:32:32,087 - INFO - luna.common.utils -  -> Set output_dir (<class 'str'>) = /home/aukermaa/vmount/PRO_12-123/tiling/01OV002-bd8cdc70-3d46-40ae-99c4-90ef77/labled_tiles\n",
      "2022-04-21 18:32:32,088 - INFO - luna.common.utils - Expanding inputs...\n",
      "2022-04-21 18:32:32,089 - INFO - luna.common.utils - Attempting to read metadata at ../PRO_12-123/data/toy_data_set/table/ANNOTATIONS/metadata.yml\n"
     ]
    },
    {
     "name": "stdout",
     "output_type": "stream",
     "text": [
      "\r",
      " 19%|█▉        | 16/83 [00:01<00:03, 17.34it/s]\r",
      " 22%|██▏       | 18/83 [00:01<00:03, 16.65it/s]../PRO_12-123/data/toy_data_set/table/ANNOTATIONS/01OV002-bd8cdc70-3d46-40ae-99c4-90ef77.annotation.geojson TCGA collection ov_regional\n"
     ]
    },
    {
     "name": "stderr",
     "output_type": "stream",
     "text": [
      "2022-04-21 18:32:32,092 - INFO - luna.common.utils - Expanded input:\n",
      "2022-04-21 18:32:32,092 - INFO - luna.common.utils -  -> ../PRO_12-123/data/toy_data_set/table/ANNOTATIONS\n",
      "2022-04-21 18:32:32,092 - INFO - luna.common.utils -  -> ../PRO_12-123/data/toy_data_set/table/ANNOTATIONS/slide_annotation_dataset_TCGA collection_ov_regional.parquet\n",
      "2022-04-21 18:32:32,093 - INFO - luna.common.utils - Found segment keys: {'dsa_collection_uuid': '62618802005d04d493d48694'}\n",
      " 28%|██▊       | 27940/99258 [00:27<00:58, 1209.88it/s]2022-04-21 18:32:32,094 - INFO - luna.common.utils - Attempting to read metadata at /home/aukermaa/vmount/PRO_12-123/tiling/01OV002-bd8cdc70-3d46-40ae-99c4-90ef77/detected_tiles/metadata.yml\n",
      "2022-04-21 18:32:32,097 - INFO - luna.common.utils - Expanded input:\n",
      "2022-04-21 18:32:32,097 - INFO - luna.common.utils -  -> /home/aukermaa/vmount/PRO_12-123/tiling/01OV002-bd8cdc70-3d46-40ae-99c4-90ef77/detected_tiles\n",
      "2022-04-21 18:32:32,097 - INFO - luna.common.utils -  -> /home/aukermaa/vmount/PRO_12-123/tiling/01OV002-bd8cdc70-3d46-40ae-99c4-90ef77/detected_tiles/01OV002-bd8cdc70-3d46-40ae-99c4-90ef77-filtered.tiles.parquet\n",
      "2022-04-21 18:32:32,099 - INFO - luna.common.utils - Found segment keys: {'slide_id': '01OV002-bd8cdc70-3d46-40ae-99c4-90ef77'}\n",
      "2022-04-21 18:32:32,100 - INFO - luna.common.utils - Resolved input:\n",
      "2022-04-21 18:32:32,100 - INFO - luna.common.utils -  -> ../PRO_12-123/data/toy_data_set/table/ANNOTATIONS/slide_annotation_dataset_TCGA collection_ov_regional.parquet\n",
      "2022-04-21 18:32:32,100 - INFO - luna.common.utils -  -> /home/aukermaa/vmount/PRO_12-123/data/toy_data_set/table/ANNOTATIONS/slide_annotation_dataset_TCGA collection_ov_regional.parquet\n",
      "2022-04-21 18:32:32,101 - INFO - luna.common.utils - Resolved input:\n",
      "2022-04-21 18:32:32,101 - INFO - luna.common.utils -  -> /home/aukermaa/vmount/PRO_12-123/tiling/01OV002-bd8cdc70-3d46-40ae-99c4-90ef77/detected_tiles/01OV002-bd8cdc70-3d46-40ae-99c4-90ef77-filtered.tiles.parquet\n",
      "2022-04-21 18:32:32,101 - INFO - luna.common.utils -  -> /home/aukermaa/vmount/PRO_12-123/tiling/01OV002-bd8cdc70-3d46-40ae-99c4-90ef77/detected_tiles/01OV002-bd8cdc70-3d46-40ae-99c4-90ef77-filtered.tiles.parquet\n",
      "2022-04-21 18:32:32,102 - INFO - luna.common.utils - Full segment key set: {'dsa_collection_uuid': '62618802005d04d493d48694', 'slide_id': '01OV002-bd8cdc70-3d46-40ae-99c4-90ef77'}\n",
      "2022-04-21 18:32:32,102 - INFO - luna.common.utils - ------------------------------------------------------------\n",
      "2022-04-21 18:32:32,102 - INFO - luna.common.utils -  Starting transform::generate_tile_labels \n",
      "2022-04-21 18:32:32,102 - INFO - luna.common.utils - ------------------------------------------------------------\n",
      "2022-04-21 18:32:32,103 - INFO - generate_tile_labels - slide_id=01OV002-bd8cdc70-3d46-40ae-99c4-90ef77\n",
      " 29%|██▊       | 28427/99258 [00:27<00:58, 1201.81it/s]"
     ]
    },
    {
     "name": "stdout",
     "output_type": "stream",
     "text": [
      "\r",
      " 24%|██▍       | 20/83 [00:01<00:04, 12.71it/s]\r",
      " 27%|██▋       | 22/83 [00:02<00:05, 12.11it/s]"
     ]
    },
    {
     "name": "stderr",
     "output_type": "stream",
     "text": [
      "\r",
      "  7%|▋         | 1484/19982 [00:00<00:03, 4972.74it/s]\r",
      " 29%|██▉       | 28548/99258 [00:27<00:59, 1193.42it/s]\r",
      " 10%|▉         | 1988/19982 [00:00<00:03, 4997.26it/s]\r",
      " 29%|██▉       | 28669/99258 [00:27<00:58, 1196.69it/s]\r",
      " 12%|█▏        | 2497/19982 [00:00<00:03, 5029.33it/s]"
     ]
    },
    {
     "name": "stdout",
     "output_type": "stream",
     "text": [
      "\r",
      " 29%|██▉       | 24/83 [00:02<00:04, 13.38it/s]\r",
      " 31%|███▏      | 26/83 [00:02<00:04, 13.46it/s]"
     ]
    },
    {
     "name": "stderr",
     "output_type": "stream",
     "text": [
      "\r",
      " 29%|██▉       | 28794/99258 [00:27<00:58, 1209.66it/s]\r",
      " 15%|█▌        | 3011/19982 [00:00<00:03, 5065.04it/s]\r",
      " 29%|██▉       | 28919/99258 [00:27<00:57, 1218.84it/s]\r",
      " 18%|█▊        | 3518/19982 [00:00<00:03, 5040.12it/s]"
     ]
    },
    {
     "name": "stdout",
     "output_type": "stream",
     "text": [
      "\r",
      " 34%|███▎      | 28/83 [00:02<00:03, 14.45it/s]\r",
      " 36%|███▌      | 30/83 [00:02<00:03, 14.66it/s]"
     ]
    },
    {
     "name": "stderr",
     "output_type": "stream",
     "text": [
      " 30%|██▉       | 29394/99258 [00:28<01:01, 1134.27it/s]"
     ]
    },
    {
     "name": "stdout",
     "output_type": "stream",
     "text": [
      "\r",
      " 39%|███▊      | 32/83 [00:02<00:03, 14.09it/s]\r",
      "  0%|          | 0/92 [00:00<?, ?it/s]"
     ]
    },
    {
     "name": "stderr",
     "output_type": "stream",
     "text": [
      "\r",
      " 31%|███       | 6125/19982 [00:01<00:02, 5046.28it/s]\r",
      " 30%|██▉       | 29508/99258 [00:28<01:02, 1117.42it/s]\r",
      " 33%|███▎      | 6645/19982 [00:01<00:02, 5091.67it/s]\r",
      " 30%|██▉       | 29620/99258 [00:28<01:02, 1117.73it/s]\r",
      " 36%|███▌      | 7164/19982 [00:01<00:02, 5119.32it/s]"
     ]
    },
    {
     "name": "stdout",
     "output_type": "stream",
     "text": [
      "\r",
      " 41%|████      | 34/83 [00:02<00:04, 11.36it/s]\r",
      " 43%|████▎     | 36/83 [00:03<00:03, 12.07it/s]"
     ]
    },
    {
     "name": "stderr",
     "output_type": "stream",
     "text": [
      "\r",
      " 30%|██▉       | 29736/99258 [00:28<01:01, 1129.46it/s]\r",
      " 38%|███▊      | 7686/19982 [00:01<00:02, 5149.10it/s]\r",
      " 30%|███       | 29854/99258 [00:28<01:00, 1143.01it/s]\r",
      " 41%|████      | 8202/19982 [00:01<00:02, 5135.98it/s]"
     ]
    },
    {
     "name": "stdout",
     "output_type": "stream",
     "text": [
      "\r",
      " 46%|████▌     | 38/83 [00:03<00:03, 13.15it/s]\r",
      " 48%|████▊     | 40/83 [00:03<00:03, 13.59it/s]"
     ]
    },
    {
     "name": "stderr",
     "output_type": "stream",
     "text": [
      " 49%|████▊     | 9721/19982 [00:01<00:02, 4998.42it/s]]"
     ]
    },
    {
     "name": "stdout",
     "output_type": "stream",
     "text": [
      "\r",
      " 51%|█████     | 42/83 [00:03<00:02, 14.18it/s]\r",
      "  1%|          | 1/92 [00:00<01:16,  1.19it/s]\r",
      " 53%|█████▎    | 44/83 [00:03<00:02, 14.92it/s]"
     ]
    },
    {
     "name": "stderr",
     "output_type": "stream",
     "text": [
      "\r",
      " 51%|█████     | 10223/19982 [00:02<00:01, 5004.37it/s]\r",
      " 31%|███       | 30437/99258 [00:29<00:59, 1147.17it/s]\r",
      " 31%|███       | 30555/99258 [00:29<00:59, 1153.45it/s]\r",
      " 54%|█████▎    | 10724/19982 [00:02<00:01, 4912.36it/s]"
     ]
    },
    {
     "name": "stdout",
     "output_type": "stream",
     "text": [
      "\r",
      " 55%|█████▌    | 46/83 [00:03<00:02, 16.02it/s]\r",
      "  2%|▏         | 2/92 [00:01<00:42,  2.12it/s]\r",
      " 58%|█████▊    | 48/83 [00:03<00:02, 16.96it/s]"
     ]
    },
    {
     "name": "stderr",
     "output_type": "stream",
     "text": [
      "\r",
      " 31%|███       | 30671/99258 [00:29<00:59, 1152.36it/s]\r",
      " 56%|█████▌    | 11216/19982 [00:02<00:01, 4859.90it/s]\r",
      " 31%|███       | 30790/99258 [00:29<00:58, 1163.22it/s]\r",
      " 59%|█████▊    | 11703/19982 [00:02<00:01, 4816.63it/s]\r",
      " 31%|███       | 30907/99258 [00:29<00:58, 1163.53it/s]"
     ]
    },
    {
     "name": "stdout",
     "output_type": "stream",
     "text": [
      "\r",
      " 60%|██████    | 50/83 [00:03<00:01, 17.14it/s]\r",
      "  3%|▎         | 3/92 [00:01<00:30,  2.93it/s]\r",
      "  4%|▍         | 4/92 [00:01<00:21,  4.03it/s]"
     ]
    },
    {
     "name": "stderr",
     "output_type": "stream",
     "text": [
      "\r",
      " 61%|██████    | 12202/19982 [00:02<00:01, 4865.91it/s]\r",
      " 31%|███▏      | 31024/99258 [00:29<00:58, 1165.26it/s]\r",
      " 64%|██████▎   | 12706/19982 [00:02<00:01, 4914.77it/s]\r",
      " 31%|███▏      | 31141/99258 [00:29<00:58, 1159.18it/s]\r",
      " 66%|██████▌   | 13206/19982 [00:02<00:01, 4937.14it/s]"
     ]
    },
    {
     "name": "stdout",
     "output_type": "stream",
     "text": [
      "\r",
      "  8%|▊         | 7/92 [00:01<00:10,  8.46it/s]\r",
      " 64%|██████▍   | 53/83 [00:04<00:02, 11.72it/s]\r",
      " 10%|▉         | 9/92 [00:01<00:08, 10.01it/s]"
     ]
    },
    {
     "name": "stderr",
     "output_type": "stream",
     "text": [
      "\r",
      " 31%|███▏      | 31260/99258 [00:30<00:58, 1161.95it/s]\r",
      " 69%|██████▊   | 13726/19982 [00:02<00:01, 5013.63it/s]\r",
      " 32%|███▏      | 31378/99258 [00:30<00:58, 1165.08it/s]\r",
      " 71%|███████   | 14233/19982 [00:02<00:01, 5029.36it/s]"
     ]
    },
    {
     "name": "stdout",
     "output_type": "stream",
     "text": [
      "\r",
      " 12%|█▏        | 11/92 [00:01<00:06, 11.75it/s]\r",
      " 66%|██████▋   | 55/83 [00:04<00:02, 11.58it/s]\r",
      " 14%|█▍        | 13/92 [00:01<00:06, 12.26it/s]"
     ]
    },
    {
     "name": "stderr",
     "output_type": "stream",
     "text": [
      "\r",
      " 32%|███▏      | 31495/99258 [00:30<00:58, 1159.09it/s]\r",
      " 74%|███████▍  | 14737/19982 [00:02<00:01, 4934.11it/s]\r",
      " 32%|███▏      | 31611/99258 [00:30<00:58, 1148.87it/s]\r",
      " 76%|███████▌  | 15231/19982 [00:03<00:00, 4921.91it/s]"
     ]
    },
    {
     "name": "stdout",
     "output_type": "stream",
     "text": [
      "\r",
      " 69%|██████▊   | 57/83 [00:04<00:02, 10.28it/s]\r",
      " 71%|███████   | 59/83 [00:04<00:02, 10.91it/s]"
     ]
    },
    {
     "name": "stderr",
     "output_type": "stream",
     "text": [
      "\r",
      " 32%|███▏      | 31726/99258 [00:30<00:58, 1145.90it/s]\r",
      " 79%|███████▊  | 15734/19982 [00:03<00:00, 4951.60it/s]\r",
      " 32%|███▏      | 31843/99258 [00:30<00:58, 1149.71it/s]\r",
      " 81%|████████▏ | 16265/19982 [00:03<00:00, 5057.90it/s]\r",
      " 32%|███▏      | 31958/99258 [00:30<00:58, 1149.41it/s]"
     ]
    },
    {
     "name": "stdout",
     "output_type": "stream",
     "text": [
      "\r",
      " 16%|█▋        | 15/92 [00:02<00:08,  8.97it/s]\r",
      " 73%|███████▎  | 61/83 [00:04<00:01, 12.30it/s]\r",
      " 77%|███████▋  | 64/83 [00:05<00:01, 14.64it/s]"
     ]
    },
    {
     "name": "stderr",
     "output_type": "stream",
     "text": [
      " 95%|█████████▌| 18984/19982 [00:03<00:00, 5367.85it/s]"
     ]
    },
    {
     "name": "stdout",
     "output_type": "stream",
     "text": [
      "\r",
      " 81%|████████  | 67/83 [00:05<00:01, 15.44it/s]\r",
      " 18%|█▊        | 17/92 [00:02<00:10,  7.48it/s]\r",
      " 21%|██        | 19/92 [00:02<00:08,  8.83it/s]"
     ]
    },
    {
     "name": "stderr",
     "output_type": "stream",
     "text": [
      "\r",
      " 33%|███▎      | 32537/99258 [00:31<00:58, 1148.88it/s]\r",
      " 98%|█████████▊| 19529/19982 [00:03<00:00, 5390.76it/s]\r",
      "100%|██████████| 19982/19982 [00:03<00:00, 5087.41it/s]\n",
      "\r",
      " 33%|███▎      | 32655/99258 [00:31<00:57, 1156.75it/s]2022-04-21 18:32:36,156 - INFO - generate_tile_labels -                  x_coord  y_coord  ...  regional_label  intersection_area\n",
      "2022-04-21 18:32:36,156 - INFO - generate_tile_labels - address                            ...                                   \n",
      "2022-04-21 18:32:36,156 - INFO - generate_tile_labels - x52_y114_z20.0     13312    29184  ...          stroma           0.055345\n",
      "2022-04-21 18:32:36,156 - INFO - generate_tile_labels - x53_y113_z20.0     13568    28928  ...          stroma           0.212376\n",
      "2022-04-21 18:32:36,156 - INFO - generate_tile_labels - x53_y114_z20.0     13568    29184  ...          stroma           0.965976\n",
      "2022-04-21 18:32:36,156 - INFO - generate_tile_labels - x53_y115_z20.0     13568    29440  ...          stroma           0.344496\n",
      "2022-04-21 18:32:36,156 - INFO - generate_tile_labels - x54_y112_z20.0     13824    28672  ...          stroma           0.061422\n",
      "2022-04-21 18:32:36,156 - INFO - generate_tile_labels - ...                  ...      ...  ...             ...                ...\n",
      "2022-04-21 18:32:36,156 - INFO - generate_tile_labels - x131_y146_z20.0    33536    37376  ...           tumor           0.166847\n",
      "2022-04-21 18:32:36,156 - INFO - generate_tile_labels - x131_y147_z20.0    33536    37632  ...           tumor           0.096977\n",
      "2022-04-21 18:32:36,156 - INFO - generate_tile_labels - x132_y140_z20.0    33792    35840  ...           tumor           0.245755\n",
      "2022-04-21 18:32:36,156 - INFO - generate_tile_labels - x132_y141_z20.0    33792    36096  ...           tumor           0.504036\n",
      "2022-04-21 18:32:36,156 - INFO - generate_tile_labels - x132_y142_z20.0    33792    36352  ...           tumor           0.250175\n",
      "2022-04-21 18:32:36,156 - INFO - generate_tile_labels - \n",
      "2022-04-21 18:32:36,156 - INFO - generate_tile_labels - [513 rows x 8 columns]\n",
      "2022-04-21 18:32:36,214 - INFO - luna.common.utils - Code block 'transform::generate_tile_labels' took: 4.110883940011263s\n",
      "2022-04-21 18:32:36,228 - INFO - luna.common.utils - ------------------------------------------------------------\n",
      "2022-04-21 18:32:36,228 - INFO - luna.common.utils -  Done with transform, running post-transform functions... \n",
      "2022-04-21 18:32:36,228 - INFO - luna.common.utils - ------------------------------------------------------------\n",
      "2022-04-21 18:32:36,248 - INFO - luna.common.utils - Done.\n",
      "\r",
      " 33%|███▎      | 32771/99258 [00:31<00:57, 1156.63it/s]"
     ]
    },
    {
     "name": "stdout",
     "output_type": "stream",
     "text": [
      "\r",
      " 84%|████████▍ | 70/83 [00:05<00:00, 14.61it/s]\r",
      " 23%|██▎       | 21/92 [00:02<00:07,  9.91it/s]\r",
      " 87%|████████▋ | 72/83 [00:05<00:00, 13.83it/s]\r",
      " 25%|██▌       | 23/92 [00:02<00:06, 11.34it/s]"
     ]
    },
    {
     "name": "stderr",
     "output_type": "stream",
     "text": [
      "\r",
      " 33%|███▎      | 32887/99258 [00:31<00:57, 1156.00it/s]\r",
      " 33%|███▎      | 33003/99258 [00:31<00:57, 1144.00it/s]"
     ]
    },
    {
     "name": "stdout",
     "output_type": "stream",
     "text": [
      "\r",
      " 27%|██▋       | 25/92 [00:03<00:05, 11.87it/s]\r",
      " 90%|█████████ | 75/83 [00:05<00:00, 14.43it/s]save_tiles file:/home/aukermaa/vmount/PRO_12-123/data/toy_data_set/01OV002-bd8cdc70-3d46-40ae-99c4-90ef77.svs /home/aukermaa/vmount/PRO_12-123/tiling/01OV002-bd8cdc70-3d46-40ae-99c4-90ef77/labled_tiles --num_cores 16 --batch_size 200 --dataset_id PRO_TILES -o /home/aukermaa/vmount/PRO_12-123/tiling/01OV002-bd8cdc70-3d46-40ae-99c4-90ef77/saved_tiles\n",
      "\r",
      " 94%|█████████▍| 78/83 [00:06<00:00, 15.87it/s]"
     ]
    },
    {
     "name": "stderr",
     "output_type": "stream",
     "text": [
      "\r",
      " 33%|███▎      | 33118/99258 [00:31<00:58, 1137.02it/s]\r",
      " 33%|███▎      | 33233/99258 [00:31<00:57, 1139.15it/s]"
     ]
    },
    {
     "name": "stdout",
     "output_type": "stream",
     "text": [
      "\r",
      " 29%|██▉       | 27/92 [00:03<00:06, 10.68it/s]\r",
      " 98%|█████████▊| 81/83 [00:06<00:00, 14.79it/s]"
     ]
    },
    {
     "name": "stderr",
     "output_type": "stream",
     "text": [
      "\r",
      " 34%|███▎      | 33347/99258 [00:31<00:57, 1137.57it/s]\r",
      " 34%|███▎      | 33461/99258 [00:31<00:58, 1134.07it/s]"
     ]
    },
    {
     "name": "stdout",
     "output_type": "stream",
     "text": [
      "\r",
      " 32%|███▏      | 29/92 [00:03<00:06,  9.18it/s]\r",
      " 34%|███▎      | 31/92 [00:03<00:06,  9.81it/s]"
     ]
    },
    {
     "name": "stderr",
     "output_type": "stream",
     "text": [
      " 34%|███▍      | 33918/99258 [00:32<01:02, 1038.21it/s]2022-04-21 18:32:37,350 - INFO - generate_tiles -                  x_coord  ...                                         tile_store\n",
      "2022-04-21 18:32:37,350 - INFO - generate_tiles - address                   ...                                                   \n",
      "2022-04-21 18:32:37,350 - INFO - generate_tiles - x7_y134_z20.0       1792  ...  /home/aukermaa/vmount/PRO_12-123/tiling/01OV00...\n",
      "2022-04-21 18:32:37,350 - INFO - generate_tiles - x7_y135_z20.0       1792  ...  /home/aukermaa/vmount/PRO_12-123/tiling/01OV00...\n",
      "2022-04-21 18:32:37,350 - INFO - generate_tiles - x7_y136_z20.0       1792  ...  /home/aukermaa/vmount/PRO_12-123/tiling/01OV00...\n",
      "2022-04-21 18:32:37,350 - INFO - generate_tiles - x7_y146_z20.0       1792  ...  /home/aukermaa/vmount/PRO_12-123/tiling/01OV00...\n",
      "2022-04-21 18:32:37,350 - INFO - generate_tiles - x7_y147_z20.0       1792  ...  /home/aukermaa/vmount/PRO_12-123/tiling/01OV00...\n",
      "2022-04-21 18:32:37,350 - INFO - generate_tiles - ...                  ...  ...                                                ...\n",
      "2022-04-21 18:32:37,350 - INFO - generate_tiles - x139_y1_z20.0      35584  ...  /home/aukermaa/vmount/PRO_12-123/tiling/01OV00...\n",
      "2022-04-21 18:32:37,350 - INFO - generate_tiles - x148_y139_z20.0    37888  ...  /home/aukermaa/vmount/PRO_12-123/tiling/01OV00...\n",
      "2022-04-21 18:32:37,350 - INFO - generate_tiles - x149_y89_z20.0     38144  ...  /home/aukermaa/vmount/PRO_12-123/tiling/01OV00...\n",
      "2022-04-21 18:32:37,350 - INFO - generate_tiles - x159_y98_z20.0     40704  ...  /home/aukermaa/vmount/PRO_12-123/tiling/01OV00...\n",
      "2022-04-21 18:32:37,350 - INFO - generate_tiles - x159_y170_z20.0    40704  ...  /home/aukermaa/vmount/PRO_12-123/tiling/01OV00...\n",
      "2022-04-21 18:32:37,350 - INFO - generate_tiles - \n",
      "2022-04-21 18:32:37,350 - INFO - generate_tiles - [16496 rows x 9 columns]\n"
     ]
    },
    {
     "name": "stdout",
     "output_type": "stream",
     "text": [
      "\r",
      "100%|██████████| 83/83 [00:06<00:00, 10.57it/s]\r",
      "100%|██████████| 83/83 [00:06<00:00, 12.48it/s]\r",
      " 36%|███▌      | 33/92 [00:03<00:05, 10.62it/s]\r",
      " 39%|███▉      | 36/92 [00:04<00:04, 13.97it/s]"
     ]
    },
    {
     "name": "stderr",
     "output_type": "stream",
     "text": [
      "\r",
      " 34%|███▍      | 34031/99258 [00:32<01:01, 1063.53it/s]2022-04-21 18:32:37,436 - INFO - luna.common.utils - Code block 'transform::save_tiles' took: 8.657654248178005s\n",
      "2022-04-21 18:32:37,461 - INFO - luna.common.utils - ------------------------------------------------------------\n",
      "2022-04-21 18:32:37,461 - INFO - luna.common.utils -  Done with transform, running post-transform functions... \n",
      "2022-04-21 18:32:37,461 - INFO - luna.common.utils - ------------------------------------------------------------\n",
      "2022-04-21 18:32:37,473 - INFO - luna.common.utils - Adding feature segment /home/aukermaa/vmount/PRO_12-123/tiling/01OV008-7579323e-2fae-43a9-b00f-a15c28/saved_tiles/01OV008-7579323e-2fae-43a9-b00f-a15c28.tiles.parquet to PRO_TILES\n",
      "2022-04-21 18:32:37,473 - INFO - luna.common.utils - Found dataset URL = file:///home/aukermaa/vmount/PRO_12-123/\n",
      "2022-04-21 18:32:37,475 - INFO - luna.common.utils - Adding /home/aukermaa/vmount/PRO_12-123/tiling/01OV008-7579323e-2fae-43a9-b00f-a15c28/saved_tiles/01OV008-7579323e-2fae-43a9-b00f-a15c28.tiles.parquet to PRO_TILES via file:///home/aukermaa/vmount/PRO_12-123/\n",
      "2022-04-21 18:32:37,477 - INFO - luna.common.utils - SEGMENT_ID=62618802005d04d493d48694-01OV008-7579323e-2fae-43a9-b00f-a15c28\n",
      "2022-04-21 18:32:37,478 - INFO - luna.common.utils - Writing to: /home/aukermaa/vmount/PRO_12-123/datasets/PRO_TILES/segments/62618802005d04d493d48694-01OV008-7579323e-2fae-43a9-b00f-a15c28\n",
      "\r",
      " 34%|███▍      | 34145/99258 [00:32<01:00, 1082.86it/s]2022-04-21 18:32:37,584 - INFO - luna.common.utils - Done.\n"
     ]
    },
    {
     "name": "stdout",
     "output_type": "stream",
     "text": [
      "\r",
      " 41%|████▏     | 38/92 [00:04<00:03, 15.11it/s]\n",
      "\r",
      " 43%|████▎     | 40/92 [00:04<00:03, 13.51it/s]"
     ]
    },
    {
     "name": "stderr",
     "output_type": "stream",
     "text": [
      " 35%|███▍      | 34363/99258 [00:32<00:59, 1085.66it/s]2022-04-21 18:32:37,765 - INFO - root - Initalized logger, log file at: data-processing.log\n",
      " 35%|███▍      | 34588/99258 [00:32<00:59, 1092.09it/s]"
     ]
    },
    {
     "name": "stdout",
     "output_type": "stream",
     "text": [
      "\r",
      " 46%|████▌     | 42/92 [00:04<00:03, 13.82it/s]\r",
      " 48%|████▊     | 44/92 [00:04<00:03, 13.31it/s]"
     ]
    },
    {
     "name": "stderr",
     "output_type": "stream",
     "text": [
      "\r",
      " 35%|███▍      | 34698/99258 [00:33<00:59, 1084.26it/s]\r",
      " 35%|███▌      | 34809/99258 [00:33<00:59, 1089.62it/s]"
     ]
    },
    {
     "name": "stdout",
     "output_type": "stream",
     "text": [
      "\r",
      " 51%|█████     | 47/92 [00:04<00:03, 14.09it/s]\r",
      " 53%|█████▎    | 49/92 [00:04<00:02, 14.96it/s]"
     ]
    },
    {
     "name": "stderr",
     "output_type": "stream",
     "text": [
      "\r",
      " 35%|███▌      | 34919/99258 [00:33<00:59, 1078.01it/s]\r",
      " 35%|███▌      | 35033/99258 [00:33<00:58, 1095.98it/s]\r",
      " 35%|███▌      | 35145/99258 [00:33<00:58, 1101.09it/s]"
     ]
    },
    {
     "name": "stdout",
     "output_type": "stream",
     "text": [
      "\r",
      " 57%|█████▋    | 52/92 [00:05<00:02, 17.04it/s]\r",
      " 59%|█████▊    | 54/92 [00:05<00:02, 17.53it/s]"
     ]
    },
    {
     "name": "stderr",
     "output_type": "stream",
     "text": [
      "\r",
      " 36%|███▌      | 35257/99258 [00:33<00:58, 1102.09it/s]\r",
      " 36%|███▌      | 35368/99258 [00:33<00:57, 1102.87it/s]\r",
      " 36%|███▌      | 35480/99258 [00:33<00:57, 1106.85it/s]"
     ]
    },
    {
     "name": "stdout",
     "output_type": "stream",
     "text": [
      "\r",
      " 62%|██████▏   | 57/92 [00:05<00:02, 16.42it/s]\r",
      " 64%|██████▍   | 59/92 [00:05<00:02, 15.57it/s]"
     ]
    },
    {
     "name": "stderr",
     "output_type": "stream",
     "text": [
      "\r",
      " 36%|███▌      | 35591/99258 [00:33<00:57, 1100.69it/s]\r",
      " 36%|███▌      | 35703/99258 [00:33<00:57, 1102.94it/s]"
     ]
    },
    {
     "name": "stdout",
     "output_type": "stream",
     "text": [
      "\r",
      " 67%|██████▋   | 62/92 [00:05<00:01, 17.64it/s]\r",
      " 70%|██████▉   | 64/92 [00:05<00:01, 17.21it/s]"
     ]
    },
    {
     "name": "stderr",
     "output_type": "stream",
     "text": [
      " 36%|███▋      | 36150/99258 [00:34<00:57, 1105.57it/s]"
     ]
    },
    {
     "name": "stdout",
     "output_type": "stream",
     "text": [
      "\r",
      " 72%|███████▏  | 66/92 [00:05<00:01, 17.37it/s]\r",
      " 75%|███████▌  | 69/92 [00:06<00:01, 18.38it/s]"
     ]
    },
    {
     "name": "stderr",
     "output_type": "stream",
     "text": [
      "\r",
      " 37%|███▋      | 36264/99258 [00:34<00:56, 1110.55it/s]\r",
      " 37%|███▋      | 36376/99258 [00:34<00:56, 1110.83it/s]"
     ]
    },
    {
     "name": "stdout",
     "output_type": "stream",
     "text": [
      "\r",
      " 77%|███████▋  | 71/92 [00:06<00:01, 18.45it/s]\r",
      " 80%|████████  | 74/92 [00:06<00:00, 18.91it/s]"
     ]
    },
    {
     "name": "stderr",
     "output_type": "stream",
     "text": [
      "\r",
      " 37%|███▋      | 36488/99258 [00:34<00:56, 1111.39it/s]\r",
      " 37%|███▋      | 36604/99258 [00:34<00:55, 1123.99it/s]2022-04-21 18:32:39,818 - INFO - luna.common.utils - Started CLI Runner wtih <function save_tiles at 0x7f1ef7d4c310>\n",
      "2022-04-21 18:32:39,825 - INFO - luna.common.utils - Validating params...\n",
      "2022-04-21 18:32:39,826 - INFO - luna.common.utils -  -> Set input_slide_image (<class 'str'>) = file:/home/aukermaa/vmount/PRO_12-123/data/toy_data_set/01OV002-bd8cdc70-3d46-40ae-99c4-90ef77.svs\n",
      "2022-04-21 18:32:39,827 - INFO - luna.common.utils -  -> Set input_slide_tiles (<class 'str'>) = /home/aukermaa/vmount/PRO_12-123/tiling/01OV002-bd8cdc70-3d46-40ae-99c4-90ef77/labled_tiles\n",
      "2022-04-21 18:32:39,828 - INFO - luna.common.utils -  -> Set output_dir (<class 'str'>) = /home/aukermaa/vmount/PRO_12-123/tiling/01OV002-bd8cdc70-3d46-40ae-99c4-90ef77/saved_tiles\n",
      "2022-04-21 18:32:39,829 - INFO - luna.common.utils -  -> Set num_cores (<class 'int'>) = 16\n",
      "2022-04-21 18:32:39,830 - INFO - luna.common.utils -  -> Set batch_size (<class 'int'>) = 200\n",
      "2022-04-21 18:32:39,831 - INFO - luna.common.utils - Expanding inputs...\n",
      "2022-04-21 18:32:39,832 - INFO - luna.common.utils - Attempting to read metadata at file:/home/aukermaa/vmount/PRO_12-123/data/toy_data_set/01OV002-bd8cdc70-3d46-40ae-99c4-90ef77.svs/metadata.yml\n",
      "2022-04-21 18:32:39,833 - INFO - luna.common.utils - Attempting to read metadata at /home/aukermaa/vmount/PRO_12-123/tiling/01OV002-bd8cdc70-3d46-40ae-99c4-90ef77/labled_tiles/metadata.yml\n",
      "2022-04-21 18:32:39,837 - INFO - luna.common.utils - Expanded input:\n",
      "2022-04-21 18:32:39,837 - INFO - luna.common.utils -  -> /home/aukermaa/vmount/PRO_12-123/tiling/01OV002-bd8cdc70-3d46-40ae-99c4-90ef77/labled_tiles\n",
      "2022-04-21 18:32:39,837 - INFO - luna.common.utils -  -> /home/aukermaa/vmount/PRO_12-123/tiling/01OV002-bd8cdc70-3d46-40ae-99c4-90ef77/labled_tiles/01OV002-bd8cdc70-3d46-40ae-99c4-90ef77.regional_label.tiles.parquet\n",
      "2022-04-21 18:32:39,838 - INFO - luna.common.utils - Found segment keys: {'dsa_collection_uuid': '62618802005d04d493d48694', 'slide_id': '01OV002-bd8cdc70-3d46-40ae-99c4-90ef77'}\n"
     ]
    },
    {
     "name": "stdout",
     "output_type": "stream",
     "text": [
      "\r",
      " 84%|████████▎ | 77/92 [00:06<00:00, 20.69it/s]"
     ]
    },
    {
     "name": "stderr",
     "output_type": "stream",
     "text": [
      "2022-04-21 18:32:39,839 - INFO - luna.common.utils - Resolved input:\n",
      "2022-04-21 18:32:39,839 - INFO - luna.common.utils -  -> file:/home/aukermaa/vmount/PRO_12-123/data/toy_data_set/01OV002-bd8cdc70-3d46-40ae-99c4-90ef77.svs\n",
      "2022-04-21 18:32:39,839 - INFO - luna.common.utils -  -> /home/aukermaa/vmount/PRO_12-123/data/toy_data_set/01OV002-bd8cdc70-3d46-40ae-99c4-90ef77.svs\n",
      "\r",
      " 37%|███▋      | 36720/99258 [00:34<00:55, 1128.13it/s]2022-04-21 18:32:39,840 - INFO - luna.common.utils - Resolved input:\n",
      "2022-04-21 18:32:39,840 - INFO - luna.common.utils -  -> /home/aukermaa/vmount/PRO_12-123/tiling/01OV002-bd8cdc70-3d46-40ae-99c4-90ef77/labled_tiles/01OV002-bd8cdc70-3d46-40ae-99c4-90ef77.regional_label.tiles.parquet\n",
      "2022-04-21 18:32:39,840 - INFO - luna.common.utils -  -> /home/aukermaa/vmount/PRO_12-123/tiling/01OV002-bd8cdc70-3d46-40ae-99c4-90ef77/labled_tiles/01OV002-bd8cdc70-3d46-40ae-99c4-90ef77.regional_label.tiles.parquet\n",
      "2022-04-21 18:32:39,841 - INFO - luna.common.utils - Full segment key set: {'dsa_collection_uuid': '62618802005d04d493d48694', 'slide_id': '01OV002-bd8cdc70-3d46-40ae-99c4-90ef77'}\n",
      "2022-04-21 18:32:39,842 - INFO - luna.common.utils - ------------------------------------------------------------\n",
      "2022-04-21 18:32:39,842 - INFO - luna.common.utils -  Starting transform::save_tiles \n",
      "2022-04-21 18:32:39,842 - INFO - luna.common.utils - ------------------------------------------------------------\n",
      "2022-04-21 18:32:39,906 - INFO - generate_tiles - Now generating tiles with num_cores=16 and batch_size=200!\n",
      "\r",
      " 37%|███▋      | 36833/99258 [00:35<00:55, 1126.15it/s]2022-04-21 18:32:39,942 - WARNING - generate_tiles - /home/aukermaa/vmount/PRO_12-123/tiling/01OV002-bd8cdc70-3d46-40ae-99c4-90ef77/saved_tiles/01OV002-bd8cdc70-3d46-40ae-99c4-90ef77.tiles.h5 already exists, deleting the file..\n"
     ]
    },
    {
     "name": "stdout",
     "output_type": "stream",
     "text": [
      "\r",
      " 87%|████████▋ | 80/92 [00:06<00:00, 17.11it/s]\r",
      " 91%|█████████▏| 84/92 [00:06<00:00, 19.34it/s]"
     ]
    },
    {
     "name": "stderr",
     "output_type": "stream",
     "text": [
      " 38%|███▊      | 37302/99258 [00:35<00:53, 1155.21it/s]"
     ]
    },
    {
     "name": "stdout",
     "output_type": "stream",
     "text": [
      "\r",
      " 95%|█████████▍| 87/92 [00:07<00:00, 19.44it/s]\r",
      " 98%|█████████▊| 90/92 [00:07<00:00, 21.45it/s]"
     ]
    },
    {
     "name": "stderr",
     "output_type": "stream",
     "text": [
      "\r",
      " 38%|███▊      | 37423/99258 [00:35<00:52, 1170.70it/s]\r",
      " 38%|███▊      | 37541/99258 [00:35<00:52, 1170.23it/s]"
     ]
    },
    {
     "name": "stdout",
     "output_type": "stream",
     "text": [
      "\r",
      "100%|██████████| 92/92 [00:07<00:00, 12.70it/s]"
     ]
    },
    {
     "name": "stderr",
     "output_type": "stream",
     "text": [
      " 38%|███▊      | 37776/99258 [00:35<00:53, 1154.77it/s]2022-04-21 18:32:40,791 - INFO - generate_tiles -                 x_coord  ...                                         tile_store\n",
      "2022-04-21 18:32:40,791 - INFO - generate_tiles - address                  ...                                                   \n",
      "2022-04-21 18:32:40,791 - INFO - generate_tiles - x5_y37_z20.0       1280  ...  /home/aukermaa/vmount/PRO_12-123/tiling/01OV00...\n",
      "2022-04-21 18:32:40,791 - INFO - generate_tiles - x5_y38_z20.0       1280  ...  /home/aukermaa/vmount/PRO_12-123/tiling/01OV00...\n",
      "2022-04-21 18:32:40,791 - INFO - generate_tiles - x5_y39_z20.0       1280  ...  /home/aukermaa/vmount/PRO_12-123/tiling/01OV00...\n",
      "2022-04-21 18:32:40,791 - INFO - generate_tiles - x5_y40_z20.0       1280  ...  /home/aukermaa/vmount/PRO_12-123/tiling/01OV00...\n",
      "2022-04-21 18:32:40,791 - INFO - generate_tiles - x5_y41_z20.0       1280  ...  /home/aukermaa/vmount/PRO_12-123/tiling/01OV00...\n",
      "2022-04-21 18:32:40,791 - INFO - generate_tiles - ...                 ...  ...                                                ...\n",
      "2022-04-21 18:32:40,791 - INFO - generate_tiles - x167_y49_z20.0    42752  ...  /home/aukermaa/vmount/PRO_12-123/tiling/01OV00...\n",
      "2022-04-21 18:32:40,791 - INFO - generate_tiles - x167_y50_z20.0    42752  ...  /home/aukermaa/vmount/PRO_12-123/tiling/01OV00...\n",
      "2022-04-21 18:32:40,791 - INFO - generate_tiles - x167_y51_z20.0    42752  ...  /home/aukermaa/vmount/PRO_12-123/tiling/01OV00...\n",
      "2022-04-21 18:32:40,791 - INFO - generate_tiles - x167_y52_z20.0    42752  ...  /home/aukermaa/vmount/PRO_12-123/tiling/01OV00...\n",
      "2022-04-21 18:32:40,791 - INFO - generate_tiles - x172_y31_z20.0    44032  ...  /home/aukermaa/vmount/PRO_12-123/tiling/01OV00...\n",
      "2022-04-21 18:32:40,791 - INFO - generate_tiles - \n",
      "2022-04-21 18:32:40,791 - INFO - generate_tiles - [18274 rows x 9 columns]\n",
      " 38%|███▊      | 37892/99258 [00:35<00:53, 1154.31it/s]2022-04-21 18:32:40,875 - INFO - luna.common.utils - Code block 'transform::save_tiles' took: 9.495775990188122s\n",
      "2022-04-21 18:32:40,876 - INFO - luna.common.utils - ------------------------------------------------------------\n",
      "2022-04-21 18:32:40,876 - INFO - luna.common.utils -  Done with transform, running post-transform functions... \n",
      "2022-04-21 18:32:40,876 - INFO - luna.common.utils - ------------------------------------------------------------\n",
      "2022-04-21 18:32:40,882 - INFO - luna.common.utils - Adding feature segment /home/aukermaa/vmount/PRO_12-123/tiling/01OV002-ed65cf94-8bc6-492b-9149-adc16f/saved_tiles/01OV002-ed65cf94-8bc6-492b-9149-adc16f.tiles.parquet to PRO_TILES\n",
      "2022-04-21 18:32:40,883 - INFO - luna.common.utils - Found dataset URL = file:///home/aukermaa/vmount/PRO_12-123/\n",
      "2022-04-21 18:32:40,884 - INFO - luna.common.utils - Adding /home/aukermaa/vmount/PRO_12-123/tiling/01OV002-ed65cf94-8bc6-492b-9149-adc16f/saved_tiles/01OV002-ed65cf94-8bc6-492b-9149-adc16f.tiles.parquet to PRO_TILES via file:///home/aukermaa/vmount/PRO_12-123/\n",
      "2022-04-21 18:32:40,885 - INFO - luna.common.utils - SEGMENT_ID=62618802005d04d493d48694-01OV002-ed65cf94-8bc6-492b-9149-adc16f\n",
      "2022-04-21 18:32:40,886 - INFO - luna.common.utils - Writing to: /home/aukermaa/vmount/PRO_12-123/datasets/PRO_TILES/segments/62618802005d04d493d48694-01OV002-ed65cf94-8bc6-492b-9149-adc16f\n",
      " 38%|███▊      | 38012/99258 [00:36<00:52, 1166.93it/s]2022-04-21 18:32:40,971 - INFO - luna.common.utils - Done.\n"
     ]
    },
    {
     "name": "stdout",
     "output_type": "stream",
     "text": [
      "\n"
     ]
    },
    {
     "name": "stderr",
     "output_type": "stream",
     "text": [
      " 39%|███▉      | 38845/99258 [00:36<00:50, 1189.53it/s]"
     ]
    },
    {
     "name": "stdout",
     "output_type": "stream",
     "text": [
      "\r",
      "  0%|          | 0/100 [00:00<?, ?it/s]"
     ]
    },
    {
     "name": "stderr",
     "output_type": "stream",
     "text": [
      " 40%|████      | 39836/99258 [00:37<00:48, 1230.36it/s]"
     ]
    },
    {
     "name": "stdout",
     "output_type": "stream",
     "text": [
      "\r",
      "  1%|          | 1/100 [00:00<01:23,  1.19it/s]\r",
      "  3%|▎         | 3/100 [00:00<00:26,  3.64it/s]"
     ]
    },
    {
     "name": "stderr",
     "output_type": "stream",
     "text": [
      "\r",
      " 40%|████      | 39960/99258 [00:37<00:48, 1223.41it/s]\r",
      " 40%|████      | 40083/99258 [00:37<00:48, 1220.44it/s]"
     ]
    },
    {
     "name": "stdout",
     "output_type": "stream",
     "text": [
      "\r",
      "  4%|▍         | 4/100 [00:01<00:20,  4.66it/s]\r",
      "  6%|▌         | 6/100 [00:01<00:13,  6.76it/s]"
     ]
    },
    {
     "name": "stderr",
     "output_type": "stream",
     "text": [
      "\r",
      " 41%|████      | 40206/99258 [00:37<00:49, 1190.29it/s]\r",
      " 41%|████      | 40326/99258 [00:37<00:49, 1183.54it/s]"
     ]
    },
    {
     "name": "stdout",
     "output_type": "stream",
     "text": [
      "\r",
      "  8%|▊         | 8/100 [00:01<00:10,  9.13it/s]\r",
      " 11%|█         | 11/100 [00:01<00:06, 13.41it/s]"
     ]
    },
    {
     "name": "stderr",
     "output_type": "stream",
     "text": [
      "\r",
      " 41%|████      | 40445/99258 [00:38<00:49, 1178.65it/s]\r",
      " 41%|████      | 40564/99258 [00:38<00:49, 1180.18it/s]\r",
      " 41%|████      | 40686/99258 [00:38<00:49, 1191.27it/s]"
     ]
    },
    {
     "name": "stdout",
     "output_type": "stream",
     "text": [
      "\r",
      " 13%|█▎        | 13/100 [00:01<00:06, 14.35it/s]\r",
      " 16%|█▌        | 16/100 [00:01<00:04, 17.50it/s]"
     ]
    },
    {
     "name": "stderr",
     "output_type": "stream",
     "text": [
      " 42%|████▏     | 41300/99258 [00:38<00:47, 1219.56it/s]"
     ]
    },
    {
     "name": "stdout",
     "output_type": "stream",
     "text": [
      "\r",
      " 19%|█▉        | 19/100 [00:02<00:06, 11.90it/s]"
     ]
    },
    {
     "name": "stderr",
     "output_type": "stream",
     "text": [
      "\r",
      " 42%|████▏     | 41422/99258 [00:38<00:48, 1199.68it/s]\r",
      " 42%|████▏     | 41543/99258 [00:38<00:48, 1197.20it/s]"
     ]
    },
    {
     "name": "stdout",
     "output_type": "stream",
     "text": [
      "\r",
      " 21%|██        | 21/100 [00:02<00:07, 10.95it/s]\r",
      " 24%|██▍       | 24/100 [00:02<00:05, 13.07it/s]"
     ]
    },
    {
     "name": "stderr",
     "output_type": "stream",
     "text": [
      "\r",
      " 42%|████▏     | 41669/99258 [00:39<00:47, 1213.68it/s]\r",
      " 42%|████▏     | 41793/99258 [00:39<00:47, 1216.59it/s]"
     ]
    },
    {
     "name": "stdout",
     "output_type": "stream",
     "text": [
      "\r",
      " 27%|██▋       | 27/100 [00:02<00:04, 15.91it/s]\r",
      " 29%|██▉       | 29/100 [00:02<00:04, 15.56it/s]"
     ]
    },
    {
     "name": "stderr",
     "output_type": "stream",
     "text": [
      "\r",
      " 42%|████▏     | 41915/99258 [00:39<00:47, 1214.72it/s]\r",
      " 42%|████▏     | 42042/99258 [00:39<00:46, 1223.29it/s]"
     ]
    },
    {
     "name": "stdout",
     "output_type": "stream",
     "text": [
      "\r",
      " 31%|███       | 31/100 [00:02<00:04, 14.98it/s]\r",
      " 33%|███▎      | 33/100 [00:03<00:04, 13.59it/s]"
     ]
    },
    {
     "name": "stderr",
     "output_type": "stream",
     "text": [
      " 43%|████▎     | 42536/99258 [00:39<00:46, 1221.52it/s]"
     ]
    },
    {
     "name": "stdout",
     "output_type": "stream",
     "text": [
      "\r",
      " 35%|███▌      | 35/100 [00:03<00:05, 12.47it/s]\r",
      " 37%|███▋      | 37/100 [00:03<00:04, 12.78it/s]"
     ]
    },
    {
     "name": "stderr",
     "output_type": "stream",
     "text": [
      "\r",
      " 43%|████▎     | 42659/99258 [00:39<00:47, 1197.48it/s]\r",
      " 43%|████▎     | 42781/99258 [00:39<00:46, 1203.48it/s]\r",
      " 43%|████▎     | 42903/99258 [00:40<00:46, 1205.67it/s]"
     ]
    },
    {
     "name": "stdout",
     "output_type": "stream",
     "text": [
      "\r",
      " 39%|███▉      | 39/100 [00:03<00:04, 14.00it/s]\r",
      " 42%|████▏     | 42/100 [00:03<00:03, 17.38it/s]"
     ]
    },
    {
     "name": "stderr",
     "output_type": "stream",
     "text": [
      "\r",
      " 43%|████▎     | 43026/99258 [00:40<00:46, 1211.37it/s]\r",
      " 43%|████▎     | 43148/99258 [00:40<00:46, 1204.18it/s]"
     ]
    },
    {
     "name": "stdout",
     "output_type": "stream",
     "text": [
      "\r",
      " 44%|████▍     | 44/100 [00:03<00:03, 17.22it/s]\r",
      " 47%|████▋     | 47/100 [00:03<00:02, 19.80it/s]"
     ]
    },
    {
     "name": "stderr",
     "output_type": "stream",
     "text": [
      " 44%|████▍     | 43641/99258 [00:40<00:45, 1216.88it/s]"
     ]
    },
    {
     "name": "stdout",
     "output_type": "stream",
     "text": [
      "\r",
      " 50%|█████     | 50/100 [00:04<00:02, 17.37it/s]\r",
      " 52%|█████▏    | 52/100 [00:04<00:03, 15.31it/s]"
     ]
    },
    {
     "name": "stderr",
     "output_type": "stream",
     "text": [
      " 44%|████▍     | 44134/99258 [00:41<00:46, 1183.05it/s]"
     ]
    },
    {
     "name": "stdout",
     "output_type": "stream",
     "text": [
      "\r",
      " 54%|█████▍    | 54/100 [00:04<00:03, 13.74it/s]\r",
      " 56%|█████▌    | 56/100 [00:04<00:03, 14.45it/s]"
     ]
    },
    {
     "name": "stderr",
     "output_type": "stream",
     "text": [
      "\r",
      " 45%|████▍     | 44253/99258 [00:41<00:47, 1167.06it/s]\r",
      " 45%|████▍     | 44371/99258 [00:41<00:47, 1165.63it/s]"
     ]
    },
    {
     "name": "stdout",
     "output_type": "stream",
     "text": [
      "\r",
      " 58%|█████▊    | 58/100 [00:04<00:02, 14.82it/s]\r",
      " 61%|██████    | 61/100 [00:04<00:02, 17.31it/s]"
     ]
    },
    {
     "name": "stderr",
     "output_type": "stream",
     "text": [
      "\r",
      " 45%|████▍     | 44490/99258 [00:41<00:46, 1167.82it/s]\r",
      " 45%|████▍     | 44612/99258 [00:41<00:46, 1182.21it/s]\r",
      " 45%|████▌     | 44736/99258 [00:41<00:45, 1199.17it/s]"
     ]
    },
    {
     "name": "stdout",
     "output_type": "stream",
     "text": [
      "\r",
      " 63%|██████▎   | 63/100 [00:04<00:02, 15.83it/s]\r",
      " 65%|██████▌   | 65/100 [00:05<00:02, 14.98it/s]"
     ]
    },
    {
     "name": "stderr",
     "output_type": "stream",
     "text": [
      "\r",
      " 45%|████▌     | 44859/99258 [00:41<00:45, 1205.98it/s]\r",
      " 45%|████▌     | 44980/99258 [00:41<00:45, 1203.73it/s]"
     ]
    },
    {
     "name": "stdout",
     "output_type": "stream",
     "text": [
      "\r",
      " 67%|██████▋   | 67/100 [00:05<00:02, 13.73it/s]\r",
      " 69%|██████▉   | 69/100 [00:05<00:02, 13.11it/s]"
     ]
    },
    {
     "name": "stderr",
     "output_type": "stream",
     "text": [
      "\r",
      " 45%|████▌     | 45105/99258 [00:41<00:44, 1216.18it/s]\r",
      " 46%|████▌     | 45229/99258 [00:42<00:44, 1222.95it/s]\r",
      " 46%|████▌     | 45357/99258 [00:42<00:43, 1238.33it/s]"
     ]
    },
    {
     "name": "stdout",
     "output_type": "stream",
     "text": [
      "\r",
      " 72%|███████▏  | 72/100 [00:05<00:01, 16.17it/s]\r",
      " 75%|███████▌  | 75/100 [00:05<00:01, 18.33it/s]"
     ]
    },
    {
     "name": "stderr",
     "output_type": "stream",
     "text": [
      "\r",
      " 46%|████▌     | 45484/99258 [00:42<00:43, 1247.11it/s]\r",
      " 46%|████▌     | 45611/99258 [00:42<00:42, 1247.88it/s]"
     ]
    },
    {
     "name": "stdout",
     "output_type": "stream",
     "text": [
      "\r",
      " 78%|███████▊  | 78/100 [00:05<00:01, 20.53it/s]"
     ]
    },
    {
     "name": "stderr",
     "output_type": "stream",
     "text": [
      "\r",
      " 46%|████▌     | 45736/99258 [00:42<00:43, 1242.05it/s]\r",
      " 46%|████▌     | 45861/99258 [00:42<00:43, 1238.91it/s]"
     ]
    },
    {
     "name": "stdout",
     "output_type": "stream",
     "text": [
      "\r",
      " 81%|████████  | 81/100 [00:06<00:01, 17.09it/s]\r",
      " 83%|████████▎ | 83/100 [00:06<00:01, 16.91it/s]"
     ]
    },
    {
     "name": "stderr",
     "output_type": "stream",
     "text": [
      " 47%|████▋     | 46362/99258 [00:42<00:43, 1225.27it/s]"
     ]
    },
    {
     "name": "stdout",
     "output_type": "stream",
     "text": [
      "\r",
      " 85%|████████▌ | 85/100 [00:06<00:00, 17.28it/s]\r",
      " 87%|████████▋ | 87/100 [00:06<00:00, 17.35it/s]"
     ]
    },
    {
     "name": "stderr",
     "output_type": "stream",
     "text": [
      "\r",
      " 47%|████▋     | 46490/99258 [00:43<00:42, 1241.16it/s]\r",
      " 47%|████▋     | 46620/99258 [00:43<00:41, 1257.34it/s]\r",
      " 47%|████▋     | 46750/99258 [00:43<00:41, 1268.62it/s]"
     ]
    },
    {
     "name": "stdout",
     "output_type": "stream",
     "text": [
      " 97%|█████████▋| 97/100 [00:06<00:00, 17.96it/s]"
     ]
    },
    {
     "name": "stderr",
     "output_type": "stream",
     "text": [
      " 48%|████▊     | 47266/99258 [00:43<00:40, 1281.19it/s]"
     ]
    },
    {
     "name": "stdout",
     "output_type": "stream",
     "text": [
      "\r",
      " 99%|█████████▉| 99/100 [00:07<00:00, 17.99it/s]\r",
      "100%|██████████| 100/100 [00:07<00:00, 14.15it/s]"
     ]
    },
    {
     "name": "stderr",
     "output_type": "stream",
     "text": [
      " 48%|████▊     | 47649/99258 [00:43<00:41, 1242.67it/s]2022-04-21 18:32:48,936 - INFO - generate_tiles -                  x_coord  ...                                         tile_store\n",
      "2022-04-21 18:32:48,936 - INFO - generate_tiles - address                   ...                                                   \n",
      "2022-04-21 18:32:48,936 - INFO - generate_tiles - x3_y58_z20.0         768  ...  /home/aukermaa/vmount/PRO_12-123/tiling/01OV00...\n",
      "2022-04-21 18:32:48,936 - INFO - generate_tiles - x6_y171_z20.0       1536  ...  /home/aukermaa/vmount/PRO_12-123/tiling/01OV00...\n",
      "2022-04-21 18:32:48,936 - INFO - generate_tiles - x6_y172_z20.0       1536  ...  /home/aukermaa/vmount/PRO_12-123/tiling/01OV00...\n",
      "2022-04-21 18:32:48,936 - INFO - generate_tiles - x6_y173_z20.0       1536  ...  /home/aukermaa/vmount/PRO_12-123/tiling/01OV00...\n",
      "2022-04-21 18:32:48,936 - INFO - generate_tiles - x6_y174_z20.0       1536  ...  /home/aukermaa/vmount/PRO_12-123/tiling/01OV00...\n",
      "2022-04-21 18:32:48,936 - INFO - generate_tiles - ...                  ...  ...                                                ...\n",
      "2022-04-21 18:32:48,936 - INFO - generate_tiles - x188_y118_z20.0    48128  ...  /home/aukermaa/vmount/PRO_12-123/tiling/01OV00...\n",
      "2022-04-21 18:32:48,936 - INFO - generate_tiles - x193_y206_z20.0    49408  ...  /home/aukermaa/vmount/PRO_12-123/tiling/01OV00...\n",
      "2022-04-21 18:32:48,936 - INFO - generate_tiles - x200_y167_z20.0    51200  ...  /home/aukermaa/vmount/PRO_12-123/tiling/01OV00...\n",
      "2022-04-21 18:32:48,936 - INFO - generate_tiles - x201_y198_z20.0    51456  ...  /home/aukermaa/vmount/PRO_12-123/tiling/01OV00...\n",
      "2022-04-21 18:32:48,936 - INFO - generate_tiles - x207_y208_z20.0    52992  ...  /home/aukermaa/vmount/PRO_12-123/tiling/01OV00...\n",
      "2022-04-21 18:32:48,936 - INFO - generate_tiles - \n",
      "2022-04-21 18:32:48,936 - INFO - generate_tiles - [19982 rows x 9 columns]\n",
      " 48%|████▊     | 47774/99258 [00:44<00:41, 1234.50it/s]2022-04-21 18:32:49,023 - INFO - luna.common.utils - Code block 'transform::save_tiles' took: 9.180438950657845s\n",
      "2022-04-21 18:32:49,025 - INFO - luna.common.utils - ------------------------------------------------------------\n",
      "2022-04-21 18:32:49,025 - INFO - luna.common.utils -  Done with transform, running post-transform functions... \n",
      "2022-04-21 18:32:49,025 - INFO - luna.common.utils - ------------------------------------------------------------\n",
      "2022-04-21 18:32:49,031 - INFO - luna.common.utils - Adding feature segment /home/aukermaa/vmount/PRO_12-123/tiling/01OV002-bd8cdc70-3d46-40ae-99c4-90ef77/saved_tiles/01OV002-bd8cdc70-3d46-40ae-99c4-90ef77.tiles.parquet to PRO_TILES\n",
      "2022-04-21 18:32:49,033 - INFO - luna.common.utils - Found dataset URL = file:///home/aukermaa/vmount/PRO_12-123/\n",
      "2022-04-21 18:32:49,034 - INFO - luna.common.utils - Adding /home/aukermaa/vmount/PRO_12-123/tiling/01OV002-bd8cdc70-3d46-40ae-99c4-90ef77/saved_tiles/01OV002-bd8cdc70-3d46-40ae-99c4-90ef77.tiles.parquet to PRO_TILES via file:///home/aukermaa/vmount/PRO_12-123/\n",
      "2022-04-21 18:32:49,035 - INFO - luna.common.utils - SEGMENT_ID=62618802005d04d493d48694-01OV002-bd8cdc70-3d46-40ae-99c4-90ef77\n",
      "2022-04-21 18:32:49,036 - INFO - luna.common.utils - Writing to: /home/aukermaa/vmount/PRO_12-123/datasets/PRO_TILES/segments/62618802005d04d493d48694-01OV002-bd8cdc70-3d46-40ae-99c4-90ef77\n",
      " 48%|████▊     | 47898/99258 [00:44<00:41, 1229.57it/s]2022-04-21 18:32:49,124 - INFO - luna.common.utils - Done.\n",
      " 48%|████▊     | 48021/99258 [00:44<00:41, 1221.91it/s]"
     ]
    },
    {
     "name": "stdout",
     "output_type": "stream",
     "text": [
      "\n"
     ]
    },
    {
     "name": "stderr",
     "output_type": "stream",
     "text": [
      "100%|██████████| 99258/99258 [01:28<00:00, 1124.75it/s]\n",
      "2022-04-21 18:33:33,209 - INFO - detect_tissue - Filtering based on query: otsu_score > 0.1\n",
      "2022-04-21 18:33:33,225 - INFO - detect_tissue -                 x_coord  y_coord  xy_extent  tile_size tile_units  otsu_score\n",
      "2022-04-21 18:33:33,225 - INFO - detect_tissue - address                                                                      \n",
      "2022-04-21 18:33:33,225 - INFO - detect_tissue - x6_y152_z20.0      1536    38912        256        128         px        0.15\n",
      "2022-04-21 18:33:33,225 - INFO - detect_tissue - x6_y153_z20.0      1536    39168        256        128         px        0.30\n",
      "2022-04-21 18:33:33,225 - INFO - detect_tissue - x6_y154_z20.0      1536    39424        256        128         px        0.56\n",
      "2022-04-21 18:33:33,225 - INFO - detect_tissue - x6_y155_z20.0      1536    39680        256        128         px        0.73\n",
      "2022-04-21 18:33:33,225 - INFO - detect_tissue - x6_y156_z20.0      1536    39936        256        128         px        0.73\n",
      "2022-04-21 18:33:33,225 - INFO - detect_tissue - ...                 ...      ...        ...        ...        ...         ...\n",
      "2022-04-21 18:33:33,225 - INFO - detect_tissue - x414_y26_z20.0   105984     6656        256        128         px        0.31\n",
      "2022-04-21 18:33:33,225 - INFO - detect_tissue - x415_y22_z20.0   106240     5632        256        128         px        0.24\n",
      "2022-04-21 18:33:33,225 - INFO - detect_tissue - x415_y25_z20.0   106240     6400        256        128         px        0.12\n",
      "2022-04-21 18:33:33,225 - INFO - detect_tissue - x419_y21_z20.0   107264     5376        256        128         px        0.23\n",
      "2022-04-21 18:33:33,225 - INFO - detect_tissue - x420_y22_z20.0   107520     5632        256        128         px        0.27\n",
      "2022-04-21 18:33:33,225 - INFO - detect_tissue - \n",
      "2022-04-21 18:33:33,225 - INFO - detect_tissue - [20648 rows x 6 columns]\n",
      "2022-04-21 18:33:33,289 - INFO - luna.common.utils - Code block 'transform::detect_tissue' took: 134.75085673853755s\n",
      "2022-04-21 18:33:33,291 - INFO - luna.common.utils - ------------------------------------------------------------\n",
      "2022-04-21 18:33:33,291 - INFO - luna.common.utils -  Done with transform, running post-transform functions... \n",
      "2022-04-21 18:33:33,291 - INFO - luna.common.utils - ------------------------------------------------------------\n",
      "2022-04-21 18:33:33,295 - INFO - luna.common.utils - Done.\n"
     ]
    },
    {
     "name": "stdout",
     "output_type": "stream",
     "text": [
      "label_tiles ../PRO_12-123/data/toy_data_set/table/ANNOTATIONS /home/aukermaa/vmount/PRO_12-123/tiling/01OV007-9b90eb78-2f50-4aeb-b010-d642f9/detected_tiles -o /home/aukermaa/vmount/PRO_12-123/tiling/01OV007-9b90eb78-2f50-4aeb-b010-d642f9/labled_tiles\n"
     ]
    },
    {
     "name": "stderr",
     "output_type": "stream",
     "text": [
      "2022-04-21 18:33:34,680 - INFO - root - Initalized logger, log file at: data-processing.log\n",
      "2022-04-21 18:33:34,681 - INFO - luna.common.utils - Started CLI Runner wtih <function generate_tile_labels at 0x7fa6e4b90d30>\n",
      "2022-04-21 18:33:34,692 - INFO - luna.common.utils - Validating params...\n",
      "2022-04-21 18:33:34,694 - INFO - luna.common.utils -  -> Set input_slide_annotation_dataset (<class 'str'>) = ../PRO_12-123/data/toy_data_set/table/ANNOTATIONS\n",
      "2022-04-21 18:33:34,695 - INFO - luna.common.utils -  -> Set input_slide_tiles (<class 'str'>) = /home/aukermaa/vmount/PRO_12-123/tiling/01OV007-9b90eb78-2f50-4aeb-b010-d642f9/detected_tiles\n",
      "2022-04-21 18:33:34,696 - INFO - luna.common.utils -  -> Set output_dir (<class 'str'>) = /home/aukermaa/vmount/PRO_12-123/tiling/01OV007-9b90eb78-2f50-4aeb-b010-d642f9/labled_tiles\n",
      "2022-04-21 18:33:34,698 - INFO - luna.common.utils - Expanding inputs...\n",
      "2022-04-21 18:33:34,700 - INFO - luna.common.utils - Attempting to read metadata at ../PRO_12-123/data/toy_data_set/table/ANNOTATIONS/metadata.yml\n",
      "2022-04-21 18:33:34,703 - INFO - luna.common.utils - Expanded input:\n",
      "2022-04-21 18:33:34,703 - INFO - luna.common.utils -  -> ../PRO_12-123/data/toy_data_set/table/ANNOTATIONS\n",
      "2022-04-21 18:33:34,703 - INFO - luna.common.utils -  -> ../PRO_12-123/data/toy_data_set/table/ANNOTATIONS/slide_annotation_dataset_TCGA collection_ov_regional.parquet\n",
      "2022-04-21 18:33:34,704 - INFO - luna.common.utils - Found segment keys: {'dsa_collection_uuid': '62618802005d04d493d48694'}\n",
      "2022-04-21 18:33:34,705 - INFO - luna.common.utils - Attempting to read metadata at /home/aukermaa/vmount/PRO_12-123/tiling/01OV007-9b90eb78-2f50-4aeb-b010-d642f9/detected_tiles/metadata.yml\n",
      "2022-04-21 18:33:34,709 - INFO - luna.common.utils - Expanded input:\n",
      "2022-04-21 18:33:34,709 - INFO - luna.common.utils -  -> /home/aukermaa/vmount/PRO_12-123/tiling/01OV007-9b90eb78-2f50-4aeb-b010-d642f9/detected_tiles\n",
      "2022-04-21 18:33:34,709 - INFO - luna.common.utils -  -> /home/aukermaa/vmount/PRO_12-123/tiling/01OV007-9b90eb78-2f50-4aeb-b010-d642f9/detected_tiles/01OV007-9b90eb78-2f50-4aeb-b010-d642f9-filtered.tiles.parquet\n",
      "2022-04-21 18:33:34,710 - INFO - luna.common.utils - Found segment keys: {'slide_id': '01OV007-9b90eb78-2f50-4aeb-b010-d642f9'}\n",
      "2022-04-21 18:33:34,712 - INFO - luna.common.utils - Resolved input:\n",
      "2022-04-21 18:33:34,712 - INFO - luna.common.utils -  -> ../PRO_12-123/data/toy_data_set/table/ANNOTATIONS/slide_annotation_dataset_TCGA collection_ov_regional.parquet\n",
      "2022-04-21 18:33:34,712 - INFO - luna.common.utils -  -> /home/aukermaa/vmount/PRO_12-123/data/toy_data_set/table/ANNOTATIONS/slide_annotation_dataset_TCGA collection_ov_regional.parquet\n",
      "2022-04-21 18:33:34,713 - INFO - luna.common.utils - Resolved input:\n",
      "2022-04-21 18:33:34,713 - INFO - luna.common.utils -  -> /home/aukermaa/vmount/PRO_12-123/tiling/01OV007-9b90eb78-2f50-4aeb-b010-d642f9/detected_tiles/01OV007-9b90eb78-2f50-4aeb-b010-d642f9-filtered.tiles.parquet\n",
      "2022-04-21 18:33:34,713 - INFO - luna.common.utils -  -> /home/aukermaa/vmount/PRO_12-123/tiling/01OV007-9b90eb78-2f50-4aeb-b010-d642f9/detected_tiles/01OV007-9b90eb78-2f50-4aeb-b010-d642f9-filtered.tiles.parquet\n",
      "2022-04-21 18:33:34,715 - INFO - luna.common.utils - Full segment key set: {'dsa_collection_uuid': '62618802005d04d493d48694', 'slide_id': '01OV007-9b90eb78-2f50-4aeb-b010-d642f9'}\n",
      "2022-04-21 18:33:34,716 - INFO - luna.common.utils - ------------------------------------------------------------\n",
      "2022-04-21 18:33:34,716 - INFO - luna.common.utils -  Starting transform::generate_tile_labels \n",
      "2022-04-21 18:33:34,716 - INFO - luna.common.utils - ------------------------------------------------------------\n",
      "2022-04-21 18:33:34,718 - INFO - generate_tile_labels - slide_id=01OV007-9b90eb78-2f50-4aeb-b010-d642f9\n",
      "\r",
      "  0%|          | 0/20648 [00:00<?, ?it/s]"
     ]
    },
    {
     "name": "stdout",
     "output_type": "stream",
     "text": [
      "../PRO_12-123/data/toy_data_set/table/ANNOTATIONS/01OV007-9b90eb78-2f50-4aeb-b010-d642f9.annotation.geojson TCGA collection ov_regional\n"
     ]
    },
    {
     "name": "stderr",
     "output_type": "stream",
     "text": [
      "100%|██████████| 20648/20648 [00:03<00:00, 5909.95it/s]\n",
      "2022-04-21 18:33:38,305 - INFO - generate_tile_labels -                  x_coord  y_coord  ...  regional_label  intersection_area\n",
      "2022-04-21 18:33:38,305 - INFO - generate_tile_labels - address                            ...                                   \n",
      "2022-04-21 18:33:38,305 - INFO - generate_tile_labels - x24_y56_z20.0       6144    14336  ...             fat           0.001128\n",
      "2022-04-21 18:33:38,305 - INFO - generate_tile_labels - x24_y57_z20.0       6144    14592  ...             fat           0.337458\n",
      "2022-04-21 18:33:38,305 - INFO - generate_tile_labels - x24_y58_z20.0       6144    14848  ...             fat           0.536735\n",
      "2022-04-21 18:33:38,305 - INFO - generate_tile_labels - x24_y59_z20.0       6144    15104  ...             fat           0.511210\n",
      "2022-04-21 18:33:38,305 - INFO - generate_tile_labels - x24_y60_z20.0       6144    15360  ...             fat           0.161498\n",
      "2022-04-21 18:33:38,305 - INFO - generate_tile_labels - ...                  ...      ...  ...             ...                ...\n",
      "2022-04-21 18:33:38,305 - INFO - generate_tile_labels - x379_y109_z20.0    97024    27904  ...           tumor           0.482618\n",
      "2022-04-21 18:33:38,305 - INFO - generate_tile_labels - x380_y104_z20.0    97280    26624  ...           tumor           0.009819\n",
      "2022-04-21 18:33:38,305 - INFO - generate_tile_labels - x380_y105_z20.0    97280    26880  ...           tumor           0.337997\n",
      "2022-04-21 18:33:38,305 - INFO - generate_tile_labels - x380_y106_z20.0    97280    27136  ...           tumor           0.453576\n",
      "2022-04-21 18:33:38,305 - INFO - generate_tile_labels - x380_y107_z20.0    97280    27392  ...           tumor           0.294047\n",
      "2022-04-21 18:33:38,305 - INFO - generate_tile_labels - \n",
      "2022-04-21 18:33:38,305 - INFO - generate_tile_labels - [614 rows x 8 columns]\n",
      "2022-04-21 18:33:38,349 - INFO - luna.common.utils - Code block 'transform::generate_tile_labels' took: 3.631635148078203s\n",
      "2022-04-21 18:33:38,351 - INFO - luna.common.utils - ------------------------------------------------------------\n",
      "2022-04-21 18:33:38,351 - INFO - luna.common.utils -  Done with transform, running post-transform functions... \n",
      "2022-04-21 18:33:38,351 - INFO - luna.common.utils - ------------------------------------------------------------\n",
      "2022-04-21 18:33:38,357 - INFO - luna.common.utils - Done.\n"
     ]
    },
    {
     "name": "stdout",
     "output_type": "stream",
     "text": [
      "save_tiles file:/home/aukermaa/vmount/PRO_12-123/data/toy_data_set/01OV007-9b90eb78-2f50-4aeb-b010-d642f9.svs /home/aukermaa/vmount/PRO_12-123/tiling/01OV007-9b90eb78-2f50-4aeb-b010-d642f9/labled_tiles --num_cores 16 --batch_size 200 --dataset_id PRO_TILES -o /home/aukermaa/vmount/PRO_12-123/tiling/01OV007-9b90eb78-2f50-4aeb-b010-d642f9/saved_tiles\n"
     ]
    },
    {
     "name": "stderr",
     "output_type": "stream",
     "text": [
      "2022-04-21 18:33:39,421 - INFO - root - Initalized logger, log file at: data-processing.log\n",
      "2022-04-21 18:33:41,084 - INFO - luna.common.utils - Started CLI Runner wtih <function save_tiles at 0x7f5937985310>\n",
      "2022-04-21 18:33:41,086 - INFO - luna.common.utils - Validating params...\n",
      "2022-04-21 18:33:41,088 - INFO - luna.common.utils -  -> Set input_slide_image (<class 'str'>) = file:/home/aukermaa/vmount/PRO_12-123/data/toy_data_set/01OV007-9b90eb78-2f50-4aeb-b010-d642f9.svs\n",
      "2022-04-21 18:33:41,089 - INFO - luna.common.utils -  -> Set input_slide_tiles (<class 'str'>) = /home/aukermaa/vmount/PRO_12-123/tiling/01OV007-9b90eb78-2f50-4aeb-b010-d642f9/labled_tiles\n",
      "2022-04-21 18:33:41,091 - INFO - luna.common.utils -  -> Set output_dir (<class 'str'>) = /home/aukermaa/vmount/PRO_12-123/tiling/01OV007-9b90eb78-2f50-4aeb-b010-d642f9/saved_tiles\n",
      "2022-04-21 18:33:41,092 - INFO - luna.common.utils -  -> Set num_cores (<class 'int'>) = 16\n",
      "2022-04-21 18:33:41,093 - INFO - luna.common.utils -  -> Set batch_size (<class 'int'>) = 200\n",
      "2022-04-21 18:33:41,095 - INFO - luna.common.utils - Expanding inputs...\n",
      "2022-04-21 18:33:41,097 - INFO - luna.common.utils - Attempting to read metadata at file:/home/aukermaa/vmount/PRO_12-123/data/toy_data_set/01OV007-9b90eb78-2f50-4aeb-b010-d642f9.svs/metadata.yml\n",
      "2022-04-21 18:33:41,098 - INFO - luna.common.utils - Attempting to read metadata at /home/aukermaa/vmount/PRO_12-123/tiling/01OV007-9b90eb78-2f50-4aeb-b010-d642f9/labled_tiles/metadata.yml\n",
      "2022-04-21 18:33:41,126 - INFO - luna.common.utils - Expanded input:\n",
      "2022-04-21 18:33:41,126 - INFO - luna.common.utils -  -> /home/aukermaa/vmount/PRO_12-123/tiling/01OV007-9b90eb78-2f50-4aeb-b010-d642f9/labled_tiles\n",
      "2022-04-21 18:33:41,126 - INFO - luna.common.utils -  -> /home/aukermaa/vmount/PRO_12-123/tiling/01OV007-9b90eb78-2f50-4aeb-b010-d642f9/labled_tiles/01OV007-9b90eb78-2f50-4aeb-b010-d642f9.regional_label.tiles.parquet\n",
      "2022-04-21 18:33:41,128 - INFO - luna.common.utils - Found segment keys: {'dsa_collection_uuid': '62618802005d04d493d48694', 'slide_id': '01OV007-9b90eb78-2f50-4aeb-b010-d642f9'}\n",
      "2022-04-21 18:33:41,129 - INFO - luna.common.utils - Resolved input:\n",
      "2022-04-21 18:33:41,129 - INFO - luna.common.utils -  -> file:/home/aukermaa/vmount/PRO_12-123/data/toy_data_set/01OV007-9b90eb78-2f50-4aeb-b010-d642f9.svs\n",
      "2022-04-21 18:33:41,129 - INFO - luna.common.utils -  -> /home/aukermaa/vmount/PRO_12-123/data/toy_data_set/01OV007-9b90eb78-2f50-4aeb-b010-d642f9.svs\n",
      "2022-04-21 18:33:41,131 - INFO - luna.common.utils - Resolved input:\n",
      "2022-04-21 18:33:41,131 - INFO - luna.common.utils -  -> /home/aukermaa/vmount/PRO_12-123/tiling/01OV007-9b90eb78-2f50-4aeb-b010-d642f9/labled_tiles/01OV007-9b90eb78-2f50-4aeb-b010-d642f9.regional_label.tiles.parquet\n",
      "2022-04-21 18:33:41,131 - INFO - luna.common.utils -  -> /home/aukermaa/vmount/PRO_12-123/tiling/01OV007-9b90eb78-2f50-4aeb-b010-d642f9/labled_tiles/01OV007-9b90eb78-2f50-4aeb-b010-d642f9.regional_label.tiles.parquet\n",
      "2022-04-21 18:33:41,132 - INFO - luna.common.utils - Full segment key set: {'dsa_collection_uuid': '62618802005d04d493d48694', 'slide_id': '01OV007-9b90eb78-2f50-4aeb-b010-d642f9'}\n",
      "2022-04-21 18:33:41,134 - INFO - luna.common.utils - ------------------------------------------------------------\n",
      "2022-04-21 18:33:41,134 - INFO - luna.common.utils -  Starting transform::save_tiles \n",
      "2022-04-21 18:33:41,134 - INFO - luna.common.utils - ------------------------------------------------------------\n",
      "2022-04-21 18:33:41,181 - INFO - generate_tiles - Now generating tiles with num_cores=16 and batch_size=200!\n",
      "2022-04-21 18:33:41,184 - WARNING - generate_tiles - /home/aukermaa/vmount/PRO_12-123/tiling/01OV007-9b90eb78-2f50-4aeb-b010-d642f9/saved_tiles/01OV007-9b90eb78-2f50-4aeb-b010-d642f9.tiles.h5 already exists, deleting the file..\n"
     ]
    },
    {
     "name": "stdout",
     "output_type": "stream",
     "text": [
      "100%|██████████| 104/104 [00:07<00:00, 14.58it/s]"
     ]
    },
    {
     "name": "stderr",
     "output_type": "stream",
     "text": [
      "2022-04-21 18:33:50,226 - INFO - generate_tiles -                 x_coord  ...                                         tile_store\n",
      "2022-04-21 18:33:50,226 - INFO - generate_tiles - address                  ...                                                   \n",
      "2022-04-21 18:33:50,226 - INFO - generate_tiles - x6_y152_z20.0      1536  ...  /home/aukermaa/vmount/PRO_12-123/tiling/01OV00...\n",
      "2022-04-21 18:33:50,226 - INFO - generate_tiles - x6_y153_z20.0      1536  ...  /home/aukermaa/vmount/PRO_12-123/tiling/01OV00...\n",
      "2022-04-21 18:33:50,226 - INFO - generate_tiles - x6_y154_z20.0      1536  ...  /home/aukermaa/vmount/PRO_12-123/tiling/01OV00...\n",
      "2022-04-21 18:33:50,226 - INFO - generate_tiles - x6_y155_z20.0      1536  ...  /home/aukermaa/vmount/PRO_12-123/tiling/01OV00...\n",
      "2022-04-21 18:33:50,226 - INFO - generate_tiles - x6_y156_z20.0      1536  ...  /home/aukermaa/vmount/PRO_12-123/tiling/01OV00...\n",
      "2022-04-21 18:33:50,226 - INFO - generate_tiles - ...                 ...  ...                                                ...\n",
      "2022-04-21 18:33:50,226 - INFO - generate_tiles - x414_y26_z20.0   105984  ...  /home/aukermaa/vmount/PRO_12-123/tiling/01OV00...\n",
      "2022-04-21 18:33:50,226 - INFO - generate_tiles - x415_y22_z20.0   106240  ...  /home/aukermaa/vmount/PRO_12-123/tiling/01OV00...\n",
      "2022-04-21 18:33:50,226 - INFO - generate_tiles - x415_y25_z20.0   106240  ...  /home/aukermaa/vmount/PRO_12-123/tiling/01OV00...\n",
      "2022-04-21 18:33:50,226 - INFO - generate_tiles - x419_y21_z20.0   107264  ...  /home/aukermaa/vmount/PRO_12-123/tiling/01OV00...\n",
      "2022-04-21 18:33:50,226 - INFO - generate_tiles - x420_y22_z20.0   107520  ...  /home/aukermaa/vmount/PRO_12-123/tiling/01OV00...\n",
      "2022-04-21 18:33:50,226 - INFO - generate_tiles - \n",
      "2022-04-21 18:33:50,226 - INFO - generate_tiles - [20648 rows x 9 columns]\n",
      "2022-04-21 18:33:50,307 - INFO - luna.common.utils - Code block 'transform::save_tiles' took: 9.171829331666231s\n",
      "2022-04-21 18:33:50,309 - INFO - luna.common.utils - ------------------------------------------------------------\n",
      "2022-04-21 18:33:50,309 - INFO - luna.common.utils -  Done with transform, running post-transform functions... \n",
      "2022-04-21 18:33:50,309 - INFO - luna.common.utils - ------------------------------------------------------------\n",
      "2022-04-21 18:33:50,314 - INFO - luna.common.utils - Adding feature segment /home/aukermaa/vmount/PRO_12-123/tiling/01OV007-9b90eb78-2f50-4aeb-b010-d642f9/saved_tiles/01OV007-9b90eb78-2f50-4aeb-b010-d642f9.tiles.parquet to PRO_TILES\n",
      "2022-04-21 18:33:50,315 - INFO - luna.common.utils - Found dataset URL = file:///home/aukermaa/vmount/PRO_12-123/\n",
      "2022-04-21 18:33:50,316 - INFO - luna.common.utils - Adding /home/aukermaa/vmount/PRO_12-123/tiling/01OV007-9b90eb78-2f50-4aeb-b010-d642f9/saved_tiles/01OV007-9b90eb78-2f50-4aeb-b010-d642f9.tiles.parquet to PRO_TILES via file:///home/aukermaa/vmount/PRO_12-123/\n",
      "2022-04-21 18:33:50,317 - INFO - luna.common.utils - SEGMENT_ID=62618802005d04d493d48694-01OV007-9b90eb78-2f50-4aeb-b010-d642f9\n",
      "2022-04-21 18:33:50,319 - INFO - luna.common.utils - Writing to: /home/aukermaa/vmount/PRO_12-123/datasets/PRO_TILES/segments/62618802005d04d493d48694-01OV007-9b90eb78-2f50-4aeb-b010-d642f9\n",
      "2022-04-21 18:33:50,401 - INFO - luna.common.utils - Done.\n"
     ]
    },
    {
     "name": "stdout",
     "output_type": "stream",
     "text": [
      "\n"
     ]
    }
   ],
   "source": [
    "from concurrent.futures import ThreadPoolExecutor\n",
    "\n",
    "df_slides = pd.read_parquet(\"../PRO_12-123/data/toy_data_set/table/SLIDES/slide_ingest_PRO_12-123.parquet\")\n",
    "        \n",
    "with ThreadPoolExecutor(5) as pool:\n",
    "    \n",
    "    for index, row in df_slides.iterrows():\n",
    "        \n",
    "        pool.submit(pipeline, index, row.slide_image, \"../PRO_12-123/data/toy_data_set/table/ANNOTATIONS\")\n",
    "\n"
   ]
  },
  {
   "cell_type": "code",
   "execution_count": 22,
   "metadata": {},
   "outputs": [
    {
     "name": "stdout",
     "output_type": "stream",
     "text": [
      "tumor     2120\n",
      "stroma     860\n",
      "fat        751\n",
      "Name: regional_label, dtype: int64\n"
     ]
    },
    {
     "data": {
      "text/html": [
       "<div>\n",
       "<style scoped>\n",
       "    .dataframe tbody tr th:only-of-type {\n",
       "        vertical-align: middle;\n",
       "    }\n",
       "\n",
       "    .dataframe tbody tr th {\n",
       "        vertical-align: top;\n",
       "    }\n",
       "\n",
       "    .dataframe thead th {\n",
       "        text-align: right;\n",
       "    }\n",
       "</style>\n",
       "<table border=\"1\" class=\"dataframe\">\n",
       "  <thead>\n",
       "    <tr style=\"text-align: right;\">\n",
       "      <th></th>\n",
       "      <th>SEGMENT_ID</th>\n",
       "      <th>dsa_collection_uuid</th>\n",
       "      <th>slide_id</th>\n",
       "      <th>address</th>\n",
       "      <th>x_coord</th>\n",
       "      <th>y_coord</th>\n",
       "      <th>xy_extent</th>\n",
       "      <th>tile_size</th>\n",
       "      <th>tile_units</th>\n",
       "      <th>otsu_score</th>\n",
       "      <th>regional_label</th>\n",
       "      <th>intersection_area</th>\n",
       "      <th>tile_store</th>\n",
       "    </tr>\n",
       "  </thead>\n",
       "  <tbody>\n",
       "    <tr>\n",
       "      <th>4480</th>\n",
       "      <td>62618802005d04d493d48694-01OV002-bd8cdc70-3d46...</td>\n",
       "      <td>62618802005d04d493d48694</td>\n",
       "      <td>01OV002-bd8cdc70-3d46-40ae-99c4-90ef77</td>\n",
       "      <td>x52_y114_z20.0</td>\n",
       "      <td>13312</td>\n",
       "      <td>29184</td>\n",
       "      <td>256</td>\n",
       "      <td>128</td>\n",
       "      <td>px</td>\n",
       "      <td>0.66</td>\n",
       "      <td>stroma</td>\n",
       "      <td>0.055345</td>\n",
       "      <td>/home/aukermaa/vmount/PRO_12-123/tiling/01OV00...</td>\n",
       "    </tr>\n",
       "    <tr>\n",
       "      <th>4602</th>\n",
       "      <td>62618802005d04d493d48694-01OV002-bd8cdc70-3d46...</td>\n",
       "      <td>62618802005d04d493d48694</td>\n",
       "      <td>01OV002-bd8cdc70-3d46-40ae-99c4-90ef77</td>\n",
       "      <td>x53_y113_z20.0</td>\n",
       "      <td>13568</td>\n",
       "      <td>28928</td>\n",
       "      <td>256</td>\n",
       "      <td>128</td>\n",
       "      <td>px</td>\n",
       "      <td>0.81</td>\n",
       "      <td>stroma</td>\n",
       "      <td>0.212376</td>\n",
       "      <td>/home/aukermaa/vmount/PRO_12-123/tiling/01OV00...</td>\n",
       "    </tr>\n",
       "    <tr>\n",
       "      <th>4603</th>\n",
       "      <td>62618802005d04d493d48694-01OV002-bd8cdc70-3d46...</td>\n",
       "      <td>62618802005d04d493d48694</td>\n",
       "      <td>01OV002-bd8cdc70-3d46-40ae-99c4-90ef77</td>\n",
       "      <td>x53_y114_z20.0</td>\n",
       "      <td>13568</td>\n",
       "      <td>29184</td>\n",
       "      <td>256</td>\n",
       "      <td>128</td>\n",
       "      <td>px</td>\n",
       "      <td>0.56</td>\n",
       "      <td>stroma</td>\n",
       "      <td>0.965976</td>\n",
       "      <td>/home/aukermaa/vmount/PRO_12-123/tiling/01OV00...</td>\n",
       "    </tr>\n",
       "    <tr>\n",
       "      <th>4604</th>\n",
       "      <td>62618802005d04d493d48694-01OV002-bd8cdc70-3d46...</td>\n",
       "      <td>62618802005d04d493d48694</td>\n",
       "      <td>01OV002-bd8cdc70-3d46-40ae-99c4-90ef77</td>\n",
       "      <td>x53_y115_z20.0</td>\n",
       "      <td>13568</td>\n",
       "      <td>29440</td>\n",
       "      <td>256</td>\n",
       "      <td>128</td>\n",
       "      <td>px</td>\n",
       "      <td>0.45</td>\n",
       "      <td>stroma</td>\n",
       "      <td>0.344496</td>\n",
       "      <td>/home/aukermaa/vmount/PRO_12-123/tiling/01OV00...</td>\n",
       "    </tr>\n",
       "    <tr>\n",
       "      <th>4719</th>\n",
       "      <td>62618802005d04d493d48694-01OV002-bd8cdc70-3d46...</td>\n",
       "      <td>62618802005d04d493d48694</td>\n",
       "      <td>01OV002-bd8cdc70-3d46-40ae-99c4-90ef77</td>\n",
       "      <td>x54_y112_z20.0</td>\n",
       "      <td>13824</td>\n",
       "      <td>28672</td>\n",
       "      <td>256</td>\n",
       "      <td>128</td>\n",
       "      <td>px</td>\n",
       "      <td>0.94</td>\n",
       "      <td>stroma</td>\n",
       "      <td>0.061422</td>\n",
       "      <td>/home/aukermaa/vmount/PRO_12-123/tiling/01OV00...</td>\n",
       "    </tr>\n",
       "    <tr>\n",
       "      <th>...</th>\n",
       "      <td>...</td>\n",
       "      <td>...</td>\n",
       "      <td>...</td>\n",
       "      <td>...</td>\n",
       "      <td>...</td>\n",
       "      <td>...</td>\n",
       "      <td>...</td>\n",
       "      <td>...</td>\n",
       "      <td>...</td>\n",
       "      <td>...</td>\n",
       "      <td>...</td>\n",
       "      <td>...</td>\n",
       "      <td>...</td>\n",
       "    </tr>\n",
       "    <tr>\n",
       "      <th>87948</th>\n",
       "      <td>62618802005d04d493d48694-01OV008-7579323e-2fae...</td>\n",
       "      <td>62618802005d04d493d48694</td>\n",
       "      <td>01OV008-7579323e-2fae-43a9-b00f-a15c28</td>\n",
       "      <td>x111_y79_z20.0</td>\n",
       "      <td>28416</td>\n",
       "      <td>20224</td>\n",
       "      <td>256</td>\n",
       "      <td>128</td>\n",
       "      <td>px</td>\n",
       "      <td>0.59</td>\n",
       "      <td>stroma</td>\n",
       "      <td>0.622304</td>\n",
       "      <td>/home/aukermaa/vmount/PRO_12-123/tiling/01OV00...</td>\n",
       "    </tr>\n",
       "    <tr>\n",
       "      <th>87949</th>\n",
       "      <td>62618802005d04d493d48694-01OV008-7579323e-2fae...</td>\n",
       "      <td>62618802005d04d493d48694</td>\n",
       "      <td>01OV008-7579323e-2fae-43a9-b00f-a15c28</td>\n",
       "      <td>x111_y80_z20.0</td>\n",
       "      <td>28416</td>\n",
       "      <td>20480</td>\n",
       "      <td>256</td>\n",
       "      <td>128</td>\n",
       "      <td>px</td>\n",
       "      <td>0.78</td>\n",
       "      <td>stroma</td>\n",
       "      <td>1.000000</td>\n",
       "      <td>/home/aukermaa/vmount/PRO_12-123/tiling/01OV00...</td>\n",
       "    </tr>\n",
       "    <tr>\n",
       "      <th>87950</th>\n",
       "      <td>62618802005d04d493d48694-01OV008-7579323e-2fae...</td>\n",
       "      <td>62618802005d04d493d48694</td>\n",
       "      <td>01OV008-7579323e-2fae-43a9-b00f-a15c28</td>\n",
       "      <td>x111_y81_z20.0</td>\n",
       "      <td>28416</td>\n",
       "      <td>20736</td>\n",
       "      <td>256</td>\n",
       "      <td>128</td>\n",
       "      <td>px</td>\n",
       "      <td>0.56</td>\n",
       "      <td>stroma</td>\n",
       "      <td>0.577473</td>\n",
       "      <td>/home/aukermaa/vmount/PRO_12-123/tiling/01OV00...</td>\n",
       "    </tr>\n",
       "    <tr>\n",
       "      <th>88043</th>\n",
       "      <td>62618802005d04d493d48694-01OV008-7579323e-2fae...</td>\n",
       "      <td>62618802005d04d493d48694</td>\n",
       "      <td>01OV008-7579323e-2fae-43a9-b00f-a15c28</td>\n",
       "      <td>x112_y80_z20.0</td>\n",
       "      <td>28672</td>\n",
       "      <td>20480</td>\n",
       "      <td>256</td>\n",
       "      <td>128</td>\n",
       "      <td>px</td>\n",
       "      <td>0.26</td>\n",
       "      <td>stroma</td>\n",
       "      <td>0.251255</td>\n",
       "      <td>/home/aukermaa/vmount/PRO_12-123/tiling/01OV00...</td>\n",
       "    </tr>\n",
       "    <tr>\n",
       "      <th>88044</th>\n",
       "      <td>62618802005d04d493d48694-01OV008-7579323e-2fae...</td>\n",
       "      <td>62618802005d04d493d48694</td>\n",
       "      <td>01OV008-7579323e-2fae-43a9-b00f-a15c28</td>\n",
       "      <td>x112_y81_z20.0</td>\n",
       "      <td>28672</td>\n",
       "      <td>20736</td>\n",
       "      <td>256</td>\n",
       "      <td>128</td>\n",
       "      <td>px</td>\n",
       "      <td>0.39</td>\n",
       "      <td>stroma</td>\n",
       "      <td>0.045343</td>\n",
       "      <td>/home/aukermaa/vmount/PRO_12-123/tiling/01OV00...</td>\n",
       "    </tr>\n",
       "  </tbody>\n",
       "</table>\n",
       "<p>3731 rows × 13 columns</p>\n",
       "</div>"
      ],
      "text/plain": [
       "                                              SEGMENT_ID  \\\n",
       "4480   62618802005d04d493d48694-01OV002-bd8cdc70-3d46...   \n",
       "4602   62618802005d04d493d48694-01OV002-bd8cdc70-3d46...   \n",
       "4603   62618802005d04d493d48694-01OV002-bd8cdc70-3d46...   \n",
       "4604   62618802005d04d493d48694-01OV002-bd8cdc70-3d46...   \n",
       "4719   62618802005d04d493d48694-01OV002-bd8cdc70-3d46...   \n",
       "...                                                  ...   \n",
       "87948  62618802005d04d493d48694-01OV008-7579323e-2fae...   \n",
       "87949  62618802005d04d493d48694-01OV008-7579323e-2fae...   \n",
       "87950  62618802005d04d493d48694-01OV008-7579323e-2fae...   \n",
       "88043  62618802005d04d493d48694-01OV008-7579323e-2fae...   \n",
       "88044  62618802005d04d493d48694-01OV008-7579323e-2fae...   \n",
       "\n",
       "            dsa_collection_uuid                                slide_id  \\\n",
       "4480   62618802005d04d493d48694  01OV002-bd8cdc70-3d46-40ae-99c4-90ef77   \n",
       "4602   62618802005d04d493d48694  01OV002-bd8cdc70-3d46-40ae-99c4-90ef77   \n",
       "4603   62618802005d04d493d48694  01OV002-bd8cdc70-3d46-40ae-99c4-90ef77   \n",
       "4604   62618802005d04d493d48694  01OV002-bd8cdc70-3d46-40ae-99c4-90ef77   \n",
       "4719   62618802005d04d493d48694  01OV002-bd8cdc70-3d46-40ae-99c4-90ef77   \n",
       "...                         ...                                     ...   \n",
       "87948  62618802005d04d493d48694  01OV008-7579323e-2fae-43a9-b00f-a15c28   \n",
       "87949  62618802005d04d493d48694  01OV008-7579323e-2fae-43a9-b00f-a15c28   \n",
       "87950  62618802005d04d493d48694  01OV008-7579323e-2fae-43a9-b00f-a15c28   \n",
       "88043  62618802005d04d493d48694  01OV008-7579323e-2fae-43a9-b00f-a15c28   \n",
       "88044  62618802005d04d493d48694  01OV008-7579323e-2fae-43a9-b00f-a15c28   \n",
       "\n",
       "              address  x_coord  y_coord  xy_extent  tile_size tile_units  \\\n",
       "4480   x52_y114_z20.0    13312    29184        256        128         px   \n",
       "4602   x53_y113_z20.0    13568    28928        256        128         px   \n",
       "4603   x53_y114_z20.0    13568    29184        256        128         px   \n",
       "4604   x53_y115_z20.0    13568    29440        256        128         px   \n",
       "4719   x54_y112_z20.0    13824    28672        256        128         px   \n",
       "...               ...      ...      ...        ...        ...        ...   \n",
       "87948  x111_y79_z20.0    28416    20224        256        128         px   \n",
       "87949  x111_y80_z20.0    28416    20480        256        128         px   \n",
       "87950  x111_y81_z20.0    28416    20736        256        128         px   \n",
       "88043  x112_y80_z20.0    28672    20480        256        128         px   \n",
       "88044  x112_y81_z20.0    28672    20736        256        128         px   \n",
       "\n",
       "       otsu_score regional_label  intersection_area  \\\n",
       "4480         0.66         stroma           0.055345   \n",
       "4602         0.81         stroma           0.212376   \n",
       "4603         0.56         stroma           0.965976   \n",
       "4604         0.45         stroma           0.344496   \n",
       "4719         0.94         stroma           0.061422   \n",
       "...           ...            ...                ...   \n",
       "87948        0.59         stroma           0.622304   \n",
       "87949        0.78         stroma           1.000000   \n",
       "87950        0.56         stroma           0.577473   \n",
       "88043        0.26         stroma           0.251255   \n",
       "88044        0.39         stroma           0.045343   \n",
       "\n",
       "                                              tile_store  \n",
       "4480   /home/aukermaa/vmount/PRO_12-123/tiling/01OV00...  \n",
       "4602   /home/aukermaa/vmount/PRO_12-123/tiling/01OV00...  \n",
       "4603   /home/aukermaa/vmount/PRO_12-123/tiling/01OV00...  \n",
       "4604   /home/aukermaa/vmount/PRO_12-123/tiling/01OV00...  \n",
       "4719   /home/aukermaa/vmount/PRO_12-123/tiling/01OV00...  \n",
       "...                                                  ...  \n",
       "87948  /home/aukermaa/vmount/PRO_12-123/tiling/01OV00...  \n",
       "87949  /home/aukermaa/vmount/PRO_12-123/tiling/01OV00...  \n",
       "87950  /home/aukermaa/vmount/PRO_12-123/tiling/01OV00...  \n",
       "88043  /home/aukermaa/vmount/PRO_12-123/tiling/01OV00...  \n",
       "88044  /home/aukermaa/vmount/PRO_12-123/tiling/01OV00...  \n",
       "\n",
       "[3731 rows x 13 columns]"
      ]
     },
     "execution_count": 22,
     "metadata": {},
     "output_type": "execute_result"
    }
   ],
   "source": [
    "import pandas as pd\n",
    "df_tiles = pd.read_parquet(\"~/vmount/PRO_12-123/datasets/PRO_TILES/\").query(\"intersection_area > 0\")\n",
    "print (df_tiles['regional_label'].value_counts())\n",
    "df_tiles"
   ]
  },
  {
   "cell_type": "markdown",
   "metadata": {},
   "source": [
    "Congratulations! Now you have 2120 tumor, 860 stroma, and 751 fat tiles images and labels ready to train your model."
   ]
  }
 ],
 "metadata": {
  "kernelspec": {
   "display_name": "Python 3 (ipykernel)",
   "language": "python",
   "name": "python3"
  },
  "language_info": {
   "codemirror_mode": {
    "name": "ipython",
    "version": 3
   },
   "file_extension": ".py",
   "mimetype": "text/x-python",
   "name": "python",
   "nbconvert_exporter": "python",
   "pygments_lexer": "ipython3",
   "version": "3.9.11"
  }
 },
 "nbformat": 4,
 "nbformat_minor": 4
}
