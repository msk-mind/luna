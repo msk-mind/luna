{
 "cells": [
  {
   "cell_type": "markdown",
   "metadata": {},
   "source": [
    "# Tile Generation Tutorial"
   ]
  },
  {
   "cell_type": "markdown",
   "metadata": {},
   "source": [
    "Welcome to the tile generation tutorial!\n",
    "\n",
    "As a whole slide image is too large for deep learning model training, a slide is often divded into a set of small tiles, and used for training. For tile-based whole slide image analysis, generating tiles and labels is an important and laborious step. With LUNA tiling CLIs and tutorials, you can easily generate tile labels and get your data ready for downstream analysis. In this notebook, we will see how to generate tiles and labels using LUNA tiling CLIs. Here are the main steps we will review:\n",
    "\n",
    "1. Load slides\n",
    "2. Generate tiles, labels\n",
    "3. Collect tiles for model training\n",
    "\n",
    "Through out this notebook, we will use different method parameter files. Please refer to the example parameter files in the `configs` directory to follow these steps.\n"
   ]
  },
  {
   "cell_type": "code",
   "execution_count": 1,
   "metadata": {},
   "outputs": [],
   "source": [
    "import os\n",
    "HOME = os.environ['HOME']"
   ]
  },
  {
   "cell_type": "code",
   "execution_count": 2,
   "metadata": {
    "scrolled": true
   },
   "outputs": [
    {
     "name": "stdout",
     "output_type": "stream",
     "text": [
      "env: DATASET_URL=file:////home/kohlia/vmount/PRO_12-123/\n"
     ]
    }
   ],
   "source": [
    "env DATASET_URL=file:///$HOME/vmount/PRO_12-123/"
   ]
  },
  {
   "cell_type": "markdown",
   "metadata": {},
   "source": [
    "Initially, we'll walk through each CLI step manually-- then run them using the LunaCLIClient in parallel\n",
    "\n",
    "First, we generate tiles given a slide image of size 128 at 20x, and save them"
   ]
  },
  {
   "cell_type": "code",
   "execution_count": 3,
   "metadata": {},
   "outputs": [
    {
     "name": "stdout",
     "output_type": "stream",
     "text": [
      "2022-04-26 16:35:50,643 - INFO - root - Initalized logger, log file at: data-processing.log\n",
      "2022-04-26 16:35:52,132 - INFO - luna.common.utils - Started CLI Runner wtih <function generate_tiles at 0x7f7699640430>\n",
      "2022-04-26 16:35:52,134 - INFO - luna.common.utils - Validating params...\n",
      "2022-04-26 16:35:52,135 - INFO - luna.common.utils -  -> Set input_slide_image (<class 'str'>) = file:~/vmount/PRO_12-123/data/toy_data_set/01OV002-bd8cdc70-3d46-40ae-99c4-90ef77.svs\n",
      "2022-04-26 16:35:52,135 - INFO - luna.common.utils -  -> Set output_dir (<class 'str'>) = /home/kohlia/vmount/PRO_12-123/tiling/test/tiles\n",
      "2022-04-26 16:35:52,136 - INFO - luna.common.utils -  -> Set tile_size (<class 'int'>) = 128\n",
      "2022-04-26 16:35:52,137 - INFO - luna.common.utils -  -> Set requested_magnification (<class 'float'>) = 20.0\n",
      "2022-04-26 16:35:52,139 - INFO - luna.common.utils - Expanding inputs...\n",
      "2022-04-26 16:35:52,140 - INFO - luna.common.utils - Attempting to read metadata at file:~/vmount/PRO_12-123/data/toy_data_set/01OV002-bd8cdc70-3d46-40ae-99c4-90ef77.svs/metadata.yml\n",
      "2022-04-26 16:35:52,141 - WARNING - luna.common.utils - Resolving a user directory, be careful!\n",
      "2022-04-26 16:35:52,142 - INFO - luna.common.utils - Resolved input:\n",
      "2022-04-26 16:35:52,142 - INFO - luna.common.utils -  -> file:~/vmount/PRO_12-123/data/toy_data_set/01OV002-bd8cdc70-3d46-40ae-99c4-90ef77.svs\n",
      "2022-04-26 16:35:52,142 - INFO - luna.common.utils -  -> /home/kohlia/vmount/PRO_12-123/data/toy_data_set/01OV002-bd8cdc70-3d46-40ae-99c4-90ef77.svs\n",
      "2022-04-26 16:35:52,143 - INFO - luna.common.utils - Full segment key set: {}\n",
      "2022-04-26 16:35:52,144 - INFO - luna.common.utils - ------------------------------------------------------------\n",
      "2022-04-26 16:35:52,144 - INFO - luna.common.utils -  Starting transform::generate_tiles \n",
      "2022-04-26 16:35:52,144 - INFO - luna.common.utils - ------------------------------------------------------------\n",
      "2022-04-26 16:35:52,327 - INFO - generate_tiles - Slide size = [53760,54840]\n",
      "2022-04-26 16:35:52,329 - INFO - generate_tiles - Normalized magnification scale factor for 20.0x is 2.0\n",
      "2022-04-26 16:35:52,330 - INFO - generate_tiles - Requested tile size=128, tile size at full magnficiation=256\n",
      "2022-04-26 16:35:52,331 - INFO - generate_tiles - tiles x 210, tiles y 215\n",
      "2022-04-26 16:35:52,371 - INFO - generate_tiles - Number of tiles in raster: 44304\n",
      "2022-04-26 16:35:52,409 - INFO - generate_tiles -                  x_coord  y_coord  xy_extent  tile_size tile_units\n",
      "2022-04-26 16:35:52,409 - INFO - generate_tiles - address                                                           \n",
      "2022-04-26 16:35:52,409 - INFO - generate_tiles - x1_y1_z20.0          256      256        256        128         px\n",
      "2022-04-26 16:35:52,409 - INFO - generate_tiles - x1_y2_z20.0          256      512        256        128         px\n",
      "2022-04-26 16:35:52,409 - INFO - generate_tiles - x1_y3_z20.0          256      768        256        128         px\n",
      "2022-04-26 16:35:52,409 - INFO - generate_tiles - x1_y4_z20.0          256     1024        256        128         px\n",
      "2022-04-26 16:35:52,409 - INFO - generate_tiles - x1_y5_z20.0          256     1280        256        128         px\n",
      "2022-04-26 16:35:52,409 - INFO - generate_tiles - ...                  ...      ...        ...        ...        ...\n",
      "2022-04-26 16:35:52,409 - INFO - generate_tiles - x208_y209_z20.0    53248    53504        256        128         px\n",
      "2022-04-26 16:35:52,409 - INFO - generate_tiles - x208_y210_z20.0    53248    53760        256        128         px\n",
      "2022-04-26 16:35:52,409 - INFO - generate_tiles - x208_y211_z20.0    53248    54016        256        128         px\n",
      "2022-04-26 16:35:52,409 - INFO - generate_tiles - x208_y212_z20.0    53248    54272        256        128         px\n",
      "2022-04-26 16:35:52,409 - INFO - generate_tiles - x208_y213_z20.0    53248    54528        256        128         px\n",
      "2022-04-26 16:35:52,409 - INFO - generate_tiles - \n",
      "2022-04-26 16:35:52,409 - INFO - generate_tiles - [44304 rows x 5 columns]\n",
      "2022-04-26 16:35:52,457 - INFO - luna.common.utils - Code block 'transform::generate_tiles' took: 0.31249457800004166s\n",
      "2022-04-26 16:35:52,458 - INFO - luna.common.utils - ------------------------------------------------------------\n",
      "2022-04-26 16:35:52,458 - INFO - luna.common.utils -  Done with transform, running post-transform functions... \n",
      "2022-04-26 16:35:52,458 - INFO - luna.common.utils - ------------------------------------------------------------\n",
      "2022-04-26 16:35:52,462 - INFO - luna.common.utils - Done.\n"
     ]
    }
   ],
   "source": [
    "!generate_tiles \\\n",
    "file:~/vmount/PRO_12-123/data/toy_data_set/01OV002-bd8cdc70-3d46-40ae-99c4-90ef77.svs \\\n",
    "--tile_size 128 --requested_magnification 20 \\\n",
    "-o ~/vmount/PRO_12-123/tiling/test/tiles\n"
   ]
  },
  {
   "cell_type": "code",
   "execution_count": 4,
   "metadata": {},
   "outputs": [
    {
     "name": "stdout",
     "output_type": "stream",
     "text": [
      "2022-04-26 16:35:53,925 - INFO - root - Initalized logger, log file at: data-processing.log\n",
      "2022-04-26 16:35:55,466 - INFO - luna.common.utils - Started CLI Runner wtih <function detect_tissue at 0x7ff4d83e91f0>\n",
      "2022-04-26 16:35:55,467 - INFO - luna.common.utils - Validating params...\n",
      "2022-04-26 16:35:55,468 - INFO - luna.common.utils -  -> Set input_slide_image (<class 'str'>) = /home/kohlia/vmount/PRO_12-123/data/toy_data_set/01OV002-bd8cdc70-3d46-40ae-99c4-90ef77.svs\n",
      "2022-04-26 16:35:55,469 - INFO - luna.common.utils -  -> Set input_slide_tiles (<class 'str'>) = /home/kohlia/vmount/PRO_12-123/tiling/test/tiles\n",
      "2022-04-26 16:35:55,470 - INFO - luna.common.utils -  -> Set requested_magnification (<class 'float'>) = 2.0\n",
      "2022-04-26 16:35:55,471 - INFO - luna.common.utils -  -> Set filter_query (<class 'str'>) = otsu_score > 0.1\n",
      "2022-04-26 16:35:55,472 - INFO - luna.common.utils -  -> Set output_dir (<class 'str'>) = /home/kohlia/vmount/PRO_12-123/tiling/test/detect\n",
      "2022-04-26 16:35:55,473 - INFO - luna.common.utils -  -> Set num_cores (<class 'int'>) = 4\n",
      "2022-04-26 16:35:55,474 - INFO - luna.common.utils - Expanding inputs...\n",
      "2022-04-26 16:35:55,475 - INFO - luna.common.utils - Attempting to read metadata at /home/kohlia/vmount/PRO_12-123/data/toy_data_set/01OV002-bd8cdc70-3d46-40ae-99c4-90ef77.svs/metadata.yml\n",
      "2022-04-26 16:35:55,475 - INFO - luna.common.utils - Attempting to read metadata at /home/kohlia/vmount/PRO_12-123/tiling/test/tiles/metadata.yml\n",
      "2022-04-26 16:35:55,480 - INFO - luna.common.utils - Expanded input:\n",
      "2022-04-26 16:35:55,480 - INFO - luna.common.utils -  -> /home/kohlia/vmount/PRO_12-123/tiling/test/tiles\n",
      "2022-04-26 16:35:55,480 - INFO - luna.common.utils -  -> /home/kohlia/vmount/PRO_12-123/tiling/test/tiles/01OV002-bd8cdc70-3d46-40ae-99c4-90ef77.tiles.parquet\n",
      "2022-04-26 16:35:55,480 - INFO - luna.common.utils - Found segment keys: {'slide_id': '01OV002-bd8cdc70-3d46-40ae-99c4-90ef77'}\n",
      "2022-04-26 16:35:55,481 - INFO - luna.common.utils - Resolved input:\n",
      "2022-04-26 16:35:55,481 - INFO - luna.common.utils -  -> /home/kohlia/vmount/PRO_12-123/data/toy_data_set/01OV002-bd8cdc70-3d46-40ae-99c4-90ef77.svs\n",
      "2022-04-26 16:35:55,481 - INFO - luna.common.utils -  -> /home/kohlia/vmount/PRO_12-123/data/toy_data_set/01OV002-bd8cdc70-3d46-40ae-99c4-90ef77.svs\n",
      "2022-04-26 16:35:55,483 - INFO - luna.common.utils - Resolved input:\n",
      "2022-04-26 16:35:55,483 - INFO - luna.common.utils -  -> /home/kohlia/vmount/PRO_12-123/tiling/test/tiles/01OV002-bd8cdc70-3d46-40ae-99c4-90ef77.tiles.parquet\n",
      "2022-04-26 16:35:55,483 - INFO - luna.common.utils -  -> /home/kohlia/vmount/PRO_12-123/tiling/test/tiles/01OV002-bd8cdc70-3d46-40ae-99c4-90ef77.tiles.parquet\n",
      "2022-04-26 16:35:55,484 - INFO - luna.common.utils - Full segment key set: {'slide_id': '01OV002-bd8cdc70-3d46-40ae-99c4-90ef77'}\n",
      "2022-04-26 16:35:55,485 - INFO - luna.common.utils - ------------------------------------------------------------\n",
      "2022-04-26 16:35:55,485 - INFO - luna.common.utils -  Starting transform::detect_tissue \n",
      "2022-04-26 16:35:55,485 - INFO - luna.common.utils - ------------------------------------------------------------\n",
      "2022-04-26 16:35:55,637 - INFO - detect_tissue - Slide dimensions (53760, 54840)\n",
      "2022-04-26 16:35:55,638 - INFO - detect_tissue - Thumbnail scale factor: 20.0\n",
      "2022-04-26 16:35:57,037 - INFO - detect_tissue - Sample array size: (2742, 2688, 3)\n",
      "2022-04-26 16:36:10,144 - INFO - detect_tissue - Starting otsu thresholding, threshold=0.7300508425245098\n",
      "100%|████████████████████████████████████| 44304/44304 [00:55<00:00, 796.02it/s]\n",
      "2022-04-26 16:37:10,161 - INFO - detect_tissue - Filtering based on query: otsu_score > 0.1\n",
      "2022-04-26 16:37:10,172 - INFO - detect_tissue -                  x_coord  y_coord  xy_extent  tile_size tile_units  otsu_score\n",
      "2022-04-26 16:37:10,172 - INFO - detect_tissue - address                                                                       \n",
      "2022-04-26 16:37:10,172 - INFO - detect_tissue - x3_y58_z20.0         768    14848        256        128         px        0.16\n",
      "2022-04-26 16:37:10,172 - INFO - detect_tissue - x6_y171_z20.0       1536    43776        256        128         px        0.16\n",
      "2022-04-26 16:37:10,172 - INFO - detect_tissue - x6_y172_z20.0       1536    44032        256        128         px        0.47\n",
      "2022-04-26 16:37:10,172 - INFO - detect_tissue - x6_y173_z20.0       1536    44288        256        128         px        0.45\n",
      "2022-04-26 16:37:10,172 - INFO - detect_tissue - x6_y174_z20.0       1536    44544        256        128         px        0.35\n",
      "2022-04-26 16:37:10,172 - INFO - detect_tissue - ...                  ...      ...        ...        ...        ...         ...\n",
      "2022-04-26 16:37:10,172 - INFO - detect_tissue - x188_y118_z20.0    48128    30208        256        128         px        0.21\n",
      "2022-04-26 16:37:10,172 - INFO - detect_tissue - x193_y206_z20.0    49408    52736        256        128         px        0.14\n",
      "2022-04-26 16:37:10,172 - INFO - detect_tissue - x200_y167_z20.0    51200    42752        256        128         px        0.15\n",
      "2022-04-26 16:37:10,172 - INFO - detect_tissue - x201_y198_z20.0    51456    50688        256        128         px        0.12\n",
      "2022-04-26 16:37:10,172 - INFO - detect_tissue - x207_y208_z20.0    52992    53248        256        128         px        0.11\n",
      "2022-04-26 16:37:10,172 - INFO - detect_tissue - \n",
      "2022-04-26 16:37:10,172 - INFO - detect_tissue - [19982 rows x 6 columns]\n",
      "2022-04-26 16:37:10,212 - INFO - luna.common.utils - Code block 'transform::detect_tissue' took: 74.76954779899825s\n",
      "2022-04-26 16:37:10,214 - INFO - luna.common.utils - ------------------------------------------------------------\n",
      "2022-04-26 16:37:10,214 - INFO - luna.common.utils -  Done with transform, running post-transform functions... \n",
      "2022-04-26 16:37:10,214 - INFO - luna.common.utils - ------------------------------------------------------------\n",
      "2022-04-26 16:37:10,219 - INFO - luna.common.utils - Done.\n"
     ]
    }
   ],
   "source": [
    "!detect_tissue \\\n",
    "~/vmount/PRO_12-123/data/toy_data_set/01OV002-bd8cdc70-3d46-40ae-99c4-90ef77.svs \\\n",
    "~/vmount/PRO_12-123/tiling/test/tiles \\\n",
    "--requested_magnification 2 \\\n",
    "--filter_query \"otsu_score > 0.1\" \\\n",
    "-o ~/vmount/PRO_12-123/tiling/test/detect"
   ]
  },
  {
   "cell_type": "code",
   "execution_count": 5,
   "metadata": {},
   "outputs": [
    {
     "name": "stdout",
     "output_type": "stream",
     "text": [
      "2022-04-26 16:37:11,807 - INFO - root - Initalized logger, log file at: data-processing.log\n",
      "2022-04-26 16:37:11,808 - INFO - luna.common.utils - Started CLI Runner wtih <function generate_tile_labels at 0x7f132c9f6820>\n",
      "2022-04-26 16:37:11,809 - INFO - luna.common.utils - Validating params...\n",
      "2022-04-26 16:37:11,810 - INFO - luna.common.utils -  -> Set input_slide_annotation_dataset (<class 'str'>) = ../PRO_12-123/data/toy_data_set/table/ANNOTATIONS\n",
      "2022-04-26 16:37:11,811 - INFO - luna.common.utils -  -> Set input_slide_tiles (<class 'str'>) = /home/kohlia/vmount/PRO_12-123/tiling/test/detect\n",
      "2022-04-26 16:37:11,812 - INFO - luna.common.utils -  -> Set output_dir (<class 'str'>) = /home/kohlia/vmount/PRO_12-123/tiling/test/label\n",
      "2022-04-26 16:37:11,814 - INFO - luna.common.utils - Expanding inputs...\n",
      "2022-04-26 16:37:11,814 - INFO - luna.common.utils - Attempting to read metadata at ../PRO_12-123/data/toy_data_set/table/ANNOTATIONS/metadata.yml\n",
      "2022-04-26 16:37:11,818 - INFO - luna.common.utils - Expanded input:\n",
      "2022-04-26 16:37:11,818 - INFO - luna.common.utils -  -> ../PRO_12-123/data/toy_data_set/table/ANNOTATIONS\n",
      "2022-04-26 16:37:11,818 - INFO - luna.common.utils -  -> ../PRO_12-123/data/toy_data_set/table/ANNOTATIONS/slide_annotation_dataset_TCGA collection_ov_regional.parquet\n",
      "2022-04-26 16:37:11,819 - INFO - luna.common.utils - Found segment keys: {'dsa_collection_uuid': '62681d02787e8d61b58adf2b'}\n",
      "2022-04-26 16:37:11,820 - INFO - luna.common.utils - Attempting to read metadata at /home/kohlia/vmount/PRO_12-123/tiling/test/detect/metadata.yml\n",
      "2022-04-26 16:37:11,823 - INFO - luna.common.utils - Expanded input:\n",
      "2022-04-26 16:37:11,823 - INFO - luna.common.utils -  -> /home/kohlia/vmount/PRO_12-123/tiling/test/detect\n",
      "2022-04-26 16:37:11,823 - INFO - luna.common.utils -  -> /home/kohlia/vmount/PRO_12-123/tiling/test/detect/01OV002-bd8cdc70-3d46-40ae-99c4-90ef77-filtered.tiles.parquet\n",
      "2022-04-26 16:37:11,824 - INFO - luna.common.utils - Found segment keys: {'slide_id': '01OV002-bd8cdc70-3d46-40ae-99c4-90ef77'}\n",
      "2022-04-26 16:37:11,825 - INFO - luna.common.utils - Resolved input:\n",
      "2022-04-26 16:37:11,825 - INFO - luna.common.utils -  -> ../PRO_12-123/data/toy_data_set/table/ANNOTATIONS/slide_annotation_dataset_TCGA collection_ov_regional.parquet\n",
      "2022-04-26 16:37:11,825 - INFO - luna.common.utils -  -> /home/kohlia/vmount/PRO_12-123/data/toy_data_set/table/ANNOTATIONS/slide_annotation_dataset_TCGA collection_ov_regional.parquet\n",
      "2022-04-26 16:37:11,826 - INFO - luna.common.utils - Resolved input:\n",
      "2022-04-26 16:37:11,826 - INFO - luna.common.utils -  -> /home/kohlia/vmount/PRO_12-123/tiling/test/detect/01OV002-bd8cdc70-3d46-40ae-99c4-90ef77-filtered.tiles.parquet\n",
      "2022-04-26 16:37:11,826 - INFO - luna.common.utils -  -> /home/kohlia/vmount/PRO_12-123/tiling/test/detect/01OV002-bd8cdc70-3d46-40ae-99c4-90ef77-filtered.tiles.parquet\n",
      "2022-04-26 16:37:11,827 - INFO - luna.common.utils - Full segment key set: {'dsa_collection_uuid': '62681d02787e8d61b58adf2b', 'slide_id': '01OV002-bd8cdc70-3d46-40ae-99c4-90ef77'}\n",
      "2022-04-26 16:37:11,828 - INFO - luna.common.utils - ------------------------------------------------------------\n",
      "2022-04-26 16:37:11,828 - INFO - luna.common.utils -  Starting transform::generate_tile_labels \n",
      "2022-04-26 16:37:11,828 - INFO - luna.common.utils - ------------------------------------------------------------\n",
      "2022-04-26 16:37:11,829 - INFO - generate_tile_labels - slide_id=01OV002-bd8cdc70-3d46-40ae-99c4-90ef77\n",
      "../PRO_12-123/data/toy_data_set/table/ANNOTATIONS/01OV002-bd8cdc70-3d46-40ae-99c4-90ef77.annotation.geojson TCGA collection ov_regional\n",
      "100%|███████████████████████████████████| 19982/19982 [00:03<00:00, 5271.44it/s]\n",
      "2022-04-26 16:37:15,693 - INFO - generate_tile_labels -                  x_coord  y_coord  ...  regional_label  intersection_area\n",
      "2022-04-26 16:37:15,693 - INFO - generate_tile_labels - address                            ...                                   \n",
      "2022-04-26 16:37:15,693 - INFO - generate_tile_labels - x52_y114_z20.0     13312    29184  ...          stroma           0.055345\n",
      "2022-04-26 16:37:15,693 - INFO - generate_tile_labels - x53_y113_z20.0     13568    28928  ...          stroma           0.212376\n",
      "2022-04-26 16:37:15,693 - INFO - generate_tile_labels - x53_y114_z20.0     13568    29184  ...          stroma           0.965976\n",
      "2022-04-26 16:37:15,693 - INFO - generate_tile_labels - x53_y115_z20.0     13568    29440  ...          stroma           0.344496\n",
      "2022-04-26 16:37:15,693 - INFO - generate_tile_labels - x54_y112_z20.0     13824    28672  ...          stroma           0.061422\n",
      "2022-04-26 16:37:15,693 - INFO - generate_tile_labels - ...                  ...      ...  ...             ...                ...\n",
      "2022-04-26 16:37:15,693 - INFO - generate_tile_labels - x131_y146_z20.0    33536    37376  ...           tumor           0.166847\n",
      "2022-04-26 16:37:15,693 - INFO - generate_tile_labels - x131_y147_z20.0    33536    37632  ...           tumor           0.096977\n",
      "2022-04-26 16:37:15,693 - INFO - generate_tile_labels - x132_y140_z20.0    33792    35840  ...           tumor           0.245755\n",
      "2022-04-26 16:37:15,693 - INFO - generate_tile_labels - x132_y141_z20.0    33792    36096  ...           tumor           0.504036\n",
      "2022-04-26 16:37:15,693 - INFO - generate_tile_labels - x132_y142_z20.0    33792    36352  ...           tumor           0.250175\n",
      "2022-04-26 16:37:15,693 - INFO - generate_tile_labels - \n",
      "2022-04-26 16:37:15,693 - INFO - generate_tile_labels - [513 rows x 8 columns]\n",
      "2022-04-26 16:37:15,727 - INFO - luna.common.utils - Code block 'transform::generate_tile_labels' took: 3.8981814600010694s\n",
      "2022-04-26 16:37:15,728 - INFO - luna.common.utils - ------------------------------------------------------------\n",
      "2022-04-26 16:37:15,728 - INFO - luna.common.utils -  Done with transform, running post-transform functions... \n",
      "2022-04-26 16:37:15,728 - INFO - luna.common.utils - ------------------------------------------------------------\n",
      "2022-04-26 16:37:15,731 - INFO - luna.common.utils - Done.\n"
     ]
    }
   ],
   "source": [
    "!label_tiles \\\n",
    "../PRO_12-123/data/toy_data_set/table/ANNOTATIONS ~/vmount/PRO_12-123/tiling/test/detect \\\n",
    "-o ~/vmount/PRO_12-123/tiling/test/label"
   ]
  },
  {
   "cell_type": "code",
   "execution_count": 6,
   "metadata": {
    "scrolled": false
   },
   "outputs": [
    {
     "name": "stdout",
     "output_type": "stream",
     "text": [
      "2022-04-26 16:37:17,011 - INFO - root - Initalized logger, log file at: data-processing.log\n",
      "2022-04-26 16:37:18,494 - INFO - luna.common.utils - Started CLI Runner wtih <function save_tiles at 0x7f29666109d0>\n",
      "2022-04-26 16:37:18,495 - INFO - luna.common.utils - Validating params...\n",
      "2022-04-26 16:37:18,496 - INFO - luna.common.utils -  -> Set input_slide_image (<class 'str'>) = /home/kohlia/vmount/PRO_12-123/data/toy_data_set/01OV002-bd8cdc70-3d46-40ae-99c4-90ef77.svs\n",
      "2022-04-26 16:37:18,497 - INFO - luna.common.utils -  -> Set input_slide_tiles (<class 'str'>) = /home/kohlia/vmount/PRO_12-123/tiling/test/label\n",
      "2022-04-26 16:37:18,498 - INFO - luna.common.utils -  -> Set output_dir (<class 'str'>) = /home/kohlia/vmount/PRO_12-123/tiling/test/saved_tiles\n",
      "2022-04-26 16:37:18,499 - INFO - luna.common.utils -  -> Set num_cores (<class 'int'>) = 16\n",
      "2022-04-26 16:37:18,500 - INFO - luna.common.utils -  -> Set batch_size (<class 'int'>) = 200\n",
      "2022-04-26 16:37:18,501 - INFO - luna.common.utils - Expanding inputs...\n",
      "2022-04-26 16:37:18,502 - INFO - luna.common.utils - Attempting to read metadata at /home/kohlia/vmount/PRO_12-123/data/toy_data_set/01OV002-bd8cdc70-3d46-40ae-99c4-90ef77.svs/metadata.yml\n",
      "2022-04-26 16:37:18,503 - INFO - luna.common.utils - Attempting to read metadata at /home/kohlia/vmount/PRO_12-123/tiling/test/label/metadata.yml\n",
      "2022-04-26 16:37:18,506 - INFO - luna.common.utils - Expanded input:\n",
      "2022-04-26 16:37:18,506 - INFO - luna.common.utils -  -> /home/kohlia/vmount/PRO_12-123/tiling/test/label\n",
      "2022-04-26 16:37:18,506 - INFO - luna.common.utils -  -> /home/kohlia/vmount/PRO_12-123/tiling/test/label/01OV002-bd8cdc70-3d46-40ae-99c4-90ef77.regional_label.tiles.parquet\n",
      "2022-04-26 16:37:18,507 - INFO - luna.common.utils - Found segment keys: {'dsa_collection_uuid': '62681d02787e8d61b58adf2b', 'slide_id': '01OV002-bd8cdc70-3d46-40ae-99c4-90ef77'}\n",
      "2022-04-26 16:37:18,508 - INFO - luna.common.utils - Resolved input:\n",
      "2022-04-26 16:37:18,508 - INFO - luna.common.utils -  -> /home/kohlia/vmount/PRO_12-123/data/toy_data_set/01OV002-bd8cdc70-3d46-40ae-99c4-90ef77.svs\n",
      "2022-04-26 16:37:18,508 - INFO - luna.common.utils -  -> /home/kohlia/vmount/PRO_12-123/data/toy_data_set/01OV002-bd8cdc70-3d46-40ae-99c4-90ef77.svs\n",
      "2022-04-26 16:37:18,509 - INFO - luna.common.utils - Resolved input:\n",
      "2022-04-26 16:37:18,509 - INFO - luna.common.utils -  -> /home/kohlia/vmount/PRO_12-123/tiling/test/label/01OV002-bd8cdc70-3d46-40ae-99c4-90ef77.regional_label.tiles.parquet\n",
      "2022-04-26 16:37:18,509 - INFO - luna.common.utils -  -> /home/kohlia/vmount/PRO_12-123/tiling/test/label/01OV002-bd8cdc70-3d46-40ae-99c4-90ef77.regional_label.tiles.parquet\n",
      "2022-04-26 16:37:18,510 - INFO - luna.common.utils - Full segment key set: {'dsa_collection_uuid': '62681d02787e8d61b58adf2b', 'slide_id': '01OV002-bd8cdc70-3d46-40ae-99c4-90ef77'}\n",
      "2022-04-26 16:37:18,511 - INFO - luna.common.utils - ------------------------------------------------------------\n",
      "2022-04-26 16:37:18,511 - INFO - luna.common.utils -  Starting transform::save_tiles \n",
      "2022-04-26 16:37:18,511 - INFO - luna.common.utils - ------------------------------------------------------------\n",
      "2022-04-26 16:37:18,546 - INFO - generate_tiles - Now generating tiles with num_cores=16 and batch_size=200!\n",
      "2022-04-26 16:37:18,547 - WARNING - generate_tiles - /home/kohlia/vmount/PRO_12-123/tiling/test/saved_tiles/01OV002-bd8cdc70-3d46-40ae-99c4-90ef77.tiles.h5 already exists, deleting the file..\n",
      "100%|█████████████████████████████████████████| 100/100 [00:53<00:00,  1.86it/s]\n",
      "2022-04-26 16:38:14,155 - INFO - generate_tiles -                  x_coord  ...                                         tile_store\n",
      "2022-04-26 16:38:14,155 - INFO - generate_tiles - address                   ...                                                   \n",
      "2022-04-26 16:38:14,155 - INFO - generate_tiles - x3_y58_z20.0         768  ...  /home/kohlia/vmount/PRO_12-123/tiling/test/sav...\n",
      "2022-04-26 16:38:14,155 - INFO - generate_tiles - x6_y171_z20.0       1536  ...  /home/kohlia/vmount/PRO_12-123/tiling/test/sav...\n",
      "2022-04-26 16:38:14,155 - INFO - generate_tiles - x6_y172_z20.0       1536  ...  /home/kohlia/vmount/PRO_12-123/tiling/test/sav...\n",
      "2022-04-26 16:38:14,155 - INFO - generate_tiles - x6_y173_z20.0       1536  ...  /home/kohlia/vmount/PRO_12-123/tiling/test/sav...\n",
      "2022-04-26 16:38:14,155 - INFO - generate_tiles - x6_y174_z20.0       1536  ...  /home/kohlia/vmount/PRO_12-123/tiling/test/sav...\n",
      "2022-04-26 16:38:14,155 - INFO - generate_tiles - ...                  ...  ...                                                ...\n",
      "2022-04-26 16:38:14,155 - INFO - generate_tiles - x188_y118_z20.0    48128  ...  /home/kohlia/vmount/PRO_12-123/tiling/test/sav...\n",
      "2022-04-26 16:38:14,155 - INFO - generate_tiles - x193_y206_z20.0    49408  ...  /home/kohlia/vmount/PRO_12-123/tiling/test/sav...\n",
      "2022-04-26 16:38:14,155 - INFO - generate_tiles - x200_y167_z20.0    51200  ...  /home/kohlia/vmount/PRO_12-123/tiling/test/sav...\n",
      "2022-04-26 16:38:14,155 - INFO - generate_tiles - x201_y198_z20.0    51456  ...  /home/kohlia/vmount/PRO_12-123/tiling/test/sav...\n",
      "2022-04-26 16:38:14,155 - INFO - generate_tiles - x207_y208_z20.0    52992  ...  /home/kohlia/vmount/PRO_12-123/tiling/test/sav...\n",
      "2022-04-26 16:38:14,155 - INFO - generate_tiles - \n",
      "2022-04-26 16:38:14,155 - INFO - generate_tiles - [19982 rows x 9 columns]\n",
      "2022-04-26 16:38:14,218 - INFO - luna.common.utils - Code block 'transform::save_tiles' took: 55.74813529600215s\n",
      "2022-04-26 16:38:14,219 - INFO - luna.common.utils - ------------------------------------------------------------\n",
      "2022-04-26 16:38:14,219 - INFO - luna.common.utils -  Done with transform, running post-transform functions... \n",
      "2022-04-26 16:38:14,219 - INFO - luna.common.utils - ------------------------------------------------------------\n",
      "2022-04-26 16:38:14,227 - INFO - luna.common.utils - Adding feature segment /home/kohlia/vmount/PRO_12-123/tiling/test/saved_tiles/01OV002-bd8cdc70-3d46-40ae-99c4-90ef77.tiles.parquet to PRO_TILES\n",
      "2022-04-26 16:38:14,228 - INFO - luna.common.utils - Found dataset URL = file:////home/kohlia/vmount/PRO_12-123/\n",
      "2022-04-26 16:38:14,229 - INFO - luna.common.utils - Adding /home/kohlia/vmount/PRO_12-123/tiling/test/saved_tiles/01OV002-bd8cdc70-3d46-40ae-99c4-90ef77.tiles.parquet to PRO_TILES via file:////home/kohlia/vmount/PRO_12-123/\n",
      "2022-04-26 16:38:14,230 - INFO - luna.common.utils - SEGMENT_ID=62681d02787e8d61b58adf2b-01OV002-bd8cdc70-3d46-40ae-99c4-90ef77\n",
      "2022-04-26 16:38:14,231 - INFO - luna.common.utils - Writing to: //home/kohlia/vmount/PRO_12-123/datasets/PRO_TILES/segments/62681d02787e8d61b58adf2b-01OV002-bd8cdc70-3d46-40ae-99c4-90ef77\n",
      "2022-04-26 16:38:14,309 - INFO - luna.common.utils - Done.\n"
     ]
    }
   ],
   "source": [
    "!save_tiles \\\n",
    "~/vmount/PRO_12-123/data/toy_data_set/01OV002-bd8cdc70-3d46-40ae-99c4-90ef77.svs \\\n",
    "~/vmount/PRO_12-123/tiling/test/label \\\n",
    "--num_cores 16 --batch_size 200 --dataset_id PRO_TILES \\\n",
    "-o ~/vmount/PRO_12-123/tiling/test/saved_tiles"
   ]
  },
  {
   "cell_type": "code",
   "execution_count": 7,
   "metadata": {
    "scrolled": false
   },
   "outputs": [],
   "source": [
    "from luna.common.utils import LunaCliClient\n",
    "\n",
    "def pipeline (slide_id, input_slide, input_annotations):\n",
    "    client = LunaCliClient(\"~/vmount/PRO_12-123/tiling\", slide_id)\n",
    "    \n",
    "    client.bootstrap(\"slide\", input_slide)\n",
    "    client.bootstrap(\"annotations\", input_annotations)\n",
    "    \n",
    "    client.configure(\"generate_tiles\", \"slide\", \n",
    "        tile_size=128, \n",
    "        requested_magnification=20\n",
    "    ).run(\"source_tiles\")\n",
    "\n",
    "    client.configure(\"detect_tissue\", \"slide\", \"source_tiles\",\n",
    "        filter_query=\"otsu_score > 0.1\", \n",
    "        requested_magnification=2\n",
    "    ).run(\"detected_tiles\")\n",
    "\n",
    "    client.configure(\"label_tiles\", \"annotations\", \"detected_tiles\").run(\"labled_tiles\")\n",
    "\n",
    "    client.configure( \"save_tiles\", \"slide\", \"labled_tiles\",\n",
    "        num_cores=16, batch_size=200, dataset_id='PRO_TILES_LABLED'\n",
    "    ).run(\"saved_tiles\")"
   ]
  },
  {
   "cell_type": "code",
   "execution_count": 8,
   "metadata": {
    "scrolled": true
   },
   "outputs": [
    {
     "name": "stdout",
     "output_type": "stream",
     "text": [
      "01OV008-308ad404-7079-4ff8-8232-12ee2e\n",
      "generate_tiles file:/home/kohlia/vmount/PRO_12-123/data/toy_data_set/01OV008-308ad404-7079-4ff8-8232-12ee2e.svs --tile_size 128 --requested_magnification 20\n",
      "['generate_tiles', PosixPath('file:/home/kohlia/vmount/PRO_12-123/data/toy_data_set/01OV008-308ad404-7079-4ff8-8232-12ee2e.svs'), '--tile_size', '128', '--requested_magnification', '20', '-o', '/home/kohlia/vmount/PRO_12-123/tiling/01OV008-308ad404-7079-4ff8-8232-12ee2e/source_tiles']\n",
      "01OV002-ed65cf94-8bc6-492b-9149-adc16f\n",
      "generate_tiles file:/home/kohlia/vmount/PRO_12-123/data/toy_data_set/01OV002-ed65cf94-8bc6-492b-9149-adc16f.svs --tile_size 128 --requested_magnification 20\n",
      "['generate_tiles', PosixPath('file:/home/kohlia/vmount/PRO_12-123/data/toy_data_set/01OV002-ed65cf94-8bc6-492b-9149-adc16f.svs'), '--tile_size', '128', '--requested_magnification', '20', '-o', '/home/kohlia/vmount/PRO_12-123/tiling/01OV002-ed65cf94-8bc6-492b-9149-adc16f/source_tiles']\n",
      "01OV002-bd8cdc70-3d46-40ae-99c4-90ef77\n",
      "generate_tiles file:/home/kohlia/vmount/PRO_12-123/data/toy_data_set/01OV002-bd8cdc70-3d46-40ae-99c4-90ef77.svs --tile_size 128 --requested_magnification 20\n",
      "['generate_tiles', PosixPath('file:/home/kohlia/vmount/PRO_12-123/data/toy_data_set/01OV002-bd8cdc70-3d46-40ae-99c4-90ef77.svs'), '--tile_size', '128', '--requested_magnification', '20', '-o', '/home/kohlia/vmount/PRO_12-123/tiling/01OV002-bd8cdc70-3d46-40ae-99c4-90ef77/source_tiles']\n",
      "01OV007-9b90eb78-2f50-4aeb-b010-d642f9\n",
      "generate_tiles file:/home/kohlia/vmount/PRO_12-123/data/toy_data_set/01OV007-9b90eb78-2f50-4aeb-b010-d642f9.svs --tile_size 128 --requested_magnification 20\n",
      "['generate_tiles', PosixPath('file:/home/kohlia/vmount/PRO_12-123/data/toy_data_set/01OV007-9b90eb78-2f50-4aeb-b010-d642f9.svs'), '--tile_size', '128', '--requested_magnification', '20', '-o', '/home/kohlia/vmount/PRO_12-123/tiling/01OV007-9b90eb78-2f50-4aeb-b010-d642f9/source_tiles']\n",
      "01OV008-7579323e-2fae-43a9-b00f-a15c28\n",
      "generate_tiles file:/home/kohlia/vmount/PRO_12-123/data/toy_data_set/01OV008-7579323e-2fae-43a9-b00f-a15c28.svs --tile_size 128 --requested_magnification 20\n",
      "['generate_tiles', PosixPath('file:/home/kohlia/vmount/PRO_12-123/data/toy_data_set/01OV008-7579323e-2fae-43a9-b00f-a15c28.svs'), '--tile_size', '128', '--requested_magnification', '20', '-o', '/home/kohlia/vmount/PRO_12-123/tiling/01OV008-7579323e-2fae-43a9-b00f-a15c28/source_tiles']\n"
     ]
    },
    {
     "name": "stderr",
     "output_type": "stream",
     "text": [
      "2022-04-26 16:38:16,380 - INFO - root - Initalized logger, log file at: data-processing.log\n",
      "2022-04-26 16:38:16,385 - INFO - root - Initalized logger, log file at: data-processing.log\n",
      "2022-04-26 16:38:16,387 - INFO - root - Initalized logger, log file at: data-processing.log\n",
      "2022-04-26 16:38:16,387 - INFO - root - Initalized logger, log file at: data-processing.log\n",
      "2022-04-26 16:38:16,389 - INFO - root - Initalized logger, log file at: data-processing.log\n",
      "2022-04-26 16:38:18,304 - INFO - luna.common.utils - Started CLI Runner wtih <function generate_tiles at 0x7f3720ecb430>\n",
      "2022-04-26 16:38:18,306 - INFO - luna.common.utils - Validating params...\n",
      "2022-04-26 16:38:18,306 - INFO - luna.common.utils - Started CLI Runner wtih <function generate_tiles at 0x7fde7bda6430>\n",
      "2022-04-26 16:38:18,307 - INFO - luna.common.utils - Started CLI Runner wtih <function generate_tiles at 0x7f7e48ae2430>\n",
      "2022-04-26 16:38:18,307 - INFO - luna.common.utils -  -> Set input_slide_image (<class 'str'>) = file:/home/kohlia/vmount/PRO_12-123/data/toy_data_set/01OV007-9b90eb78-2f50-4aeb-b010-d642f9.svs\n",
      "2022-04-26 16:38:18,308 - INFO - luna.common.utils - Started CLI Runner wtih <function generate_tiles at 0x7f5004cca430>\n",
      "2022-04-26 16:38:18,308 - INFO - luna.common.utils - Validating params...\n",
      "2022-04-26 16:38:18,309 - INFO - luna.common.utils - Validating params...\n",
      "2022-04-26 16:38:18,310 - INFO - luna.common.utils -  -> Set output_dir (<class 'str'>) = /home/kohlia/vmount/PRO_12-123/tiling/01OV007-9b90eb78-2f50-4aeb-b010-d642f9/source_tiles\n",
      "2022-04-26 16:38:18,311 - INFO - luna.common.utils -  -> Set input_slide_image (<class 'str'>) = file:/home/kohlia/vmount/PRO_12-123/data/toy_data_set/01OV008-7579323e-2fae-43a9-b00f-a15c28.svs\n",
      "2022-04-26 16:38:18,310 - INFO - luna.common.utils - Started CLI Runner wtih <function generate_tiles at 0x7f73b18c9430>\n",
      "2022-04-26 16:38:18,313 - INFO - luna.common.utils - Validating params...\n",
      "2022-04-26 16:38:18,315 - INFO - luna.common.utils -  -> Set input_slide_image (<class 'str'>) = file:/home/kohlia/vmount/PRO_12-123/data/toy_data_set/01OV008-308ad404-7079-4ff8-8232-12ee2e.svs\n",
      "2022-04-26 16:38:18,315 - INFO - luna.common.utils -  -> Set output_dir (<class 'str'>) = /home/kohlia/vmount/PRO_12-123/tiling/01OV008-7579323e-2fae-43a9-b00f-a15c28/source_tiles\n",
      "2022-04-26 16:38:18,316 - INFO - luna.common.utils -  -> Set tile_size (<class 'int'>) = 128\n",
      "2022-04-26 16:38:18,317 - INFO - luna.common.utils -  -> Set tile_size (<class 'int'>) = 128\n",
      "2022-04-26 16:38:18,318 - INFO - luna.common.utils - Validating params...\n",
      "2022-04-26 16:38:18,320 - INFO - luna.common.utils -  -> Set input_slide_image (<class 'str'>) = file:/home/kohlia/vmount/PRO_12-123/data/toy_data_set/01OV002-ed65cf94-8bc6-492b-9149-adc16f.svs\n",
      "2022-04-26 16:38:18,321 - INFO - luna.common.utils -  -> Set output_dir (<class 'str'>) = /home/kohlia/vmount/PRO_12-123/tiling/01OV008-308ad404-7079-4ff8-8232-12ee2e/source_tiles\n",
      "2022-04-26 16:38:18,322 - INFO - luna.common.utils -  -> Set requested_magnification (<class 'float'>) = 20.0\n",
      "2022-04-26 16:38:18,322 - INFO - luna.common.utils -  -> Set output_dir (<class 'str'>) = /home/kohlia/vmount/PRO_12-123/tiling/01OV002-ed65cf94-8bc6-492b-9149-adc16f/source_tiles\n",
      "2022-04-26 16:38:18,322 - INFO - luna.common.utils -  -> Set input_slide_image (<class 'str'>) = file:/home/kohlia/vmount/PRO_12-123/data/toy_data_set/01OV002-bd8cdc70-3d46-40ae-99c4-90ef77.svs\n",
      "2022-04-26 16:38:18,323 - INFO - luna.common.utils -  -> Set requested_magnification (<class 'float'>) = 20.0\n",
      "2022-04-26 16:38:18,325 - INFO - luna.common.utils -  -> Set tile_size (<class 'int'>) = 128\n",
      "2022-04-26 16:38:18,325 - INFO - luna.common.utils - Expanding inputs...\n",
      "2022-04-26 16:38:18,325 - INFO - luna.common.utils -  -> Set tile_size (<class 'int'>) = 128\n",
      "2022-04-26 16:38:18,325 - INFO - luna.common.utils -  -> Set output_dir (<class 'str'>) = /home/kohlia/vmount/PRO_12-123/tiling/01OV002-bd8cdc70-3d46-40ae-99c4-90ef77/source_tiles\n",
      "2022-04-26 16:38:18,327 - INFO - luna.common.utils - Attempting to read metadata at file:/home/kohlia/vmount/PRO_12-123/data/toy_data_set/01OV007-9b90eb78-2f50-4aeb-b010-d642f9.svs/metadata.yml\n",
      "2022-04-26 16:38:18,328 - INFO - luna.common.utils - Expanding inputs...\n",
      "2022-04-26 16:38:18,330 - INFO - luna.common.utils -  -> Set requested_magnification (<class 'float'>) = 20.0\n",
      "2022-04-26 16:38:18,331 - INFO - luna.common.utils -  -> Set tile_size (<class 'int'>) = 128\n",
      "2022-04-26 16:38:18,333 - INFO - luna.common.utils - Resolved input:\n",
      "2022-04-26 16:38:18,333 - INFO - luna.common.utils -  -> file:/home/kohlia/vmount/PRO_12-123/data/toy_data_set/01OV007-9b90eb78-2f50-4aeb-b010-d642f9.svs\n",
      "2022-04-26 16:38:18,333 - INFO - luna.common.utils -  -> /home/kohlia/vmount/PRO_12-123/data/toy_data_set/01OV007-9b90eb78-2f50-4aeb-b010-d642f9.svs\n",
      "2022-04-26 16:38:18,333 - INFO - luna.common.utils -  -> Set requested_magnification (<class 'float'>) = 20.0\n",
      "2022-04-26 16:38:18,334 - INFO - luna.common.utils - Attempting to read metadata at file:/home/kohlia/vmount/PRO_12-123/data/toy_data_set/01OV008-7579323e-2fae-43a9-b00f-a15c28.svs/metadata.yml\n",
      "2022-04-26 16:38:18,336 - INFO - luna.common.utils -  -> Set requested_magnification (<class 'float'>) = 20.0\n",
      "2022-04-26 16:38:18,336 - INFO - luna.common.utils - Expanding inputs...\n",
      "2022-04-26 16:38:18,337 - INFO - luna.common.utils - Full segment key set: {}\n",
      "2022-04-26 16:38:18,340 - INFO - luna.common.utils - Expanding inputs...\n",
      "2022-04-26 16:38:18,340 - INFO - luna.common.utils - Resolved input:\n",
      "2022-04-26 16:38:18,340 - INFO - luna.common.utils -  -> file:/home/kohlia/vmount/PRO_12-123/data/toy_data_set/01OV008-7579323e-2fae-43a9-b00f-a15c28.svs\n",
      "2022-04-26 16:38:18,340 - INFO - luna.common.utils -  -> /home/kohlia/vmount/PRO_12-123/data/toy_data_set/01OV008-7579323e-2fae-43a9-b00f-a15c28.svs\n",
      "2022-04-26 16:38:18,341 - INFO - luna.common.utils - Attempting to read metadata at file:/home/kohlia/vmount/PRO_12-123/data/toy_data_set/01OV002-ed65cf94-8bc6-492b-9149-adc16f.svs/metadata.yml\n",
      "2022-04-26 16:38:18,342 - INFO - luna.common.utils - Expanding inputs...\n",
      "2022-04-26 16:38:18,342 - INFO - luna.common.utils - ------------------------------------------------------------\n",
      "2022-04-26 16:38:18,342 - INFO - luna.common.utils -  Starting transform::generate_tiles \n",
      "2022-04-26 16:38:18,342 - INFO - luna.common.utils - ------------------------------------------------------------\n",
      "2022-04-26 16:38:18,345 - INFO - luna.common.utils - Attempting to read metadata at file:/home/kohlia/vmount/PRO_12-123/data/toy_data_set/01OV008-308ad404-7079-4ff8-8232-12ee2e.svs/metadata.yml\n",
      "2022-04-26 16:38:18,346 - INFO - luna.common.utils - Attempting to read metadata at file:/home/kohlia/vmount/PRO_12-123/data/toy_data_set/01OV002-bd8cdc70-3d46-40ae-99c4-90ef77.svs/metadata.yml\n",
      "2022-04-26 16:38:18,347 - INFO - luna.common.utils - Full segment key set: {}\n",
      "2022-04-26 16:38:18,349 - INFO - luna.common.utils - Resolved input:\n",
      "2022-04-26 16:38:18,349 - INFO - luna.common.utils -  -> file:/home/kohlia/vmount/PRO_12-123/data/toy_data_set/01OV002-ed65cf94-8bc6-492b-9149-adc16f.svs\n",
      "2022-04-26 16:38:18,349 - INFO - luna.common.utils -  -> /home/kohlia/vmount/PRO_12-123/data/toy_data_set/01OV002-ed65cf94-8bc6-492b-9149-adc16f.svs\n",
      "2022-04-26 16:38:18,349 - INFO - luna.common.utils - Resolved input:\n",
      "2022-04-26 16:38:18,349 - INFO - luna.common.utils -  -> file:/home/kohlia/vmount/PRO_12-123/data/toy_data_set/01OV008-308ad404-7079-4ff8-8232-12ee2e.svs\n",
      "2022-04-26 16:38:18,349 - INFO - luna.common.utils -  -> /home/kohlia/vmount/PRO_12-123/data/toy_data_set/01OV008-308ad404-7079-4ff8-8232-12ee2e.svs\n",
      "2022-04-26 16:38:18,350 - INFO - luna.common.utils - ------------------------------------------------------------\n",
      "2022-04-26 16:38:18,350 - INFO - luna.common.utils -  Starting transform::generate_tiles \n",
      "2022-04-26 16:38:18,350 - INFO - luna.common.utils - ------------------------------------------------------------\n",
      "2022-04-26 16:38:18,350 - INFO - luna.common.utils - Resolved input:\n",
      "2022-04-26 16:38:18,350 - INFO - luna.common.utils -  -> file:/home/kohlia/vmount/PRO_12-123/data/toy_data_set/01OV002-bd8cdc70-3d46-40ae-99c4-90ef77.svs\n",
      "2022-04-26 16:38:18,350 - INFO - luna.common.utils -  -> /home/kohlia/vmount/PRO_12-123/data/toy_data_set/01OV002-bd8cdc70-3d46-40ae-99c4-90ef77.svs\n",
      "2022-04-26 16:38:18,353 - INFO - luna.common.utils - Full segment key set: {}\n",
      "2022-04-26 16:38:18,355 - INFO - luna.common.utils - Full segment key set: {}\n",
      "2022-04-26 16:38:18,358 - INFO - luna.common.utils - ------------------------------------------------------------\n",
      "2022-04-26 16:38:18,358 - INFO - luna.common.utils -  Starting transform::generate_tiles \n",
      "2022-04-26 16:38:18,358 - INFO - luna.common.utils - ------------------------------------------------------------\n",
      "2022-04-26 16:38:18,360 - INFO - luna.common.utils - Full segment key set: {}\n",
      "2022-04-26 16:38:18,361 - INFO - luna.common.utils - ------------------------------------------------------------\n",
      "2022-04-26 16:38:18,361 - INFO - luna.common.utils -  Starting transform::generate_tiles \n",
      "2022-04-26 16:38:18,361 - INFO - luna.common.utils - ------------------------------------------------------------\n",
      "2022-04-26 16:38:18,364 - INFO - luna.common.utils - ------------------------------------------------------------\n",
      "2022-04-26 16:38:18,364 - INFO - luna.common.utils -  Starting transform::generate_tiles \n",
      "2022-04-26 16:38:18,364 - INFO - luna.common.utils - ------------------------------------------------------------\n"
     ]
    },
    {
     "name": "stderr",
     "output_type": "stream",
     "text": [
      "2022-04-26 16:38:18,619 - INFO - generate_tiles - Slide size = [42240,59209]\n",
      "2022-04-26 16:38:18,625 - INFO - generate_tiles - Normalized magnification scale factor for 20.0x is 2.0\n",
      "2022-04-26 16:38:18,627 - INFO - generate_tiles - Requested tile size=128, tile size at full magnficiation=256\n",
      "2022-04-26 16:38:18,629 - INFO - generate_tiles - tiles x 165, tiles y 232\n",
      "2022-04-26 16:38:18,644 - INFO - generate_tiles - Slide size = [50880,49787]\n",
      "2022-04-26 16:38:18,646 - INFO - generate_tiles - Normalized magnification scale factor for 20.0x is 2.0\n",
      "2022-04-26 16:38:18,647 - INFO - generate_tiles - Slide size = [53760,54840]\n",
      "2022-04-26 16:38:18,647 - INFO - generate_tiles - Requested tile size=128, tile size at full magnficiation=256\n",
      "2022-04-26 16:38:18,649 - INFO - generate_tiles - Normalized magnification scale factor for 20.0x is 2.0\n",
      "2022-04-26 16:38:18,652 - INFO - generate_tiles - tiles x 199, tiles y 195\n",
      "2022-04-26 16:38:18,652 - INFO - generate_tiles - Requested tile size=128, tile size at full magnficiation=256\n",
      "2022-04-26 16:38:18,654 - INFO - generate_tiles - tiles x 210, tiles y 215\n",
      "2022-04-26 16:38:18,677 - INFO - generate_tiles - Number of tiles in raster: 37490\n",
      "2022-04-26 16:38:18,683 - INFO - generate_tiles - Slide size = [109440,60110]\n",
      "2022-04-26 16:38:18,689 - INFO - generate_tiles - Normalized magnification scale factor for 20.0x is 2.0\n",
      "2022-04-26 16:38:18,691 - INFO - generate_tiles - Requested tile size=128, tile size at full magnficiation=256\n",
      "2022-04-26 16:38:18,694 - INFO - generate_tiles - tiles x 428, tiles y 235\n",
      "2022-04-26 16:38:18,700 - INFO - generate_tiles - Number of tiles in raster: 38021\n",
      "2022-04-26 16:38:18,708 - INFO - generate_tiles - Slide size = [52800,38628]\n",
      "2022-04-26 16:38:18,709 - INFO - generate_tiles - Normalized magnification scale factor for 20.0x is 2.0\n",
      "2022-04-26 16:38:18,711 - INFO - generate_tiles - Requested tile size=128, tile size at full magnficiation=256\n",
      "2022-04-26 16:38:18,712 - INFO - generate_tiles - tiles x 207, tiles y 151\n",
      "2022-04-26 16:38:18,716 - INFO - generate_tiles - Number of tiles in raster: 44304\n",
      "2022-04-26 16:38:18,719 - INFO - generate_tiles -                  x_coord  y_coord  xy_extent  tile_size tile_units\n",
      "2022-04-26 16:38:18,719 - INFO - generate_tiles - address                                                           \n",
      "2022-04-26 16:38:18,719 - INFO - generate_tiles - x1_y1_z20.0          256      256        256        128         px\n",
      "2022-04-26 16:38:18,719 - INFO - generate_tiles - x1_y2_z20.0          256      512        256        128         px\n",
      "2022-04-26 16:38:18,719 - INFO - generate_tiles - x1_y3_z20.0          256      768        256        128         px\n",
      "2022-04-26 16:38:18,719 - INFO - generate_tiles - x1_y4_z20.0          256     1024        256        128         px\n",
      "2022-04-26 16:38:18,719 - INFO - generate_tiles - x1_y5_z20.0          256     1280        256        128         px\n",
      "2022-04-26 16:38:18,719 - INFO - generate_tiles - ...                  ...      ...        ...        ...        ...\n",
      "2022-04-26 16:38:18,719 - INFO - generate_tiles - x163_y226_z20.0    41728    57856        256        128         px\n",
      "2022-04-26 16:38:18,719 - INFO - generate_tiles - x163_y227_z20.0    41728    58112        256        128         px\n",
      "2022-04-26 16:38:18,719 - INFO - generate_tiles - x163_y228_z20.0    41728    58368        256        128         px\n",
      "2022-04-26 16:38:18,719 - INFO - generate_tiles - x163_y229_z20.0    41728    58624        256        128         px\n",
      "2022-04-26 16:38:18,719 - INFO - generate_tiles - x163_y230_z20.0    41728    58880        256        128         px\n",
      "2022-04-26 16:38:18,719 - INFO - generate_tiles - \n",
      "2022-04-26 16:38:18,719 - INFO - generate_tiles - [37490 rows x 5 columns]\n",
      "2022-04-26 16:38:18,743 - INFO - generate_tiles - Number of tiles in raster: 30545\n",
      "2022-04-26 16:38:18,740 - INFO - generate_tiles -                  x_coord  y_coord  xy_extent  tile_size tile_units\n",
      "2022-04-26 16:38:18,740 - INFO - generate_tiles - address                                                           \n",
      "2022-04-26 16:38:18,740 - INFO - generate_tiles - x1_y1_z20.0          256      256        256        128         px\n",
      "2022-04-26 16:38:18,740 - INFO - generate_tiles - x1_y2_z20.0          256      512        256        128         px\n",
      "2022-04-26 16:38:18,740 - INFO - generate_tiles - x1_y3_z20.0          256      768        256        128         px\n",
      "2022-04-26 16:38:18,740 - INFO - generate_tiles - x1_y4_z20.0          256     1024        256        128         px\n",
      "2022-04-26 16:38:18,740 - INFO - generate_tiles - x1_y5_z20.0          256     1280        256        128         px\n",
      "2022-04-26 16:38:18,740 - INFO - generate_tiles - ...                  ...      ...        ...        ...        ...\n",
      "2022-04-26 16:38:18,740 - INFO - generate_tiles - x197_y189_z20.0    50432    48384        256        128         px\n",
      "2022-04-26 16:38:18,740 - INFO - generate_tiles - x197_y190_z20.0    50432    48640        256        128         px\n",
      "2022-04-26 16:38:18,740 - INFO - generate_tiles - x197_y191_z20.0    50432    48896        256        128         px\n",
      "2022-04-26 16:38:18,740 - INFO - generate_tiles - x197_y192_z20.0    50432    49152        256        128         px\n",
      "2022-04-26 16:38:18,740 - INFO - generate_tiles - x197_y193_z20.0    50432    49408        256        128         px\n",
      "2022-04-26 16:38:18,740 - INFO - generate_tiles - \n",
      "2022-04-26 16:38:18,740 - INFO - generate_tiles - [38021 rows x 5 columns]\n",
      "2022-04-26 16:38:18,759 - INFO - generate_tiles -                  x_coord  y_coord  xy_extent  tile_size tile_units\n",
      "2022-04-26 16:38:18,759 - INFO - generate_tiles - address                                                           \n",
      "2022-04-26 16:38:18,759 - INFO - generate_tiles - x1_y1_z20.0          256      256        256        128         px\n",
      "2022-04-26 16:38:18,759 - INFO - generate_tiles - x1_y2_z20.0          256      512        256        128         px\n",
      "2022-04-26 16:38:18,759 - INFO - generate_tiles - x1_y3_z20.0          256      768        256        128         px\n",
      "2022-04-26 16:38:18,759 - INFO - generate_tiles - x1_y4_z20.0          256     1024        256        128         px\n",
      "2022-04-26 16:38:18,759 - INFO - generate_tiles - x1_y5_z20.0          256     1280        256        128         px\n",
      "2022-04-26 16:38:18,759 - INFO - generate_tiles - ...                  ...      ...        ...        ...        ...\n",
      "2022-04-26 16:38:18,759 - INFO - generate_tiles - x208_y209_z20.0    53248    53504        256        128         px\n",
      "2022-04-26 16:38:18,759 - INFO - generate_tiles - x208_y210_z20.0    53248    53760        256        128         px\n",
      "2022-04-26 16:38:18,759 - INFO - generate_tiles - x208_y211_z20.0    53248    54016        256        128         px\n",
      "2022-04-26 16:38:18,759 - INFO - generate_tiles - x208_y212_z20.0    53248    54272        256        128         px\n",
      "2022-04-26 16:38:18,759 - INFO - generate_tiles - x208_y213_z20.0    53248    54528        256        128         px\n",
      "2022-04-26 16:38:18,759 - INFO - generate_tiles - \n",
      "2022-04-26 16:38:18,759 - INFO - generate_tiles - [44304 rows x 5 columns]\n",
      "2022-04-26 16:38:18,782 - INFO - luna.common.utils - Code block 'transform::generate_tiles' took: 0.4281102920031117s\n",
      "2022-04-26 16:38:18,783 - INFO - luna.common.utils - ------------------------------------------------------------\n",
      "2022-04-26 16:38:18,783 - INFO - luna.common.utils -  Done with transform, running post-transform functions... \n",
      "2022-04-26 16:38:18,783 - INFO - luna.common.utils - ------------------------------------------------------------\n",
      "2022-04-26 16:38:18,789 - INFO - luna.common.utils - Done.\n",
      "2022-04-26 16:38:18,780 - INFO - generate_tiles -                  x_coord  y_coord  xy_extent  tile_size tile_units\n",
      "2022-04-26 16:38:18,780 - INFO - generate_tiles - address                                                           \n",
      "2022-04-26 16:38:18,780 - INFO - generate_tiles - x1_y1_z20.0          256      256        256        128         px\n",
      "2022-04-26 16:38:18,780 - INFO - generate_tiles - x1_y2_z20.0          256      512        256        128         px\n",
      "2022-04-26 16:38:18,780 - INFO - generate_tiles - x1_y3_z20.0          256      768        256        128         px\n",
      "2022-04-26 16:38:18,780 - INFO - generate_tiles - x1_y4_z20.0          256     1024        256        128         px\n",
      "2022-04-26 16:38:18,780 - INFO - generate_tiles - x1_y5_z20.0          256     1280        256        128         px\n",
      "2022-04-26 16:38:18,780 - INFO - generate_tiles - ...                  ...      ...        ...        ...        ...\n",
      "2022-04-26 16:38:18,780 - INFO - generate_tiles - x205_y145_z20.0    52480    37120        256        128         px\n",
      "2022-04-26 16:38:18,780 - INFO - generate_tiles - x205_y146_z20.0    52480    37376        256        128         px\n",
      "2022-04-26 16:38:18,780 - INFO - generate_tiles - x205_y147_z20.0    52480    37632        256        128         px\n",
      "2022-04-26 16:38:18,780 - INFO - generate_tiles - x205_y148_z20.0    52480    37888        256        128         px\n",
      "2022-04-26 16:38:18,780 - INFO - generate_tiles - x205_y149_z20.0    52480    38144        256        128         px\n",
      "2022-04-26 16:38:18,780 - INFO - generate_tiles - \n",
      "2022-04-26 16:38:18,780 - INFO - generate_tiles - [30545 rows x 5 columns]\n",
      "2022-04-26 16:38:18,807 - INFO - luna.common.utils - Code block 'transform::generate_tiles' took: 0.44101950200274587s\n",
      "2022-04-26 16:38:18,809 - INFO - luna.common.utils - ------------------------------------------------------------\n",
      "2022-04-26 16:38:18,809 - INFO - luna.common.utils -  Done with transform, running post-transform functions... \n",
      "2022-04-26 16:38:18,809 - INFO - luna.common.utils - ------------------------------------------------------------\n",
      "2022-04-26 16:38:18,810 - INFO - generate_tiles - Number of tiles in raster: 99258\n",
      "2022-04-26 16:38:18,814 - INFO - luna.common.utils - Done.\n"
     ]
    },
    {
     "name": "stderr",
     "output_type": "stream",
     "text": [
      "2022-04-26 16:38:18,838 - INFO - luna.common.utils - Code block 'transform::generate_tiles' took: 0.46839399399686954s\n",
      "2022-04-26 16:38:18,841 - INFO - luna.common.utils - ------------------------------------------------------------\n",
      "2022-04-26 16:38:18,841 - INFO - luna.common.utils -  Done with transform, running post-transform functions... \n",
      "2022-04-26 16:38:18,841 - INFO - luna.common.utils - ------------------------------------------------------------\n",
      "2022-04-26 16:38:18,848 - INFO - luna.common.utils - Done.\n",
      "2022-04-26 16:38:18,850 - INFO - luna.common.utils - Code block 'transform::generate_tiles' took: 0.4888691779997316s\n",
      "2022-04-26 16:38:18,852 - INFO - luna.common.utils - ------------------------------------------------------------\n",
      "2022-04-26 16:38:18,852 - INFO - luna.common.utils -  Done with transform, running post-transform functions... \n",
      "2022-04-26 16:38:18,852 - INFO - luna.common.utils - ------------------------------------------------------------\n",
      "2022-04-26 16:38:18,859 - INFO - luna.common.utils - Done.\n",
      "2022-04-26 16:38:18,934 - INFO - generate_tiles -                  x_coord  y_coord  xy_extent  tile_size tile_units\n",
      "2022-04-26 16:38:18,934 - INFO - generate_tiles - address                                                           \n",
      "2022-04-26 16:38:18,934 - INFO - generate_tiles - x1_y1_z20.0          256      256        256        128         px\n",
      "2022-04-26 16:38:18,934 - INFO - generate_tiles - x1_y2_z20.0          256      512        256        128         px\n",
      "2022-04-26 16:38:18,934 - INFO - generate_tiles - x1_y3_z20.0          256      768        256        128         px\n",
      "2022-04-26 16:38:18,934 - INFO - generate_tiles - x1_y4_z20.0          256     1024        256        128         px\n",
      "2022-04-26 16:38:18,934 - INFO - generate_tiles - x1_y5_z20.0          256     1280        256        128         px\n",
      "2022-04-26 16:38:18,934 - INFO - generate_tiles - ...                  ...      ...        ...        ...        ...\n",
      "2022-04-26 16:38:18,934 - INFO - generate_tiles - x426_y229_z20.0   109056    58624        256        128         px\n",
      "2022-04-26 16:38:18,934 - INFO - generate_tiles - x426_y230_z20.0   109056    58880        256        128         px\n",
      "2022-04-26 16:38:18,934 - INFO - generate_tiles - x426_y231_z20.0   109056    59136        256        128         px\n",
      "2022-04-26 16:38:18,934 - INFO - generate_tiles - x426_y232_z20.0   109056    59392        256        128         px\n",
      "2022-04-26 16:38:18,934 - INFO - generate_tiles - x426_y233_z20.0   109056    59648        256        128         px\n",
      "2022-04-26 16:38:18,934 - INFO - generate_tiles - \n",
      "2022-04-26 16:38:18,934 - INFO - generate_tiles - [99258 rows x 5 columns]\n",
      "2022-04-26 16:38:19,084 - INFO - luna.common.utils - Code block 'transform::generate_tiles' took: 0.7371806539995305s\n",
      "2022-04-26 16:38:19,087 - INFO - luna.common.utils - ------------------------------------------------------------\n",
      "2022-04-26 16:38:19,087 - INFO - luna.common.utils -  Done with transform, running post-transform functions... \n",
      "2022-04-26 16:38:19,087 - INFO - luna.common.utils - ------------------------------------------------------------\n",
      "2022-04-26 16:38:19,095 - INFO - luna.common.utils - Done.\n"
     ]
    },
    {
     "name": "stdout",
     "output_type": "stream",
     "text": [
      "detect_tissue file:/home/kohlia/vmount/PRO_12-123/data/toy_data_set/01OV008-7579323e-2fae-43a9-b00f-a15c28.svs /home/kohlia/vmount/PRO_12-123/tiling/01OV008-7579323e-2fae-43a9-b00f-a15c28/source_tiles --filter_query otsu_score > 0.1 --requested_magnification 2\n",
      "['detect_tissue', PosixPath('file:/home/kohlia/vmount/PRO_12-123/data/toy_data_set/01OV008-7579323e-2fae-43a9-b00f-a15c28.svs'), '/home/kohlia/vmount/PRO_12-123/tiling/01OV008-7579323e-2fae-43a9-b00f-a15c28/source_tiles', '--filter_query', 'otsu_score > 0.1', '--requested_magnification', '2', '-o', '/home/kohlia/vmount/PRO_12-123/tiling/01OV008-7579323e-2fae-43a9-b00f-a15c28/detected_tiles']\n",
      "detect_tissue file:/home/kohlia/vmount/PRO_12-123/data/toy_data_set/01OV002-ed65cf94-8bc6-492b-9149-adc16f.svs /home/kohlia/vmount/PRO_12-123/tiling/01OV002-ed65cf94-8bc6-492b-9149-adc16f/source_tiles --filter_query otsu_score > 0.1 --requested_magnification 2\n",
      "['detect_tissue', PosixPath('file:/home/kohlia/vmount/PRO_12-123/data/toy_data_set/01OV002-ed65cf94-8bc6-492b-9149-adc16f.svs'), '/home/kohlia/vmount/PRO_12-123/tiling/01OV002-ed65cf94-8bc6-492b-9149-adc16f/source_tiles', '--filter_query', 'otsu_score > 0.1', '--requested_magnification', '2', '-o', '/home/kohlia/vmount/PRO_12-123/tiling/01OV002-ed65cf94-8bc6-492b-9149-adc16f/detected_tiles']\n",
      "detect_tissue file:/home/kohlia/vmount/PRO_12-123/data/toy_data_set/01OV008-308ad404-7079-4ff8-8232-12ee2e.svs /home/kohlia/vmount/PRO_12-123/tiling/01OV008-308ad404-7079-4ff8-8232-12ee2e/source_tiles --filter_query otsu_score > 0.1 --requested_magnification 2\n",
      "['detect_tissue', PosixPath('file:/home/kohlia/vmount/PRO_12-123/data/toy_data_set/01OV008-308ad404-7079-4ff8-8232-12ee2e.svs'), '/home/kohlia/vmount/PRO_12-123/tiling/01OV008-308ad404-7079-4ff8-8232-12ee2e/source_tiles', '--filter_query', 'otsu_score > 0.1', '--requested_magnification', '2', '-o', '/home/kohlia/vmount/PRO_12-123/tiling/01OV008-308ad404-7079-4ff8-8232-12ee2e/detected_tiles']\n",
      "detect_tissue file:/home/kohlia/vmount/PRO_12-123/data/toy_data_set/01OV002-bd8cdc70-3d46-40ae-99c4-90ef77.svs /home/kohlia/vmount/PRO_12-123/tiling/01OV002-bd8cdc70-3d46-40ae-99c4-90ef77/source_tiles --filter_query otsu_score > 0.1 --requested_magnification 2\n",
      "['detect_tissue', PosixPath('file:/home/kohlia/vmount/PRO_12-123/data/toy_data_set/01OV002-bd8cdc70-3d46-40ae-99c4-90ef77.svs'), '/home/kohlia/vmount/PRO_12-123/tiling/01OV002-bd8cdc70-3d46-40ae-99c4-90ef77/source_tiles', '--filter_query', 'otsu_score > 0.1', '--requested_magnification', '2', '-o', '/home/kohlia/vmount/PRO_12-123/tiling/01OV002-bd8cdc70-3d46-40ae-99c4-90ef77/detected_tiles']\n",
      "detect_tissue file:/home/kohlia/vmount/PRO_12-123/data/toy_data_set/01OV007-9b90eb78-2f50-4aeb-b010-d642f9.svs /home/kohlia/vmount/PRO_12-123/tiling/01OV007-9b90eb78-2f50-4aeb-b010-d642f9/source_tiles --filter_query otsu_score > 0.1 --requested_magnification 2\n",
      "['detect_tissue', PosixPath('file:/home/kohlia/vmount/PRO_12-123/data/toy_data_set/01OV007-9b90eb78-2f50-4aeb-b010-d642f9.svs'), '/home/kohlia/vmount/PRO_12-123/tiling/01OV007-9b90eb78-2f50-4aeb-b010-d642f9/source_tiles', '--filter_query', 'otsu_score > 0.1', '--requested_magnification', '2', '-o', '/home/kohlia/vmount/PRO_12-123/tiling/01OV007-9b90eb78-2f50-4aeb-b010-d642f9/detected_tiles']\n"
     ]
    },
    {
     "name": "stderr",
     "output_type": "stream",
     "text": [
      "2022-04-26 16:38:20,431 - INFO - root - Initalized logger, log file at: data-processing.log\n",
      "2022-04-26 16:38:20,440 - INFO - root - Initalized logger, log file at: data-processing.log\n",
      "2022-04-26 16:38:20,458 - INFO - root - Initalized logger, log file at: data-processing.log\n",
      "2022-04-26 16:38:20,489 - INFO - root - Initalized logger, log file at: data-processing.log\n",
      "2022-04-26 16:38:20,625 - INFO - root - Initalized logger, log file at: data-processing.log\n",
      "2022-04-26 16:38:22,323 - INFO - luna.common.utils - Started CLI Runner wtih <function detect_tissue at 0x7f794bc86280>\n",
      "2022-04-26 16:38:22,324 - INFO - luna.common.utils - Started CLI Runner wtih <function detect_tissue at 0x7f363677e280>\n",
      "2022-04-26 16:38:22,326 - INFO - luna.common.utils - Validating params...\n",
      "2022-04-26 16:38:22,327 - INFO - luna.common.utils -  -> Set input_slide_image (<class 'str'>) = file:/home/kohlia/vmount/PRO_12-123/data/toy_data_set/01OV002-ed65cf94-8bc6-492b-9149-adc16f.svs\n",
      "2022-04-26 16:38:22,328 - INFO - luna.common.utils - Validating params...\n",
      "2022-04-26 16:38:22,333 - INFO - luna.common.utils -  -> Set input_slide_tiles (<class 'str'>) = /home/kohlia/vmount/PRO_12-123/tiling/01OV002-ed65cf94-8bc6-492b-9149-adc16f/source_tiles\n",
      "2022-04-26 16:38:22,333 - INFO - luna.common.utils -  -> Set input_slide_image (<class 'str'>) = file:/home/kohlia/vmount/PRO_12-123/data/toy_data_set/01OV008-7579323e-2fae-43a9-b00f-a15c28.svs\n",
      "2022-04-26 16:38:22,336 - INFO - luna.common.utils -  -> Set input_slide_tiles (<class 'str'>) = /home/kohlia/vmount/PRO_12-123/tiling/01OV008-7579323e-2fae-43a9-b00f-a15c28/source_tiles\n",
      "2022-04-26 16:38:22,337 - INFO - luna.common.utils -  -> Set requested_magnification (<class 'float'>) = 2.0\n",
      "2022-04-26 16:38:22,339 - INFO - luna.common.utils -  -> Set requested_magnification (<class 'float'>) = 2.0\n",
      "2022-04-26 16:38:22,340 - INFO - luna.common.utils -  -> Set filter_query (<class 'str'>) = otsu_score > 0.1\n",
      "2022-04-26 16:38:22,342 - INFO - luna.common.utils -  -> Set filter_query (<class 'str'>) = otsu_score > 0.1\n",
      "2022-04-26 16:38:22,346 - INFO - luna.common.utils -  -> Set output_dir (<class 'str'>) = /home/kohlia/vmount/PRO_12-123/tiling/01OV002-ed65cf94-8bc6-492b-9149-adc16f/detected_tiles\n",
      "2022-04-26 16:38:22,348 - INFO - luna.common.utils -  -> Set output_dir (<class 'str'>) = /home/kohlia/vmount/PRO_12-123/tiling/01OV008-7579323e-2fae-43a9-b00f-a15c28/detected_tiles\n",
      "2022-04-26 16:38:22,349 - INFO - luna.common.utils -  -> Set num_cores (<class 'int'>) = 4\n",
      "2022-04-26 16:38:22,351 - INFO - luna.common.utils -  -> Set num_cores (<class 'int'>) = 4\n",
      "2022-04-26 16:38:22,353 - INFO - luna.common.utils - Expanding inputs...\n",
      "2022-04-26 16:38:22,354 - INFO - luna.common.utils - Expanding inputs...\n",
      "2022-04-26 16:38:22,355 - INFO - luna.common.utils - Attempting to read metadata at file:/home/kohlia/vmount/PRO_12-123/data/toy_data_set/01OV002-ed65cf94-8bc6-492b-9149-adc16f.svs/metadata.yml\n",
      "2022-04-26 16:38:22,356 - INFO - luna.common.utils - Attempting to read metadata at file:/home/kohlia/vmount/PRO_12-123/data/toy_data_set/01OV008-7579323e-2fae-43a9-b00f-a15c28.svs/metadata.yml\n",
      "2022-04-26 16:38:22,358 - INFO - luna.common.utils - Attempting to read metadata at /home/kohlia/vmount/PRO_12-123/tiling/01OV002-ed65cf94-8bc6-492b-9149-adc16f/source_tiles/metadata.yml\n",
      "2022-04-26 16:38:22,359 - INFO - luna.common.utils - Started CLI Runner wtih <function detect_tissue at 0x7f794c26a280>\n",
      "2022-04-26 16:38:22,359 - INFO - luna.common.utils - Attempting to read metadata at /home/kohlia/vmount/PRO_12-123/tiling/01OV008-7579323e-2fae-43a9-b00f-a15c28/source_tiles/metadata.yml\n",
      "2022-04-26 16:38:22,361 - INFO - luna.common.utils - Validating params...\n",
      "2022-04-26 16:38:22,366 - INFO - luna.common.utils -  -> Set input_slide_image (<class 'str'>) = file:/home/kohlia/vmount/PRO_12-123/data/toy_data_set/01OV008-308ad404-7079-4ff8-8232-12ee2e.svs\n",
      "2022-04-26 16:38:22,367 - INFO - luna.common.utils -  -> Set input_slide_tiles (<class 'str'>) = /home/kohlia/vmount/PRO_12-123/tiling/01OV008-308ad404-7079-4ff8-8232-12ee2e/source_tiles\n",
      "2022-04-26 16:38:22,367 - INFO - luna.common.utils - Expanded input:\n",
      "2022-04-26 16:38:22,367 - INFO - luna.common.utils -  -> /home/kohlia/vmount/PRO_12-123/tiling/01OV002-ed65cf94-8bc6-492b-9149-adc16f/source_tiles\n",
      "2022-04-26 16:38:22,367 - INFO - luna.common.utils -  -> /home/kohlia/vmount/PRO_12-123/tiling/01OV002-ed65cf94-8bc6-492b-9149-adc16f/source_tiles/01OV002-ed65cf94-8bc6-492b-9149-adc16f.tiles.parquet\n",
      "2022-04-26 16:38:22,369 - INFO - luna.common.utils -  -> Set requested_magnification (<class 'float'>) = 2.0\n",
      "2022-04-26 16:38:22,370 - INFO - luna.common.utils - Found segment keys: {'slide_id': '01OV002-ed65cf94-8bc6-492b-9149-adc16f'}\n",
      "2022-04-26 16:38:22,371 - INFO - luna.common.utils - Expanded input:\n",
      "2022-04-26 16:38:22,371 - INFO - luna.common.utils -  -> /home/kohlia/vmount/PRO_12-123/tiling/01OV008-7579323e-2fae-43a9-b00f-a15c28/source_tiles\n",
      "2022-04-26 16:38:22,371 - INFO - luna.common.utils -  -> /home/kohlia/vmount/PRO_12-123/tiling/01OV008-7579323e-2fae-43a9-b00f-a15c28/source_tiles/01OV008-7579323e-2fae-43a9-b00f-a15c28.tiles.parquet\n",
      "2022-04-26 16:38:22,371 - INFO - luna.common.utils -  -> Set filter_query (<class 'str'>) = otsu_score > 0.1\n",
      "2022-04-26 16:38:22,373 - INFO - luna.common.utils -  -> Set output_dir (<class 'str'>) = /home/kohlia/vmount/PRO_12-123/tiling/01OV008-308ad404-7079-4ff8-8232-12ee2e/detected_tiles\n",
      "2022-04-26 16:38:22,374 - INFO - luna.common.utils - Resolved input:\n",
      "2022-04-26 16:38:22,374 - INFO - luna.common.utils -  -> file:/home/kohlia/vmount/PRO_12-123/data/toy_data_set/01OV002-ed65cf94-8bc6-492b-9149-adc16f.svs\n",
      "2022-04-26 16:38:22,374 - INFO - luna.common.utils -  -> /home/kohlia/vmount/PRO_12-123/data/toy_data_set/01OV002-ed65cf94-8bc6-492b-9149-adc16f.svs\n",
      "2022-04-26 16:38:22,376 - INFO - luna.common.utils - Found segment keys: {'slide_id': '01OV008-7579323e-2fae-43a9-b00f-a15c28'}\n",
      "2022-04-26 16:38:22,377 - INFO - luna.common.utils - Started CLI Runner wtih <function detect_tissue at 0x7f297e52d280>\n",
      "2022-04-26 16:38:22,377 - INFO - luna.common.utils -  -> Set num_cores (<class 'int'>) = 4\n",
      "2022-04-26 16:38:22,378 - INFO - luna.common.utils - Validating params...\n",
      "2022-04-26 16:38:22,380 - INFO - luna.common.utils - Expanding inputs...\n",
      "2022-04-26 16:38:22,380 - INFO - luna.common.utils - Resolved input:\n",
      "2022-04-26 16:38:22,380 - INFO - luna.common.utils -  -> /home/kohlia/vmount/PRO_12-123/tiling/01OV002-ed65cf94-8bc6-492b-9149-adc16f/source_tiles/01OV002-ed65cf94-8bc6-492b-9149-adc16f.tiles.parquet\n",
      "2022-04-26 16:38:22,380 - INFO - luna.common.utils -  -> /home/kohlia/vmount/PRO_12-123/tiling/01OV002-ed65cf94-8bc6-492b-9149-adc16f/source_tiles/01OV002-ed65cf94-8bc6-492b-9149-adc16f.tiles.parquet\n",
      "2022-04-26 16:38:22,381 - INFO - luna.common.utils - Resolved input:\n",
      "2022-04-26 16:38:22,381 - INFO - luna.common.utils -  -> file:/home/kohlia/vmount/PRO_12-123/data/toy_data_set/01OV008-7579323e-2fae-43a9-b00f-a15c28.svs\n",
      "2022-04-26 16:38:22,381 - INFO - luna.common.utils -  -> /home/kohlia/vmount/PRO_12-123/data/toy_data_set/01OV008-7579323e-2fae-43a9-b00f-a15c28.svs\n",
      "2022-04-26 16:38:22,382 - INFO - luna.common.utils -  -> Set input_slide_image (<class 'str'>) = file:/home/kohlia/vmount/PRO_12-123/data/toy_data_set/01OV002-bd8cdc70-3d46-40ae-99c4-90ef77.svs\n",
      "2022-04-26 16:38:22,383 - INFO - luna.common.utils - Attempting to read metadata at file:/home/kohlia/vmount/PRO_12-123/data/toy_data_set/01OV008-308ad404-7079-4ff8-8232-12ee2e.svs/metadata.yml\n",
      "2022-04-26 16:38:22,385 - INFO - luna.common.utils -  -> Set input_slide_tiles (<class 'str'>) = /home/kohlia/vmount/PRO_12-123/tiling/01OV002-bd8cdc70-3d46-40ae-99c4-90ef77/source_tiles\n",
      "2022-04-26 16:38:22,388 - INFO - luna.common.utils - Attempting to read metadata at /home/kohlia/vmount/PRO_12-123/tiling/01OV008-308ad404-7079-4ff8-8232-12ee2e/source_tiles/metadata.yml\n",
      "2022-04-26 16:38:22,389 - INFO - luna.common.utils - Resolved input:\n",
      "2022-04-26 16:38:22,389 - INFO - luna.common.utils -  -> /home/kohlia/vmount/PRO_12-123/tiling/01OV008-7579323e-2fae-43a9-b00f-a15c28/source_tiles/01OV008-7579323e-2fae-43a9-b00f-a15c28.tiles.parquet\n",
      "2022-04-26 16:38:22,389 - INFO - luna.common.utils -  -> /home/kohlia/vmount/PRO_12-123/tiling/01OV008-7579323e-2fae-43a9-b00f-a15c28/source_tiles/01OV008-7579323e-2fae-43a9-b00f-a15c28.tiles.parquet\n",
      "2022-04-26 16:38:22,390 - INFO - luna.common.utils - Full segment key set: {'slide_id': '01OV002-ed65cf94-8bc6-492b-9149-adc16f'}\n",
      "2022-04-26 16:38:22,393 - INFO - luna.common.utils -  -> Set requested_magnification (<class 'float'>) = 2.0\n",
      "2022-04-26 16:38:22,395 - INFO - luna.common.utils - Expanded input:\n",
      "2022-04-26 16:38:22,395 - INFO - luna.common.utils -  -> /home/kohlia/vmount/PRO_12-123/tiling/01OV008-308ad404-7079-4ff8-8232-12ee2e/source_tiles\n",
      "2022-04-26 16:38:22,395 - INFO - luna.common.utils -  -> /home/kohlia/vmount/PRO_12-123/tiling/01OV008-308ad404-7079-4ff8-8232-12ee2e/source_tiles/01OV008-308ad404-7079-4ff8-8232-12ee2e.tiles.parquet\n",
      "2022-04-26 16:38:22,403 - INFO - luna.common.utils - ------------------------------------------------------------\n",
      "2022-04-26 16:38:22,403 - INFO - luna.common.utils -  Starting transform::detect_tissue \n",
      "2022-04-26 16:38:22,403 - INFO - luna.common.utils - ------------------------------------------------------------\n",
      "2022-04-26 16:38:22,403 - INFO - luna.common.utils - Full segment key set: {'slide_id': '01OV008-7579323e-2fae-43a9-b00f-a15c28'}\n",
      "2022-04-26 16:38:22,404 - INFO - luna.common.utils -  -> Set filter_query (<class 'str'>) = otsu_score > 0.1\n",
      "2022-04-26 16:38:22,405 - INFO - luna.common.utils - Found segment keys: {'slide_id': '01OV008-308ad404-7079-4ff8-8232-12ee2e'}\n",
      "2022-04-26 16:38:22,406 - INFO - luna.common.utils - ------------------------------------------------------------\n",
      "2022-04-26 16:38:22,406 - INFO - luna.common.utils -  Starting transform::detect_tissue \n",
      "2022-04-26 16:38:22,406 - INFO - luna.common.utils - ------------------------------------------------------------\n",
      "2022-04-26 16:38:22,408 - INFO - luna.common.utils - Resolved input:\n",
      "2022-04-26 16:38:22,408 - INFO - luna.common.utils -  -> file:/home/kohlia/vmount/PRO_12-123/data/toy_data_set/01OV008-308ad404-7079-4ff8-8232-12ee2e.svs\n",
      "2022-04-26 16:38:22,408 - INFO - luna.common.utils -  -> /home/kohlia/vmount/PRO_12-123/data/toy_data_set/01OV008-308ad404-7079-4ff8-8232-12ee2e.svs\n",
      "2022-04-26 16:38:22,409 - INFO - luna.common.utils -  -> Set output_dir (<class 'str'>) = /home/kohlia/vmount/PRO_12-123/tiling/01OV002-bd8cdc70-3d46-40ae-99c4-90ef77/detected_tiles\n",
      "2022-04-26 16:38:22,414 - INFO - luna.common.utils - Resolved input:\n",
      "2022-04-26 16:38:22,414 - INFO - luna.common.utils -  -> /home/kohlia/vmount/PRO_12-123/tiling/01OV008-308ad404-7079-4ff8-8232-12ee2e/source_tiles/01OV008-308ad404-7079-4ff8-8232-12ee2e.tiles.parquet\n",
      "2022-04-26 16:38:22,414 - INFO - luna.common.utils -  -> /home/kohlia/vmount/PRO_12-123/tiling/01OV008-308ad404-7079-4ff8-8232-12ee2e/source_tiles/01OV008-308ad404-7079-4ff8-8232-12ee2e.tiles.parquet\n",
      "2022-04-26 16:38:22,417 - INFO - luna.common.utils -  -> Set num_cores (<class 'int'>) = 4\n",
      "2022-04-26 16:38:22,419 - INFO - luna.common.utils - Full segment key set: {'slide_id': '01OV008-308ad404-7079-4ff8-8232-12ee2e'}\n",
      "2022-04-26 16:38:22,423 - INFO - luna.common.utils - ------------------------------------------------------------\n",
      "2022-04-26 16:38:22,423 - INFO - luna.common.utils -  Starting transform::detect_tissue \n",
      "2022-04-26 16:38:22,423 - INFO - luna.common.utils - ------------------------------------------------------------\n",
      "2022-04-26 16:38:22,423 - INFO - luna.common.utils - Expanding inputs...\n",
      "2022-04-26 16:38:22,427 - INFO - luna.common.utils - Attempting to read metadata at file:/home/kohlia/vmount/PRO_12-123/data/toy_data_set/01OV002-bd8cdc70-3d46-40ae-99c4-90ef77.svs/metadata.yml\n",
      "2022-04-26 16:38:22,432 - INFO - luna.common.utils - Attempting to read metadata at /home/kohlia/vmount/PRO_12-123/tiling/01OV002-bd8cdc70-3d46-40ae-99c4-90ef77/source_tiles/metadata.yml\n",
      "2022-04-26 16:38:22,441 - INFO - luna.common.utils - Expanded input:\n",
      "2022-04-26 16:38:22,441 - INFO - luna.common.utils -  -> /home/kohlia/vmount/PRO_12-123/tiling/01OV002-bd8cdc70-3d46-40ae-99c4-90ef77/source_tiles\n",
      "2022-04-26 16:38:22,441 - INFO - luna.common.utils -  -> /home/kohlia/vmount/PRO_12-123/tiling/01OV002-bd8cdc70-3d46-40ae-99c4-90ef77/source_tiles/01OV002-bd8cdc70-3d46-40ae-99c4-90ef77.tiles.parquet\n",
      "2022-04-26 16:38:22,445 - INFO - luna.common.utils - Found segment keys: {'slide_id': '01OV002-bd8cdc70-3d46-40ae-99c4-90ef77'}\n",
      "2022-04-26 16:38:22,447 - INFO - luna.common.utils - Resolved input:\n",
      "2022-04-26 16:38:22,447 - INFO - luna.common.utils -  -> file:/home/kohlia/vmount/PRO_12-123/data/toy_data_set/01OV002-bd8cdc70-3d46-40ae-99c4-90ef77.svs\n",
      "2022-04-26 16:38:22,447 - INFO - luna.common.utils -  -> /home/kohlia/vmount/PRO_12-123/data/toy_data_set/01OV002-bd8cdc70-3d46-40ae-99c4-90ef77.svs\n",
      "2022-04-26 16:38:22,449 - INFO - luna.common.utils - Resolved input:\n",
      "2022-04-26 16:38:22,449 - INFO - luna.common.utils -  -> /home/kohlia/vmount/PRO_12-123/tiling/01OV002-bd8cdc70-3d46-40ae-99c4-90ef77/source_tiles/01OV002-bd8cdc70-3d46-40ae-99c4-90ef77.tiles.parquet\n",
      "2022-04-26 16:38:22,449 - INFO - luna.common.utils -  -> /home/kohlia/vmount/PRO_12-123/tiling/01OV002-bd8cdc70-3d46-40ae-99c4-90ef77/source_tiles/01OV002-bd8cdc70-3d46-40ae-99c4-90ef77.tiles.parquet\n",
      "2022-04-26 16:38:22,452 - INFO - luna.common.utils - Full segment key set: {'slide_id': '01OV002-bd8cdc70-3d46-40ae-99c4-90ef77'}\n",
      "2022-04-26 16:38:22,454 - INFO - luna.common.utils - ------------------------------------------------------------\n",
      "2022-04-26 16:38:22,454 - INFO - luna.common.utils -  Starting transform::detect_tissue \n",
      "2022-04-26 16:38:22,454 - INFO - luna.common.utils - ------------------------------------------------------------\n"
     ]
    },
    {
     "name": "stderr",
     "output_type": "stream",
     "text": [
      "2022-04-26 16:38:22,569 - INFO - luna.common.utils - Started CLI Runner wtih <function detect_tissue at 0x7f14de2f1280>\n",
      "2022-04-26 16:38:22,572 - INFO - luna.common.utils - Validating params...\n",
      "2022-04-26 16:38:22,584 - INFO - luna.common.utils -  -> Set input_slide_image (<class 'str'>) = file:/home/kohlia/vmount/PRO_12-123/data/toy_data_set/01OV007-9b90eb78-2f50-4aeb-b010-d642f9.svs\n",
      "2022-04-26 16:38:22,587 - INFO - luna.common.utils -  -> Set input_slide_tiles (<class 'str'>) = /home/kohlia/vmount/PRO_12-123/tiling/01OV007-9b90eb78-2f50-4aeb-b010-d642f9/source_tiles\n",
      "2022-04-26 16:38:22,592 - INFO - luna.common.utils -  -> Set requested_magnification (<class 'float'>) = 2.0\n",
      "2022-04-26 16:38:22,595 - INFO - luna.common.utils -  -> Set filter_query (<class 'str'>) = otsu_score > 0.1\n",
      "2022-04-26 16:38:22,598 - INFO - luna.common.utils -  -> Set output_dir (<class 'str'>) = /home/kohlia/vmount/PRO_12-123/tiling/01OV007-9b90eb78-2f50-4aeb-b010-d642f9/detected_tiles\n",
      "2022-04-26 16:38:22,602 - INFO - luna.common.utils -  -> Set num_cores (<class 'int'>) = 4\n",
      "2022-04-26 16:38:22,607 - INFO - luna.common.utils - Expanding inputs...\n",
      "2022-04-26 16:38:22,610 - INFO - luna.common.utils - Attempting to read metadata at file:/home/kohlia/vmount/PRO_12-123/data/toy_data_set/01OV007-9b90eb78-2f50-4aeb-b010-d642f9.svs/metadata.yml\n",
      "2022-04-26 16:38:22,612 - INFO - luna.common.utils - Attempting to read metadata at /home/kohlia/vmount/PRO_12-123/tiling/01OV007-9b90eb78-2f50-4aeb-b010-d642f9/source_tiles/metadata.yml\n",
      "2022-04-26 16:38:22,623 - INFO - luna.common.utils - Expanded input:\n",
      "2022-04-26 16:38:22,623 - INFO - luna.common.utils -  -> /home/kohlia/vmount/PRO_12-123/tiling/01OV007-9b90eb78-2f50-4aeb-b010-d642f9/source_tiles\n",
      "2022-04-26 16:38:22,623 - INFO - luna.common.utils -  -> /home/kohlia/vmount/PRO_12-123/tiling/01OV007-9b90eb78-2f50-4aeb-b010-d642f9/source_tiles/01OV007-9b90eb78-2f50-4aeb-b010-d642f9.tiles.parquet\n",
      "2022-04-26 16:38:22,625 - INFO - luna.common.utils - Found segment keys: {'slide_id': '01OV007-9b90eb78-2f50-4aeb-b010-d642f9'}\n",
      "2022-04-26 16:38:22,629 - INFO - luna.common.utils - Resolved input:\n",
      "2022-04-26 16:38:22,629 - INFO - luna.common.utils -  -> file:/home/kohlia/vmount/PRO_12-123/data/toy_data_set/01OV007-9b90eb78-2f50-4aeb-b010-d642f9.svs\n",
      "2022-04-26 16:38:22,629 - INFO - luna.common.utils -  -> /home/kohlia/vmount/PRO_12-123/data/toy_data_set/01OV007-9b90eb78-2f50-4aeb-b010-d642f9.svs\n",
      "2022-04-26 16:38:22,632 - INFO - luna.common.utils - Resolved input:\n",
      "2022-04-26 16:38:22,632 - INFO - luna.common.utils -  -> /home/kohlia/vmount/PRO_12-123/tiling/01OV007-9b90eb78-2f50-4aeb-b010-d642f9/source_tiles/01OV007-9b90eb78-2f50-4aeb-b010-d642f9.tiles.parquet\n",
      "2022-04-26 16:38:22,632 - INFO - luna.common.utils -  -> /home/kohlia/vmount/PRO_12-123/tiling/01OV007-9b90eb78-2f50-4aeb-b010-d642f9/source_tiles/01OV007-9b90eb78-2f50-4aeb-b010-d642f9.tiles.parquet\n",
      "2022-04-26 16:38:22,635 - INFO - luna.common.utils - Full segment key set: {'slide_id': '01OV007-9b90eb78-2f50-4aeb-b010-d642f9'}\n",
      "2022-04-26 16:38:22,639 - INFO - luna.common.utils - ------------------------------------------------------------\n",
      "2022-04-26 16:38:22,639 - INFO - luna.common.utils -  Starting transform::detect_tissue \n",
      "2022-04-26 16:38:22,639 - INFO - luna.common.utils - ------------------------------------------------------------\n",
      "2022-04-26 16:38:22,749 - INFO - detect_tissue - Slide dimensions (50880, 49787)\n",
      "2022-04-26 16:38:22,751 - INFO - detect_tissue - Slide dimensions (42240, 59209)\n",
      "2022-04-26 16:38:22,753 - INFO - detect_tissue - Thumbnail scale factor: 20.0\n",
      "2022-04-26 16:38:22,754 - INFO - detect_tissue - Thumbnail scale factor: 20.0\n",
      "2022-04-26 16:38:22,788 - INFO - detect_tissue - Slide dimensions (53760, 54840)\n",
      "2022-04-26 16:38:22,792 - INFO - detect_tissue - Thumbnail scale factor: 20.0\n",
      "2022-04-26 16:38:22,850 - INFO - detect_tissue - Slide dimensions (52800, 38628)\n",
      "2022-04-26 16:38:22,852 - INFO - detect_tissue - Thumbnail scale factor: 20.0\n",
      "2022-04-26 16:38:23,015 - INFO - detect_tissue - Slide dimensions (109440, 60110)\n",
      "2022-04-26 16:38:23,016 - INFO - detect_tissue - Thumbnail scale factor: 20.0\n",
      "2022-04-26 16:38:24,064 - INFO - detect_tissue - Sample array size: (1931, 2640, 3)\n",
      "2022-04-26 16:38:24,321 - INFO - detect_tissue - Sample array size: (2489, 2544, 3)\n",
      "2022-04-26 16:38:24,343 - INFO - detect_tissue - Sample array size: (2960, 2112, 3)\n",
      "2022-04-26 16:38:24,493 - INFO - detect_tissue - Sample array size: (2742, 2688, 3)\n",
      "2022-04-26 16:38:27,188 - INFO - detect_tissue - Sample array size: (3005, 5472, 3)\n",
      "2022-04-26 16:38:39,485 - INFO - detect_tissue - Starting otsu thresholding, threshold=0.6760414889705882\n",
      "2022-04-26 16:38:45,639 - INFO - detect_tissue - Starting otsu thresholding, threshold=0.7071628178615197\n",
      "2022-04-26 16:38:45,915 - INFO - detect_tissue - Starting otsu thresholding, threshold=0.7107123230698529\n",
      "  3%|▎         | 1027/30545 [00:00<00:02, 10149.45it/s]2022-04-26 16:38:49,236 - INFO - detect_tissue - Starting otsu thresholding, threshold=0.7300508425245098\n",
      " 37%|███▋      | 11355/30545 [00:52<01:34, 202.28it/s]2022-04-26 16:39:39,540 - INFO - detect_tissue - Starting otsu thresholding, threshold=0.7421401378676471\n",
      "100%|██████████| 30545/30545 [02:45<00:00, 184.80it/s] \n",
      "2022-04-26 16:41:32,146 - INFO - detect_tissue - Filtering based on query: otsu_score > 0.1\n",
      " 74%|███████▍  | 27831/37490 [02:28<00:47, 204.49it/s]2022-04-26 16:41:32,206 - INFO - detect_tissue -                 x_coord  y_coord  xy_extent  tile_size tile_units  otsu_score\n",
      "2022-04-26 16:41:32,206 - INFO - detect_tissue - address                                                                      \n",
      "2022-04-26 16:41:32,206 - INFO - detect_tissue - x6_y74_z20.0       1536    18944        256        128         px        0.18\n",
      "2022-04-26 16:41:32,206 - INFO - detect_tissue - x7_y74_z20.0       1792    18944        256        128         px        0.13\n",
      "2022-04-26 16:41:32,206 - INFO - detect_tissue - x7_y81_z20.0       1792    20736        256        128         px        0.11\n",
      "2022-04-26 16:41:32,206 - INFO - detect_tissue - x8_y75_z20.0       2048    19200        256        128         px        0.22\n",
      "2022-04-26 16:41:32,206 - INFO - detect_tissue - x8_y76_z20.0       2048    19456        256        128         px        0.29\n",
      "2022-04-26 16:41:32,206 - INFO - detect_tissue - ...                 ...      ...        ...        ...        ...         ...\n",
      "2022-04-26 16:41:32,206 - INFO - detect_tissue - x181_y45_z20.0    46336    11520        256        128         px        0.48\n",
      "2022-04-26 16:41:32,206 - INFO - detect_tissue - x182_y41_z20.0    46592    10496        256        128         px        0.26\n",
      "2022-04-26 16:41:32,206 - INFO - detect_tissue - x182_y42_z20.0    46592    10752        256        128         px        0.59\n",
      "2022-04-26 16:41:32,206 - INFO - detect_tissue - x182_y43_z20.0    46592    11008        256        128         px        0.56\n",
      "2022-04-26 16:41:32,206 - INFO - detect_tissue - x182_y44_z20.0    46592    11264        256        128         px        0.28\n",
      "2022-04-26 16:41:32,206 - INFO - detect_tissue - \n",
      "2022-04-26 16:41:32,206 - INFO - detect_tissue - [13704 rows x 6 columns]\n",
      " 72%|███████▏  | 27460/38021 [02:28<00:59, 176.37it/s]2022-04-26 16:41:32,362 - INFO - luna.common.utils - Code block 'transform::detect_tissue' took: 190.06525865200092s\n",
      "2022-04-26 16:41:32,364 - INFO - luna.common.utils - ------------------------------------------------------------\n",
      "2022-04-26 16:41:32,364 - INFO - luna.common.utils -  Done with transform, running post-transform functions... \n",
      "2022-04-26 16:41:32,364 - INFO - luna.common.utils - ------------------------------------------------------------\n",
      " 74%|███████▍  | 27858/37490 [02:28<00:43, 221.33it/s]2022-04-26 16:41:32,376 - INFO - luna.common.utils - Done.\n",
      " 64%|██████▎   | 28167/44304 [02:21<01:21, 198.57it/s]"
     ]
    },
    {
     "name": "stdout",
     "output_type": "stream",
     "text": [
      "label_tiles ../PRO_12-123/data/toy_data_set/table/ANNOTATIONS /home/kohlia/vmount/PRO_12-123/tiling/01OV008-308ad404-7079-4ff8-8232-12ee2e/detected_tiles\n",
      "['label_tiles', PosixPath('../PRO_12-123/data/toy_data_set/table/ANNOTATIONS'), '/home/kohlia/vmount/PRO_12-123/tiling/01OV008-308ad404-7079-4ff8-8232-12ee2e/detected_tiles', '-o', '/home/kohlia/vmount/PRO_12-123/tiling/01OV008-308ad404-7079-4ff8-8232-12ee2e/labled_tiles']\n"
     ]
    },
    {
     "name": "stderr",
     "output_type": "stream",
     "text": [
      " 78%|███████▊  | 29137/37490 [02:34<00:34, 244.02it/s]2022-04-26 16:41:38,211 - INFO - root - Initalized logger, log file at: data-processing.log\n",
      " 75%|███████▌  | 28555/38021 [02:34<00:41, 229.34it/s]2022-04-26 16:41:38,227 - INFO - luna.common.utils - Started CLI Runner wtih <function generate_tile_labels at 0x7f442a072940>\n",
      "2022-04-26 16:41:38,229 - INFO - luna.common.utils - Validating params...\n",
      "2022-04-26 16:41:38,237 - INFO - luna.common.utils -  -> Set input_slide_annotation_dataset (<class 'str'>) = ../PRO_12-123/data/toy_data_set/table/ANNOTATIONS\n",
      "2022-04-26 16:41:38,239 - INFO - luna.common.utils -  -> Set input_slide_tiles (<class 'str'>) = /home/kohlia/vmount/PRO_12-123/tiling/01OV008-308ad404-7079-4ff8-8232-12ee2e/detected_tiles\n",
      "2022-04-26 16:41:38,242 - INFO - luna.common.utils -  -> Set output_dir (<class 'str'>) = /home/kohlia/vmount/PRO_12-123/tiling/01OV008-308ad404-7079-4ff8-8232-12ee2e/labled_tiles\n",
      "2022-04-26 16:41:38,247 - INFO - luna.common.utils - Expanding inputs...\n",
      " 18%|█▊        | 18258/99258 [01:01<06:21, 212.52it/s]2022-04-26 16:41:38,250 - INFO - luna.common.utils - Attempting to read metadata at ../PRO_12-123/data/toy_data_set/table/ANNOTATIONS/metadata.yml\n",
      "2022-04-26 16:41:38,258 - INFO - luna.common.utils - Expanded input:\n",
      "2022-04-26 16:41:38,258 - INFO - luna.common.utils -  -> ../PRO_12-123/data/toy_data_set/table/ANNOTATIONS\n",
      "2022-04-26 16:41:38,258 - INFO - luna.common.utils -  -> ../PRO_12-123/data/toy_data_set/table/ANNOTATIONS/slide_annotation_dataset_TCGA collection_ov_regional.parquet\n",
      "2022-04-26 16:41:38,269 - INFO - luna.common.utils - Found segment keys: {'dsa_collection_uuid': '62681d02787e8d61b58adf2b'}\n",
      "2022-04-26 16:41:38,271 - INFO - luna.common.utils - Attempting to read metadata at /home/kohlia/vmount/PRO_12-123/tiling/01OV008-308ad404-7079-4ff8-8232-12ee2e/detected_tiles/metadata.yml\n",
      " 66%|██████▌   | 29147/44304 [02:26<01:21, 186.45it/s]2022-04-26 16:41:38,283 - INFO - luna.common.utils - Expanded input:\n",
      "2022-04-26 16:41:38,283 - INFO - luna.common.utils -  -> /home/kohlia/vmount/PRO_12-123/tiling/01OV008-308ad404-7079-4ff8-8232-12ee2e/detected_tiles\n",
      "2022-04-26 16:41:38,283 - INFO - luna.common.utils -  -> /home/kohlia/vmount/PRO_12-123/tiling/01OV008-308ad404-7079-4ff8-8232-12ee2e/detected_tiles/01OV008-308ad404-7079-4ff8-8232-12ee2e-filtered.tiles.parquet\n",
      "2022-04-26 16:41:38,287 - INFO - luna.common.utils - Found segment keys: {'slide_id': '01OV008-308ad404-7079-4ff8-8232-12ee2e'}\n",
      "2022-04-26 16:41:38,292 - INFO - luna.common.utils - Resolved input:\n",
      "2022-04-26 16:41:38,292 - INFO - luna.common.utils -  -> ../PRO_12-123/data/toy_data_set/table/ANNOTATIONS/slide_annotation_dataset_TCGA collection_ov_regional.parquet\n",
      "2022-04-26 16:41:38,292 - INFO - luna.common.utils -  -> /home/kohlia/vmount/PRO_12-123/data/toy_data_set/table/ANNOTATIONS/slide_annotation_dataset_TCGA collection_ov_regional.parquet\n",
      "2022-04-26 16:41:38,295 - INFO - luna.common.utils - Resolved input:\n",
      "2022-04-26 16:41:38,295 - INFO - luna.common.utils -  -> /home/kohlia/vmount/PRO_12-123/tiling/01OV008-308ad404-7079-4ff8-8232-12ee2e/detected_tiles/01OV008-308ad404-7079-4ff8-8232-12ee2e-filtered.tiles.parquet\n",
      "2022-04-26 16:41:38,295 - INFO - luna.common.utils -  -> /home/kohlia/vmount/PRO_12-123/tiling/01OV008-308ad404-7079-4ff8-8232-12ee2e/detected_tiles/01OV008-308ad404-7079-4ff8-8232-12ee2e-filtered.tiles.parquet\n",
      "2022-04-26 16:41:38,299 - INFO - luna.common.utils - Full segment key set: {'dsa_collection_uuid': '62681d02787e8d61b58adf2b', 'slide_id': '01OV008-308ad404-7079-4ff8-8232-12ee2e'}\n",
      "2022-04-26 16:41:38,301 - INFO - luna.common.utils - ------------------------------------------------------------\n",
      "2022-04-26 16:41:38,301 - INFO - luna.common.utils -  Starting transform::generate_tile_labels \n",
      "2022-04-26 16:41:38,301 - INFO - luna.common.utils - ------------------------------------------------------------\n",
      " 78%|███████▊  | 29162/37490 [02:34<00:34, 243.18it/s]2022-04-26 16:41:38,303 - INFO - generate_tile_labels - slide_id=01OV008-308ad404-7079-4ff8-8232-12ee2e\n",
      "  0%|          | 46/13704 [00:00<00:30, 443.82it/s]/s]"
     ]
    },
    {
     "name": "stdout",
     "output_type": "stream",
     "text": [
      "../PRO_12-123/data/toy_data_set/table/ANNOTATIONS/01OV008-308ad404-7079-4ff8-8232-12ee2e.annotation.geojson TCGA collection ov_regional\n"
     ]
    },
    {
     "name": "stderr",
     "output_type": "stream",
     "text": [
      "100%|██████████| 13704/13704 [00:17<00:00, 778.30it/s] \n",
      " 85%|████████▍ | 32150/38021 [02:52<00:23, 245.89it/s]2022-04-26 16:41:56,318 - INFO - generate_tile_labels -                 x_coord  y_coord  ...  regional_label  intersection_area\n",
      "2022-04-26 16:41:56,318 - INFO - generate_tile_labels - address                           ...                                   \n",
      "2022-04-26 16:41:56,318 - INFO - generate_tile_labels - x58_y60_z20.0     14848    15360  ...          stroma           0.055923\n",
      "2022-04-26 16:41:56,318 - INFO - generate_tile_labels - x58_y61_z20.0     14848    15616  ...          stroma           0.272237\n",
      "2022-04-26 16:41:56,318 - INFO - generate_tile_labels - x58_y62_z20.0     14848    15872  ...          stroma           0.074921\n",
      "2022-04-26 16:41:56,318 - INFO - generate_tile_labels - x58_y63_z20.0     14848    16128  ...          stroma           0.230325\n",
      "2022-04-26 16:41:56,318 - INFO - generate_tile_labels - x59_y60_z20.0     15104    15360  ...          stroma           0.061584\n",
      "2022-04-26 16:41:56,318 - INFO - generate_tile_labels - ...                 ...      ...  ...             ...                ...\n",
      "2022-04-26 16:41:56,318 - INFO - generate_tile_labels - x150_y75_z20.0    38400    19200  ...             fat           0.655609\n",
      "2022-04-26 16:41:56,318 - INFO - generate_tile_labels - x150_y91_z20.0    38400    23296  ...          stroma           0.061430\n",
      "2022-04-26 16:41:56,318 - INFO - generate_tile_labels - x150_y92_z20.0    38400    23552  ...          stroma           0.068517\n",
      "2022-04-26 16:41:56,318 - INFO - generate_tile_labels - x151_y74_z20.0    38656    18944  ...             fat           0.037047\n",
      "2022-04-26 16:41:56,318 - INFO - generate_tile_labels - x151_y75_z20.0    38656    19200  ...             fat           0.031012\n",
      "2022-04-26 16:41:56,318 - INFO - generate_tile_labels - \n",
      "2022-04-26 16:41:56,318 - INFO - generate_tile_labels - [1179 rows x 8 columns]\n",
      " 89%|████████▉ | 33469/37490 [02:52<00:17, 230.81it/s]2022-04-26 16:41:56,486 - INFO - luna.common.utils - Code block 'transform::generate_tile_labels' took: 18.205081819000043s\n",
      "2022-04-26 16:41:56,498 - INFO - luna.common.utils - ------------------------------------------------------------\n",
      "2022-04-26 16:41:56,498 - INFO - luna.common.utils -  Done with transform, running post-transform functions... \n",
      "2022-04-26 16:41:56,498 - INFO - luna.common.utils - ------------------------------------------------------------\n",
      "2022-04-26 16:41:56,505 - INFO - luna.common.utils - Done.\n",
      " 85%|████████▍ | 32249/38021 [02:52<00:24, 234.42it/s]"
     ]
    },
    {
     "name": "stdout",
     "output_type": "stream",
     "text": [
      "save_tiles file:/home/kohlia/vmount/PRO_12-123/data/toy_data_set/01OV008-308ad404-7079-4ff8-8232-12ee2e.svs /home/kohlia/vmount/PRO_12-123/tiling/01OV008-308ad404-7079-4ff8-8232-12ee2e/labled_tiles --num_cores 16 --batch_size 200 --dataset_id PRO_TILES_LABLED\n",
      "['save_tiles', PosixPath('file:/home/kohlia/vmount/PRO_12-123/data/toy_data_set/01OV008-308ad404-7079-4ff8-8232-12ee2e.svs'), '/home/kohlia/vmount/PRO_12-123/tiling/01OV008-308ad404-7079-4ff8-8232-12ee2e/labled_tiles', '--num_cores', '16', '--batch_size', '200', '--dataset_id', 'PRO_TILES_LABLED', '-o', '/home/kohlia/vmount/PRO_12-123/tiling/01OV008-308ad404-7079-4ff8-8232-12ee2e/saved_tiles']\n"
     ]
    },
    {
     "name": "stderr",
     "output_type": "stream",
     "text": [
      " 89%|████████▊ | 33692/38021 [02:58<00:17, 242.35it/s]2022-04-26 16:42:02,824 - INFO - root - Initalized logger, log file at: data-processing.log\n",
      " 80%|████████  | 35647/44304 [02:57<00:33, 255.53it/s]2022-04-26 16:42:09,818 - INFO - luna.common.utils - Started CLI Runner wtih <function save_tiles at 0x7f476272ea60>\n",
      " 26%|██▌       | 25720/99258 [01:33<05:18, 230.79it/s]2022-04-26 16:42:09,827 - INFO - luna.common.utils - Validating params...\n",
      "2022-04-26 16:42:09,829 - INFO - luna.common.utils -  -> Set input_slide_image (<class 'str'>) = file:/home/kohlia/vmount/PRO_12-123/data/toy_data_set/01OV008-308ad404-7079-4ff8-8232-12ee2e.svs\n",
      "2022-04-26 16:42:09,830 - INFO - luna.common.utils -  -> Set input_slide_tiles (<class 'str'>) = /home/kohlia/vmount/PRO_12-123/tiling/01OV008-308ad404-7079-4ff8-8232-12ee2e/labled_tiles\n",
      "2022-04-26 16:42:09,832 - INFO - luna.common.utils -  -> Set output_dir (<class 'str'>) = /home/kohlia/vmount/PRO_12-123/tiling/01OV008-308ad404-7079-4ff8-8232-12ee2e/saved_tiles\n",
      "2022-04-26 16:42:09,834 - INFO - luna.common.utils -  -> Set num_cores (<class 'int'>) = 16\n",
      "2022-04-26 16:42:09,835 - INFO - luna.common.utils -  -> Set batch_size (<class 'int'>) = 200\n",
      "2022-04-26 16:42:09,842 - INFO - luna.common.utils - Expanding inputs...\n",
      "2022-04-26 16:42:09,844 - INFO - luna.common.utils - Attempting to read metadata at file:/home/kohlia/vmount/PRO_12-123/data/toy_data_set/01OV008-308ad404-7079-4ff8-8232-12ee2e.svs/metadata.yml\n",
      "2022-04-26 16:42:09,847 - INFO - luna.common.utils - Attempting to read metadata at /home/kohlia/vmount/PRO_12-123/tiling/01OV008-308ad404-7079-4ff8-8232-12ee2e/labled_tiles/metadata.yml\n",
      "2022-04-26 16:42:09,858 - INFO - luna.common.utils - Expanded input:\n",
      "2022-04-26 16:42:09,858 - INFO - luna.common.utils -  -> /home/kohlia/vmount/PRO_12-123/tiling/01OV008-308ad404-7079-4ff8-8232-12ee2e/labled_tiles\n",
      "2022-04-26 16:42:09,858 - INFO - luna.common.utils -  -> /home/kohlia/vmount/PRO_12-123/tiling/01OV008-308ad404-7079-4ff8-8232-12ee2e/labled_tiles/01OV008-308ad404-7079-4ff8-8232-12ee2e.regional_label.tiles.parquet\n",
      "2022-04-26 16:42:09,860 - INFO - luna.common.utils - Found segment keys: {'dsa_collection_uuid': '62681d02787e8d61b58adf2b', 'slide_id': '01OV008-308ad404-7079-4ff8-8232-12ee2e'}\n",
      "2022-04-26 16:42:09,862 - INFO - luna.common.utils - Resolved input:\n",
      "2022-04-26 16:42:09,862 - INFO - luna.common.utils -  -> file:/home/kohlia/vmount/PRO_12-123/data/toy_data_set/01OV008-308ad404-7079-4ff8-8232-12ee2e.svs\n",
      "2022-04-26 16:42:09,862 - INFO - luna.common.utils -  -> /home/kohlia/vmount/PRO_12-123/data/toy_data_set/01OV008-308ad404-7079-4ff8-8232-12ee2e.svs\n",
      " 93%|█████████▎| 35387/38021 [03:05<00:11, 225.80it/s]2022-04-26 16:42:09,865 - INFO - luna.common.utils - Resolved input:\n",
      "2022-04-26 16:42:09,865 - INFO - luna.common.utils -  -> /home/kohlia/vmount/PRO_12-123/tiling/01OV008-308ad404-7079-4ff8-8232-12ee2e/labled_tiles/01OV008-308ad404-7079-4ff8-8232-12ee2e.regional_label.tiles.parquet\n",
      "2022-04-26 16:42:09,865 - INFO - luna.common.utils -  -> /home/kohlia/vmount/PRO_12-123/tiling/01OV008-308ad404-7079-4ff8-8232-12ee2e/labled_tiles/01OV008-308ad404-7079-4ff8-8232-12ee2e.regional_label.tiles.parquet\n",
      "2022-04-26 16:42:09,871 - INFO - luna.common.utils - Full segment key set: {'dsa_collection_uuid': '62681d02787e8d61b58adf2b', 'slide_id': '01OV008-308ad404-7079-4ff8-8232-12ee2e'}\n",
      "2022-04-26 16:42:09,873 - INFO - luna.common.utils - ------------------------------------------------------------\n",
      "2022-04-26 16:42:09,873 - INFO - luna.common.utils -  Starting transform::save_tiles \n",
      "2022-04-26 16:42:09,873 - INFO - luna.common.utils - ------------------------------------------------------------\n",
      " 93%|█████████▎| 35412/38021 [03:06<00:11, 231.48it/s]2022-04-26 16:42:09,996 - INFO - generate_tiles - Now generating tiles with num_cores=16 and batch_size=200!\n",
      "2022-04-26 16:42:10,003 - WARNING - generate_tiles - /home/kohlia/vmount/PRO_12-123/tiling/01OV008-308ad404-7079-4ff8-8232-12ee2e/saved_tiles/01OV008-308ad404-7079-4ff8-8232-12ee2e.tiles.h5 already exists, deleting the file..\n",
      "100%|██████████| 37490/37490 [03:08<00:00, 198.67it/s]\n",
      " 82%|████████▏ | 36300/44304 [03:00<00:36, 216.73it/s]2022-04-26 16:42:12,904 - INFO - detect_tissue - Filtering based on query: otsu_score > 0.1\n",
      " 82%|████████▏ | 36326/44304 [03:00<00:35, 227.92it/s]2022-04-26 16:42:12,949 - INFO - detect_tissue -                  x_coord  y_coord  xy_extent  tile_size tile_units  otsu_score\n",
      "2022-04-26 16:42:12,949 - INFO - detect_tissue - address                                                                       \n",
      "2022-04-26 16:42:12,949 - INFO - detect_tissue - x7_y134_z20.0       1792    34304        256        128         px        0.21\n",
      "2022-04-26 16:42:12,949 - INFO - detect_tissue - x7_y135_z20.0       1792    34560        256        128         px        0.21\n",
      "2022-04-26 16:42:12,949 - INFO - detect_tissue - x7_y136_z20.0       1792    34816        256        128         px        0.23\n",
      "2022-04-26 16:42:12,949 - INFO - detect_tissue - x7_y146_z20.0       1792    37376        256        128         px        0.51\n",
      "2022-04-26 16:42:12,949 - INFO - detect_tissue - x7_y147_z20.0       1792    37632        256        128         px        0.41\n",
      "2022-04-26 16:42:12,949 - INFO - detect_tissue - ...                  ...      ...        ...        ...        ...         ...\n",
      "2022-04-26 16:42:12,949 - INFO - detect_tissue - x139_y1_z20.0      35584      256        256        128         px        0.15\n",
      "2022-04-26 16:42:12,949 - INFO - detect_tissue - x148_y139_z20.0    37888    35584        256        128         px        0.13\n",
      "2022-04-26 16:42:12,949 - INFO - detect_tissue - x149_y89_z20.0     38144    22784        256        128         px        0.12\n",
      "2022-04-26 16:42:12,949 - INFO - detect_tissue - x159_y98_z20.0     40704    25088        256        128         px        0.11\n",
      "2022-04-26 16:42:12,949 - INFO - detect_tissue - x159_y170_z20.0    40704    43520        256        128         px        0.27\n",
      "2022-04-26 16:42:12,949 - INFO - detect_tissue - \n",
      "2022-04-26 16:42:12,949 - INFO - detect_tissue - [16496 rows x 6 columns]\n",
      "2022-04-26 16:42:13,063 - INFO - luna.common.utils - Code block 'transform::detect_tissue' took: 230.8034687540021s\n",
      "2022-04-26 16:42:13,065 - INFO - luna.common.utils - ------------------------------------------------------------\n",
      "2022-04-26 16:42:13,065 - INFO - luna.common.utils -  Done with transform, running post-transform functions... \n",
      "2022-04-26 16:42:13,065 - INFO - luna.common.utils - ------------------------------------------------------------\n",
      " 27%|██▋       | 26444/99258 [01:36<04:56, 245.36it/s]2022-04-26 16:42:13,073 - INFO - luna.common.utils - Done.\n",
      " 96%|█████████▌| 36540/38021 [03:10<00:06, 222.08it/s]"
     ]
    },
    {
     "name": "stdout",
     "output_type": "stream",
     "text": [
      "\r",
      "  0%|          | 0/69 [00:00<?, ?it/s]label_tiles ../PRO_12-123/data/toy_data_set/table/ANNOTATIONS /home/kohlia/vmount/PRO_12-123/tiling/01OV008-7579323e-2fae-43a9-b00f-a15c28/detected_tiles\n",
      "['label_tiles', PosixPath('../PRO_12-123/data/toy_data_set/table/ANNOTATIONS'), '/home/kohlia/vmount/PRO_12-123/tiling/01OV008-7579323e-2fae-43a9-b00f-a15c28/detected_tiles', '-o', '/home/kohlia/vmount/PRO_12-123/tiling/01OV008-7579323e-2fae-43a9-b00f-a15c28/labled_tiles']\n"
     ]
    },
    {
     "name": "stderr",
     "output_type": "stream",
     "text": [
      " 27%|██▋       | 27192/99258 [01:40<10:02, 119.69it/s]2022-04-26 16:42:17,099 - INFO - root - Initalized logger, log file at: data-processing.log\n",
      "2022-04-26 16:42:17,110 - INFO - luna.common.utils - Started CLI Runner wtih <function generate_tile_labels at 0x7f5a7e364940>\n",
      "2022-04-26 16:42:17,132 - INFO - luna.common.utils - Validating params...\n",
      "2022-04-26 16:42:17,146 - INFO - luna.common.utils -  -> Set input_slide_annotation_dataset (<class 'str'>) = ../PRO_12-123/data/toy_data_set/table/ANNOTATIONS\n",
      " 84%|████████▎ | 37025/44304 [03:05<01:46, 68.27it/s]2022-04-26 16:42:17,158 - INFO - luna.common.utils -  -> Set input_slide_tiles (<class 'str'>) = /home/kohlia/vmount/PRO_12-123/tiling/01OV008-7579323e-2fae-43a9-b00f-a15c28/detected_tiles\n",
      "2022-04-26 16:42:17,176 - INFO - luna.common.utils -  -> Set output_dir (<class 'str'>) = /home/kohlia/vmount/PRO_12-123/tiling/01OV008-7579323e-2fae-43a9-b00f-a15c28/labled_tiles\n",
      "2022-04-26 16:42:17,201 - INFO - luna.common.utils - Expanding inputs...\n",
      "2022-04-26 16:42:17,214 - INFO - luna.common.utils - Attempting to read metadata at ../PRO_12-123/data/toy_data_set/table/ANNOTATIONS/metadata.yml\n",
      " 84%|████████▎ | 37053/44304 [03:05<01:15, 96.32it/s]2022-04-26 16:42:17,288 - INFO - luna.common.utils - Expanded input:\n",
      "2022-04-26 16:42:17,288 - INFO - luna.common.utils -  -> ../PRO_12-123/data/toy_data_set/table/ANNOTATIONS\n",
      "2022-04-26 16:42:17,288 - INFO - luna.common.utils -  -> ../PRO_12-123/data/toy_data_set/table/ANNOTATIONS/slide_annotation_dataset_TCGA collection_ov_regional.parquet\n",
      "2022-04-26 16:42:17,314 - INFO - luna.common.utils - Found segment keys: {'dsa_collection_uuid': '62681d02787e8d61b58adf2b'}\n",
      " 97%|█████████▋| 36885/38021 [03:13<00:08, 135.02it/s]2022-04-26 16:42:17,339 - INFO - luna.common.utils - Attempting to read metadata at /home/kohlia/vmount/PRO_12-123/tiling/01OV008-7579323e-2fae-43a9-b00f-a15c28/detected_tiles/metadata.yml\n",
      " 84%|████████▎ | 37072/44304 [03:05<01:04, 111.45it/s]2022-04-26 16:42:17,390 - INFO - luna.common.utils - Expanded input:\n",
      "2022-04-26 16:42:17,390 - INFO - luna.common.utils -  -> /home/kohlia/vmount/PRO_12-123/tiling/01OV008-7579323e-2fae-43a9-b00f-a15c28/detected_tiles\n",
      "2022-04-26 16:42:17,390 - INFO - luna.common.utils -  -> /home/kohlia/vmount/PRO_12-123/tiling/01OV008-7579323e-2fae-43a9-b00f-a15c28/detected_tiles/01OV008-7579323e-2fae-43a9-b00f-a15c28-filtered.tiles.parquet\n",
      "2022-04-26 16:42:17,408 - INFO - luna.common.utils - Found segment keys: {'slide_id': '01OV008-7579323e-2fae-43a9-b00f-a15c28'}\n",
      "2022-04-26 16:42:17,433 - INFO - luna.common.utils - Resolved input:\n",
      "2022-04-26 16:42:17,433 - INFO - luna.common.utils -  -> ../PRO_12-123/data/toy_data_set/table/ANNOTATIONS/slide_annotation_dataset_TCGA collection_ov_regional.parquet\n",
      "2022-04-26 16:42:17,433 - INFO - luna.common.utils -  -> /home/kohlia/vmount/PRO_12-123/data/toy_data_set/table/ANNOTATIONS/slide_annotation_dataset_TCGA collection_ov_regional.parquet\n",
      " 97%|█████████▋| 36910/38021 [03:13<00:07, 145.68it/s]2022-04-26 16:42:17,465 - INFO - luna.common.utils - Resolved input:\n",
      "2022-04-26 16:42:17,465 - INFO - luna.common.utils -  -> /home/kohlia/vmount/PRO_12-123/tiling/01OV008-7579323e-2fae-43a9-b00f-a15c28/detected_tiles/01OV008-7579323e-2fae-43a9-b00f-a15c28-filtered.tiles.parquet\n",
      "2022-04-26 16:42:17,465 - INFO - luna.common.utils -  -> /home/kohlia/vmount/PRO_12-123/tiling/01OV008-7579323e-2fae-43a9-b00f-a15c28/detected_tiles/01OV008-7579323e-2fae-43a9-b00f-a15c28-filtered.tiles.parquet\n",
      " 27%|██▋       | 27278/99258 [01:40<07:25, 161.69it/s]2022-04-26 16:42:17,500 - INFO - luna.common.utils - Full segment key set: {'dsa_collection_uuid': '62681d02787e8d61b58adf2b', 'slide_id': '01OV008-7579323e-2fae-43a9-b00f-a15c28'}\n",
      "2022-04-26 16:42:17,518 - INFO - luna.common.utils - ------------------------------------------------------------\n",
      "2022-04-26 16:42:17,518 - INFO - luna.common.utils -  Starting transform::generate_tile_labels \n",
      "2022-04-26 16:42:17,518 - INFO - luna.common.utils - ------------------------------------------------------------\n",
      "2022-04-26 16:42:17,534 - INFO - generate_tile_labels - slide_id=01OV008-7579323e-2fae-43a9-b00f-a15c28\n",
      " 28%|██▊       | 27368/99258 [01:41<07:12, 166.11it/s]"
     ]
    },
    {
     "name": "stdout",
     "output_type": "stream",
     "text": [
      "../PRO_12-123/data/toy_data_set/table/ANNOTATIONS/01OV008-7579323e-2fae-43a9-b00f-a15c28.annotation.geojson TCGA collection ov_regional\n"
     ]
    },
    {
     "name": "stderr",
     "output_type": "stream",
     "text": [
      " 29%|██▊       | 28333/99258 [01:48<08:03, 146.65it/s]"
     ]
    },
    {
     "name": "stdout",
     "output_type": "stream",
     "text": [
      "\r",
      "  1%|▏         | 1/69 [00:10<11:36, 10.24s/it]"
     ]
    },
    {
     "name": "stderr",
     "output_type": "stream",
     "text": [
      "100%|██████████| 38021/38021 [03:21<00:00, 189.12it/s]\n",
      "2022-04-26 16:42:25,047 - INFO - detect_tissue - Filtering based on query: otsu_score > 0.1\n",
      " 86%|████████▌ | 38147/44304 [03:13<00:40, 152.07it/s]2022-04-26 16:42:25,098 - INFO - detect_tissue -                 x_coord  y_coord  xy_extent  tile_size tile_units  otsu_score\n",
      "2022-04-26 16:42:25,098 - INFO - detect_tissue - address                                                                      \n",
      "2022-04-26 16:42:25,098 - INFO - detect_tissue - x5_y37_z20.0       1280     9472        256        128         px        0.11\n",
      "2022-04-26 16:42:25,098 - INFO - detect_tissue - x5_y38_z20.0       1280     9728        256        128         px        0.47\n",
      "2022-04-26 16:42:25,098 - INFO - detect_tissue - x5_y39_z20.0       1280     9984        256        128         px        0.55\n",
      "2022-04-26 16:42:25,098 - INFO - detect_tissue - x5_y40_z20.0       1280    10240        256        128         px        0.48\n",
      "2022-04-26 16:42:25,098 - INFO - detect_tissue - x5_y41_z20.0       1280    10496        256        128         px        0.13\n",
      "2022-04-26 16:42:25,098 - INFO - detect_tissue - ...                 ...      ...        ...        ...        ...         ...\n",
      "2022-04-26 16:42:25,098 - INFO - detect_tissue - x167_y49_z20.0    42752    12544        256        128         px        0.30\n",
      "2022-04-26 16:42:25,098 - INFO - detect_tissue - x167_y50_z20.0    42752    12800        256        128         px        0.43\n",
      "2022-04-26 16:42:25,098 - INFO - detect_tissue - x167_y51_z20.0    42752    13056        256        128         px        0.43\n",
      "2022-04-26 16:42:25,098 - INFO - detect_tissue - x167_y52_z20.0    42752    13312        256        128         px        0.31\n",
      "2022-04-26 16:42:25,098 - INFO - detect_tissue - x172_y31_z20.0    44032     7936        256        128         px        0.16\n",
      "2022-04-26 16:42:25,098 - INFO - detect_tissue - \n",
      "2022-04-26 16:42:25,098 - INFO - detect_tissue - [18274 rows x 6 columns]\n",
      " 28%|██▊       | 4578/16496 [00:07<00:16, 731.81it/s]]2022-04-26 16:42:25,365 - INFO - luna.common.utils - Code block 'transform::detect_tissue' took: 243.12896574700062s\n",
      "2022-04-26 16:42:25,380 - INFO - luna.common.utils - ------------------------------------------------------------\n",
      "2022-04-26 16:42:25,380 - INFO - luna.common.utils -  Done with transform, running post-transform functions... \n",
      "2022-04-26 16:42:25,380 - INFO - luna.common.utils - ------------------------------------------------------------\n",
      " 29%|██▊       | 28425/99258 [01:48<07:09, 164.93it/s]2022-04-26 16:42:25,434 - INFO - luna.common.utils - Done.\n",
      " 31%|███▏      | 5178/16496 [00:08<00:13, 819.23it/s]]"
     ]
    },
    {
     "name": "stdout",
     "output_type": "stream",
     "text": [
      "label_tiles ../PRO_12-123/data/toy_data_set/table/ANNOTATIONS /home/kohlia/vmount/PRO_12-123/tiling/01OV002-ed65cf94-8bc6-492b-9149-adc16f/detected_tiles\n",
      "['label_tiles', PosixPath('../PRO_12-123/data/toy_data_set/table/ANNOTATIONS'), '/home/kohlia/vmount/PRO_12-123/tiling/01OV002-ed65cf94-8bc6-492b-9149-adc16f/detected_tiles', '-o', '/home/kohlia/vmount/PRO_12-123/tiling/01OV002-ed65cf94-8bc6-492b-9149-adc16f/labled_tiles']\n"
     ]
    },
    {
     "name": "stderr",
     "output_type": "stream",
     "text": [
      " 87%|████████▋ | 38621/44304 [03:15<00:29, 195.77it/s]"
     ]
    },
    {
     "name": "stdout",
     "output_type": "stream",
     "text": [
      "\r",
      "  3%|▎         | 2/69 [00:13<06:43,  6.03s/it]"
     ]
    },
    {
     "name": "stderr",
     "output_type": "stream",
     "text": [
      " 29%|██▉       | 29107/99258 [01:52<07:36, 153.75it/s]"
     ]
    },
    {
     "name": "stdout",
     "output_type": "stream",
     "text": [
      "\r",
      "  4%|▍         | 3/69 [00:14<04:16,  3.88s/it]"
     ]
    },
    {
     "name": "stderr",
     "output_type": "stream",
     "text": [
      " 88%|████████▊ | 38943/44304 [03:18<00:42, 126.88it/s]"
     ]
    },
    {
     "name": "stdout",
     "output_type": "stream",
     "text": [
      "\r",
      "  6%|▌         | 4/69 [00:15<02:57,  2.74s/it]"
     ]
    },
    {
     "name": "stderr",
     "output_type": "stream",
     "text": [
      " 30%|██▉       | 29341/99258 [01:54<08:33, 136.10it/s]"
     ]
    },
    {
     "name": "stdout",
     "output_type": "stream",
     "text": [
      "\r",
      "  7%|▋         | 5/69 [00:16<02:10,  2.05s/it]"
     ]
    },
    {
     "name": "stderr",
     "output_type": "stream",
     "text": [
      " 30%|██▉       | 29437/99258 [01:55<08:45, 132.92it/s]"
     ]
    },
    {
     "name": "stdout",
     "output_type": "stream",
     "text": [
      "\r",
      "  9%|▊         | 6/69 [00:17<01:37,  1.54s/it]"
     ]
    },
    {
     "name": "stderr",
     "output_type": "stream",
     "text": [
      " 56%|█████▌    | 9197/16496 [00:14<00:07, 929.25it/s]]"
     ]
    },
    {
     "name": "stdout",
     "output_type": "stream",
     "text": [
      "\r",
      " 10%|█         | 7/69 [00:17<01:24,  1.36s/it]"
     ]
    },
    {
     "name": "stderr",
     "output_type": "stream",
     "text": [
      " 89%|████████▉ | 39471/44304 [03:21<00:28, 168.20it/s]2022-04-26 16:42:33,624 - INFO - root - Initalized logger, log file at: data-processing.log\n",
      " 30%|██▉       | 29739/99258 [01:56<06:30, 178.24it/s]2022-04-26 16:42:33,647 - INFO - luna.common.utils - Started CLI Runner wtih <function generate_tile_labels at 0x7f88ef0b2940>\n",
      "2022-04-26 16:42:33,652 - INFO - luna.common.utils - Validating params...\n",
      "2022-04-26 16:42:33,661 - INFO - luna.common.utils -  -> Set input_slide_annotation_dataset (<class 'str'>) = ../PRO_12-123/data/toy_data_set/table/ANNOTATIONS\n",
      " 89%|████████▉ | 39489/44304 [03:21<00:28, 168.73it/s]2022-04-26 16:42:33,684 - INFO - luna.common.utils -  -> Set input_slide_tiles (<class 'str'>) = /home/kohlia/vmount/PRO_12-123/tiling/01OV002-ed65cf94-8bc6-492b-9149-adc16f/detected_tiles\n",
      "2022-04-26 16:42:33,693 - INFO - luna.common.utils -  -> Set output_dir (<class 'str'>) = /home/kohlia/vmount/PRO_12-123/tiling/01OV002-ed65cf94-8bc6-492b-9149-adc16f/labled_tiles\n",
      "2022-04-26 16:42:33,701 - INFO - luna.common.utils - Expanding inputs...\n",
      "2022-04-26 16:42:33,712 - INFO - luna.common.utils - Attempting to read metadata at ../PRO_12-123/data/toy_data_set/table/ANNOTATIONS/metadata.yml\n",
      " 30%|██▉       | 29758/99258 [01:57<06:23, 181.29it/s]2022-04-26 16:42:33,738 - INFO - luna.common.utils - Expanded input:\n",
      "2022-04-26 16:42:33,738 - INFO - luna.common.utils -  -> ../PRO_12-123/data/toy_data_set/table/ANNOTATIONS\n",
      "2022-04-26 16:42:33,738 - INFO - luna.common.utils -  -> ../PRO_12-123/data/toy_data_set/table/ANNOTATIONS/slide_annotation_dataset_TCGA collection_ov_regional.parquet\n",
      "2022-04-26 16:42:33,753 - INFO - luna.common.utils - Found segment keys: {'dsa_collection_uuid': '62681d02787e8d61b58adf2b'}\n",
      "2022-04-26 16:42:33,759 - INFO - luna.common.utils - Attempting to read metadata at /home/kohlia/vmount/PRO_12-123/tiling/01OV002-ed65cf94-8bc6-492b-9149-adc16f/detected_tiles/metadata.yml\n",
      " 60%|█████▉    | 9845/16496 [00:15<00:12, 519.90it/s]2022-04-26 16:42:33,799 - INFO - luna.common.utils - Expanded input:\n",
      "2022-04-26 16:42:33,799 - INFO - luna.common.utils -  -> /home/kohlia/vmount/PRO_12-123/tiling/01OV002-ed65cf94-8bc6-492b-9149-adc16f/detected_tiles\n",
      "2022-04-26 16:42:33,799 - INFO - luna.common.utils -  -> /home/kohlia/vmount/PRO_12-123/tiling/01OV002-ed65cf94-8bc6-492b-9149-adc16f/detected_tiles/01OV002-ed65cf94-8bc6-492b-9149-adc16f-filtered.tiles.parquet\n",
      " 89%|████████▉ | 39506/44304 [03:21<00:29, 161.48it/s]2022-04-26 16:42:33,803 - INFO - luna.common.utils - Found segment keys: {'slide_id': '01OV002-ed65cf94-8bc6-492b-9149-adc16f'}\n",
      "2022-04-26 16:42:33,806 - INFO - luna.common.utils - Resolved input:\n",
      "2022-04-26 16:42:33,806 - INFO - luna.common.utils -  -> ../PRO_12-123/data/toy_data_set/table/ANNOTATIONS/slide_annotation_dataset_TCGA collection_ov_regional.parquet\n",
      "2022-04-26 16:42:33,806 - INFO - luna.common.utils -  -> /home/kohlia/vmount/PRO_12-123/data/toy_data_set/table/ANNOTATIONS/slide_annotation_dataset_TCGA collection_ov_regional.parquet\n",
      "2022-04-26 16:42:33,811 - INFO - luna.common.utils - Resolved input:\n",
      "2022-04-26 16:42:33,811 - INFO - luna.common.utils -  -> /home/kohlia/vmount/PRO_12-123/tiling/01OV002-ed65cf94-8bc6-492b-9149-adc16f/detected_tiles/01OV002-ed65cf94-8bc6-492b-9149-adc16f-filtered.tiles.parquet\n",
      "2022-04-26 16:42:33,811 - INFO - luna.common.utils -  -> /home/kohlia/vmount/PRO_12-123/tiling/01OV002-ed65cf94-8bc6-492b-9149-adc16f/detected_tiles/01OV002-ed65cf94-8bc6-492b-9149-adc16f-filtered.tiles.parquet\n",
      "2022-04-26 16:42:33,819 - INFO - luna.common.utils - Full segment key set: {'dsa_collection_uuid': '62681d02787e8d61b58adf2b', 'slide_id': '01OV002-ed65cf94-8bc6-492b-9149-adc16f'}\n",
      "2022-04-26 16:42:33,833 - INFO - luna.common.utils - ------------------------------------------------------------\n",
      "2022-04-26 16:42:33,833 - INFO - luna.common.utils -  Starting transform::generate_tile_labels \n",
      "2022-04-26 16:42:33,833 - INFO - luna.common.utils - ------------------------------------------------------------\n",
      "2022-04-26 16:42:33,838 - INFO - generate_tile_labels - slide_id=01OV002-ed65cf94-8bc6-492b-9149-adc16f\n",
      "  0%|          | 0/18274 [00:00<?, ?it/s] 391.94it/s]]"
     ]
    },
    {
     "name": "stdout",
     "output_type": "stream",
     "text": [
      "\r",
      " 12%|█▏        | 8/69 [00:19<01:23,  1.37s/it]../PRO_12-123/data/toy_data_set/table/ANNOTATIONS/01OV002-ed65cf94-8bc6-492b-9149-adc16f.annotation.geojson TCGA collection ov_regional\n"
     ]
    },
    {
     "name": "stderr",
     "output_type": "stream",
     "text": [
      " 64%|██████▍   | 10559/16496 [00:17<00:12, 491.70it/s]"
     ]
    },
    {
     "name": "stdout",
     "output_type": "stream",
     "text": [
      "\r",
      " 13%|█▎        | 9/69 [00:21<01:28,  1.48s/it]"
     ]
    },
    {
     "name": "stderr",
     "output_type": "stream",
     "text": [
      " 23%|██▎       | 4231/18274 [00:04<00:24, 577.99it/s]] "
     ]
    },
    {
     "name": "stdout",
     "output_type": "stream",
     "text": [
      "\r",
      " 14%|█▍        | 10/69 [00:24<01:54,  1.94s/it]"
     ]
    },
    {
     "name": "stderr",
     "output_type": "stream",
     "text": [
      " 31%|███       | 30867/99258 [02:03<06:56, 164.29it/s]"
     ]
    },
    {
     "name": "stdout",
     "output_type": "stream",
     "text": [
      "\r",
      " 16%|█▌        | 11/69 [00:25<01:41,  1.76s/it]"
     ]
    },
    {
     "name": "stderr",
     "output_type": "stream",
     "text": [
      " 30%|██▉       | 5454/18274 [00:07<00:29, 428.76it/s]]"
     ]
    },
    {
     "name": "stdout",
     "output_type": "stream",
     "text": [
      "\r",
      " 17%|█▋        | 12/69 [00:26<01:36,  1.69s/it]"
     ]
    },
    {
     "name": "stderr",
     "output_type": "stream",
     "text": [
      " 31%|███▏      | 31236/99258 [02:05<08:33, 132.38it/s]"
     ]
    },
    {
     "name": "stdout",
     "output_type": "stream",
     "text": [
      "\r",
      " 19%|█▉        | 13/69 [00:27<01:20,  1.44s/it]"
     ]
    },
    {
     "name": "stderr",
     "output_type": "stream",
     "text": [
      " 93%|█████████▎| 41311/44304 [03:32<00:19, 150.90it/s]]"
     ]
    },
    {
     "name": "stdout",
     "output_type": "stream",
     "text": [
      "\r",
      " 20%|██        | 14/69 [00:30<01:31,  1.67s/it]"
     ]
    },
    {
     "name": "stderr",
     "output_type": "stream",
     "text": [
      "100%|██████████| 16496/16496 [00:26<00:00, 613.44it/s] \n",
      " 32%|███▏      | 31564/99258 [02:08<07:01, 160.44it/s]2022-04-26 16:42:44,797 - INFO - generate_tile_labels -                 x_coord  y_coord  ...  regional_label  intersection_area\n",
      "2022-04-26 16:42:44,797 - INFO - generate_tile_labels - address                           ...                                   \n",
      "2022-04-26 16:42:44,797 - INFO - generate_tile_labels - x44_y102_z20.0    11264    26112  ...          stroma           0.033000\n",
      "2022-04-26 16:42:44,797 - INFO - generate_tile_labels - x44_y103_z20.0    11264    26368  ...          stroma           0.100707\n",
      "2022-04-26 16:42:44,797 - INFO - generate_tile_labels - x45_y102_z20.0    11520    26112  ...          stroma           0.550479\n",
      "2022-04-26 16:42:44,797 - INFO - generate_tile_labels - x45_y103_z20.0    11520    26368  ...          stroma           0.943674\n",
      "2022-04-26 16:42:44,797 - INFO - generate_tile_labels - x45_y104_z20.0    11520    26624  ...          stroma           0.632023\n",
      "2022-04-26 16:42:44,797 - INFO - generate_tile_labels - ...                 ...      ...  ...             ...                ...\n",
      "2022-04-26 16:42:44,797 - INFO - generate_tile_labels - x111_y79_z20.0    28416    20224  ...          stroma           0.622304\n",
      "2022-04-26 16:42:44,797 - INFO - generate_tile_labels - x111_y80_z20.0    28416    20480  ...          stroma           1.000000\n",
      "2022-04-26 16:42:44,797 - INFO - generate_tile_labels - x111_y81_z20.0    28416    20736  ...          stroma           0.577473\n",
      "2022-04-26 16:42:44,797 - INFO - generate_tile_labels - x112_y80_z20.0    28672    20480  ...          stroma           0.251255\n",
      "2022-04-26 16:42:44,797 - INFO - generate_tile_labels - x112_y81_z20.0    28672    20736  ...          stroma           0.045343\n",
      "2022-04-26 16:42:44,797 - INFO - generate_tile_labels - \n",
      "2022-04-26 16:42:44,797 - INFO - generate_tile_labels - [250 rows x 8 columns]\n",
      " 93%|█████████▎| 41351/44304 [03:32<00:17, 171.92it/s]2022-04-26 16:42:44,975 - INFO - luna.common.utils - Code block 'transform::generate_tile_labels' took: 27.462395195998397s\n",
      "2022-04-26 16:42:44,990 - INFO - luna.common.utils - ------------------------------------------------------------\n",
      "2022-04-26 16:42:44,990 - INFO - luna.common.utils -  Done with transform, running post-transform functions... \n",
      "2022-04-26 16:42:44,990 - INFO - luna.common.utils - ------------------------------------------------------------\n",
      " 32%|███▏      | 31598/99258 [02:08<06:53, 163.57it/s]2022-04-26 16:42:45,029 - INFO - luna.common.utils - Done.\n",
      " 52%|█████▏    | 9424/18274 [00:11<00:13, 655.09it/s]]"
     ]
    },
    {
     "name": "stdout",
     "output_type": "stream",
     "text": [
      "save_tiles file:/home/kohlia/vmount/PRO_12-123/data/toy_data_set/01OV008-7579323e-2fae-43a9-b00f-a15c28.svs /home/kohlia/vmount/PRO_12-123/tiling/01OV008-7579323e-2fae-43a9-b00f-a15c28/labled_tiles --num_cores 16 --batch_size 200 --dataset_id PRO_TILES_LABLED\n",
      "['save_tiles', PosixPath('file:/home/kohlia/vmount/PRO_12-123/data/toy_data_set/01OV008-7579323e-2fae-43a9-b00f-a15c28.svs'), '/home/kohlia/vmount/PRO_12-123/tiling/01OV008-7579323e-2fae-43a9-b00f-a15c28/labled_tiles', '--num_cores', '16', '--batch_size', '200', '--dataset_id', 'PRO_TILES_LABLED', '-o', '/home/kohlia/vmount/PRO_12-123/tiling/01OV008-7579323e-2fae-43a9-b00f-a15c28/saved_tiles']\n"
     ]
    },
    {
     "name": "stderr",
     "output_type": "stream",
     "text": [
      " 56%|█████▌    | 10182/18274 [00:13<00:16, 482.34it/s]"
     ]
    },
    {
     "name": "stdout",
     "output_type": "stream",
     "text": [
      "\r",
      " 22%|██▏       | 15/69 [00:32<01:51,  2.06s/it]"
     ]
    },
    {
     "name": "stderr",
     "output_type": "stream",
     "text": [
      " 95%|█████████▌| 42204/44304 [03:37<00:11, 180.07it/s]]"
     ]
    },
    {
     "name": "stdout",
     "output_type": "stream",
     "text": [
      "\r",
      " 23%|██▎       | 16/69 [00:34<01:47,  2.02s/it]"
     ]
    },
    {
     "name": "stderr",
     "output_type": "stream",
     "text": [
      " 96%|█████████▌| 42481/44304 [03:39<00:10, 172.85it/s] "
     ]
    },
    {
     "name": "stdout",
     "output_type": "stream",
     "text": [
      "\r",
      " 25%|██▍       | 17/69 [00:36<01:39,  1.92s/it]"
     ]
    },
    {
     "name": "stderr",
     "output_type": "stream",
     "text": [
      " 96%|█████████▌| 42502/44304 [03:39<00:09, 181.90it/s]2022-04-26 16:42:51,283 - INFO - root - Initalized logger, log file at: data-processing.log\n",
      " 73%|███████▎  | 13322/18274 [00:18<00:15, 319.79it/s]"
     ]
    },
    {
     "name": "stdout",
     "output_type": "stream",
     "text": [
      "\r",
      " 26%|██▌       | 18/69 [00:37<01:28,  1.73s/it]"
     ]
    },
    {
     "name": "stderr",
     "output_type": "stream",
     "text": [
      " 33%|███▎      | 32975/99258 [02:16<07:03, 156.53it/s]"
     ]
    },
    {
     "name": "stdout",
     "output_type": "stream",
     "text": [
      "\r",
      " 28%|██▊       | 19/69 [00:38<01:16,  1.53s/it]"
     ]
    },
    {
     "name": "stderr",
     "output_type": "stream",
     "text": [
      " 97%|█████████▋| 42947/44304 [03:42<00:08, 166.86it/s]"
     ]
    },
    {
     "name": "stdout",
     "output_type": "stream",
     "text": [
      "\r",
      " 29%|██▉       | 20/69 [00:39<01:02,  1.28s/it]"
     ]
    },
    {
     "name": "stderr",
     "output_type": "stream",
     "text": [
      " 34%|███▎      | 33270/99258 [02:18<06:16, 175.48it/s] "
     ]
    },
    {
     "name": "stdout",
     "output_type": "stream",
     "text": [
      "\r",
      " 30%|███       | 21/69 [00:40<00:56,  1.18s/it]"
     ]
    },
    {
     "name": "stderr",
     "output_type": "stream",
     "text": [
      " 98%|█████████▊| 43240/44304 [03:43<00:05, 198.28it/s]"
     ]
    },
    {
     "name": "stdout",
     "output_type": "stream",
     "text": [
      "\r",
      " 32%|███▏      | 22/69 [00:41<00:47,  1.01s/it]"
     ]
    },
    {
     "name": "stderr",
     "output_type": "stream",
     "text": [
      " 34%|███▎      | 33495/99258 [02:19<05:32, 197.90it/s]]"
     ]
    },
    {
     "name": "stdout",
     "output_type": "stream",
     "text": [
      "\r",
      " 33%|███▎      | 23/69 [00:41<00:41,  1.12it/s]"
     ]
    },
    {
     "name": "stderr",
     "output_type": "stream",
     "text": [
      " 89%|████████▊ | 16180/18274 [00:22<00:03, 618.66it/s] "
     ]
    },
    {
     "name": "stdout",
     "output_type": "stream",
     "text": [
      "\r",
      " 35%|███▍      | 24/69 [00:42<00:36,  1.23it/s]"
     ]
    },
    {
     "name": "stderr",
     "output_type": "stream",
     "text": [
      " 93%|█████████▎| 16970/18274 [00:23<00:01, 943.61it/s]"
     ]
    },
    {
     "name": "stdout",
     "output_type": "stream",
     "text": [
      "\r",
      " 36%|███▌      | 25/69 [00:43<00:34,  1.26it/s]"
     ]
    },
    {
     "name": "stderr",
     "output_type": "stream",
     "text": [
      " 96%|█████████▌| 17583/18274 [00:24<00:00, 1409.43it/s]"
     ]
    },
    {
     "name": "stdout",
     "output_type": "stream",
     "text": [
      "\r",
      " 38%|███▊      | 26/69 [00:43<00:31,  1.35it/s]"
     ]
    },
    {
     "name": "stderr",
     "output_type": "stream",
     "text": [
      "100%|██████████| 18274/18274 [00:24<00:00, 734.93it/s] \n",
      " 34%|███▍      | 34147/99258 [02:22<04:13, 257.34it/s]"
     ]
    },
    {
     "name": "stdout",
     "output_type": "stream",
     "text": [
      "\r",
      " 39%|███▉      | 27/69 [00:44<00:29,  1.44it/s]"
     ]
    },
    {
     "name": "stderr",
     "output_type": "stream",
     "text": [
      " 99%|█████████▉| 44047/44304 [03:46<00:00, 283.82it/s]2022-04-26 16:42:59,014 - INFO - generate_tile_labels -                 x_coord  y_coord  ...  regional_label  intersection_area\n",
      "2022-04-26 16:42:59,014 - INFO - generate_tile_labels - address                           ...                                   \n",
      "2022-04-26 16:42:59,014 - INFO - generate_tile_labels - x40_y114_z20.0    10240    29184  ...          stroma           0.022247\n",
      "2022-04-26 16:42:59,014 - INFO - generate_tile_labels - x40_y115_z20.0    10240    29440  ...          stroma           0.664626\n",
      "2022-04-26 16:42:59,014 - INFO - generate_tile_labels - x40_y116_z20.0    10240    29696  ...          stroma           0.974943\n",
      "2022-04-26 16:42:59,014 - INFO - generate_tile_labels - x40_y117_z20.0    10240    29952  ...          stroma           0.772881\n",
      "2022-04-26 16:42:59,014 - INFO - generate_tile_labels - x40_y118_z20.0    10240    30208  ...          stroma           0.469818\n",
      "2022-04-26 16:42:59,014 - INFO - generate_tile_labels - ...                 ...      ...  ...             ...                ...\n",
      "2022-04-26 16:42:59,014 - INFO - generate_tile_labels - x100_y21_z20.0    25600     5376  ...             fat           0.502811\n",
      "2022-04-26 16:42:59,014 - INFO - generate_tile_labels - x100_y22_z20.0    25600     5632  ...             fat           0.636428\n",
      "2022-04-26 16:42:59,014 - INFO - generate_tile_labels - x100_y23_z20.0    25600     5888  ...             fat           0.614154\n",
      "2022-04-26 16:42:59,014 - INFO - generate_tile_labels - x100_y25_z20.0    25600     6400  ...             fat           0.183442\n",
      "2022-04-26 16:42:59,014 - INFO - generate_tile_labels - x100_y26_z20.0    25600     6656  ...             fat           0.002640\n",
      "2022-04-26 16:42:59,014 - INFO - generate_tile_labels - \n",
      "2022-04-26 16:42:59,014 - INFO - generate_tile_labels - [1175 rows x 8 columns]\n",
      " 34%|███▍      | 34173/99258 [02:22<04:24, 246.20it/s]2022-04-26 16:42:59,134 - INFO - luna.common.utils - Code block 'transform::generate_tile_labels' took: 25.31756179600052s\n",
      "2022-04-26 16:42:59,146 - INFO - luna.common.utils - ------------------------------------------------------------\n",
      "2022-04-26 16:42:59,146 - INFO - luna.common.utils -  Done with transform, running post-transform functions... \n",
      "2022-04-26 16:42:59,146 - INFO - luna.common.utils - ------------------------------------------------------------\n",
      "2022-04-26 16:42:59,159 - INFO - luna.common.utils - Done.\n",
      " 35%|███▍      | 34309/99258 [02:23<04:11, 258.69it/s]"
     ]
    },
    {
     "name": "stdout",
     "output_type": "stream",
     "text": [
      "save_tiles file:/home/kohlia/vmount/PRO_12-123/data/toy_data_set/01OV002-ed65cf94-8bc6-492b-9149-adc16f.svs /home/kohlia/vmount/PRO_12-123/tiling/01OV002-ed65cf94-8bc6-492b-9149-adc16f/labled_tiles --num_cores 16 --batch_size 200 --dataset_id PRO_TILES_LABLED\n",
      "['save_tiles', PosixPath('file:/home/kohlia/vmount/PRO_12-123/data/toy_data_set/01OV002-ed65cf94-8bc6-492b-9149-adc16f.svs'), '/home/kohlia/vmount/PRO_12-123/tiling/01OV002-ed65cf94-8bc6-492b-9149-adc16f/labled_tiles', '--num_cores', '16', '--batch_size', '200', '--dataset_id', 'PRO_TILES_LABLED', '-o', '/home/kohlia/vmount/PRO_12-123/tiling/01OV002-ed65cf94-8bc6-492b-9149-adc16f/saved_tiles']\n",
      "\r",
      " 41%|████      | 28/69 [00:45<00:27,  1.48it/s]"
     ]
    },
    {
     "name": "stderr",
     "output_type": "stream",
     "text": [
      "100%|█████████▉| 44264/44304 [03:47<00:00, 288.45it/s]2022-04-26 16:42:59,846 - INFO - luna.common.utils - Started CLI Runner wtih <function save_tiles at 0x7f9cd75a5a60>\n",
      "2022-04-26 16:42:59,849 - INFO - luna.common.utils - Validating params...\n",
      "2022-04-26 16:42:59,853 - INFO - luna.common.utils -  -> Set input_slide_image (<class 'str'>) = file:/home/kohlia/vmount/PRO_12-123/data/toy_data_set/01OV008-7579323e-2fae-43a9-b00f-a15c28.svs\n",
      "2022-04-26 16:42:59,857 - INFO - luna.common.utils -  -> Set input_slide_tiles (<class 'str'>) = /home/kohlia/vmount/PRO_12-123/tiling/01OV008-7579323e-2fae-43a9-b00f-a15c28/labled_tiles\n",
      "2022-04-26 16:42:59,861 - INFO - luna.common.utils -  -> Set output_dir (<class 'str'>) = /home/kohlia/vmount/PRO_12-123/tiling/01OV008-7579323e-2fae-43a9-b00f-a15c28/saved_tiles\n",
      "2022-04-26 16:42:59,863 - INFO - luna.common.utils -  -> Set num_cores (<class 'int'>) = 16\n",
      "2022-04-26 16:42:59,865 - INFO - luna.common.utils -  -> Set batch_size (<class 'int'>) = 200\n",
      "2022-04-26 16:42:59,868 - INFO - luna.common.utils - Expanding inputs...\n",
      "2022-04-26 16:42:59,874 - INFO - luna.common.utils - Attempting to read metadata at file:/home/kohlia/vmount/PRO_12-123/data/toy_data_set/01OV008-7579323e-2fae-43a9-b00f-a15c28.svs/metadata.yml\n",
      " 35%|███▍      | 34376/99258 [02:23<03:38, 297.10it/s]2022-04-26 16:42:59,881 - INFO - luna.common.utils - Attempting to read metadata at /home/kohlia/vmount/PRO_12-123/tiling/01OV008-7579323e-2fae-43a9-b00f-a15c28/labled_tiles/metadata.yml\n",
      "2022-04-26 16:42:59,895 - INFO - luna.common.utils - Expanded input:\n",
      "2022-04-26 16:42:59,895 - INFO - luna.common.utils -  -> /home/kohlia/vmount/PRO_12-123/tiling/01OV008-7579323e-2fae-43a9-b00f-a15c28/labled_tiles\n",
      "2022-04-26 16:42:59,895 - INFO - luna.common.utils -  -> /home/kohlia/vmount/PRO_12-123/tiling/01OV008-7579323e-2fae-43a9-b00f-a15c28/labled_tiles/01OV008-7579323e-2fae-43a9-b00f-a15c28.regional_label.tiles.parquet\n",
      "2022-04-26 16:42:59,897 - INFO - luna.common.utils - Found segment keys: {'dsa_collection_uuid': '62681d02787e8d61b58adf2b', 'slide_id': '01OV008-7579323e-2fae-43a9-b00f-a15c28'}\n",
      "2022-04-26 16:42:59,902 - INFO - luna.common.utils - Resolved input:\n",
      "2022-04-26 16:42:59,902 - INFO - luna.common.utils -  -> file:/home/kohlia/vmount/PRO_12-123/data/toy_data_set/01OV008-7579323e-2fae-43a9-b00f-a15c28.svs\n",
      "2022-04-26 16:42:59,902 - INFO - luna.common.utils -  -> /home/kohlia/vmount/PRO_12-123/data/toy_data_set/01OV008-7579323e-2fae-43a9-b00f-a15c28.svs\n",
      "2022-04-26 16:42:59,907 - INFO - luna.common.utils - Resolved input:\n",
      "2022-04-26 16:42:59,907 - INFO - luna.common.utils -  -> /home/kohlia/vmount/PRO_12-123/tiling/01OV008-7579323e-2fae-43a9-b00f-a15c28/labled_tiles/01OV008-7579323e-2fae-43a9-b00f-a15c28.regional_label.tiles.parquet\n",
      "2022-04-26 16:42:59,907 - INFO - luna.common.utils -  -> /home/kohlia/vmount/PRO_12-123/tiling/01OV008-7579323e-2fae-43a9-b00f-a15c28/labled_tiles/01OV008-7579323e-2fae-43a9-b00f-a15c28.regional_label.tiles.parquet\n",
      "100%|█████████▉| 44293/44304 [03:47<00:00, 283.27it/s]2022-04-26 16:42:59,916 - INFO - luna.common.utils - Full segment key set: {'dsa_collection_uuid': '62681d02787e8d61b58adf2b', 'slide_id': '01OV008-7579323e-2fae-43a9-b00f-a15c28'}\n",
      "2022-04-26 16:42:59,921 - INFO - luna.common.utils - ------------------------------------------------------------\n",
      "2022-04-26 16:42:59,921 - INFO - luna.common.utils -  Starting transform::save_tiles \n",
      "2022-04-26 16:42:59,921 - INFO - luna.common.utils - ------------------------------------------------------------\n",
      "100%|██████████| 44304/44304 [03:47<00:00, 194.48it/s]\n",
      "2022-04-26 16:42:59,966 - INFO - detect_tissue - Filtering based on query: otsu_score > 0.1\n",
      " 35%|███▍      | 34413/99258 [02:23<03:31, 306.63it/s]2022-04-26 16:43:00,015 - INFO - generate_tiles - Now generating tiles with num_cores=16 and batch_size=200!\n",
      "2022-04-26 16:43:00,018 - WARNING - generate_tiles - /home/kohlia/vmount/PRO_12-123/tiling/01OV008-7579323e-2fae-43a9-b00f-a15c28/saved_tiles/01OV008-7579323e-2fae-43a9-b00f-a15c28.tiles.h5 already exists, deleting the file..\n",
      "2022-04-26 16:42:59,987 - INFO - detect_tissue -                  x_coord  y_coord  xy_extent  tile_size tile_units  otsu_score\n",
      "2022-04-26 16:42:59,987 - INFO - detect_tissue - address                                                                       \n",
      "2022-04-26 16:42:59,987 - INFO - detect_tissue - x3_y58_z20.0         768    14848        256        128         px        0.16\n",
      "2022-04-26 16:42:59,987 - INFO - detect_tissue - x6_y171_z20.0       1536    43776        256        128         px        0.16\n",
      "2022-04-26 16:42:59,987 - INFO - detect_tissue - x6_y172_z20.0       1536    44032        256        128         px        0.47\n",
      "2022-04-26 16:42:59,987 - INFO - detect_tissue - x6_y173_z20.0       1536    44288        256        128         px        0.45\n",
      "2022-04-26 16:42:59,987 - INFO - detect_tissue - x6_y174_z20.0       1536    44544        256        128         px        0.35\n",
      "2022-04-26 16:42:59,987 - INFO - detect_tissue - ...                  ...      ...        ...        ...        ...         ...\n",
      "2022-04-26 16:42:59,987 - INFO - detect_tissue - x188_y118_z20.0    48128    30208        256        128         px        0.21\n",
      "2022-04-26 16:42:59,987 - INFO - detect_tissue - x193_y206_z20.0    49408    52736        256        128         px        0.14\n",
      "2022-04-26 16:42:59,987 - INFO - detect_tissue - x200_y167_z20.0    51200    42752        256        128         px        0.15\n",
      "2022-04-26 16:42:59,987 - INFO - detect_tissue - x201_y198_z20.0    51456    50688        256        128         px        0.12\n",
      "2022-04-26 16:42:59,987 - INFO - detect_tissue - x207_y208_z20.0    52992    53248        256        128         px        0.11\n",
      "2022-04-26 16:42:59,987 - INFO - detect_tissue - \n",
      "2022-04-26 16:42:59,987 - INFO - detect_tissue - [19982 rows x 6 columns]\n",
      "2022-04-26 16:43:00,077 - INFO - luna.common.utils - Code block 'transform::detect_tissue' took: 277.80893400999776s\n",
      "2022-04-26 16:43:00,087 - INFO - luna.common.utils - ------------------------------------------------------------\n",
      "2022-04-26 16:43:00,087 - INFO - luna.common.utils -  Done with transform, running post-transform functions... \n",
      "2022-04-26 16:43:00,087 - INFO - luna.common.utils - ------------------------------------------------------------\n",
      "2022-04-26 16:43:00,099 - INFO - luna.common.utils - Done.\n",
      " 35%|███▌      | 34764/99258 [02:24<02:31, 426.67it/s]"
     ]
    },
    {
     "name": "stdout",
     "output_type": "stream",
     "text": [
      "label_tiles ../PRO_12-123/data/toy_data_set/table/ANNOTATIONS /home/kohlia/vmount/PRO_12-123/tiling/01OV002-bd8cdc70-3d46-40ae-99c4-90ef77/detected_tiles\n",
      "['label_tiles', PosixPath('../PRO_12-123/data/toy_data_set/table/ANNOTATIONS'), '/home/kohlia/vmount/PRO_12-123/tiling/01OV002-bd8cdc70-3d46-40ae-99c4-90ef77/detected_tiles', '-o', '/home/kohlia/vmount/PRO_12-123/tiling/01OV002-bd8cdc70-3d46-40ae-99c4-90ef77/labled_tiles']\n"
     ]
    },
    {
     "name": "stderr",
     "output_type": "stream",
     "text": [
      " 35%|███▌      | 35225/99258 [02:25<02:38, 403.17it/s]2022-04-26 16:43:02,040 - INFO - root - Initalized logger, log file at: data-processing.log\n",
      " 36%|███▌      | 35587/99258 [02:26<03:31, 301.40it/s]"
     ]
    },
    {
     "name": "stdout",
     "output_type": "stream",
     "text": [
      "\r",
      "  0%|          | 0/83 [00:00<?, ?it/s]"
     ]
    },
    {
     "name": "stderr",
     "output_type": "stream",
     "text": [
      " 36%|███▌      | 35744/99258 [02:26<03:56, 268.57it/s]2022-04-26 16:43:03,627 - INFO - root - Initalized logger, log file at: data-processing.log\n",
      "2022-04-26 16:43:03,632 - INFO - luna.common.utils - Started CLI Runner wtih <function generate_tile_labels at 0x7f5237e72940>\n",
      "2022-04-26 16:43:03,643 - INFO - luna.common.utils - Validating params...\n",
      "2022-04-26 16:43:03,666 - INFO - luna.common.utils -  -> Set input_slide_annotation_dataset (<class 'str'>) = ../PRO_12-123/data/toy_data_set/table/ANNOTATIONS\n",
      "2022-04-26 16:43:03,692 - INFO - luna.common.utils -  -> Set input_slide_tiles (<class 'str'>) = /home/kohlia/vmount/PRO_12-123/tiling/01OV002-bd8cdc70-3d46-40ae-99c4-90ef77/detected_tiles\n",
      "2022-04-26 16:43:03,716 - INFO - luna.common.utils -  -> Set output_dir (<class 'str'>) = /home/kohlia/vmount/PRO_12-123/tiling/01OV002-bd8cdc70-3d46-40ae-99c4-90ef77/labled_tiles\n",
      " 36%|███▌      | 35776/99258 [02:27<03:47, 278.69it/s]2022-04-26 16:43:03,740 - INFO - luna.common.utils - Expanding inputs...\n",
      "2022-04-26 16:43:03,755 - INFO - luna.common.utils - Attempting to read metadata at ../PRO_12-123/data/toy_data_set/table/ANNOTATIONS/metadata.yml\n",
      "2022-04-26 16:43:03,783 - INFO - luna.common.utils - Expanded input:\n",
      "2022-04-26 16:43:03,783 - INFO - luna.common.utils -  -> ../PRO_12-123/data/toy_data_set/table/ANNOTATIONS\n",
      "2022-04-26 16:43:03,783 - INFO - luna.common.utils -  -> ../PRO_12-123/data/toy_data_set/table/ANNOTATIONS/slide_annotation_dataset_TCGA collection_ov_regional.parquet\n",
      "2022-04-26 16:43:03,800 - INFO - luna.common.utils - Found segment keys: {'dsa_collection_uuid': '62681d02787e8d61b58adf2b'}\n",
      "2022-04-26 16:43:03,822 - INFO - luna.common.utils - Attempting to read metadata at /home/kohlia/vmount/PRO_12-123/tiling/01OV002-bd8cdc70-3d46-40ae-99c4-90ef77/detected_tiles/metadata.yml\n",
      " 36%|███▌      | 35808/99258 [02:27<03:41, 286.40it/s]2022-04-26 16:43:03,875 - INFO - luna.common.utils - Expanded input:\n",
      "2022-04-26 16:43:03,875 - INFO - luna.common.utils -  -> /home/kohlia/vmount/PRO_12-123/tiling/01OV002-bd8cdc70-3d46-40ae-99c4-90ef77/detected_tiles\n",
      "2022-04-26 16:43:03,875 - INFO - luna.common.utils -  -> /home/kohlia/vmount/PRO_12-123/tiling/01OV002-bd8cdc70-3d46-40ae-99c4-90ef77/detected_tiles/01OV002-bd8cdc70-3d46-40ae-99c4-90ef77-filtered.tiles.parquet\n",
      "2022-04-26 16:43:03,892 - INFO - luna.common.utils - Found segment keys: {'slide_id': '01OV002-bd8cdc70-3d46-40ae-99c4-90ef77'}\n",
      "2022-04-26 16:43:03,904 - INFO - luna.common.utils - Resolved input:\n",
      "2022-04-26 16:43:03,904 - INFO - luna.common.utils -  -> ../PRO_12-123/data/toy_data_set/table/ANNOTATIONS/slide_annotation_dataset_TCGA collection_ov_regional.parquet\n",
      "2022-04-26 16:43:03,904 - INFO - luna.common.utils -  -> /home/kohlia/vmount/PRO_12-123/data/toy_data_set/table/ANNOTATIONS/slide_annotation_dataset_TCGA collection_ov_regional.parquet\n",
      "2022-04-26 16:43:03,914 - INFO - luna.common.utils - Resolved input:\n",
      "2022-04-26 16:43:03,914 - INFO - luna.common.utils -  -> /home/kohlia/vmount/PRO_12-123/tiling/01OV002-bd8cdc70-3d46-40ae-99c4-90ef77/detected_tiles/01OV002-bd8cdc70-3d46-40ae-99c4-90ef77-filtered.tiles.parquet\n",
      "2022-04-26 16:43:03,914 - INFO - luna.common.utils -  -> /home/kohlia/vmount/PRO_12-123/tiling/01OV002-bd8cdc70-3d46-40ae-99c4-90ef77/detected_tiles/01OV002-bd8cdc70-3d46-40ae-99c4-90ef77-filtered.tiles.parquet\n",
      "2022-04-26 16:43:03,928 - INFO - luna.common.utils - Full segment key set: {'dsa_collection_uuid': '62681d02787e8d61b58adf2b', 'slide_id': '01OV002-bd8cdc70-3d46-40ae-99c4-90ef77'}\n",
      "2022-04-26 16:43:03,946 - INFO - luna.common.utils - ------------------------------------------------------------\n",
      "2022-04-26 16:43:03,946 - INFO - luna.common.utils -  Starting transform::generate_tile_labels \n",
      "2022-04-26 16:43:03,946 - INFO - luna.common.utils - ------------------------------------------------------------\n",
      " 36%|███▌      | 35838/99258 [02:27<03:50, 275.02it/s]2022-04-26 16:43:03,971 - INFO - generate_tile_labels - slide_id=01OV002-bd8cdc70-3d46-40ae-99c4-90ef77\n"
     ]
    },
    {
     "name": "stdout",
     "output_type": "stream",
     "text": [
      "\r",
      " 42%|████▏     | 29/69 [00:49<01:09,  1.73s/it]"
     ]
    },
    {
     "name": "stderr",
     "output_type": "stream",
     "text": [
      "\r",
      " 36%|███▌      | 35866/99258 [02:27<04:12, 251.17it/s]\r",
      " 36%|███▌      | 35892/99258 [02:27<04:12, 250.91it/s]\r",
      "  0%|          | 0/19982 [00:00<?, ?it/s]"
     ]
    },
    {
     "name": "stdout",
     "output_type": "stream",
     "text": [
      "../PRO_12-123/data/toy_data_set/table/ANNOTATIONS/01OV002-bd8cdc70-3d46-40ae-99c4-90ef77.annotation.geojson TCGA collection ov_regional\n"
     ]
    },
    {
     "name": "stderr",
     "output_type": "stream",
     "text": [
      " 36%|███▋      | 36136/99258 [02:28<05:11, 202.40it/s]"
     ]
    },
    {
     "name": "stdout",
     "output_type": "stream",
     "text": [
      "\r",
      " 43%|████▎     | 30/69 [00:50<01:05,  1.69s/it]"
     ]
    },
    {
     "name": "stderr",
     "output_type": "stream",
     "text": [
      " 36%|███▋      | 36209/99258 [02:29<07:00, 149.91it/s]"
     ]
    },
    {
     "name": "stdout",
     "output_type": "stream",
     "text": [
      "\r",
      " 45%|████▍     | 31/69 [00:51<00:51,  1.36s/it]"
     ]
    },
    {
     "name": "stderr",
     "output_type": "stream",
     "text": [
      "  9%|▉         | 1771/19982 [00:02<00:43, 415.18it/s]]"
     ]
    },
    {
     "name": "stdout",
     "output_type": "stream",
     "text": [
      "\r",
      " 46%|████▋     | 32/69 [00:52<00:42,  1.15s/it]"
     ]
    },
    {
     "name": "stderr",
     "output_type": "stream",
     "text": [
      " 37%|███▋      | 36524/99258 [02:31<05:22, 194.72it/s]"
     ]
    },
    {
     "name": "stdout",
     "output_type": "stream",
     "text": [
      "\r",
      " 48%|████▊     | 33/69 [00:53<00:40,  1.12s/it]"
     ]
    },
    {
     "name": "stderr",
     "output_type": "stream",
     "text": [
      " 18%|█▊        | 3624/19982 [00:05<00:18, 877.06it/s]]"
     ]
    },
    {
     "name": "stdout",
     "output_type": "stream",
     "text": [
      "\r",
      " 49%|████▉     | 34/69 [00:55<00:48,  1.37s/it]\r",
      "  1%|          | 1/83 [00:06<09:21,  6.85s/it]"
     ]
    },
    {
     "name": "stderr",
     "output_type": "stream",
     "text": [
      " 37%|███▋      | 36999/99258 [02:33<05:37, 184.47it/s]2022-04-26 16:43:10,200 - INFO - luna.common.utils - Started CLI Runner wtih <function save_tiles at 0x7f2f20247a60>\n",
      "2022-04-26 16:43:10,224 - INFO - luna.common.utils - Validating params...\n",
      "2022-04-26 16:43:10,234 - INFO - luna.common.utils -  -> Set input_slide_image (<class 'str'>) = file:/home/kohlia/vmount/PRO_12-123/data/toy_data_set/01OV002-ed65cf94-8bc6-492b-9149-adc16f.svs\n",
      "2022-04-26 16:43:10,244 - INFO - luna.common.utils -  -> Set input_slide_tiles (<class 'str'>) = /home/kohlia/vmount/PRO_12-123/tiling/01OV002-ed65cf94-8bc6-492b-9149-adc16f/labled_tiles\n",
      "2022-04-26 16:43:10,259 - INFO - luna.common.utils -  -> Set output_dir (<class 'str'>) = /home/kohlia/vmount/PRO_12-123/tiling/01OV002-ed65cf94-8bc6-492b-9149-adc16f/saved_tiles\n",
      "2022-04-26 16:43:10,266 - INFO - luna.common.utils -  -> Set num_cores (<class 'int'>) = 16\n",
      "2022-04-26 16:43:10,270 - INFO - luna.common.utils -  -> Set batch_size (<class 'int'>) = 200\n",
      "2022-04-26 16:43:10,274 - INFO - luna.common.utils - Expanding inputs...\n",
      "2022-04-26 16:43:10,281 - INFO - luna.common.utils - Attempting to read metadata at file:/home/kohlia/vmount/PRO_12-123/data/toy_data_set/01OV002-ed65cf94-8bc6-492b-9149-adc16f.svs/metadata.yml\n",
      "2022-04-26 16:43:10,291 - INFO - luna.common.utils - Attempting to read metadata at /home/kohlia/vmount/PRO_12-123/tiling/01OV002-ed65cf94-8bc6-492b-9149-adc16f/labled_tiles/metadata.yml\n",
      " 37%|███▋      | 37018/99258 [02:33<05:52, 176.41it/s]2022-04-26 16:43:10,304 - INFO - luna.common.utils - Expanded input:\n",
      "2022-04-26 16:43:10,304 - INFO - luna.common.utils -  -> /home/kohlia/vmount/PRO_12-123/tiling/01OV002-ed65cf94-8bc6-492b-9149-adc16f/labled_tiles\n",
      "2022-04-26 16:43:10,304 - INFO - luna.common.utils -  -> /home/kohlia/vmount/PRO_12-123/tiling/01OV002-ed65cf94-8bc6-492b-9149-adc16f/labled_tiles/01OV002-ed65cf94-8bc6-492b-9149-adc16f.regional_label.tiles.parquet\n",
      "2022-04-26 16:43:10,314 - INFO - luna.common.utils - Found segment keys: {'dsa_collection_uuid': '62681d02787e8d61b58adf2b', 'slide_id': '01OV002-ed65cf94-8bc6-492b-9149-adc16f'}\n",
      "2022-04-26 16:43:10,317 - INFO - luna.common.utils - Resolved input:\n",
      "2022-04-26 16:43:10,317 - INFO - luna.common.utils -  -> file:/home/kohlia/vmount/PRO_12-123/data/toy_data_set/01OV002-ed65cf94-8bc6-492b-9149-adc16f.svs\n",
      "2022-04-26 16:43:10,317 - INFO - luna.common.utils -  -> /home/kohlia/vmount/PRO_12-123/data/toy_data_set/01OV002-ed65cf94-8bc6-492b-9149-adc16f.svs\n",
      "2022-04-26 16:43:10,333 - INFO - luna.common.utils - Resolved input:\n",
      "2022-04-26 16:43:10,333 - INFO - luna.common.utils -  -> /home/kohlia/vmount/PRO_12-123/tiling/01OV002-ed65cf94-8bc6-492b-9149-adc16f/labled_tiles/01OV002-ed65cf94-8bc6-492b-9149-adc16f.regional_label.tiles.parquet\n",
      "2022-04-26 16:43:10,333 - INFO - luna.common.utils -  -> /home/kohlia/vmount/PRO_12-123/tiling/01OV002-ed65cf94-8bc6-492b-9149-adc16f/labled_tiles/01OV002-ed65cf94-8bc6-492b-9149-adc16f.regional_label.tiles.parquet\n",
      "2022-04-26 16:43:10,339 - INFO - luna.common.utils - Full segment key set: {'dsa_collection_uuid': '62681d02787e8d61b58adf2b', 'slide_id': '01OV002-ed65cf94-8bc6-492b-9149-adc16f'}\n",
      "2022-04-26 16:43:10,344 - INFO - luna.common.utils - ------------------------------------------------------------\n",
      "2022-04-26 16:43:10,344 - INFO - luna.common.utils -  Starting transform::save_tiles \n",
      "2022-04-26 16:43:10,344 - INFO - luna.common.utils - ------------------------------------------------------------\n",
      " 21%|██▏       | 4280/19982 [00:06<00:23, 660.92it/s]2022-04-26 16:43:10,580 - INFO - generate_tiles - Now generating tiles with num_cores=16 and batch_size=200!\n",
      "2022-04-26 16:43:10,593 - WARNING - generate_tiles - /home/kohlia/vmount/PRO_12-123/tiling/01OV002-ed65cf94-8bc6-492b-9149-adc16f/saved_tiles/01OV002-ed65cf94-8bc6-492b-9149-adc16f.tiles.h5 already exists, deleting the file..\n",
      " 26%|██▌       | 5105/19982 [00:07<00:15, 978.36it/s]]"
     ]
    },
    {
     "name": "stdout",
     "output_type": "stream",
     "text": [
      "\r",
      " 51%|█████     | 35/69 [00:57<00:53,  1.58s/it]"
     ]
    },
    {
     "name": "stderr",
     "output_type": "stream",
     "text": [
      " 38%|███▊      | 37427/99258 [02:35<04:34, 225.54it/s]"
     ]
    },
    {
     "name": "stdout",
     "output_type": "stream",
     "text": [
      "\r",
      "  2%|▏         | 2/83 [00:09<05:44,  4.25s/it]"
     ]
    },
    {
     "name": "stderr",
     "output_type": "stream",
     "text": [
      " 33%|███▎      | 6562/19982 [00:09<00:29, 449.92it/s]]"
     ]
    },
    {
     "name": "stdout",
     "output_type": "stream",
     "text": [
      "\r",
      " 52%|█████▏    | 36/69 [00:59<00:58,  1.79s/it]"
     ]
    },
    {
     "name": "stderr",
     "output_type": "stream",
     "text": [
      " 34%|███▍      | 6759/19982 [00:10<00:33, 400.32it/s]]"
     ]
    },
    {
     "name": "stdout",
     "output_type": "stream",
     "text": [
      "\r",
      "  4%|▎         | 3/83 [00:11<04:23,  3.29s/it]"
     ]
    },
    {
     "name": "stderr",
     "output_type": "stream",
     "text": [
      " 36%|███▋      | 7289/19982 [00:11<00:24, 510.32it/s]]"
     ]
    },
    {
     "name": "stdout",
     "output_type": "stream",
     "text": [
      "\r",
      "  0%|          | 0/92 [00:00<?, ?it/s]"
     ]
    },
    {
     "name": "stderr",
     "output_type": "stream",
     "text": [
      " 39%|███▉      | 7855/19982 [00:12<00:18, 655.82it/s]]"
     ]
    },
    {
     "name": "stdout",
     "output_type": "stream",
     "text": [
      "\r",
      " 54%|█████▎    | 37/69 [01:02<01:06,  2.09s/it]"
     ]
    },
    {
     "name": "stderr",
     "output_type": "stream",
     "text": [
      " 43%|████▎     | 8680/19982 [00:13<00:16, 696.70it/s]]"
     ]
    },
    {
     "name": "stdout",
     "output_type": "stream",
     "text": [
      "\r",
      "  5%|▍         | 4/83 [00:14<04:26,  3.37s/it]"
     ]
    },
    {
     "name": "stderr",
     "output_type": "stream",
     "text": [
      " 39%|███▉      | 38718/99258 [02:44<07:42, 130.76it/s]"
     ]
    },
    {
     "name": "stdout",
     "output_type": "stream",
     "text": [
      "\r",
      " 55%|█████▌    | 38/69 [01:06<01:24,  2.74s/it]"
     ]
    },
    {
     "name": "stderr",
     "output_type": "stream",
     "text": [
      " 54%|█████▍    | 10778/19982 [00:17<00:15, 588.03it/s]"
     ]
    },
    {
     "name": "stdout",
     "output_type": "stream",
     "text": [
      "\r",
      "  6%|▌         | 5/83 [00:18<04:30,  3.47s/it]"
     ]
    },
    {
     "name": "stderr",
     "output_type": "stream",
     "text": [
      " 57%|█████▋    | 11411/19982 [00:19<00:35, 244.69it/s]"
     ]
    },
    {
     "name": "stdout",
     "output_type": "stream",
     "text": [
      "\r",
      " 57%|█████▋    | 39/69 [01:09<01:21,  2.73s/it]\r",
      "  7%|▋         | 6/83 [00:20<03:57,  3.09s/it]"
     ]
    },
    {
     "name": "stderr",
     "output_type": "stream",
     "text": [
      " 40%|███▉      | 39297/99258 [02:49<08:03, 123.93it/s]"
     ]
    },
    {
     "name": "stdout",
     "output_type": "stream",
     "text": [
      "\r",
      " 58%|█████▊    | 40/69 [01:11<01:12,  2.49s/it]"
     ]
    },
    {
     "name": "stderr",
     "output_type": "stream",
     "text": [
      "\r",
      " 60%|██████    | 12030/19982 [00:21<00:27, 291.37it/s]\r",
      " 40%|███▉      | 39312/99258 [02:49<09:21, 106.84it/s]\r",
      " 60%|██████    | 12060/19982 [00:21<00:27, 290.58it/s]"
     ]
    },
    {
     "name": "stdout",
     "output_type": "stream",
     "text": [
      "\r",
      "  8%|▊         | 7/83 [00:23<03:29,  2.76s/it]"
     ]
    },
    {
     "name": "stderr",
     "output_type": "stream",
     "text": [
      " 67%|██████▋   | 13363/19982 [00:24<00:16, 408.44it/s] "
     ]
    },
    {
     "name": "stdout",
     "output_type": "stream",
     "text": [
      "\r",
      " 59%|█████▉    | 41/69 [01:14<01:13,  2.62s/it]"
     ]
    },
    {
     "name": "stderr",
     "output_type": "stream",
     "text": [
      "\r",
      " 40%|███▉      | 39649/99258 [02:52<07:51, 126.30it/s]\r",
      " 67%|██████▋   | 13418/19982 [00:24<00:17, 383.82it/s]\r",
      " 40%|███▉      | 39662/99258 [02:52<07:59, 124.26it/s]"
     ]
    },
    {
     "name": "stdout",
     "output_type": "stream",
     "text": [
      "\r",
      " 10%|▉         | 8/83 [00:25<03:31,  2.82s/it]"
     ]
    },
    {
     "name": "stderr",
     "output_type": "stream",
     "text": [
      " 40%|████      | 39720/99258 [02:52<07:53, 125.64it/s]"
     ]
    },
    {
     "name": "stdout",
     "output_type": "stream",
     "text": [
      "\r",
      "  1%|          | 1/92 [00:13<20:27, 13.49s/it]"
     ]
    },
    {
     "name": "stderr",
     "output_type": "stream",
     "text": [
      " 40%|████      | 40159/99258 [02:55<08:02, 122.47it/s]]"
     ]
    },
    {
     "name": "stdout",
     "output_type": "stream",
     "text": [
      "\r",
      " 61%|██████    | 42/69 [01:17<01:19,  2.95s/it]"
     ]
    },
    {
     "name": "stderr",
     "output_type": "stream",
     "text": [
      " 81%|████████  | 16198/19982 [00:28<00:04, 856.98it/s] "
     ]
    },
    {
     "name": "stdout",
     "output_type": "stream",
     "text": [
      "\r",
      " 11%|█         | 9/83 [00:30<04:00,  3.24s/it]"
     ]
    },
    {
     "name": "stderr",
     "output_type": "stream",
     "text": [
      " 41%|████      | 40283/99258 [02:56<08:15, 118.94it/s]"
     ]
    },
    {
     "name": "stdout",
     "output_type": "stream",
     "text": [
      "\r",
      "  2%|▏         | 2/92 [00:17<12:10,  8.12s/it]"
     ]
    },
    {
     "name": "stderr",
     "output_type": "stream",
     "text": [
      " 86%|████████▋ | 17235/19982 [00:31<00:11, 248.86it/s]"
     ]
    },
    {
     "name": "stdout",
     "output_type": "stream",
     "text": [
      "\r",
      " 62%|██████▏   | 43/69 [01:21<01:22,  3.15s/it]\r",
      " 12%|█▏        | 10/83 [00:33<03:51,  3.17s/it]"
     ]
    },
    {
     "name": "stderr",
     "output_type": "stream",
     "text": [
      " 41%|████      | 40646/99258 [02:59<09:13, 105.94it/s]"
     ]
    },
    {
     "name": "stdout",
     "output_type": "stream",
     "text": [
      "\r",
      "  3%|▎         | 3/92 [00:20<08:24,  5.67s/it]"
     ]
    },
    {
     "name": "stderr",
     "output_type": "stream",
     "text": [
      " 91%|█████████ | 18137/19982 [00:34<00:06, 294.68it/s]"
     ]
    },
    {
     "name": "stdout",
     "output_type": "stream",
     "text": [
      "\r",
      " 13%|█▎        | 11/83 [00:35<03:36,  3.00s/it]"
     ]
    },
    {
     "name": "stderr",
     "output_type": "stream",
     "text": [
      "\r",
      " 41%|████      | 40913/99258 [03:02<09:00, 108.04it/s]\r",
      " 91%|█████████ | 18169/19982 [00:34<00:06, 299.61it/s]\r",
      " 41%|████      | 40924/99258 [03:02<09:17, 104.70it/s]\r",
      " 91%|█████████ | 18200/19982 [00:34<00:05, 297.79it/s]"
     ]
    },
    {
     "name": "stdout",
     "output_type": "stream",
     "text": [
      "\r",
      " 64%|██████▍   | 44/69 [01:24<01:17,  3.10s/it]"
     ]
    },
    {
     "name": "stderr",
     "output_type": "stream",
     "text": [
      " 92%|█████████▏| 18472/19982 [00:35<00:03, 394.71it/s]"
     ]
    },
    {
     "name": "stdout",
     "output_type": "stream",
     "text": [
      "\r",
      "  4%|▍         | 4/92 [00:24<07:00,  4.78s/it]"
     ]
    },
    {
     "name": "stderr",
     "output_type": "stream",
     "text": [
      "100%|██████████| 19982/19982 [00:37<00:00, 530.35it/s] \n",
      " 42%|████▏     | 41288/99258 [03:05<07:23, 130.74it/s]2022-04-26 16:43:42,005 - INFO - generate_tile_labels -                  x_coord  y_coord  ...  regional_label  intersection_area\n",
      "2022-04-26 16:43:42,005 - INFO - generate_tile_labels - address                            ...                                   \n",
      "2022-04-26 16:43:42,005 - INFO - generate_tile_labels - x52_y114_z20.0     13312    29184  ...          stroma           0.055345\n",
      "2022-04-26 16:43:42,005 - INFO - generate_tile_labels - x53_y113_z20.0     13568    28928  ...          stroma           0.212376\n",
      "2022-04-26 16:43:42,005 - INFO - generate_tile_labels - x53_y114_z20.0     13568    29184  ...          stroma           0.965976\n",
      "2022-04-26 16:43:42,005 - INFO - generate_tile_labels - x53_y115_z20.0     13568    29440  ...          stroma           0.344496\n",
      "2022-04-26 16:43:42,005 - INFO - generate_tile_labels - x54_y112_z20.0     13824    28672  ...          stroma           0.061422\n",
      "2022-04-26 16:43:42,005 - INFO - generate_tile_labels - ...                  ...      ...  ...             ...                ...\n",
      "2022-04-26 16:43:42,005 - INFO - generate_tile_labels - x131_y146_z20.0    33536    37376  ...           tumor           0.166847\n",
      "2022-04-26 16:43:42,005 - INFO - generate_tile_labels - x131_y147_z20.0    33536    37632  ...           tumor           0.096977\n",
      "2022-04-26 16:43:42,005 - INFO - generate_tile_labels - x132_y140_z20.0    33792    35840  ...           tumor           0.245755\n",
      "2022-04-26 16:43:42,005 - INFO - generate_tile_labels - x132_y141_z20.0    33792    36096  ...           tumor           0.504036\n",
      "2022-04-26 16:43:42,005 - INFO - generate_tile_labels - x132_y142_z20.0    33792    36352  ...           tumor           0.250175\n",
      "2022-04-26 16:43:42,005 - INFO - generate_tile_labels - \n",
      "2022-04-26 16:43:42,005 - INFO - generate_tile_labels - [513 rows x 8 columns]\n",
      " 42%|████▏     | 41341/99258 [03:05<07:20, 131.43it/s]2022-04-26 16:43:42,537 - INFO - luna.common.utils - Code block 'transform::generate_tile_labels' took: 38.586125895002624s\n",
      " 42%|████▏     | 41363/99258 [03:05<06:25, 150.35it/s]2022-04-26 16:43:42,567 - INFO - luna.common.utils - ------------------------------------------------------------\n",
      "2022-04-26 16:43:42,567 - INFO - luna.common.utils -  Done with transform, running post-transform functions... \n",
      "2022-04-26 16:43:42,567 - INFO - luna.common.utils - ------------------------------------------------------------\n"
     ]
    },
    {
     "name": "stdout",
     "output_type": "stream",
     "text": [
      "\r",
      " 14%|█▍        | 12/83 [00:39<03:52,  3.28s/it]"
     ]
    },
    {
     "name": "stderr",
     "output_type": "stream",
     "text": [
      "2022-04-26 16:43:42,652 - INFO - luna.common.utils - Done.\n",
      " 42%|████▏     | 41431/99258 [03:06<06:17, 152.98it/s]"
     ]
    },
    {
     "name": "stdout",
     "output_type": "stream",
     "text": [
      "\r",
      " 65%|██████▌   | 45/69 [01:28<01:21,  3.42s/it]save_tiles file:/home/kohlia/vmount/PRO_12-123/data/toy_data_set/01OV002-bd8cdc70-3d46-40ae-99c4-90ef77.svs /home/kohlia/vmount/PRO_12-123/tiling/01OV002-bd8cdc70-3d46-40ae-99c4-90ef77/labled_tiles --num_cores 16 --batch_size 200 --dataset_id PRO_TILES_LABLED\n",
      "['save_tiles', PosixPath('file:/home/kohlia/vmount/PRO_12-123/data/toy_data_set/01OV002-bd8cdc70-3d46-40ae-99c4-90ef77.svs'), '/home/kohlia/vmount/PRO_12-123/tiling/01OV002-bd8cdc70-3d46-40ae-99c4-90ef77/labled_tiles', '--num_cores', '16', '--batch_size', '200', '--dataset_id', 'PRO_TILES_LABLED', '-o', '/home/kohlia/vmount/PRO_12-123/tiling/01OV002-bd8cdc70-3d46-40ae-99c4-90ef77/saved_tiles']\n"
     ]
    },
    {
     "name": "stderr",
     "output_type": "stream",
     "text": [
      " 42%|████▏     | 41573/99258 [03:07<06:42, 143.19it/s]"
     ]
    },
    {
     "name": "stdout",
     "output_type": "stream",
     "text": [
      "\r",
      "  5%|▌         | 5/92 [00:28<06:40,  4.61s/it]"
     ]
    },
    {
     "name": "stderr",
     "output_type": "stream",
     "text": [
      " 42%|████▏     | 41880/99258 [03:09<08:03, 118.56it/s]"
     ]
    },
    {
     "name": "stdout",
     "output_type": "stream",
     "text": [
      "\r",
      " 16%|█▌        | 13/83 [00:43<04:03,  3.48s/it]\r",
      " 67%|██████▋   | 46/69 [01:32<01:19,  3.46s/it]"
     ]
    },
    {
     "name": "stderr",
     "output_type": "stream",
     "text": [
      " 42%|████▏     | 42015/99258 [03:10<07:42, 123.79it/s]"
     ]
    },
    {
     "name": "stdout",
     "output_type": "stream",
     "text": [
      "\r",
      "  7%|▋         | 6/92 [00:31<06:02,  4.21s/it]"
     ]
    },
    {
     "name": "stderr",
     "output_type": "stream",
     "text": [
      " 43%|████▎     | 42238/99258 [03:12<09:43, 97.67it/s] "
     ]
    },
    {
     "name": "stdout",
     "output_type": "stream",
     "text": [
      "\r",
      " 17%|█▋        | 14/83 [00:46<03:47,  3.30s/it]\r",
      " 68%|██████▊   | 47/69 [01:34<01:12,  3.28s/it]"
     ]
    },
    {
     "name": "stderr",
     "output_type": "stream",
     "text": [
      " 43%|████▎     | 42348/99258 [03:13<08:41, 109.02it/s]"
     ]
    },
    {
     "name": "stdout",
     "output_type": "stream",
     "text": [
      "\r",
      "  8%|▊         | 7/92 [00:34<05:23,  3.81s/it]"
     ]
    },
    {
     "name": "stderr",
     "output_type": "stream",
     "text": [
      " 43%|████▎     | 42553/99258 [03:15<07:32, 125.20it/s]"
     ]
    },
    {
     "name": "stdout",
     "output_type": "stream",
     "text": [
      "\r",
      " 18%|█▊        | 15/83 [00:49<03:36,  3.18s/it]"
     ]
    },
    {
     "name": "stderr",
     "output_type": "stream",
     "text": [
      " 43%|████▎     | 42603/99258 [03:16<09:22, 100.67it/s]"
     ]
    },
    {
     "name": "stdout",
     "output_type": "stream",
     "text": [
      "\r",
      " 70%|██████▉   | 48/69 [01:38<01:09,  3.29s/it]"
     ]
    },
    {
     "name": "stderr",
     "output_type": "stream",
     "text": [
      " 43%|████▎     | 42640/99258 [03:16<09:29, 99.37it/s] 2022-04-26 16:43:53,256 - INFO - root - Initalized logger, log file at: data-processing.log\n",
      " 43%|████▎     | 42711/99258 [03:17<09:42, 97.02it/s] "
     ]
    },
    {
     "name": "stdout",
     "output_type": "stream",
     "text": [
      "\r",
      "  9%|▊         | 8/92 [00:38<05:11,  3.71s/it]"
     ]
    },
    {
     "name": "stderr",
     "output_type": "stream",
     "text": [
      " 43%|████▎     | 42871/99258 [03:18<07:12, 130.26it/s]"
     ]
    },
    {
     "name": "stdout",
     "output_type": "stream",
     "text": [
      "\r",
      " 19%|█▉        | 16/83 [00:52<03:27,  3.10s/it]"
     ]
    },
    {
     "name": "stderr",
     "output_type": "stream",
     "text": [
      "\r",
      " 43%|████▎     | 42888/99258 [03:18<06:50, 137.21it/s]\r",
      " 43%|████▎     | 42907/99258 [03:18<06:11, 151.56it/s]"
     ]
    },
    {
     "name": "stdout",
     "output_type": "stream",
     "text": [
      "\r",
      " 71%|███████   | 49/69 [01:40<01:02,  3.12s/it]"
     ]
    },
    {
     "name": "stderr",
     "output_type": "stream",
     "text": [
      " 44%|████▎     | 43192/99258 [03:20<05:17, 176.34it/s]"
     ]
    },
    {
     "name": "stdout",
     "output_type": "stream",
     "text": [
      "\r",
      " 10%|▉         | 9/92 [00:41<04:58,  3.59s/it]"
     ]
    },
    {
     "name": "stderr",
     "output_type": "stream",
     "text": [
      " 44%|████▎     | 43345/99258 [03:21<05:09, 180.71it/s]"
     ]
    },
    {
     "name": "stdout",
     "output_type": "stream",
     "text": [
      "\r",
      " 20%|██        | 17/83 [00:55<03:21,  3.06s/it]\r",
      " 72%|███████▏  | 50/69 [01:43<00:57,  3.01s/it]"
     ]
    },
    {
     "name": "stderr",
     "output_type": "stream",
     "text": [
      " 44%|████▍     | 43565/99258 [03:22<05:24, 171.37it/s]"
     ]
    },
    {
     "name": "stdout",
     "output_type": "stream",
     "text": [
      "\r",
      " 11%|█         | 10/92 [00:43<04:18,  3.16s/it]"
     ]
    },
    {
     "name": "stderr",
     "output_type": "stream",
     "text": [
      " 44%|████▍     | 43648/99258 [03:23<04:45, 194.96it/s]"
     ]
    },
    {
     "name": "stdout",
     "output_type": "stream",
     "text": [
      "\r",
      " 22%|██▏       | 18/83 [00:56<02:51,  2.64s/it]"
     ]
    },
    {
     "name": "stderr",
     "output_type": "stream",
     "text": [
      "\r",
      " 44%|████▍     | 43668/99258 [03:23<05:06, 181.10it/s]\r",
      " 44%|████▍     | 43687/99258 [03:23<05:16, 175.46it/s]"
     ]
    },
    {
     "name": "stdout",
     "output_type": "stream",
     "text": [
      "\r",
      " 74%|███████▍  | 51/69 [01:45<00:47,  2.63s/it]"
     ]
    },
    {
     "name": "stderr",
     "output_type": "stream",
     "text": [
      " 44%|████▍     | 43973/99258 [03:25<05:11, 177.48it/s]"
     ]
    },
    {
     "name": "stdout",
     "output_type": "stream",
     "text": [
      "\r",
      " 12%|█▏        | 11/92 [00:46<03:56,  2.92s/it]"
     ]
    },
    {
     "name": "stderr",
     "output_type": "stream",
     "text": [
      "\r",
      " 44%|████▍     | 43993/99258 [03:25<05:15, 175.26it/s]\r",
      " 44%|████▍     | 44011/99258 [03:25<05:28, 168.09it/s]"
     ]
    },
    {
     "name": "stdout",
     "output_type": "stream",
     "text": [
      "\r",
      " 23%|██▎       | 19/83 [00:59<02:42,  2.53s/it]"
     ]
    },
    {
     "name": "stderr",
     "output_type": "stream",
     "text": [
      " 44%|████▍     | 44082/99258 [03:25<05:34, 164.75it/s]"
     ]
    },
    {
     "name": "stdout",
     "output_type": "stream",
     "text": [
      "\r",
      " 75%|███████▌  | 52/69 [01:47<00:43,  2.56s/it]"
     ]
    },
    {
     "name": "stderr",
     "output_type": "stream",
     "text": [
      " 45%|████▍     | 44361/99258 [03:27<05:35, 163.72it/s]"
     ]
    },
    {
     "name": "stdout",
     "output_type": "stream",
     "text": [
      "\r",
      " 13%|█▎        | 12/92 [00:48<03:34,  2.68s/it]"
     ]
    },
    {
     "name": "stderr",
     "output_type": "stream",
     "text": [
      " 45%|████▍     | 44448/99258 [03:27<04:40, 195.50it/s]"
     ]
    },
    {
     "name": "stdout",
     "output_type": "stream",
     "text": [
      "\r",
      " 24%|██▍       | 20/83 [01:01<02:35,  2.48s/it]"
     ]
    },
    {
     "name": "stderr",
     "output_type": "stream",
     "text": [
      "\r",
      " 45%|████▍     | 44475/99258 [03:27<04:16, 213.55it/s]\r",
      " 45%|████▍     | 44501/99258 [03:28<04:04, 224.25it/s]"
     ]
    },
    {
     "name": "stdout",
     "output_type": "stream",
     "text": [
      "\r",
      " 77%|███████▋  | 53/69 [01:50<00:39,  2.46s/it]"
     ]
    },
    {
     "name": "stderr",
     "output_type": "stream",
     "text": [
      " 45%|████▌     | 44744/99258 [03:29<06:07, 148.52it/s]2022-04-26 16:44:06,125 - INFO - luna.common.utils - Started CLI Runner wtih <function save_tiles at 0x7ff5cfb62a60>\n",
      "2022-04-26 16:44:06,135 - INFO - luna.common.utils - Validating params...\n",
      "2022-04-26 16:44:06,142 - INFO - luna.common.utils -  -> Set input_slide_image (<class 'str'>) = file:/home/kohlia/vmount/PRO_12-123/data/toy_data_set/01OV002-bd8cdc70-3d46-40ae-99c4-90ef77.svs\n",
      "2022-04-26 16:44:06,154 - INFO - luna.common.utils -  -> Set input_slide_tiles (<class 'str'>) = /home/kohlia/vmount/PRO_12-123/tiling/01OV002-bd8cdc70-3d46-40ae-99c4-90ef77/labled_tiles\n",
      "2022-04-26 16:44:06,160 - INFO - luna.common.utils -  -> Set output_dir (<class 'str'>) = /home/kohlia/vmount/PRO_12-123/tiling/01OV002-bd8cdc70-3d46-40ae-99c4-90ef77/saved_tiles\n",
      "2022-04-26 16:44:06,168 - INFO - luna.common.utils -  -> Set num_cores (<class 'int'>) = 16\n",
      "2022-04-26 16:44:06,174 - INFO - luna.common.utils -  -> Set batch_size (<class 'int'>) = 200\n",
      " 45%|████▌     | 44761/99258 [03:29<05:56, 153.00it/s]2022-04-26 16:44:06,188 - INFO - luna.common.utils - Expanding inputs...\n",
      "2022-04-26 16:44:06,196 - INFO - luna.common.utils - Attempting to read metadata at file:/home/kohlia/vmount/PRO_12-123/data/toy_data_set/01OV002-bd8cdc70-3d46-40ae-99c4-90ef77.svs/metadata.yml\n",
      "2022-04-26 16:44:06,220 - INFO - luna.common.utils - Attempting to read metadata at /home/kohlia/vmount/PRO_12-123/tiling/01OV002-bd8cdc70-3d46-40ae-99c4-90ef77/labled_tiles/metadata.yml\n",
      "2022-04-26 16:44:06,258 - INFO - luna.common.utils - Expanded input:\n",
      "2022-04-26 16:44:06,258 - INFO - luna.common.utils -  -> /home/kohlia/vmount/PRO_12-123/tiling/01OV002-bd8cdc70-3d46-40ae-99c4-90ef77/labled_tiles\n",
      "2022-04-26 16:44:06,258 - INFO - luna.common.utils -  -> /home/kohlia/vmount/PRO_12-123/tiling/01OV002-bd8cdc70-3d46-40ae-99c4-90ef77/labled_tiles/01OV002-bd8cdc70-3d46-40ae-99c4-90ef77.regional_label.tiles.parquet\n",
      "2022-04-26 16:44:06,274 - INFO - luna.common.utils - Found segment keys: {'dsa_collection_uuid': '62681d02787e8d61b58adf2b', 'slide_id': '01OV002-bd8cdc70-3d46-40ae-99c4-90ef77'}\n",
      "2022-04-26 16:44:06,283 - INFO - luna.common.utils - Resolved input:\n",
      "2022-04-26 16:44:06,283 - INFO - luna.common.utils -  -> file:/home/kohlia/vmount/PRO_12-123/data/toy_data_set/01OV002-bd8cdc70-3d46-40ae-99c4-90ef77.svs\n",
      "2022-04-26 16:44:06,283 - INFO - luna.common.utils -  -> /home/kohlia/vmount/PRO_12-123/data/toy_data_set/01OV002-bd8cdc70-3d46-40ae-99c4-90ef77.svs\n",
      "2022-04-26 16:44:06,297 - INFO - luna.common.utils - Resolved input:\n",
      "2022-04-26 16:44:06,297 - INFO - luna.common.utils -  -> /home/kohlia/vmount/PRO_12-123/tiling/01OV002-bd8cdc70-3d46-40ae-99c4-90ef77/labled_tiles/01OV002-bd8cdc70-3d46-40ae-99c4-90ef77.regional_label.tiles.parquet\n",
      "2022-04-26 16:44:06,297 - INFO - luna.common.utils -  -> /home/kohlia/vmount/PRO_12-123/tiling/01OV002-bd8cdc70-3d46-40ae-99c4-90ef77/labled_tiles/01OV002-bd8cdc70-3d46-40ae-99c4-90ef77.regional_label.tiles.parquet\n",
      " 45%|████▌     | 44778/99258 [03:29<05:56, 152.90it/s]2022-04-26 16:44:06,311 - INFO - luna.common.utils - Full segment key set: {'dsa_collection_uuid': '62681d02787e8d61b58adf2b', 'slide_id': '01OV002-bd8cdc70-3d46-40ae-99c4-90ef77'}\n",
      "2022-04-26 16:44:06,328 - INFO - luna.common.utils - ------------------------------------------------------------\n",
      "2022-04-26 16:44:06,328 - INFO - luna.common.utils -  Starting transform::save_tiles \n",
      "2022-04-26 16:44:06,328 - INFO - luna.common.utils - ------------------------------------------------------------\n",
      " 45%|████▌     | 44824/99258 [03:30<06:54, 131.43it/s]2022-04-26 16:44:06,728 - INFO - generate_tiles - Now generating tiles with num_cores=16 and batch_size=200!\n"
     ]
    },
    {
     "name": "stdout",
     "output_type": "stream",
     "text": [
      "\r",
      " 14%|█▍        | 13/92 [00:50<03:32,  2.68s/it]\r",
      " 25%|██▌       | 21/83 [01:03<02:30,  2.43s/it]"
     ]
    },
    {
     "name": "stderr",
     "output_type": "stream",
     "text": [
      "2022-04-26 16:44:06,753 - WARNING - generate_tiles - /home/kohlia/vmount/PRO_12-123/tiling/01OV002-bd8cdc70-3d46-40ae-99c4-90ef77/saved_tiles/01OV002-bd8cdc70-3d46-40ae-99c4-90ef77.tiles.h5 already exists, deleting the file..\n",
      " 45%|████▌     | 44886/99258 [03:30<06:36, 137.19it/s]"
     ]
    },
    {
     "name": "stdout",
     "output_type": "stream",
     "text": [
      "\r",
      " 78%|███████▊  | 54/69 [01:52<00:36,  2.44s/it]"
     ]
    },
    {
     "name": "stderr",
     "output_type": "stream",
     "text": [
      " 46%|████▌     | 45305/99258 [03:32<04:00, 224.01it/s]"
     ]
    },
    {
     "name": "stdout",
     "output_type": "stream",
     "text": [
      "\r",
      " 27%|██▋       | 22/83 [01:06<02:29,  2.45s/it]\r",
      " 15%|█▌        | 14/92 [00:53<03:31,  2.71s/it]"
     ]
    },
    {
     "name": "stderr",
     "output_type": "stream",
     "text": [
      " 46%|████▌     | 45617/99258 [03:34<06:11, 144.33it/s]"
     ]
    },
    {
     "name": "stdout",
     "output_type": "stream",
     "text": [
      "\r",
      "  0%|          | 0/100 [00:00<?, ?it/s]"
     ]
    },
    {
     "name": "stderr",
     "output_type": "stream",
     "text": [
      " 46%|████▌     | 45751/99258 [03:35<05:18, 167.81it/s]"
     ]
    },
    {
     "name": "stdout",
     "output_type": "stream",
     "text": [
      "\r",
      " 28%|██▊       | 23/83 [01:09<02:34,  2.58s/it]\r",
      " 16%|█▋        | 15/92 [00:56<03:31,  2.75s/it]"
     ]
    },
    {
     "name": "stderr",
     "output_type": "stream",
     "text": [
      " 47%|████▋     | 46322/99258 [03:38<07:15, 121.53it/s]"
     ]
    },
    {
     "name": "stdout",
     "output_type": "stream",
     "text": [
      "\r",
      " 17%|█▋        | 16/92 [00:59<03:42,  2.92s/it]\r",
      " 29%|██▉       | 24/83 [01:12<02:47,  2.84s/it]"
     ]
    },
    {
     "name": "stderr",
     "output_type": "stream",
     "text": [
      " 47%|████▋     | 46701/99258 [03:41<05:39, 154.79it/s]"
     ]
    },
    {
     "name": "stdout",
     "output_type": "stream",
     "text": [
      "\r",
      " 18%|█▊        | 17/92 [01:02<03:32,  2.83s/it]\r",
      " 30%|███       | 25/83 [01:15<02:41,  2.79s/it]"
     ]
    },
    {
     "name": "stderr",
     "output_type": "stream",
     "text": [
      " 48%|████▊     | 47151/99258 [03:44<04:36, 188.41it/s]"
     ]
    },
    {
     "name": "stdout",
     "output_type": "stream",
     "text": [
      "\r",
      " 31%|███▏      | 26/83 [01:18<02:41,  2.83s/it]"
     ]
    },
    {
     "name": "stderr",
     "output_type": "stream",
     "text": [
      " 48%|████▊     | 47565/99258 [03:46<03:02, 283.67it/s]"
     ]
    },
    {
     "name": "stdout",
     "output_type": "stream",
     "text": [
      "\r",
      "  1%|          | 1/100 [00:11<19:19, 11.71s/it]"
     ]
    },
    {
     "name": "stderr",
     "output_type": "stream",
     "text": [
      " 48%|████▊     | 47739/99258 [03:47<03:17, 261.26it/s]"
     ]
    },
    {
     "name": "stdout",
     "output_type": "stream",
     "text": [
      "\r",
      " 33%|███▎      | 27/83 [01:20<02:32,  2.73s/it]"
     ]
    },
    {
     "name": "stderr",
     "output_type": "stream",
     "text": [
      " 48%|████▊     | 48053/99258 [03:48<04:59, 170.91it/s]"
     ]
    },
    {
     "name": "stdout",
     "output_type": "stream",
     "text": [
      "\r",
      "  2%|▏         | 2/100 [00:14<10:10,  6.23s/it]"
     ]
    },
    {
     "name": "stderr",
     "output_type": "stream",
     "text": [
      " 49%|████▊     | 48177/99258 [03:49<04:30, 188.56it/s]"
     ]
    },
    {
     "name": "stdout",
     "output_type": "stream",
     "text": [
      "\r",
      " 34%|███▎      | 28/83 [01:22<02:21,  2.57s/it]"
     ]
    },
    {
     "name": "stderr",
     "output_type": "stream",
     "text": [
      " 49%|████▉     | 48486/99258 [03:50<04:27, 189.91it/s]"
     ]
    },
    {
     "name": "stdout",
     "output_type": "stream",
     "text": [
      "\r",
      "  3%|▎         | 3/100 [00:16<07:03,  4.36s/it]"
     ]
    },
    {
     "name": "stderr",
     "output_type": "stream",
     "text": [
      " 49%|████▉     | 48930/99258 [03:52<03:36, 232.75it/s]"
     ]
    },
    {
     "name": "stdout",
     "output_type": "stream",
     "text": [
      "\r",
      " 80%|███████▉  | 55/69 [02:14<01:58,  8.43s/it]"
     ]
    },
    {
     "name": "stderr",
     "output_type": "stream",
     "text": [
      " 49%|████▉     | 49106/99258 [03:53<03:25, 243.93it/s]"
     ]
    },
    {
     "name": "stdout",
     "output_type": "stream",
     "text": [
      "\r",
      "  4%|▍         | 4/100 [00:19<05:59,  3.74s/it]"
     ]
    },
    {
     "name": "stderr",
     "output_type": "stream",
     "text": [
      " 50%|████▉     | 49623/99258 [03:55<03:27, 238.83it/s]"
     ]
    },
    {
     "name": "stdout",
     "output_type": "stream",
     "text": [
      "\r",
      " 81%|████████  | 56/69 [02:17<01:28,  6.78s/it]"
     ]
    },
    {
     "name": "stderr",
     "output_type": "stream",
     "text": [
      " 50%|█████     | 49716/99258 [03:56<04:00, 206.09it/s]"
     ]
    },
    {
     "name": "stdout",
     "output_type": "stream",
     "text": [
      "\r",
      "  5%|▌         | 5/100 [00:21<05:17,  3.34s/it]"
     ]
    },
    {
     "name": "stderr",
     "output_type": "stream",
     "text": [
      " 50%|█████     | 50117/99258 [03:58<03:59, 205.39it/s]"
     ]
    },
    {
     "name": "stdout",
     "output_type": "stream",
     "text": [
      "\r",
      " 83%|████████▎ | 57/69 [02:20<01:05,  5.50s/it]"
     ]
    },
    {
     "name": "stderr",
     "output_type": "stream",
     "text": [
      " 51%|█████     | 50260/99258 [03:59<03:40, 222.03it/s]"
     ]
    },
    {
     "name": "stdout",
     "output_type": "stream",
     "text": [
      "\r",
      "  6%|▌         | 6/100 [00:24<04:58,  3.17s/it]"
     ]
    },
    {
     "name": "stderr",
     "output_type": "stream",
     "text": [
      " 51%|█████     | 50779/99258 [04:01<02:57, 272.49it/s]"
     ]
    },
    {
     "name": "stdout",
     "output_type": "stream",
     "text": [
      "\r",
      " 84%|████████▍ | 58/69 [02:23<00:51,  4.70s/it]"
     ]
    },
    {
     "name": "stderr",
     "output_type": "stream",
     "text": [
      " 51%|█████▏    | 50937/99258 [04:01<03:22, 238.74it/s]"
     ]
    },
    {
     "name": "stdout",
     "output_type": "stream",
     "text": [
      "\r",
      "  7%|▋         | 7/100 [00:27<04:42,  3.03s/it]"
     ]
    },
    {
     "name": "stderr",
     "output_type": "stream",
     "text": [
      " 52%|█████▏    | 51257/99258 [04:03<03:43, 215.14it/s]"
     ]
    },
    {
     "name": "stdout",
     "output_type": "stream",
     "text": [
      "\r",
      " 86%|████████▌ | 59/69 [02:25<00:40,  4.01s/it]"
     ]
    },
    {
     "name": "stderr",
     "output_type": "stream",
     "text": [
      " 52%|█████▏    | 51481/99258 [04:04<03:54, 203.31it/s]"
     ]
    },
    {
     "name": "stdout",
     "output_type": "stream",
     "text": [
      "\r",
      "  8%|▊         | 8/100 [00:29<04:26,  2.89s/it]"
     ]
    },
    {
     "name": "stderr",
     "output_type": "stream",
     "text": [
      " 52%|█████▏    | 51782/99258 [04:05<03:25, 231.40it/s]"
     ]
    },
    {
     "name": "stdout",
     "output_type": "stream",
     "text": [
      "\r",
      " 87%|████████▋ | 60/69 [02:27<00:31,  3.52s/it]"
     ]
    },
    {
     "name": "stderr",
     "output_type": "stream",
     "text": [
      " 52%|█████▏    | 52022/99258 [04:07<03:56, 199.82it/s]"
     ]
    },
    {
     "name": "stdout",
     "output_type": "stream",
     "text": [
      "\r",
      "  9%|▉         | 9/100 [00:32<04:13,  2.78s/it]"
     ]
    },
    {
     "name": "stderr",
     "output_type": "stream",
     "text": [
      " 53%|█████▎    | 52300/99258 [04:08<03:35, 218.06it/s]"
     ]
    },
    {
     "name": "stdout",
     "output_type": "stream",
     "text": [
      "\r",
      " 88%|████████▊ | 61/69 [02:30<00:25,  3.21s/it]"
     ]
    },
    {
     "name": "stderr",
     "output_type": "stream",
     "text": [
      " 53%|█████▎    | 52581/99258 [04:09<03:57, 196.39it/s]"
     ]
    },
    {
     "name": "stdout",
     "output_type": "stream",
     "text": [
      "\r",
      " 10%|█         | 10/100 [00:35<04:06,  2.74s/it]"
     ]
    },
    {
     "name": "stderr",
     "output_type": "stream",
     "text": [
      " 53%|█████▎    | 52827/99258 [04:10<04:04, 189.55it/s]"
     ]
    },
    {
     "name": "stdout",
     "output_type": "stream",
     "text": [
      "\r",
      " 90%|████████▉ | 62/69 [02:33<00:21,  3.02s/it]"
     ]
    },
    {
     "name": "stderr",
     "output_type": "stream",
     "text": [
      " 53%|█████▎    | 53017/99258 [04:11<03:21, 229.85it/s]"
     ]
    },
    {
     "name": "stdout",
     "output_type": "stream",
     "text": [
      "\r",
      " 35%|███▍      | 29/83 [01:45<07:41,  8.56s/it]"
     ]
    },
    {
     "name": "stderr",
     "output_type": "stream",
     "text": [
      " 54%|█████▎    | 53163/99258 [04:12<03:28, 220.80it/s]"
     ]
    },
    {
     "name": "stdout",
     "output_type": "stream",
     "text": [
      "\r",
      " 11%|█         | 11/100 [00:37<04:05,  2.76s/it]"
     ]
    },
    {
     "name": "stderr",
     "output_type": "stream",
     "text": [
      " 54%|█████▍    | 53453/99258 [04:13<03:22, 225.72it/s]"
     ]
    },
    {
     "name": "stdout",
     "output_type": "stream",
     "text": [
      "\r",
      " 91%|█████████▏| 63/69 [02:35<00:17,  2.96s/it]"
     ]
    },
    {
     "name": "stderr",
     "output_type": "stream",
     "text": [
      " 54%|█████▍    | 53589/99258 [04:14<03:35, 211.55it/s]"
     ]
    },
    {
     "name": "stdout",
     "output_type": "stream",
     "text": [
      "\r",
      " 36%|███▌      | 30/83 [01:48<05:59,  6.79s/it]"
     ]
    },
    {
     "name": "stderr",
     "output_type": "stream",
     "text": [
      " 54%|█████▍    | 53739/99258 [04:15<03:18, 228.75it/s]"
     ]
    },
    {
     "name": "stdout",
     "output_type": "stream",
     "text": [
      "\r",
      " 12%|█▏        | 12/100 [00:40<03:59,  2.72s/it]"
     ]
    },
    {
     "name": "stderr",
     "output_type": "stream",
     "text": [
      " 54%|█████▍    | 53974/99258 [04:16<03:43, 202.76it/s]"
     ]
    },
    {
     "name": "stdout",
     "output_type": "stream",
     "text": [
      "\r",
      " 93%|█████████▎| 64/69 [02:38<00:14,  2.83s/it]"
     ]
    },
    {
     "name": "stderr",
     "output_type": "stream",
     "text": [
      " 54%|█████▍    | 54056/99258 [04:16<04:04, 184.97it/s]"
     ]
    },
    {
     "name": "stdout",
     "output_type": "stream",
     "text": [
      "\r",
      " 37%|███▋      | 31/83 [01:50<04:43,  5.45s/it]"
     ]
    },
    {
     "name": "stderr",
     "output_type": "stream",
     "text": [
      " 55%|█████▍    | 54234/99258 [04:17<03:24, 219.66it/s]"
     ]
    },
    {
     "name": "stdout",
     "output_type": "stream",
     "text": [
      "\r",
      " 13%|█▎        | 13/100 [00:42<03:49,  2.64s/it]"
     ]
    },
    {
     "name": "stderr",
     "output_type": "stream",
     "text": [
      " 55%|█████▍    | 54490/99258 [04:18<03:15, 228.55it/s]"
     ]
    },
    {
     "name": "stdout",
     "output_type": "stream",
     "text": [
      "\r",
      " 94%|█████████▍| 65/69 [02:40<00:10,  2.70s/it]"
     ]
    },
    {
     "name": "stderr",
     "output_type": "stream",
     "text": [
      " 55%|█████▌    | 54632/99258 [04:19<03:30, 211.54it/s]"
     ]
    },
    {
     "name": "stdout",
     "output_type": "stream",
     "text": [
      "\r",
      " 39%|███▊      | 32/83 [01:52<03:52,  4.56s/it]"
     ]
    },
    {
     "name": "stderr",
     "output_type": "stream",
     "text": [
      " 55%|█████▌    | 54722/99258 [04:19<03:25, 216.41it/s]"
     ]
    },
    {
     "name": "stdout",
     "output_type": "stream",
     "text": [
      "\r",
      " 14%|█▍        | 14/100 [00:45<03:37,  2.53s/it]"
     ]
    },
    {
     "name": "stderr",
     "output_type": "stream",
     "text": [
      " 55%|█████▌    | 54917/99258 [04:20<03:05, 239.63it/s]"
     ]
    },
    {
     "name": "stdout",
     "output_type": "stream",
     "text": [
      "\r",
      " 96%|█████████▌| 66/69 [02:42<00:07,  2.49s/it]"
     ]
    },
    {
     "name": "stderr",
     "output_type": "stream",
     "text": [
      " 55%|█████▌    | 55062/99258 [04:21<02:36, 282.70it/s]"
     ]
    },
    {
     "name": "stdout",
     "output_type": "stream",
     "text": [
      "\r",
      " 40%|███▉      | 33/83 [01:54<03:05,  3.70s/it]"
     ]
    },
    {
     "name": "stderr",
     "output_type": "stream",
     "text": [
      " 56%|█████▌    | 55191/99258 [04:21<02:24, 304.28it/s]"
     ]
    },
    {
     "name": "stdout",
     "output_type": "stream",
     "text": [
      "\r",
      " 97%|█████████▋| 67/69 [02:43<00:03,  1.96s/it]\r",
      " 15%|█▌        | 15/100 [00:46<03:12,  2.27s/it]"
     ]
    },
    {
     "name": "stderr",
     "output_type": "stream",
     "text": [
      " 56%|█████▌    | 55422/99258 [04:22<02:00, 363.87it/s]"
     ]
    },
    {
     "name": "stdout",
     "output_type": "stream",
     "text": [
      "\r",
      " 41%|████      | 34/83 [01:55<02:25,  2.96s/it]"
     ]
    },
    {
     "name": "stderr",
     "output_type": "stream",
     "text": [
      " 56%|█████▌    | 55616/99258 [04:22<01:55, 376.57it/s]"
     ]
    },
    {
     "name": "stdout",
     "output_type": "stream",
     "text": [
      "\r",
      " 99%|█████████▊| 68/69 [02:44<00:01,  1.72s/it]\r",
      " 16%|█▌        | 16/100 [00:48<02:42,  1.93s/it]"
     ]
    },
    {
     "name": "stderr",
     "output_type": "stream",
     "text": [
      "\r",
      " 56%|█████▌    | 55660/99258 [04:22<01:50, 393.76it/s]\r",
      " 56%|█████▌    | 55710/99258 [04:22<01:45, 411.16it/s]"
     ]
    },
    {
     "name": "stdout",
     "output_type": "stream",
     "text": [
      "\r",
      " 42%|████▏     | 35/83 [01:56<01:50,  2.30s/it]"
     ]
    },
    {
     "name": "stderr",
     "output_type": "stream",
     "text": [
      " 56%|█████▋    | 55931/99258 [04:23<01:25, 506.52it/s]"
     ]
    },
    {
     "name": "stdout",
     "output_type": "stream",
     "text": [
      "\r",
      "100%|██████████| 69/69 [02:45<00:00,  1.42s/it]\r",
      "100%|██████████| 69/69 [02:45<00:00,  2.40s/it]\r",
      " 17%|█▋        | 17/100 [00:48<02:10,  1.57s/it]"
     ]
    },
    {
     "name": "stderr",
     "output_type": "stream",
     "text": [
      "\r",
      " 56%|█████▋    | 55982/99258 [04:23<01:38, 440.87it/s]\r",
      " 56%|█████▋    | 56031/99258 [04:23<01:35, 453.23it/s]"
     ]
    },
    {
     "name": "stdout",
     "output_type": "stream",
     "text": [
      "\r",
      " 43%|████▎     | 36/83 [01:57<01:24,  1.81s/it]"
     ]
    },
    {
     "name": "stderr",
     "output_type": "stream",
     "text": [
      " 57%|█████▋    | 56240/99258 [04:24<01:28, 488.16it/s]"
     ]
    },
    {
     "name": "stdout",
     "output_type": "stream",
     "text": [
      "\r",
      " 18%|█▊        | 18/100 [00:49<01:47,  1.31s/it]\r",
      " 45%|████▍     | 37/83 [01:57<01:06,  1.45s/it]"
     ]
    },
    {
     "name": "stderr",
     "output_type": "stream",
     "text": [
      " 57%|█████▋    | 56345/99258 [04:24<01:25, 501.72it/s]2022-04-26 16:45:00,856 - INFO - generate_tiles -                 x_coord  ...                                         tile_store\n",
      "2022-04-26 16:45:00,856 - INFO - generate_tiles - address                  ...                                                   \n",
      "2022-04-26 16:45:00,856 - INFO - generate_tiles - x6_y74_z20.0       1536  ...  /home/kohlia/vmount/PRO_12-123/tiling/01OV008-...\n",
      "2022-04-26 16:45:00,856 - INFO - generate_tiles - x7_y74_z20.0       1792  ...  /home/kohlia/vmount/PRO_12-123/tiling/01OV008-...\n",
      "2022-04-26 16:45:00,856 - INFO - generate_tiles - x7_y81_z20.0       1792  ...  /home/kohlia/vmount/PRO_12-123/tiling/01OV008-...\n",
      "2022-04-26 16:45:00,856 - INFO - generate_tiles - x8_y75_z20.0       2048  ...  /home/kohlia/vmount/PRO_12-123/tiling/01OV008-...\n",
      "2022-04-26 16:45:00,856 - INFO - generate_tiles - x8_y76_z20.0       2048  ...  /home/kohlia/vmount/PRO_12-123/tiling/01OV008-...\n",
      "2022-04-26 16:45:00,856 - INFO - generate_tiles - ...                 ...  ...                                                ...\n",
      "2022-04-26 16:45:00,856 - INFO - generate_tiles - x181_y45_z20.0    46336  ...  /home/kohlia/vmount/PRO_12-123/tiling/01OV008-...\n",
      "2022-04-26 16:45:00,856 - INFO - generate_tiles - x182_y41_z20.0    46592  ...  /home/kohlia/vmount/PRO_12-123/tiling/01OV008-...\n",
      "2022-04-26 16:45:00,856 - INFO - generate_tiles - x182_y42_z20.0    46592  ...  /home/kohlia/vmount/PRO_12-123/tiling/01OV008-...\n",
      "2022-04-26 16:45:00,856 - INFO - generate_tiles - x182_y43_z20.0    46592  ...  /home/kohlia/vmount/PRO_12-123/tiling/01OV008-...\n",
      "2022-04-26 16:45:00,856 - INFO - generate_tiles - x182_y44_z20.0    46592  ...  /home/kohlia/vmount/PRO_12-123/tiling/01OV008-...\n",
      "2022-04-26 16:45:00,856 - INFO - generate_tiles - \n",
      "2022-04-26 16:45:00,856 - INFO - generate_tiles - [13704 rows x 9 columns]\n",
      " 57%|█████▋    | 56446/99258 [04:24<01:26, 494.34it/s]2022-04-26 16:45:01,134 - INFO - luna.common.utils - Code block 'transform::save_tiles' took: 171.38560199999847s\n",
      "2022-04-26 16:45:01,139 - INFO - luna.common.utils - ------------------------------------------------------------\n",
      "2022-04-26 16:45:01,139 - INFO - luna.common.utils -  Done with transform, running post-transform functions... \n",
      "2022-04-26 16:45:01,139 - INFO - luna.common.utils - ------------------------------------------------------------\n",
      "2022-04-26 16:45:01,155 - INFO - luna.common.utils - Adding feature segment /home/kohlia/vmount/PRO_12-123/tiling/01OV008-308ad404-7079-4ff8-8232-12ee2e/saved_tiles/01OV008-308ad404-7079-4ff8-8232-12ee2e.tiles.parquet to PRO_TILES_LABLED\n",
      " 57%|█████▋    | 56496/99258 [04:24<01:27, 489.88it/s]2022-04-26 16:45:01,158 - INFO - luna.common.utils - Found dataset URL = file:////home/kohlia/vmount/PRO_12-123/\n",
      "2022-04-26 16:45:01,160 - INFO - luna.common.utils - Adding /home/kohlia/vmount/PRO_12-123/tiling/01OV008-308ad404-7079-4ff8-8232-12ee2e/saved_tiles/01OV008-308ad404-7079-4ff8-8232-12ee2e.tiles.parquet to PRO_TILES_LABLED via file:////home/kohlia/vmount/PRO_12-123/\n",
      "2022-04-26 16:45:01,162 - INFO - luna.common.utils - SEGMENT_ID=62681d02787e8d61b58adf2b-01OV008-308ad404-7079-4ff8-8232-12ee2e\n",
      "2022-04-26 16:45:01,164 - INFO - luna.common.utils - Writing to: //home/kohlia/vmount/PRO_12-123/datasets/PRO_TILES_LABLED/segments/62681d02787e8d61b58adf2b-01OV008-308ad404-7079-4ff8-8232-12ee2e\n",
      " 57%|█████▋    | 56546/99258 [04:24<01:27, 489.22it/s]2022-04-26 16:45:01,346 - INFO - luna.common.utils - Done.\n"
     ]
    },
    {
     "name": "stdout",
     "output_type": "stream",
     "text": [
      "\n",
      "\r",
      " 19%|█▉        | 19/100 [00:50<01:30,  1.12s/it]\r",
      " 46%|████▌     | 38/83 [01:58<00:53,  1.20s/it]"
     ]
    },
    {
     "name": "stderr",
     "output_type": "stream",
     "text": [
      " 57%|█████▋    | 56895/99258 [04:25<01:27, 483.14it/s]"
     ]
    },
    {
     "name": "stdout",
     "output_type": "stream",
     "text": [
      "\r",
      " 20%|██        | 20/100 [00:50<01:17,  1.03it/s]\r",
      " 47%|████▋     | 39/83 [01:59<00:45,  1.04s/it]"
     ]
    },
    {
     "name": "stderr",
     "output_type": "stream",
     "text": [
      " 58%|█████▊    | 57197/99258 [04:25<01:26, 488.61it/s]"
     ]
    },
    {
     "name": "stdout",
     "output_type": "stream",
     "text": [
      "\r",
      " 21%|██        | 21/100 [00:51<01:07,  1.17it/s]\r",
      " 48%|████▊     | 40/83 [01:59<00:38,  1.12it/s]"
     ]
    },
    {
     "name": "stderr",
     "output_type": "stream",
     "text": [
      " 58%|█████▊    | 57578/99258 [04:26<01:16, 541.91it/s]"
     ]
    },
    {
     "name": "stdout",
     "output_type": "stream",
     "text": [
      "\r",
      " 22%|██▏       | 22/100 [00:51<01:00,  1.29it/s]\r",
      " 49%|████▉     | 41/83 [02:00<00:32,  1.28it/s]"
     ]
    },
    {
     "name": "stderr",
     "output_type": "stream",
     "text": [
      " 58%|█████▊    | 57797/99258 [04:27<01:18, 530.39it/s]"
     ]
    },
    {
     "name": "stdout",
     "output_type": "stream",
     "text": [
      "\r",
      " 23%|██▎       | 23/100 [00:52<00:54,  1.40it/s]\r",
      " 51%|█████     | 42/83 [02:00<00:29,  1.39it/s]"
     ]
    },
    {
     "name": "stderr",
     "output_type": "stream",
     "text": [
      " 59%|█████▊    | 58130/99258 [04:27<01:18, 521.25it/s]"
     ]
    },
    {
     "name": "stdout",
     "output_type": "stream",
     "text": [
      "\r",
      " 24%|██▍       | 24/100 [00:53<00:50,  1.50it/s]\r",
      " 52%|█████▏    | 43/83 [02:01<00:27,  1.47it/s]"
     ]
    },
    {
     "name": "stderr",
     "output_type": "stream",
     "text": [
      " 59%|█████▉    | 58346/99258 [04:28<01:18, 521.39it/s]"
     ]
    },
    {
     "name": "stdout",
     "output_type": "stream",
     "text": [
      "\r",
      " 25%|██▌       | 25/100 [00:53<00:47,  1.58it/s]\r",
      " 53%|█████▎    | 44/83 [02:02<00:25,  1.54it/s]"
     ]
    },
    {
     "name": "stderr",
     "output_type": "stream",
     "text": [
      " 59%|█████▉    | 58676/99258 [04:28<01:17, 526.49it/s]"
     ]
    },
    {
     "name": "stdout",
     "output_type": "stream",
     "text": [
      "\r",
      " 26%|██▌       | 26/100 [00:54<00:46,  1.60it/s]\r",
      " 54%|█████▍    | 45/83 [02:02<00:23,  1.59it/s]"
     ]
    },
    {
     "name": "stderr",
     "output_type": "stream",
     "text": [
      " 59%|█████▉    | 59006/99258 [04:29<01:15, 530.23it/s]"
     ]
    },
    {
     "name": "stdout",
     "output_type": "stream",
     "text": [
      "\r",
      " 27%|██▋       | 27/100 [00:54<00:44,  1.64it/s]\r",
      " 55%|█████▌    | 46/83 [02:03<00:22,  1.62it/s]"
     ]
    },
    {
     "name": "stderr",
     "output_type": "stream",
     "text": [
      " 60%|█████▉    | 59326/99258 [04:30<01:17, 513.98it/s]"
     ]
    },
    {
     "name": "stdout",
     "output_type": "stream",
     "text": [
      "\r",
      " 28%|██▊       | 28/100 [00:55<00:43,  1.65it/s]\r",
      " 57%|█████▋    | 47/83 [02:03<00:22,  1.62it/s]"
     ]
    },
    {
     "name": "stderr",
     "output_type": "stream",
     "text": [
      " 60%|██████    | 59644/99258 [04:30<01:17, 509.70it/s]"
     ]
    },
    {
     "name": "stdout",
     "output_type": "stream",
     "text": [
      "\r",
      " 58%|█████▊    | 48/83 [02:04<00:21,  1.62it/s]"
     ]
    },
    {
     "name": "stderr",
     "output_type": "stream",
     "text": [
      " 60%|██████    | 59966/99258 [04:31<01:16, 511.27it/s]"
     ]
    },
    {
     "name": "stdout",
     "output_type": "stream",
     "text": [
      "\r",
      " 59%|█████▉    | 49/83 [02:05<00:21,  1.61it/s]"
     ]
    },
    {
     "name": "stderr",
     "output_type": "stream",
     "text": [
      " 61%|██████    | 60307/99258 [04:31<01:11, 542.18it/s]"
     ]
    },
    {
     "name": "stdout",
     "output_type": "stream",
     "text": [
      "\r",
      " 60%|██████    | 50/83 [02:05<00:20,  1.61it/s]"
     ]
    },
    {
     "name": "stderr",
     "output_type": "stream",
     "text": [
      " 61%|██████    | 60756/99258 [04:32<01:11, 537.36it/s]"
     ]
    },
    {
     "name": "stdout",
     "output_type": "stream",
     "text": [
      "\r",
      " 61%|██████▏   | 51/83 [02:06<00:20,  1.53it/s]"
     ]
    },
    {
     "name": "stderr",
     "output_type": "stream",
     "text": [
      " 62%|██████▏   | 61084/99258 [04:33<01:11, 531.08it/s]"
     ]
    },
    {
     "name": "stdout",
     "output_type": "stream",
     "text": [
      "\r",
      " 63%|██████▎   | 52/83 [02:07<00:19,  1.59it/s]"
     ]
    },
    {
     "name": "stderr",
     "output_type": "stream",
     "text": [
      " 62%|██████▏   | 61447/99258 [04:33<01:06, 565.53it/s]"
     ]
    },
    {
     "name": "stdout",
     "output_type": "stream",
     "text": [
      "\r",
      " 64%|██████▍   | 53/83 [02:07<00:18,  1.62it/s]"
     ]
    },
    {
     "name": "stderr",
     "output_type": "stream",
     "text": [
      " 62%|██████▏   | 61671/99258 [04:34<01:11, 525.66it/s]"
     ]
    },
    {
     "name": "stdout",
     "output_type": "stream",
     "text": [
      "\r",
      " 29%|██▉       | 29/100 [00:59<02:02,  1.72s/it]"
     ]
    },
    {
     "name": "stderr",
     "output_type": "stream",
     "text": [
      "\r",
      " 62%|██████▏   | 61725/99258 [04:34<01:11, 527.44it/s]\r",
      " 62%|██████▏   | 61778/99258 [04:34<01:11, 522.90it/s]"
     ]
    },
    {
     "name": "stdout",
     "output_type": "stream",
     "text": [
      "\r",
      " 65%|██████▌   | 54/83 [02:08<00:18,  1.57it/s]"
     ]
    },
    {
     "name": "stderr",
     "output_type": "stream",
     "text": [
      "\r",
      " 62%|██████▏   | 61835/99258 [04:34<01:10, 534.02it/s]\r",
      " 62%|██████▏   | 61889/99258 [04:34<01:09, 535.39it/s]\r",
      " 62%|██████▏   | 61945/99258 [04:34<01:08, 541.67it/s]"
     ]
    },
    {
     "name": "stdout",
     "output_type": "stream",
     "text": [
      "\r",
      " 30%|███       | 30/100 [01:00<01:36,  1.37s/it]"
     ]
    },
    {
     "name": "stderr",
     "output_type": "stream",
     "text": [
      "\r",
      " 62%|██████▏   | 62000/99258 [04:35<01:10, 525.49it/s]\r",
      " 63%|██████▎   | 62056/99258 [04:35<01:09, 535.04it/s]"
     ]
    },
    {
     "name": "stdout",
     "output_type": "stream",
     "text": [
      "\r",
      " 66%|██████▋   | 55/83 [02:08<00:17,  1.63it/s]"
     ]
    },
    {
     "name": "stderr",
     "output_type": "stream",
     "text": [
      " 63%|██████▎   | 62274/99258 [04:35<01:12, 507.26it/s]"
     ]
    },
    {
     "name": "stdout",
     "output_type": "stream",
     "text": [
      "\r",
      " 31%|███       | 31/100 [01:00<01:18,  1.14s/it]"
     ]
    },
    {
     "name": "stderr",
     "output_type": "stream",
     "text": [
      " 63%|██████▎   | 62502/99258 [04:35<01:08, 537.66it/s]"
     ]
    },
    {
     "name": "stdout",
     "output_type": "stream",
     "text": [
      "\r",
      " 32%|███▏      | 32/100 [01:01<01:05,  1.03it/s]"
     ]
    },
    {
     "name": "stderr",
     "output_type": "stream",
     "text": [
      " 63%|██████▎   | 62890/99258 [04:36<01:05, 551.12it/s]"
     ]
    },
    {
     "name": "stdout",
     "output_type": "stream",
     "text": [
      "\r",
      " 33%|███▎      | 33/100 [01:02<00:59,  1.13it/s]"
     ]
    },
    {
     "name": "stderr",
     "output_type": "stream",
     "text": [
      " 64%|██████▎   | 63221/99258 [04:37<01:06, 540.83it/s]"
     ]
    },
    {
     "name": "stdout",
     "output_type": "stream",
     "text": [
      "\r",
      " 34%|███▍      | 34/100 [01:02<00:52,  1.27it/s]"
     ]
    },
    {
     "name": "stderr",
     "output_type": "stream",
     "text": [
      " 64%|██████▍   | 63556/99258 [04:37<01:07, 527.68it/s]"
     ]
    },
    {
     "name": "stdout",
     "output_type": "stream",
     "text": [
      "\r",
      " 35%|███▌      | 35/100 [01:03<00:47,  1.38it/s]"
     ]
    },
    {
     "name": "stderr",
     "output_type": "stream",
     "text": [
      " 64%|██████▍   | 63851/99258 [04:38<01:02, 564.65it/s]"
     ]
    },
    {
     "name": "stdout",
     "output_type": "stream",
     "text": [
      "\r",
      " 36%|███▌      | 36/100 [01:03<00:43,  1.47it/s]"
     ]
    },
    {
     "name": "stderr",
     "output_type": "stream",
     "text": [
      " 65%|██████▍   | 64084/99258 [04:38<01:02, 559.39it/s]"
     ]
    },
    {
     "name": "stdout",
     "output_type": "stream",
     "text": [
      "\r",
      " 67%|██████▋   | 56/83 [02:12<00:42,  1.58s/it]\r",
      " 37%|███▋      | 37/100 [01:04<00:41,  1.54it/s]"
     ]
    },
    {
     "name": "stderr",
     "output_type": "stream",
     "text": [
      " 65%|██████▍   | 64488/99258 [04:39<01:07, 517.45it/s]"
     ]
    },
    {
     "name": "stdout",
     "output_type": "stream",
     "text": [
      "\r",
      " 69%|██████▊   | 57/83 [02:13<00:33,  1.30s/it]\r",
      " 38%|███▊      | 38/100 [01:05<00:42,  1.47it/s]"
     ]
    },
    {
     "name": "stderr",
     "output_type": "stream",
     "text": [
      " 65%|██████▌   | 64839/99258 [04:40<01:00, 573.63it/s]"
     ]
    },
    {
     "name": "stdout",
     "output_type": "stream",
     "text": [
      "\r",
      " 70%|██████▉   | 58/83 [02:13<00:26,  1.08s/it]\r",
      " 39%|███▉      | 39/100 [01:05<00:39,  1.54it/s]"
     ]
    },
    {
     "name": "stderr",
     "output_type": "stream",
     "text": [
      " 66%|██████▌   | 65069/99258 [04:40<01:02, 547.24it/s]"
     ]
    },
    {
     "name": "stdout",
     "output_type": "stream",
     "text": [
      "\r",
      " 71%|███████   | 59/83 [02:14<00:22,  1.07it/s]"
     ]
    },
    {
     "name": "stderr",
     "output_type": "stream",
     "text": [
      "\r",
      " 66%|██████▌   | 65125/99258 [04:40<01:02, 547.68it/s]\r",
      " 66%|██████▌   | 65181/99258 [04:40<01:02, 545.98it/s]"
     ]
    },
    {
     "name": "stdout",
     "output_type": "stream",
     "text": [
      "\r",
      " 40%|████      | 40/100 [01:06<00:38,  1.57it/s]"
     ]
    },
    {
     "name": "stderr",
     "output_type": "stream",
     "text": [
      " 66%|██████▌   | 65406/99258 [04:41<01:02, 541.33it/s]"
     ]
    },
    {
     "name": "stdout",
     "output_type": "stream",
     "text": [
      "\r",
      " 72%|███████▏  | 60/83 [02:15<00:19,  1.19it/s]\r",
      " 41%|████      | 41/100 [01:06<00:36,  1.60it/s]"
     ]
    },
    {
     "name": "stderr",
     "output_type": "stream",
     "text": [
      " 66%|██████▋   | 65766/99258 [04:41<00:58, 574.38it/s]"
     ]
    },
    {
     "name": "stdout",
     "output_type": "stream",
     "text": [
      "\r",
      " 73%|███████▎  | 61/83 [02:15<00:16,  1.33it/s]"
     ]
    },
    {
     "name": "stderr",
     "output_type": "stream",
     "text": [
      "\r",
      " 66%|██████▋   | 65824/99258 [04:42<01:11, 465.20it/s]\r",
      " 66%|██████▋   | 65874/99258 [04:42<01:14, 449.23it/s]"
     ]
    },
    {
     "name": "stdout",
     "output_type": "stream",
     "text": [
      "\r",
      " 42%|████▏     | 42/100 [01:07<00:36,  1.59it/s]"
     ]
    },
    {
     "name": "stderr",
     "output_type": "stream",
     "text": [
      "\r",
      " 66%|██████▋   | 65922/99258 [04:42<01:14, 444.62it/s]\r",
      " 66%|██████▋   | 65969/99258 [04:42<01:26, 385.82it/s]"
     ]
    },
    {
     "name": "stdout",
     "output_type": "stream",
     "text": [
      "\r",
      " 75%|███████▍  | 62/83 [02:16<00:15,  1.35it/s]\r",
      " 43%|████▎     | 43/100 [01:08<00:34,  1.65it/s]"
     ]
    },
    {
     "name": "stderr",
     "output_type": "stream",
     "text": [
      " 67%|██████▋   | 66367/99258 [04:43<00:59, 556.97it/s]"
     ]
    },
    {
     "name": "stdout",
     "output_type": "stream",
     "text": [
      "\r",
      " 76%|███████▌  | 63/83 [02:16<00:13,  1.49it/s]\r",
      " 44%|████▍     | 44/100 [01:08<00:32,  1.72it/s]"
     ]
    },
    {
     "name": "stderr",
     "output_type": "stream",
     "text": [
      " 67%|██████▋   | 66605/99258 [04:43<00:57, 570.18it/s]"
     ]
    },
    {
     "name": "stdout",
     "output_type": "stream",
     "text": [
      "\r",
      " 77%|███████▋  | 64/83 [02:17<00:11,  1.60it/s]\r",
      " 45%|████▌     | 45/100 [01:09<00:31,  1.77it/s]"
     ]
    },
    {
     "name": "stderr",
     "output_type": "stream",
     "text": [
      " 67%|██████▋   | 66960/99258 [04:44<00:56, 576.27it/s]"
     ]
    },
    {
     "name": "stdout",
     "output_type": "stream",
     "text": [
      "\r",
      " 78%|███████▊  | 65/83 [02:17<00:10,  1.66it/s]\r",
      " 46%|████▌     | 46/100 [01:09<00:29,  1.81it/s]"
     ]
    },
    {
     "name": "stderr",
     "output_type": "stream",
     "text": [
      " 68%|██████▊   | 67201/99258 [04:44<00:54, 590.94it/s]"
     ]
    },
    {
     "name": "stdout",
     "output_type": "stream",
     "text": [
      "\r",
      " 80%|███████▉  | 66/83 [02:18<00:10,  1.68it/s]\r",
      " 47%|████▋     | 47/100 [01:10<00:30,  1.74it/s]"
     ]
    },
    {
     "name": "stderr",
     "output_type": "stream",
     "text": [
      " 68%|██████▊   | 67566/99258 [04:45<00:53, 591.10it/s]"
     ]
    },
    {
     "name": "stdout",
     "output_type": "stream",
     "text": [
      "\r",
      " 81%|████████  | 67/83 [02:19<00:09,  1.71it/s]\r",
      " 48%|████▊     | 48/100 [01:10<00:29,  1.78it/s]"
     ]
    },
    {
     "name": "stderr",
     "output_type": "stream",
     "text": [
      " 68%|██████▊   | 67906/99258 [04:45<00:58, 534.18it/s]"
     ]
    },
    {
     "name": "stdout",
     "output_type": "stream",
     "text": [
      "\r",
      " 82%|████████▏ | 68/83 [02:19<00:08,  1.73it/s]\r",
      " 49%|████▉     | 49/100 [01:11<00:29,  1.74it/s]"
     ]
    },
    {
     "name": "stderr",
     "output_type": "stream",
     "text": [
      " 69%|██████▊   | 68122/99258 [04:46<00:59, 524.13it/s]"
     ]
    },
    {
     "name": "stdout",
     "output_type": "stream",
     "text": [
      "\r",
      " 83%|████████▎ | 69/83 [02:20<00:07,  1.79it/s]\r",
      " 50%|█████     | 50/100 [01:11<00:27,  1.83it/s]"
     ]
    },
    {
     "name": "stderr",
     "output_type": "stream",
     "text": [
      " 69%|██████▉   | 68474/99258 [04:46<00:53, 574.65it/s]"
     ]
    },
    {
     "name": "stdout",
     "output_type": "stream",
     "text": [
      "\r",
      " 84%|████████▍ | 70/83 [02:20<00:07,  1.82it/s]\r",
      " 51%|█████     | 51/100 [01:12<00:25,  1.89it/s]"
     ]
    },
    {
     "name": "stderr",
     "output_type": "stream",
     "text": [
      " 69%|██████▉   | 68712/99258 [04:47<00:53, 571.53it/s]"
     ]
    },
    {
     "name": "stdout",
     "output_type": "stream",
     "text": [
      "\r",
      " 86%|████████▌ | 71/83 [02:21<00:06,  1.84it/s]\r",
      " 52%|█████▏    | 52/100 [01:12<00:24,  1.93it/s]"
     ]
    },
    {
     "name": "stderr",
     "output_type": "stream",
     "text": [
      " 70%|██████▉   | 69067/99258 [04:48<00:53, 560.28it/s]"
     ]
    },
    {
     "name": "stdout",
     "output_type": "stream",
     "text": [
      "\r",
      " 87%|████████▋ | 72/83 [02:21<00:05,  1.86it/s]\r",
      " 53%|█████▎    | 53/100 [01:13<00:24,  1.93it/s]"
     ]
    },
    {
     "name": "stderr",
     "output_type": "stream",
     "text": [
      " 70%|██████▉   | 69375/99258 [04:48<00:50, 592.64it/s]"
     ]
    },
    {
     "name": "stdout",
     "output_type": "stream",
     "text": [
      "\r",
      " 88%|████████▊ | 73/83 [02:22<00:05,  1.84it/s]\r",
      " 54%|█████▍    | 54/100 [01:13<00:23,  1.93it/s]"
     ]
    },
    {
     "name": "stderr",
     "output_type": "stream",
     "text": [
      " 70%|███████   | 69607/99258 [04:49<01:00, 492.91it/s]"
     ]
    },
    {
     "name": "stdout",
     "output_type": "stream",
     "text": [
      "\r",
      " 89%|████████▉ | 74/83 [02:22<00:05,  1.73it/s]\r",
      " 55%|█████▌    | 55/100 [01:14<00:25,  1.75it/s]"
     ]
    },
    {
     "name": "stderr",
     "output_type": "stream",
     "text": [
      " 71%|███████   | 70036/99258 [04:49<00:48, 607.38it/s]"
     ]
    },
    {
     "name": "stdout",
     "output_type": "stream",
     "text": [
      "\r",
      " 90%|█████████ | 75/83 [02:23<00:04,  1.79it/s]"
     ]
    },
    {
     "name": "stderr",
     "output_type": "stream",
     "text": [
      " 71%|███████   | 70275/99258 [04:50<00:54, 535.01it/s]"
     ]
    },
    {
     "name": "stdout",
     "output_type": "stream",
     "text": [
      "\r",
      " 92%|█████████▏| 76/83 [02:24<00:03,  1.79it/s]"
     ]
    },
    {
     "name": "stderr",
     "output_type": "stream",
     "text": [
      " 71%|███████   | 70529/99258 [04:50<00:48, 598.37it/s]"
     ]
    },
    {
     "name": "stdout",
     "output_type": "stream",
     "text": [
      "\r",
      " 93%|█████████▎| 77/83 [02:24<00:03,  1.87it/s]"
     ]
    },
    {
     "name": "stderr",
     "output_type": "stream",
     "text": [
      " 71%|███████▏  | 70843/99258 [04:51<01:53, 250.78it/s]"
     ]
    },
    {
     "name": "stdout",
     "output_type": "stream",
     "text": [
      "\r",
      " 94%|█████████▍| 78/83 [02:25<00:03,  1.36it/s]"
     ]
    },
    {
     "name": "stderr",
     "output_type": "stream",
     "text": [
      " 72%|███████▏  | 71251/99258 [04:52<00:49, 570.74it/s]"
     ]
    },
    {
     "name": "stdout",
     "output_type": "stream",
     "text": [
      "\r",
      " 95%|█████████▌| 79/83 [02:26<00:02,  1.50it/s]"
     ]
    },
    {
     "name": "stderr",
     "output_type": "stream",
     "text": [
      " 72%|███████▏  | 71797/99258 [04:53<00:44, 618.50it/s]"
     ]
    },
    {
     "name": "stdout",
     "output_type": "stream",
     "text": [
      "\r",
      " 56%|█████▌    | 56/100 [01:18<01:11,  1.61s/it]"
     ]
    },
    {
     "name": "stderr",
     "output_type": "stream",
     "text": [
      " 73%|███████▎  | 72062/99258 [04:53<00:43, 626.53it/s]"
     ]
    },
    {
     "name": "stdout",
     "output_type": "stream",
     "text": [
      "\r",
      " 57%|█████▋    | 57/100 [01:19<00:54,  1.27s/it]"
     ]
    },
    {
     "name": "stderr",
     "output_type": "stream",
     "text": [
      " 73%|███████▎  | 72314/99258 [04:54<00:45, 596.72it/s]"
     ]
    },
    {
     "name": "stdout",
     "output_type": "stream",
     "text": [
      "\r",
      " 58%|█████▊    | 58/100 [01:19<00:43,  1.03s/it]"
     ]
    },
    {
     "name": "stderr",
     "output_type": "stream",
     "text": [
      " 73%|███████▎  | 72566/99258 [04:54<00:43, 615.83it/s]"
     ]
    },
    {
     "name": "stdout",
     "output_type": "stream",
     "text": [
      "\r",
      " 59%|█████▉    | 59/100 [01:20<00:35,  1.16it/s]"
     ]
    },
    {
     "name": "stderr",
     "output_type": "stream",
     "text": [
      " 73%|███████▎  | 72870/99258 [04:55<00:47, 553.65it/s]"
     ]
    },
    {
     "name": "stdout",
     "output_type": "stream",
     "text": [
      "\r",
      " 60%|██████    | 60/100 [01:20<00:29,  1.34it/s]\r",
      " 96%|█████████▋| 80/83 [02:28<00:03,  1.30s/it]"
     ]
    },
    {
     "name": "stderr",
     "output_type": "stream",
     "text": [
      " 74%|███████▎  | 73106/99258 [04:56<01:06, 392.77it/s]"
     ]
    },
    {
     "name": "stdout",
     "output_type": "stream",
     "text": [
      "\r",
      " 98%|█████████▊| 81/83 [02:29<00:02,  1.12s/it]\r",
      " 61%|██████    | 61/100 [01:21<00:30,  1.27it/s]"
     ]
    },
    {
     "name": "stderr",
     "output_type": "stream",
     "text": [
      "\r",
      " 74%|███████▎  | 73167/99258 [04:56<00:59, 436.54it/s]\r",
      " 74%|███████▍  | 73229/99258 [04:56<00:54, 478.64it/s]"
     ]
    },
    {
     "name": "stdout",
     "output_type": "stream",
     "text": [
      "\r",
      " 99%|█████████▉| 82/83 [02:30<00:00,  1.11it/s]"
     ]
    },
    {
     "name": "stderr",
     "output_type": "stream",
     "text": [
      " 74%|███████▍  | 73468/99258 [04:56<00:54, 471.99it/s]"
     ]
    },
    {
     "name": "stdout",
     "output_type": "stream",
     "text": [
      "\r",
      " 62%|██████▏   | 62/100 [01:22<00:27,  1.39it/s]"
     ]
    },
    {
     "name": "stderr",
     "output_type": "stream",
     "text": [
      "\r",
      " 74%|███████▍  | 73537/99258 [04:56<00:48, 525.52it/s]\r",
      " 74%|███████▍  | 73594/99258 [04:57<00:55, 458.82it/s]"
     ]
    },
    {
     "name": "stdout",
     "output_type": "stream",
     "text": [
      "\r",
      "100%|██████████| 83/83 [02:30<00:00,  1.26it/s]\r",
      "100%|██████████| 83/83 [02:30<00:00,  1.81s/it]"
     ]
    },
    {
     "name": "stderr",
     "output_type": "stream",
     "text": [
      "\r",
      " 74%|███████▍  | 73654/99258 [04:57<00:52, 489.20it/s]2022-04-26 16:45:33,805 - INFO - generate_tiles -                  x_coord  ...                                         tile_store\n",
      "2022-04-26 16:45:33,805 - INFO - generate_tiles - address                   ...                                                   \n",
      "2022-04-26 16:45:33,805 - INFO - generate_tiles - x7_y134_z20.0       1792  ...  /home/kohlia/vmount/PRO_12-123/tiling/01OV008-...\n",
      "2022-04-26 16:45:33,805 - INFO - generate_tiles - x7_y135_z20.0       1792  ...  /home/kohlia/vmount/PRO_12-123/tiling/01OV008-...\n",
      "2022-04-26 16:45:33,805 - INFO - generate_tiles - x7_y136_z20.0       1792  ...  /home/kohlia/vmount/PRO_12-123/tiling/01OV008-...\n",
      "2022-04-26 16:45:33,805 - INFO - generate_tiles - x7_y146_z20.0       1792  ...  /home/kohlia/vmount/PRO_12-123/tiling/01OV008-...\n",
      "2022-04-26 16:45:33,805 - INFO - generate_tiles - x7_y147_z20.0       1792  ...  /home/kohlia/vmount/PRO_12-123/tiling/01OV008-...\n",
      "2022-04-26 16:45:33,805 - INFO - generate_tiles - ...                  ...  ...                                                ...\n",
      "2022-04-26 16:45:33,805 - INFO - generate_tiles - x139_y1_z20.0      35584  ...  /home/kohlia/vmount/PRO_12-123/tiling/01OV008-...\n",
      "2022-04-26 16:45:33,805 - INFO - generate_tiles - x148_y139_z20.0    37888  ...  /home/kohlia/vmount/PRO_12-123/tiling/01OV008-...\n",
      "2022-04-26 16:45:33,805 - INFO - generate_tiles - x149_y89_z20.0     38144  ...  /home/kohlia/vmount/PRO_12-123/tiling/01OV008-...\n",
      "2022-04-26 16:45:33,805 - INFO - generate_tiles - x159_y98_z20.0     40704  ...  /home/kohlia/vmount/PRO_12-123/tiling/01OV008-...\n",
      "2022-04-26 16:45:33,805 - INFO - generate_tiles - x159_y170_z20.0    40704  ...  /home/kohlia/vmount/PRO_12-123/tiling/01OV008-...\n",
      "2022-04-26 16:45:33,805 - INFO - generate_tiles - \n",
      "2022-04-26 16:45:33,805 - INFO - generate_tiles - [16496 rows x 9 columns]\n",
      "\r",
      " 74%|███████▍  | 73721/99258 [04:57<00:48, 529.66it/s]2022-04-26 16:45:33,957 - INFO - luna.common.utils - Code block 'transform::save_tiles' took: 154.11847703899912s\n",
      "2022-04-26 16:45:33,959 - INFO - luna.common.utils - ------------------------------------------------------------\n",
      "2022-04-26 16:45:33,959 - INFO - luna.common.utils -  Done with transform, running post-transform functions... \n",
      "2022-04-26 16:45:33,959 - INFO - luna.common.utils - ------------------------------------------------------------\n",
      "2022-04-26 16:45:33,967 - INFO - luna.common.utils - Adding feature segment /home/kohlia/vmount/PRO_12-123/tiling/01OV008-7579323e-2fae-43a9-b00f-a15c28/saved_tiles/01OV008-7579323e-2fae-43a9-b00f-a15c28.tiles.parquet to PRO_TILES_LABLED\n",
      "2022-04-26 16:45:33,969 - INFO - luna.common.utils - Found dataset URL = file:////home/kohlia/vmount/PRO_12-123/\n",
      "2022-04-26 16:45:33,971 - INFO - luna.common.utils - Adding /home/kohlia/vmount/PRO_12-123/tiling/01OV008-7579323e-2fae-43a9-b00f-a15c28/saved_tiles/01OV008-7579323e-2fae-43a9-b00f-a15c28.tiles.parquet to PRO_TILES_LABLED via file:////home/kohlia/vmount/PRO_12-123/\n",
      "2022-04-26 16:45:33,973 - INFO - luna.common.utils - SEGMENT_ID=62681d02787e8d61b58adf2b-01OV008-7579323e-2fae-43a9-b00f-a15c28\n"
     ]
    },
    {
     "name": "stdout",
     "output_type": "stream",
     "text": [
      "\r",
      " 63%|██████▎   | 63/100 [01:22<00:24,  1.51it/s]"
     ]
    },
    {
     "name": "stderr",
     "output_type": "stream",
     "text": [
      "\r",
      " 74%|███████▍  | 73777/99258 [04:57<00:47, 537.32it/s]2022-04-26 16:45:33,978 - INFO - luna.common.utils - Writing to: //home/kohlia/vmount/PRO_12-123/datasets/PRO_TILES_LABLED/segments/62681d02787e8d61b58adf2b-01OV008-7579323e-2fae-43a9-b00f-a15c28\n",
      "\r",
      " 74%|███████▍  | 73839/99258 [04:57<00:45, 554.34it/s]2022-04-26 16:45:34,087 - INFO - luna.common.utils - Done.\n"
     ]
    },
    {
     "name": "stdout",
     "output_type": "stream",
     "text": [
      "\n",
      "\r",
      " 64%|██████▍   | 64/100 [01:23<00:21,  1.69it/s]"
     ]
    },
    {
     "name": "stderr",
     "output_type": "stream",
     "text": [
      " 75%|███████▍  | 74213/99258 [04:58<00:41, 600.48it/s]"
     ]
    },
    {
     "name": "stdout",
     "output_type": "stream",
     "text": [
      "\r",
      " 65%|██████▌   | 65/100 [01:23<00:19,  1.84it/s]"
     ]
    },
    {
     "name": "stderr",
     "output_type": "stream",
     "text": [
      "\r",
      " 75%|███████▍  | 74274/99258 [04:58<00:42, 585.91it/s]\r",
      " 75%|███████▍  | 74341/99258 [04:58<00:40, 609.90it/s]\r",
      " 75%|███████▍  | 74405/99258 [04:58<00:40, 617.03it/s]"
     ]
    },
    {
     "name": "stdout",
     "output_type": "stream",
     "text": [
      "\r",
      " 66%|██████▌   | 66/100 [01:23<00:17,  1.99it/s]"
     ]
    },
    {
     "name": "stderr",
     "output_type": "stream",
     "text": [
      " 75%|███████▌  | 74659/99258 [04:58<00:45, 541.98it/s]"
     ]
    },
    {
     "name": "stdout",
     "output_type": "stream",
     "text": [
      "\r",
      " 67%|██████▋   | 67/100 [01:24<00:16,  2.02it/s]"
     ]
    },
    {
     "name": "stderr",
     "output_type": "stream",
     "text": [
      " 75%|███████▌  | 74918/99258 [04:59<00:38, 624.74it/s]"
     ]
    },
    {
     "name": "stdout",
     "output_type": "stream",
     "text": [
      "\r",
      " 68%|██████▊   | 68/100 [01:24<00:15,  2.10it/s]"
     ]
    },
    {
     "name": "stderr",
     "output_type": "stream",
     "text": [
      " 76%|███████▌  | 75183/99258 [04:59<00:39, 610.95it/s]"
     ]
    },
    {
     "name": "stdout",
     "output_type": "stream",
     "text": [
      "\r",
      " 69%|██████▉   | 69/100 [01:25<00:13,  2.27it/s]"
     ]
    },
    {
     "name": "stderr",
     "output_type": "stream",
     "text": [
      " 76%|███████▌  | 75452/99258 [05:00<00:38, 617.78it/s]"
     ]
    },
    {
     "name": "stdout",
     "output_type": "stream",
     "text": [
      "\r",
      " 70%|███████   | 70/100 [01:25<00:12,  2.40it/s]"
     ]
    },
    {
     "name": "stderr",
     "output_type": "stream",
     "text": [
      " 76%|███████▌  | 75661/99258 [05:00<00:38, 619.18it/s]"
     ]
    },
    {
     "name": "stdout",
     "output_type": "stream",
     "text": [
      "\r",
      " 71%|███████   | 71/100 [01:25<00:11,  2.49it/s]"
     ]
    },
    {
     "name": "stderr",
     "output_type": "stream",
     "text": [
      "\r",
      " 76%|███████▋  | 75724/99258 [05:00<01:19, 295.96it/s]\r",
      " 76%|███████▋  | 75802/99258 [05:01<01:02, 373.29it/s]\r",
      " 76%|███████▋  | 75861/99258 [05:01<00:56, 413.27it/s]"
     ]
    },
    {
     "name": "stdout",
     "output_type": "stream",
     "text": [
      "\r",
      " 72%|███████▏  | 72/100 [01:26<00:14,  1.97it/s]"
     ]
    },
    {
     "name": "stderr",
     "output_type": "stream",
     "text": [
      " 77%|███████▋  | 76133/99258 [05:01<00:41, 555.55it/s]"
     ]
    },
    {
     "name": "stdout",
     "output_type": "stream",
     "text": [
      "\r",
      " 73%|███████▎  | 73/100 [01:26<00:12,  2.15it/s]"
     ]
    },
    {
     "name": "stderr",
     "output_type": "stream",
     "text": [
      " 77%|███████▋  | 76424/99258 [05:01<00:35, 639.91it/s]"
     ]
    },
    {
     "name": "stdout",
     "output_type": "stream",
     "text": [
      "\r",
      " 74%|███████▍  | 74/100 [01:27<00:11,  2.22it/s]"
     ]
    },
    {
     "name": "stderr",
     "output_type": "stream",
     "text": [
      " 77%|███████▋  | 76702/99258 [05:02<00:35, 635.54it/s]"
     ]
    },
    {
     "name": "stdout",
     "output_type": "stream",
     "text": [
      "\r",
      " 75%|███████▌  | 75/100 [01:27<00:10,  2.41it/s]"
     ]
    },
    {
     "name": "stderr",
     "output_type": "stream",
     "text": [
      "\r",
      " 77%|███████▋  | 76767/99258 [05:02<00:35, 627.28it/s]\r",
      " 77%|███████▋  | 76831/99258 [05:02<00:37, 600.36it/s]"
     ]
    },
    {
     "name": "stdout",
     "output_type": "stream",
     "text": [
      "\r",
      " 76%|███████▌  | 76/100 [01:28<00:09,  2.53it/s]"
     ]
    },
    {
     "name": "stderr",
     "output_type": "stream",
     "text": [
      " 78%|███████▊  | 77177/99258 [05:03<00:34, 643.62it/s]"
     ]
    },
    {
     "name": "stdout",
     "output_type": "stream",
     "text": [
      "\r",
      " 77%|███████▋  | 77/100 [01:28<00:08,  2.59it/s]"
     ]
    },
    {
     "name": "stderr",
     "output_type": "stream",
     "text": [
      "\r",
      " 78%|███████▊  | 77243/99258 [05:03<00:35, 625.94it/s]\r",
      " 78%|███████▊  | 77307/99258 [05:03<00:36, 596.41it/s]"
     ]
    },
    {
     "name": "stdout",
     "output_type": "stream",
     "text": [
      "\r",
      " 78%|███████▊  | 78/100 [01:28<00:08,  2.66it/s]"
     ]
    },
    {
     "name": "stderr",
     "output_type": "stream",
     "text": [
      " 78%|███████▊  | 77581/99258 [05:03<00:34, 630.15it/s]"
     ]
    },
    {
     "name": "stdout",
     "output_type": "stream",
     "text": [
      "\r",
      " 79%|███████▉  | 79/100 [01:29<00:07,  2.66it/s]"
     ]
    },
    {
     "name": "stderr",
     "output_type": "stream",
     "text": [
      " 80%|███████▉  | 78932/99258 [05:06<00:35, 574.88it/s]"
     ]
    },
    {
     "name": "stdout",
     "output_type": "stream",
     "text": [
      "\r",
      " 80%|████████  | 80/100 [01:31<00:18,  1.07it/s]"
     ]
    },
    {
     "name": "stderr",
     "output_type": "stream",
     "text": [
      "\r",
      " 80%|███████▉  | 79003/99258 [05:06<00:33, 610.57it/s]\r",
      " 80%|███████▉  | 79067/99258 [05:06<00:32, 615.71it/s]"
     ]
    },
    {
     "name": "stdout",
     "output_type": "stream",
     "text": [
      "\r",
      " 81%|████████  | 81/100 [01:31<00:14,  1.32it/s]"
     ]
    },
    {
     "name": "stderr",
     "output_type": "stream",
     "text": [
      " 80%|███████▉  | 79329/99258 [05:06<00:33, 603.61it/s]"
     ]
    },
    {
     "name": "stdout",
     "output_type": "stream",
     "text": [
      "\r",
      " 82%|████████▏ | 82/100 [01:32<00:11,  1.53it/s]"
     ]
    },
    {
     "name": "stderr",
     "output_type": "stream",
     "text": [
      " 80%|████████  | 79592/99258 [05:07<00:33, 581.50it/s]"
     ]
    },
    {
     "name": "stdout",
     "output_type": "stream",
     "text": [
      "\r",
      " 83%|████████▎ | 83/100 [01:32<00:09,  1.70it/s]"
     ]
    },
    {
     "name": "stderr",
     "output_type": "stream",
     "text": [
      " 80%|████████  | 79841/99258 [05:07<00:35, 549.14it/s]"
     ]
    },
    {
     "name": "stdout",
     "output_type": "stream",
     "text": [
      "\r",
      " 84%|████████▍ | 84/100 [01:33<00:08,  1.86it/s]"
     ]
    },
    {
     "name": "stderr",
     "output_type": "stream",
     "text": [
      " 81%|████████  | 80073/99258 [05:08<00:37, 511.42it/s]"
     ]
    },
    {
     "name": "stdout",
     "output_type": "stream",
     "text": [
      "\r",
      " 85%|████████▌ | 85/100 [01:33<00:07,  2.05it/s]"
     ]
    },
    {
     "name": "stderr",
     "output_type": "stream",
     "text": [
      " 81%|████████  | 80249/99258 [05:08<00:35, 530.48it/s]"
     ]
    },
    {
     "name": "stdout",
     "output_type": "stream",
     "text": [
      "\r",
      " 86%|████████▌ | 86/100 [01:33<00:06,  2.18it/s]"
     ]
    },
    {
     "name": "stderr",
     "output_type": "stream",
     "text": [
      " 81%|████████  | 80477/99258 [05:09<00:43, 436.41it/s]"
     ]
    },
    {
     "name": "stdout",
     "output_type": "stream",
     "text": [
      "\r",
      " 87%|████████▋ | 87/100 [01:34<00:06,  1.97it/s]"
     ]
    },
    {
     "name": "stderr",
     "output_type": "stream",
     "text": [
      " 81%|████████▏ | 80706/99258 [05:09<00:35, 515.51it/s]"
     ]
    },
    {
     "name": "stdout",
     "output_type": "stream",
     "text": [
      "\r",
      " 88%|████████▊ | 88/100 [01:34<00:05,  2.13it/s]"
     ]
    },
    {
     "name": "stderr",
     "output_type": "stream",
     "text": [
      " 82%|████████▏ | 81014/99258 [05:09<00:32, 563.38it/s]"
     ]
    },
    {
     "name": "stdout",
     "output_type": "stream",
     "text": [
      "\r",
      " 89%|████████▉ | 89/100 [01:35<00:05,  2.00it/s]"
     ]
    },
    {
     "name": "stderr",
     "output_type": "stream",
     "text": [
      " 82%|████████▏ | 81255/99258 [05:10<00:33, 531.54it/s]"
     ]
    },
    {
     "name": "stdout",
     "output_type": "stream",
     "text": [
      "\r",
      " 90%|█████████ | 90/100 [01:35<00:04,  2.14it/s]"
     ]
    },
    {
     "name": "stderr",
     "output_type": "stream",
     "text": [
      " 82%|████████▏ | 81497/99258 [05:10<00:32, 540.66it/s]"
     ]
    },
    {
     "name": "stdout",
     "output_type": "stream",
     "text": [
      "\r",
      " 91%|█████████ | 91/100 [01:36<00:04,  2.24it/s]"
     ]
    },
    {
     "name": "stderr",
     "output_type": "stream",
     "text": [
      "\r",
      " 82%|████████▏ | 81569/99258 [05:10<00:29, 589.83it/s]\r",
      " 82%|████████▏ | 81629/99258 [05:11<00:30, 582.03it/s]"
     ]
    },
    {
     "name": "stdout",
     "output_type": "stream",
     "text": [
      "\r",
      " 92%|█████████▏| 92/100 [01:36<00:03,  2.35it/s]"
     ]
    },
    {
     "name": "stderr",
     "output_type": "stream",
     "text": [
      " 82%|████████▏ | 81875/99258 [05:11<00:30, 573.61it/s]"
     ]
    },
    {
     "name": "stdout",
     "output_type": "stream",
     "text": [
      "\r",
      " 93%|█████████▎| 93/100 [01:36<00:02,  2.36it/s]"
     ]
    },
    {
     "name": "stderr",
     "output_type": "stream",
     "text": [
      " 83%|████████▎ | 82121/99258 [05:11<00:30, 563.66it/s]"
     ]
    },
    {
     "name": "stdout",
     "output_type": "stream",
     "text": [
      "\r",
      " 94%|█████████▍| 94/100 [01:37<00:02,  2.43it/s]"
     ]
    },
    {
     "name": "stderr",
     "output_type": "stream",
     "text": [
      " 83%|████████▎ | 82360/99258 [05:12<00:30, 550.13it/s]"
     ]
    },
    {
     "name": "stdout",
     "output_type": "stream",
     "text": [
      "\r",
      " 95%|█████████▌| 95/100 [01:37<00:02,  2.45it/s]"
     ]
    },
    {
     "name": "stderr",
     "output_type": "stream",
     "text": [
      " 83%|████████▎ | 82596/99258 [05:12<00:29, 556.15it/s]"
     ]
    },
    {
     "name": "stdout",
     "output_type": "stream",
     "text": [
      "\r",
      " 96%|█████████▌| 96/100 [01:38<00:01,  2.51it/s]"
     ]
    },
    {
     "name": "stderr",
     "output_type": "stream",
     "text": [
      "\r",
      " 83%|████████▎ | 82652/99258 [05:12<00:30, 552.44it/s]\r",
      " 83%|████████▎ | 82720/99258 [05:12<00:28, 585.08it/s]"
     ]
    },
    {
     "name": "stdout",
     "output_type": "stream",
     "text": [
      "\r",
      " 97%|█████████▋| 97/100 [01:38<00:01,  2.63it/s]"
     ]
    },
    {
     "name": "stderr",
     "output_type": "stream",
     "text": [
      " 84%|████████▎ | 82968/99258 [05:13<00:27, 598.40it/s]"
     ]
    },
    {
     "name": "stdout",
     "output_type": "stream",
     "text": [
      "\r",
      " 98%|█████████▊| 98/100 [01:38<00:00,  2.65it/s]"
     ]
    },
    {
     "name": "stderr",
     "output_type": "stream",
     "text": [
      " 84%|████████▍ | 83246/99258 [05:14<00:46, 347.17it/s]"
     ]
    },
    {
     "name": "stdout",
     "output_type": "stream",
     "text": [
      "\r",
      " 99%|█████████▉| 99/100 [01:39<00:00,  2.15it/s]"
     ]
    },
    {
     "name": "stderr",
     "output_type": "stream",
     "text": [
      "\r",
      " 84%|████████▍ | 83290/99258 [05:14<00:43, 366.57it/s]\r",
      " 84%|████████▍ | 83341/99258 [05:14<00:39, 398.33it/s]"
     ]
    },
    {
     "name": "stdout",
     "output_type": "stream",
     "text": [
      "\r",
      "100%|██████████| 100/100 [01:39<00:00,  2.29it/s]\r",
      "100%|██████████| 100/100 [01:39<00:00,  1.00it/s]"
     ]
    },
    {
     "name": "stderr",
     "output_type": "stream",
     "text": [
      " 84%|████████▍ | 83786/99258 [05:15<00:28, 539.62it/s]2022-04-26 16:45:51,918 - INFO - generate_tiles -                  x_coord  ...                                         tile_store\n",
      "2022-04-26 16:45:51,918 - INFO - generate_tiles - address                   ...                                                   \n",
      "2022-04-26 16:45:51,918 - INFO - generate_tiles - x3_y58_z20.0         768  ...  /home/kohlia/vmount/PRO_12-123/tiling/01OV002-...\n",
      "2022-04-26 16:45:51,918 - INFO - generate_tiles - x6_y171_z20.0       1536  ...  /home/kohlia/vmount/PRO_12-123/tiling/01OV002-...\n",
      "2022-04-26 16:45:51,918 - INFO - generate_tiles - x6_y172_z20.0       1536  ...  /home/kohlia/vmount/PRO_12-123/tiling/01OV002-...\n",
      "2022-04-26 16:45:51,918 - INFO - generate_tiles - x6_y173_z20.0       1536  ...  /home/kohlia/vmount/PRO_12-123/tiling/01OV002-...\n",
      "2022-04-26 16:45:51,918 - INFO - generate_tiles - x6_y174_z20.0       1536  ...  /home/kohlia/vmount/PRO_12-123/tiling/01OV002-...\n",
      "2022-04-26 16:45:51,918 - INFO - generate_tiles - ...                  ...  ...                                                ...\n",
      "2022-04-26 16:45:51,918 - INFO - generate_tiles - x188_y118_z20.0    48128  ...  /home/kohlia/vmount/PRO_12-123/tiling/01OV002-...\n",
      "2022-04-26 16:45:51,918 - INFO - generate_tiles - x193_y206_z20.0    49408  ...  /home/kohlia/vmount/PRO_12-123/tiling/01OV002-...\n",
      "2022-04-26 16:45:51,918 - INFO - generate_tiles - x200_y167_z20.0    51200  ...  /home/kohlia/vmount/PRO_12-123/tiling/01OV002-...\n",
      "2022-04-26 16:45:51,918 - INFO - generate_tiles - x201_y198_z20.0    51456  ...  /home/kohlia/vmount/PRO_12-123/tiling/01OV002-...\n",
      "2022-04-26 16:45:51,918 - INFO - generate_tiles - x207_y208_z20.0    52992  ...  /home/kohlia/vmount/PRO_12-123/tiling/01OV002-...\n",
      "2022-04-26 16:45:51,918 - INFO - generate_tiles - \n",
      "2022-04-26 16:45:51,918 - INFO - generate_tiles - [19982 rows x 9 columns]\n",
      " 84%|████████▍ | 83846/99258 [05:15<00:27, 554.13it/s]2022-04-26 16:45:52,020 - INFO - luna.common.utils - Code block 'transform::save_tiles' took: 105.72083545800342s\n",
      "2022-04-26 16:45:52,022 - INFO - luna.common.utils - ------------------------------------------------------------\n",
      "2022-04-26 16:45:52,022 - INFO - luna.common.utils -  Done with transform, running post-transform functions... \n",
      "2022-04-26 16:45:52,022 - INFO - luna.common.utils - ------------------------------------------------------------\n",
      "2022-04-26 16:45:52,036 - INFO - luna.common.utils - Adding feature segment /home/kohlia/vmount/PRO_12-123/tiling/01OV002-bd8cdc70-3d46-40ae-99c4-90ef77/saved_tiles/01OV002-bd8cdc70-3d46-40ae-99c4-90ef77.tiles.parquet to PRO_TILES_LABLED\n",
      "2022-04-26 16:45:52,038 - INFO - luna.common.utils - Found dataset URL = file:////home/kohlia/vmount/PRO_12-123/\n",
      "2022-04-26 16:45:52,040 - INFO - luna.common.utils - Adding /home/kohlia/vmount/PRO_12-123/tiling/01OV002-bd8cdc70-3d46-40ae-99c4-90ef77/saved_tiles/01OV002-bd8cdc70-3d46-40ae-99c4-90ef77.tiles.parquet to PRO_TILES_LABLED via file:////home/kohlia/vmount/PRO_12-123/\n",
      "2022-04-26 16:45:52,041 - INFO - luna.common.utils - SEGMENT_ID=62681d02787e8d61b58adf2b-01OV002-bd8cdc70-3d46-40ae-99c4-90ef77\n",
      "2022-04-26 16:45:52,043 - INFO - luna.common.utils - Writing to: //home/kohlia/vmount/PRO_12-123/datasets/PRO_TILES_LABLED/segments/62681d02787e8d61b58adf2b-01OV002-bd8cdc70-3d46-40ae-99c4-90ef77\n",
      " 85%|████████▍ | 83919/99258 [05:15<00:25, 604.52it/s]2022-04-26 16:45:52,165 - INFO - luna.common.utils - Done.\n"
     ]
    },
    {
     "name": "stdout",
     "output_type": "stream",
     "text": [
      "\n"
     ]
    },
    {
     "name": "stderr",
     "output_type": "stream",
     "text": [
      "100%|██████████| 99258/99258 [05:38<00:00, 292.84it/s]\n",
      "2022-04-26 16:46:15,796 - INFO - detect_tissue - Filtering based on query: otsu_score > 0.1\n",
      "2022-04-26 16:46:16,213 - INFO - detect_tissue -                 x_coord  y_coord  xy_extent  tile_size tile_units  otsu_score\n",
      "2022-04-26 16:46:16,213 - INFO - detect_tissue - address                                                                      \n",
      "2022-04-26 16:46:16,213 - INFO - detect_tissue - x6_y152_z20.0      1536    38912        256        128         px        0.15\n",
      "2022-04-26 16:46:16,213 - INFO - detect_tissue - x6_y153_z20.0      1536    39168        256        128         px        0.30\n",
      "2022-04-26 16:46:16,213 - INFO - detect_tissue - x6_y154_z20.0      1536    39424        256        128         px        0.56\n",
      "2022-04-26 16:46:16,213 - INFO - detect_tissue - x6_y155_z20.0      1536    39680        256        128         px        0.73\n",
      "2022-04-26 16:46:16,213 - INFO - detect_tissue - x6_y156_z20.0      1536    39936        256        128         px        0.73\n",
      "2022-04-26 16:46:16,213 - INFO - detect_tissue - ...                 ...      ...        ...        ...        ...         ...\n",
      "2022-04-26 16:46:16,213 - INFO - detect_tissue - x414_y26_z20.0   105984     6656        256        128         px        0.31\n",
      "2022-04-26 16:46:16,213 - INFO - detect_tissue - x415_y22_z20.0   106240     5632        256        128         px        0.24\n",
      "2022-04-26 16:46:16,213 - INFO - detect_tissue - x415_y25_z20.0   106240     6400        256        128         px        0.12\n",
      "2022-04-26 16:46:16,213 - INFO - detect_tissue - x419_y21_z20.0   107264     5376        256        128         px        0.23\n",
      "2022-04-26 16:46:16,213 - INFO - detect_tissue - x420_y22_z20.0   107520     5632        256        128         px        0.27\n",
      "2022-04-26 16:46:16,213 - INFO - detect_tissue - \n",
      "2022-04-26 16:46:16,213 - INFO - detect_tissue - [20648 rows x 6 columns]\n",
      "2022-04-26 16:46:16,756 - INFO - luna.common.utils - Code block 'transform::detect_tissue' took: 474.3939694219989s\n",
      "2022-04-26 16:46:16,760 - INFO - luna.common.utils - ------------------------------------------------------------\n",
      "2022-04-26 16:46:16,760 - INFO - luna.common.utils -  Done with transform, running post-transform functions... \n",
      "2022-04-26 16:46:16,760 - INFO - luna.common.utils - ------------------------------------------------------------\n",
      "2022-04-26 16:46:16,794 - INFO - luna.common.utils - Done.\n"
     ]
    },
    {
     "name": "stdout",
     "output_type": "stream",
     "text": [
      "label_tiles ../PRO_12-123/data/toy_data_set/table/ANNOTATIONS /home/kohlia/vmount/PRO_12-123/tiling/01OV007-9b90eb78-2f50-4aeb-b010-d642f9/detected_tiles\n",
      "['label_tiles', PosixPath('../PRO_12-123/data/toy_data_set/table/ANNOTATIONS'), '/home/kohlia/vmount/PRO_12-123/tiling/01OV007-9b90eb78-2f50-4aeb-b010-d642f9/detected_tiles', '-o', '/home/kohlia/vmount/PRO_12-123/tiling/01OV007-9b90eb78-2f50-4aeb-b010-d642f9/labled_tiles']\n"
     ]
    },
    {
     "name": "stderr",
     "output_type": "stream",
     "text": [
      "2022-04-26 16:46:21,566 - INFO - root - Initalized logger, log file at: data-processing.log\n",
      "2022-04-26 16:46:21,570 - INFO - luna.common.utils - Started CLI Runner wtih <function generate_tile_labels at 0x7f162e233940>\n",
      "2022-04-26 16:46:21,571 - INFO - luna.common.utils - Validating params...\n",
      "2022-04-26 16:46:21,572 - INFO - luna.common.utils -  -> Set input_slide_annotation_dataset (<class 'str'>) = ../PRO_12-123/data/toy_data_set/table/ANNOTATIONS\n",
      "2022-04-26 16:46:21,573 - INFO - luna.common.utils -  -> Set input_slide_tiles (<class 'str'>) = /home/kohlia/vmount/PRO_12-123/tiling/01OV007-9b90eb78-2f50-4aeb-b010-d642f9/detected_tiles\n",
      "2022-04-26 16:46:21,574 - INFO - luna.common.utils -  -> Set output_dir (<class 'str'>) = /home/kohlia/vmount/PRO_12-123/tiling/01OV007-9b90eb78-2f50-4aeb-b010-d642f9/labled_tiles\n",
      "2022-04-26 16:46:21,576 - INFO - luna.common.utils - Expanding inputs...\n",
      "2022-04-26 16:46:21,577 - INFO - luna.common.utils - Attempting to read metadata at ../PRO_12-123/data/toy_data_set/table/ANNOTATIONS/metadata.yml\n",
      "2022-04-26 16:46:21,582 - INFO - luna.common.utils - Expanded input:\n",
      "2022-04-26 16:46:21,582 - INFO - luna.common.utils -  -> ../PRO_12-123/data/toy_data_set/table/ANNOTATIONS\n",
      "2022-04-26 16:46:21,582 - INFO - luna.common.utils -  -> ../PRO_12-123/data/toy_data_set/table/ANNOTATIONS/slide_annotation_dataset_TCGA collection_ov_regional.parquet\n",
      "2022-04-26 16:46:21,583 - INFO - luna.common.utils - Found segment keys: {'dsa_collection_uuid': '62681d02787e8d61b58adf2b'}\n",
      "2022-04-26 16:46:21,584 - INFO - luna.common.utils - Attempting to read metadata at /home/kohlia/vmount/PRO_12-123/tiling/01OV007-9b90eb78-2f50-4aeb-b010-d642f9/detected_tiles/metadata.yml\n",
      "2022-04-26 16:46:21,588 - INFO - luna.common.utils - Expanded input:\n",
      "2022-04-26 16:46:21,588 - INFO - luna.common.utils -  -> /home/kohlia/vmount/PRO_12-123/tiling/01OV007-9b90eb78-2f50-4aeb-b010-d642f9/detected_tiles\n",
      "2022-04-26 16:46:21,588 - INFO - luna.common.utils -  -> /home/kohlia/vmount/PRO_12-123/tiling/01OV007-9b90eb78-2f50-4aeb-b010-d642f9/detected_tiles/01OV007-9b90eb78-2f50-4aeb-b010-d642f9-filtered.tiles.parquet\n",
      "2022-04-26 16:46:21,589 - INFO - luna.common.utils - Found segment keys: {'slide_id': '01OV007-9b90eb78-2f50-4aeb-b010-d642f9'}\n",
      "2022-04-26 16:46:21,590 - INFO - luna.common.utils - Resolved input:\n",
      "2022-04-26 16:46:21,590 - INFO - luna.common.utils -  -> ../PRO_12-123/data/toy_data_set/table/ANNOTATIONS/slide_annotation_dataset_TCGA collection_ov_regional.parquet\n",
      "2022-04-26 16:46:21,590 - INFO - luna.common.utils -  -> /home/kohlia/vmount/PRO_12-123/data/toy_data_set/table/ANNOTATIONS/slide_annotation_dataset_TCGA collection_ov_regional.parquet\n",
      "2022-04-26 16:46:21,591 - INFO - luna.common.utils - Resolved input:\n",
      "2022-04-26 16:46:21,591 - INFO - luna.common.utils -  -> /home/kohlia/vmount/PRO_12-123/tiling/01OV007-9b90eb78-2f50-4aeb-b010-d642f9/detected_tiles/01OV007-9b90eb78-2f50-4aeb-b010-d642f9-filtered.tiles.parquet\n",
      "2022-04-26 16:46:21,591 - INFO - luna.common.utils -  -> /home/kohlia/vmount/PRO_12-123/tiling/01OV007-9b90eb78-2f50-4aeb-b010-d642f9/detected_tiles/01OV007-9b90eb78-2f50-4aeb-b010-d642f9-filtered.tiles.parquet\n",
      "2022-04-26 16:46:21,592 - INFO - luna.common.utils - Full segment key set: {'dsa_collection_uuid': '62681d02787e8d61b58adf2b', 'slide_id': '01OV007-9b90eb78-2f50-4aeb-b010-d642f9'}\n",
      "2022-04-26 16:46:21,593 - INFO - luna.common.utils - ------------------------------------------------------------\n",
      "2022-04-26 16:46:21,593 - INFO - luna.common.utils -  Starting transform::generate_tile_labels \n",
      "2022-04-26 16:46:21,593 - INFO - luna.common.utils - ------------------------------------------------------------\n",
      "2022-04-26 16:46:21,595 - INFO - generate_tile_labels - slide_id=01OV007-9b90eb78-2f50-4aeb-b010-d642f9\n",
      "\r",
      "  0%|          | 0/20648 [00:00<?, ?it/s]"
     ]
    },
    {
     "name": "stdout",
     "output_type": "stream",
     "text": [
      "../PRO_12-123/data/toy_data_set/table/ANNOTATIONS/01OV007-9b90eb78-2f50-4aeb-b010-d642f9.annotation.geojson TCGA collection ov_regional\n"
     ]
    },
    {
     "name": "stderr",
     "output_type": "stream",
     "text": [
      "100%|██████████| 20648/20648 [00:03<00:00, 5183.42it/s]\n",
      "2022-04-26 16:46:25,683 - INFO - generate_tile_labels -                  x_coord  y_coord  ...  regional_label  intersection_area\n",
      "2022-04-26 16:46:25,683 - INFO - generate_tile_labels - address                            ...                                   \n",
      "2022-04-26 16:46:25,683 - INFO - generate_tile_labels - x24_y56_z20.0       6144    14336  ...             fat           0.001128\n",
      "2022-04-26 16:46:25,683 - INFO - generate_tile_labels - x24_y57_z20.0       6144    14592  ...             fat           0.337458\n",
      "2022-04-26 16:46:25,683 - INFO - generate_tile_labels - x24_y58_z20.0       6144    14848  ...             fat           0.536735\n",
      "2022-04-26 16:46:25,683 - INFO - generate_tile_labels - x24_y59_z20.0       6144    15104  ...             fat           0.511210\n",
      "2022-04-26 16:46:25,683 - INFO - generate_tile_labels - x24_y60_z20.0       6144    15360  ...             fat           0.161498\n",
      "2022-04-26 16:46:25,683 - INFO - generate_tile_labels - ...                  ...      ...  ...             ...                ...\n",
      "2022-04-26 16:46:25,683 - INFO - generate_tile_labels - x379_y109_z20.0    97024    27904  ...           tumor           0.482618\n",
      "2022-04-26 16:46:25,683 - INFO - generate_tile_labels - x380_y104_z20.0    97280    26624  ...           tumor           0.009819\n",
      "2022-04-26 16:46:25,683 - INFO - generate_tile_labels - x380_y105_z20.0    97280    26880  ...           tumor           0.337997\n",
      "2022-04-26 16:46:25,683 - INFO - generate_tile_labels - x380_y106_z20.0    97280    27136  ...           tumor           0.453576\n",
      "2022-04-26 16:46:25,683 - INFO - generate_tile_labels - x380_y107_z20.0    97280    27392  ...           tumor           0.294047\n",
      "2022-04-26 16:46:25,683 - INFO - generate_tile_labels - \n",
      "2022-04-26 16:46:25,683 - INFO - generate_tile_labels - [614 rows x 8 columns]\n",
      "2022-04-26 16:46:25,719 - INFO - luna.common.utils - Code block 'transform::generate_tile_labels' took: 4.1243665410001995s\n",
      "2022-04-26 16:46:25,720 - INFO - luna.common.utils - ------------------------------------------------------------\n",
      "2022-04-26 16:46:25,720 - INFO - luna.common.utils -  Done with transform, running post-transform functions... \n",
      "2022-04-26 16:46:25,720 - INFO - luna.common.utils - ------------------------------------------------------------\n",
      "2022-04-26 16:46:25,725 - INFO - luna.common.utils - Done.\n"
     ]
    },
    {
     "name": "stdout",
     "output_type": "stream",
     "text": [
      "save_tiles file:/home/kohlia/vmount/PRO_12-123/data/toy_data_set/01OV007-9b90eb78-2f50-4aeb-b010-d642f9.svs /home/kohlia/vmount/PRO_12-123/tiling/01OV007-9b90eb78-2f50-4aeb-b010-d642f9/labled_tiles --num_cores 16 --batch_size 200 --dataset_id PRO_TILES_LABLED\n",
      "['save_tiles', PosixPath('file:/home/kohlia/vmount/PRO_12-123/data/toy_data_set/01OV007-9b90eb78-2f50-4aeb-b010-d642f9.svs'), '/home/kohlia/vmount/PRO_12-123/tiling/01OV007-9b90eb78-2f50-4aeb-b010-d642f9/labled_tiles', '--num_cores', '16', '--batch_size', '200', '--dataset_id', 'PRO_TILES_LABLED', '-o', '/home/kohlia/vmount/PRO_12-123/tiling/01OV007-9b90eb78-2f50-4aeb-b010-d642f9/saved_tiles']\n"
     ]
    },
    {
     "name": "stderr",
     "output_type": "stream",
     "text": [
      "2022-04-26 16:46:26,697 - INFO - root - Initalized logger, log file at: data-processing.log\n",
      "2022-04-26 16:46:29,030 - INFO - luna.common.utils - Started CLI Runner wtih <function save_tiles at 0x7f2642d56a60>\n",
      "2022-04-26 16:46:29,032 - INFO - luna.common.utils - Validating params...\n",
      "2022-04-26 16:46:29,033 - INFO - luna.common.utils -  -> Set input_slide_image (<class 'str'>) = file:/home/kohlia/vmount/PRO_12-123/data/toy_data_set/01OV007-9b90eb78-2f50-4aeb-b010-d642f9.svs\n",
      "2022-04-26 16:46:29,034 - INFO - luna.common.utils -  -> Set input_slide_tiles (<class 'str'>) = /home/kohlia/vmount/PRO_12-123/tiling/01OV007-9b90eb78-2f50-4aeb-b010-d642f9/labled_tiles\n",
      "2022-04-26 16:46:29,035 - INFO - luna.common.utils -  -> Set output_dir (<class 'str'>) = /home/kohlia/vmount/PRO_12-123/tiling/01OV007-9b90eb78-2f50-4aeb-b010-d642f9/saved_tiles\n",
      "2022-04-26 16:46:29,036 - INFO - luna.common.utils -  -> Set num_cores (<class 'int'>) = 16\n",
      "2022-04-26 16:46:29,037 - INFO - luna.common.utils -  -> Set batch_size (<class 'int'>) = 200\n",
      "2022-04-26 16:46:29,038 - INFO - luna.common.utils - Expanding inputs...\n",
      "2022-04-26 16:46:29,039 - INFO - luna.common.utils - Attempting to read metadata at file:/home/kohlia/vmount/PRO_12-123/data/toy_data_set/01OV007-9b90eb78-2f50-4aeb-b010-d642f9.svs/metadata.yml\n",
      "2022-04-26 16:46:29,041 - INFO - luna.common.utils - Attempting to read metadata at /home/kohlia/vmount/PRO_12-123/tiling/01OV007-9b90eb78-2f50-4aeb-b010-d642f9/labled_tiles/metadata.yml\n",
      "2022-04-26 16:46:29,044 - INFO - luna.common.utils - Expanded input:\n",
      "2022-04-26 16:46:29,044 - INFO - luna.common.utils -  -> /home/kohlia/vmount/PRO_12-123/tiling/01OV007-9b90eb78-2f50-4aeb-b010-d642f9/labled_tiles\n",
      "2022-04-26 16:46:29,044 - INFO - luna.common.utils -  -> /home/kohlia/vmount/PRO_12-123/tiling/01OV007-9b90eb78-2f50-4aeb-b010-d642f9/labled_tiles/01OV007-9b90eb78-2f50-4aeb-b010-d642f9.regional_label.tiles.parquet\n",
      "2022-04-26 16:46:29,046 - INFO - luna.common.utils - Found segment keys: {'dsa_collection_uuid': '62681d02787e8d61b58adf2b', 'slide_id': '01OV007-9b90eb78-2f50-4aeb-b010-d642f9'}\n",
      "2022-04-26 16:46:29,047 - INFO - luna.common.utils - Resolved input:\n",
      "2022-04-26 16:46:29,047 - INFO - luna.common.utils -  -> file:/home/kohlia/vmount/PRO_12-123/data/toy_data_set/01OV007-9b90eb78-2f50-4aeb-b010-d642f9.svs\n",
      "2022-04-26 16:46:29,047 - INFO - luna.common.utils -  -> /home/kohlia/vmount/PRO_12-123/data/toy_data_set/01OV007-9b90eb78-2f50-4aeb-b010-d642f9.svs\n",
      "2022-04-26 16:46:29,048 - INFO - luna.common.utils - Resolved input:\n",
      "2022-04-26 16:46:29,048 - INFO - luna.common.utils -  -> /home/kohlia/vmount/PRO_12-123/tiling/01OV007-9b90eb78-2f50-4aeb-b010-d642f9/labled_tiles/01OV007-9b90eb78-2f50-4aeb-b010-d642f9.regional_label.tiles.parquet\n",
      "2022-04-26 16:46:29,048 - INFO - luna.common.utils -  -> /home/kohlia/vmount/PRO_12-123/tiling/01OV007-9b90eb78-2f50-4aeb-b010-d642f9/labled_tiles/01OV007-9b90eb78-2f50-4aeb-b010-d642f9.regional_label.tiles.parquet\n",
      "2022-04-26 16:46:29,049 - INFO - luna.common.utils - Full segment key set: {'dsa_collection_uuid': '62681d02787e8d61b58adf2b', 'slide_id': '01OV007-9b90eb78-2f50-4aeb-b010-d642f9'}\n",
      "2022-04-26 16:46:29,050 - INFO - luna.common.utils - ------------------------------------------------------------\n",
      "2022-04-26 16:46:29,050 - INFO - luna.common.utils -  Starting transform::save_tiles \n",
      "2022-04-26 16:46:29,050 - INFO - luna.common.utils - ------------------------------------------------------------\n",
      "2022-04-26 16:46:29,084 - INFO - generate_tiles - Now generating tiles with num_cores=16 and batch_size=200!\n",
      "2022-04-26 16:46:29,086 - WARNING - generate_tiles - /home/kohlia/vmount/PRO_12-123/tiling/01OV007-9b90eb78-2f50-4aeb-b010-d642f9/saved_tiles/01OV007-9b90eb78-2f50-4aeb-b010-d642f9.tiles.h5 already exists, deleting the file..\n"
     ]
    },
    {
     "name": "stdout",
     "output_type": "stream",
     "text": [
      "100%|██████████| 104/104 [00:56<00:00,  1.84it/s]"
     ]
    },
    {
     "name": "stderr",
     "output_type": "stream",
     "text": [
      "2022-04-26 16:47:27,657 - INFO - generate_tiles -                 x_coord  ...                                         tile_store\n",
      "2022-04-26 16:47:27,657 - INFO - generate_tiles - address                  ...                                                   \n",
      "2022-04-26 16:47:27,657 - INFO - generate_tiles - x6_y152_z20.0      1536  ...  /home/kohlia/vmount/PRO_12-123/tiling/01OV007-...\n",
      "2022-04-26 16:47:27,657 - INFO - generate_tiles - x6_y153_z20.0      1536  ...  /home/kohlia/vmount/PRO_12-123/tiling/01OV007-...\n",
      "2022-04-26 16:47:27,657 - INFO - generate_tiles - x6_y154_z20.0      1536  ...  /home/kohlia/vmount/PRO_12-123/tiling/01OV007-...\n",
      "2022-04-26 16:47:27,657 - INFO - generate_tiles - x6_y155_z20.0      1536  ...  /home/kohlia/vmount/PRO_12-123/tiling/01OV007-...\n",
      "2022-04-26 16:47:27,657 - INFO - generate_tiles - x6_y156_z20.0      1536  ...  /home/kohlia/vmount/PRO_12-123/tiling/01OV007-...\n",
      "2022-04-26 16:47:27,657 - INFO - generate_tiles - ...                 ...  ...                                                ...\n",
      "2022-04-26 16:47:27,657 - INFO - generate_tiles - x414_y26_z20.0   105984  ...  /home/kohlia/vmount/PRO_12-123/tiling/01OV007-...\n",
      "2022-04-26 16:47:27,657 - INFO - generate_tiles - x415_y22_z20.0   106240  ...  /home/kohlia/vmount/PRO_12-123/tiling/01OV007-...\n",
      "2022-04-26 16:47:27,657 - INFO - generate_tiles - x415_y25_z20.0   106240  ...  /home/kohlia/vmount/PRO_12-123/tiling/01OV007-...\n",
      "2022-04-26 16:47:27,657 - INFO - generate_tiles - x419_y21_z20.0   107264  ...  /home/kohlia/vmount/PRO_12-123/tiling/01OV007-...\n",
      "2022-04-26 16:47:27,657 - INFO - generate_tiles - x420_y22_z20.0   107520  ...  /home/kohlia/vmount/PRO_12-123/tiling/01OV007-...\n",
      "2022-04-26 16:47:27,657 - INFO - generate_tiles - \n",
      "2022-04-26 16:47:27,657 - INFO - generate_tiles - [20648 rows x 9 columns]\n",
      "2022-04-26 16:47:27,739 - INFO - luna.common.utils - Code block 'transform::save_tiles' took: 58.72936859800029s\n",
      "2022-04-26 16:47:27,741 - INFO - luna.common.utils - ------------------------------------------------------------\n",
      "2022-04-26 16:47:27,741 - INFO - luna.common.utils -  Done with transform, running post-transform functions... \n",
      "2022-04-26 16:47:27,741 - INFO - luna.common.utils - ------------------------------------------------------------\n",
      "2022-04-26 16:47:27,747 - INFO - luna.common.utils - Adding feature segment /home/kohlia/vmount/PRO_12-123/tiling/01OV007-9b90eb78-2f50-4aeb-b010-d642f9/saved_tiles/01OV007-9b90eb78-2f50-4aeb-b010-d642f9.tiles.parquet to PRO_TILES_LABLED\n",
      "2022-04-26 16:47:27,748 - INFO - luna.common.utils - Found dataset URL = file:////home/kohlia/vmount/PRO_12-123/\n",
      "2022-04-26 16:47:27,749 - INFO - luna.common.utils - Adding /home/kohlia/vmount/PRO_12-123/tiling/01OV007-9b90eb78-2f50-4aeb-b010-d642f9/saved_tiles/01OV007-9b90eb78-2f50-4aeb-b010-d642f9.tiles.parquet to PRO_TILES_LABLED via file:////home/kohlia/vmount/PRO_12-123/\n",
      "2022-04-26 16:47:27,750 - INFO - luna.common.utils - SEGMENT_ID=62681d02787e8d61b58adf2b-01OV007-9b90eb78-2f50-4aeb-b010-d642f9\n",
      "2022-04-26 16:47:27,753 - INFO - luna.common.utils - Writing to: //home/kohlia/vmount/PRO_12-123/datasets/PRO_TILES_LABLED/segments/62681d02787e8d61b58adf2b-01OV007-9b90eb78-2f50-4aeb-b010-d642f9\n",
      "2022-04-26 16:47:27,831 - INFO - luna.common.utils - Done.\n"
     ]
    },
    {
     "name": "stdout",
     "output_type": "stream",
     "text": [
      "\n"
     ]
    }
   ],
   "source": [
    "from concurrent.futures import ThreadPoolExecutor\n",
    "import pandas as pd\n",
    "\n",
    "df_slides = pd.read_parquet(\"../PRO_12-123/data/toy_data_set/table/SLIDES/slide_ingest_PRO_12-123.parquet\")\n",
    "        \n",
    "with ThreadPoolExecutor(5) as pool:\n",
    "    \n",
    "    for index, row in df_slides.iterrows():\n",
    "        print (index)\n",
    "        \n",
    "        pool.submit(pipeline, index, row.slide_image, \"../PRO_12-123/data/toy_data_set/table/ANNOTATIONS\")\n",
    "        "
   ]
  },
  {
   "cell_type": "code",
   "execution_count": 12,
   "metadata": {},
   "outputs": [
    {
     "name": "stdout",
     "output_type": "stream",
     "text": [
      "tumor     2952\n",
      "stroma    1424\n",
      "fat        736\n",
      "Name: regional_label, dtype: int64\n"
     ]
    },
    {
     "data": {
      "text/plain": [
       "['/home/kohlia/vmount/PRO_12-123/tiling/01OV002-bd8cdc70-3d46-40ae-99c4-90ef77/saved_tiles/01OV002-bd8cdc70-3d46-40ae-99c4-90ef77.tiles.h5',\n",
       " '/home/kohlia/vmount/PRO_12-123/tiling/01OV002-bd8cdc70-3d46-40ae-99c4-90ef77/saved_tiles/01OV002-bd8cdc70-3d46-40ae-99c4-90ef77.tiles.h5',\n",
       " '/home/kohlia/vmount/PRO_12-123/tiling/01OV002-bd8cdc70-3d46-40ae-99c4-90ef77/saved_tiles/01OV002-bd8cdc70-3d46-40ae-99c4-90ef77.tiles.h5',\n",
       " '/home/kohlia/vmount/PRO_12-123/tiling/01OV002-bd8cdc70-3d46-40ae-99c4-90ef77/saved_tiles/01OV002-bd8cdc70-3d46-40ae-99c4-90ef77.tiles.h5',\n",
       " '/home/kohlia/vmount/PRO_12-123/tiling/01OV002-bd8cdc70-3d46-40ae-99c4-90ef77/saved_tiles/01OV002-bd8cdc70-3d46-40ae-99c4-90ef77.tiles.h5',\n",
       " '/home/kohlia/vmount/PRO_12-123/tiling/01OV002-bd8cdc70-3d46-40ae-99c4-90ef77/saved_tiles/01OV002-bd8cdc70-3d46-40ae-99c4-90ef77.tiles.h5',\n",
       " '/home/kohlia/vmount/PRO_12-123/tiling/01OV002-bd8cdc70-3d46-40ae-99c4-90ef77/saved_tiles/01OV002-bd8cdc70-3d46-40ae-99c4-90ef77.tiles.h5',\n",
       " '/home/kohlia/vmount/PRO_12-123/tiling/01OV002-bd8cdc70-3d46-40ae-99c4-90ef77/saved_tiles/01OV002-bd8cdc70-3d46-40ae-99c4-90ef77.tiles.h5',\n",
       " '/home/kohlia/vmount/PRO_12-123/tiling/01OV002-bd8cdc70-3d46-40ae-99c4-90ef77/saved_tiles/01OV002-bd8cdc70-3d46-40ae-99c4-90ef77.tiles.h5',\n",
       " '/home/kohlia/vmount/PRO_12-123/tiling/01OV002-bd8cdc70-3d46-40ae-99c4-90ef77/saved_tiles/01OV002-bd8cdc70-3d46-40ae-99c4-90ef77.tiles.h5',\n",
       " '/home/kohlia/vmount/PRO_12-123/tiling/01OV002-bd8cdc70-3d46-40ae-99c4-90ef77/saved_tiles/01OV002-bd8cdc70-3d46-40ae-99c4-90ef77.tiles.h5',\n",
       " '/home/kohlia/vmount/PRO_12-123/tiling/01OV002-bd8cdc70-3d46-40ae-99c4-90ef77/saved_tiles/01OV002-bd8cdc70-3d46-40ae-99c4-90ef77.tiles.h5',\n",
       " '/home/kohlia/vmount/PRO_12-123/tiling/01OV002-bd8cdc70-3d46-40ae-99c4-90ef77/saved_tiles/01OV002-bd8cdc70-3d46-40ae-99c4-90ef77.tiles.h5',\n",
       " '/home/kohlia/vmount/PRO_12-123/tiling/01OV002-bd8cdc70-3d46-40ae-99c4-90ef77/saved_tiles/01OV002-bd8cdc70-3d46-40ae-99c4-90ef77.tiles.h5',\n",
       " '/home/kohlia/vmount/PRO_12-123/tiling/01OV002-bd8cdc70-3d46-40ae-99c4-90ef77/saved_tiles/01OV002-bd8cdc70-3d46-40ae-99c4-90ef77.tiles.h5',\n",
       " '/home/kohlia/vmount/PRO_12-123/tiling/01OV002-bd8cdc70-3d46-40ae-99c4-90ef77/saved_tiles/01OV002-bd8cdc70-3d46-40ae-99c4-90ef77.tiles.h5',\n",
       " '/home/kohlia/vmount/PRO_12-123/tiling/01OV002-bd8cdc70-3d46-40ae-99c4-90ef77/saved_tiles/01OV002-bd8cdc70-3d46-40ae-99c4-90ef77.tiles.h5',\n",
       " '/home/kohlia/vmount/PRO_12-123/tiling/01OV002-bd8cdc70-3d46-40ae-99c4-90ef77/saved_tiles/01OV002-bd8cdc70-3d46-40ae-99c4-90ef77.tiles.h5',\n",
       " '/home/kohlia/vmount/PRO_12-123/tiling/01OV002-bd8cdc70-3d46-40ae-99c4-90ef77/saved_tiles/01OV002-bd8cdc70-3d46-40ae-99c4-90ef77.tiles.h5',\n",
       " '/home/kohlia/vmount/PRO_12-123/tiling/01OV002-bd8cdc70-3d46-40ae-99c4-90ef77/saved_tiles/01OV002-bd8cdc70-3d46-40ae-99c4-90ef77.tiles.h5',\n",
       " '/home/kohlia/vmount/PRO_12-123/tiling/01OV002-bd8cdc70-3d46-40ae-99c4-90ef77/saved_tiles/01OV002-bd8cdc70-3d46-40ae-99c4-90ef77.tiles.h5',\n",
       " '/home/kohlia/vmount/PRO_12-123/tiling/01OV002-bd8cdc70-3d46-40ae-99c4-90ef77/saved_tiles/01OV002-bd8cdc70-3d46-40ae-99c4-90ef77.tiles.h5',\n",
       " '/home/kohlia/vmount/PRO_12-123/tiling/01OV002-bd8cdc70-3d46-40ae-99c4-90ef77/saved_tiles/01OV002-bd8cdc70-3d46-40ae-99c4-90ef77.tiles.h5',\n",
       " '/home/kohlia/vmount/PRO_12-123/tiling/01OV002-bd8cdc70-3d46-40ae-99c4-90ef77/saved_tiles/01OV002-bd8cdc70-3d46-40ae-99c4-90ef77.tiles.h5',\n",
       " '/home/kohlia/vmount/PRO_12-123/tiling/01OV002-bd8cdc70-3d46-40ae-99c4-90ef77/saved_tiles/01OV002-bd8cdc70-3d46-40ae-99c4-90ef77.tiles.h5',\n",
       " '/home/kohlia/vmount/PRO_12-123/tiling/01OV002-bd8cdc70-3d46-40ae-99c4-90ef77/saved_tiles/01OV002-bd8cdc70-3d46-40ae-99c4-90ef77.tiles.h5',\n",
       " '/home/kohlia/vmount/PRO_12-123/tiling/01OV002-bd8cdc70-3d46-40ae-99c4-90ef77/saved_tiles/01OV002-bd8cdc70-3d46-40ae-99c4-90ef77.tiles.h5',\n",
       " '/home/kohlia/vmount/PRO_12-123/tiling/01OV002-bd8cdc70-3d46-40ae-99c4-90ef77/saved_tiles/01OV002-bd8cdc70-3d46-40ae-99c4-90ef77.tiles.h5',\n",
       " '/home/kohlia/vmount/PRO_12-123/tiling/01OV002-bd8cdc70-3d46-40ae-99c4-90ef77/saved_tiles/01OV002-bd8cdc70-3d46-40ae-99c4-90ef77.tiles.h5',\n",
       " '/home/kohlia/vmount/PRO_12-123/tiling/01OV002-bd8cdc70-3d46-40ae-99c4-90ef77/saved_tiles/01OV002-bd8cdc70-3d46-40ae-99c4-90ef77.tiles.h5',\n",
       " '/home/kohlia/vmount/PRO_12-123/tiling/01OV002-bd8cdc70-3d46-40ae-99c4-90ef77/saved_tiles/01OV002-bd8cdc70-3d46-40ae-99c4-90ef77.tiles.h5',\n",
       " '/home/kohlia/vmount/PRO_12-123/tiling/01OV002-bd8cdc70-3d46-40ae-99c4-90ef77/saved_tiles/01OV002-bd8cdc70-3d46-40ae-99c4-90ef77.tiles.h5',\n",
       " '/home/kohlia/vmount/PRO_12-123/tiling/01OV002-bd8cdc70-3d46-40ae-99c4-90ef77/saved_tiles/01OV002-bd8cdc70-3d46-40ae-99c4-90ef77.tiles.h5',\n",
       " '/home/kohlia/vmount/PRO_12-123/tiling/01OV002-bd8cdc70-3d46-40ae-99c4-90ef77/saved_tiles/01OV002-bd8cdc70-3d46-40ae-99c4-90ef77.tiles.h5',\n",
       " '/home/kohlia/vmount/PRO_12-123/tiling/01OV002-bd8cdc70-3d46-40ae-99c4-90ef77/saved_tiles/01OV002-bd8cdc70-3d46-40ae-99c4-90ef77.tiles.h5',\n",
       " '/home/kohlia/vmount/PRO_12-123/tiling/01OV002-bd8cdc70-3d46-40ae-99c4-90ef77/saved_tiles/01OV002-bd8cdc70-3d46-40ae-99c4-90ef77.tiles.h5',\n",
       " '/home/kohlia/vmount/PRO_12-123/tiling/01OV002-bd8cdc70-3d46-40ae-99c4-90ef77/saved_tiles/01OV002-bd8cdc70-3d46-40ae-99c4-90ef77.tiles.h5',\n",
       " '/home/kohlia/vmount/PRO_12-123/tiling/01OV002-bd8cdc70-3d46-40ae-99c4-90ef77/saved_tiles/01OV002-bd8cdc70-3d46-40ae-99c4-90ef77.tiles.h5',\n",
       " '/home/kohlia/vmount/PRO_12-123/tiling/01OV002-bd8cdc70-3d46-40ae-99c4-90ef77/saved_tiles/01OV002-bd8cdc70-3d46-40ae-99c4-90ef77.tiles.h5',\n",
       " '/home/kohlia/vmount/PRO_12-123/tiling/01OV002-bd8cdc70-3d46-40ae-99c4-90ef77/saved_tiles/01OV002-bd8cdc70-3d46-40ae-99c4-90ef77.tiles.h5',\n",
       " '/home/kohlia/vmount/PRO_12-123/tiling/01OV002-bd8cdc70-3d46-40ae-99c4-90ef77/saved_tiles/01OV002-bd8cdc70-3d46-40ae-99c4-90ef77.tiles.h5',\n",
       " '/home/kohlia/vmount/PRO_12-123/tiling/01OV002-bd8cdc70-3d46-40ae-99c4-90ef77/saved_tiles/01OV002-bd8cdc70-3d46-40ae-99c4-90ef77.tiles.h5',\n",
       " '/home/kohlia/vmount/PRO_12-123/tiling/01OV002-bd8cdc70-3d46-40ae-99c4-90ef77/saved_tiles/01OV002-bd8cdc70-3d46-40ae-99c4-90ef77.tiles.h5',\n",
       " '/home/kohlia/vmount/PRO_12-123/tiling/01OV002-bd8cdc70-3d46-40ae-99c4-90ef77/saved_tiles/01OV002-bd8cdc70-3d46-40ae-99c4-90ef77.tiles.h5',\n",
       " '/home/kohlia/vmount/PRO_12-123/tiling/01OV002-bd8cdc70-3d46-40ae-99c4-90ef77/saved_tiles/01OV002-bd8cdc70-3d46-40ae-99c4-90ef77.tiles.h5',\n",
       " '/home/kohlia/vmount/PRO_12-123/tiling/01OV002-bd8cdc70-3d46-40ae-99c4-90ef77/saved_tiles/01OV002-bd8cdc70-3d46-40ae-99c4-90ef77.tiles.h5',\n",
       " '/home/kohlia/vmount/PRO_12-123/tiling/01OV002-bd8cdc70-3d46-40ae-99c4-90ef77/saved_tiles/01OV002-bd8cdc70-3d46-40ae-99c4-90ef77.tiles.h5',\n",
       " '/home/kohlia/vmount/PRO_12-123/tiling/01OV002-bd8cdc70-3d46-40ae-99c4-90ef77/saved_tiles/01OV002-bd8cdc70-3d46-40ae-99c4-90ef77.tiles.h5',\n",
       " '/home/kohlia/vmount/PRO_12-123/tiling/01OV002-bd8cdc70-3d46-40ae-99c4-90ef77/saved_tiles/01OV002-bd8cdc70-3d46-40ae-99c4-90ef77.tiles.h5',\n",
       " '/home/kohlia/vmount/PRO_12-123/tiling/01OV002-bd8cdc70-3d46-40ae-99c4-90ef77/saved_tiles/01OV002-bd8cdc70-3d46-40ae-99c4-90ef77.tiles.h5',\n",
       " '/home/kohlia/vmount/PRO_12-123/tiling/01OV002-bd8cdc70-3d46-40ae-99c4-90ef77/saved_tiles/01OV002-bd8cdc70-3d46-40ae-99c4-90ef77.tiles.h5',\n",
       " '/home/kohlia/vmount/PRO_12-123/tiling/01OV002-bd8cdc70-3d46-40ae-99c4-90ef77/saved_tiles/01OV002-bd8cdc70-3d46-40ae-99c4-90ef77.tiles.h5',\n",
       " '/home/kohlia/vmount/PRO_12-123/tiling/01OV002-bd8cdc70-3d46-40ae-99c4-90ef77/saved_tiles/01OV002-bd8cdc70-3d46-40ae-99c4-90ef77.tiles.h5',\n",
       " '/home/kohlia/vmount/PRO_12-123/tiling/01OV002-bd8cdc70-3d46-40ae-99c4-90ef77/saved_tiles/01OV002-bd8cdc70-3d46-40ae-99c4-90ef77.tiles.h5',\n",
       " '/home/kohlia/vmount/PRO_12-123/tiling/01OV002-bd8cdc70-3d46-40ae-99c4-90ef77/saved_tiles/01OV002-bd8cdc70-3d46-40ae-99c4-90ef77.tiles.h5',\n",
       " '/home/kohlia/vmount/PRO_12-123/tiling/01OV002-bd8cdc70-3d46-40ae-99c4-90ef77/saved_tiles/01OV002-bd8cdc70-3d46-40ae-99c4-90ef77.tiles.h5',\n",
       " '/home/kohlia/vmount/PRO_12-123/tiling/01OV002-bd8cdc70-3d46-40ae-99c4-90ef77/saved_tiles/01OV002-bd8cdc70-3d46-40ae-99c4-90ef77.tiles.h5',\n",
       " '/home/kohlia/vmount/PRO_12-123/tiling/01OV002-bd8cdc70-3d46-40ae-99c4-90ef77/saved_tiles/01OV002-bd8cdc70-3d46-40ae-99c4-90ef77.tiles.h5',\n",
       " '/home/kohlia/vmount/PRO_12-123/tiling/01OV002-bd8cdc70-3d46-40ae-99c4-90ef77/saved_tiles/01OV002-bd8cdc70-3d46-40ae-99c4-90ef77.tiles.h5',\n",
       " '/home/kohlia/vmount/PRO_12-123/tiling/01OV002-bd8cdc70-3d46-40ae-99c4-90ef77/saved_tiles/01OV002-bd8cdc70-3d46-40ae-99c4-90ef77.tiles.h5',\n",
       " '/home/kohlia/vmount/PRO_12-123/tiling/01OV002-bd8cdc70-3d46-40ae-99c4-90ef77/saved_tiles/01OV002-bd8cdc70-3d46-40ae-99c4-90ef77.tiles.h5',\n",
       " '/home/kohlia/vmount/PRO_12-123/tiling/01OV002-bd8cdc70-3d46-40ae-99c4-90ef77/saved_tiles/01OV002-bd8cdc70-3d46-40ae-99c4-90ef77.tiles.h5',\n",
       " '/home/kohlia/vmount/PRO_12-123/tiling/01OV002-bd8cdc70-3d46-40ae-99c4-90ef77/saved_tiles/01OV002-bd8cdc70-3d46-40ae-99c4-90ef77.tiles.h5',\n",
       " '/home/kohlia/vmount/PRO_12-123/tiling/01OV002-bd8cdc70-3d46-40ae-99c4-90ef77/saved_tiles/01OV002-bd8cdc70-3d46-40ae-99c4-90ef77.tiles.h5',\n",
       " '/home/kohlia/vmount/PRO_12-123/tiling/01OV002-bd8cdc70-3d46-40ae-99c4-90ef77/saved_tiles/01OV002-bd8cdc70-3d46-40ae-99c4-90ef77.tiles.h5',\n",
       " '/home/kohlia/vmount/PRO_12-123/tiling/01OV002-bd8cdc70-3d46-40ae-99c4-90ef77/saved_tiles/01OV002-bd8cdc70-3d46-40ae-99c4-90ef77.tiles.h5',\n",
       " '/home/kohlia/vmount/PRO_12-123/tiling/01OV002-bd8cdc70-3d46-40ae-99c4-90ef77/saved_tiles/01OV002-bd8cdc70-3d46-40ae-99c4-90ef77.tiles.h5',\n",
       " '/home/kohlia/vmount/PRO_12-123/tiling/01OV002-bd8cdc70-3d46-40ae-99c4-90ef77/saved_tiles/01OV002-bd8cdc70-3d46-40ae-99c4-90ef77.tiles.h5',\n",
       " '/home/kohlia/vmount/PRO_12-123/tiling/01OV002-bd8cdc70-3d46-40ae-99c4-90ef77/saved_tiles/01OV002-bd8cdc70-3d46-40ae-99c4-90ef77.tiles.h5',\n",
       " '/home/kohlia/vmount/PRO_12-123/tiling/01OV002-bd8cdc70-3d46-40ae-99c4-90ef77/saved_tiles/01OV002-bd8cdc70-3d46-40ae-99c4-90ef77.tiles.h5',\n",
       " '/home/kohlia/vmount/PRO_12-123/tiling/01OV002-bd8cdc70-3d46-40ae-99c4-90ef77/saved_tiles/01OV002-bd8cdc70-3d46-40ae-99c4-90ef77.tiles.h5',\n",
       " '/home/kohlia/vmount/PRO_12-123/tiling/01OV002-bd8cdc70-3d46-40ae-99c4-90ef77/saved_tiles/01OV002-bd8cdc70-3d46-40ae-99c4-90ef77.tiles.h5',\n",
       " '/home/kohlia/vmount/PRO_12-123/tiling/01OV002-bd8cdc70-3d46-40ae-99c4-90ef77/saved_tiles/01OV002-bd8cdc70-3d46-40ae-99c4-90ef77.tiles.h5',\n",
       " '/home/kohlia/vmount/PRO_12-123/tiling/01OV002-bd8cdc70-3d46-40ae-99c4-90ef77/saved_tiles/01OV002-bd8cdc70-3d46-40ae-99c4-90ef77.tiles.h5',\n",
       " '/home/kohlia/vmount/PRO_12-123/tiling/01OV002-bd8cdc70-3d46-40ae-99c4-90ef77/saved_tiles/01OV002-bd8cdc70-3d46-40ae-99c4-90ef77.tiles.h5',\n",
       " '/home/kohlia/vmount/PRO_12-123/tiling/01OV002-bd8cdc70-3d46-40ae-99c4-90ef77/saved_tiles/01OV002-bd8cdc70-3d46-40ae-99c4-90ef77.tiles.h5',\n",
       " '/home/kohlia/vmount/PRO_12-123/tiling/01OV002-bd8cdc70-3d46-40ae-99c4-90ef77/saved_tiles/01OV002-bd8cdc70-3d46-40ae-99c4-90ef77.tiles.h5',\n",
       " '/home/kohlia/vmount/PRO_12-123/tiling/01OV002-bd8cdc70-3d46-40ae-99c4-90ef77/saved_tiles/01OV002-bd8cdc70-3d46-40ae-99c4-90ef77.tiles.h5',\n",
       " '/home/kohlia/vmount/PRO_12-123/tiling/01OV002-bd8cdc70-3d46-40ae-99c4-90ef77/saved_tiles/01OV002-bd8cdc70-3d46-40ae-99c4-90ef77.tiles.h5',\n",
       " '/home/kohlia/vmount/PRO_12-123/tiling/01OV002-bd8cdc70-3d46-40ae-99c4-90ef77/saved_tiles/01OV002-bd8cdc70-3d46-40ae-99c4-90ef77.tiles.h5',\n",
       " '/home/kohlia/vmount/PRO_12-123/tiling/01OV002-bd8cdc70-3d46-40ae-99c4-90ef77/saved_tiles/01OV002-bd8cdc70-3d46-40ae-99c4-90ef77.tiles.h5',\n",
       " '/home/kohlia/vmount/PRO_12-123/tiling/01OV002-bd8cdc70-3d46-40ae-99c4-90ef77/saved_tiles/01OV002-bd8cdc70-3d46-40ae-99c4-90ef77.tiles.h5',\n",
       " '/home/kohlia/vmount/PRO_12-123/tiling/01OV002-bd8cdc70-3d46-40ae-99c4-90ef77/saved_tiles/01OV002-bd8cdc70-3d46-40ae-99c4-90ef77.tiles.h5',\n",
       " '/home/kohlia/vmount/PRO_12-123/tiling/01OV002-bd8cdc70-3d46-40ae-99c4-90ef77/saved_tiles/01OV002-bd8cdc70-3d46-40ae-99c4-90ef77.tiles.h5',\n",
       " '/home/kohlia/vmount/PRO_12-123/tiling/01OV002-bd8cdc70-3d46-40ae-99c4-90ef77/saved_tiles/01OV002-bd8cdc70-3d46-40ae-99c4-90ef77.tiles.h5',\n",
       " '/home/kohlia/vmount/PRO_12-123/tiling/01OV002-bd8cdc70-3d46-40ae-99c4-90ef77/saved_tiles/01OV002-bd8cdc70-3d46-40ae-99c4-90ef77.tiles.h5',\n",
       " '/home/kohlia/vmount/PRO_12-123/tiling/01OV002-bd8cdc70-3d46-40ae-99c4-90ef77/saved_tiles/01OV002-bd8cdc70-3d46-40ae-99c4-90ef77.tiles.h5',\n",
       " '/home/kohlia/vmount/PRO_12-123/tiling/01OV002-bd8cdc70-3d46-40ae-99c4-90ef77/saved_tiles/01OV002-bd8cdc70-3d46-40ae-99c4-90ef77.tiles.h5',\n",
       " '/home/kohlia/vmount/PRO_12-123/tiling/01OV002-bd8cdc70-3d46-40ae-99c4-90ef77/saved_tiles/01OV002-bd8cdc70-3d46-40ae-99c4-90ef77.tiles.h5',\n",
       " '/home/kohlia/vmount/PRO_12-123/tiling/01OV002-bd8cdc70-3d46-40ae-99c4-90ef77/saved_tiles/01OV002-bd8cdc70-3d46-40ae-99c4-90ef77.tiles.h5',\n",
       " '/home/kohlia/vmount/PRO_12-123/tiling/01OV002-bd8cdc70-3d46-40ae-99c4-90ef77/saved_tiles/01OV002-bd8cdc70-3d46-40ae-99c4-90ef77.tiles.h5',\n",
       " '/home/kohlia/vmount/PRO_12-123/tiling/01OV002-bd8cdc70-3d46-40ae-99c4-90ef77/saved_tiles/01OV002-bd8cdc70-3d46-40ae-99c4-90ef77.tiles.h5',\n",
       " '/home/kohlia/vmount/PRO_12-123/tiling/01OV002-bd8cdc70-3d46-40ae-99c4-90ef77/saved_tiles/01OV002-bd8cdc70-3d46-40ae-99c4-90ef77.tiles.h5',\n",
       " '/home/kohlia/vmount/PRO_12-123/tiling/01OV002-bd8cdc70-3d46-40ae-99c4-90ef77/saved_tiles/01OV002-bd8cdc70-3d46-40ae-99c4-90ef77.tiles.h5',\n",
       " '/home/kohlia/vmount/PRO_12-123/tiling/01OV002-bd8cdc70-3d46-40ae-99c4-90ef77/saved_tiles/01OV002-bd8cdc70-3d46-40ae-99c4-90ef77.tiles.h5',\n",
       " '/home/kohlia/vmount/PRO_12-123/tiling/01OV002-bd8cdc70-3d46-40ae-99c4-90ef77/saved_tiles/01OV002-bd8cdc70-3d46-40ae-99c4-90ef77.tiles.h5',\n",
       " '/home/kohlia/vmount/PRO_12-123/tiling/01OV002-bd8cdc70-3d46-40ae-99c4-90ef77/saved_tiles/01OV002-bd8cdc70-3d46-40ae-99c4-90ef77.tiles.h5',\n",
       " '/home/kohlia/vmount/PRO_12-123/tiling/01OV002-bd8cdc70-3d46-40ae-99c4-90ef77/saved_tiles/01OV002-bd8cdc70-3d46-40ae-99c4-90ef77.tiles.h5',\n",
       " '/home/kohlia/vmount/PRO_12-123/tiling/01OV002-bd8cdc70-3d46-40ae-99c4-90ef77/saved_tiles/01OV002-bd8cdc70-3d46-40ae-99c4-90ef77.tiles.h5',\n",
       " '/home/kohlia/vmount/PRO_12-123/tiling/01OV002-bd8cdc70-3d46-40ae-99c4-90ef77/saved_tiles/01OV002-bd8cdc70-3d46-40ae-99c4-90ef77.tiles.h5',\n",
       " '/home/kohlia/vmount/PRO_12-123/tiling/01OV002-bd8cdc70-3d46-40ae-99c4-90ef77/saved_tiles/01OV002-bd8cdc70-3d46-40ae-99c4-90ef77.tiles.h5',\n",
       " '/home/kohlia/vmount/PRO_12-123/tiling/01OV002-bd8cdc70-3d46-40ae-99c4-90ef77/saved_tiles/01OV002-bd8cdc70-3d46-40ae-99c4-90ef77.tiles.h5',\n",
       " '/home/kohlia/vmount/PRO_12-123/tiling/01OV002-bd8cdc70-3d46-40ae-99c4-90ef77/saved_tiles/01OV002-bd8cdc70-3d46-40ae-99c4-90ef77.tiles.h5',\n",
       " '/home/kohlia/vmount/PRO_12-123/tiling/01OV002-bd8cdc70-3d46-40ae-99c4-90ef77/saved_tiles/01OV002-bd8cdc70-3d46-40ae-99c4-90ef77.tiles.h5',\n",
       " '/home/kohlia/vmount/PRO_12-123/tiling/01OV002-bd8cdc70-3d46-40ae-99c4-90ef77/saved_tiles/01OV002-bd8cdc70-3d46-40ae-99c4-90ef77.tiles.h5',\n",
       " '/home/kohlia/vmount/PRO_12-123/tiling/01OV002-bd8cdc70-3d46-40ae-99c4-90ef77/saved_tiles/01OV002-bd8cdc70-3d46-40ae-99c4-90ef77.tiles.h5',\n",
       " '/home/kohlia/vmount/PRO_12-123/tiling/01OV002-bd8cdc70-3d46-40ae-99c4-90ef77/saved_tiles/01OV002-bd8cdc70-3d46-40ae-99c4-90ef77.tiles.h5',\n",
       " '/home/kohlia/vmount/PRO_12-123/tiling/01OV002-bd8cdc70-3d46-40ae-99c4-90ef77/saved_tiles/01OV002-bd8cdc70-3d46-40ae-99c4-90ef77.tiles.h5',\n",
       " '/home/kohlia/vmount/PRO_12-123/tiling/01OV002-bd8cdc70-3d46-40ae-99c4-90ef77/saved_tiles/01OV002-bd8cdc70-3d46-40ae-99c4-90ef77.tiles.h5',\n",
       " '/home/kohlia/vmount/PRO_12-123/tiling/01OV002-bd8cdc70-3d46-40ae-99c4-90ef77/saved_tiles/01OV002-bd8cdc70-3d46-40ae-99c4-90ef77.tiles.h5',\n",
       " '/home/kohlia/vmount/PRO_12-123/tiling/01OV002-bd8cdc70-3d46-40ae-99c4-90ef77/saved_tiles/01OV002-bd8cdc70-3d46-40ae-99c4-90ef77.tiles.h5',\n",
       " '/home/kohlia/vmount/PRO_12-123/tiling/01OV002-bd8cdc70-3d46-40ae-99c4-90ef77/saved_tiles/01OV002-bd8cdc70-3d46-40ae-99c4-90ef77.tiles.h5',\n",
       " '/home/kohlia/vmount/PRO_12-123/tiling/01OV002-bd8cdc70-3d46-40ae-99c4-90ef77/saved_tiles/01OV002-bd8cdc70-3d46-40ae-99c4-90ef77.tiles.h5',\n",
       " '/home/kohlia/vmount/PRO_12-123/tiling/01OV002-bd8cdc70-3d46-40ae-99c4-90ef77/saved_tiles/01OV002-bd8cdc70-3d46-40ae-99c4-90ef77.tiles.h5',\n",
       " '/home/kohlia/vmount/PRO_12-123/tiling/01OV002-bd8cdc70-3d46-40ae-99c4-90ef77/saved_tiles/01OV002-bd8cdc70-3d46-40ae-99c4-90ef77.tiles.h5',\n",
       " '/home/kohlia/vmount/PRO_12-123/tiling/01OV002-bd8cdc70-3d46-40ae-99c4-90ef77/saved_tiles/01OV002-bd8cdc70-3d46-40ae-99c4-90ef77.tiles.h5',\n",
       " '/home/kohlia/vmount/PRO_12-123/tiling/01OV002-bd8cdc70-3d46-40ae-99c4-90ef77/saved_tiles/01OV002-bd8cdc70-3d46-40ae-99c4-90ef77.tiles.h5',\n",
       " '/home/kohlia/vmount/PRO_12-123/tiling/01OV002-bd8cdc70-3d46-40ae-99c4-90ef77/saved_tiles/01OV002-bd8cdc70-3d46-40ae-99c4-90ef77.tiles.h5',\n",
       " '/home/kohlia/vmount/PRO_12-123/tiling/01OV002-bd8cdc70-3d46-40ae-99c4-90ef77/saved_tiles/01OV002-bd8cdc70-3d46-40ae-99c4-90ef77.tiles.h5',\n",
       " '/home/kohlia/vmount/PRO_12-123/tiling/01OV002-bd8cdc70-3d46-40ae-99c4-90ef77/saved_tiles/01OV002-bd8cdc70-3d46-40ae-99c4-90ef77.tiles.h5',\n",
       " '/home/kohlia/vmount/PRO_12-123/tiling/01OV002-bd8cdc70-3d46-40ae-99c4-90ef77/saved_tiles/01OV002-bd8cdc70-3d46-40ae-99c4-90ef77.tiles.h5',\n",
       " '/home/kohlia/vmount/PRO_12-123/tiling/01OV002-bd8cdc70-3d46-40ae-99c4-90ef77/saved_tiles/01OV002-bd8cdc70-3d46-40ae-99c4-90ef77.tiles.h5',\n",
       " '/home/kohlia/vmount/PRO_12-123/tiling/01OV002-bd8cdc70-3d46-40ae-99c4-90ef77/saved_tiles/01OV002-bd8cdc70-3d46-40ae-99c4-90ef77.tiles.h5',\n",
       " '/home/kohlia/vmount/PRO_12-123/tiling/01OV002-bd8cdc70-3d46-40ae-99c4-90ef77/saved_tiles/01OV002-bd8cdc70-3d46-40ae-99c4-90ef77.tiles.h5',\n",
       " '/home/kohlia/vmount/PRO_12-123/tiling/01OV002-bd8cdc70-3d46-40ae-99c4-90ef77/saved_tiles/01OV002-bd8cdc70-3d46-40ae-99c4-90ef77.tiles.h5',\n",
       " '/home/kohlia/vmount/PRO_12-123/tiling/01OV002-bd8cdc70-3d46-40ae-99c4-90ef77/saved_tiles/01OV002-bd8cdc70-3d46-40ae-99c4-90ef77.tiles.h5',\n",
       " '/home/kohlia/vmount/PRO_12-123/tiling/01OV002-bd8cdc70-3d46-40ae-99c4-90ef77/saved_tiles/01OV002-bd8cdc70-3d46-40ae-99c4-90ef77.tiles.h5',\n",
       " '/home/kohlia/vmount/PRO_12-123/tiling/01OV002-bd8cdc70-3d46-40ae-99c4-90ef77/saved_tiles/01OV002-bd8cdc70-3d46-40ae-99c4-90ef77.tiles.h5',\n",
       " '/home/kohlia/vmount/PRO_12-123/tiling/01OV002-bd8cdc70-3d46-40ae-99c4-90ef77/saved_tiles/01OV002-bd8cdc70-3d46-40ae-99c4-90ef77.tiles.h5',\n",
       " '/home/kohlia/vmount/PRO_12-123/tiling/01OV002-bd8cdc70-3d46-40ae-99c4-90ef77/saved_tiles/01OV002-bd8cdc70-3d46-40ae-99c4-90ef77.tiles.h5',\n",
       " '/home/kohlia/vmount/PRO_12-123/tiling/01OV002-bd8cdc70-3d46-40ae-99c4-90ef77/saved_tiles/01OV002-bd8cdc70-3d46-40ae-99c4-90ef77.tiles.h5',\n",
       " '/home/kohlia/vmount/PRO_12-123/tiling/01OV002-bd8cdc70-3d46-40ae-99c4-90ef77/saved_tiles/01OV002-bd8cdc70-3d46-40ae-99c4-90ef77.tiles.h5',\n",
       " '/home/kohlia/vmount/PRO_12-123/tiling/01OV002-bd8cdc70-3d46-40ae-99c4-90ef77/saved_tiles/01OV002-bd8cdc70-3d46-40ae-99c4-90ef77.tiles.h5',\n",
       " '/home/kohlia/vmount/PRO_12-123/tiling/01OV002-bd8cdc70-3d46-40ae-99c4-90ef77/saved_tiles/01OV002-bd8cdc70-3d46-40ae-99c4-90ef77.tiles.h5',\n",
       " '/home/kohlia/vmount/PRO_12-123/tiling/01OV002-bd8cdc70-3d46-40ae-99c4-90ef77/saved_tiles/01OV002-bd8cdc70-3d46-40ae-99c4-90ef77.tiles.h5',\n",
       " '/home/kohlia/vmount/PRO_12-123/tiling/01OV002-bd8cdc70-3d46-40ae-99c4-90ef77/saved_tiles/01OV002-bd8cdc70-3d46-40ae-99c4-90ef77.tiles.h5',\n",
       " '/home/kohlia/vmount/PRO_12-123/tiling/01OV002-bd8cdc70-3d46-40ae-99c4-90ef77/saved_tiles/01OV002-bd8cdc70-3d46-40ae-99c4-90ef77.tiles.h5',\n",
       " '/home/kohlia/vmount/PRO_12-123/tiling/01OV002-bd8cdc70-3d46-40ae-99c4-90ef77/saved_tiles/01OV002-bd8cdc70-3d46-40ae-99c4-90ef77.tiles.h5',\n",
       " '/home/kohlia/vmount/PRO_12-123/tiling/01OV002-bd8cdc70-3d46-40ae-99c4-90ef77/saved_tiles/01OV002-bd8cdc70-3d46-40ae-99c4-90ef77.tiles.h5',\n",
       " '/home/kohlia/vmount/PRO_12-123/tiling/01OV002-bd8cdc70-3d46-40ae-99c4-90ef77/saved_tiles/01OV002-bd8cdc70-3d46-40ae-99c4-90ef77.tiles.h5',\n",
       " '/home/kohlia/vmount/PRO_12-123/tiling/01OV002-bd8cdc70-3d46-40ae-99c4-90ef77/saved_tiles/01OV002-bd8cdc70-3d46-40ae-99c4-90ef77.tiles.h5',\n",
       " '/home/kohlia/vmount/PRO_12-123/tiling/01OV002-bd8cdc70-3d46-40ae-99c4-90ef77/saved_tiles/01OV002-bd8cdc70-3d46-40ae-99c4-90ef77.tiles.h5',\n",
       " '/home/kohlia/vmount/PRO_12-123/tiling/01OV002-bd8cdc70-3d46-40ae-99c4-90ef77/saved_tiles/01OV002-bd8cdc70-3d46-40ae-99c4-90ef77.tiles.h5',\n",
       " '/home/kohlia/vmount/PRO_12-123/tiling/01OV002-bd8cdc70-3d46-40ae-99c4-90ef77/saved_tiles/01OV002-bd8cdc70-3d46-40ae-99c4-90ef77.tiles.h5',\n",
       " '/home/kohlia/vmount/PRO_12-123/tiling/01OV002-bd8cdc70-3d46-40ae-99c4-90ef77/saved_tiles/01OV002-bd8cdc70-3d46-40ae-99c4-90ef77.tiles.h5',\n",
       " '/home/kohlia/vmount/PRO_12-123/tiling/01OV002-bd8cdc70-3d46-40ae-99c4-90ef77/saved_tiles/01OV002-bd8cdc70-3d46-40ae-99c4-90ef77.tiles.h5',\n",
       " '/home/kohlia/vmount/PRO_12-123/tiling/01OV002-bd8cdc70-3d46-40ae-99c4-90ef77/saved_tiles/01OV002-bd8cdc70-3d46-40ae-99c4-90ef77.tiles.h5',\n",
       " '/home/kohlia/vmount/PRO_12-123/tiling/01OV002-bd8cdc70-3d46-40ae-99c4-90ef77/saved_tiles/01OV002-bd8cdc70-3d46-40ae-99c4-90ef77.tiles.h5',\n",
       " '/home/kohlia/vmount/PRO_12-123/tiling/01OV002-bd8cdc70-3d46-40ae-99c4-90ef77/saved_tiles/01OV002-bd8cdc70-3d46-40ae-99c4-90ef77.tiles.h5',\n",
       " '/home/kohlia/vmount/PRO_12-123/tiling/01OV002-bd8cdc70-3d46-40ae-99c4-90ef77/saved_tiles/01OV002-bd8cdc70-3d46-40ae-99c4-90ef77.tiles.h5',\n",
       " '/home/kohlia/vmount/PRO_12-123/tiling/01OV002-bd8cdc70-3d46-40ae-99c4-90ef77/saved_tiles/01OV002-bd8cdc70-3d46-40ae-99c4-90ef77.tiles.h5',\n",
       " '/home/kohlia/vmount/PRO_12-123/tiling/01OV002-bd8cdc70-3d46-40ae-99c4-90ef77/saved_tiles/01OV002-bd8cdc70-3d46-40ae-99c4-90ef77.tiles.h5',\n",
       " '/home/kohlia/vmount/PRO_12-123/tiling/01OV002-bd8cdc70-3d46-40ae-99c4-90ef77/saved_tiles/01OV002-bd8cdc70-3d46-40ae-99c4-90ef77.tiles.h5',\n",
       " '/home/kohlia/vmount/PRO_12-123/tiling/01OV002-bd8cdc70-3d46-40ae-99c4-90ef77/saved_tiles/01OV002-bd8cdc70-3d46-40ae-99c4-90ef77.tiles.h5',\n",
       " '/home/kohlia/vmount/PRO_12-123/tiling/01OV002-bd8cdc70-3d46-40ae-99c4-90ef77/saved_tiles/01OV002-bd8cdc70-3d46-40ae-99c4-90ef77.tiles.h5',\n",
       " '/home/kohlia/vmount/PRO_12-123/tiling/01OV002-bd8cdc70-3d46-40ae-99c4-90ef77/saved_tiles/01OV002-bd8cdc70-3d46-40ae-99c4-90ef77.tiles.h5',\n",
       " '/home/kohlia/vmount/PRO_12-123/tiling/01OV002-bd8cdc70-3d46-40ae-99c4-90ef77/saved_tiles/01OV002-bd8cdc70-3d46-40ae-99c4-90ef77.tiles.h5',\n",
       " '/home/kohlia/vmount/PRO_12-123/tiling/01OV002-bd8cdc70-3d46-40ae-99c4-90ef77/saved_tiles/01OV002-bd8cdc70-3d46-40ae-99c4-90ef77.tiles.h5',\n",
       " '/home/kohlia/vmount/PRO_12-123/tiling/01OV002-bd8cdc70-3d46-40ae-99c4-90ef77/saved_tiles/01OV002-bd8cdc70-3d46-40ae-99c4-90ef77.tiles.h5',\n",
       " '/home/kohlia/vmount/PRO_12-123/tiling/01OV002-bd8cdc70-3d46-40ae-99c4-90ef77/saved_tiles/01OV002-bd8cdc70-3d46-40ae-99c4-90ef77.tiles.h5',\n",
       " '/home/kohlia/vmount/PRO_12-123/tiling/01OV002-bd8cdc70-3d46-40ae-99c4-90ef77/saved_tiles/01OV002-bd8cdc70-3d46-40ae-99c4-90ef77.tiles.h5',\n",
       " '/home/kohlia/vmount/PRO_12-123/tiling/01OV002-bd8cdc70-3d46-40ae-99c4-90ef77/saved_tiles/01OV002-bd8cdc70-3d46-40ae-99c4-90ef77.tiles.h5',\n",
       " '/home/kohlia/vmount/PRO_12-123/tiling/01OV002-bd8cdc70-3d46-40ae-99c4-90ef77/saved_tiles/01OV002-bd8cdc70-3d46-40ae-99c4-90ef77.tiles.h5',\n",
       " '/home/kohlia/vmount/PRO_12-123/tiling/01OV002-bd8cdc70-3d46-40ae-99c4-90ef77/saved_tiles/01OV002-bd8cdc70-3d46-40ae-99c4-90ef77.tiles.h5',\n",
       " '/home/kohlia/vmount/PRO_12-123/tiling/01OV002-bd8cdc70-3d46-40ae-99c4-90ef77/saved_tiles/01OV002-bd8cdc70-3d46-40ae-99c4-90ef77.tiles.h5',\n",
       " '/home/kohlia/vmount/PRO_12-123/tiling/01OV002-bd8cdc70-3d46-40ae-99c4-90ef77/saved_tiles/01OV002-bd8cdc70-3d46-40ae-99c4-90ef77.tiles.h5',\n",
       " '/home/kohlia/vmount/PRO_12-123/tiling/01OV002-bd8cdc70-3d46-40ae-99c4-90ef77/saved_tiles/01OV002-bd8cdc70-3d46-40ae-99c4-90ef77.tiles.h5',\n",
       " '/home/kohlia/vmount/PRO_12-123/tiling/01OV002-bd8cdc70-3d46-40ae-99c4-90ef77/saved_tiles/01OV002-bd8cdc70-3d46-40ae-99c4-90ef77.tiles.h5',\n",
       " '/home/kohlia/vmount/PRO_12-123/tiling/01OV002-bd8cdc70-3d46-40ae-99c4-90ef77/saved_tiles/01OV002-bd8cdc70-3d46-40ae-99c4-90ef77.tiles.h5',\n",
       " '/home/kohlia/vmount/PRO_12-123/tiling/01OV002-bd8cdc70-3d46-40ae-99c4-90ef77/saved_tiles/01OV002-bd8cdc70-3d46-40ae-99c4-90ef77.tiles.h5',\n",
       " '/home/kohlia/vmount/PRO_12-123/tiling/01OV002-bd8cdc70-3d46-40ae-99c4-90ef77/saved_tiles/01OV002-bd8cdc70-3d46-40ae-99c4-90ef77.tiles.h5',\n",
       " '/home/kohlia/vmount/PRO_12-123/tiling/01OV002-bd8cdc70-3d46-40ae-99c4-90ef77/saved_tiles/01OV002-bd8cdc70-3d46-40ae-99c4-90ef77.tiles.h5',\n",
       " '/home/kohlia/vmount/PRO_12-123/tiling/01OV002-bd8cdc70-3d46-40ae-99c4-90ef77/saved_tiles/01OV002-bd8cdc70-3d46-40ae-99c4-90ef77.tiles.h5',\n",
       " '/home/kohlia/vmount/PRO_12-123/tiling/01OV002-bd8cdc70-3d46-40ae-99c4-90ef77/saved_tiles/01OV002-bd8cdc70-3d46-40ae-99c4-90ef77.tiles.h5',\n",
       " '/home/kohlia/vmount/PRO_12-123/tiling/01OV002-bd8cdc70-3d46-40ae-99c4-90ef77/saved_tiles/01OV002-bd8cdc70-3d46-40ae-99c4-90ef77.tiles.h5',\n",
       " '/home/kohlia/vmount/PRO_12-123/tiling/01OV002-bd8cdc70-3d46-40ae-99c4-90ef77/saved_tiles/01OV002-bd8cdc70-3d46-40ae-99c4-90ef77.tiles.h5',\n",
       " '/home/kohlia/vmount/PRO_12-123/tiling/01OV002-bd8cdc70-3d46-40ae-99c4-90ef77/saved_tiles/01OV002-bd8cdc70-3d46-40ae-99c4-90ef77.tiles.h5',\n",
       " '/home/kohlia/vmount/PRO_12-123/tiling/01OV002-bd8cdc70-3d46-40ae-99c4-90ef77/saved_tiles/01OV002-bd8cdc70-3d46-40ae-99c4-90ef77.tiles.h5',\n",
       " '/home/kohlia/vmount/PRO_12-123/tiling/01OV002-bd8cdc70-3d46-40ae-99c4-90ef77/saved_tiles/01OV002-bd8cdc70-3d46-40ae-99c4-90ef77.tiles.h5',\n",
       " '/home/kohlia/vmount/PRO_12-123/tiling/01OV002-bd8cdc70-3d46-40ae-99c4-90ef77/saved_tiles/01OV002-bd8cdc70-3d46-40ae-99c4-90ef77.tiles.h5',\n",
       " '/home/kohlia/vmount/PRO_12-123/tiling/01OV002-bd8cdc70-3d46-40ae-99c4-90ef77/saved_tiles/01OV002-bd8cdc70-3d46-40ae-99c4-90ef77.tiles.h5',\n",
       " '/home/kohlia/vmount/PRO_12-123/tiling/01OV002-bd8cdc70-3d46-40ae-99c4-90ef77/saved_tiles/01OV002-bd8cdc70-3d46-40ae-99c4-90ef77.tiles.h5',\n",
       " '/home/kohlia/vmount/PRO_12-123/tiling/01OV002-bd8cdc70-3d46-40ae-99c4-90ef77/saved_tiles/01OV002-bd8cdc70-3d46-40ae-99c4-90ef77.tiles.h5',\n",
       " '/home/kohlia/vmount/PRO_12-123/tiling/01OV002-bd8cdc70-3d46-40ae-99c4-90ef77/saved_tiles/01OV002-bd8cdc70-3d46-40ae-99c4-90ef77.tiles.h5',\n",
       " '/home/kohlia/vmount/PRO_12-123/tiling/01OV002-bd8cdc70-3d46-40ae-99c4-90ef77/saved_tiles/01OV002-bd8cdc70-3d46-40ae-99c4-90ef77.tiles.h5',\n",
       " '/home/kohlia/vmount/PRO_12-123/tiling/01OV002-bd8cdc70-3d46-40ae-99c4-90ef77/saved_tiles/01OV002-bd8cdc70-3d46-40ae-99c4-90ef77.tiles.h5',\n",
       " '/home/kohlia/vmount/PRO_12-123/tiling/01OV002-bd8cdc70-3d46-40ae-99c4-90ef77/saved_tiles/01OV002-bd8cdc70-3d46-40ae-99c4-90ef77.tiles.h5',\n",
       " '/home/kohlia/vmount/PRO_12-123/tiling/01OV002-bd8cdc70-3d46-40ae-99c4-90ef77/saved_tiles/01OV002-bd8cdc70-3d46-40ae-99c4-90ef77.tiles.h5',\n",
       " '/home/kohlia/vmount/PRO_12-123/tiling/01OV002-bd8cdc70-3d46-40ae-99c4-90ef77/saved_tiles/01OV002-bd8cdc70-3d46-40ae-99c4-90ef77.tiles.h5',\n",
       " '/home/kohlia/vmount/PRO_12-123/tiling/01OV002-bd8cdc70-3d46-40ae-99c4-90ef77/saved_tiles/01OV002-bd8cdc70-3d46-40ae-99c4-90ef77.tiles.h5',\n",
       " '/home/kohlia/vmount/PRO_12-123/tiling/01OV002-bd8cdc70-3d46-40ae-99c4-90ef77/saved_tiles/01OV002-bd8cdc70-3d46-40ae-99c4-90ef77.tiles.h5',\n",
       " '/home/kohlia/vmount/PRO_12-123/tiling/01OV002-bd8cdc70-3d46-40ae-99c4-90ef77/saved_tiles/01OV002-bd8cdc70-3d46-40ae-99c4-90ef77.tiles.h5',\n",
       " '/home/kohlia/vmount/PRO_12-123/tiling/01OV002-bd8cdc70-3d46-40ae-99c4-90ef77/saved_tiles/01OV002-bd8cdc70-3d46-40ae-99c4-90ef77.tiles.h5',\n",
       " '/home/kohlia/vmount/PRO_12-123/tiling/01OV002-bd8cdc70-3d46-40ae-99c4-90ef77/saved_tiles/01OV002-bd8cdc70-3d46-40ae-99c4-90ef77.tiles.h5',\n",
       " '/home/kohlia/vmount/PRO_12-123/tiling/01OV002-bd8cdc70-3d46-40ae-99c4-90ef77/saved_tiles/01OV002-bd8cdc70-3d46-40ae-99c4-90ef77.tiles.h5',\n",
       " '/home/kohlia/vmount/PRO_12-123/tiling/01OV002-bd8cdc70-3d46-40ae-99c4-90ef77/saved_tiles/01OV002-bd8cdc70-3d46-40ae-99c4-90ef77.tiles.h5',\n",
       " '/home/kohlia/vmount/PRO_12-123/tiling/01OV002-bd8cdc70-3d46-40ae-99c4-90ef77/saved_tiles/01OV002-bd8cdc70-3d46-40ae-99c4-90ef77.tiles.h5',\n",
       " '/home/kohlia/vmount/PRO_12-123/tiling/01OV002-bd8cdc70-3d46-40ae-99c4-90ef77/saved_tiles/01OV002-bd8cdc70-3d46-40ae-99c4-90ef77.tiles.h5',\n",
       " '/home/kohlia/vmount/PRO_12-123/tiling/01OV002-bd8cdc70-3d46-40ae-99c4-90ef77/saved_tiles/01OV002-bd8cdc70-3d46-40ae-99c4-90ef77.tiles.h5',\n",
       " '/home/kohlia/vmount/PRO_12-123/tiling/01OV002-bd8cdc70-3d46-40ae-99c4-90ef77/saved_tiles/01OV002-bd8cdc70-3d46-40ae-99c4-90ef77.tiles.h5',\n",
       " '/home/kohlia/vmount/PRO_12-123/tiling/01OV002-bd8cdc70-3d46-40ae-99c4-90ef77/saved_tiles/01OV002-bd8cdc70-3d46-40ae-99c4-90ef77.tiles.h5',\n",
       " '/home/kohlia/vmount/PRO_12-123/tiling/01OV002-bd8cdc70-3d46-40ae-99c4-90ef77/saved_tiles/01OV002-bd8cdc70-3d46-40ae-99c4-90ef77.tiles.h5',\n",
       " '/home/kohlia/vmount/PRO_12-123/tiling/01OV002-bd8cdc70-3d46-40ae-99c4-90ef77/saved_tiles/01OV002-bd8cdc70-3d46-40ae-99c4-90ef77.tiles.h5',\n",
       " '/home/kohlia/vmount/PRO_12-123/tiling/01OV002-bd8cdc70-3d46-40ae-99c4-90ef77/saved_tiles/01OV002-bd8cdc70-3d46-40ae-99c4-90ef77.tiles.h5',\n",
       " '/home/kohlia/vmount/PRO_12-123/tiling/01OV002-bd8cdc70-3d46-40ae-99c4-90ef77/saved_tiles/01OV002-bd8cdc70-3d46-40ae-99c4-90ef77.tiles.h5',\n",
       " '/home/kohlia/vmount/PRO_12-123/tiling/01OV002-bd8cdc70-3d46-40ae-99c4-90ef77/saved_tiles/01OV002-bd8cdc70-3d46-40ae-99c4-90ef77.tiles.h5',\n",
       " '/home/kohlia/vmount/PRO_12-123/tiling/01OV002-bd8cdc70-3d46-40ae-99c4-90ef77/saved_tiles/01OV002-bd8cdc70-3d46-40ae-99c4-90ef77.tiles.h5',\n",
       " '/home/kohlia/vmount/PRO_12-123/tiling/01OV002-bd8cdc70-3d46-40ae-99c4-90ef77/saved_tiles/01OV002-bd8cdc70-3d46-40ae-99c4-90ef77.tiles.h5',\n",
       " '/home/kohlia/vmount/PRO_12-123/tiling/01OV002-bd8cdc70-3d46-40ae-99c4-90ef77/saved_tiles/01OV002-bd8cdc70-3d46-40ae-99c4-90ef77.tiles.h5',\n",
       " '/home/kohlia/vmount/PRO_12-123/tiling/01OV002-bd8cdc70-3d46-40ae-99c4-90ef77/saved_tiles/01OV002-bd8cdc70-3d46-40ae-99c4-90ef77.tiles.h5',\n",
       " '/home/kohlia/vmount/PRO_12-123/tiling/01OV002-bd8cdc70-3d46-40ae-99c4-90ef77/saved_tiles/01OV002-bd8cdc70-3d46-40ae-99c4-90ef77.tiles.h5',\n",
       " '/home/kohlia/vmount/PRO_12-123/tiling/01OV002-bd8cdc70-3d46-40ae-99c4-90ef77/saved_tiles/01OV002-bd8cdc70-3d46-40ae-99c4-90ef77.tiles.h5',\n",
       " '/home/kohlia/vmount/PRO_12-123/tiling/01OV002-bd8cdc70-3d46-40ae-99c4-90ef77/saved_tiles/01OV002-bd8cdc70-3d46-40ae-99c4-90ef77.tiles.h5',\n",
       " '/home/kohlia/vmount/PRO_12-123/tiling/01OV002-bd8cdc70-3d46-40ae-99c4-90ef77/saved_tiles/01OV002-bd8cdc70-3d46-40ae-99c4-90ef77.tiles.h5',\n",
       " '/home/kohlia/vmount/PRO_12-123/tiling/01OV002-bd8cdc70-3d46-40ae-99c4-90ef77/saved_tiles/01OV002-bd8cdc70-3d46-40ae-99c4-90ef77.tiles.h5',\n",
       " '/home/kohlia/vmount/PRO_12-123/tiling/01OV002-bd8cdc70-3d46-40ae-99c4-90ef77/saved_tiles/01OV002-bd8cdc70-3d46-40ae-99c4-90ef77.tiles.h5',\n",
       " '/home/kohlia/vmount/PRO_12-123/tiling/01OV002-bd8cdc70-3d46-40ae-99c4-90ef77/saved_tiles/01OV002-bd8cdc70-3d46-40ae-99c4-90ef77.tiles.h5',\n",
       " '/home/kohlia/vmount/PRO_12-123/tiling/01OV002-bd8cdc70-3d46-40ae-99c4-90ef77/saved_tiles/01OV002-bd8cdc70-3d46-40ae-99c4-90ef77.tiles.h5',\n",
       " '/home/kohlia/vmount/PRO_12-123/tiling/01OV002-bd8cdc70-3d46-40ae-99c4-90ef77/saved_tiles/01OV002-bd8cdc70-3d46-40ae-99c4-90ef77.tiles.h5',\n",
       " '/home/kohlia/vmount/PRO_12-123/tiling/01OV002-bd8cdc70-3d46-40ae-99c4-90ef77/saved_tiles/01OV002-bd8cdc70-3d46-40ae-99c4-90ef77.tiles.h5',\n",
       " '/home/kohlia/vmount/PRO_12-123/tiling/01OV002-bd8cdc70-3d46-40ae-99c4-90ef77/saved_tiles/01OV002-bd8cdc70-3d46-40ae-99c4-90ef77.tiles.h5',\n",
       " '/home/kohlia/vmount/PRO_12-123/tiling/01OV002-bd8cdc70-3d46-40ae-99c4-90ef77/saved_tiles/01OV002-bd8cdc70-3d46-40ae-99c4-90ef77.tiles.h5',\n",
       " '/home/kohlia/vmount/PRO_12-123/tiling/01OV002-bd8cdc70-3d46-40ae-99c4-90ef77/saved_tiles/01OV002-bd8cdc70-3d46-40ae-99c4-90ef77.tiles.h5',\n",
       " '/home/kohlia/vmount/PRO_12-123/tiling/01OV002-bd8cdc70-3d46-40ae-99c4-90ef77/saved_tiles/01OV002-bd8cdc70-3d46-40ae-99c4-90ef77.tiles.h5',\n",
       " '/home/kohlia/vmount/PRO_12-123/tiling/01OV002-bd8cdc70-3d46-40ae-99c4-90ef77/saved_tiles/01OV002-bd8cdc70-3d46-40ae-99c4-90ef77.tiles.h5',\n",
       " '/home/kohlia/vmount/PRO_12-123/tiling/01OV002-bd8cdc70-3d46-40ae-99c4-90ef77/saved_tiles/01OV002-bd8cdc70-3d46-40ae-99c4-90ef77.tiles.h5',\n",
       " '/home/kohlia/vmount/PRO_12-123/tiling/01OV002-bd8cdc70-3d46-40ae-99c4-90ef77/saved_tiles/01OV002-bd8cdc70-3d46-40ae-99c4-90ef77.tiles.h5',\n",
       " '/home/kohlia/vmount/PRO_12-123/tiling/01OV002-bd8cdc70-3d46-40ae-99c4-90ef77/saved_tiles/01OV002-bd8cdc70-3d46-40ae-99c4-90ef77.tiles.h5',\n",
       " '/home/kohlia/vmount/PRO_12-123/tiling/01OV002-bd8cdc70-3d46-40ae-99c4-90ef77/saved_tiles/01OV002-bd8cdc70-3d46-40ae-99c4-90ef77.tiles.h5',\n",
       " '/home/kohlia/vmount/PRO_12-123/tiling/01OV002-bd8cdc70-3d46-40ae-99c4-90ef77/saved_tiles/01OV002-bd8cdc70-3d46-40ae-99c4-90ef77.tiles.h5',\n",
       " '/home/kohlia/vmount/PRO_12-123/tiling/01OV002-bd8cdc70-3d46-40ae-99c4-90ef77/saved_tiles/01OV002-bd8cdc70-3d46-40ae-99c4-90ef77.tiles.h5',\n",
       " '/home/kohlia/vmount/PRO_12-123/tiling/01OV002-bd8cdc70-3d46-40ae-99c4-90ef77/saved_tiles/01OV002-bd8cdc70-3d46-40ae-99c4-90ef77.tiles.h5',\n",
       " '/home/kohlia/vmount/PRO_12-123/tiling/01OV002-bd8cdc70-3d46-40ae-99c4-90ef77/saved_tiles/01OV002-bd8cdc70-3d46-40ae-99c4-90ef77.tiles.h5',\n",
       " '/home/kohlia/vmount/PRO_12-123/tiling/01OV002-bd8cdc70-3d46-40ae-99c4-90ef77/saved_tiles/01OV002-bd8cdc70-3d46-40ae-99c4-90ef77.tiles.h5',\n",
       " '/home/kohlia/vmount/PRO_12-123/tiling/01OV002-bd8cdc70-3d46-40ae-99c4-90ef77/saved_tiles/01OV002-bd8cdc70-3d46-40ae-99c4-90ef77.tiles.h5',\n",
       " '/home/kohlia/vmount/PRO_12-123/tiling/01OV002-bd8cdc70-3d46-40ae-99c4-90ef77/saved_tiles/01OV002-bd8cdc70-3d46-40ae-99c4-90ef77.tiles.h5',\n",
       " '/home/kohlia/vmount/PRO_12-123/tiling/01OV002-bd8cdc70-3d46-40ae-99c4-90ef77/saved_tiles/01OV002-bd8cdc70-3d46-40ae-99c4-90ef77.tiles.h5',\n",
       " '/home/kohlia/vmount/PRO_12-123/tiling/01OV002-bd8cdc70-3d46-40ae-99c4-90ef77/saved_tiles/01OV002-bd8cdc70-3d46-40ae-99c4-90ef77.tiles.h5',\n",
       " '/home/kohlia/vmount/PRO_12-123/tiling/01OV002-bd8cdc70-3d46-40ae-99c4-90ef77/saved_tiles/01OV002-bd8cdc70-3d46-40ae-99c4-90ef77.tiles.h5',\n",
       " '/home/kohlia/vmount/PRO_12-123/tiling/01OV002-bd8cdc70-3d46-40ae-99c4-90ef77/saved_tiles/01OV002-bd8cdc70-3d46-40ae-99c4-90ef77.tiles.h5',\n",
       " '/home/kohlia/vmount/PRO_12-123/tiling/01OV002-bd8cdc70-3d46-40ae-99c4-90ef77/saved_tiles/01OV002-bd8cdc70-3d46-40ae-99c4-90ef77.tiles.h5',\n",
       " '/home/kohlia/vmount/PRO_12-123/tiling/01OV002-bd8cdc70-3d46-40ae-99c4-90ef77/saved_tiles/01OV002-bd8cdc70-3d46-40ae-99c4-90ef77.tiles.h5',\n",
       " '/home/kohlia/vmount/PRO_12-123/tiling/01OV002-bd8cdc70-3d46-40ae-99c4-90ef77/saved_tiles/01OV002-bd8cdc70-3d46-40ae-99c4-90ef77.tiles.h5',\n",
       " '/home/kohlia/vmount/PRO_12-123/tiling/01OV002-bd8cdc70-3d46-40ae-99c4-90ef77/saved_tiles/01OV002-bd8cdc70-3d46-40ae-99c4-90ef77.tiles.h5',\n",
       " '/home/kohlia/vmount/PRO_12-123/tiling/01OV002-bd8cdc70-3d46-40ae-99c4-90ef77/saved_tiles/01OV002-bd8cdc70-3d46-40ae-99c4-90ef77.tiles.h5',\n",
       " '/home/kohlia/vmount/PRO_12-123/tiling/01OV002-bd8cdc70-3d46-40ae-99c4-90ef77/saved_tiles/01OV002-bd8cdc70-3d46-40ae-99c4-90ef77.tiles.h5',\n",
       " '/home/kohlia/vmount/PRO_12-123/tiling/01OV002-bd8cdc70-3d46-40ae-99c4-90ef77/saved_tiles/01OV002-bd8cdc70-3d46-40ae-99c4-90ef77.tiles.h5',\n",
       " '/home/kohlia/vmount/PRO_12-123/tiling/01OV002-bd8cdc70-3d46-40ae-99c4-90ef77/saved_tiles/01OV002-bd8cdc70-3d46-40ae-99c4-90ef77.tiles.h5',\n",
       " '/home/kohlia/vmount/PRO_12-123/tiling/01OV002-bd8cdc70-3d46-40ae-99c4-90ef77/saved_tiles/01OV002-bd8cdc70-3d46-40ae-99c4-90ef77.tiles.h5',\n",
       " '/home/kohlia/vmount/PRO_12-123/tiling/01OV002-bd8cdc70-3d46-40ae-99c4-90ef77/saved_tiles/01OV002-bd8cdc70-3d46-40ae-99c4-90ef77.tiles.h5',\n",
       " '/home/kohlia/vmount/PRO_12-123/tiling/01OV002-bd8cdc70-3d46-40ae-99c4-90ef77/saved_tiles/01OV002-bd8cdc70-3d46-40ae-99c4-90ef77.tiles.h5',\n",
       " '/home/kohlia/vmount/PRO_12-123/tiling/01OV002-bd8cdc70-3d46-40ae-99c4-90ef77/saved_tiles/01OV002-bd8cdc70-3d46-40ae-99c4-90ef77.tiles.h5',\n",
       " '/home/kohlia/vmount/PRO_12-123/tiling/01OV002-bd8cdc70-3d46-40ae-99c4-90ef77/saved_tiles/01OV002-bd8cdc70-3d46-40ae-99c4-90ef77.tiles.h5',\n",
       " '/home/kohlia/vmount/PRO_12-123/tiling/01OV002-bd8cdc70-3d46-40ae-99c4-90ef77/saved_tiles/01OV002-bd8cdc70-3d46-40ae-99c4-90ef77.tiles.h5',\n",
       " '/home/kohlia/vmount/PRO_12-123/tiling/01OV002-bd8cdc70-3d46-40ae-99c4-90ef77/saved_tiles/01OV002-bd8cdc70-3d46-40ae-99c4-90ef77.tiles.h5',\n",
       " '/home/kohlia/vmount/PRO_12-123/tiling/01OV002-bd8cdc70-3d46-40ae-99c4-90ef77/saved_tiles/01OV002-bd8cdc70-3d46-40ae-99c4-90ef77.tiles.h5',\n",
       " '/home/kohlia/vmount/PRO_12-123/tiling/01OV002-bd8cdc70-3d46-40ae-99c4-90ef77/saved_tiles/01OV002-bd8cdc70-3d46-40ae-99c4-90ef77.tiles.h5',\n",
       " '/home/kohlia/vmount/PRO_12-123/tiling/01OV002-bd8cdc70-3d46-40ae-99c4-90ef77/saved_tiles/01OV002-bd8cdc70-3d46-40ae-99c4-90ef77.tiles.h5',\n",
       " '/home/kohlia/vmount/PRO_12-123/tiling/01OV002-bd8cdc70-3d46-40ae-99c4-90ef77/saved_tiles/01OV002-bd8cdc70-3d46-40ae-99c4-90ef77.tiles.h5',\n",
       " '/home/kohlia/vmount/PRO_12-123/tiling/01OV002-bd8cdc70-3d46-40ae-99c4-90ef77/saved_tiles/01OV002-bd8cdc70-3d46-40ae-99c4-90ef77.tiles.h5',\n",
       " '/home/kohlia/vmount/PRO_12-123/tiling/01OV002-bd8cdc70-3d46-40ae-99c4-90ef77/saved_tiles/01OV002-bd8cdc70-3d46-40ae-99c4-90ef77.tiles.h5',\n",
       " '/home/kohlia/vmount/PRO_12-123/tiling/01OV002-bd8cdc70-3d46-40ae-99c4-90ef77/saved_tiles/01OV002-bd8cdc70-3d46-40ae-99c4-90ef77.tiles.h5',\n",
       " '/home/kohlia/vmount/PRO_12-123/tiling/01OV002-bd8cdc70-3d46-40ae-99c4-90ef77/saved_tiles/01OV002-bd8cdc70-3d46-40ae-99c4-90ef77.tiles.h5',\n",
       " '/home/kohlia/vmount/PRO_12-123/tiling/01OV002-bd8cdc70-3d46-40ae-99c4-90ef77/saved_tiles/01OV002-bd8cdc70-3d46-40ae-99c4-90ef77.tiles.h5',\n",
       " '/home/kohlia/vmount/PRO_12-123/tiling/01OV002-bd8cdc70-3d46-40ae-99c4-90ef77/saved_tiles/01OV002-bd8cdc70-3d46-40ae-99c4-90ef77.tiles.h5',\n",
       " '/home/kohlia/vmount/PRO_12-123/tiling/01OV002-bd8cdc70-3d46-40ae-99c4-90ef77/saved_tiles/01OV002-bd8cdc70-3d46-40ae-99c4-90ef77.tiles.h5',\n",
       " '/home/kohlia/vmount/PRO_12-123/tiling/01OV002-bd8cdc70-3d46-40ae-99c4-90ef77/saved_tiles/01OV002-bd8cdc70-3d46-40ae-99c4-90ef77.tiles.h5',\n",
       " '/home/kohlia/vmount/PRO_12-123/tiling/01OV002-bd8cdc70-3d46-40ae-99c4-90ef77/saved_tiles/01OV002-bd8cdc70-3d46-40ae-99c4-90ef77.tiles.h5',\n",
       " '/home/kohlia/vmount/PRO_12-123/tiling/01OV002-bd8cdc70-3d46-40ae-99c4-90ef77/saved_tiles/01OV002-bd8cdc70-3d46-40ae-99c4-90ef77.tiles.h5',\n",
       " '/home/kohlia/vmount/PRO_12-123/tiling/01OV002-bd8cdc70-3d46-40ae-99c4-90ef77/saved_tiles/01OV002-bd8cdc70-3d46-40ae-99c4-90ef77.tiles.h5',\n",
       " '/home/kohlia/vmount/PRO_12-123/tiling/01OV002-bd8cdc70-3d46-40ae-99c4-90ef77/saved_tiles/01OV002-bd8cdc70-3d46-40ae-99c4-90ef77.tiles.h5',\n",
       " '/home/kohlia/vmount/PRO_12-123/tiling/01OV002-bd8cdc70-3d46-40ae-99c4-90ef77/saved_tiles/01OV002-bd8cdc70-3d46-40ae-99c4-90ef77.tiles.h5',\n",
       " '/home/kohlia/vmount/PRO_12-123/tiling/01OV002-bd8cdc70-3d46-40ae-99c4-90ef77/saved_tiles/01OV002-bd8cdc70-3d46-40ae-99c4-90ef77.tiles.h5',\n",
       " '/home/kohlia/vmount/PRO_12-123/tiling/01OV002-bd8cdc70-3d46-40ae-99c4-90ef77/saved_tiles/01OV002-bd8cdc70-3d46-40ae-99c4-90ef77.tiles.h5',\n",
       " '/home/kohlia/vmount/PRO_12-123/tiling/01OV002-bd8cdc70-3d46-40ae-99c4-90ef77/saved_tiles/01OV002-bd8cdc70-3d46-40ae-99c4-90ef77.tiles.h5',\n",
       " '/home/kohlia/vmount/PRO_12-123/tiling/01OV002-bd8cdc70-3d46-40ae-99c4-90ef77/saved_tiles/01OV002-bd8cdc70-3d46-40ae-99c4-90ef77.tiles.h5',\n",
       " '/home/kohlia/vmount/PRO_12-123/tiling/01OV002-bd8cdc70-3d46-40ae-99c4-90ef77/saved_tiles/01OV002-bd8cdc70-3d46-40ae-99c4-90ef77.tiles.h5',\n",
       " '/home/kohlia/vmount/PRO_12-123/tiling/01OV002-bd8cdc70-3d46-40ae-99c4-90ef77/saved_tiles/01OV002-bd8cdc70-3d46-40ae-99c4-90ef77.tiles.h5',\n",
       " '/home/kohlia/vmount/PRO_12-123/tiling/01OV002-bd8cdc70-3d46-40ae-99c4-90ef77/saved_tiles/01OV002-bd8cdc70-3d46-40ae-99c4-90ef77.tiles.h5',\n",
       " '/home/kohlia/vmount/PRO_12-123/tiling/01OV002-bd8cdc70-3d46-40ae-99c4-90ef77/saved_tiles/01OV002-bd8cdc70-3d46-40ae-99c4-90ef77.tiles.h5',\n",
       " '/home/kohlia/vmount/PRO_12-123/tiling/01OV002-bd8cdc70-3d46-40ae-99c4-90ef77/saved_tiles/01OV002-bd8cdc70-3d46-40ae-99c4-90ef77.tiles.h5',\n",
       " '/home/kohlia/vmount/PRO_12-123/tiling/01OV002-bd8cdc70-3d46-40ae-99c4-90ef77/saved_tiles/01OV002-bd8cdc70-3d46-40ae-99c4-90ef77.tiles.h5',\n",
       " '/home/kohlia/vmount/PRO_12-123/tiling/01OV002-bd8cdc70-3d46-40ae-99c4-90ef77/saved_tiles/01OV002-bd8cdc70-3d46-40ae-99c4-90ef77.tiles.h5',\n",
       " '/home/kohlia/vmount/PRO_12-123/tiling/01OV002-bd8cdc70-3d46-40ae-99c4-90ef77/saved_tiles/01OV002-bd8cdc70-3d46-40ae-99c4-90ef77.tiles.h5',\n",
       " '/home/kohlia/vmount/PRO_12-123/tiling/01OV002-bd8cdc70-3d46-40ae-99c4-90ef77/saved_tiles/01OV002-bd8cdc70-3d46-40ae-99c4-90ef77.tiles.h5',\n",
       " '/home/kohlia/vmount/PRO_12-123/tiling/01OV002-bd8cdc70-3d46-40ae-99c4-90ef77/saved_tiles/01OV002-bd8cdc70-3d46-40ae-99c4-90ef77.tiles.h5',\n",
       " '/home/kohlia/vmount/PRO_12-123/tiling/01OV002-bd8cdc70-3d46-40ae-99c4-90ef77/saved_tiles/01OV002-bd8cdc70-3d46-40ae-99c4-90ef77.tiles.h5',\n",
       " '/home/kohlia/vmount/PRO_12-123/tiling/01OV002-bd8cdc70-3d46-40ae-99c4-90ef77/saved_tiles/01OV002-bd8cdc70-3d46-40ae-99c4-90ef77.tiles.h5',\n",
       " '/home/kohlia/vmount/PRO_12-123/tiling/01OV002-bd8cdc70-3d46-40ae-99c4-90ef77/saved_tiles/01OV002-bd8cdc70-3d46-40ae-99c4-90ef77.tiles.h5',\n",
       " '/home/kohlia/vmount/PRO_12-123/tiling/01OV002-bd8cdc70-3d46-40ae-99c4-90ef77/saved_tiles/01OV002-bd8cdc70-3d46-40ae-99c4-90ef77.tiles.h5',\n",
       " '/home/kohlia/vmount/PRO_12-123/tiling/01OV002-bd8cdc70-3d46-40ae-99c4-90ef77/saved_tiles/01OV002-bd8cdc70-3d46-40ae-99c4-90ef77.tiles.h5',\n",
       " '/home/kohlia/vmount/PRO_12-123/tiling/01OV002-bd8cdc70-3d46-40ae-99c4-90ef77/saved_tiles/01OV002-bd8cdc70-3d46-40ae-99c4-90ef77.tiles.h5',\n",
       " '/home/kohlia/vmount/PRO_12-123/tiling/01OV002-bd8cdc70-3d46-40ae-99c4-90ef77/saved_tiles/01OV002-bd8cdc70-3d46-40ae-99c4-90ef77.tiles.h5',\n",
       " '/home/kohlia/vmount/PRO_12-123/tiling/01OV002-bd8cdc70-3d46-40ae-99c4-90ef77/saved_tiles/01OV002-bd8cdc70-3d46-40ae-99c4-90ef77.tiles.h5',\n",
       " '/home/kohlia/vmount/PRO_12-123/tiling/01OV002-bd8cdc70-3d46-40ae-99c4-90ef77/saved_tiles/01OV002-bd8cdc70-3d46-40ae-99c4-90ef77.tiles.h5',\n",
       " '/home/kohlia/vmount/PRO_12-123/tiling/01OV002-bd8cdc70-3d46-40ae-99c4-90ef77/saved_tiles/01OV002-bd8cdc70-3d46-40ae-99c4-90ef77.tiles.h5',\n",
       " '/home/kohlia/vmount/PRO_12-123/tiling/01OV002-bd8cdc70-3d46-40ae-99c4-90ef77/saved_tiles/01OV002-bd8cdc70-3d46-40ae-99c4-90ef77.tiles.h5',\n",
       " '/home/kohlia/vmount/PRO_12-123/tiling/01OV002-bd8cdc70-3d46-40ae-99c4-90ef77/saved_tiles/01OV002-bd8cdc70-3d46-40ae-99c4-90ef77.tiles.h5',\n",
       " '/home/kohlia/vmount/PRO_12-123/tiling/01OV002-bd8cdc70-3d46-40ae-99c4-90ef77/saved_tiles/01OV002-bd8cdc70-3d46-40ae-99c4-90ef77.tiles.h5',\n",
       " '/home/kohlia/vmount/PRO_12-123/tiling/01OV002-bd8cdc70-3d46-40ae-99c4-90ef77/saved_tiles/01OV002-bd8cdc70-3d46-40ae-99c4-90ef77.tiles.h5',\n",
       " '/home/kohlia/vmount/PRO_12-123/tiling/01OV002-bd8cdc70-3d46-40ae-99c4-90ef77/saved_tiles/01OV002-bd8cdc70-3d46-40ae-99c4-90ef77.tiles.h5',\n",
       " '/home/kohlia/vmount/PRO_12-123/tiling/01OV002-bd8cdc70-3d46-40ae-99c4-90ef77/saved_tiles/01OV002-bd8cdc70-3d46-40ae-99c4-90ef77.tiles.h5',\n",
       " '/home/kohlia/vmount/PRO_12-123/tiling/01OV002-bd8cdc70-3d46-40ae-99c4-90ef77/saved_tiles/01OV002-bd8cdc70-3d46-40ae-99c4-90ef77.tiles.h5',\n",
       " '/home/kohlia/vmount/PRO_12-123/tiling/01OV002-bd8cdc70-3d46-40ae-99c4-90ef77/saved_tiles/01OV002-bd8cdc70-3d46-40ae-99c4-90ef77.tiles.h5',\n",
       " '/home/kohlia/vmount/PRO_12-123/tiling/01OV002-bd8cdc70-3d46-40ae-99c4-90ef77/saved_tiles/01OV002-bd8cdc70-3d46-40ae-99c4-90ef77.tiles.h5',\n",
       " '/home/kohlia/vmount/PRO_12-123/tiling/01OV002-bd8cdc70-3d46-40ae-99c4-90ef77/saved_tiles/01OV002-bd8cdc70-3d46-40ae-99c4-90ef77.tiles.h5',\n",
       " '/home/kohlia/vmount/PRO_12-123/tiling/01OV002-bd8cdc70-3d46-40ae-99c4-90ef77/saved_tiles/01OV002-bd8cdc70-3d46-40ae-99c4-90ef77.tiles.h5',\n",
       " '/home/kohlia/vmount/PRO_12-123/tiling/01OV002-bd8cdc70-3d46-40ae-99c4-90ef77/saved_tiles/01OV002-bd8cdc70-3d46-40ae-99c4-90ef77.tiles.h5',\n",
       " '/home/kohlia/vmount/PRO_12-123/tiling/01OV002-bd8cdc70-3d46-40ae-99c4-90ef77/saved_tiles/01OV002-bd8cdc70-3d46-40ae-99c4-90ef77.tiles.h5',\n",
       " '/home/kohlia/vmount/PRO_12-123/tiling/01OV002-bd8cdc70-3d46-40ae-99c4-90ef77/saved_tiles/01OV002-bd8cdc70-3d46-40ae-99c4-90ef77.tiles.h5',\n",
       " '/home/kohlia/vmount/PRO_12-123/tiling/01OV002-bd8cdc70-3d46-40ae-99c4-90ef77/saved_tiles/01OV002-bd8cdc70-3d46-40ae-99c4-90ef77.tiles.h5',\n",
       " '/home/kohlia/vmount/PRO_12-123/tiling/01OV002-bd8cdc70-3d46-40ae-99c4-90ef77/saved_tiles/01OV002-bd8cdc70-3d46-40ae-99c4-90ef77.tiles.h5',\n",
       " '/home/kohlia/vmount/PRO_12-123/tiling/01OV002-bd8cdc70-3d46-40ae-99c4-90ef77/saved_tiles/01OV002-bd8cdc70-3d46-40ae-99c4-90ef77.tiles.h5',\n",
       " '/home/kohlia/vmount/PRO_12-123/tiling/01OV002-bd8cdc70-3d46-40ae-99c4-90ef77/saved_tiles/01OV002-bd8cdc70-3d46-40ae-99c4-90ef77.tiles.h5',\n",
       " '/home/kohlia/vmount/PRO_12-123/tiling/01OV002-bd8cdc70-3d46-40ae-99c4-90ef77/saved_tiles/01OV002-bd8cdc70-3d46-40ae-99c4-90ef77.tiles.h5',\n",
       " '/home/kohlia/vmount/PRO_12-123/tiling/01OV002-bd8cdc70-3d46-40ae-99c4-90ef77/saved_tiles/01OV002-bd8cdc70-3d46-40ae-99c4-90ef77.tiles.h5',\n",
       " '/home/kohlia/vmount/PRO_12-123/tiling/01OV002-bd8cdc70-3d46-40ae-99c4-90ef77/saved_tiles/01OV002-bd8cdc70-3d46-40ae-99c4-90ef77.tiles.h5',\n",
       " '/home/kohlia/vmount/PRO_12-123/tiling/01OV002-bd8cdc70-3d46-40ae-99c4-90ef77/saved_tiles/01OV002-bd8cdc70-3d46-40ae-99c4-90ef77.tiles.h5',\n",
       " '/home/kohlia/vmount/PRO_12-123/tiling/01OV002-bd8cdc70-3d46-40ae-99c4-90ef77/saved_tiles/01OV002-bd8cdc70-3d46-40ae-99c4-90ef77.tiles.h5',\n",
       " '/home/kohlia/vmount/PRO_12-123/tiling/01OV002-bd8cdc70-3d46-40ae-99c4-90ef77/saved_tiles/01OV002-bd8cdc70-3d46-40ae-99c4-90ef77.tiles.h5',\n",
       " '/home/kohlia/vmount/PRO_12-123/tiling/01OV002-bd8cdc70-3d46-40ae-99c4-90ef77/saved_tiles/01OV002-bd8cdc70-3d46-40ae-99c4-90ef77.tiles.h5',\n",
       " '/home/kohlia/vmount/PRO_12-123/tiling/01OV002-bd8cdc70-3d46-40ae-99c4-90ef77/saved_tiles/01OV002-bd8cdc70-3d46-40ae-99c4-90ef77.tiles.h5',\n",
       " '/home/kohlia/vmount/PRO_12-123/tiling/01OV002-bd8cdc70-3d46-40ae-99c4-90ef77/saved_tiles/01OV002-bd8cdc70-3d46-40ae-99c4-90ef77.tiles.h5',\n",
       " '/home/kohlia/vmount/PRO_12-123/tiling/01OV002-bd8cdc70-3d46-40ae-99c4-90ef77/saved_tiles/01OV002-bd8cdc70-3d46-40ae-99c4-90ef77.tiles.h5',\n",
       " '/home/kohlia/vmount/PRO_12-123/tiling/01OV002-bd8cdc70-3d46-40ae-99c4-90ef77/saved_tiles/01OV002-bd8cdc70-3d46-40ae-99c4-90ef77.tiles.h5',\n",
       " '/home/kohlia/vmount/PRO_12-123/tiling/01OV002-bd8cdc70-3d46-40ae-99c4-90ef77/saved_tiles/01OV002-bd8cdc70-3d46-40ae-99c4-90ef77.tiles.h5',\n",
       " '/home/kohlia/vmount/PRO_12-123/tiling/01OV002-bd8cdc70-3d46-40ae-99c4-90ef77/saved_tiles/01OV002-bd8cdc70-3d46-40ae-99c4-90ef77.tiles.h5',\n",
       " '/home/kohlia/vmount/PRO_12-123/tiling/01OV002-bd8cdc70-3d46-40ae-99c4-90ef77/saved_tiles/01OV002-bd8cdc70-3d46-40ae-99c4-90ef77.tiles.h5',\n",
       " '/home/kohlia/vmount/PRO_12-123/tiling/01OV002-bd8cdc70-3d46-40ae-99c4-90ef77/saved_tiles/01OV002-bd8cdc70-3d46-40ae-99c4-90ef77.tiles.h5',\n",
       " '/home/kohlia/vmount/PRO_12-123/tiling/01OV002-bd8cdc70-3d46-40ae-99c4-90ef77/saved_tiles/01OV002-bd8cdc70-3d46-40ae-99c4-90ef77.tiles.h5',\n",
       " '/home/kohlia/vmount/PRO_12-123/tiling/01OV002-bd8cdc70-3d46-40ae-99c4-90ef77/saved_tiles/01OV002-bd8cdc70-3d46-40ae-99c4-90ef77.tiles.h5',\n",
       " '/home/kohlia/vmount/PRO_12-123/tiling/01OV002-bd8cdc70-3d46-40ae-99c4-90ef77/saved_tiles/01OV002-bd8cdc70-3d46-40ae-99c4-90ef77.tiles.h5',\n",
       " '/home/kohlia/vmount/PRO_12-123/tiling/01OV002-bd8cdc70-3d46-40ae-99c4-90ef77/saved_tiles/01OV002-bd8cdc70-3d46-40ae-99c4-90ef77.tiles.h5',\n",
       " '/home/kohlia/vmount/PRO_12-123/tiling/01OV002-bd8cdc70-3d46-40ae-99c4-90ef77/saved_tiles/01OV002-bd8cdc70-3d46-40ae-99c4-90ef77.tiles.h5',\n",
       " '/home/kohlia/vmount/PRO_12-123/tiling/01OV002-bd8cdc70-3d46-40ae-99c4-90ef77/saved_tiles/01OV002-bd8cdc70-3d46-40ae-99c4-90ef77.tiles.h5',\n",
       " '/home/kohlia/vmount/PRO_12-123/tiling/01OV002-bd8cdc70-3d46-40ae-99c4-90ef77/saved_tiles/01OV002-bd8cdc70-3d46-40ae-99c4-90ef77.tiles.h5',\n",
       " '/home/kohlia/vmount/PRO_12-123/tiling/01OV002-bd8cdc70-3d46-40ae-99c4-90ef77/saved_tiles/01OV002-bd8cdc70-3d46-40ae-99c4-90ef77.tiles.h5',\n",
       " '/home/kohlia/vmount/PRO_12-123/tiling/01OV002-bd8cdc70-3d46-40ae-99c4-90ef77/saved_tiles/01OV002-bd8cdc70-3d46-40ae-99c4-90ef77.tiles.h5',\n",
       " '/home/kohlia/vmount/PRO_12-123/tiling/01OV002-bd8cdc70-3d46-40ae-99c4-90ef77/saved_tiles/01OV002-bd8cdc70-3d46-40ae-99c4-90ef77.tiles.h5',\n",
       " '/home/kohlia/vmount/PRO_12-123/tiling/01OV002-bd8cdc70-3d46-40ae-99c4-90ef77/saved_tiles/01OV002-bd8cdc70-3d46-40ae-99c4-90ef77.tiles.h5',\n",
       " '/home/kohlia/vmount/PRO_12-123/tiling/01OV002-bd8cdc70-3d46-40ae-99c4-90ef77/saved_tiles/01OV002-bd8cdc70-3d46-40ae-99c4-90ef77.tiles.h5',\n",
       " '/home/kohlia/vmount/PRO_12-123/tiling/01OV002-bd8cdc70-3d46-40ae-99c4-90ef77/saved_tiles/01OV002-bd8cdc70-3d46-40ae-99c4-90ef77.tiles.h5',\n",
       " '/home/kohlia/vmount/PRO_12-123/tiling/01OV002-bd8cdc70-3d46-40ae-99c4-90ef77/saved_tiles/01OV002-bd8cdc70-3d46-40ae-99c4-90ef77.tiles.h5',\n",
       " '/home/kohlia/vmount/PRO_12-123/tiling/01OV002-bd8cdc70-3d46-40ae-99c4-90ef77/saved_tiles/01OV002-bd8cdc70-3d46-40ae-99c4-90ef77.tiles.h5',\n",
       " '/home/kohlia/vmount/PRO_12-123/tiling/01OV002-bd8cdc70-3d46-40ae-99c4-90ef77/saved_tiles/01OV002-bd8cdc70-3d46-40ae-99c4-90ef77.tiles.h5',\n",
       " '/home/kohlia/vmount/PRO_12-123/tiling/01OV002-bd8cdc70-3d46-40ae-99c4-90ef77/saved_tiles/01OV002-bd8cdc70-3d46-40ae-99c4-90ef77.tiles.h5',\n",
       " '/home/kohlia/vmount/PRO_12-123/tiling/01OV002-bd8cdc70-3d46-40ae-99c4-90ef77/saved_tiles/01OV002-bd8cdc70-3d46-40ae-99c4-90ef77.tiles.h5',\n",
       " '/home/kohlia/vmount/PRO_12-123/tiling/01OV002-bd8cdc70-3d46-40ae-99c4-90ef77/saved_tiles/01OV002-bd8cdc70-3d46-40ae-99c4-90ef77.tiles.h5',\n",
       " '/home/kohlia/vmount/PRO_12-123/tiling/01OV002-bd8cdc70-3d46-40ae-99c4-90ef77/saved_tiles/01OV002-bd8cdc70-3d46-40ae-99c4-90ef77.tiles.h5',\n",
       " '/home/kohlia/vmount/PRO_12-123/tiling/01OV002-bd8cdc70-3d46-40ae-99c4-90ef77/saved_tiles/01OV002-bd8cdc70-3d46-40ae-99c4-90ef77.tiles.h5',\n",
       " '/home/kohlia/vmount/PRO_12-123/tiling/01OV002-bd8cdc70-3d46-40ae-99c4-90ef77/saved_tiles/01OV002-bd8cdc70-3d46-40ae-99c4-90ef77.tiles.h5',\n",
       " '/home/kohlia/vmount/PRO_12-123/tiling/01OV002-bd8cdc70-3d46-40ae-99c4-90ef77/saved_tiles/01OV002-bd8cdc70-3d46-40ae-99c4-90ef77.tiles.h5',\n",
       " '/home/kohlia/vmount/PRO_12-123/tiling/01OV002-bd8cdc70-3d46-40ae-99c4-90ef77/saved_tiles/01OV002-bd8cdc70-3d46-40ae-99c4-90ef77.tiles.h5',\n",
       " '/home/kohlia/vmount/PRO_12-123/tiling/01OV002-bd8cdc70-3d46-40ae-99c4-90ef77/saved_tiles/01OV002-bd8cdc70-3d46-40ae-99c4-90ef77.tiles.h5',\n",
       " '/home/kohlia/vmount/PRO_12-123/tiling/01OV002-bd8cdc70-3d46-40ae-99c4-90ef77/saved_tiles/01OV002-bd8cdc70-3d46-40ae-99c4-90ef77.tiles.h5',\n",
       " '/home/kohlia/vmount/PRO_12-123/tiling/01OV002-bd8cdc70-3d46-40ae-99c4-90ef77/saved_tiles/01OV002-bd8cdc70-3d46-40ae-99c4-90ef77.tiles.h5',\n",
       " '/home/kohlia/vmount/PRO_12-123/tiling/01OV002-bd8cdc70-3d46-40ae-99c4-90ef77/saved_tiles/01OV002-bd8cdc70-3d46-40ae-99c4-90ef77.tiles.h5',\n",
       " '/home/kohlia/vmount/PRO_12-123/tiling/01OV002-bd8cdc70-3d46-40ae-99c4-90ef77/saved_tiles/01OV002-bd8cdc70-3d46-40ae-99c4-90ef77.tiles.h5',\n",
       " '/home/kohlia/vmount/PRO_12-123/tiling/01OV002-bd8cdc70-3d46-40ae-99c4-90ef77/saved_tiles/01OV002-bd8cdc70-3d46-40ae-99c4-90ef77.tiles.h5',\n",
       " '/home/kohlia/vmount/PRO_12-123/tiling/01OV002-bd8cdc70-3d46-40ae-99c4-90ef77/saved_tiles/01OV002-bd8cdc70-3d46-40ae-99c4-90ef77.tiles.h5',\n",
       " '/home/kohlia/vmount/PRO_12-123/tiling/01OV002-bd8cdc70-3d46-40ae-99c4-90ef77/saved_tiles/01OV002-bd8cdc70-3d46-40ae-99c4-90ef77.tiles.h5',\n",
       " '/home/kohlia/vmount/PRO_12-123/tiling/01OV002-bd8cdc70-3d46-40ae-99c4-90ef77/saved_tiles/01OV002-bd8cdc70-3d46-40ae-99c4-90ef77.tiles.h5',\n",
       " '/home/kohlia/vmount/PRO_12-123/tiling/01OV002-bd8cdc70-3d46-40ae-99c4-90ef77/saved_tiles/01OV002-bd8cdc70-3d46-40ae-99c4-90ef77.tiles.h5',\n",
       " '/home/kohlia/vmount/PRO_12-123/tiling/01OV002-bd8cdc70-3d46-40ae-99c4-90ef77/saved_tiles/01OV002-bd8cdc70-3d46-40ae-99c4-90ef77.tiles.h5',\n",
       " '/home/kohlia/vmount/PRO_12-123/tiling/01OV002-bd8cdc70-3d46-40ae-99c4-90ef77/saved_tiles/01OV002-bd8cdc70-3d46-40ae-99c4-90ef77.tiles.h5',\n",
       " '/home/kohlia/vmount/PRO_12-123/tiling/01OV002-bd8cdc70-3d46-40ae-99c4-90ef77/saved_tiles/01OV002-bd8cdc70-3d46-40ae-99c4-90ef77.tiles.h5',\n",
       " '/home/kohlia/vmount/PRO_12-123/tiling/01OV002-bd8cdc70-3d46-40ae-99c4-90ef77/saved_tiles/01OV002-bd8cdc70-3d46-40ae-99c4-90ef77.tiles.h5',\n",
       " '/home/kohlia/vmount/PRO_12-123/tiling/01OV002-bd8cdc70-3d46-40ae-99c4-90ef77/saved_tiles/01OV002-bd8cdc70-3d46-40ae-99c4-90ef77.tiles.h5',\n",
       " '/home/kohlia/vmount/PRO_12-123/tiling/01OV002-bd8cdc70-3d46-40ae-99c4-90ef77/saved_tiles/01OV002-bd8cdc70-3d46-40ae-99c4-90ef77.tiles.h5',\n",
       " '/home/kohlia/vmount/PRO_12-123/tiling/01OV002-bd8cdc70-3d46-40ae-99c4-90ef77/saved_tiles/01OV002-bd8cdc70-3d46-40ae-99c4-90ef77.tiles.h5',\n",
       " '/home/kohlia/vmount/PRO_12-123/tiling/01OV002-bd8cdc70-3d46-40ae-99c4-90ef77/saved_tiles/01OV002-bd8cdc70-3d46-40ae-99c4-90ef77.tiles.h5',\n",
       " '/home/kohlia/vmount/PRO_12-123/tiling/01OV002-bd8cdc70-3d46-40ae-99c4-90ef77/saved_tiles/01OV002-bd8cdc70-3d46-40ae-99c4-90ef77.tiles.h5',\n",
       " '/home/kohlia/vmount/PRO_12-123/tiling/01OV002-bd8cdc70-3d46-40ae-99c4-90ef77/saved_tiles/01OV002-bd8cdc70-3d46-40ae-99c4-90ef77.tiles.h5',\n",
       " '/home/kohlia/vmount/PRO_12-123/tiling/01OV002-bd8cdc70-3d46-40ae-99c4-90ef77/saved_tiles/01OV002-bd8cdc70-3d46-40ae-99c4-90ef77.tiles.h5',\n",
       " '/home/kohlia/vmount/PRO_12-123/tiling/01OV002-bd8cdc70-3d46-40ae-99c4-90ef77/saved_tiles/01OV002-bd8cdc70-3d46-40ae-99c4-90ef77.tiles.h5',\n",
       " '/home/kohlia/vmount/PRO_12-123/tiling/01OV002-bd8cdc70-3d46-40ae-99c4-90ef77/saved_tiles/01OV002-bd8cdc70-3d46-40ae-99c4-90ef77.tiles.h5',\n",
       " '/home/kohlia/vmount/PRO_12-123/tiling/01OV002-bd8cdc70-3d46-40ae-99c4-90ef77/saved_tiles/01OV002-bd8cdc70-3d46-40ae-99c4-90ef77.tiles.h5',\n",
       " '/home/kohlia/vmount/PRO_12-123/tiling/01OV002-bd8cdc70-3d46-40ae-99c4-90ef77/saved_tiles/01OV002-bd8cdc70-3d46-40ae-99c4-90ef77.tiles.h5',\n",
       " '/home/kohlia/vmount/PRO_12-123/tiling/01OV002-bd8cdc70-3d46-40ae-99c4-90ef77/saved_tiles/01OV002-bd8cdc70-3d46-40ae-99c4-90ef77.tiles.h5',\n",
       " '/home/kohlia/vmount/PRO_12-123/tiling/01OV002-bd8cdc70-3d46-40ae-99c4-90ef77/saved_tiles/01OV002-bd8cdc70-3d46-40ae-99c4-90ef77.tiles.h5',\n",
       " '/home/kohlia/vmount/PRO_12-123/tiling/01OV002-bd8cdc70-3d46-40ae-99c4-90ef77/saved_tiles/01OV002-bd8cdc70-3d46-40ae-99c4-90ef77.tiles.h5',\n",
       " '/home/kohlia/vmount/PRO_12-123/tiling/01OV002-bd8cdc70-3d46-40ae-99c4-90ef77/saved_tiles/01OV002-bd8cdc70-3d46-40ae-99c4-90ef77.tiles.h5',\n",
       " '/home/kohlia/vmount/PRO_12-123/tiling/01OV002-bd8cdc70-3d46-40ae-99c4-90ef77/saved_tiles/01OV002-bd8cdc70-3d46-40ae-99c4-90ef77.tiles.h5',\n",
       " '/home/kohlia/vmount/PRO_12-123/tiling/01OV002-bd8cdc70-3d46-40ae-99c4-90ef77/saved_tiles/01OV002-bd8cdc70-3d46-40ae-99c4-90ef77.tiles.h5',\n",
       " '/home/kohlia/vmount/PRO_12-123/tiling/01OV002-bd8cdc70-3d46-40ae-99c4-90ef77/saved_tiles/01OV002-bd8cdc70-3d46-40ae-99c4-90ef77.tiles.h5',\n",
       " '/home/kohlia/vmount/PRO_12-123/tiling/01OV002-bd8cdc70-3d46-40ae-99c4-90ef77/saved_tiles/01OV002-bd8cdc70-3d46-40ae-99c4-90ef77.tiles.h5',\n",
       " '/home/kohlia/vmount/PRO_12-123/tiling/01OV002-bd8cdc70-3d46-40ae-99c4-90ef77/saved_tiles/01OV002-bd8cdc70-3d46-40ae-99c4-90ef77.tiles.h5',\n",
       " '/home/kohlia/vmount/PRO_12-123/tiling/01OV002-bd8cdc70-3d46-40ae-99c4-90ef77/saved_tiles/01OV002-bd8cdc70-3d46-40ae-99c4-90ef77.tiles.h5',\n",
       " '/home/kohlia/vmount/PRO_12-123/tiling/01OV002-bd8cdc70-3d46-40ae-99c4-90ef77/saved_tiles/01OV002-bd8cdc70-3d46-40ae-99c4-90ef77.tiles.h5',\n",
       " '/home/kohlia/vmount/PRO_12-123/tiling/01OV002-bd8cdc70-3d46-40ae-99c4-90ef77/saved_tiles/01OV002-bd8cdc70-3d46-40ae-99c4-90ef77.tiles.h5',\n",
       " '/home/kohlia/vmount/PRO_12-123/tiling/01OV002-bd8cdc70-3d46-40ae-99c4-90ef77/saved_tiles/01OV002-bd8cdc70-3d46-40ae-99c4-90ef77.tiles.h5',\n",
       " '/home/kohlia/vmount/PRO_12-123/tiling/01OV002-bd8cdc70-3d46-40ae-99c4-90ef77/saved_tiles/01OV002-bd8cdc70-3d46-40ae-99c4-90ef77.tiles.h5',\n",
       " '/home/kohlia/vmount/PRO_12-123/tiling/01OV002-bd8cdc70-3d46-40ae-99c4-90ef77/saved_tiles/01OV002-bd8cdc70-3d46-40ae-99c4-90ef77.tiles.h5',\n",
       " '/home/kohlia/vmount/PRO_12-123/tiling/01OV002-bd8cdc70-3d46-40ae-99c4-90ef77/saved_tiles/01OV002-bd8cdc70-3d46-40ae-99c4-90ef77.tiles.h5',\n",
       " '/home/kohlia/vmount/PRO_12-123/tiling/01OV002-bd8cdc70-3d46-40ae-99c4-90ef77/saved_tiles/01OV002-bd8cdc70-3d46-40ae-99c4-90ef77.tiles.h5',\n",
       " '/home/kohlia/vmount/PRO_12-123/tiling/01OV002-bd8cdc70-3d46-40ae-99c4-90ef77/saved_tiles/01OV002-bd8cdc70-3d46-40ae-99c4-90ef77.tiles.h5',\n",
       " '/home/kohlia/vmount/PRO_12-123/tiling/01OV002-bd8cdc70-3d46-40ae-99c4-90ef77/saved_tiles/01OV002-bd8cdc70-3d46-40ae-99c4-90ef77.tiles.h5',\n",
       " '/home/kohlia/vmount/PRO_12-123/tiling/01OV002-bd8cdc70-3d46-40ae-99c4-90ef77/saved_tiles/01OV002-bd8cdc70-3d46-40ae-99c4-90ef77.tiles.h5',\n",
       " '/home/kohlia/vmount/PRO_12-123/tiling/01OV002-bd8cdc70-3d46-40ae-99c4-90ef77/saved_tiles/01OV002-bd8cdc70-3d46-40ae-99c4-90ef77.tiles.h5',\n",
       " '/home/kohlia/vmount/PRO_12-123/tiling/01OV002-bd8cdc70-3d46-40ae-99c4-90ef77/saved_tiles/01OV002-bd8cdc70-3d46-40ae-99c4-90ef77.tiles.h5',\n",
       " '/home/kohlia/vmount/PRO_12-123/tiling/01OV002-bd8cdc70-3d46-40ae-99c4-90ef77/saved_tiles/01OV002-bd8cdc70-3d46-40ae-99c4-90ef77.tiles.h5',\n",
       " '/home/kohlia/vmount/PRO_12-123/tiling/01OV002-bd8cdc70-3d46-40ae-99c4-90ef77/saved_tiles/01OV002-bd8cdc70-3d46-40ae-99c4-90ef77.tiles.h5',\n",
       " '/home/kohlia/vmount/PRO_12-123/tiling/01OV002-bd8cdc70-3d46-40ae-99c4-90ef77/saved_tiles/01OV002-bd8cdc70-3d46-40ae-99c4-90ef77.tiles.h5',\n",
       " '/home/kohlia/vmount/PRO_12-123/tiling/01OV002-bd8cdc70-3d46-40ae-99c4-90ef77/saved_tiles/01OV002-bd8cdc70-3d46-40ae-99c4-90ef77.tiles.h5',\n",
       " '/home/kohlia/vmount/PRO_12-123/tiling/01OV002-bd8cdc70-3d46-40ae-99c4-90ef77/saved_tiles/01OV002-bd8cdc70-3d46-40ae-99c4-90ef77.tiles.h5',\n",
       " '/home/kohlia/vmount/PRO_12-123/tiling/01OV002-bd8cdc70-3d46-40ae-99c4-90ef77/saved_tiles/01OV002-bd8cdc70-3d46-40ae-99c4-90ef77.tiles.h5',\n",
       " '/home/kohlia/vmount/PRO_12-123/tiling/01OV002-bd8cdc70-3d46-40ae-99c4-90ef77/saved_tiles/01OV002-bd8cdc70-3d46-40ae-99c4-90ef77.tiles.h5',\n",
       " '/home/kohlia/vmount/PRO_12-123/tiling/01OV002-bd8cdc70-3d46-40ae-99c4-90ef77/saved_tiles/01OV002-bd8cdc70-3d46-40ae-99c4-90ef77.tiles.h5',\n",
       " '/home/kohlia/vmount/PRO_12-123/tiling/01OV002-bd8cdc70-3d46-40ae-99c4-90ef77/saved_tiles/01OV002-bd8cdc70-3d46-40ae-99c4-90ef77.tiles.h5',\n",
       " '/home/kohlia/vmount/PRO_12-123/tiling/01OV002-bd8cdc70-3d46-40ae-99c4-90ef77/saved_tiles/01OV002-bd8cdc70-3d46-40ae-99c4-90ef77.tiles.h5',\n",
       " '/home/kohlia/vmount/PRO_12-123/tiling/01OV002-bd8cdc70-3d46-40ae-99c4-90ef77/saved_tiles/01OV002-bd8cdc70-3d46-40ae-99c4-90ef77.tiles.h5',\n",
       " '/home/kohlia/vmount/PRO_12-123/tiling/01OV002-bd8cdc70-3d46-40ae-99c4-90ef77/saved_tiles/01OV002-bd8cdc70-3d46-40ae-99c4-90ef77.tiles.h5',\n",
       " '/home/kohlia/vmount/PRO_12-123/tiling/01OV002-bd8cdc70-3d46-40ae-99c4-90ef77/saved_tiles/01OV002-bd8cdc70-3d46-40ae-99c4-90ef77.tiles.h5',\n",
       " '/home/kohlia/vmount/PRO_12-123/tiling/01OV002-bd8cdc70-3d46-40ae-99c4-90ef77/saved_tiles/01OV002-bd8cdc70-3d46-40ae-99c4-90ef77.tiles.h5',\n",
       " '/home/kohlia/vmount/PRO_12-123/tiling/01OV002-bd8cdc70-3d46-40ae-99c4-90ef77/saved_tiles/01OV002-bd8cdc70-3d46-40ae-99c4-90ef77.tiles.h5',\n",
       " '/home/kohlia/vmount/PRO_12-123/tiling/01OV002-bd8cdc70-3d46-40ae-99c4-90ef77/saved_tiles/01OV002-bd8cdc70-3d46-40ae-99c4-90ef77.tiles.h5',\n",
       " '/home/kohlia/vmount/PRO_12-123/tiling/01OV002-bd8cdc70-3d46-40ae-99c4-90ef77/saved_tiles/01OV002-bd8cdc70-3d46-40ae-99c4-90ef77.tiles.h5',\n",
       " '/home/kohlia/vmount/PRO_12-123/tiling/01OV002-bd8cdc70-3d46-40ae-99c4-90ef77/saved_tiles/01OV002-bd8cdc70-3d46-40ae-99c4-90ef77.tiles.h5',\n",
       " '/home/kohlia/vmount/PRO_12-123/tiling/01OV002-bd8cdc70-3d46-40ae-99c4-90ef77/saved_tiles/01OV002-bd8cdc70-3d46-40ae-99c4-90ef77.tiles.h5',\n",
       " '/home/kohlia/vmount/PRO_12-123/tiling/01OV002-bd8cdc70-3d46-40ae-99c4-90ef77/saved_tiles/01OV002-bd8cdc70-3d46-40ae-99c4-90ef77.tiles.h5',\n",
       " '/home/kohlia/vmount/PRO_12-123/tiling/01OV002-bd8cdc70-3d46-40ae-99c4-90ef77/saved_tiles/01OV002-bd8cdc70-3d46-40ae-99c4-90ef77.tiles.h5',\n",
       " '/home/kohlia/vmount/PRO_12-123/tiling/01OV002-bd8cdc70-3d46-40ae-99c4-90ef77/saved_tiles/01OV002-bd8cdc70-3d46-40ae-99c4-90ef77.tiles.h5',\n",
       " '/home/kohlia/vmount/PRO_12-123/tiling/01OV002-bd8cdc70-3d46-40ae-99c4-90ef77/saved_tiles/01OV002-bd8cdc70-3d46-40ae-99c4-90ef77.tiles.h5',\n",
       " '/home/kohlia/vmount/PRO_12-123/tiling/01OV002-bd8cdc70-3d46-40ae-99c4-90ef77/saved_tiles/01OV002-bd8cdc70-3d46-40ae-99c4-90ef77.tiles.h5',\n",
       " '/home/kohlia/vmount/PRO_12-123/tiling/01OV002-bd8cdc70-3d46-40ae-99c4-90ef77/saved_tiles/01OV002-bd8cdc70-3d46-40ae-99c4-90ef77.tiles.h5',\n",
       " '/home/kohlia/vmount/PRO_12-123/tiling/01OV002-bd8cdc70-3d46-40ae-99c4-90ef77/saved_tiles/01OV002-bd8cdc70-3d46-40ae-99c4-90ef77.tiles.h5',\n",
       " '/home/kohlia/vmount/PRO_12-123/tiling/01OV002-bd8cdc70-3d46-40ae-99c4-90ef77/saved_tiles/01OV002-bd8cdc70-3d46-40ae-99c4-90ef77.tiles.h5',\n",
       " '/home/kohlia/vmount/PRO_12-123/tiling/01OV002-bd8cdc70-3d46-40ae-99c4-90ef77/saved_tiles/01OV002-bd8cdc70-3d46-40ae-99c4-90ef77.tiles.h5',\n",
       " '/home/kohlia/vmount/PRO_12-123/tiling/01OV002-bd8cdc70-3d46-40ae-99c4-90ef77/saved_tiles/01OV002-bd8cdc70-3d46-40ae-99c4-90ef77.tiles.h5',\n",
       " '/home/kohlia/vmount/PRO_12-123/tiling/01OV002-bd8cdc70-3d46-40ae-99c4-90ef77/saved_tiles/01OV002-bd8cdc70-3d46-40ae-99c4-90ef77.tiles.h5',\n",
       " '/home/kohlia/vmount/PRO_12-123/tiling/01OV002-bd8cdc70-3d46-40ae-99c4-90ef77/saved_tiles/01OV002-bd8cdc70-3d46-40ae-99c4-90ef77.tiles.h5',\n",
       " '/home/kohlia/vmount/PRO_12-123/tiling/01OV002-bd8cdc70-3d46-40ae-99c4-90ef77/saved_tiles/01OV002-bd8cdc70-3d46-40ae-99c4-90ef77.tiles.h5',\n",
       " '/home/kohlia/vmount/PRO_12-123/tiling/01OV002-bd8cdc70-3d46-40ae-99c4-90ef77/saved_tiles/01OV002-bd8cdc70-3d46-40ae-99c4-90ef77.tiles.h5',\n",
       " '/home/kohlia/vmount/PRO_12-123/tiling/01OV002-bd8cdc70-3d46-40ae-99c4-90ef77/saved_tiles/01OV002-bd8cdc70-3d46-40ae-99c4-90ef77.tiles.h5',\n",
       " '/home/kohlia/vmount/PRO_12-123/tiling/01OV002-bd8cdc70-3d46-40ae-99c4-90ef77/saved_tiles/01OV002-bd8cdc70-3d46-40ae-99c4-90ef77.tiles.h5',\n",
       " '/home/kohlia/vmount/PRO_12-123/tiling/01OV002-bd8cdc70-3d46-40ae-99c4-90ef77/saved_tiles/01OV002-bd8cdc70-3d46-40ae-99c4-90ef77.tiles.h5',\n",
       " '/home/kohlia/vmount/PRO_12-123/tiling/01OV002-bd8cdc70-3d46-40ae-99c4-90ef77/saved_tiles/01OV002-bd8cdc70-3d46-40ae-99c4-90ef77.tiles.h5',\n",
       " '/home/kohlia/vmount/PRO_12-123/tiling/01OV002-bd8cdc70-3d46-40ae-99c4-90ef77/saved_tiles/01OV002-bd8cdc70-3d46-40ae-99c4-90ef77.tiles.h5',\n",
       " '/home/kohlia/vmount/PRO_12-123/tiling/01OV002-bd8cdc70-3d46-40ae-99c4-90ef77/saved_tiles/01OV002-bd8cdc70-3d46-40ae-99c4-90ef77.tiles.h5',\n",
       " '/home/kohlia/vmount/PRO_12-123/tiling/01OV002-bd8cdc70-3d46-40ae-99c4-90ef77/saved_tiles/01OV002-bd8cdc70-3d46-40ae-99c4-90ef77.tiles.h5',\n",
       " '/home/kohlia/vmount/PRO_12-123/tiling/01OV002-bd8cdc70-3d46-40ae-99c4-90ef77/saved_tiles/01OV002-bd8cdc70-3d46-40ae-99c4-90ef77.tiles.h5',\n",
       " '/home/kohlia/vmount/PRO_12-123/tiling/01OV002-bd8cdc70-3d46-40ae-99c4-90ef77/saved_tiles/01OV002-bd8cdc70-3d46-40ae-99c4-90ef77.tiles.h5',\n",
       " '/home/kohlia/vmount/PRO_12-123/tiling/01OV002-bd8cdc70-3d46-40ae-99c4-90ef77/saved_tiles/01OV002-bd8cdc70-3d46-40ae-99c4-90ef77.tiles.h5',\n",
       " '/home/kohlia/vmount/PRO_12-123/tiling/01OV002-bd8cdc70-3d46-40ae-99c4-90ef77/saved_tiles/01OV002-bd8cdc70-3d46-40ae-99c4-90ef77.tiles.h5',\n",
       " '/home/kohlia/vmount/PRO_12-123/tiling/01OV002-bd8cdc70-3d46-40ae-99c4-90ef77/saved_tiles/01OV002-bd8cdc70-3d46-40ae-99c4-90ef77.tiles.h5',\n",
       " '/home/kohlia/vmount/PRO_12-123/tiling/01OV002-bd8cdc70-3d46-40ae-99c4-90ef77/saved_tiles/01OV002-bd8cdc70-3d46-40ae-99c4-90ef77.tiles.h5',\n",
       " '/home/kohlia/vmount/PRO_12-123/tiling/01OV002-bd8cdc70-3d46-40ae-99c4-90ef77/saved_tiles/01OV002-bd8cdc70-3d46-40ae-99c4-90ef77.tiles.h5',\n",
       " '/home/kohlia/vmount/PRO_12-123/tiling/01OV002-bd8cdc70-3d46-40ae-99c4-90ef77/saved_tiles/01OV002-bd8cdc70-3d46-40ae-99c4-90ef77.tiles.h5',\n",
       " '/home/kohlia/vmount/PRO_12-123/tiling/01OV002-bd8cdc70-3d46-40ae-99c4-90ef77/saved_tiles/01OV002-bd8cdc70-3d46-40ae-99c4-90ef77.tiles.h5',\n",
       " '/home/kohlia/vmount/PRO_12-123/tiling/01OV002-bd8cdc70-3d46-40ae-99c4-90ef77/saved_tiles/01OV002-bd8cdc70-3d46-40ae-99c4-90ef77.tiles.h5',\n",
       " '/home/kohlia/vmount/PRO_12-123/tiling/01OV002-bd8cdc70-3d46-40ae-99c4-90ef77/saved_tiles/01OV002-bd8cdc70-3d46-40ae-99c4-90ef77.tiles.h5',\n",
       " '/home/kohlia/vmount/PRO_12-123/tiling/01OV002-bd8cdc70-3d46-40ae-99c4-90ef77/saved_tiles/01OV002-bd8cdc70-3d46-40ae-99c4-90ef77.tiles.h5',\n",
       " '/home/kohlia/vmount/PRO_12-123/tiling/01OV002-bd8cdc70-3d46-40ae-99c4-90ef77/saved_tiles/01OV002-bd8cdc70-3d46-40ae-99c4-90ef77.tiles.h5',\n",
       " '/home/kohlia/vmount/PRO_12-123/tiling/01OV002-bd8cdc70-3d46-40ae-99c4-90ef77/saved_tiles/01OV002-bd8cdc70-3d46-40ae-99c4-90ef77.tiles.h5',\n",
       " '/home/kohlia/vmount/PRO_12-123/tiling/01OV002-bd8cdc70-3d46-40ae-99c4-90ef77/saved_tiles/01OV002-bd8cdc70-3d46-40ae-99c4-90ef77.tiles.h5',\n",
       " '/home/kohlia/vmount/PRO_12-123/tiling/01OV002-bd8cdc70-3d46-40ae-99c4-90ef77/saved_tiles/01OV002-bd8cdc70-3d46-40ae-99c4-90ef77.tiles.h5',\n",
       " '/home/kohlia/vmount/PRO_12-123/tiling/01OV002-bd8cdc70-3d46-40ae-99c4-90ef77/saved_tiles/01OV002-bd8cdc70-3d46-40ae-99c4-90ef77.tiles.h5',\n",
       " '/home/kohlia/vmount/PRO_12-123/tiling/01OV002-bd8cdc70-3d46-40ae-99c4-90ef77/saved_tiles/01OV002-bd8cdc70-3d46-40ae-99c4-90ef77.tiles.h5',\n",
       " '/home/kohlia/vmount/PRO_12-123/tiling/01OV002-bd8cdc70-3d46-40ae-99c4-90ef77/saved_tiles/01OV002-bd8cdc70-3d46-40ae-99c4-90ef77.tiles.h5',\n",
       " '/home/kohlia/vmount/PRO_12-123/tiling/01OV002-bd8cdc70-3d46-40ae-99c4-90ef77/saved_tiles/01OV002-bd8cdc70-3d46-40ae-99c4-90ef77.tiles.h5',\n",
       " '/home/kohlia/vmount/PRO_12-123/tiling/01OV002-bd8cdc70-3d46-40ae-99c4-90ef77/saved_tiles/01OV002-bd8cdc70-3d46-40ae-99c4-90ef77.tiles.h5',\n",
       " '/home/kohlia/vmount/PRO_12-123/tiling/01OV002-bd8cdc70-3d46-40ae-99c4-90ef77/saved_tiles/01OV002-bd8cdc70-3d46-40ae-99c4-90ef77.tiles.h5',\n",
       " '/home/kohlia/vmount/PRO_12-123/tiling/01OV002-bd8cdc70-3d46-40ae-99c4-90ef77/saved_tiles/01OV002-bd8cdc70-3d46-40ae-99c4-90ef77.tiles.h5',\n",
       " '/home/kohlia/vmount/PRO_12-123/tiling/01OV002-bd8cdc70-3d46-40ae-99c4-90ef77/saved_tiles/01OV002-bd8cdc70-3d46-40ae-99c4-90ef77.tiles.h5',\n",
       " '/home/kohlia/vmount/PRO_12-123/tiling/01OV002-bd8cdc70-3d46-40ae-99c4-90ef77/saved_tiles/01OV002-bd8cdc70-3d46-40ae-99c4-90ef77.tiles.h5',\n",
       " '/home/kohlia/vmount/PRO_12-123/tiling/01OV002-bd8cdc70-3d46-40ae-99c4-90ef77/saved_tiles/01OV002-bd8cdc70-3d46-40ae-99c4-90ef77.tiles.h5',\n",
       " '/home/kohlia/vmount/PRO_12-123/tiling/01OV002-bd8cdc70-3d46-40ae-99c4-90ef77/saved_tiles/01OV002-bd8cdc70-3d46-40ae-99c4-90ef77.tiles.h5',\n",
       " '/home/kohlia/vmount/PRO_12-123/tiling/01OV002-bd8cdc70-3d46-40ae-99c4-90ef77/saved_tiles/01OV002-bd8cdc70-3d46-40ae-99c4-90ef77.tiles.h5',\n",
       " '/home/kohlia/vmount/PRO_12-123/tiling/01OV002-bd8cdc70-3d46-40ae-99c4-90ef77/saved_tiles/01OV002-bd8cdc70-3d46-40ae-99c4-90ef77.tiles.h5',\n",
       " '/home/kohlia/vmount/PRO_12-123/tiling/01OV002-bd8cdc70-3d46-40ae-99c4-90ef77/saved_tiles/01OV002-bd8cdc70-3d46-40ae-99c4-90ef77.tiles.h5',\n",
       " '/home/kohlia/vmount/PRO_12-123/tiling/01OV002-bd8cdc70-3d46-40ae-99c4-90ef77/saved_tiles/01OV002-bd8cdc70-3d46-40ae-99c4-90ef77.tiles.h5',\n",
       " '/home/kohlia/vmount/PRO_12-123/tiling/01OV002-bd8cdc70-3d46-40ae-99c4-90ef77/saved_tiles/01OV002-bd8cdc70-3d46-40ae-99c4-90ef77.tiles.h5',\n",
       " '/home/kohlia/vmount/PRO_12-123/tiling/01OV002-bd8cdc70-3d46-40ae-99c4-90ef77/saved_tiles/01OV002-bd8cdc70-3d46-40ae-99c4-90ef77.tiles.h5',\n",
       " '/home/kohlia/vmount/PRO_12-123/tiling/01OV002-bd8cdc70-3d46-40ae-99c4-90ef77/saved_tiles/01OV002-bd8cdc70-3d46-40ae-99c4-90ef77.tiles.h5',\n",
       " '/home/kohlia/vmount/PRO_12-123/tiling/01OV002-bd8cdc70-3d46-40ae-99c4-90ef77/saved_tiles/01OV002-bd8cdc70-3d46-40ae-99c4-90ef77.tiles.h5',\n",
       " '/home/kohlia/vmount/PRO_12-123/tiling/01OV002-bd8cdc70-3d46-40ae-99c4-90ef77/saved_tiles/01OV002-bd8cdc70-3d46-40ae-99c4-90ef77.tiles.h5',\n",
       " '/home/kohlia/vmount/PRO_12-123/tiling/01OV002-bd8cdc70-3d46-40ae-99c4-90ef77/saved_tiles/01OV002-bd8cdc70-3d46-40ae-99c4-90ef77.tiles.h5',\n",
       " '/home/kohlia/vmount/PRO_12-123/tiling/01OV002-bd8cdc70-3d46-40ae-99c4-90ef77/saved_tiles/01OV002-bd8cdc70-3d46-40ae-99c4-90ef77.tiles.h5',\n",
       " '/home/kohlia/vmount/PRO_12-123/tiling/01OV002-bd8cdc70-3d46-40ae-99c4-90ef77/saved_tiles/01OV002-bd8cdc70-3d46-40ae-99c4-90ef77.tiles.h5',\n",
       " '/home/kohlia/vmount/PRO_12-123/tiling/01OV002-bd8cdc70-3d46-40ae-99c4-90ef77/saved_tiles/01OV002-bd8cdc70-3d46-40ae-99c4-90ef77.tiles.h5',\n",
       " '/home/kohlia/vmount/PRO_12-123/tiling/01OV002-bd8cdc70-3d46-40ae-99c4-90ef77/saved_tiles/01OV002-bd8cdc70-3d46-40ae-99c4-90ef77.tiles.h5',\n",
       " '/home/kohlia/vmount/PRO_12-123/tiling/01OV002-bd8cdc70-3d46-40ae-99c4-90ef77/saved_tiles/01OV002-bd8cdc70-3d46-40ae-99c4-90ef77.tiles.h5',\n",
       " '/home/kohlia/vmount/PRO_12-123/tiling/01OV002-bd8cdc70-3d46-40ae-99c4-90ef77/saved_tiles/01OV002-bd8cdc70-3d46-40ae-99c4-90ef77.tiles.h5',\n",
       " '/home/kohlia/vmount/PRO_12-123/tiling/01OV002-bd8cdc70-3d46-40ae-99c4-90ef77/saved_tiles/01OV002-bd8cdc70-3d46-40ae-99c4-90ef77.tiles.h5',\n",
       " '/home/kohlia/vmount/PRO_12-123/tiling/01OV002-bd8cdc70-3d46-40ae-99c4-90ef77/saved_tiles/01OV002-bd8cdc70-3d46-40ae-99c4-90ef77.tiles.h5',\n",
       " '/home/kohlia/vmount/PRO_12-123/tiling/01OV002-bd8cdc70-3d46-40ae-99c4-90ef77/saved_tiles/01OV002-bd8cdc70-3d46-40ae-99c4-90ef77.tiles.h5',\n",
       " '/home/kohlia/vmount/PRO_12-123/tiling/01OV002-bd8cdc70-3d46-40ae-99c4-90ef77/saved_tiles/01OV002-bd8cdc70-3d46-40ae-99c4-90ef77.tiles.h5',\n",
       " '/home/kohlia/vmount/PRO_12-123/tiling/01OV002-bd8cdc70-3d46-40ae-99c4-90ef77/saved_tiles/01OV002-bd8cdc70-3d46-40ae-99c4-90ef77.tiles.h5',\n",
       " '/home/kohlia/vmount/PRO_12-123/tiling/01OV002-bd8cdc70-3d46-40ae-99c4-90ef77/saved_tiles/01OV002-bd8cdc70-3d46-40ae-99c4-90ef77.tiles.h5',\n",
       " '/home/kohlia/vmount/PRO_12-123/tiling/01OV002-bd8cdc70-3d46-40ae-99c4-90ef77/saved_tiles/01OV002-bd8cdc70-3d46-40ae-99c4-90ef77.tiles.h5',\n",
       " '/home/kohlia/vmount/PRO_12-123/tiling/01OV002-bd8cdc70-3d46-40ae-99c4-90ef77/saved_tiles/01OV002-bd8cdc70-3d46-40ae-99c4-90ef77.tiles.h5',\n",
       " '/home/kohlia/vmount/PRO_12-123/tiling/01OV002-bd8cdc70-3d46-40ae-99c4-90ef77/saved_tiles/01OV002-bd8cdc70-3d46-40ae-99c4-90ef77.tiles.h5',\n",
       " '/home/kohlia/vmount/PRO_12-123/tiling/01OV002-bd8cdc70-3d46-40ae-99c4-90ef77/saved_tiles/01OV002-bd8cdc70-3d46-40ae-99c4-90ef77.tiles.h5',\n",
       " '/home/kohlia/vmount/PRO_12-123/tiling/01OV002-bd8cdc70-3d46-40ae-99c4-90ef77/saved_tiles/01OV002-bd8cdc70-3d46-40ae-99c4-90ef77.tiles.h5',\n",
       " '/home/kohlia/vmount/PRO_12-123/tiling/01OV002-bd8cdc70-3d46-40ae-99c4-90ef77/saved_tiles/01OV002-bd8cdc70-3d46-40ae-99c4-90ef77.tiles.h5',\n",
       " '/home/kohlia/vmount/PRO_12-123/tiling/01OV002-bd8cdc70-3d46-40ae-99c4-90ef77/saved_tiles/01OV002-bd8cdc70-3d46-40ae-99c4-90ef77.tiles.h5',\n",
       " '/home/kohlia/vmount/PRO_12-123/tiling/01OV002-bd8cdc70-3d46-40ae-99c4-90ef77/saved_tiles/01OV002-bd8cdc70-3d46-40ae-99c4-90ef77.tiles.h5',\n",
       " '/home/kohlia/vmount/PRO_12-123/tiling/01OV002-bd8cdc70-3d46-40ae-99c4-90ef77/saved_tiles/01OV002-bd8cdc70-3d46-40ae-99c4-90ef77.tiles.h5',\n",
       " '/home/kohlia/vmount/PRO_12-123/tiling/01OV002-bd8cdc70-3d46-40ae-99c4-90ef77/saved_tiles/01OV002-bd8cdc70-3d46-40ae-99c4-90ef77.tiles.h5',\n",
       " '/home/kohlia/vmount/PRO_12-123/tiling/01OV002-bd8cdc70-3d46-40ae-99c4-90ef77/saved_tiles/01OV002-bd8cdc70-3d46-40ae-99c4-90ef77.tiles.h5',\n",
       " '/home/kohlia/vmount/PRO_12-123/tiling/01OV002-bd8cdc70-3d46-40ae-99c4-90ef77/saved_tiles/01OV002-bd8cdc70-3d46-40ae-99c4-90ef77.tiles.h5',\n",
       " '/home/kohlia/vmount/PRO_12-123/tiling/01OV002-bd8cdc70-3d46-40ae-99c4-90ef77/saved_tiles/01OV002-bd8cdc70-3d46-40ae-99c4-90ef77.tiles.h5',\n",
       " '/home/kohlia/vmount/PRO_12-123/tiling/01OV002-bd8cdc70-3d46-40ae-99c4-90ef77/saved_tiles/01OV002-bd8cdc70-3d46-40ae-99c4-90ef77.tiles.h5',\n",
       " '/home/kohlia/vmount/PRO_12-123/tiling/01OV002-bd8cdc70-3d46-40ae-99c4-90ef77/saved_tiles/01OV002-bd8cdc70-3d46-40ae-99c4-90ef77.tiles.h5',\n",
       " '/home/kohlia/vmount/PRO_12-123/tiling/01OV002-bd8cdc70-3d46-40ae-99c4-90ef77/saved_tiles/01OV002-bd8cdc70-3d46-40ae-99c4-90ef77.tiles.h5',\n",
       " '/home/kohlia/vmount/PRO_12-123/tiling/01OV002-bd8cdc70-3d46-40ae-99c4-90ef77/saved_tiles/01OV002-bd8cdc70-3d46-40ae-99c4-90ef77.tiles.h5',\n",
       " '/home/kohlia/vmount/PRO_12-123/tiling/01OV002-bd8cdc70-3d46-40ae-99c4-90ef77/saved_tiles/01OV002-bd8cdc70-3d46-40ae-99c4-90ef77.tiles.h5',\n",
       " '/home/kohlia/vmount/PRO_12-123/tiling/01OV002-bd8cdc70-3d46-40ae-99c4-90ef77/saved_tiles/01OV002-bd8cdc70-3d46-40ae-99c4-90ef77.tiles.h5',\n",
       " '/home/kohlia/vmount/PRO_12-123/tiling/01OV002-bd8cdc70-3d46-40ae-99c4-90ef77/saved_tiles/01OV002-bd8cdc70-3d46-40ae-99c4-90ef77.tiles.h5',\n",
       " '/home/kohlia/vmount/PRO_12-123/tiling/01OV002-bd8cdc70-3d46-40ae-99c4-90ef77/saved_tiles/01OV002-bd8cdc70-3d46-40ae-99c4-90ef77.tiles.h5',\n",
       " '/home/kohlia/vmount/PRO_12-123/tiling/01OV002-bd8cdc70-3d46-40ae-99c4-90ef77/saved_tiles/01OV002-bd8cdc70-3d46-40ae-99c4-90ef77.tiles.h5',\n",
       " '/home/kohlia/vmount/PRO_12-123/tiling/01OV002-bd8cdc70-3d46-40ae-99c4-90ef77/saved_tiles/01OV002-bd8cdc70-3d46-40ae-99c4-90ef77.tiles.h5',\n",
       " '/home/kohlia/vmount/PRO_12-123/tiling/01OV002-bd8cdc70-3d46-40ae-99c4-90ef77/saved_tiles/01OV002-bd8cdc70-3d46-40ae-99c4-90ef77.tiles.h5',\n",
       " '/home/kohlia/vmount/PRO_12-123/tiling/01OV007-9b90eb78-2f50-4aeb-b010-d642f9/saved_tiles/01OV007-9b90eb78-2f50-4aeb-b010-d642f9.tiles.h5',\n",
       " '/home/kohlia/vmount/PRO_12-123/tiling/01OV007-9b90eb78-2f50-4aeb-b010-d642f9/saved_tiles/01OV007-9b90eb78-2f50-4aeb-b010-d642f9.tiles.h5',\n",
       " '/home/kohlia/vmount/PRO_12-123/tiling/01OV007-9b90eb78-2f50-4aeb-b010-d642f9/saved_tiles/01OV007-9b90eb78-2f50-4aeb-b010-d642f9.tiles.h5',\n",
       " '/home/kohlia/vmount/PRO_12-123/tiling/01OV007-9b90eb78-2f50-4aeb-b010-d642f9/saved_tiles/01OV007-9b90eb78-2f50-4aeb-b010-d642f9.tiles.h5',\n",
       " '/home/kohlia/vmount/PRO_12-123/tiling/01OV007-9b90eb78-2f50-4aeb-b010-d642f9/saved_tiles/01OV007-9b90eb78-2f50-4aeb-b010-d642f9.tiles.h5',\n",
       " '/home/kohlia/vmount/PRO_12-123/tiling/01OV007-9b90eb78-2f50-4aeb-b010-d642f9/saved_tiles/01OV007-9b90eb78-2f50-4aeb-b010-d642f9.tiles.h5',\n",
       " '/home/kohlia/vmount/PRO_12-123/tiling/01OV007-9b90eb78-2f50-4aeb-b010-d642f9/saved_tiles/01OV007-9b90eb78-2f50-4aeb-b010-d642f9.tiles.h5',\n",
       " '/home/kohlia/vmount/PRO_12-123/tiling/01OV007-9b90eb78-2f50-4aeb-b010-d642f9/saved_tiles/01OV007-9b90eb78-2f50-4aeb-b010-d642f9.tiles.h5',\n",
       " '/home/kohlia/vmount/PRO_12-123/tiling/01OV007-9b90eb78-2f50-4aeb-b010-d642f9/saved_tiles/01OV007-9b90eb78-2f50-4aeb-b010-d642f9.tiles.h5',\n",
       " '/home/kohlia/vmount/PRO_12-123/tiling/01OV007-9b90eb78-2f50-4aeb-b010-d642f9/saved_tiles/01OV007-9b90eb78-2f50-4aeb-b010-d642f9.tiles.h5',\n",
       " '/home/kohlia/vmount/PRO_12-123/tiling/01OV007-9b90eb78-2f50-4aeb-b010-d642f9/saved_tiles/01OV007-9b90eb78-2f50-4aeb-b010-d642f9.tiles.h5',\n",
       " '/home/kohlia/vmount/PRO_12-123/tiling/01OV007-9b90eb78-2f50-4aeb-b010-d642f9/saved_tiles/01OV007-9b90eb78-2f50-4aeb-b010-d642f9.tiles.h5',\n",
       " '/home/kohlia/vmount/PRO_12-123/tiling/01OV007-9b90eb78-2f50-4aeb-b010-d642f9/saved_tiles/01OV007-9b90eb78-2f50-4aeb-b010-d642f9.tiles.h5',\n",
       " '/home/kohlia/vmount/PRO_12-123/tiling/01OV007-9b90eb78-2f50-4aeb-b010-d642f9/saved_tiles/01OV007-9b90eb78-2f50-4aeb-b010-d642f9.tiles.h5',\n",
       " '/home/kohlia/vmount/PRO_12-123/tiling/01OV007-9b90eb78-2f50-4aeb-b010-d642f9/saved_tiles/01OV007-9b90eb78-2f50-4aeb-b010-d642f9.tiles.h5',\n",
       " '/home/kohlia/vmount/PRO_12-123/tiling/01OV007-9b90eb78-2f50-4aeb-b010-d642f9/saved_tiles/01OV007-9b90eb78-2f50-4aeb-b010-d642f9.tiles.h5',\n",
       " '/home/kohlia/vmount/PRO_12-123/tiling/01OV007-9b90eb78-2f50-4aeb-b010-d642f9/saved_tiles/01OV007-9b90eb78-2f50-4aeb-b010-d642f9.tiles.h5',\n",
       " '/home/kohlia/vmount/PRO_12-123/tiling/01OV007-9b90eb78-2f50-4aeb-b010-d642f9/saved_tiles/01OV007-9b90eb78-2f50-4aeb-b010-d642f9.tiles.h5',\n",
       " '/home/kohlia/vmount/PRO_12-123/tiling/01OV007-9b90eb78-2f50-4aeb-b010-d642f9/saved_tiles/01OV007-9b90eb78-2f50-4aeb-b010-d642f9.tiles.h5',\n",
       " '/home/kohlia/vmount/PRO_12-123/tiling/01OV007-9b90eb78-2f50-4aeb-b010-d642f9/saved_tiles/01OV007-9b90eb78-2f50-4aeb-b010-d642f9.tiles.h5',\n",
       " '/home/kohlia/vmount/PRO_12-123/tiling/01OV007-9b90eb78-2f50-4aeb-b010-d642f9/saved_tiles/01OV007-9b90eb78-2f50-4aeb-b010-d642f9.tiles.h5',\n",
       " '/home/kohlia/vmount/PRO_12-123/tiling/01OV007-9b90eb78-2f50-4aeb-b010-d642f9/saved_tiles/01OV007-9b90eb78-2f50-4aeb-b010-d642f9.tiles.h5',\n",
       " '/home/kohlia/vmount/PRO_12-123/tiling/01OV007-9b90eb78-2f50-4aeb-b010-d642f9/saved_tiles/01OV007-9b90eb78-2f50-4aeb-b010-d642f9.tiles.h5',\n",
       " '/home/kohlia/vmount/PRO_12-123/tiling/01OV007-9b90eb78-2f50-4aeb-b010-d642f9/saved_tiles/01OV007-9b90eb78-2f50-4aeb-b010-d642f9.tiles.h5',\n",
       " '/home/kohlia/vmount/PRO_12-123/tiling/01OV007-9b90eb78-2f50-4aeb-b010-d642f9/saved_tiles/01OV007-9b90eb78-2f50-4aeb-b010-d642f9.tiles.h5',\n",
       " '/home/kohlia/vmount/PRO_12-123/tiling/01OV007-9b90eb78-2f50-4aeb-b010-d642f9/saved_tiles/01OV007-9b90eb78-2f50-4aeb-b010-d642f9.tiles.h5',\n",
       " '/home/kohlia/vmount/PRO_12-123/tiling/01OV007-9b90eb78-2f50-4aeb-b010-d642f9/saved_tiles/01OV007-9b90eb78-2f50-4aeb-b010-d642f9.tiles.h5',\n",
       " '/home/kohlia/vmount/PRO_12-123/tiling/01OV007-9b90eb78-2f50-4aeb-b010-d642f9/saved_tiles/01OV007-9b90eb78-2f50-4aeb-b010-d642f9.tiles.h5',\n",
       " '/home/kohlia/vmount/PRO_12-123/tiling/01OV007-9b90eb78-2f50-4aeb-b010-d642f9/saved_tiles/01OV007-9b90eb78-2f50-4aeb-b010-d642f9.tiles.h5',\n",
       " '/home/kohlia/vmount/PRO_12-123/tiling/01OV007-9b90eb78-2f50-4aeb-b010-d642f9/saved_tiles/01OV007-9b90eb78-2f50-4aeb-b010-d642f9.tiles.h5',\n",
       " '/home/kohlia/vmount/PRO_12-123/tiling/01OV007-9b90eb78-2f50-4aeb-b010-d642f9/saved_tiles/01OV007-9b90eb78-2f50-4aeb-b010-d642f9.tiles.h5',\n",
       " '/home/kohlia/vmount/PRO_12-123/tiling/01OV007-9b90eb78-2f50-4aeb-b010-d642f9/saved_tiles/01OV007-9b90eb78-2f50-4aeb-b010-d642f9.tiles.h5',\n",
       " '/home/kohlia/vmount/PRO_12-123/tiling/01OV007-9b90eb78-2f50-4aeb-b010-d642f9/saved_tiles/01OV007-9b90eb78-2f50-4aeb-b010-d642f9.tiles.h5',\n",
       " '/home/kohlia/vmount/PRO_12-123/tiling/01OV007-9b90eb78-2f50-4aeb-b010-d642f9/saved_tiles/01OV007-9b90eb78-2f50-4aeb-b010-d642f9.tiles.h5',\n",
       " '/home/kohlia/vmount/PRO_12-123/tiling/01OV007-9b90eb78-2f50-4aeb-b010-d642f9/saved_tiles/01OV007-9b90eb78-2f50-4aeb-b010-d642f9.tiles.h5',\n",
       " '/home/kohlia/vmount/PRO_12-123/tiling/01OV007-9b90eb78-2f50-4aeb-b010-d642f9/saved_tiles/01OV007-9b90eb78-2f50-4aeb-b010-d642f9.tiles.h5',\n",
       " '/home/kohlia/vmount/PRO_12-123/tiling/01OV007-9b90eb78-2f50-4aeb-b010-d642f9/saved_tiles/01OV007-9b90eb78-2f50-4aeb-b010-d642f9.tiles.h5',\n",
       " '/home/kohlia/vmount/PRO_12-123/tiling/01OV007-9b90eb78-2f50-4aeb-b010-d642f9/saved_tiles/01OV007-9b90eb78-2f50-4aeb-b010-d642f9.tiles.h5',\n",
       " '/home/kohlia/vmount/PRO_12-123/tiling/01OV007-9b90eb78-2f50-4aeb-b010-d642f9/saved_tiles/01OV007-9b90eb78-2f50-4aeb-b010-d642f9.tiles.h5',\n",
       " '/home/kohlia/vmount/PRO_12-123/tiling/01OV007-9b90eb78-2f50-4aeb-b010-d642f9/saved_tiles/01OV007-9b90eb78-2f50-4aeb-b010-d642f9.tiles.h5',\n",
       " '/home/kohlia/vmount/PRO_12-123/tiling/01OV007-9b90eb78-2f50-4aeb-b010-d642f9/saved_tiles/01OV007-9b90eb78-2f50-4aeb-b010-d642f9.tiles.h5',\n",
       " '/home/kohlia/vmount/PRO_12-123/tiling/01OV007-9b90eb78-2f50-4aeb-b010-d642f9/saved_tiles/01OV007-9b90eb78-2f50-4aeb-b010-d642f9.tiles.h5',\n",
       " '/home/kohlia/vmount/PRO_12-123/tiling/01OV007-9b90eb78-2f50-4aeb-b010-d642f9/saved_tiles/01OV007-9b90eb78-2f50-4aeb-b010-d642f9.tiles.h5',\n",
       " '/home/kohlia/vmount/PRO_12-123/tiling/01OV007-9b90eb78-2f50-4aeb-b010-d642f9/saved_tiles/01OV007-9b90eb78-2f50-4aeb-b010-d642f9.tiles.h5',\n",
       " '/home/kohlia/vmount/PRO_12-123/tiling/01OV007-9b90eb78-2f50-4aeb-b010-d642f9/saved_tiles/01OV007-9b90eb78-2f50-4aeb-b010-d642f9.tiles.h5',\n",
       " '/home/kohlia/vmount/PRO_12-123/tiling/01OV007-9b90eb78-2f50-4aeb-b010-d642f9/saved_tiles/01OV007-9b90eb78-2f50-4aeb-b010-d642f9.tiles.h5',\n",
       " '/home/kohlia/vmount/PRO_12-123/tiling/01OV007-9b90eb78-2f50-4aeb-b010-d642f9/saved_tiles/01OV007-9b90eb78-2f50-4aeb-b010-d642f9.tiles.h5',\n",
       " '/home/kohlia/vmount/PRO_12-123/tiling/01OV007-9b90eb78-2f50-4aeb-b010-d642f9/saved_tiles/01OV007-9b90eb78-2f50-4aeb-b010-d642f9.tiles.h5',\n",
       " '/home/kohlia/vmount/PRO_12-123/tiling/01OV007-9b90eb78-2f50-4aeb-b010-d642f9/saved_tiles/01OV007-9b90eb78-2f50-4aeb-b010-d642f9.tiles.h5',\n",
       " '/home/kohlia/vmount/PRO_12-123/tiling/01OV007-9b90eb78-2f50-4aeb-b010-d642f9/saved_tiles/01OV007-9b90eb78-2f50-4aeb-b010-d642f9.tiles.h5',\n",
       " '/home/kohlia/vmount/PRO_12-123/tiling/01OV007-9b90eb78-2f50-4aeb-b010-d642f9/saved_tiles/01OV007-9b90eb78-2f50-4aeb-b010-d642f9.tiles.h5',\n",
       " '/home/kohlia/vmount/PRO_12-123/tiling/01OV007-9b90eb78-2f50-4aeb-b010-d642f9/saved_tiles/01OV007-9b90eb78-2f50-4aeb-b010-d642f9.tiles.h5',\n",
       " '/home/kohlia/vmount/PRO_12-123/tiling/01OV007-9b90eb78-2f50-4aeb-b010-d642f9/saved_tiles/01OV007-9b90eb78-2f50-4aeb-b010-d642f9.tiles.h5',\n",
       " '/home/kohlia/vmount/PRO_12-123/tiling/01OV007-9b90eb78-2f50-4aeb-b010-d642f9/saved_tiles/01OV007-9b90eb78-2f50-4aeb-b010-d642f9.tiles.h5',\n",
       " '/home/kohlia/vmount/PRO_12-123/tiling/01OV007-9b90eb78-2f50-4aeb-b010-d642f9/saved_tiles/01OV007-9b90eb78-2f50-4aeb-b010-d642f9.tiles.h5',\n",
       " '/home/kohlia/vmount/PRO_12-123/tiling/01OV007-9b90eb78-2f50-4aeb-b010-d642f9/saved_tiles/01OV007-9b90eb78-2f50-4aeb-b010-d642f9.tiles.h5',\n",
       " '/home/kohlia/vmount/PRO_12-123/tiling/01OV007-9b90eb78-2f50-4aeb-b010-d642f9/saved_tiles/01OV007-9b90eb78-2f50-4aeb-b010-d642f9.tiles.h5',\n",
       " '/home/kohlia/vmount/PRO_12-123/tiling/01OV007-9b90eb78-2f50-4aeb-b010-d642f9/saved_tiles/01OV007-9b90eb78-2f50-4aeb-b010-d642f9.tiles.h5',\n",
       " '/home/kohlia/vmount/PRO_12-123/tiling/01OV007-9b90eb78-2f50-4aeb-b010-d642f9/saved_tiles/01OV007-9b90eb78-2f50-4aeb-b010-d642f9.tiles.h5',\n",
       " '/home/kohlia/vmount/PRO_12-123/tiling/01OV007-9b90eb78-2f50-4aeb-b010-d642f9/saved_tiles/01OV007-9b90eb78-2f50-4aeb-b010-d642f9.tiles.h5',\n",
       " '/home/kohlia/vmount/PRO_12-123/tiling/01OV007-9b90eb78-2f50-4aeb-b010-d642f9/saved_tiles/01OV007-9b90eb78-2f50-4aeb-b010-d642f9.tiles.h5',\n",
       " '/home/kohlia/vmount/PRO_12-123/tiling/01OV007-9b90eb78-2f50-4aeb-b010-d642f9/saved_tiles/01OV007-9b90eb78-2f50-4aeb-b010-d642f9.tiles.h5',\n",
       " '/home/kohlia/vmount/PRO_12-123/tiling/01OV007-9b90eb78-2f50-4aeb-b010-d642f9/saved_tiles/01OV007-9b90eb78-2f50-4aeb-b010-d642f9.tiles.h5',\n",
       " '/home/kohlia/vmount/PRO_12-123/tiling/01OV007-9b90eb78-2f50-4aeb-b010-d642f9/saved_tiles/01OV007-9b90eb78-2f50-4aeb-b010-d642f9.tiles.h5',\n",
       " '/home/kohlia/vmount/PRO_12-123/tiling/01OV007-9b90eb78-2f50-4aeb-b010-d642f9/saved_tiles/01OV007-9b90eb78-2f50-4aeb-b010-d642f9.tiles.h5',\n",
       " '/home/kohlia/vmount/PRO_12-123/tiling/01OV007-9b90eb78-2f50-4aeb-b010-d642f9/saved_tiles/01OV007-9b90eb78-2f50-4aeb-b010-d642f9.tiles.h5',\n",
       " '/home/kohlia/vmount/PRO_12-123/tiling/01OV007-9b90eb78-2f50-4aeb-b010-d642f9/saved_tiles/01OV007-9b90eb78-2f50-4aeb-b010-d642f9.tiles.h5',\n",
       " '/home/kohlia/vmount/PRO_12-123/tiling/01OV007-9b90eb78-2f50-4aeb-b010-d642f9/saved_tiles/01OV007-9b90eb78-2f50-4aeb-b010-d642f9.tiles.h5',\n",
       " '/home/kohlia/vmount/PRO_12-123/tiling/01OV007-9b90eb78-2f50-4aeb-b010-d642f9/saved_tiles/01OV007-9b90eb78-2f50-4aeb-b010-d642f9.tiles.h5',\n",
       " '/home/kohlia/vmount/PRO_12-123/tiling/01OV007-9b90eb78-2f50-4aeb-b010-d642f9/saved_tiles/01OV007-9b90eb78-2f50-4aeb-b010-d642f9.tiles.h5',\n",
       " '/home/kohlia/vmount/PRO_12-123/tiling/01OV007-9b90eb78-2f50-4aeb-b010-d642f9/saved_tiles/01OV007-9b90eb78-2f50-4aeb-b010-d642f9.tiles.h5',\n",
       " '/home/kohlia/vmount/PRO_12-123/tiling/01OV007-9b90eb78-2f50-4aeb-b010-d642f9/saved_tiles/01OV007-9b90eb78-2f50-4aeb-b010-d642f9.tiles.h5',\n",
       " '/home/kohlia/vmount/PRO_12-123/tiling/01OV007-9b90eb78-2f50-4aeb-b010-d642f9/saved_tiles/01OV007-9b90eb78-2f50-4aeb-b010-d642f9.tiles.h5',\n",
       " '/home/kohlia/vmount/PRO_12-123/tiling/01OV007-9b90eb78-2f50-4aeb-b010-d642f9/saved_tiles/01OV007-9b90eb78-2f50-4aeb-b010-d642f9.tiles.h5',\n",
       " '/home/kohlia/vmount/PRO_12-123/tiling/01OV007-9b90eb78-2f50-4aeb-b010-d642f9/saved_tiles/01OV007-9b90eb78-2f50-4aeb-b010-d642f9.tiles.h5',\n",
       " '/home/kohlia/vmount/PRO_12-123/tiling/01OV007-9b90eb78-2f50-4aeb-b010-d642f9/saved_tiles/01OV007-9b90eb78-2f50-4aeb-b010-d642f9.tiles.h5',\n",
       " '/home/kohlia/vmount/PRO_12-123/tiling/01OV007-9b90eb78-2f50-4aeb-b010-d642f9/saved_tiles/01OV007-9b90eb78-2f50-4aeb-b010-d642f9.tiles.h5',\n",
       " '/home/kohlia/vmount/PRO_12-123/tiling/01OV007-9b90eb78-2f50-4aeb-b010-d642f9/saved_tiles/01OV007-9b90eb78-2f50-4aeb-b010-d642f9.tiles.h5',\n",
       " '/home/kohlia/vmount/PRO_12-123/tiling/01OV007-9b90eb78-2f50-4aeb-b010-d642f9/saved_tiles/01OV007-9b90eb78-2f50-4aeb-b010-d642f9.tiles.h5',\n",
       " '/home/kohlia/vmount/PRO_12-123/tiling/01OV007-9b90eb78-2f50-4aeb-b010-d642f9/saved_tiles/01OV007-9b90eb78-2f50-4aeb-b010-d642f9.tiles.h5',\n",
       " '/home/kohlia/vmount/PRO_12-123/tiling/01OV007-9b90eb78-2f50-4aeb-b010-d642f9/saved_tiles/01OV007-9b90eb78-2f50-4aeb-b010-d642f9.tiles.h5',\n",
       " '/home/kohlia/vmount/PRO_12-123/tiling/01OV007-9b90eb78-2f50-4aeb-b010-d642f9/saved_tiles/01OV007-9b90eb78-2f50-4aeb-b010-d642f9.tiles.h5',\n",
       " '/home/kohlia/vmount/PRO_12-123/tiling/01OV007-9b90eb78-2f50-4aeb-b010-d642f9/saved_tiles/01OV007-9b90eb78-2f50-4aeb-b010-d642f9.tiles.h5',\n",
       " '/home/kohlia/vmount/PRO_12-123/tiling/01OV007-9b90eb78-2f50-4aeb-b010-d642f9/saved_tiles/01OV007-9b90eb78-2f50-4aeb-b010-d642f9.tiles.h5',\n",
       " '/home/kohlia/vmount/PRO_12-123/tiling/01OV007-9b90eb78-2f50-4aeb-b010-d642f9/saved_tiles/01OV007-9b90eb78-2f50-4aeb-b010-d642f9.tiles.h5',\n",
       " '/home/kohlia/vmount/PRO_12-123/tiling/01OV007-9b90eb78-2f50-4aeb-b010-d642f9/saved_tiles/01OV007-9b90eb78-2f50-4aeb-b010-d642f9.tiles.h5',\n",
       " '/home/kohlia/vmount/PRO_12-123/tiling/01OV007-9b90eb78-2f50-4aeb-b010-d642f9/saved_tiles/01OV007-9b90eb78-2f50-4aeb-b010-d642f9.tiles.h5',\n",
       " '/home/kohlia/vmount/PRO_12-123/tiling/01OV007-9b90eb78-2f50-4aeb-b010-d642f9/saved_tiles/01OV007-9b90eb78-2f50-4aeb-b010-d642f9.tiles.h5',\n",
       " '/home/kohlia/vmount/PRO_12-123/tiling/01OV007-9b90eb78-2f50-4aeb-b010-d642f9/saved_tiles/01OV007-9b90eb78-2f50-4aeb-b010-d642f9.tiles.h5',\n",
       " '/home/kohlia/vmount/PRO_12-123/tiling/01OV007-9b90eb78-2f50-4aeb-b010-d642f9/saved_tiles/01OV007-9b90eb78-2f50-4aeb-b010-d642f9.tiles.h5',\n",
       " '/home/kohlia/vmount/PRO_12-123/tiling/01OV007-9b90eb78-2f50-4aeb-b010-d642f9/saved_tiles/01OV007-9b90eb78-2f50-4aeb-b010-d642f9.tiles.h5',\n",
       " '/home/kohlia/vmount/PRO_12-123/tiling/01OV007-9b90eb78-2f50-4aeb-b010-d642f9/saved_tiles/01OV007-9b90eb78-2f50-4aeb-b010-d642f9.tiles.h5',\n",
       " '/home/kohlia/vmount/PRO_12-123/tiling/01OV007-9b90eb78-2f50-4aeb-b010-d642f9/saved_tiles/01OV007-9b90eb78-2f50-4aeb-b010-d642f9.tiles.h5',\n",
       " '/home/kohlia/vmount/PRO_12-123/tiling/01OV007-9b90eb78-2f50-4aeb-b010-d642f9/saved_tiles/01OV007-9b90eb78-2f50-4aeb-b010-d642f9.tiles.h5',\n",
       " '/home/kohlia/vmount/PRO_12-123/tiling/01OV007-9b90eb78-2f50-4aeb-b010-d642f9/saved_tiles/01OV007-9b90eb78-2f50-4aeb-b010-d642f9.tiles.h5',\n",
       " '/home/kohlia/vmount/PRO_12-123/tiling/01OV007-9b90eb78-2f50-4aeb-b010-d642f9/saved_tiles/01OV007-9b90eb78-2f50-4aeb-b010-d642f9.tiles.h5',\n",
       " '/home/kohlia/vmount/PRO_12-123/tiling/01OV007-9b90eb78-2f50-4aeb-b010-d642f9/saved_tiles/01OV007-9b90eb78-2f50-4aeb-b010-d642f9.tiles.h5',\n",
       " '/home/kohlia/vmount/PRO_12-123/tiling/01OV007-9b90eb78-2f50-4aeb-b010-d642f9/saved_tiles/01OV007-9b90eb78-2f50-4aeb-b010-d642f9.tiles.h5',\n",
       " '/home/kohlia/vmount/PRO_12-123/tiling/01OV007-9b90eb78-2f50-4aeb-b010-d642f9/saved_tiles/01OV007-9b90eb78-2f50-4aeb-b010-d642f9.tiles.h5',\n",
       " '/home/kohlia/vmount/PRO_12-123/tiling/01OV007-9b90eb78-2f50-4aeb-b010-d642f9/saved_tiles/01OV007-9b90eb78-2f50-4aeb-b010-d642f9.tiles.h5',\n",
       " '/home/kohlia/vmount/PRO_12-123/tiling/01OV007-9b90eb78-2f50-4aeb-b010-d642f9/saved_tiles/01OV007-9b90eb78-2f50-4aeb-b010-d642f9.tiles.h5',\n",
       " '/home/kohlia/vmount/PRO_12-123/tiling/01OV007-9b90eb78-2f50-4aeb-b010-d642f9/saved_tiles/01OV007-9b90eb78-2f50-4aeb-b010-d642f9.tiles.h5',\n",
       " '/home/kohlia/vmount/PRO_12-123/tiling/01OV007-9b90eb78-2f50-4aeb-b010-d642f9/saved_tiles/01OV007-9b90eb78-2f50-4aeb-b010-d642f9.tiles.h5',\n",
       " '/home/kohlia/vmount/PRO_12-123/tiling/01OV007-9b90eb78-2f50-4aeb-b010-d642f9/saved_tiles/01OV007-9b90eb78-2f50-4aeb-b010-d642f9.tiles.h5',\n",
       " '/home/kohlia/vmount/PRO_12-123/tiling/01OV007-9b90eb78-2f50-4aeb-b010-d642f9/saved_tiles/01OV007-9b90eb78-2f50-4aeb-b010-d642f9.tiles.h5',\n",
       " '/home/kohlia/vmount/PRO_12-123/tiling/01OV007-9b90eb78-2f50-4aeb-b010-d642f9/saved_tiles/01OV007-9b90eb78-2f50-4aeb-b010-d642f9.tiles.h5',\n",
       " '/home/kohlia/vmount/PRO_12-123/tiling/01OV007-9b90eb78-2f50-4aeb-b010-d642f9/saved_tiles/01OV007-9b90eb78-2f50-4aeb-b010-d642f9.tiles.h5',\n",
       " '/home/kohlia/vmount/PRO_12-123/tiling/01OV007-9b90eb78-2f50-4aeb-b010-d642f9/saved_tiles/01OV007-9b90eb78-2f50-4aeb-b010-d642f9.tiles.h5',\n",
       " '/home/kohlia/vmount/PRO_12-123/tiling/01OV007-9b90eb78-2f50-4aeb-b010-d642f9/saved_tiles/01OV007-9b90eb78-2f50-4aeb-b010-d642f9.tiles.h5',\n",
       " '/home/kohlia/vmount/PRO_12-123/tiling/01OV007-9b90eb78-2f50-4aeb-b010-d642f9/saved_tiles/01OV007-9b90eb78-2f50-4aeb-b010-d642f9.tiles.h5',\n",
       " '/home/kohlia/vmount/PRO_12-123/tiling/01OV007-9b90eb78-2f50-4aeb-b010-d642f9/saved_tiles/01OV007-9b90eb78-2f50-4aeb-b010-d642f9.tiles.h5',\n",
       " '/home/kohlia/vmount/PRO_12-123/tiling/01OV007-9b90eb78-2f50-4aeb-b010-d642f9/saved_tiles/01OV007-9b90eb78-2f50-4aeb-b010-d642f9.tiles.h5',\n",
       " '/home/kohlia/vmount/PRO_12-123/tiling/01OV007-9b90eb78-2f50-4aeb-b010-d642f9/saved_tiles/01OV007-9b90eb78-2f50-4aeb-b010-d642f9.tiles.h5',\n",
       " '/home/kohlia/vmount/PRO_12-123/tiling/01OV007-9b90eb78-2f50-4aeb-b010-d642f9/saved_tiles/01OV007-9b90eb78-2f50-4aeb-b010-d642f9.tiles.h5',\n",
       " '/home/kohlia/vmount/PRO_12-123/tiling/01OV007-9b90eb78-2f50-4aeb-b010-d642f9/saved_tiles/01OV007-9b90eb78-2f50-4aeb-b010-d642f9.tiles.h5',\n",
       " '/home/kohlia/vmount/PRO_12-123/tiling/01OV007-9b90eb78-2f50-4aeb-b010-d642f9/saved_tiles/01OV007-9b90eb78-2f50-4aeb-b010-d642f9.tiles.h5',\n",
       " '/home/kohlia/vmount/PRO_12-123/tiling/01OV007-9b90eb78-2f50-4aeb-b010-d642f9/saved_tiles/01OV007-9b90eb78-2f50-4aeb-b010-d642f9.tiles.h5',\n",
       " '/home/kohlia/vmount/PRO_12-123/tiling/01OV007-9b90eb78-2f50-4aeb-b010-d642f9/saved_tiles/01OV007-9b90eb78-2f50-4aeb-b010-d642f9.tiles.h5',\n",
       " '/home/kohlia/vmount/PRO_12-123/tiling/01OV007-9b90eb78-2f50-4aeb-b010-d642f9/saved_tiles/01OV007-9b90eb78-2f50-4aeb-b010-d642f9.tiles.h5',\n",
       " '/home/kohlia/vmount/PRO_12-123/tiling/01OV007-9b90eb78-2f50-4aeb-b010-d642f9/saved_tiles/01OV007-9b90eb78-2f50-4aeb-b010-d642f9.tiles.h5',\n",
       " '/home/kohlia/vmount/PRO_12-123/tiling/01OV007-9b90eb78-2f50-4aeb-b010-d642f9/saved_tiles/01OV007-9b90eb78-2f50-4aeb-b010-d642f9.tiles.h5',\n",
       " '/home/kohlia/vmount/PRO_12-123/tiling/01OV007-9b90eb78-2f50-4aeb-b010-d642f9/saved_tiles/01OV007-9b90eb78-2f50-4aeb-b010-d642f9.tiles.h5',\n",
       " '/home/kohlia/vmount/PRO_12-123/tiling/01OV007-9b90eb78-2f50-4aeb-b010-d642f9/saved_tiles/01OV007-9b90eb78-2f50-4aeb-b010-d642f9.tiles.h5',\n",
       " '/home/kohlia/vmount/PRO_12-123/tiling/01OV007-9b90eb78-2f50-4aeb-b010-d642f9/saved_tiles/01OV007-9b90eb78-2f50-4aeb-b010-d642f9.tiles.h5',\n",
       " '/home/kohlia/vmount/PRO_12-123/tiling/01OV007-9b90eb78-2f50-4aeb-b010-d642f9/saved_tiles/01OV007-9b90eb78-2f50-4aeb-b010-d642f9.tiles.h5',\n",
       " '/home/kohlia/vmount/PRO_12-123/tiling/01OV007-9b90eb78-2f50-4aeb-b010-d642f9/saved_tiles/01OV007-9b90eb78-2f50-4aeb-b010-d642f9.tiles.h5',\n",
       " '/home/kohlia/vmount/PRO_12-123/tiling/01OV007-9b90eb78-2f50-4aeb-b010-d642f9/saved_tiles/01OV007-9b90eb78-2f50-4aeb-b010-d642f9.tiles.h5',\n",
       " '/home/kohlia/vmount/PRO_12-123/tiling/01OV007-9b90eb78-2f50-4aeb-b010-d642f9/saved_tiles/01OV007-9b90eb78-2f50-4aeb-b010-d642f9.tiles.h5',\n",
       " '/home/kohlia/vmount/PRO_12-123/tiling/01OV007-9b90eb78-2f50-4aeb-b010-d642f9/saved_tiles/01OV007-9b90eb78-2f50-4aeb-b010-d642f9.tiles.h5',\n",
       " '/home/kohlia/vmount/PRO_12-123/tiling/01OV007-9b90eb78-2f50-4aeb-b010-d642f9/saved_tiles/01OV007-9b90eb78-2f50-4aeb-b010-d642f9.tiles.h5',\n",
       " '/home/kohlia/vmount/PRO_12-123/tiling/01OV007-9b90eb78-2f50-4aeb-b010-d642f9/saved_tiles/01OV007-9b90eb78-2f50-4aeb-b010-d642f9.tiles.h5',\n",
       " '/home/kohlia/vmount/PRO_12-123/tiling/01OV007-9b90eb78-2f50-4aeb-b010-d642f9/saved_tiles/01OV007-9b90eb78-2f50-4aeb-b010-d642f9.tiles.h5',\n",
       " '/home/kohlia/vmount/PRO_12-123/tiling/01OV007-9b90eb78-2f50-4aeb-b010-d642f9/saved_tiles/01OV007-9b90eb78-2f50-4aeb-b010-d642f9.tiles.h5',\n",
       " '/home/kohlia/vmount/PRO_12-123/tiling/01OV007-9b90eb78-2f50-4aeb-b010-d642f9/saved_tiles/01OV007-9b90eb78-2f50-4aeb-b010-d642f9.tiles.h5',\n",
       " '/home/kohlia/vmount/PRO_12-123/tiling/01OV007-9b90eb78-2f50-4aeb-b010-d642f9/saved_tiles/01OV007-9b90eb78-2f50-4aeb-b010-d642f9.tiles.h5',\n",
       " '/home/kohlia/vmount/PRO_12-123/tiling/01OV007-9b90eb78-2f50-4aeb-b010-d642f9/saved_tiles/01OV007-9b90eb78-2f50-4aeb-b010-d642f9.tiles.h5',\n",
       " '/home/kohlia/vmount/PRO_12-123/tiling/01OV007-9b90eb78-2f50-4aeb-b010-d642f9/saved_tiles/01OV007-9b90eb78-2f50-4aeb-b010-d642f9.tiles.h5',\n",
       " '/home/kohlia/vmount/PRO_12-123/tiling/01OV007-9b90eb78-2f50-4aeb-b010-d642f9/saved_tiles/01OV007-9b90eb78-2f50-4aeb-b010-d642f9.tiles.h5',\n",
       " '/home/kohlia/vmount/PRO_12-123/tiling/01OV007-9b90eb78-2f50-4aeb-b010-d642f9/saved_tiles/01OV007-9b90eb78-2f50-4aeb-b010-d642f9.tiles.h5',\n",
       " '/home/kohlia/vmount/PRO_12-123/tiling/01OV007-9b90eb78-2f50-4aeb-b010-d642f9/saved_tiles/01OV007-9b90eb78-2f50-4aeb-b010-d642f9.tiles.h5',\n",
       " '/home/kohlia/vmount/PRO_12-123/tiling/01OV007-9b90eb78-2f50-4aeb-b010-d642f9/saved_tiles/01OV007-9b90eb78-2f50-4aeb-b010-d642f9.tiles.h5',\n",
       " '/home/kohlia/vmount/PRO_12-123/tiling/01OV007-9b90eb78-2f50-4aeb-b010-d642f9/saved_tiles/01OV007-9b90eb78-2f50-4aeb-b010-d642f9.tiles.h5',\n",
       " '/home/kohlia/vmount/PRO_12-123/tiling/01OV007-9b90eb78-2f50-4aeb-b010-d642f9/saved_tiles/01OV007-9b90eb78-2f50-4aeb-b010-d642f9.tiles.h5',\n",
       " '/home/kohlia/vmount/PRO_12-123/tiling/01OV007-9b90eb78-2f50-4aeb-b010-d642f9/saved_tiles/01OV007-9b90eb78-2f50-4aeb-b010-d642f9.tiles.h5',\n",
       " '/home/kohlia/vmount/PRO_12-123/tiling/01OV007-9b90eb78-2f50-4aeb-b010-d642f9/saved_tiles/01OV007-9b90eb78-2f50-4aeb-b010-d642f9.tiles.h5',\n",
       " '/home/kohlia/vmount/PRO_12-123/tiling/01OV007-9b90eb78-2f50-4aeb-b010-d642f9/saved_tiles/01OV007-9b90eb78-2f50-4aeb-b010-d642f9.tiles.h5',\n",
       " '/home/kohlia/vmount/PRO_12-123/tiling/01OV007-9b90eb78-2f50-4aeb-b010-d642f9/saved_tiles/01OV007-9b90eb78-2f50-4aeb-b010-d642f9.tiles.h5',\n",
       " '/home/kohlia/vmount/PRO_12-123/tiling/01OV007-9b90eb78-2f50-4aeb-b010-d642f9/saved_tiles/01OV007-9b90eb78-2f50-4aeb-b010-d642f9.tiles.h5',\n",
       " '/home/kohlia/vmount/PRO_12-123/tiling/01OV007-9b90eb78-2f50-4aeb-b010-d642f9/saved_tiles/01OV007-9b90eb78-2f50-4aeb-b010-d642f9.tiles.h5',\n",
       " '/home/kohlia/vmount/PRO_12-123/tiling/01OV007-9b90eb78-2f50-4aeb-b010-d642f9/saved_tiles/01OV007-9b90eb78-2f50-4aeb-b010-d642f9.tiles.h5',\n",
       " '/home/kohlia/vmount/PRO_12-123/tiling/01OV007-9b90eb78-2f50-4aeb-b010-d642f9/saved_tiles/01OV007-9b90eb78-2f50-4aeb-b010-d642f9.tiles.h5',\n",
       " '/home/kohlia/vmount/PRO_12-123/tiling/01OV007-9b90eb78-2f50-4aeb-b010-d642f9/saved_tiles/01OV007-9b90eb78-2f50-4aeb-b010-d642f9.tiles.h5',\n",
       " '/home/kohlia/vmount/PRO_12-123/tiling/01OV007-9b90eb78-2f50-4aeb-b010-d642f9/saved_tiles/01OV007-9b90eb78-2f50-4aeb-b010-d642f9.tiles.h5',\n",
       " '/home/kohlia/vmount/PRO_12-123/tiling/01OV007-9b90eb78-2f50-4aeb-b010-d642f9/saved_tiles/01OV007-9b90eb78-2f50-4aeb-b010-d642f9.tiles.h5',\n",
       " '/home/kohlia/vmount/PRO_12-123/tiling/01OV007-9b90eb78-2f50-4aeb-b010-d642f9/saved_tiles/01OV007-9b90eb78-2f50-4aeb-b010-d642f9.tiles.h5',\n",
       " '/home/kohlia/vmount/PRO_12-123/tiling/01OV007-9b90eb78-2f50-4aeb-b010-d642f9/saved_tiles/01OV007-9b90eb78-2f50-4aeb-b010-d642f9.tiles.h5',\n",
       " '/home/kohlia/vmount/PRO_12-123/tiling/01OV007-9b90eb78-2f50-4aeb-b010-d642f9/saved_tiles/01OV007-9b90eb78-2f50-4aeb-b010-d642f9.tiles.h5',\n",
       " '/home/kohlia/vmount/PRO_12-123/tiling/01OV007-9b90eb78-2f50-4aeb-b010-d642f9/saved_tiles/01OV007-9b90eb78-2f50-4aeb-b010-d642f9.tiles.h5',\n",
       " '/home/kohlia/vmount/PRO_12-123/tiling/01OV007-9b90eb78-2f50-4aeb-b010-d642f9/saved_tiles/01OV007-9b90eb78-2f50-4aeb-b010-d642f9.tiles.h5',\n",
       " '/home/kohlia/vmount/PRO_12-123/tiling/01OV007-9b90eb78-2f50-4aeb-b010-d642f9/saved_tiles/01OV007-9b90eb78-2f50-4aeb-b010-d642f9.tiles.h5',\n",
       " '/home/kohlia/vmount/PRO_12-123/tiling/01OV007-9b90eb78-2f50-4aeb-b010-d642f9/saved_tiles/01OV007-9b90eb78-2f50-4aeb-b010-d642f9.tiles.h5',\n",
       " '/home/kohlia/vmount/PRO_12-123/tiling/01OV007-9b90eb78-2f50-4aeb-b010-d642f9/saved_tiles/01OV007-9b90eb78-2f50-4aeb-b010-d642f9.tiles.h5',\n",
       " '/home/kohlia/vmount/PRO_12-123/tiling/01OV007-9b90eb78-2f50-4aeb-b010-d642f9/saved_tiles/01OV007-9b90eb78-2f50-4aeb-b010-d642f9.tiles.h5',\n",
       " '/home/kohlia/vmount/PRO_12-123/tiling/01OV007-9b90eb78-2f50-4aeb-b010-d642f9/saved_tiles/01OV007-9b90eb78-2f50-4aeb-b010-d642f9.tiles.h5',\n",
       " '/home/kohlia/vmount/PRO_12-123/tiling/01OV007-9b90eb78-2f50-4aeb-b010-d642f9/saved_tiles/01OV007-9b90eb78-2f50-4aeb-b010-d642f9.tiles.h5',\n",
       " '/home/kohlia/vmount/PRO_12-123/tiling/01OV007-9b90eb78-2f50-4aeb-b010-d642f9/saved_tiles/01OV007-9b90eb78-2f50-4aeb-b010-d642f9.tiles.h5',\n",
       " '/home/kohlia/vmount/PRO_12-123/tiling/01OV007-9b90eb78-2f50-4aeb-b010-d642f9/saved_tiles/01OV007-9b90eb78-2f50-4aeb-b010-d642f9.tiles.h5',\n",
       " '/home/kohlia/vmount/PRO_12-123/tiling/01OV007-9b90eb78-2f50-4aeb-b010-d642f9/saved_tiles/01OV007-9b90eb78-2f50-4aeb-b010-d642f9.tiles.h5',\n",
       " '/home/kohlia/vmount/PRO_12-123/tiling/01OV007-9b90eb78-2f50-4aeb-b010-d642f9/saved_tiles/01OV007-9b90eb78-2f50-4aeb-b010-d642f9.tiles.h5',\n",
       " '/home/kohlia/vmount/PRO_12-123/tiling/01OV007-9b90eb78-2f50-4aeb-b010-d642f9/saved_tiles/01OV007-9b90eb78-2f50-4aeb-b010-d642f9.tiles.h5',\n",
       " '/home/kohlia/vmount/PRO_12-123/tiling/01OV007-9b90eb78-2f50-4aeb-b010-d642f9/saved_tiles/01OV007-9b90eb78-2f50-4aeb-b010-d642f9.tiles.h5',\n",
       " '/home/kohlia/vmount/PRO_12-123/tiling/01OV007-9b90eb78-2f50-4aeb-b010-d642f9/saved_tiles/01OV007-9b90eb78-2f50-4aeb-b010-d642f9.tiles.h5',\n",
       " '/home/kohlia/vmount/PRO_12-123/tiling/01OV007-9b90eb78-2f50-4aeb-b010-d642f9/saved_tiles/01OV007-9b90eb78-2f50-4aeb-b010-d642f9.tiles.h5',\n",
       " '/home/kohlia/vmount/PRO_12-123/tiling/01OV007-9b90eb78-2f50-4aeb-b010-d642f9/saved_tiles/01OV007-9b90eb78-2f50-4aeb-b010-d642f9.tiles.h5',\n",
       " '/home/kohlia/vmount/PRO_12-123/tiling/01OV007-9b90eb78-2f50-4aeb-b010-d642f9/saved_tiles/01OV007-9b90eb78-2f50-4aeb-b010-d642f9.tiles.h5',\n",
       " '/home/kohlia/vmount/PRO_12-123/tiling/01OV007-9b90eb78-2f50-4aeb-b010-d642f9/saved_tiles/01OV007-9b90eb78-2f50-4aeb-b010-d642f9.tiles.h5',\n",
       " '/home/kohlia/vmount/PRO_12-123/tiling/01OV007-9b90eb78-2f50-4aeb-b010-d642f9/saved_tiles/01OV007-9b90eb78-2f50-4aeb-b010-d642f9.tiles.h5',\n",
       " '/home/kohlia/vmount/PRO_12-123/tiling/01OV007-9b90eb78-2f50-4aeb-b010-d642f9/saved_tiles/01OV007-9b90eb78-2f50-4aeb-b010-d642f9.tiles.h5',\n",
       " '/home/kohlia/vmount/PRO_12-123/tiling/01OV007-9b90eb78-2f50-4aeb-b010-d642f9/saved_tiles/01OV007-9b90eb78-2f50-4aeb-b010-d642f9.tiles.h5',\n",
       " '/home/kohlia/vmount/PRO_12-123/tiling/01OV007-9b90eb78-2f50-4aeb-b010-d642f9/saved_tiles/01OV007-9b90eb78-2f50-4aeb-b010-d642f9.tiles.h5',\n",
       " '/home/kohlia/vmount/PRO_12-123/tiling/01OV007-9b90eb78-2f50-4aeb-b010-d642f9/saved_tiles/01OV007-9b90eb78-2f50-4aeb-b010-d642f9.tiles.h5',\n",
       " '/home/kohlia/vmount/PRO_12-123/tiling/01OV007-9b90eb78-2f50-4aeb-b010-d642f9/saved_tiles/01OV007-9b90eb78-2f50-4aeb-b010-d642f9.tiles.h5',\n",
       " '/home/kohlia/vmount/PRO_12-123/tiling/01OV007-9b90eb78-2f50-4aeb-b010-d642f9/saved_tiles/01OV007-9b90eb78-2f50-4aeb-b010-d642f9.tiles.h5',\n",
       " '/home/kohlia/vmount/PRO_12-123/tiling/01OV007-9b90eb78-2f50-4aeb-b010-d642f9/saved_tiles/01OV007-9b90eb78-2f50-4aeb-b010-d642f9.tiles.h5',\n",
       " '/home/kohlia/vmount/PRO_12-123/tiling/01OV007-9b90eb78-2f50-4aeb-b010-d642f9/saved_tiles/01OV007-9b90eb78-2f50-4aeb-b010-d642f9.tiles.h5',\n",
       " '/home/kohlia/vmount/PRO_12-123/tiling/01OV007-9b90eb78-2f50-4aeb-b010-d642f9/saved_tiles/01OV007-9b90eb78-2f50-4aeb-b010-d642f9.tiles.h5',\n",
       " '/home/kohlia/vmount/PRO_12-123/tiling/01OV007-9b90eb78-2f50-4aeb-b010-d642f9/saved_tiles/01OV007-9b90eb78-2f50-4aeb-b010-d642f9.tiles.h5',\n",
       " '/home/kohlia/vmount/PRO_12-123/tiling/01OV007-9b90eb78-2f50-4aeb-b010-d642f9/saved_tiles/01OV007-9b90eb78-2f50-4aeb-b010-d642f9.tiles.h5',\n",
       " '/home/kohlia/vmount/PRO_12-123/tiling/01OV007-9b90eb78-2f50-4aeb-b010-d642f9/saved_tiles/01OV007-9b90eb78-2f50-4aeb-b010-d642f9.tiles.h5',\n",
       " '/home/kohlia/vmount/PRO_12-123/tiling/01OV007-9b90eb78-2f50-4aeb-b010-d642f9/saved_tiles/01OV007-9b90eb78-2f50-4aeb-b010-d642f9.tiles.h5',\n",
       " '/home/kohlia/vmount/PRO_12-123/tiling/01OV007-9b90eb78-2f50-4aeb-b010-d642f9/saved_tiles/01OV007-9b90eb78-2f50-4aeb-b010-d642f9.tiles.h5',\n",
       " '/home/kohlia/vmount/PRO_12-123/tiling/01OV007-9b90eb78-2f50-4aeb-b010-d642f9/saved_tiles/01OV007-9b90eb78-2f50-4aeb-b010-d642f9.tiles.h5',\n",
       " '/home/kohlia/vmount/PRO_12-123/tiling/01OV007-9b90eb78-2f50-4aeb-b010-d642f9/saved_tiles/01OV007-9b90eb78-2f50-4aeb-b010-d642f9.tiles.h5',\n",
       " '/home/kohlia/vmount/PRO_12-123/tiling/01OV007-9b90eb78-2f50-4aeb-b010-d642f9/saved_tiles/01OV007-9b90eb78-2f50-4aeb-b010-d642f9.tiles.h5',\n",
       " '/home/kohlia/vmount/PRO_12-123/tiling/01OV007-9b90eb78-2f50-4aeb-b010-d642f9/saved_tiles/01OV007-9b90eb78-2f50-4aeb-b010-d642f9.tiles.h5',\n",
       " '/home/kohlia/vmount/PRO_12-123/tiling/01OV007-9b90eb78-2f50-4aeb-b010-d642f9/saved_tiles/01OV007-9b90eb78-2f50-4aeb-b010-d642f9.tiles.h5',\n",
       " '/home/kohlia/vmount/PRO_12-123/tiling/01OV007-9b90eb78-2f50-4aeb-b010-d642f9/saved_tiles/01OV007-9b90eb78-2f50-4aeb-b010-d642f9.tiles.h5',\n",
       " '/home/kohlia/vmount/PRO_12-123/tiling/01OV007-9b90eb78-2f50-4aeb-b010-d642f9/saved_tiles/01OV007-9b90eb78-2f50-4aeb-b010-d642f9.tiles.h5',\n",
       " '/home/kohlia/vmount/PRO_12-123/tiling/01OV007-9b90eb78-2f50-4aeb-b010-d642f9/saved_tiles/01OV007-9b90eb78-2f50-4aeb-b010-d642f9.tiles.h5',\n",
       " '/home/kohlia/vmount/PRO_12-123/tiling/01OV007-9b90eb78-2f50-4aeb-b010-d642f9/saved_tiles/01OV007-9b90eb78-2f50-4aeb-b010-d642f9.tiles.h5',\n",
       " '/home/kohlia/vmount/PRO_12-123/tiling/01OV007-9b90eb78-2f50-4aeb-b010-d642f9/saved_tiles/01OV007-9b90eb78-2f50-4aeb-b010-d642f9.tiles.h5',\n",
       " '/home/kohlia/vmount/PRO_12-123/tiling/01OV007-9b90eb78-2f50-4aeb-b010-d642f9/saved_tiles/01OV007-9b90eb78-2f50-4aeb-b010-d642f9.tiles.h5',\n",
       " '/home/kohlia/vmount/PRO_12-123/tiling/01OV007-9b90eb78-2f50-4aeb-b010-d642f9/saved_tiles/01OV007-9b90eb78-2f50-4aeb-b010-d642f9.tiles.h5',\n",
       " '/home/kohlia/vmount/PRO_12-123/tiling/01OV007-9b90eb78-2f50-4aeb-b010-d642f9/saved_tiles/01OV007-9b90eb78-2f50-4aeb-b010-d642f9.tiles.h5',\n",
       " '/home/kohlia/vmount/PRO_12-123/tiling/01OV007-9b90eb78-2f50-4aeb-b010-d642f9/saved_tiles/01OV007-9b90eb78-2f50-4aeb-b010-d642f9.tiles.h5',\n",
       " '/home/kohlia/vmount/PRO_12-123/tiling/01OV007-9b90eb78-2f50-4aeb-b010-d642f9/saved_tiles/01OV007-9b90eb78-2f50-4aeb-b010-d642f9.tiles.h5',\n",
       " '/home/kohlia/vmount/PRO_12-123/tiling/01OV007-9b90eb78-2f50-4aeb-b010-d642f9/saved_tiles/01OV007-9b90eb78-2f50-4aeb-b010-d642f9.tiles.h5',\n",
       " '/home/kohlia/vmount/PRO_12-123/tiling/01OV007-9b90eb78-2f50-4aeb-b010-d642f9/saved_tiles/01OV007-9b90eb78-2f50-4aeb-b010-d642f9.tiles.h5',\n",
       " '/home/kohlia/vmount/PRO_12-123/tiling/01OV007-9b90eb78-2f50-4aeb-b010-d642f9/saved_tiles/01OV007-9b90eb78-2f50-4aeb-b010-d642f9.tiles.h5',\n",
       " '/home/kohlia/vmount/PRO_12-123/tiling/01OV007-9b90eb78-2f50-4aeb-b010-d642f9/saved_tiles/01OV007-9b90eb78-2f50-4aeb-b010-d642f9.tiles.h5',\n",
       " '/home/kohlia/vmount/PRO_12-123/tiling/01OV007-9b90eb78-2f50-4aeb-b010-d642f9/saved_tiles/01OV007-9b90eb78-2f50-4aeb-b010-d642f9.tiles.h5',\n",
       " '/home/kohlia/vmount/PRO_12-123/tiling/01OV007-9b90eb78-2f50-4aeb-b010-d642f9/saved_tiles/01OV007-9b90eb78-2f50-4aeb-b010-d642f9.tiles.h5',\n",
       " '/home/kohlia/vmount/PRO_12-123/tiling/01OV007-9b90eb78-2f50-4aeb-b010-d642f9/saved_tiles/01OV007-9b90eb78-2f50-4aeb-b010-d642f9.tiles.h5',\n",
       " '/home/kohlia/vmount/PRO_12-123/tiling/01OV007-9b90eb78-2f50-4aeb-b010-d642f9/saved_tiles/01OV007-9b90eb78-2f50-4aeb-b010-d642f9.tiles.h5',\n",
       " '/home/kohlia/vmount/PRO_12-123/tiling/01OV007-9b90eb78-2f50-4aeb-b010-d642f9/saved_tiles/01OV007-9b90eb78-2f50-4aeb-b010-d642f9.tiles.h5',\n",
       " '/home/kohlia/vmount/PRO_12-123/tiling/01OV007-9b90eb78-2f50-4aeb-b010-d642f9/saved_tiles/01OV007-9b90eb78-2f50-4aeb-b010-d642f9.tiles.h5',\n",
       " '/home/kohlia/vmount/PRO_12-123/tiling/01OV007-9b90eb78-2f50-4aeb-b010-d642f9/saved_tiles/01OV007-9b90eb78-2f50-4aeb-b010-d642f9.tiles.h5',\n",
       " '/home/kohlia/vmount/PRO_12-123/tiling/01OV007-9b90eb78-2f50-4aeb-b010-d642f9/saved_tiles/01OV007-9b90eb78-2f50-4aeb-b010-d642f9.tiles.h5',\n",
       " '/home/kohlia/vmount/PRO_12-123/tiling/01OV007-9b90eb78-2f50-4aeb-b010-d642f9/saved_tiles/01OV007-9b90eb78-2f50-4aeb-b010-d642f9.tiles.h5',\n",
       " '/home/kohlia/vmount/PRO_12-123/tiling/01OV007-9b90eb78-2f50-4aeb-b010-d642f9/saved_tiles/01OV007-9b90eb78-2f50-4aeb-b010-d642f9.tiles.h5',\n",
       " '/home/kohlia/vmount/PRO_12-123/tiling/01OV007-9b90eb78-2f50-4aeb-b010-d642f9/saved_tiles/01OV007-9b90eb78-2f50-4aeb-b010-d642f9.tiles.h5',\n",
       " '/home/kohlia/vmount/PRO_12-123/tiling/01OV007-9b90eb78-2f50-4aeb-b010-d642f9/saved_tiles/01OV007-9b90eb78-2f50-4aeb-b010-d642f9.tiles.h5',\n",
       " '/home/kohlia/vmount/PRO_12-123/tiling/01OV007-9b90eb78-2f50-4aeb-b010-d642f9/saved_tiles/01OV007-9b90eb78-2f50-4aeb-b010-d642f9.tiles.h5',\n",
       " '/home/kohlia/vmount/PRO_12-123/tiling/01OV007-9b90eb78-2f50-4aeb-b010-d642f9/saved_tiles/01OV007-9b90eb78-2f50-4aeb-b010-d642f9.tiles.h5',\n",
       " '/home/kohlia/vmount/PRO_12-123/tiling/01OV007-9b90eb78-2f50-4aeb-b010-d642f9/saved_tiles/01OV007-9b90eb78-2f50-4aeb-b010-d642f9.tiles.h5',\n",
       " '/home/kohlia/vmount/PRO_12-123/tiling/01OV007-9b90eb78-2f50-4aeb-b010-d642f9/saved_tiles/01OV007-9b90eb78-2f50-4aeb-b010-d642f9.tiles.h5',\n",
       " '/home/kohlia/vmount/PRO_12-123/tiling/01OV007-9b90eb78-2f50-4aeb-b010-d642f9/saved_tiles/01OV007-9b90eb78-2f50-4aeb-b010-d642f9.tiles.h5',\n",
       " '/home/kohlia/vmount/PRO_12-123/tiling/01OV007-9b90eb78-2f50-4aeb-b010-d642f9/saved_tiles/01OV007-9b90eb78-2f50-4aeb-b010-d642f9.tiles.h5',\n",
       " '/home/kohlia/vmount/PRO_12-123/tiling/01OV007-9b90eb78-2f50-4aeb-b010-d642f9/saved_tiles/01OV007-9b90eb78-2f50-4aeb-b010-d642f9.tiles.h5',\n",
       " '/home/kohlia/vmount/PRO_12-123/tiling/01OV007-9b90eb78-2f50-4aeb-b010-d642f9/saved_tiles/01OV007-9b90eb78-2f50-4aeb-b010-d642f9.tiles.h5',\n",
       " '/home/kohlia/vmount/PRO_12-123/tiling/01OV007-9b90eb78-2f50-4aeb-b010-d642f9/saved_tiles/01OV007-9b90eb78-2f50-4aeb-b010-d642f9.tiles.h5',\n",
       " '/home/kohlia/vmount/PRO_12-123/tiling/01OV007-9b90eb78-2f50-4aeb-b010-d642f9/saved_tiles/01OV007-9b90eb78-2f50-4aeb-b010-d642f9.tiles.h5',\n",
       " '/home/kohlia/vmount/PRO_12-123/tiling/01OV007-9b90eb78-2f50-4aeb-b010-d642f9/saved_tiles/01OV007-9b90eb78-2f50-4aeb-b010-d642f9.tiles.h5',\n",
       " '/home/kohlia/vmount/PRO_12-123/tiling/01OV007-9b90eb78-2f50-4aeb-b010-d642f9/saved_tiles/01OV007-9b90eb78-2f50-4aeb-b010-d642f9.tiles.h5',\n",
       " '/home/kohlia/vmount/PRO_12-123/tiling/01OV007-9b90eb78-2f50-4aeb-b010-d642f9/saved_tiles/01OV007-9b90eb78-2f50-4aeb-b010-d642f9.tiles.h5',\n",
       " '/home/kohlia/vmount/PRO_12-123/tiling/01OV007-9b90eb78-2f50-4aeb-b010-d642f9/saved_tiles/01OV007-9b90eb78-2f50-4aeb-b010-d642f9.tiles.h5',\n",
       " '/home/kohlia/vmount/PRO_12-123/tiling/01OV007-9b90eb78-2f50-4aeb-b010-d642f9/saved_tiles/01OV007-9b90eb78-2f50-4aeb-b010-d642f9.tiles.h5',\n",
       " '/home/kohlia/vmount/PRO_12-123/tiling/01OV007-9b90eb78-2f50-4aeb-b010-d642f9/saved_tiles/01OV007-9b90eb78-2f50-4aeb-b010-d642f9.tiles.h5',\n",
       " '/home/kohlia/vmount/PRO_12-123/tiling/01OV007-9b90eb78-2f50-4aeb-b010-d642f9/saved_tiles/01OV007-9b90eb78-2f50-4aeb-b010-d642f9.tiles.h5',\n",
       " '/home/kohlia/vmount/PRO_12-123/tiling/01OV007-9b90eb78-2f50-4aeb-b010-d642f9/saved_tiles/01OV007-9b90eb78-2f50-4aeb-b010-d642f9.tiles.h5',\n",
       " '/home/kohlia/vmount/PRO_12-123/tiling/01OV007-9b90eb78-2f50-4aeb-b010-d642f9/saved_tiles/01OV007-9b90eb78-2f50-4aeb-b010-d642f9.tiles.h5',\n",
       " '/home/kohlia/vmount/PRO_12-123/tiling/01OV007-9b90eb78-2f50-4aeb-b010-d642f9/saved_tiles/01OV007-9b90eb78-2f50-4aeb-b010-d642f9.tiles.h5',\n",
       " '/home/kohlia/vmount/PRO_12-123/tiling/01OV007-9b90eb78-2f50-4aeb-b010-d642f9/saved_tiles/01OV007-9b90eb78-2f50-4aeb-b010-d642f9.tiles.h5',\n",
       " '/home/kohlia/vmount/PRO_12-123/tiling/01OV007-9b90eb78-2f50-4aeb-b010-d642f9/saved_tiles/01OV007-9b90eb78-2f50-4aeb-b010-d642f9.tiles.h5',\n",
       " '/home/kohlia/vmount/PRO_12-123/tiling/01OV007-9b90eb78-2f50-4aeb-b010-d642f9/saved_tiles/01OV007-9b90eb78-2f50-4aeb-b010-d642f9.tiles.h5',\n",
       " '/home/kohlia/vmount/PRO_12-123/tiling/01OV007-9b90eb78-2f50-4aeb-b010-d642f9/saved_tiles/01OV007-9b90eb78-2f50-4aeb-b010-d642f9.tiles.h5',\n",
       " '/home/kohlia/vmount/PRO_12-123/tiling/01OV007-9b90eb78-2f50-4aeb-b010-d642f9/saved_tiles/01OV007-9b90eb78-2f50-4aeb-b010-d642f9.tiles.h5',\n",
       " '/home/kohlia/vmount/PRO_12-123/tiling/01OV007-9b90eb78-2f50-4aeb-b010-d642f9/saved_tiles/01OV007-9b90eb78-2f50-4aeb-b010-d642f9.tiles.h5',\n",
       " '/home/kohlia/vmount/PRO_12-123/tiling/01OV007-9b90eb78-2f50-4aeb-b010-d642f9/saved_tiles/01OV007-9b90eb78-2f50-4aeb-b010-d642f9.tiles.h5',\n",
       " '/home/kohlia/vmount/PRO_12-123/tiling/01OV007-9b90eb78-2f50-4aeb-b010-d642f9/saved_tiles/01OV007-9b90eb78-2f50-4aeb-b010-d642f9.tiles.h5',\n",
       " '/home/kohlia/vmount/PRO_12-123/tiling/01OV007-9b90eb78-2f50-4aeb-b010-d642f9/saved_tiles/01OV007-9b90eb78-2f50-4aeb-b010-d642f9.tiles.h5',\n",
       " '/home/kohlia/vmount/PRO_12-123/tiling/01OV007-9b90eb78-2f50-4aeb-b010-d642f9/saved_tiles/01OV007-9b90eb78-2f50-4aeb-b010-d642f9.tiles.h5',\n",
       " '/home/kohlia/vmount/PRO_12-123/tiling/01OV007-9b90eb78-2f50-4aeb-b010-d642f9/saved_tiles/01OV007-9b90eb78-2f50-4aeb-b010-d642f9.tiles.h5',\n",
       " '/home/kohlia/vmount/PRO_12-123/tiling/01OV007-9b90eb78-2f50-4aeb-b010-d642f9/saved_tiles/01OV007-9b90eb78-2f50-4aeb-b010-d642f9.tiles.h5',\n",
       " '/home/kohlia/vmount/PRO_12-123/tiling/01OV007-9b90eb78-2f50-4aeb-b010-d642f9/saved_tiles/01OV007-9b90eb78-2f50-4aeb-b010-d642f9.tiles.h5',\n",
       " '/home/kohlia/vmount/PRO_12-123/tiling/01OV007-9b90eb78-2f50-4aeb-b010-d642f9/saved_tiles/01OV007-9b90eb78-2f50-4aeb-b010-d642f9.tiles.h5',\n",
       " '/home/kohlia/vmount/PRO_12-123/tiling/01OV007-9b90eb78-2f50-4aeb-b010-d642f9/saved_tiles/01OV007-9b90eb78-2f50-4aeb-b010-d642f9.tiles.h5',\n",
       " '/home/kohlia/vmount/PRO_12-123/tiling/01OV007-9b90eb78-2f50-4aeb-b010-d642f9/saved_tiles/01OV007-9b90eb78-2f50-4aeb-b010-d642f9.tiles.h5',\n",
       " '/home/kohlia/vmount/PRO_12-123/tiling/01OV007-9b90eb78-2f50-4aeb-b010-d642f9/saved_tiles/01OV007-9b90eb78-2f50-4aeb-b010-d642f9.tiles.h5',\n",
       " '/home/kohlia/vmount/PRO_12-123/tiling/01OV007-9b90eb78-2f50-4aeb-b010-d642f9/saved_tiles/01OV007-9b90eb78-2f50-4aeb-b010-d642f9.tiles.h5',\n",
       " '/home/kohlia/vmount/PRO_12-123/tiling/01OV007-9b90eb78-2f50-4aeb-b010-d642f9/saved_tiles/01OV007-9b90eb78-2f50-4aeb-b010-d642f9.tiles.h5',\n",
       " '/home/kohlia/vmount/PRO_12-123/tiling/01OV007-9b90eb78-2f50-4aeb-b010-d642f9/saved_tiles/01OV007-9b90eb78-2f50-4aeb-b010-d642f9.tiles.h5',\n",
       " '/home/kohlia/vmount/PRO_12-123/tiling/01OV007-9b90eb78-2f50-4aeb-b010-d642f9/saved_tiles/01OV007-9b90eb78-2f50-4aeb-b010-d642f9.tiles.h5',\n",
       " '/home/kohlia/vmount/PRO_12-123/tiling/01OV007-9b90eb78-2f50-4aeb-b010-d642f9/saved_tiles/01OV007-9b90eb78-2f50-4aeb-b010-d642f9.tiles.h5',\n",
       " '/home/kohlia/vmount/PRO_12-123/tiling/01OV007-9b90eb78-2f50-4aeb-b010-d642f9/saved_tiles/01OV007-9b90eb78-2f50-4aeb-b010-d642f9.tiles.h5',\n",
       " '/home/kohlia/vmount/PRO_12-123/tiling/01OV007-9b90eb78-2f50-4aeb-b010-d642f9/saved_tiles/01OV007-9b90eb78-2f50-4aeb-b010-d642f9.tiles.h5',\n",
       " '/home/kohlia/vmount/PRO_12-123/tiling/01OV007-9b90eb78-2f50-4aeb-b010-d642f9/saved_tiles/01OV007-9b90eb78-2f50-4aeb-b010-d642f9.tiles.h5',\n",
       " '/home/kohlia/vmount/PRO_12-123/tiling/01OV007-9b90eb78-2f50-4aeb-b010-d642f9/saved_tiles/01OV007-9b90eb78-2f50-4aeb-b010-d642f9.tiles.h5',\n",
       " '/home/kohlia/vmount/PRO_12-123/tiling/01OV007-9b90eb78-2f50-4aeb-b010-d642f9/saved_tiles/01OV007-9b90eb78-2f50-4aeb-b010-d642f9.tiles.h5',\n",
       " '/home/kohlia/vmount/PRO_12-123/tiling/01OV007-9b90eb78-2f50-4aeb-b010-d642f9/saved_tiles/01OV007-9b90eb78-2f50-4aeb-b010-d642f9.tiles.h5',\n",
       " '/home/kohlia/vmount/PRO_12-123/tiling/01OV007-9b90eb78-2f50-4aeb-b010-d642f9/saved_tiles/01OV007-9b90eb78-2f50-4aeb-b010-d642f9.tiles.h5',\n",
       " '/home/kohlia/vmount/PRO_12-123/tiling/01OV007-9b90eb78-2f50-4aeb-b010-d642f9/saved_tiles/01OV007-9b90eb78-2f50-4aeb-b010-d642f9.tiles.h5',\n",
       " '/home/kohlia/vmount/PRO_12-123/tiling/01OV007-9b90eb78-2f50-4aeb-b010-d642f9/saved_tiles/01OV007-9b90eb78-2f50-4aeb-b010-d642f9.tiles.h5',\n",
       " '/home/kohlia/vmount/PRO_12-123/tiling/01OV007-9b90eb78-2f50-4aeb-b010-d642f9/saved_tiles/01OV007-9b90eb78-2f50-4aeb-b010-d642f9.tiles.h5',\n",
       " '/home/kohlia/vmount/PRO_12-123/tiling/01OV007-9b90eb78-2f50-4aeb-b010-d642f9/saved_tiles/01OV007-9b90eb78-2f50-4aeb-b010-d642f9.tiles.h5',\n",
       " '/home/kohlia/vmount/PRO_12-123/tiling/01OV007-9b90eb78-2f50-4aeb-b010-d642f9/saved_tiles/01OV007-9b90eb78-2f50-4aeb-b010-d642f9.tiles.h5',\n",
       " '/home/kohlia/vmount/PRO_12-123/tiling/01OV007-9b90eb78-2f50-4aeb-b010-d642f9/saved_tiles/01OV007-9b90eb78-2f50-4aeb-b010-d642f9.tiles.h5',\n",
       " '/home/kohlia/vmount/PRO_12-123/tiling/01OV007-9b90eb78-2f50-4aeb-b010-d642f9/saved_tiles/01OV007-9b90eb78-2f50-4aeb-b010-d642f9.tiles.h5',\n",
       " '/home/kohlia/vmount/PRO_12-123/tiling/01OV007-9b90eb78-2f50-4aeb-b010-d642f9/saved_tiles/01OV007-9b90eb78-2f50-4aeb-b010-d642f9.tiles.h5',\n",
       " '/home/kohlia/vmount/PRO_12-123/tiling/01OV007-9b90eb78-2f50-4aeb-b010-d642f9/saved_tiles/01OV007-9b90eb78-2f50-4aeb-b010-d642f9.tiles.h5',\n",
       " '/home/kohlia/vmount/PRO_12-123/tiling/01OV007-9b90eb78-2f50-4aeb-b010-d642f9/saved_tiles/01OV007-9b90eb78-2f50-4aeb-b010-d642f9.tiles.h5',\n",
       " '/home/kohlia/vmount/PRO_12-123/tiling/01OV007-9b90eb78-2f50-4aeb-b010-d642f9/saved_tiles/01OV007-9b90eb78-2f50-4aeb-b010-d642f9.tiles.h5',\n",
       " '/home/kohlia/vmount/PRO_12-123/tiling/01OV007-9b90eb78-2f50-4aeb-b010-d642f9/saved_tiles/01OV007-9b90eb78-2f50-4aeb-b010-d642f9.tiles.h5',\n",
       " '/home/kohlia/vmount/PRO_12-123/tiling/01OV007-9b90eb78-2f50-4aeb-b010-d642f9/saved_tiles/01OV007-9b90eb78-2f50-4aeb-b010-d642f9.tiles.h5',\n",
       " '/home/kohlia/vmount/PRO_12-123/tiling/01OV007-9b90eb78-2f50-4aeb-b010-d642f9/saved_tiles/01OV007-9b90eb78-2f50-4aeb-b010-d642f9.tiles.h5',\n",
       " '/home/kohlia/vmount/PRO_12-123/tiling/01OV007-9b90eb78-2f50-4aeb-b010-d642f9/saved_tiles/01OV007-9b90eb78-2f50-4aeb-b010-d642f9.tiles.h5',\n",
       " '/home/kohlia/vmount/PRO_12-123/tiling/01OV007-9b90eb78-2f50-4aeb-b010-d642f9/saved_tiles/01OV007-9b90eb78-2f50-4aeb-b010-d642f9.tiles.h5',\n",
       " '/home/kohlia/vmount/PRO_12-123/tiling/01OV007-9b90eb78-2f50-4aeb-b010-d642f9/saved_tiles/01OV007-9b90eb78-2f50-4aeb-b010-d642f9.tiles.h5',\n",
       " '/home/kohlia/vmount/PRO_12-123/tiling/01OV007-9b90eb78-2f50-4aeb-b010-d642f9/saved_tiles/01OV007-9b90eb78-2f50-4aeb-b010-d642f9.tiles.h5',\n",
       " '/home/kohlia/vmount/PRO_12-123/tiling/01OV007-9b90eb78-2f50-4aeb-b010-d642f9/saved_tiles/01OV007-9b90eb78-2f50-4aeb-b010-d642f9.tiles.h5',\n",
       " '/home/kohlia/vmount/PRO_12-123/tiling/01OV007-9b90eb78-2f50-4aeb-b010-d642f9/saved_tiles/01OV007-9b90eb78-2f50-4aeb-b010-d642f9.tiles.h5',\n",
       " '/home/kohlia/vmount/PRO_12-123/tiling/01OV007-9b90eb78-2f50-4aeb-b010-d642f9/saved_tiles/01OV007-9b90eb78-2f50-4aeb-b010-d642f9.tiles.h5',\n",
       " '/home/kohlia/vmount/PRO_12-123/tiling/01OV007-9b90eb78-2f50-4aeb-b010-d642f9/saved_tiles/01OV007-9b90eb78-2f50-4aeb-b010-d642f9.tiles.h5',\n",
       " '/home/kohlia/vmount/PRO_12-123/tiling/01OV007-9b90eb78-2f50-4aeb-b010-d642f9/saved_tiles/01OV007-9b90eb78-2f50-4aeb-b010-d642f9.tiles.h5',\n",
       " '/home/kohlia/vmount/PRO_12-123/tiling/01OV007-9b90eb78-2f50-4aeb-b010-d642f9/saved_tiles/01OV007-9b90eb78-2f50-4aeb-b010-d642f9.tiles.h5',\n",
       " '/home/kohlia/vmount/PRO_12-123/tiling/01OV007-9b90eb78-2f50-4aeb-b010-d642f9/saved_tiles/01OV007-9b90eb78-2f50-4aeb-b010-d642f9.tiles.h5',\n",
       " '/home/kohlia/vmount/PRO_12-123/tiling/01OV007-9b90eb78-2f50-4aeb-b010-d642f9/saved_tiles/01OV007-9b90eb78-2f50-4aeb-b010-d642f9.tiles.h5',\n",
       " '/home/kohlia/vmount/PRO_12-123/tiling/01OV007-9b90eb78-2f50-4aeb-b010-d642f9/saved_tiles/01OV007-9b90eb78-2f50-4aeb-b010-d642f9.tiles.h5',\n",
       " '/home/kohlia/vmount/PRO_12-123/tiling/01OV007-9b90eb78-2f50-4aeb-b010-d642f9/saved_tiles/01OV007-9b90eb78-2f50-4aeb-b010-d642f9.tiles.h5',\n",
       " '/home/kohlia/vmount/PRO_12-123/tiling/01OV007-9b90eb78-2f50-4aeb-b010-d642f9/saved_tiles/01OV007-9b90eb78-2f50-4aeb-b010-d642f9.tiles.h5',\n",
       " '/home/kohlia/vmount/PRO_12-123/tiling/01OV007-9b90eb78-2f50-4aeb-b010-d642f9/saved_tiles/01OV007-9b90eb78-2f50-4aeb-b010-d642f9.tiles.h5',\n",
       " '/home/kohlia/vmount/PRO_12-123/tiling/01OV007-9b90eb78-2f50-4aeb-b010-d642f9/saved_tiles/01OV007-9b90eb78-2f50-4aeb-b010-d642f9.tiles.h5',\n",
       " '/home/kohlia/vmount/PRO_12-123/tiling/01OV007-9b90eb78-2f50-4aeb-b010-d642f9/saved_tiles/01OV007-9b90eb78-2f50-4aeb-b010-d642f9.tiles.h5',\n",
       " '/home/kohlia/vmount/PRO_12-123/tiling/01OV007-9b90eb78-2f50-4aeb-b010-d642f9/saved_tiles/01OV007-9b90eb78-2f50-4aeb-b010-d642f9.tiles.h5',\n",
       " '/home/kohlia/vmount/PRO_12-123/tiling/01OV007-9b90eb78-2f50-4aeb-b010-d642f9/saved_tiles/01OV007-9b90eb78-2f50-4aeb-b010-d642f9.tiles.h5',\n",
       " '/home/kohlia/vmount/PRO_12-123/tiling/01OV007-9b90eb78-2f50-4aeb-b010-d642f9/saved_tiles/01OV007-9b90eb78-2f50-4aeb-b010-d642f9.tiles.h5',\n",
       " '/home/kohlia/vmount/PRO_12-123/tiling/01OV007-9b90eb78-2f50-4aeb-b010-d642f9/saved_tiles/01OV007-9b90eb78-2f50-4aeb-b010-d642f9.tiles.h5',\n",
       " '/home/kohlia/vmount/PRO_12-123/tiling/01OV007-9b90eb78-2f50-4aeb-b010-d642f9/saved_tiles/01OV007-9b90eb78-2f50-4aeb-b010-d642f9.tiles.h5',\n",
       " '/home/kohlia/vmount/PRO_12-123/tiling/01OV007-9b90eb78-2f50-4aeb-b010-d642f9/saved_tiles/01OV007-9b90eb78-2f50-4aeb-b010-d642f9.tiles.h5',\n",
       " '/home/kohlia/vmount/PRO_12-123/tiling/01OV007-9b90eb78-2f50-4aeb-b010-d642f9/saved_tiles/01OV007-9b90eb78-2f50-4aeb-b010-d642f9.tiles.h5',\n",
       " '/home/kohlia/vmount/PRO_12-123/tiling/01OV007-9b90eb78-2f50-4aeb-b010-d642f9/saved_tiles/01OV007-9b90eb78-2f50-4aeb-b010-d642f9.tiles.h5',\n",
       " '/home/kohlia/vmount/PRO_12-123/tiling/01OV007-9b90eb78-2f50-4aeb-b010-d642f9/saved_tiles/01OV007-9b90eb78-2f50-4aeb-b010-d642f9.tiles.h5',\n",
       " '/home/kohlia/vmount/PRO_12-123/tiling/01OV007-9b90eb78-2f50-4aeb-b010-d642f9/saved_tiles/01OV007-9b90eb78-2f50-4aeb-b010-d642f9.tiles.h5',\n",
       " '/home/kohlia/vmount/PRO_12-123/tiling/01OV007-9b90eb78-2f50-4aeb-b010-d642f9/saved_tiles/01OV007-9b90eb78-2f50-4aeb-b010-d642f9.tiles.h5',\n",
       " '/home/kohlia/vmount/PRO_12-123/tiling/01OV007-9b90eb78-2f50-4aeb-b010-d642f9/saved_tiles/01OV007-9b90eb78-2f50-4aeb-b010-d642f9.tiles.h5',\n",
       " '/home/kohlia/vmount/PRO_12-123/tiling/01OV007-9b90eb78-2f50-4aeb-b010-d642f9/saved_tiles/01OV007-9b90eb78-2f50-4aeb-b010-d642f9.tiles.h5',\n",
       " '/home/kohlia/vmount/PRO_12-123/tiling/01OV007-9b90eb78-2f50-4aeb-b010-d642f9/saved_tiles/01OV007-9b90eb78-2f50-4aeb-b010-d642f9.tiles.h5',\n",
       " '/home/kohlia/vmount/PRO_12-123/tiling/01OV007-9b90eb78-2f50-4aeb-b010-d642f9/saved_tiles/01OV007-9b90eb78-2f50-4aeb-b010-d642f9.tiles.h5',\n",
       " '/home/kohlia/vmount/PRO_12-123/tiling/01OV007-9b90eb78-2f50-4aeb-b010-d642f9/saved_tiles/01OV007-9b90eb78-2f50-4aeb-b010-d642f9.tiles.h5',\n",
       " '/home/kohlia/vmount/PRO_12-123/tiling/01OV007-9b90eb78-2f50-4aeb-b010-d642f9/saved_tiles/01OV007-9b90eb78-2f50-4aeb-b010-d642f9.tiles.h5',\n",
       " '/home/kohlia/vmount/PRO_12-123/tiling/01OV007-9b90eb78-2f50-4aeb-b010-d642f9/saved_tiles/01OV007-9b90eb78-2f50-4aeb-b010-d642f9.tiles.h5',\n",
       " '/home/kohlia/vmount/PRO_12-123/tiling/01OV007-9b90eb78-2f50-4aeb-b010-d642f9/saved_tiles/01OV007-9b90eb78-2f50-4aeb-b010-d642f9.tiles.h5',\n",
       " '/home/kohlia/vmount/PRO_12-123/tiling/01OV007-9b90eb78-2f50-4aeb-b010-d642f9/saved_tiles/01OV007-9b90eb78-2f50-4aeb-b010-d642f9.tiles.h5',\n",
       " '/home/kohlia/vmount/PRO_12-123/tiling/01OV007-9b90eb78-2f50-4aeb-b010-d642f9/saved_tiles/01OV007-9b90eb78-2f50-4aeb-b010-d642f9.tiles.h5',\n",
       " '/home/kohlia/vmount/PRO_12-123/tiling/01OV007-9b90eb78-2f50-4aeb-b010-d642f9/saved_tiles/01OV007-9b90eb78-2f50-4aeb-b010-d642f9.tiles.h5',\n",
       " '/home/kohlia/vmount/PRO_12-123/tiling/01OV007-9b90eb78-2f50-4aeb-b010-d642f9/saved_tiles/01OV007-9b90eb78-2f50-4aeb-b010-d642f9.tiles.h5',\n",
       " '/home/kohlia/vmount/PRO_12-123/tiling/01OV007-9b90eb78-2f50-4aeb-b010-d642f9/saved_tiles/01OV007-9b90eb78-2f50-4aeb-b010-d642f9.tiles.h5',\n",
       " '/home/kohlia/vmount/PRO_12-123/tiling/01OV007-9b90eb78-2f50-4aeb-b010-d642f9/saved_tiles/01OV007-9b90eb78-2f50-4aeb-b010-d642f9.tiles.h5',\n",
       " '/home/kohlia/vmount/PRO_12-123/tiling/01OV007-9b90eb78-2f50-4aeb-b010-d642f9/saved_tiles/01OV007-9b90eb78-2f50-4aeb-b010-d642f9.tiles.h5',\n",
       " '/home/kohlia/vmount/PRO_12-123/tiling/01OV007-9b90eb78-2f50-4aeb-b010-d642f9/saved_tiles/01OV007-9b90eb78-2f50-4aeb-b010-d642f9.tiles.h5',\n",
       " '/home/kohlia/vmount/PRO_12-123/tiling/01OV007-9b90eb78-2f50-4aeb-b010-d642f9/saved_tiles/01OV007-9b90eb78-2f50-4aeb-b010-d642f9.tiles.h5',\n",
       " '/home/kohlia/vmount/PRO_12-123/tiling/01OV007-9b90eb78-2f50-4aeb-b010-d642f9/saved_tiles/01OV007-9b90eb78-2f50-4aeb-b010-d642f9.tiles.h5',\n",
       " '/home/kohlia/vmount/PRO_12-123/tiling/01OV007-9b90eb78-2f50-4aeb-b010-d642f9/saved_tiles/01OV007-9b90eb78-2f50-4aeb-b010-d642f9.tiles.h5',\n",
       " '/home/kohlia/vmount/PRO_12-123/tiling/01OV007-9b90eb78-2f50-4aeb-b010-d642f9/saved_tiles/01OV007-9b90eb78-2f50-4aeb-b010-d642f9.tiles.h5',\n",
       " '/home/kohlia/vmount/PRO_12-123/tiling/01OV007-9b90eb78-2f50-4aeb-b010-d642f9/saved_tiles/01OV007-9b90eb78-2f50-4aeb-b010-d642f9.tiles.h5',\n",
       " '/home/kohlia/vmount/PRO_12-123/tiling/01OV007-9b90eb78-2f50-4aeb-b010-d642f9/saved_tiles/01OV007-9b90eb78-2f50-4aeb-b010-d642f9.tiles.h5',\n",
       " '/home/kohlia/vmount/PRO_12-123/tiling/01OV007-9b90eb78-2f50-4aeb-b010-d642f9/saved_tiles/01OV007-9b90eb78-2f50-4aeb-b010-d642f9.tiles.h5',\n",
       " '/home/kohlia/vmount/PRO_12-123/tiling/01OV007-9b90eb78-2f50-4aeb-b010-d642f9/saved_tiles/01OV007-9b90eb78-2f50-4aeb-b010-d642f9.tiles.h5',\n",
       " '/home/kohlia/vmount/PRO_12-123/tiling/01OV007-9b90eb78-2f50-4aeb-b010-d642f9/saved_tiles/01OV007-9b90eb78-2f50-4aeb-b010-d642f9.tiles.h5',\n",
       " '/home/kohlia/vmount/PRO_12-123/tiling/01OV007-9b90eb78-2f50-4aeb-b010-d642f9/saved_tiles/01OV007-9b90eb78-2f50-4aeb-b010-d642f9.tiles.h5',\n",
       " '/home/kohlia/vmount/PRO_12-123/tiling/01OV007-9b90eb78-2f50-4aeb-b010-d642f9/saved_tiles/01OV007-9b90eb78-2f50-4aeb-b010-d642f9.tiles.h5',\n",
       " '/home/kohlia/vmount/PRO_12-123/tiling/01OV007-9b90eb78-2f50-4aeb-b010-d642f9/saved_tiles/01OV007-9b90eb78-2f50-4aeb-b010-d642f9.tiles.h5',\n",
       " '/home/kohlia/vmount/PRO_12-123/tiling/01OV007-9b90eb78-2f50-4aeb-b010-d642f9/saved_tiles/01OV007-9b90eb78-2f50-4aeb-b010-d642f9.tiles.h5',\n",
       " '/home/kohlia/vmount/PRO_12-123/tiling/01OV007-9b90eb78-2f50-4aeb-b010-d642f9/saved_tiles/01OV007-9b90eb78-2f50-4aeb-b010-d642f9.tiles.h5',\n",
       " '/home/kohlia/vmount/PRO_12-123/tiling/01OV007-9b90eb78-2f50-4aeb-b010-d642f9/saved_tiles/01OV007-9b90eb78-2f50-4aeb-b010-d642f9.tiles.h5',\n",
       " '/home/kohlia/vmount/PRO_12-123/tiling/01OV007-9b90eb78-2f50-4aeb-b010-d642f9/saved_tiles/01OV007-9b90eb78-2f50-4aeb-b010-d642f9.tiles.h5',\n",
       " '/home/kohlia/vmount/PRO_12-123/tiling/01OV007-9b90eb78-2f50-4aeb-b010-d642f9/saved_tiles/01OV007-9b90eb78-2f50-4aeb-b010-d642f9.tiles.h5',\n",
       " '/home/kohlia/vmount/PRO_12-123/tiling/01OV007-9b90eb78-2f50-4aeb-b010-d642f9/saved_tiles/01OV007-9b90eb78-2f50-4aeb-b010-d642f9.tiles.h5',\n",
       " '/home/kohlia/vmount/PRO_12-123/tiling/01OV007-9b90eb78-2f50-4aeb-b010-d642f9/saved_tiles/01OV007-9b90eb78-2f50-4aeb-b010-d642f9.tiles.h5',\n",
       " '/home/kohlia/vmount/PRO_12-123/tiling/01OV007-9b90eb78-2f50-4aeb-b010-d642f9/saved_tiles/01OV007-9b90eb78-2f50-4aeb-b010-d642f9.tiles.h5',\n",
       " '/home/kohlia/vmount/PRO_12-123/tiling/01OV007-9b90eb78-2f50-4aeb-b010-d642f9/saved_tiles/01OV007-9b90eb78-2f50-4aeb-b010-d642f9.tiles.h5',\n",
       " '/home/kohlia/vmount/PRO_12-123/tiling/01OV007-9b90eb78-2f50-4aeb-b010-d642f9/saved_tiles/01OV007-9b90eb78-2f50-4aeb-b010-d642f9.tiles.h5',\n",
       " '/home/kohlia/vmount/PRO_12-123/tiling/01OV007-9b90eb78-2f50-4aeb-b010-d642f9/saved_tiles/01OV007-9b90eb78-2f50-4aeb-b010-d642f9.tiles.h5',\n",
       " '/home/kohlia/vmount/PRO_12-123/tiling/01OV007-9b90eb78-2f50-4aeb-b010-d642f9/saved_tiles/01OV007-9b90eb78-2f50-4aeb-b010-d642f9.tiles.h5',\n",
       " '/home/kohlia/vmount/PRO_12-123/tiling/01OV007-9b90eb78-2f50-4aeb-b010-d642f9/saved_tiles/01OV007-9b90eb78-2f50-4aeb-b010-d642f9.tiles.h5',\n",
       " '/home/kohlia/vmount/PRO_12-123/tiling/01OV007-9b90eb78-2f50-4aeb-b010-d642f9/saved_tiles/01OV007-9b90eb78-2f50-4aeb-b010-d642f9.tiles.h5',\n",
       " '/home/kohlia/vmount/PRO_12-123/tiling/01OV007-9b90eb78-2f50-4aeb-b010-d642f9/saved_tiles/01OV007-9b90eb78-2f50-4aeb-b010-d642f9.tiles.h5',\n",
       " '/home/kohlia/vmount/PRO_12-123/tiling/01OV007-9b90eb78-2f50-4aeb-b010-d642f9/saved_tiles/01OV007-9b90eb78-2f50-4aeb-b010-d642f9.tiles.h5',\n",
       " '/home/kohlia/vmount/PRO_12-123/tiling/01OV007-9b90eb78-2f50-4aeb-b010-d642f9/saved_tiles/01OV007-9b90eb78-2f50-4aeb-b010-d642f9.tiles.h5',\n",
       " '/home/kohlia/vmount/PRO_12-123/tiling/01OV007-9b90eb78-2f50-4aeb-b010-d642f9/saved_tiles/01OV007-9b90eb78-2f50-4aeb-b010-d642f9.tiles.h5',\n",
       " '/home/kohlia/vmount/PRO_12-123/tiling/01OV007-9b90eb78-2f50-4aeb-b010-d642f9/saved_tiles/01OV007-9b90eb78-2f50-4aeb-b010-d642f9.tiles.h5',\n",
       " '/home/kohlia/vmount/PRO_12-123/tiling/01OV007-9b90eb78-2f50-4aeb-b010-d642f9/saved_tiles/01OV007-9b90eb78-2f50-4aeb-b010-d642f9.tiles.h5',\n",
       " '/home/kohlia/vmount/PRO_12-123/tiling/01OV007-9b90eb78-2f50-4aeb-b010-d642f9/saved_tiles/01OV007-9b90eb78-2f50-4aeb-b010-d642f9.tiles.h5',\n",
       " '/home/kohlia/vmount/PRO_12-123/tiling/01OV007-9b90eb78-2f50-4aeb-b010-d642f9/saved_tiles/01OV007-9b90eb78-2f50-4aeb-b010-d642f9.tiles.h5',\n",
       " '/home/kohlia/vmount/PRO_12-123/tiling/01OV007-9b90eb78-2f50-4aeb-b010-d642f9/saved_tiles/01OV007-9b90eb78-2f50-4aeb-b010-d642f9.tiles.h5',\n",
       " '/home/kohlia/vmount/PRO_12-123/tiling/01OV007-9b90eb78-2f50-4aeb-b010-d642f9/saved_tiles/01OV007-9b90eb78-2f50-4aeb-b010-d642f9.tiles.h5',\n",
       " '/home/kohlia/vmount/PRO_12-123/tiling/01OV007-9b90eb78-2f50-4aeb-b010-d642f9/saved_tiles/01OV007-9b90eb78-2f50-4aeb-b010-d642f9.tiles.h5',\n",
       " '/home/kohlia/vmount/PRO_12-123/tiling/01OV007-9b90eb78-2f50-4aeb-b010-d642f9/saved_tiles/01OV007-9b90eb78-2f50-4aeb-b010-d642f9.tiles.h5',\n",
       " '/home/kohlia/vmount/PRO_12-123/tiling/01OV007-9b90eb78-2f50-4aeb-b010-d642f9/saved_tiles/01OV007-9b90eb78-2f50-4aeb-b010-d642f9.tiles.h5',\n",
       " '/home/kohlia/vmount/PRO_12-123/tiling/01OV007-9b90eb78-2f50-4aeb-b010-d642f9/saved_tiles/01OV007-9b90eb78-2f50-4aeb-b010-d642f9.tiles.h5',\n",
       " '/home/kohlia/vmount/PRO_12-123/tiling/01OV007-9b90eb78-2f50-4aeb-b010-d642f9/saved_tiles/01OV007-9b90eb78-2f50-4aeb-b010-d642f9.tiles.h5',\n",
       " '/home/kohlia/vmount/PRO_12-123/tiling/01OV007-9b90eb78-2f50-4aeb-b010-d642f9/saved_tiles/01OV007-9b90eb78-2f50-4aeb-b010-d642f9.tiles.h5',\n",
       " '/home/kohlia/vmount/PRO_12-123/tiling/01OV007-9b90eb78-2f50-4aeb-b010-d642f9/saved_tiles/01OV007-9b90eb78-2f50-4aeb-b010-d642f9.tiles.h5',\n",
       " '/home/kohlia/vmount/PRO_12-123/tiling/01OV007-9b90eb78-2f50-4aeb-b010-d642f9/saved_tiles/01OV007-9b90eb78-2f50-4aeb-b010-d642f9.tiles.h5',\n",
       " '/home/kohlia/vmount/PRO_12-123/tiling/01OV007-9b90eb78-2f50-4aeb-b010-d642f9/saved_tiles/01OV007-9b90eb78-2f50-4aeb-b010-d642f9.tiles.h5',\n",
       " '/home/kohlia/vmount/PRO_12-123/tiling/01OV007-9b90eb78-2f50-4aeb-b010-d642f9/saved_tiles/01OV007-9b90eb78-2f50-4aeb-b010-d642f9.tiles.h5',\n",
       " '/home/kohlia/vmount/PRO_12-123/tiling/01OV007-9b90eb78-2f50-4aeb-b010-d642f9/saved_tiles/01OV007-9b90eb78-2f50-4aeb-b010-d642f9.tiles.h5',\n",
       " '/home/kohlia/vmount/PRO_12-123/tiling/01OV007-9b90eb78-2f50-4aeb-b010-d642f9/saved_tiles/01OV007-9b90eb78-2f50-4aeb-b010-d642f9.tiles.h5',\n",
       " '/home/kohlia/vmount/PRO_12-123/tiling/01OV007-9b90eb78-2f50-4aeb-b010-d642f9/saved_tiles/01OV007-9b90eb78-2f50-4aeb-b010-d642f9.tiles.h5',\n",
       " '/home/kohlia/vmount/PRO_12-123/tiling/01OV007-9b90eb78-2f50-4aeb-b010-d642f9/saved_tiles/01OV007-9b90eb78-2f50-4aeb-b010-d642f9.tiles.h5',\n",
       " '/home/kohlia/vmount/PRO_12-123/tiling/01OV007-9b90eb78-2f50-4aeb-b010-d642f9/saved_tiles/01OV007-9b90eb78-2f50-4aeb-b010-d642f9.tiles.h5',\n",
       " '/home/kohlia/vmount/PRO_12-123/tiling/01OV007-9b90eb78-2f50-4aeb-b010-d642f9/saved_tiles/01OV007-9b90eb78-2f50-4aeb-b010-d642f9.tiles.h5',\n",
       " '/home/kohlia/vmount/PRO_12-123/tiling/01OV007-9b90eb78-2f50-4aeb-b010-d642f9/saved_tiles/01OV007-9b90eb78-2f50-4aeb-b010-d642f9.tiles.h5',\n",
       " '/home/kohlia/vmount/PRO_12-123/tiling/01OV007-9b90eb78-2f50-4aeb-b010-d642f9/saved_tiles/01OV007-9b90eb78-2f50-4aeb-b010-d642f9.tiles.h5',\n",
       " '/home/kohlia/vmount/PRO_12-123/tiling/01OV007-9b90eb78-2f50-4aeb-b010-d642f9/saved_tiles/01OV007-9b90eb78-2f50-4aeb-b010-d642f9.tiles.h5',\n",
       " '/home/kohlia/vmount/PRO_12-123/tiling/01OV007-9b90eb78-2f50-4aeb-b010-d642f9/saved_tiles/01OV007-9b90eb78-2f50-4aeb-b010-d642f9.tiles.h5',\n",
       " '/home/kohlia/vmount/PRO_12-123/tiling/01OV007-9b90eb78-2f50-4aeb-b010-d642f9/saved_tiles/01OV007-9b90eb78-2f50-4aeb-b010-d642f9.tiles.h5',\n",
       " '/home/kohlia/vmount/PRO_12-123/tiling/01OV007-9b90eb78-2f50-4aeb-b010-d642f9/saved_tiles/01OV007-9b90eb78-2f50-4aeb-b010-d642f9.tiles.h5',\n",
       " '/home/kohlia/vmount/PRO_12-123/tiling/01OV007-9b90eb78-2f50-4aeb-b010-d642f9/saved_tiles/01OV007-9b90eb78-2f50-4aeb-b010-d642f9.tiles.h5',\n",
       " '/home/kohlia/vmount/PRO_12-123/tiling/01OV007-9b90eb78-2f50-4aeb-b010-d642f9/saved_tiles/01OV007-9b90eb78-2f50-4aeb-b010-d642f9.tiles.h5',\n",
       " '/home/kohlia/vmount/PRO_12-123/tiling/01OV007-9b90eb78-2f50-4aeb-b010-d642f9/saved_tiles/01OV007-9b90eb78-2f50-4aeb-b010-d642f9.tiles.h5',\n",
       " '/home/kohlia/vmount/PRO_12-123/tiling/01OV007-9b90eb78-2f50-4aeb-b010-d642f9/saved_tiles/01OV007-9b90eb78-2f50-4aeb-b010-d642f9.tiles.h5',\n",
       " '/home/kohlia/vmount/PRO_12-123/tiling/01OV007-9b90eb78-2f50-4aeb-b010-d642f9/saved_tiles/01OV007-9b90eb78-2f50-4aeb-b010-d642f9.tiles.h5',\n",
       " '/home/kohlia/vmount/PRO_12-123/tiling/01OV007-9b90eb78-2f50-4aeb-b010-d642f9/saved_tiles/01OV007-9b90eb78-2f50-4aeb-b010-d642f9.tiles.h5',\n",
       " '/home/kohlia/vmount/PRO_12-123/tiling/01OV007-9b90eb78-2f50-4aeb-b010-d642f9/saved_tiles/01OV007-9b90eb78-2f50-4aeb-b010-d642f9.tiles.h5',\n",
       " '/home/kohlia/vmount/PRO_12-123/tiling/01OV007-9b90eb78-2f50-4aeb-b010-d642f9/saved_tiles/01OV007-9b90eb78-2f50-4aeb-b010-d642f9.tiles.h5',\n",
       " '/home/kohlia/vmount/PRO_12-123/tiling/01OV007-9b90eb78-2f50-4aeb-b010-d642f9/saved_tiles/01OV007-9b90eb78-2f50-4aeb-b010-d642f9.tiles.h5',\n",
       " '/home/kohlia/vmount/PRO_12-123/tiling/01OV007-9b90eb78-2f50-4aeb-b010-d642f9/saved_tiles/01OV007-9b90eb78-2f50-4aeb-b010-d642f9.tiles.h5',\n",
       " '/home/kohlia/vmount/PRO_12-123/tiling/01OV007-9b90eb78-2f50-4aeb-b010-d642f9/saved_tiles/01OV007-9b90eb78-2f50-4aeb-b010-d642f9.tiles.h5',\n",
       " '/home/kohlia/vmount/PRO_12-123/tiling/01OV007-9b90eb78-2f50-4aeb-b010-d642f9/saved_tiles/01OV007-9b90eb78-2f50-4aeb-b010-d642f9.tiles.h5',\n",
       " '/home/kohlia/vmount/PRO_12-123/tiling/01OV007-9b90eb78-2f50-4aeb-b010-d642f9/saved_tiles/01OV007-9b90eb78-2f50-4aeb-b010-d642f9.tiles.h5',\n",
       " '/home/kohlia/vmount/PRO_12-123/tiling/01OV007-9b90eb78-2f50-4aeb-b010-d642f9/saved_tiles/01OV007-9b90eb78-2f50-4aeb-b010-d642f9.tiles.h5',\n",
       " '/home/kohlia/vmount/PRO_12-123/tiling/01OV007-9b90eb78-2f50-4aeb-b010-d642f9/saved_tiles/01OV007-9b90eb78-2f50-4aeb-b010-d642f9.tiles.h5',\n",
       " '/home/kohlia/vmount/PRO_12-123/tiling/01OV007-9b90eb78-2f50-4aeb-b010-d642f9/saved_tiles/01OV007-9b90eb78-2f50-4aeb-b010-d642f9.tiles.h5',\n",
       " '/home/kohlia/vmount/PRO_12-123/tiling/01OV007-9b90eb78-2f50-4aeb-b010-d642f9/saved_tiles/01OV007-9b90eb78-2f50-4aeb-b010-d642f9.tiles.h5',\n",
       " '/home/kohlia/vmount/PRO_12-123/tiling/01OV007-9b90eb78-2f50-4aeb-b010-d642f9/saved_tiles/01OV007-9b90eb78-2f50-4aeb-b010-d642f9.tiles.h5',\n",
       " '/home/kohlia/vmount/PRO_12-123/tiling/01OV007-9b90eb78-2f50-4aeb-b010-d642f9/saved_tiles/01OV007-9b90eb78-2f50-4aeb-b010-d642f9.tiles.h5',\n",
       " '/home/kohlia/vmount/PRO_12-123/tiling/01OV007-9b90eb78-2f50-4aeb-b010-d642f9/saved_tiles/01OV007-9b90eb78-2f50-4aeb-b010-d642f9.tiles.h5',\n",
       " '/home/kohlia/vmount/PRO_12-123/tiling/01OV007-9b90eb78-2f50-4aeb-b010-d642f9/saved_tiles/01OV007-9b90eb78-2f50-4aeb-b010-d642f9.tiles.h5',\n",
       " '/home/kohlia/vmount/PRO_12-123/tiling/01OV007-9b90eb78-2f50-4aeb-b010-d642f9/saved_tiles/01OV007-9b90eb78-2f50-4aeb-b010-d642f9.tiles.h5',\n",
       " '/home/kohlia/vmount/PRO_12-123/tiling/01OV007-9b90eb78-2f50-4aeb-b010-d642f9/saved_tiles/01OV007-9b90eb78-2f50-4aeb-b010-d642f9.tiles.h5',\n",
       " '/home/kohlia/vmount/PRO_12-123/tiling/01OV007-9b90eb78-2f50-4aeb-b010-d642f9/saved_tiles/01OV007-9b90eb78-2f50-4aeb-b010-d642f9.tiles.h5',\n",
       " '/home/kohlia/vmount/PRO_12-123/tiling/01OV007-9b90eb78-2f50-4aeb-b010-d642f9/saved_tiles/01OV007-9b90eb78-2f50-4aeb-b010-d642f9.tiles.h5',\n",
       " '/home/kohlia/vmount/PRO_12-123/tiling/01OV007-9b90eb78-2f50-4aeb-b010-d642f9/saved_tiles/01OV007-9b90eb78-2f50-4aeb-b010-d642f9.tiles.h5',\n",
       " '/home/kohlia/vmount/PRO_12-123/tiling/01OV007-9b90eb78-2f50-4aeb-b010-d642f9/saved_tiles/01OV007-9b90eb78-2f50-4aeb-b010-d642f9.tiles.h5',\n",
       " '/home/kohlia/vmount/PRO_12-123/tiling/01OV007-9b90eb78-2f50-4aeb-b010-d642f9/saved_tiles/01OV007-9b90eb78-2f50-4aeb-b010-d642f9.tiles.h5',\n",
       " '/home/kohlia/vmount/PRO_12-123/tiling/01OV007-9b90eb78-2f50-4aeb-b010-d642f9/saved_tiles/01OV007-9b90eb78-2f50-4aeb-b010-d642f9.tiles.h5',\n",
       " '/home/kohlia/vmount/PRO_12-123/tiling/01OV007-9b90eb78-2f50-4aeb-b010-d642f9/saved_tiles/01OV007-9b90eb78-2f50-4aeb-b010-d642f9.tiles.h5',\n",
       " '/home/kohlia/vmount/PRO_12-123/tiling/01OV007-9b90eb78-2f50-4aeb-b010-d642f9/saved_tiles/01OV007-9b90eb78-2f50-4aeb-b010-d642f9.tiles.h5',\n",
       " '/home/kohlia/vmount/PRO_12-123/tiling/01OV007-9b90eb78-2f50-4aeb-b010-d642f9/saved_tiles/01OV007-9b90eb78-2f50-4aeb-b010-d642f9.tiles.h5',\n",
       " '/home/kohlia/vmount/PRO_12-123/tiling/01OV007-9b90eb78-2f50-4aeb-b010-d642f9/saved_tiles/01OV007-9b90eb78-2f50-4aeb-b010-d642f9.tiles.h5',\n",
       " '/home/kohlia/vmount/PRO_12-123/tiling/01OV007-9b90eb78-2f50-4aeb-b010-d642f9/saved_tiles/01OV007-9b90eb78-2f50-4aeb-b010-d642f9.tiles.h5',\n",
       " '/home/kohlia/vmount/PRO_12-123/tiling/01OV007-9b90eb78-2f50-4aeb-b010-d642f9/saved_tiles/01OV007-9b90eb78-2f50-4aeb-b010-d642f9.tiles.h5',\n",
       " '/home/kohlia/vmount/PRO_12-123/tiling/01OV007-9b90eb78-2f50-4aeb-b010-d642f9/saved_tiles/01OV007-9b90eb78-2f50-4aeb-b010-d642f9.tiles.h5',\n",
       " '/home/kohlia/vmount/PRO_12-123/tiling/01OV007-9b90eb78-2f50-4aeb-b010-d642f9/saved_tiles/01OV007-9b90eb78-2f50-4aeb-b010-d642f9.tiles.h5',\n",
       " '/home/kohlia/vmount/PRO_12-123/tiling/01OV007-9b90eb78-2f50-4aeb-b010-d642f9/saved_tiles/01OV007-9b90eb78-2f50-4aeb-b010-d642f9.tiles.h5',\n",
       " '/home/kohlia/vmount/PRO_12-123/tiling/01OV007-9b90eb78-2f50-4aeb-b010-d642f9/saved_tiles/01OV007-9b90eb78-2f50-4aeb-b010-d642f9.tiles.h5',\n",
       " '/home/kohlia/vmount/PRO_12-123/tiling/01OV007-9b90eb78-2f50-4aeb-b010-d642f9/saved_tiles/01OV007-9b90eb78-2f50-4aeb-b010-d642f9.tiles.h5',\n",
       " '/home/kohlia/vmount/PRO_12-123/tiling/01OV007-9b90eb78-2f50-4aeb-b010-d642f9/saved_tiles/01OV007-9b90eb78-2f50-4aeb-b010-d642f9.tiles.h5',\n",
       " '/home/kohlia/vmount/PRO_12-123/tiling/01OV007-9b90eb78-2f50-4aeb-b010-d642f9/saved_tiles/01OV007-9b90eb78-2f50-4aeb-b010-d642f9.tiles.h5',\n",
       " '/home/kohlia/vmount/PRO_12-123/tiling/01OV007-9b90eb78-2f50-4aeb-b010-d642f9/saved_tiles/01OV007-9b90eb78-2f50-4aeb-b010-d642f9.tiles.h5',\n",
       " '/home/kohlia/vmount/PRO_12-123/tiling/01OV007-9b90eb78-2f50-4aeb-b010-d642f9/saved_tiles/01OV007-9b90eb78-2f50-4aeb-b010-d642f9.tiles.h5',\n",
       " '/home/kohlia/vmount/PRO_12-123/tiling/01OV007-9b90eb78-2f50-4aeb-b010-d642f9/saved_tiles/01OV007-9b90eb78-2f50-4aeb-b010-d642f9.tiles.h5',\n",
       " '/home/kohlia/vmount/PRO_12-123/tiling/01OV007-9b90eb78-2f50-4aeb-b010-d642f9/saved_tiles/01OV007-9b90eb78-2f50-4aeb-b010-d642f9.tiles.h5',\n",
       " '/home/kohlia/vmount/PRO_12-123/tiling/01OV007-9b90eb78-2f50-4aeb-b010-d642f9/saved_tiles/01OV007-9b90eb78-2f50-4aeb-b010-d642f9.tiles.h5',\n",
       " '/home/kohlia/vmount/PRO_12-123/tiling/01OV007-9b90eb78-2f50-4aeb-b010-d642f9/saved_tiles/01OV007-9b90eb78-2f50-4aeb-b010-d642f9.tiles.h5',\n",
       " '/home/kohlia/vmount/PRO_12-123/tiling/01OV007-9b90eb78-2f50-4aeb-b010-d642f9/saved_tiles/01OV007-9b90eb78-2f50-4aeb-b010-d642f9.tiles.h5',\n",
       " '/home/kohlia/vmount/PRO_12-123/tiling/01OV007-9b90eb78-2f50-4aeb-b010-d642f9/saved_tiles/01OV007-9b90eb78-2f50-4aeb-b010-d642f9.tiles.h5',\n",
       " '/home/kohlia/vmount/PRO_12-123/tiling/01OV007-9b90eb78-2f50-4aeb-b010-d642f9/saved_tiles/01OV007-9b90eb78-2f50-4aeb-b010-d642f9.tiles.h5',\n",
       " '/home/kohlia/vmount/PRO_12-123/tiling/01OV007-9b90eb78-2f50-4aeb-b010-d642f9/saved_tiles/01OV007-9b90eb78-2f50-4aeb-b010-d642f9.tiles.h5',\n",
       " '/home/kohlia/vmount/PRO_12-123/tiling/01OV007-9b90eb78-2f50-4aeb-b010-d642f9/saved_tiles/01OV007-9b90eb78-2f50-4aeb-b010-d642f9.tiles.h5',\n",
       " '/home/kohlia/vmount/PRO_12-123/tiling/01OV007-9b90eb78-2f50-4aeb-b010-d642f9/saved_tiles/01OV007-9b90eb78-2f50-4aeb-b010-d642f9.tiles.h5',\n",
       " '/home/kohlia/vmount/PRO_12-123/tiling/01OV007-9b90eb78-2f50-4aeb-b010-d642f9/saved_tiles/01OV007-9b90eb78-2f50-4aeb-b010-d642f9.tiles.h5',\n",
       " '/home/kohlia/vmount/PRO_12-123/tiling/01OV007-9b90eb78-2f50-4aeb-b010-d642f9/saved_tiles/01OV007-9b90eb78-2f50-4aeb-b010-d642f9.tiles.h5',\n",
       " '/home/kohlia/vmount/PRO_12-123/tiling/01OV007-9b90eb78-2f50-4aeb-b010-d642f9/saved_tiles/01OV007-9b90eb78-2f50-4aeb-b010-d642f9.tiles.h5',\n",
       " '/home/kohlia/vmount/PRO_12-123/tiling/01OV007-9b90eb78-2f50-4aeb-b010-d642f9/saved_tiles/01OV007-9b90eb78-2f50-4aeb-b010-d642f9.tiles.h5',\n",
       " '/home/kohlia/vmount/PRO_12-123/tiling/01OV007-9b90eb78-2f50-4aeb-b010-d642f9/saved_tiles/01OV007-9b90eb78-2f50-4aeb-b010-d642f9.tiles.h5',\n",
       " '/home/kohlia/vmount/PRO_12-123/tiling/01OV007-9b90eb78-2f50-4aeb-b010-d642f9/saved_tiles/01OV007-9b90eb78-2f50-4aeb-b010-d642f9.tiles.h5',\n",
       " '/home/kohlia/vmount/PRO_12-123/tiling/01OV007-9b90eb78-2f50-4aeb-b010-d642f9/saved_tiles/01OV007-9b90eb78-2f50-4aeb-b010-d642f9.tiles.h5',\n",
       " '/home/kohlia/vmount/PRO_12-123/tiling/01OV007-9b90eb78-2f50-4aeb-b010-d642f9/saved_tiles/01OV007-9b90eb78-2f50-4aeb-b010-d642f9.tiles.h5',\n",
       " '/home/kohlia/vmount/PRO_12-123/tiling/01OV007-9b90eb78-2f50-4aeb-b010-d642f9/saved_tiles/01OV007-9b90eb78-2f50-4aeb-b010-d642f9.tiles.h5',\n",
       " '/home/kohlia/vmount/PRO_12-123/tiling/01OV007-9b90eb78-2f50-4aeb-b010-d642f9/saved_tiles/01OV007-9b90eb78-2f50-4aeb-b010-d642f9.tiles.h5',\n",
       " '/home/kohlia/vmount/PRO_12-123/tiling/01OV007-9b90eb78-2f50-4aeb-b010-d642f9/saved_tiles/01OV007-9b90eb78-2f50-4aeb-b010-d642f9.tiles.h5',\n",
       " '/home/kohlia/vmount/PRO_12-123/tiling/01OV007-9b90eb78-2f50-4aeb-b010-d642f9/saved_tiles/01OV007-9b90eb78-2f50-4aeb-b010-d642f9.tiles.h5',\n",
       " '/home/kohlia/vmount/PRO_12-123/tiling/01OV007-9b90eb78-2f50-4aeb-b010-d642f9/saved_tiles/01OV007-9b90eb78-2f50-4aeb-b010-d642f9.tiles.h5',\n",
       " '/home/kohlia/vmount/PRO_12-123/tiling/01OV007-9b90eb78-2f50-4aeb-b010-d642f9/saved_tiles/01OV007-9b90eb78-2f50-4aeb-b010-d642f9.tiles.h5',\n",
       " '/home/kohlia/vmount/PRO_12-123/tiling/01OV007-9b90eb78-2f50-4aeb-b010-d642f9/saved_tiles/01OV007-9b90eb78-2f50-4aeb-b010-d642f9.tiles.h5',\n",
       " '/home/kohlia/vmount/PRO_12-123/tiling/01OV007-9b90eb78-2f50-4aeb-b010-d642f9/saved_tiles/01OV007-9b90eb78-2f50-4aeb-b010-d642f9.tiles.h5',\n",
       " '/home/kohlia/vmount/PRO_12-123/tiling/01OV007-9b90eb78-2f50-4aeb-b010-d642f9/saved_tiles/01OV007-9b90eb78-2f50-4aeb-b010-d642f9.tiles.h5',\n",
       " '/home/kohlia/vmount/PRO_12-123/tiling/01OV007-9b90eb78-2f50-4aeb-b010-d642f9/saved_tiles/01OV007-9b90eb78-2f50-4aeb-b010-d642f9.tiles.h5',\n",
       " '/home/kohlia/vmount/PRO_12-123/tiling/01OV007-9b90eb78-2f50-4aeb-b010-d642f9/saved_tiles/01OV007-9b90eb78-2f50-4aeb-b010-d642f9.tiles.h5',\n",
       " '/home/kohlia/vmount/PRO_12-123/tiling/01OV007-9b90eb78-2f50-4aeb-b010-d642f9/saved_tiles/01OV007-9b90eb78-2f50-4aeb-b010-d642f9.tiles.h5',\n",
       " '/home/kohlia/vmount/PRO_12-123/tiling/01OV007-9b90eb78-2f50-4aeb-b010-d642f9/saved_tiles/01OV007-9b90eb78-2f50-4aeb-b010-d642f9.tiles.h5',\n",
       " '/home/kohlia/vmount/PRO_12-123/tiling/01OV007-9b90eb78-2f50-4aeb-b010-d642f9/saved_tiles/01OV007-9b90eb78-2f50-4aeb-b010-d642f9.tiles.h5',\n",
       " '/home/kohlia/vmount/PRO_12-123/tiling/01OV007-9b90eb78-2f50-4aeb-b010-d642f9/saved_tiles/01OV007-9b90eb78-2f50-4aeb-b010-d642f9.tiles.h5',\n",
       " '/home/kohlia/vmount/PRO_12-123/tiling/01OV007-9b90eb78-2f50-4aeb-b010-d642f9/saved_tiles/01OV007-9b90eb78-2f50-4aeb-b010-d642f9.tiles.h5',\n",
       " '/home/kohlia/vmount/PRO_12-123/tiling/01OV007-9b90eb78-2f50-4aeb-b010-d642f9/saved_tiles/01OV007-9b90eb78-2f50-4aeb-b010-d642f9.tiles.h5',\n",
       " '/home/kohlia/vmount/PRO_12-123/tiling/01OV007-9b90eb78-2f50-4aeb-b010-d642f9/saved_tiles/01OV007-9b90eb78-2f50-4aeb-b010-d642f9.tiles.h5',\n",
       " '/home/kohlia/vmount/PRO_12-123/tiling/01OV007-9b90eb78-2f50-4aeb-b010-d642f9/saved_tiles/01OV007-9b90eb78-2f50-4aeb-b010-d642f9.tiles.h5',\n",
       " '/home/kohlia/vmount/PRO_12-123/tiling/01OV007-9b90eb78-2f50-4aeb-b010-d642f9/saved_tiles/01OV007-9b90eb78-2f50-4aeb-b010-d642f9.tiles.h5',\n",
       " '/home/kohlia/vmount/PRO_12-123/tiling/01OV007-9b90eb78-2f50-4aeb-b010-d642f9/saved_tiles/01OV007-9b90eb78-2f50-4aeb-b010-d642f9.tiles.h5',\n",
       " '/home/kohlia/vmount/PRO_12-123/tiling/01OV007-9b90eb78-2f50-4aeb-b010-d642f9/saved_tiles/01OV007-9b90eb78-2f50-4aeb-b010-d642f9.tiles.h5',\n",
       " '/home/kohlia/vmount/PRO_12-123/tiling/01OV007-9b90eb78-2f50-4aeb-b010-d642f9/saved_tiles/01OV007-9b90eb78-2f50-4aeb-b010-d642f9.tiles.h5',\n",
       " '/home/kohlia/vmount/PRO_12-123/tiling/01OV007-9b90eb78-2f50-4aeb-b010-d642f9/saved_tiles/01OV007-9b90eb78-2f50-4aeb-b010-d642f9.tiles.h5',\n",
       " '/home/kohlia/vmount/PRO_12-123/tiling/01OV007-9b90eb78-2f50-4aeb-b010-d642f9/saved_tiles/01OV007-9b90eb78-2f50-4aeb-b010-d642f9.tiles.h5',\n",
       " '/home/kohlia/vmount/PRO_12-123/tiling/01OV007-9b90eb78-2f50-4aeb-b010-d642f9/saved_tiles/01OV007-9b90eb78-2f50-4aeb-b010-d642f9.tiles.h5',\n",
       " '/home/kohlia/vmount/PRO_12-123/tiling/01OV007-9b90eb78-2f50-4aeb-b010-d642f9/saved_tiles/01OV007-9b90eb78-2f50-4aeb-b010-d642f9.tiles.h5',\n",
       " '/home/kohlia/vmount/PRO_12-123/tiling/01OV007-9b90eb78-2f50-4aeb-b010-d642f9/saved_tiles/01OV007-9b90eb78-2f50-4aeb-b010-d642f9.tiles.h5',\n",
       " '/home/kohlia/vmount/PRO_12-123/tiling/01OV007-9b90eb78-2f50-4aeb-b010-d642f9/saved_tiles/01OV007-9b90eb78-2f50-4aeb-b010-d642f9.tiles.h5',\n",
       " '/home/kohlia/vmount/PRO_12-123/tiling/01OV007-9b90eb78-2f50-4aeb-b010-d642f9/saved_tiles/01OV007-9b90eb78-2f50-4aeb-b010-d642f9.tiles.h5',\n",
       " '/home/kohlia/vmount/PRO_12-123/tiling/01OV007-9b90eb78-2f50-4aeb-b010-d642f9/saved_tiles/01OV007-9b90eb78-2f50-4aeb-b010-d642f9.tiles.h5',\n",
       " '/home/kohlia/vmount/PRO_12-123/tiling/01OV007-9b90eb78-2f50-4aeb-b010-d642f9/saved_tiles/01OV007-9b90eb78-2f50-4aeb-b010-d642f9.tiles.h5',\n",
       " '/home/kohlia/vmount/PRO_12-123/tiling/01OV007-9b90eb78-2f50-4aeb-b010-d642f9/saved_tiles/01OV007-9b90eb78-2f50-4aeb-b010-d642f9.tiles.h5',\n",
       " '/home/kohlia/vmount/PRO_12-123/tiling/01OV007-9b90eb78-2f50-4aeb-b010-d642f9/saved_tiles/01OV007-9b90eb78-2f50-4aeb-b010-d642f9.tiles.h5',\n",
       " '/home/kohlia/vmount/PRO_12-123/tiling/01OV007-9b90eb78-2f50-4aeb-b010-d642f9/saved_tiles/01OV007-9b90eb78-2f50-4aeb-b010-d642f9.tiles.h5',\n",
       " '/home/kohlia/vmount/PRO_12-123/tiling/01OV007-9b90eb78-2f50-4aeb-b010-d642f9/saved_tiles/01OV007-9b90eb78-2f50-4aeb-b010-d642f9.tiles.h5',\n",
       " '/home/kohlia/vmount/PRO_12-123/tiling/01OV007-9b90eb78-2f50-4aeb-b010-d642f9/saved_tiles/01OV007-9b90eb78-2f50-4aeb-b010-d642f9.tiles.h5',\n",
       " ...]"
      ]
     },
     "execution_count": 12,
     "metadata": {},
     "output_type": "execute_result"
    }
   ],
   "source": [
    "import pandas as pd\n",
    "df_tiles = pd.read_parquet(\"~/vmount/PRO_12-123/datasets/PRO_TILES_LABLED/\").query(\"intersection_area > 0\")\n",
    "print (df_tiles['regional_label'].value_counts())\n",
    "df_tiles['tile_store'].to_list()"
   ]
  },
  {
   "cell_type": "markdown",
   "metadata": {},
   "source": [
    "Congratulations! Now you have 2120 tumor, 860 stroma, and 751 fat tiles images and labels ready to train your model."
   ]
  }
 ],
 "metadata": {
  "kernelspec": {
   "display_name": "Python 3 (ipykernel)",
   "language": "python",
   "name": "python3"
  },
  "language_info": {
   "codemirror_mode": {
    "name": "ipython",
    "version": 3
   },
   "file_extension": ".py",
   "mimetype": "text/x-python",
   "name": "python",
   "nbconvert_exporter": "python",
   "pygments_lexer": "ipython3",
   "version": "3.9.12"
  }
 },
 "nbformat": 4,
 "nbformat_minor": 4
}
