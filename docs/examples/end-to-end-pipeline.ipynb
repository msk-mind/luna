{
 "cells": [
  {
   "cell_type": "markdown",
   "metadata": {},
   "source": [
    "# Snakemake End-To-End Tutorial\n",
    "\n",
    "Hello, and welcome to the end-to-end tutorial! In this notebook, we will explore the workflow as a pipeline stitched together using the Snakemake software. By the end of the tutorial, you will be able to run the same workflow explored in the previous notebooks using just one command on your terminal. Although this seems ambitious, it is quite possible using Snakemake. Here are the steps we will review:\n",
    "\n",
    "- About Snakemake\n",
    "- Set up the project directory\n",
    "- Set up virtual environment\n",
    "- Set up repository and installations\n",
    "- Review the Snakefile\n",
    "- Run pipeline using Snakemake\n",
    "- Additional features\n",
    "\n",
    "Note that this tutorial assumes that you have already completed the pipeline notebook series. If not, you must download the toy data set and change the config files to reflect the new location of your data. This notebook is estimated to take just under 30 minutes to complete."
   ]
  },
  {
   "cell_type": "markdown",
   "metadata": {},
   "source": [
    "## About Snakemake\n",
    "\n",
    "[Snakemake](https://snakemake.readthedocs.io/en/stable/) is a workflow management software that allows users to build pipelines that can be represented using directed acyclic graphs.\n",
    "\n",
    "The basic workflow unit of Snakemake is a `rule`, defined most simply by an input, an output, and a shell command or script used to translate the input into the output. Every Snakemake project requires one `Snakefile`, which contains all of the rules for the project. By design, Snakemake will only run the first rule specified in the Snakefile. If an input to this first rule does not already exist in the project space, Snakemake will refer to other rules in the Snakefile in order to determine which sequence of rules must be run in order to produce the missing input. Given this design structure, before executing the workflow, Snakemake is able to build a directed acyclic graph in order to determine the order of the rules and any concurrencies that may persist in the pipeline (i.e. rules may be run simultaneously, rather than sequentially, if their inputs and outputs do not rely on one another). This greatly saves time in the execution process. Moreover, with this design system, it becomes quite easy to only execute part of a workflow instead of the entire process."
   ]
  },
  {
   "cell_type": "markdown",
   "metadata": {},
   "source": [
    "## Set up the project directory\n",
    "\n",
    "Because you have already completed the step-by-step pipeline project in the `PRO_12-123` directory, we will demonstrate how to complete it in an entirely new directory called `snakemake`."
   ]
  },
  {
   "cell_type": "code",
   "execution_count": 74,
   "metadata": {},
   "outputs": [],
   "source": [
    "%%bash\n",
    "\n",
    "mkdir snakemake\n",
    "cd snakemake\n",
    "mkdir outputs\n",
    "mkdir logs\n",
    "mkdir model\n",
    "mkdir data\n",
    "mkdir model/outputs\n",
    "cp -r ../configs/snakemake-configs/scripts scripts"
   ]
  },
  {
   "cell_type": "markdown",
   "metadata": {},
   "source": [
    "We will use slightly modified config files for this project. Note that these configs are nearly identical to the ones that you previously used for the pipeline, but certain output destinations are modified to redirect to the snakemake folder. These new configs can be found in the `configs/snakemake-configs` folder."
   ]
  },
  {
   "cell_type": "markdown",
   "metadata": {},
   "source": [
    "We will also copy the toy dataset into this new project space."
   ]
  },
  {
   "cell_type": "code",
   "execution_count": 75,
   "metadata": {},
   "outputs": [],
   "source": [
    "%%bash\n",
    "\n",
    "cp -r PRO_12-123/data/toy_data_set snakemake/data/snakemake_toy_data_set"
   ]
  },
  {
   "cell_type": "markdown",
   "metadata": {},
   "source": [
    "## Set up virtual environment\n",
    "\n",
    "It is critical to note that one is not able to do a full installation of the Snakemake software on Windows (for reference: https://snakemake.readthedocs.io/en/stable/getting_started/installation.html). We will install Snakemake with a minimal installation using pip.\n",
    "\n",
    "The following cell will create and activate your virtual environment, upgrade the pip package manager, and register your virtual environment with JupyterLab. These steps were taken directly from the `setup.ipynb` notebook.\n",
    "\n",
    "Open a terminal in your Jupyter Lab environment by selecting File -> New -> Terminal and execute the following commands. It is assumed that your default python environment on the host system has python3-venv installed (sudo apt-get install python3-venv -y)."
   ]
  },
  {
   "cell_type": "raw",
   "metadata": {},
   "source": [
    "# change directory to your tutorial directory\n",
    "cd /gpfs/mskmindhdp_emc/user/shared_data_folder/pathology-tutorial/snakemake\n",
    "\n",
    "# create the virtual environment\n",
    "python3 -m venv venv-snakemake\n",
    "\n",
    "# activate the virtual environment\n",
    "source venv-snakemake/bin/activate \n",
    "\n",
    "# upgrade pip\n",
    "python3 -m pip install --upgrade pip\n",
    "\n",
    "# install ipykernel\n",
    "pip install ipykernel\n",
    "\n",
    "# install snakemake\n",
    "pip install snakemake\n",
    "\n",
    "# Register this env with jupyter lab. It’ll now show up in the\n",
    "# launcher & kernels list once you refresh the page\n",
    "python -m ipykernel install --user --name venv-snakemake --display-name \"venv-snakemake\"\n",
    "\n",
    "# List kernels to ensure it was created successfully\n",
    "jupyter kernelspec list"
   ]
  },
  {
   "cell_type": "markdown",
   "metadata": {},
   "source": [
    "Now, apply the new kernel to your notebook by first selecting the default kernel (which is typically \"Python 3\") and then selecting your new kernel \"venv-snakemake\" from the drop-down list. **NOTE:** It may take a minute for the drop-down list to update. You may refresh the browser instead. \n",
    "\n",
    "Any python packages you pip install through the jupyter environment will now persist only in this environment."
   ]
  },
  {
   "cell_type": "markdown",
   "metadata": {},
   "source": [
    "## Set up repository and installations"
   ]
  },
  {
   "cell_type": "markdown",
   "metadata": {},
   "source": [
    "At this point, make sure that you are in the new virtual environment that you just set up. You should see the name of the environment in parenthesis on the left-hand side of your command line prompt. Still in your terminal, you must clone into the repository and copy the `classifier` folder as well as the `Snakefile` into the repository. To do so, run the following commands:"
   ]
  },
  {
   "cell_type": "code",
   "execution_count": 76,
   "metadata": {},
   "outputs": [
    {
     "name": "stdout",
     "output_type": "stream",
     "text": [
      "Cloning into 'data-processing'...\n"
     ]
    },
    {
     "name": "stderr",
     "output_type": "stream",
     "text": [
      "Checking out files: 100% (615/615), done.\n"
     ]
    }
   ],
   "source": [
    "%%bash\n",
    "\n",
    "cd snakemake\n",
    "git clone https://github.com/msk-mind/data-processing.git \n",
    "cp ../configs/snakemake-configs/Snakefile data-processing/Snakefile\n",
    "cp -r ../classifier data-processing/classifier"
   ]
  },
  {
   "cell_type": "markdown",
   "metadata": {},
   "source": [
    "Finally, you must install the dependencies required by the classifier code and the repository. Run the following in your terminal:"
   ]
  },
  {
   "cell_type": "raw",
   "metadata": {},
   "source": [
    "cd data-processing/\n",
    "pip install -e . \n",
    "cd  classifier\n",
    "pip install -r requirements.txt"
   ]
  },
  {
   "cell_type": "markdown",
   "metadata": {},
   "source": [
    "Lastly, we will set some environment variables to ensure that this project will run smoothly. Still in your terminal, run:"
   ]
  },
  {
   "cell_type": "raw",
   "metadata": {},
   "source": [
    "export PYTHONPATH='/opt/spark-3.0.0-bin-hadoop3.2/python/'"
   ]
  },
  {
   "cell_type": "markdown",
   "metadata": {},
   "source": [
    "At this point, you should have all the necessary installations and setup within your project space. You are ready to review the Snakefile!"
   ]
  },
  {
   "cell_type": "markdown",
   "metadata": {},
   "source": [
    "## Review the Snakefile\n",
    "\n",
    "Before running the Snakemake software, it would be useful to review the contents of the Snakefile. Note that the first rule of the Snakefile, which is by design the only rule that Snakemake will run on, is titled `rule all`. The Snakemake software will attempt to create every input necessary for this rule in order to execute the workflow. In this case, we only have one two inputs: `../outputs/visualize_tiles.done` and `../outputs/infer_tiles.done`. This is because these are the two tasks that we wish to accomplish at the end of our pipeline. Snakemake will search for ways to produce these inputs given the other rules in the Snakefile.\n",
    "\n",
    "The subsequent rules should look very familiar to you if you completed the full end-to-end notebook series. Each of the steps in the pipeline appear as rules in this Snakefile, with a few modifications. Sometimes, shell commands are run to translate inputs into outputs; other times, python scripts are run instead. Each rule creates a file entitled `../outputs/rule.done` to signify the completion of the rule.\n",
    "\n",
    "Note that the `update_patient_ids` rule associates spoof id's to each of the slides. If you intend to run a different analysis using the Snakemake pipeline, be sure to update this rule to include a script that associates your slides with the correct patient ids for your research.\n",
    "\n",
    "In order to get an idea for what will happen when you run the software, we will execute a \"dry run\" of our project. In your terminal, navigate to the `data-processing` folder that you just cloned (the folder in which the Snakefile is located) and run the following command:"
   ]
  },
  {
   "cell_type": "code",
   "execution_count": 77,
   "metadata": {},
   "outputs": [
    {
     "name": "stdout",
     "output_type": "stream",
     "text": [
      "\u001b[33mBuilding DAG of jobs...\u001b[0m\n",
      "\u001b[33mJob stats:\n",
      "job                     count    min threads    max threads\n",
      "--------------------  -------  -------------  -------------\n",
      "all                         1              1              1\n",
      "collect_tiles_train         1              1              1\n",
      "generate_tiles_test         1              1              1\n",
      "generate_tiles_train        1              1              1\n",
      "infer_tiles                 1              1              1\n",
      "load_slides                 1              1              1\n",
      "train_model                 1              1              1\n",
      "update_patient_ids          1              1              1\n",
      "visualize_tiles             1              1              1\n",
      "total                       9              1              1\n",
      "\u001b[0m\n",
      "\u001b[32m\u001b[0m\n",
      "\u001b[32m[Tue Aug 10 09:34:34 2021]\u001b[0m\n",
      "\u001b[32mrule update_patient_ids:\n",
      "    input: /gpfs/mskmindhdp_emc/user/shared_data_folder/pathology-tutorial/configs/snakemake-configs/project_slides.csv\n",
      "    output: ../outputs/update_patient_ids.done\n",
      "    log: ../logs/update_patient_ids.log\n",
      "    jobid: 6\n",
      "    resources: tmpdir=/tmp\u001b[0m\n",
      "\u001b[32m\u001b[0m\n",
      "\u001b[32m[Tue Aug 10 09:34:34 2021]\u001b[0m\n",
      "\u001b[32mrule load_slides:\n",
      "    input: ../outputs/update_patient_ids.done\n",
      "    output: ../tiles/2551571/ov_slides/WholeSlideImage, ../outputs/load_slides.done\n",
      "    log: ../logs/load_slides.log\n",
      "    jobid: 5\n",
      "    resources: tmpdir=/tmp\u001b[0m\n",
      "\u001b[32m\u001b[0m\n",
      "\u001b[32m[Tue Aug 10 09:34:34 2021]\u001b[0m\n",
      "\u001b[32mrule generate_tiles_train:\n",
      "    input: ../tiles/2551571/ov_slides/WholeSlideImage\n",
      "    output: ../outputs/generate_tiles_train.done, ../tiles/2551571/ov_default_labels/TileImages/data\n",
      "    log: ../logs/generate_tiles_train.log\n",
      "    jobid: 4\n",
      "    resources: tmpdir=/tmp\u001b[0m\n",
      "\u001b[32m\u001b[0m\n",
      "\u001b[32m[Tue Aug 10 09:34:34 2021]\u001b[0m\n",
      "\u001b[32mrule generate_tiles_test:\n",
      "    input: ../tiles/2551571/ov_slides/WholeSlideImage\n",
      "    output: ../outputs/generate_tiles_test.done, ../tiles/2551129/ov_default_labels/TileImages/data\n",
      "    log: ../logs/generate_tiles_test.log\n",
      "    jobid: 7\n",
      "    resources: tmpdir=/tmp\u001b[0m\n",
      "\u001b[32m\u001b[0m\n",
      "\u001b[33mgenerate_tiles -a ../../configs/snakemake-configs/app_config.yaml -s 2551129 -m ../../configs/snakemake-configs/generate_tiles_test.yaml\u001b[0m\n",
      "\u001b[32m\u001b[0m\n",
      "\u001b[32m[Tue Aug 10 09:34:34 2021]\u001b[0m\n",
      "\u001b[32mrule collect_tiles_train:\n",
      "    input: ../tiles/2551571/ov_default_labels/TileImages/data\n",
      "    output: ../outputs/collect_tiles_train.done\n",
      "    log: ../logs/collect_tiles_train.log\n",
      "    jobid: 3\n",
      "    resources: tmpdir=/tmp\u001b[0m\n",
      "\u001b[32m\u001b[0m\n",
      "\u001b[32m[Tue Aug 10 09:34:34 2021]\u001b[0m\n",
      "\u001b[32mrule train_model:\n",
      "    input: ../outputs/collect_tiles_train.done\n",
      "    output: ../outputs/train_model.done, ../model/outputs/ckpts\n",
      "    log: ../logs/train_model.log\n",
      "    jobid: 2\n",
      "    resources: tmpdir=/tmp\u001b[0m\n",
      "\u001b[32m\u001b[0m\n",
      "\u001b[32m[Tue Aug 10 09:34:34 2021]\u001b[0m\n",
      "\u001b[32mrule infer_tiles:\n",
      "    input: ../model/outputs/ckpts, ../tiles/2551129/ov_default_labels/TileImages/data\n",
      "    output: ../outputs/infer_tiles.done\n",
      "    log: ../logs/infer_tiles.log\n",
      "    jobid: 8\n",
      "    resources: tmpdir=/tmp\u001b[0m\n",
      "\u001b[32m\u001b[0m\n",
      "\u001b[33minfer_tiles -a ../../configs/snakemake-configs/app_config.yaml -s 2551129 -m ../../configs/snakemake-configs/infer_tiles.yaml\u001b[0m\n",
      "\u001b[32m\u001b[0m\n",
      "\u001b[32m[Tue Aug 10 09:34:34 2021]\u001b[0m\n",
      "\u001b[32mrule visualize_tiles:\n",
      "    input: ../model/outputs/ckpts, ../tiles/2551129/ov_default_labels/TileImages/data\n",
      "    output: ../outputs/visualize_tiles.done\n",
      "    log: ../logs/visualize_tiles.log\n",
      "    jobid: 1\n",
      "    resources: tmpdir=/tmp\u001b[0m\n",
      "\u001b[32m\u001b[0m\n",
      "\u001b[33mvisualize_tiles -a ../../configs/snakemake-configs/app_config.yaml -s 2551129 -m ../../configs/snakemake-configs/visualize_tiles.yaml\u001b[0m\n",
      "\u001b[32m\u001b[0m\n",
      "\u001b[32m[Tue Aug 10 09:34:34 2021]\u001b[0m\n",
      "\u001b[32mlocalrule all:\n",
      "    input: ../outputs/visualize_tiles.done, ../outputs/infer_tiles.done\n",
      "    jobid: 0\n",
      "    resources: tmpdir=/tmp\u001b[0m\n",
      "\u001b[32m\u001b[0m\n",
      "\u001b[33mJob stats:\n",
      "job                     count    min threads    max threads\n",
      "--------------------  -------  -------------  -------------\n",
      "all                         1              1              1\n",
      "collect_tiles_train         1              1              1\n",
      "generate_tiles_test         1              1              1\n",
      "generate_tiles_train        1              1              1\n",
      "infer_tiles                 1              1              1\n",
      "load_slides                 1              1              1\n",
      "train_model                 1              1              1\n",
      "update_patient_ids          1              1              1\n",
      "visualize_tiles             1              1              1\n",
      "total                       9              1              1\n",
      "\u001b[0m\n",
      "\u001b[33mThis was a dry-run (flag -n). The order of jobs does not reflect the order of execution.\u001b[0m\n"
     ]
    }
   ],
   "source": [
    "!cd snakemake/data-processing && snakemake -np"
   ]
  },
  {
   "cell_type": "markdown",
   "metadata": {},
   "source": [
    "You should see a series of rules that rely on one another; the order of the rules should be reminiscent of the order of these steps in the full end-to-end notebook series that you completed. To see these rules represented as an acyclic graph, run the following command in the terminal:"
   ]
  },
  {
   "cell_type": "markdown",
   "metadata": {},
   "source": [
    "To create the directed acyclic graph directly from the notebook, run the following command:"
   ]
  },
  {
   "cell_type": "code",
   "execution_count": 78,
   "metadata": {},
   "outputs": [
    {
     "name": "stdout",
     "output_type": "stream",
     "text": [
      "\u001b[33mBuilding DAG of jobs...\u001b[0m\n"
     ]
    }
   ],
   "source": [
    "import graphviz\n",
    "import snakemake\n",
    "\n",
    "!cd snakemake/data-processing/ && snakemake --dag --cores 1 | dot -Tsvg > ../dag.svg"
   ]
  },
  {
   "cell_type": "markdown",
   "metadata": {},
   "source": [
    "Let's take a look at what the directed acyclic graph for our pipeline looks like."
   ]
  },
  {
   "cell_type": "code",
   "execution_count": 79,
   "metadata": {},
   "outputs": [
    {
     "data": {
      "image/svg+xml": [
       "<svg height=\"476pt\" viewBox=\"0.00 0.00 222.00 476.00\" width=\"222pt\" xmlns=\"http://www.w3.org/2000/svg\" xmlns:xlink=\"http://www.w3.org/1999/xlink\">\n",
       "<g class=\"graph\" id=\"graph0\" transform=\"scale(1 1) rotate(0) translate(4 472)\">\n",
       "<title>snakemake_dag</title>\n",
       "<polygon fill=\"white\" points=\"-4,5 -4,-472 219,-472 219,5 -4,5\" stroke=\"white\"/>\n",
       "<!-- 0 -->\n",
       "<g class=\"node\" id=\"node1\"><title>0</title>\n",
       "<path d=\"M118,-36C118,-36 88,-36 88,-36 82,-36 76,-30 76,-24 76,-24 76,-12 76,-12 76,-6 82,-0 88,-0 88,-0 118,-0 118,-0 124,-0 130,-6 130,-12 130,-12 130,-24 130,-24 130,-30 124,-36 118,-36\" fill=\"none\" stroke=\"#70d856\" stroke-width=\"2\"/>\n",
       "<text font-family=\"sans\" font-size=\"10.00\" text-anchor=\"middle\" x=\"103\" y=\"-15.5\">all</text>\n",
       "</g>\n",
       "<!-- 1 -->\n",
       "<g class=\"node\" id=\"node2\"><title>1</title>\n",
       "<path d=\"M87,-108C87,-108 25,-108 25,-108 19,-108 13,-102 13,-96 13,-96 13,-84 13,-84 13,-78 19,-72 25,-72 25,-72 87,-72 87,-72 93,-72 99,-78 99,-84 99,-84 99,-96 99,-96 99,-102 93,-108 87,-108\" fill=\"none\" stroke=\"#56b1d8\" stroke-width=\"2\"/>\n",
       "<text font-family=\"sans\" font-size=\"10.00\" text-anchor=\"middle\" x=\"56\" y=\"-87.5\">visualize_tiles</text>\n",
       "</g>\n",
       "<!-- 1&#45;&gt;0 -->\n",
       "<g class=\"edge\" id=\"edge1\"><title>1-&gt;0</title>\n",
       "<path d=\"M67.618,-71.6966C73.1388,-63.4741 79.847,-53.4832 85.9318,-44.4207\" fill=\"none\" stroke=\"grey\" stroke-width=\"2\"/>\n",
       "<polygon fill=\"grey\" points=\"88.8471,-46.3576 91.5157,-36.1043 83.0355,-42.4555 88.8471,-46.3576\" stroke=\"grey\"/>\n",
       "</g>\n",
       "<!-- 2 -->\n",
       "<g class=\"node\" id=\"node3\"><title>2</title>\n",
       "<path d=\"M73.25,-180C73.25,-180 22.75,-180 22.75,-180 16.75,-180 10.75,-174 10.75,-168 10.75,-168 10.75,-156 10.75,-156 10.75,-150 16.75,-144 22.75,-144 22.75,-144 73.25,-144 73.25,-144 79.25,-144 85.25,-150 85.25,-156 85.25,-156 85.25,-168 85.25,-168 85.25,-174 79.25,-180 73.25,-180\" fill=\"none\" stroke=\"#56d86b\" stroke-width=\"2\"/>\n",
       "<text font-family=\"sans\" font-size=\"10.00\" text-anchor=\"middle\" x=\"48\" y=\"-159.5\">train_model</text>\n",
       "</g>\n",
       "<!-- 2&#45;&gt;1 -->\n",
       "<g class=\"edge\" id=\"edge3\"><title>2-&gt;1</title>\n",
       "<path d=\"M49.9775,-143.697C50.8591,-135.983 51.9186,-126.712 52.9014,-118.112\" fill=\"none\" stroke=\"grey\" stroke-width=\"2\"/>\n",
       "<polygon fill=\"grey\" points=\"56.387,-118.437 54.0452,-108.104 49.4323,-117.642 56.387,-118.437\" stroke=\"grey\"/>\n",
       "</g>\n",
       "<!-- 8 -->\n",
       "<g class=\"node\" id=\"node9\"><title>8</title>\n",
       "<path d=\"M170.25,-108C170.25,-108 129.75,-108 129.75,-108 123.75,-108 117.75,-102 117.75,-96 117.75,-96 117.75,-84 117.75,-84 117.75,-78 123.75,-72 129.75,-72 129.75,-72 170.25,-72 170.25,-72 176.25,-72 182.25,-78 182.25,-84 182.25,-84 182.25,-96 182.25,-96 182.25,-102 176.25,-108 170.25,-108\" fill=\"none\" stroke=\"#9fd856\" stroke-width=\"2\"/>\n",
       "<text font-family=\"sans\" font-size=\"10.00\" text-anchor=\"middle\" x=\"150\" y=\"-87.5\">infer_tiles</text>\n",
       "</g>\n",
       "<!-- 2&#45;&gt;8 -->\n",
       "<g class=\"edge\" id=\"edge10\"><title>2-&gt;8</title>\n",
       "<path d=\"M72.952,-143.876C86.0415,-134.893 102.26,-123.763 116.436,-114.034\" fill=\"none\" stroke=\"grey\" stroke-width=\"2\"/>\n",
       "<polygon fill=\"grey\" points=\"118.687,-116.734 124.952,-108.19 114.726,-110.962 118.687,-116.734\" stroke=\"grey\"/>\n",
       "</g>\n",
       "<!-- 3 -->\n",
       "<g class=\"node\" id=\"node4\"><title>3</title>\n",
       "<path d=\"M90.25,-252C90.25,-252 11.75,-252 11.75,-252 5.75,-252 -0.25,-246 -0.25,-240 -0.25,-240 -0.25,-228 -0.25,-228 -0.25,-222 5.75,-216 11.75,-216 11.75,-216 90.25,-216 90.25,-216 96.25,-216 102.25,-222 102.25,-228 102.25,-228 102.25,-240 102.25,-240 102.25,-246 96.25,-252 90.25,-252\" fill=\"none\" stroke=\"#5682d8\" stroke-width=\"2\"/>\n",
       "<text font-family=\"sans\" font-size=\"10.00\" text-anchor=\"middle\" x=\"51\" y=\"-231.5\">collect_tiles_train</text>\n",
       "</g>\n",
       "<!-- 3&#45;&gt;2 -->\n",
       "<g class=\"edge\" id=\"edge5\"><title>3-&gt;2</title>\n",
       "<path d=\"M50.2584,-215.697C49.9278,-207.983 49.5305,-198.712 49.162,-190.112\" fill=\"none\" stroke=\"grey\" stroke-width=\"2\"/>\n",
       "<polygon fill=\"grey\" points=\"52.6581,-189.945 48.733,-180.104 45.6645,-190.245 52.6581,-189.945\" stroke=\"grey\"/>\n",
       "</g>\n",
       "<!-- 4 -->\n",
       "<g class=\"node\" id=\"node5\"><title>4</title>\n",
       "<path d=\"M102,-324C102,-324 12,-324 12,-324 6,-324 0,-318 0,-312 0,-312 0,-300 0,-300 0,-294 6,-288 12,-288 12,-288 102,-288 102,-288 108,-288 114,-294 114,-300 114,-300 114,-312 114,-312 114,-318 108,-324 102,-324\" fill=\"none\" stroke=\"#d8b456\" stroke-width=\"2\"/>\n",
       "<text font-family=\"sans\" font-size=\"10.00\" text-anchor=\"middle\" x=\"57\" y=\"-303.5\">generate_tiles_train</text>\n",
       "</g>\n",
       "<!-- 4&#45;&gt;3 -->\n",
       "<g class=\"edge\" id=\"edge6\"><title>4-&gt;3</title>\n",
       "<path d=\"M55.5169,-287.697C54.8557,-279.983 54.0611,-270.712 53.3239,-262.112\" fill=\"none\" stroke=\"grey\" stroke-width=\"2\"/>\n",
       "<polygon fill=\"grey\" points=\"56.8074,-261.769 52.4661,-252.104 49.833,-262.367 56.8074,-261.769\" stroke=\"grey\"/>\n",
       "</g>\n",
       "<!-- 5 -->\n",
       "<g class=\"node\" id=\"node6\"><title>5</title>\n",
       "<path d=\"M122.25,-396C122.25,-396 75.75,-396 75.75,-396 69.75,-396 63.75,-390 63.75,-384 63.75,-384 63.75,-372 63.75,-372 63.75,-366 69.75,-360 75.75,-360 75.75,-360 122.25,-360 122.25,-360 128.25,-360 134.25,-366 134.25,-372 134.25,-372 134.25,-384 134.25,-384 134.25,-390 128.25,-396 122.25,-396\" fill=\"none\" stroke=\"#56d89a\" stroke-width=\"2\"/>\n",
       "<text font-family=\"sans\" font-size=\"10.00\" text-anchor=\"middle\" x=\"99\" y=\"-375.5\">load_slides</text>\n",
       "</g>\n",
       "<!-- 5&#45;&gt;4 -->\n",
       "<g class=\"edge\" id=\"edge7\"><title>5-&gt;4</title>\n",
       "<path d=\"M88.618,-359.697C83.7353,-351.559 77.8134,-341.689 72.4208,-332.701\" fill=\"none\" stroke=\"grey\" stroke-width=\"2\"/>\n",
       "<polygon fill=\"grey\" points=\"75.4088,-330.879 67.2626,-324.104 69.4064,-334.48 75.4088,-330.879\" stroke=\"grey\"/>\n",
       "</g>\n",
       "<!-- 7 -->\n",
       "<g class=\"node\" id=\"node8\"><title>7</title>\n",
       "<path d=\"M202,-180C202,-180 116,-180 116,-180 110,-180 104,-174 104,-168 104,-168 104,-156 104,-156 104,-150 110,-144 116,-144 116,-144 202,-144 202,-144 208,-144 214,-150 214,-156 214,-156 214,-168 214,-168 214,-174 208,-180 202,-180\" fill=\"none\" stroke=\"#d85656\" stroke-width=\"2\"/>\n",
       "<text font-family=\"sans\" font-size=\"10.00\" text-anchor=\"middle\" x=\"159\" y=\"-159.5\">generate_tiles_test</text>\n",
       "</g>\n",
       "<!-- 5&#45;&gt;7 -->\n",
       "<g class=\"edge\" id=\"edge9\"><title>5-&gt;7</title>\n",
       "<path d=\"M107.926,-359.697C112.901,-349.512 118.901,-336.262 123,-324 138.337,-278.118 149.107,-222.694 154.66,-190.293\" fill=\"none\" stroke=\"grey\" stroke-width=\"2\"/>\n",
       "<polygon fill=\"grey\" points=\"158.145,-190.675 156.343,-180.234 151.241,-189.52 158.145,-190.675\" stroke=\"grey\"/>\n",
       "</g>\n",
       "<!-- 6 -->\n",
       "<g class=\"node\" id=\"node7\"><title>6</title>\n",
       "<path d=\"M142,-468C142,-468 56,-468 56,-468 50,-468 44,-462 44,-456 44,-456 44,-444 44,-444 44,-438 50,-432 56,-432 56,-432 142,-432 142,-432 148,-432 154,-438 154,-444 154,-444 154,-456 154,-456 154,-462 148,-468 142,-468\" fill=\"none\" stroke=\"#ced856\" stroke-width=\"2\"/>\n",
       "<text font-family=\"sans\" font-size=\"10.00\" text-anchor=\"middle\" x=\"99\" y=\"-447.5\">update_patient_ids</text>\n",
       "</g>\n",
       "<!-- 6&#45;&gt;5 -->\n",
       "<g class=\"edge\" id=\"edge8\"><title>6-&gt;5</title>\n",
       "<path d=\"M99,-431.697C99,-423.983 99,-414.712 99,-406.112\" fill=\"none\" stroke=\"grey\" stroke-width=\"2\"/>\n",
       "<polygon fill=\"grey\" points=\"102.5,-406.104 99,-396.104 95.5001,-406.104 102.5,-406.104\" stroke=\"grey\"/>\n",
       "</g>\n",
       "<!-- 7&#45;&gt;1 -->\n",
       "<g class=\"edge\" id=\"edge4\"><title>7-&gt;1</title>\n",
       "<path d=\"M133.803,-143.876C120.586,-134.893 104.208,-123.763 89.8931,-114.034\" fill=\"none\" stroke=\"grey\" stroke-width=\"2\"/>\n",
       "<polygon fill=\"grey\" points=\"91.5316,-110.916 81.2935,-108.19 87.5969,-116.705 91.5316,-110.916\" stroke=\"grey\"/>\n",
       "</g>\n",
       "<!-- 7&#45;&gt;8 -->\n",
       "<g class=\"edge\" id=\"edge11\"><title>7-&gt;8</title>\n",
       "<path d=\"M156.775,-143.697C155.783,-135.983 154.592,-126.712 153.486,-118.112\" fill=\"none\" stroke=\"grey\" stroke-width=\"2\"/>\n",
       "<polygon fill=\"grey\" points=\"156.946,-117.576 152.199,-108.104 150.003,-118.469 156.946,-117.576\" stroke=\"grey\"/>\n",
       "</g>\n",
       "<!-- 8&#45;&gt;0 -->\n",
       "<g class=\"edge\" id=\"edge2\"><title>8-&gt;0</title>\n",
       "<path d=\"M138.382,-71.6966C132.861,-63.4741 126.153,-53.4832 120.068,-44.4207\" fill=\"none\" stroke=\"grey\" stroke-width=\"2\"/>\n",
       "<polygon fill=\"grey\" points=\"122.965,-42.4555 114.484,-36.1043 117.153,-46.3576 122.965,-42.4555\" stroke=\"grey\"/>\n",
       "</g>\n",
       "</g>\n",
       "</svg>"
      ],
      "text/plain": [
       "<IPython.core.display.SVG object>"
      ]
     },
     "metadata": {},
     "output_type": "display_data"
    }
   ],
   "source": [
    "import IPython\n",
    "from IPython.display import SVG, display\n",
    "\n",
    "def show_svg():\n",
    "    display(SVG('/gpfs/mskmindhdp_emc/user/shared_data_folder/pathology-tutorial/snakemake/dag.svg'))\n",
    "\n",
    "show_svg()"
   ]
  },
  {
   "cell_type": "markdown",
   "metadata": {},
   "source": [
    "You should be able to view this svg file in the root folder of the snakemake project space. Notice how the rules rely on one another!"
   ]
  },
  {
   "cell_type": "markdown",
   "metadata": {},
   "source": [
    "## Run pipeline using Snakemake\n",
    "\n",
    "At this point, you are ready to run the pipeline using Snakemake! In the `data-processing` folder in your terminal, run the following command. Note that a lot of output will appear as the software navigates through the rules. Moreover, this process should take just about twenty minutes to complete, as some steps are time-intensive, so be patient!\n",
    "\n",
    "If you wish to run the pipeline in your terminal, navigate to your terminal and run the following command:"
   ]
  },
  {
   "cell_type": "raw",
   "metadata": {},
   "source": [
    "snakemake --cores 1"
   ]
  },
  {
   "cell_type": "markdown",
   "metadata": {},
   "source": [
    "If you instead wish to run the pipeline in this notebook, first make sure that you are in the proper virtual environment (as visible in the top right of the notebook). Then, run the following shell:"
   ]
  },
  {
   "cell_type": "code",
   "execution_count": null,
   "metadata": {},
   "outputs": [],
   "source": [
    "%%bash\n",
    "\n",
    "export PYTHONPATH='/opt/spark-3.0.0-bin-hadoop3.2/python/'\n",
    "cp -r classifier snakemake/scripts/classifier\n",
    "cd snakemake/data-processing/\n",
    "snakemake --cores 1"
   ]
  },
  {
   "cell_type": "markdown",
   "metadata": {},
   "source": [
    "Congratulations, you now have the capability to run the entire tutorial from start to finish using just a single command! "
   ]
  },
  {
   "cell_type": "markdown",
   "metadata": {},
   "source": [
    "## Additional features\n",
    "\n",
    "If you are interested in only running part of the pipeline, this section will explain how to do so.\n",
    "\n",
    "To run the pipeline from start until a specific point, you may simply change the input to the `rule all` to `../outputs/your_desired_stopping_point.done`. If you wish to run from a certain point in the pipeline until the finish, you must edit the Snakefile further. Navigate to the earliest rule that you wish to include in your segmented pipeline. Change that rule's input file to a file that does not depend on other rules (for instance, \"/gpfs/mskmindhdp_emc/user/shared_data_folder/pathology-tutorial/snakemake/data/snakemake_toy_data_set/\" is a great input placeholder because this file path is sure to exist already). Now, the Snakemake software will not redo any computation before this point in your rules!\n",
    "\n",
    "*A quick note: when you are running the same rule repeatedly, be sure to clear the project space occupied by that rule in between runs so that it does not become cluttered with outputs from older runs of that rule. You may do so manually or create a bash script to empty your folders for you!*\n",
    "\n",
    "At this point, you have completed the Snakemake End-to-End Pipeline tutorial notebook! Congratulations!"
   ]
  }
 ],
 "metadata": {
  "kernelspec": {
   "display_name": "viki-test-4",
   "language": "python",
   "name": "viki-test-4"
  },
  "language_info": {
   "codemirror_mode": {
    "name": "ipython",
    "version": 3
   },
   "file_extension": ".py",
   "mimetype": "text/x-python",
   "name": "python",
   "nbconvert_exporter": "python",
   "pygments_lexer": "ipython3",
   "version": "3.6.9"
  }
 },
 "nbformat": 4,
 "nbformat_minor": 4
}
